{
 "cells": [
  {
   "cell_type": "markdown",
   "metadata": {},
   "source": [
    "**Review**\n",
    "\n",
    "Hello Somil!\n",
    "\n",
    "I'm happy to review your project today.\n",
    "  \n",
    "You can find my comments in colored markdown cells:\n",
    "  \n",
    "<div class=\"alert alert-success\">\n",
    "  If everything is done successfully.\n",
    "</div>\n",
    "  \n",
    "<div class=\"alert alert-warning\">\n",
    "  If I have some (optional) suggestions, or questions to think about, or general comments.\n",
    "</div>\n",
    "  \n",
    "<div class=\"alert alert-danger\">\n",
    "  If a section requires some corrections. Work can't be accepted with red comments.\n",
    "</div>\n",
    "  \n",
    "Please don't remove my comments, as it will make further review iterations much harder for me.\n",
    "  \n",
    "Feel free to reply to my comments or ask questions using the following template:\n",
    "  \n",
    "<div class=\"alert alert-info\">\n",
    "  Thank you so much for your feedbacks. I've split the cells into multiple so it's easier. Hopefully i got it right this time. Thank you!\n",
    "</div>\n",
    "  \n",
    "First of all, thank you for turning in the project! You did a great job overall, but there are some small problems that need to be fixed before the project will be accepted. Let me know if you have any questions!\n"
   ]
  },
  {
   "cell_type": "markdown",
   "metadata": {},
   "source": [
    "# Metal Recovery ML"
   ]
  },
  {
   "cell_type": "markdown",
   "metadata": {},
   "source": [
    "The data is stored in three files:\n",
    "\n",
    "gold_recovery_train.csv — training dataset [download](https://practicum-content.s3.us-west-1.amazonaws.com/datasets/gold_recovery_train.csv)\n",
    "\n",
    "gold_recovery_test.csv — test dataset [download](https://practicum-content.s3.us-west-1.amazonaws.com/datasets/gold_recovery_test.csv)\n",
    "\n",
    "gold_recovery_full.csv — source dataset [download](https://practicum-content.s3.us-west-1.amazonaws.com/datasets/gold_recovery_full.csv)\n",
    "\n",
    "Data is indexed with the date and time of acquisition (date feature). Parameters that are next to each other in terms of time are often similar. Some of the features that are present in the training set may be absent from the test set. The test set also doesn't contain targets.The source dataset contains the training and test sets with all the features.\n",
    "\n",
    "It starts off as raw data that was downloaded from the warehouse.\n",
    "\n"
   ]
  },
  {
   "cell_type": "code",
   "execution_count": 1,
   "metadata": {},
   "outputs": [],
   "source": [
    "import pandas as pd \n",
    "import numpy as np\n",
    "import matplotlib.pyplot as plt\n",
    "from sklearn.metrics import mean_absolute_error, make_scorer\n",
    "from sklearn.model_selection import train_test_split, cross_val_score, GridSearchCV, ParameterGrid\n",
    "from sklearn.ensemble import RandomForestRegressor\n",
    "from sklearn.linear_model import LinearRegression\n",
    "from sklearn.tree import DecisionTreeRegressor\n",
    "from sklearn.preprocessing import StandardScaler"
   ]
  },
  {
   "cell_type": "markdown",
   "metadata": {},
   "source": [
    "## Prepare the data"
   ]
  },
  {
   "cell_type": "markdown",
   "metadata": {},
   "source": [
    "### Open the files and look into the data."
   ]
  },
  {
   "cell_type": "code",
   "execution_count": 2,
   "metadata": {},
   "outputs": [],
   "source": [
    "try:\n",
    "    train_df = pd.read_csv('./datasets/gold_recovery_train.csv')\n",
    "    test_df = pd.read_csv('./datasets/gold_recovery_test.csv')\n",
    "    full_df = pd.read_csv('./datasets/gold_recovery_full.csv')\n",
    "except:\n",
    "    train_df = pd.read_csv('https://practicum-content.s3.us-west-1.amazonaws.com/datasets/gold_recovery_train.csv')\n",
    "    test_df = pd.read_csv('https://practicum-content.s3.us-west-1.amazonaws.com/datasets/gold_recovery_test.csv')\n",
    "    full_df = pd.read_csv('https://practicum-content.s3.us-west-1.amazonaws.com/datasets/gold_recovery_full.csv')"
   ]
  },
  {
   "cell_type": "markdown",
   "metadata": {},
   "source": [
    "### Train DF"
   ]
  },
  {
   "cell_type": "code",
   "execution_count": 3,
   "metadata": {
    "scrolled": true
   },
   "outputs": [
    {
     "name": "stdout",
     "output_type": "stream",
     "text": [
      "                  date  final.output.concentrate_ag  \\\n",
      "0  2016-01-15 00:00:00                     6.055403   \n",
      "1  2016-01-15 01:00:00                     6.029369   \n",
      "2  2016-01-15 02:00:00                     6.055926   \n",
      "3  2016-01-15 03:00:00                     6.047977   \n",
      "4  2016-01-15 04:00:00                     6.148599   \n",
      "\n",
      "   final.output.concentrate_pb  final.output.concentrate_sol  \\\n",
      "0                     9.889648                      5.507324   \n",
      "1                     9.968944                      5.257781   \n",
      "2                    10.213995                      5.383759   \n",
      "3                     9.977019                      4.858634   \n",
      "4                    10.142511                      4.939416   \n",
      "\n",
      "   final.output.concentrate_au  final.output.recovery  final.output.tail_ag  \\\n",
      "0                    42.192020              70.541216             10.411962   \n",
      "1                    42.701629              69.266198             10.462676   \n",
      "2                    42.657501              68.116445             10.507046   \n",
      "3                    42.689819              68.347543             10.422762   \n",
      "4                    42.774141              66.927016             10.360302   \n",
      "\n",
      "   final.output.tail_pb  final.output.tail_sol  final.output.tail_au  ...  \\\n",
      "0              0.895447              16.904297              2.143149  ...   \n",
      "1              0.927452              16.634514              2.224930  ...   \n",
      "2              0.953716              16.208849              2.257889  ...   \n",
      "3              0.883763              16.532835              2.146849  ...   \n",
      "4              0.792826              16.525686              2.055292  ...   \n",
      "\n",
      "   secondary_cleaner.state.floatbank4_a_air  \\\n",
      "0                                 14.016835   \n",
      "1                                 13.992281   \n",
      "2                                 14.015015   \n",
      "3                                 14.036510   \n",
      "4                                 14.027298   \n",
      "\n",
      "   secondary_cleaner.state.floatbank4_a_level  \\\n",
      "0                                 -502.488007   \n",
      "1                                 -505.503262   \n",
      "2                                 -502.520901   \n",
      "3                                 -500.857308   \n",
      "4                                 -499.838632   \n",
      "\n",
      "   secondary_cleaner.state.floatbank4_b_air  \\\n",
      "0                                 12.099931   \n",
      "1                                 11.950531   \n",
      "2                                 11.912783   \n",
      "3                                 11.999550   \n",
      "4                                 11.953070   \n",
      "\n",
      "   secondary_cleaner.state.floatbank4_b_level  \\\n",
      "0                                 -504.715942   \n",
      "1                                 -501.331529   \n",
      "2                                 -501.133383   \n",
      "3                                 -501.193686   \n",
      "4                                 -501.053894   \n",
      "\n",
      "   secondary_cleaner.state.floatbank5_a_air  \\\n",
      "0                                  9.925633   \n",
      "1                                 10.039245   \n",
      "2                                 10.070913   \n",
      "3                                  9.970366   \n",
      "4                                  9.925709   \n",
      "\n",
      "   secondary_cleaner.state.floatbank5_a_level  \\\n",
      "0                                 -498.310211   \n",
      "1                                 -500.169983   \n",
      "2                                 -500.129135   \n",
      "3                                 -499.201640   \n",
      "4                                 -501.686727   \n",
      "\n",
      "   secondary_cleaner.state.floatbank5_b_air  \\\n",
      "0                                  8.079666   \n",
      "1                                  7.984757   \n",
      "2                                  8.013877   \n",
      "3                                  7.977324   \n",
      "4                                  7.894242   \n",
      "\n",
      "   secondary_cleaner.state.floatbank5_b_level  \\\n",
      "0                                 -500.470978   \n",
      "1                                 -500.582168   \n",
      "2                                 -500.517572   \n",
      "3                                 -500.255908   \n",
      "4                                 -500.356035   \n",
      "\n",
      "   secondary_cleaner.state.floatbank6_a_air  \\\n",
      "0                                 14.151341   \n",
      "1                                 13.998353   \n",
      "2                                 14.028663   \n",
      "3                                 14.005551   \n",
      "4                                 13.996647   \n",
      "\n",
      "   secondary_cleaner.state.floatbank6_a_level  \n",
      "0                                 -605.841980  \n",
      "1                                 -599.787184  \n",
      "2                                 -601.427363  \n",
      "3                                 -599.996129  \n",
      "4                                 -601.496691  \n",
      "\n",
      "[5 rows x 87 columns]\n"
     ]
    }
   ],
   "source": [
    "print(train_df.head())"
   ]
  },
  {
   "cell_type": "code",
   "execution_count": 4,
   "metadata": {
    "scrolled": true
   },
   "outputs": [
    {
     "name": "stdout",
     "output_type": "stream",
     "text": [
      "<class 'pandas.core.frame.DataFrame'>\n",
      "RangeIndex: 16860 entries, 0 to 16859\n",
      "Data columns (total 87 columns):\n",
      " #   Column                                              Non-Null Count  Dtype  \n",
      "---  ------                                              --------------  -----  \n",
      " 0   date                                                16860 non-null  object \n",
      " 1   final.output.concentrate_ag                         16788 non-null  float64\n",
      " 2   final.output.concentrate_pb                         16788 non-null  float64\n",
      " 3   final.output.concentrate_sol                        16490 non-null  float64\n",
      " 4   final.output.concentrate_au                         16789 non-null  float64\n",
      " 5   final.output.recovery                               15339 non-null  float64\n",
      " 6   final.output.tail_ag                                16794 non-null  float64\n",
      " 7   final.output.tail_pb                                16677 non-null  float64\n",
      " 8   final.output.tail_sol                               16715 non-null  float64\n",
      " 9   final.output.tail_au                                16794 non-null  float64\n",
      " 10  primary_cleaner.input.sulfate                       15553 non-null  float64\n",
      " 11  primary_cleaner.input.depressant                    15598 non-null  float64\n",
      " 12  primary_cleaner.input.feed_size                     16860 non-null  float64\n",
      " 13  primary_cleaner.input.xanthate                      15875 non-null  float64\n",
      " 14  primary_cleaner.output.concentrate_ag               16778 non-null  float64\n",
      " 15  primary_cleaner.output.concentrate_pb               16502 non-null  float64\n",
      " 16  primary_cleaner.output.concentrate_sol              16224 non-null  float64\n",
      " 17  primary_cleaner.output.concentrate_au               16778 non-null  float64\n",
      " 18  primary_cleaner.output.tail_ag                      16777 non-null  float64\n",
      " 19  primary_cleaner.output.tail_pb                      16761 non-null  float64\n",
      " 20  primary_cleaner.output.tail_sol                     16579 non-null  float64\n",
      " 21  primary_cleaner.output.tail_au                      16777 non-null  float64\n",
      " 22  primary_cleaner.state.floatbank8_a_air              16820 non-null  float64\n",
      " 23  primary_cleaner.state.floatbank8_a_level            16827 non-null  float64\n",
      " 24  primary_cleaner.state.floatbank8_b_air              16820 non-null  float64\n",
      " 25  primary_cleaner.state.floatbank8_b_level            16833 non-null  float64\n",
      " 26  primary_cleaner.state.floatbank8_c_air              16822 non-null  float64\n",
      " 27  primary_cleaner.state.floatbank8_c_level            16833 non-null  float64\n",
      " 28  primary_cleaner.state.floatbank8_d_air              16821 non-null  float64\n",
      " 29  primary_cleaner.state.floatbank8_d_level            16833 non-null  float64\n",
      " 30  rougher.calculation.sulfate_to_au_concentrate       16833 non-null  float64\n",
      " 31  rougher.calculation.floatbank10_sulfate_to_au_feed  16833 non-null  float64\n",
      " 32  rougher.calculation.floatbank11_sulfate_to_au_feed  16833 non-null  float64\n",
      " 33  rougher.calculation.au_pb_ratio                     15618 non-null  float64\n",
      " 34  rougher.input.feed_ag                               16778 non-null  float64\n",
      " 35  rougher.input.feed_pb                               16632 non-null  float64\n",
      " 36  rougher.input.feed_rate                             16347 non-null  float64\n",
      " 37  rougher.input.feed_size                             16443 non-null  float64\n",
      " 38  rougher.input.feed_sol                              16568 non-null  float64\n",
      " 39  rougher.input.feed_au                               16777 non-null  float64\n",
      " 40  rougher.input.floatbank10_sulfate                   15816 non-null  float64\n",
      " 41  rougher.input.floatbank10_xanthate                  16514 non-null  float64\n",
      " 42  rougher.input.floatbank11_sulfate                   16237 non-null  float64\n",
      " 43  rougher.input.floatbank11_xanthate                  14956 non-null  float64\n",
      " 44  rougher.output.concentrate_ag                       16778 non-null  float64\n",
      " 45  rougher.output.concentrate_pb                       16778 non-null  float64\n",
      " 46  rougher.output.concentrate_sol                      16698 non-null  float64\n",
      " 47  rougher.output.concentrate_au                       16778 non-null  float64\n",
      " 48  rougher.output.recovery                             14287 non-null  float64\n",
      " 49  rougher.output.tail_ag                              14610 non-null  float64\n",
      " 50  rougher.output.tail_pb                              16778 non-null  float64\n",
      " 51  rougher.output.tail_sol                             14611 non-null  float64\n",
      " 52  rougher.output.tail_au                              14611 non-null  float64\n",
      " 53  rougher.state.floatbank10_a_air                     16807 non-null  float64\n",
      " 54  rougher.state.floatbank10_a_level                   16807 non-null  float64\n",
      " 55  rougher.state.floatbank10_b_air                     16807 non-null  float64\n",
      " 56  rougher.state.floatbank10_b_level                   16807 non-null  float64\n",
      " 57  rougher.state.floatbank10_c_air                     16807 non-null  float64\n",
      " 58  rougher.state.floatbank10_c_level                   16814 non-null  float64\n",
      " 59  rougher.state.floatbank10_d_air                     16802 non-null  float64\n",
      " 60  rougher.state.floatbank10_d_level                   16809 non-null  float64\n",
      " 61  rougher.state.floatbank10_e_air                     16257 non-null  float64\n",
      " 62  rougher.state.floatbank10_e_level                   16809 non-null  float64\n",
      " 63  rougher.state.floatbank10_f_air                     16802 non-null  float64\n",
      " 64  rougher.state.floatbank10_f_level                   16802 non-null  float64\n",
      " 65  secondary_cleaner.output.tail_ag                    16776 non-null  float64\n",
      " 66  secondary_cleaner.output.tail_pb                    16764 non-null  float64\n",
      " 67  secondary_cleaner.output.tail_sol                   14874 non-null  float64\n",
      " 68  secondary_cleaner.output.tail_au                    16778 non-null  float64\n",
      " 69  secondary_cleaner.state.floatbank2_a_air            16497 non-null  float64\n",
      " 70  secondary_cleaner.state.floatbank2_a_level          16751 non-null  float64\n",
      " 71  secondary_cleaner.state.floatbank2_b_air            16705 non-null  float64\n",
      " 72  secondary_cleaner.state.floatbank2_b_level          16748 non-null  float64\n",
      " 73  secondary_cleaner.state.floatbank3_a_air            16763 non-null  float64\n",
      " 74  secondary_cleaner.state.floatbank3_a_level          16747 non-null  float64\n",
      " 75  secondary_cleaner.state.floatbank3_b_air            16752 non-null  float64\n",
      " 76  secondary_cleaner.state.floatbank3_b_level          16750 non-null  float64\n",
      " 77  secondary_cleaner.state.floatbank4_a_air            16731 non-null  float64\n",
      " 78  secondary_cleaner.state.floatbank4_a_level          16747 non-null  float64\n",
      " 79  secondary_cleaner.state.floatbank4_b_air            16768 non-null  float64\n",
      " 80  secondary_cleaner.state.floatbank4_b_level          16767 non-null  float64\n",
      " 81  secondary_cleaner.state.floatbank5_a_air            16775 non-null  float64\n",
      " 82  secondary_cleaner.state.floatbank5_a_level          16775 non-null  float64\n",
      " 83  secondary_cleaner.state.floatbank5_b_air            16775 non-null  float64\n",
      " 84  secondary_cleaner.state.floatbank5_b_level          16776 non-null  float64\n",
      " 85  secondary_cleaner.state.floatbank6_a_air            16757 non-null  float64\n",
      " 86  secondary_cleaner.state.floatbank6_a_level          16775 non-null  float64\n",
      "dtypes: float64(86), object(1)\n",
      "memory usage: 11.2+ MB\n",
      "None\n"
     ]
    }
   ],
   "source": [
    "print(train_df.info())"
   ]
  },
  {
   "cell_type": "code",
   "execution_count": 5,
   "metadata": {},
   "outputs": [
    {
     "name": "stdout",
     "output_type": "stream",
     "text": [
      "date                                            0\n",
      "final.output.concentrate_ag                    72\n",
      "final.output.concentrate_pb                    72\n",
      "final.output.concentrate_sol                  370\n",
      "final.output.concentrate_au                    71\n",
      "                                             ... \n",
      "secondary_cleaner.state.floatbank5_a_level     85\n",
      "secondary_cleaner.state.floatbank5_b_air       85\n",
      "secondary_cleaner.state.floatbank5_b_level     84\n",
      "secondary_cleaner.state.floatbank6_a_air      103\n",
      "secondary_cleaner.state.floatbank6_a_level     85\n",
      "Length: 87, dtype: int64\n"
     ]
    }
   ],
   "source": [
    "print(train_df.isna().sum())"
   ]
  },
  {
   "cell_type": "code",
   "execution_count": 6,
   "metadata": {},
   "outputs": [
    {
     "name": "stdout",
     "output_type": "stream",
     "text": [
      "(16860, 87)\n"
     ]
    }
   ],
   "source": [
    "print(train_df.shape)"
   ]
  },
  {
   "cell_type": "markdown",
   "metadata": {},
   "source": [
    "### Test DF "
   ]
  },
  {
   "cell_type": "code",
   "execution_count": 7,
   "metadata": {},
   "outputs": [
    {
     "name": "stdout",
     "output_type": "stream",
     "text": [
      "                  date  primary_cleaner.input.sulfate  \\\n",
      "0  2016-09-01 00:59:59                     210.800909   \n",
      "1  2016-09-01 01:59:59                     215.392455   \n",
      "2  2016-09-01 02:59:59                     215.259946   \n",
      "3  2016-09-01 03:59:59                     215.336236   \n",
      "4  2016-09-01 04:59:59                     199.099327   \n",
      "\n",
      "   primary_cleaner.input.depressant  primary_cleaner.input.feed_size  \\\n",
      "0                         14.993118                         8.080000   \n",
      "1                         14.987471                         8.080000   \n",
      "2                         12.884934                         7.786667   \n",
      "3                         12.006805                         7.640000   \n",
      "4                         10.682530                         7.530000   \n",
      "\n",
      "   primary_cleaner.input.xanthate  primary_cleaner.state.floatbank8_a_air  \\\n",
      "0                        1.005021                             1398.981301   \n",
      "1                        0.990469                             1398.777912   \n",
      "2                        0.996043                             1398.493666   \n",
      "3                        0.863514                             1399.618111   \n",
      "4                        0.805575                             1401.268123   \n",
      "\n",
      "   primary_cleaner.state.floatbank8_a_level  \\\n",
      "0                               -500.225577   \n",
      "1                               -500.057435   \n",
      "2                               -500.868360   \n",
      "3                               -498.863574   \n",
      "4                               -500.808305   \n",
      "\n",
      "   primary_cleaner.state.floatbank8_b_air  \\\n",
      "0                             1399.144926   \n",
      "1                             1398.055362   \n",
      "2                             1398.860436   \n",
      "3                             1397.440120   \n",
      "4                             1398.128818   \n",
      "\n",
      "   primary_cleaner.state.floatbank8_b_level  \\\n",
      "0                               -499.919735   \n",
      "1                               -499.778182   \n",
      "2                               -499.764529   \n",
      "3                               -499.211024   \n",
      "4                               -499.504543   \n",
      "\n",
      "   primary_cleaner.state.floatbank8_c_air  ...  \\\n",
      "0                             1400.102998  ...   \n",
      "1                             1396.151033  ...   \n",
      "2                             1398.075709  ...   \n",
      "3                             1400.129303  ...   \n",
      "4                             1402.172226  ...   \n",
      "\n",
      "   secondary_cleaner.state.floatbank4_a_air  \\\n",
      "0                                 12.023554   \n",
      "1                                 12.058140   \n",
      "2                                 11.962366   \n",
      "3                                 12.033091   \n",
      "4                                 12.025367   \n",
      "\n",
      "   secondary_cleaner.state.floatbank4_a_level  \\\n",
      "0                                 -497.795834   \n",
      "1                                 -498.695773   \n",
      "2                                 -498.767484   \n",
      "3                                 -498.350935   \n",
      "4                                 -500.786497   \n",
      "\n",
      "   secondary_cleaner.state.floatbank4_b_air  \\\n",
      "0                                  8.016656   \n",
      "1                                  8.130979   \n",
      "2                                  8.096893   \n",
      "3                                  8.074946   \n",
      "4                                  8.054678   \n",
      "\n",
      "   secondary_cleaner.state.floatbank4_b_level  \\\n",
      "0                                 -501.289139   \n",
      "1                                 -499.634209   \n",
      "2                                 -500.827423   \n",
      "3                                 -499.474407   \n",
      "4                                 -500.397500   \n",
      "\n",
      "   secondary_cleaner.state.floatbank5_a_air  \\\n",
      "0                                  7.946562   \n",
      "1                                  7.958270   \n",
      "2                                  8.071056   \n",
      "3                                  7.897085   \n",
      "4                                  8.107890   \n",
      "\n",
      "   secondary_cleaner.state.floatbank5_a_level  \\\n",
      "0                                 -432.317850   \n",
      "1                                 -525.839648   \n",
      "2                                 -500.801673   \n",
      "3                                 -500.868509   \n",
      "4                                 -509.526725   \n",
      "\n",
      "   secondary_cleaner.state.floatbank5_b_air  \\\n",
      "0                                  4.872511   \n",
      "1                                  4.878850   \n",
      "2                                  4.905125   \n",
      "3                                  4.931400   \n",
      "4                                  4.957674   \n",
      "\n",
      "   secondary_cleaner.state.floatbank5_b_level  \\\n",
      "0                                 -500.037437   \n",
      "1                                 -500.162375   \n",
      "2                                 -499.828510   \n",
      "3                                 -499.963623   \n",
      "4                                 -500.360026   \n",
      "\n",
      "   secondary_cleaner.state.floatbank6_a_air  \\\n",
      "0                                 26.705889   \n",
      "1                                 25.019940   \n",
      "2                                 24.994862   \n",
      "3                                 24.948919   \n",
      "4                                 25.003331   \n",
      "\n",
      "   secondary_cleaner.state.floatbank6_a_level  \n",
      "0                                 -499.709414  \n",
      "1                                 -499.819438  \n",
      "2                                 -500.622559  \n",
      "3                                 -498.709987  \n",
      "4                                 -500.856333  \n",
      "\n",
      "[5 rows x 53 columns]\n"
     ]
    }
   ],
   "source": [
    "print(test_df.head())"
   ]
  },
  {
   "cell_type": "code",
   "execution_count": 8,
   "metadata": {},
   "outputs": [
    {
     "name": "stdout",
     "output_type": "stream",
     "text": [
      "<class 'pandas.core.frame.DataFrame'>\n",
      "RangeIndex: 5856 entries, 0 to 5855\n",
      "Data columns (total 53 columns):\n",
      " #   Column                                      Non-Null Count  Dtype  \n",
      "---  ------                                      --------------  -----  \n",
      " 0   date                                        5856 non-null   object \n",
      " 1   primary_cleaner.input.sulfate               5554 non-null   float64\n",
      " 2   primary_cleaner.input.depressant            5572 non-null   float64\n",
      " 3   primary_cleaner.input.feed_size             5856 non-null   float64\n",
      " 4   primary_cleaner.input.xanthate              5690 non-null   float64\n",
      " 5   primary_cleaner.state.floatbank8_a_air      5840 non-null   float64\n",
      " 6   primary_cleaner.state.floatbank8_a_level    5840 non-null   float64\n",
      " 7   primary_cleaner.state.floatbank8_b_air      5840 non-null   float64\n",
      " 8   primary_cleaner.state.floatbank8_b_level    5840 non-null   float64\n",
      " 9   primary_cleaner.state.floatbank8_c_air      5840 non-null   float64\n",
      " 10  primary_cleaner.state.floatbank8_c_level    5840 non-null   float64\n",
      " 11  primary_cleaner.state.floatbank8_d_air      5840 non-null   float64\n",
      " 12  primary_cleaner.state.floatbank8_d_level    5840 non-null   float64\n",
      " 13  rougher.input.feed_ag                       5840 non-null   float64\n",
      " 14  rougher.input.feed_pb                       5840 non-null   float64\n",
      " 15  rougher.input.feed_rate                     5816 non-null   float64\n",
      " 16  rougher.input.feed_size                     5834 non-null   float64\n",
      " 17  rougher.input.feed_sol                      5789 non-null   float64\n",
      " 18  rougher.input.feed_au                       5840 non-null   float64\n",
      " 19  rougher.input.floatbank10_sulfate           5599 non-null   float64\n",
      " 20  rougher.input.floatbank10_xanthate          5733 non-null   float64\n",
      " 21  rougher.input.floatbank11_sulfate           5801 non-null   float64\n",
      " 22  rougher.input.floatbank11_xanthate          5503 non-null   float64\n",
      " 23  rougher.state.floatbank10_a_air             5839 non-null   float64\n",
      " 24  rougher.state.floatbank10_a_level           5840 non-null   float64\n",
      " 25  rougher.state.floatbank10_b_air             5839 non-null   float64\n",
      " 26  rougher.state.floatbank10_b_level           5840 non-null   float64\n",
      " 27  rougher.state.floatbank10_c_air             5839 non-null   float64\n",
      " 28  rougher.state.floatbank10_c_level           5840 non-null   float64\n",
      " 29  rougher.state.floatbank10_d_air             5839 non-null   float64\n",
      " 30  rougher.state.floatbank10_d_level           5840 non-null   float64\n",
      " 31  rougher.state.floatbank10_e_air             5839 non-null   float64\n",
      " 32  rougher.state.floatbank10_e_level           5840 non-null   float64\n",
      " 33  rougher.state.floatbank10_f_air             5839 non-null   float64\n",
      " 34  rougher.state.floatbank10_f_level           5840 non-null   float64\n",
      " 35  secondary_cleaner.state.floatbank2_a_air    5836 non-null   float64\n",
      " 36  secondary_cleaner.state.floatbank2_a_level  5840 non-null   float64\n",
      " 37  secondary_cleaner.state.floatbank2_b_air    5833 non-null   float64\n",
      " 38  secondary_cleaner.state.floatbank2_b_level  5840 non-null   float64\n",
      " 39  secondary_cleaner.state.floatbank3_a_air    5822 non-null   float64\n",
      " 40  secondary_cleaner.state.floatbank3_a_level  5840 non-null   float64\n",
      " 41  secondary_cleaner.state.floatbank3_b_air    5840 non-null   float64\n",
      " 42  secondary_cleaner.state.floatbank3_b_level  5840 non-null   float64\n",
      " 43  secondary_cleaner.state.floatbank4_a_air    5840 non-null   float64\n",
      " 44  secondary_cleaner.state.floatbank4_a_level  5840 non-null   float64\n",
      " 45  secondary_cleaner.state.floatbank4_b_air    5840 non-null   float64\n",
      " 46  secondary_cleaner.state.floatbank4_b_level  5840 non-null   float64\n",
      " 47  secondary_cleaner.state.floatbank5_a_air    5840 non-null   float64\n",
      " 48  secondary_cleaner.state.floatbank5_a_level  5840 non-null   float64\n",
      " 49  secondary_cleaner.state.floatbank5_b_air    5840 non-null   float64\n",
      " 50  secondary_cleaner.state.floatbank5_b_level  5840 non-null   float64\n",
      " 51  secondary_cleaner.state.floatbank6_a_air    5840 non-null   float64\n",
      " 52  secondary_cleaner.state.floatbank6_a_level  5840 non-null   float64\n",
      "dtypes: float64(52), object(1)\n",
      "memory usage: 2.4+ MB\n",
      "None\n"
     ]
    }
   ],
   "source": [
    "\n",
    "print(test_df.info())"
   ]
  },
  {
   "cell_type": "code",
   "execution_count": 9,
   "metadata": {},
   "outputs": [
    {
     "name": "stdout",
     "output_type": "stream",
     "text": [
      "date                                            0\n",
      "primary_cleaner.input.sulfate                 302\n",
      "primary_cleaner.input.depressant              284\n",
      "primary_cleaner.input.feed_size                 0\n",
      "primary_cleaner.input.xanthate                166\n",
      "primary_cleaner.state.floatbank8_a_air         16\n",
      "primary_cleaner.state.floatbank8_a_level       16\n",
      "primary_cleaner.state.floatbank8_b_air         16\n",
      "primary_cleaner.state.floatbank8_b_level       16\n",
      "primary_cleaner.state.floatbank8_c_air         16\n",
      "primary_cleaner.state.floatbank8_c_level       16\n",
      "primary_cleaner.state.floatbank8_d_air         16\n",
      "primary_cleaner.state.floatbank8_d_level       16\n",
      "rougher.input.feed_ag                          16\n",
      "rougher.input.feed_pb                          16\n",
      "rougher.input.feed_rate                        40\n",
      "rougher.input.feed_size                        22\n",
      "rougher.input.feed_sol                         67\n",
      "rougher.input.feed_au                          16\n",
      "rougher.input.floatbank10_sulfate             257\n",
      "rougher.input.floatbank10_xanthate            123\n",
      "rougher.input.floatbank11_sulfate              55\n",
      "rougher.input.floatbank11_xanthate            353\n",
      "rougher.state.floatbank10_a_air                17\n",
      "rougher.state.floatbank10_a_level              16\n",
      "rougher.state.floatbank10_b_air                17\n",
      "rougher.state.floatbank10_b_level              16\n",
      "rougher.state.floatbank10_c_air                17\n",
      "rougher.state.floatbank10_c_level              16\n",
      "rougher.state.floatbank10_d_air                17\n",
      "rougher.state.floatbank10_d_level              16\n",
      "rougher.state.floatbank10_e_air                17\n",
      "rougher.state.floatbank10_e_level              16\n",
      "rougher.state.floatbank10_f_air                17\n",
      "rougher.state.floatbank10_f_level              16\n",
      "secondary_cleaner.state.floatbank2_a_air       20\n",
      "secondary_cleaner.state.floatbank2_a_level     16\n",
      "secondary_cleaner.state.floatbank2_b_air       23\n",
      "secondary_cleaner.state.floatbank2_b_level     16\n",
      "secondary_cleaner.state.floatbank3_a_air       34\n",
      "secondary_cleaner.state.floatbank3_a_level     16\n",
      "secondary_cleaner.state.floatbank3_b_air       16\n",
      "secondary_cleaner.state.floatbank3_b_level     16\n",
      "secondary_cleaner.state.floatbank4_a_air       16\n",
      "secondary_cleaner.state.floatbank4_a_level     16\n",
      "secondary_cleaner.state.floatbank4_b_air       16\n",
      "secondary_cleaner.state.floatbank4_b_level     16\n",
      "secondary_cleaner.state.floatbank5_a_air       16\n",
      "secondary_cleaner.state.floatbank5_a_level     16\n",
      "secondary_cleaner.state.floatbank5_b_air       16\n",
      "secondary_cleaner.state.floatbank5_b_level     16\n",
      "secondary_cleaner.state.floatbank6_a_air       16\n",
      "secondary_cleaner.state.floatbank6_a_level     16\n",
      "dtype: int64\n"
     ]
    }
   ],
   "source": [
    "print(test_df.isna().sum())"
   ]
  },
  {
   "cell_type": "code",
   "execution_count": 10,
   "metadata": {},
   "outputs": [
    {
     "name": "stdout",
     "output_type": "stream",
     "text": [
      "(5856, 53)\n"
     ]
    }
   ],
   "source": [
    "print(test_df.shape)"
   ]
  },
  {
   "cell_type": "markdown",
   "metadata": {},
   "source": [
    "### Full DF"
   ]
  },
  {
   "cell_type": "code",
   "execution_count": 11,
   "metadata": {},
   "outputs": [
    {
     "name": "stdout",
     "output_type": "stream",
     "text": [
      "                  date  final.output.concentrate_ag  \\\n",
      "0  2016-01-15 00:00:00                     6.055403   \n",
      "1  2016-01-15 01:00:00                     6.029369   \n",
      "2  2016-01-15 02:00:00                     6.055926   \n",
      "3  2016-01-15 03:00:00                     6.047977   \n",
      "4  2016-01-15 04:00:00                     6.148599   \n",
      "\n",
      "   final.output.concentrate_pb  final.output.concentrate_sol  \\\n",
      "0                     9.889648                      5.507324   \n",
      "1                     9.968944                      5.257781   \n",
      "2                    10.213995                      5.383759   \n",
      "3                     9.977019                      4.858634   \n",
      "4                    10.142511                      4.939416   \n",
      "\n",
      "   final.output.concentrate_au  final.output.recovery  final.output.tail_ag  \\\n",
      "0                    42.192020              70.541216             10.411962   \n",
      "1                    42.701629              69.266198             10.462676   \n",
      "2                    42.657501              68.116445             10.507046   \n",
      "3                    42.689819              68.347543             10.422762   \n",
      "4                    42.774141              66.927016             10.360302   \n",
      "\n",
      "   final.output.tail_pb  final.output.tail_sol  final.output.tail_au  ...  \\\n",
      "0              0.895447              16.904297              2.143149  ...   \n",
      "1              0.927452              16.634514              2.224930  ...   \n",
      "2              0.953716              16.208849              2.257889  ...   \n",
      "3              0.883763              16.532835              2.146849  ...   \n",
      "4              0.792826              16.525686              2.055292  ...   \n",
      "\n",
      "   secondary_cleaner.state.floatbank4_a_air  \\\n",
      "0                                 14.016835   \n",
      "1                                 13.992281   \n",
      "2                                 14.015015   \n",
      "3                                 14.036510   \n",
      "4                                 14.027298   \n",
      "\n",
      "   secondary_cleaner.state.floatbank4_a_level  \\\n",
      "0                                 -502.488007   \n",
      "1                                 -505.503262   \n",
      "2                                 -502.520901   \n",
      "3                                 -500.857308   \n",
      "4                                 -499.838632   \n",
      "\n",
      "   secondary_cleaner.state.floatbank4_b_air  \\\n",
      "0                                 12.099931   \n",
      "1                                 11.950531   \n",
      "2                                 11.912783   \n",
      "3                                 11.999550   \n",
      "4                                 11.953070   \n",
      "\n",
      "   secondary_cleaner.state.floatbank4_b_level  \\\n",
      "0                                 -504.715942   \n",
      "1                                 -501.331529   \n",
      "2                                 -501.133383   \n",
      "3                                 -501.193686   \n",
      "4                                 -501.053894   \n",
      "\n",
      "   secondary_cleaner.state.floatbank5_a_air  \\\n",
      "0                                  9.925633   \n",
      "1                                 10.039245   \n",
      "2                                 10.070913   \n",
      "3                                  9.970366   \n",
      "4                                  9.925709   \n",
      "\n",
      "   secondary_cleaner.state.floatbank5_a_level  \\\n",
      "0                                 -498.310211   \n",
      "1                                 -500.169983   \n",
      "2                                 -500.129135   \n",
      "3                                 -499.201640   \n",
      "4                                 -501.686727   \n",
      "\n",
      "   secondary_cleaner.state.floatbank5_b_air  \\\n",
      "0                                  8.079666   \n",
      "1                                  7.984757   \n",
      "2                                  8.013877   \n",
      "3                                  7.977324   \n",
      "4                                  7.894242   \n",
      "\n",
      "   secondary_cleaner.state.floatbank5_b_level  \\\n",
      "0                                 -500.470978   \n",
      "1                                 -500.582168   \n",
      "2                                 -500.517572   \n",
      "3                                 -500.255908   \n",
      "4                                 -500.356035   \n",
      "\n",
      "   secondary_cleaner.state.floatbank6_a_air  \\\n",
      "0                                 14.151341   \n",
      "1                                 13.998353   \n",
      "2                                 14.028663   \n",
      "3                                 14.005551   \n",
      "4                                 13.996647   \n",
      "\n",
      "   secondary_cleaner.state.floatbank6_a_level  \n",
      "0                                 -605.841980  \n",
      "1                                 -599.787184  \n",
      "2                                 -601.427363  \n",
      "3                                 -599.996129  \n",
      "4                                 -601.496691  \n",
      "\n",
      "[5 rows x 87 columns]\n"
     ]
    }
   ],
   "source": [
    "print(full_df.head())"
   ]
  },
  {
   "cell_type": "code",
   "execution_count": 12,
   "metadata": {},
   "outputs": [
    {
     "name": "stdout",
     "output_type": "stream",
     "text": [
      "<class 'pandas.core.frame.DataFrame'>\n",
      "RangeIndex: 22716 entries, 0 to 22715\n",
      "Data columns (total 87 columns):\n",
      " #   Column                                              Non-Null Count  Dtype  \n",
      "---  ------                                              --------------  -----  \n",
      " 0   date                                                22716 non-null  object \n",
      " 1   final.output.concentrate_ag                         22627 non-null  float64\n",
      " 2   final.output.concentrate_pb                         22629 non-null  float64\n",
      " 3   final.output.concentrate_sol                        22331 non-null  float64\n",
      " 4   final.output.concentrate_au                         22630 non-null  float64\n",
      " 5   final.output.recovery                               20753 non-null  float64\n",
      " 6   final.output.tail_ag                                22633 non-null  float64\n",
      " 7   final.output.tail_pb                                22516 non-null  float64\n",
      " 8   final.output.tail_sol                               22445 non-null  float64\n",
      " 9   final.output.tail_au                                22635 non-null  float64\n",
      " 10  primary_cleaner.input.sulfate                       21107 non-null  float64\n",
      " 11  primary_cleaner.input.depressant                    21170 non-null  float64\n",
      " 12  primary_cleaner.input.feed_size                     22716 non-null  float64\n",
      " 13  primary_cleaner.input.xanthate                      21565 non-null  float64\n",
      " 14  primary_cleaner.output.concentrate_ag               22618 non-null  float64\n",
      " 15  primary_cleaner.output.concentrate_pb               22268 non-null  float64\n",
      " 16  primary_cleaner.output.concentrate_sol              21918 non-null  float64\n",
      " 17  primary_cleaner.output.concentrate_au               22618 non-null  float64\n",
      " 18  primary_cleaner.output.tail_ag                      22614 non-null  float64\n",
      " 19  primary_cleaner.output.tail_pb                      22594 non-null  float64\n",
      " 20  primary_cleaner.output.tail_sol                     22365 non-null  float64\n",
      " 21  primary_cleaner.output.tail_au                      22617 non-null  float64\n",
      " 22  primary_cleaner.state.floatbank8_a_air              22660 non-null  float64\n",
      " 23  primary_cleaner.state.floatbank8_a_level            22667 non-null  float64\n",
      " 24  primary_cleaner.state.floatbank8_b_air              22660 non-null  float64\n",
      " 25  primary_cleaner.state.floatbank8_b_level            22673 non-null  float64\n",
      " 26  primary_cleaner.state.floatbank8_c_air              22662 non-null  float64\n",
      " 27  primary_cleaner.state.floatbank8_c_level            22673 non-null  float64\n",
      " 28  primary_cleaner.state.floatbank8_d_air              22661 non-null  float64\n",
      " 29  primary_cleaner.state.floatbank8_d_level            22673 non-null  float64\n",
      " 30  rougher.calculation.sulfate_to_au_concentrate       22672 non-null  float64\n",
      " 31  rougher.calculation.floatbank10_sulfate_to_au_feed  22672 non-null  float64\n",
      " 32  rougher.calculation.floatbank11_sulfate_to_au_feed  22672 non-null  float64\n",
      " 33  rougher.calculation.au_pb_ratio                     21089 non-null  float64\n",
      " 34  rougher.input.feed_ag                               22618 non-null  float64\n",
      " 35  rougher.input.feed_pb                               22472 non-null  float64\n",
      " 36  rougher.input.feed_rate                             22163 non-null  float64\n",
      " 37  rougher.input.feed_size                             22277 non-null  float64\n",
      " 38  rougher.input.feed_sol                              22357 non-null  float64\n",
      " 39  rougher.input.feed_au                               22617 non-null  float64\n",
      " 40  rougher.input.floatbank10_sulfate                   21415 non-null  float64\n",
      " 41  rougher.input.floatbank10_xanthate                  22247 non-null  float64\n",
      " 42  rougher.input.floatbank11_sulfate                   22038 non-null  float64\n",
      " 43  rougher.input.floatbank11_xanthate                  20459 non-null  float64\n",
      " 44  rougher.output.concentrate_ag                       22618 non-null  float64\n",
      " 45  rougher.output.concentrate_pb                       22618 non-null  float64\n",
      " 46  rougher.output.concentrate_sol                      22526 non-null  float64\n",
      " 47  rougher.output.concentrate_au                       22618 non-null  float64\n",
      " 48  rougher.output.recovery                             19597 non-null  float64\n",
      " 49  rougher.output.tail_ag                              19979 non-null  float64\n",
      " 50  rougher.output.tail_pb                              22618 non-null  float64\n",
      " 51  rougher.output.tail_sol                             19980 non-null  float64\n",
      " 52  rougher.output.tail_au                              19980 non-null  float64\n",
      " 53  rougher.state.floatbank10_a_air                     22646 non-null  float64\n",
      " 54  rougher.state.floatbank10_a_level                   22647 non-null  float64\n",
      " 55  rougher.state.floatbank10_b_air                     22646 non-null  float64\n",
      " 56  rougher.state.floatbank10_b_level                   22647 non-null  float64\n",
      " 57  rougher.state.floatbank10_c_air                     22646 non-null  float64\n",
      " 58  rougher.state.floatbank10_c_level                   22654 non-null  float64\n",
      " 59  rougher.state.floatbank10_d_air                     22641 non-null  float64\n",
      " 60  rougher.state.floatbank10_d_level                   22649 non-null  float64\n",
      " 61  rougher.state.floatbank10_e_air                     22096 non-null  float64\n",
      " 62  rougher.state.floatbank10_e_level                   22649 non-null  float64\n",
      " 63  rougher.state.floatbank10_f_air                     22641 non-null  float64\n",
      " 64  rougher.state.floatbank10_f_level                   22642 non-null  float64\n",
      " 65  secondary_cleaner.output.tail_ag                    22616 non-null  float64\n",
      " 66  secondary_cleaner.output.tail_pb                    22600 non-null  float64\n",
      " 67  secondary_cleaner.output.tail_sol                   20501 non-null  float64\n",
      " 68  secondary_cleaner.output.tail_au                    22618 non-null  float64\n",
      " 69  secondary_cleaner.state.floatbank2_a_air            22333 non-null  float64\n",
      " 70  secondary_cleaner.state.floatbank2_a_level          22591 non-null  float64\n",
      " 71  secondary_cleaner.state.floatbank2_b_air            22538 non-null  float64\n",
      " 72  secondary_cleaner.state.floatbank2_b_level          22588 non-null  float64\n",
      " 73  secondary_cleaner.state.floatbank3_a_air            22585 non-null  float64\n",
      " 74  secondary_cleaner.state.floatbank3_a_level          22587 non-null  float64\n",
      " 75  secondary_cleaner.state.floatbank3_b_air            22592 non-null  float64\n",
      " 76  secondary_cleaner.state.floatbank3_b_level          22590 non-null  float64\n",
      " 77  secondary_cleaner.state.floatbank4_a_air            22571 non-null  float64\n",
      " 78  secondary_cleaner.state.floatbank4_a_level          22587 non-null  float64\n",
      " 79  secondary_cleaner.state.floatbank4_b_air            22608 non-null  float64\n",
      " 80  secondary_cleaner.state.floatbank4_b_level          22607 non-null  float64\n",
      " 81  secondary_cleaner.state.floatbank5_a_air            22615 non-null  float64\n",
      " 82  secondary_cleaner.state.floatbank5_a_level          22615 non-null  float64\n",
      " 83  secondary_cleaner.state.floatbank5_b_air            22615 non-null  float64\n",
      " 84  secondary_cleaner.state.floatbank5_b_level          22616 non-null  float64\n",
      " 85  secondary_cleaner.state.floatbank6_a_air            22597 non-null  float64\n",
      " 86  secondary_cleaner.state.floatbank6_a_level          22615 non-null  float64\n",
      "dtypes: float64(86), object(1)\n",
      "memory usage: 15.1+ MB\n",
      "None\n"
     ]
    }
   ],
   "source": [
    "print(full_df.info())"
   ]
  },
  {
   "cell_type": "code",
   "execution_count": 13,
   "metadata": {},
   "outputs": [
    {
     "name": "stdout",
     "output_type": "stream",
     "text": [
      "date                                            0\n",
      "final.output.concentrate_ag                    89\n",
      "final.output.concentrate_pb                    87\n",
      "final.output.concentrate_sol                  385\n",
      "final.output.concentrate_au                    86\n",
      "                                             ... \n",
      "secondary_cleaner.state.floatbank5_a_level    101\n",
      "secondary_cleaner.state.floatbank5_b_air      101\n",
      "secondary_cleaner.state.floatbank5_b_level    100\n",
      "secondary_cleaner.state.floatbank6_a_air      119\n",
      "secondary_cleaner.state.floatbank6_a_level    101\n",
      "Length: 87, dtype: int64\n"
     ]
    }
   ],
   "source": [
    "print(full_df.isna().sum())"
   ]
  },
  {
   "cell_type": "code",
   "execution_count": 14,
   "metadata": {},
   "outputs": [
    {
     "name": "stdout",
     "output_type": "stream",
     "text": [
      "(22716, 87)\n"
     ]
    }
   ],
   "source": [
    "print(full_df.shape)"
   ]
  },
  {
   "cell_type": "markdown",
   "metadata": {},
   "source": [
    "### Function for missing values "
   ]
  },
  {
   "cell_type": "code",
   "execution_count": 15,
   "metadata": {
    "scrolled": true
   },
   "outputs": [
    {
     "name": "stdout",
     "output_type": "stream",
     "text": [
      "Missing values % in training dataset:\n",
      " date                                          0.000000\n",
      "final.output.concentrate_ag                   0.004909\n",
      "final.output.concentrate_pb                   0.004909\n",
      "final.output.concentrate_sol                  0.025225\n",
      "final.output.concentrate_au                   0.004840\n",
      "                                                ...   \n",
      "secondary_cleaner.state.floatbank5_a_level    0.005795\n",
      "secondary_cleaner.state.floatbank5_b_air      0.005795\n",
      "secondary_cleaner.state.floatbank5_b_level    0.005727\n",
      "secondary_cleaner.state.floatbank6_a_air      0.007022\n",
      "secondary_cleaner.state.floatbank6_a_level    0.005795\n",
      "Length: 87, dtype: float64\n",
      "\n",
      "Missing values % in test dataset:\n",
      " date                                          0.000000\n",
      "primary_cleaner.input.sulfate                 0.097304\n",
      "primary_cleaner.input.depressant              0.091504\n",
      "primary_cleaner.input.feed_size               0.000000\n",
      "primary_cleaner.input.xanthate                0.053485\n",
      "primary_cleaner.state.floatbank8_a_air        0.005155\n",
      "primary_cleaner.state.floatbank8_a_level      0.005155\n",
      "primary_cleaner.state.floatbank8_b_air        0.005155\n",
      "primary_cleaner.state.floatbank8_b_level      0.005155\n",
      "primary_cleaner.state.floatbank8_c_air        0.005155\n",
      "primary_cleaner.state.floatbank8_c_level      0.005155\n",
      "primary_cleaner.state.floatbank8_d_air        0.005155\n",
      "primary_cleaner.state.floatbank8_d_level      0.005155\n",
      "rougher.input.feed_ag                         0.005155\n",
      "rougher.input.feed_pb                         0.005155\n",
      "rougher.input.feed_rate                       0.012888\n",
      "rougher.input.feed_size                       0.007088\n",
      "rougher.input.feed_sol                        0.021587\n",
      "rougher.input.feed_au                         0.005155\n",
      "rougher.input.floatbank10_sulfate             0.082805\n",
      "rougher.input.floatbank10_xanthate            0.039630\n",
      "rougher.input.floatbank11_sulfate             0.017721\n",
      "rougher.input.floatbank11_xanthate            0.113736\n",
      "rougher.state.floatbank10_a_air               0.005477\n",
      "rougher.state.floatbank10_a_level             0.005155\n",
      "rougher.state.floatbank10_b_air               0.005477\n",
      "rougher.state.floatbank10_b_level             0.005155\n",
      "rougher.state.floatbank10_c_air               0.005477\n",
      "rougher.state.floatbank10_c_level             0.005155\n",
      "rougher.state.floatbank10_d_air               0.005477\n",
      "rougher.state.floatbank10_d_level             0.005155\n",
      "rougher.state.floatbank10_e_air               0.005477\n",
      "rougher.state.floatbank10_e_level             0.005155\n",
      "rougher.state.floatbank10_f_air               0.005477\n",
      "rougher.state.floatbank10_f_level             0.005155\n",
      "secondary_cleaner.state.floatbank2_a_air      0.006444\n",
      "secondary_cleaner.state.floatbank2_a_level    0.005155\n",
      "secondary_cleaner.state.floatbank2_b_air      0.007411\n",
      "secondary_cleaner.state.floatbank2_b_level    0.005155\n",
      "secondary_cleaner.state.floatbank3_a_air      0.010955\n",
      "secondary_cleaner.state.floatbank3_a_level    0.005155\n",
      "secondary_cleaner.state.floatbank3_b_air      0.005155\n",
      "secondary_cleaner.state.floatbank3_b_level    0.005155\n",
      "secondary_cleaner.state.floatbank4_a_air      0.005155\n",
      "secondary_cleaner.state.floatbank4_a_level    0.005155\n",
      "secondary_cleaner.state.floatbank4_b_air      0.005155\n",
      "secondary_cleaner.state.floatbank4_b_level    0.005155\n",
      "secondary_cleaner.state.floatbank5_a_air      0.005155\n",
      "secondary_cleaner.state.floatbank5_a_level    0.005155\n",
      "secondary_cleaner.state.floatbank5_b_air      0.005155\n",
      "secondary_cleaner.state.floatbank5_b_level    0.005155\n",
      "secondary_cleaner.state.floatbank6_a_air      0.005155\n",
      "secondary_cleaner.state.floatbank6_a_level    0.005155\n",
      "dtype: float64\n",
      "\n",
      "Missing values % in full dataset:\n",
      " date                                          0.000000\n",
      "final.output.concentrate_ag                   0.004503\n",
      "final.output.concentrate_pb                   0.004402\n",
      "final.output.concentrate_sol                  0.019481\n",
      "final.output.concentrate_au                   0.004352\n",
      "                                                ...   \n",
      "secondary_cleaner.state.floatbank5_a_level    0.005111\n",
      "secondary_cleaner.state.floatbank5_b_air      0.005111\n",
      "secondary_cleaner.state.floatbank5_b_level    0.005060\n",
      "secondary_cleaner.state.floatbank6_a_air      0.006021\n",
      "secondary_cleaner.state.floatbank6_a_level    0.005111\n",
      "Length: 87, dtype: float64\n"
     ]
    }
   ],
   "source": [
    "\n",
    "def missing_values(df):\n",
    "    missing = df.isnull().sum()\n",
    "    total = np.product(df.shape)\n",
    "    missing_percent = (missing / total) * 100\n",
    "    return missing_percent\n",
    "\n",
    "\n",
    "missing_train = missing_values(train_df)\n",
    "missing_test = missing_values(test_df)\n",
    "missing_full = missing_values(full_df)\n",
    "\n",
    "\n",
    "print(\"Missing values % in training dataset:\\n\", missing_train)\n",
    "print(\"\\nMissing values % in test dataset:\\n\", missing_test)\n",
    "print(\"\\nMissing values % in full dataset:\\n\", missing_full)"
   ]
  },
  {
   "cell_type": "markdown",
   "metadata": {},
   "source": [
    "I calculated missing values percentage for each dataset by writing a function to find missing values percentage for each dataset and printed the results. The amounts of missing data are all less than 1% of the data."
   ]
  },
  {
   "cell_type": "markdown",
   "metadata": {},
   "source": [
    "### Check that recovery is calculated correctly. "
   ]
  },
  {
   "cell_type": "markdown",
   "metadata": {},
   "source": [
    "Cleaned the dataset by dropping missing values for the calculation. Formula for recovery: (C * (F - T)) / (F * (C - T)) * 100. Used the necessary columns for the recovery calculation and calculated the recovery. I then found the Mean Absolute Error (MAE) between the calculated recovery and the actual 'rougher.output.recovery' feature value.\n"
   ]
  },
  {
   "cell_type": "code",
   "execution_count": 16,
   "metadata": {},
   "outputs": [
    {
     "name": "stdout",
     "output_type": "stream",
     "text": [
      "MAE: 9.303415616264301e-15\n"
     ]
    }
   ],
   "source": [
    "train_cleaned = train_df.dropna(subset=['rougher.output.concentrate_au', 'rougher.input.feed_au', 'rougher.output.tail_au', 'rougher.output.recovery'])\n",
    "C = train_cleaned['rougher.output.concentrate_au']\n",
    "F = train_cleaned['rougher.input.feed_au']\n",
    "T = train_cleaned['rougher.output.tail_au']\n",
    "\n",
    "calculated_recovery = (C * (F - T)) / (F * (C - T)) * 100\n",
    "\n",
    "actual_recovery = train_cleaned['rougher.output.recovery']\n",
    "mae_recovery = mean_absolute_error(actual_recovery, calculated_recovery)\n",
    "\n",
    "print('MAE:', mae_recovery)"
   ]
  },
  {
   "cell_type": "markdown",
   "metadata": {},
   "source": [
    "<div class=\"alert alert-block alert-success\">\n",
    "<b>Reviewer's comment V1</b> <a class=\"tocSkip\"></a>\n",
    "\n",
    "Good job!\n",
    "  \n",
    "</div>"
   ]
  },
  {
   "cell_type": "markdown",
   "metadata": {},
   "source": [
    "### Analyze the features not available in the test set"
   ]
  },
  {
   "cell_type": "markdown",
   "metadata": {},
   "source": [
    "I identified features that are in the training set but not in the test set and displayed the missing feature and their data types. All the datatypes are float64.\n"
   ]
  },
  {
   "cell_type": "code",
   "execution_count": 17,
   "metadata": {
    "scrolled": true
   },
   "outputs": [
    {
     "data": {
      "text/plain": [
       "final.output.recovery                                 float64\n",
       "final.output.tail_au                                  float64\n",
       "final.output.concentrate_au                           float64\n",
       "primary_cleaner.output.concentrate_pb                 float64\n",
       "primary_cleaner.output.concentrate_ag                 float64\n",
       "primary_cleaner.output.tail_pb                        float64\n",
       "final.output.concentrate_sol                          float64\n",
       "rougher.output.tail_sol                               float64\n",
       "final.output.concentrate_ag                           float64\n",
       "rougher.calculation.sulfate_to_au_concentrate         float64\n",
       "secondary_cleaner.output.tail_ag                      float64\n",
       "rougher.output.tail_pb                                float64\n",
       "rougher.calculation.floatbank11_sulfate_to_au_feed    float64\n",
       "rougher.calculation.floatbank10_sulfate_to_au_feed    float64\n",
       "final.output.tail_sol                                 float64\n",
       "primary_cleaner.output.tail_au                        float64\n",
       "rougher.output.concentrate_pb                         float64\n",
       "rougher.output.tail_au                                float64\n",
       "secondary_cleaner.output.tail_sol                     float64\n",
       "final.output.concentrate_pb                           float64\n",
       "primary_cleaner.output.tail_ag                        float64\n",
       "primary_cleaner.output.concentrate_au                 float64\n",
       "rougher.output.tail_ag                                float64\n",
       "primary_cleaner.output.concentrate_sol                float64\n",
       "final.output.tail_pb                                  float64\n",
       "primary_cleaner.output.tail_sol                       float64\n",
       "rougher.output.concentrate_au                         float64\n",
       "rougher.output.concentrate_sol                        float64\n",
       "final.output.tail_ag                                  float64\n",
       "rougher.output.recovery                               float64\n",
       "secondary_cleaner.output.tail_pb                      float64\n",
       "rougher.output.concentrate_ag                         float64\n",
       "rougher.calculation.au_pb_ratio                       float64\n",
       "secondary_cleaner.output.tail_au                      float64\n",
       "dtype: object"
      ]
     },
     "execution_count": 17,
     "metadata": {},
     "output_type": "execute_result"
    }
   ],
   "source": [
    "missing_features_test = set(train_df.columns) - set(test_df.columns)\n",
    "missing_features = train_df[list(missing_features_test)].dtypes\n",
    "missing_features"
   ]
  },
  {
   "cell_type": "markdown",
   "metadata": {},
   "source": [
    "<div class=\"alert alert-block alert-success\">\n",
    "<b>Reviewer's comment V1</b> <a class=\"tocSkip\"></a>\n",
    "\n",
    "Correct\n",
    "  \n",
    "</div>"
   ]
  },
  {
   "cell_type": "code",
   "execution_count": 18,
   "metadata": {
    "scrolled": true
   },
   "outputs": [
    {
     "data": {
      "text/plain": [
       "Index(['date', 'final.output.concentrate_ag', 'final.output.concentrate_pb',\n",
       "       'final.output.concentrate_sol', 'final.output.concentrate_au',\n",
       "       'final.output.recovery', 'final.output.tail_ag', 'final.output.tail_pb',\n",
       "       'final.output.tail_sol', 'final.output.tail_au',\n",
       "       'primary_cleaner.input.sulfate', 'primary_cleaner.input.depressant',\n",
       "       'primary_cleaner.input.feed_size', 'primary_cleaner.input.xanthate',\n",
       "       'primary_cleaner.output.concentrate_ag',\n",
       "       'primary_cleaner.output.concentrate_pb',\n",
       "       'primary_cleaner.output.concentrate_sol',\n",
       "       'primary_cleaner.output.concentrate_au',\n",
       "       'primary_cleaner.output.tail_ag', 'primary_cleaner.output.tail_pb',\n",
       "       'primary_cleaner.output.tail_sol', 'primary_cleaner.output.tail_au',\n",
       "       'primary_cleaner.state.floatbank8_a_air',\n",
       "       'primary_cleaner.state.floatbank8_a_level',\n",
       "       'primary_cleaner.state.floatbank8_b_air',\n",
       "       'primary_cleaner.state.floatbank8_b_level',\n",
       "       'primary_cleaner.state.floatbank8_c_air',\n",
       "       'primary_cleaner.state.floatbank8_c_level',\n",
       "       'primary_cleaner.state.floatbank8_d_air',\n",
       "       'primary_cleaner.state.floatbank8_d_level',\n",
       "       'rougher.calculation.sulfate_to_au_concentrate',\n",
       "       'rougher.calculation.floatbank10_sulfate_to_au_feed',\n",
       "       'rougher.calculation.floatbank11_sulfate_to_au_feed',\n",
       "       'rougher.calculation.au_pb_ratio', 'rougher.input.feed_ag',\n",
       "       'rougher.input.feed_pb', 'rougher.input.feed_rate',\n",
       "       'rougher.input.feed_size', 'rougher.input.feed_sol',\n",
       "       'rougher.input.feed_au', 'rougher.input.floatbank10_sulfate',\n",
       "       'rougher.input.floatbank10_xanthate',\n",
       "       'rougher.input.floatbank11_sulfate',\n",
       "       'rougher.input.floatbank11_xanthate', 'rougher.output.concentrate_ag',\n",
       "       'rougher.output.concentrate_pb', 'rougher.output.concentrate_sol',\n",
       "       'rougher.output.concentrate_au', 'rougher.output.recovery',\n",
       "       'rougher.output.tail_ag', 'rougher.output.tail_pb',\n",
       "       'rougher.output.tail_sol', 'rougher.output.tail_au',\n",
       "       'rougher.state.floatbank10_a_air', 'rougher.state.floatbank10_a_level',\n",
       "       'rougher.state.floatbank10_b_air', 'rougher.state.floatbank10_b_level',\n",
       "       'rougher.state.floatbank10_c_air', 'rougher.state.floatbank10_c_level',\n",
       "       'rougher.state.floatbank10_d_air', 'rougher.state.floatbank10_d_level',\n",
       "       'rougher.state.floatbank10_e_air', 'rougher.state.floatbank10_e_level',\n",
       "       'rougher.state.floatbank10_f_air', 'rougher.state.floatbank10_f_level',\n",
       "       'secondary_cleaner.output.tail_ag', 'secondary_cleaner.output.tail_pb',\n",
       "       'secondary_cleaner.output.tail_sol', 'secondary_cleaner.output.tail_au',\n",
       "       'secondary_cleaner.state.floatbank2_a_air',\n",
       "       'secondary_cleaner.state.floatbank2_a_level',\n",
       "       'secondary_cleaner.state.floatbank2_b_air',\n",
       "       'secondary_cleaner.state.floatbank2_b_level',\n",
       "       'secondary_cleaner.state.floatbank3_a_air',\n",
       "       'secondary_cleaner.state.floatbank3_a_level',\n",
       "       'secondary_cleaner.state.floatbank3_b_air',\n",
       "       'secondary_cleaner.state.floatbank3_b_level',\n",
       "       'secondary_cleaner.state.floatbank4_a_air',\n",
       "       'secondary_cleaner.state.floatbank4_a_level',\n",
       "       'secondary_cleaner.state.floatbank4_b_air',\n",
       "       'secondary_cleaner.state.floatbank4_b_level',\n",
       "       'secondary_cleaner.state.floatbank5_a_air',\n",
       "       'secondary_cleaner.state.floatbank5_a_level',\n",
       "       'secondary_cleaner.state.floatbank5_b_air',\n",
       "       'secondary_cleaner.state.floatbank5_b_level',\n",
       "       'secondary_cleaner.state.floatbank6_a_air',\n",
       "       'secondary_cleaner.state.floatbank6_a_level'],\n",
       "      dtype='object')"
      ]
     },
     "execution_count": 18,
     "metadata": {},
     "output_type": "execute_result"
    }
   ],
   "source": [
    "train_df.columns"
   ]
  },
  {
   "cell_type": "markdown",
   "metadata": {},
   "source": [
    "### Perform data preprocessing"
   ]
  },
  {
   "cell_type": "markdown",
   "metadata": {},
   "source": [
    "Filling in missing data in train and test datasets. For catagorical comumns I filled it with the mode and numerical columns with the median value. I then converted all numeric comumnns to float32 type in both datasets."
   ]
  },
  {
   "cell_type": "code",
   "execution_count": 19,
   "metadata": {},
   "outputs": [],
   "source": [
    "def preprocessing(df):\n",
    "    for col in df.columns:\n",
    "        if df[col].dtype == 'object':\n",
    "            df[col] = df[col].fillna(df[col].mode()[0])\n",
    "        else:\n",
    "            df[col] = df[col].fillna(df[col].mean())\n",
    "\n",
    "    for col in df.columns:\n",
    "        if df[col].dtype in ['float64', 'int64']:\n",
    "            df[col]= df[col].astype('float32')\n",
    "    return df\n",
    "train_df= preprocessing(train_df)\n",
    "test_df= preprocessing(test_df)\n",
    "full_df= preprocessing(full_df)"
   ]
  },
  {
   "cell_type": "markdown",
   "metadata": {},
   "source": [
    "<div class=\"alert alert-block alert-warning\">\n",
    "<b>Reviewer's comment V1</b> <a class=\"tocSkip\"></a>\n",
    "\n",
    "It is possible to fill NaNs with means. But when we have ordered data we have even better way to fill NaNs. What is the closest value to the current one? The previous one. And you can use this fact to fill the NaNs. Just read the documentation for the .fillna() method and you will find the parameter which can fill the NaNs in such way. \n",
    "  \n",
    "</div>"
   ]
  },
  {
   "cell_type": "markdown",
   "metadata": {},
   "source": [
    "## Analyze the data"
   ]
  },
  {
   "cell_type": "markdown",
   "metadata": {},
   "source": [
    "### Concentrations of metals (_Au, Ag, Pb_)"
   ]
  },
  {
   "cell_type": "markdown",
   "metadata": {},
   "source": [
    "Used a loop to calculate the mean concentrations of gold(AU), silver(AG), and lead(PB) during diffrent stanges of the purification process. Starting off with raw feed, rougher concentrate, after primary cleaning,  and final output concentrate. Overall the purification process uncreases the concentration of the metals as it progresses along the stages then graphed the data for better visulization of the information."
   ]
  },
  {
   "cell_type": "code",
   "execution_count": 20,
   "metadata": {},
   "outputs": [
    {
     "data": {
      "text/plain": [
       "{'raw_feed_au': 7.1707172,\n",
       " 'raw_feed_ag': 7.8323474,\n",
       " 'raw_feed_pb': 3.2189307,\n",
       " 'rougher_concentrate_au': 17.401543,\n",
       " 'rougher_concentrate_ag': 10.580474,\n",
       " 'rougher_concentrate_pb': 6.8803225,\n",
       " 'primary_cleaner_concentrate_au': 29.164595,\n",
       " 'primary_cleaner_concentrate_ag': 7.4226403,\n",
       " 'primary_cleaner_concentrate_pb': 8.620294,\n",
       " 'final_concentrate_au': 39.467216,\n",
       " 'final_concentrate_ag': 4.716907,\n",
       " 'final_concentrate_pb': 9.11356}"
      ]
     },
     "execution_count": 20,
     "metadata": {},
     "output_type": "execute_result"
    }
   ],
   "source": [
    "mean_concentrations = {\n",
    "    f'{stage}_{metal}': \n",
    "    train_df[f'rougher.input.feed_{metal}'].mean() \n",
    "    if stage == 'raw_feed' \n",
    "    else train_df[f'{process}.output.concentrate_{metal}'].mean()\n",
    "    for process, stages in {\n",
    "        'rougher': ['rougher_concentrate'],\n",
    "        'primary_cleaner': ['primary_cleaner_concentrate'],\n",
    "        'final': ['final_concentrate']\n",
    "    }.items()\n",
    "    for stage in ['raw_feed'] + stages\n",
    "    for metal in ['au', 'ag', 'pb']\n",
    "}\n",
    "mean_concentrations"
   ]
  },
  {
   "cell_type": "code",
   "execution_count": 21,
   "metadata": {},
   "outputs": [
    {
     "data": {
      "image/png": "[encoded data removed]",
      "text/plain": [
       "<Figure size 1000x500 with 1 Axes>"
      ]
     },
     "metadata": {},
     "output_type": "display_data"
    }
   ],
   "source": [
    "plt.figure(figsize=(10, 5))\n",
    "\n",
    "plt.hist(train_df['rougher.input.feed_au'], bins=35, alpha=0.5, label='Raw Feed', color='blue')\n",
    "plt.hist(train_df['rougher.output.concentrate_au'], bins=35, alpha=0.5, label='Rougher Concentrate', color='purple')\n",
    "plt.hist(train_df['primary_cleaner.output.concentrate_au'], bins=35, alpha=0.5, label='Primary Cleaner Concentrate', color='green')\n",
    "plt.hist(train_df['final.output.concentrate_au'], bins=35, alpha=0.5, label='Final Concentrate', color='red')\n",
    "\n",
    "plt.title('Concentration of Gold')\n",
    "plt.xlabel('Concentration')\n",
    "plt.ylabel('Frequency')\n",
    "plt.legend()\n",
    "plt.show()"
   ]
  },
  {
   "cell_type": "code",
   "execution_count": 22,
   "metadata": {},
   "outputs": [
    {
     "data": {
      "image/png": "[encoded data removed]",
      "text/plain": [
       "<Figure size 1000x500 with 1 Axes>"
      ]
     },
     "metadata": {},
     "output_type": "display_data"
    }
   ],
   "source": [
    "plt.figure(figsize=(10, 5))\n",
    "\n",
    "plt.hist(train_df['rougher.input.feed_ag'], bins=35, alpha=0.5, label='Raw Feed', color='blue')\n",
    "plt.hist(train_df['rougher.output.concentrate_ag'], bins=35, alpha=0.5, label='Rougher Concentrate', color='purple')\n",
    "plt.hist(train_df['primary_cleaner.output.concentrate_ag'], bins=35, alpha=0.5, label='Primary Cleaner Concentrate', color='green')\n",
    "plt.hist(train_df['final.output.concentrate_ag'], bins=35, alpha=0.5, label='Final Concentrate', color='red')\n",
    "\n",
    "plt.title('Concentration of Silver')\n",
    "plt.xlabel('Concentration')\n",
    "plt.ylabel('Frequency')\n",
    "plt.legend()\n",
    "plt.show()"
   ]
  },
  {
   "cell_type": "code",
   "execution_count": 23,
   "metadata": {},
   "outputs": [
    {
     "data": {
      "image/png": "[encoded data removed]",
      "text/plain": [
       "<Figure size 1000x500 with 1 Axes>"
      ]
     },
     "metadata": {},
     "output_type": "display_data"
    }
   ],
   "source": [
    "plt.figure(figsize=(10, 5))\n",
    "\n",
    "plt.hist(train_df['rougher.input.feed_pb'], bins=35, alpha=0.5, label='Raw Feed', color='blue')\n",
    "plt.hist(train_df['rougher.output.concentrate_pb'], bins=35, alpha=0.5, label='Rougher Concentrate', color='purple')\n",
    "plt.hist(train_df['primary_cleaner.output.concentrate_pb'], bins=35, alpha=0.5, label='Primary Cleaner Concentrate', color='green')\n",
    "plt.hist(train_df['final.output.concentrate_pb'], bins=35, alpha=0.5, label='Final Concentrate', color='red')\n",
    "\n",
    "plt.title('Concentration of Lead')\n",
    "plt.xlabel('Concentration')\n",
    "plt.ylabel('Frequency')\n",
    "plt.legend()\n",
    "plt.show()"
   ]
  },
  {
   "cell_type": "markdown",
   "metadata": {},
   "source": [
    "The concentration distributions for the metals Gold, Silver, and Lead all trend toward a increase in concentration as the purification process progresses. Gold went from 7.17 to 39.46. of the 3 metals Gold(au) has the greatest increases in concentrations showing it has the most effective processing with distinct improvements. Silver(ag) on the other hand has improvements after the flotation stages but during the cleaning processes the concentration drops makeing the purification process less efficient than that of Gold. Silver going from 7.83 to 4.71. Lead(pb) has an upward trent during the beginning of the process but tapers off after the primary cleaning of the metal. It started at 3.21 and went to 9.11 as the final concentration."
   ]
  },
  {
   "cell_type": "markdown",
   "metadata": {},
   "source": [
    "<div class=\"alert alert-block alert-success\">\n",
    "<b>Reviewer's comment V1</b> <a class=\"tocSkip\"></a>\n",
    "\n",
    "Well done!\n",
    "  \n",
    "</div>"
   ]
  },
  {
   "cell_type": "markdown",
   "metadata": {},
   "source": [
    "### Feed particle size distributions"
   ]
  },
  {
   "cell_type": "code",
   "execution_count": 24,
   "metadata": {},
   "outputs": [
    {
     "data": {
      "text/plain": [
       "count    16860.000000\n",
       "mean        58.676445\n",
       "std         23.624882\n",
       "min          9.659576\n",
       "25%         47.597875\n",
       "50%         54.475704\n",
       "75%         64.587650\n",
       "max        484.967468\n",
       "Name: rougher.input.feed_size, dtype: float64"
      ]
     },
     "execution_count": 24,
     "metadata": {},
     "output_type": "execute_result"
    }
   ],
   "source": [
    "train_df['rougher.input.feed_size'].describe()"
   ]
  },
  {
   "cell_type": "code",
   "execution_count": 25,
   "metadata": {},
   "outputs": [
    {
     "data": {
      "text/plain": [
       "count    5856.000000\n",
       "mean       55.937538\n",
       "std        22.681522\n",
       "min         0.046369\n",
       "25%        43.898468\n",
       "50%        50.109022\n",
       "75%        61.608217\n",
       "max       477.445465\n",
       "Name: rougher.input.feed_size, dtype: float64"
      ]
     },
     "execution_count": 25,
     "metadata": {},
     "output_type": "execute_result"
    }
   ],
   "source": [
    "test_df['rougher.input.feed_size'].describe()"
   ]
  },
  {
   "cell_type": "code",
   "execution_count": 26,
   "metadata": {},
   "outputs": [
    {
     "data": {
      "image/png": "[encoded data removed]",
      "text/plain": [
       "<Figure size 640x480 with 1 Axes>"
      ]
     },
     "metadata": {},
     "output_type": "display_data"
    }
   ],
   "source": [
    "plt.figure()\n",
    "plt.hist(train_df['rougher.input.feed_size'], bins=100, alpha=0.5, label='Train Feed Size', color='red', density=True)\n",
    "plt.hist(test_df['rougher.input.feed_size'], bins=100, alpha=0.5, label='Test Feed Size', color='green', density=True)\n",
    "plt.title('Feed Particle Size Distribution: Train vs Test (Normalized)')\n",
    "plt.xlabel('Feed Size')\n",
    "plt.ylabel('Density')\n",
    "plt.legend()\n",
    "plt.show()"
   ]
  },
  {
   "cell_type": "markdown",
   "metadata": {},
   "source": [
    "PLotted the distributions of feed particle sizes from the training and test set. Based on the distributions seem to be similar to one another. The test set has a higher max density. Overall the training set and test set both average in the range between 25-75 feed size. Both datasets contain outliers."
   ]
  },
  {
   "cell_type": "markdown",
   "metadata": {},
   "source": [
    "<div class=\"alert alert-block alert-success\">\n",
    "<b>Reviewer's comment V1</b> <a class=\"tocSkip\"></a>\n",
    "\n",
    "Correct\n",
    "  \n",
    "</div>"
   ]
  },
  {
   "cell_type": "markdown",
   "metadata": {},
   "source": [
    "### Total concentrations of all substances in different stages"
   ]
  },
  {
   "cell_type": "code",
   "execution_count": 27,
   "metadata": {},
   "outputs": [
    {
     "name": "stdout",
     "output_type": "stream",
     "text": [
      "Total feed concentration sum:\n",
      " 307222.8\n",
      "Total rougher concentration sum:\n",
      " 587779.0\n",
      "Total primary_cleaner concentration sum:\n",
      " 762198.94\n",
      "Total final concentration sum:\n",
      " 898598.94\n"
     ]
    }
   ],
   "source": [
    "metals = ['au', 'ag', 'pb']\n",
    "processes = ['feed', 'rougher', 'primary_cleaner', 'final']\n",
    "\n",
    "for process in processes:\n",
    "    if process == 'feed':\n",
    "        train_df[f'total_{process}_concentration'] = sum(train_df[f'rougher.input.feed_{metal}'] for metal in metals)\n",
    "    else:\n",
    "        train_df[f'total_{process}_concentration'] = sum(train_df[f'{process}.output.concentrate_{metal}'] for metal in metals)\n",
    "    \n",
    "    print(f'Total {process} concentration sum:\\n', train_df[f'total_{process}_concentration'].sum())\n"
   ]
  },
  {
   "cell_type": "code",
   "execution_count": 28,
   "metadata": {},
   "outputs": [
    {
     "name": "stdout",
     "output_type": "stream",
     "text": [
      "Total feed concentration distribution:\n",
      " count    16860.000000\n",
      "mean        18.221994\n",
      "std          7.304673\n",
      "min          0.000000\n",
      "25%         16.139539\n",
      "50%         18.709881\n",
      "75%         22.327806\n",
      "max         35.071987\n",
      "Name: total_feed_concentration, dtype: float64\n",
      "\n",
      "Total rougher concentration distribution:\n",
      " count    16860.000000\n",
      "mean        34.862335\n",
      "std         13.532094\n",
      "min          0.000000\n",
      "25%         36.599328\n",
      "50%         39.451746\n",
      "75%         41.625835\n",
      "max         55.568687\n",
      "Name: total_rougher_concentration, dtype: float64\n",
      "\n",
      "Total primary_cleaner concentration distribution:\n",
      " count    16860.000000\n",
      "mean        45.207527\n",
      "std         16.471375\n",
      "min          0.000000\n",
      "25%         48.328792\n",
      "50%         51.260515\n",
      "75%         53.177716\n",
      "max         60.269005\n",
      "Name: total_primary_cleaner_concentration, dtype: float64\n",
      "\n",
      "Total final concentration distribution:\n",
      " count    16860.000000\n",
      "mean        53.297684\n",
      "std         18.406170\n",
      "min          0.000000\n",
      "25%         58.520161\n",
      "50%         59.983770\n",
      "75%         60.934463\n",
      "max         65.575256\n",
      "Name: total_final_concentration, dtype: float64\n",
      "\n"
     ]
    }
   ],
   "source": [
    "metals = ['au', 'ag', 'pb']\n",
    "processes = ['feed', 'rougher', 'primary_cleaner', 'final']\n",
    "\n",
    "for process in processes:\n",
    "    if process == 'feed':\n",
    "        train_df[f'total_{process}_concentration'] = sum(train_df[f'rougher.input.feed_{metal}'] for metal in metals)\n",
    "    else:\n",
    "        train_df[f'total_{process}_concentration'] = sum(train_df[f'{process}.output.concentrate_{metal}'] for metal in metals)\n",
    "    \n",
    "    print(f'Total {process} concentration distribution:\\n', train_df[f'total_{process}_concentration'].describe())\n",
    "    print()"
   ]
  },
  {
   "cell_type": "markdown",
   "metadata": {},
   "source": [
    "Looking at the total concentrations of the substances at diffrent stages there are values of 0 or near zero concentration throught the process. In order to better the data I will set a threshold of .1 to remove the abnormal values in the distribution."
   ]
  },
  {
   "cell_type": "code",
   "execution_count": 29,
   "metadata": {},
   "outputs": [
    {
     "name": "stdout",
     "output_type": "stream",
     "text": [
      "4\n"
     ]
    }
   ],
   "source": [
    "threshold = .1\n",
    "\n",
    "near_zero= [ \n",
    "    train_df[f'total_feed_concentration'] < threshold,\n",
    "    train_df[f'total_rougher_concentration'] < threshold,\n",
    "    train_df[f'total_primary_cleaner_concentration'] < threshold,\n",
    "    train_df[f'total_final_concentration'] < threshold\n",
    "]\n",
    "print(len(near_zero))\n",
    "\n"
   ]
  },
  {
   "cell_type": "code",
   "execution_count": 30,
   "metadata": {},
   "outputs": [
    {
     "name": "stdout",
     "output_type": "stream",
     "text": [
      "       total_feed_concentration  total_rougher_concentration  \\\n",
      "count              14419.000000                 14419.000000   \n",
      "mean                  20.098270                    39.529274   \n",
      "std                    4.613382                     4.970403   \n",
      "min                    0.252715                     0.231744   \n",
      "25%                   16.870832                    38.000696   \n",
      "50%                   19.226112                    39.940823   \n",
      "75%                   22.879564                    41.938856   \n",
      "max                   35.071987                    55.568687   \n",
      "\n",
      "       total_primary_cleaner_concentration  total_final_concentration  \n",
      "count                         14419.000000               14419.000000  \n",
      "mean                             50.615662                  59.284580  \n",
      "std                               5.679204                   4.923115  \n",
      "min                               0.219862                   0.744251  \n",
      "25%                              49.556532                  59.107826  \n",
      "50%                              51.706821                  60.196983  \n",
      "75%                              53.365070                  61.014963  \n",
      "max                              59.251060                  65.575256  \n"
     ]
    }
   ],
   "source": [
    "train_df = train_df[(train_df[f'total_feed_concentration'] >= threshold) &\n",
    "    (train_df[f'total_rougher_concentration'] >= threshold) &\n",
    "    (train_df[f'total_primary_cleaner_concentration'] >= threshold) &\n",
    "    (train_df[f'total_final_concentration'] >= threshold)]\n",
    "\n",
    "print(train_df[[f'total_feed_concentration',\n",
    "                       f'total_rougher_concentration',\n",
    "                       f'total_primary_cleaner_concentration',\n",
    "                       f'total_final_concentration']].describe())"
   ]
  },
  {
   "cell_type": "markdown",
   "metadata": {},
   "source": [
    "### Histograms of the total concentratoins through the process."
   ]
  },
  {
   "cell_type": "code",
   "execution_count": 31,
   "metadata": {},
   "outputs": [
    {
     "data": {
      "image/png": "[encoded data removed]",
      "text/plain": [
       "<Figure size 1000x500 with 3 Axes>"
      ]
     },
     "metadata": {},
     "output_type": "display_data"
    },
    {
     "data": {
      "image/png": "[encoded data removed]",
      "text/plain": [
       "<Figure size 640x480 with 1 Axes>"
      ]
     },
     "metadata": {},
     "output_type": "display_data"
    }
   ],
   "source": [
    "plt.figure(figsize=(10, 5))\n",
    "\n",
    "plt.subplot(1, 3, 1)\n",
    "plt.hist(train_df['total_feed_concentration'], bins=40, color='blue', alpha=0.7)\n",
    "plt.title('Concentration of Raw Feed')\n",
    "plt.xlabel('Concentration')\n",
    "plt.ylabel('Frequency')\n",
    "\n",
    "\n",
    "plt.subplot(1, 3, 2)\n",
    "plt.hist(train_df['total_rougher_concentration'], bins=40, color='green', alpha=0.7)\n",
    "plt.title('Rougher Concentrate')\n",
    "plt.xlabel('Concentration')\n",
    "\n",
    "plt.subplot(1, 3, 3)\n",
    "plt.hist(train_df['total_primary_cleaner_concentration'], bins=40, color='red', alpha=0.7)\n",
    "plt.title('First clean Concentrate')\n",
    "plt.xlabel('Concentration')\n",
    "\n",
    "plt.tight_layout()\n",
    "plt.show()\n",
    "\n",
    "plt.subplot(2, 3, 3)\n",
    "plt.hist(train_df['total_final_concentration'], bins=40, color='purple', alpha=0.7)\n",
    "plt.title('Final Concentrate')\n",
    "plt.xlabel('Concentration')\n",
    "\n",
    "plt.show()"
   ]
  },
  {
   "cell_type": "markdown",
   "metadata": {},
   "source": [
    "During various stages of metal processsing, we analyzed the total concentrations of Gold (au), Silver (ag) and Lead (pb). When searching for concentrations of 0 I fould 4 that fell below the threshold of .1 which are anomalies. It is hihgly unusual for metals to be near 0 during any part of the process. During the rougher concentrate stage, concentrations were more tightly spread compared to other stages. The final concentrate stage showes outliers that could affect model performance."
   ]
  },
  {
   "cell_type": "markdown",
   "metadata": {},
   "source": [
    "<div class=\"alert alert-block alert-success\">\n",
    "<b>Reviewer's comment V1</b> <a class=\"tocSkip\"></a>\n",
    "\n",
    "Excellent job!\n",
    "  \n",
    "</div>"
   ]
  },
  {
   "cell_type": "markdown",
   "metadata": {},
   "source": [
    "## Build the model"
   ]
  },
  {
   "cell_type": "markdown",
   "metadata": {},
   "source": [
    "### Function for sMAPE and Final sMAPE"
   ]
  },
  {
   "cell_type": "code",
   "execution_count": 32,
   "metadata": {},
   "outputs": [],
   "source": [
    "def smape(actual, predicted):\n",
    "    return 100* (1 / len(actual)) * np.sum(np.abs(actual - predicted) / ((np.abs(actual) + np.abs(predicted))/2))\n",
    "\n",
    "def final_smape(smape_rougher, smape_final):\n",
    "    return 0.25 * smape_rougher + 0.75 * smape_final"
   ]
  },
  {
   "cell_type": "markdown",
   "metadata": {},
   "source": [
    "#### features/target"
   ]
  },
  {
   "cell_type": "markdown",
   "metadata": {},
   "source": [
    "Found common columns between datasets. I trimmed the train dataset to what is in the test set and made the variables targets/features."
   ]
  },
  {
   "cell_type": "code",
   "execution_count": 33,
   "metadata": {},
   "outputs": [],
   "source": [
    "common = list(set(train_df.columns) & set(test_df.columns))\n",
    "train= train_df[[*common,'rougher.output.recovery', 'final.output.recovery']]\n",
    "\n",
    "target_rougher = train['rougher.output.recovery']\n",
    "target_final = train['final.output.recovery']\n",
    "features= train.drop(['rougher.output.recovery', 'final.output.recovery', 'date'], axis=1)"
   ]
  },
  {
   "cell_type": "code",
   "execution_count": 34,
   "metadata": {},
   "outputs": [
    {
     "data": {
      "text/plain": [
       "(14419, 55)"
      ]
     },
     "execution_count": 34,
     "metadata": {},
     "output_type": "execute_result"
    }
   ],
   "source": [
    "train.shape"
   ]
  },
  {
   "cell_type": "markdown",
   "metadata": {},
   "source": [
    "<div class=\"alert alert-block alert-danger\">\n",
    "<b>Reviewer's comment V1</b> <a class=\"tocSkip\"></a>\n",
    "\n",
    "If you train the model on the features which are missined in the test data, how can you apply the model to the test data? No way.\n",
    "  \n",
    "</div>"
   ]
  },
  {
   "cell_type": "markdown",
   "metadata": {},
   "source": [
    "<div class=\"alert alert-block alert-danger\">\n",
    "<b>Reviewer's comment V3</b> <a class=\"tocSkip\"></a>\n",
    "\n",
    "Not fixed. \n",
    "    \n",
    "\"In model training you can use only features which are represented in the initial test data. You can't use any other features because they won't be available in production. So, you need to remove some features from the train data.\" In the initial test data there are only 52 features. But you used 84 features to train the model.\n",
    "  \n",
    "</div>"
   ]
  },
  {
   "cell_type": "markdown",
   "metadata": {},
   "source": [
    "<div class=\"alert alert-block alert-success\">\n",
    "<b>Reviewer's comment V4</b> <a class=\"tocSkip\"></a>\n",
    "\n",
    "Correct\n",
    "  \n",
    "</div>"
   ]
  },
  {
   "cell_type": "markdown",
   "metadata": {},
   "source": [
    "### Train models"
   ]
  },
  {
   "cell_type": "markdown",
   "metadata": {},
   "source": [
    "### Random Forest Regressor"
   ]
  },
  {
   "cell_type": "code",
   "execution_count": 36,
   "metadata": {
    "scrolled": false
   },
   "outputs": [
    {
     "name": "stdout",
     "output_type": "stream",
     "text": [
      "Best Parameters: {'max_depth': 3, 'min_samples_leaf': 1, 'min_samples_split': 2, 'n_estimators': 10}\n",
      "Best final sMAPE: 8.65627841495798\n",
      "CPU times: user 9.79 s, sys: 0 ns, total: 9.79 s\n",
      "Wall time: 9.82 s\n"
     ]
    }
   ],
   "source": [
    "%%time\n",
    "def find_best_rf(features, target_rougher, target_final):\n",
    "    param_grid = {\n",
    "        'n_estimators': [10, 50,100],\n",
    "        'max_depth': [3, 4, 7],\n",
    "        'min_samples_split': [2,4,6],\n",
    "        'min_samples_leaf': [1, 3, 5]\n",
    "    }\n",
    "    \n",
    "    rf = RandomForestRegressor(random_state=12345)\n",
    "    best_final_smape = float('inf')\n",
    "    best_params = None\n",
    "    \n",
    "    for params in ParameterGrid(param_grid):\n",
    "        rf.set_params(**params)\n",
    "        \n",
    "        score_rougher = cross_val_score(rf, features, target_rougher, cv=5, scoring=make_scorer(smape, greater_is_better=False))\n",
    "        score_final = cross_val_score(rf, features, target_final, cv=5, scoring=make_scorer(smape, greater_is_better=False))       \n",
    "\n",
    "        final_smape_value = final_smape(-np.mean(score_rougher),-np.mean(score_final))\n",
    "\n",
    "        if final_smape_value < best_final_smape:\n",
    "                best_final_smape = final_smape_value\n",
    "                best_params = params\n",
    "        print(\"Best Parameters:\", best_params)\n",
    "        print(\"Best final sMAPE:\", best_final_smape)\n",
    "        \n",
    "        return best_params\n",
    "best_params = find_best_rf(features, target_rougher, target_final)"
   ]
  },
  {
   "cell_type": "markdown",
   "metadata": {},
   "source": [
    "### Decision Tree Regressor"
   ]
  },
  {
   "cell_type": "code",
   "execution_count": 37,
   "metadata": {},
   "outputs": [
    {
     "name": "stdout",
     "output_type": "stream",
     "text": [
      "Best Parameters: {'max_depth': 3, 'min_samples_leaf': 5, 'min_samples_split': 2}\n",
      "Best final sMAPE: 8.73221907529696\n",
      "CPU times: user 1min 48s, sys: 2.05 ms, total: 1min 48s\n",
      "Wall time: 1min 48s\n"
     ]
    }
   ],
   "source": [
    "%%time\n",
    "def find_best_dt(features, target_rougher, target_final):\n",
    "    param_grid = {\n",
    "        'max_depth': [3, 5, 7, 10],\n",
    "        'min_samples_split': [2, 5, 10],\n",
    "        'min_samples_leaf': [1, 5, 10]\n",
    "    }\n",
    "\n",
    "    dt = DecisionTreeRegressor(random_state=12345)\n",
    "\n",
    "    best_final_smape = float('inf')\n",
    "    best_params = None\n",
    "\n",
    "    for params in ParameterGrid(param_grid):\n",
    "        dt.set_params(**params)\n",
    "\n",
    "        score_rougher = cross_val_score(dt, features, target_rougher, cv=5, scoring=make_scorer(smape, greater_is_better=False))\n",
    "        score_final = cross_val_score(dt, features, target_final, cv=5, scoring=make_scorer(smape, greater_is_better=False))\n",
    "\n",
    "        final_smape_value = final_smape(-np.mean(score_rougher),-np.mean(score_final))\n",
    "\n",
    "        if final_smape_value < best_final_smape:\n",
    "            best_final_smape = final_smape_value\n",
    "            best_params = params\n",
    "\n",
    "    print(\"Best Parameters:\", best_params)\n",
    "    print(\"Best final sMAPE:\", best_final_smape)\n",
    "\n",
    "    return best_params\n",
    "\n",
    "best_params = find_best_dt(features, target_rougher, target_final)"
   ]
  },
  {
   "cell_type": "markdown",
   "metadata": {},
   "source": [
    "When checking at the diffrent models, I chose to use the RandomForestRegressor and DecisionTreeRegressor. Random Forest Regressor came in first with a 8.65 sMAPE score. The model with the second best sMAPE score was Decision Tree Regressor coming in at 8.73 for its sMAPE score. Of the models, Random Forest Regressor has the better sMAPE score after using cross validation and sMAPE as the scorer. "
   ]
  },
  {
   "cell_type": "markdown",
   "metadata": {},
   "source": [
    "### Final Model"
   ]
  },
  {
   "cell_type": "markdown",
   "metadata": {},
   "source": [
    "Found common columns between datasets and preprocessed the data."
   ]
  },
  {
   "cell_type": "code",
   "execution_count": 35,
   "metadata": {},
   "outputs": [
    {
     "data": {
      "text/plain": [
       "(5856, 55)"
      ]
     },
     "execution_count": 35,
     "metadata": {},
     "output_type": "execute_result"
    }
   ],
   "source": [
    "x= test_df.merge(full_df[['date','rougher.output.recovery', 'final.output.recovery']],how='left',on='date')\n",
    "x = x.replace([np.inf, -np.inf], np.nan)\n",
    "test= preprocessing(x)\n",
    "test.shape"
   ]
  },
  {
   "cell_type": "markdown",
   "metadata": {},
   "source": [
    "<div class=\"alert alert-block alert-danger\">\n",
    "<b>Reviewer's comment V4</b> <a class=\"tocSkip\"></a>\n",
    "\n",
    "That's not correct. Test dataset and full dataset are not the same. You should use the test data from the corresponding file. Previously I explained how you should deal with it: \"You need to calculate metrics on the test data for the best model. You already have a test data from the corresponding file. To calculate metrics you need to know targets, right? You can find targets for the test data in the full data. You can use method merge and column date to extract these targets.\"\n",
    "  \n",
    "</div>"
   ]
  },
  {
   "cell_type": "markdown",
   "metadata": {},
   "source": [
    "<div class=\"alert alert-block alert-success\">\n",
    "<b>Reviewer's comment V5</b> <a class=\"tocSkip\"></a>\n",
    "\n",
    "Correct. Good job!\n",
    "  \n",
    "</div>"
   ]
  },
  {
   "cell_type": "markdown",
   "metadata": {},
   "source": [
    "Found features/targets for test set."
   ]
  },
  {
   "cell_type": "code",
   "execution_count": 36,
   "metadata": {},
   "outputs": [],
   "source": [
    "test_rougher= test['rougher.output.recovery']\n",
    "test_final= test['final.output.recovery']\n",
    "test_features= test.drop(['date','rougher.output.recovery','final.output.recovery'], axis=1)"
   ]
  },
  {
   "cell_type": "markdown",
   "metadata": {},
   "source": [
    "<div class=\"alert alert-block alert-danger\">\n",
    "<b>Reviewer's comment V4</b> <a class=\"tocSkip\"></a>\n",
    "\n",
    "That's not correct. Also it doesn't make sense because you have targets for the train data in the variables target_rougher and target_final.\n",
    "\n",
    "Each time if you need to cut targets to suit them to features, it means you have a mistake somewhere. So, please, don't try to extract targets for test in such way. Use method merge as I explained above.\n",
    "  \n",
    "</div>"
   ]
  },
  {
   "cell_type": "markdown",
   "metadata": {},
   "source": [
    "<div class=\"alert alert-block alert-success\">\n",
    "<b>Reviewer's comment V5</b> <a class=\"tocSkip\"></a>\n",
    "\n",
    "Correct\n",
    "  \n",
    "</div>"
   ]
  },
  {
   "cell_type": "markdown",
   "metadata": {},
   "source": [
    "<div class=\"alert alert-block alert-danger\">\n",
    "<b>Reviewer's comment V1</b> <a class=\"tocSkip\"></a>\n",
    "\n",
    "You can't create your own train and test data. You need to use train and test data from the corresponding files. \n",
    "  \n",
    "</div>"
   ]
  },
  {
   "cell_type": "markdown",
   "metadata": {},
   "source": [
    "<div class=\"alert alert-block alert-danger\">\n",
    "<b>Reviewer's comment V3</b> <a class=\"tocSkip\"></a>\n",
    "\n",
    "As I wrote previously, to train the model you can use only features which are represented in the __initial__ test data. These are only 52 features. It means you can't extract more features from the full data. From the full data you need to extract only targets and nothing else.\n",
    "  \n",
    "</div>"
   ]
  },
  {
   "cell_type": "code",
   "execution_count": 39,
   "metadata": {
    "scrolled": true
   },
   "outputs": [
    {
     "name": "stdout",
     "output_type": "stream",
     "text": [
      "Test rougher sMAPE: 26.740789106416592\n",
      "Test final sMAPE: 30.754922247855898\n",
      "Final sMAPE: 29.751388962496073\n",
      "CPU times: user 2.5 s, sys: 0 ns, total: 2.5 s\n",
      "Wall time: 2.5 s\n"
     ]
    }
   ],
   "source": [
    "%%time\n",
    "final_model= RandomForestRegressor(random_state=12345, max_depth=3, min_samples_leaf=1, min_samples_split=2, n_estimators= 10)\n",
    "final_model.fit(features, target_rougher)\n",
    "pred_r= final_model.predict(test_features)\n",
    "xr= smape(test_rougher,pred_r)\n",
    "print('Test rougher sMAPE:',xr)\n",
    "final_model.fit(features, target_final)\n",
    "pred_f= final_model.predict(test_features)\n",
    "xf= smape(test_final,pred_f)\n",
    "print('Test final sMAPE:',xf)\n",
    "score=final_smape(xr,xf)\n",
    "print('Final sMAPE:',score)"
   ]
  },
  {
   "cell_type": "markdown",
   "metadata": {},
   "source": [
    "Used the best hyperparameters from the training set to make a final model. For the test set I fit it with the training set and make predictuiions based on the test features. The final sMAPE for the final model ended up being 12.83 which I will check against a constant value below."
   ]
  },
  {
   "cell_type": "markdown",
   "metadata": {},
   "source": [
    "<div class=\"alert alert-block alert-danger\">\n",
    "<b>Reviewer's comment V3</b> <a class=\"tocSkip\"></a>\n",
    "\n",
    "You trained the model on the test data. Can we train any model on the test data? Of course, no.\n",
    "  \n",
    "</div>"
   ]
  },
  {
   "cell_type": "markdown",
   "metadata": {},
   "source": [
    "<div class=\"alert alert-block alert-danger\">\n",
    "<b>Reviewer's comment V4</b> <a class=\"tocSkip\"></a>\n",
    "\n",
    "1. test_rougher and test_final are not test targets. These are targets for train.\n",
    "2. You don't need to use cross_val_score here. You need to train the model on the train data, make predictions for the test data and calculate smape.\n",
    "    \n",
    "</div>"
   ]
  },
  {
   "cell_type": "markdown",
   "metadata": {},
   "source": [
    "<div class=\"alert alert-block alert-success\">\n",
    "<b>Reviewer's comment V5</b> <a class=\"tocSkip\"></a>\n",
    "\n",
    "Correct. Well done!\n",
    "  \n",
    "</div>"
   ]
  },
  {
   "cell_type": "markdown",
   "metadata": {},
   "source": [
    "## Sanity Check"
   ]
  },
  {
   "cell_type": "code",
   "execution_count": 38,
   "metadata": {},
   "outputs": [
    {
     "name": "stdout",
     "output_type": "stream",
     "text": [
      "Final sMAPE for best constant model: 9.440794704740707\n",
      "\n",
      "Best model is not better than the best constant model.\n"
     ]
    }
   ],
   "source": [
    "best_constant_rougher = np.mean(target_rougher)\n",
    "best_constant_final = np.mean(target_final)\n",
    "\n",
    "smape_constant_rougher = smape(target_rougher, best_constant_rougher)\n",
    "smape_constant_final = smape(target_final, best_constant_final)\n",
    "\n",
    "smape_constant = final_smape(smape_constant_rougher, smape_constant_final)\n",
    "\n",
    "print(\"Final sMAPE for best constant model:\", smape_constant)\n",
    "print()\n",
    "if score < smape_constant:\n",
    "    print(\"Best model is better than the best constant model.\")\n",
    "else:\n",
    "    print(\"Best model is not better than the best constant model.\")"
   ]
  },
  {
   "cell_type": "markdown",
   "metadata": {},
   "source": [
    "<div class=\"alert alert-block alert-danger\">\n",
    "<b>Reviewer's comment V3</b> <a class=\"tocSkip\"></a>\n",
    "    \n",
    "You used metrics from different dataparts. For constant model you used metric on train. For ML model you used metric on cross validation. How is it possible to compare model qualities on different dataparts? No way. You need to compare constant model and ML model by the quality on the test data.\n",
    "  \n",
    "</div>"
   ]
  },
  {
   "cell_type": "markdown",
   "metadata": {},
   "source": [
    "<div class=\"alert alert-block alert-danger\">\n",
    "<b>Reviewer's comment V1</b> <a class=\"tocSkip\"></a>\n",
    "\n",
    "1. In model training you can use only features which are represented in the initial test data. You can't use any other features because they won't be available in production. So, you need to remove some features from the train data.\n",
    "2. You need to calculate metrics on the test data for the best model. You already have a test data from the corresponding file. To calculate metrics you need to know targets, right? You can find targets for the test data in the full data. You can use method merge and column date to extract these targets.\n",
    "3. You need to do sanity check. In other words, you need to compare the quality of your best model on test with the quality of the best constant model.\n",
    "  \n",
    "</div>"
   ]
  },
  {
   "cell_type": "markdown",
   "metadata": {},
   "source": [
    "<div class=\"alert alert-block alert-danger\">\n",
    "<b>Reviewer's comment V2</b> <a class=\"tocSkip\"></a>\n",
    "\n",
    "Points 1 and 2 are not fixed: \n",
    "    \n",
    "1. \"In model training you can use only features which are represented in the initial test data. You can't use any other features because they won't be available in production. So, you need to remove some features from the train data.\" In the initial test data there are only 52 features. But you used 84 features to train the model.\n",
    "2. \"You need to calculate metrics on the test data for the best model. You already have a test data from the corresponding file. To calculate metrics you need to know targets, right? You can find targets for the test data in the full data. You can use method merge and column date to extract these targets.\" You can't create your own test data as you did. You should use a given test data.\n",
    "3. You need to do sanity check and compare the results with the best model on the given test data.\n",
    "4. Such code `smape(target_rougher_val, pred_rougher[:len(target_rougher_val)])` can't be valid. If you have different lengths for targets and predictions it means you have a mistake somewhere. And you can't solve this mistake by cutting predictions because you can't be sure that these predictions are matched the targets.\n",
    "5. If you use GridSearchCV and cross_val_score function, it's completely not necessary to split the data into parts because cross validation is built in these methods. So, you can remove train_test_split function from your project at all because you already have train and test data from corresponding files.\n",
    "  \n",
    "</div>\n",
    "\n",
    "<div class=\"alert alert-info\">\n",
    "  Thank you so much for your feedbacks. I realised I went about the models the wrong way the first time around so I refactored it and hope its correct this time.\n",
    "</div>"
   ]
  },
  {
   "cell_type": "markdown",
   "metadata": {},
   "source": [
    "<div class=\"alert alert-block alert-danger\">\n",
    "<b>Reviewer's comment V3</b> <a class=\"tocSkip\"></a>\n",
    "\n",
    "It looks much better. Good job! But there are still several mistakes you need to fix. You can find my comments above.\n",
    "  \n",
    "</div>"
   ]
  },
  {
   "cell_type": "markdown",
   "metadata": {},
   "source": [
    "<div class=\"alert alert-block alert-danger\">\n",
    "<b>Reviewer's comment V4</b> <a class=\"tocSkip\"></a>\n",
    "\n",
    "Don't forget if you can't deal with your mistakes by yourself, you can always ask your tutor to help you.\n",
    "  \n",
    "</div>"
   ]
  },
  {
   "cell_type": "markdown",
   "metadata": {},
   "source": [
    "<div class=\"alert alert-info\">\n",
    "  Thank you so much. I talked with a tutor for help, I hope its correct this time around.\n",
    "</div>"
   ]
  },
  {
   "cell_type": "markdown",
   "metadata": {},
   "source": [
    "<div class=\"alert alert-block alert-warning\">\n",
    "<b>Reviewer's comment V5</b> <a class=\"tocSkip\"></a>\n",
    "\n",
    "Everything is almost correct now. You have only two small issues:\n",
    "    \n",
    "1. The constant for the constant predictions should be calculated on the train data but not on the test. If you calculate it on test, it may cause overfitting.\n",
    "2. The quality of your best ML model should be always better than the quality of the constant model. Otherwise, your ML model is absolutely useless.\n",
    "  \n",
    "</div>"
   ]
  },
  {
   "cell_type": "markdown",
   "metadata": {},
   "source": [
    "##  Conclusion"
   ]
  },
  {
   "cell_type": "markdown",
   "metadata": {},
   "source": [
    "The Gold (au) has the highest concetrate in all the stages compare to Silver (ag) mineral and Pb Lead (pb), with it going in as 7.17 faw feed to 39.46 at the final stage. Silver (ag) however, starts off at 7.83 in its raw form and increases concentration to 10.58 when put through the rougher but drops down after cleaning to 4.71 as its final concentraion. \n",
    "\n",
    "After assessing diffrent models and testing them with the test set, it was found that Random Forest Regressor was the best model (after hyperparameter tuneing) coming in at 8.65 sMAPE (Symmetric Mean Absolute Percentage Error).\n",
    "\n",
    "When testing the model with the test set, the final sMAPE score was 12.83 using the same hyperparameters as the best model from the training set. Doing a sanity check it is found that the best model is not better than the constant model which came in at 9.37 for its final sMAPE score."
   ]
  },
  {
   "cell_type": "code",
   "execution_count": null,
   "metadata": {},
   "outputs": [],
   "source": []
  }
 ],
 "metadata": {
  "ExecuteTimeLog": [
   {
    "duration": 8,
    "start_time": "2024-12-14T09:22:32.315Z"
   },
   {
    "duration": 5,
    "start_time": "2024-12-14T09:33:30.311Z"
   },
   {
    "duration": 2568,
    "start_time": "2024-12-14T17:15:19.826Z"
   },
   {
    "duration": 3807,
    "start_time": "2024-12-14T17:15:22.396Z"
   },
   {
    "duration": 11,
    "start_time": "2024-12-14T17:15:26.205Z"
   },
   {
    "duration": 12,
    "start_time": "2024-12-14T17:15:26.218Z"
   },
   {
    "duration": 5,
    "start_time": "2024-12-14T17:15:26.233Z"
   },
   {
    "duration": 3,
    "start_time": "2024-12-14T17:15:26.239Z"
   },
   {
    "duration": 27,
    "start_time": "2024-12-14T17:15:26.243Z"
   },
   {
    "duration": 10,
    "start_time": "2024-12-14T17:15:26.271Z"
   },
   {
    "duration": 4,
    "start_time": "2024-12-14T17:15:26.283Z"
   },
   {
    "duration": 3,
    "start_time": "2024-12-14T17:15:26.288Z"
   },
   {
    "duration": 8,
    "start_time": "2024-12-14T17:15:26.293Z"
   },
   {
    "duration": 12,
    "start_time": "2024-12-14T17:15:26.303Z"
   },
   {
    "duration": 7,
    "start_time": "2024-12-14T17:15:26.317Z"
   },
   {
    "duration": 3,
    "start_time": "2024-12-14T17:15:26.370Z"
   },
   {
    "duration": 28,
    "start_time": "2024-12-14T17:15:26.374Z"
   },
   {
    "duration": 9,
    "start_time": "2024-12-14T17:15:26.404Z"
   },
   {
    "duration": 7,
    "start_time": "2024-12-14T17:15:26.414Z"
   },
   {
    "duration": 5,
    "start_time": "2024-12-14T17:15:26.422Z"
   },
   {
    "duration": 242,
    "start_time": "2024-12-14T17:15:26.428Z"
   },
   {
    "duration": 9,
    "start_time": "2024-12-14T17:15:26.671Z"
   },
   {
    "duration": 317,
    "start_time": "2024-12-14T17:15:26.683Z"
   },
   {
    "duration": 353,
    "start_time": "2024-12-14T17:15:27.002Z"
   },
   {
    "duration": 293,
    "start_time": "2024-12-14T17:15:27.358Z"
   },
   {
    "duration": 17,
    "start_time": "2024-12-14T17:15:27.653Z"
   },
   {
    "duration": 6,
    "start_time": "2024-12-14T17:15:27.671Z"
   },
   {
    "duration": 336,
    "start_time": "2024-12-14T17:15:27.678Z"
   },
   {
    "duration": 8,
    "start_time": "2024-12-14T17:15:28.016Z"
   },
   {
    "duration": 16,
    "start_time": "2024-12-14T17:15:28.025Z"
   },
   {
    "duration": 4,
    "start_time": "2024-12-14T17:15:28.042Z"
   },
   {
    "duration": 17,
    "start_time": "2024-12-14T17:15:28.070Z"
   },
   {
    "duration": 619,
    "start_time": "2024-12-14T17:15:28.089Z"
   },
   {
    "duration": 4,
    "start_time": "2024-12-14T17:15:28.710Z"
   },
   {
    "duration": 233,
    "start_time": "2024-12-14T17:16:21.417Z"
   },
   {
    "duration": 4,
    "start_time": "2024-12-14T17:17:24.503Z"
   },
   {
    "duration": 10,
    "start_time": "2024-12-14T17:17:28.338Z"
   },
   {
    "duration": 3,
    "start_time": "2024-12-14T17:17:31.246Z"
   },
   {
    "duration": 165,
    "start_time": "2024-12-14T17:17:35.012Z"
   },
   {
    "duration": 143009,
    "start_time": "2024-12-14T17:17:42.677Z"
   },
   {
    "duration": 1461,
    "start_time": "2024-12-14T17:20:25.060Z"
   },
   {
    "duration": 1460,
    "start_time": "2024-12-14T17:20:53.167Z"
   },
   {
    "duration": 5,
    "start_time": "2024-12-14T17:20:58.649Z"
   },
   {
    "duration": 1457,
    "start_time": "2024-12-14T17:21:02.999Z"
   },
   {
    "duration": 1460,
    "start_time": "2024-12-14T17:21:10.769Z"
   },
   {
    "duration": 905,
    "start_time": "2024-12-14T17:21:53.758Z"
   },
   {
    "duration": 3954,
    "start_time": "2024-12-14T17:21:54.665Z"
   },
   {
    "duration": 12,
    "start_time": "2024-12-14T17:21:58.621Z"
   },
   {
    "duration": 72,
    "start_time": "2024-12-14T17:21:58.635Z"
   },
   {
    "duration": 6,
    "start_time": "2024-12-14T17:21:58.709Z"
   },
   {
    "duration": 5,
    "start_time": "2024-12-14T17:21:58.718Z"
   },
   {
    "duration": 12,
    "start_time": "2024-12-14T17:21:58.724Z"
   },
   {
    "duration": 39,
    "start_time": "2024-12-14T17:21:58.738Z"
   },
   {
    "duration": 4,
    "start_time": "2024-12-14T17:21:58.780Z"
   },
   {
    "duration": 2,
    "start_time": "2024-12-14T17:21:58.788Z"
   },
   {
    "duration": 9,
    "start_time": "2024-12-14T17:21:58.792Z"
   },
   {
    "duration": 15,
    "start_time": "2024-12-14T17:21:58.803Z"
   },
   {
    "duration": 6,
    "start_time": "2024-12-14T17:21:58.819Z"
   },
   {
    "duration": 3,
    "start_time": "2024-12-14T17:21:58.827Z"
   },
   {
    "duration": 46,
    "start_time": "2024-12-14T17:21:58.831Z"
   },
   {
    "duration": 9,
    "start_time": "2024-12-14T17:21:58.879Z"
   },
   {
    "duration": 6,
    "start_time": "2024-12-14T17:21:58.890Z"
   },
   {
    "duration": 5,
    "start_time": "2024-12-14T17:21:58.897Z"
   },
   {
    "duration": 241,
    "start_time": "2024-12-14T17:21:58.903Z"
   },
   {
    "duration": 8,
    "start_time": "2024-12-14T17:21:59.146Z"
   },
   {
    "duration": 300,
    "start_time": "2024-12-14T17:21:59.155Z"
   },
   {
    "duration": 283,
    "start_time": "2024-12-14T17:21:59.458Z"
   },
   {
    "duration": 302,
    "start_time": "2024-12-14T17:21:59.743Z"
   },
   {
    "duration": 7,
    "start_time": "2024-12-14T17:22:00.047Z"
   },
   {
    "duration": 18,
    "start_time": "2024-12-14T17:22:00.056Z"
   },
   {
    "duration": 397,
    "start_time": "2024-12-14T17:22:00.075Z"
   },
   {
    "duration": 8,
    "start_time": "2024-12-14T17:22:00.473Z"
   },
   {
    "duration": 14,
    "start_time": "2024-12-14T17:22:00.485Z"
   },
   {
    "duration": 4,
    "start_time": "2024-12-14T17:22:00.500Z"
   },
   {
    "duration": 18,
    "start_time": "2024-12-14T17:22:00.506Z"
   },
   {
    "duration": 561,
    "start_time": "2024-12-14T17:22:00.525Z"
   },
   {
    "duration": 3,
    "start_time": "2024-12-14T17:22:01.087Z"
   },
   {
    "duration": 4,
    "start_time": "2024-12-14T17:22:01.092Z"
   },
   {
    "duration": 10,
    "start_time": "2024-12-14T17:22:01.098Z"
   },
   {
    "duration": 3,
    "start_time": "2024-12-14T17:22:01.109Z"
   },
   {
    "duration": 261,
    "start_time": "2024-12-14T17:22:01.114Z"
   },
   {
    "duration": 3,
    "start_time": "2024-12-14T17:22:01.377Z"
   },
   {
    "duration": 2076499,
    "start_time": "2024-12-14T17:22:01.382Z"
   },
   {
    "duration": 34377,
    "start_time": "2024-12-14T17:56:37.883Z"
   },
   {
    "duration": 143183,
    "start_time": "2024-12-14T17:57:12.261Z"
   },
   {
    "duration": 1474,
    "start_time": "2024-12-14T17:59:35.445Z"
   },
   {
    "duration": 2,
    "start_time": "2024-12-14T17:59:36.921Z"
   },
   {
    "duration": 1347,
    "start_time": "2024-12-14T17:59:36.925Z"
   },
   {
    "duration": 134282,
    "start_time": "2024-12-14T17:59:38.274Z"
   },
   {
    "duration": 7414,
    "start_time": "2024-12-14T18:01:52.557Z"
   },
   {
    "duration": 4,
    "start_time": "2024-12-14T18:01:59.973Z"
   },
   {
    "duration": 47733,
    "start_time": "2024-12-14T18:01:59.978Z"
   },
   {
    "duration": 78,
    "start_time": "2024-12-14T18:02:47.713Z"
   },
   {
    "duration": 7810,
    "start_time": "2024-12-14T18:02:47.795Z"
   },
   {
    "duration": 4,
    "start_time": "2024-12-14T22:22:46.858Z"
   },
   {
    "duration": 5,
    "start_time": "2024-12-14T22:26:59.104Z"
   },
   {
    "duration": 4,
    "start_time": "2024-12-15T00:05:18.165Z"
   },
   {
    "duration": 632,
    "start_time": "2024-12-15T00:06:28.792Z"
   },
   {
    "duration": 930,
    "start_time": "2024-12-15T00:07:37.688Z"
   },
   {
    "duration": 4312,
    "start_time": "2024-12-15T00:07:38.620Z"
   },
   {
    "duration": 11,
    "start_time": "2024-12-15T00:07:42.933Z"
   },
   {
    "duration": 70,
    "start_time": "2024-12-15T00:07:42.946Z"
   },
   {
    "duration": 6,
    "start_time": "2024-12-15T00:07:43.018Z"
   },
   {
    "duration": 3,
    "start_time": "2024-12-15T00:07:43.026Z"
   },
   {
    "duration": 9,
    "start_time": "2024-12-15T00:07:43.031Z"
   },
   {
    "duration": 31,
    "start_time": "2024-12-15T00:07:43.041Z"
   },
   {
    "duration": 4,
    "start_time": "2024-12-15T00:07:43.074Z"
   },
   {
    "duration": 5,
    "start_time": "2024-12-15T00:07:43.080Z"
   },
   {
    "duration": 11,
    "start_time": "2024-12-15T00:07:43.088Z"
   },
   {
    "duration": 17,
    "start_time": "2024-12-15T00:07:43.101Z"
   },
   {
    "duration": 6,
    "start_time": "2024-12-15T00:07:43.120Z"
   },
   {
    "duration": 3,
    "start_time": "2024-12-15T00:07:43.129Z"
   },
   {
    "duration": 48,
    "start_time": "2024-12-15T00:07:43.134Z"
   },
   {
    "duration": 9,
    "start_time": "2024-12-15T00:07:43.184Z"
   },
   {
    "duration": 6,
    "start_time": "2024-12-15T00:07:43.195Z"
   },
   {
    "duration": 5,
    "start_time": "2024-12-15T00:07:43.203Z"
   },
   {
    "duration": 242,
    "start_time": "2024-12-15T00:07:43.210Z"
   },
   {
    "duration": 7,
    "start_time": "2024-12-15T00:07:43.454Z"
   },
   {
    "duration": 294,
    "start_time": "2024-12-15T00:07:43.470Z"
   },
   {
    "duration": 289,
    "start_time": "2024-12-15T00:07:43.770Z"
   },
   {
    "duration": 315,
    "start_time": "2024-12-15T00:07:44.061Z"
   },
   {
    "duration": 6,
    "start_time": "2024-12-15T00:07:44.378Z"
   },
   {
    "duration": 6,
    "start_time": "2024-12-15T00:07:44.386Z"
   },
   {
    "duration": 414,
    "start_time": "2024-12-15T00:07:44.393Z"
   },
   {
    "duration": 9,
    "start_time": "2024-12-15T00:07:44.808Z"
   },
   {
    "duration": 14,
    "start_time": "2024-12-15T00:07:44.818Z"
   },
   {
    "duration": 3,
    "start_time": "2024-12-15T00:07:44.834Z"
   },
   {
    "duration": 47,
    "start_time": "2024-12-15T00:07:44.839Z"
   },
   {
    "duration": 552,
    "start_time": "2024-12-15T00:07:44.888Z"
   },
   {
    "duration": 3,
    "start_time": "2024-12-15T00:07:49.871Z"
   },
   {
    "duration": 4,
    "start_time": "2024-12-15T00:07:52.533Z"
   },
   {
    "duration": 11,
    "start_time": "2024-12-15T00:07:56.607Z"
   },
   {
    "duration": 3,
    "start_time": "2024-12-15T00:07:59.025Z"
   },
   {
    "duration": 4,
    "start_time": "2024-12-15T00:08:06.081Z"
   },
   {
    "duration": 47874,
    "start_time": "2024-12-15T00:08:08.441Z"
   },
   {
    "duration": 560,
    "start_time": "2024-12-15T00:09:10.777Z"
   },
   {
    "duration": 153,
    "start_time": "2024-12-15T00:11:18.618Z"
   },
   {
    "duration": 889,
    "start_time": "2024-12-15T00:12:00.522Z"
   },
   {
    "duration": 4084,
    "start_time": "2024-12-15T00:12:01.413Z"
   },
   {
    "duration": 12,
    "start_time": "2024-12-15T00:12:05.498Z"
   },
   {
    "duration": 67,
    "start_time": "2024-12-15T00:12:05.513Z"
   },
   {
    "duration": 6,
    "start_time": "2024-12-15T00:12:05.581Z"
   },
   {
    "duration": 3,
    "start_time": "2024-12-15T00:12:05.589Z"
   },
   {
    "duration": 8,
    "start_time": "2024-12-15T00:12:05.594Z"
   },
   {
    "duration": 20,
    "start_time": "2024-12-15T00:12:05.603Z"
   },
   {
    "duration": 5,
    "start_time": "2024-12-15T00:12:05.625Z"
   },
   {
    "duration": 3,
    "start_time": "2024-12-15T00:12:05.634Z"
   },
   {
    "duration": 40,
    "start_time": "2024-12-15T00:12:05.638Z"
   },
   {
    "duration": 13,
    "start_time": "2024-12-15T00:12:05.680Z"
   },
   {
    "duration": 6,
    "start_time": "2024-12-15T00:12:05.694Z"
   },
   {
    "duration": 2,
    "start_time": "2024-12-15T00:12:05.703Z"
   },
   {
    "duration": 15,
    "start_time": "2024-12-15T00:12:05.706Z"
   },
   {
    "duration": 8,
    "start_time": "2024-12-15T00:12:05.723Z"
   },
   {
    "duration": 43,
    "start_time": "2024-12-15T00:12:05.733Z"
   },
   {
    "duration": 4,
    "start_time": "2024-12-15T00:12:05.778Z"
   },
   {
    "duration": 232,
    "start_time": "2024-12-15T00:12:05.784Z"
   },
   {
    "duration": 9,
    "start_time": "2024-12-15T00:12:06.018Z"
   },
   {
    "duration": 300,
    "start_time": "2024-12-15T00:12:06.029Z"
   },
   {
    "duration": 314,
    "start_time": "2024-12-15T00:12:06.333Z"
   },
   {
    "duration": 309,
    "start_time": "2024-12-15T00:12:06.649Z"
   },
   {
    "duration": 16,
    "start_time": "2024-12-15T00:12:06.960Z"
   },
   {
    "duration": 7,
    "start_time": "2024-12-15T00:12:06.978Z"
   },
   {
    "duration": 429,
    "start_time": "2024-12-15T00:12:06.986Z"
   },
   {
    "duration": 9,
    "start_time": "2024-12-15T00:12:07.417Z"
   },
   {
    "duration": 17,
    "start_time": "2024-12-15T00:12:07.431Z"
   },
   {
    "duration": 21,
    "start_time": "2024-12-15T00:12:07.451Z"
   },
   {
    "duration": 18,
    "start_time": "2024-12-15T00:12:07.473Z"
   },
   {
    "duration": 570,
    "start_time": "2024-12-15T00:12:07.493Z"
   },
   {
    "duration": 3,
    "start_time": "2024-12-15T00:12:08.069Z"
   },
   {
    "duration": 4,
    "start_time": "2024-12-15T00:12:08.074Z"
   },
   {
    "duration": 9,
    "start_time": "2024-12-15T00:12:08.080Z"
   },
   {
    "duration": 3,
    "start_time": "2024-12-15T00:12:08.091Z"
   },
   {
    "duration": 4,
    "start_time": "2024-12-15T00:12:48.890Z"
   },
   {
    "duration": 896,
    "start_time": "2024-12-15T00:13:58.382Z"
   },
   {
    "duration": 3856,
    "start_time": "2024-12-15T00:13:59.280Z"
   },
   {
    "duration": 10,
    "start_time": "2024-12-15T00:14:03.138Z"
   },
   {
    "duration": 67,
    "start_time": "2024-12-15T00:14:03.151Z"
   },
   {
    "duration": 6,
    "start_time": "2024-12-15T00:14:03.220Z"
   },
   {
    "duration": 3,
    "start_time": "2024-12-15T00:14:03.227Z"
   },
   {
    "duration": 9,
    "start_time": "2024-12-15T00:14:03.232Z"
   },
   {
    "duration": 35,
    "start_time": "2024-12-15T00:14:03.242Z"
   },
   {
    "duration": 4,
    "start_time": "2024-12-15T00:14:03.279Z"
   },
   {
    "duration": 3,
    "start_time": "2024-12-15T00:14:03.286Z"
   },
   {
    "duration": 9,
    "start_time": "2024-12-15T00:14:03.290Z"
   },
   {
    "duration": 13,
    "start_time": "2024-12-15T00:14:03.300Z"
   },
   {
    "duration": 6,
    "start_time": "2024-12-15T00:14:03.315Z"
   },
   {
    "duration": 3,
    "start_time": "2024-12-15T00:14:03.322Z"
   },
   {
    "duration": 55,
    "start_time": "2024-12-15T00:14:03.326Z"
   },
   {
    "duration": 8,
    "start_time": "2024-12-15T00:14:03.383Z"
   },
   {
    "duration": 7,
    "start_time": "2024-12-15T00:14:03.393Z"
   },
   {
    "duration": 4,
    "start_time": "2024-12-15T00:14:03.401Z"
   },
   {
    "duration": 237,
    "start_time": "2024-12-15T00:14:03.407Z"
   },
   {
    "duration": 8,
    "start_time": "2024-12-15T00:14:03.646Z"
   },
   {
    "duration": 306,
    "start_time": "2024-12-15T00:14:03.655Z"
   },
   {
    "duration": 283,
    "start_time": "2024-12-15T00:14:03.970Z"
   },
   {
    "duration": 297,
    "start_time": "2024-12-15T00:14:04.255Z"
   },
   {
    "duration": 6,
    "start_time": "2024-12-15T00:14:04.554Z"
   },
   {
    "duration": 15,
    "start_time": "2024-12-15T00:14:04.561Z"
   },
   {
    "duration": 403,
    "start_time": "2024-12-15T00:14:04.578Z"
   },
   {
    "duration": 8,
    "start_time": "2024-12-15T00:14:04.984Z"
   },
   {
    "duration": 14,
    "start_time": "2024-12-15T00:14:04.995Z"
   },
   {
    "duration": 3,
    "start_time": "2024-12-15T00:14:05.011Z"
   },
   {
    "duration": 17,
    "start_time": "2024-12-15T00:14:05.016Z"
   },
   {
    "duration": 528,
    "start_time": "2024-12-15T00:14:05.034Z"
   },
   {
    "duration": 3,
    "start_time": "2024-12-15T00:14:05.570Z"
   },
   {
    "duration": 6,
    "start_time": "2024-12-15T00:14:05.574Z"
   },
   {
    "duration": 9,
    "start_time": "2024-12-15T00:14:05.582Z"
   },
   {
    "duration": 4,
    "start_time": "2024-12-15T00:14:05.593Z"
   },
   {
    "duration": 4,
    "start_time": "2024-12-15T00:14:26.069Z"
   },
   {
    "duration": 937,
    "start_time": "2024-12-15T00:15:21.806Z"
   },
   {
    "duration": 3720,
    "start_time": "2024-12-15T00:15:22.744Z"
   },
   {
    "duration": 12,
    "start_time": "2024-12-15T00:15:26.465Z"
   },
   {
    "duration": 63,
    "start_time": "2024-12-15T00:15:26.480Z"
   },
   {
    "duration": 24,
    "start_time": "2024-12-15T00:15:26.546Z"
   },
   {
    "duration": 3,
    "start_time": "2024-12-15T00:15:26.573Z"
   },
   {
    "duration": 10,
    "start_time": "2024-12-15T00:15:26.578Z"
   },
   {
    "duration": 10,
    "start_time": "2024-12-15T00:15:26.590Z"
   },
   {
    "duration": 4,
    "start_time": "2024-12-15T00:15:26.602Z"
   },
   {
    "duration": 2,
    "start_time": "2024-12-15T00:15:26.609Z"
   },
   {
    "duration": 8,
    "start_time": "2024-12-15T00:15:26.613Z"
   },
   {
    "duration": 50,
    "start_time": "2024-12-15T00:15:26.623Z"
   },
   {
    "duration": 8,
    "start_time": "2024-12-15T00:15:26.675Z"
   },
   {
    "duration": 4,
    "start_time": "2024-12-15T00:15:26.685Z"
   },
   {
    "duration": 15,
    "start_time": "2024-12-15T00:15:26.690Z"
   },
   {
    "duration": 9,
    "start_time": "2024-12-15T00:15:26.707Z"
   },
   {
    "duration": 7,
    "start_time": "2024-12-15T00:15:26.717Z"
   },
   {
    "duration": 5,
    "start_time": "2024-12-15T00:15:26.725Z"
   },
   {
    "duration": 243,
    "start_time": "2024-12-15T00:15:26.771Z"
   },
   {
    "duration": 8,
    "start_time": "2024-12-15T00:15:27.016Z"
   },
   {
    "duration": 310,
    "start_time": "2024-12-15T00:15:27.025Z"
   },
   {
    "duration": 289,
    "start_time": "2024-12-15T00:15:27.337Z"
   },
   {
    "duration": 304,
    "start_time": "2024-12-15T00:15:27.628Z"
   },
   {
    "duration": 8,
    "start_time": "2024-12-15T00:15:27.934Z"
   },
   {
    "duration": 7,
    "start_time": "2024-12-15T00:15:27.944Z"
   },
   {
    "duration": 422,
    "start_time": "2024-12-15T00:15:27.952Z"
   },
   {
    "duration": 8,
    "start_time": "2024-12-15T00:15:28.376Z"
   },
   {
    "duration": 14,
    "start_time": "2024-12-15T00:15:28.387Z"
   },
   {
    "duration": 4,
    "start_time": "2024-12-15T00:15:28.403Z"
   },
   {
    "duration": 17,
    "start_time": "2024-12-15T00:15:28.408Z"
   },
   {
    "duration": 545,
    "start_time": "2024-12-15T00:15:28.427Z"
   },
   {
    "duration": 3,
    "start_time": "2024-12-15T00:15:28.974Z"
   },
   {
    "duration": 4,
    "start_time": "2024-12-15T00:15:28.979Z"
   },
   {
    "duration": 9,
    "start_time": "2024-12-15T00:15:28.985Z"
   },
   {
    "duration": 3,
    "start_time": "2024-12-15T00:15:33.605Z"
   },
   {
    "duration": 47793,
    "start_time": "2024-12-15T00:15:39.612Z"
   },
   {
    "duration": 4,
    "start_time": "2024-12-15T00:16:36.384Z"
   },
   {
    "duration": 586,
    "start_time": "2024-12-15T00:16:39.471Z"
   },
   {
    "duration": 48406,
    "start_time": "2024-12-15T00:21:52.534Z"
   },
   {
    "duration": 881,
    "start_time": "2024-12-15T00:23:14.959Z"
   },
   {
    "duration": 3949,
    "start_time": "2024-12-15T00:23:15.842Z"
   },
   {
    "duration": 11,
    "start_time": "2024-12-15T00:23:19.793Z"
   },
   {
    "duration": 72,
    "start_time": "2024-12-15T00:23:19.806Z"
   },
   {
    "duration": 5,
    "start_time": "2024-12-15T00:23:19.881Z"
   },
   {
    "duration": 3,
    "start_time": "2024-12-15T00:23:19.888Z"
   },
   {
    "duration": 9,
    "start_time": "2024-12-15T00:23:19.893Z"
   },
   {
    "duration": 10,
    "start_time": "2024-12-15T00:23:19.903Z"
   },
   {
    "duration": 4,
    "start_time": "2024-12-15T00:23:19.914Z"
   },
   {
    "duration": 3,
    "start_time": "2024-12-15T00:23:19.922Z"
   },
   {
    "duration": 45,
    "start_time": "2024-12-15T00:23:19.926Z"
   },
   {
    "duration": 13,
    "start_time": "2024-12-15T00:23:19.972Z"
   },
   {
    "duration": 7,
    "start_time": "2024-12-15T00:23:19.986Z"
   },
   {
    "duration": 3,
    "start_time": "2024-12-15T00:23:19.994Z"
   },
   {
    "duration": 18,
    "start_time": "2024-12-15T00:23:19.998Z"
   },
   {
    "duration": 9,
    "start_time": "2024-12-15T00:23:20.018Z"
   },
   {
    "duration": 41,
    "start_time": "2024-12-15T00:23:20.029Z"
   },
   {
    "duration": 4,
    "start_time": "2024-12-15T00:23:20.072Z"
   },
   {
    "duration": 230,
    "start_time": "2024-12-15T00:23:20.078Z"
   },
   {
    "duration": 3,
    "start_time": "2024-12-15T00:23:35.484Z"
   },
   {
    "duration": 3651,
    "start_time": "2024-12-15T00:23:35.489Z"
   },
   {
    "duration": 8,
    "start_time": "2024-12-15T00:23:39.142Z"
   },
   {
    "duration": 20,
    "start_time": "2024-12-15T00:23:39.152Z"
   },
   {
    "duration": 6,
    "start_time": "2024-12-15T00:23:39.174Z"
   },
   {
    "duration": 3,
    "start_time": "2024-12-15T00:23:39.181Z"
   },
   {
    "duration": 9,
    "start_time": "2024-12-15T00:23:39.185Z"
   },
   {
    "duration": 10,
    "start_time": "2024-12-15T00:23:39.196Z"
   },
   {
    "duration": 4,
    "start_time": "2024-12-15T00:23:39.207Z"
   },
   {
    "duration": 3,
    "start_time": "2024-12-15T00:23:39.213Z"
   },
   {
    "duration": 8,
    "start_time": "2024-12-15T00:23:39.218Z"
   },
   {
    "duration": 54,
    "start_time": "2024-12-15T00:23:39.228Z"
   },
   {
    "duration": 7,
    "start_time": "2024-12-15T00:23:39.284Z"
   },
   {
    "duration": 3,
    "start_time": "2024-12-15T00:23:39.295Z"
   },
   {
    "duration": 14,
    "start_time": "2024-12-15T00:23:39.299Z"
   },
   {
    "duration": 9,
    "start_time": "2024-12-15T00:23:39.315Z"
   },
   {
    "duration": 6,
    "start_time": "2024-12-15T00:23:39.325Z"
   },
   {
    "duration": 3,
    "start_time": "2024-12-15T00:23:39.370Z"
   },
   {
    "duration": 226,
    "start_time": "2024-12-15T00:23:39.375Z"
   },
   {
    "duration": 8,
    "start_time": "2024-12-15T00:23:39.603Z"
   },
   {
    "duration": 303,
    "start_time": "2024-12-15T00:23:39.613Z"
   },
   {
    "duration": 291,
    "start_time": "2024-12-15T00:23:39.919Z"
   },
   {
    "duration": 313,
    "start_time": "2024-12-15T00:23:40.212Z"
   },
   {
    "duration": 7,
    "start_time": "2024-12-15T00:23:40.527Z"
   },
   {
    "duration": 8,
    "start_time": "2024-12-15T00:23:40.535Z"
   },
   {
    "duration": 446,
    "start_time": "2024-12-15T00:23:40.544Z"
   },
   {
    "duration": 9,
    "start_time": "2024-12-15T00:23:40.992Z"
   },
   {
    "duration": 17,
    "start_time": "2024-12-15T00:23:41.005Z"
   },
   {
    "duration": 5,
    "start_time": "2024-12-15T00:23:41.024Z"
   },
   {
    "duration": 42,
    "start_time": "2024-12-15T00:23:41.031Z"
   },
   {
    "duration": 610,
    "start_time": "2024-12-15T00:23:41.075Z"
   },
   {
    "duration": 3,
    "start_time": "2024-12-15T00:23:41.687Z"
   },
   {
    "duration": 6,
    "start_time": "2024-12-15T00:23:41.691Z"
   },
   {
    "duration": 9,
    "start_time": "2024-12-15T00:23:41.699Z"
   },
   {
    "duration": 3,
    "start_time": "2024-12-15T00:23:41.709Z"
   },
   {
    "duration": 48097,
    "start_time": "2024-12-15T00:23:52.293Z"
   },
   {
    "duration": 5,
    "start_time": "2024-12-15T00:24:49.110Z"
   },
   {
    "duration": 524,
    "start_time": "2024-12-15T00:24:52.233Z"
   },
   {
    "duration": 58,
    "start_time": "2024-12-15T00:25:30.145Z"
   },
   {
    "duration": 48416,
    "start_time": "2024-12-15T00:25:53.584Z"
   },
   {
    "duration": 4,
    "start_time": "2024-12-15T00:27:01.112Z"
   },
   {
    "duration": 165,
    "start_time": "2024-12-15T00:27:05.329Z"
   },
   {
    "duration": 7,
    "start_time": "2024-12-15T00:27:46.174Z"
   },
   {
    "duration": 6,
    "start_time": "2024-12-15T00:27:55.139Z"
   },
   {
    "duration": 49855,
    "start_time": "2024-12-15T00:28:12.167Z"
   },
   {
    "duration": 49300,
    "start_time": "2024-12-15T00:29:14.687Z"
   },
   {
    "duration": 154,
    "start_time": "2024-12-15T00:30:27.536Z"
   },
   {
    "duration": 49820,
    "start_time": "2024-12-15T00:32:37.557Z"
   },
   {
    "duration": 205,
    "start_time": "2024-12-15T00:33:57.894Z"
   },
   {
    "duration": 924,
    "start_time": "2024-12-15T00:35:37.030Z"
   },
   {
    "duration": 3890,
    "start_time": "2024-12-15T00:35:37.956Z"
   },
   {
    "duration": 12,
    "start_time": "2024-12-15T00:35:41.847Z"
   },
   {
    "duration": 59,
    "start_time": "2024-12-15T00:35:41.871Z"
   },
   {
    "duration": 7,
    "start_time": "2024-12-15T00:35:41.932Z"
   },
   {
    "duration": 2,
    "start_time": "2024-12-15T00:35:41.942Z"
   },
   {
    "duration": 30,
    "start_time": "2024-12-15T00:35:41.946Z"
   },
   {
    "duration": 10,
    "start_time": "2024-12-15T00:35:41.978Z"
   },
   {
    "duration": 5,
    "start_time": "2024-12-15T00:35:41.989Z"
   },
   {
    "duration": 3,
    "start_time": "2024-12-15T00:35:41.997Z"
   },
   {
    "duration": 9,
    "start_time": "2024-12-15T00:35:42.002Z"
   },
   {
    "duration": 14,
    "start_time": "2024-12-15T00:35:42.012Z"
   },
   {
    "duration": 43,
    "start_time": "2024-12-15T00:35:42.027Z"
   },
   {
    "duration": 3,
    "start_time": "2024-12-15T00:35:42.072Z"
   },
   {
    "duration": 15,
    "start_time": "2024-12-15T00:35:42.077Z"
   },
   {
    "duration": 9,
    "start_time": "2024-12-15T00:35:42.094Z"
   },
   {
    "duration": 7,
    "start_time": "2024-12-15T00:35:42.105Z"
   },
   {
    "duration": 4,
    "start_time": "2024-12-15T00:35:42.114Z"
   },
   {
    "duration": 256,
    "start_time": "2024-12-15T00:35:42.120Z"
   },
   {
    "duration": 7,
    "start_time": "2024-12-15T00:35:42.378Z"
   },
   {
    "duration": 297,
    "start_time": "2024-12-15T00:35:42.386Z"
   },
   {
    "duration": 295,
    "start_time": "2024-12-15T00:35:42.685Z"
   },
   {
    "duration": 291,
    "start_time": "2024-12-15T00:35:42.982Z"
   },
   {
    "duration": 7,
    "start_time": "2024-12-15T00:35:43.275Z"
   },
   {
    "duration": 6,
    "start_time": "2024-12-15T00:35:43.283Z"
   },
   {
    "duration": 417,
    "start_time": "2024-12-15T00:35:43.291Z"
   },
   {
    "duration": 8,
    "start_time": "2024-12-15T00:35:43.709Z"
   },
   {
    "duration": 14,
    "start_time": "2024-12-15T00:35:43.721Z"
   },
   {
    "duration": 5,
    "start_time": "2024-12-15T00:35:43.737Z"
   },
   {
    "duration": 43,
    "start_time": "2024-12-15T00:35:43.743Z"
   },
   {
    "duration": 571,
    "start_time": "2024-12-15T00:35:43.787Z"
   },
   {
    "duration": 11,
    "start_time": "2024-12-15T00:35:44.359Z"
   },
   {
    "duration": 4,
    "start_time": "2024-12-15T00:35:44.372Z"
   },
   {
    "duration": 10,
    "start_time": "2024-12-15T00:35:55.749Z"
   },
   {
    "duration": 48126,
    "start_time": "2024-12-15T00:36:05.694Z"
   },
   {
    "duration": 4,
    "start_time": "2024-12-15T00:38:25.292Z"
   },
   {
    "duration": 555,
    "start_time": "2024-12-15T00:38:30.368Z"
   },
   {
    "duration": 49166,
    "start_time": "2024-12-15T00:39:58.326Z"
   },
   {
    "duration": 3,
    "start_time": "2024-12-15T00:42:13.432Z"
   },
   {
    "duration": 3,
    "start_time": "2024-12-15T00:43:00.024Z"
   },
   {
    "duration": 4,
    "start_time": "2024-12-15T00:43:29.209Z"
   },
   {
    "duration": 48492,
    "start_time": "2024-12-15T00:43:34.959Z"
   },
   {
    "duration": 179,
    "start_time": "2024-12-15T00:45:02.196Z"
   },
   {
    "duration": 2598,
    "start_time": "2024-12-15T02:46:02.074Z"
   },
   {
    "duration": 4366,
    "start_time": "2024-12-15T02:46:04.674Z"
   },
   {
    "duration": 11,
    "start_time": "2024-12-15T02:46:09.042Z"
   },
   {
    "duration": 13,
    "start_time": "2024-12-15T02:46:09.055Z"
   },
   {
    "duration": 6,
    "start_time": "2024-12-15T02:46:09.071Z"
   },
   {
    "duration": 3,
    "start_time": "2024-12-15T02:46:09.078Z"
   },
   {
    "duration": 8,
    "start_time": "2024-12-15T02:46:09.083Z"
   },
   {
    "duration": 44,
    "start_time": "2024-12-15T02:46:09.093Z"
   },
   {
    "duration": 5,
    "start_time": "2024-12-15T02:46:09.139Z"
   },
   {
    "duration": 2,
    "start_time": "2024-12-15T02:46:09.146Z"
   },
   {
    "duration": 10,
    "start_time": "2024-12-15T02:46:09.150Z"
   },
   {
    "duration": 12,
    "start_time": "2024-12-15T02:46:09.163Z"
   },
   {
    "duration": 7,
    "start_time": "2024-12-15T02:46:09.177Z"
   },
   {
    "duration": 3,
    "start_time": "2024-12-15T02:46:09.188Z"
   },
   {
    "duration": 48,
    "start_time": "2024-12-15T02:46:09.193Z"
   },
   {
    "duration": 9,
    "start_time": "2024-12-15T02:46:09.243Z"
   },
   {
    "duration": 7,
    "start_time": "2024-12-15T02:46:09.253Z"
   },
   {
    "duration": 5,
    "start_time": "2024-12-15T02:46:09.261Z"
   },
   {
    "duration": 263,
    "start_time": "2024-12-15T02:46:09.268Z"
   },
   {
    "duration": 8,
    "start_time": "2024-12-15T02:46:09.533Z"
   },
   {
    "duration": 320,
    "start_time": "2024-12-15T02:46:09.543Z"
   },
   {
    "duration": 361,
    "start_time": "2024-12-15T02:46:09.865Z"
   },
   {
    "duration": 317,
    "start_time": "2024-12-15T02:46:10.231Z"
   },
   {
    "duration": 8,
    "start_time": "2024-12-15T02:46:10.550Z"
   },
   {
    "duration": 6,
    "start_time": "2024-12-15T02:46:10.560Z"
   },
   {
    "duration": 351,
    "start_time": "2024-12-15T02:46:10.568Z"
   },
   {
    "duration": 17,
    "start_time": "2024-12-15T02:46:10.921Z"
   },
   {
    "duration": 15,
    "start_time": "2024-12-15T02:46:10.939Z"
   },
   {
    "duration": 4,
    "start_time": "2024-12-15T02:46:10.956Z"
   },
   {
    "duration": 19,
    "start_time": "2024-12-15T02:46:10.962Z"
   },
   {
    "duration": 672,
    "start_time": "2024-12-15T02:46:10.983Z"
   },
   {
    "duration": 4,
    "start_time": "2024-12-15T02:46:11.657Z"
   },
   {
    "duration": 4,
    "start_time": "2024-12-15T02:46:11.663Z"
   },
   {
    "duration": 11,
    "start_time": "2024-12-15T02:46:11.669Z"
   },
   {
    "duration": 4,
    "start_time": "2024-12-15T02:46:53.657Z"
   },
   {
    "duration": 155,
    "start_time": "2024-12-15T02:48:07.638Z"
   },
   {
    "duration": 476,
    "start_time": "2024-12-15T02:48:29.585Z"
   },
   {
    "duration": 45,
    "start_time": "2024-12-15T02:48:45.171Z"
   },
   {
    "duration": 166,
    "start_time": "2024-12-15T02:53:57.393Z"
   },
   {
    "duration": 914,
    "start_time": "2024-12-15T02:54:16.102Z"
   },
   {
    "duration": 3888,
    "start_time": "2024-12-15T02:54:17.018Z"
   },
   {
    "duration": 13,
    "start_time": "2024-12-15T02:54:20.907Z"
   },
   {
    "duration": 92,
    "start_time": "2024-12-15T02:54:20.923Z"
   },
   {
    "duration": 16,
    "start_time": "2024-12-15T02:54:21.018Z"
   },
   {
    "duration": 4,
    "start_time": "2024-12-15T02:54:21.037Z"
   },
   {
    "duration": 13,
    "start_time": "2024-12-15T02:54:21.043Z"
   },
   {
    "duration": 12,
    "start_time": "2024-12-15T02:54:21.058Z"
   },
   {
    "duration": 5,
    "start_time": "2024-12-15T02:54:21.072Z"
   },
   {
    "duration": 3,
    "start_time": "2024-12-15T02:54:21.082Z"
   },
   {
    "duration": 48,
    "start_time": "2024-12-15T02:54:21.087Z"
   },
   {
    "duration": 15,
    "start_time": "2024-12-15T02:54:21.137Z"
   },
   {
    "duration": 8,
    "start_time": "2024-12-15T02:54:21.153Z"
   },
   {
    "duration": 3,
    "start_time": "2024-12-15T02:54:21.163Z"
   },
   {
    "duration": 20,
    "start_time": "2024-12-15T02:54:21.168Z"
   },
   {
    "duration": 41,
    "start_time": "2024-12-15T02:54:21.190Z"
   },
   {
    "duration": 9,
    "start_time": "2024-12-15T02:54:21.234Z"
   },
   {
    "duration": 5,
    "start_time": "2024-12-15T02:54:21.245Z"
   },
   {
    "duration": 252,
    "start_time": "2024-12-15T02:54:21.252Z"
   },
   {
    "duration": 8,
    "start_time": "2024-12-15T02:54:21.506Z"
   },
   {
    "duration": 306,
    "start_time": "2024-12-15T02:54:21.515Z"
   },
   {
    "duration": 309,
    "start_time": "2024-12-15T02:54:21.822Z"
   },
   {
    "duration": 317,
    "start_time": "2024-12-15T02:54:22.133Z"
   },
   {
    "duration": 7,
    "start_time": "2024-12-15T02:54:22.452Z"
   },
   {
    "duration": 7,
    "start_time": "2024-12-15T02:54:22.461Z"
   },
   {
    "duration": 454,
    "start_time": "2024-12-15T02:54:22.469Z"
   },
   {
    "duration": 10,
    "start_time": "2024-12-15T02:54:22.932Z"
   },
   {
    "duration": 20,
    "start_time": "2024-12-15T02:54:22.947Z"
   },
   {
    "duration": 4,
    "start_time": "2024-12-15T02:54:22.969Z"
   },
   {
    "duration": 19,
    "start_time": "2024-12-15T02:54:22.975Z"
   },
   {
    "duration": 605,
    "start_time": "2024-12-15T02:54:22.996Z"
   },
   {
    "duration": 3,
    "start_time": "2024-12-15T02:54:23.603Z"
   },
   {
    "duration": 5,
    "start_time": "2024-12-15T02:54:23.607Z"
   },
   {
    "duration": 22,
    "start_time": "2024-12-15T02:54:23.613Z"
   },
   {
    "duration": 3,
    "start_time": "2024-12-15T02:54:23.637Z"
   },
   {
    "duration": 48630,
    "start_time": "2024-12-15T02:55:22.316Z"
   },
   {
    "duration": 5,
    "start_time": "2024-12-15T02:56:10.948Z"
   },
   {
    "duration": 577,
    "start_time": "2024-12-15T02:56:10.955Z"
   },
   {
    "duration": 5,
    "start_time": "2024-12-15T02:57:27.449Z"
   },
   {
    "duration": 3,
    "start_time": "2024-12-15T02:58:27.170Z"
   },
   {
    "duration": 5,
    "start_time": "2024-12-15T02:59:12.891Z"
   },
   {
    "duration": 15,
    "start_time": "2024-12-15T02:59:26.908Z"
   },
   {
    "duration": 6,
    "start_time": "2024-12-15T02:59:32.214Z"
   },
   {
    "duration": 10,
    "start_time": "2024-12-15T02:59:34.698Z"
   },
   {
    "duration": 3,
    "start_time": "2024-12-15T02:59:36.889Z"
   },
   {
    "duration": 91,
    "start_time": "2024-12-15T02:59:39.056Z"
   },
   {
    "duration": 905,
    "start_time": "2024-12-15T03:00:41.628Z"
   },
   {
    "duration": 4527,
    "start_time": "2024-12-15T03:00:42.536Z"
   },
   {
    "duration": 12,
    "start_time": "2024-12-15T03:00:47.065Z"
   },
   {
    "duration": 82,
    "start_time": "2024-12-15T03:00:47.079Z"
   },
   {
    "duration": 6,
    "start_time": "2024-12-15T03:00:47.165Z"
   },
   {
    "duration": 3,
    "start_time": "2024-12-15T03:00:47.173Z"
   },
   {
    "duration": 9,
    "start_time": "2024-12-15T03:00:47.178Z"
   },
   {
    "duration": 9,
    "start_time": "2024-12-15T03:00:47.189Z"
   },
   {
    "duration": 31,
    "start_time": "2024-12-15T03:00:47.200Z"
   },
   {
    "duration": 3,
    "start_time": "2024-12-15T03:00:47.234Z"
   },
   {
    "duration": 18,
    "start_time": "2024-12-15T03:00:47.239Z"
   },
   {
    "duration": 14,
    "start_time": "2024-12-15T03:00:47.259Z"
   },
   {
    "duration": 6,
    "start_time": "2024-12-15T03:00:47.275Z"
   },
   {
    "duration": 2,
    "start_time": "2024-12-15T03:00:47.285Z"
   },
   {
    "duration": 42,
    "start_time": "2024-12-15T03:00:47.289Z"
   },
   {
    "duration": 9,
    "start_time": "2024-12-15T03:00:47.333Z"
   },
   {
    "duration": 7,
    "start_time": "2024-12-15T03:00:47.344Z"
   },
   {
    "duration": 4,
    "start_time": "2024-12-15T03:00:47.353Z"
   },
   {
    "duration": 246,
    "start_time": "2024-12-15T03:00:47.359Z"
   },
   {
    "duration": 8,
    "start_time": "2024-12-15T03:00:47.607Z"
   },
   {
    "duration": 332,
    "start_time": "2024-12-15T03:00:47.617Z"
   },
   {
    "duration": 308,
    "start_time": "2024-12-15T03:00:47.951Z"
   },
   {
    "duration": 305,
    "start_time": "2024-12-15T03:00:48.261Z"
   },
   {
    "duration": 8,
    "start_time": "2024-12-15T03:00:48.567Z"
   },
   {
    "duration": 6,
    "start_time": "2024-12-15T03:00:48.577Z"
   },
   {
    "duration": 435,
    "start_time": "2024-12-15T03:00:48.585Z"
   },
   {
    "duration": 16,
    "start_time": "2024-12-15T03:00:49.021Z"
   },
   {
    "duration": 15,
    "start_time": "2024-12-15T03:00:49.039Z"
   },
   {
    "duration": 4,
    "start_time": "2024-12-15T03:00:49.056Z"
   },
   {
    "duration": 19,
    "start_time": "2024-12-15T03:00:49.062Z"
   },
   {
    "duration": 558,
    "start_time": "2024-12-15T03:00:49.082Z"
   },
   {
    "duration": 4,
    "start_time": "2024-12-15T03:00:49.642Z"
   },
   {
    "duration": 6,
    "start_time": "2024-12-15T03:00:49.648Z"
   },
   {
    "duration": 10,
    "start_time": "2024-12-15T03:00:49.656Z"
   },
   {
    "duration": 4,
    "start_time": "2024-12-15T03:00:49.667Z"
   },
   {
    "duration": 48646,
    "start_time": "2024-12-15T03:00:56.074Z"
   },
   {
    "duration": 4,
    "start_time": "2024-12-15T03:01:47.180Z"
   },
   {
    "duration": 49042,
    "start_time": "2024-12-15T03:01:54.263Z"
   },
   {
    "duration": 4,
    "start_time": "2024-12-15T03:02:47.355Z"
   },
   {
    "duration": 519,
    "start_time": "2024-12-15T03:02:49.913Z"
   },
   {
    "duration": 2720,
    "start_time": "2024-12-15T05:24:21.898Z"
   },
   {
    "duration": 3942,
    "start_time": "2024-12-15T05:24:24.621Z"
   },
   {
    "duration": 12,
    "start_time": "2024-12-15T05:24:28.564Z"
   },
   {
    "duration": 13,
    "start_time": "2024-12-15T05:24:28.587Z"
   },
   {
    "duration": 6,
    "start_time": "2024-12-15T05:24:28.602Z"
   },
   {
    "duration": 3,
    "start_time": "2024-12-15T05:24:28.609Z"
   },
   {
    "duration": 8,
    "start_time": "2024-12-15T05:24:28.614Z"
   },
   {
    "duration": 10,
    "start_time": "2024-12-15T05:24:28.624Z"
   },
   {
    "duration": 4,
    "start_time": "2024-12-15T05:24:28.635Z"
   },
   {
    "duration": 3,
    "start_time": "2024-12-15T05:24:28.641Z"
   },
   {
    "duration": 10,
    "start_time": "2024-12-15T05:24:28.687Z"
   },
   {
    "duration": 13,
    "start_time": "2024-12-15T05:24:28.698Z"
   },
   {
    "duration": 6,
    "start_time": "2024-12-15T05:24:28.713Z"
   },
   {
    "duration": 2,
    "start_time": "2024-12-15T05:24:28.723Z"
   },
   {
    "duration": 13,
    "start_time": "2024-12-15T05:24:28.727Z"
   },
   {
    "duration": 8,
    "start_time": "2024-12-15T05:24:28.742Z"
   },
   {
    "duration": 39,
    "start_time": "2024-12-15T05:24:28.752Z"
   },
   {
    "duration": 5,
    "start_time": "2024-12-15T05:24:28.792Z"
   },
   {
    "duration": 233,
    "start_time": "2024-12-15T05:24:28.799Z"
   },
   {
    "duration": 8,
    "start_time": "2024-12-15T05:24:29.034Z"
   },
   {
    "duration": 360,
    "start_time": "2024-12-15T05:24:29.044Z"
   },
   {
    "duration": 288,
    "start_time": "2024-12-15T05:24:29.406Z"
   },
   {
    "duration": 307,
    "start_time": "2024-12-15T05:24:29.697Z"
   },
   {
    "duration": 8,
    "start_time": "2024-12-15T05:24:30.006Z"
   },
   {
    "duration": 7,
    "start_time": "2024-12-15T05:24:30.016Z"
   },
   {
    "duration": 361,
    "start_time": "2024-12-15T05:24:30.025Z"
   },
   {
    "duration": 9,
    "start_time": "2024-12-15T05:24:30.388Z"
   },
   {
    "duration": 14,
    "start_time": "2024-12-15T05:24:30.399Z"
   },
   {
    "duration": 5,
    "start_time": "2024-12-15T05:24:30.415Z"
   },
   {
    "duration": 18,
    "start_time": "2024-12-15T05:24:30.421Z"
   },
   {
    "duration": 670,
    "start_time": "2024-12-15T05:24:30.441Z"
   },
   {
    "duration": 3,
    "start_time": "2024-12-15T05:24:31.112Z"
   },
   {
    "duration": 6,
    "start_time": "2024-12-15T05:24:31.117Z"
   },
   {
    "duration": 49528,
    "start_time": "2024-12-15T05:25:35.047Z"
   },
   {
    "duration": 3,
    "start_time": "2024-12-15T05:26:29.176Z"
   },
   {
    "duration": 222,
    "start_time": "2024-12-15T05:26:58.147Z"
   },
   {
    "duration": 17,
    "start_time": "2024-12-15T05:27:04.912Z"
   },
   {
    "duration": 0,
    "start_time": "2024-12-15T05:30:29.577Z"
   },
   {
    "duration": 4,
    "start_time": "2024-12-15T05:31:40.349Z"
   },
   {
    "duration": 957,
    "start_time": "2024-12-15T05:31:57.614Z"
   },
   {
    "duration": 4803,
    "start_time": "2024-12-15T05:31:58.573Z"
   },
   {
    "duration": 14,
    "start_time": "2024-12-15T05:32:03.386Z"
   },
   {
    "duration": 64,
    "start_time": "2024-12-15T05:32:03.402Z"
   },
   {
    "duration": 19,
    "start_time": "2024-12-15T05:32:03.468Z"
   },
   {
    "duration": 3,
    "start_time": "2024-12-15T05:32:03.489Z"
   },
   {
    "duration": 10,
    "start_time": "2024-12-15T05:32:03.495Z"
   },
   {
    "duration": 10,
    "start_time": "2024-12-15T05:32:03.507Z"
   },
   {
    "duration": 5,
    "start_time": "2024-12-15T05:32:03.519Z"
   },
   {
    "duration": 2,
    "start_time": "2024-12-15T05:32:03.527Z"
   },
   {
    "duration": 9,
    "start_time": "2024-12-15T05:32:03.531Z"
   },
   {
    "duration": 45,
    "start_time": "2024-12-15T05:32:03.542Z"
   },
   {
    "duration": 10,
    "start_time": "2024-12-15T05:32:03.589Z"
   },
   {
    "duration": 2,
    "start_time": "2024-12-15T05:32:03.603Z"
   },
   {
    "duration": 14,
    "start_time": "2024-12-15T05:32:03.607Z"
   },
   {
    "duration": 9,
    "start_time": "2024-12-15T05:32:03.623Z"
   },
   {
    "duration": 6,
    "start_time": "2024-12-15T05:32:03.634Z"
   },
   {
    "duration": 4,
    "start_time": "2024-12-15T05:32:03.642Z"
   },
   {
    "duration": 266,
    "start_time": "2024-12-15T05:32:03.647Z"
   },
   {
    "duration": 8,
    "start_time": "2024-12-15T05:32:03.915Z"
   },
   {
    "duration": 321,
    "start_time": "2024-12-15T05:32:03.925Z"
   },
   {
    "duration": 288,
    "start_time": "2024-12-15T05:32:04.248Z"
   },
   {
    "duration": 300,
    "start_time": "2024-12-15T05:32:04.538Z"
   },
   {
    "duration": 8,
    "start_time": "2024-12-15T05:32:04.840Z"
   },
   {
    "duration": 7,
    "start_time": "2024-12-15T05:32:04.849Z"
   },
   {
    "duration": 446,
    "start_time": "2024-12-15T05:32:04.858Z"
   },
   {
    "duration": 8,
    "start_time": "2024-12-15T05:32:05.306Z"
   },
   {
    "duration": 14,
    "start_time": "2024-12-15T05:32:05.315Z"
   },
   {
    "duration": 4,
    "start_time": "2024-12-15T05:32:05.331Z"
   },
   {
    "duration": 18,
    "start_time": "2024-12-15T05:32:05.336Z"
   },
   {
    "duration": 548,
    "start_time": "2024-12-15T05:32:05.355Z"
   },
   {
    "duration": 3,
    "start_time": "2024-12-15T05:32:05.905Z"
   },
   {
    "duration": 5,
    "start_time": "2024-12-15T05:32:05.910Z"
   },
   {
    "duration": 10,
    "start_time": "2024-12-15T05:32:05.917Z"
   },
   {
    "duration": 5,
    "start_time": "2024-12-15T05:32:05.928Z"
   },
   {
    "duration": 48635,
    "start_time": "2024-12-15T05:32:23.023Z"
   },
   {
    "duration": 46895,
    "start_time": "2024-12-15T05:33:20.334Z"
   },
   {
    "duration": 5,
    "start_time": "2024-12-15T05:34:26.357Z"
   },
   {
    "duration": 5,
    "start_time": "2024-12-15T05:34:44.392Z"
   },
   {
    "duration": 212,
    "start_time": "2024-12-15T05:34:53.350Z"
   },
   {
    "duration": 46969,
    "start_time": "2024-12-15T05:36:47.291Z"
   },
   {
    "duration": 3,
    "start_time": "2024-12-15T05:38:03.239Z"
   },
   {
    "duration": 219,
    "start_time": "2024-12-15T05:38:06.197Z"
   },
   {
    "duration": 4,
    "start_time": "2024-12-15T05:39:07.779Z"
   },
   {
    "duration": 474,
    "start_time": "2024-12-15T05:39:10.575Z"
   },
   {
    "duration": 47205,
    "start_time": "2024-12-15T05:39:20.216Z"
   },
   {
    "duration": 4,
    "start_time": "2024-12-15T05:40:07.423Z"
   },
   {
    "duration": 296,
    "start_time": "2024-12-15T05:40:07.429Z"
   },
   {
    "duration": 4,
    "start_time": "2024-12-15T05:42:09.929Z"
   },
   {
    "duration": 72,
    "start_time": "2024-12-15T05:42:12.730Z"
   },
   {
    "duration": 1421,
    "start_time": "2024-12-15T05:45:48.014Z"
   },
   {
    "duration": 146,
    "start_time": "2024-12-15T05:46:32.824Z"
   },
   {
    "duration": 11,
    "start_time": "2024-12-15T05:47:02.319Z"
   },
   {
    "duration": 824,
    "start_time": "2024-12-15T05:47:13.037Z"
   },
   {
    "duration": 138256,
    "start_time": "2024-12-15T05:47:19.169Z"
   },
   {
    "duration": 748,
    "start_time": "2024-12-15T05:49:43.691Z"
   },
   {
    "duration": 900,
    "start_time": "2024-12-15T05:50:03.175Z"
   },
   {
    "duration": 3879,
    "start_time": "2024-12-15T05:50:04.078Z"
   },
   {
    "duration": 12,
    "start_time": "2024-12-15T05:50:07.959Z"
   },
   {
    "duration": 79,
    "start_time": "2024-12-15T05:50:07.972Z"
   },
   {
    "duration": 7,
    "start_time": "2024-12-15T05:50:08.054Z"
   },
   {
    "duration": 3,
    "start_time": "2024-12-15T05:50:08.063Z"
   },
   {
    "duration": 28,
    "start_time": "2024-12-15T05:50:08.067Z"
   },
   {
    "duration": 11,
    "start_time": "2024-12-15T05:50:08.097Z"
   },
   {
    "duration": 5,
    "start_time": "2024-12-15T05:50:08.110Z"
   },
   {
    "duration": 4,
    "start_time": "2024-12-15T05:50:08.116Z"
   },
   {
    "duration": 15,
    "start_time": "2024-12-15T05:50:08.122Z"
   },
   {
    "duration": 48,
    "start_time": "2024-12-15T05:50:08.139Z"
   },
   {
    "duration": 7,
    "start_time": "2024-12-15T05:50:08.189Z"
   },
   {
    "duration": 2,
    "start_time": "2024-12-15T05:50:08.200Z"
   },
   {
    "duration": 14,
    "start_time": "2024-12-15T05:50:08.203Z"
   },
   {
    "duration": 9,
    "start_time": "2024-12-15T05:50:08.219Z"
   },
   {
    "duration": 8,
    "start_time": "2024-12-15T05:50:08.229Z"
   },
   {
    "duration": 4,
    "start_time": "2024-12-15T05:50:08.239Z"
   },
   {
    "duration": 262,
    "start_time": "2024-12-15T05:50:08.244Z"
   },
   {
    "duration": 9,
    "start_time": "2024-12-15T05:50:08.507Z"
   },
   {
    "duration": 303,
    "start_time": "2024-12-15T05:50:08.518Z"
   },
   {
    "duration": 294,
    "start_time": "2024-12-15T05:50:08.823Z"
   },
   {
    "duration": 304,
    "start_time": "2024-12-15T05:50:09.119Z"
   },
   {
    "duration": 7,
    "start_time": "2024-12-15T05:50:09.425Z"
   },
   {
    "duration": 6,
    "start_time": "2024-12-15T05:50:09.434Z"
   },
   {
    "duration": 422,
    "start_time": "2024-12-15T05:50:09.442Z"
   },
   {
    "duration": 9,
    "start_time": "2024-12-15T05:50:09.865Z"
   },
   {
    "duration": 24,
    "start_time": "2024-12-15T05:50:09.875Z"
   },
   {
    "duration": 4,
    "start_time": "2024-12-15T05:50:09.901Z"
   },
   {
    "duration": 17,
    "start_time": "2024-12-15T05:50:09.907Z"
   },
   {
    "duration": 580,
    "start_time": "2024-12-15T05:50:09.925Z"
   },
   {
    "duration": 6,
    "start_time": "2024-12-15T05:50:10.507Z"
   },
   {
    "duration": 6,
    "start_time": "2024-12-15T05:50:10.514Z"
   },
   {
    "duration": 12,
    "start_time": "2024-12-15T05:50:10.522Z"
   },
   {
    "duration": 4,
    "start_time": "2024-12-15T05:50:10.536Z"
   },
   {
    "duration": 3,
    "start_time": "2024-12-15T05:50:21.633Z"
   },
   {
    "duration": 171,
    "start_time": "2024-12-15T05:50:24.522Z"
   },
   {
    "duration": 2,
    "start_time": "2024-12-15T05:50:25.881Z"
   },
   {
    "duration": 924,
    "start_time": "2024-12-15T05:50:46.221Z"
   },
   {
    "duration": 3731,
    "start_time": "2024-12-15T05:50:47.146Z"
   },
   {
    "duration": 13,
    "start_time": "2024-12-15T05:50:50.878Z"
   },
   {
    "duration": 65,
    "start_time": "2024-12-15T05:50:50.893Z"
   },
   {
    "duration": 7,
    "start_time": "2024-12-15T05:50:50.961Z"
   },
   {
    "duration": 3,
    "start_time": "2024-12-15T05:50:50.986Z"
   },
   {
    "duration": 8,
    "start_time": "2024-12-15T05:50:50.991Z"
   },
   {
    "duration": 10,
    "start_time": "2024-12-15T05:50:51.001Z"
   },
   {
    "duration": 5,
    "start_time": "2024-12-15T05:50:51.012Z"
   },
   {
    "duration": 4,
    "start_time": "2024-12-15T05:50:51.018Z"
   },
   {
    "duration": 8,
    "start_time": "2024-12-15T05:50:51.025Z"
   },
   {
    "duration": 13,
    "start_time": "2024-12-15T05:50:51.035Z"
   },
   {
    "duration": 8,
    "start_time": "2024-12-15T05:50:51.087Z"
   },
   {
    "duration": 3,
    "start_time": "2024-12-15T05:50:51.098Z"
   },
   {
    "duration": 15,
    "start_time": "2024-12-15T05:50:51.103Z"
   },
   {
    "duration": 10,
    "start_time": "2024-12-15T05:50:51.120Z"
   },
   {
    "duration": 6,
    "start_time": "2024-12-15T05:50:51.132Z"
   },
   {
    "duration": 5,
    "start_time": "2024-12-15T05:50:51.141Z"
   },
   {
    "duration": 268,
    "start_time": "2024-12-15T05:50:51.147Z"
   },
   {
    "duration": 9,
    "start_time": "2024-12-15T05:50:51.417Z"
   },
   {
    "duration": 311,
    "start_time": "2024-12-15T05:50:51.428Z"
   },
   {
    "duration": 299,
    "start_time": "2024-12-15T05:50:51.742Z"
   },
   {
    "duration": 319,
    "start_time": "2024-12-15T05:50:52.043Z"
   },
   {
    "duration": 7,
    "start_time": "2024-12-15T05:50:52.364Z"
   },
   {
    "duration": 18,
    "start_time": "2024-12-15T05:50:52.372Z"
   },
   {
    "duration": 416,
    "start_time": "2024-12-15T05:50:52.392Z"
   },
   {
    "duration": 8,
    "start_time": "2024-12-15T05:50:52.810Z"
   },
   {
    "duration": 14,
    "start_time": "2024-12-15T05:50:52.820Z"
   },
   {
    "duration": 4,
    "start_time": "2024-12-15T05:50:52.836Z"
   },
   {
    "duration": 44,
    "start_time": "2024-12-15T05:50:52.842Z"
   },
   {
    "duration": 567,
    "start_time": "2024-12-15T05:50:52.888Z"
   },
   {
    "duration": 3,
    "start_time": "2024-12-15T05:50:53.457Z"
   },
   {
    "duration": 6,
    "start_time": "2024-12-15T05:50:53.462Z"
   },
   {
    "duration": 27,
    "start_time": "2024-12-15T05:50:53.469Z"
   },
   {
    "duration": 3,
    "start_time": "2024-12-15T05:50:53.497Z"
   },
   {
    "duration": 185,
    "start_time": "2024-12-15T05:50:53.501Z"
   },
   {
    "duration": 138563,
    "start_time": "2024-12-15T05:51:02.762Z"
   },
   {
    "duration": 1434,
    "start_time": "2024-12-15T05:53:21.327Z"
   },
   {
    "duration": 272,
    "start_time": "2024-12-15T05:53:53.025Z"
   },
   {
    "duration": 705,
    "start_time": "2024-12-15T05:54:13.892Z"
   },
   {
    "duration": 2,
    "start_time": "2024-12-15T05:54:33.735Z"
   },
   {
    "duration": 1104,
    "start_time": "2024-12-15T05:54:35.405Z"
   },
   {
    "duration": 157,
    "start_time": "2024-12-15T05:54:40.479Z"
   },
   {
    "duration": 5561,
    "start_time": "2024-12-15T05:54:45.590Z"
   },
   {
    "duration": 892,
    "start_time": "2024-12-15T05:55:03.086Z"
   },
   {
    "duration": 3835,
    "start_time": "2024-12-15T05:55:03.981Z"
   },
   {
    "duration": 12,
    "start_time": "2024-12-15T05:55:07.817Z"
   },
   {
    "duration": 81,
    "start_time": "2024-12-15T05:55:07.831Z"
   },
   {
    "duration": 6,
    "start_time": "2024-12-15T05:55:07.915Z"
   },
   {
    "duration": 3,
    "start_time": "2024-12-15T05:55:07.922Z"
   },
   {
    "duration": 8,
    "start_time": "2024-12-15T05:55:07.927Z"
   },
   {
    "duration": 12,
    "start_time": "2024-12-15T05:55:07.937Z"
   },
   {
    "duration": 38,
    "start_time": "2024-12-15T05:55:07.951Z"
   },
   {
    "duration": 3,
    "start_time": "2024-12-15T05:55:07.991Z"
   },
   {
    "duration": 8,
    "start_time": "2024-12-15T05:55:07.996Z"
   },
   {
    "duration": 13,
    "start_time": "2024-12-15T05:55:08.006Z"
   },
   {
    "duration": 7,
    "start_time": "2024-12-15T05:55:08.021Z"
   },
   {
    "duration": 3,
    "start_time": "2024-12-15T05:55:08.032Z"
   },
   {
    "duration": 51,
    "start_time": "2024-12-15T05:55:08.037Z"
   },
   {
    "duration": 9,
    "start_time": "2024-12-15T05:55:08.090Z"
   },
   {
    "duration": 6,
    "start_time": "2024-12-15T05:55:08.101Z"
   },
   {
    "duration": 5,
    "start_time": "2024-12-15T05:55:08.109Z"
   },
   {
    "duration": 255,
    "start_time": "2024-12-15T05:55:08.116Z"
   },
   {
    "duration": 17,
    "start_time": "2024-12-15T05:55:08.372Z"
   },
   {
    "duration": 304,
    "start_time": "2024-12-15T05:55:08.390Z"
   },
   {
    "duration": 295,
    "start_time": "2024-12-15T05:55:08.695Z"
   },
   {
    "duration": 309,
    "start_time": "2024-12-15T05:55:08.992Z"
   },
   {
    "duration": 7,
    "start_time": "2024-12-15T05:55:09.303Z"
   },
   {
    "duration": 6,
    "start_time": "2024-12-15T05:55:09.311Z"
   },
   {
    "duration": 428,
    "start_time": "2024-12-15T05:55:09.319Z"
   },
   {
    "duration": 8,
    "start_time": "2024-12-15T05:55:09.749Z"
   },
   {
    "duration": 27,
    "start_time": "2024-12-15T05:55:09.759Z"
   },
   {
    "duration": 4,
    "start_time": "2024-12-15T05:55:09.788Z"
   },
   {
    "duration": 18,
    "start_time": "2024-12-15T05:55:09.794Z"
   },
   {
    "duration": 581,
    "start_time": "2024-12-15T05:55:09.813Z"
   },
   {
    "duration": 3,
    "start_time": "2024-12-15T05:55:10.397Z"
   },
   {
    "duration": 6,
    "start_time": "2024-12-15T05:55:10.401Z"
   },
   {
    "duration": 10,
    "start_time": "2024-12-15T05:55:10.408Z"
   },
   {
    "duration": 3,
    "start_time": "2024-12-15T05:55:10.419Z"
   },
   {
    "duration": 264,
    "start_time": "2024-12-15T05:55:10.424Z"
   },
   {
    "duration": 3,
    "start_time": "2024-12-15T05:55:10.691Z"
   },
   {
    "duration": 2006541,
    "start_time": "2024-12-15T05:55:10.697Z"
   },
   {
    "duration": 33267,
    "start_time": "2024-12-15T06:28:37.240Z"
   },
   {
    "duration": 138542,
    "start_time": "2024-12-15T06:29:10.510Z"
   },
   {
    "duration": 1436,
    "start_time": "2024-12-15T06:31:29.056Z"
   },
   {
    "duration": 3,
    "start_time": "2024-12-15T06:31:30.495Z"
   },
   {
    "duration": 901,
    "start_time": "2024-12-15T06:31:30.499Z"
   },
   {
    "duration": 129369,
    "start_time": "2024-12-15T06:31:31.402Z"
   },
   {
    "duration": 5577,
    "start_time": "2024-12-15T06:33:40.773Z"
   },
   {
    "duration": 48211,
    "start_time": "2024-12-15T06:33:46.352Z"
   },
   {
    "duration": 4,
    "start_time": "2024-12-15T06:34:34.564Z"
   },
   {
    "duration": 1437,
    "start_time": "2024-12-15T06:34:34.570Z"
   },
   {
    "duration": 730,
    "start_time": "2024-12-15T06:34:36.009Z"
   },
   {
    "duration": 3,
    "start_time": "2024-12-15T07:20:38.033Z"
   },
   {
    "duration": 7,
    "start_time": "2024-12-15T07:24:46.341Z"
   },
   {
    "duration": 6,
    "start_time": "2024-12-15T07:25:07.471Z"
   },
   {
    "duration": 5,
    "start_time": "2024-12-15T07:26:42.796Z"
   },
   {
    "duration": 6,
    "start_time": "2024-12-15T07:26:54.373Z"
   },
   {
    "duration": 7,
    "start_time": "2024-12-15T07:27:00.547Z"
   },
   {
    "duration": 6,
    "start_time": "2024-12-15T07:27:24.818Z"
   },
   {
    "duration": 1394,
    "start_time": "2024-12-15T07:28:10.358Z"
   },
   {
    "duration": 1417,
    "start_time": "2024-12-15T07:28:41.996Z"
   },
   {
    "duration": 1411,
    "start_time": "2024-12-15T07:28:48.091Z"
   },
   {
    "duration": 1387,
    "start_time": "2024-12-15T07:28:53.437Z"
   },
   {
    "duration": 6,
    "start_time": "2024-12-15T07:28:59.037Z"
   },
   {
    "duration": 6,
    "start_time": "2024-12-15T07:29:54.519Z"
   },
   {
    "duration": 6,
    "start_time": "2024-12-15T07:36:54.999Z"
   },
   {
    "duration": 2605,
    "start_time": "2024-12-15T10:11:11.203Z"
   },
   {
    "duration": 3890,
    "start_time": "2024-12-15T10:11:13.810Z"
   },
   {
    "duration": 16,
    "start_time": "2024-12-15T10:11:17.703Z"
   },
   {
    "duration": 13,
    "start_time": "2024-12-15T10:11:17.721Z"
   },
   {
    "duration": 6,
    "start_time": "2024-12-15T10:11:17.735Z"
   },
   {
    "duration": 2,
    "start_time": "2024-12-15T10:11:17.743Z"
   },
   {
    "duration": 9,
    "start_time": "2024-12-15T10:11:17.770Z"
   },
   {
    "duration": 11,
    "start_time": "2024-12-15T10:11:17.780Z"
   },
   {
    "duration": 4,
    "start_time": "2024-12-15T10:11:17.793Z"
   },
   {
    "duration": 3,
    "start_time": "2024-12-15T10:11:17.800Z"
   },
   {
    "duration": 8,
    "start_time": "2024-12-15T10:11:17.805Z"
   },
   {
    "duration": 12,
    "start_time": "2024-12-15T10:11:17.815Z"
   },
   {
    "duration": 42,
    "start_time": "2024-12-15T10:11:17.829Z"
   },
   {
    "duration": 3,
    "start_time": "2024-12-15T10:11:17.873Z"
   },
   {
    "duration": 15,
    "start_time": "2024-12-15T10:11:17.878Z"
   },
   {
    "duration": 8,
    "start_time": "2024-12-15T10:11:17.895Z"
   },
   {
    "duration": 7,
    "start_time": "2024-12-15T10:11:17.904Z"
   },
   {
    "duration": 4,
    "start_time": "2024-12-15T10:11:17.913Z"
   },
   {
    "duration": 253,
    "start_time": "2024-12-15T10:11:17.919Z"
   },
   {
    "duration": 9,
    "start_time": "2024-12-15T10:11:18.174Z"
   },
   {
    "duration": 352,
    "start_time": "2024-12-15T10:11:18.184Z"
   },
   {
    "duration": 300,
    "start_time": "2024-12-15T10:11:18.539Z"
   },
   {
    "duration": 289,
    "start_time": "2024-12-15T10:11:18.841Z"
   },
   {
    "duration": 7,
    "start_time": "2024-12-15T10:11:19.132Z"
   },
   {
    "duration": 7,
    "start_time": "2024-12-15T10:11:19.141Z"
   },
   {
    "duration": 351,
    "start_time": "2024-12-15T10:11:19.149Z"
   },
   {
    "duration": 8,
    "start_time": "2024-12-15T10:11:19.501Z"
   },
   {
    "duration": 14,
    "start_time": "2024-12-15T10:11:19.513Z"
   },
   {
    "duration": 3,
    "start_time": "2024-12-15T10:11:19.528Z"
   },
   {
    "duration": 42,
    "start_time": "2024-12-15T10:11:19.533Z"
   },
   {
    "duration": 673,
    "start_time": "2024-12-15T10:11:19.577Z"
   },
   {
    "duration": 3,
    "start_time": "2024-12-15T10:11:20.252Z"
   },
   {
    "duration": 13,
    "start_time": "2024-12-15T10:11:20.257Z"
   },
   {
    "duration": 3,
    "start_time": "2024-12-15T10:11:29.820Z"
   },
   {
    "duration": 20,
    "start_time": "2024-12-15T10:13:14.428Z"
   },
   {
    "duration": 4,
    "start_time": "2024-12-15T10:13:17.171Z"
   },
   {
    "duration": 48767,
    "start_time": "2024-12-15T10:15:13.421Z"
   },
   {
    "duration": 3,
    "start_time": "2024-12-15T10:16:45.671Z"
   },
   {
    "duration": 2592,
    "start_time": "2024-12-15T21:26:27.252Z"
   },
   {
    "duration": 4043,
    "start_time": "2024-12-15T21:26:29.847Z"
   },
   {
    "duration": 10,
    "start_time": "2024-12-15T21:26:33.892Z"
   },
   {
    "duration": 14,
    "start_time": "2024-12-15T21:26:33.913Z"
   },
   {
    "duration": 6,
    "start_time": "2024-12-15T21:26:33.928Z"
   },
   {
    "duration": 3,
    "start_time": "2024-12-15T21:26:33.935Z"
   },
   {
    "duration": 10,
    "start_time": "2024-12-15T21:26:33.939Z"
   },
   {
    "duration": 10,
    "start_time": "2024-12-15T21:26:33.950Z"
   },
   {
    "duration": 4,
    "start_time": "2024-12-15T21:26:33.962Z"
   },
   {
    "duration": 3,
    "start_time": "2024-12-15T21:26:33.969Z"
   },
   {
    "duration": 47,
    "start_time": "2024-12-15T21:26:33.973Z"
   },
   {
    "duration": 14,
    "start_time": "2024-12-15T21:26:34.022Z"
   },
   {
    "duration": 7,
    "start_time": "2024-12-15T21:26:34.038Z"
   },
   {
    "duration": 2,
    "start_time": "2024-12-15T21:26:34.047Z"
   },
   {
    "duration": 13,
    "start_time": "2024-12-15T21:26:34.051Z"
   },
   {
    "duration": 46,
    "start_time": "2024-12-15T21:26:34.066Z"
   },
   {
    "duration": 7,
    "start_time": "2024-12-15T21:26:34.113Z"
   },
   {
    "duration": 5,
    "start_time": "2024-12-15T21:26:34.121Z"
   },
   {
    "duration": 229,
    "start_time": "2024-12-15T21:26:34.127Z"
   },
   {
    "duration": 8,
    "start_time": "2024-12-15T21:26:34.358Z"
   },
   {
    "duration": 307,
    "start_time": "2024-12-15T21:26:34.368Z"
   },
   {
    "duration": 358,
    "start_time": "2024-12-15T21:26:34.677Z"
   },
   {
    "duration": 311,
    "start_time": "2024-12-15T21:26:35.037Z"
   },
   {
    "duration": 6,
    "start_time": "2024-12-15T21:26:35.350Z"
   },
   {
    "duration": 7,
    "start_time": "2024-12-15T21:26:35.358Z"
   },
   {
    "duration": 347,
    "start_time": "2024-12-15T21:26:35.366Z"
   },
   {
    "duration": 8,
    "start_time": "2024-12-15T21:26:35.715Z"
   },
   {
    "duration": 15,
    "start_time": "2024-12-15T21:26:35.726Z"
   },
   {
    "duration": 4,
    "start_time": "2024-12-15T21:26:35.742Z"
   },
   {
    "duration": 17,
    "start_time": "2024-12-15T21:26:35.747Z"
   },
   {
    "duration": 573,
    "start_time": "2024-12-15T21:26:35.765Z"
   },
   {
    "duration": 3,
    "start_time": "2024-12-15T21:26:36.340Z"
   },
   {
    "duration": 5,
    "start_time": "2024-12-15T21:26:36.345Z"
   },
   {
    "duration": 4,
    "start_time": "2024-12-15T21:26:36.352Z"
   },
   {
    "duration": 2,
    "start_time": "2024-12-15T21:26:52.263Z"
   },
   {
    "duration": 848,
    "start_time": "2024-12-15T21:35:34.185Z"
   },
   {
    "duration": 4081,
    "start_time": "2024-12-15T21:35:35.035Z"
   },
   {
    "duration": 14,
    "start_time": "2024-12-15T21:35:39.118Z"
   },
   {
    "duration": 86,
    "start_time": "2024-12-15T21:35:39.134Z"
   },
   {
    "duration": 6,
    "start_time": "2024-12-15T21:35:39.223Z"
   },
   {
    "duration": 3,
    "start_time": "2024-12-15T21:35:39.231Z"
   },
   {
    "duration": 8,
    "start_time": "2024-12-15T21:35:39.236Z"
   },
   {
    "duration": 16,
    "start_time": "2024-12-15T21:35:39.247Z"
   },
   {
    "duration": 6,
    "start_time": "2024-12-15T21:35:39.264Z"
   },
   {
    "duration": 5,
    "start_time": "2024-12-15T21:35:39.272Z"
   },
   {
    "duration": 12,
    "start_time": "2024-12-15T21:35:39.313Z"
   },
   {
    "duration": 19,
    "start_time": "2024-12-15T21:35:39.326Z"
   },
   {
    "duration": 8,
    "start_time": "2024-12-15T21:35:39.347Z"
   },
   {
    "duration": 5,
    "start_time": "2024-12-15T21:35:39.358Z"
   },
   {
    "duration": 18,
    "start_time": "2024-12-15T21:35:39.365Z"
   },
   {
    "duration": 33,
    "start_time": "2024-12-15T21:35:39.385Z"
   },
   {
    "duration": 6,
    "start_time": "2024-12-15T21:35:39.422Z"
   },
   {
    "duration": 4,
    "start_time": "2024-12-15T21:35:39.430Z"
   },
   {
    "duration": 245,
    "start_time": "2024-12-15T21:35:39.436Z"
   },
   {
    "duration": 8,
    "start_time": "2024-12-15T21:35:39.682Z"
   },
   {
    "duration": 301,
    "start_time": "2024-12-15T21:35:39.692Z"
   },
   {
    "duration": 289,
    "start_time": "2024-12-15T21:35:39.994Z"
   },
   {
    "duration": 308,
    "start_time": "2024-12-15T21:35:40.285Z"
   },
   {
    "duration": 17,
    "start_time": "2024-12-15T21:35:40.596Z"
   },
   {
    "duration": 7,
    "start_time": "2024-12-15T21:35:40.614Z"
   },
   {
    "duration": 406,
    "start_time": "2024-12-15T21:35:40.623Z"
   },
   {
    "duration": 8,
    "start_time": "2024-12-15T21:35:41.031Z"
   },
   {
    "duration": 15,
    "start_time": "2024-12-15T21:35:41.040Z"
   },
   {
    "duration": 4,
    "start_time": "2024-12-15T21:35:41.056Z"
   },
   {
    "duration": 18,
    "start_time": "2024-12-15T21:35:41.062Z"
   },
   {
    "duration": 582,
    "start_time": "2024-12-15T21:35:41.082Z"
   },
   {
    "duration": 3,
    "start_time": "2024-12-15T21:35:41.666Z"
   },
   {
    "duration": 6,
    "start_time": "2024-12-15T21:35:41.670Z"
   },
   {
    "duration": 3,
    "start_time": "2024-12-15T21:35:41.678Z"
   },
   {
    "duration": 898,
    "start_time": "2024-12-15T21:37:51.540Z"
   },
   {
    "duration": 4204,
    "start_time": "2024-12-15T21:37:52.440Z"
   },
   {
    "duration": 11,
    "start_time": "2024-12-15T21:37:56.646Z"
   },
   {
    "duration": 69,
    "start_time": "2024-12-15T21:37:56.660Z"
   },
   {
    "duration": 6,
    "start_time": "2024-12-15T21:37:56.732Z"
   },
   {
    "duration": 3,
    "start_time": "2024-12-15T21:37:56.740Z"
   },
   {
    "duration": 9,
    "start_time": "2024-12-15T21:37:56.745Z"
   },
   {
    "duration": 10,
    "start_time": "2024-12-15T21:37:56.756Z"
   },
   {
    "duration": 4,
    "start_time": "2024-12-15T21:37:56.767Z"
   },
   {
    "duration": 39,
    "start_time": "2024-12-15T21:37:56.773Z"
   },
   {
    "duration": 8,
    "start_time": "2024-12-15T21:37:56.814Z"
   },
   {
    "duration": 13,
    "start_time": "2024-12-15T21:37:56.824Z"
   },
   {
    "duration": 6,
    "start_time": "2024-12-15T21:37:56.838Z"
   },
   {
    "duration": 3,
    "start_time": "2024-12-15T21:37:56.847Z"
   },
   {
    "duration": 13,
    "start_time": "2024-12-15T21:37:56.852Z"
   },
   {
    "duration": 46,
    "start_time": "2024-12-15T21:37:56.867Z"
   },
   {
    "duration": 10,
    "start_time": "2024-12-15T21:37:56.914Z"
   },
   {
    "duration": 4,
    "start_time": "2024-12-15T21:37:56.926Z"
   },
   {
    "duration": 228,
    "start_time": "2024-12-15T21:37:56.932Z"
   },
   {
    "duration": 8,
    "start_time": "2024-12-15T21:37:57.162Z"
   },
   {
    "duration": 305,
    "start_time": "2024-12-15T21:37:57.171Z"
   },
   {
    "duration": 284,
    "start_time": "2024-12-15T21:37:57.477Z"
   },
   {
    "duration": 300,
    "start_time": "2024-12-15T21:37:57.763Z"
   },
   {
    "duration": 6,
    "start_time": "2024-12-15T21:37:58.065Z"
   },
   {
    "duration": 6,
    "start_time": "2024-12-15T21:37:58.073Z"
   },
   {
    "duration": 399,
    "start_time": "2024-12-15T21:37:58.081Z"
   },
   {
    "duration": 8,
    "start_time": "2024-12-15T21:37:58.482Z"
   },
   {
    "duration": 30,
    "start_time": "2024-12-15T21:37:58.492Z"
   },
   {
    "duration": 4,
    "start_time": "2024-12-15T21:37:58.523Z"
   },
   {
    "duration": 16,
    "start_time": "2024-12-15T21:37:58.529Z"
   },
   {
    "duration": 560,
    "start_time": "2024-12-15T21:37:58.547Z"
   },
   {
    "duration": 4,
    "start_time": "2024-12-15T21:37:59.108Z"
   },
   {
    "duration": 6,
    "start_time": "2024-12-15T21:37:59.114Z"
   },
   {
    "duration": 3,
    "start_time": "2024-12-15T21:37:59.121Z"
   },
   {
    "duration": 933,
    "start_time": "2024-12-15T21:39:23.525Z"
   },
   {
    "duration": 4394,
    "start_time": "2024-12-15T21:39:24.460Z"
   },
   {
    "duration": 11,
    "start_time": "2024-12-15T21:39:28.856Z"
   },
   {
    "duration": 73,
    "start_time": "2024-12-15T21:39:28.868Z"
   },
   {
    "duration": 5,
    "start_time": "2024-12-15T21:39:28.944Z"
   },
   {
    "duration": 3,
    "start_time": "2024-12-15T21:39:28.950Z"
   },
   {
    "duration": 9,
    "start_time": "2024-12-15T21:39:28.954Z"
   },
   {
    "duration": 10,
    "start_time": "2024-12-15T21:39:28.964Z"
   },
   {
    "duration": 4,
    "start_time": "2024-12-15T21:39:28.976Z"
   },
   {
    "duration": 29,
    "start_time": "2024-12-15T21:39:28.983Z"
   },
   {
    "duration": 8,
    "start_time": "2024-12-15T21:39:29.014Z"
   },
   {
    "duration": 12,
    "start_time": "2024-12-15T21:39:29.024Z"
   },
   {
    "duration": 6,
    "start_time": "2024-12-15T21:39:29.038Z"
   },
   {
    "duration": 2,
    "start_time": "2024-12-15T21:39:29.048Z"
   },
   {
    "duration": 14,
    "start_time": "2024-12-15T21:39:29.052Z"
   },
   {
    "duration": 45,
    "start_time": "2024-12-15T21:39:29.067Z"
   },
   {
    "duration": 7,
    "start_time": "2024-12-15T21:39:29.113Z"
   },
   {
    "duration": 4,
    "start_time": "2024-12-15T21:39:29.122Z"
   },
   {
    "duration": 231,
    "start_time": "2024-12-15T21:39:29.130Z"
   },
   {
    "duration": 8,
    "start_time": "2024-12-15T21:39:29.362Z"
   },
   {
    "duration": 304,
    "start_time": "2024-12-15T21:39:29.372Z"
   },
   {
    "duration": 290,
    "start_time": "2024-12-15T21:39:29.678Z"
   },
   {
    "duration": 302,
    "start_time": "2024-12-15T21:39:29.970Z"
   },
   {
    "duration": 7,
    "start_time": "2024-12-15T21:39:30.274Z"
   },
   {
    "duration": 6,
    "start_time": "2024-12-15T21:39:30.283Z"
   },
   {
    "duration": 417,
    "start_time": "2024-12-15T21:39:30.291Z"
   },
   {
    "duration": 8,
    "start_time": "2024-12-15T21:39:30.710Z"
   },
   {
    "duration": 15,
    "start_time": "2024-12-15T21:39:30.720Z"
   },
   {
    "duration": 4,
    "start_time": "2024-12-15T21:39:30.737Z"
   },
   {
    "duration": 16,
    "start_time": "2024-12-15T21:39:30.743Z"
   },
   {
    "duration": 575,
    "start_time": "2024-12-15T21:39:30.761Z"
   },
   {
    "duration": 3,
    "start_time": "2024-12-15T21:39:31.338Z"
   },
   {
    "duration": 5,
    "start_time": "2024-12-15T21:39:31.343Z"
   },
   {
    "duration": 3,
    "start_time": "2024-12-15T21:39:31.349Z"
   },
   {
    "duration": 890,
    "start_time": "2024-12-15T21:43:35.913Z"
   },
   {
    "duration": 14930,
    "start_time": "2024-12-15T21:43:36.805Z"
   },
   {
    "duration": 12,
    "start_time": "2024-12-15T21:43:51.737Z"
   },
   {
    "duration": 65,
    "start_time": "2024-12-15T21:43:51.752Z"
   },
   {
    "duration": 6,
    "start_time": "2024-12-15T21:43:51.818Z"
   },
   {
    "duration": 2,
    "start_time": "2024-12-15T21:43:51.827Z"
   },
   {
    "duration": 9,
    "start_time": "2024-12-15T21:43:51.831Z"
   },
   {
    "duration": 10,
    "start_time": "2024-12-15T21:43:51.842Z"
   },
   {
    "duration": 4,
    "start_time": "2024-12-15T21:43:51.854Z"
   },
   {
    "duration": 3,
    "start_time": "2024-12-15T21:43:51.861Z"
   },
   {
    "duration": 49,
    "start_time": "2024-12-15T21:43:51.865Z"
   },
   {
    "duration": 13,
    "start_time": "2024-12-15T21:43:51.916Z"
   },
   {
    "duration": 6,
    "start_time": "2024-12-15T21:43:51.930Z"
   },
   {
    "duration": 2,
    "start_time": "2024-12-15T21:43:51.938Z"
   },
   {
    "duration": 19,
    "start_time": "2024-12-15T21:43:51.942Z"
   },
   {
    "duration": 8,
    "start_time": "2024-12-15T21:43:51.962Z"
   },
   {
    "duration": 6,
    "start_time": "2024-12-15T21:43:51.972Z"
   },
   {
    "duration": 35,
    "start_time": "2024-12-15T21:43:51.980Z"
   },
   {
    "duration": 219,
    "start_time": "2024-12-15T21:43:52.016Z"
   },
   {
    "duration": 7,
    "start_time": "2024-12-15T21:43:52.237Z"
   },
   {
    "duration": 290,
    "start_time": "2024-12-15T21:43:52.246Z"
   },
   {
    "duration": 284,
    "start_time": "2024-12-15T21:43:52.537Z"
   },
   {
    "duration": 292,
    "start_time": "2024-12-15T21:43:52.823Z"
   },
   {
    "duration": 7,
    "start_time": "2024-12-15T21:43:53.117Z"
   },
   {
    "duration": 6,
    "start_time": "2024-12-15T21:43:53.126Z"
   },
   {
    "duration": 419,
    "start_time": "2024-12-15T21:43:53.133Z"
   },
   {
    "duration": 7,
    "start_time": "2024-12-15T21:43:53.554Z"
   },
   {
    "duration": 14,
    "start_time": "2024-12-15T21:43:53.565Z"
   },
   {
    "duration": 4,
    "start_time": "2024-12-15T21:43:53.580Z"
   },
   {
    "duration": 37,
    "start_time": "2024-12-15T21:43:53.586Z"
   },
   {
    "duration": 554,
    "start_time": "2024-12-15T21:43:53.625Z"
   },
   {
    "duration": 4,
    "start_time": "2024-12-15T21:43:54.181Z"
   },
   {
    "duration": 6,
    "start_time": "2024-12-15T21:43:54.186Z"
   },
   {
    "duration": 3,
    "start_time": "2024-12-15T21:43:54.194Z"
   },
   {
    "duration": 5,
    "start_time": "2024-12-15T21:43:54.213Z"
   },
   {
    "duration": 5,
    "start_time": "2024-12-15T21:44:05.593Z"
   },
   {
    "duration": 5,
    "start_time": "2024-12-15T21:44:17.566Z"
   },
   {
    "duration": 4,
    "start_time": "2024-12-15T21:44:39.259Z"
   },
   {
    "duration": 927,
    "start_time": "2024-12-15T21:48:39.526Z"
   },
   {
    "duration": 3807,
    "start_time": "2024-12-15T21:48:40.455Z"
   },
   {
    "duration": 12,
    "start_time": "2024-12-15T21:48:44.264Z"
   },
   {
    "duration": 68,
    "start_time": "2024-12-15T21:48:44.278Z"
   },
   {
    "duration": 6,
    "start_time": "2024-12-15T21:48:44.348Z"
   },
   {
    "duration": 3,
    "start_time": "2024-12-15T21:48:44.355Z"
   },
   {
    "duration": 9,
    "start_time": "2024-12-15T21:48:44.360Z"
   },
   {
    "duration": 10,
    "start_time": "2024-12-15T21:48:44.371Z"
   },
   {
    "duration": 31,
    "start_time": "2024-12-15T21:48:44.383Z"
   },
   {
    "duration": 3,
    "start_time": "2024-12-15T21:48:44.417Z"
   },
   {
    "duration": 8,
    "start_time": "2024-12-15T21:48:44.421Z"
   },
   {
    "duration": 13,
    "start_time": "2024-12-15T21:48:44.431Z"
   },
   {
    "duration": 7,
    "start_time": "2024-12-15T21:48:44.445Z"
   },
   {
    "duration": 3,
    "start_time": "2024-12-15T21:48:44.453Z"
   },
   {
    "duration": 14,
    "start_time": "2024-12-15T21:48:44.458Z"
   },
   {
    "duration": 8,
    "start_time": "2024-12-15T21:48:44.511Z"
   },
   {
    "duration": 7,
    "start_time": "2024-12-15T21:48:44.520Z"
   },
   {
    "duration": 4,
    "start_time": "2024-12-15T21:48:44.529Z"
   },
   {
    "duration": 255,
    "start_time": "2024-12-15T21:48:44.535Z"
   },
   {
    "duration": 8,
    "start_time": "2024-12-15T21:48:44.792Z"
   },
   {
    "duration": 332,
    "start_time": "2024-12-15T21:48:44.802Z"
   },
   {
    "duration": 292,
    "start_time": "2024-12-15T21:48:45.136Z"
   },
   {
    "duration": 292,
    "start_time": "2024-12-15T21:48:45.430Z"
   },
   {
    "duration": 6,
    "start_time": "2024-12-15T21:48:45.725Z"
   },
   {
    "duration": 7,
    "start_time": "2024-12-15T21:48:45.733Z"
   },
   {
    "duration": 417,
    "start_time": "2024-12-15T21:48:45.741Z"
   },
   {
    "duration": 8,
    "start_time": "2024-12-15T21:48:46.160Z"
   },
   {
    "duration": 14,
    "start_time": "2024-12-15T21:48:46.171Z"
   },
   {
    "duration": 4,
    "start_time": "2024-12-15T21:48:46.187Z"
   },
   {
    "duration": 18,
    "start_time": "2024-12-15T21:48:46.212Z"
   },
   {
    "duration": 555,
    "start_time": "2024-12-15T21:48:46.231Z"
   },
   {
    "duration": 3,
    "start_time": "2024-12-15T21:48:46.787Z"
   },
   {
    "duration": 5,
    "start_time": "2024-12-15T21:48:46.792Z"
   },
   {
    "duration": 3,
    "start_time": "2024-12-15T21:48:48.964Z"
   },
   {
    "duration": 860,
    "start_time": "2024-12-15T21:52:38.870Z"
   },
   {
    "duration": 3810,
    "start_time": "2024-12-15T21:52:39.732Z"
   },
   {
    "duration": 12,
    "start_time": "2024-12-15T21:52:43.544Z"
   },
   {
    "duration": 67,
    "start_time": "2024-12-15T21:52:43.559Z"
   },
   {
    "duration": 6,
    "start_time": "2024-12-15T21:52:43.627Z"
   },
   {
    "duration": 3,
    "start_time": "2024-12-15T21:52:43.634Z"
   },
   {
    "duration": 8,
    "start_time": "2024-12-15T21:52:43.639Z"
   },
   {
    "duration": 10,
    "start_time": "2024-12-15T21:52:43.649Z"
   },
   {
    "duration": 4,
    "start_time": "2024-12-15T21:52:43.661Z"
   },
   {
    "duration": 42,
    "start_time": "2024-12-15T21:52:43.669Z"
   },
   {
    "duration": 8,
    "start_time": "2024-12-15T21:52:43.713Z"
   },
   {
    "duration": 14,
    "start_time": "2024-12-15T21:52:43.722Z"
   },
   {
    "duration": 6,
    "start_time": "2024-12-15T21:52:43.737Z"
   },
   {
    "duration": 3,
    "start_time": "2024-12-15T21:52:43.744Z"
   },
   {
    "duration": 13,
    "start_time": "2024-12-15T21:52:43.749Z"
   },
   {
    "duration": 9,
    "start_time": "2024-12-15T21:52:43.764Z"
   },
   {
    "duration": 38,
    "start_time": "2024-12-15T21:52:43.775Z"
   },
   {
    "duration": 5,
    "start_time": "2024-12-15T21:52:43.815Z"
   },
   {
    "duration": 228,
    "start_time": "2024-12-15T21:52:43.822Z"
   },
   {
    "duration": 7,
    "start_time": "2024-12-15T21:52:44.052Z"
   },
   {
    "duration": 294,
    "start_time": "2024-12-15T21:52:44.062Z"
   },
   {
    "duration": 283,
    "start_time": "2024-12-15T21:52:44.358Z"
   },
   {
    "duration": 320,
    "start_time": "2024-12-15T21:52:44.642Z"
   },
   {
    "duration": 7,
    "start_time": "2024-12-15T21:52:44.965Z"
   },
   {
    "duration": 6,
    "start_time": "2024-12-15T21:52:44.973Z"
   },
   {
    "duration": 420,
    "start_time": "2024-12-15T21:52:44.981Z"
   },
   {
    "duration": 14,
    "start_time": "2024-12-15T21:52:45.403Z"
   },
   {
    "duration": 14,
    "start_time": "2024-12-15T21:52:45.420Z"
   },
   {
    "duration": 4,
    "start_time": "2024-12-15T21:52:45.436Z"
   },
   {
    "duration": 16,
    "start_time": "2024-12-15T21:52:45.442Z"
   },
   {
    "duration": 574,
    "start_time": "2024-12-15T21:52:45.460Z"
   },
   {
    "duration": 5,
    "start_time": "2024-12-15T21:52:46.036Z"
   },
   {
    "duration": 6,
    "start_time": "2024-12-15T21:52:46.042Z"
   },
   {
    "duration": 2,
    "start_time": "2024-12-15T21:52:46.053Z"
   },
   {
    "duration": 256,
    "start_time": "2024-12-15T21:52:46.057Z"
   },
   {
    "duration": 547276,
    "start_time": "2024-12-15T21:53:00.803Z"
   },
   {
    "duration": 68610,
    "start_time": "2024-12-15T22:13:12.330Z"
   },
   {
    "duration": 157,
    "start_time": "2024-12-16T03:44:51.796Z"
   },
   {
    "duration": 2625,
    "start_time": "2024-12-16T03:45:06.509Z"
   },
   {
    "duration": 4118,
    "start_time": "2024-12-16T03:45:09.136Z"
   },
   {
    "duration": 12,
    "start_time": "2024-12-16T03:45:13.255Z"
   },
   {
    "duration": 13,
    "start_time": "2024-12-16T03:45:13.270Z"
   },
   {
    "duration": 29,
    "start_time": "2024-12-16T03:45:13.285Z"
   },
   {
    "duration": 3,
    "start_time": "2024-12-16T03:45:13.316Z"
   },
   {
    "duration": 8,
    "start_time": "2024-12-16T03:45:13.321Z"
   },
   {
    "duration": 10,
    "start_time": "2024-12-16T03:45:13.331Z"
   },
   {
    "duration": 5,
    "start_time": "2024-12-16T03:45:13.342Z"
   },
   {
    "duration": 3,
    "start_time": "2024-12-16T03:45:13.351Z"
   },
   {
    "duration": 9,
    "start_time": "2024-12-16T03:45:13.356Z"
   },
   {
    "duration": 54,
    "start_time": "2024-12-16T03:45:13.366Z"
   },
   {
    "duration": 6,
    "start_time": "2024-12-16T03:45:13.421Z"
   },
   {
    "duration": 3,
    "start_time": "2024-12-16T03:45:13.429Z"
   },
   {
    "duration": 19,
    "start_time": "2024-12-16T03:45:13.433Z"
   },
   {
    "duration": 8,
    "start_time": "2024-12-16T03:45:13.453Z"
   },
   {
    "duration": 7,
    "start_time": "2024-12-16T03:45:13.463Z"
   },
   {
    "duration": 5,
    "start_time": "2024-12-16T03:45:13.471Z"
   },
   {
    "duration": 248,
    "start_time": "2024-12-16T03:45:13.477Z"
   },
   {
    "duration": 8,
    "start_time": "2024-12-16T03:45:13.728Z"
   },
   {
    "duration": 301,
    "start_time": "2024-12-16T03:45:13.738Z"
   },
   {
    "duration": 278,
    "start_time": "2024-12-16T03:45:14.041Z"
   },
   {
    "duration": 367,
    "start_time": "2024-12-16T03:45:14.322Z"
   },
   {
    "duration": 17,
    "start_time": "2024-12-16T03:45:14.692Z"
   },
   {
    "duration": 13,
    "start_time": "2024-12-16T03:45:14.711Z"
   },
   {
    "duration": 318,
    "start_time": "2024-12-16T03:45:14.726Z"
   },
   {
    "duration": 8,
    "start_time": "2024-12-16T03:45:15.045Z"
   },
   {
    "duration": 13,
    "start_time": "2024-12-16T03:45:15.057Z"
   },
   {
    "duration": 3,
    "start_time": "2024-12-16T03:45:15.072Z"
   },
   {
    "duration": 42,
    "start_time": "2024-12-16T03:45:15.077Z"
   },
   {
    "duration": 584,
    "start_time": "2024-12-16T03:45:15.121Z"
   },
   {
    "duration": 3,
    "start_time": "2024-12-16T03:45:15.713Z"
   },
   {
    "duration": 6,
    "start_time": "2024-12-16T03:45:15.718Z"
   },
   {
    "duration": 4,
    "start_time": "2024-12-16T03:45:15.725Z"
   },
   {
    "duration": 544573,
    "start_time": "2024-12-16T03:54:21.388Z"
   },
   {
    "duration": 1254,
    "start_time": "2024-12-16T05:57:21.777Z"
   },
   {
    "duration": 5,
    "start_time": "2024-12-16T05:57:41.073Z"
   },
   {
    "duration": 1121,
    "start_time": "2024-12-16T06:06:56.994Z"
   },
   {
    "duration": 1334,
    "start_time": "2024-12-16T06:34:56.993Z"
   },
   {
    "duration": 1201,
    "start_time": "2024-12-16T06:35:33.011Z"
   },
   {
    "duration": 1172,
    "start_time": "2024-12-16T06:36:32.659Z"
   },
   {
    "duration": 1241,
    "start_time": "2024-12-16T06:36:56.491Z"
   },
   {
    "duration": 1028,
    "start_time": "2024-12-16T06:39:19.999Z"
   },
   {
    "duration": 543184,
    "start_time": "2024-12-16T06:39:30.724Z"
   },
   {
    "duration": 94,
    "start_time": "2024-12-17T05:51:30.318Z"
   },
   {
    "duration": 2564,
    "start_time": "2024-12-17T05:51:44.418Z"
   },
   {
    "duration": 4126,
    "start_time": "2024-12-17T05:51:46.984Z"
   },
   {
    "duration": 16,
    "start_time": "2024-12-17T05:51:51.111Z"
   },
   {
    "duration": 12,
    "start_time": "2024-12-17T05:51:51.130Z"
   },
   {
    "duration": 5,
    "start_time": "2024-12-17T05:51:51.145Z"
   },
   {
    "duration": 2,
    "start_time": "2024-12-17T05:51:51.152Z"
   },
   {
    "duration": 8,
    "start_time": "2024-12-17T05:51:51.156Z"
   },
   {
    "duration": 10,
    "start_time": "2024-12-17T05:51:51.165Z"
   },
   {
    "duration": 5,
    "start_time": "2024-12-17T05:51:51.177Z"
   },
   {
    "duration": 3,
    "start_time": "2024-12-17T05:51:51.224Z"
   },
   {
    "duration": 8,
    "start_time": "2024-12-17T05:51:51.229Z"
   },
   {
    "duration": 13,
    "start_time": "2024-12-17T05:51:51.239Z"
   },
   {
    "duration": 6,
    "start_time": "2024-12-17T05:51:51.254Z"
   },
   {
    "duration": 2,
    "start_time": "2024-12-17T05:51:51.263Z"
   },
   {
    "duration": 13,
    "start_time": "2024-12-17T05:51:51.267Z"
   },
   {
    "duration": 45,
    "start_time": "2024-12-17T05:51:51.282Z"
   },
   {
    "duration": 6,
    "start_time": "2024-12-17T05:51:51.329Z"
   },
   {
    "duration": 5,
    "start_time": "2024-12-17T05:51:51.337Z"
   },
   {
    "duration": 232,
    "start_time": "2024-12-17T05:51:51.343Z"
   },
   {
    "duration": 8,
    "start_time": "2024-12-17T05:51:51.576Z"
   },
   {
    "duration": 295,
    "start_time": "2024-12-17T05:51:51.585Z"
   },
   {
    "duration": 357,
    "start_time": "2024-12-17T05:51:51.883Z"
   },
   {
    "duration": 304,
    "start_time": "2024-12-17T05:51:52.242Z"
   },
   {
    "duration": 8,
    "start_time": "2024-12-17T05:51:52.548Z"
   },
   {
    "duration": 7,
    "start_time": "2024-12-17T05:51:52.557Z"
   },
   {
    "duration": 350,
    "start_time": "2024-12-17T05:51:52.566Z"
   },
   {
    "duration": 11,
    "start_time": "2024-12-17T05:51:52.918Z"
   },
   {
    "duration": 15,
    "start_time": "2024-12-17T05:51:52.931Z"
   },
   {
    "duration": 4,
    "start_time": "2024-12-17T05:51:52.947Z"
   },
   {
    "duration": 16,
    "start_time": "2024-12-17T05:51:52.953Z"
   },
   {
    "duration": 659,
    "start_time": "2024-12-17T05:51:52.971Z"
   },
   {
    "duration": 3,
    "start_time": "2024-12-17T05:51:53.632Z"
   },
   {
    "duration": 5,
    "start_time": "2024-12-17T05:51:53.639Z"
   },
   {
    "duration": 3,
    "start_time": "2024-12-17T05:51:53.646Z"
   },
   {
    "duration": 547715,
    "start_time": "2024-12-17T05:51:53.651Z"
   },
   {
    "duration": 143,
    "start_time": "2024-12-17T06:01:01.368Z"
   },
   {
    "duration": 0,
    "start_time": "2024-12-17T06:01:01.512Z"
   },
   {
    "duration": 0,
    "start_time": "2024-12-17T06:01:01.515Z"
   },
   {
    "duration": 3,
    "start_time": "2024-12-17T07:10:26.127Z"
   },
   {
    "duration": 3976,
    "start_time": "2024-12-17T07:10:26.140Z"
   },
   {
    "duration": 12,
    "start_time": "2024-12-17T07:10:30.118Z"
   },
   {
    "duration": 15,
    "start_time": "2024-12-17T07:10:30.132Z"
   },
   {
    "duration": 7,
    "start_time": "2024-12-17T07:10:30.149Z"
   },
   {
    "duration": 3,
    "start_time": "2024-12-17T07:10:30.159Z"
   },
   {
    "duration": 10,
    "start_time": "2024-12-17T07:10:30.163Z"
   },
   {
    "duration": 10,
    "start_time": "2024-12-17T07:10:30.175Z"
   },
   {
    "duration": 6,
    "start_time": "2024-12-17T07:10:30.224Z"
   },
   {
    "duration": 3,
    "start_time": "2024-12-17T07:10:30.232Z"
   },
   {
    "duration": 10,
    "start_time": "2024-12-17T07:10:30.236Z"
   },
   {
    "duration": 13,
    "start_time": "2024-12-17T07:10:30.248Z"
   },
   {
    "duration": 7,
    "start_time": "2024-12-17T07:10:30.264Z"
   },
   {
    "duration": 2,
    "start_time": "2024-12-17T07:10:30.273Z"
   },
   {
    "duration": 55,
    "start_time": "2024-12-17T07:10:30.278Z"
   },
   {
    "duration": 9,
    "start_time": "2024-12-17T07:10:30.336Z"
   },
   {
    "duration": 9,
    "start_time": "2024-12-17T07:10:30.347Z"
   },
   {
    "duration": 7,
    "start_time": "2024-12-17T07:10:30.357Z"
   },
   {
    "duration": 237,
    "start_time": "2024-12-17T07:10:30.365Z"
   },
   {
    "duration": 9,
    "start_time": "2024-12-17T07:10:30.604Z"
   },
   {
    "duration": 312,
    "start_time": "2024-12-17T07:10:30.615Z"
   },
   {
    "duration": 301,
    "start_time": "2024-12-17T07:10:30.929Z"
   },
   {
    "duration": 297,
    "start_time": "2024-12-17T07:10:31.234Z"
   },
   {
    "duration": 9,
    "start_time": "2024-12-17T07:10:31.532Z"
   },
   {
    "duration": 6,
    "start_time": "2024-12-17T07:10:31.543Z"
   },
   {
    "duration": 481,
    "start_time": "2024-12-17T07:10:31.551Z"
   },
   {
    "duration": 8,
    "start_time": "2024-12-17T07:10:32.034Z"
   },
   {
    "duration": 16,
    "start_time": "2024-12-17T07:10:32.045Z"
   },
   {
    "duration": 5,
    "start_time": "2024-12-17T07:10:32.062Z"
   },
   {
    "duration": 23,
    "start_time": "2024-12-17T07:10:32.069Z"
   },
   {
    "duration": 557,
    "start_time": "2024-12-17T07:10:32.093Z"
   },
   {
    "duration": 3,
    "start_time": "2024-12-17T07:10:32.652Z"
   },
   {
    "duration": 6,
    "start_time": "2024-12-17T07:10:32.657Z"
   },
   {
    "duration": 6,
    "start_time": "2024-12-17T07:10:54.219Z"
   },
   {
    "duration": 107,
    "start_time": "2024-12-17T07:10:56.875Z"
   },
   {
    "duration": 27,
    "start_time": "2024-12-17T07:11:09.799Z"
   },
   {
    "duration": 152,
    "start_time": "2024-12-17T07:13:35.669Z"
   },
   {
    "duration": 5,
    "start_time": "2024-12-17T07:14:17.558Z"
   },
   {
    "duration": 69,
    "start_time": "2024-12-17T07:14:21.642Z"
   },
   {
    "duration": 631,
    "start_time": "2024-12-17T07:14:41.244Z"
   },
   {
    "duration": 1004,
    "start_time": "2024-12-17T07:15:00.920Z"
   },
   {
    "duration": 4416,
    "start_time": "2024-12-17T07:15:01.926Z"
   },
   {
    "duration": 11,
    "start_time": "2024-12-17T07:15:06.344Z"
   },
   {
    "duration": 85,
    "start_time": "2024-12-17T07:15:06.357Z"
   },
   {
    "duration": 7,
    "start_time": "2024-12-17T07:15:06.445Z"
   },
   {
    "duration": 3,
    "start_time": "2024-12-17T07:15:06.455Z"
   },
   {
    "duration": 9,
    "start_time": "2024-12-17T07:15:06.460Z"
   },
   {
    "duration": 10,
    "start_time": "2024-12-17T07:15:06.472Z"
   },
   {
    "duration": 4,
    "start_time": "2024-12-17T07:15:06.484Z"
   },
   {
    "duration": 34,
    "start_time": "2024-12-17T07:15:06.490Z"
   },
   {
    "duration": 11,
    "start_time": "2024-12-17T07:15:06.526Z"
   },
   {
    "duration": 16,
    "start_time": "2024-12-17T07:15:06.539Z"
   },
   {
    "duration": 7,
    "start_time": "2024-12-17T07:15:06.557Z"
   },
   {
    "duration": 2,
    "start_time": "2024-12-17T07:15:06.569Z"
   },
   {
    "duration": 16,
    "start_time": "2024-12-17T07:15:06.574Z"
   },
   {
    "duration": 9,
    "start_time": "2024-12-17T07:15:06.625Z"
   },
   {
    "duration": 8,
    "start_time": "2024-12-17T07:15:06.637Z"
   },
   {
    "duration": 4,
    "start_time": "2024-12-17T07:15:06.647Z"
   },
   {
    "duration": 225,
    "start_time": "2024-12-17T07:15:06.653Z"
   },
   {
    "duration": 10,
    "start_time": "2024-12-17T07:15:06.880Z"
   },
   {
    "duration": 315,
    "start_time": "2024-12-17T07:15:06.892Z"
   },
   {
    "duration": 302,
    "start_time": "2024-12-17T07:15:07.209Z"
   },
   {
    "duration": 350,
    "start_time": "2024-12-17T07:15:07.513Z"
   },
   {
    "duration": 8,
    "start_time": "2024-12-17T07:15:07.865Z"
   },
   {
    "duration": 7,
    "start_time": "2024-12-17T07:15:07.874Z"
   },
   {
    "duration": 442,
    "start_time": "2024-12-17T07:15:07.882Z"
   },
   {
    "duration": 10,
    "start_time": "2024-12-17T07:15:08.326Z"
   },
   {
    "duration": 17,
    "start_time": "2024-12-17T07:15:08.338Z"
   },
   {
    "duration": 5,
    "start_time": "2024-12-17T07:15:08.356Z"
   },
   {
    "duration": 22,
    "start_time": "2024-12-17T07:15:08.363Z"
   },
   {
    "duration": 556,
    "start_time": "2024-12-17T07:15:08.387Z"
   },
   {
    "duration": 3,
    "start_time": "2024-12-17T07:15:08.945Z"
   },
   {
    "duration": 8,
    "start_time": "2024-12-17T07:15:46.959Z"
   },
   {
    "duration": 242,
    "start_time": "2024-12-17T07:15:53.140Z"
   },
   {
    "duration": 3,
    "start_time": "2024-12-17T07:16:02.608Z"
   },
   {
    "duration": 69123,
    "start_time": "2024-12-17T07:16:06.079Z"
   },
   {
    "duration": 69090,
    "start_time": "2024-12-17T07:17:26.421Z"
   },
   {
    "duration": 68122,
    "start_time": "2024-12-17T08:34:10.542Z"
   },
   {
    "duration": 67804,
    "start_time": "2024-12-17T11:00:59.736Z"
   },
   {
    "duration": 2693,
    "start_time": "2024-12-17T18:35:33.027Z"
   },
   {
    "duration": 4734,
    "start_time": "2024-12-17T18:35:35.722Z"
   },
   {
    "duration": 12,
    "start_time": "2024-12-17T18:35:40.458Z"
   },
   {
    "duration": 24,
    "start_time": "2024-12-17T18:35:40.472Z"
   },
   {
    "duration": 6,
    "start_time": "2024-12-17T18:35:40.498Z"
   },
   {
    "duration": 3,
    "start_time": "2024-12-17T18:35:40.506Z"
   },
   {
    "duration": 9,
    "start_time": "2024-12-17T18:35:40.511Z"
   },
   {
    "duration": 10,
    "start_time": "2024-12-17T18:35:40.522Z"
   },
   {
    "duration": 4,
    "start_time": "2024-12-17T18:35:40.535Z"
   },
   {
    "duration": 3,
    "start_time": "2024-12-17T18:35:40.542Z"
   },
   {
    "duration": 10,
    "start_time": "2024-12-17T18:35:40.586Z"
   },
   {
    "duration": 13,
    "start_time": "2024-12-17T18:35:40.599Z"
   },
   {
    "duration": 8,
    "start_time": "2024-12-17T18:35:40.613Z"
   },
   {
    "duration": 3,
    "start_time": "2024-12-17T18:35:40.622Z"
   },
   {
    "duration": 15,
    "start_time": "2024-12-17T18:35:40.627Z"
   },
   {
    "duration": 47,
    "start_time": "2024-12-17T18:35:40.643Z"
   },
   {
    "duration": 7,
    "start_time": "2024-12-17T18:35:40.692Z"
   },
   {
    "duration": 4,
    "start_time": "2024-12-17T18:35:40.701Z"
   },
   {
    "duration": 241,
    "start_time": "2024-12-17T18:35:40.706Z"
   },
   {
    "duration": 9,
    "start_time": "2024-12-17T18:35:40.949Z"
   },
   {
    "duration": 308,
    "start_time": "2024-12-17T18:35:40.961Z"
   },
   {
    "duration": 357,
    "start_time": "2024-12-17T18:35:41.270Z"
   },
   {
    "duration": 322,
    "start_time": "2024-12-17T18:35:41.629Z"
   },
   {
    "duration": 9,
    "start_time": "2024-12-17T18:35:41.953Z"
   },
   {
    "duration": 7,
    "start_time": "2024-12-17T18:35:41.963Z"
   },
   {
    "duration": 362,
    "start_time": "2024-12-17T18:35:41.971Z"
   },
   {
    "duration": 8,
    "start_time": "2024-12-17T18:35:42.335Z"
   },
   {
    "duration": 14,
    "start_time": "2024-12-17T18:35:42.346Z"
   },
   {
    "duration": 4,
    "start_time": "2024-12-17T18:35:42.362Z"
   },
   {
    "duration": 19,
    "start_time": "2024-12-17T18:35:42.387Z"
   },
   {
    "duration": 691,
    "start_time": "2024-12-17T18:35:42.408Z"
   },
   {
    "duration": 4,
    "start_time": "2024-12-17T18:35:43.105Z"
   },
   {
    "duration": 7,
    "start_time": "2024-12-17T18:35:43.111Z"
   },
   {
    "duration": 4,
    "start_time": "2024-12-17T18:35:43.120Z"
   },
   {
    "duration": 920,
    "start_time": "2024-12-17T19:48:26.049Z"
   },
   {
    "duration": 4673,
    "start_time": "2024-12-17T19:48:26.972Z"
   },
   {
    "duration": 12,
    "start_time": "2024-12-17T19:48:31.647Z"
   },
   {
    "duration": 79,
    "start_time": "2024-12-17T19:48:31.662Z"
   },
   {
    "duration": 7,
    "start_time": "2024-12-17T19:48:31.743Z"
   },
   {
    "duration": 3,
    "start_time": "2024-12-17T19:48:31.752Z"
   },
   {
    "duration": 34,
    "start_time": "2024-12-17T19:48:31.758Z"
   },
   {
    "duration": 11,
    "start_time": "2024-12-17T19:48:31.793Z"
   },
   {
    "duration": 4,
    "start_time": "2024-12-17T19:48:31.806Z"
   },
   {
    "duration": 2,
    "start_time": "2024-12-17T19:48:31.814Z"
   },
   {
    "duration": 8,
    "start_time": "2024-12-17T19:48:31.818Z"
   },
   {
    "duration": 12,
    "start_time": "2024-12-17T19:48:31.828Z"
   },
   {
    "duration": 7,
    "start_time": "2024-12-17T19:48:31.842Z"
   },
   {
    "duration": 38,
    "start_time": "2024-12-17T19:48:31.850Z"
   },
   {
    "duration": 14,
    "start_time": "2024-12-17T19:48:31.891Z"
   },
   {
    "duration": 9,
    "start_time": "2024-12-17T19:48:31.907Z"
   },
   {
    "duration": 18,
    "start_time": "2024-12-17T19:48:31.919Z"
   },
   {
    "duration": 4,
    "start_time": "2024-12-17T19:48:31.939Z"
   },
   {
    "duration": 237,
    "start_time": "2024-12-17T19:48:31.945Z"
   },
   {
    "duration": 8,
    "start_time": "2024-12-17T19:48:32.186Z"
   },
   {
    "duration": 323,
    "start_time": "2024-12-17T19:48:32.195Z"
   },
   {
    "duration": 292,
    "start_time": "2024-12-17T19:48:32.520Z"
   },
   {
    "duration": 308,
    "start_time": "2024-12-17T19:48:32.814Z"
   },
   {
    "duration": 7,
    "start_time": "2024-12-17T19:48:33.124Z"
   },
   {
    "duration": 10,
    "start_time": "2024-12-17T19:48:33.132Z"
   },
   {
    "duration": 451,
    "start_time": "2024-12-17T19:48:33.146Z"
   },
   {
    "duration": 9,
    "start_time": "2024-12-17T19:48:33.599Z"
   },
   {
    "duration": 15,
    "start_time": "2024-12-17T19:48:33.612Z"
   },
   {
    "duration": 4,
    "start_time": "2024-12-17T19:48:33.628Z"
   },
   {
    "duration": 18,
    "start_time": "2024-12-17T19:48:33.634Z"
   },
   {
    "duration": 574,
    "start_time": "2024-12-17T19:48:33.654Z"
   },
   {
    "duration": 3,
    "start_time": "2024-12-17T19:48:34.230Z"
   },
   {
    "duration": 5,
    "start_time": "2024-12-17T19:48:34.234Z"
   },
   {
    "duration": 4,
    "start_time": "2024-12-17T19:48:34.241Z"
   },
   {
    "duration": 563826,
    "start_time": "2024-12-17T19:48:34.247Z"
   },
   {
    "duration": 3,
    "start_time": "2024-12-17T23:20:55.441Z"
   },
   {
    "duration": 4552,
    "start_time": "2024-12-17T23:20:55.448Z"
   },
   {
    "duration": 10,
    "start_time": "2024-12-17T23:21:00.002Z"
   },
   {
    "duration": 14,
    "start_time": "2024-12-17T23:21:00.013Z"
   },
   {
    "duration": 7,
    "start_time": "2024-12-17T23:21:00.028Z"
   },
   {
    "duration": 3,
    "start_time": "2024-12-17T23:21:00.038Z"
   },
   {
    "duration": 8,
    "start_time": "2024-12-17T23:21:00.043Z"
   },
   {
    "duration": 42,
    "start_time": "2024-12-17T23:21:00.053Z"
   },
   {
    "duration": 4,
    "start_time": "2024-12-17T23:21:00.097Z"
   },
   {
    "duration": 3,
    "start_time": "2024-12-17T23:21:00.103Z"
   },
   {
    "duration": 8,
    "start_time": "2024-12-17T23:21:00.108Z"
   },
   {
    "duration": 12,
    "start_time": "2024-12-17T23:21:00.119Z"
   },
   {
    "duration": 7,
    "start_time": "2024-12-17T23:21:00.133Z"
   },
   {
    "duration": 2,
    "start_time": "2024-12-17T23:21:00.142Z"
   },
   {
    "duration": 52,
    "start_time": "2024-12-17T23:21:00.148Z"
   },
   {
    "duration": 9,
    "start_time": "2024-12-17T23:21:00.202Z"
   },
   {
    "duration": 6,
    "start_time": "2024-12-17T23:21:00.213Z"
   },
   {
    "duration": 5,
    "start_time": "2024-12-17T23:21:00.221Z"
   },
   {
    "duration": 242,
    "start_time": "2024-12-17T23:21:00.227Z"
   },
   {
    "duration": 20,
    "start_time": "2024-12-17T23:21:00.470Z"
   },
   {
    "duration": 297,
    "start_time": "2024-12-17T23:21:00.492Z"
   },
   {
    "duration": 297,
    "start_time": "2024-12-17T23:21:00.791Z"
   },
   {
    "duration": 387,
    "start_time": "2024-12-17T23:21:01.090Z"
   },
   {
    "duration": 11,
    "start_time": "2024-12-17T23:21:01.481Z"
   },
   {
    "duration": 6,
    "start_time": "2024-12-17T23:21:01.494Z"
   },
   {
    "duration": 336,
    "start_time": "2024-12-17T23:21:01.501Z"
   },
   {
    "duration": 8,
    "start_time": "2024-12-17T23:21:01.840Z"
   },
   {
    "duration": 16,
    "start_time": "2024-12-17T23:21:01.849Z"
   },
   {
    "duration": 20,
    "start_time": "2024-12-17T23:21:01.866Z"
   },
   {
    "duration": 18,
    "start_time": "2024-12-17T23:21:01.888Z"
   },
   {
    "duration": 578,
    "start_time": "2024-12-17T23:21:01.908Z"
   },
   {
    "duration": 3,
    "start_time": "2024-12-17T23:21:02.488Z"
   },
   {
    "duration": 6,
    "start_time": "2024-12-17T23:21:02.492Z"
   },
   {
    "duration": 3,
    "start_time": "2024-12-17T23:21:02.499Z"
   },
   {
    "duration": 163,
    "start_time": "2024-12-17T23:21:58.442Z"
   },
   {
    "duration": 3,
    "start_time": "2024-12-17T23:25:03.873Z"
   },
   {
    "duration": 50,
    "start_time": "2024-12-17T23:25:05.685Z"
   },
   {
    "duration": 3,
    "start_time": "2024-12-17T23:25:13.709Z"
   },
   {
    "duration": 218,
    "start_time": "2024-12-17T23:25:15.872Z"
   },
   {
    "duration": 940,
    "start_time": "2024-12-17T23:32:03.336Z"
   },
   {
    "duration": 5012,
    "start_time": "2024-12-17T23:32:04.278Z"
   },
   {
    "duration": 12,
    "start_time": "2024-12-17T23:32:09.291Z"
   },
   {
    "duration": 65,
    "start_time": "2024-12-17T23:32:09.306Z"
   },
   {
    "duration": 19,
    "start_time": "2024-12-17T23:32:09.372Z"
   },
   {
    "duration": 2,
    "start_time": "2024-12-17T23:32:09.393Z"
   },
   {
    "duration": 9,
    "start_time": "2024-12-17T23:32:09.397Z"
   },
   {
    "duration": 10,
    "start_time": "2024-12-17T23:32:09.408Z"
   },
   {
    "duration": 5,
    "start_time": "2024-12-17T23:32:09.419Z"
   },
   {
    "duration": 3,
    "start_time": "2024-12-17T23:32:09.427Z"
   },
   {
    "duration": 9,
    "start_time": "2024-12-17T23:32:09.432Z"
   },
   {
    "duration": 56,
    "start_time": "2024-12-17T23:32:09.443Z"
   },
   {
    "duration": 6,
    "start_time": "2024-12-17T23:32:09.501Z"
   },
   {
    "duration": 2,
    "start_time": "2024-12-17T23:32:09.509Z"
   },
   {
    "duration": 14,
    "start_time": "2024-12-17T23:32:09.514Z"
   },
   {
    "duration": 8,
    "start_time": "2024-12-17T23:32:09.530Z"
   },
   {
    "duration": 47,
    "start_time": "2024-12-17T23:32:09.539Z"
   },
   {
    "duration": 6,
    "start_time": "2024-12-17T23:32:09.588Z"
   },
   {
    "duration": 216,
    "start_time": "2024-12-17T23:32:09.596Z"
   },
   {
    "duration": 8,
    "start_time": "2024-12-17T23:32:09.814Z"
   },
   {
    "duration": 331,
    "start_time": "2024-12-17T23:32:09.824Z"
   },
   {
    "duration": 299,
    "start_time": "2024-12-17T23:32:10.157Z"
   },
   {
    "duration": 300,
    "start_time": "2024-12-17T23:32:10.458Z"
   },
   {
    "duration": 8,
    "start_time": "2024-12-17T23:32:10.759Z"
   },
   {
    "duration": 19,
    "start_time": "2024-12-17T23:32:10.768Z"
   },
   {
    "duration": 436,
    "start_time": "2024-12-17T23:32:10.789Z"
   },
   {
    "duration": 8,
    "start_time": "2024-12-17T23:32:11.227Z"
   },
   {
    "duration": 14,
    "start_time": "2024-12-17T23:32:11.238Z"
   },
   {
    "duration": 4,
    "start_time": "2024-12-17T23:32:11.254Z"
   },
   {
    "duration": 45,
    "start_time": "2024-12-17T23:32:11.261Z"
   },
   {
    "duration": 565,
    "start_time": "2024-12-17T23:32:11.308Z"
   },
   {
    "duration": 3,
    "start_time": "2024-12-17T23:32:11.875Z"
   },
   {
    "duration": 11,
    "start_time": "2024-12-17T23:32:11.880Z"
   },
   {
    "duration": 3,
    "start_time": "2024-12-17T23:32:11.893Z"
   },
   {
    "duration": 289,
    "start_time": "2024-12-17T23:32:11.898Z"
   },
   {
    "duration": 226,
    "start_time": "2024-12-17T23:32:38.961Z"
   },
   {
    "duration": 979,
    "start_time": "2024-12-17T23:45:31.002Z"
   },
   {
    "duration": 4596,
    "start_time": "2024-12-17T23:45:31.984Z"
   },
   {
    "duration": 12,
    "start_time": "2024-12-17T23:45:36.584Z"
   },
   {
    "duration": 63,
    "start_time": "2024-12-17T23:45:36.597Z"
   },
   {
    "duration": 6,
    "start_time": "2024-12-17T23:45:36.663Z"
   },
   {
    "duration": 21,
    "start_time": "2024-12-17T23:45:36.670Z"
   },
   {
    "duration": 10,
    "start_time": "2024-12-17T23:45:36.693Z"
   },
   {
    "duration": 9,
    "start_time": "2024-12-17T23:45:36.705Z"
   },
   {
    "duration": 5,
    "start_time": "2024-12-17T23:45:36.715Z"
   },
   {
    "duration": 3,
    "start_time": "2024-12-17T23:45:36.721Z"
   },
   {
    "duration": 8,
    "start_time": "2024-12-17T23:45:36.725Z"
   },
   {
    "duration": 13,
    "start_time": "2024-12-17T23:45:36.735Z"
   },
   {
    "duration": 6,
    "start_time": "2024-12-17T23:45:36.786Z"
   },
   {
    "duration": 2,
    "start_time": "2024-12-17T23:45:36.796Z"
   },
   {
    "duration": 13,
    "start_time": "2024-12-17T23:45:36.800Z"
   },
   {
    "duration": 9,
    "start_time": "2024-12-17T23:45:36.815Z"
   },
   {
    "duration": 7,
    "start_time": "2024-12-17T23:45:36.826Z"
   },
   {
    "duration": 4,
    "start_time": "2024-12-17T23:45:36.835Z"
   },
   {
    "duration": 255,
    "start_time": "2024-12-17T23:45:36.841Z"
   },
   {
    "duration": 8,
    "start_time": "2024-12-17T23:45:37.097Z"
   },
   {
    "duration": 302,
    "start_time": "2024-12-17T23:45:37.107Z"
   },
   {
    "duration": 300,
    "start_time": "2024-12-17T23:45:37.410Z"
   },
   {
    "duration": 305,
    "start_time": "2024-12-17T23:45:37.712Z"
   },
   {
    "duration": 8,
    "start_time": "2024-12-17T23:45:38.019Z"
   },
   {
    "duration": 8,
    "start_time": "2024-12-17T23:45:38.033Z"
   },
   {
    "duration": 410,
    "start_time": "2024-12-17T23:45:38.042Z"
   },
   {
    "duration": 8,
    "start_time": "2024-12-17T23:45:38.454Z"
   },
   {
    "duration": 27,
    "start_time": "2024-12-17T23:45:38.464Z"
   },
   {
    "duration": 4,
    "start_time": "2024-12-17T23:45:38.493Z"
   },
   {
    "duration": 18,
    "start_time": "2024-12-17T23:45:38.498Z"
   },
   {
    "duration": 570,
    "start_time": "2024-12-17T23:45:38.518Z"
   },
   {
    "duration": 3,
    "start_time": "2024-12-17T23:45:39.090Z"
   },
   {
    "duration": 5,
    "start_time": "2024-12-17T23:45:39.095Z"
   },
   {
    "duration": 3,
    "start_time": "2024-12-17T23:45:39.102Z"
   },
   {
    "duration": 231,
    "start_time": "2024-12-17T23:46:03.055Z"
   },
   {
    "duration": 259,
    "start_time": "2024-12-17T23:46:12.077Z"
   },
   {
    "duration": 28,
    "start_time": "2024-12-17T23:46:43.186Z"
   },
   {
    "duration": 26,
    "start_time": "2024-12-17T23:47:33.062Z"
   },
   {
    "duration": 3,
    "start_time": "2024-12-17T23:48:08.350Z"
   },
   {
    "duration": 692,
    "start_time": "2024-12-17T23:48:16.707Z"
   },
   {
    "duration": 702,
    "start_time": "2024-12-17T23:49:30.236Z"
   },
   {
    "duration": 3611,
    "start_time": "2024-12-17T23:49:37.680Z"
   },
   {
    "duration": 2739,
    "start_time": "2024-12-17T23:52:49.677Z"
   },
   {
    "duration": 174086,
    "start_time": "2024-12-17T23:56:13.943Z"
   },
   {
    "duration": 3062,
    "start_time": "2024-12-18T05:27:47.912Z"
   },
   {
    "duration": 5030,
    "start_time": "2024-12-18T05:27:50.976Z"
   },
   {
    "duration": 17,
    "start_time": "2024-12-18T05:27:56.008Z"
   },
   {
    "duration": 18,
    "start_time": "2024-12-18T05:27:56.027Z"
   },
   {
    "duration": 10,
    "start_time": "2024-12-18T05:27:56.048Z"
   },
   {
    "duration": 2,
    "start_time": "2024-12-18T05:27:56.061Z"
   },
   {
    "duration": 9,
    "start_time": "2024-12-18T05:27:56.065Z"
   },
   {
    "duration": 11,
    "start_time": "2024-12-18T05:27:56.076Z"
   },
   {
    "duration": 42,
    "start_time": "2024-12-18T05:27:56.088Z"
   },
   {
    "duration": 5,
    "start_time": "2024-12-18T05:27:56.136Z"
   },
   {
    "duration": 13,
    "start_time": "2024-12-18T05:27:56.143Z"
   },
   {
    "duration": 13,
    "start_time": "2024-12-18T05:27:56.158Z"
   },
   {
    "duration": 6,
    "start_time": "2024-12-18T05:27:56.173Z"
   },
   {
    "duration": 3,
    "start_time": "2024-12-18T05:27:56.180Z"
   },
   {
    "duration": 45,
    "start_time": "2024-12-18T05:27:56.184Z"
   },
   {
    "duration": 12,
    "start_time": "2024-12-18T05:27:56.234Z"
   },
   {
    "duration": 9,
    "start_time": "2024-12-18T05:27:56.251Z"
   },
   {
    "duration": 4,
    "start_time": "2024-12-18T05:27:56.261Z"
   },
   {
    "duration": 234,
    "start_time": "2024-12-18T05:27:56.267Z"
   },
   {
    "duration": 8,
    "start_time": "2024-12-18T05:27:56.504Z"
   },
   {
    "duration": 339,
    "start_time": "2024-12-18T05:27:56.524Z"
   },
   {
    "duration": 386,
    "start_time": "2024-12-18T05:27:56.865Z"
   },
   {
    "duration": 337,
    "start_time": "2024-12-18T05:27:57.253Z"
   },
   {
    "duration": 8,
    "start_time": "2024-12-18T05:27:57.592Z"
   },
   {
    "duration": 7,
    "start_time": "2024-12-18T05:27:57.603Z"
   },
   {
    "duration": 383,
    "start_time": "2024-12-18T05:27:57.627Z"
   },
   {
    "duration": 23,
    "start_time": "2024-12-18T05:27:58.012Z"
   },
   {
    "duration": 23,
    "start_time": "2024-12-18T05:27:58.047Z"
   },
   {
    "duration": 4,
    "start_time": "2024-12-18T05:27:58.071Z"
   },
   {
    "duration": 18,
    "start_time": "2024-12-18T05:27:58.077Z"
   },
   {
    "duration": 670,
    "start_time": "2024-12-18T05:27:58.097Z"
   },
   {
    "duration": 4,
    "start_time": "2024-12-18T05:27:58.769Z"
   },
   {
    "duration": 5,
    "start_time": "2024-12-18T05:27:58.774Z"
   },
   {
    "duration": 3,
    "start_time": "2024-12-18T05:27:58.781Z"
   },
   {
    "duration": 1028,
    "start_time": "2024-12-18T05:34:53.642Z"
   },
   {
    "duration": 4901,
    "start_time": "2024-12-18T05:34:54.672Z"
   },
   {
    "duration": 14,
    "start_time": "2024-12-18T05:34:59.575Z"
   },
   {
    "duration": 90,
    "start_time": "2024-12-18T05:34:59.592Z"
   },
   {
    "duration": 7,
    "start_time": "2024-12-18T05:34:59.683Z"
   },
   {
    "duration": 3,
    "start_time": "2024-12-18T05:34:59.692Z"
   },
   {
    "duration": 29,
    "start_time": "2024-12-18T05:34:59.696Z"
   },
   {
    "duration": 18,
    "start_time": "2024-12-18T05:34:59.727Z"
   },
   {
    "duration": 11,
    "start_time": "2024-12-18T05:34:59.747Z"
   },
   {
    "duration": 4,
    "start_time": "2024-12-18T05:34:59.765Z"
   },
   {
    "duration": 10,
    "start_time": "2024-12-18T05:34:59.773Z"
   },
   {
    "duration": 14,
    "start_time": "2024-12-18T05:34:59.785Z"
   },
   {
    "duration": 24,
    "start_time": "2024-12-18T05:34:59.801Z"
   },
   {
    "duration": 5,
    "start_time": "2024-12-18T05:34:59.829Z"
   },
   {
    "duration": 26,
    "start_time": "2024-12-18T05:34:59.836Z"
   },
   {
    "duration": 10,
    "start_time": "2024-12-18T05:34:59.867Z"
   },
   {
    "duration": 8,
    "start_time": "2024-12-18T05:34:59.879Z"
   },
   {
    "duration": 5,
    "start_time": "2024-12-18T05:34:59.889Z"
   },
   {
    "duration": 266,
    "start_time": "2024-12-18T05:34:59.896Z"
   },
   {
    "duration": 9,
    "start_time": "2024-12-18T05:35:00.168Z"
   },
   {
    "duration": 359,
    "start_time": "2024-12-18T05:35:00.181Z"
   },
   {
    "duration": 342,
    "start_time": "2024-12-18T05:35:00.546Z"
   },
   {
    "duration": 367,
    "start_time": "2024-12-18T05:35:00.890Z"
   },
   {
    "duration": 12,
    "start_time": "2024-12-18T05:35:01.259Z"
   },
   {
    "duration": 11,
    "start_time": "2024-12-18T05:35:01.273Z"
   },
   {
    "duration": 517,
    "start_time": "2024-12-18T05:35:01.285Z"
   },
   {
    "duration": 8,
    "start_time": "2024-12-18T05:35:01.804Z"
   },
   {
    "duration": 21,
    "start_time": "2024-12-18T05:35:01.843Z"
   },
   {
    "duration": 4,
    "start_time": "2024-12-18T05:35:01.866Z"
   },
   {
    "duration": 18,
    "start_time": "2024-12-18T05:35:01.872Z"
   },
   {
    "duration": 608,
    "start_time": "2024-12-18T05:35:01.892Z"
   },
   {
    "duration": 6,
    "start_time": "2024-12-18T05:35:02.502Z"
   },
   {
    "duration": 5,
    "start_time": "2024-12-18T05:35:02.510Z"
   },
   {
    "duration": 1018,
    "start_time": "2024-12-18T05:44:52.053Z"
   },
   {
    "duration": 4991,
    "start_time": "2024-12-18T05:44:53.073Z"
   },
   {
    "duration": 15,
    "start_time": "2024-12-18T05:44:58.066Z"
   },
   {
    "duration": 89,
    "start_time": "2024-12-18T05:44:58.084Z"
   },
   {
    "duration": 15,
    "start_time": "2024-12-18T05:44:58.176Z"
   },
   {
    "duration": 3,
    "start_time": "2024-12-18T05:44:58.193Z"
   },
   {
    "duration": 11,
    "start_time": "2024-12-18T05:44:58.198Z"
   },
   {
    "duration": 29,
    "start_time": "2024-12-18T05:44:58.210Z"
   },
   {
    "duration": 8,
    "start_time": "2024-12-18T05:44:58.241Z"
   },
   {
    "duration": 5,
    "start_time": "2024-12-18T05:44:58.252Z"
   },
   {
    "duration": 23,
    "start_time": "2024-12-18T05:44:58.259Z"
   },
   {
    "duration": 14,
    "start_time": "2024-12-18T05:44:58.284Z"
   },
   {
    "duration": 7,
    "start_time": "2024-12-18T05:44:58.300Z"
   },
   {
    "duration": 3,
    "start_time": "2024-12-18T05:44:58.309Z"
   },
   {
    "duration": 43,
    "start_time": "2024-12-18T05:44:58.328Z"
   },
   {
    "duration": 9,
    "start_time": "2024-12-18T05:44:58.374Z"
   },
   {
    "duration": 7,
    "start_time": "2024-12-18T05:44:58.385Z"
   },
   {
    "duration": 4,
    "start_time": "2024-12-18T05:44:58.394Z"
   },
   {
    "duration": 278,
    "start_time": "2024-12-18T05:44:58.399Z"
   },
   {
    "duration": 8,
    "start_time": "2024-12-18T05:44:58.679Z"
   },
   {
    "duration": 396,
    "start_time": "2024-12-18T05:44:58.690Z"
   },
   {
    "duration": 377,
    "start_time": "2024-12-18T05:44:59.088Z"
   },
   {
    "duration": 391,
    "start_time": "2024-12-18T05:44:59.468Z"
   },
   {
    "duration": 7,
    "start_time": "2024-12-18T05:44:59.861Z"
   },
   {
    "duration": 7,
    "start_time": "2024-12-18T05:44:59.871Z"
   },
   {
    "duration": 576,
    "start_time": "2024-12-18T05:44:59.880Z"
   },
   {
    "duration": 10,
    "start_time": "2024-12-18T05:45:00.458Z"
   },
   {
    "duration": 15,
    "start_time": "2024-12-18T05:45:00.473Z"
   },
   {
    "duration": 5,
    "start_time": "2024-12-18T05:45:00.490Z"
   },
   {
    "duration": 24,
    "start_time": "2024-12-18T05:45:00.498Z"
   },
   {
    "duration": 735,
    "start_time": "2024-12-18T05:45:00.524Z"
   },
   {
    "duration": 4,
    "start_time": "2024-12-18T05:45:01.261Z"
   },
   {
    "duration": 6,
    "start_time": "2024-12-18T05:45:01.268Z"
   },
   {
    "duration": 966,
    "start_time": "2024-12-18T08:31:07.056Z"
   },
   {
    "duration": 3950,
    "start_time": "2024-12-18T08:31:08.024Z"
   },
   {
    "duration": 13,
    "start_time": "2024-12-18T08:31:11.976Z"
   },
   {
    "duration": 92,
    "start_time": "2024-12-18T08:31:11.991Z"
   },
   {
    "duration": 7,
    "start_time": "2024-12-18T08:31:12.086Z"
   },
   {
    "duration": 3,
    "start_time": "2024-12-18T08:31:12.094Z"
   },
   {
    "duration": 27,
    "start_time": "2024-12-18T08:31:12.098Z"
   },
   {
    "duration": 10,
    "start_time": "2024-12-18T08:31:12.127Z"
   },
   {
    "duration": 4,
    "start_time": "2024-12-18T08:31:12.139Z"
   },
   {
    "duration": 3,
    "start_time": "2024-12-18T08:31:12.144Z"
   },
   {
    "duration": 8,
    "start_time": "2024-12-18T08:31:12.149Z"
   },
   {
    "duration": 16,
    "start_time": "2024-12-18T08:31:12.159Z"
   },
   {
    "duration": 7,
    "start_time": "2024-12-18T08:31:12.177Z"
   },
   {
    "duration": 2,
    "start_time": "2024-12-18T08:31:12.225Z"
   },
   {
    "duration": 18,
    "start_time": "2024-12-18T08:31:12.230Z"
   },
   {
    "duration": 11,
    "start_time": "2024-12-18T08:31:12.249Z"
   },
   {
    "duration": 9,
    "start_time": "2024-12-18T08:31:12.261Z"
   },
   {
    "duration": 5,
    "start_time": "2024-12-18T08:31:12.271Z"
   },
   {
    "duration": 270,
    "start_time": "2024-12-18T08:31:12.279Z"
   },
   {
    "duration": 10,
    "start_time": "2024-12-18T08:31:12.551Z"
   },
   {
    "duration": 304,
    "start_time": "2024-12-18T08:31:12.564Z"
   },
   {
    "duration": 295,
    "start_time": "2024-12-18T08:31:12.869Z"
   },
   {
    "duration": 298,
    "start_time": "2024-12-18T08:31:13.166Z"
   },
   {
    "duration": 7,
    "start_time": "2024-12-18T08:31:13.466Z"
   },
   {
    "duration": 8,
    "start_time": "2024-12-18T08:31:13.474Z"
   },
   {
    "duration": 455,
    "start_time": "2024-12-18T08:31:13.484Z"
   },
   {
    "duration": 8,
    "start_time": "2024-12-18T08:31:13.941Z"
   },
   {
    "duration": 14,
    "start_time": "2024-12-18T08:31:13.951Z"
   },
   {
    "duration": 4,
    "start_time": "2024-12-18T08:31:13.967Z"
   },
   {
    "duration": 18,
    "start_time": "2024-12-18T08:31:13.973Z"
   },
   {
    "duration": 605,
    "start_time": "2024-12-18T08:31:14.025Z"
   },
   {
    "duration": 4,
    "start_time": "2024-12-18T08:31:14.632Z"
   },
   {
    "duration": 5,
    "start_time": "2024-12-18T08:31:14.637Z"
   },
   {
    "duration": 224,
    "start_time": "2024-12-18T08:31:24.857Z"
   },
   {
    "duration": 174391,
    "start_time": "2024-12-18T08:31:55.340Z"
   },
   {
    "duration": 3797498,
    "start_time": "2024-12-18T08:39:44.499Z"
   },
   {
    "duration": 2719,
    "start_time": "2024-12-19T03:15:20.487Z"
   },
   {
    "duration": 3941,
    "start_time": "2024-12-19T03:15:23.208Z"
   },
   {
    "duration": 22,
    "start_time": "2024-12-19T03:15:27.154Z"
   },
   {
    "duration": 17,
    "start_time": "2024-12-19T03:15:27.179Z"
   },
   {
    "duration": 8,
    "start_time": "2024-12-19T03:15:27.198Z"
   },
   {
    "duration": 3,
    "start_time": "2024-12-19T03:15:27.207Z"
   },
   {
    "duration": 9,
    "start_time": "2024-12-19T03:15:27.212Z"
   },
   {
    "duration": 10,
    "start_time": "2024-12-19T03:15:27.223Z"
   },
   {
    "duration": 37,
    "start_time": "2024-12-19T03:15:27.234Z"
   },
   {
    "duration": 3,
    "start_time": "2024-12-19T03:15:27.274Z"
   },
   {
    "duration": 9,
    "start_time": "2024-12-19T03:15:27.279Z"
   },
   {
    "duration": 13,
    "start_time": "2024-12-19T03:15:27.289Z"
   },
   {
    "duration": 6,
    "start_time": "2024-12-19T03:15:27.304Z"
   },
   {
    "duration": 3,
    "start_time": "2024-12-19T03:15:27.312Z"
   },
   {
    "duration": 14,
    "start_time": "2024-12-19T03:15:27.316Z"
   },
   {
    "duration": 45,
    "start_time": "2024-12-19T03:15:27.332Z"
   },
   {
    "duration": 7,
    "start_time": "2024-12-19T03:15:27.379Z"
   },
   {
    "duration": 4,
    "start_time": "2024-12-19T03:15:27.388Z"
   },
   {
    "duration": 245,
    "start_time": "2024-12-19T03:15:27.394Z"
   },
   {
    "duration": 11,
    "start_time": "2024-12-19T03:15:27.641Z"
   },
   {
    "duration": 300,
    "start_time": "2024-12-19T03:15:27.653Z"
   },
   {
    "duration": 293,
    "start_time": "2024-12-19T03:15:27.955Z"
   },
   {
    "duration": 370,
    "start_time": "2024-12-19T03:15:28.251Z"
   },
   {
    "duration": 8,
    "start_time": "2024-12-19T03:15:28.623Z"
   },
   {
    "duration": 6,
    "start_time": "2024-12-19T03:15:28.632Z"
   },
   {
    "duration": 361,
    "start_time": "2024-12-19T03:15:28.640Z"
   },
   {
    "duration": 8,
    "start_time": "2024-12-19T03:15:29.003Z"
   },
   {
    "duration": 14,
    "start_time": "2024-12-19T03:15:29.015Z"
   },
   {
    "duration": 5,
    "start_time": "2024-12-19T03:15:29.030Z"
   },
   {
    "duration": 43,
    "start_time": "2024-12-19T03:15:29.037Z"
   },
   {
    "duration": 595,
    "start_time": "2024-12-19T03:15:29.082Z"
   },
   {
    "duration": 3,
    "start_time": "2024-12-19T03:15:29.680Z"
   },
   {
    "duration": 6,
    "start_time": "2024-12-19T03:15:29.684Z"
   },
   {
    "duration": 915,
    "start_time": "2024-12-19T03:49:04.736Z"
   },
   {
    "duration": 4020,
    "start_time": "2024-12-19T03:49:05.654Z"
   },
   {
    "duration": 11,
    "start_time": "2024-12-19T03:49:09.676Z"
   },
   {
    "duration": 81,
    "start_time": "2024-12-19T03:49:09.690Z"
   },
   {
    "duration": 7,
    "start_time": "2024-12-19T03:49:09.773Z"
   },
   {
    "duration": 3,
    "start_time": "2024-12-19T03:49:09.781Z"
   },
   {
    "duration": 8,
    "start_time": "2024-12-19T03:49:09.786Z"
   },
   {
    "duration": 9,
    "start_time": "2024-12-19T03:49:09.796Z"
   },
   {
    "duration": 4,
    "start_time": "2024-12-19T03:49:09.807Z"
   },
   {
    "duration": 3,
    "start_time": "2024-12-19T03:49:09.815Z"
   },
   {
    "duration": 53,
    "start_time": "2024-12-19T03:49:09.820Z"
   },
   {
    "duration": 12,
    "start_time": "2024-12-19T03:49:09.875Z"
   },
   {
    "duration": 6,
    "start_time": "2024-12-19T03:49:09.889Z"
   },
   {
    "duration": 3,
    "start_time": "2024-12-19T03:49:09.897Z"
   },
   {
    "duration": 13,
    "start_time": "2024-12-19T03:49:09.902Z"
   },
   {
    "duration": 8,
    "start_time": "2024-12-19T03:49:09.917Z"
   },
   {
    "duration": 7,
    "start_time": "2024-12-19T03:49:09.926Z"
   },
   {
    "duration": 39,
    "start_time": "2024-12-19T03:49:09.934Z"
   },
   {
    "duration": 247,
    "start_time": "2024-12-19T03:49:09.975Z"
   },
   {
    "duration": 11,
    "start_time": "2024-12-19T03:49:10.227Z"
   },
   {
    "duration": 312,
    "start_time": "2024-12-19T03:49:10.241Z"
   },
   {
    "duration": 304,
    "start_time": "2024-12-19T03:49:10.555Z"
   },
   {
    "duration": 304,
    "start_time": "2024-12-19T03:49:10.861Z"
   },
   {
    "duration": 8,
    "start_time": "2024-12-19T03:49:11.170Z"
   },
   {
    "duration": 6,
    "start_time": "2024-12-19T03:49:11.180Z"
   },
   {
    "duration": 422,
    "start_time": "2024-12-19T03:49:11.188Z"
   },
   {
    "duration": 9,
    "start_time": "2024-12-19T03:49:11.611Z"
   },
   {
    "duration": 14,
    "start_time": "2024-12-19T03:49:11.625Z"
   },
   {
    "duration": 4,
    "start_time": "2024-12-19T03:49:11.640Z"
   },
   {
    "duration": 41,
    "start_time": "2024-12-19T03:49:11.646Z"
   },
   {
    "duration": 582,
    "start_time": "2024-12-19T03:49:11.688Z"
   },
   {
    "duration": 4,
    "start_time": "2024-12-19T03:49:12.272Z"
   },
   {
    "duration": 6,
    "start_time": "2024-12-19T03:49:12.278Z"
   },
   {
    "duration": 3769175,
    "start_time": "2024-12-19T03:49:12.286Z"
   },
   {
    "duration": 173119,
    "start_time": "2024-12-19T04:52:01.463Z"
   },
   {
    "duration": 58,
    "start_time": "2024-12-19T04:54:54.583Z"
   },
   {
    "duration": 70,
    "start_time": "2024-12-19T04:54:54.643Z"
   },
   {
    "duration": 0,
    "start_time": "2024-12-19T04:54:54.715Z"
   },
   {
    "duration": 0,
    "start_time": "2024-12-19T04:54:54.716Z"
   },
   {
    "duration": 173380,
    "start_time": "2024-12-19T05:10:27.159Z"
   },
   {
    "duration": 15,
    "start_time": "2024-12-19T05:25:24.511Z"
   },
   {
    "duration": 16057,
    "start_time": "2024-12-19T05:25:43.404Z"
   },
   {
    "duration": 16016,
    "start_time": "2024-12-19T05:26:35.853Z"
   },
   {
    "duration": 58,
    "start_time": "2024-12-19T05:32:42.456Z"
   },
   {
    "duration": 335,
    "start_time": "2024-12-19T05:38:10.251Z"
   },
   {
    "duration": 57,
    "start_time": "2024-12-19T05:44:42.353Z"
   },
   {
    "duration": 176,
    "start_time": "2024-12-19T05:44:44.903Z"
   },
   {
    "duration": 172,
    "start_time": "2024-12-19T05:56:35.693Z"
   },
   {
    "duration": 250,
    "start_time": "2024-12-19T06:39:40.395Z"
   },
   {
    "duration": 249,
    "start_time": "2024-12-19T06:40:01.631Z"
   },
   {
    "duration": 7,
    "start_time": "2024-12-19T06:40:56.893Z"
   },
   {
    "duration": 234,
    "start_time": "2024-12-19T06:41:05.825Z"
   },
   {
    "duration": 232,
    "start_time": "2024-12-19T06:42:22.647Z"
   },
   {
    "duration": 230,
    "start_time": "2024-12-19T06:52:38.354Z"
   },
   {
    "duration": 3550,
    "start_time": "2024-12-19T22:26:18.450Z"
   },
   {
    "duration": 4207,
    "start_time": "2024-12-19T22:26:22.002Z"
   },
   {
    "duration": 20,
    "start_time": "2024-12-19T22:26:26.211Z"
   },
   {
    "duration": 23,
    "start_time": "2024-12-19T22:26:26.237Z"
   },
   {
    "duration": 9,
    "start_time": "2024-12-19T22:26:26.263Z"
   },
   {
    "duration": 29,
    "start_time": "2024-12-19T22:26:26.276Z"
   },
   {
    "duration": 11,
    "start_time": "2024-12-19T22:26:26.308Z"
   },
   {
    "duration": 12,
    "start_time": "2024-12-19T22:26:26.322Z"
   },
   {
    "duration": 5,
    "start_time": "2024-12-19T22:26:26.336Z"
   },
   {
    "duration": 3,
    "start_time": "2024-12-19T22:26:26.346Z"
   },
   {
    "duration": 13,
    "start_time": "2024-12-19T22:26:26.350Z"
   },
   {
    "duration": 54,
    "start_time": "2024-12-19T22:26:26.366Z"
   },
   {
    "duration": 9,
    "start_time": "2024-12-19T22:26:26.422Z"
   },
   {
    "duration": 2,
    "start_time": "2024-12-19T22:26:26.434Z"
   },
   {
    "duration": 37,
    "start_time": "2024-12-19T22:26:26.439Z"
   },
   {
    "duration": 36,
    "start_time": "2024-12-19T22:26:26.481Z"
   },
   {
    "duration": 11,
    "start_time": "2024-12-19T22:26:26.519Z"
   },
   {
    "duration": 7,
    "start_time": "2024-12-19T22:26:26.534Z"
   },
   {
    "duration": 270,
    "start_time": "2024-12-19T22:26:26.543Z"
   },
   {
    "duration": 9,
    "start_time": "2024-12-19T22:26:26.815Z"
   },
   {
    "duration": 412,
    "start_time": "2024-12-19T22:26:26.827Z"
   },
   {
    "duration": 321,
    "start_time": "2024-12-19T22:26:27.242Z"
   },
   {
    "duration": 346,
    "start_time": "2024-12-19T22:26:27.565Z"
   },
   {
    "duration": 11,
    "start_time": "2024-12-19T22:26:27.913Z"
   },
   {
    "duration": 9,
    "start_time": "2024-12-19T22:26:27.926Z"
   },
   {
    "duration": 397,
    "start_time": "2024-12-19T22:26:27.938Z"
   },
   {
    "duration": 10,
    "start_time": "2024-12-19T22:26:28.337Z"
   },
   {
    "duration": 17,
    "start_time": "2024-12-19T22:26:28.353Z"
   },
   {
    "duration": 4,
    "start_time": "2024-12-19T22:26:28.372Z"
   },
   {
    "duration": 26,
    "start_time": "2024-12-19T22:26:28.406Z"
   },
   {
    "duration": 735,
    "start_time": "2024-12-19T22:26:28.434Z"
   },
   {
    "duration": 4,
    "start_time": "2024-12-19T22:26:29.172Z"
   },
   {
    "duration": 6,
    "start_time": "2024-12-19T22:26:29.178Z"
   },
   {
    "duration": 16435,
    "start_time": "2024-12-19T22:26:29.186Z"
   },
   {
    "duration": 176966,
    "start_time": "2024-12-19T22:26:45.623Z"
   },
   {
    "duration": 72,
    "start_time": "2024-12-19T22:29:42.591Z"
   },
   {
    "duration": 293,
    "start_time": "2024-12-19T22:29:42.665Z"
   },
   {
    "duration": 278,
    "start_time": "2024-12-19T22:29:42.960Z"
   },
   {
    "duration": 68,
    "start_time": "2024-12-19T22:43:43.711Z"
   },
   {
    "duration": 4685,
    "start_time": "2024-12-19T22:43:46.068Z"
   },
   {
    "duration": 4632,
    "start_time": "2024-12-19T22:44:01.988Z"
   },
   {
    "duration": 20,
    "start_time": "2024-12-19T22:44:14.938Z"
   },
   {
    "duration": 20,
    "start_time": "2024-12-19T22:45:15.171Z"
   },
   {
    "duration": 8,
    "start_time": "2024-12-19T22:46:04.911Z"
   },
   {
    "duration": 2659,
    "start_time": "2024-12-20T09:32:50.214Z"
   },
   {
    "duration": 4076,
    "start_time": "2024-12-20T09:32:52.875Z"
   },
   {
    "duration": 12,
    "start_time": "2024-12-20T09:32:56.952Z"
   },
   {
    "duration": 12,
    "start_time": "2024-12-20T09:32:56.967Z"
   },
   {
    "duration": 6,
    "start_time": "2024-12-20T09:32:56.981Z"
   },
   {
    "duration": 3,
    "start_time": "2024-12-20T09:32:56.988Z"
   },
   {
    "duration": 8,
    "start_time": "2024-12-20T09:32:56.993Z"
   },
   {
    "duration": 48,
    "start_time": "2024-12-20T09:32:57.003Z"
   },
   {
    "duration": 5,
    "start_time": "2024-12-20T09:32:57.052Z"
   },
   {
    "duration": 3,
    "start_time": "2024-12-20T09:32:57.059Z"
   },
   {
    "duration": 8,
    "start_time": "2024-12-20T09:32:57.064Z"
   },
   {
    "duration": 13,
    "start_time": "2024-12-20T09:32:57.074Z"
   },
   {
    "duration": 6,
    "start_time": "2024-12-20T09:32:57.088Z"
   },
   {
    "duration": 2,
    "start_time": "2024-12-20T09:32:57.096Z"
   },
   {
    "duration": 14,
    "start_time": "2024-12-20T09:32:57.142Z"
   },
   {
    "duration": 9,
    "start_time": "2024-12-20T09:32:57.157Z"
   },
   {
    "duration": 6,
    "start_time": "2024-12-20T09:32:57.168Z"
   },
   {
    "duration": 4,
    "start_time": "2024-12-20T09:32:57.176Z"
   },
   {
    "duration": 235,
    "start_time": "2024-12-20T09:32:57.182Z"
   },
   {
    "duration": 7,
    "start_time": "2024-12-20T09:32:57.418Z"
   },
   {
    "duration": 294,
    "start_time": "2024-12-20T09:32:57.428Z"
   },
   {
    "duration": 346,
    "start_time": "2024-12-20T09:32:57.725Z"
   },
   {
    "duration": 303,
    "start_time": "2024-12-20T09:32:58.077Z"
   },
   {
    "duration": 8,
    "start_time": "2024-12-20T09:32:58.382Z"
   },
   {
    "duration": 5,
    "start_time": "2024-12-20T09:32:58.393Z"
   },
   {
    "duration": 338,
    "start_time": "2024-12-20T09:32:58.400Z"
   },
   {
    "duration": 8,
    "start_time": "2024-12-20T09:32:58.742Z"
   },
   {
    "duration": 14,
    "start_time": "2024-12-20T09:32:58.754Z"
   },
   {
    "duration": 4,
    "start_time": "2024-12-20T09:32:58.770Z"
   },
   {
    "duration": 18,
    "start_time": "2024-12-20T09:32:58.775Z"
   },
   {
    "duration": 644,
    "start_time": "2024-12-20T09:32:58.795Z"
   },
   {
    "duration": 4,
    "start_time": "2024-12-20T09:32:59.443Z"
   },
   {
    "duration": 5,
    "start_time": "2024-12-20T09:32:59.449Z"
   },
   {
    "duration": 3,
    "start_time": "2024-12-20T09:33:17.966Z"
   },
   {
    "duration": 226,
    "start_time": "2024-12-20T09:35:52.778Z"
   },
   {
    "duration": 167,
    "start_time": "2024-12-21T00:13:18.601Z"
   },
   {
    "duration": 13,
    "start_time": "2024-12-21T00:13:21.402Z"
   },
   {
    "duration": 2636,
    "start_time": "2024-12-21T00:13:29.716Z"
   },
   {
    "duration": 3963,
    "start_time": "2024-12-21T00:13:32.354Z"
   },
   {
    "duration": 12,
    "start_time": "2024-12-21T00:13:36.319Z"
   },
   {
    "duration": 12,
    "start_time": "2024-12-21T00:13:36.343Z"
   },
   {
    "duration": 6,
    "start_time": "2024-12-21T00:13:36.356Z"
   },
   {
    "duration": 3,
    "start_time": "2024-12-21T00:13:36.363Z"
   },
   {
    "duration": 8,
    "start_time": "2024-12-21T00:13:36.368Z"
   },
   {
    "duration": 9,
    "start_time": "2024-12-21T00:13:36.377Z"
   },
   {
    "duration": 4,
    "start_time": "2024-12-21T00:13:36.388Z"
   },
   {
    "duration": 2,
    "start_time": "2024-12-21T00:13:36.395Z"
   },
   {
    "duration": 48,
    "start_time": "2024-12-21T00:13:36.399Z"
   },
   {
    "duration": 14,
    "start_time": "2024-12-21T00:13:36.449Z"
   },
   {
    "duration": 6,
    "start_time": "2024-12-21T00:13:36.464Z"
   },
   {
    "duration": 2,
    "start_time": "2024-12-21T00:13:36.472Z"
   },
   {
    "duration": 14,
    "start_time": "2024-12-21T00:13:36.476Z"
   },
   {
    "duration": 7,
    "start_time": "2024-12-21T00:13:36.493Z"
   },
   {
    "duration": 6,
    "start_time": "2024-12-21T00:13:36.502Z"
   },
   {
    "duration": 38,
    "start_time": "2024-12-21T00:13:36.509Z"
   },
   {
    "duration": 215,
    "start_time": "2024-12-21T00:13:36.548Z"
   },
   {
    "duration": 8,
    "start_time": "2024-12-21T00:13:36.764Z"
   },
   {
    "duration": 294,
    "start_time": "2024-12-21T00:13:36.774Z"
   },
   {
    "duration": 292,
    "start_time": "2024-12-21T00:13:37.070Z"
   },
   {
    "duration": 351,
    "start_time": "2024-12-21T00:13:37.363Z"
   },
   {
    "duration": 7,
    "start_time": "2024-12-21T00:13:37.716Z"
   },
   {
    "duration": 19,
    "start_time": "2024-12-21T00:13:37.724Z"
   },
   {
    "duration": 326,
    "start_time": "2024-12-21T00:13:37.745Z"
   },
   {
    "duration": 8,
    "start_time": "2024-12-21T00:13:38.073Z"
   },
   {
    "duration": 14,
    "start_time": "2024-12-21T00:13:38.084Z"
   },
   {
    "duration": 4,
    "start_time": "2024-12-21T00:13:38.099Z"
   },
   {
    "duration": 38,
    "start_time": "2024-12-21T00:13:38.105Z"
   },
   {
    "duration": 590,
    "start_time": "2024-12-21T00:13:38.145Z"
   },
   {
    "duration": 6,
    "start_time": "2024-12-21T00:13:38.737Z"
   },
   {
    "duration": 5,
    "start_time": "2024-12-21T00:13:38.745Z"
   },
   {
    "duration": 0,
    "start_time": "2024-12-21T00:13:38.751Z"
   },
   {
    "duration": 0,
    "start_time": "2024-12-21T00:13:38.753Z"
   },
   {
    "duration": 0,
    "start_time": "2024-12-21T00:13:38.754Z"
   },
   {
    "duration": 0,
    "start_time": "2024-12-21T00:13:38.755Z"
   },
   {
    "duration": 0,
    "start_time": "2024-12-21T00:13:38.756Z"
   },
   {
    "duration": 0,
    "start_time": "2024-12-21T00:13:38.758Z"
   },
   {
    "duration": 5,
    "start_time": "2024-12-21T00:13:45.749Z"
   },
   {
    "duration": 4,
    "start_time": "2024-12-21T00:13:55.061Z"
   },
   {
    "duration": 8,
    "start_time": "2024-12-21T00:14:02.500Z"
   },
   {
    "duration": 3,
    "start_time": "2024-12-21T00:14:54.883Z"
   },
   {
    "duration": 890,
    "start_time": "2024-12-21T00:17:38.999Z"
   },
   {
    "duration": 37,
    "start_time": "2024-12-21T00:18:17.927Z"
   },
   {
    "duration": 35,
    "start_time": "2024-12-21T00:18:36.717Z"
   },
   {
    "duration": 37,
    "start_time": "2024-12-21T00:19:02.420Z"
   },
   {
    "duration": 37,
    "start_time": "2024-12-21T00:20:35.285Z"
   },
   {
    "duration": 840,
    "start_time": "2024-12-21T00:20:47.303Z"
   },
   {
    "duration": 10277,
    "start_time": "2024-12-21T00:20:48.145Z"
   },
   {
    "duration": 20,
    "start_time": "2024-12-21T00:20:58.424Z"
   },
   {
    "duration": 57,
    "start_time": "2024-12-21T00:20:58.445Z"
   },
   {
    "duration": 6,
    "start_time": "2024-12-21T00:20:58.505Z"
   },
   {
    "duration": 3,
    "start_time": "2024-12-21T00:20:58.512Z"
   },
   {
    "duration": 29,
    "start_time": "2024-12-21T00:20:58.516Z"
   },
   {
    "duration": 10,
    "start_time": "2024-12-21T00:20:58.547Z"
   },
   {
    "duration": 4,
    "start_time": "2024-12-21T00:20:58.559Z"
   },
   {
    "duration": 3,
    "start_time": "2024-12-21T00:20:58.565Z"
   },
   {
    "duration": 15,
    "start_time": "2024-12-21T00:20:58.569Z"
   },
   {
    "duration": 13,
    "start_time": "2024-12-21T00:20:58.586Z"
   },
   {
    "duration": 42,
    "start_time": "2024-12-21T00:20:58.601Z"
   },
   {
    "duration": 3,
    "start_time": "2024-12-21T00:20:58.646Z"
   },
   {
    "duration": 15,
    "start_time": "2024-12-21T00:20:58.651Z"
   },
   {
    "duration": 9,
    "start_time": "2024-12-21T00:20:58.667Z"
   },
   {
    "duration": 6,
    "start_time": "2024-12-21T00:20:58.678Z"
   },
   {
    "duration": 5,
    "start_time": "2024-12-21T00:20:58.686Z"
   },
   {
    "duration": 238,
    "start_time": "2024-12-21T00:20:58.692Z"
   },
   {
    "duration": 11,
    "start_time": "2024-12-21T00:20:58.932Z"
   },
   {
    "duration": 299,
    "start_time": "2024-12-21T00:20:58.945Z"
   },
   {
    "duration": 294,
    "start_time": "2024-12-21T00:20:59.246Z"
   },
   {
    "duration": 284,
    "start_time": "2024-12-21T00:20:59.543Z"
   },
   {
    "duration": 16,
    "start_time": "2024-12-21T00:20:59.829Z"
   },
   {
    "duration": 6,
    "start_time": "2024-12-21T00:20:59.847Z"
   },
   {
    "duration": 402,
    "start_time": "2024-12-21T00:20:59.855Z"
   },
   {
    "duration": 8,
    "start_time": "2024-12-21T00:21:00.259Z"
   },
   {
    "duration": 14,
    "start_time": "2024-12-21T00:21:00.269Z"
   },
   {
    "duration": 4,
    "start_time": "2024-12-21T00:21:00.284Z"
   },
   {
    "duration": 18,
    "start_time": "2024-12-21T00:21:00.289Z"
   },
   {
    "duration": 543,
    "start_time": "2024-12-21T00:21:00.309Z"
   },
   {
    "duration": 4,
    "start_time": "2024-12-21T00:21:00.853Z"
   },
   {
    "duration": 7,
    "start_time": "2024-12-21T00:21:00.858Z"
   },
   {
    "duration": 888,
    "start_time": "2024-12-21T00:21:06.155Z"
   },
   {
    "duration": 38,
    "start_time": "2024-12-21T00:22:10.828Z"
   },
   {
    "duration": 943,
    "start_time": "2024-12-21T00:22:24.070Z"
   },
   {
    "duration": 3793,
    "start_time": "2024-12-21T00:22:25.015Z"
   },
   {
    "duration": 12,
    "start_time": "2024-12-21T00:22:28.810Z"
   },
   {
    "duration": 66,
    "start_time": "2024-12-21T00:22:28.824Z"
   },
   {
    "duration": 6,
    "start_time": "2024-12-21T00:22:28.892Z"
   },
   {
    "duration": 2,
    "start_time": "2024-12-21T00:22:28.901Z"
   },
   {
    "duration": 9,
    "start_time": "2024-12-21T00:22:28.905Z"
   },
   {
    "duration": 35,
    "start_time": "2024-12-21T00:22:28.915Z"
   },
   {
    "duration": 5,
    "start_time": "2024-12-21T00:22:28.951Z"
   },
   {
    "duration": 2,
    "start_time": "2024-12-21T00:22:28.960Z"
   },
   {
    "duration": 24,
    "start_time": "2024-12-21T00:22:28.964Z"
   },
   {
    "duration": 14,
    "start_time": "2024-12-21T00:22:28.989Z"
   },
   {
    "duration": 7,
    "start_time": "2024-12-21T00:22:29.004Z"
   },
   {
    "duration": 2,
    "start_time": "2024-12-21T00:22:29.012Z"
   },
   {
    "duration": 35,
    "start_time": "2024-12-21T00:22:29.016Z"
   },
   {
    "duration": 9,
    "start_time": "2024-12-21T00:22:29.053Z"
   },
   {
    "duration": 10,
    "start_time": "2024-12-21T00:22:29.063Z"
   },
   {
    "duration": 4,
    "start_time": "2024-12-21T00:22:29.075Z"
   },
   {
    "duration": 239,
    "start_time": "2024-12-21T00:22:29.080Z"
   },
   {
    "duration": 18,
    "start_time": "2024-12-21T00:22:29.322Z"
   },
   {
    "duration": 302,
    "start_time": "2024-12-21T00:22:29.342Z"
   },
   {
    "duration": 287,
    "start_time": "2024-12-21T00:22:29.646Z"
   },
   {
    "duration": 294,
    "start_time": "2024-12-21T00:22:29.943Z"
   },
   {
    "duration": 8,
    "start_time": "2024-12-21T00:22:30.243Z"
   },
   {
    "duration": 6,
    "start_time": "2024-12-21T00:22:30.252Z"
   },
   {
    "duration": 438,
    "start_time": "2024-12-21T00:22:30.260Z"
   },
   {
    "duration": 8,
    "start_time": "2024-12-21T00:22:30.700Z"
   },
   {
    "duration": 31,
    "start_time": "2024-12-21T00:22:30.712Z"
   },
   {
    "duration": 4,
    "start_time": "2024-12-21T00:22:30.745Z"
   },
   {
    "duration": 18,
    "start_time": "2024-12-21T00:22:30.752Z"
   },
   {
    "duration": 587,
    "start_time": "2024-12-21T00:22:30.772Z"
   },
   {
    "duration": 3,
    "start_time": "2024-12-21T00:22:31.361Z"
   },
   {
    "duration": 6,
    "start_time": "2024-12-21T00:22:31.366Z"
   },
   {
    "duration": 5,
    "start_time": "2024-12-21T00:22:40.118Z"
   },
   {
    "duration": 3,
    "start_time": "2024-12-21T00:22:54.271Z"
   },
   {
    "duration": 226,
    "start_time": "2024-12-21T00:23:56.001Z"
   },
   {
    "duration": 6325,
    "start_time": "2024-12-21T00:24:00.528Z"
   },
   {
    "duration": 887,
    "start_time": "2024-12-21T00:25:18.214Z"
   },
   {
    "duration": 4171,
    "start_time": "2024-12-21T00:25:19.103Z"
   },
   {
    "duration": 12,
    "start_time": "2024-12-21T00:25:23.276Z"
   },
   {
    "duration": 78,
    "start_time": "2024-12-21T00:25:23.290Z"
   },
   {
    "duration": 6,
    "start_time": "2024-12-21T00:25:23.369Z"
   },
   {
    "duration": 3,
    "start_time": "2024-12-21T00:25:23.378Z"
   },
   {
    "duration": 17,
    "start_time": "2024-12-21T00:25:23.382Z"
   },
   {
    "duration": 9,
    "start_time": "2024-12-21T00:25:23.401Z"
   },
   {
    "duration": 5,
    "start_time": "2024-12-21T00:25:23.412Z"
   },
   {
    "duration": 2,
    "start_time": "2024-12-21T00:25:23.442Z"
   },
   {
    "duration": 8,
    "start_time": "2024-12-21T00:25:23.447Z"
   },
   {
    "duration": 13,
    "start_time": "2024-12-21T00:25:23.457Z"
   },
   {
    "duration": 6,
    "start_time": "2024-12-21T00:25:23.472Z"
   },
   {
    "duration": 2,
    "start_time": "2024-12-21T00:25:23.480Z"
   },
   {
    "duration": 15,
    "start_time": "2024-12-21T00:25:23.484Z"
   },
   {
    "duration": 48,
    "start_time": "2024-12-21T00:25:23.501Z"
   },
   {
    "duration": 7,
    "start_time": "2024-12-21T00:25:23.551Z"
   },
   {
    "duration": 4,
    "start_time": "2024-12-21T00:25:23.560Z"
   },
   {
    "duration": 228,
    "start_time": "2024-12-21T00:25:23.565Z"
   },
   {
    "duration": 8,
    "start_time": "2024-12-21T00:25:23.795Z"
   },
   {
    "duration": 303,
    "start_time": "2024-12-21T00:25:23.804Z"
   },
   {
    "duration": 311,
    "start_time": "2024-12-21T00:25:24.109Z"
   },
   {
    "duration": 301,
    "start_time": "2024-12-21T00:25:24.421Z"
   },
   {
    "duration": 7,
    "start_time": "2024-12-21T00:25:24.724Z"
   },
   {
    "duration": 16,
    "start_time": "2024-12-21T00:25:24.732Z"
   },
   {
    "duration": 480,
    "start_time": "2024-12-21T00:25:24.750Z"
   },
   {
    "duration": 15,
    "start_time": "2024-12-21T00:25:25.232Z"
   },
   {
    "duration": 18,
    "start_time": "2024-12-21T00:25:25.250Z"
   },
   {
    "duration": 5,
    "start_time": "2024-12-21T00:25:25.269Z"
   },
   {
    "duration": 22,
    "start_time": "2024-12-21T00:25:25.277Z"
   },
   {
    "duration": 554,
    "start_time": "2024-12-21T00:25:25.301Z"
   },
   {
    "duration": 3,
    "start_time": "2024-12-21T00:25:25.857Z"
   },
   {
    "duration": 6,
    "start_time": "2024-12-21T00:25:25.861Z"
   },
   {
    "duration": 4,
    "start_time": "2024-12-21T00:25:25.870Z"
   },
   {
    "duration": 250,
    "start_time": "2024-12-21T00:25:25.875Z"
   },
   {
    "duration": 6335,
    "start_time": "2024-12-21T00:25:26.127Z"
   },
   {
    "duration": 57,
    "start_time": "2024-12-21T00:25:32.464Z"
   },
   {
    "duration": 20,
    "start_time": "2024-12-21T00:25:32.523Z"
   },
   {
    "duration": 4042,
    "start_time": "2024-12-21T00:25:32.544Z"
   },
   {
    "duration": 6,
    "start_time": "2024-12-21T00:25:36.588Z"
   },
   {
    "duration": 936,
    "start_time": "2024-12-21T00:28:30.622Z"
   },
   {
    "duration": 35,
    "start_time": "2024-12-21T00:28:57.986Z"
   },
   {
    "duration": 885,
    "start_time": "2024-12-21T00:29:05.636Z"
   },
   {
    "duration": 4754,
    "start_time": "2024-12-21T00:29:06.523Z"
   },
   {
    "duration": 11,
    "start_time": "2024-12-21T00:29:11.279Z"
   },
   {
    "duration": 69,
    "start_time": "2024-12-21T00:29:11.292Z"
   },
   {
    "duration": 6,
    "start_time": "2024-12-21T00:29:11.363Z"
   },
   {
    "duration": 2,
    "start_time": "2024-12-21T00:29:11.371Z"
   },
   {
    "duration": 8,
    "start_time": "2024-12-21T00:29:11.376Z"
   },
   {
    "duration": 9,
    "start_time": "2024-12-21T00:29:11.386Z"
   },
   {
    "duration": 4,
    "start_time": "2024-12-21T00:29:11.397Z"
   },
   {
    "duration": 38,
    "start_time": "2024-12-21T00:29:11.404Z"
   },
   {
    "duration": 9,
    "start_time": "2024-12-21T00:29:11.444Z"
   },
   {
    "duration": 14,
    "start_time": "2024-12-21T00:29:11.454Z"
   },
   {
    "duration": 7,
    "start_time": "2024-12-21T00:29:11.470Z"
   },
   {
    "duration": 3,
    "start_time": "2024-12-21T00:29:11.479Z"
   },
   {
    "duration": 14,
    "start_time": "2024-12-21T00:29:11.484Z"
   },
   {
    "duration": 46,
    "start_time": "2024-12-21T00:29:11.499Z"
   },
   {
    "duration": 8,
    "start_time": "2024-12-21T00:29:11.546Z"
   },
   {
    "duration": 6,
    "start_time": "2024-12-21T00:29:11.556Z"
   },
   {
    "duration": 229,
    "start_time": "2024-12-21T00:29:11.564Z"
   },
   {
    "duration": 8,
    "start_time": "2024-12-21T00:29:11.794Z"
   },
   {
    "duration": 308,
    "start_time": "2024-12-21T00:29:11.803Z"
   },
   {
    "duration": 287,
    "start_time": "2024-12-21T00:29:12.113Z"
   },
   {
    "duration": 298,
    "start_time": "2024-12-21T00:29:12.402Z"
   },
   {
    "duration": 7,
    "start_time": "2024-12-21T00:29:12.701Z"
   },
   {
    "duration": 6,
    "start_time": "2024-12-21T00:29:12.710Z"
   },
   {
    "duration": 420,
    "start_time": "2024-12-21T00:29:12.718Z"
   },
   {
    "duration": 8,
    "start_time": "2024-12-21T00:29:13.143Z"
   },
   {
    "duration": 14,
    "start_time": "2024-12-21T00:29:13.154Z"
   },
   {
    "duration": 4,
    "start_time": "2024-12-21T00:29:13.170Z"
   },
   {
    "duration": 17,
    "start_time": "2024-12-21T00:29:13.176Z"
   },
   {
    "duration": 550,
    "start_time": "2024-12-21T00:29:13.195Z"
   },
   {
    "duration": 3,
    "start_time": "2024-12-21T00:29:13.746Z"
   },
   {
    "duration": 7,
    "start_time": "2024-12-21T00:29:13.751Z"
   },
   {
    "duration": 932,
    "start_time": "2024-12-21T00:29:13.760Z"
   },
   {
    "duration": 0,
    "start_time": "2024-12-21T00:29:14.694Z"
   },
   {
    "duration": 0,
    "start_time": "2024-12-21T00:29:14.695Z"
   },
   {
    "duration": 0,
    "start_time": "2024-12-21T00:29:14.696Z"
   },
   {
    "duration": 0,
    "start_time": "2024-12-21T00:29:14.697Z"
   },
   {
    "duration": 0,
    "start_time": "2024-12-21T00:29:14.698Z"
   },
   {
    "duration": 0,
    "start_time": "2024-12-21T00:29:14.699Z"
   },
   {
    "duration": 36,
    "start_time": "2024-12-21T00:29:56.122Z"
   },
   {
    "duration": 865,
    "start_time": "2024-12-21T00:30:49.506Z"
   },
   {
    "duration": 3644,
    "start_time": "2024-12-21T00:30:50.373Z"
   },
   {
    "duration": 11,
    "start_time": "2024-12-21T00:30:54.019Z"
   },
   {
    "duration": 69,
    "start_time": "2024-12-21T00:30:54.031Z"
   },
   {
    "duration": 6,
    "start_time": "2024-12-21T00:30:54.102Z"
   },
   {
    "duration": 2,
    "start_time": "2024-12-21T00:30:54.110Z"
   },
   {
    "duration": 29,
    "start_time": "2024-12-21T00:30:54.114Z"
   },
   {
    "duration": 9,
    "start_time": "2024-12-21T00:30:54.145Z"
   },
   {
    "duration": 4,
    "start_time": "2024-12-21T00:30:54.156Z"
   },
   {
    "duration": 2,
    "start_time": "2024-12-21T00:30:54.162Z"
   },
   {
    "duration": 8,
    "start_time": "2024-12-21T00:30:54.166Z"
   },
   {
    "duration": 13,
    "start_time": "2024-12-21T00:30:54.176Z"
   },
   {
    "duration": 6,
    "start_time": "2024-12-21T00:30:54.191Z"
   },
   {
    "duration": 2,
    "start_time": "2024-12-21T00:30:54.201Z"
   },
   {
    "duration": 51,
    "start_time": "2024-12-21T00:30:54.204Z"
   },
   {
    "duration": 9,
    "start_time": "2024-12-21T00:30:54.258Z"
   },
   {
    "duration": 6,
    "start_time": "2024-12-21T00:30:54.269Z"
   },
   {
    "duration": 4,
    "start_time": "2024-12-21T00:30:54.277Z"
   },
   {
    "duration": 237,
    "start_time": "2024-12-21T00:30:54.283Z"
   },
   {
    "duration": 8,
    "start_time": "2024-12-21T00:30:54.522Z"
   },
   {
    "duration": 300,
    "start_time": "2024-12-21T00:30:54.532Z"
   },
   {
    "duration": 287,
    "start_time": "2024-12-21T00:30:54.834Z"
   },
   {
    "duration": 312,
    "start_time": "2024-12-21T00:30:55.123Z"
   },
   {
    "duration": 10,
    "start_time": "2024-12-21T00:30:55.437Z"
   },
   {
    "duration": 6,
    "start_time": "2024-12-21T00:30:55.449Z"
   },
   {
    "duration": 407,
    "start_time": "2024-12-21T00:30:55.456Z"
   },
   {
    "duration": 8,
    "start_time": "2024-12-21T00:30:55.865Z"
   },
   {
    "duration": 15,
    "start_time": "2024-12-21T00:30:55.874Z"
   },
   {
    "duration": 4,
    "start_time": "2024-12-21T00:30:55.890Z"
   },
   {
    "duration": 19,
    "start_time": "2024-12-21T00:30:55.896Z"
   },
   {
    "duration": 561,
    "start_time": "2024-12-21T00:30:55.942Z"
   },
   {
    "duration": 3,
    "start_time": "2024-12-21T00:30:56.505Z"
   },
   {
    "duration": 6,
    "start_time": "2024-12-21T00:30:56.510Z"
   },
   {
    "duration": 906,
    "start_time": "2024-12-21T00:30:59.285Z"
   },
   {
    "duration": 34,
    "start_time": "2024-12-21T00:33:07.908Z"
   },
   {
    "duration": 840,
    "start_time": "2024-12-21T00:33:16.707Z"
   },
   {
    "duration": 3794,
    "start_time": "2024-12-21T00:33:17.549Z"
   },
   {
    "duration": 12,
    "start_time": "2024-12-21T00:33:21.345Z"
   },
   {
    "duration": 59,
    "start_time": "2024-12-21T00:33:21.358Z"
   },
   {
    "duration": 23,
    "start_time": "2024-12-21T00:33:21.420Z"
   },
   {
    "duration": 4,
    "start_time": "2024-12-21T00:33:21.444Z"
   },
   {
    "duration": 8,
    "start_time": "2024-12-21T00:33:21.449Z"
   },
   {
    "duration": 10,
    "start_time": "2024-12-21T00:33:21.459Z"
   },
   {
    "duration": 4,
    "start_time": "2024-12-21T00:33:21.471Z"
   },
   {
    "duration": 3,
    "start_time": "2024-12-21T00:33:21.476Z"
   },
   {
    "duration": 9,
    "start_time": "2024-12-21T00:33:21.481Z"
   },
   {
    "duration": 56,
    "start_time": "2024-12-21T00:33:21.492Z"
   },
   {
    "duration": 7,
    "start_time": "2024-12-21T00:33:21.550Z"
   },
   {
    "duration": 2,
    "start_time": "2024-12-21T00:33:21.561Z"
   },
   {
    "duration": 13,
    "start_time": "2024-12-21T00:33:21.565Z"
   },
   {
    "duration": 8,
    "start_time": "2024-12-21T00:33:21.580Z"
   },
   {
    "duration": 6,
    "start_time": "2024-12-21T00:33:21.590Z"
   },
   {
    "duration": 3,
    "start_time": "2024-12-21T00:33:21.598Z"
   },
   {
    "duration": 249,
    "start_time": "2024-12-21T00:33:21.604Z"
   },
   {
    "duration": 10,
    "start_time": "2024-12-21T00:33:21.854Z"
   },
   {
    "duration": 293,
    "start_time": "2024-12-21T00:33:21.866Z"
   },
   {
    "duration": 291,
    "start_time": "2024-12-21T00:33:22.162Z"
   },
   {
    "duration": 296,
    "start_time": "2024-12-21T00:33:22.456Z"
   },
   {
    "duration": 7,
    "start_time": "2024-12-21T00:33:22.754Z"
   },
   {
    "duration": 7,
    "start_time": "2024-12-21T00:33:22.762Z"
   },
   {
    "duration": 421,
    "start_time": "2024-12-21T00:33:22.770Z"
   },
   {
    "duration": 8,
    "start_time": "2024-12-21T00:33:23.192Z"
   },
   {
    "duration": 14,
    "start_time": "2024-12-21T00:33:23.202Z"
   },
   {
    "duration": 4,
    "start_time": "2024-12-21T00:33:23.218Z"
   },
   {
    "duration": 18,
    "start_time": "2024-12-21T00:33:23.243Z"
   },
   {
    "duration": 572,
    "start_time": "2024-12-21T00:33:23.263Z"
   },
   {
    "duration": 7,
    "start_time": "2024-12-21T00:33:23.837Z"
   },
   {
    "duration": 7,
    "start_time": "2024-12-21T00:33:23.845Z"
   },
   {
    "duration": 4,
    "start_time": "2024-12-21T00:33:23.853Z"
   },
   {
    "duration": 4,
    "start_time": "2024-12-21T00:33:50.359Z"
   },
   {
    "duration": 236,
    "start_time": "2024-12-21T00:33:52.752Z"
   },
   {
    "duration": 5,
    "start_time": "2024-12-21T00:34:44.588Z"
   },
   {
    "duration": 17027,
    "start_time": "2024-12-21T00:34:47.302Z"
   },
   {
    "duration": 5,
    "start_time": "2024-12-21T00:39:54.593Z"
   },
   {
    "duration": 179822,
    "start_time": "2024-12-21T00:42:33.469Z"
   },
   {
    "duration": 2,
    "start_time": "2024-12-21T00:45:33.293Z"
   },
   {
    "duration": 922,
    "start_time": "2024-12-21T00:50:42.546Z"
   },
   {
    "duration": 6,
    "start_time": "2024-12-21T00:50:52.108Z"
   },
   {
    "duration": 54,
    "start_time": "2024-12-21T00:50:55.847Z"
   },
   {
    "duration": 880,
    "start_time": "2024-12-21T00:51:14.258Z"
   },
   {
    "duration": 3956,
    "start_time": "2024-12-21T00:51:15.140Z"
   },
   {
    "duration": 14,
    "start_time": "2024-12-21T00:51:19.098Z"
   },
   {
    "duration": 70,
    "start_time": "2024-12-21T00:51:19.113Z"
   },
   {
    "duration": 6,
    "start_time": "2024-12-21T00:51:19.185Z"
   },
   {
    "duration": 3,
    "start_time": "2024-12-21T00:51:19.192Z"
   },
   {
    "duration": 8,
    "start_time": "2024-12-21T00:51:19.196Z"
   },
   {
    "duration": 11,
    "start_time": "2024-12-21T00:51:19.206Z"
   },
   {
    "duration": 5,
    "start_time": "2024-12-21T00:51:19.244Z"
   },
   {
    "duration": 2,
    "start_time": "2024-12-21T00:51:19.251Z"
   },
   {
    "duration": 10,
    "start_time": "2024-12-21T00:51:19.255Z"
   },
   {
    "duration": 13,
    "start_time": "2024-12-21T00:51:19.267Z"
   },
   {
    "duration": 7,
    "start_time": "2024-12-21T00:51:19.281Z"
   },
   {
    "duration": 2,
    "start_time": "2024-12-21T00:51:19.291Z"
   },
   {
    "duration": 57,
    "start_time": "2024-12-21T00:51:19.295Z"
   },
   {
    "duration": 9,
    "start_time": "2024-12-21T00:51:19.354Z"
   },
   {
    "duration": 7,
    "start_time": "2024-12-21T00:51:19.364Z"
   },
   {
    "duration": 5,
    "start_time": "2024-12-21T00:51:19.372Z"
   },
   {
    "duration": 228,
    "start_time": "2024-12-21T00:51:19.378Z"
   },
   {
    "duration": 7,
    "start_time": "2024-12-21T00:51:19.608Z"
   },
   {
    "duration": 296,
    "start_time": "2024-12-21T00:51:19.617Z"
   },
   {
    "duration": 288,
    "start_time": "2024-12-21T00:51:19.915Z"
   },
   {
    "duration": 310,
    "start_time": "2024-12-21T00:51:20.204Z"
   },
   {
    "duration": 8,
    "start_time": "2024-12-21T00:51:20.516Z"
   },
   {
    "duration": 22,
    "start_time": "2024-12-21T00:51:20.526Z"
   },
   {
    "duration": 421,
    "start_time": "2024-12-21T00:51:20.549Z"
   },
   {
    "duration": 9,
    "start_time": "2024-12-21T00:51:20.971Z"
   },
   {
    "duration": 15,
    "start_time": "2024-12-21T00:51:20.981Z"
   },
   {
    "duration": 4,
    "start_time": "2024-12-21T00:51:20.997Z"
   },
   {
    "duration": 43,
    "start_time": "2024-12-21T00:51:21.002Z"
   },
   {
    "duration": 544,
    "start_time": "2024-12-21T00:51:21.047Z"
   },
   {
    "duration": 3,
    "start_time": "2024-12-21T00:51:21.592Z"
   },
   {
    "duration": 3,
    "start_time": "2024-12-21T00:51:21.597Z"
   },
   {
    "duration": 6,
    "start_time": "2024-12-21T00:51:21.601Z"
   },
   {
    "duration": 17022,
    "start_time": "2024-12-21T00:51:21.608Z"
   },
   {
    "duration": 180287,
    "start_time": "2024-12-21T00:51:38.631Z"
   },
   {
    "duration": 685,
    "start_time": "2024-12-21T01:07:19.265Z"
   },
   {
    "duration": 44,
    "start_time": "2024-12-21T01:40:16.727Z"
   },
   {
    "duration": 912,
    "start_time": "2024-12-21T01:40:24.805Z"
   },
   {
    "duration": 3999,
    "start_time": "2024-12-21T01:40:25.720Z"
   },
   {
    "duration": 11,
    "start_time": "2024-12-21T01:40:29.720Z"
   },
   {
    "duration": 63,
    "start_time": "2024-12-21T01:40:29.734Z"
   },
   {
    "duration": 6,
    "start_time": "2024-12-21T01:40:29.799Z"
   },
   {
    "duration": 3,
    "start_time": "2024-12-21T01:40:29.807Z"
   },
   {
    "duration": 34,
    "start_time": "2024-12-21T01:40:29.811Z"
   },
   {
    "duration": 10,
    "start_time": "2024-12-21T01:40:29.847Z"
   },
   {
    "duration": 5,
    "start_time": "2024-12-21T01:40:29.859Z"
   },
   {
    "duration": 3,
    "start_time": "2024-12-21T01:40:29.868Z"
   },
   {
    "duration": 9,
    "start_time": "2024-12-21T01:40:29.872Z"
   },
   {
    "duration": 13,
    "start_time": "2024-12-21T01:40:29.882Z"
   },
   {
    "duration": 7,
    "start_time": "2024-12-21T01:40:29.896Z"
   },
   {
    "duration": 40,
    "start_time": "2024-12-21T01:40:29.904Z"
   },
   {
    "duration": 14,
    "start_time": "2024-12-21T01:40:29.946Z"
   },
   {
    "duration": 9,
    "start_time": "2024-12-21T01:40:29.962Z"
   },
   {
    "duration": 6,
    "start_time": "2024-12-21T01:40:29.973Z"
   },
   {
    "duration": 4,
    "start_time": "2024-12-21T01:40:29.981Z"
   },
   {
    "duration": 242,
    "start_time": "2024-12-21T01:40:29.987Z"
   },
   {
    "duration": 14,
    "start_time": "2024-12-21T01:40:30.231Z"
   },
   {
    "duration": 319,
    "start_time": "2024-12-21T01:40:30.247Z"
   },
   {
    "duration": 305,
    "start_time": "2024-12-21T01:40:30.568Z"
   },
   {
    "duration": 313,
    "start_time": "2024-12-21T01:40:30.875Z"
   },
   {
    "duration": 7,
    "start_time": "2024-12-21T01:40:31.190Z"
   },
   {
    "duration": 6,
    "start_time": "2024-12-21T01:40:31.198Z"
   },
   {
    "duration": 433,
    "start_time": "2024-12-21T01:40:31.205Z"
   },
   {
    "duration": 8,
    "start_time": "2024-12-21T01:40:31.643Z"
   },
   {
    "duration": 15,
    "start_time": "2024-12-21T01:40:31.656Z"
   },
   {
    "duration": 4,
    "start_time": "2024-12-21T01:40:31.673Z"
   },
   {
    "duration": 19,
    "start_time": "2024-12-21T01:40:31.679Z"
   },
   {
    "duration": 555,
    "start_time": "2024-12-21T01:40:31.700Z"
   },
   {
    "duration": 4,
    "start_time": "2024-12-21T01:40:32.256Z"
   },
   {
    "duration": 3,
    "start_time": "2024-12-21T01:40:32.262Z"
   },
   {
    "duration": 658,
    "start_time": "2024-12-21T01:40:32.266Z"
   },
   {
    "duration": 872,
    "start_time": "2024-12-21T01:53:55.852Z"
   },
   {
    "duration": 4112,
    "start_time": "2024-12-21T01:53:56.726Z"
   },
   {
    "duration": 13,
    "start_time": "2024-12-21T01:54:00.842Z"
   },
   {
    "duration": 55,
    "start_time": "2024-12-21T01:54:00.858Z"
   },
   {
    "duration": 6,
    "start_time": "2024-12-21T01:54:00.915Z"
   },
   {
    "duration": 3,
    "start_time": "2024-12-21T01:54:00.943Z"
   },
   {
    "duration": 14,
    "start_time": "2024-12-21T01:54:00.948Z"
   },
   {
    "duration": 11,
    "start_time": "2024-12-21T01:54:00.963Z"
   },
   {
    "duration": 4,
    "start_time": "2024-12-21T01:54:00.976Z"
   },
   {
    "duration": 3,
    "start_time": "2024-12-21T01:54:00.985Z"
   },
   {
    "duration": 9,
    "start_time": "2024-12-21T01:54:00.989Z"
   },
   {
    "duration": 45,
    "start_time": "2024-12-21T01:54:01.000Z"
   },
   {
    "duration": 8,
    "start_time": "2024-12-21T01:54:01.047Z"
   },
   {
    "duration": 3,
    "start_time": "2024-12-21T01:54:01.057Z"
   },
   {
    "duration": 13,
    "start_time": "2024-12-21T01:54:01.062Z"
   },
   {
    "duration": 9,
    "start_time": "2024-12-21T01:54:01.077Z"
   },
   {
    "duration": 6,
    "start_time": "2024-12-21T01:54:01.087Z"
   },
   {
    "duration": 4,
    "start_time": "2024-12-21T01:54:01.095Z"
   },
   {
    "duration": 255,
    "start_time": "2024-12-21T01:54:01.101Z"
   },
   {
    "duration": 8,
    "start_time": "2024-12-21T01:54:01.358Z"
   },
   {
    "duration": 296,
    "start_time": "2024-12-21T01:54:01.367Z"
   },
   {
    "duration": 287,
    "start_time": "2024-12-21T01:54:01.665Z"
   },
   {
    "duration": 306,
    "start_time": "2024-12-21T01:54:01.953Z"
   },
   {
    "duration": 8,
    "start_time": "2024-12-21T01:54:02.261Z"
   },
   {
    "duration": 6,
    "start_time": "2024-12-21T01:54:02.270Z"
   },
   {
    "duration": 424,
    "start_time": "2024-12-21T01:54:02.278Z"
   },
   {
    "duration": 8,
    "start_time": "2024-12-21T01:54:02.704Z"
   },
   {
    "duration": 30,
    "start_time": "2024-12-21T01:54:02.716Z"
   },
   {
    "duration": 4,
    "start_time": "2024-12-21T01:54:02.747Z"
   },
   {
    "duration": 19,
    "start_time": "2024-12-21T01:54:02.752Z"
   },
   {
    "duration": 558,
    "start_time": "2024-12-21T01:54:02.773Z"
   },
   {
    "duration": 12,
    "start_time": "2024-12-21T01:54:03.332Z"
   },
   {
    "duration": 3,
    "start_time": "2024-12-21T01:54:03.345Z"
   },
   {
    "duration": 639,
    "start_time": "2024-12-21T01:54:16.903Z"
   },
   {
    "duration": 40,
    "start_time": "2024-12-21T01:55:42.701Z"
   },
   {
    "duration": 889,
    "start_time": "2024-12-21T01:55:48.265Z"
   },
   {
    "duration": 3786,
    "start_time": "2024-12-21T01:55:49.156Z"
   },
   {
    "duration": 12,
    "start_time": "2024-12-21T01:55:52.944Z"
   },
   {
    "duration": 59,
    "start_time": "2024-12-21T01:55:52.958Z"
   },
   {
    "duration": 24,
    "start_time": "2024-12-21T01:55:53.019Z"
   },
   {
    "duration": 2,
    "start_time": "2024-12-21T01:55:53.045Z"
   },
   {
    "duration": 9,
    "start_time": "2024-12-21T01:55:53.049Z"
   },
   {
    "duration": 10,
    "start_time": "2024-12-21T01:55:53.060Z"
   },
   {
    "duration": 4,
    "start_time": "2024-12-21T01:55:53.071Z"
   },
   {
    "duration": 3,
    "start_time": "2024-12-21T01:55:53.078Z"
   },
   {
    "duration": 8,
    "start_time": "2024-12-21T01:55:53.083Z"
   },
   {
    "duration": 54,
    "start_time": "2024-12-21T01:55:53.092Z"
   },
   {
    "duration": 7,
    "start_time": "2024-12-21T01:55:53.148Z"
   },
   {
    "duration": 2,
    "start_time": "2024-12-21T01:55:53.157Z"
   },
   {
    "duration": 15,
    "start_time": "2024-12-21T01:55:53.161Z"
   },
   {
    "duration": 9,
    "start_time": "2024-12-21T01:55:53.177Z"
   },
   {
    "duration": 7,
    "start_time": "2024-12-21T01:55:53.188Z"
   },
   {
    "duration": 4,
    "start_time": "2024-12-21T01:55:53.196Z"
   },
   {
    "duration": 258,
    "start_time": "2024-12-21T01:55:53.201Z"
   },
   {
    "duration": 8,
    "start_time": "2024-12-21T01:55:53.461Z"
   },
   {
    "duration": 303,
    "start_time": "2024-12-21T01:55:53.470Z"
   },
   {
    "duration": 285,
    "start_time": "2024-12-21T01:55:53.775Z"
   },
   {
    "duration": 303,
    "start_time": "2024-12-21T01:55:54.061Z"
   },
   {
    "duration": 7,
    "start_time": "2024-12-21T01:55:54.365Z"
   },
   {
    "duration": 6,
    "start_time": "2024-12-21T01:55:54.374Z"
   },
   {
    "duration": 403,
    "start_time": "2024-12-21T01:55:54.381Z"
   },
   {
    "duration": 8,
    "start_time": "2024-12-21T01:55:54.786Z"
   },
   {
    "duration": 14,
    "start_time": "2024-12-21T01:55:54.798Z"
   },
   {
    "duration": 4,
    "start_time": "2024-12-21T01:55:54.813Z"
   },
   {
    "duration": 18,
    "start_time": "2024-12-21T01:55:54.843Z"
   },
   {
    "duration": 571,
    "start_time": "2024-12-21T01:55:54.863Z"
   },
   {
    "duration": 8,
    "start_time": "2024-12-21T01:55:55.435Z"
   },
   {
    "duration": 3,
    "start_time": "2024-12-21T01:55:55.444Z"
   },
   {
    "duration": 5,
    "start_time": "2024-12-21T01:55:55.449Z"
   },
   {
    "duration": 9776,
    "start_time": "2024-12-21T01:56:08.070Z"
   },
   {
    "duration": 108316,
    "start_time": "2024-12-21T01:56:29.724Z"
   },
   {
    "duration": 228,
    "start_time": "2024-12-21T04:44:22.945Z"
   },
   {
    "duration": 3,
    "start_time": "2024-12-21T04:44:28.142Z"
   },
   {
    "duration": 13,
    "start_time": "2024-12-21T04:44:28.888Z"
   },
   {
    "duration": 417,
    "start_time": "2024-12-21T04:44:55.994Z"
   },
   {
    "duration": 5,
    "start_time": "2024-12-21T05:20:39.276Z"
   },
   {
    "duration": 856,
    "start_time": "2024-12-21T05:20:58.621Z"
   },
   {
    "duration": 3835,
    "start_time": "2024-12-21T05:20:59.479Z"
   },
   {
    "duration": 12,
    "start_time": "2024-12-21T05:21:03.315Z"
   },
   {
    "duration": 69,
    "start_time": "2024-12-21T05:21:03.328Z"
   },
   {
    "duration": 6,
    "start_time": "2024-12-21T05:21:03.399Z"
   },
   {
    "duration": 2,
    "start_time": "2024-12-21T05:21:03.407Z"
   },
   {
    "duration": 9,
    "start_time": "2024-12-21T05:21:03.411Z"
   },
   {
    "duration": 31,
    "start_time": "2024-12-21T05:21:03.421Z"
   },
   {
    "duration": 4,
    "start_time": "2024-12-21T05:21:03.453Z"
   },
   {
    "duration": 2,
    "start_time": "2024-12-21T05:21:03.460Z"
   },
   {
    "duration": 8,
    "start_time": "2024-12-21T05:21:03.464Z"
   },
   {
    "duration": 13,
    "start_time": "2024-12-21T05:21:03.474Z"
   },
   {
    "duration": 6,
    "start_time": "2024-12-21T05:21:03.488Z"
   },
   {
    "duration": 2,
    "start_time": "2024-12-21T05:21:03.498Z"
   },
   {
    "duration": 14,
    "start_time": "2024-12-21T05:21:03.542Z"
   },
   {
    "duration": 9,
    "start_time": "2024-12-21T05:21:03.558Z"
   },
   {
    "duration": 6,
    "start_time": "2024-12-21T05:21:03.569Z"
   },
   {
    "duration": 5,
    "start_time": "2024-12-21T05:21:03.576Z"
   },
   {
    "duration": 240,
    "start_time": "2024-12-21T05:21:03.582Z"
   },
   {
    "duration": 9,
    "start_time": "2024-12-21T05:21:03.824Z"
   },
   {
    "duration": 293,
    "start_time": "2024-12-21T05:21:03.843Z"
   },
   {
    "duration": 286,
    "start_time": "2024-12-21T05:21:04.142Z"
   },
   {
    "duration": 305,
    "start_time": "2024-12-21T05:21:04.430Z"
   },
   {
    "duration": 12,
    "start_time": "2024-12-21T05:21:04.736Z"
   },
   {
    "duration": 7,
    "start_time": "2024-12-21T05:21:04.749Z"
   },
   {
    "duration": 410,
    "start_time": "2024-12-21T05:21:04.757Z"
   },
   {
    "duration": 12,
    "start_time": "2024-12-21T05:21:05.169Z"
   },
   {
    "duration": 17,
    "start_time": "2024-12-21T05:21:05.183Z"
   },
   {
    "duration": 4,
    "start_time": "2024-12-21T05:21:05.201Z"
   },
   {
    "duration": 44,
    "start_time": "2024-12-21T05:21:05.207Z"
   },
   {
    "duration": 557,
    "start_time": "2024-12-21T05:21:05.253Z"
   },
   {
    "duration": 4,
    "start_time": "2024-12-21T05:21:05.811Z"
   },
   {
    "duration": 234,
    "start_time": "2024-12-21T05:21:05.816Z"
   },
   {
    "duration": 0,
    "start_time": "2024-12-21T05:21:06.051Z"
   },
   {
    "duration": 3,
    "start_time": "2024-12-21T05:21:09.527Z"
   },
   {
    "duration": 4,
    "start_time": "2024-12-21T05:21:11.927Z"
   },
   {
    "duration": 429,
    "start_time": "2024-12-21T05:21:33.108Z"
   },
   {
    "duration": 6,
    "start_time": "2024-12-21T05:22:36.367Z"
   },
   {
    "duration": 9875,
    "start_time": "2024-12-21T05:22:55.422Z"
   },
   {
    "duration": 4,
    "start_time": "2024-12-21T05:23:37.100Z"
   },
   {
    "duration": 109661,
    "start_time": "2024-12-21T05:24:04.717Z"
   },
   {
    "duration": 97,
    "start_time": "2024-12-21T05:26:45.120Z"
   },
   {
    "duration": 4,
    "start_time": "2024-12-21T05:28:21.653Z"
   },
   {
    "duration": 47,
    "start_time": "2024-12-21T05:28:34.747Z"
   },
   {
    "duration": 42,
    "start_time": "2024-12-21T05:28:39.789Z"
   },
   {
    "duration": 41,
    "start_time": "2024-12-21T05:28:50.164Z"
   },
   {
    "duration": 5,
    "start_time": "2024-12-21T05:30:35.247Z"
   },
   {
    "duration": 374,
    "start_time": "2024-12-21T05:30:45.657Z"
   },
   {
    "duration": 822,
    "start_time": "2024-12-21T05:30:53.906Z"
   },
   {
    "duration": 3864,
    "start_time": "2024-12-21T05:30:54.730Z"
   },
   {
    "duration": 11,
    "start_time": "2024-12-21T05:30:58.596Z"
   },
   {
    "duration": 67,
    "start_time": "2024-12-21T05:30:58.609Z"
   },
   {
    "duration": 6,
    "start_time": "2024-12-21T05:30:58.677Z"
   },
   {
    "duration": 3,
    "start_time": "2024-12-21T05:30:58.684Z"
   },
   {
    "duration": 9,
    "start_time": "2024-12-21T05:30:58.688Z"
   },
   {
    "duration": 10,
    "start_time": "2024-12-21T05:30:58.699Z"
   },
   {
    "duration": 33,
    "start_time": "2024-12-21T05:30:58.711Z"
   },
   {
    "duration": 3,
    "start_time": "2024-12-21T05:30:58.748Z"
   },
   {
    "duration": 9,
    "start_time": "2024-12-21T05:30:58.752Z"
   },
   {
    "duration": 13,
    "start_time": "2024-12-21T05:30:58.763Z"
   },
   {
    "duration": 6,
    "start_time": "2024-12-21T05:30:58.777Z"
   },
   {
    "duration": 3,
    "start_time": "2024-12-21T05:30:58.784Z"
   },
   {
    "duration": 14,
    "start_time": "2024-12-21T05:30:58.789Z"
   },
   {
    "duration": 45,
    "start_time": "2024-12-21T05:30:58.805Z"
   },
   {
    "duration": 6,
    "start_time": "2024-12-21T05:30:58.852Z"
   },
   {
    "duration": 4,
    "start_time": "2024-12-21T05:30:58.860Z"
   },
   {
    "duration": 228,
    "start_time": "2024-12-21T05:30:58.866Z"
   },
   {
    "duration": 8,
    "start_time": "2024-12-21T05:30:59.096Z"
   },
   {
    "duration": 314,
    "start_time": "2024-12-21T05:30:59.106Z"
   },
   {
    "duration": 279,
    "start_time": "2024-12-21T05:30:59.421Z"
   },
   {
    "duration": 290,
    "start_time": "2024-12-21T05:30:59.701Z"
   },
   {
    "duration": 7,
    "start_time": "2024-12-21T05:30:59.994Z"
   },
   {
    "duration": 5,
    "start_time": "2024-12-21T05:31:00.003Z"
   },
   {
    "duration": 405,
    "start_time": "2024-12-21T05:31:00.010Z"
   },
   {
    "duration": 8,
    "start_time": "2024-12-21T05:31:00.417Z"
   },
   {
    "duration": 25,
    "start_time": "2024-12-21T05:31:00.429Z"
   },
   {
    "duration": 4,
    "start_time": "2024-12-21T05:31:00.456Z"
   },
   {
    "duration": 23,
    "start_time": "2024-12-21T05:31:00.461Z"
   },
   {
    "duration": 567,
    "start_time": "2024-12-21T05:31:00.486Z"
   },
   {
    "duration": 3,
    "start_time": "2024-12-21T05:31:01.055Z"
   },
   {
    "duration": 3,
    "start_time": "2024-12-21T05:31:01.061Z"
   },
   {
    "duration": 5,
    "start_time": "2024-12-21T05:31:01.066Z"
   },
   {
    "duration": 4,
    "start_time": "2024-12-21T05:31:01.073Z"
   },
   {
    "duration": 9808,
    "start_time": "2024-12-21T05:31:01.078Z"
   },
   {
    "duration": 109160,
    "start_time": "2024-12-21T05:31:10.888Z"
   },
   {
    "duration": 2,
    "start_time": "2024-12-21T05:33:00.050Z"
   },
   {
    "duration": 946,
    "start_time": "2024-12-21T05:33:00.053Z"
   },
   {
    "duration": 43,
    "start_time": "2024-12-21T06:08:20.520Z"
   },
   {
    "duration": 865,
    "start_time": "2024-12-21T06:08:39.797Z"
   },
   {
    "duration": 4013,
    "start_time": "2024-12-21T06:08:40.665Z"
   },
   {
    "duration": 12,
    "start_time": "2024-12-21T06:08:44.680Z"
   },
   {
    "duration": 73,
    "start_time": "2024-12-21T06:08:44.693Z"
   },
   {
    "duration": 6,
    "start_time": "2024-12-21T06:08:44.769Z"
   },
   {
    "duration": 2,
    "start_time": "2024-12-21T06:08:44.777Z"
   },
   {
    "duration": 9,
    "start_time": "2024-12-21T06:08:44.781Z"
   },
   {
    "duration": 10,
    "start_time": "2024-12-21T06:08:44.791Z"
   },
   {
    "duration": 5,
    "start_time": "2024-12-21T06:08:44.803Z"
   },
   {
    "duration": 3,
    "start_time": "2024-12-21T06:08:44.842Z"
   },
   {
    "duration": 8,
    "start_time": "2024-12-21T06:08:44.847Z"
   },
   {
    "duration": 14,
    "start_time": "2024-12-21T06:08:44.856Z"
   },
   {
    "duration": 7,
    "start_time": "2024-12-21T06:08:44.871Z"
   },
   {
    "duration": 3,
    "start_time": "2024-12-21T06:08:44.881Z"
   },
   {
    "duration": 14,
    "start_time": "2024-12-21T06:08:44.885Z"
   },
   {
    "duration": 48,
    "start_time": "2024-12-21T06:08:44.901Z"
   },
   {
    "duration": 7,
    "start_time": "2024-12-21T06:08:44.950Z"
   },
   {
    "duration": 5,
    "start_time": "2024-12-21T06:08:44.960Z"
   },
   {
    "duration": 232,
    "start_time": "2024-12-21T06:08:44.967Z"
   },
   {
    "duration": 8,
    "start_time": "2024-12-21T06:08:45.201Z"
   },
   {
    "duration": 298,
    "start_time": "2024-12-21T06:08:45.211Z"
   },
   {
    "duration": 290,
    "start_time": "2024-12-21T06:08:45.511Z"
   },
   {
    "duration": 296,
    "start_time": "2024-12-21T06:08:45.803Z"
   },
   {
    "duration": 7,
    "start_time": "2024-12-21T06:08:46.101Z"
   },
   {
    "duration": 7,
    "start_time": "2024-12-21T06:08:46.109Z"
   },
   {
    "duration": 404,
    "start_time": "2024-12-21T06:08:46.117Z"
   },
   {
    "duration": 8,
    "start_time": "2024-12-21T06:08:46.523Z"
   },
   {
    "duration": 14,
    "start_time": "2024-12-21T06:08:46.543Z"
   },
   {
    "duration": 4,
    "start_time": "2024-12-21T06:08:46.559Z"
   },
   {
    "duration": 19,
    "start_time": "2024-12-21T06:08:46.565Z"
   },
   {
    "duration": 558,
    "start_time": "2024-12-21T06:08:46.586Z"
   },
   {
    "duration": 3,
    "start_time": "2024-12-21T06:08:47.146Z"
   },
   {
    "duration": 3,
    "start_time": "2024-12-21T06:08:47.151Z"
   },
   {
    "duration": 6,
    "start_time": "2024-12-21T06:08:47.156Z"
   },
   {
    "duration": 4,
    "start_time": "2024-12-21T06:08:47.163Z"
   },
   {
    "duration": 10038,
    "start_time": "2024-12-21T06:08:47.169Z"
   },
   {
    "duration": 109469,
    "start_time": "2024-12-21T06:08:57.209Z"
   },
   {
    "duration": 3,
    "start_time": "2024-12-21T06:10:46.679Z"
   },
   {
    "duration": 903,
    "start_time": "2024-12-21T06:15:05.402Z"
   },
   {
    "duration": 3,
    "start_time": "2024-12-21T06:15:11.334Z"
   },
   {
    "duration": 43,
    "start_time": "2024-12-21T06:15:12.472Z"
   },
   {
    "duration": 41,
    "start_time": "2024-12-21T06:18:12.726Z"
   },
   {
    "duration": 42,
    "start_time": "2024-12-21T06:18:38.081Z"
   },
   {
    "duration": 37,
    "start_time": "2024-12-21T06:20:34.980Z"
   },
   {
    "duration": 4,
    "start_time": "2024-12-21T06:20:38.467Z"
   },
   {
    "duration": 4,
    "start_time": "2024-12-21T06:20:40.457Z"
   },
   {
    "duration": 15,
    "start_time": "2024-12-21T06:21:54.405Z"
   },
   {
    "duration": 121,
    "start_time": "2024-12-21T06:22:41.891Z"
   },
   {
    "duration": 843,
    "start_time": "2024-12-21T06:27:13.393Z"
   },
   {
    "duration": 3780,
    "start_time": "2024-12-21T06:27:14.239Z"
   },
   {
    "duration": 11,
    "start_time": "2024-12-21T06:27:18.021Z"
   },
   {
    "duration": 67,
    "start_time": "2024-12-21T06:27:18.033Z"
   },
   {
    "duration": 7,
    "start_time": "2024-12-21T06:27:18.102Z"
   },
   {
    "duration": 3,
    "start_time": "2024-12-21T06:27:18.111Z"
   },
   {
    "duration": 30,
    "start_time": "2024-12-21T06:27:18.116Z"
   },
   {
    "duration": 10,
    "start_time": "2024-12-21T06:27:18.147Z"
   },
   {
    "duration": 4,
    "start_time": "2024-12-21T06:27:18.159Z"
   },
   {
    "duration": 3,
    "start_time": "2024-12-21T06:27:18.165Z"
   },
   {
    "duration": 9,
    "start_time": "2024-12-21T06:27:18.170Z"
   },
   {
    "duration": 12,
    "start_time": "2024-12-21T06:27:18.181Z"
   },
   {
    "duration": 48,
    "start_time": "2024-12-21T06:27:18.195Z"
   },
   {
    "duration": 3,
    "start_time": "2024-12-21T06:27:18.247Z"
   },
   {
    "duration": 15,
    "start_time": "2024-12-21T06:27:18.251Z"
   },
   {
    "duration": 8,
    "start_time": "2024-12-21T06:27:18.267Z"
   },
   {
    "duration": 6,
    "start_time": "2024-12-21T06:27:18.277Z"
   },
   {
    "duration": 4,
    "start_time": "2024-12-21T06:27:18.285Z"
   },
   {
    "duration": 245,
    "start_time": "2024-12-21T06:27:18.291Z"
   },
   {
    "duration": 9,
    "start_time": "2024-12-21T06:27:18.538Z"
   },
   {
    "duration": 296,
    "start_time": "2024-12-21T06:27:18.549Z"
   },
   {
    "duration": 303,
    "start_time": "2024-12-21T06:27:18.847Z"
   },
   {
    "duration": 293,
    "start_time": "2024-12-21T06:27:19.152Z"
   },
   {
    "duration": 7,
    "start_time": "2024-12-21T06:27:19.447Z"
   },
   {
    "duration": 7,
    "start_time": "2024-12-21T06:27:19.455Z"
   },
   {
    "duration": 406,
    "start_time": "2024-12-21T06:27:19.463Z"
   },
   {
    "duration": 9,
    "start_time": "2024-12-21T06:27:19.870Z"
   },
   {
    "duration": 14,
    "start_time": "2024-12-21T06:27:19.881Z"
   },
   {
    "duration": 4,
    "start_time": "2024-12-21T06:27:19.896Z"
   },
   {
    "duration": 47,
    "start_time": "2024-12-21T06:27:19.902Z"
   },
   {
    "duration": 564,
    "start_time": "2024-12-21T06:27:19.950Z"
   },
   {
    "duration": 3,
    "start_time": "2024-12-21T06:27:20.515Z"
   },
   {
    "duration": 3,
    "start_time": "2024-12-21T06:27:20.520Z"
   },
   {
    "duration": 21,
    "start_time": "2024-12-21T06:27:20.524Z"
   },
   {
    "duration": 4,
    "start_time": "2024-12-21T06:27:20.549Z"
   },
   {
    "duration": 9920,
    "start_time": "2024-12-21T06:27:20.555Z"
   },
   {
    "duration": 108490,
    "start_time": "2024-12-21T06:27:30.477Z"
   },
   {
    "duration": 39,
    "start_time": "2024-12-21T06:29:18.968Z"
   },
   {
    "duration": 4,
    "start_time": "2024-12-21T06:29:19.008Z"
   },
   {
    "duration": 422,
    "start_time": "2024-12-21T06:29:19.013Z"
   },
   {
    "duration": 0,
    "start_time": "2024-12-21T06:29:19.437Z"
   },
   {
    "duration": 37,
    "start_time": "2024-12-21T06:40:05.353Z"
   },
   {
    "duration": 42,
    "start_time": "2024-12-21T06:40:09.186Z"
   },
   {
    "duration": 15,
    "start_time": "2024-12-21T06:41:29.529Z"
   },
   {
    "duration": 36,
    "start_time": "2024-12-21T06:43:00.339Z"
   },
   {
    "duration": 4,
    "start_time": "2024-12-21T06:43:01.105Z"
   },
   {
    "duration": 44,
    "start_time": "2024-12-21T06:43:04.311Z"
   },
   {
    "duration": 2710,
    "start_time": "2024-12-21T22:25:08.408Z"
   },
   {
    "duration": 3852,
    "start_time": "2024-12-21T22:25:11.120Z"
   },
   {
    "duration": 16,
    "start_time": "2024-12-21T22:25:14.974Z"
   },
   {
    "duration": 12,
    "start_time": "2024-12-21T22:25:14.992Z"
   },
   {
    "duration": 6,
    "start_time": "2024-12-21T22:25:15.006Z"
   },
   {
    "duration": 3,
    "start_time": "2024-12-21T22:25:15.014Z"
   },
   {
    "duration": 9,
    "start_time": "2024-12-21T22:25:15.018Z"
   },
   {
    "duration": 10,
    "start_time": "2024-12-21T22:25:15.029Z"
   },
   {
    "duration": 4,
    "start_time": "2024-12-21T22:25:15.040Z"
   },
   {
    "duration": 3,
    "start_time": "2024-12-21T22:25:15.086Z"
   },
   {
    "duration": 8,
    "start_time": "2024-12-21T22:25:15.091Z"
   },
   {
    "duration": 14,
    "start_time": "2024-12-21T22:25:15.101Z"
   },
   {
    "duration": 7,
    "start_time": "2024-12-21T22:25:15.116Z"
   },
   {
    "duration": 2,
    "start_time": "2024-12-21T22:25:15.125Z"
   },
   {
    "duration": 13,
    "start_time": "2024-12-21T22:25:15.129Z"
   },
   {
    "duration": 45,
    "start_time": "2024-12-21T22:25:15.144Z"
   },
   {
    "duration": 6,
    "start_time": "2024-12-21T22:25:15.191Z"
   },
   {
    "duration": 5,
    "start_time": "2024-12-21T22:25:15.198Z"
   },
   {
    "duration": 227,
    "start_time": "2024-12-21T22:25:15.204Z"
   },
   {
    "duration": 7,
    "start_time": "2024-12-21T22:25:15.433Z"
   },
   {
    "duration": 309,
    "start_time": "2024-12-21T22:25:15.442Z"
   },
   {
    "duration": 300,
    "start_time": "2024-12-21T22:25:15.753Z"
   },
   {
    "duration": 355,
    "start_time": "2024-12-21T22:25:16.054Z"
   },
   {
    "duration": 7,
    "start_time": "2024-12-21T22:25:16.411Z"
   },
   {
    "duration": 6,
    "start_time": "2024-12-21T22:25:16.421Z"
   },
   {
    "duration": 343,
    "start_time": "2024-12-21T22:25:16.428Z"
   },
   {
    "duration": 16,
    "start_time": "2024-12-21T22:25:16.773Z"
   },
   {
    "duration": 14,
    "start_time": "2024-12-21T22:25:16.793Z"
   },
   {
    "duration": 5,
    "start_time": "2024-12-21T22:25:16.808Z"
   },
   {
    "duration": 18,
    "start_time": "2024-12-21T22:25:16.815Z"
   },
   {
    "duration": 564,
    "start_time": "2024-12-21T22:25:16.835Z"
   },
   {
    "duration": 3,
    "start_time": "2024-12-21T22:25:17.401Z"
   },
   {
    "duration": 3,
    "start_time": "2024-12-21T22:25:17.405Z"
   },
   {
    "duration": 6,
    "start_time": "2024-12-21T22:25:17.410Z"
   },
   {
    "duration": 3,
    "start_time": "2024-12-21T22:25:17.418Z"
   },
   {
    "duration": 9899,
    "start_time": "2024-12-21T22:25:32.336Z"
   },
   {
    "duration": 297,
    "start_time": "2024-12-21T23:07:54.127Z"
   },
   {
    "duration": 40,
    "start_time": "2024-12-21T23:07:59.402Z"
   },
   {
    "duration": 122,
    "start_time": "2024-12-21T23:08:01.832Z"
   },
   {
    "duration": 904,
    "start_time": "2024-12-21T23:47:57.812Z"
   },
   {
    "duration": 3769,
    "start_time": "2024-12-21T23:47:58.718Z"
   },
   {
    "duration": 11,
    "start_time": "2024-12-21T23:48:02.489Z"
   },
   {
    "duration": 55,
    "start_time": "2024-12-21T23:48:02.502Z"
   },
   {
    "duration": 27,
    "start_time": "2024-12-21T23:48:02.559Z"
   },
   {
    "duration": 2,
    "start_time": "2024-12-21T23:48:02.588Z"
   },
   {
    "duration": 8,
    "start_time": "2024-12-21T23:48:02.592Z"
   },
   {
    "duration": 10,
    "start_time": "2024-12-21T23:48:02.602Z"
   },
   {
    "duration": 4,
    "start_time": "2024-12-21T23:48:02.613Z"
   },
   {
    "duration": 4,
    "start_time": "2024-12-21T23:48:02.622Z"
   },
   {
    "duration": 11,
    "start_time": "2024-12-21T23:48:02.627Z"
   },
   {
    "duration": 51,
    "start_time": "2024-12-21T23:48:02.640Z"
   },
   {
    "duration": 6,
    "start_time": "2024-12-21T23:48:02.693Z"
   },
   {
    "duration": 2,
    "start_time": "2024-12-21T23:48:02.701Z"
   },
   {
    "duration": 14,
    "start_time": "2024-12-21T23:48:02.705Z"
   },
   {
    "duration": 8,
    "start_time": "2024-12-21T23:48:02.720Z"
   },
   {
    "duration": 7,
    "start_time": "2024-12-21T23:48:02.730Z"
   },
   {
    "duration": 4,
    "start_time": "2024-12-21T23:48:02.738Z"
   },
   {
    "duration": 242,
    "start_time": "2024-12-21T23:48:02.744Z"
   },
   {
    "duration": 8,
    "start_time": "2024-12-21T23:48:02.988Z"
   },
   {
    "duration": 325,
    "start_time": "2024-12-21T23:48:02.997Z"
   },
   {
    "duration": 294,
    "start_time": "2024-12-21T23:48:03.325Z"
   },
   {
    "duration": 316,
    "start_time": "2024-12-21T23:48:03.621Z"
   },
   {
    "duration": 8,
    "start_time": "2024-12-21T23:48:03.938Z"
   },
   {
    "duration": 6,
    "start_time": "2024-12-21T23:48:03.948Z"
   },
   {
    "duration": 409,
    "start_time": "2024-12-21T23:48:03.957Z"
   },
   {
    "duration": 8,
    "start_time": "2024-12-21T23:48:04.368Z"
   },
   {
    "duration": 14,
    "start_time": "2024-12-21T23:48:04.391Z"
   },
   {
    "duration": 4,
    "start_time": "2024-12-21T23:48:04.407Z"
   },
   {
    "duration": 21,
    "start_time": "2024-12-21T23:48:04.412Z"
   },
   {
    "duration": 561,
    "start_time": "2024-12-21T23:48:04.435Z"
   },
   {
    "duration": 3,
    "start_time": "2024-12-21T23:48:04.998Z"
   },
   {
    "duration": 3,
    "start_time": "2024-12-21T23:48:05.003Z"
   },
   {
    "duration": 5,
    "start_time": "2024-12-21T23:48:05.008Z"
   },
   {
    "duration": 4,
    "start_time": "2024-12-21T23:48:05.015Z"
   },
   {
    "duration": 9954,
    "start_time": "2024-12-21T23:48:05.020Z"
   },
   {
    "duration": 109048,
    "start_time": "2024-12-21T23:48:14.986Z"
   },
   {
    "duration": 41,
    "start_time": "2024-12-21T23:50:04.035Z"
   },
   {
    "duration": 4,
    "start_time": "2024-12-21T23:50:04.086Z"
   },
   {
    "duration": 2599,
    "start_time": "2024-12-22T03:33:12.033Z"
   },
   {
    "duration": 4164,
    "start_time": "2024-12-22T03:33:14.634Z"
   },
   {
    "duration": 17,
    "start_time": "2024-12-22T03:33:18.800Z"
   },
   {
    "duration": 13,
    "start_time": "2024-12-22T03:33:18.818Z"
   },
   {
    "duration": 5,
    "start_time": "2024-12-22T03:33:18.833Z"
   },
   {
    "duration": 2,
    "start_time": "2024-12-22T03:33:18.840Z"
   },
   {
    "duration": 8,
    "start_time": "2024-12-22T03:33:18.844Z"
   },
   {
    "duration": 10,
    "start_time": "2024-12-22T03:33:18.854Z"
   },
   {
    "duration": 4,
    "start_time": "2024-12-22T03:33:18.865Z"
   },
   {
    "duration": 4,
    "start_time": "2024-12-22T03:33:18.908Z"
   },
   {
    "duration": 11,
    "start_time": "2024-12-22T03:33:18.914Z"
   },
   {
    "duration": 14,
    "start_time": "2024-12-22T03:33:18.927Z"
   },
   {
    "duration": 7,
    "start_time": "2024-12-22T03:33:18.943Z"
   },
   {
    "duration": 2,
    "start_time": "2024-12-22T03:33:18.954Z"
   },
   {
    "duration": 14,
    "start_time": "2024-12-22T03:33:18.958Z"
   },
   {
    "duration": 42,
    "start_time": "2024-12-22T03:33:18.973Z"
   },
   {
    "duration": 6,
    "start_time": "2024-12-22T03:33:19.017Z"
   },
   {
    "duration": 4,
    "start_time": "2024-12-22T03:33:19.025Z"
   },
   {
    "duration": 237,
    "start_time": "2024-12-22T03:33:19.031Z"
   },
   {
    "duration": 9,
    "start_time": "2024-12-22T03:33:19.269Z"
   },
   {
    "duration": 303,
    "start_time": "2024-12-22T03:33:19.279Z"
   },
   {
    "duration": 299,
    "start_time": "2024-12-22T03:33:19.584Z"
   },
   {
    "duration": 361,
    "start_time": "2024-12-22T03:33:19.885Z"
   },
   {
    "duration": 14,
    "start_time": "2024-12-22T03:33:20.247Z"
   },
   {
    "duration": 7,
    "start_time": "2024-12-22T03:33:20.263Z"
   },
   {
    "duration": 328,
    "start_time": "2024-12-22T03:33:20.272Z"
   },
   {
    "duration": 13,
    "start_time": "2024-12-22T03:33:20.601Z"
   },
   {
    "duration": 14,
    "start_time": "2024-12-22T03:33:20.615Z"
   },
   {
    "duration": 4,
    "start_time": "2024-12-22T03:33:20.631Z"
   },
   {
    "duration": 18,
    "start_time": "2024-12-22T03:33:20.636Z"
   },
   {
    "duration": 572,
    "start_time": "2024-12-22T03:33:20.655Z"
   },
   {
    "duration": 3,
    "start_time": "2024-12-22T03:33:21.229Z"
   },
   {
    "duration": 3,
    "start_time": "2024-12-22T03:33:21.234Z"
   },
   {
    "duration": 7,
    "start_time": "2024-12-22T03:33:21.238Z"
   },
   {
    "duration": 5,
    "start_time": "2024-12-22T03:33:21.246Z"
   },
   {
    "duration": 3,
    "start_time": "2024-12-22T04:02:14.935Z"
   },
   {
    "duration": 40,
    "start_time": "2024-12-22T04:19:46.904Z"
   },
   {
    "duration": 3,
    "start_time": "2024-12-22T04:19:48.583Z"
   },
   {
    "duration": 420,
    "start_time": "2024-12-22T04:19:51.759Z"
   },
   {
    "duration": 16,
    "start_time": "2024-12-22T05:58:47.075Z"
   },
   {
    "duration": 16,
    "start_time": "2024-12-22T05:58:51.313Z"
   },
   {
    "duration": 19,
    "start_time": "2024-12-22T05:58:55.427Z"
   },
   {
    "duration": 50,
    "start_time": "2024-12-22T05:59:04.611Z"
   },
   {
    "duration": 39,
    "start_time": "2024-12-22T05:59:55.116Z"
   },
   {
    "duration": 4,
    "start_time": "2024-12-22T05:59:56.029Z"
   },
   {
    "duration": 4683,
    "start_time": "2024-12-22T06:00:02.556Z"
   },
   {
    "duration": 7,
    "start_time": "2024-12-22T06:00:33.992Z"
   },
   {
    "duration": 900,
    "start_time": "2024-12-22T06:16:47.196Z"
   },
   {
    "duration": 4037,
    "start_time": "2024-12-22T06:16:48.098Z"
   },
   {
    "duration": 11,
    "start_time": "2024-12-22T06:16:52.137Z"
   },
   {
    "duration": 77,
    "start_time": "2024-12-22T06:16:52.150Z"
   },
   {
    "duration": 5,
    "start_time": "2024-12-22T06:16:52.230Z"
   },
   {
    "duration": 3,
    "start_time": "2024-12-22T06:16:52.237Z"
   },
   {
    "duration": 8,
    "start_time": "2024-12-22T06:16:52.242Z"
   },
   {
    "duration": 10,
    "start_time": "2024-12-22T06:16:52.251Z"
   },
   {
    "duration": 5,
    "start_time": "2024-12-22T06:16:52.263Z"
   },
   {
    "duration": 2,
    "start_time": "2024-12-22T06:16:52.270Z"
   },
   {
    "duration": 43,
    "start_time": "2024-12-22T06:16:52.274Z"
   },
   {
    "duration": 13,
    "start_time": "2024-12-22T06:16:52.318Z"
   },
   {
    "duration": 6,
    "start_time": "2024-12-22T06:16:52.333Z"
   },
   {
    "duration": 3,
    "start_time": "2024-12-22T06:16:52.342Z"
   },
   {
    "duration": 15,
    "start_time": "2024-12-22T06:16:52.347Z"
   },
   {
    "duration": 44,
    "start_time": "2024-12-22T06:16:52.364Z"
   },
   {
    "duration": 7,
    "start_time": "2024-12-22T06:16:52.411Z"
   },
   {
    "duration": 4,
    "start_time": "2024-12-22T06:16:52.420Z"
   },
   {
    "duration": 224,
    "start_time": "2024-12-22T06:16:52.426Z"
   },
   {
    "duration": 11,
    "start_time": "2024-12-22T06:16:52.652Z"
   },
   {
    "duration": 300,
    "start_time": "2024-12-22T06:16:52.664Z"
   },
   {
    "duration": 290,
    "start_time": "2024-12-22T06:16:52.966Z"
   },
   {
    "duration": 299,
    "start_time": "2024-12-22T06:16:53.258Z"
   },
   {
    "duration": 9,
    "start_time": "2024-12-22T06:16:53.559Z"
   },
   {
    "duration": 8,
    "start_time": "2024-12-22T06:16:53.570Z"
   },
   {
    "duration": 408,
    "start_time": "2024-12-22T06:16:53.580Z"
   },
   {
    "duration": 8,
    "start_time": "2024-12-22T06:16:53.990Z"
   },
   {
    "duration": 15,
    "start_time": "2024-12-22T06:16:54.008Z"
   },
   {
    "duration": 4,
    "start_time": "2024-12-22T06:16:54.024Z"
   },
   {
    "duration": 18,
    "start_time": "2024-12-22T06:16:54.030Z"
   },
   {
    "duration": 554,
    "start_time": "2024-12-22T06:16:54.050Z"
   },
   {
    "duration": 4,
    "start_time": "2024-12-22T06:16:54.609Z"
   },
   {
    "duration": 2,
    "start_time": "2024-12-22T06:16:54.615Z"
   },
   {
    "duration": 6,
    "start_time": "2024-12-22T06:16:54.619Z"
   },
   {
    "duration": 4,
    "start_time": "2024-12-22T06:16:54.626Z"
   },
   {
    "duration": 3,
    "start_time": "2024-12-22T06:16:54.632Z"
   },
   {
    "duration": 9981,
    "start_time": "2024-12-22T06:16:54.637Z"
   },
   {
    "duration": 108516,
    "start_time": "2024-12-22T06:17:04.620Z"
   },
   {
    "duration": 39,
    "start_time": "2024-12-22T06:18:53.138Z"
   },
   {
    "duration": 4,
    "start_time": "2024-12-22T06:18:53.178Z"
   },
   {
    "duration": 4769,
    "start_time": "2024-12-22T06:18:53.186Z"
   },
   {
    "duration": 6,
    "start_time": "2024-12-22T06:18:57.957Z"
   },
   {
    "duration": 10064,
    "start_time": "2024-12-22T06:22:50.058Z"
   },
   {
    "duration": 7,
    "start_time": "2024-12-22T06:23:04.754Z"
   },
   {
    "duration": 883,
    "start_time": "2024-12-22T06:26:48.960Z"
   },
   {
    "duration": 4011,
    "start_time": "2024-12-22T06:26:49.846Z"
   },
   {
    "duration": 12,
    "start_time": "2024-12-22T06:26:53.859Z"
   },
   {
    "duration": 76,
    "start_time": "2024-12-22T06:26:53.872Z"
   },
   {
    "duration": 5,
    "start_time": "2024-12-22T06:26:53.951Z"
   },
   {
    "duration": 2,
    "start_time": "2024-12-22T06:26:53.958Z"
   },
   {
    "duration": 10,
    "start_time": "2024-12-22T06:26:53.962Z"
   },
   {
    "duration": 36,
    "start_time": "2024-12-22T06:26:53.974Z"
   },
   {
    "duration": 4,
    "start_time": "2024-12-22T06:26:54.011Z"
   },
   {
    "duration": 3,
    "start_time": "2024-12-22T06:26:54.017Z"
   },
   {
    "duration": 8,
    "start_time": "2024-12-22T06:26:54.021Z"
   },
   {
    "duration": 12,
    "start_time": "2024-12-22T06:26:54.031Z"
   },
   {
    "duration": 7,
    "start_time": "2024-12-22T06:26:54.045Z"
   },
   {
    "duration": 3,
    "start_time": "2024-12-22T06:26:54.056Z"
   },
   {
    "duration": 59,
    "start_time": "2024-12-22T06:26:54.060Z"
   },
   {
    "duration": 8,
    "start_time": "2024-12-22T06:26:54.120Z"
   },
   {
    "duration": 7,
    "start_time": "2024-12-22T06:26:54.130Z"
   },
   {
    "duration": 3,
    "start_time": "2024-12-22T06:26:54.139Z"
   },
   {
    "duration": 226,
    "start_time": "2024-12-22T06:26:54.144Z"
   },
   {
    "duration": 8,
    "start_time": "2024-12-22T06:26:54.372Z"
   },
   {
    "duration": 293,
    "start_time": "2024-12-22T06:26:54.382Z"
   },
   {
    "duration": 281,
    "start_time": "2024-12-22T06:26:54.677Z"
   },
   {
    "duration": 292,
    "start_time": "2024-12-22T06:26:54.960Z"
   },
   {
    "duration": 7,
    "start_time": "2024-12-22T06:26:55.254Z"
   },
   {
    "duration": 7,
    "start_time": "2024-12-22T06:26:55.263Z"
   },
   {
    "duration": 410,
    "start_time": "2024-12-22T06:26:55.272Z"
   },
   {
    "duration": 8,
    "start_time": "2024-12-22T06:26:55.684Z"
   },
   {
    "duration": 27,
    "start_time": "2024-12-22T06:26:55.694Z"
   },
   {
    "duration": 4,
    "start_time": "2024-12-22T06:26:55.722Z"
   },
   {
    "duration": 18,
    "start_time": "2024-12-22T06:26:55.728Z"
   },
   {
    "duration": 545,
    "start_time": "2024-12-22T06:26:55.748Z"
   },
   {
    "duration": 16,
    "start_time": "2024-12-22T06:26:56.294Z"
   },
   {
    "duration": 3,
    "start_time": "2024-12-22T06:26:56.311Z"
   },
   {
    "duration": 8,
    "start_time": "2024-12-22T06:26:56.316Z"
   },
   {
    "duration": 4,
    "start_time": "2024-12-22T06:26:56.326Z"
   },
   {
    "duration": 9918,
    "start_time": "2024-12-22T06:26:56.332Z"
   },
   {
    "duration": 108609,
    "start_time": "2024-12-22T06:27:06.252Z"
   },
   {
    "duration": 48,
    "start_time": "2024-12-22T06:28:54.863Z"
   },
   {
    "duration": 2,
    "start_time": "2024-12-22T06:28:54.913Z"
   },
   {
    "duration": 10087,
    "start_time": "2024-12-22T06:28:54.917Z"
   },
   {
    "duration": 6,
    "start_time": "2024-12-22T06:29:05.013Z"
   },
   {
    "duration": 6,
    "start_time": "2024-12-22T06:31:52.153Z"
   },
   {
    "duration": 15,
    "start_time": "2024-12-22T06:31:57.849Z"
   },
   {
    "duration": 17,
    "start_time": "2024-12-22T06:32:05.396Z"
   },
   {
    "duration": 894,
    "start_time": "2024-12-22T06:32:29.193Z"
   },
   {
    "duration": 4251,
    "start_time": "2024-12-22T06:32:30.089Z"
   },
   {
    "duration": 13,
    "start_time": "2024-12-22T06:32:34.341Z"
   },
   {
    "duration": 76,
    "start_time": "2024-12-22T06:32:34.355Z"
   },
   {
    "duration": 6,
    "start_time": "2024-12-22T06:32:34.434Z"
   },
   {
    "duration": 3,
    "start_time": "2024-12-22T06:32:34.442Z"
   },
   {
    "duration": 8,
    "start_time": "2024-12-22T06:32:34.447Z"
   },
   {
    "duration": 10,
    "start_time": "2024-12-22T06:32:34.456Z"
   },
   {
    "duration": 4,
    "start_time": "2024-12-22T06:32:34.468Z"
   },
   {
    "duration": 34,
    "start_time": "2024-12-22T06:32:34.475Z"
   },
   {
    "duration": 8,
    "start_time": "2024-12-22T06:32:34.511Z"
   },
   {
    "duration": 14,
    "start_time": "2024-12-22T06:32:34.521Z"
   },
   {
    "duration": 6,
    "start_time": "2024-12-22T06:32:34.536Z"
   },
   {
    "duration": 3,
    "start_time": "2024-12-22T06:32:34.546Z"
   },
   {
    "duration": 13,
    "start_time": "2024-12-22T06:32:34.550Z"
   },
   {
    "duration": 46,
    "start_time": "2024-12-22T06:32:34.565Z"
   },
   {
    "duration": 7,
    "start_time": "2024-12-22T06:32:34.612Z"
   },
   {
    "duration": 4,
    "start_time": "2024-12-22T06:32:34.621Z"
   },
   {
    "duration": 231,
    "start_time": "2024-12-22T06:32:34.627Z"
   },
   {
    "duration": 9,
    "start_time": "2024-12-22T06:32:34.860Z"
   },
   {
    "duration": 308,
    "start_time": "2024-12-22T06:32:34.870Z"
   },
   {
    "duration": 297,
    "start_time": "2024-12-22T06:32:35.179Z"
   },
   {
    "duration": 306,
    "start_time": "2024-12-22T06:32:35.478Z"
   },
   {
    "duration": 8,
    "start_time": "2024-12-22T06:32:35.786Z"
   },
   {
    "duration": 18,
    "start_time": "2024-12-22T06:32:35.795Z"
   },
   {
    "duration": 400,
    "start_time": "2024-12-22T06:32:35.814Z"
   },
   {
    "duration": 9,
    "start_time": "2024-12-22T06:32:36.215Z"
   },
   {
    "duration": 15,
    "start_time": "2024-12-22T06:32:36.225Z"
   },
   {
    "duration": 4,
    "start_time": "2024-12-22T06:32:36.241Z"
   },
   {
    "duration": 18,
    "start_time": "2024-12-22T06:32:36.247Z"
   },
   {
    "duration": 564,
    "start_time": "2024-12-22T06:32:36.266Z"
   },
   {
    "duration": 4,
    "start_time": "2024-12-22T06:32:36.831Z"
   },
   {
    "duration": 3,
    "start_time": "2024-12-22T06:32:36.836Z"
   },
   {
    "duration": 5,
    "start_time": "2024-12-22T06:32:36.841Z"
   },
   {
    "duration": 4,
    "start_time": "2024-12-22T06:32:36.848Z"
   },
   {
    "duration": 9864,
    "start_time": "2024-12-22T06:32:36.853Z"
   },
   {
    "duration": 108841,
    "start_time": "2024-12-22T06:32:46.719Z"
   },
   {
    "duration": 23,
    "start_time": "2024-12-22T06:58:48.050Z"
   },
   {
    "duration": 618,
    "start_time": "2024-12-22T06:59:37.016Z"
   },
   {
    "duration": 916,
    "start_time": "2024-12-22T07:00:05.566Z"
   },
   {
    "duration": 3900,
    "start_time": "2024-12-22T07:00:06.485Z"
   },
   {
    "duration": 12,
    "start_time": "2024-12-22T07:00:10.386Z"
   },
   {
    "duration": 72,
    "start_time": "2024-12-22T07:00:10.400Z"
   },
   {
    "duration": 7,
    "start_time": "2024-12-22T07:00:10.473Z"
   },
   {
    "duration": 2,
    "start_time": "2024-12-22T07:00:10.482Z"
   },
   {
    "duration": 8,
    "start_time": "2024-12-22T07:00:10.509Z"
   },
   {
    "duration": 10,
    "start_time": "2024-12-22T07:00:10.520Z"
   },
   {
    "duration": 5,
    "start_time": "2024-12-22T07:00:10.531Z"
   },
   {
    "duration": 2,
    "start_time": "2024-12-22T07:00:10.540Z"
   },
   {
    "duration": 9,
    "start_time": "2024-12-22T07:00:10.543Z"
   },
   {
    "duration": 13,
    "start_time": "2024-12-22T07:00:10.553Z"
   },
   {
    "duration": 44,
    "start_time": "2024-12-22T07:00:10.568Z"
   },
   {
    "duration": 3,
    "start_time": "2024-12-22T07:00:10.614Z"
   },
   {
    "duration": 14,
    "start_time": "2024-12-22T07:00:10.619Z"
   },
   {
    "duration": 8,
    "start_time": "2024-12-22T07:00:10.635Z"
   },
   {
    "duration": 6,
    "start_time": "2024-12-22T07:00:10.645Z"
   },
   {
    "duration": 4,
    "start_time": "2024-12-22T07:00:10.653Z"
   },
   {
    "duration": 243,
    "start_time": "2024-12-22T07:00:10.658Z"
   },
   {
    "duration": 12,
    "start_time": "2024-12-22T07:00:10.903Z"
   },
   {
    "duration": 302,
    "start_time": "2024-12-22T07:00:10.917Z"
   },
   {
    "duration": 300,
    "start_time": "2024-12-22T07:00:11.221Z"
   },
   {
    "duration": 303,
    "start_time": "2024-12-22T07:00:11.523Z"
   },
   {
    "duration": 8,
    "start_time": "2024-12-22T07:00:11.828Z"
   },
   {
    "duration": 6,
    "start_time": "2024-12-22T07:00:11.837Z"
   },
   {
    "duration": 418,
    "start_time": "2024-12-22T07:00:11.845Z"
   },
   {
    "duration": 9,
    "start_time": "2024-12-22T07:00:12.266Z"
   },
   {
    "duration": 14,
    "start_time": "2024-12-22T07:00:12.278Z"
   },
   {
    "duration": 4,
    "start_time": "2024-12-22T07:00:12.309Z"
   },
   {
    "duration": 18,
    "start_time": "2024-12-22T07:00:12.315Z"
   },
   {
    "duration": 574,
    "start_time": "2024-12-22T07:00:12.335Z"
   },
   {
    "duration": 3,
    "start_time": "2024-12-22T07:00:12.911Z"
   },
   {
    "duration": 3,
    "start_time": "2024-12-22T07:00:12.915Z"
   },
   {
    "duration": 5,
    "start_time": "2024-12-22T07:00:12.920Z"
   },
   {
    "duration": 4,
    "start_time": "2024-12-22T07:00:12.926Z"
   },
   {
    "duration": 9872,
    "start_time": "2024-12-22T07:00:12.932Z"
   },
   {
    "duration": 887,
    "start_time": "2024-12-22T07:01:51.410Z"
   },
   {
    "duration": 3840,
    "start_time": "2024-12-22T07:01:52.299Z"
   },
   {
    "duration": 12,
    "start_time": "2024-12-22T07:01:56.141Z"
   },
   {
    "duration": 72,
    "start_time": "2024-12-22T07:01:56.155Z"
   },
   {
    "duration": 6,
    "start_time": "2024-12-22T07:01:56.229Z"
   },
   {
    "duration": 3,
    "start_time": "2024-12-22T07:01:56.237Z"
   },
   {
    "duration": 8,
    "start_time": "2024-12-22T07:01:56.242Z"
   },
   {
    "duration": 10,
    "start_time": "2024-12-22T07:01:56.251Z"
   },
   {
    "duration": 6,
    "start_time": "2024-12-22T07:01:56.262Z"
   },
   {
    "duration": 40,
    "start_time": "2024-12-22T07:01:56.269Z"
   },
   {
    "duration": 9,
    "start_time": "2024-12-22T07:01:56.312Z"
   },
   {
    "duration": 14,
    "start_time": "2024-12-22T07:01:56.323Z"
   },
   {
    "duration": 6,
    "start_time": "2024-12-22T07:01:56.339Z"
   },
   {
    "duration": 2,
    "start_time": "2024-12-22T07:01:56.349Z"
   },
   {
    "duration": 14,
    "start_time": "2024-12-22T07:01:56.353Z"
   },
   {
    "duration": 46,
    "start_time": "2024-12-22T07:01:56.369Z"
   },
   {
    "duration": 6,
    "start_time": "2024-12-22T07:01:56.417Z"
   },
   {
    "duration": 4,
    "start_time": "2024-12-22T07:01:56.425Z"
   },
   {
    "duration": 233,
    "start_time": "2024-12-22T07:01:56.431Z"
   },
   {
    "duration": 8,
    "start_time": "2024-12-22T07:01:56.666Z"
   },
   {
    "duration": 294,
    "start_time": "2024-12-22T07:01:56.675Z"
   },
   {
    "duration": 307,
    "start_time": "2024-12-22T07:01:56.970Z"
   },
   {
    "duration": 332,
    "start_time": "2024-12-22T07:01:57.279Z"
   },
   {
    "duration": 7,
    "start_time": "2024-12-22T07:01:57.613Z"
   },
   {
    "duration": 7,
    "start_time": "2024-12-22T07:01:57.623Z"
   },
   {
    "duration": 421,
    "start_time": "2024-12-22T07:01:57.632Z"
   },
   {
    "duration": 8,
    "start_time": "2024-12-22T07:01:58.055Z"
   },
   {
    "duration": 14,
    "start_time": "2024-12-22T07:01:58.066Z"
   },
   {
    "duration": 4,
    "start_time": "2024-12-22T07:01:58.081Z"
   },
   {
    "duration": 40,
    "start_time": "2024-12-22T07:01:58.087Z"
   },
   {
    "duration": 566,
    "start_time": "2024-12-22T07:01:58.128Z"
   },
   {
    "duration": 3,
    "start_time": "2024-12-22T07:01:58.697Z"
   },
   {
    "duration": 3,
    "start_time": "2024-12-22T07:01:58.709Z"
   },
   {
    "duration": 7,
    "start_time": "2024-12-22T07:01:58.713Z"
   },
   {
    "duration": 3,
    "start_time": "2024-12-22T07:01:58.722Z"
   },
   {
    "duration": 9845,
    "start_time": "2024-12-22T07:01:58.727Z"
   },
   {
    "duration": 2673,
    "start_time": "2024-12-22T08:14:45.421Z"
   },
   {
    "duration": 3932,
    "start_time": "2024-12-22T08:14:48.096Z"
   },
   {
    "duration": 11,
    "start_time": "2024-12-22T08:14:52.030Z"
   },
   {
    "duration": 13,
    "start_time": "2024-12-22T08:14:52.043Z"
   },
   {
    "duration": 5,
    "start_time": "2024-12-22T08:14:52.058Z"
   },
   {
    "duration": 2,
    "start_time": "2024-12-22T08:14:52.065Z"
   },
   {
    "duration": 8,
    "start_time": "2024-12-22T08:14:52.069Z"
   },
   {
    "duration": 10,
    "start_time": "2024-12-22T08:14:52.110Z"
   },
   {
    "duration": 5,
    "start_time": "2024-12-22T08:14:52.121Z"
   },
   {
    "duration": 2,
    "start_time": "2024-12-22T08:14:52.130Z"
   },
   {
    "duration": 9,
    "start_time": "2024-12-22T08:14:52.134Z"
   },
   {
    "duration": 13,
    "start_time": "2024-12-22T08:14:52.144Z"
   },
   {
    "duration": 7,
    "start_time": "2024-12-22T08:14:52.158Z"
   },
   {
    "duration": 41,
    "start_time": "2024-12-22T08:14:52.168Z"
   },
   {
    "duration": 14,
    "start_time": "2024-12-22T08:14:52.211Z"
   },
   {
    "duration": 9,
    "start_time": "2024-12-22T08:14:52.227Z"
   },
   {
    "duration": 6,
    "start_time": "2024-12-22T08:14:52.238Z"
   },
   {
    "duration": 4,
    "start_time": "2024-12-22T08:14:52.246Z"
   },
   {
    "duration": 245,
    "start_time": "2024-12-22T08:14:52.252Z"
   },
   {
    "duration": 15,
    "start_time": "2024-12-22T08:14:52.499Z"
   },
   {
    "duration": 356,
    "start_time": "2024-12-22T08:14:52.515Z"
   },
   {
    "duration": 287,
    "start_time": "2024-12-22T08:14:52.873Z"
   },
   {
    "duration": 302,
    "start_time": "2024-12-22T08:14:53.161Z"
   },
   {
    "duration": 7,
    "start_time": "2024-12-22T08:14:53.464Z"
   },
   {
    "duration": 8,
    "start_time": "2024-12-22T08:14:53.473Z"
   },
   {
    "duration": 338,
    "start_time": "2024-12-22T08:14:53.482Z"
   },
   {
    "duration": 8,
    "start_time": "2024-12-22T08:14:53.822Z"
   },
   {
    "duration": 14,
    "start_time": "2024-12-22T08:14:53.834Z"
   },
   {
    "duration": 3,
    "start_time": "2024-12-22T08:14:53.850Z"
   },
   {
    "duration": 18,
    "start_time": "2024-12-22T08:14:53.855Z"
   },
   {
    "duration": 703,
    "start_time": "2024-12-22T08:14:53.875Z"
   },
   {
    "duration": 3,
    "start_time": "2024-12-22T08:14:54.580Z"
   },
   {
    "duration": 3,
    "start_time": "2024-12-22T08:14:54.585Z"
   },
   {
    "duration": 23,
    "start_time": "2024-12-22T08:14:54.590Z"
   },
   {
    "duration": 4,
    "start_time": "2024-12-22T08:14:54.614Z"
   },
   {
    "duration": 9842,
    "start_time": "2024-12-22T08:14:54.620Z"
   },
   {
    "duration": 108582,
    "start_time": "2024-12-22T08:15:04.463Z"
   },
   {
    "duration": 571,
    "start_time": "2024-12-22T08:16:53.047Z"
   },
   {
    "duration": 0,
    "start_time": "2024-12-22T08:16:53.620Z"
   },
   {
    "duration": 0,
    "start_time": "2024-12-22T08:16:53.621Z"
   },
   {
    "duration": 1,
    "start_time": "2024-12-22T08:16:53.622Z"
   },
   {
    "duration": 0,
    "start_time": "2024-12-22T08:16:53.624Z"
   },
   {
    "duration": 3,
    "start_time": "2024-12-22T08:28:58.780Z"
   },
   {
    "duration": 40,
    "start_time": "2024-12-22T08:33:01.923Z"
   },
   {
    "duration": 50,
    "start_time": "2024-12-22T08:33:02.615Z"
   },
   {
    "duration": 895,
    "start_time": "2024-12-22T08:43:22.282Z"
   },
   {
    "duration": 4256,
    "start_time": "2024-12-22T08:43:23.179Z"
   },
   {
    "duration": 15,
    "start_time": "2024-12-22T08:43:27.437Z"
   },
   {
    "duration": 106,
    "start_time": "2024-12-22T08:43:27.454Z"
   },
   {
    "duration": 7,
    "start_time": "2024-12-22T08:43:27.563Z"
   },
   {
    "duration": 3,
    "start_time": "2024-12-22T08:43:27.571Z"
   },
   {
    "duration": 9,
    "start_time": "2024-12-22T08:43:27.575Z"
   },
   {
    "duration": 33,
    "start_time": "2024-12-22T08:43:27.586Z"
   },
   {
    "duration": 5,
    "start_time": "2024-12-22T08:43:27.623Z"
   },
   {
    "duration": 3,
    "start_time": "2024-12-22T08:43:27.630Z"
   },
   {
    "duration": 9,
    "start_time": "2024-12-22T08:43:27.634Z"
   },
   {
    "duration": 15,
    "start_time": "2024-12-22T08:43:27.645Z"
   },
   {
    "duration": 8,
    "start_time": "2024-12-22T08:43:27.662Z"
   },
   {
    "duration": 5,
    "start_time": "2024-12-22T08:43:27.708Z"
   },
   {
    "duration": 17,
    "start_time": "2024-12-22T08:43:27.716Z"
   },
   {
    "duration": 9,
    "start_time": "2024-12-22T08:43:27.735Z"
   },
   {
    "duration": 7,
    "start_time": "2024-12-22T08:43:27.745Z"
   },
   {
    "duration": 5,
    "start_time": "2024-12-22T08:43:27.755Z"
   },
   {
    "duration": 271,
    "start_time": "2024-12-22T08:43:27.761Z"
   },
   {
    "duration": 11,
    "start_time": "2024-12-22T08:43:28.034Z"
   },
   {
    "duration": 370,
    "start_time": "2024-12-22T08:43:28.046Z"
   },
   {
    "duration": 299,
    "start_time": "2024-12-22T08:43:28.419Z"
   },
   {
    "duration": 321,
    "start_time": "2024-12-22T08:43:28.721Z"
   },
   {
    "duration": 7,
    "start_time": "2024-12-22T08:43:29.044Z"
   },
   {
    "duration": 7,
    "start_time": "2024-12-22T08:43:29.053Z"
   },
   {
    "duration": 413,
    "start_time": "2024-12-22T08:43:29.062Z"
   },
   {
    "duration": 8,
    "start_time": "2024-12-22T08:43:29.477Z"
   },
   {
    "duration": 30,
    "start_time": "2024-12-22T08:43:29.487Z"
   },
   {
    "duration": 4,
    "start_time": "2024-12-22T08:43:29.518Z"
   },
   {
    "duration": 17,
    "start_time": "2024-12-22T08:43:29.524Z"
   },
   {
    "duration": 552,
    "start_time": "2024-12-22T08:43:29.543Z"
   },
   {
    "duration": 3,
    "start_time": "2024-12-22T08:43:30.096Z"
   },
   {
    "duration": 2,
    "start_time": "2024-12-22T08:43:30.110Z"
   },
   {
    "duration": 6,
    "start_time": "2024-12-22T08:43:30.114Z"
   },
   {
    "duration": 3,
    "start_time": "2024-12-22T08:43:30.122Z"
   },
   {
    "duration": 9873,
    "start_time": "2024-12-22T08:43:30.127Z"
   },
   {
    "duration": 108352,
    "start_time": "2024-12-22T08:43:40.002Z"
   },
   {
    "duration": 40,
    "start_time": "2024-12-22T08:45:28.355Z"
   },
   {
    "duration": 576,
    "start_time": "2024-12-22T08:45:28.396Z"
   },
   {
    "duration": 0,
    "start_time": "2024-12-22T08:45:28.974Z"
   },
   {
    "duration": 0,
    "start_time": "2024-12-22T08:45:28.975Z"
   },
   {
    "duration": 0,
    "start_time": "2024-12-22T08:45:28.976Z"
   },
   {
    "duration": 3,
    "start_time": "2024-12-22T11:27:15.633Z"
   },
   {
    "duration": 2567,
    "start_time": "2024-12-23T03:34:02.088Z"
   },
   {
    "duration": 3980,
    "start_time": "2024-12-23T03:34:04.657Z"
   },
   {
    "duration": 15,
    "start_time": "2024-12-23T03:34:08.639Z"
   },
   {
    "duration": 13,
    "start_time": "2024-12-23T03:34:08.657Z"
   },
   {
    "duration": 6,
    "start_time": "2024-12-23T03:34:08.673Z"
   },
   {
    "duration": 3,
    "start_time": "2024-12-23T03:34:08.680Z"
   },
   {
    "duration": 9,
    "start_time": "2024-12-23T03:34:08.710Z"
   },
   {
    "duration": 10,
    "start_time": "2024-12-23T03:34:08.720Z"
   },
   {
    "duration": 5,
    "start_time": "2024-12-23T03:34:08.732Z"
   },
   {
    "duration": 3,
    "start_time": "2024-12-23T03:34:08.739Z"
   },
   {
    "duration": 9,
    "start_time": "2024-12-23T03:34:08.743Z"
   },
   {
    "duration": 13,
    "start_time": "2024-12-23T03:34:08.753Z"
   },
   {
    "duration": 45,
    "start_time": "2024-12-23T03:34:08.768Z"
   },
   {
    "duration": 3,
    "start_time": "2024-12-23T03:34:08.814Z"
   },
   {
    "duration": 14,
    "start_time": "2024-12-23T03:34:08.818Z"
   },
   {
    "duration": 8,
    "start_time": "2024-12-23T03:34:08.835Z"
   },
   {
    "duration": 6,
    "start_time": "2024-12-23T03:34:08.845Z"
   },
   {
    "duration": 4,
    "start_time": "2024-12-23T03:34:08.852Z"
   },
   {
    "duration": 238,
    "start_time": "2024-12-23T03:34:08.858Z"
   },
   {
    "duration": 15,
    "start_time": "2024-12-23T03:34:09.098Z"
   },
   {
    "duration": 299,
    "start_time": "2024-12-23T03:34:09.114Z"
   },
   {
    "duration": 361,
    "start_time": "2024-12-23T03:34:09.415Z"
   },
   {
    "duration": 300,
    "start_time": "2024-12-23T03:34:09.778Z"
   },
   {
    "duration": 8,
    "start_time": "2024-12-23T03:34:10.080Z"
   },
   {
    "duration": 21,
    "start_time": "2024-12-23T03:34:10.089Z"
   },
   {
    "duration": 329,
    "start_time": "2024-12-23T03:34:10.111Z"
   },
   {
    "duration": 9,
    "start_time": "2024-12-23T03:34:10.442Z"
   },
   {
    "duration": 14,
    "start_time": "2024-12-23T03:34:10.455Z"
   },
   {
    "duration": 4,
    "start_time": "2024-12-23T03:34:10.471Z"
   },
   {
    "duration": 43,
    "start_time": "2024-12-23T03:34:10.477Z"
   },
   {
    "duration": 679,
    "start_time": "2024-12-23T03:34:10.522Z"
   },
   {
    "duration": 4,
    "start_time": "2024-12-23T03:34:11.209Z"
   },
   {
    "duration": 3,
    "start_time": "2024-12-23T03:34:11.214Z"
   },
   {
    "duration": 6,
    "start_time": "2024-12-23T03:34:11.218Z"
   },
   {
    "duration": 4,
    "start_time": "2024-12-23T03:34:11.225Z"
   },
   {
    "duration": 9871,
    "start_time": "2024-12-23T03:34:11.231Z"
   },
   {
    "duration": 108725,
    "start_time": "2024-12-23T03:34:21.108Z"
   },
   {
    "duration": 39,
    "start_time": "2024-12-23T03:36:09.835Z"
   },
   {
    "duration": 4,
    "start_time": "2024-12-23T03:36:09.876Z"
   },
   {
    "duration": 3,
    "start_time": "2024-12-23T03:36:09.882Z"
   },
   {
    "duration": 10023,
    "start_time": "2024-12-23T03:36:09.909Z"
   },
   {
    "duration": 7,
    "start_time": "2024-12-23T03:36:19.934Z"
   },
   {
    "duration": 156,
    "start_time": "2024-12-23T10:15:00.463Z"
   },
   {
    "duration": 2594,
    "start_time": "2024-12-23T10:43:40.359Z"
   },
   {
    "duration": 4141,
    "start_time": "2024-12-23T10:43:42.955Z"
   },
   {
    "duration": 16,
    "start_time": "2024-12-23T10:43:47.098Z"
   },
   {
    "duration": 14,
    "start_time": "2024-12-23T10:43:47.116Z"
   },
   {
    "duration": 5,
    "start_time": "2024-12-23T10:43:47.131Z"
   },
   {
    "duration": 2,
    "start_time": "2024-12-23T10:43:47.138Z"
   },
   {
    "duration": 7,
    "start_time": "2024-12-23T10:43:47.143Z"
   },
   {
    "duration": 10,
    "start_time": "2024-12-23T10:43:47.152Z"
   },
   {
    "duration": 45,
    "start_time": "2024-12-23T10:43:47.164Z"
   },
   {
    "duration": 3,
    "start_time": "2024-12-23T10:43:47.214Z"
   },
   {
    "duration": 16,
    "start_time": "2024-12-23T10:43:47.221Z"
   },
   {
    "duration": 16,
    "start_time": "2024-12-23T10:43:47.238Z"
   },
   {
    "duration": 7,
    "start_time": "2024-12-23T10:43:47.256Z"
   },
   {
    "duration": 4,
    "start_time": "2024-12-23T10:43:47.264Z"
   },
   {
    "duration": 48,
    "start_time": "2024-12-23T10:43:47.269Z"
   },
   {
    "duration": 10,
    "start_time": "2024-12-23T10:43:47.319Z"
   },
   {
    "duration": 7,
    "start_time": "2024-12-23T10:43:47.330Z"
   },
   {
    "duration": 5,
    "start_time": "2024-12-23T10:43:47.339Z"
   },
   {
    "duration": 246,
    "start_time": "2024-12-23T10:43:47.345Z"
   },
   {
    "duration": 7,
    "start_time": "2024-12-23T10:43:47.593Z"
   },
   {
    "duration": 304,
    "start_time": "2024-12-23T10:43:47.608Z"
   },
   {
    "duration": 294,
    "start_time": "2024-12-23T10:43:47.914Z"
   },
   {
    "duration": 352,
    "start_time": "2024-12-23T10:43:48.211Z"
   },
   {
    "duration": 8,
    "start_time": "2024-12-23T10:43:48.565Z"
   },
   {
    "duration": 7,
    "start_time": "2024-12-23T10:43:48.575Z"
   },
   {
    "duration": 336,
    "start_time": "2024-12-23T10:43:48.583Z"
   },
   {
    "duration": 9,
    "start_time": "2024-12-23T10:43:48.921Z"
   },
   {
    "duration": 15,
    "start_time": "2024-12-23T10:43:48.935Z"
   },
   {
    "duration": 4,
    "start_time": "2024-12-23T10:43:48.951Z"
   },
   {
    "duration": 19,
    "start_time": "2024-12-23T10:43:48.957Z"
   },
   {
    "duration": 579,
    "start_time": "2024-12-23T10:43:48.977Z"
   },
   {
    "duration": 3,
    "start_time": "2024-12-23T10:43:49.559Z"
   },
   {
    "duration": 7,
    "start_time": "2024-12-23T10:43:49.563Z"
   },
   {
    "duration": 4,
    "start_time": "2024-12-23T10:43:49.571Z"
   },
   {
    "duration": 9849,
    "start_time": "2024-12-23T10:43:49.576Z"
   },
   {
    "duration": 108801,
    "start_time": "2024-12-23T10:43:59.427Z"
   },
   {
    "duration": 54,
    "start_time": "2024-12-23T10:45:48.229Z"
   },
   {
    "duration": 37,
    "start_time": "2024-12-23T10:46:18.130Z"
   },
   {
    "duration": 12,
    "start_time": "2024-12-23T10:46:18.780Z"
   },
   {
    "duration": 13,
    "start_time": "2024-12-23T10:52:30.149Z"
   },
   {
    "duration": 16,
    "start_time": "2024-12-23T10:52:53.967Z"
   },
   {
    "duration": 12,
    "start_time": "2024-12-23T10:52:59.504Z"
   },
   {
    "duration": 2716,
    "start_time": "2024-12-24T05:49:32.980Z"
   },
   {
    "duration": 4105,
    "start_time": "2024-12-24T05:49:35.699Z"
   },
   {
    "duration": 25,
    "start_time": "2024-12-24T05:49:39.806Z"
   },
   {
    "duration": 13,
    "start_time": "2024-12-24T05:49:39.833Z"
   },
   {
    "duration": 6,
    "start_time": "2024-12-24T05:49:39.849Z"
   },
   {
    "duration": 2,
    "start_time": "2024-12-24T05:49:39.857Z"
   },
   {
    "duration": 9,
    "start_time": "2024-12-24T05:49:39.861Z"
   },
   {
    "duration": 10,
    "start_time": "2024-12-24T05:49:39.872Z"
   },
   {
    "duration": 5,
    "start_time": "2024-12-24T05:49:39.883Z"
   },
   {
    "duration": 3,
    "start_time": "2024-12-24T05:49:39.925Z"
   },
   {
    "duration": 10,
    "start_time": "2024-12-24T05:49:39.930Z"
   },
   {
    "duration": 14,
    "start_time": "2024-12-24T05:49:39.942Z"
   },
   {
    "duration": 8,
    "start_time": "2024-12-24T05:49:39.958Z"
   },
   {
    "duration": 3,
    "start_time": "2024-12-24T05:49:39.969Z"
   },
   {
    "duration": 51,
    "start_time": "2024-12-24T05:49:39.973Z"
   },
   {
    "duration": 10,
    "start_time": "2024-12-24T05:49:40.026Z"
   },
   {
    "duration": 7,
    "start_time": "2024-12-24T05:49:40.038Z"
   },
   {
    "duration": 4,
    "start_time": "2024-12-24T05:49:40.047Z"
   },
   {
    "duration": 240,
    "start_time": "2024-12-24T05:49:40.053Z"
   },
   {
    "duration": 8,
    "start_time": "2024-12-24T05:49:40.295Z"
   },
   {
    "duration": 309,
    "start_time": "2024-12-24T05:49:40.304Z"
   },
   {
    "duration": 376,
    "start_time": "2024-12-24T05:49:40.615Z"
   },
   {
    "duration": 328,
    "start_time": "2024-12-24T05:49:40.993Z"
   },
   {
    "duration": 7,
    "start_time": "2024-12-24T05:49:41.324Z"
   },
   {
    "duration": 7,
    "start_time": "2024-12-24T05:49:41.333Z"
   },
   {
    "duration": 354,
    "start_time": "2024-12-24T05:49:41.341Z"
   },
   {
    "duration": 8,
    "start_time": "2024-12-24T05:49:41.699Z"
   },
   {
    "duration": 27,
    "start_time": "2024-12-24T05:49:41.709Z"
   },
   {
    "duration": 5,
    "start_time": "2024-12-24T05:49:41.738Z"
   },
   {
    "duration": 19,
    "start_time": "2024-12-24T05:49:41.745Z"
   },
   {
    "duration": 662,
    "start_time": "2024-12-24T05:49:41.767Z"
   },
   {
    "duration": 3,
    "start_time": "2024-12-24T05:49:42.432Z"
   },
   {
    "duration": 7,
    "start_time": "2024-12-24T05:49:42.437Z"
   },
   {
    "duration": 4,
    "start_time": "2024-12-24T05:49:42.446Z"
   },
   {
    "duration": 9977,
    "start_time": "2024-12-24T05:49:42.452Z"
   },
   {
    "duration": 109626,
    "start_time": "2024-12-24T05:49:52.431Z"
   },
   {
    "duration": 54,
    "start_time": "2024-12-24T05:51:42.059Z"
   },
   {
    "duration": 23,
    "start_time": "2024-12-24T05:51:42.115Z"
   },
   {
    "duration": 3,
    "start_time": "2024-12-24T05:51:42.140Z"
   },
   {
    "duration": 3,
    "start_time": "2024-12-24T05:51:42.145Z"
   },
   {
    "duration": 10175,
    "start_time": "2024-12-24T05:51:42.153Z"
   },
   {
    "duration": 6,
    "start_time": "2024-12-24T05:51:52.330Z"
   },
   {
    "duration": 144,
    "start_time": "2024-12-24T06:01:44.008Z"
   },
   {
    "duration": 15,
    "start_time": "2024-12-24T06:02:26.154Z"
   },
   {
    "duration": 17,
    "start_time": "2024-12-24T06:02:51.087Z"
   },
   {
    "duration": 32,
    "start_time": "2024-12-24T06:05:21.493Z"
   },
   {
    "duration": 4,
    "start_time": "2024-12-24T06:05:28.028Z"
   },
   {
    "duration": 15,
    "start_time": "2024-12-24T06:05:31.280Z"
   },
   {
    "duration": 31,
    "start_time": "2024-12-24T06:07:29.232Z"
   },
   {
    "duration": 2,
    "start_time": "2024-12-24T06:07:33.477Z"
   },
   {
    "duration": 4,
    "start_time": "2024-12-24T06:11:31.015Z"
   },
   {
    "duration": 2,
    "start_time": "2024-12-24T06:11:48.938Z"
   },
   {
    "duration": 51,
    "start_time": "2024-12-24T06:16:43.480Z"
   },
   {
    "duration": 1447,
    "start_time": "2024-12-24T06:16:51.957Z"
   },
   {
    "duration": 1297,
    "start_time": "2024-12-24T06:17:33.550Z"
   },
   {
    "duration": 15,
    "start_time": "2024-12-24T06:19:54.612Z"
   },
   {
    "duration": 1288,
    "start_time": "2024-12-24T06:20:17.246Z"
   },
   {
    "duration": 1264,
    "start_time": "2024-12-24T06:20:28.311Z"
   },
   {
    "duration": 1294,
    "start_time": "2024-12-24T06:21:23.367Z"
   },
   {
    "duration": 1257,
    "start_time": "2024-12-24T06:21:54.029Z"
   },
   {
    "duration": 3,
    "start_time": "2024-12-24T06:24:18.291Z"
   },
   {
    "duration": 1284,
    "start_time": "2024-12-24T06:24:21.796Z"
   },
   {
    "duration": 1345,
    "start_time": "2024-12-24T06:26:39.702Z"
   },
   {
    "duration": 2540,
    "start_time": "2024-12-24T06:28:34.187Z"
   },
   {
    "duration": 2511,
    "start_time": "2024-12-24T06:28:53.135Z"
   },
   {
    "duration": 951,
    "start_time": "2024-12-24T06:29:37.156Z"
   },
   {
    "duration": 3897,
    "start_time": "2024-12-24T06:29:38.109Z"
   },
   {
    "duration": 20,
    "start_time": "2024-12-24T06:29:42.008Z"
   },
   {
    "duration": 60,
    "start_time": "2024-12-24T06:29:42.030Z"
   },
   {
    "duration": 6,
    "start_time": "2024-12-24T06:29:42.092Z"
   },
   {
    "duration": 3,
    "start_time": "2024-12-24T06:29:42.099Z"
   },
   {
    "duration": 9,
    "start_time": "2024-12-24T06:29:42.123Z"
   },
   {
    "duration": 10,
    "start_time": "2024-12-24T06:29:42.133Z"
   },
   {
    "duration": 4,
    "start_time": "2024-12-24T06:29:42.145Z"
   },
   {
    "duration": 3,
    "start_time": "2024-12-24T06:29:42.152Z"
   },
   {
    "duration": 9,
    "start_time": "2024-12-24T06:29:42.157Z"
   },
   {
    "duration": 14,
    "start_time": "2024-12-24T06:29:42.168Z"
   },
   {
    "duration": 40,
    "start_time": "2024-12-24T06:29:42.183Z"
   },
   {
    "duration": 5,
    "start_time": "2024-12-24T06:29:42.225Z"
   },
   {
    "duration": 14,
    "start_time": "2024-12-24T06:29:42.231Z"
   },
   {
    "duration": 8,
    "start_time": "2024-12-24T06:29:42.247Z"
   },
   {
    "duration": 7,
    "start_time": "2024-12-24T06:29:42.257Z"
   },
   {
    "duration": 4,
    "start_time": "2024-12-24T06:29:42.266Z"
   },
   {
    "duration": 241,
    "start_time": "2024-12-24T06:29:42.272Z"
   },
   {
    "duration": 13,
    "start_time": "2024-12-24T06:29:42.515Z"
   },
   {
    "duration": 295,
    "start_time": "2024-12-24T06:29:42.530Z"
   },
   {
    "duration": 287,
    "start_time": "2024-12-24T06:29:42.827Z"
   },
   {
    "duration": 303,
    "start_time": "2024-12-24T06:29:43.116Z"
   },
   {
    "duration": 10,
    "start_time": "2024-12-24T06:29:43.420Z"
   },
   {
    "duration": 6,
    "start_time": "2024-12-24T06:29:43.431Z"
   },
   {
    "duration": 417,
    "start_time": "2024-12-24T06:29:43.439Z"
   },
   {
    "duration": 12,
    "start_time": "2024-12-24T06:29:43.857Z"
   },
   {
    "duration": 14,
    "start_time": "2024-12-24T06:29:43.875Z"
   },
   {
    "duration": 5,
    "start_time": "2024-12-24T06:29:43.891Z"
   },
   {
    "duration": 35,
    "start_time": "2024-12-24T06:29:43.897Z"
   },
   {
    "duration": 555,
    "start_time": "2024-12-24T06:29:43.934Z"
   },
   {
    "duration": 3,
    "start_time": "2024-12-24T06:29:44.492Z"
   },
   {
    "duration": 6,
    "start_time": "2024-12-24T06:29:44.498Z"
   },
   {
    "duration": 4,
    "start_time": "2024-12-24T06:29:44.505Z"
   },
   {
    "duration": 9850,
    "start_time": "2024-12-24T06:29:44.524Z"
   },
   {
    "duration": 109670,
    "start_time": "2024-12-24T06:29:54.376Z"
   },
   {
    "duration": 33,
    "start_time": "2024-12-24T06:31:44.048Z"
   },
   {
    "duration": 4,
    "start_time": "2024-12-24T06:31:44.083Z"
   },
   {
    "duration": 3,
    "start_time": "2024-12-24T06:31:44.088Z"
   },
   {
    "duration": 291,
    "start_time": "2024-12-24T06:31:44.092Z"
   },
   {
    "duration": 164,
    "start_time": "2024-12-24T06:31:44.384Z"
   },
   {
    "duration": 72,
    "start_time": "2024-12-24T06:33:58.257Z"
   },
   {
    "duration": 2532,
    "start_time": "2024-12-24T06:34:27.802Z"
   },
   {
    "duration": 1331,
    "start_time": "2024-12-24T06:36:53.871Z"
   },
   {
    "duration": 1253,
    "start_time": "2024-12-24T06:39:03.805Z"
   },
   {
    "duration": 1289,
    "start_time": "2024-12-24T06:39:09.825Z"
   },
   {
    "duration": 1281,
    "start_time": "2024-12-24T06:47:11.886Z"
   },
   {
    "duration": 4,
    "start_time": "2024-12-24T06:48:00.256Z"
   },
   {
    "duration": 1282,
    "start_time": "2024-12-24T06:48:04.049Z"
   },
   {
    "duration": 6,
    "start_time": "2024-12-24T06:49:43.101Z"
   },
   {
    "duration": 32,
    "start_time": "2024-12-24T06:49:48.996Z"
   },
   {
    "duration": 3,
    "start_time": "2024-12-24T06:49:53.503Z"
   },
   {
    "duration": 1278,
    "start_time": "2024-12-24T06:49:57.190Z"
   },
   {
    "duration": 1284,
    "start_time": "2024-12-24T06:52:01.647Z"
   },
   {
    "duration": 746,
    "start_time": "2024-12-24T06:52:47.149Z"
   },
   {
    "duration": 46,
    "start_time": "2024-12-24T06:53:00.877Z"
   },
   {
    "duration": 1263,
    "start_time": "2024-12-24T06:53:09.759Z"
   },
   {
    "duration": 34,
    "start_time": "2024-12-24T06:53:22.283Z"
   },
   {
    "duration": 1294,
    "start_time": "2024-12-24T06:54:31.131Z"
   },
   {
    "duration": 3,
    "start_time": "2024-12-24T06:56:58.731Z"
   },
   {
    "duration": 1256,
    "start_time": "2024-12-24T06:57:13.086Z"
   },
   {
    "duration": 1265,
    "start_time": "2024-12-24T06:58:53.619Z"
   },
   {
    "duration": 1245,
    "start_time": "2024-12-24T06:59:09.988Z"
   },
   {
    "duration": 1263,
    "start_time": "2024-12-24T06:59:34.289Z"
   },
   {
    "duration": 1253,
    "start_time": "2024-12-24T07:00:43.289Z"
   },
   {
    "duration": 1256,
    "start_time": "2024-12-24T07:00:50.791Z"
   },
   {
    "duration": 1245,
    "start_time": "2024-12-24T07:01:12.026Z"
   },
   {
    "duration": 1255,
    "start_time": "2024-12-24T07:01:25.382Z"
   },
   {
    "duration": 1280,
    "start_time": "2024-12-24T07:02:36.974Z"
   },
   {
    "duration": 1247,
    "start_time": "2024-12-24T07:03:05.931Z"
   },
   {
    "duration": 1272,
    "start_time": "2024-12-24T07:03:13.252Z"
   },
   {
    "duration": 5,
    "start_time": "2024-12-24T07:03:45.512Z"
   },
   {
    "duration": 1245,
    "start_time": "2024-12-24T07:03:54.890Z"
   },
   {
    "duration": 1271,
    "start_time": "2024-12-24T07:04:06.181Z"
   },
   {
    "duration": 2509,
    "start_time": "2024-12-24T07:04:22.738Z"
   },
   {
    "duration": 3,
    "start_time": "2024-12-24T07:04:42.234Z"
   },
   {
    "duration": 6,
    "start_time": "2024-12-24T07:05:36.757Z"
   },
   {
    "duration": 2526,
    "start_time": "2024-12-24T07:07:37.521Z"
   },
   {
    "duration": 4,
    "start_time": "2024-12-24T07:07:43.681Z"
   },
   {
    "duration": 2512,
    "start_time": "2024-12-24T07:08:01.345Z"
   },
   {
    "duration": 6,
    "start_time": "2024-12-24T07:08:47.943Z"
   },
   {
    "duration": 2533,
    "start_time": "2024-12-24T07:09:55.954Z"
   },
   {
    "duration": 6,
    "start_time": "2024-12-24T07:10:16.060Z"
   },
   {
    "duration": 34,
    "start_time": "2024-12-24T07:10:37.869Z"
   },
   {
    "duration": 100,
    "start_time": "2024-12-25T00:26:43.572Z"
   },
   {
    "duration": 2637,
    "start_time": "2024-12-25T00:26:50.802Z"
   },
   {
    "duration": 4063,
    "start_time": "2024-12-25T00:26:53.442Z"
   },
   {
    "duration": 11,
    "start_time": "2024-12-25T00:26:57.507Z"
   },
   {
    "duration": 12,
    "start_time": "2024-12-25T00:26:57.520Z"
   },
   {
    "duration": 5,
    "start_time": "2024-12-25T00:26:57.535Z"
   },
   {
    "duration": 2,
    "start_time": "2024-12-25T00:26:57.542Z"
   },
   {
    "duration": 10,
    "start_time": "2024-12-25T00:26:57.546Z"
   },
   {
    "duration": 39,
    "start_time": "2024-12-25T00:26:57.557Z"
   },
   {
    "duration": 4,
    "start_time": "2024-12-25T00:26:57.597Z"
   },
   {
    "duration": 3,
    "start_time": "2024-12-25T00:26:57.603Z"
   },
   {
    "duration": 8,
    "start_time": "2024-12-25T00:26:57.608Z"
   },
   {
    "duration": 13,
    "start_time": "2024-12-25T00:26:57.617Z"
   },
   {
    "duration": 5,
    "start_time": "2024-12-25T00:26:57.632Z"
   },
   {
    "duration": 46,
    "start_time": "2024-12-25T00:26:57.641Z"
   },
   {
    "duration": 14,
    "start_time": "2024-12-25T00:26:57.689Z"
   },
   {
    "duration": 8,
    "start_time": "2024-12-25T00:26:57.704Z"
   },
   {
    "duration": 6,
    "start_time": "2024-12-25T00:26:57.714Z"
   },
   {
    "duration": 3,
    "start_time": "2024-12-25T00:26:57.722Z"
   },
   {
    "duration": 244,
    "start_time": "2024-12-25T00:26:57.727Z"
   },
   {
    "duration": 16,
    "start_time": "2024-12-25T00:26:57.973Z"
   },
   {
    "duration": 300,
    "start_time": "2024-12-25T00:26:57.991Z"
   },
   {
    "duration": 284,
    "start_time": "2024-12-25T00:26:58.293Z"
   },
   {
    "duration": 347,
    "start_time": "2024-12-25T00:26:58.579Z"
   },
   {
    "duration": 7,
    "start_time": "2024-12-25T00:26:58.928Z"
   },
   {
    "duration": 6,
    "start_time": "2024-12-25T00:26:58.937Z"
   },
   {
    "duration": 343,
    "start_time": "2024-12-25T00:26:58.945Z"
   },
   {
    "duration": 8,
    "start_time": "2024-12-25T00:26:59.290Z"
   },
   {
    "duration": 14,
    "start_time": "2024-12-25T00:26:59.301Z"
   },
   {
    "duration": 5,
    "start_time": "2024-12-25T00:26:59.317Z"
   },
   {
    "duration": 18,
    "start_time": "2024-12-25T00:26:59.323Z"
   },
   {
    "duration": 550,
    "start_time": "2024-12-25T00:26:59.342Z"
   },
   {
    "duration": 4,
    "start_time": "2024-12-25T00:26:59.894Z"
   },
   {
    "duration": 6,
    "start_time": "2024-12-25T00:26:59.899Z"
   },
   {
    "duration": 4,
    "start_time": "2024-12-25T00:26:59.906Z"
   },
   {
    "duration": 9926,
    "start_time": "2024-12-25T00:26:59.912Z"
   },
   {
    "duration": 109726,
    "start_time": "2024-12-25T00:27:09.840Z"
   },
   {
    "duration": 50,
    "start_time": "2024-12-25T00:28:59.569Z"
   },
   {
    "duration": 3,
    "start_time": "2024-12-25T00:28:59.621Z"
   },
   {
    "duration": 2537,
    "start_time": "2024-12-25T00:28:59.626Z"
   },
   {
    "duration": 6,
    "start_time": "2024-12-25T00:29:02.166Z"
   },
   {
    "duration": 2692,
    "start_time": "2024-12-26T04:23:27.197Z"
   },
   {
    "duration": 4136,
    "start_time": "2024-12-26T04:23:29.894Z"
   },
   {
    "duration": 14,
    "start_time": "2024-12-26T04:23:34.032Z"
   },
   {
    "duration": 16,
    "start_time": "2024-12-26T04:23:34.048Z"
   },
   {
    "duration": 7,
    "start_time": "2024-12-26T04:23:34.067Z"
   },
   {
    "duration": 31,
    "start_time": "2024-12-26T04:23:34.076Z"
   },
   {
    "duration": 10,
    "start_time": "2024-12-26T04:23:34.109Z"
   },
   {
    "duration": 11,
    "start_time": "2024-12-26T04:23:34.121Z"
   },
   {
    "duration": 7,
    "start_time": "2024-12-26T04:23:34.133Z"
   },
   {
    "duration": 8,
    "start_time": "2024-12-26T04:23:34.145Z"
   },
   {
    "duration": 10,
    "start_time": "2024-12-26T04:23:34.154Z"
   },
   {
    "duration": 40,
    "start_time": "2024-12-26T04:23:34.166Z"
   },
   {
    "duration": 7,
    "start_time": "2024-12-26T04:23:34.208Z"
   },
   {
    "duration": 3,
    "start_time": "2024-12-26T04:23:34.220Z"
   },
   {
    "duration": 15,
    "start_time": "2024-12-26T04:23:34.225Z"
   },
   {
    "duration": 10,
    "start_time": "2024-12-26T04:23:34.242Z"
   },
   {
    "duration": 7,
    "start_time": "2024-12-26T04:23:34.255Z"
   },
   {
    "duration": 4,
    "start_time": "2024-12-26T04:23:34.265Z"
   },
   {
    "duration": 268,
    "start_time": "2024-12-26T04:23:34.271Z"
   },
   {
    "duration": 9,
    "start_time": "2024-12-26T04:23:34.541Z"
   },
   {
    "duration": 321,
    "start_time": "2024-12-26T04:23:34.552Z"
   },
   {
    "duration": 303,
    "start_time": "2024-12-26T04:23:34.875Z"
   },
   {
    "duration": 381,
    "start_time": "2024-12-26T04:23:35.180Z"
   },
   {
    "duration": 9,
    "start_time": "2024-12-26T04:23:35.563Z"
   },
   {
    "duration": 6,
    "start_time": "2024-12-26T04:23:35.574Z"
   },
   {
    "duration": 379,
    "start_time": "2024-12-26T04:23:35.582Z"
   },
   {
    "duration": 9,
    "start_time": "2024-12-26T04:23:35.963Z"
   },
   {
    "duration": 31,
    "start_time": "2024-12-26T04:23:35.974Z"
   },
   {
    "duration": 5,
    "start_time": "2024-12-26T04:23:36.007Z"
   },
   {
    "duration": 19,
    "start_time": "2024-12-26T04:23:36.014Z"
   },
   {
    "duration": 585,
    "start_time": "2024-12-26T04:23:36.034Z"
   },
   {
    "duration": 4,
    "start_time": "2024-12-26T04:23:36.621Z"
   },
   {
    "duration": 7,
    "start_time": "2024-12-26T04:23:36.627Z"
   },
   {
    "duration": 4,
    "start_time": "2024-12-26T04:23:36.636Z"
   },
   {
    "duration": 9998,
    "start_time": "2024-12-26T04:23:36.642Z"
   },
   {
    "duration": 109826,
    "start_time": "2024-12-26T04:23:46.642Z"
   },
   {
    "duration": 56,
    "start_time": "2024-12-26T04:25:36.470Z"
   },
   {
    "duration": 4,
    "start_time": "2024-12-26T04:25:36.527Z"
   },
   {
    "duration": 2554,
    "start_time": "2024-12-26T04:25:36.533Z"
   },
   {
    "duration": 5,
    "start_time": "2024-12-26T04:25:39.090Z"
   },
   {
    "duration": 9,
    "start_time": "2024-12-26T09:17:53.342Z"
   },
   {
    "duration": 161,
    "start_time": "2024-12-26T09:45:39.399Z"
   },
   {
    "duration": 2539,
    "start_time": "2024-12-26T09:45:42.537Z"
   },
   {
    "duration": 4028,
    "start_time": "2024-12-26T09:45:45.078Z"
   },
   {
    "duration": 11,
    "start_time": "2024-12-26T09:45:49.108Z"
   },
   {
    "duration": 79,
    "start_time": "2024-12-26T09:45:49.121Z"
   },
   {
    "duration": 6,
    "start_time": "2024-12-26T09:45:49.203Z"
   },
   {
    "duration": 3,
    "start_time": "2024-12-26T09:45:49.211Z"
   },
   {
    "duration": 8,
    "start_time": "2024-12-26T09:45:49.216Z"
   },
   {
    "duration": 9,
    "start_time": "2024-12-26T09:45:49.226Z"
   },
   {
    "duration": 35,
    "start_time": "2024-12-26T09:45:49.236Z"
   },
   {
    "duration": 2,
    "start_time": "2024-12-26T09:45:49.273Z"
   },
   {
    "duration": 9,
    "start_time": "2024-12-26T09:45:49.277Z"
   },
   {
    "duration": 12,
    "start_time": "2024-12-26T09:45:49.288Z"
   },
   {
    "duration": 7,
    "start_time": "2024-12-26T09:45:49.302Z"
   },
   {
    "duration": 2,
    "start_time": "2024-12-26T09:45:49.312Z"
   },
   {
    "duration": 13,
    "start_time": "2024-12-26T09:45:49.316Z"
   },
   {
    "duration": 9,
    "start_time": "2024-12-26T09:45:49.369Z"
   },
   {
    "duration": 6,
    "start_time": "2024-12-26T09:45:49.380Z"
   },
   {
    "duration": 4,
    "start_time": "2024-12-26T09:45:49.388Z"
   },
   {
    "duration": 232,
    "start_time": "2024-12-26T09:45:49.393Z"
   },
   {
    "duration": 8,
    "start_time": "2024-12-26T09:45:49.627Z"
   },
   {
    "duration": 301,
    "start_time": "2024-12-26T09:45:49.636Z"
   },
   {
    "duration": 284,
    "start_time": "2024-12-26T09:45:49.939Z"
   },
   {
    "duration": 297,
    "start_time": "2024-12-26T09:45:50.225Z"
   },
   {
    "duration": 6,
    "start_time": "2024-12-26T09:45:50.524Z"
   },
   {
    "duration": 6,
    "start_time": "2024-12-26T09:45:50.532Z"
   },
   {
    "duration": 409,
    "start_time": "2024-12-26T09:45:50.540Z"
   },
   {
    "duration": 8,
    "start_time": "2024-12-26T09:45:50.952Z"
   },
   {
    "duration": 21,
    "start_time": "2024-12-26T09:45:50.961Z"
   },
   {
    "duration": 4,
    "start_time": "2024-12-26T09:45:50.984Z"
   },
   {
    "duration": 17,
    "start_time": "2024-12-26T09:45:50.990Z"
   },
   {
    "duration": 586,
    "start_time": "2024-12-26T09:45:51.009Z"
   },
   {
    "duration": 4,
    "start_time": "2024-12-26T09:45:51.598Z"
   },
   {
    "duration": 6,
    "start_time": "2024-12-26T09:45:51.604Z"
   },
   {
    "duration": 4,
    "start_time": "2024-12-26T09:45:51.611Z"
   },
   {
    "duration": 9821,
    "start_time": "2024-12-26T09:45:51.617Z"
   },
   {
    "duration": 108505,
    "start_time": "2024-12-26T09:46:01.439Z"
   },
   {
    "duration": 40,
    "start_time": "2024-12-26T09:47:49.946Z"
   },
   {
    "duration": 3,
    "start_time": "2024-12-26T09:47:49.988Z"
   },
   {
    "duration": 2619,
    "start_time": "2024-12-26T09:47:49.992Z"
   },
   {
    "duration": 14,
    "start_time": "2024-12-26T09:47:52.613Z"
   },
   {
    "duration": 6,
    "start_time": "2024-12-26T09:48:35.290Z"
   },
   {
    "duration": 8,
    "start_time": "2024-12-26T09:48:44.788Z"
   },
   {
    "duration": 2514,
    "start_time": "2024-12-26T09:48:54.350Z"
   },
   {
    "duration": 879,
    "start_time": "2024-12-26T09:49:12.913Z"
   },
   {
    "duration": 4158,
    "start_time": "2024-12-26T09:49:13.795Z"
   },
   {
    "duration": 17,
    "start_time": "2024-12-26T09:49:17.955Z"
   },
   {
    "duration": 62,
    "start_time": "2024-12-26T09:49:17.973Z"
   },
   {
    "duration": 6,
    "start_time": "2024-12-26T09:49:18.039Z"
   },
   {
    "duration": 24,
    "start_time": "2024-12-26T09:49:18.046Z"
   },
   {
    "duration": 8,
    "start_time": "2024-12-26T09:49:18.072Z"
   },
   {
    "duration": 10,
    "start_time": "2024-12-26T09:49:18.081Z"
   },
   {
    "duration": 5,
    "start_time": "2024-12-26T09:49:18.093Z"
   },
   {
    "duration": 3,
    "start_time": "2024-12-26T09:49:18.099Z"
   },
   {
    "duration": 9,
    "start_time": "2024-12-26T09:49:18.104Z"
   },
   {
    "duration": 13,
    "start_time": "2024-12-26T09:49:18.115Z"
   },
   {
    "duration": 43,
    "start_time": "2024-12-26T09:49:18.130Z"
   },
   {
    "duration": 3,
    "start_time": "2024-12-26T09:49:18.176Z"
   },
   {
    "duration": 14,
    "start_time": "2024-12-26T09:49:18.180Z"
   },
   {
    "duration": 9,
    "start_time": "2024-12-26T09:49:18.195Z"
   },
   {
    "duration": 7,
    "start_time": "2024-12-26T09:49:18.205Z"
   },
   {
    "duration": 3,
    "start_time": "2024-12-26T09:49:18.214Z"
   },
   {
    "duration": 251,
    "start_time": "2024-12-26T09:49:18.219Z"
   },
   {
    "duration": 8,
    "start_time": "2024-12-26T09:49:18.472Z"
   },
   {
    "duration": 301,
    "start_time": "2024-12-26T09:49:18.482Z"
   },
   {
    "duration": 287,
    "start_time": "2024-12-26T09:49:18.785Z"
   },
   {
    "duration": 298,
    "start_time": "2024-12-26T09:49:19.074Z"
   },
   {
    "duration": 7,
    "start_time": "2024-12-26T09:49:19.374Z"
   },
   {
    "duration": 6,
    "start_time": "2024-12-26T09:49:19.382Z"
   },
   {
    "duration": 405,
    "start_time": "2024-12-26T09:49:19.390Z"
   },
   {
    "duration": 9,
    "start_time": "2024-12-26T09:49:19.797Z"
   },
   {
    "duration": 15,
    "start_time": "2024-12-26T09:49:19.807Z"
   },
   {
    "duration": 4,
    "start_time": "2024-12-26T09:49:19.823Z"
   },
   {
    "duration": 47,
    "start_time": "2024-12-26T09:49:19.829Z"
   },
   {
    "duration": 542,
    "start_time": "2024-12-26T09:49:19.877Z"
   },
   {
    "duration": 3,
    "start_time": "2024-12-26T09:49:20.421Z"
   },
   {
    "duration": 7,
    "start_time": "2024-12-26T09:49:20.426Z"
   },
   {
    "duration": 6,
    "start_time": "2024-12-26T09:49:20.435Z"
   },
   {
    "duration": 38,
    "start_time": "2024-12-26T09:49:45.144Z"
   },
   {
    "duration": 4,
    "start_time": "2024-12-26T09:49:47.858Z"
   },
   {
    "duration": 2522,
    "start_time": "2024-12-26T09:49:55.531Z"
   },
   {
    "duration": 7,
    "start_time": "2024-12-26T09:50:13.011Z"
   },
   {
    "duration": 2500,
    "start_time": "2024-12-26T09:51:23.649Z"
   }
  ],
  "kernelspec": {
   "display_name": "Python 3 (ipykernel)",
   "language": "python",
   "name": "python3"
  },
  "language_info": {
   "codemirror_mode": {
    "name": "ipython",
    "version": 3
   },
   "file_extension": ".py",
   "mimetype": "text/x-python",
   "name": "python",
   "nbconvert_exporter": "python",
   "pygments_lexer": "ipython3",
   "version": "3.9.19"
  },
  "toc": {
   "base_numbering": 1,
   "nav_menu": {},
   "number_sections": true,
   "sideBar": true,
   "skip_h1_title": true,
   "title_cell": "Table of Contents",
   "title_sidebar": "Contents",
   "toc_cell": false,
   "toc_position": {},
   "toc_section_display": true,
   "toc_window_display": false
  }
 },
 "nbformat": 4,
 "nbformat_minor": 2
}
