{
 "cells": [
  {
   "cell_type": "markdown",
   "id": "9c88db45",
   "metadata": {},
   "source": [
    "# Basic Python"
   ]
  },
  {
   "cell_type": "markdown",
   "id": "1bb3ce24",
   "metadata": {},
   "source": [
    "<div style=\"border:solid green 2px; padding: 20px\"> <h1 style=\"color:green; margin-bottom:20px\">Reviewer's comment v1</h1>\n",
    "\n",
    "Hello Somil!\n",
    "\n",
    "I'm happy to review your project today  🙌\n",
    "\n",
    "You can find my comments under the heading **«Review»**. I will categorize my comments in green, blue or red boxes like this:\n",
    "\n",
    "<div class=\"alert alert-success\">\n",
    "    <b>Success:</b> if everything is done successfully\n",
    "</div>\n",
    "<div class=\"alert alert-warning\">\n",
    "    <b>Remarks:</b> if I can give some recommendations or ways to improve the project\n",
    "</div>\n",
    "<div class=\"alert alert-danger\">\n",
    "    <b>Needs fixing:</b> if the block requires some corrections. Work can't be accepted with the red comments\n",
    "</div>\n",
    "\n",
    "Please don't remove my comments. If you have any questions, don't hesitate to respond to my comments in a different section.\n",
    "<div class=\"alert alert-info\"> <b>Student comments: </div>    \n"
   ]
  },
  {
   "cell_type": "markdown",
   "id": "d6867b4b",
   "metadata": {},
   "source": [
    "<div style=\"border:solid green 2px; padding: 20px\">\n",
    "<b>Reviewer's comment v1:</b>\n",
    "    \n",
    "<b>Overall Feedback</b> \n",
    "    \n",
    "- Overall well done! I can see that a lot of effort has been made! Your project looks very good and you accomplished impressive results.\n",
    "- However, there are some comments/areas left to fix that will help you to make your project even better (in red boxes with the title - `Reviewer's comment v1:`).\n",
    "    \n",
    "And of course, if you have any questions along the way, remember that you can always reach out to your tutor for any clarification.\n",
    "    \n",
    "I will wait for you to send me a new version of the project :)\n",
    "\n",
    "    \n",
    "</div>"
   ]
  },
  {
   "cell_type": "markdown",
   "id": "9a1d5924",
   "metadata": {},
   "source": [
    "<div style=\"border:solid green 2px; padding: 20px\">\n",
    "<b>Reviewer's comment v2:</b>\n",
    "    \n",
    "<b>Overall Feedback</b> \n",
    "\n",
    "Thank you for making all improvements in your project! It looks perfect now and there are no critical issues. \n",
    "    \n",
    "Please keep up great work and don't hesitate to use this project as a reference in your future sprints. \n",
    "   \n",
    "Good luck on the next project 🍀 \n",
    "</div>"
   ]
  },
  {
   "cell_type": "markdown",
   "id": "f85a80d2",
   "metadata": {},
   "source": [
    "## Basic Python - Project <a id='intro'></a>"
   ]
  },
  {
   "cell_type": "markdown",
   "id": "a1262df4",
   "metadata": {},
   "source": [
    "## Introduction <a id='intro'></a>\n",
    "In this project, you will work with data from the entertainment industry. You will study a dataset with records on movies and shows. The research will focus on the \"Golden Age\" of television, which began in 1999 with the release of *The Sopranos* and is still ongoing.\n",
    "\n",
    "The aim of this project is to investigate how the number of votes a title receives impacts its ratings. The assumption is that highly-rated shows (we will focus on TV shows, ignoring movies) released during the \"Golden Age\" of television also have the most votes.\n",
    "\n",
    "### Stages \n",
    "Data on movies and shows is stored in the `/datasets/movies_and_shows.csv` file. There is no information about the quality of the data, so you will need to explore it before doing the analysis.\n",
    "\n",
    "First, you'll evaluate the quality of the data and see whether its issues are significant. Then, during data preprocessing, you will try to account for the most critical problems.\n",
    " \n",
    "Your project will consist of three stages:\n",
    " 1. Data overview\n",
    " 2. Data preprocessing\n",
    " 3. Data analysis"
   ]
  },
  {
   "cell_type": "markdown",
   "id": "3450064f",
   "metadata": {},
   "source": [
    "<div class=\"alert alert-success\">\n",
    "<b>Reviewer's comment v1:</b>\n",
    "    \n",
    "It is always helpful for the reader to have additional information about project tasks. It gives an overview of what you are going to achieve in this project.\n"
   ]
  },
  {
   "cell_type": "markdown",
   "id": "ac0593ac",
   "metadata": {},
   "source": [
    "## Stage 1. Data overview <a id='data_review'></a>\n",
    "\n",
    "Open and explore the data."
   ]
  },
  {
   "cell_type": "markdown",
   "id": "e86ed00e",
   "metadata": {},
   "source": [
    "You'll need `pandas`, so import it."
   ]
  },
  {
   "cell_type": "code",
   "execution_count": 30,
   "id": "1727d3f8",
   "metadata": {},
   "outputs": [],
   "source": [
    "# importing pandas\n",
    "import pandas as pd"
   ]
  },
  {
   "cell_type": "markdown",
   "id": "9821beeb",
   "metadata": {},
   "source": [
    "Read the `movies_and_shows.csv` file from the `datasets` folder and save it in the `df` variable:"
   ]
  },
  {
   "cell_type": "code",
   "execution_count": 31,
   "id": "fc5a1402",
   "metadata": {},
   "outputs": [],
   "source": [
    "# reading the files and storing them to df\n",
    "df= pd.read_csv('/datasets/movies_and_shows.csv')"
   ]
  },
  {
   "cell_type": "markdown",
   "id": "da1f6802",
   "metadata": {},
   "source": [
    "<div class=\"alert alert-success\">\n",
    "<b>Reviewer's comment v1:</b>\n",
    "    \n",
    "Well done! Required library has been imported."
   ]
  },
  {
   "cell_type": "markdown",
   "id": "1cd0a96d",
   "metadata": {},
   "source": [
    "Print the first 10 table rows:"
   ]
  },
  {
   "cell_type": "code",
   "execution_count": 32,
   "id": "acd92001",
   "metadata": {},
   "outputs": [
    {
     "data": {
      "text/html": [
       "<div>\n",
       "<style scoped>\n",
       "    .dataframe tbody tr th:only-of-type {\n",
       "        vertical-align: middle;\n",
       "    }\n",
       "\n",
       "    .dataframe tbody tr th {\n",
       "        vertical-align: top;\n",
       "    }\n",
       "\n",
       "    .dataframe thead th {\n",
       "        text-align: right;\n",
       "    }\n",
       "</style>\n",
       "<table border=\"1\" class=\"dataframe\">\n",
       "  <thead>\n",
       "    <tr style=\"text-align: right;\">\n",
       "      <th></th>\n",
       "      <th>name</th>\n",
       "      <th>Character</th>\n",
       "      <th>r0le</th>\n",
       "      <th>TITLE</th>\n",
       "      <th>Type</th>\n",
       "      <th>release Year</th>\n",
       "      <th>genres</th>\n",
       "      <th>imdb sc0re</th>\n",
       "      <th>imdb v0tes</th>\n",
       "    </tr>\n",
       "  </thead>\n",
       "  <tbody>\n",
       "    <tr>\n",
       "      <th>0</th>\n",
       "      <td>Robert De Niro</td>\n",
       "      <td>Travis Bickle</td>\n",
       "      <td>ACTOR</td>\n",
       "      <td>Taxi Driver</td>\n",
       "      <td>MOVIE</td>\n",
       "      <td>1976</td>\n",
       "      <td>['drama', 'crime']</td>\n",
       "      <td>8.2</td>\n",
       "      <td>808582.0</td>\n",
       "    </tr>\n",
       "    <tr>\n",
       "      <th>1</th>\n",
       "      <td>Jodie Foster</td>\n",
       "      <td>Iris Steensma</td>\n",
       "      <td>ACTOR</td>\n",
       "      <td>Taxi Driver</td>\n",
       "      <td>MOVIE</td>\n",
       "      <td>1976</td>\n",
       "      <td>['drama', 'crime']</td>\n",
       "      <td>8.2</td>\n",
       "      <td>808582.0</td>\n",
       "    </tr>\n",
       "    <tr>\n",
       "      <th>2</th>\n",
       "      <td>Albert Brooks</td>\n",
       "      <td>Tom</td>\n",
       "      <td>ACTOR</td>\n",
       "      <td>Taxi Driver</td>\n",
       "      <td>MOVIE</td>\n",
       "      <td>1976</td>\n",
       "      <td>['drama', 'crime']</td>\n",
       "      <td>8.2</td>\n",
       "      <td>808582.0</td>\n",
       "    </tr>\n",
       "    <tr>\n",
       "      <th>3</th>\n",
       "      <td>Harvey Keitel</td>\n",
       "      <td>Matthew 'Sport' Higgins</td>\n",
       "      <td>ACTOR</td>\n",
       "      <td>Taxi Driver</td>\n",
       "      <td>MOVIE</td>\n",
       "      <td>1976</td>\n",
       "      <td>['drama', 'crime']</td>\n",
       "      <td>8.2</td>\n",
       "      <td>808582.0</td>\n",
       "    </tr>\n",
       "    <tr>\n",
       "      <th>4</th>\n",
       "      <td>Cybill Shepherd</td>\n",
       "      <td>Betsy</td>\n",
       "      <td>ACTOR</td>\n",
       "      <td>Taxi Driver</td>\n",
       "      <td>MOVIE</td>\n",
       "      <td>1976</td>\n",
       "      <td>['drama', 'crime']</td>\n",
       "      <td>8.2</td>\n",
       "      <td>808582.0</td>\n",
       "    </tr>\n",
       "    <tr>\n",
       "      <th>5</th>\n",
       "      <td>Peter Boyle</td>\n",
       "      <td>Wizard</td>\n",
       "      <td>ACTOR</td>\n",
       "      <td>Taxi Driver</td>\n",
       "      <td>MOVIE</td>\n",
       "      <td>1976</td>\n",
       "      <td>['drama', 'crime']</td>\n",
       "      <td>8.2</td>\n",
       "      <td>808582.0</td>\n",
       "    </tr>\n",
       "    <tr>\n",
       "      <th>6</th>\n",
       "      <td>Leonard Harris</td>\n",
       "      <td>Senator Charles Palantine</td>\n",
       "      <td>ACTOR</td>\n",
       "      <td>Taxi Driver</td>\n",
       "      <td>MOVIE</td>\n",
       "      <td>1976</td>\n",
       "      <td>['drama', 'crime']</td>\n",
       "      <td>8.2</td>\n",
       "      <td>808582.0</td>\n",
       "    </tr>\n",
       "    <tr>\n",
       "      <th>7</th>\n",
       "      <td>Diahnne Abbott</td>\n",
       "      <td>Concession Girl</td>\n",
       "      <td>ACTOR</td>\n",
       "      <td>Taxi Driver</td>\n",
       "      <td>MOVIE</td>\n",
       "      <td>1976</td>\n",
       "      <td>['drama', 'crime']</td>\n",
       "      <td>8.2</td>\n",
       "      <td>808582.0</td>\n",
       "    </tr>\n",
       "    <tr>\n",
       "      <th>8</th>\n",
       "      <td>Gino Ardito</td>\n",
       "      <td>Policeman at Rally</td>\n",
       "      <td>ACTOR</td>\n",
       "      <td>Taxi Driver</td>\n",
       "      <td>MOVIE</td>\n",
       "      <td>1976</td>\n",
       "      <td>['drama', 'crime']</td>\n",
       "      <td>8.2</td>\n",
       "      <td>808582.0</td>\n",
       "    </tr>\n",
       "    <tr>\n",
       "      <th>9</th>\n",
       "      <td>Martin Scorsese</td>\n",
       "      <td>Passenger Watching Silhouette</td>\n",
       "      <td>ACTOR</td>\n",
       "      <td>Taxi Driver</td>\n",
       "      <td>MOVIE</td>\n",
       "      <td>1976</td>\n",
       "      <td>['drama', 'crime']</td>\n",
       "      <td>8.2</td>\n",
       "      <td>808582.0</td>\n",
       "    </tr>\n",
       "  </tbody>\n",
       "</table>\n",
       "</div>"
      ],
      "text/plain": [
       "              name                      Character   r0le        TITLE   Type  \\\n",
       "0   Robert De Niro                  Travis Bickle  ACTOR  Taxi Driver  MOVIE   \n",
       "1     Jodie Foster                  Iris Steensma  ACTOR  Taxi Driver  MOVIE   \n",
       "2    Albert Brooks                            Tom  ACTOR  Taxi Driver  MOVIE   \n",
       "3    Harvey Keitel        Matthew 'Sport' Higgins  ACTOR  Taxi Driver  MOVIE   \n",
       "4  Cybill Shepherd                          Betsy  ACTOR  Taxi Driver  MOVIE   \n",
       "5      Peter Boyle                         Wizard  ACTOR  Taxi Driver  MOVIE   \n",
       "6   Leonard Harris      Senator Charles Palantine  ACTOR  Taxi Driver  MOVIE   \n",
       "7   Diahnne Abbott                Concession Girl  ACTOR  Taxi Driver  MOVIE   \n",
       "8      Gino Ardito             Policeman at Rally  ACTOR  Taxi Driver  MOVIE   \n",
       "9  Martin Scorsese  Passenger Watching Silhouette  ACTOR  Taxi Driver  MOVIE   \n",
       "\n",
       "   release Year              genres  imdb sc0re  imdb v0tes  \n",
       "0          1976  ['drama', 'crime']         8.2    808582.0  \n",
       "1          1976  ['drama', 'crime']         8.2    808582.0  \n",
       "2          1976  ['drama', 'crime']         8.2    808582.0  \n",
       "3          1976  ['drama', 'crime']         8.2    808582.0  \n",
       "4          1976  ['drama', 'crime']         8.2    808582.0  \n",
       "5          1976  ['drama', 'crime']         8.2    808582.0  \n",
       "6          1976  ['drama', 'crime']         8.2    808582.0  \n",
       "7          1976  ['drama', 'crime']         8.2    808582.0  \n",
       "8          1976  ['drama', 'crime']         8.2    808582.0  \n",
       "9          1976  ['drama', 'crime']         8.2    808582.0  "
      ]
     },
     "execution_count": 32,
     "metadata": {},
     "output_type": "execute_result"
    }
   ],
   "source": [
    "# obtaining the first 10 rows from the df table\n",
    "# hint: you can use head() and tail() in Jupyter Notebook without wrapping them into print()\n",
    "df.head(10)"
   ]
  },
  {
   "cell_type": "markdown",
   "id": "e579aa91",
   "metadata": {},
   "source": [
    "Obtain the general information about the table with one command:"
   ]
  },
  {
   "cell_type": "code",
   "execution_count": 33,
   "id": "7bf66d2a",
   "metadata": {},
   "outputs": [
    {
     "name": "stdout",
     "output_type": "stream",
     "text": [
      "<class 'pandas.core.frame.DataFrame'>\n",
      "RangeIndex: 85579 entries, 0 to 85578\n",
      "Data columns (total 9 columns):\n",
      " #   Column        Non-Null Count  Dtype  \n",
      "---  ------        --------------  -----  \n",
      " 0      name       85579 non-null  object \n",
      " 1   Character     85579 non-null  object \n",
      " 2   r0le          85579 non-null  object \n",
      " 3   TITLE         85578 non-null  object \n",
      " 4     Type        85579 non-null  object \n",
      " 5   release Year  85579 non-null  int64  \n",
      " 6   genres        85579 non-null  object \n",
      " 7   imdb sc0re    80970 non-null  float64\n",
      " 8   imdb v0tes    80853 non-null  float64\n",
      "dtypes: float64(2), int64(1), object(6)\n",
      "memory usage: 5.9+ MB\n"
     ]
    }
   ],
   "source": [
    "# obtaining general information about the data in df\n",
    "df.info()"
   ]
  },
  {
   "cell_type": "markdown",
   "id": "e91f62a7",
   "metadata": {},
   "source": [
    "The table contains nine columns. The majority store the same data type: object. The only exceptions are `'release Year'` (int64 type), `'imdb sc0re'` (float64 type) and `'imdb v0tes'` (float64 type). Scores and votes will be used in our analysis, so it's important to verify that they are present in the dataframe in the appropriate numeric format. Three columns (`'TITLE'`, `'imdb sc0re'` and `'imdb v0tes'`) have missing values.\n",
    "\n",
    "According to the documentation:\n",
    "- `'name'` — actor/director's name and last name\n",
    "- `'Character'` — character played (for actors)\n",
    "- `'r0le '` — the person's contribution to the title (it can be in the capacity of either actor or director)\n",
    "- `'TITLE '` — title of the movie (show)\n",
    "- `'  Type'` — show or movie\n",
    "- `'release Year'` — year when movie (show) was released\n",
    "- `'genres'` — list of genres under which the movie (show) falls\n",
    "- `'imdb sc0re'` — score on IMDb\n",
    "- `'imdb v0tes'` — votes on IMDb\n",
    "\n",
    "We can see three issues with the column names:\n",
    "1. Some names are uppercase, while others are lowercase.\n",
    "2. There are names containing whitespace.\n",
    "3. A few column names have digit '0' instead of letter 'o'. \n"
   ]
  },
  {
   "cell_type": "markdown",
   "id": "4355de7b",
   "metadata": {},
   "source": [
    "### Conclusions <a id='data_review_conclusions'></a> \n",
    "\n",
    "Each row in the table stores data about a movie or show. The columns can be divided into two categories: the first is about the roles held by different people who worked on the movie or show (role, name of the actor or director, and character if the row is about an actor); the second category is information about the movie or show itself (title, release year, genre, imdb figures).\n",
    "\n",
    "It's clear that there is sufficient data to do the analysis and evaluate our assumption. However, to move forward, we need to preprocess the data."
   ]
  },
  {
   "cell_type": "markdown",
   "id": "e8d2aa97",
   "metadata": {},
   "source": [
    "<div class=\"alert alert-success\">\n",
    "<b>Reviewer's comment v1:</b>\n",
    "    \n",
    "Great data overview and correct conclusions. "
   ]
  },
  {
   "cell_type": "markdown",
   "id": "c5dc9111",
   "metadata": {},
   "source": [
    "## Stage 2. Data preprocessing <a id='data_preprocessing'></a>\n",
    "Correct the formatting in the column headers and deal with the missing values. Then, check whether there are duplicates in the data."
   ]
  },
  {
   "cell_type": "code",
   "execution_count": 34,
   "id": "9c850d13",
   "metadata": {},
   "outputs": [
    {
     "data": {
      "text/plain": [
       "Index(['   name', 'Character', 'r0le', 'TITLE', '  Type', 'release Year',\n",
       "       'genres', 'imdb sc0re', 'imdb v0tes'],\n",
       "      dtype='object')"
      ]
     },
     "execution_count": 34,
     "metadata": {},
     "output_type": "execute_result"
    }
   ],
   "source": [
    "# the list of column names in the df table\n",
    "df.columns"
   ]
  },
  {
   "cell_type": "markdown",
   "id": "5f966df9",
   "metadata": {},
   "source": [
    "Change the column names according to the rules of good style:\n",
    "* If the name has several words, use snake_case\n",
    "* All characters must be lowercase\n",
    "* Remove whitespace\n",
    "* Replace zero with letter 'o'"
   ]
  },
  {
   "cell_type": "code",
   "execution_count": 35,
   "id": "23a1dc11",
   "metadata": {},
   "outputs": [],
   "source": [
    "# renaming columns\n",
    "df.columns= df.columns.str.strip().str.lower().str.replace(' ','_').str.replace('0','o')"
   ]
  },
  {
   "cell_type": "markdown",
   "id": "464fbd04",
   "metadata": {},
   "source": [
    "Check the result. Print the names of the columns once more:"
   ]
  },
  {
   "cell_type": "code",
   "execution_count": 36,
   "id": "0eb6527f",
   "metadata": {},
   "outputs": [
    {
     "data": {
      "text/plain": [
       "Index(['name', 'character', 'role', 'title', 'type', 'release_year', 'genres',\n",
       "       'imdb_score', 'imdb_votes'],\n",
       "      dtype='object')"
      ]
     },
     "execution_count": 36,
     "metadata": {},
     "output_type": "execute_result"
    }
   ],
   "source": [
    "# checking result: the list of column names\n",
    "df.columns"
   ]
  },
  {
   "cell_type": "markdown",
   "id": "bc4a6d51",
   "metadata": {},
   "source": [
    "<div class=\"alert alert-success\">\n",
    "<b>Reviewer's comment v1:</b>\n",
    "    \n",
    "It is great that you correctly applied `replace` function. You could also use `rename` function in that case.  "
   ]
  },
  {
   "cell_type": "markdown",
   "id": "14d9c319",
   "metadata": {},
   "source": [
    "### Missing values <a id='missing_values'></a>\n",
    "First, find the number of missing values in the table. To do so, combine two `pandas` methods:"
   ]
  },
  {
   "cell_type": "code",
   "execution_count": 37,
   "id": "21c427f2",
   "metadata": {},
   "outputs": [
    {
     "data": {
      "text/plain": [
       "name            0.000000\n",
       "character       0.000000\n",
       "role            0.000000\n",
       "title           0.000012\n",
       "type            0.000000\n",
       "release_year    0.000000\n",
       "genres          0.000000\n",
       "imdb_score      0.053857\n",
       "imdb_votes      0.055224\n",
       "dtype: float64"
      ]
     },
     "execution_count": 37,
     "metadata": {},
     "output_type": "execute_result"
    }
   ],
   "source": [
    "# calculating missing values\n",
    "df.isnull().sum()/len(df)"
   ]
  },
  {
   "cell_type": "markdown",
   "id": "8eafd53c",
   "metadata": {},
   "source": [
    "<div class=\"alert alert-success\">\n",
    "<b>Reviewer's comment v1</b>\n",
    "    \n",
    "Great that you selected `isna()` method to find missing values! \n",
    "\n",
    "It is also sometimes helpful to check not only the total amount of missing values in each column but also look at the percentage of missing values. It helps to understand the overall impact. You can check percentage using, for example, this code:\n",
    "\n",
    "`df.isnull().sum()/len(df)`"
   ]
  },
  {
   "cell_type": "markdown",
   "id": "c8272df3",
   "metadata": {},
   "source": [
    "Not all missing values affect the research: the single missing value in `'title'` is not critical. The missing values in columns `'imdb_score'` and `'imdb_votes'` represent around 6% of all records (4,609 and 4,726, respectively, of the total 85,579). This could potentially affect our research. To avoid this issue, we will drop rows with missing values in the `'imdb_score'` and `'imdb_votes'` columns."
   ]
  },
  {
   "cell_type": "code",
   "execution_count": 38,
   "id": "599d5550",
   "metadata": {},
   "outputs": [],
   "source": [
    "# dropping rows where columns with title, scores and votes have missing values\n",
    "df=df.dropna()"
   ]
  },
  {
   "cell_type": "markdown",
   "id": "2156887f",
   "metadata": {},
   "source": [
    "Make sure the table doesn't contain any more missing values. Count the missing values again."
   ]
  },
  {
   "cell_type": "code",
   "execution_count": 39,
   "id": "55c0b0ce",
   "metadata": {},
   "outputs": [
    {
     "data": {
      "text/plain": [
       "name            0\n",
       "character       0\n",
       "role            0\n",
       "title           0\n",
       "type            0\n",
       "release_year    0\n",
       "genres          0\n",
       "imdb_score      0\n",
       "imdb_votes      0\n",
       "dtype: int64"
      ]
     },
     "execution_count": 39,
     "metadata": {},
     "output_type": "execute_result"
    }
   ],
   "source": [
    "# counting missing values\n",
    "df.isnull().sum()"
   ]
  },
  {
   "cell_type": "markdown",
   "id": "0d1ec57c",
   "metadata": {},
   "source": [
    "<div class=\"alert alert-success\">\n",
    "<b>Reviewer's comment v1:</b>\n",
    "    \n",
    "Everything is correct here!"
   ]
  },
  {
   "cell_type": "markdown",
   "id": "a7dc7aa0",
   "metadata": {},
   "source": [
    "### Duplicates <a id='duplicates'></a>\n",
    "Find the number of duplicate rows in the table using one command:"
   ]
  },
  {
   "cell_type": "code",
   "execution_count": 40,
   "id": "9227df01",
   "metadata": {},
   "outputs": [
    {
     "data": {
      "text/plain": [
       "6994"
      ]
     },
     "execution_count": 40,
     "metadata": {},
     "output_type": "execute_result"
    }
   ],
   "source": [
    "# counting duplicate rows\n",
    "df.duplicated().sum()"
   ]
  },
  {
   "cell_type": "markdown",
   "id": "5f6eb0fc",
   "metadata": {},
   "source": [
    "Review the duplicate rows to determine if removing them would distort our dataset."
   ]
  },
  {
   "cell_type": "code",
   "execution_count": 41,
   "id": "bcf32fcb",
   "metadata": {},
   "outputs": [
    {
     "data": {
      "text/plain": [
       "0        False\n",
       "1        False\n",
       "2        False\n",
       "3        False\n",
       "4        False\n",
       "         ...  \n",
       "85574    False\n",
       "85575    False\n",
       "85576    False\n",
       "85577     True\n",
       "85578    False\n",
       "Length: 80853, dtype: bool"
      ]
     },
     "execution_count": 41,
     "metadata": {},
     "output_type": "execute_result"
    }
   ],
   "source": [
    "# Produce table with duplicates (with original rows included) and review last 5 rows\n",
    "df.duplicated()"
   ]
  },
  {
   "cell_type": "markdown",
   "id": "a1ed6640",
   "metadata": {},
   "source": [
    "There are two clear duplicates in the printed rows. We can safely remove them.\n",
    "Call the `pandas` method for getting rid of duplicate rows:"
   ]
  },
  {
   "cell_type": "code",
   "execution_count": 42,
   "id": "724d5bc8",
   "metadata": {},
   "outputs": [],
   "source": [
    "# removing duplicate rows\n",
    "df= df.drop_duplicates().reset_index(drop=True)"
   ]
  },
  {
   "cell_type": "markdown",
   "id": "0e1ba93b",
   "metadata": {},
   "source": [
    "<div class=\"alert alert-warning\">\n",
    "<b>Reviewer's comment v1</b>\n",
    "    \n",
    "Note that it is also required additionally to re-create the indexes in your dataframe. To achieve that, you can use `reset_index()`.\n",
    "    \n",
    "Without that, the index column will not be ordinal anymore, as `drop_duplicates()` deleted some lines, hence the dataframe becomes less informative.\n",
    "    \n",
    "    \n",
    "You can read about it here: https://pandas.pydata.org/docs/reference/api/pandas.DataFrame.reset_index.html\n",
    "    \n",
    "And parameter `drop=True` could be helpful to rewrite existent index instead of creating a second ordinal column."
   ]
  },
  {
   "cell_type": "markdown",
   "id": "fc8c77ba",
   "metadata": {},
   "source": [
    "Check for duplicate rows once more to make sure you have removed all of them:"
   ]
  },
  {
   "cell_type": "code",
   "execution_count": 43,
   "id": "8091a9bc",
   "metadata": {},
   "outputs": [
    {
     "data": {
      "text/plain": [
       "0"
      ]
     },
     "execution_count": 43,
     "metadata": {},
     "output_type": "execute_result"
    }
   ],
   "source": [
    "# checking for duplicates\n",
    "df.duplicated().sum()"
   ]
  },
  {
   "cell_type": "markdown",
   "id": "2775c2d3",
   "metadata": {},
   "source": [
    "<div class=\"alert alert-success\">\n",
    "<b>Reviewer's comment v1</b>\n",
    "    \n",
    "You correctly found and deleted all duplicates from the data."
   ]
  },
  {
   "cell_type": "markdown",
   "id": "1d802b07",
   "metadata": {},
   "source": [
    "Now get rid of implicit duplicates in the `'type'` column. For example, the string `'SHOW'` can be written in different ways. These kinds of errors will also affect the result."
   ]
  },
  {
   "cell_type": "markdown",
   "id": "d5f987ed",
   "metadata": {},
   "source": [
    "Print a list of unique `'type'` names, sorted in alphabetical order. To do so:\n",
    "* Retrieve the intended dataframe column \n",
    "* Apply a sorting method to it\n",
    "* For the sorted column, call the method that will return all unique column values"
   ]
  },
  {
   "cell_type": "code",
   "execution_count": 44,
   "id": "3d7b0ac5",
   "metadata": {},
   "outputs": [
    {
     "data": {
      "text/plain": [
       "['MOVIE',\n",
       " 'SHOW',\n",
       " 'movies',\n",
       " 'shows',\n",
       " 'the movie',\n",
       " 'tv',\n",
       " 'tv series',\n",
       " 'tv show',\n",
       " 'tv shows']"
      ]
     },
     "execution_count": 44,
     "metadata": {},
     "output_type": "execute_result"
    }
   ],
   "source": [
    "# viewing unique type names\n",
    "sorted(df['type'].unique())"
   ]
  },
  {
   "cell_type": "markdown",
   "id": "ac6e8b18",
   "metadata": {},
   "source": [
    "Look through the list to find implicit duplicates of `'show'` (`'movie'` duplicates will be ignored since the assumption is about shows). These could be names written incorrectly or alternative names of the same genre.\n",
    "\n",
    "You will see the following implicit duplicates:\n",
    "* `'shows'`\n",
    "* `'SHOW'`\n",
    "* `'tv show'`\n",
    "* `'tv shows'`\n",
    "* `'tv series'`\n",
    "* `'tv'`\n",
    "\n",
    "To get rid of them, declare the function `replace_wrong_show()` with two parameters: \n",
    "* `wrong_shows_list=` — the list of duplicates\n",
    "* `correct_show=` — the string with the correct value\n",
    "\n",
    "The function should correct the names in the `'type'` column from the `df` table (i.e., replace each value from the `wrong_shows_list` list with the value in `correct_show`)."
   ]
  },
  {
   "cell_type": "code",
   "execution_count": 25,
   "id": "bff944f9",
   "metadata": {},
   "outputs": [],
   "source": [
    "# function for replacing implicit duplicates\n",
    "def replace_wrong_show(df, wrong_shows_list,correct_show):\n",
    "    df['type'] =df['type'].replace(wrong_shows_list,correct_show)\n",
    "    return df"
   ]
  },
  {
   "cell_type": "markdown",
   "id": "d02d13a6",
   "metadata": {},
   "source": [
    "Call `replace_wrong_show()` and pass it arguments so that it clears implicit duplicates and replaces them with `SHOW`:"
   ]
  },
  {
   "cell_type": "code",
   "execution_count": 50,
   "id": "154d1fef",
   "metadata": {},
   "outputs": [
    {
     "data": {
      "text/html": [
       "<div>\n",
       "<style scoped>\n",
       "    .dataframe tbody tr th:only-of-type {\n",
       "        vertical-align: middle;\n",
       "    }\n",
       "\n",
       "    .dataframe tbody tr th {\n",
       "        vertical-align: top;\n",
       "    }\n",
       "\n",
       "    .dataframe thead th {\n",
       "        text-align: right;\n",
       "    }\n",
       "</style>\n",
       "<table border=\"1\" class=\"dataframe\">\n",
       "  <thead>\n",
       "    <tr style=\"text-align: right;\">\n",
       "      <th></th>\n",
       "      <th>name</th>\n",
       "      <th>character</th>\n",
       "      <th>role</th>\n",
       "      <th>title</th>\n",
       "      <th>type</th>\n",
       "      <th>release_year</th>\n",
       "      <th>genres</th>\n",
       "      <th>imdb_score</th>\n",
       "      <th>imdb_votes</th>\n",
       "    </tr>\n",
       "  </thead>\n",
       "  <tbody>\n",
       "    <tr>\n",
       "      <th>0</th>\n",
       "      <td>Robert De Niro</td>\n",
       "      <td>Travis Bickle</td>\n",
       "      <td>ACTOR</td>\n",
       "      <td>Taxi Driver</td>\n",
       "      <td>MOVIE</td>\n",
       "      <td>1976</td>\n",
       "      <td>['drama', 'crime']</td>\n",
       "      <td>8.2</td>\n",
       "      <td>808582.0</td>\n",
       "    </tr>\n",
       "    <tr>\n",
       "      <th>1</th>\n",
       "      <td>Jodie Foster</td>\n",
       "      <td>Iris Steensma</td>\n",
       "      <td>ACTOR</td>\n",
       "      <td>Taxi Driver</td>\n",
       "      <td>MOVIE</td>\n",
       "      <td>1976</td>\n",
       "      <td>['drama', 'crime']</td>\n",
       "      <td>8.2</td>\n",
       "      <td>808582.0</td>\n",
       "    </tr>\n",
       "    <tr>\n",
       "      <th>2</th>\n",
       "      <td>Albert Brooks</td>\n",
       "      <td>Tom</td>\n",
       "      <td>ACTOR</td>\n",
       "      <td>Taxi Driver</td>\n",
       "      <td>MOVIE</td>\n",
       "      <td>1976</td>\n",
       "      <td>['drama', 'crime']</td>\n",
       "      <td>8.2</td>\n",
       "      <td>808582.0</td>\n",
       "    </tr>\n",
       "    <tr>\n",
       "      <th>3</th>\n",
       "      <td>Harvey Keitel</td>\n",
       "      <td>Matthew 'Sport' Higgins</td>\n",
       "      <td>ACTOR</td>\n",
       "      <td>Taxi Driver</td>\n",
       "      <td>MOVIE</td>\n",
       "      <td>1976</td>\n",
       "      <td>['drama', 'crime']</td>\n",
       "      <td>8.2</td>\n",
       "      <td>808582.0</td>\n",
       "    </tr>\n",
       "    <tr>\n",
       "      <th>4</th>\n",
       "      <td>Cybill Shepherd</td>\n",
       "      <td>Betsy</td>\n",
       "      <td>ACTOR</td>\n",
       "      <td>Taxi Driver</td>\n",
       "      <td>MOVIE</td>\n",
       "      <td>1976</td>\n",
       "      <td>['drama', 'crime']</td>\n",
       "      <td>8.2</td>\n",
       "      <td>808582.0</td>\n",
       "    </tr>\n",
       "    <tr>\n",
       "      <th>...</th>\n",
       "      <td>...</td>\n",
       "      <td>...</td>\n",
       "      <td>...</td>\n",
       "      <td>...</td>\n",
       "      <td>...</td>\n",
       "      <td>...</td>\n",
       "      <td>...</td>\n",
       "      <td>...</td>\n",
       "      <td>...</td>\n",
       "    </tr>\n",
       "    <tr>\n",
       "      <th>73854</th>\n",
       "      <td>A??da Morales</td>\n",
       "      <td>Maritza</td>\n",
       "      <td>ACTOR</td>\n",
       "      <td>Lokillo</td>\n",
       "      <td>the movie</td>\n",
       "      <td>2021</td>\n",
       "      <td>['comedy']</td>\n",
       "      <td>3.8</td>\n",
       "      <td>68.0</td>\n",
       "    </tr>\n",
       "    <tr>\n",
       "      <th>73855</th>\n",
       "      <td>Adelaida Buscato</td>\n",
       "      <td>Mar??a Paz</td>\n",
       "      <td>ACTOR</td>\n",
       "      <td>Lokillo</td>\n",
       "      <td>the movie</td>\n",
       "      <td>2021</td>\n",
       "      <td>['comedy']</td>\n",
       "      <td>3.8</td>\n",
       "      <td>68.0</td>\n",
       "    </tr>\n",
       "    <tr>\n",
       "      <th>73856</th>\n",
       "      <td>Luz Stella Luengas</td>\n",
       "      <td>Karen Bayona</td>\n",
       "      <td>ACTOR</td>\n",
       "      <td>Lokillo</td>\n",
       "      <td>the movie</td>\n",
       "      <td>2021</td>\n",
       "      <td>['comedy']</td>\n",
       "      <td>3.8</td>\n",
       "      <td>68.0</td>\n",
       "    </tr>\n",
       "    <tr>\n",
       "      <th>73857</th>\n",
       "      <td>In??s Prieto</td>\n",
       "      <td>Fanny</td>\n",
       "      <td>ACTOR</td>\n",
       "      <td>Lokillo</td>\n",
       "      <td>the movie</td>\n",
       "      <td>2021</td>\n",
       "      <td>['comedy']</td>\n",
       "      <td>3.8</td>\n",
       "      <td>68.0</td>\n",
       "    </tr>\n",
       "    <tr>\n",
       "      <th>73858</th>\n",
       "      <td>Julian Gaviria</td>\n",
       "      <td>unknown</td>\n",
       "      <td>DIRECTOR</td>\n",
       "      <td>Lokillo</td>\n",
       "      <td>the movie</td>\n",
       "      <td>2021</td>\n",
       "      <td>['comedy']</td>\n",
       "      <td>3.8</td>\n",
       "      <td>68.0</td>\n",
       "    </tr>\n",
       "  </tbody>\n",
       "</table>\n",
       "<p>73859 rows × 9 columns</p>\n",
       "</div>"
      ],
      "text/plain": [
       "                     name                character      role        title  \\\n",
       "0          Robert De Niro            Travis Bickle     ACTOR  Taxi Driver   \n",
       "1            Jodie Foster            Iris Steensma     ACTOR  Taxi Driver   \n",
       "2           Albert Brooks                      Tom     ACTOR  Taxi Driver   \n",
       "3           Harvey Keitel  Matthew 'Sport' Higgins     ACTOR  Taxi Driver   \n",
       "4         Cybill Shepherd                    Betsy     ACTOR  Taxi Driver   \n",
       "...                   ...                      ...       ...          ...   \n",
       "73854       A??da Morales                  Maritza     ACTOR      Lokillo   \n",
       "73855    Adelaida Buscato               Mar??a Paz     ACTOR      Lokillo   \n",
       "73856  Luz Stella Luengas             Karen Bayona     ACTOR      Lokillo   \n",
       "73857        In??s Prieto                    Fanny     ACTOR      Lokillo   \n",
       "73858      Julian Gaviria                  unknown  DIRECTOR      Lokillo   \n",
       "\n",
       "            type  release_year              genres  imdb_score  imdb_votes  \n",
       "0          MOVIE          1976  ['drama', 'crime']         8.2    808582.0  \n",
       "1          MOVIE          1976  ['drama', 'crime']         8.2    808582.0  \n",
       "2          MOVIE          1976  ['drama', 'crime']         8.2    808582.0  \n",
       "3          MOVIE          1976  ['drama', 'crime']         8.2    808582.0  \n",
       "4          MOVIE          1976  ['drama', 'crime']         8.2    808582.0  \n",
       "...          ...           ...                 ...         ...         ...  \n",
       "73854  the movie          2021          ['comedy']         3.8        68.0  \n",
       "73855  the movie          2021          ['comedy']         3.8        68.0  \n",
       "73856  the movie          2021          ['comedy']         3.8        68.0  \n",
       "73857  the movie          2021          ['comedy']         3.8        68.0  \n",
       "73858  the movie          2021          ['comedy']         3.8        68.0  \n",
       "\n",
       "[73859 rows x 9 columns]"
      ]
     },
     "execution_count": 50,
     "metadata": {},
     "output_type": "execute_result"
    }
   ],
   "source": [
    "wrong_shows_list = ['shows', 'SHOW', 'tv show', 'tv shows', 'tv series', 'tv']\n",
    "correct_show = 'show'\n",
    "replace_wrong_show(df,'wrong_shows_list','correct_show')"
   ]
  },
  {
   "cell_type": "code",
   "execution_count": 58,
   "id": "a2217e53",
   "metadata": {},
   "outputs": [
    {
     "data": {
      "text/html": [
       "<div>\n",
       "<style scoped>\n",
       "    .dataframe tbody tr th:only-of-type {\n",
       "        vertical-align: middle;\n",
       "    }\n",
       "\n",
       "    .dataframe tbody tr th {\n",
       "        vertical-align: top;\n",
       "    }\n",
       "\n",
       "    .dataframe thead th {\n",
       "        text-align: right;\n",
       "    }\n",
       "</style>\n",
       "<table border=\"1\" class=\"dataframe\">\n",
       "  <thead>\n",
       "    <tr style=\"text-align: right;\">\n",
       "      <th></th>\n",
       "      <th>name</th>\n",
       "      <th>character</th>\n",
       "      <th>role</th>\n",
       "      <th>title</th>\n",
       "      <th>type</th>\n",
       "      <th>release_year</th>\n",
       "      <th>genres</th>\n",
       "      <th>imdb_score</th>\n",
       "      <th>imdb_votes</th>\n",
       "    </tr>\n",
       "  </thead>\n",
       "  <tbody>\n",
       "    <tr>\n",
       "      <th>0</th>\n",
       "      <td>Robert De Niro</td>\n",
       "      <td>Travis Bickle</td>\n",
       "      <td>ACTOR</td>\n",
       "      <td>Taxi Driver</td>\n",
       "      <td>MOVIE</td>\n",
       "      <td>1976</td>\n",
       "      <td>['drama', 'crime']</td>\n",
       "      <td>8.2</td>\n",
       "      <td>808582.0</td>\n",
       "    </tr>\n",
       "    <tr>\n",
       "      <th>1</th>\n",
       "      <td>Jodie Foster</td>\n",
       "      <td>Iris Steensma</td>\n",
       "      <td>ACTOR</td>\n",
       "      <td>Taxi Driver</td>\n",
       "      <td>MOVIE</td>\n",
       "      <td>1976</td>\n",
       "      <td>['drama', 'crime']</td>\n",
       "      <td>8.2</td>\n",
       "      <td>808582.0</td>\n",
       "    </tr>\n",
       "    <tr>\n",
       "      <th>2</th>\n",
       "      <td>Albert Brooks</td>\n",
       "      <td>Tom</td>\n",
       "      <td>ACTOR</td>\n",
       "      <td>Taxi Driver</td>\n",
       "      <td>MOVIE</td>\n",
       "      <td>1976</td>\n",
       "      <td>['drama', 'crime']</td>\n",
       "      <td>8.2</td>\n",
       "      <td>808582.0</td>\n",
       "    </tr>\n",
       "    <tr>\n",
       "      <th>3</th>\n",
       "      <td>Harvey Keitel</td>\n",
       "      <td>Matthew 'Sport' Higgins</td>\n",
       "      <td>ACTOR</td>\n",
       "      <td>Taxi Driver</td>\n",
       "      <td>MOVIE</td>\n",
       "      <td>1976</td>\n",
       "      <td>['drama', 'crime']</td>\n",
       "      <td>8.2</td>\n",
       "      <td>808582.0</td>\n",
       "    </tr>\n",
       "    <tr>\n",
       "      <th>4</th>\n",
       "      <td>Cybill Shepherd</td>\n",
       "      <td>Betsy</td>\n",
       "      <td>ACTOR</td>\n",
       "      <td>Taxi Driver</td>\n",
       "      <td>MOVIE</td>\n",
       "      <td>1976</td>\n",
       "      <td>['drama', 'crime']</td>\n",
       "      <td>8.2</td>\n",
       "      <td>808582.0</td>\n",
       "    </tr>\n",
       "    <tr>\n",
       "      <th>...</th>\n",
       "      <td>...</td>\n",
       "      <td>...</td>\n",
       "      <td>...</td>\n",
       "      <td>...</td>\n",
       "      <td>...</td>\n",
       "      <td>...</td>\n",
       "      <td>...</td>\n",
       "      <td>...</td>\n",
       "      <td>...</td>\n",
       "    </tr>\n",
       "    <tr>\n",
       "      <th>73854</th>\n",
       "      <td>A??da Morales</td>\n",
       "      <td>Maritza</td>\n",
       "      <td>ACTOR</td>\n",
       "      <td>Lokillo</td>\n",
       "      <td>the movie</td>\n",
       "      <td>2021</td>\n",
       "      <td>['comedy']</td>\n",
       "      <td>3.8</td>\n",
       "      <td>68.0</td>\n",
       "    </tr>\n",
       "    <tr>\n",
       "      <th>73855</th>\n",
       "      <td>Adelaida Buscato</td>\n",
       "      <td>Mar??a Paz</td>\n",
       "      <td>ACTOR</td>\n",
       "      <td>Lokillo</td>\n",
       "      <td>the movie</td>\n",
       "      <td>2021</td>\n",
       "      <td>['comedy']</td>\n",
       "      <td>3.8</td>\n",
       "      <td>68.0</td>\n",
       "    </tr>\n",
       "    <tr>\n",
       "      <th>73856</th>\n",
       "      <td>Luz Stella Luengas</td>\n",
       "      <td>Karen Bayona</td>\n",
       "      <td>ACTOR</td>\n",
       "      <td>Lokillo</td>\n",
       "      <td>the movie</td>\n",
       "      <td>2021</td>\n",
       "      <td>['comedy']</td>\n",
       "      <td>3.8</td>\n",
       "      <td>68.0</td>\n",
       "    </tr>\n",
       "    <tr>\n",
       "      <th>73857</th>\n",
       "      <td>In??s Prieto</td>\n",
       "      <td>Fanny</td>\n",
       "      <td>ACTOR</td>\n",
       "      <td>Lokillo</td>\n",
       "      <td>the movie</td>\n",
       "      <td>2021</td>\n",
       "      <td>['comedy']</td>\n",
       "      <td>3.8</td>\n",
       "      <td>68.0</td>\n",
       "    </tr>\n",
       "    <tr>\n",
       "      <th>73858</th>\n",
       "      <td>Julian Gaviria</td>\n",
       "      <td>unknown</td>\n",
       "      <td>DIRECTOR</td>\n",
       "      <td>Lokillo</td>\n",
       "      <td>the movie</td>\n",
       "      <td>2021</td>\n",
       "      <td>['comedy']</td>\n",
       "      <td>3.8</td>\n",
       "      <td>68.0</td>\n",
       "    </tr>\n",
       "  </tbody>\n",
       "</table>\n",
       "<p>73859 rows × 9 columns</p>\n",
       "</div>"
      ],
      "text/plain": [
       "                     name                character      role        title  \\\n",
       "0          Robert De Niro            Travis Bickle     ACTOR  Taxi Driver   \n",
       "1            Jodie Foster            Iris Steensma     ACTOR  Taxi Driver   \n",
       "2           Albert Brooks                      Tom     ACTOR  Taxi Driver   \n",
       "3           Harvey Keitel  Matthew 'Sport' Higgins     ACTOR  Taxi Driver   \n",
       "4         Cybill Shepherd                    Betsy     ACTOR  Taxi Driver   \n",
       "...                   ...                      ...       ...          ...   \n",
       "73854       A??da Morales                  Maritza     ACTOR      Lokillo   \n",
       "73855    Adelaida Buscato               Mar??a Paz     ACTOR      Lokillo   \n",
       "73856  Luz Stella Luengas             Karen Bayona     ACTOR      Lokillo   \n",
       "73857        In??s Prieto                    Fanny     ACTOR      Lokillo   \n",
       "73858      Julian Gaviria                  unknown  DIRECTOR      Lokillo   \n",
       "\n",
       "            type  release_year              genres  imdb_score  imdb_votes  \n",
       "0          MOVIE          1976  ['drama', 'crime']         8.2    808582.0  \n",
       "1          MOVIE          1976  ['drama', 'crime']         8.2    808582.0  \n",
       "2          MOVIE          1976  ['drama', 'crime']         8.2    808582.0  \n",
       "3          MOVIE          1976  ['drama', 'crime']         8.2    808582.0  \n",
       "4          MOVIE          1976  ['drama', 'crime']         8.2    808582.0  \n",
       "...          ...           ...                 ...         ...         ...  \n",
       "73854  the movie          2021          ['comedy']         3.8        68.0  \n",
       "73855  the movie          2021          ['comedy']         3.8        68.0  \n",
       "73856  the movie          2021          ['comedy']         3.8        68.0  \n",
       "73857  the movie          2021          ['comedy']         3.8        68.0  \n",
       "73858  the movie          2021          ['comedy']         3.8        68.0  \n",
       "\n",
       "[73859 rows x 9 columns]"
      ]
     },
     "execution_count": 58,
     "metadata": {},
     "output_type": "execute_result"
    }
   ],
   "source": [
    "# removing implicit duplicates\n",
    "df.drop_duplicates()"
   ]
  },
  {
   "cell_type": "markdown",
   "id": "702cfb30",
   "metadata": {},
   "source": [
    "<div class=\"alert alert-danger\">\n",
    "<b>Reviewer's comment v1</b>\n",
    "    \n",
    "Here you need to provide a list named `wrong_shows_list` while you have `wrong`.\n",
    "Could you please adjust this small typo? "
   ]
  },
  {
   "cell_type": "markdown",
   "id": "318b09f7",
   "metadata": {},
   "source": [
    "Make sure the duplicate names are removed. Print the list of unique values from the `'type'` column:"
   ]
  },
  {
   "cell_type": "code",
   "execution_count": 59,
   "id": "25d49d73",
   "metadata": {},
   "outputs": [
    {
     "data": {
      "text/plain": [
       "array(['MOVIE', 'the movie', 'tv show', 'shows', 'movies', 'tv shows',\n",
       "       'tv series', 'tv', 'SHOW'], dtype=object)"
      ]
     },
     "execution_count": 59,
     "metadata": {},
     "output_type": "execute_result"
    }
   ],
   "source": [
    "# viewing unique genre names\n",
    "df['type'].unique()"
   ]
  },
  {
   "cell_type": "markdown",
   "id": "0f66e41c",
   "metadata": {},
   "source": [
    "<div class=\"alert alert-success\">\n",
    "<b>Reviewer's comment v2</b>\n",
    "    \n",
    "Your function works perfectly fine.\n",
    "    "
   ]
  },
  {
   "cell_type": "markdown",
   "id": "18b2049e",
   "metadata": {},
   "source": [
    "### Conclusions <a id='data_preprocessing_conclusions'></a>\n",
    "We detected three issues with the data:\n",
    "\n",
    "- Incorrect header styles\n",
    "- Missing values\n",
    "- Duplicate rows and implicit duplicates\n",
    "\n",
    "The headers have been cleaned up to make processing the table simpler.\n",
    "\n",
    "All rows with missing values have been removed. \n",
    "\n",
    "The absence of duplicates will make the results more precise and easier to understand.\n",
    "\n",
    "Now we can move on to our analysis of the prepared data."
   ]
  },
  {
   "cell_type": "markdown",
   "id": "1aa0f1b1",
   "metadata": {},
   "source": [
    "## Stage 3. Data analysis <a id='hypotheses'></a>"
   ]
  },
  {
   "cell_type": "markdown",
   "id": "f8fb6a0e",
   "metadata": {},
   "source": [
    "Based on the previous project stages, you can now define how the assumption will be checked. Calculate the average amount of votes for each score (this data is available in the `imdb_score` and `imdb_votes` columns), and then check how these averages relate to each other. If the averages for shows with the highest scores are bigger than those for shows with lower scores, the assumption appears to be true.\n",
    "\n",
    "Based on this, complete the following steps:\n",
    "\n",
    "- Filter the dataframe to only include shows released in 1999 or later.\n",
    "- Group scores into buckets by rounding the values of the appropriate column (a set of 1-10 integers will help us make the outcome of our calculations more evident without damaging the quality of our research).\n",
    "- Identify outliers among scores based on their number of votes, and exclude scores with few votes.\n",
    "- Calculate the average votes for each score and check whether the assumption matches the results."
   ]
  },
  {
   "cell_type": "markdown",
   "id": "0ea2cb51",
   "metadata": {},
   "source": [
    "To filter the dataframe and only include shows released in 1999 or later, you will take two steps. First, keep only titles published in 1999 or later in our dataframe. Then, filter the table to only contain shows (movies will be removed)."
   ]
  },
  {
   "cell_type": "code",
   "execution_count": 60,
   "id": "6a704aa1",
   "metadata": {},
   "outputs": [
    {
     "data": {
      "text/html": [
       "<div>\n",
       "<style scoped>\n",
       "    .dataframe tbody tr th:only-of-type {\n",
       "        vertical-align: middle;\n",
       "    }\n",
       "\n",
       "    .dataframe tbody tr th {\n",
       "        vertical-align: top;\n",
       "    }\n",
       "\n",
       "    .dataframe thead th {\n",
       "        text-align: right;\n",
       "    }\n",
       "</style>\n",
       "<table border=\"1\" class=\"dataframe\">\n",
       "  <thead>\n",
       "    <tr style=\"text-align: right;\">\n",
       "      <th></th>\n",
       "      <th>name</th>\n",
       "      <th>character</th>\n",
       "      <th>role</th>\n",
       "      <th>title</th>\n",
       "      <th>type</th>\n",
       "      <th>release_year</th>\n",
       "      <th>genres</th>\n",
       "      <th>imdb_score</th>\n",
       "      <th>imdb_votes</th>\n",
       "    </tr>\n",
       "  </thead>\n",
       "  <tbody>\n",
       "    <tr>\n",
       "      <th>1661</th>\n",
       "      <td>Jeff Probst</td>\n",
       "      <td>Himself - Host</td>\n",
       "      <td>ACTOR</td>\n",
       "      <td>Survivor</td>\n",
       "      <td>tv shows</td>\n",
       "      <td>2000</td>\n",
       "      <td>['reality']</td>\n",
       "      <td>7.4</td>\n",
       "      <td>24687.0</td>\n",
       "    </tr>\n",
       "    <tr>\n",
       "      <th>1952</th>\n",
       "      <td>Benicio del Toro</td>\n",
       "      <td>Franky Four Fingers</td>\n",
       "      <td>ACTOR</td>\n",
       "      <td>Snatch</td>\n",
       "      <td>MOVIE</td>\n",
       "      <td>2000</td>\n",
       "      <td>['crime', 'comedy']</td>\n",
       "      <td>8.3</td>\n",
       "      <td>841435.0</td>\n",
       "    </tr>\n",
       "    <tr>\n",
       "      <th>1953</th>\n",
       "      <td>Dennis Farina</td>\n",
       "      <td>Cousin Avi</td>\n",
       "      <td>ACTOR</td>\n",
       "      <td>Snatch</td>\n",
       "      <td>MOVIE</td>\n",
       "      <td>2000</td>\n",
       "      <td>['crime', 'comedy']</td>\n",
       "      <td>8.3</td>\n",
       "      <td>841435.0</td>\n",
       "    </tr>\n",
       "    <tr>\n",
       "      <th>1954</th>\n",
       "      <td>Vinnie Jones</td>\n",
       "      <td>Bullet Tooth Tony</td>\n",
       "      <td>ACTOR</td>\n",
       "      <td>Snatch</td>\n",
       "      <td>MOVIE</td>\n",
       "      <td>2000</td>\n",
       "      <td>['crime', 'comedy']</td>\n",
       "      <td>8.3</td>\n",
       "      <td>841435.0</td>\n",
       "    </tr>\n",
       "    <tr>\n",
       "      <th>1955</th>\n",
       "      <td>Brad Pitt</td>\n",
       "      <td>Mickey O'Neil</td>\n",
       "      <td>ACTOR</td>\n",
       "      <td>Snatch</td>\n",
       "      <td>MOVIE</td>\n",
       "      <td>2000</td>\n",
       "      <td>['crime', 'comedy']</td>\n",
       "      <td>8.3</td>\n",
       "      <td>841435.0</td>\n",
       "    </tr>\n",
       "    <tr>\n",
       "      <th>...</th>\n",
       "      <td>...</td>\n",
       "      <td>...</td>\n",
       "      <td>...</td>\n",
       "      <td>...</td>\n",
       "      <td>...</td>\n",
       "      <td>...</td>\n",
       "      <td>...</td>\n",
       "      <td>...</td>\n",
       "      <td>...</td>\n",
       "    </tr>\n",
       "    <tr>\n",
       "      <th>73854</th>\n",
       "      <td>A??da Morales</td>\n",
       "      <td>Maritza</td>\n",
       "      <td>ACTOR</td>\n",
       "      <td>Lokillo</td>\n",
       "      <td>the movie</td>\n",
       "      <td>2021</td>\n",
       "      <td>['comedy']</td>\n",
       "      <td>3.8</td>\n",
       "      <td>68.0</td>\n",
       "    </tr>\n",
       "    <tr>\n",
       "      <th>73855</th>\n",
       "      <td>Adelaida Buscato</td>\n",
       "      <td>Mar??a Paz</td>\n",
       "      <td>ACTOR</td>\n",
       "      <td>Lokillo</td>\n",
       "      <td>the movie</td>\n",
       "      <td>2021</td>\n",
       "      <td>['comedy']</td>\n",
       "      <td>3.8</td>\n",
       "      <td>68.0</td>\n",
       "    </tr>\n",
       "    <tr>\n",
       "      <th>73856</th>\n",
       "      <td>Luz Stella Luengas</td>\n",
       "      <td>Karen Bayona</td>\n",
       "      <td>ACTOR</td>\n",
       "      <td>Lokillo</td>\n",
       "      <td>the movie</td>\n",
       "      <td>2021</td>\n",
       "      <td>['comedy']</td>\n",
       "      <td>3.8</td>\n",
       "      <td>68.0</td>\n",
       "    </tr>\n",
       "    <tr>\n",
       "      <th>73857</th>\n",
       "      <td>In??s Prieto</td>\n",
       "      <td>Fanny</td>\n",
       "      <td>ACTOR</td>\n",
       "      <td>Lokillo</td>\n",
       "      <td>the movie</td>\n",
       "      <td>2021</td>\n",
       "      <td>['comedy']</td>\n",
       "      <td>3.8</td>\n",
       "      <td>68.0</td>\n",
       "    </tr>\n",
       "    <tr>\n",
       "      <th>73858</th>\n",
       "      <td>Julian Gaviria</td>\n",
       "      <td>unknown</td>\n",
       "      <td>DIRECTOR</td>\n",
       "      <td>Lokillo</td>\n",
       "      <td>the movie</td>\n",
       "      <td>2021</td>\n",
       "      <td>['comedy']</td>\n",
       "      <td>3.8</td>\n",
       "      <td>68.0</td>\n",
       "    </tr>\n",
       "  </tbody>\n",
       "</table>\n",
       "<p>69881 rows × 9 columns</p>\n",
       "</div>"
      ],
      "text/plain": [
       "                     name            character      role     title       type  \\\n",
       "1661          Jeff Probst       Himself - Host     ACTOR  Survivor   tv shows   \n",
       "1952     Benicio del Toro  Franky Four Fingers     ACTOR    Snatch      MOVIE   \n",
       "1953        Dennis Farina           Cousin Avi     ACTOR    Snatch      MOVIE   \n",
       "1954         Vinnie Jones    Bullet Tooth Tony     ACTOR    Snatch      MOVIE   \n",
       "1955            Brad Pitt        Mickey O'Neil     ACTOR    Snatch      MOVIE   \n",
       "...                   ...                  ...       ...       ...        ...   \n",
       "73854       A??da Morales              Maritza     ACTOR   Lokillo  the movie   \n",
       "73855    Adelaida Buscato           Mar??a Paz     ACTOR   Lokillo  the movie   \n",
       "73856  Luz Stella Luengas         Karen Bayona     ACTOR   Lokillo  the movie   \n",
       "73857        In??s Prieto                Fanny     ACTOR   Lokillo  the movie   \n",
       "73858      Julian Gaviria              unknown  DIRECTOR   Lokillo  the movie   \n",
       "\n",
       "       release_year               genres  imdb_score  imdb_votes  \n",
       "1661           2000          ['reality']         7.4     24687.0  \n",
       "1952           2000  ['crime', 'comedy']         8.3    841435.0  \n",
       "1953           2000  ['crime', 'comedy']         8.3    841435.0  \n",
       "1954           2000  ['crime', 'comedy']         8.3    841435.0  \n",
       "1955           2000  ['crime', 'comedy']         8.3    841435.0  \n",
       "...             ...                  ...         ...         ...  \n",
       "73854          2021           ['comedy']         3.8        68.0  \n",
       "73855          2021           ['comedy']         3.8        68.0  \n",
       "73856          2021           ['comedy']         3.8        68.0  \n",
       "73857          2021           ['comedy']         3.8        68.0  \n",
       "73858          2021           ['comedy']         3.8        68.0  \n",
       "\n",
       "[69881 rows x 9 columns]"
      ]
     },
     "execution_count": 60,
     "metadata": {},
     "output_type": "execute_result"
    }
   ],
   "source": [
    "# using conditional indexing modify df so it has only titles released after 1999 (with 1999 included)\n",
    "# give the slice of dataframe new name\n",
    "new=df.loc[df['release_year']>=1999]\n",
    "new"
   ]
  },
  {
   "cell_type": "code",
   "execution_count": 61,
   "id": "128dc6a9",
   "metadata": {
    "scrolled": true
   },
   "outputs": [
    {
     "data": {
      "text/html": [
       "<div>\n",
       "<style scoped>\n",
       "    .dataframe tbody tr th:only-of-type {\n",
       "        vertical-align: middle;\n",
       "    }\n",
       "\n",
       "    .dataframe tbody tr th {\n",
       "        vertical-align: top;\n",
       "    }\n",
       "\n",
       "    .dataframe thead th {\n",
       "        text-align: right;\n",
       "    }\n",
       "</style>\n",
       "<table border=\"1\" class=\"dataframe\">\n",
       "  <thead>\n",
       "    <tr style=\"text-align: right;\">\n",
       "      <th></th>\n",
       "      <th>name</th>\n",
       "      <th>character</th>\n",
       "      <th>role</th>\n",
       "      <th>title</th>\n",
       "      <th>type</th>\n",
       "      <th>release_year</th>\n",
       "      <th>genres</th>\n",
       "      <th>imdb_score</th>\n",
       "      <th>imdb_votes</th>\n",
       "    </tr>\n",
       "  </thead>\n",
       "  <tbody>\n",
       "    <tr>\n",
       "      <th>3636</th>\n",
       "      <td>Tracee Ellis Ross</td>\n",
       "      <td>unknown</td>\n",
       "      <td>ACTOR</td>\n",
       "      <td>Girlfriends</td>\n",
       "      <td>SHOW</td>\n",
       "      <td>2000</td>\n",
       "      <td>['drama', 'comedy']</td>\n",
       "      <td>7.2</td>\n",
       "      <td>4528.0</td>\n",
       "    </tr>\n",
       "    <tr>\n",
       "      <th>3637</th>\n",
       "      <td>Golden Brooks</td>\n",
       "      <td>unknown</td>\n",
       "      <td>ACTOR</td>\n",
       "      <td>Girlfriends</td>\n",
       "      <td>SHOW</td>\n",
       "      <td>2000</td>\n",
       "      <td>['drama', 'comedy']</td>\n",
       "      <td>7.2</td>\n",
       "      <td>4528.0</td>\n",
       "    </tr>\n",
       "    <tr>\n",
       "      <th>3638</th>\n",
       "      <td>Persia White</td>\n",
       "      <td>unknown</td>\n",
       "      <td>ACTOR</td>\n",
       "      <td>Girlfriends</td>\n",
       "      <td>SHOW</td>\n",
       "      <td>2000</td>\n",
       "      <td>['drama', 'comedy']</td>\n",
       "      <td>7.2</td>\n",
       "      <td>4528.0</td>\n",
       "    </tr>\n",
       "    <tr>\n",
       "      <th>3639</th>\n",
       "      <td>Reggie Hayes</td>\n",
       "      <td>unknown</td>\n",
       "      <td>ACTOR</td>\n",
       "      <td>Girlfriends</td>\n",
       "      <td>SHOW</td>\n",
       "      <td>2000</td>\n",
       "      <td>['drama', 'comedy']</td>\n",
       "      <td>7.2</td>\n",
       "      <td>4528.0</td>\n",
       "    </tr>\n",
       "    <tr>\n",
       "      <th>3640</th>\n",
       "      <td>Jill Marie Jones</td>\n",
       "      <td>unknown</td>\n",
       "      <td>ACTOR</td>\n",
       "      <td>Girlfriends</td>\n",
       "      <td>SHOW</td>\n",
       "      <td>2000</td>\n",
       "      <td>['drama', 'comedy']</td>\n",
       "      <td>7.2</td>\n",
       "      <td>4528.0</td>\n",
       "    </tr>\n",
       "    <tr>\n",
       "      <th>...</th>\n",
       "      <td>...</td>\n",
       "      <td>...</td>\n",
       "      <td>...</td>\n",
       "      <td>...</td>\n",
       "      <td>...</td>\n",
       "      <td>...</td>\n",
       "      <td>...</td>\n",
       "      <td>...</td>\n",
       "      <td>...</td>\n",
       "    </tr>\n",
       "    <tr>\n",
       "      <th>73614</th>\n",
       "      <td>Maneerat Kam-Uan</td>\n",
       "      <td>Ae</td>\n",
       "      <td>ACTOR</td>\n",
       "      <td>Let's Eat</td>\n",
       "      <td>SHOW</td>\n",
       "      <td>2021</td>\n",
       "      <td>['drama', 'comedy']</td>\n",
       "      <td>8.2</td>\n",
       "      <td>5.0</td>\n",
       "    </tr>\n",
       "    <tr>\n",
       "      <th>73615</th>\n",
       "      <td>Rudklao Amratisha</td>\n",
       "      <td>unknown</td>\n",
       "      <td>ACTOR</td>\n",
       "      <td>Let's Eat</td>\n",
       "      <td>SHOW</td>\n",
       "      <td>2021</td>\n",
       "      <td>['drama', 'comedy']</td>\n",
       "      <td>8.2</td>\n",
       "      <td>5.0</td>\n",
       "    </tr>\n",
       "    <tr>\n",
       "      <th>73616</th>\n",
       "      <td>Jaturong Mokjok</td>\n",
       "      <td>unknown</td>\n",
       "      <td>ACTOR</td>\n",
       "      <td>Let's Eat</td>\n",
       "      <td>SHOW</td>\n",
       "      <td>2021</td>\n",
       "      <td>['drama', 'comedy']</td>\n",
       "      <td>8.2</td>\n",
       "      <td>5.0</td>\n",
       "    </tr>\n",
       "    <tr>\n",
       "      <th>73617</th>\n",
       "      <td>Pisamai Wilaisak</td>\n",
       "      <td>unknown</td>\n",
       "      <td>ACTOR</td>\n",
       "      <td>Let's Eat</td>\n",
       "      <td>SHOW</td>\n",
       "      <td>2021</td>\n",
       "      <td>['drama', 'comedy']</td>\n",
       "      <td>8.2</td>\n",
       "      <td>5.0</td>\n",
       "    </tr>\n",
       "    <tr>\n",
       "      <th>73618</th>\n",
       "      <td>Sarawut Wichiensarn</td>\n",
       "      <td>unknown</td>\n",
       "      <td>DIRECTOR</td>\n",
       "      <td>Let's Eat</td>\n",
       "      <td>SHOW</td>\n",
       "      <td>2021</td>\n",
       "      <td>['drama', 'comedy']</td>\n",
       "      <td>8.2</td>\n",
       "      <td>5.0</td>\n",
       "    </tr>\n",
       "  </tbody>\n",
       "</table>\n",
       "<p>13330 rows × 9 columns</p>\n",
       "</div>"
      ],
      "text/plain": [
       "                      name character      role        title  type  \\\n",
       "3636     Tracee Ellis Ross   unknown     ACTOR  Girlfriends  SHOW   \n",
       "3637         Golden Brooks   unknown     ACTOR  Girlfriends  SHOW   \n",
       "3638          Persia White   unknown     ACTOR  Girlfriends  SHOW   \n",
       "3639          Reggie Hayes   unknown     ACTOR  Girlfriends  SHOW   \n",
       "3640      Jill Marie Jones   unknown     ACTOR  Girlfriends  SHOW   \n",
       "...                    ...       ...       ...          ...   ...   \n",
       "73614     Maneerat Kam-Uan        Ae     ACTOR    Let's Eat  SHOW   \n",
       "73615    Rudklao Amratisha   unknown     ACTOR    Let's Eat  SHOW   \n",
       "73616      Jaturong Mokjok   unknown     ACTOR    Let's Eat  SHOW   \n",
       "73617     Pisamai Wilaisak   unknown     ACTOR    Let's Eat  SHOW   \n",
       "73618  Sarawut Wichiensarn   unknown  DIRECTOR    Let's Eat  SHOW   \n",
       "\n",
       "       release_year               genres  imdb_score  imdb_votes  \n",
       "3636           2000  ['drama', 'comedy']         7.2      4528.0  \n",
       "3637           2000  ['drama', 'comedy']         7.2      4528.0  \n",
       "3638           2000  ['drama', 'comedy']         7.2      4528.0  \n",
       "3639           2000  ['drama', 'comedy']         7.2      4528.0  \n",
       "3640           2000  ['drama', 'comedy']         7.2      4528.0  \n",
       "...             ...                  ...         ...         ...  \n",
       "73614          2021  ['drama', 'comedy']         8.2         5.0  \n",
       "73615          2021  ['drama', 'comedy']         8.2         5.0  \n",
       "73616          2021  ['drama', 'comedy']         8.2         5.0  \n",
       "73617          2021  ['drama', 'comedy']         8.2         5.0  \n",
       "73618          2021  ['drama', 'comedy']         8.2         5.0  \n",
       "\n",
       "[13330 rows x 9 columns]"
      ]
     },
     "execution_count": 61,
     "metadata": {},
     "output_type": "execute_result"
    }
   ],
   "source": [
    "# repeat conditional indexing so df has only shows (movies are removed as result)\n",
    "new= new.loc[df['type'].str.upper()=='SHOW']\n",
    "new"
   ]
  },
  {
   "cell_type": "markdown",
   "id": "9648040c",
   "metadata": {},
   "source": [
    "The scores that are to be grouped should be rounded. For instance, titles with scores like 7.8, 8.1, and 8.3 will all be placed in the same bucket with a score of 8."
   ]
  },
  {
   "cell_type": "markdown",
   "id": "9eeb0e3c",
   "metadata": {},
   "source": [
    "<div class=\"alert alert-success\">\n",
    "<b>Reviewer's comment v2</b>\n",
    "\n",
    "You've filterd the data required data correctly. \n",
    "\n",
    "\n",
    "Additionally there are other methods that could be helpful to filter your data, for example:`query()`.\n",
    "\n",
    "    \n",
    "`df = df.query('type == \"SHOW\"')`\n",
    "    \n",
    "You can read about them additionally here: \n",
    "https://towardsdatascience.com/10-examples-that-will-make-you-use-pandas-query-function-more-often-a8fb3e9361cb\n",
    "https://towardsdatascience.com/how-to-use-loc-and-iloc-for-selecting-data-in-pandas-bd09cb4c3d79    "
   ]
  },
  {
   "cell_type": "code",
   "execution_count": 62,
   "id": "54bbd5c0",
   "metadata": {},
   "outputs": [
    {
     "name": "stderr",
     "output_type": "stream",
     "text": [
      "/opt/conda/envs/python3/lib/python3.9/site-packages/pandas/core/indexing.py:1676: SettingWithCopyWarning: \n",
      "A value is trying to be set on a copy of a slice from a DataFrame.\n",
      "Try using .loc[row_indexer,col_indexer] = value instead\n",
      "\n",
      "See the caveats in the documentation: https://pandas.pydata.org/pandas-docs/stable/user_guide/indexing.html#returning-a-view-versus-a-copy\n",
      "  self._setitem_single_column(ilocs[0], value, pi)\n"
     ]
    },
    {
     "data": {
      "text/html": [
       "<div>\n",
       "<style scoped>\n",
       "    .dataframe tbody tr th:only-of-type {\n",
       "        vertical-align: middle;\n",
       "    }\n",
       "\n",
       "    .dataframe tbody tr th {\n",
       "        vertical-align: top;\n",
       "    }\n",
       "\n",
       "    .dataframe thead th {\n",
       "        text-align: right;\n",
       "    }\n",
       "</style>\n",
       "<table border=\"1\" class=\"dataframe\">\n",
       "  <thead>\n",
       "    <tr style=\"text-align: right;\">\n",
       "      <th></th>\n",
       "      <th>name</th>\n",
       "      <th>character</th>\n",
       "      <th>role</th>\n",
       "      <th>title</th>\n",
       "      <th>type</th>\n",
       "      <th>release_year</th>\n",
       "      <th>genres</th>\n",
       "      <th>imdb_score</th>\n",
       "      <th>imdb_votes</th>\n",
       "    </tr>\n",
       "  </thead>\n",
       "  <tbody>\n",
       "    <tr>\n",
       "      <th>73614</th>\n",
       "      <td>Maneerat Kam-Uan</td>\n",
       "      <td>Ae</td>\n",
       "      <td>ACTOR</td>\n",
       "      <td>Let's Eat</td>\n",
       "      <td>SHOW</td>\n",
       "      <td>2021</td>\n",
       "      <td>['drama', 'comedy']</td>\n",
       "      <td>8.0</td>\n",
       "      <td>5.0</td>\n",
       "    </tr>\n",
       "    <tr>\n",
       "      <th>73615</th>\n",
       "      <td>Rudklao Amratisha</td>\n",
       "      <td>unknown</td>\n",
       "      <td>ACTOR</td>\n",
       "      <td>Let's Eat</td>\n",
       "      <td>SHOW</td>\n",
       "      <td>2021</td>\n",
       "      <td>['drama', 'comedy']</td>\n",
       "      <td>8.0</td>\n",
       "      <td>5.0</td>\n",
       "    </tr>\n",
       "    <tr>\n",
       "      <th>73616</th>\n",
       "      <td>Jaturong Mokjok</td>\n",
       "      <td>unknown</td>\n",
       "      <td>ACTOR</td>\n",
       "      <td>Let's Eat</td>\n",
       "      <td>SHOW</td>\n",
       "      <td>2021</td>\n",
       "      <td>['drama', 'comedy']</td>\n",
       "      <td>8.0</td>\n",
       "      <td>5.0</td>\n",
       "    </tr>\n",
       "    <tr>\n",
       "      <th>73617</th>\n",
       "      <td>Pisamai Wilaisak</td>\n",
       "      <td>unknown</td>\n",
       "      <td>ACTOR</td>\n",
       "      <td>Let's Eat</td>\n",
       "      <td>SHOW</td>\n",
       "      <td>2021</td>\n",
       "      <td>['drama', 'comedy']</td>\n",
       "      <td>8.0</td>\n",
       "      <td>5.0</td>\n",
       "    </tr>\n",
       "    <tr>\n",
       "      <th>73618</th>\n",
       "      <td>Sarawut Wichiensarn</td>\n",
       "      <td>unknown</td>\n",
       "      <td>DIRECTOR</td>\n",
       "      <td>Let's Eat</td>\n",
       "      <td>SHOW</td>\n",
       "      <td>2021</td>\n",
       "      <td>['drama', 'comedy']</td>\n",
       "      <td>8.0</td>\n",
       "      <td>5.0</td>\n",
       "    </tr>\n",
       "  </tbody>\n",
       "</table>\n",
       "</div>"
      ],
      "text/plain": [
       "                      name character      role      title  type  release_year  \\\n",
       "73614     Maneerat Kam-Uan        Ae     ACTOR  Let's Eat  SHOW          2021   \n",
       "73615    Rudklao Amratisha   unknown     ACTOR  Let's Eat  SHOW          2021   \n",
       "73616      Jaturong Mokjok   unknown     ACTOR  Let's Eat  SHOW          2021   \n",
       "73617     Pisamai Wilaisak   unknown     ACTOR  Let's Eat  SHOW          2021   \n",
       "73618  Sarawut Wichiensarn   unknown  DIRECTOR  Let's Eat  SHOW          2021   \n",
       "\n",
       "                    genres  imdb_score  imdb_votes  \n",
       "73614  ['drama', 'comedy']         8.0         5.0  \n",
       "73615  ['drama', 'comedy']         8.0         5.0  \n",
       "73616  ['drama', 'comedy']         8.0         5.0  \n",
       "73617  ['drama', 'comedy']         8.0         5.0  \n",
       "73618  ['drama', 'comedy']         8.0         5.0  "
      ]
     },
     "execution_count": 62,
     "metadata": {},
     "output_type": "execute_result"
    }
   ],
   "source": [
    "# rounding column with scores\n",
    "new.loc[:,'imdb_score'] = new['imdb_score'].round()\n",
    "#checking the outcome with tail()\n",
    "new.tail()"
   ]
  },
  {
   "cell_type": "markdown",
   "id": "36dbd00a",
   "metadata": {},
   "source": [
    "It is now time to identify outliers based on the number of votes."
   ]
  },
  {
   "cell_type": "code",
   "execution_count": 64,
   "id": "b8b55e95",
   "metadata": {},
   "outputs": [
    {
     "data": {
      "text/plain": [
       "imdb_score\n",
       "2.0       24\n",
       "3.0       27\n",
       "4.0      174\n",
       "5.0      581\n",
       "6.0     2365\n",
       "7.0     4313\n",
       "8.0     4182\n",
       "9.0      531\n",
       "10.0       8\n",
       "Name: name, dtype: int64"
      ]
     },
     "execution_count": 64,
     "metadata": {},
     "output_type": "execute_result"
    }
   ],
   "source": [
    "# Use groupby() for scores and count all unique values in each group, print the result\n",
    "new.groupby('imdb_score')['name'].nunique()\n"
   ]
  },
  {
   "cell_type": "markdown",
   "id": "7e73079d",
   "metadata": {},
   "source": [
    "<div class=\"alert alert-warning\">\n",
    "<b>Reviewer's comment v2</b>\n",
    "\n",
    "You can remove duplicate columns in the following way: \n",
    "    \n",
    "```\n",
    "grouped_shows = df.groupby('imdb score')['name'].count()\n",
    "```"
   ]
  },
  {
   "cell_type": "markdown",
   "id": "1ba6daae",
   "metadata": {},
   "source": [
    "Based on the aggregation performed, it is evident that scores 2 (24 voted shows), 3 (27 voted shows), and 10 (only 8 voted shows) are outliers. There isn't enough data for these scores for the average number of votes to be meaningful."
   ]
  },
  {
   "cell_type": "markdown",
   "id": "bd468c46",
   "metadata": {},
   "source": [
    "To obtain the mean numbers of votes for the selected scores (we identified a range of 4-9 as acceptable), use conditional filtering and grouping."
   ]
  },
  {
   "cell_type": "code",
   "execution_count": 65,
   "id": "d1867e0e",
   "metadata": {},
   "outputs": [
    {
     "data": {
      "text/html": [
       "<div>\n",
       "<style scoped>\n",
       "    .dataframe tbody tr th:only-of-type {\n",
       "        vertical-align: middle;\n",
       "    }\n",
       "\n",
       "    .dataframe tbody tr th {\n",
       "        vertical-align: top;\n",
       "    }\n",
       "\n",
       "    .dataframe thead th {\n",
       "        text-align: right;\n",
       "    }\n",
       "</style>\n",
       "<table border=\"1\" class=\"dataframe\">\n",
       "  <thead>\n",
       "    <tr style=\"text-align: right;\">\n",
       "      <th></th>\n",
       "      <th>imdb_score</th>\n",
       "      <th>imdb_votes</th>\n",
       "    </tr>\n",
       "  </thead>\n",
       "  <tbody>\n",
       "    <tr>\n",
       "      <th>0</th>\n",
       "      <td>4.0</td>\n",
       "      <td>5296.553073</td>\n",
       "    </tr>\n",
       "    <tr>\n",
       "      <th>1</th>\n",
       "      <td>5.0</td>\n",
       "      <td>3159.726655</td>\n",
       "    </tr>\n",
       "    <tr>\n",
       "      <th>2</th>\n",
       "      <td>6.0</td>\n",
       "      <td>3503.104966</td>\n",
       "    </tr>\n",
       "    <tr>\n",
       "      <th>3</th>\n",
       "      <td>7.0</td>\n",
       "      <td>8701.014325</td>\n",
       "    </tr>\n",
       "    <tr>\n",
       "      <th>4</th>\n",
       "      <td>8.0</td>\n",
       "      <td>30323.097856</td>\n",
       "    </tr>\n",
       "    <tr>\n",
       "      <th>5</th>\n",
       "      <td>9.0</td>\n",
       "      <td>127101.043956</td>\n",
       "    </tr>\n",
       "  </tbody>\n",
       "</table>\n",
       "</div>"
      ],
      "text/plain": [
       "   imdb_score     imdb_votes\n",
       "0         4.0    5296.553073\n",
       "1         5.0    3159.726655\n",
       "2         6.0    3503.104966\n",
       "3         7.0    8701.014325\n",
       "4         8.0   30323.097856\n",
       "5         9.0  127101.043956"
      ]
     },
     "execution_count": 65,
     "metadata": {},
     "output_type": "execute_result"
    }
   ],
   "source": [
    "# filter dataframe using two conditions (scores to be in the range 4-9)\n",
    "filter = new[(new['imdb_score'] >= 4) & (new['imdb_score'] <= 9)]\n",
    "# group scores and corresponding average number of votes, reset index and print the result\n",
    "filtered = filter.groupby('imdb_score')['imdb_votes'].mean().reset_index()\n",
    "filtered"
   ]
  },
  {
   "cell_type": "markdown",
   "id": "96a66d14",
   "metadata": {},
   "source": [
    "Now for the final step! Round the column with the averages, rename both columns, and print the dataframe in descending order."
   ]
  },
  {
   "cell_type": "code",
   "execution_count": 66,
   "id": "5999051b",
   "metadata": {},
   "outputs": [
    {
     "data": {
      "text/html": [
       "<div>\n",
       "<style scoped>\n",
       "    .dataframe tbody tr th:only-of-type {\n",
       "        vertical-align: middle;\n",
       "    }\n",
       "\n",
       "    .dataframe tbody tr th {\n",
       "        vertical-align: top;\n",
       "    }\n",
       "\n",
       "    .dataframe thead th {\n",
       "        text-align: right;\n",
       "    }\n",
       "</style>\n",
       "<table border=\"1\" class=\"dataframe\">\n",
       "  <thead>\n",
       "    <tr style=\"text-align: right;\">\n",
       "      <th></th>\n",
       "      <th>score</th>\n",
       "      <th>average_vote</th>\n",
       "    </tr>\n",
       "  </thead>\n",
       "  <tbody>\n",
       "    <tr>\n",
       "      <th>5</th>\n",
       "      <td>9.0</td>\n",
       "      <td>127101.0</td>\n",
       "    </tr>\n",
       "    <tr>\n",
       "      <th>4</th>\n",
       "      <td>8.0</td>\n",
       "      <td>30323.0</td>\n",
       "    </tr>\n",
       "    <tr>\n",
       "      <th>3</th>\n",
       "      <td>7.0</td>\n",
       "      <td>8701.0</td>\n",
       "    </tr>\n",
       "    <tr>\n",
       "      <th>0</th>\n",
       "      <td>4.0</td>\n",
       "      <td>5297.0</td>\n",
       "    </tr>\n",
       "    <tr>\n",
       "      <th>2</th>\n",
       "      <td>6.0</td>\n",
       "      <td>3503.0</td>\n",
       "    </tr>\n",
       "    <tr>\n",
       "      <th>1</th>\n",
       "      <td>5.0</td>\n",
       "      <td>3160.0</td>\n",
       "    </tr>\n",
       "  </tbody>\n",
       "</table>\n",
       "</div>"
      ],
      "text/plain": [
       "   score  average_vote\n",
       "5    9.0      127101.0\n",
       "4    8.0       30323.0\n",
       "3    7.0        8701.0\n",
       "0    4.0        5297.0\n",
       "2    6.0        3503.0\n",
       "1    5.0        3160.0"
      ]
     },
     "execution_count": 66,
     "metadata": {},
     "output_type": "execute_result"
    }
   ],
   "source": [
    "# round column with averages\n",
    "filtered['imdb_votes']=filtered['imdb_votes'].round()\n",
    "# rename columns\n",
    "filtered.columns=['score','average_vote']\n",
    "# print dataframe in descending order\n",
    "final= filtered.sort_values(by='average_vote',ascending=False)\n",
    "final"
   ]
  },
  {
   "cell_type": "markdown",
   "id": "af07386d",
   "metadata": {},
   "source": [
    "The assumption macthes the analysis: the shows with the top 3 scores have the most amounts of votes."
   ]
  },
  {
   "cell_type": "markdown",
   "id": "1c57fc06",
   "metadata": {},
   "source": [
    "<div class=\"alert alert-success\">\n",
    "<b>Reviewer's comment v2</b>\n",
    "\n",
    "Everything is correct here. "
   ]
  },
  {
   "cell_type": "markdown",
   "id": "84e29a37",
   "metadata": {},
   "source": [
    "## Conclusion <a id='hypotheses'></a>"
   ]
  },
  {
   "cell_type": "markdown",
   "id": "984766a3",
   "metadata": {},
   "source": [
    "The research done confirms that highly-rated shows released during the \"Golden Age\" of television also have the most votes. While shows with score 4 have more votes than ones with scores 5 and 6, the top three (scores 7-9) have the largest number. The data studied represents around 94% of the original set, so we can be confident in our findings."
   ]
  },
  {
   "cell_type": "markdown",
   "id": "555b7797",
   "metadata": {},
   "source": [
    "<div class=\"alert alert-success\">\n",
    "<b>Reviewer's comment v2:</b>\n",
    " \n",
    "Overall you did a great research.\n",
    "    \n",
    "A small tip regarding overall conclusion in the project: \n",
    "    It represents the overall work progress that you achieved. On a real project, this is probably the only thing the business will read. Therefore, it is crucial to indicate in a structured way all conclusions that you made on each step in the project.\n",
    "\n",
    "For example:\n",
    "\n",
    "- Replaced missing values in the following data with the following method.\n",
    "- Replaced data types in the following columns.\n",
    "- etc.\n",
    "- We observe that ... factors impact ... \n",
    "- My analysis show ...\n",
    "- I can recommend the following next steps / activities ...\n",
    "\n",
    "It is also important to provide explanations and interpretations that will be interesting for business based on your analysis.\n",
    "\n",
    "</div>"
   ]
  },
  {
   "cell_type": "code",
   "execution_count": null,
   "id": "fd3e9d0a",
   "metadata": {},
   "outputs": [],
   "source": []
  }
 ],
 "metadata": {
  "ExecuteTimeLog": [
   {
    "duration": 439,
    "start_time": "2024-08-21T05:38:38.473Z"
   },
   {
    "duration": 356,
    "start_time": "2024-08-21T05:39:00.846Z"
   },
   {
    "duration": 737,
    "start_time": "2024-08-21T05:39:32.383Z"
   },
   {
    "duration": 118,
    "start_time": "2024-08-21T05:41:14.005Z"
   },
   {
    "duration": 4,
    "start_time": "2024-08-21T05:41:22.504Z"
   },
   {
    "duration": 3,
    "start_time": "2024-08-21T05:45:02.634Z"
   },
   {
    "duration": 118,
    "start_time": "2024-08-21T05:45:05.119Z"
   },
   {
    "duration": 119,
    "start_time": "2024-08-21T05:47:05.950Z"
   },
   {
    "duration": 37,
    "start_time": "2024-08-21T05:49:26.955Z"
   },
   {
    "duration": 23,
    "start_time": "2024-08-21T05:49:56.219Z"
   },
   {
    "duration": 122,
    "start_time": "2024-08-21T05:55:42.126Z"
   },
   {
    "duration": 4,
    "start_time": "2024-08-21T05:55:58.672Z"
   },
   {
    "duration": 123,
    "start_time": "2024-08-21T05:56:30.817Z"
   },
   {
    "duration": 235,
    "start_time": "2024-08-21T05:58:37.517Z"
   },
   {
    "duration": 194,
    "start_time": "2024-08-21T05:58:39.176Z"
   },
   {
    "duration": 3,
    "start_time": "2024-08-21T06:02:29.143Z"
   },
   {
    "duration": 205,
    "start_time": "2024-08-21T06:02:31.568Z"
   },
   {
    "duration": 29,
    "start_time": "2024-08-21T06:02:46.952Z"
   },
   {
    "duration": 18,
    "start_time": "2024-08-21T06:02:59.877Z"
   },
   {
    "duration": 15,
    "start_time": "2024-08-21T06:03:32.861Z"
   },
   {
    "duration": 35,
    "start_time": "2024-08-21T06:03:47.227Z"
   },
   {
    "duration": 19,
    "start_time": "2024-08-21T06:10:08.092Z"
   },
   {
    "duration": 7,
    "start_time": "2024-08-21T06:12:41.930Z"
   },
   {
    "duration": 18,
    "start_time": "2024-08-21T06:12:49.897Z"
   },
   {
    "duration": 6,
    "start_time": "2024-08-21T06:27:18.349Z"
   },
   {
    "duration": 7,
    "start_time": "2024-08-21T06:27:29.401Z"
   },
   {
    "duration": 24,
    "start_time": "2024-08-21T06:30:11.107Z"
   },
   {
    "duration": 7,
    "start_time": "2024-08-21T06:30:26.209Z"
   },
   {
    "duration": 7,
    "start_time": "2024-08-21T06:47:18.232Z"
   },
   {
    "duration": 65,
    "start_time": "2024-08-21T06:47:21.373Z"
   },
   {
    "duration": 5,
    "start_time": "2024-08-21T06:56:11.234Z"
   },
   {
    "duration": 25,
    "start_time": "2024-08-21T06:56:14.377Z"
   },
   {
    "duration": 7,
    "start_time": "2024-08-21T06:56:46.612Z"
   },
   {
    "duration": 8,
    "start_time": "2024-08-21T07:00:16.442Z"
   },
   {
    "duration": 9,
    "start_time": "2024-08-21T07:00:35.717Z"
   },
   {
    "duration": 29,
    "start_time": "2024-08-21T07:01:26.197Z"
   },
   {
    "duration": 28,
    "start_time": "2024-08-21T07:01:30.651Z"
   },
   {
    "duration": 26,
    "start_time": "2024-08-21T07:01:49.247Z"
   },
   {
    "duration": 39,
    "start_time": "2024-08-21T07:06:40.554Z"
   },
   {
    "duration": 107,
    "start_time": "2024-08-21T07:07:08.727Z"
   },
   {
    "duration": 118,
    "start_time": "2024-08-21T07:07:17.867Z"
   },
   {
    "duration": 9,
    "start_time": "2024-08-21T07:07:25.722Z"
   },
   {
    "duration": 102,
    "start_time": "2024-08-21T07:07:34.623Z"
   },
   {
    "duration": 29,
    "start_time": "2024-08-21T07:09:34.753Z"
   },
   {
    "duration": 98,
    "start_time": "2024-08-21T07:09:46.084Z"
   },
   {
    "duration": 8,
    "start_time": "2024-08-21T07:09:50.074Z"
   },
   {
    "duration": 97,
    "start_time": "2024-08-21T07:11:09.291Z"
   },
   {
    "duration": 308,
    "start_time": "2024-08-21T23:50:59.743Z"
   },
   {
    "duration": 23,
    "start_time": "2024-08-21T23:51:14.228Z"
   },
   {
    "duration": 24,
    "start_time": "2024-08-21T23:51:28.685Z"
   },
   {
    "duration": 20,
    "start_time": "2024-08-21T23:51:49.955Z"
   },
   {
    "duration": 21,
    "start_time": "2024-08-21T23:53:01.532Z"
   },
   {
    "duration": 20,
    "start_time": "2024-08-21T23:53:08.556Z"
   },
   {
    "duration": 455,
    "start_time": "2024-08-22T00:01:32.908Z"
   },
   {
    "duration": 284,
    "start_time": "2024-08-22T00:01:34.673Z"
   },
   {
    "duration": 196,
    "start_time": "2024-08-22T00:01:39.658Z"
   },
   {
    "duration": 31,
    "start_time": "2024-08-22T00:01:43.404Z"
   },
   {
    "duration": 37,
    "start_time": "2024-08-22T00:01:46.592Z"
   },
   {
    "duration": 75,
    "start_time": "2024-08-22T00:01:56.356Z"
   },
   {
    "duration": 7,
    "start_time": "2024-08-22T00:02:01.540Z"
   },
   {
    "duration": 22,
    "start_time": "2024-08-22T00:07:32.146Z"
   },
   {
    "duration": 6,
    "start_time": "2024-08-22T00:09:41.478Z"
   },
   {
    "duration": 3,
    "start_time": "2024-08-22T00:10:06.656Z"
   },
   {
    "duration": 202,
    "start_time": "2024-08-22T00:10:07.714Z"
   },
   {
    "duration": 18,
    "start_time": "2024-08-22T00:10:09.028Z"
   },
   {
    "duration": 34,
    "start_time": "2024-08-22T00:10:12.191Z"
   },
   {
    "duration": 5,
    "start_time": "2024-08-22T00:10:15.347Z"
   },
   {
    "duration": 8,
    "start_time": "2024-08-22T00:10:23.199Z"
   },
   {
    "duration": 5,
    "start_time": "2024-08-22T00:10:36.252Z"
   },
   {
    "duration": 8,
    "start_time": "2024-08-22T00:10:41.357Z"
   },
   {
    "duration": 6,
    "start_time": "2024-08-22T00:10:44.337Z"
   },
   {
    "duration": 5,
    "start_time": "2024-08-22T00:10:57.782Z"
   },
   {
    "duration": 5,
    "start_time": "2024-08-22T00:11:00.714Z"
   },
   {
    "duration": 8,
    "start_time": "2024-08-22T00:11:02.745Z"
   },
   {
    "duration": 6,
    "start_time": "2024-08-22T00:11:41.525Z"
   },
   {
    "duration": 35,
    "start_time": "2024-08-22T00:13:12.669Z"
   },
   {
    "duration": 42,
    "start_time": "2024-08-22T00:14:42.196Z"
   },
   {
    "duration": 35,
    "start_time": "2024-08-22T00:15:04.341Z"
   },
   {
    "duration": 83,
    "start_time": "2024-08-22T00:15:52.777Z"
   },
   {
    "duration": 94,
    "start_time": "2024-08-22T00:17:00.953Z"
   },
   {
    "duration": 101,
    "start_time": "2024-08-22T00:17:18.352Z"
   },
   {
    "duration": 105,
    "start_time": "2024-08-22T00:19:04.823Z"
   },
   {
    "duration": 77,
    "start_time": "2024-08-22T00:19:41.176Z"
   },
   {
    "duration": 85,
    "start_time": "2024-08-22T00:19:53.705Z"
   },
   {
    "duration": 73,
    "start_time": "2024-08-22T00:19:57.183Z"
   },
   {
    "duration": 66,
    "start_time": "2024-08-22T00:20:11.243Z"
   },
   {
    "duration": 72,
    "start_time": "2024-08-22T00:20:19.635Z"
   },
   {
    "duration": 73,
    "start_time": "2024-08-22T00:20:20.972Z"
   },
   {
    "duration": 10,
    "start_time": "2024-08-22T00:24:22.225Z"
   },
   {
    "duration": 11,
    "start_time": "2024-08-22T00:24:43.256Z"
   },
   {
    "duration": 9,
    "start_time": "2024-08-22T00:24:49.390Z"
   },
   {
    "duration": 12,
    "start_time": "2024-08-22T00:25:38.705Z"
   },
   {
    "duration": 4,
    "start_time": "2024-08-22T00:28:57.299Z"
   },
   {
    "duration": 7,
    "start_time": "2024-08-22T00:29:51.115Z"
   },
   {
    "duration": 11,
    "start_time": "2024-08-22T00:30:55.082Z"
   },
   {
    "duration": 5,
    "start_time": "2024-08-22T00:31:05.264Z"
   },
   {
    "duration": 5,
    "start_time": "2024-08-22T00:34:28.197Z"
   },
   {
    "duration": 6,
    "start_time": "2024-08-22T00:37:21.183Z"
   },
   {
    "duration": 4,
    "start_time": "2024-08-22T00:37:28.897Z"
   },
   {
    "duration": 5,
    "start_time": "2024-08-22T00:39:30.275Z"
   },
   {
    "duration": 21,
    "start_time": "2024-08-22T00:40:19.969Z"
   },
   {
    "duration": 4,
    "start_time": "2024-08-22T00:40:54.427Z"
   },
   {
    "duration": 21,
    "start_time": "2024-08-22T00:40:56.486Z"
   },
   {
    "duration": 6,
    "start_time": "2024-08-22T00:41:05.867Z"
   },
   {
    "duration": 298,
    "start_time": "2024-08-22T00:41:07.164Z"
   },
   {
    "duration": 298,
    "start_time": "2024-08-22T00:42:07.132Z"
   },
   {
    "duration": 298,
    "start_time": "2024-08-22T00:43:24.820Z"
   },
   {
    "duration": 290,
    "start_time": "2024-08-22T00:43:28.622Z"
   },
   {
    "duration": 10,
    "start_time": "2024-08-22T00:43:51.471Z"
   },
   {
    "duration": 4,
    "start_time": "2024-08-22T00:45:50.017Z"
   },
   {
    "duration": 295,
    "start_time": "2024-08-22T00:45:51.383Z"
   },
   {
    "duration": 19,
    "start_time": "2024-08-22T00:45:52.899Z"
   },
   {
    "duration": 39,
    "start_time": "2024-08-22T02:29:14.818Z"
   },
   {
    "duration": 29,
    "start_time": "2024-08-22T02:29:38.229Z"
   },
   {
    "duration": 36,
    "start_time": "2024-08-22T02:29:42.491Z"
   },
   {
    "duration": 15,
    "start_time": "2024-08-22T02:30:08.628Z"
   },
   {
    "duration": 15,
    "start_time": "2024-08-22T02:30:16.862Z"
   },
   {
    "duration": 21,
    "start_time": "2024-08-22T02:33:18.773Z"
   },
   {
    "duration": 12,
    "start_time": "2024-08-22T02:33:34.854Z"
   },
   {
    "duration": 23,
    "start_time": "2024-08-22T02:33:35.722Z"
   },
   {
    "duration": 1378,
    "start_time": "2024-08-22T02:35:57.502Z"
   },
   {
    "duration": 57,
    "start_time": "2024-08-22T02:36:16.799Z"
   },
   {
    "duration": 8,
    "start_time": "2024-08-22T02:39:39.607Z"
   },
   {
    "duration": 16,
    "start_time": "2024-08-22T02:40:09.003Z"
   },
   {
    "duration": 16,
    "start_time": "2024-08-22T02:40:13.059Z"
   },
   {
    "duration": 15,
    "start_time": "2024-08-22T02:40:16.130Z"
   },
   {
    "duration": 18,
    "start_time": "2024-08-22T02:40:51.314Z"
   },
   {
    "duration": 16,
    "start_time": "2024-08-22T02:40:59.093Z"
   },
   {
    "duration": 15,
    "start_time": "2024-08-22T02:41:21.380Z"
   },
   {
    "duration": 30,
    "start_time": "2024-08-22T02:41:59.415Z"
   },
   {
    "duration": 54,
    "start_time": "2024-08-22T02:42:17.077Z"
   },
   {
    "duration": 31,
    "start_time": "2024-08-22T02:42:23.754Z"
   },
   {
    "duration": 54,
    "start_time": "2024-08-22T02:42:26.415Z"
   },
   {
    "duration": 14,
    "start_time": "2024-08-22T02:43:06.513Z"
   },
   {
    "duration": 56,
    "start_time": "2024-08-22T02:43:11.024Z"
   },
   {
    "duration": 55,
    "start_time": "2024-08-22T02:43:37.368Z"
   },
   {
    "duration": 15,
    "start_time": "2024-08-22T02:43:48.206Z"
   },
   {
    "duration": 16,
    "start_time": "2024-08-22T02:44:17.242Z"
   },
   {
    "duration": 15,
    "start_time": "2024-08-22T02:44:33.744Z"
   },
   {
    "duration": 59,
    "start_time": "2024-08-22T02:44:36.056Z"
   },
   {
    "duration": 20,
    "start_time": "2024-08-22T02:44:42.746Z"
   },
   {
    "duration": 45,
    "start_time": "2024-08-22T02:45:00.147Z"
   },
   {
    "duration": 18,
    "start_time": "2024-08-22T02:45:28.403Z"
   },
   {
    "duration": 19,
    "start_time": "2024-08-22T02:45:33.078Z"
   },
   {
    "duration": 38,
    "start_time": "2024-08-22T02:46:38.740Z"
   },
   {
    "duration": 36,
    "start_time": "2024-08-22T02:46:44.083Z"
   },
   {
    "duration": 57,
    "start_time": "2024-08-22T02:46:52.555Z"
   },
   {
    "duration": 36,
    "start_time": "2024-08-22T02:46:59.367Z"
   },
   {
    "duration": 17,
    "start_time": "2024-08-22T02:47:05.856Z"
   },
   {
    "duration": 656,
    "start_time": "2024-08-22T02:49:45.213Z"
   },
   {
    "duration": 80,
    "start_time": "2024-08-22T02:49:51.192Z"
   },
   {
    "duration": 8,
    "start_time": "2024-08-22T02:50:13.394Z"
   },
   {
    "duration": 20,
    "start_time": "2024-08-22T02:50:23.393Z"
   },
   {
    "duration": 6,
    "start_time": "2024-08-22T02:50:26.099Z"
   },
   {
    "duration": 39,
    "start_time": "2024-08-22T02:50:50.973Z"
   },
   {
    "duration": 6,
    "start_time": "2024-08-22T02:57:33.894Z"
   },
   {
    "duration": 26,
    "start_time": "2024-08-22T02:57:47.734Z"
   },
   {
    "duration": 11,
    "start_time": "2024-08-22T02:58:01.356Z"
   },
   {
    "duration": 20,
    "start_time": "2024-08-22T02:58:54.546Z"
   },
   {
    "duration": 11,
    "start_time": "2024-08-22T02:59:09.912Z"
   },
   {
    "duration": 31,
    "start_time": "2024-08-22T02:59:56.541Z"
   },
   {
    "duration": 14,
    "start_time": "2024-08-22T03:00:45.171Z"
   },
   {
    "duration": 19,
    "start_time": "2024-08-22T03:01:33.006Z"
   },
   {
    "duration": 27,
    "start_time": "2024-08-22T03:02:08.063Z"
   },
   {
    "duration": 9,
    "start_time": "2024-08-22T03:02:19.002Z"
   },
   {
    "duration": 18,
    "start_time": "2024-08-22T03:02:22.336Z"
   },
   {
    "duration": 16,
    "start_time": "2024-08-22T03:03:11.704Z"
   },
   {
    "duration": 17,
    "start_time": "2024-08-22T03:03:59.454Z"
   },
   {
    "duration": 8,
    "start_time": "2024-08-22T03:04:04.042Z"
   },
   {
    "duration": 25,
    "start_time": "2024-08-22T03:04:10.565Z"
   },
   {
    "duration": 12,
    "start_time": "2024-08-22T03:06:18.321Z"
   },
   {
    "duration": 12,
    "start_time": "2024-08-22T03:06:31.766Z"
   },
   {
    "duration": 22,
    "start_time": "2024-08-22T03:06:36.442Z"
   },
   {
    "duration": 13,
    "start_time": "2024-08-22T03:13:49.443Z"
   },
   {
    "duration": 38,
    "start_time": "2024-08-22T03:14:45.629Z"
   },
   {
    "duration": 45,
    "start_time": "2024-08-22T03:14:49.987Z"
   },
   {
    "duration": 37,
    "start_time": "2024-08-22T03:15:06.318Z"
   },
   {
    "duration": 18,
    "start_time": "2024-08-22T03:15:53.930Z"
   },
   {
    "duration": 17,
    "start_time": "2024-08-22T03:16:01.097Z"
   },
   {
    "duration": 16,
    "start_time": "2024-08-22T03:16:51.688Z"
   },
   {
    "duration": 12,
    "start_time": "2024-08-22T03:17:15.136Z"
   },
   {
    "duration": 15,
    "start_time": "2024-08-22T03:17:23.601Z"
   },
   {
    "duration": 117,
    "start_time": "2024-08-22T03:19:04.307Z"
   },
   {
    "duration": 73,
    "start_time": "2024-08-22T03:19:34.860Z"
   },
   {
    "duration": 12,
    "start_time": "2024-08-22T03:19:45.298Z"
   },
   {
    "duration": 43,
    "start_time": "2024-08-22T03:19:47.506Z"
   },
   {
    "duration": 16,
    "start_time": "2024-08-22T03:19:49.449Z"
   },
   {
    "duration": 39,
    "start_time": "2024-08-22T03:19:52.412Z"
   },
   {
    "duration": 17,
    "start_time": "2024-08-22T03:19:56.940Z"
   },
   {
    "duration": 5,
    "start_time": "2024-08-22T03:20:03.133Z"
   },
   {
    "duration": 73,
    "start_time": "2024-08-22T03:20:16.813Z"
   },
   {
    "duration": 10,
    "start_time": "2024-08-22T03:20:36.770Z"
   },
   {
    "duration": 12,
    "start_time": "2024-08-22T03:20:40.568Z"
   },
   {
    "duration": 32,
    "start_time": "2024-08-22T03:20:45.764Z"
   },
   {
    "duration": 44,
    "start_time": "2024-08-22T03:20:50.943Z"
   },
   {
    "duration": 54,
    "start_time": "2024-08-22T03:20:54.680Z"
   },
   {
    "duration": 16,
    "start_time": "2024-08-22T03:21:09.263Z"
   },
   {
    "duration": 38,
    "start_time": "2024-08-22T03:21:15.842Z"
   },
   {
    "duration": 18,
    "start_time": "2024-08-22T03:21:22.834Z"
   },
   {
    "duration": 11,
    "start_time": "2024-08-22T03:21:29.225Z"
   },
   {
    "duration": 75,
    "start_time": "2024-08-22T03:22:28.061Z"
   },
   {
    "duration": 78,
    "start_time": "2024-08-22T03:22:32.800Z"
   },
   {
    "duration": 73,
    "start_time": "2024-08-22T03:22:40.928Z"
   },
   {
    "duration": 18,
    "start_time": "2024-08-22T03:22:44.679Z"
   },
   {
    "duration": 11,
    "start_time": "2024-08-22T03:22:48.468Z"
   },
   {
    "duration": 74,
    "start_time": "2024-08-22T03:22:53.701Z"
   },
   {
    "duration": 75,
    "start_time": "2024-08-22T03:22:57.814Z"
   },
   {
    "duration": 17,
    "start_time": "2024-08-22T03:23:01.053Z"
   },
   {
    "duration": 12,
    "start_time": "2024-08-22T03:23:07.425Z"
   },
   {
    "duration": 5,
    "start_time": "2024-08-22T03:25:21.615Z"
   },
   {
    "duration": 74,
    "start_time": "2024-08-22T03:25:29.362Z"
   },
   {
    "duration": 74,
    "start_time": "2024-08-22T03:26:06.026Z"
   },
   {
    "duration": 75,
    "start_time": "2024-08-22T03:26:10.512Z"
   },
   {
    "duration": 74,
    "start_time": "2024-08-22T03:26:13.452Z"
   },
   {
    "duration": 16,
    "start_time": "2024-08-22T03:26:20.297Z"
   },
   {
    "duration": 20,
    "start_time": "2024-08-22T03:27:01.110Z"
   },
   {
    "duration": 17,
    "start_time": "2024-08-22T03:27:09.682Z"
   },
   {
    "duration": 5,
    "start_time": "2024-08-22T03:27:12.149Z"
   },
   {
    "duration": 75,
    "start_time": "2024-08-22T03:27:17.226Z"
   },
   {
    "duration": 74,
    "start_time": "2024-08-22T03:28:28.482Z"
   },
   {
    "duration": 17,
    "start_time": "2024-08-22T03:28:31.285Z"
   },
   {
    "duration": 7,
    "start_time": "2024-08-22T03:28:33.884Z"
   },
   {
    "duration": 73,
    "start_time": "2024-08-22T03:28:57.719Z"
   },
   {
    "duration": 82,
    "start_time": "2024-08-22T03:29:02.854Z"
   },
   {
    "duration": 17,
    "start_time": "2024-08-22T03:29:05.845Z"
   },
   {
    "duration": 4,
    "start_time": "2024-08-22T03:29:09.075Z"
   },
   {
    "duration": 74,
    "start_time": "2024-08-22T03:33:15.141Z"
   },
   {
    "duration": 17,
    "start_time": "2024-08-22T03:33:18.695Z"
   },
   {
    "duration": 6,
    "start_time": "2024-08-22T03:33:21.060Z"
   },
   {
    "duration": 17,
    "start_time": "2024-08-22T03:33:27.742Z"
   },
   {
    "duration": 28,
    "start_time": "2024-08-22T03:35:34.022Z"
   },
   {
    "duration": 73,
    "start_time": "2024-08-22T03:36:42.135Z"
   },
   {
    "duration": 85,
    "start_time": "2024-08-22T03:37:54.780Z"
   },
   {
    "duration": 18,
    "start_time": "2024-08-22T03:37:57.672Z"
   },
   {
    "duration": 13,
    "start_time": "2024-08-22T03:38:00.595Z"
   },
   {
    "duration": 472,
    "start_time": "2024-08-22T11:42:52.511Z"
   },
   {
    "duration": 203,
    "start_time": "2024-08-22T11:42:52.986Z"
   },
   {
    "duration": 37,
    "start_time": "2024-08-22T11:42:53.191Z"
   },
   {
    "duration": 36,
    "start_time": "2024-08-22T11:42:53.232Z"
   },
   {
    "duration": 9,
    "start_time": "2024-08-22T11:42:53.271Z"
   },
   {
    "duration": 40,
    "start_time": "2024-08-22T11:42:53.283Z"
   },
   {
    "duration": 7,
    "start_time": "2024-08-22T11:42:53.326Z"
   },
   {
    "duration": 30,
    "start_time": "2024-08-22T11:42:53.337Z"
   },
   {
    "duration": 68,
    "start_time": "2024-08-22T11:42:53.370Z"
   },
   {
    "duration": 29,
    "start_time": "2024-08-22T11:42:53.444Z"
   },
   {
    "duration": 102,
    "start_time": "2024-08-22T11:42:53.477Z"
   },
   {
    "duration": 87,
    "start_time": "2024-08-22T11:42:53.581Z"
   },
   {
    "duration": 94,
    "start_time": "2024-08-22T11:42:53.670Z"
   },
   {
    "duration": 76,
    "start_time": "2024-08-22T11:42:53.767Z"
   },
   {
    "duration": 10,
    "start_time": "2024-08-22T11:42:53.846Z"
   },
   {
    "duration": 5,
    "start_time": "2024-08-22T11:42:53.859Z"
   },
   {
    "duration": 365,
    "start_time": "2024-08-22T11:42:53.866Z"
   },
   {
    "duration": 0,
    "start_time": "2024-08-22T11:42:54.233Z"
   },
   {
    "duration": 0,
    "start_time": "2024-08-22T11:42:54.235Z"
   },
   {
    "duration": 0,
    "start_time": "2024-08-22T11:42:54.237Z"
   },
   {
    "duration": 0,
    "start_time": "2024-08-22T11:42:54.238Z"
   },
   {
    "duration": 0,
    "start_time": "2024-08-22T11:42:54.242Z"
   },
   {
    "duration": 0,
    "start_time": "2024-08-22T11:42:54.244Z"
   },
   {
    "duration": 0,
    "start_time": "2024-08-22T11:42:54.247Z"
   },
   {
    "duration": 310,
    "start_time": "2024-08-23T06:38:10.206Z"
   },
   {
    "duration": 20,
    "start_time": "2024-08-23T06:38:17.174Z"
   },
   {
    "duration": 439,
    "start_time": "2024-08-23T06:38:27.467Z"
   },
   {
    "duration": 243,
    "start_time": "2024-08-23T06:38:28.661Z"
   },
   {
    "duration": 24,
    "start_time": "2024-08-23T06:38:30.879Z"
   },
   {
    "duration": 35,
    "start_time": "2024-08-23T06:38:34.333Z"
   },
   {
    "duration": 6,
    "start_time": "2024-08-23T06:38:38.016Z"
   },
   {
    "duration": 5,
    "start_time": "2024-08-23T06:38:40.295Z"
   },
   {
    "duration": 6,
    "start_time": "2024-08-23T06:38:43.069Z"
   },
   {
    "duration": 31,
    "start_time": "2024-08-23T06:38:46.715Z"
   },
   {
    "duration": 30,
    "start_time": "2024-08-23T06:39:31.681Z"
   },
   {
    "duration": 37,
    "start_time": "2024-08-23T06:39:34.305Z"
   },
   {
    "duration": 28,
    "start_time": "2024-08-23T06:39:37.146Z"
   },
   {
    "duration": 79,
    "start_time": "2024-08-23T06:39:40.561Z"
   },
   {
    "duration": 74,
    "start_time": "2024-08-23T06:40:26.997Z"
   },
   {
    "duration": 76,
    "start_time": "2024-08-23T06:40:45.035Z"
   },
   {
    "duration": 85,
    "start_time": "2024-08-23T06:42:49.314Z"
   },
   {
    "duration": 100,
    "start_time": "2024-08-23T06:43:49.830Z"
   },
   {
    "duration": 85,
    "start_time": "2024-08-23T06:43:53.947Z"
   },
   {
    "duration": 29,
    "start_time": "2024-08-23T06:44:08.361Z"
   },
   {
    "duration": 73,
    "start_time": "2024-08-23T06:44:11.931Z"
   },
   {
    "duration": 4,
    "start_time": "2024-08-23T06:44:25.058Z"
   },
   {
    "duration": 215,
    "start_time": "2024-08-23T06:44:26.210Z"
   },
   {
    "duration": 18,
    "start_time": "2024-08-23T06:44:28.957Z"
   },
   {
    "duration": 39,
    "start_time": "2024-08-23T06:44:30.252Z"
   },
   {
    "duration": 7,
    "start_time": "2024-08-23T06:44:34.588Z"
   },
   {
    "duration": 5,
    "start_time": "2024-08-23T06:44:35.932Z"
   },
   {
    "duration": 7,
    "start_time": "2024-08-23T06:44:36.719Z"
   },
   {
    "duration": 29,
    "start_time": "2024-08-23T06:44:37.845Z"
   },
   {
    "duration": 42,
    "start_time": "2024-08-23T06:44:38.996Z"
   },
   {
    "duration": 28,
    "start_time": "2024-08-23T06:44:39.821Z"
   },
   {
    "duration": 83,
    "start_time": "2024-08-23T06:44:53.953Z"
   },
   {
    "duration": 80,
    "start_time": "2024-08-23T06:45:01.555Z"
   },
   {
    "duration": 83,
    "start_time": "2024-08-23T06:45:35.369Z"
   },
   {
    "duration": 70,
    "start_time": "2024-08-23T06:45:38.656Z"
   },
   {
    "duration": 11,
    "start_time": "2024-08-23T06:45:54.735Z"
   },
   {
    "duration": 5,
    "start_time": "2024-08-23T06:45:57.511Z"
   },
   {
    "duration": 57,
    "start_time": "2024-08-23T06:45:59.954Z"
   },
   {
    "duration": 287,
    "start_time": "2024-08-23T06:46:22.517Z"
   },
   {
    "duration": 11,
    "start_time": "2024-08-23T06:46:32.177Z"
   },
   {
    "duration": 30,
    "start_time": "2024-08-23T06:46:44.656Z"
   },
   {
    "duration": 62,
    "start_time": "2024-08-23T06:46:48.129Z"
   },
   {
    "duration": 20,
    "start_time": "2024-08-23T06:46:55.842Z"
   },
   {
    "duration": 18,
    "start_time": "2024-08-23T06:47:12.590Z"
   },
   {
    "duration": 291,
    "start_time": "2024-08-23T06:47:53.132Z"
   },
   {
    "duration": 12,
    "start_time": "2024-08-23T06:47:56.419Z"
   },
   {
    "duration": 29,
    "start_time": "2024-08-23T06:48:05.449Z"
   },
   {
    "duration": 67,
    "start_time": "2024-08-23T06:48:06.918Z"
   },
   {
    "duration": 24,
    "start_time": "2024-08-23T06:49:21.450Z"
   },
   {
    "duration": 19,
    "start_time": "2024-08-23T06:50:56.506Z"
   },
   {
    "duration": 7,
    "start_time": "2024-08-23T06:51:08.380Z"
   },
   {
    "duration": 34,
    "start_time": "2024-08-23T06:51:21.421Z"
   },
   {
    "duration": 28,
    "start_time": "2024-08-23T06:52:28.344Z"
   },
   {
    "duration": 55,
    "start_time": "2024-08-23T06:57:44.477Z"
   },
   {
    "duration": 8,
    "start_time": "2024-08-23T07:03:03.571Z"
   },
   {
    "duration": 1098,
    "start_time": "2024-08-23T07:03:08.354Z"
   },
   {
    "duration": 171,
    "start_time": "2024-08-23T07:03:43.337Z"
   },
   {
    "duration": 7,
    "start_time": "2024-08-23T07:05:34.709Z"
   },
   {
    "duration": 8,
    "start_time": "2024-08-23T07:05:39.373Z"
   },
   {
    "duration": 267,
    "start_time": "2024-08-23T07:06:02.116Z"
   },
   {
    "duration": 39,
    "start_time": "2024-08-23T07:06:12.081Z"
   },
   {
    "duration": 11,
    "start_time": "2024-08-23T07:06:20.899Z"
   },
   {
    "duration": 30,
    "start_time": "2024-08-23T07:06:25.178Z"
   },
   {
    "duration": 56,
    "start_time": "2024-08-23T07:06:26.566Z"
   },
   {
    "duration": 104,
    "start_time": "2024-08-23T07:07:08.516Z"
   },
   {
    "duration": 118,
    "start_time": "2024-08-23T07:07:50.471Z"
   },
   {
    "duration": 36,
    "start_time": "2024-08-23T07:08:08.020Z"
   },
   {
    "duration": 27,
    "start_time": "2024-08-23T07:08:23.819Z"
   },
   {
    "duration": 53,
    "start_time": "2024-08-23T07:09:31.856Z"
   },
   {
    "duration": 27,
    "start_time": "2024-08-23T07:09:36.133Z"
   },
   {
    "duration": 23,
    "start_time": "2024-08-23T07:09:59.783Z"
   },
   {
    "duration": 24,
    "start_time": "2024-08-23T07:10:32.559Z"
   },
   {
    "duration": 24,
    "start_time": "2024-08-23T07:10:50.500Z"
   },
   {
    "duration": 22,
    "start_time": "2024-08-23T07:11:17.542Z"
   },
   {
    "duration": 54,
    "start_time": "2024-08-23T07:11:23.701Z"
   },
   {
    "duration": 20,
    "start_time": "2024-08-23T07:11:46.665Z"
   },
   {
    "duration": 9,
    "start_time": "2024-08-23T07:12:11.853Z"
   },
   {
    "duration": 132,
    "start_time": "2024-08-23T07:12:30.522Z"
   },
   {
    "duration": 8,
    "start_time": "2024-08-23T07:12:35.776Z"
   },
   {
    "duration": 310,
    "start_time": "2024-08-23T07:12:51.368Z"
   },
   {
    "duration": 52,
    "start_time": "2024-08-23T07:18:01.797Z"
   },
   {
    "duration": 38,
    "start_time": "2024-08-23T07:18:08.550Z"
   },
   {
    "duration": 30,
    "start_time": "2024-08-23T07:18:11.475Z"
   },
   {
    "duration": 56,
    "start_time": "2024-08-23T07:18:13.599Z"
   },
   {
    "duration": 104,
    "start_time": "2024-08-23T07:19:22.668Z"
   },
   {
    "duration": 5,
    "start_time": "2024-08-23T07:19:31.199Z"
   },
   {
    "duration": 185,
    "start_time": "2024-08-23T07:19:37.694Z"
   },
   {
    "duration": 105,
    "start_time": "2024-08-23T07:19:46.605Z"
   },
   {
    "duration": 31,
    "start_time": "2024-08-23T07:20:47.584Z"
   },
   {
    "duration": 83,
    "start_time": "2024-08-23T07:21:25.325Z"
   },
   {
    "duration": 29,
    "start_time": "2024-08-23T07:24:08.262Z"
   },
   {
    "duration": 56,
    "start_time": "2024-08-23T07:24:09.913Z"
   },
   {
    "duration": 105,
    "start_time": "2024-08-23T07:27:20.723Z"
   },
   {
    "duration": 18,
    "start_time": "2024-08-23T07:27:38.067Z"
   },
   {
    "duration": 18,
    "start_time": "2024-08-23T07:28:52.422Z"
   },
   {
    "duration": 20,
    "start_time": "2024-08-23T07:29:37.637Z"
   },
   {
    "duration": 8,
    "start_time": "2024-08-23T07:29:47.131Z"
   },
   {
    "duration": 79,
    "start_time": "2024-08-23T07:30:01.229Z"
   },
   {
    "duration": 6,
    "start_time": "2024-08-23T07:32:02.567Z"
   },
   {
    "duration": 29,
    "start_time": "2024-08-23T07:32:06.194Z"
   },
   {
    "duration": 77,
    "start_time": "2024-08-23T07:32:21.187Z"
   },
   {
    "duration": 38,
    "start_time": "2024-08-23T07:32:29.997Z"
   },
   {
    "duration": 30,
    "start_time": "2024-08-23T07:32:35.566Z"
   },
   {
    "duration": 58,
    "start_time": "2024-08-23T07:32:38.674Z"
   },
   {
    "duration": 77,
    "start_time": "2024-08-23T07:33:07.689Z"
   },
   {
    "duration": 17,
    "start_time": "2024-08-23T07:35:01.547Z"
   },
   {
    "duration": 16,
    "start_time": "2024-08-23T07:35:07.524Z"
   },
   {
    "duration": 6,
    "start_time": "2024-08-23T07:35:42.406Z"
   },
   {
    "duration": 24,
    "start_time": "2024-08-23T07:35:46.508Z"
   },
   {
    "duration": 76,
    "start_time": "2024-08-23T07:35:58.719Z"
   },
   {
    "duration": 76,
    "start_time": "2024-08-23T07:36:52.857Z"
   },
   {
    "duration": 161,
    "start_time": "2024-08-23T07:37:36.300Z"
   },
   {
    "duration": 100,
    "start_time": "2024-08-23T07:37:49.292Z"
   },
   {
    "duration": 8,
    "start_time": "2024-08-23T07:37:58.166Z"
   },
   {
    "duration": 12,
    "start_time": "2024-08-23T07:39:08.410Z"
   },
   {
    "duration": 80,
    "start_time": "2024-08-23T07:39:11.959Z"
   },
   {
    "duration": 80,
    "start_time": "2024-08-23T07:39:27.535Z"
   },
   {
    "duration": 84,
    "start_time": "2024-08-23T07:39:38.079Z"
   },
   {
    "duration": 120,
    "start_time": "2024-08-23T07:39:55.637Z"
   },
   {
    "duration": 128,
    "start_time": "2024-08-23T07:40:07.778Z"
   },
   {
    "duration": 21,
    "start_time": "2024-08-23T07:41:45.504Z"
   },
   {
    "duration": 43,
    "start_time": "2024-08-23T07:41:58.196Z"
   },
   {
    "duration": 30,
    "start_time": "2024-08-23T07:42:02.940Z"
   },
   {
    "duration": 56,
    "start_time": "2024-08-23T07:42:03.887Z"
   },
   {
    "duration": 16,
    "start_time": "2024-08-23T07:42:05.577Z"
   },
   {
    "duration": 129,
    "start_time": "2024-08-23T07:42:08.780Z"
   },
   {
    "duration": 24,
    "start_time": "2024-08-23T07:42:20.717Z"
   },
   {
    "duration": 16,
    "start_time": "2024-08-23T07:43:04.066Z"
   },
   {
    "duration": 19,
    "start_time": "2024-08-23T07:43:08.101Z"
   },
   {
    "duration": 7,
    "start_time": "2024-08-23T07:43:28.960Z"
   },
   {
    "duration": 125,
    "start_time": "2024-08-23T07:43:40.846Z"
   },
   {
    "duration": 78,
    "start_time": "2024-08-23T07:44:40.839Z"
   },
   {
    "duration": 122,
    "start_time": "2024-08-23T07:44:44.534Z"
   },
   {
    "duration": 93,
    "start_time": "2024-08-23T07:44:48.500Z"
   },
   {
    "duration": 39,
    "start_time": "2024-08-23T07:44:55.016Z"
   },
   {
    "duration": 31,
    "start_time": "2024-08-23T07:45:03.105Z"
   },
   {
    "duration": 55,
    "start_time": "2024-08-23T07:45:03.968Z"
   },
   {
    "duration": 9,
    "start_time": "2024-08-23T07:45:05.700Z"
   },
   {
    "duration": 137,
    "start_time": "2024-08-23T07:45:09.198Z"
   },
   {
    "duration": 77,
    "start_time": "2024-08-23T07:45:12.522Z"
   },
   {
    "duration": 30,
    "start_time": "2024-08-23T07:45:49.756Z"
   },
   {
    "duration": 55,
    "start_time": "2024-08-23T07:45:50.460Z"
   },
   {
    "duration": 8,
    "start_time": "2024-08-23T07:45:51.790Z"
   },
   {
    "duration": 7,
    "start_time": "2024-08-23T07:46:08.585Z"
   },
   {
    "duration": 6,
    "start_time": "2024-08-23T07:46:13.011Z"
   },
   {
    "duration": 78,
    "start_time": "2024-08-23T07:46:17.131Z"
   },
   {
    "duration": 80,
    "start_time": "2024-08-23T07:47:02.445Z"
   },
   {
    "duration": 83,
    "start_time": "2024-08-23T07:47:12.594Z"
   },
   {
    "duration": 80,
    "start_time": "2024-08-23T07:47:34.556Z"
   },
   {
    "duration": 57,
    "start_time": "2024-08-23T08:01:12.880Z"
   },
   {
    "duration": 8,
    "start_time": "2024-08-23T08:01:18.951Z"
   },
   {
    "duration": 84,
    "start_time": "2024-08-23T08:01:26.379Z"
   },
   {
    "duration": 81,
    "start_time": "2024-08-23T08:01:29.508Z"
   },
   {
    "duration": 8,
    "start_time": "2024-08-23T08:01:31.816Z"
   },
   {
    "duration": 31,
    "start_time": "2024-08-23T08:08:36.842Z"
   },
   {
    "duration": 57,
    "start_time": "2024-08-23T08:08:42.031Z"
   },
   {
    "duration": 7,
    "start_time": "2024-08-23T08:08:58.248Z"
   },
   {
    "duration": 60,
    "start_time": "2024-08-23T08:09:03.857Z"
   },
   {
    "duration": 29,
    "start_time": "2024-08-23T08:09:11.736Z"
   },
   {
    "duration": 55,
    "start_time": "2024-08-23T08:09:12.878Z"
   },
   {
    "duration": 7,
    "start_time": "2024-08-23T08:09:15.751Z"
   },
   {
    "duration": 82,
    "start_time": "2024-08-23T08:09:24.436Z"
   },
   {
    "duration": 81,
    "start_time": "2024-08-23T08:10:13.633Z"
   },
   {
    "duration": 80,
    "start_time": "2024-08-23T08:10:28.813Z"
   },
   {
    "duration": 80,
    "start_time": "2024-08-23T08:11:11.269Z"
   },
   {
    "duration": 81,
    "start_time": "2024-08-23T08:11:25.473Z"
   },
   {
    "duration": 30,
    "start_time": "2024-08-23T08:11:32.667Z"
   },
   {
    "duration": 57,
    "start_time": "2024-08-23T08:11:33.816Z"
   },
   {
    "duration": 8,
    "start_time": "2024-08-23T08:11:35.598Z"
   },
   {
    "duration": 80,
    "start_time": "2024-08-23T08:11:37.621Z"
   },
   {
    "duration": 81,
    "start_time": "2024-08-23T08:11:48.935Z"
   },
   {
    "duration": 115,
    "start_time": "2024-08-23T08:11:59.581Z"
   },
   {
    "duration": 116,
    "start_time": "2024-08-23T08:12:29.658Z"
   },
   {
    "duration": 126,
    "start_time": "2024-08-23T08:12:39.393Z"
   },
   {
    "duration": 121,
    "start_time": "2024-08-23T08:12:43.600Z"
   },
   {
    "duration": 118,
    "start_time": "2024-08-23T08:12:47.973Z"
   },
   {
    "duration": 81,
    "start_time": "2024-08-23T08:13:13.738Z"
   },
   {
    "duration": 30,
    "start_time": "2024-08-23T08:13:36.168Z"
   },
   {
    "duration": 56,
    "start_time": "2024-08-23T08:13:36.843Z"
   },
   {
    "duration": 7,
    "start_time": "2024-08-23T08:13:38.129Z"
   },
   {
    "duration": 79,
    "start_time": "2024-08-23T08:13:40.710Z"
   },
   {
    "duration": 62,
    "start_time": "2024-08-23T08:13:47.979Z"
   },
   {
    "duration": 31,
    "start_time": "2024-08-23T08:13:54.108Z"
   },
   {
    "duration": 56,
    "start_time": "2024-08-23T08:13:55.224Z"
   },
   {
    "duration": 8,
    "start_time": "2024-08-23T08:13:57.697Z"
   },
   {
    "duration": 80,
    "start_time": "2024-08-23T08:13:59.679Z"
   },
   {
    "duration": 5,
    "start_time": "2024-08-23T08:14:43.825Z"
   },
   {
    "duration": 18,
    "start_time": "2024-08-23T08:14:49.484Z"
   },
   {
    "duration": 81,
    "start_time": "2024-08-23T08:14:53.143Z"
   },
   {
    "duration": 114,
    "start_time": "2024-08-23T08:14:56.034Z"
   },
   {
    "duration": 21,
    "start_time": "2024-08-23T08:15:06.077Z"
   },
   {
    "duration": 81,
    "start_time": "2024-08-23T08:15:33.590Z"
   },
   {
    "duration": 82,
    "start_time": "2024-08-23T08:15:38.600Z"
   },
   {
    "duration": 31,
    "start_time": "2024-08-23T09:00:59.915Z"
   },
   {
    "duration": 56,
    "start_time": "2024-08-23T09:01:00.952Z"
   },
   {
    "duration": 10,
    "start_time": "2024-08-23T09:01:12.480Z"
   },
   {
    "duration": 57,
    "start_time": "2024-08-23T09:01:40.768Z"
   },
   {
    "duration": 30,
    "start_time": "2024-08-23T09:01:43.967Z"
   },
   {
    "duration": 55,
    "start_time": "2024-08-23T09:01:44.250Z"
   },
   {
    "duration": 16,
    "start_time": "2024-08-23T09:01:47.804Z"
   },
   {
    "duration": 18,
    "start_time": "2024-08-23T09:03:10.353Z"
   },
   {
    "duration": 46,
    "start_time": "2024-08-23T09:03:13.524Z"
   },
   {
    "duration": 16,
    "start_time": "2024-08-23T09:03:39.375Z"
   },
   {
    "duration": 30,
    "start_time": "2024-08-23T09:05:42.584Z"
   },
   {
    "duration": 58,
    "start_time": "2024-08-23T09:05:43.415Z"
   },
   {
    "duration": 234,
    "start_time": "2024-08-23T09:06:04.002Z"
   },
   {
    "duration": 16,
    "start_time": "2024-08-23T09:06:08.269Z"
   },
   {
    "duration": 7,
    "start_time": "2024-08-23T09:07:26.822Z"
   },
   {
    "duration": 78,
    "start_time": "2024-08-23T09:07:44.924Z"
   },
   {
    "duration": 79,
    "start_time": "2024-08-23T09:07:50.985Z"
   },
   {
    "duration": 79,
    "start_time": "2024-08-23T09:08:23.991Z"
   },
   {
    "duration": 78,
    "start_time": "2024-08-23T09:08:59.365Z"
   },
   {
    "duration": 8,
    "start_time": "2024-08-23T09:09:07.795Z"
   },
   {
    "duration": 81,
    "start_time": "2024-08-23T09:09:10.921Z"
   },
   {
    "duration": 115,
    "start_time": "2024-08-23T09:09:31.491Z"
   },
   {
    "duration": 30,
    "start_time": "2024-08-23T09:10:04.182Z"
   },
   {
    "duration": 56,
    "start_time": "2024-08-23T09:10:04.910Z"
   },
   {
    "duration": 23,
    "start_time": "2024-08-23T09:10:42.319Z"
   },
   {
    "duration": 7,
    "start_time": "2024-08-23T09:10:54.889Z"
   },
   {
    "duration": 10,
    "start_time": "2024-08-23T09:11:00.360Z"
   },
   {
    "duration": 31,
    "start_time": "2024-08-23T09:11:13.815Z"
   },
   {
    "duration": 56,
    "start_time": "2024-08-23T09:11:16.405Z"
   },
   {
    "duration": 20,
    "start_time": "2024-08-23T09:12:19.528Z"
   },
   {
    "duration": 7,
    "start_time": "2024-08-23T09:12:25.849Z"
   },
   {
    "duration": 8,
    "start_time": "2024-08-23T09:14:43.458Z"
   },
   {
    "duration": 7,
    "start_time": "2024-08-23T09:15:13.522Z"
   },
   {
    "duration": 25,
    "start_time": "2024-08-23T09:15:18.039Z"
   },
   {
    "duration": 9,
    "start_time": "2024-08-23T09:15:22.521Z"
   },
   {
    "duration": 18,
    "start_time": "2024-08-23T09:15:38.595Z"
   },
   {
    "duration": 32,
    "start_time": "2024-08-23T09:16:11.471Z"
   },
   {
    "duration": 19,
    "start_time": "2024-08-23T09:16:21.298Z"
   },
   {
    "duration": 5,
    "start_time": "2024-08-23T09:17:08.160Z"
   },
   {
    "duration": 5,
    "start_time": "2024-08-23T09:17:11.753Z"
   },
   {
    "duration": 30,
    "start_time": "2024-08-23T09:17:20.432Z"
   },
   {
    "duration": 56,
    "start_time": "2024-08-23T09:17:21.470Z"
   },
   {
    "duration": 7,
    "start_time": "2024-08-23T09:17:24.438Z"
   },
   {
    "duration": 18,
    "start_time": "2024-08-23T09:17:31.160Z"
   },
   {
    "duration": 18,
    "start_time": "2024-08-23T09:19:22.673Z"
   },
   {
    "duration": 19,
    "start_time": "2024-08-23T09:21:03.973Z"
   },
   {
    "duration": 32,
    "start_time": "2024-08-23T09:21:10.725Z"
   },
   {
    "duration": 55,
    "start_time": "2024-08-23T09:21:11.858Z"
   },
   {
    "duration": 27,
    "start_time": "2024-08-23T09:21:30.972Z"
   },
   {
    "duration": 27,
    "start_time": "2024-08-23T09:21:39.061Z"
   },
   {
    "duration": 32,
    "start_time": "2024-08-23T09:21:44.053Z"
   },
   {
    "duration": 56,
    "start_time": "2024-08-23T09:21:49.043Z"
   },
   {
    "duration": 19,
    "start_time": "2024-08-23T09:21:55.881Z"
   },
   {
    "duration": 21,
    "start_time": "2024-08-23T09:22:26.695Z"
   },
   {
    "duration": 29,
    "start_time": "2024-08-24T00:19:23.238Z"
   },
   {
    "duration": 56,
    "start_time": "2024-08-24T00:19:29.491Z"
   },
   {
    "duration": 23,
    "start_time": "2024-08-24T00:19:46.209Z"
   },
   {
    "duration": 21,
    "start_time": "2024-08-24T00:20:39.980Z"
   },
   {
    "duration": 30,
    "start_time": "2024-08-24T00:20:56.241Z"
   },
   {
    "duration": 57,
    "start_time": "2024-08-24T00:20:58.467Z"
   },
   {
    "duration": 21,
    "start_time": "2024-08-24T00:21:03.522Z"
   },
   {
    "duration": 18,
    "start_time": "2024-08-24T00:24:05.947Z"
   },
   {
    "duration": 36,
    "start_time": "2024-08-24T00:24:11.280Z"
   },
   {
    "duration": 37,
    "start_time": "2024-08-24T00:24:17.829Z"
   },
   {
    "duration": 30,
    "start_time": "2024-08-24T00:24:23.716Z"
   },
   {
    "duration": 64,
    "start_time": "2024-08-24T00:24:24.619Z"
   },
   {
    "duration": 18,
    "start_time": "2024-08-24T00:24:27.822Z"
   },
   {
    "duration": 38,
    "start_time": "2024-08-24T00:24:31.141Z"
   },
   {
    "duration": 18,
    "start_time": "2024-08-24T00:25:18.778Z"
   },
   {
    "duration": 30,
    "start_time": "2024-08-24T00:29:02.398Z"
   },
   {
    "duration": 55,
    "start_time": "2024-08-24T00:29:04.782Z"
   },
   {
    "duration": 7,
    "start_time": "2024-08-24T00:29:08.431Z"
   },
   {
    "duration": 5,
    "start_time": "2024-08-24T00:29:47.325Z"
   },
   {
    "duration": 102,
    "start_time": "2024-08-24T00:29:55.034Z"
   },
   {
    "duration": 29,
    "start_time": "2024-08-24T00:30:24.910Z"
   },
   {
    "duration": 29,
    "start_time": "2024-08-24T00:30:32.852Z"
   },
   {
    "duration": 56,
    "start_time": "2024-08-24T00:30:35.317Z"
   },
   {
    "duration": 27,
    "start_time": "2024-08-24T00:30:39.052Z"
   },
   {
    "duration": 22,
    "start_time": "2024-08-24T00:31:04.683Z"
   },
   {
    "duration": 21,
    "start_time": "2024-08-24T00:31:19.293Z"
   },
   {
    "duration": 30,
    "start_time": "2024-08-24T00:32:42.312Z"
   },
   {
    "duration": 63,
    "start_time": "2024-08-24T00:32:42.985Z"
   },
   {
    "duration": 18,
    "start_time": "2024-08-24T00:33:16.600Z"
   },
   {
    "duration": 38,
    "start_time": "2024-08-24T00:33:33.041Z"
   },
   {
    "duration": 17,
    "start_time": "2024-08-24T00:34:35.036Z"
   },
   {
    "duration": 14,
    "start_time": "2024-08-24T00:35:18.345Z"
   },
   {
    "duration": 571,
    "start_time": "2024-08-24T00:36:50.351Z"
   },
   {
    "duration": 27,
    "start_time": "2024-08-24T00:36:56.264Z"
   },
   {
    "duration": 57,
    "start_time": "2024-08-24T00:36:57.270Z"
   },
   {
    "duration": 22,
    "start_time": "2024-08-24T00:36:58.927Z"
   },
   {
    "duration": 39,
    "start_time": "2024-08-24T00:37:00.874Z"
   },
   {
    "duration": 17,
    "start_time": "2024-08-24T00:37:04.118Z"
   },
   {
    "duration": 14,
    "start_time": "2024-08-24T00:37:06.116Z"
   },
   {
    "duration": 460,
    "start_time": "2024-08-24T23:04:02.477Z"
   },
   {
    "duration": 215,
    "start_time": "2024-08-24T23:04:02.940Z"
   },
   {
    "duration": 27,
    "start_time": "2024-08-24T23:04:03.158Z"
   },
   {
    "duration": 36,
    "start_time": "2024-08-24T23:04:03.190Z"
   },
   {
    "duration": 8,
    "start_time": "2024-08-24T23:04:03.229Z"
   },
   {
    "duration": 6,
    "start_time": "2024-08-24T23:04:03.269Z"
   },
   {
    "duration": 6,
    "start_time": "2024-08-24T23:04:03.279Z"
   },
   {
    "duration": 32,
    "start_time": "2024-08-24T23:04:03.287Z"
   },
   {
    "duration": 70,
    "start_time": "2024-08-24T23:04:03.321Z"
   },
   {
    "duration": 28,
    "start_time": "2024-08-24T23:04:03.393Z"
   },
   {
    "duration": 103,
    "start_time": "2024-08-24T23:04:03.424Z"
   },
   {
    "duration": 90,
    "start_time": "2024-08-24T23:04:03.530Z"
   },
   {
    "duration": 100,
    "start_time": "2024-08-24T23:04:03.627Z"
   },
   {
    "duration": 78,
    "start_time": "2024-08-24T23:04:03.730Z"
   },
   {
    "duration": 11,
    "start_time": "2024-08-24T23:04:03.812Z"
   },
   {
    "duration": 4,
    "start_time": "2024-08-24T23:04:03.826Z"
   },
   {
    "duration": 324,
    "start_time": "2024-08-24T23:04:03.833Z"
   },
   {
    "duration": 17,
    "start_time": "2024-08-24T23:04:04.160Z"
   },
   {
    "duration": 29,
    "start_time": "2024-08-24T23:04:04.180Z"
   },
   {
    "duration": 92,
    "start_time": "2024-08-24T23:04:04.212Z"
   },
   {
    "duration": 19,
    "start_time": "2024-08-24T23:04:04.307Z"
   },
   {
    "duration": 69,
    "start_time": "2024-08-24T23:04:04.329Z"
   },
   {
    "duration": 17,
    "start_time": "2024-08-24T23:04:04.401Z"
   },
   {
    "duration": 17,
    "start_time": "2024-08-24T23:04:04.422Z"
   },
   {
    "duration": 428,
    "start_time": "2024-08-24T23:04:32.139Z"
   },
   {
    "duration": 203,
    "start_time": "2024-08-24T23:04:32.571Z"
   },
   {
    "duration": 26,
    "start_time": "2024-08-24T23:04:32.777Z"
   },
   {
    "duration": 37,
    "start_time": "2024-08-24T23:04:32.806Z"
   },
   {
    "duration": 6,
    "start_time": "2024-08-24T23:04:32.871Z"
   },
   {
    "duration": 6,
    "start_time": "2024-08-24T23:04:32.880Z"
   },
   {
    "duration": 6,
    "start_time": "2024-08-24T23:04:32.890Z"
   },
   {
    "duration": 70,
    "start_time": "2024-08-24T23:04:32.900Z"
   },
   {
    "duration": 37,
    "start_time": "2024-08-24T23:04:32.973Z"
   },
   {
    "duration": 28,
    "start_time": "2024-08-24T23:04:33.012Z"
   },
   {
    "duration": 83,
    "start_time": "2024-08-24T23:04:33.068Z"
   },
   {
    "duration": 87,
    "start_time": "2024-08-24T23:04:33.154Z"
   },
   {
    "duration": 105,
    "start_time": "2024-08-24T23:04:33.243Z"
   },
   {
    "duration": 77,
    "start_time": "2024-08-24T23:04:33.354Z"
   },
   {
    "duration": 11,
    "start_time": "2024-08-24T23:04:33.434Z"
   },
   {
    "duration": 4,
    "start_time": "2024-08-24T23:04:33.469Z"
   },
   {
    "duration": 305,
    "start_time": "2024-08-24T23:04:33.476Z"
   },
   {
    "duration": 11,
    "start_time": "2024-08-24T23:04:33.784Z"
   },
   {
    "duration": 30,
    "start_time": "2024-08-24T23:04:33.798Z"
   },
   {
    "duration": 92,
    "start_time": "2024-08-24T23:04:33.831Z"
   },
   {
    "duration": 19,
    "start_time": "2024-08-24T23:04:33.926Z"
   },
   {
    "duration": 39,
    "start_time": "2024-08-24T23:04:33.968Z"
   },
   {
    "duration": 16,
    "start_time": "2024-08-24T23:04:34.011Z"
   },
   {
    "duration": 43,
    "start_time": "2024-08-24T23:04:34.030Z"
   },
   {
    "duration": 4,
    "start_time": "2024-08-24T23:04:58.477Z"
   },
   {
    "duration": 4,
    "start_time": "2024-08-24T23:05:01.249Z"
   },
   {
    "duration": 305,
    "start_time": "2024-08-24T23:05:03.581Z"
   },
   {
    "duration": 10,
    "start_time": "2024-08-24T23:05:04.451Z"
   },
   {
    "duration": 11,
    "start_time": "2024-08-24T23:05:06.984Z"
   },
   {
    "duration": 316,
    "start_time": "2024-08-24T23:05:27.897Z"
   },
   {
    "duration": 11,
    "start_time": "2024-08-24T23:05:30.587Z"
   },
   {
    "duration": 5,
    "start_time": "2024-08-24T23:05:49.169Z"
   },
   {
    "duration": 610,
    "start_time": "2024-08-24T23:05:51.085Z"
   },
   {
    "duration": 428,
    "start_time": "2024-08-24T23:05:56.121Z"
   },
   {
    "duration": 216,
    "start_time": "2024-08-24T23:05:56.552Z"
   },
   {
    "duration": 25,
    "start_time": "2024-08-24T23:05:56.771Z"
   },
   {
    "duration": 35,
    "start_time": "2024-08-24T23:05:56.802Z"
   },
   {
    "duration": 6,
    "start_time": "2024-08-24T23:05:56.869Z"
   },
   {
    "duration": 6,
    "start_time": "2024-08-24T23:05:56.879Z"
   },
   {
    "duration": 6,
    "start_time": "2024-08-24T23:05:56.889Z"
   },
   {
    "duration": 69,
    "start_time": "2024-08-24T23:05:56.898Z"
   },
   {
    "duration": 38,
    "start_time": "2024-08-24T23:05:56.970Z"
   },
   {
    "duration": 27,
    "start_time": "2024-08-24T23:05:57.013Z"
   },
   {
    "duration": 76,
    "start_time": "2024-08-24T23:05:57.067Z"
   },
   {
    "duration": 89,
    "start_time": "2024-08-24T23:05:57.147Z"
   },
   {
    "duration": 105,
    "start_time": "2024-08-24T23:05:57.239Z"
   },
   {
    "duration": 95,
    "start_time": "2024-08-24T23:05:57.347Z"
   },
   {
    "duration": 23,
    "start_time": "2024-08-24T23:05:57.445Z"
   },
   {
    "duration": 4,
    "start_time": "2024-08-24T23:05:57.471Z"
   },
   {
    "duration": 662,
    "start_time": "2024-08-24T23:05:57.479Z"
   },
   {
    "duration": 0,
    "start_time": "2024-08-24T23:05:58.144Z"
   },
   {
    "duration": 0,
    "start_time": "2024-08-24T23:05:58.146Z"
   },
   {
    "duration": 0,
    "start_time": "2024-08-24T23:05:58.148Z"
   },
   {
    "duration": 0,
    "start_time": "2024-08-24T23:05:58.151Z"
   },
   {
    "duration": 0,
    "start_time": "2024-08-24T23:05:58.172Z"
   },
   {
    "duration": 0,
    "start_time": "2024-08-24T23:05:58.174Z"
   },
   {
    "duration": 0,
    "start_time": "2024-08-24T23:05:58.176Z"
   },
   {
    "duration": 4,
    "start_time": "2024-08-24T23:06:09.461Z"
   },
   {
    "duration": 80,
    "start_time": "2024-08-24T23:06:10.705Z"
   },
   {
    "duration": 4,
    "start_time": "2024-08-24T23:06:56.010Z"
   },
   {
    "duration": 132,
    "start_time": "2024-08-24T23:07:04.161Z"
   },
   {
    "duration": 4,
    "start_time": "2024-08-24T23:07:28.333Z"
   },
   {
    "duration": 3,
    "start_time": "2024-08-24T23:07:29.056Z"
   },
   {
    "duration": 80,
    "start_time": "2024-08-24T23:07:29.751Z"
   },
   {
    "duration": 4,
    "start_time": "2024-08-24T23:07:43.415Z"
   },
   {
    "duration": 4,
    "start_time": "2024-08-24T23:07:44.625Z"
   },
   {
    "duration": 41,
    "start_time": "2024-08-24T23:07:45.647Z"
   },
   {
    "duration": 11,
    "start_time": "2024-08-24T23:07:48.615Z"
   },
   {
    "duration": 29,
    "start_time": "2024-08-24T23:07:59.482Z"
   },
   {
    "duration": 60,
    "start_time": "2024-08-24T23:07:59.673Z"
   },
   {
    "duration": 21,
    "start_time": "2024-08-24T23:08:00.052Z"
   },
   {
    "duration": 38,
    "start_time": "2024-08-24T23:08:00.413Z"
   },
   {
    "duration": 17,
    "start_time": "2024-08-24T23:08:00.881Z"
   },
   {
    "duration": 12,
    "start_time": "2024-08-24T23:08:01.208Z"
   },
   {
    "duration": 6,
    "start_time": "2024-08-24T23:09:18.608Z"
   },
   {
    "duration": 8,
    "start_time": "2024-08-24T23:09:26.074Z"
   },
   {
    "duration": 9,
    "start_time": "2024-08-25T01:34:20.556Z"
   },
   {
    "duration": 303,
    "start_time": "2024-08-25T01:34:21.482Z"
   },
   {
    "duration": 20,
    "start_time": "2024-08-25T01:34:33.116Z"
   },
   {
    "duration": 422,
    "start_time": "2024-08-25T01:34:40.463Z"
   },
   {
    "duration": 231,
    "start_time": "2024-08-25T01:34:41.672Z"
   },
   {
    "duration": 24,
    "start_time": "2024-08-25T01:34:43.312Z"
   },
   {
    "duration": 34,
    "start_time": "2024-08-25T01:34:44.825Z"
   },
   {
    "duration": 5,
    "start_time": "2024-08-25T01:34:46.806Z"
   },
   {
    "duration": 6,
    "start_time": "2024-08-25T01:34:47.718Z"
   },
   {
    "duration": 6,
    "start_time": "2024-08-25T01:34:48.483Z"
   },
   {
    "duration": 31,
    "start_time": "2024-08-25T01:34:49.606Z"
   },
   {
    "duration": 37,
    "start_time": "2024-08-25T01:34:50.682Z"
   },
   {
    "duration": 29,
    "start_time": "2024-08-25T01:34:51.330Z"
   },
   {
    "duration": 76,
    "start_time": "2024-08-25T01:34:52.370Z"
   },
   {
    "duration": 75,
    "start_time": "2024-08-25T01:34:53.082Z"
   },
   {
    "duration": 88,
    "start_time": "2024-08-25T01:34:54.118Z"
   },
   {
    "duration": 69,
    "start_time": "2024-08-25T01:34:55.742Z"
   },
   {
    "duration": 11,
    "start_time": "2024-08-25T01:34:57.986Z"
   },
   {
    "duration": 5,
    "start_time": "2024-08-25T01:34:59.537Z"
   },
   {
    "duration": 4,
    "start_time": "2024-08-25T01:35:00.930Z"
   },
   {
    "duration": 59,
    "start_time": "2024-08-25T01:35:01.585Z"
   },
   {
    "duration": 4,
    "start_time": "2024-08-25T01:35:18.745Z"
   },
   {
    "duration": 4,
    "start_time": "2024-08-25T01:35:20.247Z"
   },
   {
    "duration": 22,
    "start_time": "2024-08-25T01:35:21.049Z"
   },
   {
    "duration": 4,
    "start_time": "2024-08-25T02:14:12.415Z"
   },
   {
    "duration": 3,
    "start_time": "2024-08-25T02:14:13.971Z"
   },
   {
    "duration": 22,
    "start_time": "2024-08-25T02:14:14.650Z"
   },
   {
    "duration": 23,
    "start_time": "2024-08-25T02:15:23.753Z"
   },
   {
    "duration": 22,
    "start_time": "2024-08-25T02:15:48.863Z"
   },
   {
    "duration": 3,
    "start_time": "2024-08-25T02:16:11.000Z"
   },
   {
    "duration": 201,
    "start_time": "2024-08-25T02:16:11.645Z"
   },
   {
    "duration": 18,
    "start_time": "2024-08-25T02:16:12.279Z"
   },
   {
    "duration": 34,
    "start_time": "2024-08-25T02:16:12.736Z"
   },
   {
    "duration": 6,
    "start_time": "2024-08-25T02:16:13.937Z"
   },
   {
    "duration": 5,
    "start_time": "2024-08-25T02:16:14.472Z"
   },
   {
    "duration": 6,
    "start_time": "2024-08-25T02:16:14.970Z"
   },
   {
    "duration": 29,
    "start_time": "2024-08-25T02:16:15.652Z"
   },
   {
    "duration": 35,
    "start_time": "2024-08-25T02:16:16.406Z"
   },
   {
    "duration": 27,
    "start_time": "2024-08-25T02:16:16.928Z"
   },
   {
    "duration": 78,
    "start_time": "2024-08-25T02:16:18.207Z"
   },
   {
    "duration": 73,
    "start_time": "2024-08-25T02:16:18.983Z"
   },
   {
    "duration": 83,
    "start_time": "2024-08-25T02:16:20.878Z"
   },
   {
    "duration": 67,
    "start_time": "2024-08-25T02:16:35.667Z"
   },
   {
    "duration": 12,
    "start_time": "2024-08-25T02:16:39.178Z"
   },
   {
    "duration": 23,
    "start_time": "2024-08-25T02:17:54.686Z"
   },
   {
    "duration": 25,
    "start_time": "2024-08-25T02:22:00.450Z"
   },
   {
    "duration": 22,
    "start_time": "2024-08-25T02:22:07.643Z"
   },
   {
    "duration": 23,
    "start_time": "2024-08-25T02:24:41.926Z"
   },
   {
    "duration": 8,
    "start_time": "2024-08-25T02:25:04.445Z"
   },
   {
    "duration": 25,
    "start_time": "2024-08-25T02:25:12.387Z"
   },
   {
    "duration": 22,
    "start_time": "2024-08-25T02:25:15.864Z"
   },
   {
    "duration": 24,
    "start_time": "2024-08-25T02:26:16.767Z"
   },
   {
    "duration": 978,
    "start_time": "2024-08-25T02:26:37.986Z"
   },
   {
    "duration": 10,
    "start_time": "2024-08-25T02:27:05.456Z"
   },
   {
    "duration": 6,
    "start_time": "2024-08-25T02:27:09.587Z"
   },
   {
    "duration": 5,
    "start_time": "2024-08-25T02:27:15.823Z"
   },
   {
    "duration": 22,
    "start_time": "2024-08-25T02:27:24.381Z"
   },
   {
    "duration": 90,
    "start_time": "2024-08-25T02:28:13.985Z"
   },
   {
    "duration": 10,
    "start_time": "2024-08-25T02:28:41.390Z"
   },
   {
    "duration": 28,
    "start_time": "2024-08-25T02:28:45.067Z"
   },
   {
    "duration": 59,
    "start_time": "2024-08-25T02:28:45.671Z"
   },
   {
    "duration": 19,
    "start_time": "2024-08-25T02:28:47.658Z"
   },
   {
    "duration": 38,
    "start_time": "2024-08-25T02:28:48.762Z"
   },
   {
    "duration": 13,
    "start_time": "2024-08-25T02:29:33.076Z"
   },
   {
    "duration": 16,
    "start_time": "2024-08-25T02:30:16.123Z"
   },
   {
    "duration": 15,
    "start_time": "2024-08-25T02:30:20.320Z"
   }
  ],
  "kernelspec": {
   "display_name": "Python 3 (ipykernel)",
   "language": "python",
   "name": "python3"
  },
  "language_info": {
   "codemirror_mode": {
    "name": "ipython",
    "version": 3
   },
   "file_extension": ".py",
   "mimetype": "text/x-python",
   "name": "python",
   "nbconvert_exporter": "python",
   "pygments_lexer": "ipython3",
   "version": "3.9.19"
  },
  "toc": {
   "base_numbering": 1,
   "nav_menu": {},
   "number_sections": true,
   "sideBar": true,
   "skip_h1_title": true,
   "title_cell": "Table of Contents",
   "title_sidebar": "Contents",
   "toc_cell": false,
   "toc_position": {},
   "toc_section_display": true,
   "toc_window_display": false
  }
 },
 "nbformat": 4,
 "nbformat_minor": 5
}
