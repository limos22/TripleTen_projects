{
 "cells": [
  {
   "cell_type": "markdown",
   "metadata": {},
   "source": [
    "<div style=\"border-radius: 15px; border: 3px solid indigo; padding: 15px;\">\n",
    "<b> Reviewer's comment 2</b>\n",
    "    \n",
    "Thank you for the updates! My new comments have digit 2. \n",
    "    \n",
    "    \n",
    "I do not have any questions, so I can accept the project now. \n",
    "    \n",
    "    \n",
    "If you are interested in this topic, please take a look at the small [Time Series Course](https://www.kaggle.com/learn/time-series) on Kaggle. There are just several lessons there, and in the end of this course you will apply your knowledge on the sales dataset that is provided for the ongoing [Store Sales Time Series Forecasting Competition](https://www.kaggle.com/competitions/store-sales-time-series-forecasting) with no rewards except for knowledge :) You can use their dataset for your practice and you can submit your notebook to run the model on the hidden test subset.     \n",
    "    \n",
    "    \n",
    "Congratulations and good luck! \n",
    "    \n",
    "</div>"
   ]
  },
  {
   "cell_type": "markdown",
   "metadata": {},
   "source": [
    "<div style=\"border-radius: 15px; border: 3px solid indigo; padding: 15px;\">\n",
    "<b> Reviewer's comment</b>\n",
    "    \n",
    "Hi Somil, I am a reviewer on this project. Congratulations on submitting another project! 🎉\n",
    "    \n",
    "\n",
    "Before we start, I want to pay your attention to the color marking:\n",
    "    \n",
    "\n",
    "   \n",
    "    \n",
    "<div class=\"alert alert-success\" style=\"border-radius: 15px; box-shadow: 4px 4px 4px; border: 1px solid \">\n",
    "\n",
    "Great solutions and ideas that can and should be used in the future are in green comments. Some of them are: \n",
    "    \n",
    "    \n",
    "- You have successfully prepared the subsets. It is important to split the data correctly in order to ensure there's no intersection;    \n",
    "    \n",
    "    \n",
    "- You have successfully investigated the data we have; \n",
    "    \n",
    "    \n",
    "    \n",
    "- It's great that you used `statsmodels` to analyze time series as it provides comprehensive summaries that can be useful when we need to make data-driven decisions;\n",
    "\n",
    "\n",
    "- Prepared the subsets. It is important to split the data correctly in order to ensure there's no intersection;    \n",
    "\n",
    "\n",
    "- Trained and compared several models. It is not enough to just train a model. We also need to analyze the results and compare different models. Very good! \n",
    "\n",
    "\n",
    "- Tuned hyperparameters. We tune them to identify the best model that will yield the desired metric value;\n",
    "\n",
    "\n",
    "- Wrote an excellent conclusion! A well-written conclusion shows how the project met its objectives and provides a concise and understandable summary for those who may not have been involved in the details of the project. Good job! \n",
    "\n",
    "</div>\n",
    "    \n",
    "<div class=\"alert alert-warning\" style=\"border-radius: 15px; box-shadow: 4px 4px 4px; border: 1px solid \">\n",
    "<b> Reviewer's comment </b>\n",
    "\n",
    "Yellow color indicates what should be optimized. This is not necessary, but it will be great if you make changes to this project. I've left several recommendations throughout the project. \n",
    " \n",
    "</div>\n",
    "<div class=\"alert alert-danger\" style=\"border-radius: 15px; box-shadow: 4px 4px 4px; border: 1px solid \">\n",
    "<b> Reviewer's comment </b>\n",
    "\n",
    "Issues that must be corrected to achieve accurate results are indicated in red comments. Please note that the project cannot be accepted until these issues are resolved.\n",
    "    \n",
    "There is only one issue that needs tp be fix. Please use the `TimeSeriesSplit` class. Unlike standard k-fold cross-validation, which randomly splits data into folds, TimeSeriesSplit ensures that the training set always contains data that precedes the validation set. \n",
    "</div>        \n",
    "<hr>\n",
    "    \n",
    "<font color='dodgerblue'>**To sum up:**</font> you did a great job here, thank you so much! Actually the project is almost perfect, and the updates should not take much time. If you have any questions, please feel free to ask. I will wait the project for the second review 😊 \n",
    "    \n",
    "\n",
    "<hr>\n",
    "    \n",
    "Please use some color other than those listed to highlight answers to my comments.\n",
    "I would also ask you **not to change, move or delete my comments** to make it easier for me to navigate during the next review.\n",
    "    \n",
    "In addition, my comments are defined as headings. \n",
    "They can mess up the content; however, they are convenient, since you can immediately go to them. I will remove the headings from my comments in the next review if you ask me to. \n",
    "\n",
    "\n",
    "    \n",
    "<hr>\n",
    "    \n",
    "📌 Please feel free to schedule a 1:1 with our tutors or TAs, join daily coworking sessions, or ask questions in the sprint channels on Discord if you need assistance. \n",
    "</div>"
   ]
  },
  {
   "cell_type": "markdown",
   "metadata": {},
   "source": [
    "# Taxi Order ML"
   ]
  },
  {
   "cell_type": "markdown",
   "metadata": {},
   "source": [
    "# Project description\n",
    "\n",
    "Sweet Lift Taxi company has collected historical data on taxi orders at airports. To attract more drivers during peak hours, we need to predict the amount of taxi orders for the next hour. Build a model for such a prediction.\n",
    "\n",
    "The RMSE metric on the test set should not be more than 48.\n",
    "\n",
    "## Project instructions\n",
    "\n",
    "1. Download the data and resample it by one hour.\n",
    "2. Analyze the data.\n",
    "3. Train different models with different hyperparameters. The test sample should be 10% of the initial dataset. \n",
    "4. Test the data using the test sample and provide a conclusion.\n",
    "\n",
    "## Data description\n",
    "\n",
    "The data is stored in file `taxi.csv`. The number of orders is in the '*num_orders*' column."
   ]
  },
  {
   "cell_type": "markdown",
   "metadata": {},
   "source": [
    "<div class=\"alert alert-success\" style=\"border-radius: 15px; box-shadow: 4px 4px 4px; border: 1px solid \">\n",
    "<h2>   Reviewer's comment </h2>\n",
    "    \n",
    "Good introduction! \n",
    "\n",
    "</div>\n",
    "<div class=\"alert alert-warning\" style=\"border-radius: 15px; box-shadow: 4px 4px 4px; border: 1px solid \">\n",
    "<h2>  Reviewer's comment </h2>\n",
    "    \n",
    "\n",
    "Don't forget about project title :) \n",
    "\n",
    "</div>"
   ]
  },
  {
   "cell_type": "code",
   "execution_count": 1,
   "metadata": {},
   "outputs": [],
   "source": [
    "import pandas as pd\n",
    "import matplotlib.pyplot as plt\n",
    "import statsmodels.api as sm\n",
    "import lightgbm as lgb\n",
    "\n",
    "from pmdarima import auto_arima\n",
    "from sklearn.model_selection import train_test_split, TimeSeriesSplit, GridSearchCV\n",
    "from sklearn.linear_model import LinearRegression\n",
    "from sklearn.metrics import mean_squared_error\n",
    "from sklearn.preprocessing import LabelEncoder, StandardScaler\n",
    "from sklearn.ensemble import RandomForestRegressor\n",
    "from statsmodels.tsa.arima.model import ARIMA\n",
    "from statsmodels.tsa.seasonal import seasonal_decompose\n",
    "from statsmodels.tsa.stattools import arma_order_select_ic\n",
    "from statsmodels.graphics.tsaplots import plot_acf, plot_pacf\n",
    "from statsmodels.tsa.ar_model import AutoReg, ar_select_order"
   ]
  },
  {
   "cell_type": "code",
   "execution_count": 2,
   "metadata": {},
   "outputs": [],
   "source": [
    "data = pd.read_csv('/datasets/taxi.csv', index_col=[0], parse_dates=[0])\n",
    "df= data.resample('H')['num_orders'].sum()"
   ]
  },
  {
   "cell_type": "markdown",
   "metadata": {},
   "source": [
    "<div class=\"alert alert-success\" style=\"border-radius: 15px; box-shadow: 4px 4px 4px; border: 1px solid \">\n",
    "<h2> Reviewer's comment</h2>\n",
    "    \n",
    "Resampling is correct! \n",
    "    \n",
    "</div>"
   ]
  },
  {
   "cell_type": "markdown",
   "metadata": {},
   "source": [
    "## Preparation and Analysis"
   ]
  },
  {
   "cell_type": "markdown",
   "metadata": {},
   "source": [
    "### Trends/Seasonality"
   ]
  },
  {
   "cell_type": "code",
   "execution_count": 3,
   "metadata": {},
   "outputs": [
    {
     "data": {
      "text/plain": [
       "Text(0, 0.5, 'Frequency')"
      ]
     },
     "execution_count": 3,
     "metadata": {},
     "output_type": "execute_result"
    },
    {
     "data": {
      "image/png": "[encoded data removed]",
      "text/plain": [
       "<Figure size 800x800 with 3 Axes>"
      ]
     },
     "metadata": {},
     "output_type": "display_data"
    }
   ],
   "source": [
    "decomposed = seasonal_decompose(df, period=720)\n",
    "\n",
    "plt.figure(figsize=(8, 8))\n",
    "plt.subplot(311)\n",
    "decomposed.trend.plot(ax=plt.gca())\n",
    "plt.title('Trend')\n",
    "plt.xlabel('Date')\n",
    "plt.ylabel('Frequency')\n",
    "plt.subplot(312)\n",
    "decomposed.seasonal.plot(ax=plt.gca())\n",
    "plt.title('Seasonality')\n",
    "plt.xlabel('Date')\n",
    "plt.ylabel('Frequency')\n",
    "plt.subplot(313)\n",
    "decomposed.resid.plot(ax=plt.gca())\n",
    "plt.title('Residuals')\n",
    "plt.xlabel('Date')\n",
    "plt.ylabel('Frequency')"
   ]
  },
  {
   "cell_type": "markdown",
   "metadata": {},
   "source": [
    "Theres an upward trend for the amont of taxi orders as the months progresses. I used a period of 744, 1 month in hours to see how the trend is for the data. For seasonality There is not periodic fluctuations in the data."
   ]
  },
  {
   "cell_type": "markdown",
   "metadata": {},
   "source": [
    "<div class=\"alert alert-success\" style=\"border-radius: 15px; box-shadow: 4px 4px 4px; border: 1px solid \">\n",
    "<h2> Reviewer's comment</h2>\n",
    "    \n",
    "`seasonal_decompose` is a great method, well done! \n",
    "    \n",
    "</div>\n",
    "<div class=\"alert alert-warning\" style=\"border-radius: 15px; box-shadow: 4px 4px 4px; border: 1px solid \">\n",
    "<h2>   Reviewer's comment </h2>\n",
    "    \n",
    "You can also choose a shorter interval to analyze seasonality. \n",
    "    \n",
    "</div>"
   ]
  },
  {
   "cell_type": "markdown",
   "metadata": {},
   "source": [
    "### Plot ACF"
   ]
  },
  {
   "cell_type": "code",
   "execution_count": 4,
   "metadata": {},
   "outputs": [
    {
     "data": {
      "image/png": "[encoded data removed]",
      "text/plain": [
       "<Figure size 640x480 with 1 Axes>"
      ]
     },
     "metadata": {},
     "output_type": "display_data"
    }
   ],
   "source": [
    "plot_acf(df)\n",
    "plt.show()"
   ]
  },
  {
   "cell_type": "markdown",
   "metadata": {},
   "source": [
    "The ACF plot shows the correlation between the time series and lagged versions of itself."
   ]
  },
  {
   "cell_type": "markdown",
   "metadata": {},
   "source": [
    "<div class=\"alert alert-success\" style=\"border-radius: 15px; box-shadow: 4px 4px 4px; border: 1px solid \">\n",
    "<h2> Reviewer's comment</h2>\n",
    "    \n",
    "True.     \n",
    "</div>"
   ]
  },
  {
   "cell_type": "markdown",
   "metadata": {},
   "source": [
    "### Plot PACF"
   ]
  },
  {
   "cell_type": "code",
   "execution_count": 5,
   "metadata": {},
   "outputs": [
    {
     "data": {
      "image/png": "[encoded data removed]",
      "text/plain": [
       "<Figure size 640x480 with 1 Axes>"
      ]
     },
     "metadata": {},
     "output_type": "display_data"
    }
   ],
   "source": [
    "plot_pacf(df)\n",
    "plt.show()"
   ]
  },
  {
   "cell_type": "markdown",
   "metadata": {},
   "source": [
    "The PACF plot shows the correlation between the time series and lagged versions of itself, controlling for the effects of intermediate lags. The PACF plot is used for identifying the order of an autoregressive (AR) model. If the PACF plot cuts off at a particular lag, it suggests that an AR model of that order would be appropriate. It looks as though 2 lags is the signifigant amount."
   ]
  },
  {
   "cell_type": "code",
   "execution_count": 6,
   "metadata": {},
   "outputs": [],
   "source": [
    "def plotMovingAverage(series, window, plot_intervals=False, scale=1.96, plot_anomalies=False):\n",
    "\n",
    "    \"\"\"\n",
    "        series - dataframe with timeseries\n",
    "        window - rolling window size \n",
    "        plot_intervals - show confidence intervals\n",
    "        plot_anomalies - show anomalies \n",
    "\n",
    "    \"\"\"\n",
    "    rolling_mean = series.rolling(window=window).mean()\n",
    "\n",
    "    plt.figure(figsize=(15,5))\n",
    "    plt.title(\"Moving average\\n window size = {}\".format(window))\n",
    "    plt.plot(rolling_mean, \"g\", label=\"Rolling mean trend\")\n",
    "\n",
    "    # Plot confidence intervals for smoothed values\n",
    "    if plot_intervals:\n",
    "        mae = mean_absolute_error(series[window:], rolling_mean[window:])\n",
    "        deviation = np.std(series[window:] - rolling_mean[window:])\n",
    "        lower_bond = rolling_mean - (mae + scale * deviation)\n",
    "        upper_bond = rolling_mean + (mae + scale * deviation)\n",
    "        plt.plot(upper_bond, \"r--\", label=\"Upper Bond / Lower Bond\")\n",
    "        plt.plot(lower_bond, \"r--\")\n",
    "        \n",
    "        # Having the intervals, find abnormal values\n",
    "        if plot_anomalies:\n",
    "            anomalies = pd.DataFrame(index=series.index, columns=series.columns)\n",
    "            anomalies[series<lower_bond] = series[series<lower_bond]\n",
    "            anomalies[series>upper_bond] = series[series>upper_bond]\n",
    "            plt.plot(anomalies, \"ro\", markersize=10)\n",
    "        \n",
    "    plt.plot(series[window:], label=\"Actual values\", alpha=0.5)\n",
    "    plt.legend(loc=\"upper left\")\n",
    "    plt.grid(True)"
   ]
  },
  {
   "cell_type": "code",
   "execution_count": 7,
   "metadata": {
    "scrolled": false
   },
   "outputs": [
    {
     "data": {
      "image/png": "[encoded data removed]",
      "text/plain": [
       "<Figure size 1500x500 with 1 Axes>"
      ]
     },
     "metadata": {},
     "output_type": "display_data"
    }
   ],
   "source": [
    "plotMovingAverage(df, 55)"
   ]
  },
  {
   "cell_type": "markdown",
   "metadata": {},
   "source": [
    "Above is a plot of the rolling mean compared to the actucal values in the moving average. It helps to visualise the data and see how the rolling mean correlates to the actucal amounts."
   ]
  },
  {
   "cell_type": "markdown",
   "metadata": {},
   "source": [
    "<div class=\"alert alert-success\" style=\"border-radius: 15px; box-shadow: 4px 4px 4px; border: 1px solid \">\n",
    "<h2>   Reviewer's comment </h2>\n",
    "    \n",
    "Great job! </div>"
   ]
  },
  {
   "cell_type": "markdown",
   "metadata": {},
   "source": [
    "### Creating Features"
   ]
  },
  {
   "cell_type": "markdown",
   "metadata": {},
   "source": [
    "Created features so the ML model has datapoints."
   ]
  },
  {
   "cell_type": "code",
   "execution_count": 8,
   "metadata": {},
   "outputs": [],
   "source": [
    "df = df.reset_index()\n",
    "df['datetime'] = pd.to_datetime(df['datetime'])\n",
    "\n",
    "df['hour_of_day'] = df['datetime'].dt.hour\n",
    "df['day_of_week'] = df['datetime'].dt.dayofweek\n",
    "df['week_of_year'] = df['datetime'].dt.isocalendar().week.astype(int)\n",
    "df['is_weekend'] = df['day_of_week'].isin([5, 6]).astype(int)\n",
    "df['rolling_mean'] = df['num_orders'].rolling(5).mean()"
   ]
  },
  {
   "cell_type": "code",
   "execution_count": 9,
   "metadata": {},
   "outputs": [],
   "source": [
    "for i in range(1, 3):\n",
    "    df[f'lag_{i}'] = df['num_orders'].shift(i)"
   ]
  },
  {
   "cell_type": "code",
   "execution_count": 10,
   "metadata": {},
   "outputs": [
    {
     "data": {
      "text/plain": [
       "(4416, 9)"
      ]
     },
     "execution_count": 10,
     "metadata": {},
     "output_type": "execute_result"
    }
   ],
   "source": [
    "df.shape"
   ]
  },
  {
   "cell_type": "code",
   "execution_count": 11,
   "metadata": {},
   "outputs": [
    {
     "data": {
      "text/html": [
       "<div>\n",
       "<style scoped>\n",
       "    .dataframe tbody tr th:only-of-type {\n",
       "        vertical-align: middle;\n",
       "    }\n",
       "\n",
       "    .dataframe tbody tr th {\n",
       "        vertical-align: top;\n",
       "    }\n",
       "\n",
       "    .dataframe thead th {\n",
       "        text-align: right;\n",
       "    }\n",
       "</style>\n",
       "<table border=\"1\" class=\"dataframe\">\n",
       "  <thead>\n",
       "    <tr style=\"text-align: right;\">\n",
       "      <th></th>\n",
       "      <th>datetime</th>\n",
       "      <th>num_orders</th>\n",
       "      <th>hour_of_day</th>\n",
       "      <th>day_of_week</th>\n",
       "      <th>week_of_year</th>\n",
       "      <th>is_weekend</th>\n",
       "      <th>rolling_mean</th>\n",
       "      <th>lag_1</th>\n",
       "      <th>lag_2</th>\n",
       "    </tr>\n",
       "  </thead>\n",
       "  <tbody>\n",
       "    <tr>\n",
       "      <th>0</th>\n",
       "      <td>2018-03-01 00:00:00</td>\n",
       "      <td>124</td>\n",
       "      <td>0</td>\n",
       "      <td>3</td>\n",
       "      <td>9</td>\n",
       "      <td>0</td>\n",
       "      <td>NaN</td>\n",
       "      <td>NaN</td>\n",
       "      <td>NaN</td>\n",
       "    </tr>\n",
       "    <tr>\n",
       "      <th>1</th>\n",
       "      <td>2018-03-01 01:00:00</td>\n",
       "      <td>85</td>\n",
       "      <td>1</td>\n",
       "      <td>3</td>\n",
       "      <td>9</td>\n",
       "      <td>0</td>\n",
       "      <td>NaN</td>\n",
       "      <td>124.0</td>\n",
       "      <td>NaN</td>\n",
       "    </tr>\n",
       "    <tr>\n",
       "      <th>2</th>\n",
       "      <td>2018-03-01 02:00:00</td>\n",
       "      <td>71</td>\n",
       "      <td>2</td>\n",
       "      <td>3</td>\n",
       "      <td>9</td>\n",
       "      <td>0</td>\n",
       "      <td>NaN</td>\n",
       "      <td>85.0</td>\n",
       "      <td>124.0</td>\n",
       "    </tr>\n",
       "    <tr>\n",
       "      <th>3</th>\n",
       "      <td>2018-03-01 03:00:00</td>\n",
       "      <td>66</td>\n",
       "      <td>3</td>\n",
       "      <td>3</td>\n",
       "      <td>9</td>\n",
       "      <td>0</td>\n",
       "      <td>NaN</td>\n",
       "      <td>71.0</td>\n",
       "      <td>85.0</td>\n",
       "    </tr>\n",
       "    <tr>\n",
       "      <th>4</th>\n",
       "      <td>2018-03-01 04:00:00</td>\n",
       "      <td>43</td>\n",
       "      <td>4</td>\n",
       "      <td>3</td>\n",
       "      <td>9</td>\n",
       "      <td>0</td>\n",
       "      <td>77.8</td>\n",
       "      <td>66.0</td>\n",
       "      <td>71.0</td>\n",
       "    </tr>\n",
       "    <tr>\n",
       "      <th>...</th>\n",
       "      <td>...</td>\n",
       "      <td>...</td>\n",
       "      <td>...</td>\n",
       "      <td>...</td>\n",
       "      <td>...</td>\n",
       "      <td>...</td>\n",
       "      <td>...</td>\n",
       "      <td>...</td>\n",
       "      <td>...</td>\n",
       "    </tr>\n",
       "    <tr>\n",
       "      <th>4411</th>\n",
       "      <td>2018-08-31 19:00:00</td>\n",
       "      <td>136</td>\n",
       "      <td>19</td>\n",
       "      <td>4</td>\n",
       "      <td>35</td>\n",
       "      <td>0</td>\n",
       "      <td>174.6</td>\n",
       "      <td>207.0</td>\n",
       "      <td>217.0</td>\n",
       "    </tr>\n",
       "    <tr>\n",
       "      <th>4412</th>\n",
       "      <td>2018-08-31 20:00:00</td>\n",
       "      <td>154</td>\n",
       "      <td>20</td>\n",
       "      <td>4</td>\n",
       "      <td>35</td>\n",
       "      <td>0</td>\n",
       "      <td>182.2</td>\n",
       "      <td>136.0</td>\n",
       "      <td>207.0</td>\n",
       "    </tr>\n",
       "    <tr>\n",
       "      <th>4413</th>\n",
       "      <td>2018-08-31 21:00:00</td>\n",
       "      <td>159</td>\n",
       "      <td>21</td>\n",
       "      <td>4</td>\n",
       "      <td>35</td>\n",
       "      <td>0</td>\n",
       "      <td>174.6</td>\n",
       "      <td>154.0</td>\n",
       "      <td>136.0</td>\n",
       "    </tr>\n",
       "    <tr>\n",
       "      <th>4414</th>\n",
       "      <td>2018-08-31 22:00:00</td>\n",
       "      <td>223</td>\n",
       "      <td>22</td>\n",
       "      <td>4</td>\n",
       "      <td>35</td>\n",
       "      <td>0</td>\n",
       "      <td>175.8</td>\n",
       "      <td>159.0</td>\n",
       "      <td>154.0</td>\n",
       "    </tr>\n",
       "    <tr>\n",
       "      <th>4415</th>\n",
       "      <td>2018-08-31 23:00:00</td>\n",
       "      <td>205</td>\n",
       "      <td>23</td>\n",
       "      <td>4</td>\n",
       "      <td>35</td>\n",
       "      <td>0</td>\n",
       "      <td>175.4</td>\n",
       "      <td>223.0</td>\n",
       "      <td>159.0</td>\n",
       "    </tr>\n",
       "  </tbody>\n",
       "</table>\n",
       "<p>4416 rows × 9 columns</p>\n",
       "</div>"
      ],
      "text/plain": [
       "                datetime  num_orders  hour_of_day  day_of_week  week_of_year  \\\n",
       "0    2018-03-01 00:00:00         124            0            3             9   \n",
       "1    2018-03-01 01:00:00          85            1            3             9   \n",
       "2    2018-03-01 02:00:00          71            2            3             9   \n",
       "3    2018-03-01 03:00:00          66            3            3             9   \n",
       "4    2018-03-01 04:00:00          43            4            3             9   \n",
       "...                  ...         ...          ...          ...           ...   \n",
       "4411 2018-08-31 19:00:00         136           19            4            35   \n",
       "4412 2018-08-31 20:00:00         154           20            4            35   \n",
       "4413 2018-08-31 21:00:00         159           21            4            35   \n",
       "4414 2018-08-31 22:00:00         223           22            4            35   \n",
       "4415 2018-08-31 23:00:00         205           23            4            35   \n",
       "\n",
       "      is_weekend  rolling_mean  lag_1  lag_2  \n",
       "0              0           NaN    NaN    NaN  \n",
       "1              0           NaN  124.0    NaN  \n",
       "2              0           NaN   85.0  124.0  \n",
       "3              0           NaN   71.0   85.0  \n",
       "4              0          77.8   66.0   71.0  \n",
       "...          ...           ...    ...    ...  \n",
       "4411           0         174.6  207.0  217.0  \n",
       "4412           0         182.2  136.0  207.0  \n",
       "4413           0         174.6  154.0  136.0  \n",
       "4414           0         175.8  159.0  154.0  \n",
       "4415           0         175.4  223.0  159.0  \n",
       "\n",
       "[4416 rows x 9 columns]"
      ]
     },
     "execution_count": 11,
     "metadata": {},
     "output_type": "execute_result"
    }
   ],
   "source": [
    "df"
   ]
  },
  {
   "cell_type": "code",
   "execution_count": 12,
   "metadata": {},
   "outputs": [
    {
     "name": "stdout",
     "output_type": "stream",
     "text": [
      "<class 'pandas.core.frame.DataFrame'>\n",
      "RangeIndex: 4416 entries, 0 to 4415\n",
      "Data columns (total 9 columns):\n",
      " #   Column        Non-Null Count  Dtype         \n",
      "---  ------        --------------  -----         \n",
      " 0   datetime      4416 non-null   datetime64[ns]\n",
      " 1   num_orders    4416 non-null   int64         \n",
      " 2   hour_of_day   4416 non-null   int64         \n",
      " 3   day_of_week   4416 non-null   int64         \n",
      " 4   week_of_year  4416 non-null   int64         \n",
      " 5   is_weekend    4416 non-null   int64         \n",
      " 6   rolling_mean  4412 non-null   float64       \n",
      " 7   lag_1         4415 non-null   float64       \n",
      " 8   lag_2         4414 non-null   float64       \n",
      "dtypes: datetime64[ns](1), float64(3), int64(5)\n",
      "memory usage: 310.6 KB\n"
     ]
    }
   ],
   "source": [
    "df.info()"
   ]
  },
  {
   "cell_type": "code",
   "execution_count": 13,
   "metadata": {},
   "outputs": [
    {
     "data": {
      "text/plain": [
       "(4416, 9)"
      ]
     },
     "execution_count": 13,
     "metadata": {},
     "output_type": "execute_result"
    }
   ],
   "source": [
    "df.shape"
   ]
  },
  {
   "cell_type": "code",
   "execution_count": 14,
   "metadata": {},
   "outputs": [
    {
     "data": {
      "text/html": [
       "<div>\n",
       "<style scoped>\n",
       "    .dataframe tbody tr th:only-of-type {\n",
       "        vertical-align: middle;\n",
       "    }\n",
       "\n",
       "    .dataframe tbody tr th {\n",
       "        vertical-align: top;\n",
       "    }\n",
       "\n",
       "    .dataframe thead th {\n",
       "        text-align: right;\n",
       "    }\n",
       "</style>\n",
       "<table border=\"1\" class=\"dataframe\">\n",
       "  <thead>\n",
       "    <tr style=\"text-align: right;\">\n",
       "      <th></th>\n",
       "      <th>num_orders</th>\n",
       "    </tr>\n",
       "    <tr>\n",
       "      <th>datetime</th>\n",
       "      <th></th>\n",
       "    </tr>\n",
       "  </thead>\n",
       "  <tbody>\n",
       "    <tr>\n",
       "      <th>2018-03-01 00:00:00</th>\n",
       "      <td>9</td>\n",
       "    </tr>\n",
       "    <tr>\n",
       "      <th>2018-03-01 00:10:00</th>\n",
       "      <td>14</td>\n",
       "    </tr>\n",
       "    <tr>\n",
       "      <th>2018-03-01 00:20:00</th>\n",
       "      <td>28</td>\n",
       "    </tr>\n",
       "    <tr>\n",
       "      <th>2018-03-01 00:30:00</th>\n",
       "      <td>20</td>\n",
       "    </tr>\n",
       "    <tr>\n",
       "      <th>2018-03-01 00:40:00</th>\n",
       "      <td>32</td>\n",
       "    </tr>\n",
       "  </tbody>\n",
       "</table>\n",
       "</div>"
      ],
      "text/plain": [
       "                     num_orders\n",
       "datetime                       \n",
       "2018-03-01 00:00:00           9\n",
       "2018-03-01 00:10:00          14\n",
       "2018-03-01 00:20:00          28\n",
       "2018-03-01 00:30:00          20\n",
       "2018-03-01 00:40:00          32"
      ]
     },
     "execution_count": 14,
     "metadata": {},
     "output_type": "execute_result"
    }
   ],
   "source": [
    "data.head()"
   ]
  },
  {
   "cell_type": "code",
   "execution_count": 15,
   "metadata": {},
   "outputs": [
    {
     "data": {
      "text/plain": [
       "datetime        0\n",
       "num_orders      0\n",
       "hour_of_day     0\n",
       "day_of_week     0\n",
       "week_of_year    0\n",
       "is_weekend      0\n",
       "rolling_mean    4\n",
       "lag_1           1\n",
       "lag_2           2\n",
       "dtype: int64"
      ]
     },
     "execution_count": 15,
     "metadata": {},
     "output_type": "execute_result"
    }
   ],
   "source": [
    "df.isna().sum()"
   ]
  },
  {
   "cell_type": "markdown",
   "metadata": {},
   "source": [
    "Found NaN values in the dataset after adding columns."
   ]
  },
  {
   "cell_type": "code",
   "execution_count": 16,
   "metadata": {},
   "outputs": [],
   "source": [
    "df.dropna(inplace=True)"
   ]
  },
  {
   "cell_type": "code",
   "execution_count": 17,
   "metadata": {},
   "outputs": [
    {
     "data": {
      "text/plain": [
       "datetime        0\n",
       "num_orders      0\n",
       "hour_of_day     0\n",
       "day_of_week     0\n",
       "week_of_year    0\n",
       "is_weekend      0\n",
       "rolling_mean    0\n",
       "lag_1           0\n",
       "lag_2           0\n",
       "dtype: int64"
      ]
     },
     "execution_count": 17,
     "metadata": {},
     "output_type": "execute_result"
    }
   ],
   "source": [
    "df.isna().sum()"
   ]
  },
  {
   "cell_type": "markdown",
   "metadata": {},
   "source": [
    "<div class=\"alert alert-success\" style=\"border-radius: 15px; box-shadow: 4px 4px 4px; border: 1px solid \">\n",
    "<h2>   Reviewer's comment </h2>\n",
    "    \n",
    "This part is also correct. \n",
    "\n",
    "</div>"
   ]
  },
  {
   "cell_type": "markdown",
   "metadata": {},
   "source": [
    "### Finding span of data"
   ]
  },
  {
   "cell_type": "code",
   "execution_count": 18,
   "metadata": {},
   "outputs": [
    {
     "data": {
      "text/plain": [
       "Timestamp('2018-03-01 04:00:00')"
      ]
     },
     "execution_count": 18,
     "metadata": {},
     "output_type": "execute_result"
    }
   ],
   "source": [
    "df.datetime.min()"
   ]
  },
  {
   "cell_type": "code",
   "execution_count": 19,
   "metadata": {},
   "outputs": [
    {
     "data": {
      "text/plain": [
       "Timestamp('2018-08-31 23:00:00')"
      ]
     },
     "execution_count": 19,
     "metadata": {},
     "output_type": "execute_result"
    }
   ],
   "source": [
    "df.datetime.max()"
   ]
  },
  {
   "cell_type": "markdown",
   "metadata": {},
   "source": [
    "Dataset has data from 2018-3-1 till 2018-8-31. "
   ]
  },
  {
   "cell_type": "code",
   "execution_count": 20,
   "metadata": {
    "scrolled": false
   },
   "outputs": [
    {
     "data": {
      "image/png": "[encoded data removed]",
      "text/plain": [
       "<Figure size 640x480 with 1 Axes>"
      ]
     },
     "metadata": {},
     "output_type": "display_data"
    }
   ],
   "source": [
    "df['num_orders'].plot()\n",
    "plt.title('Number of Orders')\n",
    "plt.xlabel('Date')\n",
    "plt.ylabel('Number of Orders')\n",
    "plt.show()"
   ]
  },
  {
   "cell_type": "code",
   "execution_count": 21,
   "metadata": {},
   "outputs": [
    {
     "data": {
      "image/png": "[encoded data removed]",
      "text/plain": [
       "<Figure size 640x480 with 1 Axes>"
      ]
     },
     "metadata": {},
     "output_type": "display_data"
    }
   ],
   "source": [
    "df['rolling_mean'].plot()\n",
    "plt.title('Rolling Mean')\n",
    "plt.xlabel('Date')\n",
    "plt.ylabel('Mean Value')\n",
    "plt.show()"
   ]
  },
  {
   "cell_type": "markdown",
   "metadata": {},
   "source": [
    "Taxi demand exhibits strong hourly, daily, and weekly patterns. The predictive models will effectively capture these patterns and provide accurate forecasts. The addition of Lag features and rolling means will significantly improve model performance."
   ]
  },
  {
   "cell_type": "markdown",
   "metadata": {},
   "source": [
    "## Training"
   ]
  },
  {
   "cell_type": "markdown",
   "metadata": {},
   "source": [
    "### Data Split"
   ]
  },
  {
   "cell_type": "code",
   "execution_count": 22,
   "metadata": {},
   "outputs": [],
   "source": [
    "X_train, X_test, y_train, y_test = train_test_split(df.drop(['num_orders', 'datetime'], axis=1), df['num_orders'], shuffle= False, test_size=.1, random_state=12345)"
   ]
  },
  {
   "cell_type": "markdown",
   "metadata": {},
   "source": [
    "<div class=\"alert alert-success\" style=\"border-radius: 15px; box-shadow: 4px 4px 4px; border: 1px solid \">\n",
    "<h2>   Reviewer's comment </h2>\n",
    "    \n",
    "Good. \n",
    "</div>"
   ]
  },
  {
   "cell_type": "markdown",
   "metadata": {},
   "source": [
    "### Auto ARIMA"
   ]
  },
  {
   "cell_type": "code",
   "execution_count": 23,
   "metadata": {},
   "outputs": [
    {
     "name": "stdout",
     "output_type": "stream",
     "text": [
      "RMSE: 62.761\n",
      "                               SARIMAX Results                                \n",
      "==============================================================================\n",
      "Dep. Variable:                      y   No. Observations:                 3970\n",
      "Model:               SARIMAX(0, 1, 1)   Log Likelihood              -19601.128\n",
      "Date:                Mon, 27 Jan 2025   AIC                          39206.257\n",
      "Time:                        03:41:59   BIC                          39218.829\n",
      "Sample:                             0   HQIC                         39210.715\n",
      "                               - 3970                                         \n",
      "Covariance Type:                  opg                                         \n",
      "==============================================================================\n",
      "                 coef    std err          z      P>|z|      [0.025      0.975]\n",
      "------------------------------------------------------------------------------\n",
      "ma.L1         -0.4879      0.010    -46.855      0.000      -0.508      -0.467\n",
      "sigma2      1140.3882     20.462     55.732      0.000    1100.283    1180.493\n",
      "===================================================================================\n",
      "Ljung-Box (L1) (Q):                  35.18   Jarque-Bera (JB):               217.21\n",
      "Prob(Q):                              0.00   Prob(JB):                         0.00\n",
      "Heteroskedasticity (H):               1.94   Skew:                             0.08\n",
      "Prob(H) (two-sided):                  0.00   Kurtosis:                         4.13\n",
      "===================================================================================\n",
      "\n",
      "Warnings:\n",
      "[1] Covariance matrix calculated using the outer product of gradients (complex-step).\n",
      "CPU times: user 11 s, sys: 14.7 s, total: 25.7 s\n",
      "Wall time: 25.7 s\n"
     ]
    },
    {
     "name": "stderr",
     "output_type": "stream",
     "text": [
      "/opt/conda/envs/python3/lib/python3.9/site-packages/statsmodels/tsa/base/tsa_model.py:834: ValueWarning: No supported index is available. Prediction results will be given with an integer index beginning at `start`.\n",
      "  return get_prediction_index(\n"
     ]
    }
   ],
   "source": [
    "%%time\n",
    "model = auto_arima(y_train, scoring='mse')\n",
    "predictions = model.predict(len(y_test))\n",
    "\n",
    "auto_arima_rmse = mean_squared_error(y_test, predictions, squared=False)\n",
    "print('RMSE:', auto_arima_rmse.round(3))\n",
    "print(model.summary())"
   ]
  },
  {
   "cell_type": "markdown",
   "metadata": {},
   "source": [
    "### Linear Regression"
   ]
  },
  {
   "cell_type": "code",
   "execution_count": 24,
   "metadata": {
    "scrolled": true
   },
   "outputs": [
    {
     "name": "stdout",
     "output_type": "stream",
     "text": [
      "Linear Regression RMSE: 47.876\n",
      "CPU times: user 8.45 ms, sys: 73 µs, total: 8.53 ms\n",
      "Wall time: 66.1 ms\n"
     ]
    }
   ],
   "source": [
    "%%time\n",
    "lr = LinearRegression()\n",
    "lr.fit(X_train, y_train)\n",
    "predict = lr.predict(X_test)\n",
    "rmse = mean_squared_error(y_test, predict, squared=False)\n",
    "print('Linear Regression RMSE:', rmse.round(3))"
   ]
  },
  {
   "cell_type": "markdown",
   "metadata": {},
   "source": [
    "### LightGBM"
   ]
  },
  {
   "cell_type": "code",
   "execution_count": 25,
   "metadata": {},
   "outputs": [
    {
     "name": "stdout",
     "output_type": "stream",
     "text": [
      "Best Hyperparameters: {'learning_rate': 0.1, 'max_depth': 3, 'min_child_samples': 5, 'n_estimators': 300, 'num_leaves': 22, 'subsample': 0.8}\n",
      "Best RMSE: 20.526\n",
      "CPU times: user 9min 17s, sys: 15 s, total: 9min 32s\n",
      "Wall time: 9min 32s\n"
     ]
    }
   ],
   "source": [
    "%%time\n",
    "lgb_params = {\n",
    "    'n_estimators': [100, 200, 300],\n",
    "    'learning_rate': [0.1, 0.05, 0.01],\n",
    "    'max_depth': [3, 7],\n",
    "    'num_leaves': [22, 31, 40],\n",
    "    'min_child_samples': [5, 10, 20],\n",
    "    'subsample': [0.8, 0.9, 1.0],\n",
    "}\n",
    "\n",
    "lgb_model = lgb.LGBMRegressor(metric='rmse',random_state=12345)\n",
    "tscv = TimeSeriesSplit(n_splits=5)\n",
    "lgb_grid = GridSearchCV(lgb_model, lgb_params, scoring='neg_root_mean_squared_error', cv=tscv)\n",
    "lgb_grid.fit(X_train, y_train)\n",
    "\n",
    "print('Best Hyperparameters:', lgb_grid.best_params_)\n",
    "print('Best RMSE:', -lgb_grid.best_score_.round(3))"
   ]
  },
  {
   "cell_type": "markdown",
   "metadata": {},
   "source": [
    "<div class=\"alert alert-success\" style=\"border-radius: 15px; box-shadow: 4px 4px 4px; border: 1px solid \">\n",
    "<h2>   Reviewer's comment 2 </h2>\n",
    "    \n",
    "Correct! \n",
    "    \n",
    "\n",
    "</div>\n",
    "<div class=\"alert alert-success\" style=\"border-radius: 15px; box-shadow: 4px 4px 4px; border: 1px solid \">\n",
    "<h2>   Reviewer's comment </h2>\n",
    "    \n",
    "It's great that you tune hyperparameters! \n",
    "</div>\n",
    "<div class=\"alert alert-danger\" style=\"border-radius: 15px; box-shadow: 4px 4px 4px; border: 1px solid \">\n",
    "<b> Reviewer's comment</b>\n",
    "    \n",
    "When we work with time series, we have to remember about the correct order in the data. To ensure that the training data always precedes the test data in time, we have to employ the `TimeSeriesSplit` class, a cross-validator for time series. Just use it as `cv` parameter value.\n",
    "\n",
    "</div>"
   ]
  },
  {
   "cell_type": "markdown",
   "metadata": {},
   "source": [
    "### Random Forest"
   ]
  },
  {
   "cell_type": "code",
   "execution_count": 26,
   "metadata": {},
   "outputs": [
    {
     "name": "stdout",
     "output_type": "stream",
     "text": [
      "Best Hyperparameters: {'max_depth': 10, 'n_estimators': 200}\n",
      "Random Forest RMSE: 44.342\n",
      "CPU times: user 11.9 s, sys: 18.1 ms, total: 11.9 s\n",
      "Wall time: 11.9 s\n"
     ]
    }
   ],
   "source": [
    "%%time\n",
    "rf_params = {'n_estimators': [100, 200], 'max_depth': [2, 5, 10]}\n",
    "\n",
    "rf_model = RandomForestRegressor(random_state=12345)\n",
    "tscv = TimeSeriesSplit(n_splits=5)\n",
    "rf_grid = GridSearchCV(rf_model, rf_params, cv=tscv, scoring='neg_mean_squared_error')\n",
    "rf_grid.fit(X_train, y_train)\n",
    "rf_pred = rf_grid.best_estimator_.predict(X_test)\n",
    "rf_rmse = mean_squared_error(y_test, rf_pred, squared=False)\n",
    "print('Best Hyperparameters:', rf_grid.best_params_)\n",
    "print('Random Forest RMSE:', rf_rmse.round(3))"
   ]
  },
  {
   "cell_type": "markdown",
   "metadata": {},
   "source": [
    "<div class=\"alert alert-success\" style=\"border-radius: 15px; box-shadow: 4px 4px 4px; border: 1px solid \">\n",
    "<h2>   Reviewer's comment 2 </h2>\n",
    "    \n",
    "Great! \n",
    "\n",
    "</div>\n",
    "<div class=\"alert alert-danger\" style=\"border-radius: 15px; box-shadow: 4px 4px 4px; border: 1px solid \">\n",
    "<b> Reviewer's comment</b>\n",
    "    \n",
    "Same issue. \n",
    "</div>"
   ]
  },
  {
   "cell_type": "markdown",
   "metadata": {},
   "source": [
    "Made muntiple models all testing with RMSE. The Auto ARIMA ended up with a SARIMAX(0, 1, 1) model and RMSE of 62.76 which is above the 48 threshold needed. With the extra columns added ML models were also made. Linear regression came with a 47.8 RMSE. I used Linear Regression model as a baseline and tried Random Forest and LightGBM as well. LightGBM had a RMSE of 18.64 and Random forest with a 44.34 RMSE value."
   ]
  },
  {
   "cell_type": "markdown",
   "metadata": {},
   "source": [
    "## Testing"
   ]
  },
  {
   "cell_type": "code",
   "execution_count": 27,
   "metadata": {},
   "outputs": [
    {
     "name": "stdout",
     "output_type": "stream",
     "text": [
      "Final RMSE: 42.018\n",
      "CPU times: user 577 ms, sys: 15.6 ms, total: 593 ms\n",
      "Wall time: 555 ms\n"
     ]
    }
   ],
   "source": [
    "%%time\n",
    "test_lgb_model = lgb.LGBMRegressor(metric='rmse',random_state=12345, learning_rate= 0.1, max_depth= 7, min_child_samples= 5, n_estimators= 300, num_leaves= 31, subsample= 0.8)\n",
    "test_lgb_model.fit(X_train, y_train)\n",
    "predict = test_lgb_model.predict(X_test)\n",
    "rmse= mean_squared_error(y_test, predict, squared=False)\n",
    "print('Final RMSE:', rmse.round(3))"
   ]
  },
  {
   "cell_type": "markdown",
   "metadata": {},
   "source": [
    "## Conclusion"
   ]
  },
  {
   "cell_type": "markdown",
   "metadata": {},
   "source": [
    "For this project, I loaded in the data and resampled it to the hour. I analysed the data and added extra data points like hour of the day and rolling mean, and lags. I plotted the ACF and PACF to see the signficance of the lags to incorperate into my data. Adding the hour of the data could help capture short-term demand patterns, especially with time series like taxi orders. I Incorporated lag components to help the model understand how past data influences future predictions. \n",
    "\n",
    "I made munltiple models with RMSE as the scoring metric and LightGBM ended up being the best. After using the test set the final RMSE for the test set was 42.01."
   ]
  },
  {
   "cell_type": "markdown",
   "metadata": {},
   "source": [
    "<div class=\"alert alert-success\" style=\"border-radius: 15px; box-shadow: 4px 4px 4px; border: 1px solid \">\n",
    "<h2> Reviewer's comment</h2>\n",
    "    \n",
    "Excellent job, thank you so much! \n",
    "    \n",
    "</div>\n",
    "<div class=\"alert alert-danger\" style=\"border-radius: 15px; box-shadow: 4px 4px 4px; border: 1px solid \">\n",
    "<b> Reviewer's comment</b>\n",
    "    \n",
    "Please don't forget to update the conclusion if needed. \n",
    "    \n",
    "\n",
    "</div>\n",
    "<div class=\"alert alert-success\" style=\"border-radius: 15px; box-shadow: 4px 4px 4px; border: 1px solid \">\n",
    "<h2>   Reviewer's comment 2 </h2>\n",
    "    \n",
    "Well done! \n",
    "\n",
    "</div>"
   ]
  },
  {
   "cell_type": "markdown",
   "metadata": {},
   "source": [
    "# Review checklist"
   ]
  },
  {
   "cell_type": "markdown",
   "metadata": {},
   "source": [
    "- [x]  Jupyter Notebook is open\n",
    "- [x]  The code is error-free\n",
    "- [x]  The cells with the code have been arranged in order of execution\n",
    "- [x]  The data has been downloaded and prepared\n",
    "- [x]  The data has been analyzed\n",
    "- [x]  The model has been trained and hyperparameters have been selected\n",
    "- [x]  The models have been evaluated. Conclusion has been provided\n",
    "- [x] *RMSE* for the test set is not more than 48"
   ]
  }
 ],
 "metadata": {
  "ExecuteTimeLog": [
   {
    "duration": 319,
    "start_time": "2025-01-18T10:09:28.636Z"
   },
   {
    "duration": 532,
    "start_time": "2025-01-18T10:11:26.968Z"
   },
   {
    "duration": 26,
    "start_time": "2025-01-18T10:11:32.985Z"
   },
   {
    "duration": 10,
    "start_time": "2025-01-18T10:11:44.748Z"
   },
   {
    "duration": 286,
    "start_time": "2025-01-18T10:16:28.577Z"
   },
   {
    "duration": 45,
    "start_time": "2025-01-18T10:51:01.134Z"
   },
   {
    "duration": 6,
    "start_time": "2025-01-18T10:51:12.224Z"
   },
   {
    "duration": 22,
    "start_time": "2025-01-18T10:51:25.575Z"
   },
   {
    "duration": 6,
    "start_time": "2025-01-18T10:51:32.707Z"
   },
   {
    "duration": 155,
    "start_time": "2025-01-19T05:09:04.879Z"
   },
   {
    "duration": 11,
    "start_time": "2025-01-19T05:09:11.542Z"
   },
   {
    "duration": 325,
    "start_time": "2025-01-19T05:09:13.807Z"
   },
   {
    "duration": 24,
    "start_time": "2025-01-19T05:09:14.255Z"
   },
   {
    "duration": 8,
    "start_time": "2025-01-19T05:09:15.544Z"
   },
   {
    "duration": 20,
    "start_time": "2025-01-19T05:10:06.471Z"
   },
   {
    "duration": 10,
    "start_time": "2025-01-19T05:10:08.204Z"
   },
   {
    "duration": 10,
    "start_time": "2025-01-19T05:10:09.267Z"
   },
   {
    "duration": 22,
    "start_time": "2025-01-19T05:10:12.517Z"
   },
   {
    "duration": 8,
    "start_time": "2025-01-19T05:10:15.070Z"
   },
   {
    "duration": 6,
    "start_time": "2025-01-19T05:10:16.026Z"
   },
   {
    "duration": 20,
    "start_time": "2025-01-19T05:10:28.194Z"
   },
   {
    "duration": 87,
    "start_time": "2025-01-19T05:10:29.502Z"
   },
   {
    "duration": 21,
    "start_time": "2025-01-19T05:10:35.867Z"
   },
   {
    "duration": 9,
    "start_time": "2025-01-19T05:10:37.367Z"
   },
   {
    "duration": 6,
    "start_time": "2025-01-19T05:10:40.485Z"
   },
   {
    "duration": 21,
    "start_time": "2025-01-19T05:16:51.592Z"
   },
   {
    "duration": 21,
    "start_time": "2025-01-19T05:16:56.293Z"
   },
   {
    "duration": 14,
    "start_time": "2025-01-19T05:17:01.522Z"
   },
   {
    "duration": 9,
    "start_time": "2025-01-19T05:17:16.317Z"
   },
   {
    "duration": 22,
    "start_time": "2025-01-19T05:28:02.312Z"
   },
   {
    "duration": 9,
    "start_time": "2025-01-19T05:28:03.688Z"
   },
   {
    "duration": 6,
    "start_time": "2025-01-19T05:28:05.140Z"
   },
   {
    "duration": 25,
    "start_time": "2025-01-19T05:33:20.521Z"
   },
   {
    "duration": 8,
    "start_time": "2025-01-19T05:33:26.606Z"
   },
   {
    "duration": 5,
    "start_time": "2025-01-19T05:33:27.250Z"
   },
   {
    "duration": 21,
    "start_time": "2025-01-19T05:38:55.191Z"
   },
   {
    "duration": 10,
    "start_time": "2025-01-19T05:38:56.819Z"
   },
   {
    "duration": 10,
    "start_time": "2025-01-19T05:39:02.089Z"
   },
   {
    "duration": 4,
    "start_time": "2025-01-19T05:39:06.906Z"
   },
   {
    "duration": 6,
    "start_time": "2025-01-19T05:39:17.352Z"
   },
   {
    "duration": 8,
    "start_time": "2025-01-19T05:39:20.104Z"
   },
   {
    "duration": 5,
    "start_time": "2025-01-19T05:49:27.897Z"
   },
   {
    "duration": 6,
    "start_time": "2025-01-19T05:49:44.387Z"
   },
   {
    "duration": 2334,
    "start_time": "2025-01-19T06:08:36.029Z"
   },
   {
    "duration": 170,
    "start_time": "2025-01-19T06:13:34.244Z"
   },
   {
    "duration": 4,
    "start_time": "2025-01-19T06:13:47.502Z"
   },
   {
    "duration": 4,
    "start_time": "2025-01-19T06:14:00.169Z"
   },
   {
    "duration": 6,
    "start_time": "2025-01-19T06:17:54.292Z"
   },
   {
    "duration": 310,
    "start_time": "2025-01-19T06:22:20.877Z"
   },
   {
    "duration": 58,
    "start_time": "2025-01-19T06:23:10.851Z"
   },
   {
    "duration": 417,
    "start_time": "2025-01-19T06:25:25.367Z"
   },
   {
    "duration": 49,
    "start_time": "2025-01-19T06:28:29.367Z"
   },
   {
    "duration": 64,
    "start_time": "2025-01-19T06:28:33.381Z"
   },
   {
    "duration": 4,
    "start_time": "2025-01-19T06:28:38.457Z"
   },
   {
    "duration": 446,
    "start_time": "2025-01-19T06:28:51.814Z"
   },
   {
    "duration": 168,
    "start_time": "2025-01-20T06:52:38.576Z"
   },
   {
    "duration": 774,
    "start_time": "2025-01-20T06:52:43.111Z"
   },
   {
    "duration": 29,
    "start_time": "2025-01-20T06:52:43.887Z"
   },
   {
    "duration": 11,
    "start_time": "2025-01-20T06:52:43.918Z"
   },
   {
    "duration": 4,
    "start_time": "2025-01-20T06:52:43.932Z"
   },
   {
    "duration": 5,
    "start_time": "2025-01-20T06:52:43.937Z"
   },
   {
    "duration": 2356,
    "start_time": "2025-01-20T06:52:43.943Z"
   },
   {
    "duration": 173,
    "start_time": "2025-01-20T06:52:46.303Z"
   },
   {
    "duration": 93,
    "start_time": "2025-01-20T06:52:46.477Z"
   },
   {
    "duration": 0,
    "start_time": "2025-01-20T06:52:46.572Z"
   },
   {
    "duration": 2,
    "start_time": "2025-01-20T06:54:08.919Z"
   },
   {
    "duration": 19,
    "start_time": "2025-01-20T06:55:05.602Z"
   },
   {
    "duration": 310,
    "start_time": "2025-01-20T06:55:22.629Z"
   },
   {
    "duration": 380,
    "start_time": "2025-01-20T06:55:37.113Z"
   },
   {
    "duration": 4,
    "start_time": "2025-01-20T07:56:17.416Z"
   },
   {
    "duration": 70,
    "start_time": "2025-01-20T07:56:55.082Z"
   },
   {
    "duration": 355,
    "start_time": "2025-01-20T07:56:59.993Z"
   },
   {
    "duration": 228,
    "start_time": "2025-01-20T07:57:03.755Z"
   },
   {
    "duration": 352,
    "start_time": "2025-01-20T07:57:11.622Z"
   },
   {
    "duration": 468,
    "start_time": "2025-01-20T07:59:35.249Z"
   },
   {
    "duration": 160,
    "start_time": "2025-01-20T08:03:45.473Z"
   },
   {
    "duration": 26,
    "start_time": "2025-01-20T08:06:06.606Z"
   },
   {
    "duration": 77,
    "start_time": "2025-01-20T08:08:41.173Z"
   },
   {
    "duration": 3,
    "start_time": "2025-01-20T08:08:45.721Z"
   },
   {
    "duration": 29,
    "start_time": "2025-01-20T08:08:48.575Z"
   },
   {
    "duration": 453,
    "start_time": "2025-01-20T08:08:57.119Z"
   },
   {
    "duration": 286,
    "start_time": "2025-01-20T08:10:02.073Z"
   },
   {
    "duration": 428,
    "start_time": "2025-01-20T08:10:17.027Z"
   },
   {
    "duration": 426,
    "start_time": "2025-01-20T08:10:29.998Z"
   },
   {
    "duration": 14,
    "start_time": "2025-01-20T08:48:52.689Z"
   },
   {
    "duration": 27,
    "start_time": "2025-01-20T08:48:57.303Z"
   },
   {
    "duration": 197,
    "start_time": "2025-01-20T08:49:01.676Z"
   },
   {
    "duration": 3,
    "start_time": "2025-01-20T08:50:19.784Z"
   },
   {
    "duration": 258,
    "start_time": "2025-01-20T08:50:45.629Z"
   },
   {
    "duration": 12,
    "start_time": "2025-01-20T08:51:53.386Z"
   },
   {
    "duration": 4,
    "start_time": "2025-01-20T08:52:24.607Z"
   },
   {
    "duration": 261,
    "start_time": "2025-01-20T08:52:53.767Z"
   },
   {
    "duration": 372,
    "start_time": "2025-01-20T08:53:05.352Z"
   },
   {
    "duration": 592,
    "start_time": "2025-01-20T08:54:51.770Z"
   },
   {
    "duration": 582,
    "start_time": "2025-01-20T08:55:08.866Z"
   },
   {
    "duration": 615,
    "start_time": "2025-01-20T08:56:18.362Z"
   },
   {
    "duration": 4,
    "start_time": "2025-01-20T08:59:31.762Z"
   },
   {
    "duration": 594,
    "start_time": "2025-01-20T09:00:36.795Z"
   },
   {
    "duration": 661,
    "start_time": "2025-01-20T09:01:25.631Z"
   },
   {
    "duration": 7,
    "start_time": "2025-01-20T09:01:55.978Z"
   },
   {
    "duration": 587,
    "start_time": "2025-01-20T09:02:06.905Z"
   },
   {
    "duration": 21,
    "start_time": "2025-01-20T09:04:43.986Z"
   },
   {
    "duration": 3,
    "start_time": "2025-01-20T09:04:48.528Z"
   },
   {
    "duration": 73401,
    "start_time": "2025-01-20T09:04:52.590Z"
   },
   {
    "duration": 1037,
    "start_time": "2025-01-20T09:07:24.752Z"
   },
   {
    "duration": 32,
    "start_time": "2025-01-20T09:07:25.792Z"
   },
   {
    "duration": 7,
    "start_time": "2025-01-20T09:07:25.826Z"
   },
   {
    "duration": 4,
    "start_time": "2025-01-20T09:07:25.836Z"
   },
   {
    "duration": 3,
    "start_time": "2025-01-20T09:07:25.842Z"
   },
   {
    "duration": 457,
    "start_time": "2025-01-20T09:07:25.847Z"
   },
   {
    "duration": 180,
    "start_time": "2025-01-20T09:07:26.307Z"
   },
   {
    "duration": 392,
    "start_time": "2025-01-20T09:07:26.490Z"
   },
   {
    "duration": 615,
    "start_time": "2025-01-20T09:07:26.883Z"
   },
   {
    "duration": 6,
    "start_time": "2025-01-20T09:07:27.502Z"
   },
   {
    "duration": 995,
    "start_time": "2025-01-20T09:07:27.511Z"
   },
   {
    "duration": 74737,
    "start_time": "2025-01-20T09:07:28.508Z"
   },
   {
    "duration": 0,
    "start_time": "2025-01-20T09:08:43.246Z"
   },
   {
    "duration": 0,
    "start_time": "2025-01-20T09:08:43.248Z"
   },
   {
    "duration": 3,
    "start_time": "2025-01-20T09:09:36.252Z"
   },
   {
    "duration": 5,
    "start_time": "2025-01-20T09:09:45.217Z"
   },
   {
    "duration": 85175,
    "start_time": "2025-01-20T09:09:51.402Z"
   },
   {
    "duration": 85227,
    "start_time": "2025-01-20T09:13:48.487Z"
   },
   {
    "duration": 74357,
    "start_time": "2025-01-20T09:17:08.383Z"
   },
   {
    "duration": 1175,
    "start_time": "2025-01-20T09:44:56.949Z"
   },
   {
    "duration": 27,
    "start_time": "2025-01-20T09:44:58.126Z"
   },
   {
    "duration": 7,
    "start_time": "2025-01-20T09:44:58.155Z"
   },
   {
    "duration": 4,
    "start_time": "2025-01-20T09:44:58.164Z"
   },
   {
    "duration": 4,
    "start_time": "2025-01-20T09:44:58.169Z"
   },
   {
    "duration": 432,
    "start_time": "2025-01-20T09:44:58.175Z"
   },
   {
    "duration": 249,
    "start_time": "2025-01-20T09:44:58.609Z"
   },
   {
    "duration": 364,
    "start_time": "2025-01-20T09:44:58.860Z"
   },
   {
    "duration": 446,
    "start_time": "2025-01-20T09:44:59.226Z"
   },
   {
    "duration": 3,
    "start_time": "2025-01-20T09:44:59.675Z"
   },
   {
    "duration": 674,
    "start_time": "2025-01-20T09:44:59.680Z"
   },
   {
    "duration": 85434,
    "start_time": "2025-01-20T09:45:00.356Z"
   },
   {
    "duration": 294822,
    "start_time": "2025-01-20T09:46:25.792Z"
   },
   {
    "duration": 214,
    "start_time": "2025-01-20T09:51:20.618Z"
   },
   {
    "duration": 253,
    "start_time": "2025-01-20T09:51:20.834Z"
   },
   {
    "duration": 586,
    "start_time": "2025-01-20T09:51:21.089Z"
   },
   {
    "duration": 225,
    "start_time": "2025-01-20T09:52:36.834Z"
   },
   {
    "duration": 1124,
    "start_time": "2025-01-20T09:58:36.734Z"
   },
   {
    "duration": 26,
    "start_time": "2025-01-20T09:58:37.860Z"
   },
   {
    "duration": 255,
    "start_time": "2025-01-20T09:58:44.257Z"
   },
   {
    "duration": 4,
    "start_time": "2025-01-20T09:58:48.933Z"
   },
   {
    "duration": 1140,
    "start_time": "2025-01-20T10:15:45.719Z"
   },
   {
    "duration": 33,
    "start_time": "2025-01-20T10:15:47.860Z"
   },
   {
    "duration": 3,
    "start_time": "2025-01-20T10:15:54.469Z"
   },
   {
    "duration": 2833,
    "start_time": "2025-01-21T08:26:01.302Z"
   },
   {
    "duration": 38,
    "start_time": "2025-01-21T08:26:04.137Z"
   },
   {
    "duration": 7,
    "start_time": "2025-01-21T08:26:04.177Z"
   },
   {
    "duration": 4,
    "start_time": "2025-01-21T08:26:04.186Z"
   },
   {
    "duration": 4,
    "start_time": "2025-01-21T08:26:04.192Z"
   },
   {
    "duration": 419,
    "start_time": "2025-01-21T08:26:04.197Z"
   },
   {
    "duration": 172,
    "start_time": "2025-01-21T08:26:04.619Z"
   },
   {
    "duration": 368,
    "start_time": "2025-01-21T08:26:04.793Z"
   },
   {
    "duration": 517,
    "start_time": "2025-01-21T08:26:05.162Z"
   },
   {
    "duration": 3,
    "start_time": "2025-01-21T08:26:05.681Z"
   },
   {
    "duration": 647,
    "start_time": "2025-01-21T08:26:05.686Z"
   },
   {
    "duration": 85576,
    "start_time": "2025-01-21T08:26:06.335Z"
   },
   {
    "duration": 2857,
    "start_time": "2025-01-22T05:49:35.998Z"
   },
   {
    "duration": 35,
    "start_time": "2025-01-22T05:49:38.857Z"
   },
   {
    "duration": 8,
    "start_time": "2025-01-22T05:49:38.893Z"
   },
   {
    "duration": 4,
    "start_time": "2025-01-22T05:49:38.903Z"
   },
   {
    "duration": 18,
    "start_time": "2025-01-22T05:49:38.909Z"
   },
   {
    "duration": 489,
    "start_time": "2025-01-22T05:49:38.930Z"
   },
   {
    "duration": 174,
    "start_time": "2025-01-22T05:49:39.421Z"
   },
   {
    "duration": 384,
    "start_time": "2025-01-22T05:49:39.597Z"
   },
   {
    "duration": 553,
    "start_time": "2025-01-22T05:49:39.983Z"
   },
   {
    "duration": 5,
    "start_time": "2025-01-22T05:49:40.538Z"
   },
   {
    "duration": 866,
    "start_time": "2025-01-22T05:49:40.546Z"
   },
   {
    "duration": 84269,
    "start_time": "2025-01-22T05:49:41.414Z"
   },
   {
    "duration": 158,
    "start_time": "2025-01-22T05:58:15.671Z"
   },
   {
    "duration": 1137,
    "start_time": "2025-01-22T05:58:19.965Z"
   },
   {
    "duration": 27,
    "start_time": "2025-01-22T05:58:22.583Z"
   },
   {
    "duration": 3,
    "start_time": "2025-01-22T05:58:27.847Z"
   },
   {
    "duration": 22946,
    "start_time": "2025-01-22T05:58:32.595Z"
   },
   {
    "duration": 3,
    "start_time": "2025-01-22T07:19:29.150Z"
   },
   {
    "duration": 22,
    "start_time": "2025-01-22T07:19:29.155Z"
   },
   {
    "duration": 8,
    "start_time": "2025-01-22T07:19:29.179Z"
   },
   {
    "duration": 4,
    "start_time": "2025-01-22T07:19:29.188Z"
   },
   {
    "duration": 3,
    "start_time": "2025-01-22T07:19:29.195Z"
   },
   {
    "duration": 453,
    "start_time": "2025-01-22T07:19:29.200Z"
   },
   {
    "duration": 170,
    "start_time": "2025-01-22T07:19:29.655Z"
   },
   {
    "duration": 361,
    "start_time": "2025-01-22T07:19:29.827Z"
   },
   {
    "duration": 458,
    "start_time": "2025-01-22T07:19:30.190Z"
   },
   {
    "duration": 3,
    "start_time": "2025-01-22T07:19:30.650Z"
   },
   {
    "duration": 735,
    "start_time": "2025-01-22T07:19:30.655Z"
   },
   {
    "duration": 86098,
    "start_time": "2025-01-22T07:19:31.391Z"
   },
   {
    "duration": 22158,
    "start_time": "2025-01-22T07:20:57.490Z"
   },
   {
    "duration": 275,
    "start_time": "2025-01-22T07:21:19.651Z"
   },
   {
    "duration": 254,
    "start_time": "2025-01-22T07:21:19.928Z"
   },
   {
    "duration": 162,
    "start_time": "2025-01-22T07:41:19.625Z"
   },
   {
    "duration": 1130,
    "start_time": "2025-01-22T07:41:25.128Z"
   },
   {
    "duration": 32,
    "start_time": "2025-01-22T07:41:26.985Z"
   },
   {
    "duration": 4,
    "start_time": "2025-01-22T07:41:32.462Z"
   },
   {
    "duration": 1088,
    "start_time": "2025-01-22T08:26:25.509Z"
   },
   {
    "duration": 30,
    "start_time": "2025-01-22T08:26:28.748Z"
   },
   {
    "duration": 3,
    "start_time": "2025-01-22T08:31:46.965Z"
   },
   {
    "duration": 156,
    "start_time": "2025-01-22T08:44:16.708Z"
   },
   {
    "duration": 1083,
    "start_time": "2025-01-22T08:44:22.217Z"
   },
   {
    "duration": 4,
    "start_time": "2025-01-22T08:44:34.448Z"
   },
   {
    "duration": 28,
    "start_time": "2025-01-22T08:44:34.796Z"
   },
   {
    "duration": 3,
    "start_time": "2025-01-22T08:44:49.704Z"
   },
   {
    "duration": 1139,
    "start_time": "2025-01-22T09:23:21.628Z"
   },
   {
    "duration": 27,
    "start_time": "2025-01-22T09:23:24.433Z"
   },
   {
    "duration": 3,
    "start_time": "2025-01-22T09:23:28.956Z"
   },
   {
    "duration": 22068,
    "start_time": "2025-01-22T09:23:34.979Z"
   },
   {
    "duration": 251,
    "start_time": "2025-01-22T09:24:54.009Z"
   },
   {
    "duration": 3,
    "start_time": "2025-01-22T09:25:39.508Z"
   },
   {
    "duration": 21,
    "start_time": "2025-01-22T09:25:42.650Z"
   },
   {
    "duration": 3,
    "start_time": "2025-01-22T09:27:18.278Z"
   },
   {
    "duration": 16,
    "start_time": "2025-01-22T09:30:46.930Z"
   },
   {
    "duration": 337,
    "start_time": "2025-01-22T09:30:53.556Z"
   },
   {
    "duration": 1065,
    "start_time": "2025-01-22T09:38:52.000Z"
   },
   {
    "duration": 29,
    "start_time": "2025-01-22T09:40:48.657Z"
   },
   {
    "duration": 3,
    "start_time": "2025-01-22T09:40:54.704Z"
   },
   {
    "duration": 22822,
    "start_time": "2025-01-22T09:41:25.911Z"
   },
   {
    "duration": 4,
    "start_time": "2025-01-22T09:51:09.146Z"
   },
   {
    "duration": 633935,
    "start_time": "2025-01-22T09:51:14.107Z"
   },
   {
    "duration": 321,
    "start_time": "2025-01-22T10:12:06.004Z"
   },
   {
    "duration": 629536,
    "start_time": "2025-01-22T10:12:41.404Z"
   },
   {
    "duration": 2906,
    "start_time": "2025-01-23T00:31:17.373Z"
   },
   {
    "duration": 35,
    "start_time": "2025-01-23T00:31:20.282Z"
   },
   {
    "duration": 3,
    "start_time": "2025-01-23T00:31:34.982Z"
   },
   {
    "duration": 24073,
    "start_time": "2025-01-23T00:31:41.577Z"
   },
   {
    "duration": 559,
    "start_time": "2025-01-23T00:47:14.542Z"
   },
   {
    "duration": 2800,
    "start_time": "2025-01-23T06:18:02.469Z"
   },
   {
    "duration": 35,
    "start_time": "2025-01-23T06:18:06.116Z"
   },
   {
    "duration": 568,
    "start_time": "2025-01-23T07:14:50.579Z"
   },
   {
    "duration": 28,
    "start_time": "2025-01-23T07:15:05.234Z"
   },
   {
    "duration": 19,
    "start_time": "2025-01-23T07:15:16.023Z"
   },
   {
    "duration": 1038,
    "start_time": "2025-01-23T07:15:59.454Z"
   },
   {
    "duration": 28,
    "start_time": "2025-01-23T07:16:01.269Z"
   },
   {
    "duration": 7,
    "start_time": "2025-01-23T07:16:09.958Z"
   },
   {
    "duration": 11,
    "start_time": "2025-01-23T07:16:10.947Z"
   },
   {
    "duration": 1056,
    "start_time": "2025-01-23T07:34:15.315Z"
   },
   {
    "duration": 27,
    "start_time": "2025-01-23T07:34:17.113Z"
   },
   {
    "duration": 10,
    "start_time": "2025-01-23T07:34:21.855Z"
   },
   {
    "duration": 13,
    "start_time": "2025-01-23T07:34:22.484Z"
   },
   {
    "duration": 13,
    "start_time": "2025-01-23T07:34:30.782Z"
   },
   {
    "duration": 11,
    "start_time": "2025-01-23T07:34:41.628Z"
   },
   {
    "duration": 461,
    "start_time": "2025-01-23T07:35:34.966Z"
   },
   {
    "duration": 337,
    "start_time": "2025-01-23T07:36:16.255Z"
   },
   {
    "duration": 404,
    "start_time": "2025-01-23T07:36:34.249Z"
   },
   {
    "duration": 410,
    "start_time": "2025-01-23T07:36:42.225Z"
   },
   {
    "duration": 493,
    "start_time": "2025-01-23T07:37:30.024Z"
   },
   {
    "duration": 412,
    "start_time": "2025-01-23T07:37:36.205Z"
   },
   {
    "duration": 517,
    "start_time": "2025-01-23T07:37:44.114Z"
   },
   {
    "duration": 13,
    "start_time": "2025-01-23T08:00:20.929Z"
   },
   {
    "duration": 3,
    "start_time": "2025-01-23T08:00:30.435Z"
   },
   {
    "duration": 23,
    "start_time": "2025-01-23T08:00:41.064Z"
   },
   {
    "duration": 4,
    "start_time": "2025-01-23T08:00:42.727Z"
   },
   {
    "duration": 17,
    "start_time": "2025-01-23T08:00:47.993Z"
   },
   {
    "duration": 17,
    "start_time": "2025-01-23T08:00:48.509Z"
   },
   {
    "duration": 4998,
    "start_time": "2025-01-23T08:10:50.000Z"
   },
   {
    "duration": 331,
    "start_time": "2025-01-23T08:11:16.126Z"
   },
   {
    "duration": 160,
    "start_time": "2025-01-23T08:11:22.789Z"
   },
   {
    "duration": 4,
    "start_time": "2025-01-23T08:35:21.887Z"
   },
   {
    "duration": 251,
    "start_time": "2025-01-23T08:36:54.201Z"
   },
   {
    "duration": 358,
    "start_time": "2025-01-23T08:37:19.150Z"
   },
   {
    "duration": 46,
    "start_time": "2025-01-23T08:38:25.760Z"
   },
   {
    "duration": 50,
    "start_time": "2025-01-23T08:38:43.849Z"
   },
   {
    "duration": 15,
    "start_time": "2025-01-23T08:38:56.780Z"
   },
   {
    "duration": 18,
    "start_time": "2025-01-23T08:38:58.792Z"
   },
   {
    "duration": 1068,
    "start_time": "2025-01-23T08:39:15.024Z"
   },
   {
    "duration": 26,
    "start_time": "2025-01-23T08:39:17.171Z"
   },
   {
    "duration": 10,
    "start_time": "2025-01-23T08:39:20.805Z"
   },
   {
    "duration": 6,
    "start_time": "2025-01-23T08:39:33.345Z"
   },
   {
    "duration": 11,
    "start_time": "2025-01-23T08:39:35.821Z"
   },
   {
    "duration": 13,
    "start_time": "2025-01-23T08:39:47.147Z"
   },
   {
    "duration": 10,
    "start_time": "2025-01-23T08:42:35.412Z"
   },
   {
    "duration": 180,
    "start_time": "2025-01-23T08:42:51.015Z"
   },
   {
    "duration": 254,
    "start_time": "2025-01-23T08:47:29.898Z"
   },
   {
    "duration": 16,
    "start_time": "2025-01-23T08:47:37.041Z"
   },
   {
    "duration": 1076,
    "start_time": "2025-01-23T08:48:05.581Z"
   },
   {
    "duration": 27,
    "start_time": "2025-01-23T08:48:06.659Z"
   },
   {
    "duration": 4,
    "start_time": "2025-01-23T08:48:06.688Z"
   },
   {
    "duration": 6,
    "start_time": "2025-01-23T08:48:06.696Z"
   },
   {
    "duration": 4,
    "start_time": "2025-01-23T08:48:06.703Z"
   },
   {
    "duration": 4,
    "start_time": "2025-01-23T08:48:06.709Z"
   },
   {
    "duration": 9,
    "start_time": "2025-01-23T08:48:06.715Z"
   },
   {
    "duration": 6,
    "start_time": "2025-01-23T08:48:06.725Z"
   },
   {
    "duration": 10,
    "start_time": "2025-01-23T08:48:06.732Z"
   },
   {
    "duration": 149,
    "start_time": "2025-01-23T08:48:06.787Z"
   },
   {
    "duration": 173,
    "start_time": "2025-01-23T08:48:06.939Z"
   },
   {
    "duration": 521,
    "start_time": "2025-01-23T08:48:07.114Z"
   },
   {
    "duration": 4,
    "start_time": "2025-01-23T08:48:07.637Z"
   },
   {
    "duration": 188,
    "start_time": "2025-01-23T08:48:07.642Z"
   },
   {
    "duration": 280,
    "start_time": "2025-01-23T08:48:07.832Z"
   },
   {
    "duration": 5,
    "start_time": "2025-01-23T08:48:08.114Z"
   },
   {
    "duration": 0,
    "start_time": "2025-01-23T08:48:08.122Z"
   },
   {
    "duration": 0,
    "start_time": "2025-01-23T08:48:08.124Z"
   },
   {
    "duration": 0,
    "start_time": "2025-01-23T08:48:08.125Z"
   },
   {
    "duration": 687,
    "start_time": "2025-01-23T08:49:43.673Z"
   },
   {
    "duration": 86220,
    "start_time": "2025-01-23T08:49:44.362Z"
   },
   {
    "duration": 24210,
    "start_time": "2025-01-23T08:51:10.583Z"
   },
   {
    "duration": 187,
    "start_time": "2025-01-23T09:40:12.219Z"
   },
   {
    "duration": 19,
    "start_time": "2025-01-23T09:41:37.225Z"
   },
   {
    "duration": 14,
    "start_time": "2025-01-23T09:42:00.297Z"
   },
   {
    "duration": 11,
    "start_time": "2025-01-23T09:42:10.112Z"
   },
   {
    "duration": 10,
    "start_time": "2025-01-23T09:42:24.222Z"
   },
   {
    "duration": 12,
    "start_time": "2025-01-23T09:42:34.993Z"
   },
   {
    "duration": 11,
    "start_time": "2025-01-23T09:42:40.949Z"
   },
   {
    "duration": 12,
    "start_time": "2025-01-23T09:43:34.869Z"
   },
   {
    "duration": 11,
    "start_time": "2025-01-23T09:43:40.317Z"
   },
   {
    "duration": 8,
    "start_time": "2025-01-23T09:46:39.428Z"
   },
   {
    "duration": 7,
    "start_time": "2025-01-23T09:46:52.746Z"
   },
   {
    "duration": 8,
    "start_time": "2025-01-23T09:47:52.001Z"
   },
   {
    "duration": 2890,
    "start_time": "2025-01-23T15:22:16.275Z"
   },
   {
    "duration": 32,
    "start_time": "2025-01-23T15:22:19.167Z"
   },
   {
    "duration": 10,
    "start_time": "2025-01-23T15:22:26.413Z"
   },
   {
    "duration": 6,
    "start_time": "2025-01-23T15:22:27.068Z"
   },
   {
    "duration": 4,
    "start_time": "2025-01-23T15:22:49.081Z"
   },
   {
    "duration": 12,
    "start_time": "2025-01-23T15:22:52.997Z"
   },
   {
    "duration": 4,
    "start_time": "2025-01-23T15:22:54.871Z"
   },
   {
    "duration": 13,
    "start_time": "2025-01-23T15:25:40.041Z"
   },
   {
    "duration": 5,
    "start_time": "2025-01-23T15:25:41.861Z"
   },
   {
    "duration": 3,
    "start_time": "2025-01-23T15:25:42.394Z"
   },
   {
    "duration": 11,
    "start_time": "2025-01-23T15:25:44.532Z"
   },
   {
    "duration": 1126,
    "start_time": "2025-01-23T15:25:56.943Z"
   },
   {
    "duration": 25,
    "start_time": "2025-01-23T15:25:58.071Z"
   },
   {
    "duration": 11,
    "start_time": "2025-01-23T15:25:58.201Z"
   },
   {
    "duration": 5,
    "start_time": "2025-01-23T15:25:58.673Z"
   },
   {
    "duration": 4,
    "start_time": "2025-01-23T15:25:59.156Z"
   },
   {
    "duration": 12,
    "start_time": "2025-01-23T15:25:59.609Z"
   },
   {
    "duration": 14,
    "start_time": "2025-01-23T15:26:27.617Z"
   },
   {
    "duration": 9,
    "start_time": "2025-01-23T15:31:20.840Z"
   },
   {
    "duration": 130,
    "start_time": "2025-01-23T15:34:25.748Z"
   },
   {
    "duration": 648,
    "start_time": "2025-01-23T15:36:28.269Z"
   },
   {
    "duration": 94,
    "start_time": "2025-01-23T15:37:09.585Z"
   },
   {
    "duration": 4,
    "start_time": "2025-01-23T15:37:10.958Z"
   },
   {
    "duration": 6,
    "start_time": "2025-01-23T15:37:12.247Z"
   },
   {
    "duration": 12,
    "start_time": "2025-01-23T15:37:12.655Z"
   },
   {
    "duration": 40,
    "start_time": "2025-01-23T15:37:18.721Z"
   },
   {
    "duration": 1089,
    "start_time": "2025-01-23T15:37:43.204Z"
   },
   {
    "duration": 33,
    "start_time": "2025-01-23T15:37:44.295Z"
   },
   {
    "duration": 18,
    "start_time": "2025-01-23T15:37:44.687Z"
   },
   {
    "duration": 6,
    "start_time": "2025-01-23T15:37:45.377Z"
   },
   {
    "duration": 640,
    "start_time": "2025-01-23T15:37:52.493Z"
   },
   {
    "duration": 41,
    "start_time": "2025-01-23T15:38:19.490Z"
   },
   {
    "duration": 486,
    "start_time": "2025-01-23T15:39:12.748Z"
   },
   {
    "duration": 118,
    "start_time": "2025-01-23T15:39:33.863Z"
   },
   {
    "duration": 159,
    "start_time": "2025-01-23T15:39:44.158Z"
   },
   {
    "duration": 1092,
    "start_time": "2025-01-23T15:39:48.112Z"
   },
   {
    "duration": 27,
    "start_time": "2025-01-23T15:39:49.207Z"
   },
   {
    "duration": 17,
    "start_time": "2025-01-23T15:39:50.280Z"
   },
   {
    "duration": 5,
    "start_time": "2025-01-23T15:39:52.734Z"
   },
   {
    "duration": 5,
    "start_time": "2025-01-23T15:39:53.854Z"
   },
   {
    "duration": 474,
    "start_time": "2025-01-23T15:40:21.830Z"
   },
   {
    "duration": 16,
    "start_time": "2025-01-23T15:40:33.173Z"
   },
   {
    "duration": 1095,
    "start_time": "2025-01-23T15:40:39.838Z"
   },
   {
    "duration": 25,
    "start_time": "2025-01-23T15:40:40.935Z"
   },
   {
    "duration": 16,
    "start_time": "2025-01-23T15:40:40.961Z"
   },
   {
    "duration": 6,
    "start_time": "2025-01-23T15:40:41.260Z"
   },
   {
    "duration": 676,
    "start_time": "2025-01-23T15:41:26.997Z"
   },
   {
    "duration": 565,
    "start_time": "2025-01-23T15:43:00.175Z"
   },
   {
    "duration": 584,
    "start_time": "2025-01-23T15:43:12.660Z"
   },
   {
    "duration": 36,
    "start_time": "2025-01-23T15:43:18.401Z"
   },
   {
    "duration": 539,
    "start_time": "2025-01-23T15:43:26.979Z"
   },
   {
    "duration": 515,
    "start_time": "2025-01-23T15:43:34.871Z"
   },
   {
    "duration": 448,
    "start_time": "2025-01-23T15:44:02.223Z"
   },
   {
    "duration": 6,
    "start_time": "2025-01-23T15:46:01.162Z"
   },
   {
    "duration": 15,
    "start_time": "2025-01-23T15:46:06.481Z"
   },
   {
    "duration": 4,
    "start_time": "2025-01-23T15:46:39.912Z"
   },
   {
    "duration": 17,
    "start_time": "2025-01-23T15:54:57.110Z"
   },
   {
    "duration": 7,
    "start_time": "2025-01-23T15:55:07.402Z"
   },
   {
    "duration": 413,
    "start_time": "2025-01-23T15:55:12.732Z"
   },
   {
    "duration": 4,
    "start_time": "2025-01-23T15:55:32.688Z"
   },
   {
    "duration": 10,
    "start_time": "2025-01-23T15:55:54.264Z"
   },
   {
    "duration": 3,
    "start_time": "2025-01-23T15:56:29.326Z"
   },
   {
    "duration": 9,
    "start_time": "2025-01-23T15:56:32.090Z"
   },
   {
    "duration": 3,
    "start_time": "2025-01-23T15:56:51.555Z"
   },
   {
    "duration": 10,
    "start_time": "2025-01-23T15:56:53.687Z"
   },
   {
    "duration": 98,
    "start_time": "2025-01-23T15:57:04.993Z"
   },
   {
    "duration": 4,
    "start_time": "2025-01-23T15:57:30.098Z"
   },
   {
    "duration": 10,
    "start_time": "2025-01-23T15:57:31.921Z"
   },
   {
    "duration": 74,
    "start_time": "2025-01-23T15:57:51.740Z"
   },
   {
    "duration": 14,
    "start_time": "2025-01-23T15:58:54.389Z"
   },
   {
    "duration": 3,
    "start_time": "2025-01-23T15:59:19.375Z"
   },
   {
    "duration": 14,
    "start_time": "2025-01-23T15:59:23.228Z"
   },
   {
    "duration": 5,
    "start_time": "2025-01-23T15:59:45.772Z"
   },
   {
    "duration": 15,
    "start_time": "2025-01-23T15:59:48.987Z"
   },
   {
    "duration": 3,
    "start_time": "2025-01-23T16:00:05.139Z"
   },
   {
    "duration": 67,
    "start_time": "2025-01-23T16:00:14.729Z"
   },
   {
    "duration": 2762,
    "start_time": "2025-01-24T05:25:12.914Z"
   },
   {
    "duration": 35,
    "start_time": "2025-01-24T05:25:15.678Z"
   },
   {
    "duration": 9,
    "start_time": "2025-01-24T05:52:06.819Z"
   },
   {
    "duration": 23,
    "start_time": "2025-01-24T05:54:24.142Z"
   },
   {
    "duration": 11,
    "start_time": "2025-01-24T05:54:25.416Z"
   },
   {
    "duration": 5,
    "start_time": "2025-01-24T05:54:26.637Z"
   },
   {
    "duration": 4,
    "start_time": "2025-01-24T05:54:28.983Z"
   },
   {
    "duration": 12,
    "start_time": "2025-01-24T05:54:43.905Z"
   },
   {
    "duration": 523,
    "start_time": "2025-01-24T05:58:41.116Z"
   },
   {
    "duration": 182,
    "start_time": "2025-01-24T05:58:49.316Z"
   },
   {
    "duration": 10,
    "start_time": "2025-01-24T06:01:10.516Z"
   },
   {
    "duration": 3,
    "start_time": "2025-01-24T06:01:17.384Z"
   },
   {
    "duration": 28,
    "start_time": "2025-01-24T06:02:04.434Z"
   },
   {
    "duration": 1115,
    "start_time": "2025-01-24T06:03:27.786Z"
   },
   {
    "duration": 28,
    "start_time": "2025-01-24T06:03:28.903Z"
   },
   {
    "duration": 10,
    "start_time": "2025-01-24T06:03:32.591Z"
   },
   {
    "duration": 5,
    "start_time": "2025-01-24T06:03:33.986Z"
   },
   {
    "duration": 14,
    "start_time": "2025-01-24T06:03:37.221Z"
   },
   {
    "duration": 10,
    "start_time": "2025-01-24T06:03:40.077Z"
   },
   {
    "duration": 179,
    "start_time": "2025-01-24T06:03:45.088Z"
   },
   {
    "duration": 3,
    "start_time": "2025-01-24T06:04:21.356Z"
   },
   {
    "duration": 112,
    "start_time": "2025-01-24T06:04:24.262Z"
   },
   {
    "duration": 7,
    "start_time": "2025-01-24T06:06:22.179Z"
   },
   {
    "duration": 185,
    "start_time": "2025-01-24T06:06:26.639Z"
   },
   {
    "duration": 4,
    "start_time": "2025-01-24T06:06:58.712Z"
   },
   {
    "duration": 325,
    "start_time": "2025-01-24T06:07:13.680Z"
   },
   {
    "duration": 5,
    "start_time": "2025-01-24T06:07:36.447Z"
   },
   {
    "duration": 6,
    "start_time": "2025-01-24T06:08:59.254Z"
   },
   {
    "duration": 5,
    "start_time": "2025-01-24T06:09:16.583Z"
   },
   {
    "duration": 1109,
    "start_time": "2025-01-24T06:20:42.333Z"
   },
   {
    "duration": 25,
    "start_time": "2025-01-24T06:20:43.444Z"
   },
   {
    "duration": 11,
    "start_time": "2025-01-24T06:20:48.141Z"
   },
   {
    "duration": 6,
    "start_time": "2025-01-24T06:20:49.170Z"
   },
   {
    "duration": 4,
    "start_time": "2025-01-24T06:20:49.948Z"
   },
   {
    "duration": 14,
    "start_time": "2025-01-24T06:20:51.657Z"
   },
   {
    "duration": 179,
    "start_time": "2025-01-24T06:20:59.063Z"
   },
   {
    "duration": 21,
    "start_time": "2025-01-24T06:21:17.892Z"
   },
   {
    "duration": 1240,
    "start_time": "2025-01-24T06:21:26.816Z"
   },
   {
    "duration": 1104,
    "start_time": "2025-01-24T07:23:11.662Z"
   },
   {
    "duration": 1205,
    "start_time": "2025-01-24T07:23:15.900Z"
   },
   {
    "duration": 1185,
    "start_time": "2025-01-24T07:23:23.986Z"
   },
   {
    "duration": 1101,
    "start_time": "2025-01-24T07:23:30.616Z"
   },
   {
    "duration": 5,
    "start_time": "2025-01-24T07:36:18.661Z"
   },
   {
    "duration": 22,
    "start_time": "2025-01-24T07:36:58.069Z"
   },
   {
    "duration": 1102,
    "start_time": "2025-01-24T07:37:05.423Z"
   },
   {
    "duration": 27,
    "start_time": "2025-01-24T07:37:06.527Z"
   },
   {
    "duration": 13,
    "start_time": "2025-01-24T07:37:10.380Z"
   },
   {
    "duration": 5,
    "start_time": "2025-01-24T07:37:10.646Z"
   },
   {
    "duration": 5,
    "start_time": "2025-01-24T07:37:10.954Z"
   },
   {
    "duration": 13,
    "start_time": "2025-01-24T07:37:11.397Z"
   },
   {
    "duration": 943,
    "start_time": "2025-01-24T07:37:22.371Z"
   },
   {
    "duration": 35,
    "start_time": "2025-01-24T07:43:10.008Z"
   },
   {
    "duration": 7,
    "start_time": "2025-01-24T08:28:52.470Z"
   },
   {
    "duration": 23,
    "start_time": "2025-01-24T08:29:19.455Z"
   },
   {
    "duration": 5,
    "start_time": "2025-01-24T08:29:28.072Z"
   },
   {
    "duration": 6,
    "start_time": "2025-01-24T08:29:47.032Z"
   },
   {
    "duration": 1123,
    "start_time": "2025-01-24T08:36:42.304Z"
   },
   {
    "duration": 70,
    "start_time": "2025-01-24T08:36:51.739Z"
   },
   {
    "duration": 31,
    "start_time": "2025-01-24T08:36:55.997Z"
   },
   {
    "duration": 28,
    "start_time": "2025-01-24T08:37:03.579Z"
   },
   {
    "duration": 1099,
    "start_time": "2025-01-24T08:37:13.903Z"
   },
   {
    "duration": 31,
    "start_time": "2025-01-24T08:37:15.004Z"
   },
   {
    "duration": 12,
    "start_time": "2025-01-24T08:37:15.037Z"
   },
   {
    "duration": 7,
    "start_time": "2025-01-24T08:37:15.051Z"
   },
   {
    "duration": 5,
    "start_time": "2025-01-24T08:37:15.061Z"
   },
   {
    "duration": 14,
    "start_time": "2025-01-24T08:37:15.068Z"
   },
   {
    "duration": 7,
    "start_time": "2025-01-24T08:37:15.083Z"
   },
   {
    "duration": 40,
    "start_time": "2025-01-24T08:37:15.092Z"
   },
   {
    "duration": 3,
    "start_time": "2025-01-24T08:37:15.134Z"
   },
   {
    "duration": 5,
    "start_time": "2025-01-24T08:37:15.141Z"
   },
   {
    "duration": 5,
    "start_time": "2025-01-24T08:37:15.147Z"
   },
   {
    "duration": 4,
    "start_time": "2025-01-24T08:37:15.154Z"
   },
   {
    "duration": 5,
    "start_time": "2025-01-24T08:37:15.160Z"
   },
   {
    "duration": 149,
    "start_time": "2025-01-24T08:37:15.167Z"
   },
   {
    "duration": 379,
    "start_time": "2025-01-24T08:37:15.318Z"
   },
   {
    "duration": 0,
    "start_time": "2025-01-24T08:37:15.699Z"
   },
   {
    "duration": 0,
    "start_time": "2025-01-24T08:37:15.700Z"
   },
   {
    "duration": 0,
    "start_time": "2025-01-24T08:37:15.702Z"
   },
   {
    "duration": 0,
    "start_time": "2025-01-24T08:37:15.703Z"
   },
   {
    "duration": 0,
    "start_time": "2025-01-24T08:37:15.704Z"
   },
   {
    "duration": 0,
    "start_time": "2025-01-24T08:37:15.704Z"
   },
   {
    "duration": 0,
    "start_time": "2025-01-24T08:37:15.705Z"
   },
   {
    "duration": 0,
    "start_time": "2025-01-24T08:37:15.706Z"
   },
   {
    "duration": 0,
    "start_time": "2025-01-24T08:37:15.707Z"
   },
   {
    "duration": 31,
    "start_time": "2025-01-24T08:40:14.928Z"
   },
   {
    "duration": 31,
    "start_time": "2025-01-24T09:21:05.839Z"
   },
   {
    "duration": 3220,
    "start_time": "2025-01-25T02:33:16.382Z"
   },
   {
    "duration": 44,
    "start_time": "2025-01-25T02:33:21.077Z"
   },
   {
    "duration": 13,
    "start_time": "2025-01-25T02:33:24.654Z"
   },
   {
    "duration": 6,
    "start_time": "2025-01-25T02:33:27.336Z"
   },
   {
    "duration": 4,
    "start_time": "2025-01-25T02:33:28.260Z"
   },
   {
    "duration": 14,
    "start_time": "2025-01-25T02:33:30.089Z"
   },
   {
    "duration": 135,
    "start_time": "2025-01-25T02:33:39.345Z"
   },
   {
    "duration": 364,
    "start_time": "2025-01-25T02:33:49.154Z"
   },
   {
    "duration": 29,
    "start_time": "2025-01-25T02:33:56.451Z"
   },
   {
    "duration": 38,
    "start_time": "2025-01-25T02:35:54.686Z"
   },
   {
    "duration": 117,
    "start_time": "2025-01-25T02:56:05.600Z"
   },
   {
    "duration": 651,
    "start_time": "2025-01-25T02:56:09.638Z"
   },
   {
    "duration": 5,
    "start_time": "2025-01-25T02:56:27.494Z"
   },
   {
    "duration": 1196,
    "start_time": "2025-01-25T05:16:37.958Z"
   },
   {
    "duration": 27,
    "start_time": "2025-01-25T05:16:39.971Z"
   },
   {
    "duration": 4,
    "start_time": "2025-01-25T05:18:56.929Z"
   },
   {
    "duration": 191,
    "start_time": "2025-01-25T05:18:59.992Z"
   },
   {
    "duration": 841,
    "start_time": "2025-01-25T05:19:21.924Z"
   },
   {
    "duration": 4,
    "start_time": "2025-01-25T05:19:37.498Z"
   },
   {
    "duration": 23,
    "start_time": "2025-01-25T05:19:38.157Z"
   },
   {
    "duration": 16,
    "start_time": "2025-01-25T05:19:39.723Z"
   },
   {
    "duration": 5,
    "start_time": "2025-01-25T05:19:40.224Z"
   },
   {
    "duration": 5,
    "start_time": "2025-01-25T05:19:56.946Z"
   },
   {
    "duration": 3,
    "start_time": "2025-01-25T05:20:20.091Z"
   },
   {
    "duration": 6,
    "start_time": "2025-01-25T05:20:20.907Z"
   },
   {
    "duration": 1157,
    "start_time": "2025-01-25T05:32:28.005Z"
   },
   {
    "duration": 28,
    "start_time": "2025-01-25T05:32:29.880Z"
   },
   {
    "duration": 18,
    "start_time": "2025-01-25T05:32:32.702Z"
   },
   {
    "duration": 10,
    "start_time": "2025-01-25T05:32:33.104Z"
   },
   {
    "duration": 5,
    "start_time": "2025-01-25T05:32:48.188Z"
   },
   {
    "duration": 518,
    "start_time": "2025-01-25T05:32:52.777Z"
   },
   {
    "duration": 1156,
    "start_time": "2025-01-25T05:33:24.628Z"
   },
   {
    "duration": 43,
    "start_time": "2025-01-25T05:33:25.786Z"
   },
   {
    "duration": 15,
    "start_time": "2025-01-25T05:33:27.922Z"
   },
   {
    "duration": 985,
    "start_time": "2025-01-25T05:33:28.230Z"
   },
   {
    "duration": 6,
    "start_time": "2025-01-25T05:33:49.149Z"
   },
   {
    "duration": 5,
    "start_time": "2025-01-25T05:33:51.528Z"
   },
   {
    "duration": 13,
    "start_time": "2025-01-25T05:33:52.230Z"
   },
   {
    "duration": 17,
    "start_time": "2025-01-25T05:34:02.023Z"
   },
   {
    "duration": 3,
    "start_time": "2025-01-25T05:34:07.150Z"
   },
   {
    "duration": 10,
    "start_time": "2025-01-25T05:34:11.141Z"
   },
   {
    "duration": 16,
    "start_time": "2025-01-25T05:34:14.864Z"
   },
   {
    "duration": 5,
    "start_time": "2025-01-25T05:34:19.930Z"
   },
   {
    "duration": 7,
    "start_time": "2025-01-25T05:34:23.071Z"
   },
   {
    "duration": 3,
    "start_time": "2025-01-25T05:50:32.610Z"
   },
   {
    "duration": 9,
    "start_time": "2025-01-25T05:50:33.020Z"
   },
   {
    "duration": 8,
    "start_time": "2025-01-25T05:50:37.070Z"
   },
   {
    "duration": 1234,
    "start_time": "2025-01-25T05:50:57.624Z"
   },
   {
    "duration": 27,
    "start_time": "2025-01-25T05:50:58.861Z"
   },
   {
    "duration": 16,
    "start_time": "2025-01-25T05:50:59.129Z"
   },
   {
    "duration": 4,
    "start_time": "2025-01-25T05:50:59.385Z"
   },
   {
    "duration": 10,
    "start_time": "2025-01-25T05:51:00.411Z"
   },
   {
    "duration": 6,
    "start_time": "2025-01-25T05:51:06.455Z"
   },
   {
    "duration": 565,
    "start_time": "2025-01-25T05:51:12.614Z"
   },
   {
    "duration": 1229,
    "start_time": "2025-01-25T05:58:08.726Z"
   },
   {
    "duration": 26,
    "start_time": "2025-01-25T05:58:09.958Z"
   },
   {
    "duration": 13,
    "start_time": "2025-01-25T05:58:12.959Z"
   },
   {
    "duration": 8,
    "start_time": "2025-01-25T05:58:13.302Z"
   },
   {
    "duration": 4,
    "start_time": "2025-01-25T05:58:13.569Z"
   },
   {
    "duration": 15,
    "start_time": "2025-01-25T05:58:14.062Z"
   },
   {
    "duration": 7,
    "start_time": "2025-01-25T05:58:14.369Z"
   },
   {
    "duration": 9,
    "start_time": "2025-01-25T05:58:14.852Z"
   },
   {
    "duration": 5,
    "start_time": "2025-01-25T05:58:15.848Z"
   },
   {
    "duration": 6,
    "start_time": "2025-01-25T05:58:16.258Z"
   },
   {
    "duration": 5,
    "start_time": "2025-01-25T05:58:16.941Z"
   },
   {
    "duration": 18,
    "start_time": "2025-01-25T05:58:17.713Z"
   },
   {
    "duration": 6,
    "start_time": "2025-01-25T05:58:32.498Z"
   },
   {
    "duration": 1187,
    "start_time": "2025-01-25T05:58:44.959Z"
   },
   {
    "duration": 26,
    "start_time": "2025-01-25T05:58:46.148Z"
   },
   {
    "duration": 12,
    "start_time": "2025-01-25T05:58:48.464Z"
   },
   {
    "duration": 4,
    "start_time": "2025-01-25T05:58:48.749Z"
   },
   {
    "duration": 12,
    "start_time": "2025-01-25T05:59:05.125Z"
   },
   {
    "duration": 7,
    "start_time": "2025-01-25T05:59:06.276Z"
   },
   {
    "duration": 5,
    "start_time": "2025-01-25T05:59:06.866Z"
   },
   {
    "duration": 6,
    "start_time": "2025-01-25T05:59:13.221Z"
   },
   {
    "duration": 1150,
    "start_time": "2025-01-25T05:59:24.190Z"
   },
   {
    "duration": 25,
    "start_time": "2025-01-25T05:59:25.342Z"
   },
   {
    "duration": 11,
    "start_time": "2025-01-25T05:59:25.368Z"
   },
   {
    "duration": 3,
    "start_time": "2025-01-25T05:59:25.382Z"
   },
   {
    "duration": 21,
    "start_time": "2025-01-25T05:59:25.387Z"
   },
   {
    "duration": 12,
    "start_time": "2025-01-25T05:59:25.453Z"
   },
   {
    "duration": 11,
    "start_time": "2025-01-25T05:59:25.652Z"
   },
   {
    "duration": 3,
    "start_time": "2025-01-25T05:59:25.841Z"
   },
   {
    "duration": 8,
    "start_time": "2025-01-25T05:59:26.018Z"
   },
   {
    "duration": 9,
    "start_time": "2025-01-25T05:59:26.230Z"
   },
   {
    "duration": 7,
    "start_time": "2025-01-25T05:59:26.482Z"
   },
   {
    "duration": 6,
    "start_time": "2025-01-25T05:59:26.876Z"
   },
   {
    "duration": 10,
    "start_time": "2025-01-25T05:59:43.017Z"
   },
   {
    "duration": 7,
    "start_time": "2025-01-25T05:59:48.047Z"
   },
   {
    "duration": 320,
    "start_time": "2025-01-25T06:02:58.871Z"
   },
   {
    "duration": 125,
    "start_time": "2025-01-25T06:03:09.856Z"
   },
   {
    "duration": 198,
    "start_time": "2025-01-25T06:06:23.468Z"
   },
   {
    "duration": 129,
    "start_time": "2025-01-25T06:06:31.238Z"
   },
   {
    "duration": 26,
    "start_time": "2025-01-25T06:06:35.642Z"
   },
   {
    "duration": 12,
    "start_time": "2025-01-25T06:06:59.084Z"
   },
   {
    "duration": 510,
    "start_time": "2025-01-25T06:07:40.963Z"
   },
   {
    "duration": 166,
    "start_time": "2025-01-25T06:08:14.048Z"
   },
   {
    "duration": 57,
    "start_time": "2025-01-25T06:08:42.138Z"
   },
   {
    "duration": 36,
    "start_time": "2025-01-25T06:10:14.048Z"
   },
   {
    "duration": 46,
    "start_time": "2025-01-25T06:10:33.816Z"
   },
   {
    "duration": 18,
    "start_time": "2025-01-25T06:12:37.362Z"
   },
   {
    "duration": 8,
    "start_time": "2025-01-25T06:12:50.427Z"
   },
   {
    "duration": 4,
    "start_time": "2025-01-25T06:13:02.035Z"
   },
   {
    "duration": 56,
    "start_time": "2025-01-25T06:13:34.883Z"
   },
   {
    "duration": 38,
    "start_time": "2025-01-25T06:14:05.661Z"
   },
   {
    "duration": 52,
    "start_time": "2025-01-25T06:14:27.604Z"
   },
   {
    "duration": 37,
    "start_time": "2025-01-25T06:14:39.335Z"
   },
   {
    "duration": 15,
    "start_time": "2025-01-25T06:16:06.662Z"
   },
   {
    "duration": 15,
    "start_time": "2025-01-25T06:16:35.665Z"
   },
   {
    "duration": 27,
    "start_time": "2025-01-25T06:31:33.803Z"
   },
   {
    "duration": 17,
    "start_time": "2025-01-25T06:31:56.780Z"
   },
   {
    "duration": 16,
    "start_time": "2025-01-25T06:32:11.363Z"
   },
   {
    "duration": 16,
    "start_time": "2025-01-25T06:32:56.829Z"
   },
   {
    "duration": 14,
    "start_time": "2025-01-25T06:33:22.454Z"
   },
   {
    "duration": 27,
    "start_time": "2025-01-25T06:34:00.999Z"
   },
   {
    "duration": 16,
    "start_time": "2025-01-25T06:34:33.947Z"
   },
   {
    "duration": 5,
    "start_time": "2025-01-25T06:35:56.702Z"
   },
   {
    "duration": 16,
    "start_time": "2025-01-25T06:36:42.174Z"
   },
   {
    "duration": 3,
    "start_time": "2025-01-25T06:36:46.791Z"
   },
   {
    "duration": 3,
    "start_time": "2025-01-25T06:36:59.044Z"
   },
   {
    "duration": 15,
    "start_time": "2025-01-25T06:37:14.629Z"
   },
   {
    "duration": 3,
    "start_time": "2025-01-25T06:41:04.096Z"
   },
   {
    "duration": 14,
    "start_time": "2025-01-25T06:41:07.134Z"
   },
   {
    "duration": 28,
    "start_time": "2025-01-25T07:17:44.340Z"
   },
   {
    "duration": 1041,
    "start_time": "2025-01-25T07:19:07.692Z"
   },
   {
    "duration": 26,
    "start_time": "2025-01-25T07:19:08.735Z"
   },
   {
    "duration": 11,
    "start_time": "2025-01-25T07:19:08.763Z"
   },
   {
    "duration": 4,
    "start_time": "2025-01-25T07:19:08.776Z"
   },
   {
    "duration": 5,
    "start_time": "2025-01-25T07:19:08.931Z"
   },
   {
    "duration": 15,
    "start_time": "2025-01-25T07:19:09.088Z"
   },
   {
    "duration": 10,
    "start_time": "2025-01-25T07:19:09.295Z"
   },
   {
    "duration": 4,
    "start_time": "2025-01-25T07:19:09.518Z"
   },
   {
    "duration": 6,
    "start_time": "2025-01-25T07:19:09.712Z"
   },
   {
    "duration": 6,
    "start_time": "2025-01-25T07:19:09.919Z"
   },
   {
    "duration": 7,
    "start_time": "2025-01-25T07:19:10.146Z"
   },
   {
    "duration": 5,
    "start_time": "2025-01-25T07:19:10.364Z"
   },
   {
    "duration": 5,
    "start_time": "2025-01-25T07:19:10.815Z"
   },
   {
    "duration": 4,
    "start_time": "2025-01-25T07:19:11.068Z"
   },
   {
    "duration": 116,
    "start_time": "2025-01-25T07:19:11.303Z"
   },
   {
    "duration": 184,
    "start_time": "2025-01-25T07:19:11.564Z"
   },
   {
    "duration": 2,
    "start_time": "2025-01-25T07:19:12.745Z"
   },
   {
    "duration": 26,
    "start_time": "2025-01-25T07:19:17.847Z"
   },
   {
    "duration": 3,
    "start_time": "2025-01-25T07:21:04.985Z"
   },
   {
    "duration": 106,
    "start_time": "2025-01-25T07:21:08.352Z"
   },
   {
    "duration": 4,
    "start_time": "2025-01-25T07:21:33.968Z"
   },
   {
    "duration": 5,
    "start_time": "2025-01-25T07:21:34.718Z"
   },
   {
    "duration": 510,
    "start_time": "2025-01-25T07:21:35.896Z"
   },
   {
    "duration": 298,
    "start_time": "2025-01-25T07:21:41.732Z"
   },
   {
    "duration": 3,
    "start_time": "2025-01-25T07:24:28.169Z"
   },
   {
    "duration": 2,
    "start_time": "2025-01-25T07:24:54.273Z"
   },
   {
    "duration": 13,
    "start_time": "2025-01-25T07:25:14.696Z"
   },
   {
    "duration": 429,
    "start_time": "2025-01-25T07:26:52.952Z"
   },
   {
    "duration": 1192,
    "start_time": "2025-01-25T07:27:24.631Z"
   },
   {
    "duration": 27,
    "start_time": "2025-01-25T07:27:25.826Z"
   },
   {
    "duration": 12,
    "start_time": "2025-01-25T07:27:25.855Z"
   },
   {
    "duration": 6,
    "start_time": "2025-01-25T07:27:25.970Z"
   },
   {
    "duration": 5,
    "start_time": "2025-01-25T07:27:26.219Z"
   },
   {
    "duration": 14,
    "start_time": "2025-01-25T07:27:26.524Z"
   },
   {
    "duration": 11,
    "start_time": "2025-01-25T07:27:27.132Z"
   },
   {
    "duration": 4,
    "start_time": "2025-01-25T07:27:27.517Z"
   },
   {
    "duration": 6,
    "start_time": "2025-01-25T07:27:27.908Z"
   },
   {
    "duration": 6,
    "start_time": "2025-01-25T07:27:28.232Z"
   },
   {
    "duration": 8,
    "start_time": "2025-01-25T07:27:28.623Z"
   },
   {
    "duration": 6,
    "start_time": "2025-01-25T07:27:28.936Z"
   },
   {
    "duration": 5,
    "start_time": "2025-01-25T07:27:30.912Z"
   },
   {
    "duration": 179,
    "start_time": "2025-01-25T07:27:51.079Z"
   },
   {
    "duration": 1084,
    "start_time": "2025-01-25T07:28:36.499Z"
   },
   {
    "duration": 25,
    "start_time": "2025-01-25T07:28:37.585Z"
   },
   {
    "duration": 12,
    "start_time": "2025-01-25T07:28:45.999Z"
   },
   {
    "duration": 6,
    "start_time": "2025-01-25T07:28:47.417Z"
   },
   {
    "duration": 280,
    "start_time": "2025-01-25T07:29:11.059Z"
   },
   {
    "duration": 30,
    "start_time": "2025-01-25T07:29:21.197Z"
   },
   {
    "duration": 1080,
    "start_time": "2025-01-25T07:29:33.506Z"
   },
   {
    "duration": 28,
    "start_time": "2025-01-25T07:29:34.588Z"
   },
   {
    "duration": 450,
    "start_time": "2025-01-25T07:29:38.200Z"
   },
   {
    "duration": 501,
    "start_time": "2025-01-25T07:30:35.864Z"
   },
   {
    "duration": 460,
    "start_time": "2025-01-25T07:30:42.134Z"
   },
   {
    "duration": 436,
    "start_time": "2025-01-25T07:30:46.724Z"
   },
   {
    "duration": 84,
    "start_time": "2025-01-25T07:31:58.415Z"
   },
   {
    "duration": 5,
    "start_time": "2025-01-25T07:31:58.774Z"
   },
   {
    "duration": 3,
    "start_time": "2025-01-25T07:32:03.929Z"
   },
   {
    "duration": 15,
    "start_time": "2025-01-25T07:32:05.083Z"
   },
   {
    "duration": 1103,
    "start_time": "2025-01-25T07:34:02.821Z"
   },
   {
    "duration": 26,
    "start_time": "2025-01-25T07:34:03.926Z"
   },
   {
    "duration": 501,
    "start_time": "2025-01-25T07:34:03.953Z"
   },
   {
    "duration": 12,
    "start_time": "2025-01-25T07:34:04.455Z"
   },
   {
    "duration": 5,
    "start_time": "2025-01-25T07:34:04.469Z"
   },
   {
    "duration": 4,
    "start_time": "2025-01-25T07:34:04.475Z"
   },
   {
    "duration": 14,
    "start_time": "2025-01-25T07:34:04.481Z"
   },
   {
    "duration": 10,
    "start_time": "2025-01-25T07:34:04.506Z"
   },
   {
    "duration": 3,
    "start_time": "2025-01-25T07:34:04.517Z"
   },
   {
    "duration": 5,
    "start_time": "2025-01-25T07:34:04.522Z"
   },
   {
    "duration": 5,
    "start_time": "2025-01-25T07:34:04.530Z"
   },
   {
    "duration": 6,
    "start_time": "2025-01-25T07:34:04.536Z"
   },
   {
    "duration": 5,
    "start_time": "2025-01-25T07:34:04.544Z"
   },
   {
    "duration": 4,
    "start_time": "2025-01-25T07:34:04.552Z"
   },
   {
    "duration": 3,
    "start_time": "2025-01-25T07:34:04.557Z"
   },
   {
    "duration": 176,
    "start_time": "2025-01-25T07:34:04.605Z"
   },
   {
    "duration": 3,
    "start_time": "2025-01-25T07:34:04.782Z"
   },
   {
    "duration": 3,
    "start_time": "2025-01-25T07:34:04.786Z"
   },
   {
    "duration": 14,
    "start_time": "2025-01-25T07:34:04.791Z"
   },
   {
    "duration": 5,
    "start_time": "2025-01-25T07:34:04.807Z"
   },
   {
    "duration": 542,
    "start_time": "2025-01-25T07:34:04.813Z"
   },
   {
    "duration": 318,
    "start_time": "2025-01-25T07:34:05.357Z"
   },
   {
    "duration": 586,
    "start_time": "2025-01-25T07:34:05.677Z"
   },
   {
    "duration": 1159,
    "start_time": "2025-01-25T07:37:32.221Z"
   },
   {
    "duration": 30,
    "start_time": "2025-01-25T07:37:33.382Z"
   },
   {
    "duration": 469,
    "start_time": "2025-01-25T07:37:33.413Z"
   },
   {
    "duration": 13,
    "start_time": "2025-01-25T07:37:33.884Z"
   },
   {
    "duration": 4,
    "start_time": "2025-01-25T07:37:33.899Z"
   },
   {
    "duration": 4,
    "start_time": "2025-01-25T07:37:33.904Z"
   },
   {
    "duration": 14,
    "start_time": "2025-01-25T07:37:33.910Z"
   },
   {
    "duration": 9,
    "start_time": "2025-01-25T07:37:33.926Z"
   },
   {
    "duration": 4,
    "start_time": "2025-01-25T07:37:33.937Z"
   },
   {
    "duration": 5,
    "start_time": "2025-01-25T07:37:33.943Z"
   },
   {
    "duration": 6,
    "start_time": "2025-01-25T07:37:33.949Z"
   },
   {
    "duration": 5,
    "start_time": "2025-01-25T07:37:33.956Z"
   },
   {
    "duration": 47,
    "start_time": "2025-01-25T07:37:33.963Z"
   },
   {
    "duration": 4,
    "start_time": "2025-01-25T07:37:34.013Z"
   },
   {
    "duration": 5,
    "start_time": "2025-01-25T07:37:34.018Z"
   },
   {
    "duration": 201,
    "start_time": "2025-01-25T07:37:34.024Z"
   },
   {
    "duration": 3,
    "start_time": "2025-01-25T07:37:34.228Z"
   },
   {
    "duration": 3,
    "start_time": "2025-01-25T07:37:34.232Z"
   },
   {
    "duration": 3,
    "start_time": "2025-01-25T07:37:34.237Z"
   },
   {
    "duration": 5,
    "start_time": "2025-01-25T07:37:34.242Z"
   },
   {
    "duration": 525,
    "start_time": "2025-01-25T07:37:34.248Z"
   },
   {
    "duration": 399,
    "start_time": "2025-01-25T07:37:34.774Z"
   },
   {
    "duration": 578,
    "start_time": "2025-01-25T07:37:35.174Z"
   },
   {
    "duration": 1062,
    "start_time": "2025-01-25T07:38:01.847Z"
   },
   {
    "duration": 26,
    "start_time": "2025-01-25T07:38:02.912Z"
   },
   {
    "duration": 494,
    "start_time": "2025-01-25T07:38:02.939Z"
   },
   {
    "duration": 13,
    "start_time": "2025-01-25T07:38:03.437Z"
   },
   {
    "duration": 4,
    "start_time": "2025-01-25T07:38:03.452Z"
   },
   {
    "duration": 3,
    "start_time": "2025-01-25T07:38:03.458Z"
   },
   {
    "duration": 12,
    "start_time": "2025-01-25T07:38:03.463Z"
   },
   {
    "duration": 9,
    "start_time": "2025-01-25T07:38:03.477Z"
   },
   {
    "duration": 20,
    "start_time": "2025-01-25T07:38:03.487Z"
   },
   {
    "duration": 5,
    "start_time": "2025-01-25T07:38:03.511Z"
   },
   {
    "duration": 6,
    "start_time": "2025-01-25T07:38:03.517Z"
   },
   {
    "duration": 5,
    "start_time": "2025-01-25T07:38:03.525Z"
   },
   {
    "duration": 5,
    "start_time": "2025-01-25T07:38:03.532Z"
   },
   {
    "duration": 4,
    "start_time": "2025-01-25T07:38:03.538Z"
   },
   {
    "duration": 3,
    "start_time": "2025-01-25T07:38:03.544Z"
   },
   {
    "duration": 204,
    "start_time": "2025-01-25T07:38:03.549Z"
   },
   {
    "duration": 3,
    "start_time": "2025-01-25T07:38:03.755Z"
   },
   {
    "duration": 2,
    "start_time": "2025-01-25T07:38:03.760Z"
   },
   {
    "duration": 4,
    "start_time": "2025-01-25T07:38:03.764Z"
   },
   {
    "duration": 5,
    "start_time": "2025-01-25T07:38:03.769Z"
   },
   {
    "duration": 588,
    "start_time": "2025-01-25T07:38:03.776Z"
   },
   {
    "duration": 339,
    "start_time": "2025-01-25T07:38:04.366Z"
   },
   {
    "duration": 350,
    "start_time": "2025-01-25T07:38:41.097Z"
   },
   {
    "duration": 7,
    "start_time": "2025-01-25T07:39:11.132Z"
   },
   {
    "duration": 275,
    "start_time": "2025-01-25T07:39:46.611Z"
   },
   {
    "duration": 3,
    "start_time": "2025-01-25T07:57:14.980Z"
   },
   {
    "duration": 21,
    "start_time": "2025-01-25T07:59:42.880Z"
   },
   {
    "duration": 4,
    "start_time": "2025-01-25T08:02:51.764Z"
   },
   {
    "duration": 24,
    "start_time": "2025-01-25T08:02:53.219Z"
   },
   {
    "duration": 421,
    "start_time": "2025-01-25T08:02:55.912Z"
   },
   {
    "duration": 159,
    "start_time": "2025-01-25T08:32:48.089Z"
   },
   {
    "duration": 1124,
    "start_time": "2025-01-25T08:32:52.276Z"
   },
   {
    "duration": 28,
    "start_time": "2025-01-25T08:32:53.402Z"
   },
   {
    "duration": 11,
    "start_time": "2025-01-25T08:32:58.570Z"
   },
   {
    "duration": 5,
    "start_time": "2025-01-25T08:32:58.927Z"
   },
   {
    "duration": 7,
    "start_time": "2025-01-25T08:33:05.035Z"
   },
   {
    "duration": 6,
    "start_time": "2025-01-25T08:33:05.415Z"
   },
   {
    "duration": 5,
    "start_time": "2025-01-25T08:33:12.065Z"
   },
   {
    "duration": 142,
    "start_time": "2025-01-25T08:33:19.227Z"
   },
   {
    "duration": 236,
    "start_time": "2025-01-25T08:33:54.052Z"
   },
   {
    "duration": 20,
    "start_time": "2025-01-25T08:34:09.756Z"
   },
   {
    "duration": 22,
    "start_time": "2025-01-25T08:34:15.774Z"
   },
   {
    "duration": 48,
    "start_time": "2025-01-25T08:34:29.430Z"
   },
   {
    "duration": 7,
    "start_time": "2025-01-25T08:34:42.027Z"
   },
   {
    "duration": 1144,
    "start_time": "2025-01-25T08:45:44.067Z"
   },
   {
    "duration": 27,
    "start_time": "2025-01-25T08:45:45.213Z"
   },
   {
    "duration": 441,
    "start_time": "2025-01-25T08:45:49.122Z"
   },
   {
    "duration": 77,
    "start_time": "2025-01-25T08:45:50.326Z"
   },
   {
    "duration": 4,
    "start_time": "2025-01-25T08:45:51.423Z"
   },
   {
    "duration": 4,
    "start_time": "2025-01-25T08:45:51.925Z"
   },
   {
    "duration": 15,
    "start_time": "2025-01-25T08:45:52.546Z"
   },
   {
    "duration": 1143,
    "start_time": "2025-01-25T08:48:10.350Z"
   },
   {
    "duration": 32,
    "start_time": "2025-01-25T08:48:11.495Z"
   },
   {
    "duration": 12,
    "start_time": "2025-01-25T08:48:14.910Z"
   },
   {
    "duration": 4,
    "start_time": "2025-01-25T08:48:15.230Z"
   },
   {
    "duration": 4,
    "start_time": "2025-01-25T08:48:15.941Z"
   },
   {
    "duration": 6,
    "start_time": "2025-01-25T08:48:25.673Z"
   },
   {
    "duration": 191,
    "start_time": "2025-01-25T08:48:29.813Z"
   },
   {
    "duration": 2,
    "start_time": "2025-01-25T08:50:28.577Z"
   },
   {
    "duration": 3,
    "start_time": "2025-01-25T08:50:28.924Z"
   },
   {
    "duration": 5,
    "start_time": "2025-01-25T08:50:46.814Z"
   },
   {
    "duration": 389,
    "start_time": "2025-01-25T08:50:50.250Z"
   },
   {
    "duration": 12,
    "start_time": "2025-01-25T08:51:19.666Z"
   },
   {
    "duration": 113,
    "start_time": "2025-01-25T08:51:52.157Z"
   },
   {
    "duration": 53,
    "start_time": "2025-01-25T08:52:01.362Z"
   },
   {
    "duration": 20,
    "start_time": "2025-01-25T08:52:25.909Z"
   },
   {
    "duration": 345,
    "start_time": "2025-01-25T08:52:32.198Z"
   },
   {
    "duration": 6,
    "start_time": "2025-01-25T08:52:45.361Z"
   },
   {
    "duration": 11,
    "start_time": "2025-01-25T08:52:46.431Z"
   },
   {
    "duration": 7,
    "start_time": "2025-01-25T08:52:47.093Z"
   },
   {
    "duration": 77,
    "start_time": "2025-01-25T08:52:57.967Z"
   },
   {
    "duration": 1237,
    "start_time": "2025-01-25T08:53:11.238Z"
   },
   {
    "duration": 26,
    "start_time": "2025-01-25T08:53:12.477Z"
   },
   {
    "duration": 509,
    "start_time": "2025-01-25T08:53:13.472Z"
   },
   {
    "duration": 89,
    "start_time": "2025-01-25T08:53:15.077Z"
   },
   {
    "duration": 5,
    "start_time": "2025-01-25T08:53:15.696Z"
   },
   {
    "duration": 3,
    "start_time": "2025-01-25T08:53:16.264Z"
   },
   {
    "duration": 15,
    "start_time": "2025-01-25T08:53:16.730Z"
   },
   {
    "duration": 11,
    "start_time": "2025-01-25T08:53:17.248Z"
   },
   {
    "duration": 6,
    "start_time": "2025-01-25T08:53:17.779Z"
   },
   {
    "duration": 6,
    "start_time": "2025-01-25T08:53:18.494Z"
   },
   {
    "duration": 6,
    "start_time": "2025-01-25T08:53:18.977Z"
   },
   {
    "duration": 7,
    "start_time": "2025-01-25T08:53:20.888Z"
   },
   {
    "duration": 6,
    "start_time": "2025-01-25T08:53:21.797Z"
   },
   {
    "duration": 5,
    "start_time": "2025-01-25T08:53:23.873Z"
   },
   {
    "duration": 291,
    "start_time": "2025-01-25T08:53:57.326Z"
   },
   {
    "duration": 5,
    "start_time": "2025-01-25T08:54:02.056Z"
   },
   {
    "duration": 9,
    "start_time": "2025-01-25T08:54:05.267Z"
   },
   {
    "duration": 1399610,
    "start_time": "2025-01-25T08:54:08.042Z"
   },
   {
    "duration": 688826,
    "start_time": "2025-01-25T09:23:07.186Z"
   },
   {
    "duration": 24849,
    "start_time": "2025-01-25T09:56:01.802Z"
   },
   {
    "duration": 8,
    "start_time": "2025-01-25T09:57:04.741Z"
   },
   {
    "duration": 8,
    "start_time": "2025-01-25T09:57:10.234Z"
   },
   {
    "duration": 19326,
    "start_time": "2025-01-25T09:58:39.170Z"
   },
   {
    "duration": 19262,
    "start_time": "2025-01-25T09:59:45.967Z"
   },
   {
    "duration": 7,
    "start_time": "2025-01-25T10:01:30.395Z"
   },
   {
    "duration": 3,
    "start_time": "2025-01-25T10:02:02.018Z"
   },
   {
    "duration": 3,
    "start_time": "2025-01-25T10:02:09.319Z"
   },
   {
    "duration": 3,
    "start_time": "2025-01-25T10:02:20.738Z"
   },
   {
    "duration": 4,
    "start_time": "2025-01-25T10:02:44.212Z"
   },
   {
    "duration": 4,
    "start_time": "2025-01-25T10:02:47.100Z"
   },
   {
    "duration": 4,
    "start_time": "2025-01-25T10:02:50.421Z"
   },
   {
    "duration": 4,
    "start_time": "2025-01-25T10:03:09.928Z"
   },
   {
    "duration": 3,
    "start_time": "2025-01-25T10:04:05.741Z"
   },
   {
    "duration": 46,
    "start_time": "2025-01-25T10:05:07.731Z"
   },
   {
    "duration": 1395,
    "start_time": "2025-01-25T10:05:32.325Z"
   },
   {
    "duration": 540,
    "start_time": "2025-01-25T10:06:30.884Z"
   },
   {
    "duration": 621,
    "start_time": "2025-01-25T10:07:42.826Z"
   },
   {
    "duration": 602,
    "start_time": "2025-01-25T10:08:13.507Z"
   },
   {
    "duration": 19573,
    "start_time": "2025-01-25T11:39:25.491Z"
   },
   {
    "duration": 614,
    "start_time": "2025-01-25T11:45:28.697Z"
   },
   {
    "duration": 8,
    "start_time": "2025-01-25T11:47:23.834Z"
   },
   {
    "duration": 105,
    "start_time": "2025-01-25T12:39:26.270Z"
   },
   {
    "duration": 6,
    "start_time": "2025-01-25T13:09:31.261Z"
   },
   {
    "duration": 31,
    "start_time": "2025-01-25T13:09:51.365Z"
   },
   {
    "duration": 29,
    "start_time": "2025-01-25T13:10:03.772Z"
   },
   {
    "duration": 1103,
    "start_time": "2025-01-25T13:10:15.712Z"
   },
   {
    "duration": 30,
    "start_time": "2025-01-25T13:10:16.817Z"
   },
   {
    "duration": 467,
    "start_time": "2025-01-25T13:10:29.819Z"
   },
   {
    "duration": 354,
    "start_time": "2025-01-25T13:10:37.726Z"
   },
   {
    "duration": 1075,
    "start_time": "2025-01-25T13:10:48.072Z"
   },
   {
    "duration": 26,
    "start_time": "2025-01-25T13:10:49.149Z"
   },
   {
    "duration": 303,
    "start_time": "2025-01-25T13:10:49.937Z"
   },
   {
    "duration": 512,
    "start_time": "2025-01-25T13:10:55.847Z"
   },
   {
    "duration": 272,
    "start_time": "2025-01-25T13:13:14.760Z"
   },
   {
    "duration": 212,
    "start_time": "2025-01-25T13:13:35.533Z"
   },
   {
    "duration": 182,
    "start_time": "2025-01-25T13:14:02.767Z"
   },
   {
    "duration": 223,
    "start_time": "2025-01-25T13:14:06.545Z"
   },
   {
    "duration": 11,
    "start_time": "2025-01-25T13:16:28.398Z"
   },
   {
    "duration": 5,
    "start_time": "2025-01-25T13:16:29.005Z"
   },
   {
    "duration": 5,
    "start_time": "2025-01-25T13:16:29.621Z"
   },
   {
    "duration": 17,
    "start_time": "2025-01-25T13:16:30.090Z"
   },
   {
    "duration": 10,
    "start_time": "2025-01-25T13:16:30.484Z"
   },
   {
    "duration": 4,
    "start_time": "2025-01-25T13:16:31.130Z"
   },
   {
    "duration": 5,
    "start_time": "2025-01-25T13:16:31.611Z"
   },
   {
    "duration": 6,
    "start_time": "2025-01-25T13:16:31.942Z"
   },
   {
    "duration": 6,
    "start_time": "2025-01-25T13:16:32.279Z"
   },
   {
    "duration": 7,
    "start_time": "2025-01-25T13:16:32.711Z"
   },
   {
    "duration": 5,
    "start_time": "2025-01-25T13:16:33.493Z"
   },
   {
    "duration": 4,
    "start_time": "2025-01-25T13:16:34.013Z"
   },
   {
    "duration": 105,
    "start_time": "2025-01-25T13:16:34.904Z"
   },
   {
    "duration": 5,
    "start_time": "2025-01-25T13:16:44.530Z"
   },
   {
    "duration": 21727,
    "start_time": "2025-01-25T13:16:46.979Z"
   },
   {
    "duration": 7,
    "start_time": "2025-01-25T13:17:51.754Z"
   },
   {
    "duration": 646882,
    "start_time": "2025-01-25T13:17:56.537Z"
   },
   {
    "duration": 16696,
    "start_time": "2025-01-25T13:51:18.790Z"
   },
   {
    "duration": 449,
    "start_time": "2025-01-25T13:51:45.565Z"
   },
   {
    "duration": 6,
    "start_time": "2025-01-25T15:03:10.918Z"
   },
   {
    "duration": 269,
    "start_time": "2025-01-25T15:03:23.907Z"
   },
   {
    "duration": 342,
    "start_time": "2025-01-25T15:03:33.710Z"
   },
   {
    "duration": 247,
    "start_time": "2025-01-25T15:03:37.604Z"
   },
   {
    "duration": 1115,
    "start_time": "2025-01-25T15:04:23.407Z"
   },
   {
    "duration": 27,
    "start_time": "2025-01-25T15:04:24.524Z"
   },
   {
    "duration": 476,
    "start_time": "2025-01-25T15:04:27.312Z"
   },
   {
    "duration": 258,
    "start_time": "2025-01-25T15:04:29.304Z"
   },
   {
    "duration": 248,
    "start_time": "2025-01-25T15:04:31.094Z"
   },
   {
    "duration": 14,
    "start_time": "2025-01-25T15:04:32.409Z"
   },
   {
    "duration": 1104,
    "start_time": "2025-01-25T15:04:56.675Z"
   },
   {
    "duration": 26,
    "start_time": "2025-01-25T15:04:57.781Z"
   },
   {
    "duration": 6,
    "start_time": "2025-01-25T15:05:01.874Z"
   },
   {
    "duration": 185,
    "start_time": "2025-01-25T15:05:03.563Z"
   },
   {
    "duration": 185,
    "start_time": "2025-01-25T15:05:13.920Z"
   },
   {
    "duration": 178,
    "start_time": "2025-01-25T15:05:23.582Z"
   },
   {
    "duration": 180,
    "start_time": "2025-01-25T15:05:28.929Z"
   },
   {
    "duration": 544,
    "start_time": "2025-01-25T20:23:54.543Z"
   },
   {
    "duration": 11,
    "start_time": "2025-01-25T20:24:26.065Z"
   },
   {
    "duration": 4,
    "start_time": "2025-01-25T20:24:26.869Z"
   },
   {
    "duration": 12,
    "start_time": "2025-01-25T20:24:33.946Z"
   },
   {
    "duration": 93,
    "start_time": "2025-01-25T20:24:38.476Z"
   },
   {
    "duration": 91,
    "start_time": "2025-01-25T20:25:05.916Z"
   },
   {
    "duration": 174,
    "start_time": "2025-01-25T20:26:21.892Z"
   },
   {
    "duration": 99,
    "start_time": "2025-01-25T20:26:27.022Z"
   },
   {
    "duration": 3,
    "start_time": "2025-01-26T03:17:51.408Z"
   },
   {
    "duration": 18,
    "start_time": "2025-01-26T03:18:09.208Z"
   },
   {
    "duration": 249,
    "start_time": "2025-01-26T03:18:13.872Z"
   },
   {
    "duration": 377,
    "start_time": "2025-01-26T03:18:28.461Z"
   },
   {
    "duration": 1140,
    "start_time": "2025-01-26T03:53:34.628Z"
   },
   {
    "duration": 27,
    "start_time": "2025-01-26T03:53:35.770Z"
   },
   {
    "duration": 487,
    "start_time": "2025-01-26T03:53:35.799Z"
   },
   {
    "duration": 268,
    "start_time": "2025-01-26T03:53:36.288Z"
   },
   {
    "duration": 249,
    "start_time": "2025-01-26T03:53:36.558Z"
   },
   {
    "duration": 6,
    "start_time": "2025-01-26T03:53:36.809Z"
   },
   {
    "duration": 192,
    "start_time": "2025-01-26T03:53:36.817Z"
   },
   {
    "duration": 316,
    "start_time": "2025-01-26T03:53:37.011Z"
   },
   {
    "duration": 0,
    "start_time": "2025-01-26T03:53:37.330Z"
   },
   {
    "duration": 0,
    "start_time": "2025-01-26T03:53:37.331Z"
   },
   {
    "duration": 0,
    "start_time": "2025-01-26T03:53:37.332Z"
   },
   {
    "duration": 0,
    "start_time": "2025-01-26T03:53:37.333Z"
   },
   {
    "duration": 0,
    "start_time": "2025-01-26T03:53:37.334Z"
   },
   {
    "duration": 0,
    "start_time": "2025-01-26T03:53:37.335Z"
   },
   {
    "duration": 0,
    "start_time": "2025-01-26T03:53:37.336Z"
   },
   {
    "duration": 0,
    "start_time": "2025-01-26T03:53:37.337Z"
   },
   {
    "duration": 0,
    "start_time": "2025-01-26T03:53:37.338Z"
   },
   {
    "duration": 0,
    "start_time": "2025-01-26T03:53:37.339Z"
   },
   {
    "duration": 0,
    "start_time": "2025-01-26T03:53:37.340Z"
   },
   {
    "duration": 0,
    "start_time": "2025-01-26T03:53:37.340Z"
   },
   {
    "duration": 0,
    "start_time": "2025-01-26T03:53:37.341Z"
   },
   {
    "duration": 0,
    "start_time": "2025-01-26T03:53:37.343Z"
   },
   {
    "duration": 0,
    "start_time": "2025-01-26T03:53:37.343Z"
   },
   {
    "duration": 0,
    "start_time": "2025-01-26T03:53:37.344Z"
   },
   {
    "duration": 0,
    "start_time": "2025-01-26T03:53:37.345Z"
   },
   {
    "duration": 0,
    "start_time": "2025-01-26T03:53:37.346Z"
   },
   {
    "duration": 0,
    "start_time": "2025-01-26T03:53:37.347Z"
   },
   {
    "duration": 0,
    "start_time": "2025-01-26T03:53:37.348Z"
   },
   {
    "duration": 160,
    "start_time": "2025-01-26T03:53:50.379Z"
   },
   {
    "duration": 157,
    "start_time": "2025-01-26T03:54:22.477Z"
   },
   {
    "duration": 224,
    "start_time": "2025-01-26T03:54:26.849Z"
   },
   {
    "duration": 252,
    "start_time": "2025-01-26T03:54:45.000Z"
   },
   {
    "duration": 173,
    "start_time": "2025-01-26T03:54:49.123Z"
   },
   {
    "duration": 165,
    "start_time": "2025-01-26T03:54:55.361Z"
   },
   {
    "duration": 4,
    "start_time": "2025-01-26T03:55:06.271Z"
   },
   {
    "duration": 23,
    "start_time": "2025-01-26T03:55:06.277Z"
   },
   {
    "duration": 461,
    "start_time": "2025-01-26T03:55:06.301Z"
   },
   {
    "duration": 196,
    "start_time": "2025-01-26T03:55:06.764Z"
   },
   {
    "duration": 296,
    "start_time": "2025-01-26T03:55:06.963Z"
   },
   {
    "duration": 96,
    "start_time": "2025-01-26T03:55:07.261Z"
   },
   {
    "duration": 184,
    "start_time": "2025-01-26T03:55:07.359Z"
   },
   {
    "duration": 12,
    "start_time": "2025-01-26T03:55:07.544Z"
   },
   {
    "duration": 3,
    "start_time": "2025-01-26T03:55:07.558Z"
   },
   {
    "duration": 4,
    "start_time": "2025-01-26T03:55:07.563Z"
   },
   {
    "duration": 37,
    "start_time": "2025-01-26T03:55:07.569Z"
   },
   {
    "duration": 8,
    "start_time": "2025-01-26T03:55:07.608Z"
   },
   {
    "duration": 4,
    "start_time": "2025-01-26T03:55:07.618Z"
   },
   {
    "duration": 4,
    "start_time": "2025-01-26T03:55:07.626Z"
   },
   {
    "duration": 5,
    "start_time": "2025-01-26T03:55:07.632Z"
   },
   {
    "duration": 5,
    "start_time": "2025-01-26T03:55:07.639Z"
   },
   {
    "duration": 5,
    "start_time": "2025-01-26T03:55:07.646Z"
   },
   {
    "duration": 4,
    "start_time": "2025-01-26T03:55:07.652Z"
   },
   {
    "duration": 49,
    "start_time": "2025-01-26T03:55:07.658Z"
   },
   {
    "duration": 112,
    "start_time": "2025-01-26T03:55:07.709Z"
   },
   {
    "duration": 111,
    "start_time": "2025-01-26T03:55:07.822Z"
   },
   {
    "duration": 5,
    "start_time": "2025-01-26T03:55:07.934Z"
   },
   {
    "duration": 24785,
    "start_time": "2025-01-26T03:55:07.940Z"
   },
   {
    "duration": 7,
    "start_time": "2025-01-26T03:55:32.727Z"
   },
   {
    "duration": 637383,
    "start_time": "2025-01-26T03:55:32.736Z"
   },
   {
    "duration": 16778,
    "start_time": "2025-01-26T04:06:10.121Z"
   },
   {
    "duration": 512,
    "start_time": "2025-01-26T04:06:26.901Z"
   },
   {
    "duration": 1187,
    "start_time": "2025-01-26T06:58:38.894Z"
   },
   {
    "duration": 43,
    "start_time": "2025-01-26T06:58:40.083Z"
   },
   {
    "duration": 531,
    "start_time": "2025-01-26T06:58:40.132Z"
   },
   {
    "duration": 307,
    "start_time": "2025-01-26T06:58:40.665Z"
   },
   {
    "duration": 279,
    "start_time": "2025-01-26T06:58:40.974Z"
   },
   {
    "duration": 5,
    "start_time": "2025-01-26T06:58:41.255Z"
   },
   {
    "duration": 213,
    "start_time": "2025-01-26T06:58:41.262Z"
   },
   {
    "duration": 12,
    "start_time": "2025-01-26T06:58:41.477Z"
   },
   {
    "duration": 4,
    "start_time": "2025-01-26T06:58:41.490Z"
   },
   {
    "duration": 6,
    "start_time": "2025-01-26T06:58:41.505Z"
   },
   {
    "duration": 23,
    "start_time": "2025-01-26T06:58:41.513Z"
   },
   {
    "duration": 10,
    "start_time": "2025-01-26T06:58:41.542Z"
   },
   {
    "duration": 4,
    "start_time": "2025-01-26T06:58:41.554Z"
   },
   {
    "duration": 5,
    "start_time": "2025-01-26T06:58:41.562Z"
   },
   {
    "duration": 5,
    "start_time": "2025-01-26T06:58:41.569Z"
   },
   {
    "duration": 9,
    "start_time": "2025-01-26T06:58:41.607Z"
   },
   {
    "duration": 10,
    "start_time": "2025-01-26T06:58:41.618Z"
   },
   {
    "duration": 8,
    "start_time": "2025-01-26T06:58:41.630Z"
   },
   {
    "duration": 4,
    "start_time": "2025-01-26T06:58:41.641Z"
   },
   {
    "duration": 136,
    "start_time": "2025-01-26T06:58:41.647Z"
   },
   {
    "duration": 118,
    "start_time": "2025-01-26T06:58:41.785Z"
   },
   {
    "duration": 17,
    "start_time": "2025-01-26T06:58:41.909Z"
   },
   {
    "duration": 33990,
    "start_time": "2025-01-26T06:58:41.932Z"
   },
   {
    "duration": 11,
    "start_time": "2025-01-26T06:59:15.928Z"
   },
   {
    "duration": 1372971,
    "start_time": "2025-01-26T06:59:15.941Z"
   },
   {
    "duration": 18234,
    "start_time": "2025-01-26T07:22:08.914Z"
   },
   {
    "duration": 774,
    "start_time": "2025-01-26T07:22:27.150Z"
   },
   {
    "duration": 2973,
    "start_time": "2025-01-27T03:41:29.194Z"
   },
   {
    "duration": 36,
    "start_time": "2025-01-27T03:41:32.169Z"
   },
   {
    "duration": 522,
    "start_time": "2025-01-27T03:41:32.206Z"
   },
   {
    "duration": 243,
    "start_time": "2025-01-27T03:41:32.731Z"
   },
   {
    "duration": 250,
    "start_time": "2025-01-27T03:41:32.976Z"
   },
   {
    "duration": 6,
    "start_time": "2025-01-27T03:41:33.227Z"
   },
   {
    "duration": 193,
    "start_time": "2025-01-27T03:41:33.234Z"
   },
   {
    "duration": 80,
    "start_time": "2025-01-27T03:41:33.429Z"
   },
   {
    "duration": 15,
    "start_time": "2025-01-27T03:41:33.511Z"
   },
   {
    "duration": 4,
    "start_time": "2025-01-27T03:41:33.527Z"
   },
   {
    "duration": 13,
    "start_time": "2025-01-27T03:41:33.532Z"
   },
   {
    "duration": 10,
    "start_time": "2025-01-27T03:41:33.546Z"
   },
   {
    "duration": 4,
    "start_time": "2025-01-27T03:41:33.558Z"
   },
   {
    "duration": 5,
    "start_time": "2025-01-27T03:41:33.565Z"
   },
   {
    "duration": 6,
    "start_time": "2025-01-27T03:41:33.571Z"
   },
   {
    "duration": 48,
    "start_time": "2025-01-27T03:41:33.578Z"
   },
   {
    "duration": 5,
    "start_time": "2025-01-27T03:41:33.627Z"
   },
   {
    "duration": 5,
    "start_time": "2025-01-27T03:41:33.633Z"
   },
   {
    "duration": 4,
    "start_time": "2025-01-27T03:41:33.639Z"
   },
   {
    "duration": 126,
    "start_time": "2025-01-27T03:41:33.645Z"
   },
   {
    "duration": 126,
    "start_time": "2025-01-27T03:41:33.773Z"
   },
   {
    "duration": 4,
    "start_time": "2025-01-27T03:41:33.901Z"
   },
   {
    "duration": 25747,
    "start_time": "2025-01-27T03:41:33.907Z"
   },
   {
    "duration": 70,
    "start_time": "2025-01-27T03:41:59.656Z"
   },
   {
    "duration": 572609,
    "start_time": "2025-01-27T03:41:59.728Z"
   },
   {
    "duration": 11939,
    "start_time": "2025-01-27T03:51:32.339Z"
   },
   {
    "duration": 559,
    "start_time": "2025-01-27T03:51:44.280Z"
   }
  ],
  "kernelspec": {
   "display_name": "Python 3 (ipykernel)",
   "language": "python",
   "name": "python3"
  },
  "language_info": {
   "codemirror_mode": {
    "name": "ipython",
    "version": 3
   },
   "file_extension": ".py",
   "mimetype": "text/x-python",
   "name": "python",
   "nbconvert_exporter": "python",
   "pygments_lexer": "ipython3",
   "version": "3.9.19"
  },
  "toc": {
   "base_numbering": 1,
   "nav_menu": {},
   "number_sections": true,
   "sideBar": true,
   "skip_h1_title": true,
   "title_cell": "Table of Contents",
   "title_sidebar": "Contents",
   "toc_cell": false,
   "toc_position": {
    "height": "calc(100% - 180px)",
    "left": "10px",
    "top": "150px",
    "width": "240.6px"
   },
   "toc_section_display": true,
   "toc_window_display": true
  }
 },
 "nbformat": 4,
 "nbformat_minor": 2
}
