{
 "cells": [
  {
   "cell_type": "markdown",
   "metadata": {},
   "source": [
    "<div style=\"border:solid green 2px; padding: 20px\"> <h1 style=\"color:green; margin-bottom:20px\">Reviewer's comment v1</h1>\n",
    "\n",
    "Hello Somil!\n",
    "\n",
    "I'm happy to review your project today  🙌\n",
    "\n",
    "You can find my comments under the heading **«Review»**. I will categorize my comments in green, blue or red boxes like this:\n",
    "\n",
    "<div class=\"alert alert-success\">\n",
    "    <b>Success:</b> if everything is done successfully\n",
    "</div>\n",
    "<div class=\"alert alert-warning\">\n",
    "    <b>Remarks:</b> if I can give some recommendations or ways to improve the project\n",
    "</div>\n",
    "<div class=\"alert alert-danger\">\n",
    "    <b>Needs fixing:</b> if the block requires some corrections. Work can't be accepted with the red comments\n",
    "</div>\n",
    "\n",
    "Please don't remove my comments. If you have any questions, don't hesitate to respond to my comments in a different section.\n",
    "<div class=\"alert alert-info\"> <b>Student comments: </div>    "
   ]
  },
  {
   "cell_type": "markdown",
   "metadata": {},
   "source": [
    "<div style=\"border:solid green 2px; padding: 20px\">\n",
    "<b>Reviewer's comment v1</b>\n",
    "    \n",
    "<b>Overall Feedback</b> \n",
    "    \n",
    "    \n",
    "Hello Somil,\n",
    "\n",
    "Another project successfully completed - well done! 🏆 Your consistent effort and progress are truly commendable.\n",
    "\n",
    "Our team is here to help you keep pushing forward and honing your skills as you advance through the program.\n",
    "    \n",
    "You’ll find specific feedback in the notebook in the ‘Comments’ (`Reviewer's comment v1`) sections.\n",
    "    \n",
    "**What Was Great:**\n",
    "\n",
    "- You demonstrated a thorough approach to data loading, preparation, and cleaning, ensuring the data was in optimal shape for analysis.\n",
    "    \n",
    "**Areas to Improve:**\n",
    "\n",
    "- Consider using functions for repetitive tasks in your future projects (e.g. revenue calculation, data aggregation, etc.)\n",
    "   \n",
    "Congratulations again on your accomplishment! Each project you complete adds to your growing expertise, and it’s exciting to see you make such great strides. Keep up the great work! 🎯\n",
    "    \n",
    "PS: As a final note, I can recommend cool lectures on stat analysis here: https://www.youtube.com/playlist?list=PL2SOU6wwxB0uwwH80KTQ6ht66KWxbzTIo  \n",
    "    \n",
    "Another great self-paced course that covers basic concepts in probability and statistics - Probability and Statistics by Stanford Online or you could check this one [An Introduction to Statistical Learning with Applications in R](https://www.r-bloggers.com/2014/09/in-depth-introduction-to-machine-learning-in-15-hours-of-expert-videos/) 🙌"
   ]
  },
  {
   "cell_type": "markdown",
   "metadata": {},
   "source": [
    "# Which one is a better plan?\n",
    "\n",
    "You work as an analyst for the telecom operator Megaline. The company offers its clients two prepaid plans, Surf and Ultimate. The commercial department wants to know which of the plans brings in more revenue in order to adjust the advertising budget.\n",
    "\n",
    "You are going to carry out a preliminary analysis of the plans based on a relatively small client selection. You'll have the data on 500 Megaline clients: who the clients are, where they're from, which plan they use, and the number of calls they made and text messages they sent in 2018. Your job is to analyze the clients' behavior and determine which prepaid plan brings in more revenue."
   ]
  },
  {
   "cell_type": "markdown",
   "metadata": {},
   "source": [
    "<div class=\"alert alert-block alert-success\">\n",
    "<b>Reviewer's comment v1</b>\n",
    " \n",
    "Great job keeping the additional information about the project goal! Additionally, you could add a short description of the tasks you plan to perform and the available data. This information could be helpful for the notebook reader.\n",
    "\n"
   ]
  },
  {
   "cell_type": "markdown",
   "metadata": {},
   "source": [
    "## Initialization"
   ]
  },
  {
   "cell_type": "markdown",
   "metadata": {},
   "source": [
    "Here I load all the libraries and import my functions to use. "
   ]
  },
  {
   "cell_type": "code",
   "execution_count": 1,
   "metadata": {},
   "outputs": [],
   "source": [
    "import pandas as pd\n",
    "import numpy as np\n",
    "from math import factorial\n",
    "from scipy import stats as st\n",
    "from matplotlib import pyplot as plt"
   ]
  },
  {
   "cell_type": "markdown",
   "metadata": {},
   "source": [
    "## Load data"
   ]
  },
  {
   "cell_type": "code",
   "execution_count": 2,
   "metadata": {},
   "outputs": [],
   "source": [
    "calls= pd.read_csv('/datasets/megaline_calls.csv')"
   ]
  },
  {
   "cell_type": "code",
   "execution_count": 3,
   "metadata": {},
   "outputs": [],
   "source": [
    "internet= pd.read_csv('/datasets/megaline_internet.csv')"
   ]
  },
  {
   "cell_type": "code",
   "execution_count": 4,
   "metadata": {},
   "outputs": [],
   "source": [
    "messages= pd.read_csv('/datasets/megaline_messages.csv')"
   ]
  },
  {
   "cell_type": "code",
   "execution_count": 5,
   "metadata": {},
   "outputs": [],
   "source": [
    "plans= pd.read_csv('/datasets/megaline_plans.csv')"
   ]
  },
  {
   "cell_type": "code",
   "execution_count": 6,
   "metadata": {},
   "outputs": [],
   "source": [
    "users= pd.read_csv('/datasets/megaline_users.csv')"
   ]
  },
  {
   "cell_type": "markdown",
   "metadata": {},
   "source": [
    "Above I read all the CSV files and loaded them in."
   ]
  },
  {
   "cell_type": "markdown",
   "metadata": {},
   "source": [
    "## Prepare the data"
   ]
  },
  {
   "cell_type": "markdown",
   "metadata": {},
   "source": [
    "## Plans"
   ]
  },
  {
   "cell_type": "code",
   "execution_count": 7,
   "metadata": {},
   "outputs": [
    {
     "name": "stdout",
     "output_type": "stream",
     "text": [
      "<class 'pandas.core.frame.DataFrame'>\n",
      "RangeIndex: 2 entries, 0 to 1\n",
      "Data columns (total 8 columns):\n",
      " #   Column                 Non-Null Count  Dtype  \n",
      "---  ------                 --------------  -----  \n",
      " 0   messages_included      2 non-null      int64  \n",
      " 1   mb_per_month_included  2 non-null      int64  \n",
      " 2   minutes_included       2 non-null      int64  \n",
      " 3   usd_monthly_pay        2 non-null      int64  \n",
      " 4   usd_per_gb             2 non-null      int64  \n",
      " 5   usd_per_message        2 non-null      float64\n",
      " 6   usd_per_minute         2 non-null      float64\n",
      " 7   plan_name              2 non-null      object \n",
      "dtypes: float64(2), int64(5), object(1)\n",
      "memory usage: 256.0+ bytes\n"
     ]
    }
   ],
   "source": [
    "plans.info(show_counts=True)"
   ]
  },
  {
   "cell_type": "code",
   "execution_count": 8,
   "metadata": {},
   "outputs": [
    {
     "data": {
      "text/html": [
       "<div>\n",
       "<style scoped>\n",
       "    .dataframe tbody tr th:only-of-type {\n",
       "        vertical-align: middle;\n",
       "    }\n",
       "\n",
       "    .dataframe tbody tr th {\n",
       "        vertical-align: top;\n",
       "    }\n",
       "\n",
       "    .dataframe thead th {\n",
       "        text-align: right;\n",
       "    }\n",
       "</style>\n",
       "<table border=\"1\" class=\"dataframe\">\n",
       "  <thead>\n",
       "    <tr style=\"text-align: right;\">\n",
       "      <th></th>\n",
       "      <th>messages_included</th>\n",
       "      <th>mb_per_month_included</th>\n",
       "      <th>minutes_included</th>\n",
       "      <th>usd_monthly_pay</th>\n",
       "      <th>usd_per_gb</th>\n",
       "      <th>usd_per_message</th>\n",
       "      <th>usd_per_minute</th>\n",
       "      <th>plan_name</th>\n",
       "    </tr>\n",
       "  </thead>\n",
       "  <tbody>\n",
       "    <tr>\n",
       "      <th>1</th>\n",
       "      <td>1000</td>\n",
       "      <td>30720</td>\n",
       "      <td>3000</td>\n",
       "      <td>70</td>\n",
       "      <td>7</td>\n",
       "      <td>0.01</td>\n",
       "      <td>0.01</td>\n",
       "      <td>ultimate</td>\n",
       "    </tr>\n",
       "    <tr>\n",
       "      <th>0</th>\n",
       "      <td>50</td>\n",
       "      <td>15360</td>\n",
       "      <td>500</td>\n",
       "      <td>20</td>\n",
       "      <td>10</td>\n",
       "      <td>0.03</td>\n",
       "      <td>0.03</td>\n",
       "      <td>surf</td>\n",
       "    </tr>\n",
       "  </tbody>\n",
       "</table>\n",
       "</div>"
      ],
      "text/plain": [
       "   messages_included  mb_per_month_included  minutes_included  \\\n",
       "1               1000                  30720              3000   \n",
       "0                 50                  15360               500   \n",
       "\n",
       "   usd_monthly_pay  usd_per_gb  usd_per_message  usd_per_minute plan_name  \n",
       "1               70           7             0.01            0.01  ultimate  \n",
       "0               20          10             0.03            0.03      surf  "
      ]
     },
     "execution_count": 8,
     "metadata": {},
     "output_type": "execute_result"
    }
   ],
   "source": [
    "plans.sample(2)"
   ]
  },
  {
   "cell_type": "markdown",
   "metadata": {},
   "source": [
    "[Describe what you see and notice in the general information and the printed data sample for the above price of data. Are there any issues (inappropriate data types, missing data etc) that may need further investigation and changes? How that can be fixed?]"
   ]
  },
  {
   "cell_type": "markdown",
   "metadata": {},
   "source": [
    "Printed the general/summary information about the plans DataFrame.\n",
    "Printed a sample of data for plans.\n",
    "Looking at the samples and datatypes so it all looks good for further reading."
   ]
  },
  {
   "cell_type": "markdown",
   "metadata": {},
   "source": [
    "## Fix data"
   ]
  },
  {
   "cell_type": "markdown",
   "metadata": {},
   "source": [
    "[Fix obvious issues with the data given the initial observations.]"
   ]
  },
  {
   "cell_type": "code",
   "execution_count": 9,
   "metadata": {},
   "outputs": [
    {
     "data": {
      "text/plain": [
       "0"
      ]
     },
     "execution_count": 9,
     "metadata": {},
     "output_type": "execute_result"
    }
   ],
   "source": [
    "plans.duplicated().sum()"
   ]
  },
  {
   "cell_type": "code",
   "execution_count": 10,
   "metadata": {},
   "outputs": [
    {
     "data": {
      "text/plain": [
       "messages_included        0\n",
       "mb_per_month_included    0\n",
       "minutes_included         0\n",
       "usd_monthly_pay          0\n",
       "usd_per_gb               0\n",
       "usd_per_message          0\n",
       "usd_per_minute           0\n",
       "plan_name                0\n",
       "dtype: int64"
      ]
     },
     "execution_count": 10,
     "metadata": {},
     "output_type": "execute_result"
    }
   ],
   "source": [
    "plans.isna().sum()"
   ]
  },
  {
   "cell_type": "markdown",
   "metadata": {},
   "source": [
    "Checked for duplicates or missing data."
   ]
  },
  {
   "cell_type": "markdown",
   "metadata": {},
   "source": [
    "## Enrich data"
   ]
  },
  {
   "cell_type": "markdown",
   "metadata": {},
   "source": [
    "[Add additional factors to the data if you believe they might be useful.]"
   ]
  },
  {
   "cell_type": "code",
   "execution_count": null,
   "metadata": {},
   "outputs": [],
   "source": []
  },
  {
   "cell_type": "markdown",
   "metadata": {},
   "source": [
    "## Users"
   ]
  },
  {
   "cell_type": "code",
   "execution_count": 11,
   "metadata": {},
   "outputs": [
    {
     "name": "stdout",
     "output_type": "stream",
     "text": [
      "<class 'pandas.core.frame.DataFrame'>\n",
      "RangeIndex: 500 entries, 0 to 499\n",
      "Data columns (total 8 columns):\n",
      " #   Column      Non-Null Count  Dtype \n",
      "---  ------      --------------  ----- \n",
      " 0   user_id     500 non-null    int64 \n",
      " 1   first_name  500 non-null    object\n",
      " 2   last_name   500 non-null    object\n",
      " 3   age         500 non-null    int64 \n",
      " 4   city        500 non-null    object\n",
      " 5   reg_date    500 non-null    object\n",
      " 6   plan        500 non-null    object\n",
      " 7   churn_date  34 non-null     object\n",
      "dtypes: int64(2), object(6)\n",
      "memory usage: 31.4+ KB\n"
     ]
    }
   ],
   "source": [
    "users.info(show_counts=True)"
   ]
  },
  {
   "cell_type": "code",
   "execution_count": 12,
   "metadata": {},
   "outputs": [
    {
     "data": {
      "text/html": [
       "<div>\n",
       "<style scoped>\n",
       "    .dataframe tbody tr th:only-of-type {\n",
       "        vertical-align: middle;\n",
       "    }\n",
       "\n",
       "    .dataframe tbody tr th {\n",
       "        vertical-align: top;\n",
       "    }\n",
       "\n",
       "    .dataframe thead th {\n",
       "        text-align: right;\n",
       "    }\n",
       "</style>\n",
       "<table border=\"1\" class=\"dataframe\">\n",
       "  <thead>\n",
       "    <tr style=\"text-align: right;\">\n",
       "      <th></th>\n",
       "      <th>user_id</th>\n",
       "      <th>first_name</th>\n",
       "      <th>last_name</th>\n",
       "      <th>age</th>\n",
       "      <th>city</th>\n",
       "      <th>reg_date</th>\n",
       "      <th>plan</th>\n",
       "      <th>churn_date</th>\n",
       "    </tr>\n",
       "  </thead>\n",
       "  <tbody>\n",
       "    <tr>\n",
       "      <th>136</th>\n",
       "      <td>1136</td>\n",
       "      <td>Jasper</td>\n",
       "      <td>Caldwell</td>\n",
       "      <td>25</td>\n",
       "      <td>Knoxville, TN MSA</td>\n",
       "      <td>2018-10-14</td>\n",
       "      <td>surf</td>\n",
       "      <td>NaN</td>\n",
       "    </tr>\n",
       "    <tr>\n",
       "      <th>352</th>\n",
       "      <td>1352</td>\n",
       "      <td>Gavin</td>\n",
       "      <td>Galloway</td>\n",
       "      <td>48</td>\n",
       "      <td>Seattle-Tacoma-Bellevue, WA MSA</td>\n",
       "      <td>2018-09-08</td>\n",
       "      <td>ultimate</td>\n",
       "      <td>NaN</td>\n",
       "    </tr>\n",
       "    <tr>\n",
       "      <th>330</th>\n",
       "      <td>1330</td>\n",
       "      <td>Tobi</td>\n",
       "      <td>Kinney</td>\n",
       "      <td>48</td>\n",
       "      <td>Las Vegas-Henderson-Paradise, NV MSA</td>\n",
       "      <td>2018-11-06</td>\n",
       "      <td>ultimate</td>\n",
       "      <td>NaN</td>\n",
       "    </tr>\n",
       "    <tr>\n",
       "      <th>101</th>\n",
       "      <td>1101</td>\n",
       "      <td>Sage</td>\n",
       "      <td>Conley</td>\n",
       "      <td>27</td>\n",
       "      <td>Washington-Arlington-Alexandria, DC-VA-MD-WV MSA</td>\n",
       "      <td>2018-02-08</td>\n",
       "      <td>surf</td>\n",
       "      <td>NaN</td>\n",
       "    </tr>\n",
       "    <tr>\n",
       "      <th>302</th>\n",
       "      <td>1302</td>\n",
       "      <td>Leonila</td>\n",
       "      <td>Morris</td>\n",
       "      <td>62</td>\n",
       "      <td>Rochester, NY MSA</td>\n",
       "      <td>2018-01-21</td>\n",
       "      <td>surf</td>\n",
       "      <td>NaN</td>\n",
       "    </tr>\n",
       "  </tbody>\n",
       "</table>\n",
       "</div>"
      ],
      "text/plain": [
       "     user_id first_name last_name  age  \\\n",
       "136     1136     Jasper  Caldwell   25   \n",
       "352     1352      Gavin  Galloway   48   \n",
       "330     1330       Tobi    Kinney   48   \n",
       "101     1101       Sage    Conley   27   \n",
       "302     1302    Leonila    Morris   62   \n",
       "\n",
       "                                                 city    reg_date      plan  \\\n",
       "136                                 Knoxville, TN MSA  2018-10-14      surf   \n",
       "352                   Seattle-Tacoma-Bellevue, WA MSA  2018-09-08  ultimate   \n",
       "330              Las Vegas-Henderson-Paradise, NV MSA  2018-11-06  ultimate   \n",
       "101  Washington-Arlington-Alexandria, DC-VA-MD-WV MSA  2018-02-08      surf   \n",
       "302                                 Rochester, NY MSA  2018-01-21      surf   \n",
       "\n",
       "    churn_date  \n",
       "136        NaN  \n",
       "352        NaN  \n",
       "330        NaN  \n",
       "101        NaN  \n",
       "302        NaN  "
      ]
     },
     "execution_count": 12,
     "metadata": {},
     "output_type": "execute_result"
    }
   ],
   "source": [
    "users.sample(5)"
   ]
  },
  {
   "cell_type": "markdown",
   "metadata": {},
   "source": [
    "[Describe what you see and notice in the general information and the printed data sample for the above price of data. Are there any issues (inappropriate data types, missing data etc) that may need further investigation and changes? How that can be fixed?]"
   ]
  },
  {
   "cell_type": "markdown",
   "metadata": {},
   "source": [
    "Printed the general/summary information about the users' DataFrame.\n",
    "Printed a sample of data for users.\n",
    "looking at the data printouts it looks as though the reg_date and chur_date columns can be changed to datetime type."
   ]
  },
  {
   "cell_type": "markdown",
   "metadata": {},
   "source": [
    "### Fix Data"
   ]
  },
  {
   "cell_type": "markdown",
   "metadata": {},
   "source": [
    "[Fix obvious issues with the data given the initial observations.]"
   ]
  },
  {
   "cell_type": "code",
   "execution_count": 13,
   "metadata": {},
   "outputs": [
    {
     "data": {
      "text/plain": [
       "0"
      ]
     },
     "execution_count": 13,
     "metadata": {},
     "output_type": "execute_result"
    }
   ],
   "source": [
    "users.duplicated().sum()"
   ]
  },
  {
   "cell_type": "code",
   "execution_count": 14,
   "metadata": {},
   "outputs": [
    {
     "data": {
      "text/plain": [
       "user_id         0\n",
       "first_name      0\n",
       "last_name       0\n",
       "age             0\n",
       "city            0\n",
       "reg_date        0\n",
       "plan            0\n",
       "churn_date    466\n",
       "dtype: int64"
      ]
     },
     "execution_count": 14,
     "metadata": {},
     "output_type": "execute_result"
    }
   ],
   "source": [
    "users.isna().sum()"
   ]
  },
  {
   "cell_type": "markdown",
   "metadata": {},
   "source": [
    "Checked for duplicates and missing data."
   ]
  },
  {
   "cell_type": "markdown",
   "metadata": {},
   "source": [
    "### Enrich Data"
   ]
  },
  {
   "cell_type": "code",
   "execution_count": 15,
   "metadata": {},
   "outputs": [],
   "source": [
    "users['reg_date']= pd.to_datetime(users['reg_date'], format= '%Y-%m-%d')"
   ]
  },
  {
   "cell_type": "code",
   "execution_count": 16,
   "metadata": {},
   "outputs": [],
   "source": [
    "users['churn_date']=pd.to_datetime(users['churn_date'], format= '%Y-%m-%d')"
   ]
  },
  {
   "cell_type": "code",
   "execution_count": 17,
   "metadata": {},
   "outputs": [
    {
     "name": "stdout",
     "output_type": "stream",
     "text": [
      "<class 'pandas.core.frame.DataFrame'>\n",
      "RangeIndex: 500 entries, 0 to 499\n",
      "Data columns (total 8 columns):\n",
      " #   Column      Non-Null Count  Dtype         \n",
      "---  ------      --------------  -----         \n",
      " 0   user_id     500 non-null    int64         \n",
      " 1   first_name  500 non-null    object        \n",
      " 2   last_name   500 non-null    object        \n",
      " 3   age         500 non-null    int64         \n",
      " 4   city        500 non-null    object        \n",
      " 5   reg_date    500 non-null    datetime64[ns]\n",
      " 6   plan        500 non-null    object        \n",
      " 7   churn_date  34 non-null     datetime64[ns]\n",
      "dtypes: datetime64[ns](2), int64(2), object(4)\n",
      "memory usage: 31.4+ KB\n"
     ]
    }
   ],
   "source": [
    "users.info(show_counts=True)"
   ]
  },
  {
   "cell_type": "markdown",
   "metadata": {},
   "source": [
    "Changed the column type for the columns with dates to datetime."
   ]
  },
  {
   "cell_type": "markdown",
   "metadata": {},
   "source": [
    "## Calls"
   ]
  },
  {
   "cell_type": "code",
   "execution_count": 18,
   "metadata": {},
   "outputs": [
    {
     "name": "stdout",
     "output_type": "stream",
     "text": [
      "<class 'pandas.core.frame.DataFrame'>\n",
      "RangeIndex: 137735 entries, 0 to 137734\n",
      "Data columns (total 4 columns):\n",
      " #   Column     Non-Null Count   Dtype  \n",
      "---  ------     --------------   -----  \n",
      " 0   id         137735 non-null  object \n",
      " 1   user_id    137735 non-null  int64  \n",
      " 2   call_date  137735 non-null  object \n",
      " 3   duration   137735 non-null  float64\n",
      "dtypes: float64(1), int64(1), object(2)\n",
      "memory usage: 4.2+ MB\n"
     ]
    }
   ],
   "source": [
    "calls.info()"
   ]
  },
  {
   "cell_type": "code",
   "execution_count": 19,
   "metadata": {},
   "outputs": [
    {
     "data": {
      "text/html": [
       "<div>\n",
       "<style scoped>\n",
       "    .dataframe tbody tr th:only-of-type {\n",
       "        vertical-align: middle;\n",
       "    }\n",
       "\n",
       "    .dataframe tbody tr th {\n",
       "        vertical-align: top;\n",
       "    }\n",
       "\n",
       "    .dataframe thead th {\n",
       "        text-align: right;\n",
       "    }\n",
       "</style>\n",
       "<table border=\"1\" class=\"dataframe\">\n",
       "  <thead>\n",
       "    <tr style=\"text-align: right;\">\n",
       "      <th></th>\n",
       "      <th>id</th>\n",
       "      <th>user_id</th>\n",
       "      <th>call_date</th>\n",
       "      <th>duration</th>\n",
       "    </tr>\n",
       "  </thead>\n",
       "  <tbody>\n",
       "    <tr>\n",
       "      <th>130713</th>\n",
       "      <td>1470_162</td>\n",
       "      <td>1470</td>\n",
       "      <td>2018-08-22</td>\n",
       "      <td>12.91</td>\n",
       "    </tr>\n",
       "    <tr>\n",
       "      <th>15148</th>\n",
       "      <td>1061_90</td>\n",
       "      <td>1061</td>\n",
       "      <td>2018-07-31</td>\n",
       "      <td>1.78</td>\n",
       "    </tr>\n",
       "    <tr>\n",
       "      <th>115297</th>\n",
       "      <td>1404_91</td>\n",
       "      <td>1404</td>\n",
       "      <td>2018-10-09</td>\n",
       "      <td>6.91</td>\n",
       "    </tr>\n",
       "    <tr>\n",
       "      <th>123923</th>\n",
       "      <td>1437_801</td>\n",
       "      <td>1437</td>\n",
       "      <td>2018-12-26</td>\n",
       "      <td>5.64</td>\n",
       "    </tr>\n",
       "    <tr>\n",
       "      <th>70546</th>\n",
       "      <td>1251_557</td>\n",
       "      <td>1251</td>\n",
       "      <td>2018-06-30</td>\n",
       "      <td>23.44</td>\n",
       "    </tr>\n",
       "  </tbody>\n",
       "</table>\n",
       "</div>"
      ],
      "text/plain": [
       "              id  user_id   call_date  duration\n",
       "130713  1470_162     1470  2018-08-22     12.91\n",
       "15148    1061_90     1061  2018-07-31      1.78\n",
       "115297   1404_91     1404  2018-10-09      6.91\n",
       "123923  1437_801     1437  2018-12-26      5.64\n",
       "70546   1251_557     1251  2018-06-30     23.44"
      ]
     },
     "execution_count": 19,
     "metadata": {},
     "output_type": "execute_result"
    }
   ],
   "source": [
    "calls.sample(5)"
   ]
  },
  {
   "cell_type": "markdown",
   "metadata": {},
   "source": [
    "Printed the general/summary information about the calls' DataFrame.\n",
    "Printed a sample of data for calls.\n",
    "Call dates can be changed to tatetime data type."
   ]
  },
  {
   "cell_type": "markdown",
   "metadata": {},
   "source": [
    "### Fix data"
   ]
  },
  {
   "cell_type": "code",
   "execution_count": 20,
   "metadata": {},
   "outputs": [
    {
     "data": {
      "text/plain": [
       "0"
      ]
     },
     "execution_count": 20,
     "metadata": {},
     "output_type": "execute_result"
    }
   ],
   "source": [
    "calls.duplicated().sum()"
   ]
  },
  {
   "cell_type": "code",
   "execution_count": 21,
   "metadata": {},
   "outputs": [
    {
     "data": {
      "text/plain": [
       "id           0\n",
       "user_id      0\n",
       "call_date    0\n",
       "duration     0\n",
       "dtype: int64"
      ]
     },
     "execution_count": 21,
     "metadata": {},
     "output_type": "execute_result"
    }
   ],
   "source": [
    "calls.isna().sum()"
   ]
  },
  {
   "cell_type": "markdown",
   "metadata": {},
   "source": [
    "Checked for duplicates and missing data."
   ]
  },
  {
   "cell_type": "markdown",
   "metadata": {},
   "source": [
    "### Enrich data"
   ]
  },
  {
   "cell_type": "code",
   "execution_count": 22,
   "metadata": {},
   "outputs": [],
   "source": [
    "calls['call_date']=pd.to_datetime(calls['call_date'], format= '%Y-%m-%d')"
   ]
  },
  {
   "cell_type": "code",
   "execution_count": 23,
   "metadata": {},
   "outputs": [
    {
     "data": {
      "text/html": [
       "<div>\n",
       "<style scoped>\n",
       "    .dataframe tbody tr th:only-of-type {\n",
       "        vertical-align: middle;\n",
       "    }\n",
       "\n",
       "    .dataframe tbody tr th {\n",
       "        vertical-align: top;\n",
       "    }\n",
       "\n",
       "    .dataframe thead th {\n",
       "        text-align: right;\n",
       "    }\n",
       "</style>\n",
       "<table border=\"1\" class=\"dataframe\">\n",
       "  <thead>\n",
       "    <tr style=\"text-align: right;\">\n",
       "      <th></th>\n",
       "      <th>id</th>\n",
       "      <th>user_id</th>\n",
       "      <th>call_date</th>\n",
       "      <th>duration</th>\n",
       "    </tr>\n",
       "  </thead>\n",
       "  <tbody>\n",
       "    <tr>\n",
       "      <th>0</th>\n",
       "      <td>1000_93</td>\n",
       "      <td>1000</td>\n",
       "      <td>2018-12-27</td>\n",
       "      <td>9</td>\n",
       "    </tr>\n",
       "    <tr>\n",
       "      <th>1</th>\n",
       "      <td>1000_145</td>\n",
       "      <td>1000</td>\n",
       "      <td>2018-12-27</td>\n",
       "      <td>14</td>\n",
       "    </tr>\n",
       "    <tr>\n",
       "      <th>2</th>\n",
       "      <td>1000_247</td>\n",
       "      <td>1000</td>\n",
       "      <td>2018-12-27</td>\n",
       "      <td>15</td>\n",
       "    </tr>\n",
       "    <tr>\n",
       "      <th>3</th>\n",
       "      <td>1000_309</td>\n",
       "      <td>1000</td>\n",
       "      <td>2018-12-28</td>\n",
       "      <td>6</td>\n",
       "    </tr>\n",
       "    <tr>\n",
       "      <th>4</th>\n",
       "      <td>1000_380</td>\n",
       "      <td>1000</td>\n",
       "      <td>2018-12-30</td>\n",
       "      <td>5</td>\n",
       "    </tr>\n",
       "    <tr>\n",
       "      <th>...</th>\n",
       "      <td>...</td>\n",
       "      <td>...</td>\n",
       "      <td>...</td>\n",
       "      <td>...</td>\n",
       "    </tr>\n",
       "    <tr>\n",
       "      <th>137730</th>\n",
       "      <td>1499_199</td>\n",
       "      <td>1499</td>\n",
       "      <td>2018-11-21</td>\n",
       "      <td>9</td>\n",
       "    </tr>\n",
       "    <tr>\n",
       "      <th>137731</th>\n",
       "      <td>1499_200</td>\n",
       "      <td>1499</td>\n",
       "      <td>2018-10-20</td>\n",
       "      <td>11</td>\n",
       "    </tr>\n",
       "    <tr>\n",
       "      <th>137732</th>\n",
       "      <td>1499_201</td>\n",
       "      <td>1499</td>\n",
       "      <td>2018-09-21</td>\n",
       "      <td>9</td>\n",
       "    </tr>\n",
       "    <tr>\n",
       "      <th>137733</th>\n",
       "      <td>1499_202</td>\n",
       "      <td>1499</td>\n",
       "      <td>2018-10-10</td>\n",
       "      <td>1</td>\n",
       "    </tr>\n",
       "    <tr>\n",
       "      <th>137734</th>\n",
       "      <td>1499_203</td>\n",
       "      <td>1499</td>\n",
       "      <td>2018-12-29</td>\n",
       "      <td>14</td>\n",
       "    </tr>\n",
       "  </tbody>\n",
       "</table>\n",
       "<p>137735 rows × 4 columns</p>\n",
       "</div>"
      ],
      "text/plain": [
       "              id  user_id  call_date  duration\n",
       "0        1000_93     1000 2018-12-27         9\n",
       "1       1000_145     1000 2018-12-27        14\n",
       "2       1000_247     1000 2018-12-27        15\n",
       "3       1000_309     1000 2018-12-28         6\n",
       "4       1000_380     1000 2018-12-30         5\n",
       "...          ...      ...        ...       ...\n",
       "137730  1499_199     1499 2018-11-21         9\n",
       "137731  1499_200     1499 2018-10-20        11\n",
       "137732  1499_201     1499 2018-09-21         9\n",
       "137733  1499_202     1499 2018-10-10         1\n",
       "137734  1499_203     1499 2018-12-29        14\n",
       "\n",
       "[137735 rows x 4 columns]"
      ]
     },
     "execution_count": 23,
     "metadata": {},
     "output_type": "execute_result"
    }
   ],
   "source": [
    "calls['duration']=calls['duration'].apply(np.ceil).astype(int)\n",
    "calls"
   ]
  },
  {
   "cell_type": "markdown",
   "metadata": {},
   "source": [
    "<div class=\"alert alert-warning\" role=\"alert\">\n",
    "<b>Reviewer's comment v1:</b>\n",
    "    \n",
    "- Well done!  Good that you did not forget about data rounding. Also, great choice of np.ceil () function.\n",
    "- This function by the way also works without `apply` which makes code shorter and faster.\n",
    "    \n",
    "```\n",
    "calls['duration'] = np.ceil(calls['duration'])\n",
    "```"
   ]
  },
  {
   "cell_type": "markdown",
   "metadata": {},
   "source": [
    "Changed the column type for the columns with dates to datetime. Rounded the calls up to the next integer and changed format type to 'int' format."
   ]
  },
  {
   "cell_type": "markdown",
   "metadata": {},
   "source": [
    "## Messages"
   ]
  },
  {
   "cell_type": "code",
   "execution_count": 24,
   "metadata": {},
   "outputs": [
    {
     "name": "stdout",
     "output_type": "stream",
     "text": [
      "<class 'pandas.core.frame.DataFrame'>\n",
      "RangeIndex: 76051 entries, 0 to 76050\n",
      "Data columns (total 3 columns):\n",
      " #   Column        Non-Null Count  Dtype \n",
      "---  ------        --------------  ----- \n",
      " 0   id            76051 non-null  object\n",
      " 1   user_id       76051 non-null  int64 \n",
      " 2   message_date  76051 non-null  object\n",
      "dtypes: int64(1), object(2)\n",
      "memory usage: 1.7+ MB\n"
     ]
    }
   ],
   "source": [
    "messages.info(show_counts=True)"
   ]
  },
  {
   "cell_type": "code",
   "execution_count": 25,
   "metadata": {},
   "outputs": [
    {
     "data": {
      "text/html": [
       "<div>\n",
       "<style scoped>\n",
       "    .dataframe tbody tr th:only-of-type {\n",
       "        vertical-align: middle;\n",
       "    }\n",
       "\n",
       "    .dataframe tbody tr th {\n",
       "        vertical-align: top;\n",
       "    }\n",
       "\n",
       "    .dataframe thead th {\n",
       "        text-align: right;\n",
       "    }\n",
       "</style>\n",
       "<table border=\"1\" class=\"dataframe\">\n",
       "  <thead>\n",
       "    <tr style=\"text-align: right;\">\n",
       "      <th></th>\n",
       "      <th>id</th>\n",
       "      <th>user_id</th>\n",
       "      <th>message_date</th>\n",
       "    </tr>\n",
       "  </thead>\n",
       "  <tbody>\n",
       "    <tr>\n",
       "      <th>8115</th>\n",
       "      <td>1061_121</td>\n",
       "      <td>1061</td>\n",
       "      <td>2018-12-04</td>\n",
       "    </tr>\n",
       "    <tr>\n",
       "      <th>70523</th>\n",
       "      <td>1458_252</td>\n",
       "      <td>1458</td>\n",
       "      <td>2018-10-23</td>\n",
       "    </tr>\n",
       "    <tr>\n",
       "      <th>3040</th>\n",
       "      <td>1033_53</td>\n",
       "      <td>1033</td>\n",
       "      <td>2018-11-20</td>\n",
       "    </tr>\n",
       "    <tr>\n",
       "      <th>27342</th>\n",
       "      <td>1167_299</td>\n",
       "      <td>1167</td>\n",
       "      <td>2018-06-10</td>\n",
       "    </tr>\n",
       "    <tr>\n",
       "      <th>64171</th>\n",
       "      <td>1408_296</td>\n",
       "      <td>1408</td>\n",
       "      <td>2018-02-25</td>\n",
       "    </tr>\n",
       "  </tbody>\n",
       "</table>\n",
       "</div>"
      ],
      "text/plain": [
       "             id  user_id message_date\n",
       "8115   1061_121     1061   2018-12-04\n",
       "70523  1458_252     1458   2018-10-23\n",
       "3040    1033_53     1033   2018-11-20\n",
       "27342  1167_299     1167   2018-06-10\n",
       "64171  1408_296     1408   2018-02-25"
      ]
     },
     "execution_count": 25,
     "metadata": {},
     "output_type": "execute_result"
    }
   ],
   "source": [
    "messages.sample(5)"
   ]
  },
  {
   "cell_type": "markdown",
   "metadata": {},
   "source": [
    "Printed the general/summary information about the messages' DataFrame.\n",
    "Printed a sample of data for messages.\n",
    "The message_date column can be converted to datetime type."
   ]
  },
  {
   "cell_type": "markdown",
   "metadata": {},
   "source": [
    "### Fix data"
   ]
  },
  {
   "cell_type": "code",
   "execution_count": 26,
   "metadata": {},
   "outputs": [
    {
     "data": {
      "text/plain": [
       "0"
      ]
     },
     "execution_count": 26,
     "metadata": {},
     "output_type": "execute_result"
    }
   ],
   "source": [
    "messages.duplicated().sum()"
   ]
  },
  {
   "cell_type": "code",
   "execution_count": 27,
   "metadata": {},
   "outputs": [
    {
     "data": {
      "text/plain": [
       "id              0\n",
       "user_id         0\n",
       "message_date    0\n",
       "dtype: int64"
      ]
     },
     "execution_count": 27,
     "metadata": {},
     "output_type": "execute_result"
    }
   ],
   "source": [
    "messages.isna().sum()"
   ]
  },
  {
   "cell_type": "markdown",
   "metadata": {},
   "source": [
    "Checked for duplicates and missing data."
   ]
  },
  {
   "cell_type": "markdown",
   "metadata": {},
   "source": [
    "### Enrich data"
   ]
  },
  {
   "cell_type": "code",
   "execution_count": 28,
   "metadata": {},
   "outputs": [],
   "source": [
    "messages['message_date']=pd.to_datetime(messages['message_date'], format= '%Y-%m-%d')"
   ]
  },
  {
   "cell_type": "markdown",
   "metadata": {},
   "source": [
    "Changed the column type for the columns with dates to datetime."
   ]
  },
  {
   "cell_type": "markdown",
   "metadata": {},
   "source": [
    "## Internet"
   ]
  },
  {
   "cell_type": "code",
   "execution_count": 29,
   "metadata": {},
   "outputs": [
    {
     "name": "stdout",
     "output_type": "stream",
     "text": [
      "<class 'pandas.core.frame.DataFrame'>\n",
      "RangeIndex: 104825 entries, 0 to 104824\n",
      "Data columns (total 4 columns):\n",
      " #   Column        Non-Null Count   Dtype  \n",
      "---  ------        --------------   -----  \n",
      " 0   id            104825 non-null  object \n",
      " 1   user_id       104825 non-null  int64  \n",
      " 2   session_date  104825 non-null  object \n",
      " 3   mb_used       104825 non-null  float64\n",
      "dtypes: float64(1), int64(1), object(2)\n",
      "memory usage: 3.2+ MB\n"
     ]
    }
   ],
   "source": [
    "internet.info(show_counts=True)"
   ]
  },
  {
   "cell_type": "code",
   "execution_count": 30,
   "metadata": {},
   "outputs": [
    {
     "data": {
      "text/html": [
       "<div>\n",
       "<style scoped>\n",
       "    .dataframe tbody tr th:only-of-type {\n",
       "        vertical-align: middle;\n",
       "    }\n",
       "\n",
       "    .dataframe tbody tr th {\n",
       "        vertical-align: top;\n",
       "    }\n",
       "\n",
       "    .dataframe thead th {\n",
       "        text-align: right;\n",
       "    }\n",
       "</style>\n",
       "<table border=\"1\" class=\"dataframe\">\n",
       "  <thead>\n",
       "    <tr style=\"text-align: right;\">\n",
       "      <th></th>\n",
       "      <th>id</th>\n",
       "      <th>user_id</th>\n",
       "      <th>session_date</th>\n",
       "      <th>mb_used</th>\n",
       "    </tr>\n",
       "  </thead>\n",
       "  <tbody>\n",
       "    <tr>\n",
       "      <th>40879</th>\n",
       "      <td>1183_70</td>\n",
       "      <td>1183</td>\n",
       "      <td>2018-12-24</td>\n",
       "      <td>320.04</td>\n",
       "    </tr>\n",
       "    <tr>\n",
       "      <th>25114</th>\n",
       "      <td>1117_47</td>\n",
       "      <td>1117</td>\n",
       "      <td>2018-10-04</td>\n",
       "      <td>0.00</td>\n",
       "    </tr>\n",
       "    <tr>\n",
       "      <th>50712</th>\n",
       "      <td>1226_193</td>\n",
       "      <td>1226</td>\n",
       "      <td>2018-10-02</td>\n",
       "      <td>669.50</td>\n",
       "    </tr>\n",
       "    <tr>\n",
       "      <th>43597</th>\n",
       "      <td>1194_15</td>\n",
       "      <td>1194</td>\n",
       "      <td>2018-10-09</td>\n",
       "      <td>558.26</td>\n",
       "    </tr>\n",
       "    <tr>\n",
       "      <th>4020</th>\n",
       "      <td>1022_431</td>\n",
       "      <td>1022</td>\n",
       "      <td>2018-11-14</td>\n",
       "      <td>135.56</td>\n",
       "    </tr>\n",
       "  </tbody>\n",
       "</table>\n",
       "</div>"
      ],
      "text/plain": [
       "             id  user_id session_date  mb_used\n",
       "40879   1183_70     1183   2018-12-24   320.04\n",
       "25114   1117_47     1117   2018-10-04     0.00\n",
       "50712  1226_193     1226   2018-10-02   669.50\n",
       "43597   1194_15     1194   2018-10-09   558.26\n",
       "4020   1022_431     1022   2018-11-14   135.56"
      ]
     },
     "execution_count": 30,
     "metadata": {},
     "output_type": "execute_result"
    }
   ],
   "source": [
    "internet.sample(5)"
   ]
  },
  {
   "cell_type": "markdown",
   "metadata": {},
   "source": [
    "Printed the general/summary information about the internet DataFrame.\n",
    "Printed a sample of data for the internet traffic.\n",
    "The session_date column can be converted to datetime data type."
   ]
  },
  {
   "cell_type": "markdown",
   "metadata": {},
   "source": [
    "### Fix data"
   ]
  },
  {
   "cell_type": "markdown",
   "metadata": {},
   "source": [
    "[Fix obvious issues with the data given the initial observations.]"
   ]
  },
  {
   "cell_type": "code",
   "execution_count": 31,
   "metadata": {},
   "outputs": [
    {
     "data": {
      "text/plain": [
       "0"
      ]
     },
     "execution_count": 31,
     "metadata": {},
     "output_type": "execute_result"
    }
   ],
   "source": [
    "internet.duplicated().sum()"
   ]
  },
  {
   "cell_type": "code",
   "execution_count": 32,
   "metadata": {},
   "outputs": [
    {
     "data": {
      "text/plain": [
       "id              0\n",
       "user_id         0\n",
       "session_date    0\n",
       "mb_used         0\n",
       "dtype: int64"
      ]
     },
     "execution_count": 32,
     "metadata": {},
     "output_type": "execute_result"
    }
   ],
   "source": [
    "internet.isna().sum()"
   ]
  },
  {
   "cell_type": "markdown",
   "metadata": {},
   "source": [
    "Checked for duplicates and missing data."
   ]
  },
  {
   "cell_type": "markdown",
   "metadata": {},
   "source": [
    "### Enrich data"
   ]
  },
  {
   "cell_type": "code",
   "execution_count": 33,
   "metadata": {},
   "outputs": [
    {
     "name": "stdout",
     "output_type": "stream",
     "text": [
      "<class 'pandas.core.frame.DataFrame'>\n",
      "RangeIndex: 104825 entries, 0 to 104824\n",
      "Data columns (total 4 columns):\n",
      " #   Column        Non-Null Count   Dtype         \n",
      "---  ------        --------------   -----         \n",
      " 0   id            104825 non-null  object        \n",
      " 1   user_id       104825 non-null  int64         \n",
      " 2   session_date  104825 non-null  datetime64[ns]\n",
      " 3   mb_used       104825 non-null  float64       \n",
      "dtypes: datetime64[ns](1), float64(1), int64(1), object(1)\n",
      "memory usage: 3.2+ MB\n"
     ]
    }
   ],
   "source": [
    "internet['session_date']=pd.to_datetime(internet['session_date'], format= '%Y-%m-%d')\n",
    "internet.info(show_counts=True)"
   ]
  },
  {
   "cell_type": "markdown",
   "metadata": {},
   "source": [
    "Changed the column type for the columns with dates to datetime."
   ]
  },
  {
   "cell_type": "markdown",
   "metadata": {},
   "source": [
    "## Study plan conditions"
   ]
  },
  {
   "cell_type": "code",
   "execution_count": 34,
   "metadata": {},
   "outputs": [
    {
     "data": {
      "text/html": [
       "<div>\n",
       "<style scoped>\n",
       "    .dataframe tbody tr th:only-of-type {\n",
       "        vertical-align: middle;\n",
       "    }\n",
       "\n",
       "    .dataframe tbody tr th {\n",
       "        vertical-align: top;\n",
       "    }\n",
       "\n",
       "    .dataframe thead th {\n",
       "        text-align: right;\n",
       "    }\n",
       "</style>\n",
       "<table border=\"1\" class=\"dataframe\">\n",
       "  <thead>\n",
       "    <tr style=\"text-align: right;\">\n",
       "      <th></th>\n",
       "      <th>messages_included</th>\n",
       "      <th>mb_per_month_included</th>\n",
       "      <th>minutes_included</th>\n",
       "      <th>usd_monthly_pay</th>\n",
       "      <th>usd_per_gb</th>\n",
       "      <th>usd_per_message</th>\n",
       "      <th>usd_per_minute</th>\n",
       "      <th>plan_name</th>\n",
       "    </tr>\n",
       "  </thead>\n",
       "  <tbody>\n",
       "    <tr>\n",
       "      <th>0</th>\n",
       "      <td>50</td>\n",
       "      <td>15360</td>\n",
       "      <td>500</td>\n",
       "      <td>20</td>\n",
       "      <td>10</td>\n",
       "      <td>0.03</td>\n",
       "      <td>0.03</td>\n",
       "      <td>surf</td>\n",
       "    </tr>\n",
       "    <tr>\n",
       "      <th>1</th>\n",
       "      <td>1000</td>\n",
       "      <td>30720</td>\n",
       "      <td>3000</td>\n",
       "      <td>70</td>\n",
       "      <td>7</td>\n",
       "      <td>0.01</td>\n",
       "      <td>0.01</td>\n",
       "      <td>ultimate</td>\n",
       "    </tr>\n",
       "  </tbody>\n",
       "</table>\n",
       "</div>"
      ],
      "text/plain": [
       "   messages_included  mb_per_month_included  minutes_included  \\\n",
       "0                 50                  15360               500   \n",
       "1               1000                  30720              3000   \n",
       "\n",
       "   usd_monthly_pay  usd_per_gb  usd_per_message  usd_per_minute plan_name  \n",
       "0               20          10             0.03            0.03      surf  \n",
       "1               70           7             0.01            0.01  ultimate  "
      ]
     },
     "execution_count": 34,
     "metadata": {},
     "output_type": "execute_result"
    }
   ],
   "source": [
    "# Print out the plan conditions and make sure they are clear for you\n",
    "plans\n"
   ]
  },
  {
   "cell_type": "markdown",
   "metadata": {},
   "source": [
    "<div class=\"alert alert-success\">\n",
    "<b>Reviewer's comment v1:</b>\n",
    "    \n",
    "Everything is correct here. "
   ]
  },
  {
   "cell_type": "markdown",
   "metadata": {},
   "source": [
    "## Aggregate data per user"
   ]
  },
  {
   "cell_type": "code",
   "execution_count": 35,
   "metadata": {},
   "outputs": [
    {
     "data": {
      "text/html": [
       "<div>\n",
       "<style scoped>\n",
       "    .dataframe tbody tr th:only-of-type {\n",
       "        vertical-align: middle;\n",
       "    }\n",
       "\n",
       "    .dataframe tbody tr th {\n",
       "        vertical-align: top;\n",
       "    }\n",
       "\n",
       "    .dataframe thead th {\n",
       "        text-align: right;\n",
       "    }\n",
       "</style>\n",
       "<table border=\"1\" class=\"dataframe\">\n",
       "  <thead>\n",
       "    <tr style=\"text-align: right;\">\n",
       "      <th></th>\n",
       "      <th></th>\n",
       "      <th>call_date</th>\n",
       "      <th>duration</th>\n",
       "    </tr>\n",
       "    <tr>\n",
       "      <th>user_id</th>\n",
       "      <th>month</th>\n",
       "      <th></th>\n",
       "      <th></th>\n",
       "    </tr>\n",
       "  </thead>\n",
       "  <tbody>\n",
       "    <tr>\n",
       "      <th>1000</th>\n",
       "      <th>12</th>\n",
       "      <td>16</td>\n",
       "      <td>124</td>\n",
       "    </tr>\n",
       "    <tr>\n",
       "      <th rowspan=\"4\" valign=\"top\">1001</th>\n",
       "      <th>8</th>\n",
       "      <td>27</td>\n",
       "      <td>182</td>\n",
       "    </tr>\n",
       "    <tr>\n",
       "      <th>9</th>\n",
       "      <td>49</td>\n",
       "      <td>315</td>\n",
       "    </tr>\n",
       "    <tr>\n",
       "      <th>10</th>\n",
       "      <td>65</td>\n",
       "      <td>393</td>\n",
       "    </tr>\n",
       "    <tr>\n",
       "      <th>11</th>\n",
       "      <td>64</td>\n",
       "      <td>426</td>\n",
       "    </tr>\n",
       "    <tr>\n",
       "      <th>...</th>\n",
       "      <th>...</th>\n",
       "      <td>...</td>\n",
       "      <td>...</td>\n",
       "    </tr>\n",
       "    <tr>\n",
       "      <th>1498</th>\n",
       "      <th>12</th>\n",
       "      <td>39</td>\n",
       "      <td>339</td>\n",
       "    </tr>\n",
       "    <tr>\n",
       "      <th rowspan=\"4\" valign=\"top\">1499</th>\n",
       "      <th>9</th>\n",
       "      <td>41</td>\n",
       "      <td>346</td>\n",
       "    </tr>\n",
       "    <tr>\n",
       "      <th>10</th>\n",
       "      <td>53</td>\n",
       "      <td>385</td>\n",
       "    </tr>\n",
       "    <tr>\n",
       "      <th>11</th>\n",
       "      <td>45</td>\n",
       "      <td>308</td>\n",
       "    </tr>\n",
       "    <tr>\n",
       "      <th>12</th>\n",
       "      <td>65</td>\n",
       "      <td>496</td>\n",
       "    </tr>\n",
       "  </tbody>\n",
       "</table>\n",
       "<p>2258 rows × 2 columns</p>\n",
       "</div>"
      ],
      "text/plain": [
       "               call_date  duration\n",
       "user_id month                     \n",
       "1000    12            16       124\n",
       "1001    8             27       182\n",
       "        9             49       315\n",
       "        10            65       393\n",
       "        11            64       426\n",
       "...                  ...       ...\n",
       "1498    12            39       339\n",
       "1499    9             41       346\n",
       "        10            53       385\n",
       "        11            45       308\n",
       "        12            65       496\n",
       "\n",
       "[2258 rows x 2 columns]"
      ]
     },
     "execution_count": 35,
     "metadata": {},
     "output_type": "execute_result"
    }
   ],
   "source": [
    "# Calculate the number of calls made by each user per month. Save the result.\n",
    "# Calculate the amount of minutes spent by each user per month. Save the result.\n",
    "\n",
    "calls['month']= calls['call_date'].dt.month\n",
    "month_calls= calls.groupby(['user_id', 'month']).agg({'call_date': 'count','duration': 'sum'})\n",
    "\n",
    "month_calls"
   ]
  },
  {
   "cell_type": "markdown",
   "metadata": {},
   "source": [
    "<div class=\"alert alert-block alert-warning\">\n",
    "<b>Reviewer's comment v1</b>\n",
    " \n",
    "Everything is correct here, but it is always helpful to double-check whether we indeed have data within one year/time period. If not, then selecting and aggregating data by the month number will cause an issue. It is safer to use datetime64[M], which provides a complete date.\n",
    "\n",
    "Additionally, you could achieve the same using the following code: \n",
    "    \n",
    "```    \n",
    "calls['call_date'].dt.to_period('M')\n",
    "```"
   ]
  },
  {
   "cell_type": "code",
   "execution_count": 36,
   "metadata": {},
   "outputs": [
    {
     "data": {
      "text/html": [
       "<div>\n",
       "<style scoped>\n",
       "    .dataframe tbody tr th:only-of-type {\n",
       "        vertical-align: middle;\n",
       "    }\n",
       "\n",
       "    .dataframe tbody tr th {\n",
       "        vertical-align: top;\n",
       "    }\n",
       "\n",
       "    .dataframe thead th {\n",
       "        text-align: right;\n",
       "    }\n",
       "</style>\n",
       "<table border=\"1\" class=\"dataframe\">\n",
       "  <thead>\n",
       "    <tr style=\"text-align: right;\">\n",
       "      <th></th>\n",
       "      <th></th>\n",
       "      <th>message_date</th>\n",
       "    </tr>\n",
       "    <tr>\n",
       "      <th>user_id</th>\n",
       "      <th>month</th>\n",
       "      <th></th>\n",
       "    </tr>\n",
       "  </thead>\n",
       "  <tbody>\n",
       "    <tr>\n",
       "      <th>1000</th>\n",
       "      <th>12</th>\n",
       "      <td>11</td>\n",
       "    </tr>\n",
       "    <tr>\n",
       "      <th rowspan=\"4\" valign=\"top\">1001</th>\n",
       "      <th>8</th>\n",
       "      <td>30</td>\n",
       "    </tr>\n",
       "    <tr>\n",
       "      <th>9</th>\n",
       "      <td>44</td>\n",
       "    </tr>\n",
       "    <tr>\n",
       "      <th>10</th>\n",
       "      <td>53</td>\n",
       "    </tr>\n",
       "    <tr>\n",
       "      <th>11</th>\n",
       "      <td>36</td>\n",
       "    </tr>\n",
       "    <tr>\n",
       "      <th>...</th>\n",
       "      <th>...</th>\n",
       "      <td>...</td>\n",
       "    </tr>\n",
       "    <tr>\n",
       "      <th rowspan=\"4\" valign=\"top\">1496</th>\n",
       "      <th>9</th>\n",
       "      <td>21</td>\n",
       "    </tr>\n",
       "    <tr>\n",
       "      <th>10</th>\n",
       "      <td>18</td>\n",
       "    </tr>\n",
       "    <tr>\n",
       "      <th>11</th>\n",
       "      <td>13</td>\n",
       "    </tr>\n",
       "    <tr>\n",
       "      <th>12</th>\n",
       "      <td>11</td>\n",
       "    </tr>\n",
       "    <tr>\n",
       "      <th>1497</th>\n",
       "      <th>12</th>\n",
       "      <td>50</td>\n",
       "    </tr>\n",
       "  </tbody>\n",
       "</table>\n",
       "<p>1806 rows × 1 columns</p>\n",
       "</div>"
      ],
      "text/plain": [
       "               message_date\n",
       "user_id month              \n",
       "1000    12               11\n",
       "1001    8                30\n",
       "        9                44\n",
       "        10               53\n",
       "        11               36\n",
       "...                     ...\n",
       "1496    9                21\n",
       "        10               18\n",
       "        11               13\n",
       "        12               11\n",
       "1497    12               50\n",
       "\n",
       "[1806 rows x 1 columns]"
      ]
     },
     "execution_count": 36,
     "metadata": {},
     "output_type": "execute_result"
    }
   ],
   "source": [
    "# Calculate the number of messages sent by each user per month. Save the result.\n",
    "messages['month']=messages['message_date'].dt.month\n",
    "messages_month= messages.groupby(['user_id', 'month']).agg({'message_date': 'count'})\n",
    "messages_month"
   ]
  },
  {
   "cell_type": "markdown",
   "metadata": {},
   "source": [
    "<div class=\"alert alert-warning\" role=\"alert\">\n",
    "<b>Reviewer's comment v1:</b>\n",
    "    \n",
    "In `pivot_table` or `groupby` it is possible to pass multiple arguments, so here, you can create an aggregated table in one go like this:\n",
    "\n",
    "\n",
    "```\n",
    "# Group by and aggregate\n",
    "result = calls_df.groupby(['user_id', 'month']).agg({'duration': ['count', 'sum']}).reset_index()\n",
    "\n",
    "# Flatten the MultiIndex in columns\n",
    "result.columns = ['_'.join(col).strip() if type(col) is tuple else col for col in result.columns.values]\n",
    "result\n",
    "```"
   ]
  },
  {
   "cell_type": "code",
   "execution_count": 37,
   "metadata": {},
   "outputs": [
    {
     "data": {
      "text/html": [
       "<div>\n",
       "<style scoped>\n",
       "    .dataframe tbody tr th:only-of-type {\n",
       "        vertical-align: middle;\n",
       "    }\n",
       "\n",
       "    .dataframe tbody tr th {\n",
       "        vertical-align: top;\n",
       "    }\n",
       "\n",
       "    .dataframe thead th {\n",
       "        text-align: right;\n",
       "    }\n",
       "</style>\n",
       "<table border=\"1\" class=\"dataframe\">\n",
       "  <thead>\n",
       "    <tr style=\"text-align: right;\">\n",
       "      <th></th>\n",
       "      <th></th>\n",
       "      <th>mb_used</th>\n",
       "    </tr>\n",
       "    <tr>\n",
       "      <th>user_id</th>\n",
       "      <th>month</th>\n",
       "      <th></th>\n",
       "    </tr>\n",
       "  </thead>\n",
       "  <tbody>\n",
       "    <tr>\n",
       "      <th>1000</th>\n",
       "      <th>12</th>\n",
       "      <td>1901.47</td>\n",
       "    </tr>\n",
       "    <tr>\n",
       "      <th rowspan=\"4\" valign=\"top\">1001</th>\n",
       "      <th>8</th>\n",
       "      <td>6919.15</td>\n",
       "    </tr>\n",
       "    <tr>\n",
       "      <th>9</th>\n",
       "      <td>13314.82</td>\n",
       "    </tr>\n",
       "    <tr>\n",
       "      <th>10</th>\n",
       "      <td>22330.49</td>\n",
       "    </tr>\n",
       "    <tr>\n",
       "      <th>11</th>\n",
       "      <td>18504.30</td>\n",
       "    </tr>\n",
       "    <tr>\n",
       "      <th>...</th>\n",
       "      <th>...</th>\n",
       "      <td>...</td>\n",
       "    </tr>\n",
       "    <tr>\n",
       "      <th>1498</th>\n",
       "      <th>12</th>\n",
       "      <td>23137.69</td>\n",
       "    </tr>\n",
       "    <tr>\n",
       "      <th rowspan=\"4\" valign=\"top\">1499</th>\n",
       "      <th>9</th>\n",
       "      <td>12984.76</td>\n",
       "    </tr>\n",
       "    <tr>\n",
       "      <th>10</th>\n",
       "      <td>19492.43</td>\n",
       "    </tr>\n",
       "    <tr>\n",
       "      <th>11</th>\n",
       "      <td>16813.83</td>\n",
       "    </tr>\n",
       "    <tr>\n",
       "      <th>12</th>\n",
       "      <td>22059.21</td>\n",
       "    </tr>\n",
       "  </tbody>\n",
       "</table>\n",
       "<p>2277 rows × 1 columns</p>\n",
       "</div>"
      ],
      "text/plain": [
       "                mb_used\n",
       "user_id month          \n",
       "1000    12      1901.47\n",
       "1001    8       6919.15\n",
       "        9      13314.82\n",
       "        10     22330.49\n",
       "        11     18504.30\n",
       "...                 ...\n",
       "1498    12     23137.69\n",
       "1499    9      12984.76\n",
       "        10     19492.43\n",
       "        11     16813.83\n",
       "        12     22059.21\n",
       "\n",
       "[2277 rows x 1 columns]"
      ]
     },
     "execution_count": 37,
     "metadata": {},
     "output_type": "execute_result"
    }
   ],
   "source": [
    "# Calculate the volume of internet traffic used by each user per month. Save the result.\n",
    "internet['month']=internet['session_date'].dt.month\n",
    "internet_month= internet.groupby(['user_id', 'month']).agg({'mb_used': 'sum'})\n",
    "internet_month"
   ]
  },
  {
   "cell_type": "markdown",
   "metadata": {},
   "source": [
    "Since the data is clean, i aggregateed the data per user per period in order to have just one record per user per period. I saved it under \"merged\" to make it easier the do further analysis on it. I Put the aggregate data together into one DataFrame so that one record in it would represent what an unique user consumed in a given month."
   ]
  },
  {
   "cell_type": "code",
   "execution_count": 38,
   "metadata": {},
   "outputs": [
    {
     "data": {
      "text/html": [
       "<div>\n",
       "<style scoped>\n",
       "    .dataframe tbody tr th:only-of-type {\n",
       "        vertical-align: middle;\n",
       "    }\n",
       "\n",
       "    .dataframe tbody tr th {\n",
       "        vertical-align: top;\n",
       "    }\n",
       "\n",
       "    .dataframe thead th {\n",
       "        text-align: right;\n",
       "    }\n",
       "</style>\n",
       "<table border=\"1\" class=\"dataframe\">\n",
       "  <thead>\n",
       "    <tr style=\"text-align: right;\">\n",
       "      <th></th>\n",
       "      <th>user_id</th>\n",
       "      <th>month</th>\n",
       "      <th>call_date</th>\n",
       "      <th>duration</th>\n",
       "      <th>message_date</th>\n",
       "      <th>mb_used</th>\n",
       "    </tr>\n",
       "  </thead>\n",
       "  <tbody>\n",
       "    <tr>\n",
       "      <th>0</th>\n",
       "      <td>1000</td>\n",
       "      <td>12</td>\n",
       "      <td>16.0</td>\n",
       "      <td>124.0</td>\n",
       "      <td>11.0</td>\n",
       "      <td>1901.47</td>\n",
       "    </tr>\n",
       "    <tr>\n",
       "      <th>1</th>\n",
       "      <td>1001</td>\n",
       "      <td>8</td>\n",
       "      <td>27.0</td>\n",
       "      <td>182.0</td>\n",
       "      <td>30.0</td>\n",
       "      <td>6919.15</td>\n",
       "    </tr>\n",
       "    <tr>\n",
       "      <th>2</th>\n",
       "      <td>1001</td>\n",
       "      <td>9</td>\n",
       "      <td>49.0</td>\n",
       "      <td>315.0</td>\n",
       "      <td>44.0</td>\n",
       "      <td>13314.82</td>\n",
       "    </tr>\n",
       "    <tr>\n",
       "      <th>3</th>\n",
       "      <td>1001</td>\n",
       "      <td>10</td>\n",
       "      <td>65.0</td>\n",
       "      <td>393.0</td>\n",
       "      <td>53.0</td>\n",
       "      <td>22330.49</td>\n",
       "    </tr>\n",
       "    <tr>\n",
       "      <th>4</th>\n",
       "      <td>1001</td>\n",
       "      <td>11</td>\n",
       "      <td>64.0</td>\n",
       "      <td>426.0</td>\n",
       "      <td>36.0</td>\n",
       "      <td>18504.30</td>\n",
       "    </tr>\n",
       "    <tr>\n",
       "      <th>...</th>\n",
       "      <td>...</td>\n",
       "      <td>...</td>\n",
       "      <td>...</td>\n",
       "      <td>...</td>\n",
       "      <td>...</td>\n",
       "      <td>...</td>\n",
       "    </tr>\n",
       "    <tr>\n",
       "      <th>2288</th>\n",
       "      <td>1498</td>\n",
       "      <td>12</td>\n",
       "      <td>39.0</td>\n",
       "      <td>339.0</td>\n",
       "      <td>0.0</td>\n",
       "      <td>23137.69</td>\n",
       "    </tr>\n",
       "    <tr>\n",
       "      <th>2289</th>\n",
       "      <td>1499</td>\n",
       "      <td>9</td>\n",
       "      <td>41.0</td>\n",
       "      <td>346.0</td>\n",
       "      <td>0.0</td>\n",
       "      <td>12984.76</td>\n",
       "    </tr>\n",
       "    <tr>\n",
       "      <th>2290</th>\n",
       "      <td>1499</td>\n",
       "      <td>10</td>\n",
       "      <td>53.0</td>\n",
       "      <td>385.0</td>\n",
       "      <td>0.0</td>\n",
       "      <td>19492.43</td>\n",
       "    </tr>\n",
       "    <tr>\n",
       "      <th>2291</th>\n",
       "      <td>1499</td>\n",
       "      <td>11</td>\n",
       "      <td>45.0</td>\n",
       "      <td>308.0</td>\n",
       "      <td>0.0</td>\n",
       "      <td>16813.83</td>\n",
       "    </tr>\n",
       "    <tr>\n",
       "      <th>2292</th>\n",
       "      <td>1499</td>\n",
       "      <td>12</td>\n",
       "      <td>65.0</td>\n",
       "      <td>496.0</td>\n",
       "      <td>0.0</td>\n",
       "      <td>22059.21</td>\n",
       "    </tr>\n",
       "  </tbody>\n",
       "</table>\n",
       "<p>2293 rows × 6 columns</p>\n",
       "</div>"
      ],
      "text/plain": [
       "      user_id  month  call_date  duration  message_date   mb_used\n",
       "0        1000     12       16.0     124.0          11.0   1901.47\n",
       "1        1001      8       27.0     182.0          30.0   6919.15\n",
       "2        1001      9       49.0     315.0          44.0  13314.82\n",
       "3        1001     10       65.0     393.0          53.0  22330.49\n",
       "4        1001     11       64.0     426.0          36.0  18504.30\n",
       "...       ...    ...        ...       ...           ...       ...\n",
       "2288     1498     12       39.0     339.0           0.0  23137.69\n",
       "2289     1499      9       41.0     346.0           0.0  12984.76\n",
       "2290     1499     10       53.0     385.0           0.0  19492.43\n",
       "2291     1499     11       45.0     308.0           0.0  16813.83\n",
       "2292     1499     12       65.0     496.0           0.0  22059.21\n",
       "\n",
       "[2293 rows x 6 columns]"
      ]
     },
     "execution_count": 38,
     "metadata": {},
     "output_type": "execute_result"
    }
   ],
   "source": [
    "# Merge the data for calls, minutes, messages, internet based on user_id and month\n",
    "merged= pd.concat([month_calls, messages_month, internet_month], axis=1)\n",
    "merged=merged.fillna(0)\n",
    "merged.reset_index(inplace=True)\n",
    "merged"
   ]
  },
  {
   "cell_type": "markdown",
   "metadata": {},
   "source": [
    "<div class=\"alert alert-success\" role=\"alert\">\n",
    "<b>Reviewer's comment v1:</b>\n",
    "\n",
    "Well done! "
   ]
  },
  {
   "cell_type": "code",
   "execution_count": 39,
   "metadata": {},
   "outputs": [
    {
     "data": {
      "text/html": [
       "<div>\n",
       "<style scoped>\n",
       "    .dataframe tbody tr th:only-of-type {\n",
       "        vertical-align: middle;\n",
       "    }\n",
       "\n",
       "    .dataframe tbody tr th {\n",
       "        vertical-align: top;\n",
       "    }\n",
       "\n",
       "    .dataframe thead th {\n",
       "        text-align: right;\n",
       "    }\n",
       "</style>\n",
       "<table border=\"1\" class=\"dataframe\">\n",
       "  <thead>\n",
       "    <tr style=\"text-align: right;\">\n",
       "      <th></th>\n",
       "      <th>user_id</th>\n",
       "      <th>month</th>\n",
       "      <th>call_date</th>\n",
       "      <th>duration</th>\n",
       "      <th>message_date</th>\n",
       "      <th>mb_used</th>\n",
       "      <th>first_name</th>\n",
       "      <th>last_name</th>\n",
       "      <th>age</th>\n",
       "      <th>city</th>\n",
       "      <th>...</th>\n",
       "      <th>plan</th>\n",
       "      <th>churn_date</th>\n",
       "      <th>messages_included</th>\n",
       "      <th>mb_per_month_included</th>\n",
       "      <th>minutes_included</th>\n",
       "      <th>usd_monthly_pay</th>\n",
       "      <th>usd_per_gb</th>\n",
       "      <th>usd_per_message</th>\n",
       "      <th>usd_per_minute</th>\n",
       "      <th>plan_name</th>\n",
       "    </tr>\n",
       "  </thead>\n",
       "  <tbody>\n",
       "    <tr>\n",
       "      <th>0</th>\n",
       "      <td>1000</td>\n",
       "      <td>12</td>\n",
       "      <td>16.0</td>\n",
       "      <td>124.0</td>\n",
       "      <td>11.0</td>\n",
       "      <td>1901.47</td>\n",
       "      <td>Anamaria</td>\n",
       "      <td>Bauer</td>\n",
       "      <td>45</td>\n",
       "      <td>Atlanta-Sandy Springs-Roswell, GA MSA</td>\n",
       "      <td>...</td>\n",
       "      <td>ultimate</td>\n",
       "      <td>NaT</td>\n",
       "      <td>1000</td>\n",
       "      <td>30720</td>\n",
       "      <td>3000</td>\n",
       "      <td>70</td>\n",
       "      <td>7</td>\n",
       "      <td>0.01</td>\n",
       "      <td>0.01</td>\n",
       "      <td>ultimate</td>\n",
       "    </tr>\n",
       "    <tr>\n",
       "      <th>1</th>\n",
       "      <td>1006</td>\n",
       "      <td>11</td>\n",
       "      <td>2.0</td>\n",
       "      <td>10.0</td>\n",
       "      <td>15.0</td>\n",
       "      <td>2068.37</td>\n",
       "      <td>Jesusa</td>\n",
       "      <td>Bradford</td>\n",
       "      <td>73</td>\n",
       "      <td>San Francisco-Oakland-Berkeley, CA MSA</td>\n",
       "      <td>...</td>\n",
       "      <td>ultimate</td>\n",
       "      <td>2018-12-18</td>\n",
       "      <td>1000</td>\n",
       "      <td>30720</td>\n",
       "      <td>3000</td>\n",
       "      <td>70</td>\n",
       "      <td>7</td>\n",
       "      <td>0.01</td>\n",
       "      <td>0.01</td>\n",
       "      <td>ultimate</td>\n",
       "    </tr>\n",
       "    <tr>\n",
       "      <th>2</th>\n",
       "      <td>1006</td>\n",
       "      <td>12</td>\n",
       "      <td>9.0</td>\n",
       "      <td>59.0</td>\n",
       "      <td>139.0</td>\n",
       "      <td>32118.82</td>\n",
       "      <td>Jesusa</td>\n",
       "      <td>Bradford</td>\n",
       "      <td>73</td>\n",
       "      <td>San Francisco-Oakland-Berkeley, CA MSA</td>\n",
       "      <td>...</td>\n",
       "      <td>ultimate</td>\n",
       "      <td>2018-12-18</td>\n",
       "      <td>1000</td>\n",
       "      <td>30720</td>\n",
       "      <td>3000</td>\n",
       "      <td>70</td>\n",
       "      <td>7</td>\n",
       "      <td>0.01</td>\n",
       "      <td>0.01</td>\n",
       "      <td>ultimate</td>\n",
       "    </tr>\n",
       "    <tr>\n",
       "      <th>3</th>\n",
       "      <td>1008</td>\n",
       "      <td>10</td>\n",
       "      <td>71.0</td>\n",
       "      <td>476.0</td>\n",
       "      <td>21.0</td>\n",
       "      <td>17106.99</td>\n",
       "      <td>Emely</td>\n",
       "      <td>Hoffman</td>\n",
       "      <td>53</td>\n",
       "      <td>Orlando-Kissimmee-Sanford, FL MSA</td>\n",
       "      <td>...</td>\n",
       "      <td>ultimate</td>\n",
       "      <td>NaT</td>\n",
       "      <td>1000</td>\n",
       "      <td>30720</td>\n",
       "      <td>3000</td>\n",
       "      <td>70</td>\n",
       "      <td>7</td>\n",
       "      <td>0.01</td>\n",
       "      <td>0.01</td>\n",
       "      <td>ultimate</td>\n",
       "    </tr>\n",
       "    <tr>\n",
       "      <th>4</th>\n",
       "      <td>1008</td>\n",
       "      <td>11</td>\n",
       "      <td>63.0</td>\n",
       "      <td>446.0</td>\n",
       "      <td>37.0</td>\n",
       "      <td>23676.72</td>\n",
       "      <td>Emely</td>\n",
       "      <td>Hoffman</td>\n",
       "      <td>53</td>\n",
       "      <td>Orlando-Kissimmee-Sanford, FL MSA</td>\n",
       "      <td>...</td>\n",
       "      <td>ultimate</td>\n",
       "      <td>NaT</td>\n",
       "      <td>1000</td>\n",
       "      <td>30720</td>\n",
       "      <td>3000</td>\n",
       "      <td>70</td>\n",
       "      <td>7</td>\n",
       "      <td>0.01</td>\n",
       "      <td>0.01</td>\n",
       "      <td>ultimate</td>\n",
       "    </tr>\n",
       "    <tr>\n",
       "      <th>...</th>\n",
       "      <td>...</td>\n",
       "      <td>...</td>\n",
       "      <td>...</td>\n",
       "      <td>...</td>\n",
       "      <td>...</td>\n",
       "      <td>...</td>\n",
       "      <td>...</td>\n",
       "      <td>...</td>\n",
       "      <td>...</td>\n",
       "      <td>...</td>\n",
       "      <td>...</td>\n",
       "      <td>...</td>\n",
       "      <td>...</td>\n",
       "      <td>...</td>\n",
       "      <td>...</td>\n",
       "      <td>...</td>\n",
       "      <td>...</td>\n",
       "      <td>...</td>\n",
       "      <td>...</td>\n",
       "      <td>...</td>\n",
       "      <td>...</td>\n",
       "    </tr>\n",
       "    <tr>\n",
       "      <th>2288</th>\n",
       "      <td>1498</td>\n",
       "      <td>12</td>\n",
       "      <td>39.0</td>\n",
       "      <td>339.0</td>\n",
       "      <td>0.0</td>\n",
       "      <td>23137.69</td>\n",
       "      <td>Scot</td>\n",
       "      <td>Williamson</td>\n",
       "      <td>51</td>\n",
       "      <td>New York-Newark-Jersey City, NY-NJ-PA MSA</td>\n",
       "      <td>...</td>\n",
       "      <td>surf</td>\n",
       "      <td>NaT</td>\n",
       "      <td>50</td>\n",
       "      <td>15360</td>\n",
       "      <td>500</td>\n",
       "      <td>20</td>\n",
       "      <td>10</td>\n",
       "      <td>0.03</td>\n",
       "      <td>0.03</td>\n",
       "      <td>surf</td>\n",
       "    </tr>\n",
       "    <tr>\n",
       "      <th>2289</th>\n",
       "      <td>1499</td>\n",
       "      <td>9</td>\n",
       "      <td>41.0</td>\n",
       "      <td>346.0</td>\n",
       "      <td>0.0</td>\n",
       "      <td>12984.76</td>\n",
       "      <td>Shena</td>\n",
       "      <td>Dickson</td>\n",
       "      <td>37</td>\n",
       "      <td>Orlando-Kissimmee-Sanford, FL MSA</td>\n",
       "      <td>...</td>\n",
       "      <td>surf</td>\n",
       "      <td>NaT</td>\n",
       "      <td>50</td>\n",
       "      <td>15360</td>\n",
       "      <td>500</td>\n",
       "      <td>20</td>\n",
       "      <td>10</td>\n",
       "      <td>0.03</td>\n",
       "      <td>0.03</td>\n",
       "      <td>surf</td>\n",
       "    </tr>\n",
       "    <tr>\n",
       "      <th>2290</th>\n",
       "      <td>1499</td>\n",
       "      <td>10</td>\n",
       "      <td>53.0</td>\n",
       "      <td>385.0</td>\n",
       "      <td>0.0</td>\n",
       "      <td>19492.43</td>\n",
       "      <td>Shena</td>\n",
       "      <td>Dickson</td>\n",
       "      <td>37</td>\n",
       "      <td>Orlando-Kissimmee-Sanford, FL MSA</td>\n",
       "      <td>...</td>\n",
       "      <td>surf</td>\n",
       "      <td>NaT</td>\n",
       "      <td>50</td>\n",
       "      <td>15360</td>\n",
       "      <td>500</td>\n",
       "      <td>20</td>\n",
       "      <td>10</td>\n",
       "      <td>0.03</td>\n",
       "      <td>0.03</td>\n",
       "      <td>surf</td>\n",
       "    </tr>\n",
       "    <tr>\n",
       "      <th>2291</th>\n",
       "      <td>1499</td>\n",
       "      <td>11</td>\n",
       "      <td>45.0</td>\n",
       "      <td>308.0</td>\n",
       "      <td>0.0</td>\n",
       "      <td>16813.83</td>\n",
       "      <td>Shena</td>\n",
       "      <td>Dickson</td>\n",
       "      <td>37</td>\n",
       "      <td>Orlando-Kissimmee-Sanford, FL MSA</td>\n",
       "      <td>...</td>\n",
       "      <td>surf</td>\n",
       "      <td>NaT</td>\n",
       "      <td>50</td>\n",
       "      <td>15360</td>\n",
       "      <td>500</td>\n",
       "      <td>20</td>\n",
       "      <td>10</td>\n",
       "      <td>0.03</td>\n",
       "      <td>0.03</td>\n",
       "      <td>surf</td>\n",
       "    </tr>\n",
       "    <tr>\n",
       "      <th>2292</th>\n",
       "      <td>1499</td>\n",
       "      <td>12</td>\n",
       "      <td>65.0</td>\n",
       "      <td>496.0</td>\n",
       "      <td>0.0</td>\n",
       "      <td>22059.21</td>\n",
       "      <td>Shena</td>\n",
       "      <td>Dickson</td>\n",
       "      <td>37</td>\n",
       "      <td>Orlando-Kissimmee-Sanford, FL MSA</td>\n",
       "      <td>...</td>\n",
       "      <td>surf</td>\n",
       "      <td>NaT</td>\n",
       "      <td>50</td>\n",
       "      <td>15360</td>\n",
       "      <td>500</td>\n",
       "      <td>20</td>\n",
       "      <td>10</td>\n",
       "      <td>0.03</td>\n",
       "      <td>0.03</td>\n",
       "      <td>surf</td>\n",
       "    </tr>\n",
       "  </tbody>\n",
       "</table>\n",
       "<p>2293 rows × 21 columns</p>\n",
       "</div>"
      ],
      "text/plain": [
       "      user_id  month  call_date  duration  message_date   mb_used first_name  \\\n",
       "0        1000     12       16.0     124.0          11.0   1901.47   Anamaria   \n",
       "1        1006     11        2.0      10.0          15.0   2068.37     Jesusa   \n",
       "2        1006     12        9.0      59.0         139.0  32118.82     Jesusa   \n",
       "3        1008     10       71.0     476.0          21.0  17106.99      Emely   \n",
       "4        1008     11       63.0     446.0          37.0  23676.72      Emely   \n",
       "...       ...    ...        ...       ...           ...       ...        ...   \n",
       "2288     1498     12       39.0     339.0           0.0  23137.69       Scot   \n",
       "2289     1499      9       41.0     346.0           0.0  12984.76      Shena   \n",
       "2290     1499     10       53.0     385.0           0.0  19492.43      Shena   \n",
       "2291     1499     11       45.0     308.0           0.0  16813.83      Shena   \n",
       "2292     1499     12       65.0     496.0           0.0  22059.21      Shena   \n",
       "\n",
       "       last_name  age                                       city  ...  \\\n",
       "0          Bauer   45      Atlanta-Sandy Springs-Roswell, GA MSA  ...   \n",
       "1       Bradford   73     San Francisco-Oakland-Berkeley, CA MSA  ...   \n",
       "2       Bradford   73     San Francisco-Oakland-Berkeley, CA MSA  ...   \n",
       "3        Hoffman   53          Orlando-Kissimmee-Sanford, FL MSA  ...   \n",
       "4        Hoffman   53          Orlando-Kissimmee-Sanford, FL MSA  ...   \n",
       "...          ...  ...                                        ...  ...   \n",
       "2288  Williamson   51  New York-Newark-Jersey City, NY-NJ-PA MSA  ...   \n",
       "2289     Dickson   37          Orlando-Kissimmee-Sanford, FL MSA  ...   \n",
       "2290     Dickson   37          Orlando-Kissimmee-Sanford, FL MSA  ...   \n",
       "2291     Dickson   37          Orlando-Kissimmee-Sanford, FL MSA  ...   \n",
       "2292     Dickson   37          Orlando-Kissimmee-Sanford, FL MSA  ...   \n",
       "\n",
       "          plan churn_date messages_included  mb_per_month_included  \\\n",
       "0     ultimate        NaT              1000                  30720   \n",
       "1     ultimate 2018-12-18              1000                  30720   \n",
       "2     ultimate 2018-12-18              1000                  30720   \n",
       "3     ultimate        NaT              1000                  30720   \n",
       "4     ultimate        NaT              1000                  30720   \n",
       "...        ...        ...               ...                    ...   \n",
       "2288      surf        NaT                50                  15360   \n",
       "2289      surf        NaT                50                  15360   \n",
       "2290      surf        NaT                50                  15360   \n",
       "2291      surf        NaT                50                  15360   \n",
       "2292      surf        NaT                50                  15360   \n",
       "\n",
       "      minutes_included  usd_monthly_pay  usd_per_gb  usd_per_message  \\\n",
       "0                 3000               70           7             0.01   \n",
       "1                 3000               70           7             0.01   \n",
       "2                 3000               70           7             0.01   \n",
       "3                 3000               70           7             0.01   \n",
       "4                 3000               70           7             0.01   \n",
       "...                ...              ...         ...              ...   \n",
       "2288               500               20          10             0.03   \n",
       "2289               500               20          10             0.03   \n",
       "2290               500               20          10             0.03   \n",
       "2291               500               20          10             0.03   \n",
       "2292               500               20          10             0.03   \n",
       "\n",
       "      usd_per_minute  plan_name  \n",
       "0               0.01   ultimate  \n",
       "1               0.01   ultimate  \n",
       "2               0.01   ultimate  \n",
       "3               0.01   ultimate  \n",
       "4               0.01   ultimate  \n",
       "...              ...        ...  \n",
       "2288            0.03       surf  \n",
       "2289            0.03       surf  \n",
       "2290            0.03       surf  \n",
       "2291            0.03       surf  \n",
       "2292            0.03       surf  \n",
       "\n",
       "[2293 rows x 21 columns]"
      ]
     },
     "execution_count": 39,
     "metadata": {},
     "output_type": "execute_result"
    }
   ],
   "source": [
    "# Add the plan information\n",
    "merged= merged.merge(users,on='user_id',how='inner')\n",
    "merged=merged.merge(plans,left_on='plan',right_on='plan_name',how='inner')\n",
    "merged"
   ]
  },
  {
   "cell_type": "markdown",
   "metadata": {},
   "source": [
    "Calculateed the monthly revenue from each user by subtracting the free package limit from the total number of calls, messages, and data then multiplied the result by eah plan value. I rounded all negative values to 0. I then added the monthly charge depending on the calling plan."
   ]
  },
  {
   "cell_type": "code",
   "execution_count": 40,
   "metadata": {},
   "outputs": [
    {
     "data": {
      "text/html": [
       "<div>\n",
       "<style scoped>\n",
       "    .dataframe tbody tr th:only-of-type {\n",
       "        vertical-align: middle;\n",
       "    }\n",
       "\n",
       "    .dataframe tbody tr th {\n",
       "        vertical-align: top;\n",
       "    }\n",
       "\n",
       "    .dataframe thead th {\n",
       "        text-align: right;\n",
       "    }\n",
       "</style>\n",
       "<table border=\"1\" class=\"dataframe\">\n",
       "  <thead>\n",
       "    <tr style=\"text-align: right;\">\n",
       "      <th></th>\n",
       "      <th>user_id</th>\n",
       "      <th>month</th>\n",
       "      <th>call_date</th>\n",
       "      <th>duration</th>\n",
       "      <th>message_date</th>\n",
       "      <th>mb_used</th>\n",
       "      <th>first_name</th>\n",
       "      <th>last_name</th>\n",
       "      <th>age</th>\n",
       "      <th>city</th>\n",
       "      <th>...</th>\n",
       "      <th>usd_per_message</th>\n",
       "      <th>usd_per_minute</th>\n",
       "      <th>plan_name</th>\n",
       "      <th>messages_diff</th>\n",
       "      <th>minutes_diff</th>\n",
       "      <th>internet_diff</th>\n",
       "      <th>add_message_rev</th>\n",
       "      <th>add_call_rev</th>\n",
       "      <th>add_internet_rev</th>\n",
       "      <th>month_total</th>\n",
       "    </tr>\n",
       "  </thead>\n",
       "  <tbody>\n",
       "    <tr>\n",
       "      <th>0</th>\n",
       "      <td>1000</td>\n",
       "      <td>12</td>\n",
       "      <td>16.0</td>\n",
       "      <td>124.0</td>\n",
       "      <td>11.0</td>\n",
       "      <td>1901.47</td>\n",
       "      <td>Anamaria</td>\n",
       "      <td>Bauer</td>\n",
       "      <td>45</td>\n",
       "      <td>Atlanta-Sandy Springs-Roswell, GA MSA</td>\n",
       "      <td>...</td>\n",
       "      <td>0.01</td>\n",
       "      <td>0.01</td>\n",
       "      <td>ultimate</td>\n",
       "      <td>0.0</td>\n",
       "      <td>0.0</td>\n",
       "      <td>0.00</td>\n",
       "      <td>0.0</td>\n",
       "      <td>0.0</td>\n",
       "      <td>0.0</td>\n",
       "      <td>70.0</td>\n",
       "    </tr>\n",
       "    <tr>\n",
       "      <th>1</th>\n",
       "      <td>1006</td>\n",
       "      <td>11</td>\n",
       "      <td>2.0</td>\n",
       "      <td>10.0</td>\n",
       "      <td>15.0</td>\n",
       "      <td>2068.37</td>\n",
       "      <td>Jesusa</td>\n",
       "      <td>Bradford</td>\n",
       "      <td>73</td>\n",
       "      <td>San Francisco-Oakland-Berkeley, CA MSA</td>\n",
       "      <td>...</td>\n",
       "      <td>0.01</td>\n",
       "      <td>0.01</td>\n",
       "      <td>ultimate</td>\n",
       "      <td>0.0</td>\n",
       "      <td>0.0</td>\n",
       "      <td>0.00</td>\n",
       "      <td>0.0</td>\n",
       "      <td>0.0</td>\n",
       "      <td>0.0</td>\n",
       "      <td>70.0</td>\n",
       "    </tr>\n",
       "    <tr>\n",
       "      <th>2</th>\n",
       "      <td>1006</td>\n",
       "      <td>12</td>\n",
       "      <td>9.0</td>\n",
       "      <td>59.0</td>\n",
       "      <td>139.0</td>\n",
       "      <td>32118.82</td>\n",
       "      <td>Jesusa</td>\n",
       "      <td>Bradford</td>\n",
       "      <td>73</td>\n",
       "      <td>San Francisco-Oakland-Berkeley, CA MSA</td>\n",
       "      <td>...</td>\n",
       "      <td>0.01</td>\n",
       "      <td>0.01</td>\n",
       "      <td>ultimate</td>\n",
       "      <td>0.0</td>\n",
       "      <td>0.0</td>\n",
       "      <td>1398.82</td>\n",
       "      <td>0.0</td>\n",
       "      <td>0.0</td>\n",
       "      <td>14.0</td>\n",
       "      <td>84.0</td>\n",
       "    </tr>\n",
       "    <tr>\n",
       "      <th>3</th>\n",
       "      <td>1008</td>\n",
       "      <td>10</td>\n",
       "      <td>71.0</td>\n",
       "      <td>476.0</td>\n",
       "      <td>21.0</td>\n",
       "      <td>17106.99</td>\n",
       "      <td>Emely</td>\n",
       "      <td>Hoffman</td>\n",
       "      <td>53</td>\n",
       "      <td>Orlando-Kissimmee-Sanford, FL MSA</td>\n",
       "      <td>...</td>\n",
       "      <td>0.01</td>\n",
       "      <td>0.01</td>\n",
       "      <td>ultimate</td>\n",
       "      <td>0.0</td>\n",
       "      <td>0.0</td>\n",
       "      <td>0.00</td>\n",
       "      <td>0.0</td>\n",
       "      <td>0.0</td>\n",
       "      <td>0.0</td>\n",
       "      <td>70.0</td>\n",
       "    </tr>\n",
       "    <tr>\n",
       "      <th>4</th>\n",
       "      <td>1008</td>\n",
       "      <td>11</td>\n",
       "      <td>63.0</td>\n",
       "      <td>446.0</td>\n",
       "      <td>37.0</td>\n",
       "      <td>23676.72</td>\n",
       "      <td>Emely</td>\n",
       "      <td>Hoffman</td>\n",
       "      <td>53</td>\n",
       "      <td>Orlando-Kissimmee-Sanford, FL MSA</td>\n",
       "      <td>...</td>\n",
       "      <td>0.01</td>\n",
       "      <td>0.01</td>\n",
       "      <td>ultimate</td>\n",
       "      <td>0.0</td>\n",
       "      <td>0.0</td>\n",
       "      <td>0.00</td>\n",
       "      <td>0.0</td>\n",
       "      <td>0.0</td>\n",
       "      <td>0.0</td>\n",
       "      <td>70.0</td>\n",
       "    </tr>\n",
       "  </tbody>\n",
       "</table>\n",
       "<p>5 rows × 28 columns</p>\n",
       "</div>"
      ],
      "text/plain": [
       "   user_id  month  call_date  duration  message_date   mb_used first_name  \\\n",
       "0     1000     12       16.0     124.0          11.0   1901.47   Anamaria   \n",
       "1     1006     11        2.0      10.0          15.0   2068.37     Jesusa   \n",
       "2     1006     12        9.0      59.0         139.0  32118.82     Jesusa   \n",
       "3     1008     10       71.0     476.0          21.0  17106.99      Emely   \n",
       "4     1008     11       63.0     446.0          37.0  23676.72      Emely   \n",
       "\n",
       "  last_name  age                                    city  ... usd_per_message  \\\n",
       "0     Bauer   45   Atlanta-Sandy Springs-Roswell, GA MSA  ...            0.01   \n",
       "1  Bradford   73  San Francisco-Oakland-Berkeley, CA MSA  ...            0.01   \n",
       "2  Bradford   73  San Francisco-Oakland-Berkeley, CA MSA  ...            0.01   \n",
       "3   Hoffman   53       Orlando-Kissimmee-Sanford, FL MSA  ...            0.01   \n",
       "4   Hoffman   53       Orlando-Kissimmee-Sanford, FL MSA  ...            0.01   \n",
       "\n",
       "  usd_per_minute plan_name  messages_diff  minutes_diff  internet_diff  \\\n",
       "0           0.01  ultimate            0.0           0.0           0.00   \n",
       "1           0.01  ultimate            0.0           0.0           0.00   \n",
       "2           0.01  ultimate            0.0           0.0        1398.82   \n",
       "3           0.01  ultimate            0.0           0.0           0.00   \n",
       "4           0.01  ultimate            0.0           0.0           0.00   \n",
       "\n",
       "   add_message_rev  add_call_rev  add_internet_rev  month_total  \n",
       "0              0.0           0.0               0.0         70.0  \n",
       "1              0.0           0.0               0.0         70.0  \n",
       "2              0.0           0.0              14.0         84.0  \n",
       "3              0.0           0.0               0.0         70.0  \n",
       "4              0.0           0.0               0.0         70.0  \n",
       "\n",
       "[5 rows x 28 columns]"
      ]
     },
     "execution_count": 40,
     "metadata": {},
     "output_type": "execute_result"
    }
   ],
   "source": [
    "# Calculate the monthly revenue for each user\n",
    "merged['messages_diff']=merged['message_date']-merged['messages_included']\n",
    "merged['minutes_diff']=merged['duration']-merged['minutes_included']\n",
    "merged['internet_diff']=merged['mb_used']-merged['mb_per_month_included']\n",
    "merged['messages_diff']=merged['messages_diff'].apply(lambda x: x if x>=0 else 0)\n",
    "merged['minutes_diff']=merged['minutes_diff'].apply(lambda x: x if x>=0 else 0)\n",
    "merged['internet_diff']=merged['internet_diff'].apply(lambda x: x if x>=0 else 0)\n",
    "merged['add_message_rev']=merged['messages_diff']*merged['usd_per_message']\n",
    "merged['add_call_rev']=merged['minutes_diff']*merged['usd_per_minute']\n",
    "merged['add_internet_rev']=np.ceil(merged['internet_diff']/1024)*merged['usd_per_gb']\n",
    "merged['month_total']= merged['add_message_rev']+merged['add_call_rev']+merged['add_internet_rev']+merged['usd_monthly_pay']\n",
    "merged.head()\n"
   ]
  },
  {
   "cell_type": "markdown",
   "metadata": {},
   "source": [
    "<div class=\"alert alert-success\" role=\"alert\">\n",
    "<b>Reviewer's comment v1:</b>\n",
    "\n",
    "Everything is correct here.\n",
    "\n",
    "Btw it is also possible to make the calculation of revenue a bit different `np.where` - https://numpy.org/doc/stable/reference/generated/numpy.where.html\n",
    "    \n",
    "```\n",
    "np.where ('condition: if exceeding the package limit', 'multiply the difference by the price of additional services', '0')\n",
    "```\n",
    "\n",
    "    \n",
    "Great thing about python is that there are so many libraries and ready-to-use functions. For example, this task can also be solved using `.clip()` (a useful method in many tasks). You can read it here: https://www.pythonpool.com/numpy-clip/\n",
    "    "
   ]
  },
  {
   "cell_type": "markdown",
   "metadata": {},
   "source": [
    "## Study user behaviour"
   ]
  },
  {
   "cell_type": "markdown",
   "metadata": {},
   "source": [
    "Calculateed some useful descriptive statistics for the aggregated and merged data, which reveals an overall picture of the data. Below I drew useful plots to help the understanding of the diffrences between the two plans. Given that the main task is to compare the plans and decide on which one is more profitable, the statistics and the plots are calculated on a per-plan basis."
   ]
  },
  {
   "cell_type": "code",
   "execution_count": 41,
   "metadata": {},
   "outputs": [
    {
     "name": "stdout",
     "output_type": "stream",
     "text": [
      "<class 'pandas.core.frame.DataFrame'>\n",
      "Int64Index: 2293 entries, 0 to 2292\n",
      "Data columns (total 28 columns):\n",
      " #   Column                 Non-Null Count  Dtype         \n",
      "---  ------                 --------------  -----         \n",
      " 0   user_id                2293 non-null   int64         \n",
      " 1   month                  2293 non-null   int64         \n",
      " 2   call_date              2293 non-null   float64       \n",
      " 3   duration               2293 non-null   float64       \n",
      " 4   message_date           2293 non-null   float64       \n",
      " 5   mb_used                2293 non-null   float64       \n",
      " 6   first_name             2293 non-null   object        \n",
      " 7   last_name              2293 non-null   object        \n",
      " 8   age                    2293 non-null   int64         \n",
      " 9   city                   2293 non-null   object        \n",
      " 10  reg_date               2293 non-null   datetime64[ns]\n",
      " 11  plan                   2293 non-null   object        \n",
      " 12  churn_date             158 non-null    datetime64[ns]\n",
      " 13  messages_included      2293 non-null   int64         \n",
      " 14  mb_per_month_included  2293 non-null   int64         \n",
      " 15  minutes_included       2293 non-null   int64         \n",
      " 16  usd_monthly_pay        2293 non-null   int64         \n",
      " 17  usd_per_gb             2293 non-null   int64         \n",
      " 18  usd_per_message        2293 non-null   float64       \n",
      " 19  usd_per_minute         2293 non-null   float64       \n",
      " 20  plan_name              2293 non-null   object        \n",
      " 21  messages_diff          2293 non-null   float64       \n",
      " 22  minutes_diff           2293 non-null   float64       \n",
      " 23  internet_diff          2293 non-null   float64       \n",
      " 24  add_message_rev        2293 non-null   float64       \n",
      " 25  add_call_rev           2293 non-null   float64       \n",
      " 26  add_internet_rev       2293 non-null   float64       \n",
      " 27  month_total            2293 non-null   float64       \n",
      "dtypes: datetime64[ns](2), float64(13), int64(8), object(5)\n",
      "memory usage: 519.5+ KB\n"
     ]
    }
   ],
   "source": [
    "merged.info()"
   ]
  },
  {
   "cell_type": "code",
   "execution_count": 42,
   "metadata": {},
   "outputs": [
    {
     "data": {
      "text/plain": [
       "Index(['user_id', 'month', 'call_date', 'duration', 'message_date', 'mb_used',\n",
       "       'first_name', 'last_name', 'age', 'city', 'reg_date', 'plan',\n",
       "       'churn_date', 'messages_included', 'mb_per_month_included',\n",
       "       'minutes_included', 'usd_monthly_pay', 'usd_per_gb', 'usd_per_message',\n",
       "       'usd_per_minute', 'plan_name', 'messages_diff', 'minutes_diff',\n",
       "       'internet_diff', 'add_message_rev', 'add_call_rev', 'add_internet_rev',\n",
       "       'month_total'],\n",
       "      dtype='object')"
      ]
     },
     "execution_count": 42,
     "metadata": {},
     "output_type": "execute_result"
    }
   ],
   "source": [
    "merged.columns"
   ]
  },
  {
   "cell_type": "markdown",
   "metadata": {},
   "source": [
    "### Calls"
   ]
  },
  {
   "cell_type": "code",
   "execution_count": 43,
   "metadata": {},
   "outputs": [
    {
     "data": {
      "text/plain": [
       "<AxesSubplot:title={'center':'Plan average minutes per month per plan'}, xlabel='Months', ylabel='Minutes'>"
      ]
     },
     "execution_count": 43,
     "metadata": {},
     "output_type": "execute_result"
    },
    {
     "data": {
      "image/png": "[encoded data removed]",
      "text/plain": [
       "<Figure size 640x480 with 1 Axes>"
      ]
     },
     "metadata": {},
     "output_type": "display_data"
    }
   ],
   "source": [
    "# Compare average duration of calls per each plan per each distinct month. Plot a bar plat to visualize it.\n",
    "avg_duration=merged.groupby(['plan','month'])['duration'].mean().unstack(level=0)\n",
    "avg_duration.plot(kind='bar',\n",
    "                  stacked= False ,\n",
    "                  xlabel= 'Months', \n",
    "                  ylabel= 'Minutes',\n",
    "                  title= 'Plan average minutes per month per plan',\n",
    "                  legend='Plan')\n"
   ]
  },
  {
   "cell_type": "markdown",
   "metadata": {},
   "source": [
    "Assuming 1 is January and 12 is December, the average duration of phone calls generally increased as the year progressed, starting the year withh ~200min and ending the year with over 400min. "
   ]
  },
  {
   "cell_type": "code",
   "execution_count": 44,
   "metadata": {
    "scrolled": true
   },
   "outputs": [
    {
     "data": {
      "image/png": "[encoded data removed]",
      "text/plain": [
       "<Figure size 640x480 with 1 Axes>"
      ]
     },
     "metadata": {},
     "output_type": "display_data"
    },
    {
     "data": {
      "text/plain": [
       "<Figure size 700x700 with 0 Axes>"
      ]
     },
     "metadata": {},
     "output_type": "display_data"
    }
   ],
   "source": [
    "# Compare the number of minutes users of each plan require each month. Plot a histogram.\n",
    "surf=merged[merged['plan']=='surf']['duration']\n",
    "ultimate= merged[merged['plan']== 'ultimate']['duration']\n",
    "plt.hist(surf,bins=20,alpha=.5,label= 'surf')\n",
    "plt.hist(ultimate,bins=20,alpha=.5,label='ultimate')\n",
    "plt.xlabel('Minutes')\n",
    "plt.ylabel('Number of users')\n",
    "plt.title('Minutes per plan per month')\n",
    "plt.legend()\n",
    "plt.figure(figsize=(7,7))\n",
    "plt.show()"
   ]
  },
  {
   "cell_type": "markdown",
   "metadata": {},
   "source": [
    "Above is a histogram with the total number of minutes per plan. Since there are less ultimate users the histogram is less than the surf members one. "
   ]
  },
  {
   "cell_type": "code",
   "execution_count": 45,
   "metadata": {},
   "outputs": [
    {
     "name": "stdout",
     "output_type": "stream",
     "text": [
      "The mean for the surf plan is: 428.7495232040687\n",
      "The mean for the ultimat plan is: 430.45\n",
      "The variance for the surf plan is: 54968.27946065038\n",
      "The variance for the ultimate plan is: 57844.46481223922\n"
     ]
    }
   ],
   "source": [
    "# Calculate the mean and the variance of the monthly call duration\n",
    "mean_surf= merged[merged['plan']=='surf']['duration'].mean()\n",
    "mean_ultimate= merged[merged['plan']=='ultimate']['duration'].mean()\n",
    "var_surf=merged[merged['plan']=='surf']['duration'].var()\n",
    "var_ultimate=merged[merged['plan']=='ultimate']['duration'].var()\n",
    "\n",
    "print(f'The mean for the surf plan is: {mean_surf}')\n",
    "print(f'The mean for the ultimat plan is: {mean_ultimate}')\n",
    "print(f'The variance for the surf plan is: {var_surf}')\n",
    "print(f'The variance for the ultimate plan is: {var_ultimate}')"
   ]
  },
  {
   "cell_type": "markdown",
   "metadata": {},
   "source": [
    "Calculated the mean and the variable of the call duration to reason on whether users on the different plans have different behaviours for their calls. The mean amount for both the plans are a bit over $400 with the ultimate plan bring in a few dollars more on average."
   ]
  },
  {
   "cell_type": "code",
   "execution_count": 46,
   "metadata": {},
   "outputs": [
    {
     "data": {
      "text/plain": [
       "Text(0.5, 1.0, 'Distribution of monthly calls')"
      ]
     },
     "execution_count": 46,
     "metadata": {},
     "output_type": "execute_result"
    },
    {
     "data": {
      "image/png": "[encoded data removed]",
      "text/plain": [
       "<Figure size 640x480 with 1 Axes>"
      ]
     },
     "metadata": {},
     "output_type": "display_data"
    }
   ],
   "source": [
    "# Plot a boxplot to visualize the distribution of the monthly call duration\n",
    "merged.boxplot(column='duration', by='plan')\n",
    "plt.suptitle('')\n",
    "plt.xlabel('Plans')\n",
    "plt.ylabel('Minutes')\n",
    "plt.title('Distribution of monthly calls')\n"
   ]
  },
  {
   "cell_type": "markdown",
   "metadata": {},
   "source": [
    "In terms of calling, users on the ultimate plan and surf plan both  tend to use similar amounts of minutes. Looking at the data and diffrent graphs you can see that the data backs up this analysis."
   ]
  },
  {
   "cell_type": "markdown",
   "metadata": {},
   "source": [
    "<div class=\"alert alert-warning\">\n",
    "<b>Reviewer's comment v1:</b>\n",
    "    \n",
    "To avoid repetitive code you could utilize functions. "
   ]
  },
  {
   "cell_type": "markdown",
   "metadata": {},
   "source": [
    "### Messages"
   ]
  },
  {
   "cell_type": "code",
   "execution_count": 47,
   "metadata": {},
   "outputs": [
    {
     "data": {
      "image/png": "[encoded data removed]",
      "text/plain": [
       "<Figure size 640x480 with 1 Axes>"
      ]
     },
     "metadata": {},
     "output_type": "display_data"
    },
    {
     "data": {
      "text/plain": [
       "<Figure size 1000x1000 with 0 Axes>"
      ]
     },
     "metadata": {},
     "output_type": "display_data"
    }
   ],
   "source": [
    "# Compare the number of messages users of each plan tend to send each month\n",
    "messages_surf= merged[merged['plan']=='surf']['message_date']\n",
    "messages_ult= merged[merged['plan']=='ultimate']['message_date']\n",
    "plt.hist(messages_surf,bins=20,alpha=.5,label= 'surf')\n",
    "plt.hist(messages_ult,bins=20,alpha=.5,label='ultimate')\n",
    "plt.xlabel('Messages')\n",
    "plt.ylabel('Number of users')\n",
    "plt.title('Messages per plan')\n",
    "plt.legend()\n",
    "plt.figure(figsize=(10,10))\n",
    "plt.show()\n"
   ]
  },
  {
   "cell_type": "code",
   "execution_count": 48,
   "metadata": {},
   "outputs": [
    {
     "name": "stdout",
     "output_type": "stream",
     "text": [
      "The mean for the surf plan is: 31.15956770502225\n",
      "The mean for the ultimate plan is: 37.55138888888889\n",
      "The variance for the surf plan is: 1126.7245219504068\n",
      "The variance for the ultimate plan is: 1208.7567435481378\n"
     ]
    }
   ],
   "source": [
    "mean_surf= merged[merged['plan']=='surf']['message_date'].mean()\n",
    "mean_ultimate= merged[merged['plan']=='ultimate']['message_date'].mean()\n",
    "var_surf=merged[merged['plan']=='surf']['message_date'].var()\n",
    "var_ultimate=merged[merged['plan']=='ultimate']['message_date'].var()\n",
    "\n",
    "print(f'The mean for the surf plan is: {mean_surf}')\n",
    "print(f'The mean for the ultimate plan is: {mean_ultimate}')\n",
    "print(f'The variance for the surf plan is: {var_surf}')\n",
    "print(f'The variance for the ultimate plan is: {var_ultimate}')"
   ]
  },
  {
   "cell_type": "markdown",
   "metadata": {},
   "source": [
    "Calculated the mean and the variance of the messages used to reason on whether users on the different plans have different behaviours for their messages. The mean amount for ultimate are a bit over with the ultimate plan having 37 on average compared to the surf plan averaging 31.The messages behaviors tend to be greater for the ultimate users compared to the surf plan users."
   ]
  },
  {
   "cell_type": "markdown",
   "metadata": {},
   "source": [
    "### Internet"
   ]
  },
  {
   "cell_type": "code",
   "execution_count": 49,
   "metadata": {},
   "outputs": [
    {
     "data": {
      "image/png": "[encoded data removed]",
      "text/plain": [
       "<Figure size 640x480 with 1 Axes>"
      ]
     },
     "metadata": {},
     "output_type": "display_data"
    },
    {
     "data": {
      "text/plain": [
       "<Figure size 1000x1000 with 0 Axes>"
      ]
     },
     "metadata": {},
     "output_type": "display_data"
    }
   ],
   "source": [
    "# Compare the amount of internet traffic consumed by users per plan\n",
    "internet_used_surf=merged[merged['plan']=='surf']['mb_used']\n",
    "internet_used_ult=merged[merged['plan']=='ultimate']['mb_used']\n",
    "plt.hist(internet_used_surf,bins=20,alpha=.5,label= 'surf')\n",
    "plt.hist(internet_used_ult,bins=20,alpha=.5,label='ultimate')\n",
    "plt.xlabel('Mb Used')\n",
    "plt.ylabel('Number of users')\n",
    "plt.title('MB per plan')\n",
    "plt.legend()\n",
    "plt.figure(figsize=(10,10))\n",
    "plt.show()\n"
   ]
  },
  {
   "cell_type": "markdown",
   "metadata": {},
   "source": [
    "Above is a histogram showing surf and ultimate users internet usages in mb."
   ]
  },
  {
   "cell_type": "code",
   "execution_count": 50,
   "metadata": {},
   "outputs": [
    {
     "name": "stdout",
     "output_type": "stream",
     "text": [
      "The mean for the surf plan is: 16558.283490146216\n",
      "The mean for the ultimate plan is: 17214.699694444444\n",
      "The variance for the surf plan is: 64216395.838027954\n",
      "The variance for the ultimate plan is: 61652293.32385832\n"
     ]
    }
   ],
   "source": [
    "mean_surf= merged[merged['plan']=='surf']['mb_used'].mean()\n",
    "mean_ultimate= merged[merged['plan']=='ultimate']['mb_used'].mean()\n",
    "var_surf=merged[merged['plan']=='surf']['mb_used'].var()\n",
    "var_ultimate=merged[merged['plan']=='ultimate']['mb_used'].var()\n",
    "\n",
    "print(f'The mean for the surf plan is: {mean_surf}')\n",
    "print(f'The mean for the ultimate plan is: {mean_ultimate}')\n",
    "print(f'The variance for the surf plan is: {var_surf}')\n",
    "print(f'The variance for the ultimate plan is: {var_ultimate}')"
   ]
  },
  {
   "cell_type": "markdown",
   "metadata": {},
   "source": [
    "Based on the calculations above, the ultimate plan users use more data on average compared to the surf users."
   ]
  },
  {
   "cell_type": "markdown",
   "metadata": {},
   "source": [
    "## Revenue"
   ]
  },
  {
   "cell_type": "code",
   "execution_count": 51,
   "metadata": {},
   "outputs": [
    {
     "name": "stdout",
     "output_type": "stream",
     "text": [
      "The total revenue for the surf plan is : 95491.18\n",
      "The total revenue for the ultimate plan is : 52066.0\n",
      "The mean for the surf plan is: 60.706408137317226\n",
      "The median for the surf plan is: 40.36\n",
      "The standard deviation for the surf plan is: 55.388041600095214\n",
      "The variance for the surf plan is: 3067.835152293878\n",
      "The mean for the ultimate plan is: 72.31388888888888\n",
      "The median for the ultimate plan is: 70.0\n",
      "The standard deviation for the ultimate plan is: 11.395107965742119\n",
      "The variance for the ultimate plan is: 129.8484855509195\n"
     ]
    }
   ],
   "source": [
    "mean_surf= merged[merged['plan']=='surf']['month_total']\n",
    "mean_ultimate= merged[merged['plan']=='ultimate']['month_total']\n",
    "total_surf_revenue= merged[merged['plan']=='surf']['month_total'].sum()\n",
    "total_ultimate_revenue= merged[merged['plan']=='ultimate']['month_total'].sum()\n",
    "print(f'The total revenue for the surf plan is : {total_surf_revenue}')\n",
    "print(f'The total revenue for the ultimate plan is : {total_ultimate_revenue}')\n",
    "print(f'The mean for the surf plan is: {mean_surf.mean()}')\n",
    "print(f'The median for the surf plan is: {mean_surf.median()}')\n",
    "print(f'The standard deviation for the surf plan is: {mean_surf.std()}')\n",
    "print(f'The variance for the surf plan is: {mean_surf.var()}')\n",
    "print(f'The mean for the ultimate plan is: {mean_ultimate.mean()}')\n",
    "print(f'The median for the ultimate plan is: {mean_ultimate.median()}')\n",
    "print(f'The standard deviation for the ultimate plan is: {mean_ultimate.std()}')\n",
    "print(f'The variance for the ultimate plan is: {mean_ultimate.var()}')"
   ]
  },
  {
   "cell_type": "markdown",
   "metadata": {},
   "source": [
    "Above I calculate the mean, median, standard deviation, and variance for the surf/ultimate plans. On average, the ultiimate plan members bring in more revenue, with the mean at 72 compared to their surf counterparts coming in at around 60. the surf plan is responsible for the majority of teh revenue brought in."
   ]
  },
  {
   "cell_type": "code",
   "execution_count": 52,
   "metadata": {},
   "outputs": [
    {
     "data": {
      "image/png": "[encoded data removed]",
      "text/plain": [
       "<Figure size 640x480 with 1 Axes>"
      ]
     },
     "metadata": {},
     "output_type": "display_data"
    },
    {
     "data": {
      "text/plain": [
       "<Figure size 1000x1000 with 0 Axes>"
      ]
     },
     "metadata": {},
     "output_type": "display_data"
    }
   ],
   "source": [
    "plt.hist(mean_surf,bins=20,alpha=.5,label= 'surf')\n",
    "plt.hist(mean_ultimate,bins=20,alpha=.5,label='ultimate')\n",
    "plt.xlabel('USD')\n",
    "plt.ylabel('Number of users')\n",
    "plt.title('Revenue per plan')\n",
    "plt.legend()\n",
    "plt.figure(figsize=(10,10))\n",
    "plt.show()"
   ]
  },
  {
   "cell_type": "markdown",
   "metadata": {},
   "source": [
    "The histogram above shows the revenue based on the plans. since there are more surf users its seems as though they are bringing in the bulk of the revenue even though their average made per user is less."
   ]
  },
  {
   "cell_type": "markdown",
   "metadata": {},
   "source": [
    "<div class=\"alert alert-success\">\n",
    "<b>Reviewer's comment v1:</b>\n",
    "    \n",
    "I will write overall thoughts about the data analysis section:\n",
    "- Very nice visualization of the data. It's great that you combined both plans in one graph for comparison and also used different graph types to check the available data.\n",
    "- If you have time and are willing to practice, you can display two charts (a histogram and a boxplot) using a two-column subplot.\n",
    "\n",
    "```\n",
    "    # Create one row with 2 columns\n",
    "\t  fig, axes = plt.subplots(1, 2, figsize=(16, 5))\n",
    "\n",
    "\t  # Create a histogram for the surf plan\n",
    "\t  sns.distplot(... ax=axes[0])\n",
    "\t  # Create a histogram for the second plan\n",
    "\t  sns.distplot(... ax=axes[0])\n",
    "\t\n",
    "\t  # Create a boxplot for both plans\n",
    "\t  sns.boxplot(... ax=axes[1])\n",
    "```"
   ]
  },
  {
   "cell_type": "markdown",
   "metadata": {},
   "source": [
    "## Test statistical hypotheses"
   ]
  },
  {
   "cell_type": "markdown",
   "metadata": {},
   "source": [
    "Below I am testing the hypothesis that the average revenue from users of the Ultimate and Surf calling plans differs. The null hypothesis is that the average revenue is the same between plans and the alternative hypotheses means it is not diffrent. Did a statistical test, decideing the alpha value to be .05. Sinse the null hypothesis is rejected, it means the averages are diffrent."
   ]
  },
  {
   "cell_type": "code",
   "execution_count": 53,
   "metadata": {},
   "outputs": [
    {
     "name": "stdout",
     "output_type": "stream",
     "text": [
      "p-value:  2.862674510698644e-08\n",
      "We reject the null hypothesis\n"
     ]
    }
   ],
   "source": [
    "# Test the hypotheses\n",
    "alpha=.05\n",
    "results=st.ttest_ind(mean_surf,mean_ultimate)\n",
    "print('p-value: ', results.pvalue)\n",
    "if results.pvalue < alpha:\n",
    "    print(\"We reject the null hypothesis\")\n",
    "else:\n",
    "    print(\"We can't reject the null hypothesis\")"
   ]
  },
  {
   "cell_type": "markdown",
   "metadata": {},
   "source": [
    "Testing the hypothesis that the average revenue from users in the NY-NJ area is different from that of the users from the other regions.Null hypothesis being NY-NJ area is the same as other regions. Did a statistical test, decideing on an alpha value of .05. Since the null hypothesis is rejected, the usage for the NY-NJ region is diffrent to the other regions."
   ]
  },
  {
   "cell_type": "code",
   "execution_count": 54,
   "metadata": {},
   "outputs": [
    {
     "name": "stdout",
     "output_type": "stream",
     "text": [
      "p-value:  0.04355743162134274\n",
      "We reject the null hypothesis\n"
     ]
    }
   ],
   "source": [
    "# Test the hypotheses\n",
    "NY_NJ=merged[merged['city'].str.contains('NY-NJ')]['month_total']\n",
    "other=merged[~merged['city'].str.contains('NY-NJ')]['month_total']\n",
    "\n",
    "alpha=.05\n",
    "results=st.ttest_ind(NY_NJ,other)\n",
    "print('p-value: ', results.pvalue)\n",
    "if results.pvalue < alpha:\n",
    "    print(\"We reject the null hypothesis\")\n",
    "else:\n",
    "    print(\"We can't reject the null hypothesis\")\n"
   ]
  },
  {
   "cell_type": "markdown",
   "metadata": {},
   "source": [
    "<div class=\"alert alert-success\">\n",
    "<b>Reviewer's comment v1:</b>\n",
    "    \n",
    "- Everything is correct here. Hypotheses have been formulated correctly. \n",
    "- Your conclusions based on the results are also correct.\n",
    "- You can also additionally compare the variances of the samples before testing hypotheses in order to understand with which equal_var parameter to use the ttest_ind test method (by default, True). Here you can manually calculate variances, or use Levene's statistic test (https://docs.scipy.org/doc/scipy/reference/generated/scipy.stats.levene.html) or Barlett's test (https: //docs.scipy .org / doc / scipy / reference / generated / scipy.stats.bartlett.html # scipy.stats.bartlett)\n",
    "    "
   ]
  },
  {
   "cell_type": "markdown",
   "metadata": {},
   "source": [
    "## General conclusion\n",
    "\n",
    "Based on the statistical analysis and graphs, it is easy to determine that the surf plan is responsible for bringing in more revenue. The ultimate plan brings in more revenue on average verses the surf plan but due to teh limited users the total revenue is less than the surf users."
   ]
  },
  {
   "cell_type": "markdown",
   "metadata": {},
   "source": [
    "<div class=\"alert alert-warning\" role=\"alert\">\n",
    "<b>Reviewer's comment v1:</b>\n",
    "    \n",
    "You did great research with clean code, cool graphs, and correct intermediate conclusions. However, general conclusions in this case are a mini-presentation of the entire work in front of a business stakeholder. In a real project, this is probably the only thing that a business stakeholder will read. Therefore, it is necessary to indicate detailed comments in a structured way for all the conclusions that you received on each item of the work. It is also worth considering what will be interesting from the business stakeholder's perspective, such as a detailed description of the user for each plan,  who brings more additional revenue, and who brings more in total. "
   ]
  },
  {
   "cell_type": "markdown",
   "metadata": {},
   "source": [
    " "
   ]
  }
 ],
 "metadata": {
  "ExecuteTimeLog": [
   {
    "duration": 828,
    "start_time": "2021-11-16T09:21:11.304Z"
   },
   {
    "duration": 893,
    "start_time": "2021-11-16T09:21:17.728Z"
   },
   {
    "duration": 1150,
    "start_time": "2021-11-16T09:21:29.568Z"
   },
   {
    "duration": 3,
    "start_time": "2021-11-16T09:24:14.495Z"
   },
   {
    "duration": 120,
    "start_time": "2021-11-16T09:24:46.630Z"
   },
   {
    "duration": 3,
    "start_time": "2021-11-16T09:28:27.882Z"
   },
   {
    "duration": 4,
    "start_time": "2021-11-16T09:29:54.281Z"
   },
   {
    "duration": 3,
    "start_time": "2021-11-16T09:30:45.936Z"
   },
   {
    "duration": 4,
    "start_time": "2021-11-16T09:31:06.300Z"
   },
   {
    "duration": 113,
    "start_time": "2021-11-16T09:31:37.208Z"
   },
   {
    "duration": 143,
    "start_time": "2021-11-16T09:31:48.656Z"
   },
   {
    "duration": 98,
    "start_time": "2021-11-16T09:31:55.678Z"
   },
   {
    "duration": 3,
    "start_time": "2021-11-16T09:32:08.535Z"
   },
   {
    "duration": 111,
    "start_time": "2021-11-16T09:32:10.120Z"
   },
   {
    "duration": 3,
    "start_time": "2021-11-16T09:32:15.732Z"
   },
   {
    "duration": 4,
    "start_time": "2021-11-16T09:32:29.423Z"
   },
   {
    "duration": 3,
    "start_time": "2021-11-16T10:03:03.074Z"
   },
   {
    "duration": 3,
    "start_time": "2021-11-16T10:10:01.288Z"
   },
   {
    "duration": 3,
    "start_time": "2021-11-16T10:10:46.923Z"
   },
   {
    "duration": 121,
    "start_time": "2021-11-16T10:37:46.494Z"
   },
   {
    "duration": 125,
    "start_time": "2021-11-16T10:38:20.632Z"
   },
   {
    "duration": 112,
    "start_time": "2021-11-16T10:46:53.001Z"
   },
   {
    "duration": 110,
    "start_time": "2021-11-16T10:48:25.775Z"
   },
   {
    "duration": 3,
    "start_time": "2021-11-16T10:50:18.720Z"
   },
   {
    "duration": 4,
    "start_time": "2021-11-16T10:50:37.649Z"
   },
   {
    "duration": 2,
    "start_time": "2021-11-16T10:50:51.884Z"
   },
   {
    "duration": 3,
    "start_time": "2021-11-16T10:51:56.237Z"
   },
   {
    "duration": 101,
    "start_time": "2021-11-16T10:53:13.791Z"
   },
   {
    "duration": 3,
    "start_time": "2021-11-16T10:55:59.186Z"
   },
   {
    "duration": 3,
    "start_time": "2021-11-16T10:56:10.751Z"
   },
   {
    "duration": 3,
    "start_time": "2021-11-16T10:56:49.038Z"
   },
   {
    "duration": 3,
    "start_time": "2021-11-16T10:56:49.174Z"
   },
   {
    "duration": 4,
    "start_time": "2021-11-16T10:56:49.414Z"
   },
   {
    "duration": 3,
    "start_time": "2021-11-16T10:56:49.680Z"
   },
   {
    "duration": 3,
    "start_time": "2021-11-16T10:56:50.370Z"
   },
   {
    "duration": 114,
    "start_time": "2021-11-16T10:59:34.518Z"
   },
   {
    "duration": 3,
    "start_time": "2021-11-16T11:01:41.201Z"
   },
   {
    "duration": 116,
    "start_time": "2021-11-16T11:01:48.754Z"
   },
   {
    "duration": 3,
    "start_time": "2021-11-16T11:02:16.685Z"
   },
   {
    "duration": 3,
    "start_time": "2021-11-16T11:02:19.479Z"
   },
   {
    "duration": 3,
    "start_time": "2021-11-16T11:02:47.067Z"
   },
   {
    "duration": 3,
    "start_time": "2021-11-16T11:02:49.353Z"
   },
   {
    "duration": 3,
    "start_time": "2021-11-16T11:03:07.835Z"
   },
   {
    "duration": 3,
    "start_time": "2021-11-16T11:03:07.953Z"
   },
   {
    "duration": 112,
    "start_time": "2021-11-16T11:07:52.072Z"
   },
   {
    "duration": 187,
    "start_time": "2021-11-16T11:09:23.468Z"
   },
   {
    "duration": 4,
    "start_time": "2021-11-16T11:10:01.455Z"
   },
   {
    "duration": 3,
    "start_time": "2021-11-16T11:10:05.069Z"
   },
   {
    "duration": 4,
    "start_time": "2021-11-16T11:10:13.376Z"
   },
   {
    "duration": 3,
    "start_time": "2021-11-16T11:10:14.434Z"
   },
   {
    "duration": 3,
    "start_time": "2021-11-16T11:10:22.853Z"
   },
   {
    "duration": 4,
    "start_time": "2021-11-16T11:27:29.279Z"
   },
   {
    "duration": 4,
    "start_time": "2021-11-16T11:29:08.919Z"
   },
   {
    "duration": 118,
    "start_time": "2021-11-16T11:29:46.703Z"
   },
   {
    "duration": 437,
    "start_time": "2021-11-16T11:36:02.181Z"
   },
   {
    "duration": 157,
    "start_time": "2021-11-16T11:36:14.388Z"
   },
   {
    "duration": 207,
    "start_time": "2021-11-16T11:47:15.898Z"
   },
   {
    "duration": 3,
    "start_time": "2021-11-16T11:53:52.092Z"
   },
   {
    "duration": 3,
    "start_time": "2021-11-16T11:53:52.236Z"
   },
   {
    "duration": 3,
    "start_time": "2021-11-16T11:59:12.005Z"
   },
   {
    "duration": 112,
    "start_time": "2021-11-16T12:00:33.446Z"
   },
   {
    "duration": 3,
    "start_time": "2021-11-16T12:02:14.453Z"
   },
   {
    "duration": 3,
    "start_time": "2021-11-16T12:02:39.512Z"
   },
   {
    "duration": 106,
    "start_time": "2021-11-16T12:03:03.460Z"
   },
   {
    "duration": 3,
    "start_time": "2021-11-17T20:37:21.139Z"
   },
   {
    "duration": 3,
    "start_time": "2021-11-17T20:37:22.229Z"
   },
   {
    "duration": 3,
    "start_time": "2021-11-17T20:38:38.806Z"
   },
   {
    "duration": 3,
    "start_time": "2021-11-17T20:38:41.958Z"
   },
   {
    "duration": 3,
    "start_time": "2021-11-17T20:43:46.551Z"
   },
   {
    "duration": 4,
    "start_time": "2021-11-17T20:58:21.835Z"
   },
   {
    "duration": 3,
    "start_time": "2021-11-17T20:59:21.872Z"
   },
   {
    "duration": 4,
    "start_time": "2021-11-17T20:59:45.352Z"
   },
   {
    "duration": 4,
    "start_time": "2021-11-17T20:59:49.646Z"
   },
   {
    "duration": 159,
    "start_time": "2021-11-17T21:02:26.949Z"
   },
   {
    "duration": 3,
    "start_time": "2021-11-17T21:03:53.461Z"
   },
   {
    "duration": 3,
    "start_time": "2021-11-17T21:03:53.694Z"
   },
   {
    "duration": 3,
    "start_time": "2021-11-17T21:05:28.145Z"
   },
   {
    "duration": 116,
    "start_time": "2021-11-17T21:05:57.787Z"
   },
   {
    "duration": 3,
    "start_time": "2021-11-17T21:06:37.993Z"
   },
   {
    "duration": 3,
    "start_time": "2021-11-17T21:06:38.261Z"
   },
   {
    "duration": 3,
    "start_time": "2021-11-17T21:11:54.358Z"
   },
   {
    "duration": 3,
    "start_time": "2021-11-17T21:12:43.846Z"
   },
   {
    "duration": 4,
    "start_time": "2021-11-17T21:13:08.773Z"
   },
   {
    "duration": 3,
    "start_time": "2021-11-17T21:14:44.441Z"
   },
   {
    "duration": 3,
    "start_time": "2021-11-17T21:15:42.059Z"
   },
   {
    "duration": 4,
    "start_time": "2021-11-17T21:15:51.995Z"
   },
   {
    "duration": 3,
    "start_time": "2021-11-17T21:15:53.923Z"
   },
   {
    "duration": 3,
    "start_time": "2021-11-17T21:15:55.282Z"
   },
   {
    "duration": 3,
    "start_time": "2021-11-17T21:16:28.492Z"
   },
   {
    "duration": 3,
    "start_time": "2021-11-17T21:16:32.603Z"
   },
   {
    "duration": 3,
    "start_time": "2021-11-17T21:17:06.941Z"
   },
   {
    "duration": 98,
    "start_time": "2021-11-17T21:18:05.733Z"
   },
   {
    "duration": 4,
    "start_time": "2021-11-17T21:21:35.255Z"
   },
   {
    "duration": 3,
    "start_time": "2021-11-17T21:21:37.804Z"
   },
   {
    "duration": 4,
    "start_time": "2021-11-17T21:23:06.071Z"
   },
   {
    "duration": 3,
    "start_time": "2021-11-17T21:23:24.799Z"
   },
   {
    "duration": 3,
    "start_time": "2021-11-17T21:23:32.591Z"
   },
   {
    "duration": 98,
    "start_time": "2021-11-17T21:28:31.559Z"
   },
   {
    "duration": 3,
    "start_time": "2021-11-17T21:28:45.448Z"
   },
   {
    "duration": 3,
    "start_time": "2021-11-17T21:29:17.303Z"
   },
   {
    "duration": 3,
    "start_time": "2021-11-17T21:29:29.617Z"
   },
   {
    "duration": 3,
    "start_time": "2021-11-17T21:29:32.681Z"
   },
   {
    "duration": 3,
    "start_time": "2021-11-17T21:36:11.474Z"
   },
   {
    "duration": 3,
    "start_time": "2021-11-17T21:36:14.791Z"
   },
   {
    "duration": 3,
    "start_time": "2021-11-17T21:36:53.943Z"
   },
   {
    "duration": 3,
    "start_time": "2021-11-17T21:36:56.165Z"
   },
   {
    "duration": 4,
    "start_time": "2021-11-17T21:37:16.590Z"
   },
   {
    "duration": 3,
    "start_time": "2021-11-17T21:37:22.702Z"
   },
   {
    "duration": 4,
    "start_time": "2021-11-17T21:38:03.479Z"
   },
   {
    "duration": 3,
    "start_time": "2021-11-17T21:38:08.601Z"
   },
   {
    "duration": 3,
    "start_time": "2021-11-17T21:38:12.928Z"
   },
   {
    "duration": 3,
    "start_time": "2021-11-17T21:38:48.896Z"
   },
   {
    "duration": 2,
    "start_time": "2021-11-17T21:38:49.171Z"
   },
   {
    "duration": 4,
    "start_time": "2021-11-17T21:39:57.889Z"
   },
   {
    "duration": 3,
    "start_time": "2021-11-17T21:39:58.057Z"
   },
   {
    "duration": 3,
    "start_time": "2021-11-17T21:41:20.108Z"
   },
   {
    "duration": 3,
    "start_time": "2021-11-17T21:41:20.629Z"
   },
   {
    "duration": 3,
    "start_time": "2021-11-17T21:42:49.136Z"
   },
   {
    "duration": 3,
    "start_time": "2021-11-17T21:43:15.137Z"
   },
   {
    "duration": 4,
    "start_time": "2021-11-17T21:43:16.766Z"
   },
   {
    "duration": 4,
    "start_time": "2021-11-17T21:43:31.711Z"
   },
   {
    "duration": 3,
    "start_time": "2021-11-17T21:43:36.312Z"
   },
   {
    "duration": 4,
    "start_time": "2021-11-17T21:45:08.825Z"
   },
   {
    "duration": 4,
    "start_time": "2021-11-17T21:45:10.119Z"
   },
   {
    "duration": 4,
    "start_time": "2021-11-17T21:45:13.748Z"
   },
   {
    "duration": 3,
    "start_time": "2021-11-17T21:45:22.219Z"
   },
   {
    "duration": 3,
    "start_time": "2021-11-17T21:45:33.412Z"
   },
   {
    "duration": 2,
    "start_time": "2021-11-17T21:46:01.885Z"
   },
   {
    "duration": 3,
    "start_time": "2021-11-17T21:46:03.628Z"
   },
   {
    "duration": 107,
    "start_time": "2021-11-17T21:47:32.512Z"
   },
   {
    "duration": 103,
    "start_time": "2021-11-17T21:50:36.243Z"
   },
   {
    "duration": 3,
    "start_time": "2021-11-18T06:28:31.440Z"
   },
   {
    "duration": 3,
    "start_time": "2021-11-18T06:29:00.168Z"
   },
   {
    "duration": 3,
    "start_time": "2021-11-18T06:31:27.008Z"
   },
   {
    "duration": 2,
    "start_time": "2021-11-18T06:35:34.288Z"
   },
   {
    "duration": 2,
    "start_time": "2021-11-18T06:38:04.527Z"
   },
   {
    "duration": 497,
    "start_time": "2024-09-11T07:03:24.968Z"
   },
   {
    "duration": 310,
    "start_time": "2024-09-11T07:03:36.211Z"
   },
   {
    "duration": 113,
    "start_time": "2024-09-11T07:06:33.069Z"
   },
   {
    "duration": 79,
    "start_time": "2024-09-11T07:06:41.396Z"
   },
   {
    "duration": 73,
    "start_time": "2024-09-11T07:07:01.150Z"
   },
   {
    "duration": 105,
    "start_time": "2024-09-11T07:07:21.772Z"
   },
   {
    "duration": 78,
    "start_time": "2024-09-11T07:08:09.305Z"
   },
   {
    "duration": 74,
    "start_time": "2024-09-11T07:08:23.656Z"
   },
   {
    "duration": 75,
    "start_time": "2024-09-11T07:08:36.143Z"
   },
   {
    "duration": 78,
    "start_time": "2024-09-11T07:08:40.793Z"
   },
   {
    "duration": 75,
    "start_time": "2024-09-11T07:08:46.276Z"
   },
   {
    "duration": 96,
    "start_time": "2024-09-11T07:10:18.885Z"
   },
   {
    "duration": 86,
    "start_time": "2024-09-11T07:11:12.311Z"
   },
   {
    "duration": 68,
    "start_time": "2024-09-11T07:11:24.206Z"
   },
   {
    "duration": 608,
    "start_time": "2024-09-11T07:15:07.866Z"
   },
   {
    "duration": 90,
    "start_time": "2024-09-11T07:15:08.907Z"
   },
   {
    "duration": 69,
    "start_time": "2024-09-11T07:15:09.692Z"
   },
   {
    "duration": 83,
    "start_time": "2024-09-11T07:15:12.866Z"
   },
   {
    "duration": 457,
    "start_time": "2024-09-11T07:15:15.319Z"
   },
   {
    "duration": 16,
    "start_time": "2024-09-11T07:15:51.938Z"
   },
   {
    "duration": 24,
    "start_time": "2024-09-11T07:16:11.272Z"
   },
   {
    "duration": 553,
    "start_time": "2024-09-11T07:22:15.124Z"
   },
   {
    "duration": 91,
    "start_time": "2024-09-11T07:22:19.704Z"
   },
   {
    "duration": 70,
    "start_time": "2024-09-11T07:22:22.478Z"
   },
   {
    "duration": 48,
    "start_time": "2024-09-11T07:22:24.626Z"
   },
   {
    "duration": 16,
    "start_time": "2024-09-11T07:22:26.917Z"
   },
   {
    "duration": 17,
    "start_time": "2024-09-11T07:22:29.611Z"
   },
   {
    "duration": 71,
    "start_time": "2024-09-11T07:27:39.961Z"
   },
   {
    "duration": 15,
    "start_time": "2024-09-11T07:28:16.493Z"
   },
   {
    "duration": 9,
    "start_time": "2024-09-11T07:28:19.792Z"
   },
   {
    "duration": 10,
    "start_time": "2024-09-11T07:33:52.071Z"
   },
   {
    "duration": 444,
    "start_time": "2024-09-11T07:33:56.268Z"
   },
   {
    "duration": 9,
    "start_time": "2024-09-11T07:34:01.375Z"
   },
   {
    "duration": 25,
    "start_time": "2024-09-11T07:34:04.486Z"
   },
   {
    "duration": 8,
    "start_time": "2024-09-11T07:34:06.786Z"
   },
   {
    "duration": 2,
    "start_time": "2024-09-11T07:36:46.988Z"
   },
   {
    "duration": 601,
    "start_time": "2024-09-11T07:36:52.674Z"
   },
   {
    "duration": 67,
    "start_time": "2024-09-11T07:36:56.090Z"
   },
   {
    "duration": 54,
    "start_time": "2024-09-11T07:38:04.235Z"
   },
   {
    "duration": 250,
    "start_time": "2024-09-11T07:38:26.798Z"
   },
   {
    "duration": 585,
    "start_time": "2024-09-11T07:38:47.486Z"
   },
   {
    "duration": 66,
    "start_time": "2024-09-11T07:38:50.332Z"
   },
   {
    "duration": 52,
    "start_time": "2024-09-11T07:38:51.496Z"
   },
   {
    "duration": 34,
    "start_time": "2024-09-11T07:38:53.910Z"
   },
   {
    "duration": 6,
    "start_time": "2024-09-11T07:38:59.910Z"
   },
   {
    "duration": 7,
    "start_time": "2024-09-11T07:39:37.407Z"
   },
   {
    "duration": 12,
    "start_time": "2024-09-11T07:39:55.732Z"
   },
   {
    "duration": 12,
    "start_time": "2024-09-11T07:39:56.994Z"
   },
   {
    "duration": 157,
    "start_time": "2024-09-11T07:41:59.366Z"
   },
   {
    "duration": 543,
    "start_time": "2024-09-11T07:42:11.835Z"
   },
   {
    "duration": 71,
    "start_time": "2024-09-11T07:42:12.380Z"
   },
   {
    "duration": 53,
    "start_time": "2024-09-11T07:42:12.453Z"
   },
   {
    "duration": 42,
    "start_time": "2024-09-11T07:42:12.508Z"
   },
   {
    "duration": 5,
    "start_time": "2024-09-11T07:42:12.552Z"
   },
   {
    "duration": 6,
    "start_time": "2024-09-11T07:42:12.559Z"
   },
   {
    "duration": 10,
    "start_time": "2024-09-11T07:42:12.566Z"
   },
   {
    "duration": 11,
    "start_time": "2024-09-11T07:42:12.578Z"
   },
   {
    "duration": 9,
    "start_time": "2024-09-11T07:42:12.590Z"
   },
   {
    "duration": 7,
    "start_time": "2024-09-11T07:42:12.603Z"
   },
   {
    "duration": 2,
    "start_time": "2024-09-11T07:42:12.643Z"
   },
   {
    "duration": 3,
    "start_time": "2024-09-11T07:42:12.646Z"
   },
   {
    "duration": 12,
    "start_time": "2024-09-11T07:42:12.650Z"
   },
   {
    "duration": 7,
    "start_time": "2024-09-11T07:42:12.663Z"
   },
   {
    "duration": 12,
    "start_time": "2024-09-11T07:42:12.672Z"
   },
   {
    "duration": 8,
    "start_time": "2024-09-11T07:42:12.686Z"
   },
   {
    "duration": 2,
    "start_time": "2024-09-11T07:42:12.695Z"
   },
   {
    "duration": 3,
    "start_time": "2024-09-11T07:42:12.698Z"
   },
   {
    "duration": 40,
    "start_time": "2024-09-11T07:42:12.703Z"
   },
   {
    "duration": 2,
    "start_time": "2024-09-11T07:42:12.745Z"
   },
   {
    "duration": 2,
    "start_time": "2024-09-11T07:42:12.749Z"
   },
   {
    "duration": 3,
    "start_time": "2024-09-11T07:42:12.752Z"
   },
   {
    "duration": 3,
    "start_time": "2024-09-11T07:42:12.756Z"
   },
   {
    "duration": 2,
    "start_time": "2024-09-11T07:42:12.760Z"
   },
   {
    "duration": 2,
    "start_time": "2024-09-11T07:42:12.764Z"
   },
   {
    "duration": 2,
    "start_time": "2024-09-11T07:42:12.768Z"
   },
   {
    "duration": 2,
    "start_time": "2024-09-11T07:42:12.772Z"
   },
   {
    "duration": 2,
    "start_time": "2024-09-11T07:42:12.778Z"
   },
   {
    "duration": 2,
    "start_time": "2024-09-11T07:42:12.782Z"
   },
   {
    "duration": 2,
    "start_time": "2024-09-11T07:42:12.786Z"
   },
   {
    "duration": 53,
    "start_time": "2024-09-11T07:42:12.790Z"
   },
   {
    "duration": 3,
    "start_time": "2024-09-11T07:42:12.844Z"
   },
   {
    "duration": 113,
    "start_time": "2024-09-11T08:05:09.709Z"
   },
   {
    "duration": 6,
    "start_time": "2024-09-11T08:05:42.680Z"
   },
   {
    "duration": 8,
    "start_time": "2024-09-11T08:06:41.961Z"
   },
   {
    "duration": 140,
    "start_time": "2024-09-11T08:06:56.594Z"
   },
   {
    "duration": 9,
    "start_time": "2024-09-11T08:07:01.354Z"
   },
   {
    "duration": 3,
    "start_time": "2024-09-11T08:07:53.278Z"
   },
   {
    "duration": 5,
    "start_time": "2024-09-11T08:08:54.907Z"
   },
   {
    "duration": 7,
    "start_time": "2024-09-11T08:09:10.212Z"
   },
   {
    "duration": 4,
    "start_time": "2024-09-11T08:09:42.498Z"
   },
   {
    "duration": 4,
    "start_time": "2024-09-11T08:09:51.836Z"
   },
   {
    "duration": 9,
    "start_time": "2024-09-11T08:10:20.395Z"
   },
   {
    "duration": 6,
    "start_time": "2024-09-11T08:11:11.691Z"
   },
   {
    "duration": 12,
    "start_time": "2024-09-11T08:13:12.867Z"
   },
   {
    "duration": 7,
    "start_time": "2024-09-11T08:15:34.801Z"
   },
   {
    "duration": 6,
    "start_time": "2024-09-11T08:15:39.913Z"
   },
   {
    "duration": 6,
    "start_time": "2024-09-11T08:15:43.658Z"
   },
   {
    "duration": 5,
    "start_time": "2024-09-11T08:16:05.500Z"
   },
   {
    "duration": 17,
    "start_time": "2024-09-11T08:25:48.643Z"
   },
   {
    "duration": 10,
    "start_time": "2024-09-11T08:26:24.404Z"
   },
   {
    "duration": 9,
    "start_time": "2024-09-11T08:26:30.018Z"
   },
   {
    "duration": 9,
    "start_time": "2024-09-11T08:26:36.653Z"
   },
   {
    "duration": 11,
    "start_time": "2024-09-11T08:26:40.608Z"
   },
   {
    "duration": 5,
    "start_time": "2024-09-11T08:29:18.472Z"
   },
   {
    "duration": 5,
    "start_time": "2024-09-11T08:29:24.389Z"
   },
   {
    "duration": 6,
    "start_time": "2024-09-11T08:29:40.049Z"
   },
   {
    "duration": 35,
    "start_time": "2024-09-11T08:30:50.084Z"
   },
   {
    "duration": 12,
    "start_time": "2024-09-11T08:31:06.368Z"
   },
   {
    "duration": 18,
    "start_time": "2024-09-11T08:32:22.025Z"
   },
   {
    "duration": 17,
    "start_time": "2024-09-11T08:34:34.156Z"
   },
   {
    "duration": 9,
    "start_time": "2024-09-11T08:34:51.977Z"
   },
   {
    "duration": 12,
    "start_time": "2024-09-11T08:46:59.900Z"
   },
   {
    "duration": 37,
    "start_time": "2024-09-11T08:49:14.375Z"
   },
   {
    "duration": 11,
    "start_time": "2024-09-11T08:49:28.551Z"
   },
   {
    "duration": 14,
    "start_time": "2024-09-11T08:50:21.089Z"
   },
   {
    "duration": 615,
    "start_time": "2024-09-11T08:55:59.165Z"
   },
   {
    "duration": 69,
    "start_time": "2024-09-11T08:55:59.782Z"
   },
   {
    "duration": 53,
    "start_time": "2024-09-11T08:55:59.853Z"
   },
   {
    "duration": 43,
    "start_time": "2024-09-11T08:55:59.908Z"
   },
   {
    "duration": 6,
    "start_time": "2024-09-11T08:55:59.952Z"
   },
   {
    "duration": 5,
    "start_time": "2024-09-11T08:55:59.960Z"
   },
   {
    "duration": 9,
    "start_time": "2024-09-11T08:55:59.967Z"
   },
   {
    "duration": 10,
    "start_time": "2024-09-11T08:55:59.978Z"
   },
   {
    "duration": 6,
    "start_time": "2024-09-11T08:55:59.989Z"
   },
   {
    "duration": 5,
    "start_time": "2024-09-11T08:55:59.999Z"
   },
   {
    "duration": 41,
    "start_time": "2024-09-11T08:56:00.006Z"
   },
   {
    "duration": 8,
    "start_time": "2024-09-11T08:56:00.049Z"
   },
   {
    "duration": 5,
    "start_time": "2024-09-11T08:56:00.060Z"
   },
   {
    "duration": 5,
    "start_time": "2024-09-11T08:56:00.066Z"
   },
   {
    "duration": 5,
    "start_time": "2024-09-11T08:56:00.073Z"
   },
   {
    "duration": 5,
    "start_time": "2024-09-11T08:56:00.080Z"
   },
   {
    "duration": 15,
    "start_time": "2024-09-11T08:56:00.087Z"
   },
   {
    "duration": 48,
    "start_time": "2024-09-11T08:56:00.103Z"
   },
   {
    "duration": 34,
    "start_time": "2024-09-11T08:56:00.152Z"
   },
   {
    "duration": 12,
    "start_time": "2024-09-11T08:56:00.188Z"
   },
   {
    "duration": 41,
    "start_time": "2024-09-11T08:56:00.202Z"
   },
   {
    "duration": 11,
    "start_time": "2024-09-11T08:56:00.245Z"
   },
   {
    "duration": 11,
    "start_time": "2024-09-11T08:56:00.258Z"
   },
   {
    "duration": 16,
    "start_time": "2024-09-11T08:56:00.271Z"
   },
   {
    "duration": 9,
    "start_time": "2024-09-11T08:56:00.288Z"
   },
   {
    "duration": 11,
    "start_time": "2024-09-11T08:56:00.298Z"
   },
   {
    "duration": 38,
    "start_time": "2024-09-11T08:56:00.311Z"
   },
   {
    "duration": 8,
    "start_time": "2024-09-11T08:56:00.354Z"
   },
   {
    "duration": 40,
    "start_time": "2024-09-11T08:56:00.363Z"
   },
   {
    "duration": 10,
    "start_time": "2024-09-11T08:56:00.405Z"
   },
   {
    "duration": 14,
    "start_time": "2024-09-11T08:56:00.443Z"
   },
   {
    "duration": 3,
    "start_time": "2024-09-11T08:56:00.458Z"
   },
   {
    "duration": 3,
    "start_time": "2024-09-11T08:56:00.462Z"
   },
   {
    "duration": 2,
    "start_time": "2024-09-11T08:56:00.466Z"
   },
   {
    "duration": 2,
    "start_time": "2024-09-11T08:56:00.470Z"
   },
   {
    "duration": 2,
    "start_time": "2024-09-11T08:56:00.474Z"
   },
   {
    "duration": 4,
    "start_time": "2024-09-11T08:56:00.477Z"
   },
   {
    "duration": 3,
    "start_time": "2024-09-11T08:56:00.485Z"
   },
   {
    "duration": 2,
    "start_time": "2024-09-11T08:56:00.490Z"
   },
   {
    "duration": 5,
    "start_time": "2024-09-11T08:56:00.494Z"
   },
   {
    "duration": 2,
    "start_time": "2024-09-11T08:56:00.501Z"
   },
   {
    "duration": 2,
    "start_time": "2024-09-11T08:56:00.545Z"
   },
   {
    "duration": 3,
    "start_time": "2024-09-11T08:56:00.549Z"
   },
   {
    "duration": 3,
    "start_time": "2024-09-11T08:56:00.553Z"
   },
   {
    "duration": 2,
    "start_time": "2024-09-11T08:56:00.558Z"
   },
   {
    "duration": 2,
    "start_time": "2024-09-11T08:56:00.561Z"
   },
   {
    "duration": 2,
    "start_time": "2024-09-11T08:56:00.565Z"
   },
   {
    "duration": 7,
    "start_time": "2024-09-11T08:59:55.243Z"
   },
   {
    "duration": 10,
    "start_time": "2024-09-11T09:02:12.679Z"
   },
   {
    "duration": 3,
    "start_time": "2024-09-11T09:03:06.376Z"
   },
   {
    "duration": 15,
    "start_time": "2024-09-11T09:03:09.512Z"
   },
   {
    "duration": 5,
    "start_time": "2024-09-11T09:04:37.489Z"
   },
   {
    "duration": 7,
    "start_time": "2024-09-11T09:04:49.534Z"
   },
   {
    "duration": 20,
    "start_time": "2024-09-11T09:05:12.255Z"
   },
   {
    "duration": 20,
    "start_time": "2024-09-11T09:05:48.485Z"
   },
   {
    "duration": 20,
    "start_time": "2024-09-11T09:05:55.514Z"
   },
   {
    "duration": 245,
    "start_time": "2024-09-11T09:07:39.464Z"
   },
   {
    "duration": 26,
    "start_time": "2024-09-11T09:07:57.547Z"
   },
   {
    "duration": 2,
    "start_time": "2024-09-11T09:08:34.868Z"
   },
   {
    "duration": 3,
    "start_time": "2024-09-11T09:08:42.264Z"
   },
   {
    "duration": 23,
    "start_time": "2024-09-11T09:09:03.682Z"
   },
   {
    "duration": 20,
    "start_time": "2024-09-11T09:10:06.622Z"
   },
   {
    "duration": 9,
    "start_time": "2024-09-11T09:10:10.592Z"
   },
   {
    "duration": 5,
    "start_time": "2024-09-11T09:13:56.229Z"
   },
   {
    "duration": 20,
    "start_time": "2024-09-11T09:14:04.616Z"
   },
   {
    "duration": 3,
    "start_time": "2024-09-11T09:14:25.432Z"
   },
   {
    "duration": 4,
    "start_time": "2024-09-11T09:14:28.983Z"
   },
   {
    "duration": 9,
    "start_time": "2024-09-11T09:14:36.452Z"
   },
   {
    "duration": 97,
    "start_time": "2024-09-11T09:17:22.949Z"
   },
   {
    "duration": 96,
    "start_time": "2024-09-11T09:17:31.016Z"
   },
   {
    "duration": 13,
    "start_time": "2024-09-11T09:17:42.369Z"
   },
   {
    "duration": 6,
    "start_time": "2024-09-11T09:17:53.236Z"
   },
   {
    "duration": 4,
    "start_time": "2024-09-11T09:20:07.682Z"
   },
   {
    "duration": 7,
    "start_time": "2024-09-11T09:20:15.272Z"
   },
   {
    "duration": 3,
    "start_time": "2024-09-11T09:28:08.722Z"
   },
   {
    "duration": 13,
    "start_time": "2024-09-11T09:28:39.287Z"
   },
   {
    "duration": 13,
    "start_time": "2024-09-11T09:30:26.468Z"
   },
   {
    "duration": 12,
    "start_time": "2024-09-11T09:32:42.315Z"
   },
   {
    "duration": 13,
    "start_time": "2024-09-11T09:33:00.412Z"
   },
   {
    "duration": 13,
    "start_time": "2024-09-11T09:38:17.265Z"
   },
   {
    "duration": 157,
    "start_time": "2024-09-12T00:39:02.602Z"
   },
   {
    "duration": 583,
    "start_time": "2024-09-12T00:39:16.281Z"
   },
   {
    "duration": 97,
    "start_time": "2024-09-12T00:39:16.866Z"
   },
   {
    "duration": 86,
    "start_time": "2024-09-12T00:39:16.965Z"
   },
   {
    "duration": 51,
    "start_time": "2024-09-12T00:39:17.053Z"
   },
   {
    "duration": 6,
    "start_time": "2024-09-12T00:39:17.107Z"
   },
   {
    "duration": 7,
    "start_time": "2024-09-12T00:39:17.115Z"
   },
   {
    "duration": 10,
    "start_time": "2024-09-12T00:39:17.123Z"
   },
   {
    "duration": 11,
    "start_time": "2024-09-12T00:39:17.135Z"
   },
   {
    "duration": 5,
    "start_time": "2024-09-12T00:39:17.147Z"
   },
   {
    "duration": 5,
    "start_time": "2024-09-12T00:39:17.153Z"
   },
   {
    "duration": 8,
    "start_time": "2024-09-12T00:39:17.160Z"
   },
   {
    "duration": 9,
    "start_time": "2024-09-12T00:39:17.170Z"
   },
   {
    "duration": 5,
    "start_time": "2024-09-12T00:39:17.180Z"
   },
   {
    "duration": 4,
    "start_time": "2024-09-12T00:39:17.188Z"
   },
   {
    "duration": 40,
    "start_time": "2024-09-12T00:39:17.194Z"
   },
   {
    "duration": 6,
    "start_time": "2024-09-12T00:39:17.235Z"
   },
   {
    "duration": 15,
    "start_time": "2024-09-12T00:39:17.242Z"
   },
   {
    "duration": 10,
    "start_time": "2024-09-12T00:39:17.259Z"
   },
   {
    "duration": 62,
    "start_time": "2024-09-12T00:39:17.270Z"
   },
   {
    "duration": 13,
    "start_time": "2024-09-12T00:39:17.335Z"
   },
   {
    "duration": 16,
    "start_time": "2024-09-12T00:39:17.350Z"
   },
   {
    "duration": 4,
    "start_time": "2024-09-12T00:39:17.368Z"
   },
   {
    "duration": 6,
    "start_time": "2024-09-12T00:39:20.216Z"
   },
   {
    "duration": 5,
    "start_time": "2024-09-12T00:40:07.117Z"
   },
   {
    "duration": 10,
    "start_time": "2024-09-12T00:40:12.445Z"
   },
   {
    "duration": 12,
    "start_time": "2024-09-12T00:40:44.849Z"
   },
   {
    "duration": 501,
    "start_time": "2024-09-12T00:45:45.462Z"
   },
   {
    "duration": 161,
    "start_time": "2024-09-12T00:48:52.358Z"
   },
   {
    "duration": 645,
    "start_time": "2024-09-12T00:49:07.529Z"
   },
   {
    "duration": 76,
    "start_time": "2024-09-12T00:49:08.176Z"
   },
   {
    "duration": 50,
    "start_time": "2024-09-12T00:49:08.254Z"
   },
   {
    "duration": 42,
    "start_time": "2024-09-12T00:49:08.306Z"
   },
   {
    "duration": 6,
    "start_time": "2024-09-12T00:49:08.349Z"
   },
   {
    "duration": 7,
    "start_time": "2024-09-12T00:49:08.357Z"
   },
   {
    "duration": 9,
    "start_time": "2024-09-12T00:49:08.366Z"
   },
   {
    "duration": 11,
    "start_time": "2024-09-12T00:49:08.378Z"
   },
   {
    "duration": 5,
    "start_time": "2024-09-12T00:49:08.390Z"
   },
   {
    "duration": 36,
    "start_time": "2024-09-12T00:49:08.398Z"
   },
   {
    "duration": 10,
    "start_time": "2024-09-12T00:49:08.435Z"
   },
   {
    "duration": 9,
    "start_time": "2024-09-12T00:49:08.446Z"
   },
   {
    "duration": 5,
    "start_time": "2024-09-12T00:49:08.456Z"
   },
   {
    "duration": 5,
    "start_time": "2024-09-12T00:49:08.462Z"
   },
   {
    "duration": 4,
    "start_time": "2024-09-12T00:49:11.420Z"
   },
   {
    "duration": 4,
    "start_time": "2024-09-12T00:49:40.878Z"
   },
   {
    "duration": 11,
    "start_time": "2024-09-12T00:50:09.354Z"
   },
   {
    "duration": 235,
    "start_time": "2024-09-12T00:50:19.526Z"
   },
   {
    "duration": 9,
    "start_time": "2024-09-12T00:50:25.929Z"
   },
   {
    "duration": 615,
    "start_time": "2024-09-12T00:52:27.259Z"
   },
   {
    "duration": 74,
    "start_time": "2024-09-12T00:52:27.877Z"
   },
   {
    "duration": 52,
    "start_time": "2024-09-12T00:52:27.952Z"
   },
   {
    "duration": 49,
    "start_time": "2024-09-12T00:52:28.006Z"
   },
   {
    "duration": 6,
    "start_time": "2024-09-12T00:52:28.057Z"
   },
   {
    "duration": 5,
    "start_time": "2024-09-12T00:52:28.065Z"
   },
   {
    "duration": 12,
    "start_time": "2024-09-12T00:52:28.072Z"
   },
   {
    "duration": 11,
    "start_time": "2024-09-12T00:52:28.086Z"
   },
   {
    "duration": 4,
    "start_time": "2024-09-12T00:52:28.099Z"
   },
   {
    "duration": 6,
    "start_time": "2024-09-12T00:52:28.133Z"
   },
   {
    "duration": 10,
    "start_time": "2024-09-12T00:52:28.141Z"
   },
   {
    "duration": 8,
    "start_time": "2024-09-12T00:52:28.153Z"
   },
   {
    "duration": 5,
    "start_time": "2024-09-12T00:52:28.163Z"
   },
   {
    "duration": 5,
    "start_time": "2024-09-12T00:52:28.169Z"
   },
   {
    "duration": 4,
    "start_time": "2024-09-12T00:52:28.176Z"
   },
   {
    "duration": 4,
    "start_time": "2024-09-12T00:52:28.182Z"
   },
   {
    "duration": 49,
    "start_time": "2024-09-12T00:52:28.189Z"
   },
   {
    "duration": 16,
    "start_time": "2024-09-12T00:52:28.240Z"
   },
   {
    "duration": 9,
    "start_time": "2024-09-12T00:52:28.257Z"
   },
   {
    "duration": 32,
    "start_time": "2024-09-12T00:52:28.269Z"
   },
   {
    "duration": 38,
    "start_time": "2024-09-12T00:52:28.303Z"
   },
   {
    "duration": 17,
    "start_time": "2024-09-12T00:52:28.342Z"
   },
   {
    "duration": 12,
    "start_time": "2024-09-12T00:52:28.361Z"
   },
   {
    "duration": 13,
    "start_time": "2024-09-12T00:52:28.375Z"
   },
   {
    "duration": 7,
    "start_time": "2024-09-12T00:52:28.390Z"
   },
   {
    "duration": 44,
    "start_time": "2024-09-12T00:52:28.398Z"
   },
   {
    "duration": 9,
    "start_time": "2024-09-12T00:52:28.444Z"
   },
   {
    "duration": 10,
    "start_time": "2024-09-12T00:52:28.457Z"
   },
   {
    "duration": 15,
    "start_time": "2024-09-12T00:52:28.469Z"
   },
   {
    "duration": 8,
    "start_time": "2024-09-12T00:52:28.485Z"
   },
   {
    "duration": 36,
    "start_time": "2024-09-12T00:52:28.531Z"
   },
   {
    "duration": 12,
    "start_time": "2024-09-12T00:52:28.569Z"
   },
   {
    "duration": 14,
    "start_time": "2024-09-12T00:52:31.028Z"
   },
   {
    "duration": 17,
    "start_time": "2024-09-12T00:52:42.276Z"
   },
   {
    "duration": 57,
    "start_time": "2024-09-12T00:52:48.144Z"
   },
   {
    "duration": 19,
    "start_time": "2024-09-12T00:52:59.468Z"
   },
   {
    "duration": 19,
    "start_time": "2024-09-12T00:54:21.775Z"
   },
   {
    "duration": 24,
    "start_time": "2024-09-12T00:59:22.958Z"
   },
   {
    "duration": 575,
    "start_time": "2024-09-12T01:03:37.405Z"
   },
   {
    "duration": 75,
    "start_time": "2024-09-12T01:03:37.982Z"
   },
   {
    "duration": 53,
    "start_time": "2024-09-12T01:03:38.059Z"
   },
   {
    "duration": 41,
    "start_time": "2024-09-12T01:03:38.114Z"
   },
   {
    "duration": 6,
    "start_time": "2024-09-12T01:03:38.158Z"
   },
   {
    "duration": 6,
    "start_time": "2024-09-12T01:03:38.165Z"
   },
   {
    "duration": 11,
    "start_time": "2024-09-12T01:03:38.172Z"
   },
   {
    "duration": 11,
    "start_time": "2024-09-12T01:03:38.184Z"
   },
   {
    "duration": 4,
    "start_time": "2024-09-12T01:03:38.197Z"
   },
   {
    "duration": 32,
    "start_time": "2024-09-12T01:03:38.203Z"
   },
   {
    "duration": 10,
    "start_time": "2024-09-12T01:03:38.237Z"
   },
   {
    "duration": 9,
    "start_time": "2024-09-12T01:03:38.248Z"
   },
   {
    "duration": 5,
    "start_time": "2024-09-12T01:03:38.259Z"
   },
   {
    "duration": 6,
    "start_time": "2024-09-12T01:03:38.269Z"
   },
   {
    "duration": 9,
    "start_time": "2024-09-12T01:03:38.276Z"
   },
   {
    "duration": 5,
    "start_time": "2024-09-12T01:03:38.287Z"
   },
   {
    "duration": 43,
    "start_time": "2024-09-12T01:03:38.294Z"
   },
   {
    "duration": 16,
    "start_time": "2024-09-12T01:03:38.340Z"
   },
   {
    "duration": 11,
    "start_time": "2024-09-12T01:03:38.358Z"
   },
   {
    "duration": 35,
    "start_time": "2024-09-12T01:03:38.370Z"
   },
   {
    "duration": 13,
    "start_time": "2024-09-12T01:03:38.430Z"
   },
   {
    "duration": 17,
    "start_time": "2024-09-12T01:03:38.445Z"
   },
   {
    "duration": 11,
    "start_time": "2024-09-12T01:03:38.464Z"
   },
   {
    "duration": 12,
    "start_time": "2024-09-12T01:03:38.477Z"
   },
   {
    "duration": 41,
    "start_time": "2024-09-12T01:03:38.490Z"
   },
   {
    "duration": 15,
    "start_time": "2024-09-12T01:03:38.533Z"
   },
   {
    "duration": 9,
    "start_time": "2024-09-12T01:03:38.550Z"
   },
   {
    "duration": 10,
    "start_time": "2024-09-12T01:03:38.561Z"
   },
   {
    "duration": 14,
    "start_time": "2024-09-12T01:03:38.572Z"
   },
   {
    "duration": 9,
    "start_time": "2024-09-12T01:03:38.588Z"
   },
   {
    "duration": 65,
    "start_time": "2024-09-12T01:03:38.598Z"
   },
   {
    "duration": 13,
    "start_time": "2024-09-12T01:03:38.664Z"
   },
   {
    "duration": 21,
    "start_time": "2024-09-12T01:03:38.679Z"
   },
   {
    "duration": 7,
    "start_time": "2024-09-12T01:03:38.702Z"
   },
   {
    "duration": 25,
    "start_time": "2024-09-12T01:03:38.731Z"
   },
   {
    "duration": 541,
    "start_time": "2024-09-12T01:03:38.757Z"
   },
   {
    "duration": 18,
    "start_time": "2024-09-12T01:05:42.528Z"
   },
   {
    "duration": 19,
    "start_time": "2024-09-12T01:06:15.266Z"
   },
   {
    "duration": 15,
    "start_time": "2024-09-12T01:07:58.279Z"
   },
   {
    "duration": 106,
    "start_time": "2024-09-12T01:08:10.682Z"
   },
   {
    "duration": 625,
    "start_time": "2024-09-12T01:09:17.752Z"
   },
   {
    "duration": 79,
    "start_time": "2024-09-12T01:09:18.380Z"
   },
   {
    "duration": 55,
    "start_time": "2024-09-12T01:09:18.460Z"
   },
   {
    "duration": 39,
    "start_time": "2024-09-12T01:09:18.517Z"
   },
   {
    "duration": 5,
    "start_time": "2024-09-12T01:09:18.559Z"
   },
   {
    "duration": 27,
    "start_time": "2024-09-12T01:09:18.565Z"
   },
   {
    "duration": 18,
    "start_time": "2024-09-12T01:09:18.593Z"
   },
   {
    "duration": 11,
    "start_time": "2024-09-12T01:09:18.613Z"
   },
   {
    "duration": 5,
    "start_time": "2024-09-12T01:09:18.626Z"
   },
   {
    "duration": 5,
    "start_time": "2024-09-12T01:09:18.633Z"
   },
   {
    "duration": 8,
    "start_time": "2024-09-12T01:09:18.640Z"
   },
   {
    "duration": 8,
    "start_time": "2024-09-12T01:09:18.650Z"
   },
   {
    "duration": 6,
    "start_time": "2024-09-12T01:09:18.660Z"
   },
   {
    "duration": 5,
    "start_time": "2024-09-12T01:09:18.671Z"
   },
   {
    "duration": 3,
    "start_time": "2024-09-12T01:09:18.678Z"
   },
   {
    "duration": 4,
    "start_time": "2024-09-12T01:09:18.684Z"
   },
   {
    "duration": 51,
    "start_time": "2024-09-12T01:09:18.689Z"
   },
   {
    "duration": 16,
    "start_time": "2024-09-12T01:09:18.741Z"
   },
   {
    "duration": 9,
    "start_time": "2024-09-12T01:09:18.759Z"
   },
   {
    "duration": 63,
    "start_time": "2024-09-12T01:09:18.770Z"
   },
   {
    "duration": 13,
    "start_time": "2024-09-12T01:09:18.835Z"
   },
   {
    "duration": 17,
    "start_time": "2024-09-12T01:09:18.849Z"
   },
   {
    "duration": 12,
    "start_time": "2024-09-12T01:09:18.867Z"
   },
   {
    "duration": 12,
    "start_time": "2024-09-12T01:09:18.880Z"
   },
   {
    "duration": 40,
    "start_time": "2024-09-12T01:09:18.894Z"
   },
   {
    "duration": 18,
    "start_time": "2024-09-12T01:09:18.936Z"
   },
   {
    "duration": 9,
    "start_time": "2024-09-12T01:09:18.956Z"
   },
   {
    "duration": 10,
    "start_time": "2024-09-12T01:09:18.966Z"
   },
   {
    "duration": 13,
    "start_time": "2024-09-12T01:09:18.978Z"
   },
   {
    "duration": 40,
    "start_time": "2024-09-12T01:09:18.993Z"
   },
   {
    "duration": 40,
    "start_time": "2024-09-12T01:09:19.035Z"
   },
   {
    "duration": 13,
    "start_time": "2024-09-12T01:09:19.077Z"
   },
   {
    "duration": 52,
    "start_time": "2024-09-12T01:09:19.092Z"
   },
   {
    "duration": 6,
    "start_time": "2024-09-12T01:09:19.147Z"
   },
   {
    "duration": 27,
    "start_time": "2024-09-12T01:09:19.155Z"
   },
   {
    "duration": 17,
    "start_time": "2024-09-12T01:09:19.184Z"
   },
   {
    "duration": 45,
    "start_time": "2024-09-12T01:09:19.203Z"
   },
   {
    "duration": 318,
    "start_time": "2024-09-12T01:09:21.705Z"
   },
   {
    "duration": 29,
    "start_time": "2024-09-12T01:12:07.552Z"
   },
   {
    "duration": 17,
    "start_time": "2024-09-12T01:12:18.045Z"
   },
   {
    "duration": 20,
    "start_time": "2024-09-12T01:12:27.748Z"
   },
   {
    "duration": 568,
    "start_time": "2024-09-12T01:12:46.393Z"
   },
   {
    "duration": 68,
    "start_time": "2024-09-12T01:12:46.965Z"
   },
   {
    "duration": 53,
    "start_time": "2024-09-12T01:12:47.036Z"
   },
   {
    "duration": 46,
    "start_time": "2024-09-12T01:12:47.090Z"
   },
   {
    "duration": 5,
    "start_time": "2024-09-12T01:12:47.139Z"
   },
   {
    "duration": 5,
    "start_time": "2024-09-12T01:12:47.146Z"
   },
   {
    "duration": 9,
    "start_time": "2024-09-12T01:12:47.153Z"
   },
   {
    "duration": 11,
    "start_time": "2024-09-12T01:12:47.164Z"
   },
   {
    "duration": 6,
    "start_time": "2024-09-12T01:12:47.176Z"
   },
   {
    "duration": 5,
    "start_time": "2024-09-12T01:12:47.184Z"
   },
   {
    "duration": 40,
    "start_time": "2024-09-12T01:12:47.191Z"
   },
   {
    "duration": 9,
    "start_time": "2024-09-12T01:12:47.232Z"
   },
   {
    "duration": 5,
    "start_time": "2024-09-12T01:12:47.243Z"
   },
   {
    "duration": 4,
    "start_time": "2024-09-12T01:12:47.251Z"
   },
   {
    "duration": 3,
    "start_time": "2024-09-12T01:12:47.257Z"
   },
   {
    "duration": 4,
    "start_time": "2024-09-12T01:12:47.262Z"
   },
   {
    "duration": 8,
    "start_time": "2024-09-12T01:12:47.269Z"
   },
   {
    "duration": 16,
    "start_time": "2024-09-12T01:12:47.278Z"
   },
   {
    "duration": 10,
    "start_time": "2024-09-12T01:12:47.331Z"
   },
   {
    "duration": 32,
    "start_time": "2024-09-12T01:12:47.342Z"
   },
   {
    "duration": 13,
    "start_time": "2024-09-12T01:12:47.376Z"
   },
   {
    "duration": 44,
    "start_time": "2024-09-12T01:12:47.391Z"
   },
   {
    "duration": 12,
    "start_time": "2024-09-12T01:12:47.436Z"
   },
   {
    "duration": 11,
    "start_time": "2024-09-12T01:12:47.450Z"
   },
   {
    "duration": 7,
    "start_time": "2024-09-12T01:12:47.462Z"
   },
   {
    "duration": 19,
    "start_time": "2024-09-12T01:12:47.471Z"
   },
   {
    "duration": 39,
    "start_time": "2024-09-12T01:12:47.492Z"
   },
   {
    "duration": 11,
    "start_time": "2024-09-12T01:12:47.532Z"
   },
   {
    "duration": 14,
    "start_time": "2024-09-12T01:12:47.544Z"
   },
   {
    "duration": 8,
    "start_time": "2024-09-12T01:12:47.559Z"
   },
   {
    "duration": 36,
    "start_time": "2024-09-12T01:12:47.568Z"
   },
   {
    "duration": 11,
    "start_time": "2024-09-12T01:12:47.632Z"
   },
   {
    "duration": 28,
    "start_time": "2024-09-12T01:12:47.644Z"
   },
   {
    "duration": 8,
    "start_time": "2024-09-12T01:12:47.674Z"
   },
   {
    "duration": 23,
    "start_time": "2024-09-12T01:12:47.684Z"
   },
   {
    "duration": 24,
    "start_time": "2024-09-12T01:12:50.086Z"
   },
   {
    "duration": 17,
    "start_time": "2024-09-12T01:12:52.320Z"
   },
   {
    "duration": 19,
    "start_time": "2024-09-12T01:12:54.717Z"
   },
   {
    "duration": 278,
    "start_time": "2024-09-12T01:12:59.048Z"
   },
   {
    "duration": 35,
    "start_time": "2024-09-12T01:13:19.340Z"
   },
   {
    "duration": 31,
    "start_time": "2024-09-12T01:15:26.427Z"
   },
   {
    "duration": 30,
    "start_time": "2024-09-12T01:15:31.071Z"
   },
   {
    "duration": 30,
    "start_time": "2024-09-12T01:15:44.396Z"
   },
   {
    "duration": 3,
    "start_time": "2024-09-12T01:17:26.441Z"
   },
   {
    "duration": 72,
    "start_time": "2024-09-12T01:17:26.448Z"
   },
   {
    "duration": 61,
    "start_time": "2024-09-12T01:17:26.522Z"
   },
   {
    "duration": 32,
    "start_time": "2024-09-12T01:17:26.585Z"
   },
   {
    "duration": 16,
    "start_time": "2024-09-12T01:17:26.619Z"
   },
   {
    "duration": 6,
    "start_time": "2024-09-12T01:17:26.637Z"
   },
   {
    "duration": 10,
    "start_time": "2024-09-12T01:17:26.644Z"
   },
   {
    "duration": 7,
    "start_time": "2024-09-12T01:17:26.657Z"
   },
   {
    "duration": 5,
    "start_time": "2024-09-12T01:17:26.666Z"
   },
   {
    "duration": 4,
    "start_time": "2024-09-12T01:17:26.673Z"
   },
   {
    "duration": 9,
    "start_time": "2024-09-12T01:17:26.679Z"
   },
   {
    "duration": 45,
    "start_time": "2024-09-12T01:17:26.689Z"
   },
   {
    "duration": 5,
    "start_time": "2024-09-12T01:17:26.736Z"
   },
   {
    "duration": 5,
    "start_time": "2024-09-12T01:17:26.743Z"
   },
   {
    "duration": 3,
    "start_time": "2024-09-12T01:17:26.752Z"
   },
   {
    "duration": 4,
    "start_time": "2024-09-12T01:17:26.758Z"
   },
   {
    "duration": 10,
    "start_time": "2024-09-12T01:17:26.764Z"
   },
   {
    "duration": 19,
    "start_time": "2024-09-12T01:17:26.776Z"
   },
   {
    "duration": 9,
    "start_time": "2024-09-12T01:17:26.832Z"
   },
   {
    "duration": 32,
    "start_time": "2024-09-12T01:17:26.843Z"
   },
   {
    "duration": 16,
    "start_time": "2024-09-12T01:17:26.877Z"
   },
   {
    "duration": 41,
    "start_time": "2024-09-12T01:17:26.895Z"
   },
   {
    "duration": 11,
    "start_time": "2024-09-12T01:17:26.938Z"
   },
   {
    "duration": 12,
    "start_time": "2024-09-12T01:17:26.950Z"
   },
   {
    "duration": 8,
    "start_time": "2024-09-12T01:17:26.963Z"
   },
   {
    "duration": 15,
    "start_time": "2024-09-12T01:17:26.972Z"
   },
   {
    "duration": 9,
    "start_time": "2024-09-12T01:17:26.989Z"
   },
   {
    "duration": 10,
    "start_time": "2024-09-12T01:17:27.031Z"
   },
   {
    "duration": 14,
    "start_time": "2024-09-12T01:17:27.043Z"
   },
   {
    "duration": 9,
    "start_time": "2024-09-12T01:17:27.059Z"
   },
   {
    "duration": 63,
    "start_time": "2024-09-12T01:17:27.069Z"
   },
   {
    "duration": 13,
    "start_time": "2024-09-12T01:17:27.133Z"
   },
   {
    "duration": 23,
    "start_time": "2024-09-12T01:17:27.147Z"
   },
   {
    "duration": 8,
    "start_time": "2024-09-12T01:17:27.172Z"
   },
   {
    "duration": 22,
    "start_time": "2024-09-12T01:17:27.182Z"
   },
   {
    "duration": 16,
    "start_time": "2024-09-12T01:17:27.230Z"
   },
   {
    "duration": 17,
    "start_time": "2024-09-12T01:17:27.248Z"
   },
   {
    "duration": 30,
    "start_time": "2024-09-12T01:17:27.267Z"
   },
   {
    "duration": 0,
    "start_time": "2024-09-12T01:17:27.300Z"
   },
   {
    "duration": 0,
    "start_time": "2024-09-12T01:17:27.301Z"
   },
   {
    "duration": 0,
    "start_time": "2024-09-12T01:17:27.303Z"
   },
   {
    "duration": 0,
    "start_time": "2024-09-12T01:17:27.304Z"
   },
   {
    "duration": 0,
    "start_time": "2024-09-12T01:17:27.331Z"
   },
   {
    "duration": 0,
    "start_time": "2024-09-12T01:17:27.333Z"
   },
   {
    "duration": 0,
    "start_time": "2024-09-12T01:17:27.334Z"
   },
   {
    "duration": 0,
    "start_time": "2024-09-12T01:17:27.336Z"
   },
   {
    "duration": 0,
    "start_time": "2024-09-12T01:17:27.337Z"
   },
   {
    "duration": 0,
    "start_time": "2024-09-12T01:17:27.339Z"
   },
   {
    "duration": 23,
    "start_time": "2024-09-12T01:19:02.042Z"
   },
   {
    "duration": 17,
    "start_time": "2024-09-12T01:19:03.658Z"
   },
   {
    "duration": 19,
    "start_time": "2024-09-12T01:19:04.797Z"
   },
   {
    "duration": 31,
    "start_time": "2024-09-12T01:19:09.209Z"
   },
   {
    "duration": 13,
    "start_time": "2024-09-12T01:20:11.209Z"
   },
   {
    "duration": 12,
    "start_time": "2024-09-12T01:20:20.331Z"
   },
   {
    "duration": 20,
    "start_time": "2024-09-12T01:20:23.660Z"
   },
   {
    "duration": 12,
    "start_time": "2024-09-12T01:21:02.645Z"
   },
   {
    "duration": 20,
    "start_time": "2024-09-12T01:21:07.468Z"
   },
   {
    "duration": 22,
    "start_time": "2024-09-12T01:22:37.113Z"
   },
   {
    "duration": 28,
    "start_time": "2024-09-12T01:24:33.534Z"
   },
   {
    "duration": 23,
    "start_time": "2024-09-12T01:24:58.981Z"
   },
   {
    "duration": 16,
    "start_time": "2024-09-12T01:25:07.754Z"
   },
   {
    "duration": 24,
    "start_time": "2024-09-12T01:25:22.025Z"
   },
   {
    "duration": 23,
    "start_time": "2024-09-12T01:25:25.665Z"
   },
   {
    "duration": 33,
    "start_time": "2024-09-12T01:25:39.096Z"
   },
   {
    "duration": 570,
    "start_time": "2024-09-12T01:26:37.117Z"
   },
   {
    "duration": 79,
    "start_time": "2024-09-12T01:26:37.689Z"
   },
   {
    "duration": 52,
    "start_time": "2024-09-12T01:26:37.770Z"
   },
   {
    "duration": 41,
    "start_time": "2024-09-12T01:26:37.824Z"
   },
   {
    "duration": 4,
    "start_time": "2024-09-12T01:26:37.869Z"
   },
   {
    "duration": 6,
    "start_time": "2024-09-12T01:26:37.875Z"
   },
   {
    "duration": 11,
    "start_time": "2024-09-12T01:26:37.882Z"
   },
   {
    "duration": 12,
    "start_time": "2024-09-12T01:26:37.894Z"
   },
   {
    "duration": 29,
    "start_time": "2024-09-12T01:26:37.907Z"
   },
   {
    "duration": 8,
    "start_time": "2024-09-12T01:26:37.937Z"
   },
   {
    "duration": 9,
    "start_time": "2024-09-12T01:26:37.947Z"
   },
   {
    "duration": 9,
    "start_time": "2024-09-12T01:26:37.958Z"
   },
   {
    "duration": 5,
    "start_time": "2024-09-12T01:26:37.969Z"
   },
   {
    "duration": 6,
    "start_time": "2024-09-12T01:26:37.978Z"
   },
   {
    "duration": 4,
    "start_time": "2024-09-12T01:26:37.985Z"
   },
   {
    "duration": 8,
    "start_time": "2024-09-12T01:26:38.032Z"
   },
   {
    "duration": 11,
    "start_time": "2024-09-12T01:26:38.043Z"
   },
   {
    "duration": 15,
    "start_time": "2024-09-12T01:26:38.056Z"
   },
   {
    "duration": 9,
    "start_time": "2024-09-12T01:26:38.073Z"
   },
   {
    "duration": 59,
    "start_time": "2024-09-12T01:26:38.084Z"
   },
   {
    "duration": 13,
    "start_time": "2024-09-12T01:26:38.145Z"
   },
   {
    "duration": 16,
    "start_time": "2024-09-12T01:26:38.160Z"
   },
   {
    "duration": 11,
    "start_time": "2024-09-12T01:26:38.180Z"
   },
   {
    "duration": 11,
    "start_time": "2024-09-12T01:26:38.193Z"
   },
   {
    "duration": 7,
    "start_time": "2024-09-12T01:26:38.231Z"
   },
   {
    "duration": 15,
    "start_time": "2024-09-12T01:26:38.240Z"
   },
   {
    "duration": 9,
    "start_time": "2024-09-12T01:26:38.256Z"
   },
   {
    "duration": 10,
    "start_time": "2024-09-12T01:26:38.266Z"
   },
   {
    "duration": 13,
    "start_time": "2024-09-12T01:26:38.278Z"
   },
   {
    "duration": 44,
    "start_time": "2024-09-12T01:26:38.293Z"
   },
   {
    "duration": 39,
    "start_time": "2024-09-12T01:26:38.338Z"
   },
   {
    "duration": 11,
    "start_time": "2024-09-12T01:26:38.378Z"
   },
   {
    "duration": 40,
    "start_time": "2024-09-12T01:26:38.391Z"
   },
   {
    "duration": 8,
    "start_time": "2024-09-12T01:26:38.432Z"
   },
   {
    "duration": 25,
    "start_time": "2024-09-12T01:26:38.442Z"
   },
   {
    "duration": 18,
    "start_time": "2024-09-12T01:26:38.469Z"
   },
   {
    "duration": 43,
    "start_time": "2024-09-12T01:26:38.489Z"
   },
   {
    "duration": 58,
    "start_time": "2024-09-12T01:26:38.534Z"
   },
   {
    "duration": 20,
    "start_time": "2024-09-12T01:26:40.785Z"
   },
   {
    "duration": 27,
    "start_time": "2024-09-12T01:26:44.604Z"
   },
   {
    "duration": 14,
    "start_time": "2024-09-12T01:27:49.713Z"
   },
   {
    "duration": 583,
    "start_time": "2024-09-12T01:28:00.787Z"
   },
   {
    "duration": 71,
    "start_time": "2024-09-12T01:28:01.372Z"
   },
   {
    "duration": 52,
    "start_time": "2024-09-12T01:28:01.445Z"
   },
   {
    "duration": 51,
    "start_time": "2024-09-12T01:28:01.499Z"
   },
   {
    "duration": 6,
    "start_time": "2024-09-12T01:28:01.552Z"
   },
   {
    "duration": 6,
    "start_time": "2024-09-12T01:28:01.560Z"
   },
   {
    "duration": 12,
    "start_time": "2024-09-12T01:28:01.568Z"
   },
   {
    "duration": 10,
    "start_time": "2024-09-12T01:28:01.582Z"
   },
   {
    "duration": 5,
    "start_time": "2024-09-12T01:28:01.594Z"
   },
   {
    "duration": 35,
    "start_time": "2024-09-12T01:28:01.600Z"
   },
   {
    "duration": 8,
    "start_time": "2024-09-12T01:28:01.638Z"
   },
   {
    "duration": 8,
    "start_time": "2024-09-12T01:28:01.647Z"
   },
   {
    "duration": 5,
    "start_time": "2024-09-12T01:28:01.657Z"
   },
   {
    "duration": 5,
    "start_time": "2024-09-12T01:28:01.665Z"
   },
   {
    "duration": 3,
    "start_time": "2024-09-12T01:28:01.672Z"
   },
   {
    "duration": 3,
    "start_time": "2024-09-12T01:28:01.677Z"
   },
   {
    "duration": 50,
    "start_time": "2024-09-12T01:28:01.682Z"
   },
   {
    "duration": 15,
    "start_time": "2024-09-12T01:28:01.733Z"
   },
   {
    "duration": 9,
    "start_time": "2024-09-12T01:28:01.750Z"
   },
   {
    "duration": 33,
    "start_time": "2024-09-12T01:28:01.760Z"
   },
   {
    "duration": 37,
    "start_time": "2024-09-12T01:28:01.795Z"
   },
   {
    "duration": 16,
    "start_time": "2024-09-12T01:28:01.834Z"
   },
   {
    "duration": 11,
    "start_time": "2024-09-12T01:28:01.852Z"
   },
   {
    "duration": 11,
    "start_time": "2024-09-12T01:28:01.864Z"
   },
   {
    "duration": 7,
    "start_time": "2024-09-12T01:28:01.878Z"
   },
   {
    "duration": 14,
    "start_time": "2024-09-12T01:28:01.887Z"
   },
   {
    "duration": 33,
    "start_time": "2024-09-12T01:28:01.903Z"
   },
   {
    "duration": 11,
    "start_time": "2024-09-12T01:28:01.938Z"
   },
   {
    "duration": 16,
    "start_time": "2024-09-12T01:28:01.951Z"
   },
   {
    "duration": 9,
    "start_time": "2024-09-12T01:28:01.969Z"
   },
   {
    "duration": 67,
    "start_time": "2024-09-12T01:28:01.981Z"
   },
   {
    "duration": 11,
    "start_time": "2024-09-12T01:28:02.050Z"
   },
   {
    "duration": 21,
    "start_time": "2024-09-12T01:28:02.062Z"
   },
   {
    "duration": 6,
    "start_time": "2024-09-12T01:28:02.085Z"
   },
   {
    "duration": 50,
    "start_time": "2024-09-12T01:28:02.093Z"
   },
   {
    "duration": 16,
    "start_time": "2024-09-12T01:28:02.144Z"
   },
   {
    "duration": 19,
    "start_time": "2024-09-12T01:28:02.161Z"
   },
   {
    "duration": 75,
    "start_time": "2024-09-12T01:28:02.181Z"
   },
   {
    "duration": 15,
    "start_time": "2024-09-12T01:28:03.091Z"
   },
   {
    "duration": 201,
    "start_time": "2024-09-12T01:28:03.711Z"
   },
   {
    "duration": 20,
    "start_time": "2024-09-12T01:28:20.515Z"
   },
   {
    "duration": 17,
    "start_time": "2024-09-12T01:28:26.959Z"
   },
   {
    "duration": 21,
    "start_time": "2024-09-12T01:28:31.026Z"
   },
   {
    "duration": 30,
    "start_time": "2024-09-12T01:28:35.985Z"
   },
   {
    "duration": 14,
    "start_time": "2024-09-12T01:58:20.794Z"
   },
   {
    "duration": 39,
    "start_time": "2024-09-12T01:58:26.953Z"
   },
   {
    "duration": 13,
    "start_time": "2024-09-12T01:58:31.902Z"
   },
   {
    "duration": 4,
    "start_time": "2024-09-12T01:58:37.820Z"
   },
   {
    "duration": 4,
    "start_time": "2024-09-12T01:58:45.196Z"
   },
   {
    "duration": 5,
    "start_time": "2024-09-12T02:04:57.400Z"
   },
   {
    "duration": 13,
    "start_time": "2024-09-12T02:16:10.335Z"
   },
   {
    "duration": 13,
    "start_time": "2024-09-12T02:16:27.422Z"
   },
   {
    "duration": 10,
    "start_time": "2024-09-12T02:16:56.978Z"
   },
   {
    "duration": 6,
    "start_time": "2024-09-12T02:17:08.127Z"
   },
   {
    "duration": 15,
    "start_time": "2024-09-12T02:17:19.589Z"
   },
   {
    "duration": 6,
    "start_time": "2024-09-12T02:17:24.516Z"
   },
   {
    "duration": 63,
    "start_time": "2024-09-12T02:17:31.228Z"
   },
   {
    "duration": 6,
    "start_time": "2024-09-12T02:17:34.707Z"
   },
   {
    "duration": 4,
    "start_time": "2024-09-12T02:18:05.682Z"
   },
   {
    "duration": 3,
    "start_time": "2024-09-12T02:18:21.989Z"
   },
   {
    "duration": 543,
    "start_time": "2024-09-12T02:18:38.362Z"
   },
   {
    "duration": 54,
    "start_time": "2024-09-12T02:18:43.436Z"
   },
   {
    "duration": 79,
    "start_time": "2024-09-12T02:20:07.054Z"
   },
   {
    "duration": 19,
    "start_time": "2024-09-12T02:20:19.545Z"
   },
   {
    "duration": 25,
    "start_time": "2024-09-12T02:20:27.903Z"
   },
   {
    "duration": 31,
    "start_time": "2024-09-12T02:36:17.056Z"
   },
   {
    "duration": 24,
    "start_time": "2024-09-12T02:36:29.796Z"
   },
   {
    "duration": 3,
    "start_time": "2024-09-12T02:38:41.086Z"
   },
   {
    "duration": 3,
    "start_time": "2024-09-12T02:38:48.547Z"
   },
   {
    "duration": 4,
    "start_time": "2024-09-12T02:38:52.958Z"
   },
   {
    "duration": 26,
    "start_time": "2024-09-12T02:38:58.417Z"
   },
   {
    "duration": 626,
    "start_time": "2024-09-12T02:39:44.934Z"
   },
   {
    "duration": 75,
    "start_time": "2024-09-12T02:39:45.562Z"
   },
   {
    "duration": 49,
    "start_time": "2024-09-12T02:39:45.639Z"
   },
   {
    "duration": 40,
    "start_time": "2024-09-12T02:39:45.691Z"
   },
   {
    "duration": 6,
    "start_time": "2024-09-12T02:39:45.733Z"
   },
   {
    "duration": 6,
    "start_time": "2024-09-12T02:39:45.740Z"
   },
   {
    "duration": 10,
    "start_time": "2024-09-12T02:39:45.747Z"
   },
   {
    "duration": 11,
    "start_time": "2024-09-12T02:39:45.758Z"
   },
   {
    "duration": 4,
    "start_time": "2024-09-12T02:39:45.771Z"
   },
   {
    "duration": 5,
    "start_time": "2024-09-12T02:39:45.778Z"
   },
   {
    "duration": 45,
    "start_time": "2024-09-12T02:39:45.785Z"
   },
   {
    "duration": 8,
    "start_time": "2024-09-12T02:39:45.832Z"
   },
   {
    "duration": 6,
    "start_time": "2024-09-12T02:39:45.842Z"
   },
   {
    "duration": 5,
    "start_time": "2024-09-12T02:39:45.849Z"
   },
   {
    "duration": 3,
    "start_time": "2024-09-12T02:39:45.855Z"
   },
   {
    "duration": 4,
    "start_time": "2024-09-12T02:39:45.860Z"
   },
   {
    "duration": 8,
    "start_time": "2024-09-12T02:39:45.866Z"
   },
   {
    "duration": 15,
    "start_time": "2024-09-12T02:39:45.875Z"
   },
   {
    "duration": 49,
    "start_time": "2024-09-12T02:39:45.891Z"
   },
   {
    "duration": 32,
    "start_time": "2024-09-12T02:39:45.942Z"
   },
   {
    "duration": 12,
    "start_time": "2024-09-12T02:39:45.977Z"
   },
   {
    "duration": 41,
    "start_time": "2024-09-12T02:39:45.991Z"
   },
   {
    "duration": 11,
    "start_time": "2024-09-12T02:39:46.034Z"
   },
   {
    "duration": 12,
    "start_time": "2024-09-12T02:39:46.047Z"
   },
   {
    "duration": 8,
    "start_time": "2024-09-12T02:39:46.061Z"
   },
   {
    "duration": 16,
    "start_time": "2024-09-12T02:39:46.070Z"
   },
   {
    "duration": 9,
    "start_time": "2024-09-12T02:39:46.088Z"
   },
   {
    "duration": 11,
    "start_time": "2024-09-12T02:39:46.135Z"
   },
   {
    "duration": 16,
    "start_time": "2024-09-12T02:39:46.147Z"
   },
   {
    "duration": 9,
    "start_time": "2024-09-12T02:39:46.165Z"
   },
   {
    "duration": 61,
    "start_time": "2024-09-12T02:39:46.176Z"
   },
   {
    "duration": 14,
    "start_time": "2024-09-12T02:39:46.238Z"
   },
   {
    "duration": 20,
    "start_time": "2024-09-12T02:39:46.254Z"
   },
   {
    "duration": 6,
    "start_time": "2024-09-12T02:39:46.277Z"
   },
   {
    "duration": 48,
    "start_time": "2024-09-12T02:39:46.285Z"
   },
   {
    "duration": 16,
    "start_time": "2024-09-12T02:39:46.335Z"
   },
   {
    "duration": 18,
    "start_time": "2024-09-12T02:39:46.352Z"
   },
   {
    "duration": 71,
    "start_time": "2024-09-12T02:39:46.372Z"
   },
   {
    "duration": 28,
    "start_time": "2024-09-12T02:39:46.445Z"
   },
   {
    "duration": 25,
    "start_time": "2024-09-12T02:39:50.795Z"
   },
   {
    "duration": 26,
    "start_time": "2024-09-12T02:41:51.740Z"
   },
   {
    "duration": 27,
    "start_time": "2024-09-12T02:45:38.315Z"
   },
   {
    "duration": 626,
    "start_time": "2024-09-12T02:51:13.567Z"
   },
   {
    "duration": 51,
    "start_time": "2024-09-12T02:51:48.559Z"
   },
   {
    "duration": 27,
    "start_time": "2024-09-12T02:52:14.324Z"
   },
   {
    "duration": 28,
    "start_time": "2024-09-12T02:52:48.107Z"
   },
   {
    "duration": 28,
    "start_time": "2024-09-12T02:55:31.136Z"
   },
   {
    "duration": 28,
    "start_time": "2024-09-12T03:00:24.091Z"
   },
   {
    "duration": 9,
    "start_time": "2024-09-12T03:03:54.472Z"
   },
   {
    "duration": 31,
    "start_time": "2024-09-12T03:03:59.618Z"
   },
   {
    "duration": 32,
    "start_time": "2024-09-12T03:05:40.299Z"
   },
   {
    "duration": 26,
    "start_time": "2024-09-12T03:06:13.704Z"
   },
   {
    "duration": 26,
    "start_time": "2024-09-12T03:07:10.554Z"
   },
   {
    "duration": 27,
    "start_time": "2024-09-12T03:09:22.993Z"
   },
   {
    "duration": 27,
    "start_time": "2024-09-12T03:09:39.922Z"
   },
   {
    "duration": 27,
    "start_time": "2024-09-12T03:09:42.952Z"
   },
   {
    "duration": 25,
    "start_time": "2024-09-12T03:10:02.722Z"
   },
   {
    "duration": 26,
    "start_time": "2024-09-12T03:12:39.723Z"
   },
   {
    "duration": 5,
    "start_time": "2024-09-12T03:13:06.846Z"
   },
   {
    "duration": 25,
    "start_time": "2024-09-12T03:13:18.415Z"
   },
   {
    "duration": 25,
    "start_time": "2024-09-12T03:13:42.236Z"
   },
   {
    "duration": 26,
    "start_time": "2024-09-12T03:14:23.278Z"
   },
   {
    "duration": 27,
    "start_time": "2024-09-12T03:14:37.007Z"
   },
   {
    "duration": 15,
    "start_time": "2024-09-12T03:30:47.849Z"
   },
   {
    "duration": 21023,
    "start_time": "2024-09-12T03:31:15.822Z"
   },
   {
    "duration": 21078,
    "start_time": "2024-09-12T03:32:06.113Z"
   },
   {
    "duration": 2,
    "start_time": "2024-09-12T03:33:05.097Z"
   },
   {
    "duration": 761,
    "start_time": "2024-09-12T03:33:13.164Z"
   },
   {
    "duration": 69,
    "start_time": "2024-09-12T03:33:13.928Z"
   },
   {
    "duration": 62,
    "start_time": "2024-09-12T03:33:13.999Z"
   },
   {
    "duration": 34,
    "start_time": "2024-09-12T03:33:14.062Z"
   },
   {
    "duration": 6,
    "start_time": "2024-09-12T03:33:14.098Z"
   },
   {
    "duration": 6,
    "start_time": "2024-09-12T03:33:14.106Z"
   },
   {
    "duration": 22,
    "start_time": "2024-09-12T03:33:14.113Z"
   },
   {
    "duration": 11,
    "start_time": "2024-09-12T03:33:14.137Z"
   },
   {
    "duration": 4,
    "start_time": "2024-09-12T03:33:14.149Z"
   },
   {
    "duration": 6,
    "start_time": "2024-09-12T03:33:14.155Z"
   },
   {
    "duration": 9,
    "start_time": "2024-09-12T03:33:14.162Z"
   },
   {
    "duration": 9,
    "start_time": "2024-09-12T03:33:14.173Z"
   },
   {
    "duration": 5,
    "start_time": "2024-09-12T03:33:14.185Z"
   },
   {
    "duration": 42,
    "start_time": "2024-09-12T03:33:14.194Z"
   },
   {
    "duration": 5,
    "start_time": "2024-09-12T03:33:14.237Z"
   },
   {
    "duration": 5,
    "start_time": "2024-09-12T03:33:14.244Z"
   },
   {
    "duration": 9,
    "start_time": "2024-09-12T03:33:14.251Z"
   },
   {
    "duration": 17,
    "start_time": "2024-09-12T03:33:14.262Z"
   },
   {
    "duration": 12,
    "start_time": "2024-09-12T03:33:14.280Z"
   },
   {
    "duration": 33,
    "start_time": "2024-09-12T03:33:14.331Z"
   },
   {
    "duration": 15,
    "start_time": "2024-09-12T03:33:14.366Z"
   },
   {
    "duration": 17,
    "start_time": "2024-09-12T03:33:14.383Z"
   },
   {
    "duration": 36,
    "start_time": "2024-09-12T03:33:14.402Z"
   },
   {
    "duration": 13,
    "start_time": "2024-09-12T03:33:14.439Z"
   },
   {
    "duration": 8,
    "start_time": "2024-09-12T03:33:14.453Z"
   },
   {
    "duration": 17,
    "start_time": "2024-09-12T03:33:14.462Z"
   },
   {
    "duration": 9,
    "start_time": "2024-09-12T03:33:14.480Z"
   },
   {
    "duration": 10,
    "start_time": "2024-09-12T03:33:14.491Z"
   },
   {
    "duration": 41,
    "start_time": "2024-09-12T03:33:14.502Z"
   },
   {
    "duration": 10,
    "start_time": "2024-09-12T03:33:14.544Z"
   },
   {
    "duration": 37,
    "start_time": "2024-09-12T03:33:14.555Z"
   },
   {
    "duration": 10,
    "start_time": "2024-09-12T03:33:14.594Z"
   },
   {
    "duration": 46,
    "start_time": "2024-09-12T03:33:14.605Z"
   },
   {
    "duration": 7,
    "start_time": "2024-09-12T03:33:14.652Z"
   },
   {
    "duration": 25,
    "start_time": "2024-09-12T03:33:14.662Z"
   },
   {
    "duration": 16,
    "start_time": "2024-09-12T03:33:14.688Z"
   },
   {
    "duration": 43,
    "start_time": "2024-09-12T03:33:14.705Z"
   },
   {
    "duration": 22,
    "start_time": "2024-09-12T03:33:14.750Z"
   },
   {
    "duration": 29,
    "start_time": "2024-09-12T03:33:14.773Z"
   },
   {
    "duration": 48,
    "start_time": "2024-09-12T03:33:14.805Z"
   },
   {
    "duration": 20556,
    "start_time": "2024-09-12T03:33:14.857Z"
   },
   {
    "duration": 4,
    "start_time": "2024-09-12T03:33:35.415Z"
   },
   {
    "duration": 2,
    "start_time": "2024-09-12T03:33:35.420Z"
   },
   {
    "duration": 11,
    "start_time": "2024-09-12T03:33:35.424Z"
   },
   {
    "duration": 3,
    "start_time": "2024-09-12T03:33:35.437Z"
   },
   {
    "duration": 3,
    "start_time": "2024-09-12T03:33:35.441Z"
   },
   {
    "duration": 3,
    "start_time": "2024-09-12T03:33:35.445Z"
   },
   {
    "duration": 2,
    "start_time": "2024-09-12T03:33:35.450Z"
   },
   {
    "duration": 22624,
    "start_time": "2024-09-12T03:34:04.915Z"
   },
   {
    "duration": 745,
    "start_time": "2024-09-12T03:35:14.287Z"
   },
   {
    "duration": 22410,
    "start_time": "2024-09-12T03:35:29.473Z"
   },
   {
    "duration": 22,
    "start_time": "2024-09-12T03:38:18.423Z"
   },
   {
    "duration": 15,
    "start_time": "2024-09-12T03:38:32.504Z"
   },
   {
    "duration": 22519,
    "start_time": "2024-09-12T03:39:01.962Z"
   },
   {
    "duration": 20917,
    "start_time": "2024-09-12T03:41:22.392Z"
   },
   {
    "duration": 371,
    "start_time": "2024-09-12T03:44:11.926Z"
   },
   {
    "duration": 20417,
    "start_time": "2024-09-12T03:44:36.262Z"
   },
   {
    "duration": 20228,
    "start_time": "2024-09-12T03:47:07.395Z"
   },
   {
    "duration": 219,
    "start_time": "2024-09-12T03:47:56.082Z"
   },
   {
    "duration": 3,
    "start_time": "2024-09-12T03:48:47.029Z"
   },
   {
    "duration": 155,
    "start_time": "2024-09-12T03:48:58.957Z"
   },
   {
    "duration": 4,
    "start_time": "2024-09-12T03:49:04.034Z"
   },
   {
    "duration": 5,
    "start_time": "2024-09-12T03:49:11.404Z"
   },
   {
    "duration": 91,
    "start_time": "2024-09-12T03:49:30.802Z"
   },
   {
    "duration": 16,
    "start_time": "2024-09-12T03:51:20.677Z"
   },
   {
    "duration": 462,
    "start_time": "2024-09-12T03:51:26.805Z"
   },
   {
    "duration": 155,
    "start_time": "2024-09-12T03:51:48.683Z"
   },
   {
    "duration": 153,
    "start_time": "2024-09-12T03:51:52.695Z"
   },
   {
    "duration": 168,
    "start_time": "2024-09-12T03:52:01.279Z"
   },
   {
    "duration": 708,
    "start_time": "2024-09-12T03:52:15.318Z"
   },
   {
    "duration": 68,
    "start_time": "2024-09-12T03:52:16.028Z"
   },
   {
    "duration": 58,
    "start_time": "2024-09-12T03:52:16.097Z"
   },
   {
    "duration": 34,
    "start_time": "2024-09-12T03:52:16.157Z"
   },
   {
    "duration": 6,
    "start_time": "2024-09-12T03:52:16.193Z"
   },
   {
    "duration": 6,
    "start_time": "2024-09-12T03:52:16.200Z"
   },
   {
    "duration": 23,
    "start_time": "2024-09-12T03:52:16.208Z"
   },
   {
    "duration": 10,
    "start_time": "2024-09-12T03:52:16.233Z"
   },
   {
    "duration": 4,
    "start_time": "2024-09-12T03:52:16.245Z"
   },
   {
    "duration": 6,
    "start_time": "2024-09-12T03:52:16.251Z"
   },
   {
    "duration": 8,
    "start_time": "2024-09-12T03:52:16.258Z"
   },
   {
    "duration": 8,
    "start_time": "2024-09-12T03:52:16.268Z"
   },
   {
    "duration": 5,
    "start_time": "2024-09-12T03:52:16.277Z"
   },
   {
    "duration": 46,
    "start_time": "2024-09-12T03:52:16.286Z"
   },
   {
    "duration": 3,
    "start_time": "2024-09-12T03:52:16.334Z"
   },
   {
    "duration": 4,
    "start_time": "2024-09-12T03:52:16.338Z"
   },
   {
    "duration": 8,
    "start_time": "2024-09-12T03:52:16.344Z"
   },
   {
    "duration": 15,
    "start_time": "2024-09-12T03:52:16.353Z"
   },
   {
    "duration": 9,
    "start_time": "2024-09-12T03:52:16.370Z"
   },
   {
    "duration": 64,
    "start_time": "2024-09-12T03:52:16.381Z"
   },
   {
    "duration": 13,
    "start_time": "2024-09-12T03:52:16.447Z"
   },
   {
    "duration": 17,
    "start_time": "2024-09-12T03:52:16.461Z"
   },
   {
    "duration": 11,
    "start_time": "2024-09-12T03:52:16.479Z"
   },
   {
    "duration": 13,
    "start_time": "2024-09-12T03:52:16.491Z"
   },
   {
    "duration": 32,
    "start_time": "2024-09-12T03:52:16.505Z"
   },
   {
    "duration": 15,
    "start_time": "2024-09-12T03:52:16.539Z"
   },
   {
    "duration": 10,
    "start_time": "2024-09-12T03:52:16.555Z"
   },
   {
    "duration": 10,
    "start_time": "2024-09-12T03:52:16.566Z"
   },
   {
    "duration": 14,
    "start_time": "2024-09-12T03:52:16.578Z"
   },
   {
    "duration": 38,
    "start_time": "2024-09-12T03:52:16.594Z"
   },
   {
    "duration": 36,
    "start_time": "2024-09-12T03:52:16.633Z"
   },
   {
    "duration": 10,
    "start_time": "2024-09-12T03:52:16.672Z"
   },
   {
    "duration": 20,
    "start_time": "2024-09-12T03:52:16.684Z"
   },
   {
    "duration": 27,
    "start_time": "2024-09-12T03:52:16.706Z"
   },
   {
    "duration": 23,
    "start_time": "2024-09-12T03:52:16.735Z"
   },
   {
    "duration": 16,
    "start_time": "2024-09-12T03:52:16.760Z"
   },
   {
    "duration": 19,
    "start_time": "2024-09-12T03:52:16.778Z"
   },
   {
    "duration": 50,
    "start_time": "2024-09-12T03:52:16.799Z"
   },
   {
    "duration": 29,
    "start_time": "2024-09-12T03:52:16.850Z"
   },
   {
    "duration": 27,
    "start_time": "2024-09-12T03:52:16.880Z"
   },
   {
    "duration": 891,
    "start_time": "2024-09-12T03:52:23.918Z"
   },
   {
    "duration": 86,
    "start_time": "2024-09-12T03:52:41.875Z"
   },
   {
    "duration": 84,
    "start_time": "2024-09-12T03:52:59.736Z"
   },
   {
    "duration": 88,
    "start_time": "2024-09-12T03:53:17.561Z"
   },
   {
    "duration": 93,
    "start_time": "2024-09-12T03:54:14.713Z"
   },
   {
    "duration": 81,
    "start_time": "2024-09-12T03:55:05.991Z"
   },
   {
    "duration": 90,
    "start_time": "2024-09-12T03:55:10.073Z"
   },
   {
    "duration": 89,
    "start_time": "2024-09-12T04:00:16.790Z"
   },
   {
    "duration": 0,
    "start_time": "2024-09-12T04:01:01.825Z"
   },
   {
    "duration": 9455,
    "start_time": "2024-09-12T04:01:10.925Z"
   },
   {
    "duration": 608,
    "start_time": "2024-09-12T04:03:07.790Z"
   },
   {
    "duration": 15,
    "start_time": "2024-09-12T04:03:27.712Z"
   },
   {
    "duration": 18,
    "start_time": "2024-09-12T04:03:49.126Z"
   },
   {
    "duration": 135,
    "start_time": "2024-09-12T04:04:28.692Z"
   },
   {
    "duration": 1600,
    "start_time": "2024-09-12T04:08:12.146Z"
   },
   {
    "duration": 45,
    "start_time": "2024-09-12T04:08:18.723Z"
   },
   {
    "duration": 106,
    "start_time": "2024-09-12T04:08:27.843Z"
   },
   {
    "duration": 159,
    "start_time": "2024-09-12T04:22:19.813Z"
   },
   {
    "duration": 77,
    "start_time": "2024-09-12T04:22:38.634Z"
   },
   {
    "duration": 57,
    "start_time": "2024-09-12T04:22:42.759Z"
   },
   {
    "duration": 21327,
    "start_time": "2024-09-12T04:23:16.983Z"
   },
   {
    "duration": 3233,
    "start_time": "2024-09-12T04:29:48.649Z"
   },
   {
    "duration": 107,
    "start_time": "2024-09-12T04:30:33.419Z"
   },
   {
    "duration": 106,
    "start_time": "2024-09-12T04:31:30.839Z"
   },
   {
    "duration": 91,
    "start_time": "2024-09-12T04:36:02.415Z"
   },
   {
    "duration": 13,
    "start_time": "2024-09-12T04:37:09.831Z"
   },
   {
    "duration": 782,
    "start_time": "2024-09-12T04:37:24.737Z"
   },
   {
    "duration": 73,
    "start_time": "2024-09-12T04:37:25.521Z"
   },
   {
    "duration": 57,
    "start_time": "2024-09-12T04:37:25.596Z"
   },
   {
    "duration": 33,
    "start_time": "2024-09-12T04:37:25.655Z"
   },
   {
    "duration": 6,
    "start_time": "2024-09-12T04:37:25.690Z"
   },
   {
    "duration": 7,
    "start_time": "2024-09-12T04:37:25.697Z"
   },
   {
    "duration": 9,
    "start_time": "2024-09-12T04:37:25.705Z"
   },
   {
    "duration": 10,
    "start_time": "2024-09-12T04:37:25.731Z"
   },
   {
    "duration": 4,
    "start_time": "2024-09-12T04:37:25.742Z"
   },
   {
    "duration": 5,
    "start_time": "2024-09-12T04:37:25.748Z"
   },
   {
    "duration": 9,
    "start_time": "2024-09-12T04:37:25.754Z"
   },
   {
    "duration": 9,
    "start_time": "2024-09-12T04:37:25.765Z"
   },
   {
    "duration": 6,
    "start_time": "2024-09-12T04:37:25.775Z"
   },
   {
    "duration": 4,
    "start_time": "2024-09-12T04:37:25.785Z"
   },
   {
    "duration": 42,
    "start_time": "2024-09-12T04:37:25.791Z"
   },
   {
    "duration": 4,
    "start_time": "2024-09-12T04:37:25.835Z"
   },
   {
    "duration": 8,
    "start_time": "2024-09-12T04:37:25.840Z"
   },
   {
    "duration": 14,
    "start_time": "2024-09-12T04:37:25.850Z"
   },
   {
    "duration": 9,
    "start_time": "2024-09-12T04:37:25.865Z"
   },
   {
    "duration": 63,
    "start_time": "2024-09-12T04:37:25.876Z"
   },
   {
    "duration": 13,
    "start_time": "2024-09-12T04:37:25.941Z"
   },
   {
    "duration": 17,
    "start_time": "2024-09-12T04:37:25.956Z"
   },
   {
    "duration": 11,
    "start_time": "2024-09-12T04:37:25.974Z"
   },
   {
    "duration": 12,
    "start_time": "2024-09-12T04:37:25.987Z"
   },
   {
    "duration": 34,
    "start_time": "2024-09-12T04:37:26.000Z"
   },
   {
    "duration": 16,
    "start_time": "2024-09-12T04:37:26.036Z"
   },
   {
    "duration": 9,
    "start_time": "2024-09-12T04:37:26.053Z"
   },
   {
    "duration": 10,
    "start_time": "2024-09-12T04:37:26.064Z"
   },
   {
    "duration": 13,
    "start_time": "2024-09-12T04:37:26.075Z"
   },
   {
    "duration": 8,
    "start_time": "2024-09-12T04:37:26.089Z"
   },
   {
    "duration": 35,
    "start_time": "2024-09-12T04:37:26.131Z"
   },
   {
    "duration": 11,
    "start_time": "2024-09-12T04:37:26.168Z"
   },
   {
    "duration": 21,
    "start_time": "2024-09-12T04:37:26.180Z"
   },
   {
    "duration": 30,
    "start_time": "2024-09-12T04:37:26.202Z"
   },
   {
    "duration": 24,
    "start_time": "2024-09-12T04:37:26.233Z"
   },
   {
    "duration": 16,
    "start_time": "2024-09-12T04:37:26.258Z"
   },
   {
    "duration": 19,
    "start_time": "2024-09-12T04:37:26.275Z"
   },
   {
    "duration": 45,
    "start_time": "2024-09-12T04:37:26.296Z"
   },
   {
    "duration": 29,
    "start_time": "2024-09-12T04:37:26.342Z"
   },
   {
    "duration": 28,
    "start_time": "2024-09-12T04:37:26.372Z"
   },
   {
    "duration": 118,
    "start_time": "2024-09-12T04:37:29.351Z"
   },
   {
    "duration": 393,
    "start_time": "2024-09-12T04:38:02.328Z"
   },
   {
    "duration": 44,
    "start_time": "2024-09-12T04:40:13.817Z"
   },
   {
    "duration": 329,
    "start_time": "2024-09-12T04:40:21.530Z"
   },
   {
    "duration": 239,
    "start_time": "2024-09-12T04:40:50.334Z"
   },
   {
    "duration": 249,
    "start_time": "2024-09-12T04:41:49.656Z"
   },
   {
    "duration": 124,
    "start_time": "2024-09-12T04:53:44.375Z"
   },
   {
    "duration": 22,
    "start_time": "2024-09-12T04:54:04.006Z"
   },
   {
    "duration": 32,
    "start_time": "2024-09-12T04:54:15.433Z"
   },
   {
    "duration": 64,
    "start_time": "2024-09-12T04:54:22.644Z"
   },
   {
    "duration": 104,
    "start_time": "2024-09-12T04:54:29.680Z"
   },
   {
    "duration": 212,
    "start_time": "2024-09-12T04:54:47.607Z"
   },
   {
    "duration": 6,
    "start_time": "2024-09-12T04:59:53.490Z"
   },
   {
    "duration": 5,
    "start_time": "2024-09-12T05:00:08.035Z"
   },
   {
    "duration": 5,
    "start_time": "2024-09-12T05:00:38.639Z"
   },
   {
    "duration": 137,
    "start_time": "2024-09-12T05:00:47.038Z"
   },
   {
    "duration": 6,
    "start_time": "2024-09-12T05:06:55.348Z"
   },
   {
    "duration": 331,
    "start_time": "2024-09-12T05:07:22.343Z"
   },
   {
    "duration": 7,
    "start_time": "2024-09-12T05:07:32.534Z"
   },
   {
    "duration": 4,
    "start_time": "2024-09-12T05:07:58.172Z"
   },
   {
    "duration": 52,
    "start_time": "2024-09-12T05:08:12.743Z"
   },
   {
    "duration": 4,
    "start_time": "2024-09-12T05:08:17.501Z"
   },
   {
    "duration": 4,
    "start_time": "2024-09-12T05:12:12.946Z"
   },
   {
    "duration": 3889,
    "start_time": "2024-09-12T05:12:17.229Z"
   },
   {
    "duration": 226,
    "start_time": "2024-09-12T05:13:05.877Z"
   },
   {
    "duration": 449,
    "start_time": "2024-09-12T05:23:16.626Z"
   },
   {
    "duration": 118,
    "start_time": "2024-09-12T05:24:07.321Z"
   },
   {
    "duration": 133,
    "start_time": "2024-09-12T05:25:28.854Z"
   },
   {
    "duration": 14,
    "start_time": "2024-09-12T05:26:24.347Z"
   },
   {
    "duration": 200,
    "start_time": "2024-09-12T05:26:31.331Z"
   },
   {
    "duration": 200,
    "start_time": "2024-09-12T05:27:00.202Z"
   },
   {
    "duration": 6,
    "start_time": "2024-09-12T05:27:33.521Z"
   },
   {
    "duration": 462,
    "start_time": "2024-09-12T05:27:36.972Z"
   },
   {
    "duration": 120,
    "start_time": "2024-09-12T05:27:47.804Z"
   },
   {
    "duration": 188,
    "start_time": "2024-09-12T05:28:00.047Z"
   },
   {
    "duration": 120,
    "start_time": "2024-09-12T05:28:09.899Z"
   },
   {
    "duration": 118,
    "start_time": "2024-09-12T05:45:24.311Z"
   },
   {
    "duration": 499,
    "start_time": "2024-09-12T05:59:45.946Z"
   },
   {
    "duration": 218,
    "start_time": "2024-09-12T06:00:07.470Z"
   },
   {
    "duration": 497,
    "start_time": "2024-09-12T06:00:12.376Z"
   },
   {
    "duration": 15,
    "start_time": "2024-09-12T06:01:05.600Z"
   },
   {
    "duration": 135,
    "start_time": "2024-09-12T06:01:08.758Z"
   },
   {
    "duration": 121,
    "start_time": "2024-09-12T06:01:33.560Z"
   },
   {
    "duration": 126,
    "start_time": "2024-09-12T06:01:43.931Z"
   },
   {
    "duration": 123,
    "start_time": "2024-09-12T06:02:07.635Z"
   },
   {
    "duration": 121,
    "start_time": "2024-09-12T06:02:17.120Z"
   },
   {
    "duration": 112,
    "start_time": "2024-09-12T06:02:32.772Z"
   },
   {
    "duration": 311,
    "start_time": "2024-09-12T06:02:52.702Z"
   },
   {
    "duration": 113,
    "start_time": "2024-09-12T06:03:06.242Z"
   },
   {
    "duration": 18,
    "start_time": "2024-09-12T06:03:42.012Z"
   },
   {
    "duration": 794,
    "start_time": "2024-09-12T06:04:08.232Z"
   },
   {
    "duration": 68,
    "start_time": "2024-09-12T06:04:09.028Z"
   },
   {
    "duration": 54,
    "start_time": "2024-09-12T06:04:09.098Z"
   },
   {
    "duration": 34,
    "start_time": "2024-09-12T06:04:09.154Z"
   },
   {
    "duration": 6,
    "start_time": "2024-09-12T06:04:09.189Z"
   },
   {
    "duration": 6,
    "start_time": "2024-09-12T06:04:09.197Z"
   },
   {
    "duration": 9,
    "start_time": "2024-09-12T06:04:09.204Z"
   },
   {
    "duration": 26,
    "start_time": "2024-09-12T06:04:09.214Z"
   },
   {
    "duration": 5,
    "start_time": "2024-09-12T06:04:09.241Z"
   },
   {
    "duration": 4,
    "start_time": "2024-09-12T06:04:09.250Z"
   },
   {
    "duration": 8,
    "start_time": "2024-09-12T06:04:09.256Z"
   },
   {
    "duration": 8,
    "start_time": "2024-09-12T06:04:09.265Z"
   },
   {
    "duration": 5,
    "start_time": "2024-09-12T06:04:09.275Z"
   },
   {
    "duration": 5,
    "start_time": "2024-09-12T06:04:09.281Z"
   },
   {
    "duration": 45,
    "start_time": "2024-09-12T06:04:09.288Z"
   },
   {
    "duration": 4,
    "start_time": "2024-09-12T06:04:09.335Z"
   },
   {
    "duration": 11,
    "start_time": "2024-09-12T06:04:09.341Z"
   },
   {
    "duration": 15,
    "start_time": "2024-09-12T06:04:09.353Z"
   },
   {
    "duration": 10,
    "start_time": "2024-09-12T06:04:09.370Z"
   },
   {
    "duration": 57,
    "start_time": "2024-09-12T06:04:09.382Z"
   },
   {
    "duration": 12,
    "start_time": "2024-09-12T06:04:09.441Z"
   },
   {
    "duration": 17,
    "start_time": "2024-09-12T06:04:09.455Z"
   },
   {
    "duration": 12,
    "start_time": "2024-09-12T06:04:09.473Z"
   },
   {
    "duration": 12,
    "start_time": "2024-09-12T06:04:09.487Z"
   },
   {
    "duration": 36,
    "start_time": "2024-09-12T06:04:09.501Z"
   },
   {
    "duration": 17,
    "start_time": "2024-09-12T06:04:09.538Z"
   },
   {
    "duration": 9,
    "start_time": "2024-09-12T06:04:09.557Z"
   },
   {
    "duration": 10,
    "start_time": "2024-09-12T06:04:09.570Z"
   },
   {
    "duration": 13,
    "start_time": "2024-09-12T06:04:09.582Z"
   },
   {
    "duration": 36,
    "start_time": "2024-09-12T06:04:09.597Z"
   },
   {
    "duration": 37,
    "start_time": "2024-09-12T06:04:09.635Z"
   },
   {
    "duration": 12,
    "start_time": "2024-09-12T06:04:09.673Z"
   },
   {
    "duration": 46,
    "start_time": "2024-09-12T06:04:09.686Z"
   },
   {
    "duration": 7,
    "start_time": "2024-09-12T06:04:09.734Z"
   },
   {
    "duration": 24,
    "start_time": "2024-09-12T06:04:09.743Z"
   },
   {
    "duration": 16,
    "start_time": "2024-09-12T06:04:09.768Z"
   },
   {
    "duration": 18,
    "start_time": "2024-09-12T06:04:09.785Z"
   },
   {
    "duration": 22,
    "start_time": "2024-09-12T06:04:09.831Z"
   },
   {
    "duration": 28,
    "start_time": "2024-09-12T06:04:09.855Z"
   },
   {
    "duration": 27,
    "start_time": "2024-09-12T06:04:09.885Z"
   },
   {
    "duration": 225,
    "start_time": "2024-09-12T06:04:09.931Z"
   },
   {
    "duration": 129,
    "start_time": "2024-09-12T06:04:12.993Z"
   },
   {
    "duration": 16,
    "start_time": "2024-09-12T06:05:46.980Z"
   },
   {
    "duration": 16,
    "start_time": "2024-09-12T06:05:52.676Z"
   },
   {
    "duration": 17,
    "start_time": "2024-09-12T06:05:56.325Z"
   },
   {
    "duration": 767,
    "start_time": "2024-09-12T06:06:13.766Z"
   },
   {
    "duration": 68,
    "start_time": "2024-09-12T06:06:14.535Z"
   },
   {
    "duration": 61,
    "start_time": "2024-09-12T06:06:14.604Z"
   },
   {
    "duration": 36,
    "start_time": "2024-09-12T06:06:14.668Z"
   },
   {
    "duration": 5,
    "start_time": "2024-09-12T06:06:14.705Z"
   },
   {
    "duration": 7,
    "start_time": "2024-09-12T06:06:14.711Z"
   },
   {
    "duration": 19,
    "start_time": "2024-09-12T06:06:14.719Z"
   },
   {
    "duration": 9,
    "start_time": "2024-09-12T06:06:14.740Z"
   },
   {
    "duration": 5,
    "start_time": "2024-09-12T06:06:14.752Z"
   },
   {
    "duration": 4,
    "start_time": "2024-09-12T06:06:14.761Z"
   },
   {
    "duration": 8,
    "start_time": "2024-09-12T06:06:14.766Z"
   },
   {
    "duration": 8,
    "start_time": "2024-09-12T06:06:14.776Z"
   },
   {
    "duration": 5,
    "start_time": "2024-09-12T06:06:14.786Z"
   },
   {
    "duration": 7,
    "start_time": "2024-09-12T06:06:14.831Z"
   },
   {
    "duration": 4,
    "start_time": "2024-09-12T06:06:14.839Z"
   },
   {
    "duration": 5,
    "start_time": "2024-09-12T06:06:14.844Z"
   },
   {
    "duration": 9,
    "start_time": "2024-09-12T06:06:14.850Z"
   },
   {
    "duration": 15,
    "start_time": "2024-09-12T06:06:14.860Z"
   },
   {
    "duration": 8,
    "start_time": "2024-09-12T06:06:14.877Z"
   },
   {
    "duration": 68,
    "start_time": "2024-09-12T06:06:14.887Z"
   },
   {
    "duration": 12,
    "start_time": "2024-09-12T06:06:14.957Z"
   },
   {
    "duration": 17,
    "start_time": "2024-09-12T06:06:14.971Z"
   },
   {
    "duration": 12,
    "start_time": "2024-09-12T06:06:14.990Z"
   },
   {
    "duration": 32,
    "start_time": "2024-09-12T06:06:15.003Z"
   },
   {
    "duration": 7,
    "start_time": "2024-09-12T06:06:15.037Z"
   },
   {
    "duration": 15,
    "start_time": "2024-09-12T06:06:15.045Z"
   },
   {
    "duration": 9,
    "start_time": "2024-09-12T06:06:15.061Z"
   },
   {
    "duration": 10,
    "start_time": "2024-09-12T06:06:15.074Z"
   },
   {
    "duration": 15,
    "start_time": "2024-09-12T06:06:15.085Z"
   },
   {
    "duration": 8,
    "start_time": "2024-09-12T06:06:15.132Z"
   },
   {
    "duration": 35,
    "start_time": "2024-09-12T06:06:15.142Z"
   },
   {
    "duration": 10,
    "start_time": "2024-09-12T06:06:15.179Z"
   },
   {
    "duration": 45,
    "start_time": "2024-09-12T06:06:15.191Z"
   },
   {
    "duration": 6,
    "start_time": "2024-09-12T06:06:15.238Z"
   },
   {
    "duration": 24,
    "start_time": "2024-09-12T06:06:15.246Z"
   },
   {
    "duration": 16,
    "start_time": "2024-09-12T06:06:15.272Z"
   },
   {
    "duration": 42,
    "start_time": "2024-09-12T06:06:15.290Z"
   },
   {
    "duration": 25,
    "start_time": "2024-09-12T06:06:15.334Z"
   },
   {
    "duration": 33,
    "start_time": "2024-09-12T06:06:15.361Z"
   },
   {
    "duration": 44,
    "start_time": "2024-09-12T06:06:15.395Z"
   },
   {
    "duration": 220,
    "start_time": "2024-09-12T06:06:15.441Z"
   },
   {
    "duration": 128,
    "start_time": "2024-09-12T06:06:18.748Z"
   },
   {
    "duration": 205,
    "start_time": "2024-09-12T06:06:41.882Z"
   },
   {
    "duration": 188,
    "start_time": "2024-09-12T06:07:00.653Z"
   },
   {
    "duration": 733,
    "start_time": "2024-09-12T06:11:14.795Z"
   },
   {
    "duration": 134,
    "start_time": "2024-09-12T06:11:33.782Z"
   },
   {
    "duration": 14,
    "start_time": "2024-09-12T06:14:21.792Z"
   },
   {
    "duration": 17,
    "start_time": "2024-09-12T06:14:43.667Z"
   },
   {
    "duration": 17,
    "start_time": "2024-09-12T06:14:56.180Z"
   },
   {
    "duration": 3,
    "start_time": "2024-09-12T06:15:03.077Z"
   },
   {
    "duration": 153,
    "start_time": "2024-09-12T06:15:07.534Z"
   },
   {
    "duration": 602,
    "start_time": "2024-09-12T06:15:44.695Z"
   },
   {
    "duration": 555,
    "start_time": "2024-09-12T06:17:13.864Z"
   },
   {
    "duration": 123,
    "start_time": "2024-09-12T06:17:25.885Z"
   },
   {
    "duration": 129,
    "start_time": "2024-09-12T06:26:02.030Z"
   },
   {
    "duration": 423,
    "start_time": "2024-09-12T06:26:10.208Z"
   },
   {
    "duration": 40,
    "start_time": "2024-09-12T06:26:30.528Z"
   },
   {
    "duration": 98,
    "start_time": "2024-09-12T06:27:05.101Z"
   },
   {
    "duration": 5,
    "start_time": "2024-09-12T06:27:24.714Z"
   },
   {
    "duration": 46,
    "start_time": "2024-09-12T06:27:27.708Z"
   },
   {
    "duration": 132,
    "start_time": "2024-09-12T06:27:32.408Z"
   },
   {
    "duration": 26,
    "start_time": "2024-09-12T06:27:52.856Z"
   },
   {
    "duration": 27,
    "start_time": "2024-09-12T06:28:18.400Z"
   },
   {
    "duration": 134,
    "start_time": "2024-09-12T06:28:23.056Z"
   },
   {
    "duration": 123,
    "start_time": "2024-09-12T06:28:27.233Z"
   },
   {
    "duration": 135,
    "start_time": "2024-09-12T06:29:04.764Z"
   },
   {
    "duration": 126,
    "start_time": "2024-09-12T06:29:15.715Z"
   },
   {
    "duration": 669,
    "start_time": "2024-09-12T07:22:42.244Z"
   },
   {
    "duration": 614,
    "start_time": "2024-09-12T07:25:57.396Z"
   },
   {
    "duration": 4222,
    "start_time": "2024-09-12T07:26:14.106Z"
   },
   {
    "duration": 472,
    "start_time": "2024-09-12T07:26:28.048Z"
   },
   {
    "duration": 719,
    "start_time": "2024-09-12T07:27:11.584Z"
   },
   {
    "duration": 454,
    "start_time": "2024-09-12T07:27:21.457Z"
   },
   {
    "duration": 437,
    "start_time": "2024-09-12T07:27:28.180Z"
   },
   {
    "duration": 3,
    "start_time": "2024-09-12T08:03:33.388Z"
   },
   {
    "duration": 4,
    "start_time": "2024-09-12T08:03:41.831Z"
   },
   {
    "duration": 4,
    "start_time": "2024-09-12T08:05:35.906Z"
   },
   {
    "duration": 4,
    "start_time": "2024-09-12T08:05:52.682Z"
   },
   {
    "duration": 4,
    "start_time": "2024-09-12T08:06:40.099Z"
   },
   {
    "duration": 4,
    "start_time": "2024-09-12T08:06:44.786Z"
   },
   {
    "duration": 5,
    "start_time": "2024-09-12T08:07:01.358Z"
   },
   {
    "duration": 204,
    "start_time": "2024-09-12T08:07:48.756Z"
   },
   {
    "duration": 5,
    "start_time": "2024-09-12T08:07:56.432Z"
   },
   {
    "duration": 2517,
    "start_time": "2024-09-12T22:45:06.192Z"
   },
   {
    "duration": 109,
    "start_time": "2024-09-12T22:45:08.712Z"
   },
   {
    "duration": 89,
    "start_time": "2024-09-12T22:45:08.825Z"
   },
   {
    "duration": 63,
    "start_time": "2024-09-12T22:45:08.916Z"
   },
   {
    "duration": 9,
    "start_time": "2024-09-12T22:45:08.981Z"
   },
   {
    "duration": 9,
    "start_time": "2024-09-12T22:45:08.991Z"
   },
   {
    "duration": 10,
    "start_time": "2024-09-12T22:45:09.002Z"
   },
   {
    "duration": 11,
    "start_time": "2024-09-12T22:45:09.014Z"
   },
   {
    "duration": 5,
    "start_time": "2024-09-12T22:45:09.026Z"
   },
   {
    "duration": 9,
    "start_time": "2024-09-12T22:45:09.035Z"
   },
   {
    "duration": 8,
    "start_time": "2024-09-12T22:45:09.046Z"
   },
   {
    "duration": 9,
    "start_time": "2024-09-12T22:45:09.056Z"
   },
   {
    "duration": 6,
    "start_time": "2024-09-12T22:45:09.066Z"
   },
   {
    "duration": 5,
    "start_time": "2024-09-12T22:45:09.074Z"
   },
   {
    "duration": 4,
    "start_time": "2024-09-12T22:45:09.080Z"
   },
   {
    "duration": 4,
    "start_time": "2024-09-12T22:45:09.086Z"
   },
   {
    "duration": 53,
    "start_time": "2024-09-12T22:45:09.092Z"
   },
   {
    "duration": 17,
    "start_time": "2024-09-12T22:45:09.147Z"
   },
   {
    "duration": 11,
    "start_time": "2024-09-12T22:45:09.165Z"
   },
   {
    "duration": 35,
    "start_time": "2024-09-12T22:45:09.178Z"
   },
   {
    "duration": 13,
    "start_time": "2024-09-12T22:45:09.242Z"
   },
   {
    "duration": 19,
    "start_time": "2024-09-12T22:45:09.257Z"
   },
   {
    "duration": 11,
    "start_time": "2024-09-12T22:45:09.278Z"
   },
   {
    "duration": 14,
    "start_time": "2024-09-12T22:45:09.291Z"
   },
   {
    "duration": 37,
    "start_time": "2024-09-12T22:45:09.307Z"
   },
   {
    "duration": 18,
    "start_time": "2024-09-12T22:45:09.346Z"
   },
   {
    "duration": 9,
    "start_time": "2024-09-12T22:45:09.365Z"
   },
   {
    "duration": 11,
    "start_time": "2024-09-12T22:45:09.378Z"
   },
   {
    "duration": 14,
    "start_time": "2024-09-12T22:45:09.391Z"
   },
   {
    "duration": 43,
    "start_time": "2024-09-12T22:45:09.407Z"
   },
   {
    "duration": 41,
    "start_time": "2024-09-12T22:45:09.452Z"
   },
   {
    "duration": 11,
    "start_time": "2024-09-12T22:45:09.495Z"
   },
   {
    "duration": 45,
    "start_time": "2024-09-12T22:45:09.510Z"
   },
   {
    "duration": 8,
    "start_time": "2024-09-12T22:45:09.556Z"
   },
   {
    "duration": 25,
    "start_time": "2024-09-12T22:45:09.566Z"
   },
   {
    "duration": 17,
    "start_time": "2024-09-12T22:45:09.594Z"
   },
   {
    "duration": 48,
    "start_time": "2024-09-12T22:45:09.613Z"
   },
   {
    "duration": 23,
    "start_time": "2024-09-12T22:45:09.663Z"
   },
   {
    "duration": 30,
    "start_time": "2024-09-12T22:45:09.687Z"
   },
   {
    "duration": 30,
    "start_time": "2024-09-12T22:45:09.744Z"
   },
   {
    "duration": 248,
    "start_time": "2024-09-12T22:45:09.775Z"
   },
   {
    "duration": 552,
    "start_time": "2024-09-12T22:45:10.025Z"
   },
   {
    "duration": 6,
    "start_time": "2024-09-12T22:45:10.579Z"
   },
   {
    "duration": 2,
    "start_time": "2024-09-12T22:45:10.587Z"
   },
   {
    "duration": 2,
    "start_time": "2024-09-12T22:45:10.591Z"
   },
   {
    "duration": 2,
    "start_time": "2024-09-12T22:45:10.595Z"
   },
   {
    "duration": 2,
    "start_time": "2024-09-12T22:45:10.599Z"
   },
   {
    "duration": 2,
    "start_time": "2024-09-12T22:45:10.603Z"
   },
   {
    "duration": 206,
    "start_time": "2024-09-12T23:05:00.824Z"
   },
   {
    "duration": 196,
    "start_time": "2024-09-12T23:05:28.216Z"
   },
   {
    "duration": 189,
    "start_time": "2024-09-12T23:05:55.666Z"
   },
   {
    "duration": 228,
    "start_time": "2024-09-12T23:07:32.442Z"
   },
   {
    "duration": 192,
    "start_time": "2024-09-12T23:07:37.700Z"
   },
   {
    "duration": 204,
    "start_time": "2024-09-12T23:08:06.551Z"
   },
   {
    "duration": 3,
    "start_time": "2024-09-12T23:08:25.885Z"
   },
   {
    "duration": 73,
    "start_time": "2024-09-12T23:08:25.891Z"
   },
   {
    "duration": 58,
    "start_time": "2024-09-12T23:08:25.965Z"
   },
   {
    "duration": 44,
    "start_time": "2024-09-12T23:08:26.025Z"
   },
   {
    "duration": 7,
    "start_time": "2024-09-12T23:08:26.072Z"
   },
   {
    "duration": 7,
    "start_time": "2024-09-12T23:08:26.080Z"
   },
   {
    "duration": 12,
    "start_time": "2024-09-12T23:08:26.088Z"
   },
   {
    "duration": 10,
    "start_time": "2024-09-12T23:08:26.104Z"
   },
   {
    "duration": 27,
    "start_time": "2024-09-12T23:08:26.116Z"
   },
   {
    "duration": 6,
    "start_time": "2024-09-12T23:08:26.146Z"
   },
   {
    "duration": 9,
    "start_time": "2024-09-12T23:08:26.154Z"
   },
   {
    "duration": 9,
    "start_time": "2024-09-12T23:08:26.165Z"
   },
   {
    "duration": 5,
    "start_time": "2024-09-12T23:08:26.178Z"
   },
   {
    "duration": 5,
    "start_time": "2024-09-12T23:08:26.185Z"
   },
   {
    "duration": 3,
    "start_time": "2024-09-12T23:08:26.192Z"
   },
   {
    "duration": 47,
    "start_time": "2024-09-12T23:08:26.197Z"
   },
   {
    "duration": 11,
    "start_time": "2024-09-12T23:08:26.246Z"
   },
   {
    "duration": 19,
    "start_time": "2024-09-12T23:08:26.258Z"
   },
   {
    "duration": 10,
    "start_time": "2024-09-12T23:08:26.280Z"
   },
   {
    "duration": 69,
    "start_time": "2024-09-12T23:08:26.293Z"
   },
   {
    "duration": 13,
    "start_time": "2024-09-12T23:08:26.364Z"
   },
   {
    "duration": 17,
    "start_time": "2024-09-12T23:08:26.379Z"
   },
   {
    "duration": 11,
    "start_time": "2024-09-12T23:08:26.398Z"
   },
   {
    "duration": 38,
    "start_time": "2024-09-12T23:08:26.411Z"
   },
   {
    "duration": 8,
    "start_time": "2024-09-12T23:08:26.450Z"
   },
   {
    "duration": 16,
    "start_time": "2024-09-12T23:08:26.460Z"
   },
   {
    "duration": 10,
    "start_time": "2024-09-12T23:08:26.479Z"
   },
   {
    "duration": 11,
    "start_time": "2024-09-12T23:08:26.491Z"
   },
   {
    "duration": 47,
    "start_time": "2024-09-12T23:08:26.506Z"
   },
   {
    "duration": 9,
    "start_time": "2024-09-12T23:08:26.555Z"
   },
   {
    "duration": 37,
    "start_time": "2024-09-12T23:08:26.566Z"
   },
   {
    "duration": 13,
    "start_time": "2024-09-12T23:08:26.605Z"
   },
   {
    "duration": 42,
    "start_time": "2024-09-12T23:08:26.620Z"
   },
   {
    "duration": 7,
    "start_time": "2024-09-12T23:08:26.664Z"
   },
   {
    "duration": 22,
    "start_time": "2024-09-12T23:08:26.673Z"
   },
   {
    "duration": 16,
    "start_time": "2024-09-12T23:08:26.697Z"
   },
   {
    "duration": 20,
    "start_time": "2024-09-12T23:08:26.745Z"
   },
   {
    "duration": 114,
    "start_time": "2024-09-12T23:08:26.767Z"
   },
   {
    "duration": 30,
    "start_time": "2024-09-12T23:08:26.883Z"
   },
   {
    "duration": 52,
    "start_time": "2024-09-12T23:08:26.914Z"
   },
   {
    "duration": 32,
    "start_time": "2024-09-12T23:08:39.536Z"
   },
   {
    "duration": 21,
    "start_time": "2024-09-12T23:10:01.659Z"
   },
   {
    "duration": 13,
    "start_time": "2024-09-12T23:10:11.878Z"
   },
   {
    "duration": 4,
    "start_time": "2024-09-12T23:10:14.673Z"
   },
   {
    "duration": 7,
    "start_time": "2024-09-12T23:10:29.143Z"
   },
   {
    "duration": 157,
    "start_time": "2024-09-12T23:10:34.382Z"
   },
   {
    "duration": 158,
    "start_time": "2024-09-12T23:10:57.386Z"
   },
   {
    "duration": 480,
    "start_time": "2024-09-12T23:11:16.763Z"
   },
   {
    "duration": 121,
    "start_time": "2024-09-12T23:11:23.904Z"
   },
   {
    "duration": 477,
    "start_time": "2024-09-12T23:14:44.697Z"
   },
   {
    "duration": 624,
    "start_time": "2024-09-12T23:17:19.540Z"
   },
   {
    "duration": 127,
    "start_time": "2024-09-12T23:17:27.080Z"
   },
   {
    "duration": 132,
    "start_time": "2024-09-12T23:17:59.635Z"
   },
   {
    "duration": 130,
    "start_time": "2024-09-12T23:18:11.996Z"
   },
   {
    "duration": 158,
    "start_time": "2024-09-12T23:18:29.172Z"
   },
   {
    "duration": 137,
    "start_time": "2024-09-12T23:19:08.432Z"
   },
   {
    "duration": 181,
    "start_time": "2024-09-12T23:19:29.146Z"
   },
   {
    "duration": 160,
    "start_time": "2024-09-12T23:19:37.676Z"
   },
   {
    "duration": 294,
    "start_time": "2024-09-12T23:20:10.003Z"
   },
   {
    "duration": 167,
    "start_time": "2024-09-12T23:20:20.269Z"
   },
   {
    "duration": 163,
    "start_time": "2024-09-12T23:20:31.474Z"
   },
   {
    "duration": 277,
    "start_time": "2024-09-12T23:22:45.273Z"
   },
   {
    "duration": 44,
    "start_time": "2024-09-12T23:22:51.858Z"
   },
   {
    "duration": 8,
    "start_time": "2024-09-12T23:23:17.734Z"
   },
   {
    "duration": 8,
    "start_time": "2024-09-12T23:24:31.105Z"
   },
   {
    "duration": 10,
    "start_time": "2024-09-12T23:25:11.522Z"
   },
   {
    "duration": 8,
    "start_time": "2024-09-12T23:27:23.336Z"
   },
   {
    "duration": 1234,
    "start_time": "2024-09-12T23:29:07.422Z"
   },
   {
    "duration": 106,
    "start_time": "2024-09-12T23:29:33.824Z"
   },
   {
    "duration": 138,
    "start_time": "2024-09-12T23:30:14.409Z"
   },
   {
    "duration": 108,
    "start_time": "2024-09-12T23:30:18.687Z"
   },
   {
    "duration": 108,
    "start_time": "2024-09-12T23:33:06.280Z"
   },
   {
    "duration": 158,
    "start_time": "2024-09-12T23:34:28.871Z"
   },
   {
    "duration": 121,
    "start_time": "2024-09-12T23:35:20.368Z"
   },
   {
    "duration": 124,
    "start_time": "2024-09-12T23:35:31.443Z"
   },
   {
    "duration": 142,
    "start_time": "2024-09-12T23:38:29.317Z"
   },
   {
    "duration": 116,
    "start_time": "2024-09-12T23:38:35.175Z"
   },
   {
    "duration": 401,
    "start_time": "2024-09-12T23:45:37.862Z"
   },
   {
    "duration": 43,
    "start_time": "2024-09-12T23:46:02.679Z"
   },
   {
    "duration": 4,
    "start_time": "2024-09-12T23:46:09.671Z"
   },
   {
    "duration": 7,
    "start_time": "2024-09-12T23:46:16.939Z"
   },
   {
    "duration": 6,
    "start_time": "2024-09-12T23:52:39.965Z"
   },
   {
    "duration": 8,
    "start_time": "2024-09-12T23:54:42.540Z"
   },
   {
    "duration": 6,
    "start_time": "2024-09-12T23:54:52.136Z"
   },
   {
    "duration": 8,
    "start_time": "2024-09-12T23:59:42.467Z"
   },
   {
    "duration": 5,
    "start_time": "2024-09-13T00:00:58.339Z"
   },
   {
    "duration": 9,
    "start_time": "2024-09-13T00:01:19.185Z"
   },
   {
    "duration": 9,
    "start_time": "2024-09-13T00:05:29.751Z"
   },
   {
    "duration": 162,
    "start_time": "2024-09-13T00:06:35.490Z"
   },
   {
    "duration": 10,
    "start_time": "2024-09-13T00:09:31.877Z"
   },
   {
    "duration": 4,
    "start_time": "2024-09-13T00:11:22.102Z"
   },
   {
    "duration": 5,
    "start_time": "2024-09-13T00:11:53.219Z"
   },
   {
    "duration": 174,
    "start_time": "2024-09-13T00:12:37.316Z"
   },
   {
    "duration": 174,
    "start_time": "2024-09-13T00:13:21.829Z"
   },
   {
    "duration": 168,
    "start_time": "2024-09-13T00:13:27.110Z"
   },
   {
    "duration": 167,
    "start_time": "2024-09-13T00:13:36.449Z"
   },
   {
    "duration": 9,
    "start_time": "2024-09-13T00:14:36.777Z"
   },
   {
    "duration": 5,
    "start_time": "2024-09-13T00:17:36.167Z"
   },
   {
    "duration": 6,
    "start_time": "2024-09-13T00:18:18.090Z"
   },
   {
    "duration": 7,
    "start_time": "2024-09-13T00:18:38.580Z"
   },
   {
    "duration": 8,
    "start_time": "2024-09-13T00:18:47.619Z"
   },
   {
    "duration": 7,
    "start_time": "2024-09-13T00:18:55.809Z"
   },
   {
    "duration": 7,
    "start_time": "2024-09-13T00:19:15.046Z"
   },
   {
    "duration": 7,
    "start_time": "2024-09-13T00:19:41.792Z"
   },
   {
    "duration": 171,
    "start_time": "2024-09-13T00:21:58.266Z"
   },
   {
    "duration": 169,
    "start_time": "2024-09-13T00:22:34.802Z"
   },
   {
    "duration": 166,
    "start_time": "2024-09-13T00:22:46.292Z"
   },
   {
    "duration": 6,
    "start_time": "2024-09-13T00:48:11.281Z"
   },
   {
    "duration": 15,
    "start_time": "2024-09-13T00:48:18.148Z"
   },
   {
    "duration": 5,
    "start_time": "2024-09-13T00:48:26.018Z"
   },
   {
    "duration": 6,
    "start_time": "2024-09-13T00:48:40.421Z"
   },
   {
    "duration": 4,
    "start_time": "2024-09-13T00:48:58.437Z"
   },
   {
    "duration": 5,
    "start_time": "2024-09-13T00:49:03.533Z"
   },
   {
    "duration": 4,
    "start_time": "2024-09-13T00:49:18.485Z"
   },
   {
    "duration": 12,
    "start_time": "2024-09-13T00:51:28.278Z"
   },
   {
    "duration": 5,
    "start_time": "2024-09-13T00:53:44.318Z"
   },
   {
    "duration": 5,
    "start_time": "2024-09-13T00:57:25.207Z"
   },
   {
    "duration": 4,
    "start_time": "2024-09-13T00:58:25.329Z"
   },
   {
    "duration": 5,
    "start_time": "2024-09-13T01:16:48.486Z"
   },
   {
    "duration": 4,
    "start_time": "2024-09-13T01:16:53.433Z"
   },
   {
    "duration": 5,
    "start_time": "2024-09-13T01:17:12.530Z"
   },
   {
    "duration": 28,
    "start_time": "2024-09-13T01:18:52.617Z"
   },
   {
    "duration": 5,
    "start_time": "2024-09-13T01:20:58.852Z"
   },
   {
    "duration": 8,
    "start_time": "2024-09-13T01:21:39.065Z"
   },
   {
    "duration": 8,
    "start_time": "2024-09-13T01:22:01.976Z"
   },
   {
    "duration": 8,
    "start_time": "2024-09-13T01:28:00.038Z"
   },
   {
    "duration": 8,
    "start_time": "2024-09-13T01:28:18.880Z"
   },
   {
    "duration": 9,
    "start_time": "2024-09-13T05:59:44.970Z"
   },
   {
    "duration": 5,
    "start_time": "2024-09-13T06:00:00.647Z"
   },
   {
    "duration": 164,
    "start_time": "2024-09-13T06:00:24.639Z"
   },
   {
    "duration": 170,
    "start_time": "2024-09-13T06:01:09.668Z"
   },
   {
    "duration": 2496,
    "start_time": "2024-09-13T06:01:21.050Z"
   },
   {
    "duration": 110,
    "start_time": "2024-09-13T06:01:23.548Z"
   },
   {
    "duration": 92,
    "start_time": "2024-09-13T06:01:23.660Z"
   },
   {
    "duration": 56,
    "start_time": "2024-09-13T06:01:23.755Z"
   },
   {
    "duration": 7,
    "start_time": "2024-09-13T06:01:23.813Z"
   },
   {
    "duration": 7,
    "start_time": "2024-09-13T06:01:23.822Z"
   },
   {
    "duration": 9,
    "start_time": "2024-09-13T06:01:23.831Z"
   },
   {
    "duration": 11,
    "start_time": "2024-09-13T06:01:23.842Z"
   },
   {
    "duration": 5,
    "start_time": "2024-09-13T06:01:23.854Z"
   },
   {
    "duration": 22,
    "start_time": "2024-09-13T06:01:23.861Z"
   },
   {
    "duration": 8,
    "start_time": "2024-09-13T06:01:23.885Z"
   },
   {
    "duration": 23,
    "start_time": "2024-09-13T06:01:23.894Z"
   },
   {
    "duration": 6,
    "start_time": "2024-09-13T06:01:23.918Z"
   },
   {
    "duration": 6,
    "start_time": "2024-09-13T06:01:23.925Z"
   },
   {
    "duration": 4,
    "start_time": "2024-09-13T06:01:23.932Z"
   },
   {
    "duration": 4,
    "start_time": "2024-09-13T06:01:23.938Z"
   },
   {
    "duration": 9,
    "start_time": "2024-09-13T06:01:23.944Z"
   },
   {
    "duration": 56,
    "start_time": "2024-09-13T06:01:23.954Z"
   },
   {
    "duration": 9,
    "start_time": "2024-09-13T06:01:24.013Z"
   },
   {
    "duration": 36,
    "start_time": "2024-09-13T06:01:24.024Z"
   },
   {
    "duration": 13,
    "start_time": "2024-09-13T06:01:24.061Z"
   },
   {
    "duration": 43,
    "start_time": "2024-09-13T06:01:24.076Z"
   },
   {
    "duration": 11,
    "start_time": "2024-09-13T06:01:24.121Z"
   },
   {
    "duration": 12,
    "start_time": "2024-09-13T06:01:24.133Z"
   },
   {
    "duration": 8,
    "start_time": "2024-09-13T06:01:24.146Z"
   },
   {
    "duration": 17,
    "start_time": "2024-09-13T06:01:24.155Z"
   },
   {
    "duration": 39,
    "start_time": "2024-09-13T06:01:24.174Z"
   },
   {
    "duration": 10,
    "start_time": "2024-09-13T06:01:24.216Z"
   },
   {
    "duration": 15,
    "start_time": "2024-09-13T06:01:24.228Z"
   },
   {
    "duration": 7,
    "start_time": "2024-09-13T06:01:24.245Z"
   },
   {
    "duration": 67,
    "start_time": "2024-09-13T06:01:24.254Z"
   },
   {
    "duration": 11,
    "start_time": "2024-09-13T06:01:24.323Z"
   },
   {
    "duration": 21,
    "start_time": "2024-09-13T06:01:24.336Z"
   },
   {
    "duration": 7,
    "start_time": "2024-09-13T06:01:24.358Z"
   },
   {
    "duration": 50,
    "start_time": "2024-09-13T06:01:24.367Z"
   },
   {
    "duration": 16,
    "start_time": "2024-09-13T06:01:24.418Z"
   },
   {
    "duration": 18,
    "start_time": "2024-09-13T06:01:24.436Z"
   },
   {
    "duration": 23,
    "start_time": "2024-09-13T06:01:24.456Z"
   },
   {
    "duration": 55,
    "start_time": "2024-09-13T06:01:24.481Z"
   },
   {
    "duration": 27,
    "start_time": "2024-09-13T06:01:24.538Z"
   },
   {
    "duration": 12,
    "start_time": "2024-09-13T06:01:24.567Z"
   },
   {
    "duration": 4,
    "start_time": "2024-09-13T06:01:24.581Z"
   },
   {
    "duration": 182,
    "start_time": "2024-09-13T06:01:24.609Z"
   },
   {
    "duration": 171,
    "start_time": "2024-09-13T06:01:24.793Z"
   },
   {
    "duration": 9,
    "start_time": "2024-09-13T06:01:29.886Z"
   },
   {
    "duration": 10,
    "start_time": "2024-09-13T06:02:59.282Z"
   },
   {
    "duration": 13,
    "start_time": "2024-09-13T06:03:09.753Z"
   },
   {
    "duration": 161,
    "start_time": "2024-09-13T06:05:18.224Z"
   },
   {
    "duration": 111,
    "start_time": "2024-09-13T06:07:09.147Z"
   },
   {
    "duration": 113,
    "start_time": "2024-09-13T06:07:12.429Z"
   },
   {
    "duration": 763,
    "start_time": "2024-09-13T06:10:45.749Z"
   },
   {
    "duration": 71,
    "start_time": "2024-09-13T06:10:46.514Z"
   },
   {
    "duration": 60,
    "start_time": "2024-09-13T06:10:46.587Z"
   },
   {
    "duration": 35,
    "start_time": "2024-09-13T06:10:46.649Z"
   },
   {
    "duration": 5,
    "start_time": "2024-09-13T06:10:46.686Z"
   },
   {
    "duration": 17,
    "start_time": "2024-09-13T06:10:46.693Z"
   },
   {
    "duration": 10,
    "start_time": "2024-09-13T06:10:46.712Z"
   },
   {
    "duration": 10,
    "start_time": "2024-09-13T06:10:46.723Z"
   },
   {
    "duration": 5,
    "start_time": "2024-09-13T06:10:46.735Z"
   },
   {
    "duration": 6,
    "start_time": "2024-09-13T06:10:46.741Z"
   },
   {
    "duration": 9,
    "start_time": "2024-09-13T06:10:46.748Z"
   },
   {
    "duration": 9,
    "start_time": "2024-09-13T06:10:46.758Z"
   },
   {
    "duration": 41,
    "start_time": "2024-09-13T06:10:46.769Z"
   },
   {
    "duration": 5,
    "start_time": "2024-09-13T06:10:46.815Z"
   },
   {
    "duration": 4,
    "start_time": "2024-09-13T06:10:46.821Z"
   },
   {
    "duration": 4,
    "start_time": "2024-09-13T06:10:46.827Z"
   },
   {
    "duration": 9,
    "start_time": "2024-09-13T06:10:46.832Z"
   },
   {
    "duration": 15,
    "start_time": "2024-09-13T06:10:46.843Z"
   },
   {
    "duration": 9,
    "start_time": "2024-09-13T06:10:46.859Z"
   },
   {
    "duration": 68,
    "start_time": "2024-09-13T06:10:46.870Z"
   },
   {
    "duration": 13,
    "start_time": "2024-09-13T06:10:46.940Z"
   },
   {
    "duration": 18,
    "start_time": "2024-09-13T06:10:46.955Z"
   },
   {
    "duration": 37,
    "start_time": "2024-09-13T06:10:46.975Z"
   },
   {
    "duration": 13,
    "start_time": "2024-09-13T06:10:47.015Z"
   },
   {
    "duration": 7,
    "start_time": "2024-09-13T06:10:47.030Z"
   },
   {
    "duration": 16,
    "start_time": "2024-09-13T06:10:47.039Z"
   },
   {
    "duration": 10,
    "start_time": "2024-09-13T06:10:47.056Z"
   },
   {
    "duration": 10,
    "start_time": "2024-09-13T06:10:47.067Z"
   },
   {
    "duration": 13,
    "start_time": "2024-09-13T06:10:47.109Z"
   },
   {
    "duration": 9,
    "start_time": "2024-09-13T06:10:47.124Z"
   },
   {
    "duration": 41,
    "start_time": "2024-09-13T06:10:47.134Z"
   },
   {
    "duration": 33,
    "start_time": "2024-09-13T06:10:47.177Z"
   },
   {
    "duration": 29,
    "start_time": "2024-09-13T06:10:47.212Z"
   },
   {
    "duration": 9,
    "start_time": "2024-09-13T06:10:47.243Z"
   },
   {
    "duration": 33,
    "start_time": "2024-09-13T06:10:47.253Z"
   },
   {
    "duration": 17,
    "start_time": "2024-09-13T06:10:47.310Z"
   },
   {
    "duration": 18,
    "start_time": "2024-09-13T06:10:47.329Z"
   },
   {
    "duration": 25,
    "start_time": "2024-09-13T06:10:47.348Z"
   },
   {
    "duration": 56,
    "start_time": "2024-09-13T06:10:47.374Z"
   },
   {
    "duration": 26,
    "start_time": "2024-09-13T06:10:47.432Z"
   },
   {
    "duration": 12,
    "start_time": "2024-09-13T06:10:47.463Z"
   },
   {
    "duration": 4,
    "start_time": "2024-09-13T06:10:47.476Z"
   },
   {
    "duration": 200,
    "start_time": "2024-09-13T06:10:47.481Z"
   },
   {
    "duration": 178,
    "start_time": "2024-09-13T06:10:47.682Z"
   },
   {
    "duration": 165,
    "start_time": "2024-09-13T06:11:00.072Z"
   },
   {
    "duration": 756,
    "start_time": "2024-09-13T06:11:14.283Z"
   },
   {
    "duration": 71,
    "start_time": "2024-09-13T06:11:15.041Z"
   },
   {
    "duration": 54,
    "start_time": "2024-09-13T06:11:15.114Z"
   },
   {
    "duration": 41,
    "start_time": "2024-09-13T06:11:15.170Z"
   },
   {
    "duration": 6,
    "start_time": "2024-09-13T06:11:15.213Z"
   },
   {
    "duration": 7,
    "start_time": "2024-09-13T06:11:15.220Z"
   },
   {
    "duration": 9,
    "start_time": "2024-09-13T06:11:15.229Z"
   },
   {
    "duration": 11,
    "start_time": "2024-09-13T06:11:15.240Z"
   },
   {
    "duration": 5,
    "start_time": "2024-09-13T06:11:15.254Z"
   },
   {
    "duration": 7,
    "start_time": "2024-09-13T06:11:15.261Z"
   },
   {
    "duration": 44,
    "start_time": "2024-09-13T06:11:15.269Z"
   },
   {
    "duration": 9,
    "start_time": "2024-09-13T06:11:15.315Z"
   },
   {
    "duration": 6,
    "start_time": "2024-09-13T06:11:15.325Z"
   },
   {
    "duration": 6,
    "start_time": "2024-09-13T06:11:15.335Z"
   },
   {
    "duration": 3,
    "start_time": "2024-09-13T06:11:15.343Z"
   },
   {
    "duration": 5,
    "start_time": "2024-09-13T06:11:15.348Z"
   },
   {
    "duration": 9,
    "start_time": "2024-09-13T06:11:15.355Z"
   },
   {
    "duration": 54,
    "start_time": "2024-09-13T06:11:15.368Z"
   },
   {
    "duration": 8,
    "start_time": "2024-09-13T06:11:15.424Z"
   },
   {
    "duration": 32,
    "start_time": "2024-09-13T06:11:15.434Z"
   },
   {
    "duration": 12,
    "start_time": "2024-09-13T06:11:15.468Z"
   },
   {
    "duration": 16,
    "start_time": "2024-09-13T06:11:15.509Z"
   },
   {
    "duration": 12,
    "start_time": "2024-09-13T06:11:15.527Z"
   },
   {
    "duration": 12,
    "start_time": "2024-09-13T06:11:15.540Z"
   },
   {
    "duration": 7,
    "start_time": "2024-09-13T06:11:15.554Z"
   },
   {
    "duration": 16,
    "start_time": "2024-09-13T06:11:15.562Z"
   },
   {
    "duration": 38,
    "start_time": "2024-09-13T06:11:15.579Z"
   },
   {
    "duration": 11,
    "start_time": "2024-09-13T06:11:15.618Z"
   },
   {
    "duration": 14,
    "start_time": "2024-09-13T06:11:15.630Z"
   },
   {
    "duration": 8,
    "start_time": "2024-09-13T06:11:15.646Z"
   },
   {
    "duration": 64,
    "start_time": "2024-09-13T06:11:15.655Z"
   },
   {
    "duration": 11,
    "start_time": "2024-09-13T06:11:15.720Z"
   },
   {
    "duration": 21,
    "start_time": "2024-09-13T06:11:15.732Z"
   },
   {
    "duration": 7,
    "start_time": "2024-09-13T06:11:15.754Z"
   },
   {
    "duration": 49,
    "start_time": "2024-09-13T06:11:15.763Z"
   },
   {
    "duration": 15,
    "start_time": "2024-09-13T06:11:15.814Z"
   },
   {
    "duration": 18,
    "start_time": "2024-09-13T06:11:15.831Z"
   },
   {
    "duration": 22,
    "start_time": "2024-09-13T06:11:15.851Z"
   },
   {
    "duration": 57,
    "start_time": "2024-09-13T06:11:15.874Z"
   },
   {
    "duration": 28,
    "start_time": "2024-09-13T06:11:15.932Z"
   },
   {
    "duration": 12,
    "start_time": "2024-09-13T06:11:15.964Z"
   },
   {
    "duration": 4,
    "start_time": "2024-09-13T06:11:15.977Z"
   },
   {
    "duration": 200,
    "start_time": "2024-09-13T06:11:15.983Z"
   },
   {
    "duration": 176,
    "start_time": "2024-09-13T06:11:16.185Z"
   },
   {
    "duration": 9,
    "start_time": "2024-09-13T06:11:16.363Z"
   },
   {
    "duration": 123,
    "start_time": "2024-09-13T06:11:16.374Z"
   },
   {
    "duration": 223,
    "start_time": "2024-09-13T06:11:16.499Z"
   },
   {
    "duration": 10,
    "start_time": "2024-09-13T06:11:16.724Z"
   },
   {
    "duration": 181,
    "start_time": "2024-09-13T06:11:16.735Z"
   },
   {
    "duration": 8,
    "start_time": "2024-09-13T06:11:16.918Z"
   },
   {
    "duration": 7,
    "start_time": "2024-09-13T06:11:16.928Z"
   },
   {
    "duration": 201,
    "start_time": "2024-09-13T06:11:16.937Z"
   },
   {
    "duration": 4,
    "start_time": "2024-09-13T06:11:17.140Z"
   },
   {
    "duration": 8,
    "start_time": "2024-09-13T06:11:17.146Z"
   },
   {
    "duration": 110,
    "start_time": "2024-09-13T06:12:24.371Z"
   },
   {
    "duration": 9,
    "start_time": "2024-09-13T06:18:16.205Z"
   },
   {
    "duration": 9,
    "start_time": "2024-09-13T06:18:26.893Z"
   },
   {
    "duration": 741,
    "start_time": "2024-09-13T06:18:54.078Z"
   },
   {
    "duration": 68,
    "start_time": "2024-09-13T06:18:54.821Z"
   },
   {
    "duration": 61,
    "start_time": "2024-09-13T06:18:54.891Z"
   },
   {
    "duration": 34,
    "start_time": "2024-09-13T06:18:54.953Z"
   },
   {
    "duration": 5,
    "start_time": "2024-09-13T06:18:54.990Z"
   },
   {
    "duration": 13,
    "start_time": "2024-09-13T06:18:54.996Z"
   },
   {
    "duration": 10,
    "start_time": "2024-09-13T06:18:55.011Z"
   },
   {
    "duration": 10,
    "start_time": "2024-09-13T06:18:55.023Z"
   },
   {
    "duration": 5,
    "start_time": "2024-09-13T06:18:55.035Z"
   },
   {
    "duration": 6,
    "start_time": "2024-09-13T06:18:55.042Z"
   },
   {
    "duration": 9,
    "start_time": "2024-09-13T06:18:55.049Z"
   },
   {
    "duration": 50,
    "start_time": "2024-09-13T06:18:55.060Z"
   },
   {
    "duration": 7,
    "start_time": "2024-09-13T06:18:55.112Z"
   },
   {
    "duration": 5,
    "start_time": "2024-09-13T06:18:55.123Z"
   },
   {
    "duration": 4,
    "start_time": "2024-09-13T06:18:55.129Z"
   },
   {
    "duration": 5,
    "start_time": "2024-09-13T06:18:55.134Z"
   },
   {
    "duration": 9,
    "start_time": "2024-09-13T06:18:55.140Z"
   },
   {
    "duration": 16,
    "start_time": "2024-09-13T06:18:55.151Z"
   },
   {
    "duration": 49,
    "start_time": "2024-09-13T06:18:55.169Z"
   },
   {
    "duration": 36,
    "start_time": "2024-09-13T06:18:55.220Z"
   },
   {
    "duration": 13,
    "start_time": "2024-09-13T06:18:55.258Z"
   },
   {
    "duration": 43,
    "start_time": "2024-09-13T06:18:55.273Z"
   },
   {
    "duration": 12,
    "start_time": "2024-09-13T06:18:55.318Z"
   },
   {
    "duration": 13,
    "start_time": "2024-09-13T06:18:55.331Z"
   },
   {
    "duration": 7,
    "start_time": "2024-09-13T06:18:55.347Z"
   },
   {
    "duration": 20,
    "start_time": "2024-09-13T06:18:55.356Z"
   },
   {
    "duration": 36,
    "start_time": "2024-09-13T06:18:55.377Z"
   },
   {
    "duration": 10,
    "start_time": "2024-09-13T06:18:55.415Z"
   },
   {
    "duration": 15,
    "start_time": "2024-09-13T06:18:55.427Z"
   },
   {
    "duration": 9,
    "start_time": "2024-09-13T06:18:55.443Z"
   },
   {
    "duration": 65,
    "start_time": "2024-09-13T06:18:55.453Z"
   },
   {
    "duration": 11,
    "start_time": "2024-09-13T06:18:55.520Z"
   },
   {
    "duration": 22,
    "start_time": "2024-09-13T06:18:55.532Z"
   },
   {
    "duration": 6,
    "start_time": "2024-09-13T06:18:55.556Z"
   },
   {
    "duration": 48,
    "start_time": "2024-09-13T06:18:55.564Z"
   },
   {
    "duration": 16,
    "start_time": "2024-09-13T06:18:55.614Z"
   },
   {
    "duration": 18,
    "start_time": "2024-09-13T06:18:55.632Z"
   },
   {
    "duration": 22,
    "start_time": "2024-09-13T06:18:55.651Z"
   },
   {
    "duration": 58,
    "start_time": "2024-09-13T06:18:55.675Z"
   },
   {
    "duration": 29,
    "start_time": "2024-09-13T06:18:55.735Z"
   },
   {
    "duration": 12,
    "start_time": "2024-09-13T06:18:55.769Z"
   },
   {
    "duration": 3,
    "start_time": "2024-09-13T06:18:55.783Z"
   },
   {
    "duration": 176,
    "start_time": "2024-09-13T06:18:55.808Z"
   },
   {
    "duration": 168,
    "start_time": "2024-09-13T06:18:55.986Z"
   },
   {
    "duration": 8,
    "start_time": "2024-09-13T06:18:56.156Z"
   },
   {
    "duration": 124,
    "start_time": "2024-09-13T06:18:56.166Z"
   },
   {
    "duration": 226,
    "start_time": "2024-09-13T06:18:56.292Z"
   },
   {
    "duration": 10,
    "start_time": "2024-09-13T06:18:56.519Z"
   },
   {
    "duration": 183,
    "start_time": "2024-09-13T06:18:56.530Z"
   },
   {
    "duration": 9,
    "start_time": "2024-09-13T06:18:56.715Z"
   },
   {
    "duration": 8,
    "start_time": "2024-09-13T06:18:56.727Z"
   },
   {
    "duration": 193,
    "start_time": "2024-09-13T06:18:56.738Z"
   },
   {
    "duration": 4,
    "start_time": "2024-09-13T06:18:56.933Z"
   },
   {
    "duration": 8,
    "start_time": "2024-09-13T06:18:56.939Z"
   },
   {
    "duration": 200,
    "start_time": "2024-09-13T06:20:17.197Z"
   },
   {
    "duration": 4,
    "start_time": "2024-09-13T06:21:24.360Z"
   },
   {
    "duration": 5,
    "start_time": "2024-09-13T06:54:36.832Z"
   },
   {
    "duration": 8,
    "start_time": "2024-09-13T06:54:41.263Z"
   },
   {
    "duration": 8,
    "start_time": "2024-09-13T06:55:13.877Z"
   },
   {
    "duration": 750,
    "start_time": "2024-09-13T06:55:34.971Z"
   },
   {
    "duration": 70,
    "start_time": "2024-09-13T06:55:35.723Z"
   },
   {
    "duration": 63,
    "start_time": "2024-09-13T06:55:35.794Z"
   },
   {
    "duration": 35,
    "start_time": "2024-09-13T06:55:35.858Z"
   },
   {
    "duration": 13,
    "start_time": "2024-09-13T06:55:35.896Z"
   },
   {
    "duration": 6,
    "start_time": "2024-09-13T06:55:35.910Z"
   },
   {
    "duration": 9,
    "start_time": "2024-09-13T06:55:35.918Z"
   },
   {
    "duration": 9,
    "start_time": "2024-09-13T06:55:35.929Z"
   },
   {
    "duration": 4,
    "start_time": "2024-09-13T06:55:35.940Z"
   },
   {
    "duration": 5,
    "start_time": "2024-09-13T06:55:35.946Z"
   },
   {
    "duration": 9,
    "start_time": "2024-09-13T06:55:35.953Z"
   },
   {
    "duration": 46,
    "start_time": "2024-09-13T06:55:35.964Z"
   },
   {
    "duration": 6,
    "start_time": "2024-09-13T06:55:36.012Z"
   },
   {
    "duration": 6,
    "start_time": "2024-09-13T06:55:36.022Z"
   },
   {
    "duration": 4,
    "start_time": "2024-09-13T06:55:36.029Z"
   },
   {
    "duration": 4,
    "start_time": "2024-09-13T06:55:36.035Z"
   },
   {
    "duration": 8,
    "start_time": "2024-09-13T06:55:36.042Z"
   },
   {
    "duration": 15,
    "start_time": "2024-09-13T06:55:36.052Z"
   },
   {
    "duration": 50,
    "start_time": "2024-09-13T06:55:36.068Z"
   },
   {
    "duration": 34,
    "start_time": "2024-09-13T06:55:36.120Z"
   },
   {
    "duration": 13,
    "start_time": "2024-09-13T06:55:36.156Z"
   },
   {
    "duration": 38,
    "start_time": "2024-09-13T06:55:36.171Z"
   },
   {
    "duration": 10,
    "start_time": "2024-09-13T06:55:36.212Z"
   },
   {
    "duration": 11,
    "start_time": "2024-09-13T06:55:36.224Z"
   },
   {
    "duration": 7,
    "start_time": "2024-09-13T06:55:36.237Z"
   },
   {
    "duration": 17,
    "start_time": "2024-09-13T06:55:36.246Z"
   },
   {
    "duration": 9,
    "start_time": "2024-09-13T06:55:36.265Z"
   },
   {
    "duration": 10,
    "start_time": "2024-09-13T06:55:36.309Z"
   },
   {
    "duration": 15,
    "start_time": "2024-09-13T06:55:36.320Z"
   },
   {
    "duration": 9,
    "start_time": "2024-09-13T06:55:36.336Z"
   },
   {
    "duration": 63,
    "start_time": "2024-09-13T06:55:36.347Z"
   },
   {
    "duration": 12,
    "start_time": "2024-09-13T06:55:36.411Z"
   },
   {
    "duration": 23,
    "start_time": "2024-09-13T06:55:36.424Z"
   },
   {
    "duration": 8,
    "start_time": "2024-09-13T06:55:36.449Z"
   },
   {
    "duration": 25,
    "start_time": "2024-09-13T06:55:36.460Z"
   },
   {
    "duration": 16,
    "start_time": "2024-09-13T06:55:36.510Z"
   },
   {
    "duration": 19,
    "start_time": "2024-09-13T06:55:36.528Z"
   },
   {
    "duration": 23,
    "start_time": "2024-09-13T06:55:36.548Z"
   },
   {
    "duration": 59,
    "start_time": "2024-09-13T06:55:36.572Z"
   },
   {
    "duration": 27,
    "start_time": "2024-09-13T06:55:36.633Z"
   },
   {
    "duration": 11,
    "start_time": "2024-09-13T06:55:36.665Z"
   },
   {
    "duration": 4,
    "start_time": "2024-09-13T06:55:36.677Z"
   },
   {
    "duration": 197,
    "start_time": "2024-09-13T06:55:36.683Z"
   },
   {
    "duration": 167,
    "start_time": "2024-09-13T06:55:36.882Z"
   },
   {
    "duration": 8,
    "start_time": "2024-09-13T06:55:37.051Z"
   },
   {
    "duration": 133,
    "start_time": "2024-09-13T06:55:37.061Z"
   },
   {
    "duration": 231,
    "start_time": "2024-09-13T06:55:37.197Z"
   },
   {
    "duration": 8,
    "start_time": "2024-09-13T06:55:37.430Z"
   },
   {
    "duration": 196,
    "start_time": "2024-09-13T06:55:37.440Z"
   },
   {
    "duration": 8,
    "start_time": "2024-09-13T06:55:37.638Z"
   },
   {
    "duration": 6,
    "start_time": "2024-09-13T06:55:37.648Z"
   },
   {
    "duration": 191,
    "start_time": "2024-09-13T06:55:37.656Z"
   },
   {
    "duration": 4,
    "start_time": "2024-09-13T06:55:37.849Z"
   },
   {
    "duration": 7,
    "start_time": "2024-09-13T06:55:37.855Z"
   },
   {
    "duration": 797,
    "start_time": "2024-09-13T06:55:55.419Z"
   },
   {
    "duration": 67,
    "start_time": "2024-09-13T06:55:56.218Z"
   },
   {
    "duration": 61,
    "start_time": "2024-09-13T06:55:56.287Z"
   },
   {
    "duration": 34,
    "start_time": "2024-09-13T06:55:56.350Z"
   },
   {
    "duration": 5,
    "start_time": "2024-09-13T06:55:56.386Z"
   },
   {
    "duration": 18,
    "start_time": "2024-09-13T06:55:56.393Z"
   },
   {
    "duration": 10,
    "start_time": "2024-09-13T06:55:56.412Z"
   },
   {
    "duration": 11,
    "start_time": "2024-09-13T06:55:56.423Z"
   },
   {
    "duration": 4,
    "start_time": "2024-09-13T06:55:56.436Z"
   },
   {
    "duration": 6,
    "start_time": "2024-09-13T06:55:56.444Z"
   },
   {
    "duration": 8,
    "start_time": "2024-09-13T06:55:56.451Z"
   },
   {
    "duration": 9,
    "start_time": "2024-09-13T06:55:56.461Z"
   },
   {
    "duration": 43,
    "start_time": "2024-09-13T06:55:56.471Z"
   },
   {
    "duration": 5,
    "start_time": "2024-09-13T06:55:56.516Z"
   },
   {
    "duration": 4,
    "start_time": "2024-09-13T06:55:56.523Z"
   },
   {
    "duration": 5,
    "start_time": "2024-09-13T06:55:56.528Z"
   },
   {
    "duration": 9,
    "start_time": "2024-09-13T06:55:56.534Z"
   },
   {
    "duration": 14,
    "start_time": "2024-09-13T06:55:56.545Z"
   },
   {
    "duration": 49,
    "start_time": "2024-09-13T06:55:56.561Z"
   },
   {
    "duration": 35,
    "start_time": "2024-09-13T06:55:56.611Z"
   },
   {
    "duration": 12,
    "start_time": "2024-09-13T06:55:56.647Z"
   },
   {
    "duration": 17,
    "start_time": "2024-09-13T06:55:56.661Z"
   },
   {
    "duration": 32,
    "start_time": "2024-09-13T06:55:56.680Z"
   },
   {
    "duration": 12,
    "start_time": "2024-09-13T06:55:56.714Z"
   },
   {
    "duration": 9,
    "start_time": "2024-09-13T06:55:56.727Z"
   },
   {
    "duration": 18,
    "start_time": "2024-09-13T06:55:56.737Z"
   },
   {
    "duration": 10,
    "start_time": "2024-09-13T06:55:56.757Z"
   },
   {
    "duration": 11,
    "start_time": "2024-09-13T06:55:56.808Z"
   },
   {
    "duration": 14,
    "start_time": "2024-09-13T06:55:56.821Z"
   },
   {
    "duration": 9,
    "start_time": "2024-09-13T06:55:56.836Z"
   },
   {
    "duration": 63,
    "start_time": "2024-09-13T06:55:56.846Z"
   },
   {
    "duration": 11,
    "start_time": "2024-09-13T06:55:56.910Z"
   },
   {
    "duration": 21,
    "start_time": "2024-09-13T06:55:56.923Z"
   },
   {
    "duration": 7,
    "start_time": "2024-09-13T06:55:56.946Z"
   },
   {
    "duration": 25,
    "start_time": "2024-09-13T06:55:56.955Z"
   },
   {
    "duration": 16,
    "start_time": "2024-09-13T06:55:57.008Z"
   },
   {
    "duration": 22,
    "start_time": "2024-09-13T06:55:57.026Z"
   },
   {
    "duration": 25,
    "start_time": "2024-09-13T06:55:57.050Z"
   },
   {
    "duration": 57,
    "start_time": "2024-09-13T06:55:57.077Z"
   },
   {
    "duration": 26,
    "start_time": "2024-09-13T06:55:57.136Z"
   },
   {
    "duration": 12,
    "start_time": "2024-09-13T06:55:57.164Z"
   },
   {
    "duration": 4,
    "start_time": "2024-09-13T06:55:57.178Z"
   },
   {
    "duration": 213,
    "start_time": "2024-09-13T06:55:57.186Z"
   },
   {
    "duration": 175,
    "start_time": "2024-09-13T06:55:57.401Z"
   },
   {
    "duration": 8,
    "start_time": "2024-09-13T06:55:57.578Z"
   },
   {
    "duration": 127,
    "start_time": "2024-09-13T06:55:57.588Z"
   },
   {
    "duration": 224,
    "start_time": "2024-09-13T06:55:57.717Z"
   },
   {
    "duration": 8,
    "start_time": "2024-09-13T06:55:57.943Z"
   },
   {
    "duration": 192,
    "start_time": "2024-09-13T06:55:57.953Z"
   },
   {
    "duration": 9,
    "start_time": "2024-09-13T06:56:10.889Z"
   },
   {
    "duration": 8,
    "start_time": "2024-09-13T06:58:31.736Z"
   },
   {
    "duration": 9,
    "start_time": "2024-09-13T06:58:44.159Z"
   },
   {
    "duration": 9,
    "start_time": "2024-09-13T06:59:07.457Z"
   },
   {
    "duration": 743,
    "start_time": "2024-09-13T07:13:43.387Z"
   },
   {
    "duration": 70,
    "start_time": "2024-09-13T07:13:44.133Z"
   },
   {
    "duration": 56,
    "start_time": "2024-09-13T07:13:44.208Z"
   },
   {
    "duration": 42,
    "start_time": "2024-09-13T07:13:44.266Z"
   },
   {
    "duration": 6,
    "start_time": "2024-09-13T07:13:44.312Z"
   },
   {
    "duration": 6,
    "start_time": "2024-09-13T07:13:44.320Z"
   },
   {
    "duration": 10,
    "start_time": "2024-09-13T07:13:44.328Z"
   },
   {
    "duration": 12,
    "start_time": "2024-09-13T07:13:44.339Z"
   },
   {
    "duration": 4,
    "start_time": "2024-09-13T07:13:44.353Z"
   },
   {
    "duration": 6,
    "start_time": "2024-09-13T07:13:44.359Z"
   },
   {
    "duration": 45,
    "start_time": "2024-09-13T07:13:44.367Z"
   },
   {
    "duration": 9,
    "start_time": "2024-09-13T07:13:44.414Z"
   },
   {
    "duration": 6,
    "start_time": "2024-09-13T07:13:44.425Z"
   },
   {
    "duration": 6,
    "start_time": "2024-09-13T07:13:44.435Z"
   },
   {
    "duration": 4,
    "start_time": "2024-09-13T07:13:44.442Z"
   },
   {
    "duration": 5,
    "start_time": "2024-09-13T07:13:44.448Z"
   },
   {
    "duration": 9,
    "start_time": "2024-09-13T07:13:44.454Z"
   },
   {
    "duration": 57,
    "start_time": "2024-09-13T07:13:44.466Z"
   },
   {
    "duration": 10,
    "start_time": "2024-09-13T07:13:44.525Z"
   },
   {
    "duration": 35,
    "start_time": "2024-09-13T07:13:44.536Z"
   },
   {
    "duration": 36,
    "start_time": "2024-09-13T07:13:44.573Z"
   },
   {
    "duration": 17,
    "start_time": "2024-09-13T07:13:44.611Z"
   },
   {
    "duration": 10,
    "start_time": "2024-09-13T07:13:44.630Z"
   },
   {
    "duration": 12,
    "start_time": "2024-09-13T07:13:44.642Z"
   },
   {
    "duration": 9,
    "start_time": "2024-09-13T07:13:44.656Z"
   },
   {
    "duration": 44,
    "start_time": "2024-09-13T07:13:44.667Z"
   },
   {
    "duration": 10,
    "start_time": "2024-09-13T07:13:44.713Z"
   },
   {
    "duration": 10,
    "start_time": "2024-09-13T07:13:44.725Z"
   },
   {
    "duration": 14,
    "start_time": "2024-09-13T07:13:44.737Z"
   },
   {
    "duration": 9,
    "start_time": "2024-09-13T07:13:44.754Z"
   },
   {
    "duration": 77,
    "start_time": "2024-09-13T07:13:44.765Z"
   },
   {
    "duration": 10,
    "start_time": "2024-09-13T07:13:44.844Z"
   },
   {
    "duration": 23,
    "start_time": "2024-09-13T07:13:44.856Z"
   },
   {
    "duration": 28,
    "start_time": "2024-09-13T07:13:44.881Z"
   },
   {
    "duration": 25,
    "start_time": "2024-09-13T07:13:44.911Z"
   },
   {
    "duration": 16,
    "start_time": "2024-09-13T07:13:44.938Z"
   },
   {
    "duration": 18,
    "start_time": "2024-09-13T07:13:44.956Z"
   },
   {
    "duration": 51,
    "start_time": "2024-09-13T07:13:44.975Z"
   },
   {
    "duration": 32,
    "start_time": "2024-09-13T07:13:45.028Z"
   },
   {
    "duration": 49,
    "start_time": "2024-09-13T07:13:45.062Z"
   },
   {
    "duration": 12,
    "start_time": "2024-09-13T07:13:45.115Z"
   },
   {
    "duration": 4,
    "start_time": "2024-09-13T07:13:45.129Z"
   },
   {
    "duration": 196,
    "start_time": "2024-09-13T07:13:45.135Z"
   },
   {
    "duration": 175,
    "start_time": "2024-09-13T07:13:45.334Z"
   },
   {
    "duration": 8,
    "start_time": "2024-09-13T07:13:45.510Z"
   },
   {
    "duration": 127,
    "start_time": "2024-09-13T07:13:45.520Z"
   },
   {
    "duration": 215,
    "start_time": "2024-09-13T07:13:45.649Z"
   },
   {
    "duration": 8,
    "start_time": "2024-09-13T07:13:45.866Z"
   },
   {
    "duration": 190,
    "start_time": "2024-09-13T07:13:45.876Z"
   },
   {
    "duration": 8,
    "start_time": "2024-09-13T07:13:46.068Z"
   },
   {
    "duration": 8,
    "start_time": "2024-09-13T07:13:46.078Z"
   },
   {
    "duration": 196,
    "start_time": "2024-09-13T07:13:46.087Z"
   },
   {
    "duration": 4,
    "start_time": "2024-09-13T07:13:46.285Z"
   },
   {
    "duration": 21,
    "start_time": "2024-09-13T07:13:46.291Z"
   },
   {
    "duration": 808,
    "start_time": "2024-09-13T07:15:41.907Z"
   },
   {
    "duration": 68,
    "start_time": "2024-09-13T07:15:42.717Z"
   },
   {
    "duration": 62,
    "start_time": "2024-09-13T07:15:42.787Z"
   },
   {
    "duration": 34,
    "start_time": "2024-09-13T07:15:42.850Z"
   },
   {
    "duration": 5,
    "start_time": "2024-09-13T07:15:42.887Z"
   },
   {
    "duration": 18,
    "start_time": "2024-09-13T07:15:42.893Z"
   },
   {
    "duration": 9,
    "start_time": "2024-09-13T07:15:42.913Z"
   },
   {
    "duration": 11,
    "start_time": "2024-09-13T07:15:42.924Z"
   },
   {
    "duration": 5,
    "start_time": "2024-09-13T07:15:42.936Z"
   },
   {
    "duration": 6,
    "start_time": "2024-09-13T07:15:42.944Z"
   },
   {
    "duration": 9,
    "start_time": "2024-09-13T07:15:42.952Z"
   },
   {
    "duration": 10,
    "start_time": "2024-09-13T07:15:42.963Z"
   },
   {
    "duration": 6,
    "start_time": "2024-09-13T07:15:43.008Z"
   },
   {
    "duration": 5,
    "start_time": "2024-09-13T07:15:43.018Z"
   },
   {
    "duration": 3,
    "start_time": "2024-09-13T07:15:43.026Z"
   },
   {
    "duration": 4,
    "start_time": "2024-09-13T07:15:43.031Z"
   },
   {
    "duration": 9,
    "start_time": "2024-09-13T07:15:43.036Z"
   },
   {
    "duration": 15,
    "start_time": "2024-09-13T07:15:43.047Z"
   },
   {
    "duration": 46,
    "start_time": "2024-09-13T07:15:43.064Z"
   },
   {
    "duration": 36,
    "start_time": "2024-09-13T07:15:43.112Z"
   },
   {
    "duration": 15,
    "start_time": "2024-09-13T07:15:43.149Z"
   },
   {
    "duration": 18,
    "start_time": "2024-09-13T07:15:43.166Z"
   },
   {
    "duration": 33,
    "start_time": "2024-09-13T07:15:43.185Z"
   },
   {
    "duration": 12,
    "start_time": "2024-09-13T07:15:43.220Z"
   },
   {
    "duration": 8,
    "start_time": "2024-09-13T07:15:43.233Z"
   },
   {
    "duration": 16,
    "start_time": "2024-09-13T07:15:43.243Z"
   },
   {
    "duration": 9,
    "start_time": "2024-09-13T07:15:43.261Z"
   },
   {
    "duration": 48,
    "start_time": "2024-09-13T07:15:43.272Z"
   },
   {
    "duration": 15,
    "start_time": "2024-09-13T07:15:43.322Z"
   },
   {
    "duration": 8,
    "start_time": "2024-09-13T07:15:43.339Z"
   },
   {
    "duration": 60,
    "start_time": "2024-09-13T07:15:43.349Z"
   },
   {
    "duration": 10,
    "start_time": "2024-09-13T07:15:43.411Z"
   },
   {
    "duration": 23,
    "start_time": "2024-09-13T07:15:43.423Z"
   },
   {
    "duration": 7,
    "start_time": "2024-09-13T07:15:43.448Z"
   },
   {
    "duration": 52,
    "start_time": "2024-09-13T07:15:43.458Z"
   },
   {
    "duration": 17,
    "start_time": "2024-09-13T07:15:43.512Z"
   },
   {
    "duration": 18,
    "start_time": "2024-09-13T07:15:43.532Z"
   },
   {
    "duration": 23,
    "start_time": "2024-09-13T07:15:43.552Z"
   },
   {
    "duration": 56,
    "start_time": "2024-09-13T07:15:43.577Z"
   },
   {
    "duration": 28,
    "start_time": "2024-09-13T07:15:43.635Z"
   },
   {
    "duration": 12,
    "start_time": "2024-09-13T07:15:43.668Z"
   },
   {
    "duration": 4,
    "start_time": "2024-09-13T07:15:43.682Z"
   },
   {
    "duration": 178,
    "start_time": "2024-09-13T07:15:43.710Z"
   },
   {
    "duration": 170,
    "start_time": "2024-09-13T07:15:43.890Z"
   },
   {
    "duration": 9,
    "start_time": "2024-09-13T07:15:44.062Z"
   },
   {
    "duration": 127,
    "start_time": "2024-09-13T07:15:44.073Z"
   },
   {
    "duration": 225,
    "start_time": "2024-09-13T07:15:44.209Z"
   },
   {
    "duration": 8,
    "start_time": "2024-09-13T07:15:44.435Z"
   },
   {
    "duration": 190,
    "start_time": "2024-09-13T07:15:44.445Z"
   },
   {
    "duration": 9,
    "start_time": "2024-09-13T07:15:44.638Z"
   },
   {
    "duration": 11,
    "start_time": "2024-09-13T07:15:49.151Z"
   },
   {
    "duration": 10,
    "start_time": "2024-09-13T07:15:55.995Z"
   },
   {
    "duration": 10,
    "start_time": "2024-09-13T07:16:50.437Z"
   },
   {
    "duration": 11,
    "start_time": "2024-09-13T07:18:08.158Z"
   },
   {
    "duration": 784,
    "start_time": "2024-09-13T07:20:57.535Z"
   },
   {
    "duration": 71,
    "start_time": "2024-09-13T07:20:58.322Z"
   },
   {
    "duration": 58,
    "start_time": "2024-09-13T07:20:58.395Z"
   },
   {
    "duration": 33,
    "start_time": "2024-09-13T07:20:58.454Z"
   },
   {
    "duration": 5,
    "start_time": "2024-09-13T07:20:58.490Z"
   },
   {
    "duration": 15,
    "start_time": "2024-09-13T07:20:58.497Z"
   },
   {
    "duration": 9,
    "start_time": "2024-09-13T07:20:58.514Z"
   },
   {
    "duration": 9,
    "start_time": "2024-09-13T07:20:58.525Z"
   },
   {
    "duration": 5,
    "start_time": "2024-09-13T07:20:58.535Z"
   },
   {
    "duration": 6,
    "start_time": "2024-09-13T07:20:58.541Z"
   },
   {
    "duration": 8,
    "start_time": "2024-09-13T07:20:58.548Z"
   },
   {
    "duration": 9,
    "start_time": "2024-09-13T07:20:58.557Z"
   },
   {
    "duration": 6,
    "start_time": "2024-09-13T07:20:58.610Z"
   },
   {
    "duration": 5,
    "start_time": "2024-09-13T07:20:58.621Z"
   },
   {
    "duration": 4,
    "start_time": "2024-09-13T07:20:58.628Z"
   },
   {
    "duration": 4,
    "start_time": "2024-09-13T07:20:58.633Z"
   },
   {
    "duration": 8,
    "start_time": "2024-09-13T07:20:58.639Z"
   },
   {
    "duration": 24,
    "start_time": "2024-09-13T07:20:58.649Z"
   },
   {
    "duration": 38,
    "start_time": "2024-09-13T07:20:58.675Z"
   },
   {
    "duration": 36,
    "start_time": "2024-09-13T07:20:58.715Z"
   },
   {
    "duration": 13,
    "start_time": "2024-09-13T07:20:58.753Z"
   },
   {
    "duration": 17,
    "start_time": "2024-09-13T07:20:58.768Z"
   },
   {
    "duration": 32,
    "start_time": "2024-09-13T07:20:58.787Z"
   },
   {
    "duration": 12,
    "start_time": "2024-09-13T07:20:58.821Z"
   },
   {
    "duration": 8,
    "start_time": "2024-09-13T07:20:58.834Z"
   },
   {
    "duration": 16,
    "start_time": "2024-09-13T07:20:58.844Z"
   },
   {
    "duration": 9,
    "start_time": "2024-09-13T07:20:58.862Z"
   },
   {
    "duration": 43,
    "start_time": "2024-09-13T07:20:58.872Z"
   },
   {
    "duration": 14,
    "start_time": "2024-09-13T07:20:58.917Z"
   },
   {
    "duration": 9,
    "start_time": "2024-09-13T07:20:58.933Z"
   },
   {
    "duration": 41,
    "start_time": "2024-09-13T07:20:58.943Z"
   },
   {
    "duration": 12,
    "start_time": "2024-09-13T07:20:59.010Z"
   },
   {
    "duration": 22,
    "start_time": "2024-09-13T07:20:59.023Z"
   },
   {
    "duration": 7,
    "start_time": "2024-09-13T07:20:59.046Z"
   },
   {
    "duration": 26,
    "start_time": "2024-09-13T07:20:59.054Z"
   },
   {
    "duration": 39,
    "start_time": "2024-09-13T07:20:59.082Z"
   },
   {
    "duration": 18,
    "start_time": "2024-09-13T07:20:59.123Z"
   },
   {
    "duration": 22,
    "start_time": "2024-09-13T07:20:59.143Z"
   },
   {
    "duration": 53,
    "start_time": "2024-09-13T07:20:59.168Z"
   },
   {
    "duration": 27,
    "start_time": "2024-09-13T07:20:59.223Z"
   },
   {
    "duration": 12,
    "start_time": "2024-09-13T07:20:59.255Z"
   },
   {
    "duration": 4,
    "start_time": "2024-09-13T07:20:59.269Z"
   },
   {
    "duration": 202,
    "start_time": "2024-09-13T07:20:59.275Z"
   },
   {
    "duration": 179,
    "start_time": "2024-09-13T07:20:59.479Z"
   },
   {
    "duration": 8,
    "start_time": "2024-09-13T07:20:59.660Z"
   },
   {
    "duration": 138,
    "start_time": "2024-09-13T07:20:59.671Z"
   },
   {
    "duration": 226,
    "start_time": "2024-09-13T07:20:59.811Z"
   },
   {
    "duration": 9,
    "start_time": "2024-09-13T07:21:00.038Z"
   },
   {
    "duration": 186,
    "start_time": "2024-09-13T07:21:00.049Z"
   },
   {
    "duration": 10,
    "start_time": "2024-09-13T07:21:00.237Z"
   },
   {
    "duration": 10,
    "start_time": "2024-09-13T07:21:00.249Z"
   },
   {
    "duration": 198,
    "start_time": "2024-09-13T07:21:00.261Z"
   },
   {
    "duration": 4,
    "start_time": "2024-09-13T07:21:00.461Z"
   },
   {
    "duration": 9,
    "start_time": "2024-09-13T07:21:00.466Z"
   },
   {
    "duration": 6,
    "start_time": "2024-09-13T07:27:50.830Z"
   },
   {
    "duration": 4,
    "start_time": "2024-09-13T07:27:56.051Z"
   },
   {
    "duration": 2445,
    "start_time": "2024-09-13T08:44:09.762Z"
   },
   {
    "duration": 98,
    "start_time": "2024-09-13T08:44:12.209Z"
   },
   {
    "duration": 84,
    "start_time": "2024-09-13T08:44:12.309Z"
   },
   {
    "duration": 68,
    "start_time": "2024-09-13T08:44:12.395Z"
   },
   {
    "duration": 8,
    "start_time": "2024-09-13T08:44:12.464Z"
   },
   {
    "duration": 8,
    "start_time": "2024-09-13T08:44:12.474Z"
   },
   {
    "duration": 8,
    "start_time": "2024-09-13T08:44:12.485Z"
   },
   {
    "duration": 11,
    "start_time": "2024-09-13T08:44:12.495Z"
   },
   {
    "duration": 6,
    "start_time": "2024-09-13T08:44:12.508Z"
   },
   {
    "duration": 5,
    "start_time": "2024-09-13T08:44:12.518Z"
   },
   {
    "duration": 8,
    "start_time": "2024-09-13T08:44:12.524Z"
   },
   {
    "duration": 8,
    "start_time": "2024-09-13T08:44:12.534Z"
   },
   {
    "duration": 6,
    "start_time": "2024-09-13T08:44:12.543Z"
   },
   {
    "duration": 5,
    "start_time": "2024-09-13T08:44:12.550Z"
   },
   {
    "duration": 3,
    "start_time": "2024-09-13T08:44:12.557Z"
   },
   {
    "duration": 44,
    "start_time": "2024-09-13T08:44:12.562Z"
   },
   {
    "duration": 9,
    "start_time": "2024-09-13T08:44:12.608Z"
   },
   {
    "duration": 17,
    "start_time": "2024-09-13T08:44:12.619Z"
   },
   {
    "duration": 10,
    "start_time": "2024-09-13T08:44:12.638Z"
   },
   {
    "duration": 56,
    "start_time": "2024-09-13T08:44:12.649Z"
   },
   {
    "duration": 16,
    "start_time": "2024-09-13T08:44:12.707Z"
   },
   {
    "duration": 18,
    "start_time": "2024-09-13T08:44:12.725Z"
   },
   {
    "duration": 11,
    "start_time": "2024-09-13T08:44:12.744Z"
   },
   {
    "duration": 12,
    "start_time": "2024-09-13T08:44:12.757Z"
   },
   {
    "duration": 8,
    "start_time": "2024-09-13T08:44:12.770Z"
   },
   {
    "duration": 42,
    "start_time": "2024-09-13T08:44:12.779Z"
   },
   {
    "duration": 9,
    "start_time": "2024-09-13T08:44:12.823Z"
   },
   {
    "duration": 10,
    "start_time": "2024-09-13T08:44:12.836Z"
   },
   {
    "duration": 14,
    "start_time": "2024-09-13T08:44:12.847Z"
   },
   {
    "duration": 8,
    "start_time": "2024-09-13T08:44:12.863Z"
   },
   {
    "duration": 40,
    "start_time": "2024-09-13T08:44:12.907Z"
   },
   {
    "duration": 10,
    "start_time": "2024-09-13T08:44:12.950Z"
   },
   {
    "duration": 21,
    "start_time": "2024-09-13T08:44:12.961Z"
   },
   {
    "duration": 24,
    "start_time": "2024-09-13T08:44:12.983Z"
   },
   {
    "duration": 26,
    "start_time": "2024-09-13T08:44:13.008Z"
   },
   {
    "duration": 15,
    "start_time": "2024-09-13T08:44:13.035Z"
   },
   {
    "duration": 18,
    "start_time": "2024-09-13T08:44:13.051Z"
   },
   {
    "duration": 51,
    "start_time": "2024-09-13T08:44:13.070Z"
   },
   {
    "duration": 34,
    "start_time": "2024-09-13T08:44:13.124Z"
   },
   {
    "duration": 27,
    "start_time": "2024-09-13T08:44:13.159Z"
   },
   {
    "duration": 27,
    "start_time": "2024-09-13T08:44:13.187Z"
   },
   {
    "duration": 3,
    "start_time": "2024-09-13T08:44:13.216Z"
   },
   {
    "duration": 180,
    "start_time": "2024-09-13T08:44:13.221Z"
   },
   {
    "duration": 163,
    "start_time": "2024-09-13T08:44:13.403Z"
   },
   {
    "duration": 8,
    "start_time": "2024-09-13T08:44:13.568Z"
   },
   {
    "duration": 118,
    "start_time": "2024-09-13T08:44:13.578Z"
   },
   {
    "duration": 157,
    "start_time": "2024-09-13T08:44:13.704Z"
   },
   {
    "duration": 8,
    "start_time": "2024-09-13T08:44:13.863Z"
   },
   {
    "duration": 178,
    "start_time": "2024-09-13T08:44:13.872Z"
   },
   {
    "duration": 7,
    "start_time": "2024-09-13T08:44:14.052Z"
   },
   {
    "duration": 10,
    "start_time": "2024-09-13T08:44:14.060Z"
   },
   {
    "duration": 194,
    "start_time": "2024-09-13T08:44:14.071Z"
   },
   {
    "duration": 4,
    "start_time": "2024-09-13T08:44:14.268Z"
   },
   {
    "duration": 7,
    "start_time": "2024-09-13T08:44:14.274Z"
   },
   {
    "duration": 3013,
    "start_time": "2024-09-13T10:37:52.032Z"
   },
   {
    "duration": 98,
    "start_time": "2024-09-13T10:37:55.048Z"
   },
   {
    "duration": 83,
    "start_time": "2024-09-13T10:37:55.148Z"
   },
   {
    "duration": 48,
    "start_time": "2024-09-13T10:37:55.232Z"
   },
   {
    "duration": 7,
    "start_time": "2024-09-13T10:37:55.283Z"
   },
   {
    "duration": 7,
    "start_time": "2024-09-13T10:37:55.292Z"
   },
   {
    "duration": 9,
    "start_time": "2024-09-13T10:37:55.301Z"
   },
   {
    "duration": 10,
    "start_time": "2024-09-13T10:37:55.312Z"
   },
   {
    "duration": 9,
    "start_time": "2024-09-13T10:37:55.324Z"
   },
   {
    "duration": 5,
    "start_time": "2024-09-13T10:37:55.335Z"
   },
   {
    "duration": 8,
    "start_time": "2024-09-13T10:37:55.342Z"
   },
   {
    "duration": 8,
    "start_time": "2024-09-13T10:37:55.351Z"
   },
   {
    "duration": 5,
    "start_time": "2024-09-13T10:37:55.361Z"
   },
   {
    "duration": 5,
    "start_time": "2024-09-13T10:37:55.369Z"
   },
   {
    "duration": 4,
    "start_time": "2024-09-13T10:37:55.375Z"
   },
   {
    "duration": 4,
    "start_time": "2024-09-13T10:37:55.380Z"
   },
   {
    "duration": 48,
    "start_time": "2024-09-13T10:37:55.386Z"
   },
   {
    "duration": 15,
    "start_time": "2024-09-13T10:37:55.437Z"
   },
   {
    "duration": 10,
    "start_time": "2024-09-13T10:37:55.454Z"
   },
   {
    "duration": 33,
    "start_time": "2024-09-13T10:37:55.465Z"
   },
   {
    "duration": 40,
    "start_time": "2024-09-13T10:37:55.500Z"
   },
   {
    "duration": 17,
    "start_time": "2024-09-13T10:37:55.541Z"
   },
   {
    "duration": 11,
    "start_time": "2024-09-13T10:37:55.559Z"
   },
   {
    "duration": 12,
    "start_time": "2024-09-13T10:37:55.572Z"
   },
   {
    "duration": 7,
    "start_time": "2024-09-13T10:37:55.585Z"
   },
   {
    "duration": 43,
    "start_time": "2024-09-13T10:37:55.594Z"
   },
   {
    "duration": 9,
    "start_time": "2024-09-13T10:37:55.638Z"
   },
   {
    "duration": 10,
    "start_time": "2024-09-13T10:37:55.648Z"
   },
   {
    "duration": 13,
    "start_time": "2024-09-13T10:37:55.660Z"
   },
   {
    "duration": 9,
    "start_time": "2024-09-13T10:37:55.674Z"
   },
   {
    "duration": 66,
    "start_time": "2024-09-13T10:37:55.685Z"
   },
   {
    "duration": 10,
    "start_time": "2024-09-13T10:37:55.753Z"
   },
   {
    "duration": 21,
    "start_time": "2024-09-13T10:37:55.765Z"
   },
   {
    "duration": 7,
    "start_time": "2024-09-13T10:37:55.787Z"
   },
   {
    "duration": 43,
    "start_time": "2024-09-13T10:37:55.796Z"
   },
   {
    "duration": 15,
    "start_time": "2024-09-13T10:37:55.841Z"
   },
   {
    "duration": 17,
    "start_time": "2024-09-13T10:37:55.858Z"
   },
   {
    "duration": 21,
    "start_time": "2024-09-13T10:37:55.877Z"
   },
   {
    "duration": 54,
    "start_time": "2024-09-13T10:37:55.900Z"
   },
   {
    "duration": 27,
    "start_time": "2024-09-13T10:37:55.956Z"
   },
   {
    "duration": 10,
    "start_time": "2024-09-13T10:37:55.988Z"
   },
   {
    "duration": 4,
    "start_time": "2024-09-13T10:37:56.000Z"
   },
   {
    "duration": 175,
    "start_time": "2024-09-13T10:37:56.032Z"
   },
   {
    "duration": 164,
    "start_time": "2024-09-13T10:37:56.209Z"
   },
   {
    "duration": 9,
    "start_time": "2024-09-13T10:37:56.375Z"
   },
   {
    "duration": 120,
    "start_time": "2024-09-13T10:37:56.385Z"
   },
   {
    "duration": 167,
    "start_time": "2024-09-13T10:37:56.506Z"
   },
   {
    "duration": 8,
    "start_time": "2024-09-13T10:37:56.674Z"
   },
   {
    "duration": 185,
    "start_time": "2024-09-13T10:37:56.684Z"
   },
   {
    "duration": 9,
    "start_time": "2024-09-13T10:37:56.871Z"
   },
   {
    "duration": 9,
    "start_time": "2024-09-13T10:37:56.881Z"
   },
   {
    "duration": 182,
    "start_time": "2024-09-13T10:37:56.891Z"
   },
   {
    "duration": 4,
    "start_time": "2024-09-13T10:37:57.075Z"
   },
   {
    "duration": 6,
    "start_time": "2024-09-13T10:37:57.081Z"
   },
   {
    "duration": 25,
    "start_time": "2024-09-13T10:39:41.881Z"
   },
   {
    "duration": 22,
    "start_time": "2024-09-13T10:39:49.030Z"
   }
  ],
  "kernelspec": {
   "display_name": "Python 3 (ipykernel)",
   "language": "python",
   "name": "python3"
  },
  "language_info": {
   "codemirror_mode": {
    "name": "ipython",
    "version": 3
   },
   "file_extension": ".py",
   "mimetype": "text/x-python",
   "name": "python",
   "nbconvert_exporter": "python",
   "pygments_lexer": "ipython3",
   "version": "3.9.19"
  },
  "toc": {
   "base_numbering": 1,
   "nav_menu": {},
   "number_sections": true,
   "sideBar": true,
   "skip_h1_title": false,
   "title_cell": "Table of Contents",
   "title_sidebar": "Contents",
   "toc_cell": false,
   "toc_position": {
    "height": "calc(100% - 180px)",
    "left": "10px",
    "top": "150px",
    "width": "165px"
   },
   "toc_section_display": true,
   "toc_window_display": false
  }
 },
 "nbformat": 4,
 "nbformat_minor": 2
}
