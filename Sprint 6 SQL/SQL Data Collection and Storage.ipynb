{
 "cells": [
  {
   "cell_type": "markdown",
   "metadata": {},
   "source": [
    "# Data Collection and Storage (SQL)"
   ]
  },
  {
   "cell_type": "markdown",
   "metadata": {},
   "source": [
    "<div style=\"border-radius: 15px; border: 3px solid indigo; padding: 15px;\">\n",
    "<b> Reviewer's comment 2</b>\n",
    "\n",
    "\n",
    "Thank you for updating your project! :) \n",
    "    \n",
    "    \n",
    "I've left new comments titled as **Reviewer's comment 2**. Your project has passed code review. Congratulations 😊\n",
    "    \n",
    "    \n",
    "Take care and good luck! 😊      \n",
    "    \n",
    "\n",
    "</div>"
   ]
  },
  {
   "cell_type": "markdown",
   "metadata": {},
   "source": [
    "<div style=\"border-radius: 15px; border: 3px solid indigo; padding: 15px;\">\n",
    "<b> Reviewer's comment</b>\n",
    "    \n",
    "Hi! I am a reviewer on this project. \n",
    "\n",
    "I will be using the standard color marking:\n",
    "    \n",
    "<div class=\"alert alert-success\" style=\"border-radius: 15px; box-shadow: 4px 4px 4px; border: 1px solid \">\n",
    "<b> Reviewer's comment</b>\n",
    "    \n",
    "Great solutions and ideas that can and should be used in the future are in green comments.   \n",
    "</div>    \n",
    "    \n",
    "    \n",
    "<div class=\"alert alert-warning\" style=\"border-radius: 15px; box-shadow: 4px 4px 4px; border: 1px solid \">\n",
    "<b> Reviewer's comment</b>\n",
    "\n",
    "Yellow color indicates what should be optimized. This is not necessary, but it will be great if you make changes to this project.\n",
    "</div>      \n",
    "    \n",
    "    \n",
    "<div class=\"alert alert-danger\" style=\"border-radius: 15px; box-shadow: 4px 4px 4px; border: 1px solid \">\n",
    "<b> Reviewer's comment</b>\n",
    "\n",
    "Issues that need to be corrected to get right results are indicated in red comments. Note that the project cannot be accepted until these issues are resolved.\n",
    "</div>    \n",
    "\n",
    "<hr>\n",
    "    \n",
    "**Please, use some color other than those listed to highlight answers to my comments.**\n",
    "I would also ask you **not to change, move or delete my comments** so that it would be easier for me to navigate during the next review.\n",
    "    \n",
    "In addition, my comments are defined as headings. \n",
    "They can mess up the content, however, they are convenient, since you can immediately go to them. I will remove the headings from my comments in the next review. \n",
    "   \n",
    "    \n",
    "    \n",
    "<hr>\n",
    "    \n",
    "<font color='dodgerblue'>**A few words about the project:**</font>  you did a very good job here! There are charts and conclusions, which is great. However, there are a couple of issues that need your attention. Would you take a look at my comments? \n",
    "    \n",
    "    \n",
    "I will wait for the project for a second review :)\n",
    "\n",
    "    \n",
    "    \n",
    "📌 Here is a useful SQL [Cheat Sheet](https://www.sqltutorial.org/sql-cheat-sheet/). \n",
    "    You can also check out SQL on leetcode: [link](https://leetcode.com/study-plan/sql/).\n",
    "</div>"
   ]
  },
  {
   "cell_type": "markdown",
   "metadata": {},
   "source": [
    "# Zuber"
   ]
  },
  {
   "cell_type": "markdown",
   "metadata": {},
   "source": [
    "I will further the analysis for the rideshare Zuber by loading the datasets and plotting charts to visualize the data better. I check for missing or duplicate values and make sure the data is usable for further analysis. I finally finish off with testing the hypothesis that rainy days cause a diffrence in travel time."
   ]
  },
  {
   "cell_type": "markdown",
   "metadata": {},
   "source": [
    "<div class=\"alert alert-success\" style=\"border-radius: 15px; box-shadow: 4px 4px 4px; border: 1px solid \">\n",
    "<h2> Reviewer's comment </h2>\n",
    "    \n",
    "Good introduction! \n",
    "    \n",
    "</div>\n",
    "<div class=\"alert alert-warning\" style=\"border-radius: 15px; box-shadow: 4px 4px 4px; border: 1px solid \">\n",
    "<h2>  Reviewer's comment </h2>\n",
    "    \n",
    "\n",
    "However, try to make it broader next time. \n",
    "    \n",
    "</div>"
   ]
  },
  {
   "cell_type": "code",
   "execution_count": 1,
   "metadata": {},
   "outputs": [],
   "source": [
    "import pandas as pd\n",
    "import numpy as np\n",
    "import matplotlib.pyplot as plt\n",
    "import seaborn as sns\n",
    "from scipy import stats as st\n",
    "\n",
    "name_amt = pd.read_csv('/datasets/project_sql_result_01.csv')\n",
    "loc_avg = pd.read_csv('/datasets/project_sql_result_04.csv')"
   ]
  },
  {
   "cell_type": "markdown",
   "metadata": {},
   "source": [
    "<div class=\"alert alert-danger\" style=\"border-radius: 15px; box-shadow: 4px 4px 4px; border: 1px solid \">\n",
    "<b>   Reviewer's comment </b>\n",
    "    \n",
    "Please, make sure each cell works fine in our environment before you send a project for review. \n",
    "</div>\n",
    "<div class=\"alert alert-success\" style=\"border-radius: 15px; box-shadow: 4px 4px 4px; border: 1px solid \">\n",
    "<h2> Reviewer's comment 2 </h2>\n",
    "    \n",
    "Good! \n",
    "    \n",
    "</div>"
   ]
  },
  {
   "cell_type": "markdown",
   "metadata": {},
   "source": [
    "Imported  the files and read them."
   ]
  },
  {
   "cell_type": "code",
   "execution_count": 2,
   "metadata": {},
   "outputs": [
    {
     "data": {
      "text/html": [
       "<div>\n",
       "<style scoped>\n",
       "    .dataframe tbody tr th:only-of-type {\n",
       "        vertical-align: middle;\n",
       "    }\n",
       "\n",
       "    .dataframe tbody tr th {\n",
       "        vertical-align: top;\n",
       "    }\n",
       "\n",
       "    .dataframe thead th {\n",
       "        text-align: right;\n",
       "    }\n",
       "</style>\n",
       "<table border=\"1\" class=\"dataframe\">\n",
       "  <thead>\n",
       "    <tr style=\"text-align: right;\">\n",
       "      <th></th>\n",
       "      <th>company_name</th>\n",
       "      <th>trips_amount</th>\n",
       "    </tr>\n",
       "  </thead>\n",
       "  <tbody>\n",
       "    <tr>\n",
       "      <th>0</th>\n",
       "      <td>Flash Cab</td>\n",
       "      <td>19558</td>\n",
       "    </tr>\n",
       "    <tr>\n",
       "      <th>1</th>\n",
       "      <td>Taxi Affiliation Services</td>\n",
       "      <td>11422</td>\n",
       "    </tr>\n",
       "    <tr>\n",
       "      <th>2</th>\n",
       "      <td>Medallion Leasing</td>\n",
       "      <td>10367</td>\n",
       "    </tr>\n",
       "    <tr>\n",
       "      <th>3</th>\n",
       "      <td>Yellow Cab</td>\n",
       "      <td>9888</td>\n",
       "    </tr>\n",
       "    <tr>\n",
       "      <th>4</th>\n",
       "      <td>Taxi Affiliation Service Yellow</td>\n",
       "      <td>9299</td>\n",
       "    </tr>\n",
       "    <tr>\n",
       "      <th>...</th>\n",
       "      <td>...</td>\n",
       "      <td>...</td>\n",
       "    </tr>\n",
       "    <tr>\n",
       "      <th>59</th>\n",
       "      <td>4053 - 40193 Adwar H. Nikola</td>\n",
       "      <td>7</td>\n",
       "    </tr>\n",
       "    <tr>\n",
       "      <th>60</th>\n",
       "      <td>2733 - 74600 Benny Jona</td>\n",
       "      <td>7</td>\n",
       "    </tr>\n",
       "    <tr>\n",
       "      <th>61</th>\n",
       "      <td>5874 - 73628 Sergey Cab Corp.</td>\n",
       "      <td>5</td>\n",
       "    </tr>\n",
       "    <tr>\n",
       "      <th>62</th>\n",
       "      <td>2241 - 44667 - Felman Corp</td>\n",
       "      <td>3</td>\n",
       "    </tr>\n",
       "    <tr>\n",
       "      <th>63</th>\n",
       "      <td>3556 - 36214 RC Andrews Cab</td>\n",
       "      <td>2</td>\n",
       "    </tr>\n",
       "  </tbody>\n",
       "</table>\n",
       "<p>64 rows × 2 columns</p>\n",
       "</div>"
      ],
      "text/plain": [
       "                       company_name  trips_amount\n",
       "0                         Flash Cab         19558\n",
       "1         Taxi Affiliation Services         11422\n",
       "2                 Medallion Leasing         10367\n",
       "3                        Yellow Cab          9888\n",
       "4   Taxi Affiliation Service Yellow          9299\n",
       "..                              ...           ...\n",
       "59     4053 - 40193 Adwar H. Nikola             7\n",
       "60          2733 - 74600 Benny Jona             7\n",
       "61    5874 - 73628 Sergey Cab Corp.             5\n",
       "62       2241 - 44667 - Felman Corp             3\n",
       "63      3556 - 36214 RC Andrews Cab             2\n",
       "\n",
       "[64 rows x 2 columns]"
      ]
     },
     "execution_count": 2,
     "metadata": {},
     "output_type": "execute_result"
    }
   ],
   "source": [
    "name_amt"
   ]
  },
  {
   "cell_type": "code",
   "execution_count": 3,
   "metadata": {},
   "outputs": [
    {
     "data": {
      "text/html": [
       "<div>\n",
       "<style scoped>\n",
       "    .dataframe tbody tr th:only-of-type {\n",
       "        vertical-align: middle;\n",
       "    }\n",
       "\n",
       "    .dataframe tbody tr th {\n",
       "        vertical-align: top;\n",
       "    }\n",
       "\n",
       "    .dataframe thead th {\n",
       "        text-align: right;\n",
       "    }\n",
       "</style>\n",
       "<table border=\"1\" class=\"dataframe\">\n",
       "  <thead>\n",
       "    <tr style=\"text-align: right;\">\n",
       "      <th></th>\n",
       "      <th>dropoff_location_name</th>\n",
       "      <th>average_trips</th>\n",
       "    </tr>\n",
       "  </thead>\n",
       "  <tbody>\n",
       "    <tr>\n",
       "      <th>0</th>\n",
       "      <td>Loop</td>\n",
       "      <td>10727.466667</td>\n",
       "    </tr>\n",
       "    <tr>\n",
       "      <th>1</th>\n",
       "      <td>River North</td>\n",
       "      <td>9523.666667</td>\n",
       "    </tr>\n",
       "    <tr>\n",
       "      <th>2</th>\n",
       "      <td>Streeterville</td>\n",
       "      <td>6664.666667</td>\n",
       "    </tr>\n",
       "    <tr>\n",
       "      <th>3</th>\n",
       "      <td>West Loop</td>\n",
       "      <td>5163.666667</td>\n",
       "    </tr>\n",
       "    <tr>\n",
       "      <th>4</th>\n",
       "      <td>O'Hare</td>\n",
       "      <td>2546.900000</td>\n",
       "    </tr>\n",
       "    <tr>\n",
       "      <th>...</th>\n",
       "      <td>...</td>\n",
       "      <td>...</td>\n",
       "    </tr>\n",
       "    <tr>\n",
       "      <th>89</th>\n",
       "      <td>Mount Greenwood</td>\n",
       "      <td>3.137931</td>\n",
       "    </tr>\n",
       "    <tr>\n",
       "      <th>90</th>\n",
       "      <td>Hegewisch</td>\n",
       "      <td>3.117647</td>\n",
       "    </tr>\n",
       "    <tr>\n",
       "      <th>91</th>\n",
       "      <td>Burnside</td>\n",
       "      <td>2.333333</td>\n",
       "    </tr>\n",
       "    <tr>\n",
       "      <th>92</th>\n",
       "      <td>East Side</td>\n",
       "      <td>1.961538</td>\n",
       "    </tr>\n",
       "    <tr>\n",
       "      <th>93</th>\n",
       "      <td>Riverdale</td>\n",
       "      <td>1.800000</td>\n",
       "    </tr>\n",
       "  </tbody>\n",
       "</table>\n",
       "<p>94 rows × 2 columns</p>\n",
       "</div>"
      ],
      "text/plain": [
       "   dropoff_location_name  average_trips\n",
       "0                   Loop   10727.466667\n",
       "1            River North    9523.666667\n",
       "2          Streeterville    6664.666667\n",
       "3              West Loop    5163.666667\n",
       "4                 O'Hare    2546.900000\n",
       "..                   ...            ...\n",
       "89       Mount Greenwood       3.137931\n",
       "90             Hegewisch       3.117647\n",
       "91              Burnside       2.333333\n",
       "92             East Side       1.961538\n",
       "93             Riverdale       1.800000\n",
       "\n",
       "[94 rows x 2 columns]"
      ]
     },
     "execution_count": 3,
     "metadata": {},
     "output_type": "execute_result"
    }
   ],
   "source": [
    "loc_avg"
   ]
  },
  {
   "cell_type": "markdown",
   "metadata": {},
   "source": [
    "seelig the organization and layout of the data."
   ]
  },
  {
   "cell_type": "code",
   "execution_count": 4,
   "metadata": {},
   "outputs": [
    {
     "name": "stdout",
     "output_type": "stream",
     "text": [
      "<class 'pandas.core.frame.DataFrame'>\n",
      "RangeIndex: 64 entries, 0 to 63\n",
      "Data columns (total 2 columns):\n",
      " #   Column        Non-Null Count  Dtype \n",
      "---  ------        --------------  ----- \n",
      " 0   company_name  64 non-null     object\n",
      " 1   trips_amount  64 non-null     int64 \n",
      "dtypes: int64(1), object(1)\n",
      "memory usage: 1.1+ KB\n"
     ]
    }
   ],
   "source": [
    "name_amt.info()"
   ]
  },
  {
   "cell_type": "code",
   "execution_count": 5,
   "metadata": {},
   "outputs": [
    {
     "name": "stdout",
     "output_type": "stream",
     "text": [
      "<class 'pandas.core.frame.DataFrame'>\n",
      "RangeIndex: 94 entries, 0 to 93\n",
      "Data columns (total 2 columns):\n",
      " #   Column                 Non-Null Count  Dtype  \n",
      "---  ------                 --------------  -----  \n",
      " 0   dropoff_location_name  94 non-null     object \n",
      " 1   average_trips          94 non-null     float64\n",
      "dtypes: float64(1), object(1)\n",
      "memory usage: 1.6+ KB\n"
     ]
    }
   ],
   "source": [
    "loc_avg.info()"
   ]
  },
  {
   "cell_type": "code",
   "execution_count": 6,
   "metadata": {},
   "outputs": [
    {
     "data": {
      "text/plain": [
       "company_name    0\n",
       "trips_amount    0\n",
       "dtype: int64"
      ]
     },
     "execution_count": 6,
     "metadata": {},
     "output_type": "execute_result"
    }
   ],
   "source": [
    "name_amt.isna().sum()"
   ]
  },
  {
   "cell_type": "code",
   "execution_count": 7,
   "metadata": {},
   "outputs": [
    {
     "data": {
      "text/plain": [
       "dropoff_location_name    0\n",
       "average_trips            0\n",
       "dtype: int64"
      ]
     },
     "execution_count": 7,
     "metadata": {},
     "output_type": "execute_result"
    }
   ],
   "source": [
    "loc_avg.isna().sum()"
   ]
  },
  {
   "cell_type": "code",
   "execution_count": 8,
   "metadata": {},
   "outputs": [
    {
     "data": {
      "text/plain": [
       "0"
      ]
     },
     "execution_count": 8,
     "metadata": {},
     "output_type": "execute_result"
    }
   ],
   "source": [
    "name_amt.duplicated().sum()"
   ]
  },
  {
   "cell_type": "code",
   "execution_count": 9,
   "metadata": {},
   "outputs": [
    {
     "data": {
      "text/plain": [
       "0"
      ]
     },
     "execution_count": 9,
     "metadata": {},
     "output_type": "execute_result"
    }
   ],
   "source": [
    "loc_avg.duplicated().sum()"
   ]
  },
  {
   "cell_type": "markdown",
   "metadata": {},
   "source": [
    "<div class=\"alert alert-success\" style=\"border-radius: 15px; box-shadow: 4px 4px 4px; border: 1px solid \">\n",
    "<h2> Reviewer's comment </h2>\n",
    "    \n",
    "\n",
    "Although the data could be prepared by ourselves, we still should check it for the duplicates 👍\n",
    "    \n",
    "</div>"
   ]
  },
  {
   "cell_type": "code",
   "execution_count": 10,
   "metadata": {},
   "outputs": [
    {
     "name": "stdout",
     "output_type": "stream",
     "text": [
      "['Flash Cab' 'Taxi Affiliation Services' 'Medallion Leasing' 'Yellow Cab'\n",
      " 'Taxi Affiliation Service Yellow' 'Chicago Carriage Cab Corp'\n",
      " 'City Service' 'Sun Taxi' 'Star North Management LLC'\n",
      " 'Blue Ribbon Taxi Association Inc.' 'Choice Taxi Association'\n",
      " 'Globe Taxi' 'Dispatch Taxi Affiliation' 'Nova Taxi Affiliation Llc'\n",
      " 'Patriot Taxi Dba Peace Taxi Association' 'Checker Taxi Affiliation'\n",
      " 'Blue Diamond' 'Chicago Medallion Management' '24 Seven Taxi'\n",
      " 'Chicago Medallion Leasing INC' 'Checker Taxi' 'American United'\n",
      " 'Chicago Independents' 'KOAM Taxi Association' 'Chicago Taxicab'\n",
      " 'Top Cab Affiliation' 'Gold Coast Taxi' 'Service Taxi Association'\n",
      " '5 Star Taxi' '303 Taxi' 'Setare Inc' 'American United Taxi Affiliation'\n",
      " 'Leonard Cab Co' 'Metro Jet Taxi A' 'Norshore Cab'\n",
      " '6742 - 83735 Tasha Ride Inc' '3591 - 63480 Chuks Cab'\n",
      " '1469 - 64126 Omar Jada' '6743 - 78771 Luhak Corp'\n",
      " '0118 - 42111 Godfrey S. Awir' '6574 - Babylon Express Inc.'\n",
      " 'Chicago Star Taxicab' '1085 - 72312 N and W Cab Co'\n",
      " '2809 - 95474 C & D Cab Co Inc.' '2092 - 61288 Sbeih Company'\n",
      " '3011 - 66308 JBL Cab Inc.' '3620 - 52292 David K. Cab Corp.'\n",
      " '4615 - 83503 Tyrone Henderson' '3623 - 72222 Arrington Enterprises'\n",
      " '5074 - 54002 Ahzmi Inc' '2823 - 73307 Lee Express Inc'\n",
      " '4623 - 27290 Jay Kim' '3721 - Santamaria Express'\n",
      " '5006 - 39261 Salifu Bawa' '2192 - 73487 Zeymane Corp'\n",
      " '6057 - 24657 Richard Addo' '5997 - 65283 AW Services Inc.' 'Metro Group'\n",
      " '5062 - 34841 Sam Mestas' '4053 - 40193 Adwar H. Nikola'\n",
      " '2733 - 74600 Benny Jona' '5874 - 73628 Sergey Cab Corp.'\n",
      " '2241 - 44667 - Felman Corp' '3556 - 36214 RC Andrews Cab']\n",
      "['Loop' 'River North' 'Streeterville' 'West Loop' \"O'Hare\" 'Lake View'\n",
      " 'Grant Park' 'Museum Campus' 'Gold Coast' 'Sheffield & DePaul'\n",
      " 'Lincoln Park' 'East Village' 'Little Italy, UIC' 'Uptown'\n",
      " 'Near South Side' 'Garfield Ridge' 'Logan Square' 'Edgewater' 'West Town'\n",
      " 'Old Town' 'Rush & Division' 'North Center' 'Lincoln Square'\n",
      " 'Rogers Park' 'West Ridge' 'Irving Park' 'Hyde Park' 'Avondale'\n",
      " 'Wicker Park' 'Albany Park' 'United Center' 'Lower West Side' 'Douglas'\n",
      " 'Portage Park' 'Humboldt Park' 'Norwood Park' 'Kenwood' 'Bridgeport'\n",
      " 'Armour Square' 'Jefferson Park' 'Bucktown' 'North Park' 'Garfield Park'\n",
      " 'Mckinley Park' 'Belmont Cragin' 'Boystown' 'Chinatown' 'Grand Boulevard'\n",
      " 'Austin' 'Sauganash,Forest Glen' 'South Shore' 'Woodlawn'\n",
      " 'Little Village' 'Jackson Park' 'North Lawndale' 'Dunning'\n",
      " 'Ukrainian Village' 'Hermosa' 'Englewood' 'Chatham' 'New City'\n",
      " 'Grand Crossing' 'Brighton Park' 'Andersonville' 'Oakland' 'Ashburn'\n",
      " 'Washington Park' 'Auburn Gresham' 'Clearing' 'Roseland' 'Wrigleyville'\n",
      " 'Edison Park' 'South Chicago' 'Chicago Lawn' 'Beverly' 'Calumet Heights'\n",
      " 'Washington Heights' 'Archer Heights' 'Gage Park' 'Fuller Park'\n",
      " 'West Lawn' 'Morgan Park' 'South Deering' 'Avalon Park' 'West Pullman'\n",
      " 'Montclare' 'West Elsdon' 'Pullman' 'Undef' 'Mount Greenwood' 'Hegewisch'\n",
      " 'Burnside' 'East Side' 'Riverdale']\n"
     ]
    }
   ],
   "source": [
    "print(name_amt['company_name'].unique())\n",
    "print(loc_avg['dropoff_location_name'].unique())"
   ]
  },
  {
   "cell_type": "markdown",
   "metadata": {},
   "source": [
    "Printed the general/summary information about the DataFrames. Checked for missing values and duplicates.\n",
    "Looking at the samples and datatypes and it all looks good for further reading."
   ]
  },
  {
   "cell_type": "markdown",
   "metadata": {},
   "source": [
    "<div class=\"alert alert-success\" style=\"border-radius: 15px; box-shadow: 4px 4px 4px; border: 1px solid \">\n",
    "<h2> Reviewer's comment </h2>\n",
    "    \n",
    "Good!     \n",
    "</div>"
   ]
  },
  {
   "cell_type": "markdown",
   "metadata": {},
   "source": [
    "Identifed the top 10 neighborhoods in terms of drop-offs."
   ]
  },
  {
   "cell_type": "code",
   "execution_count": 11,
   "metadata": {},
   "outputs": [
    {
     "data": {
      "text/html": [
       "<div>\n",
       "<style scoped>\n",
       "    .dataframe tbody tr th:only-of-type {\n",
       "        vertical-align: middle;\n",
       "    }\n",
       "\n",
       "    .dataframe tbody tr th {\n",
       "        vertical-align: top;\n",
       "    }\n",
       "\n",
       "    .dataframe thead th {\n",
       "        text-align: right;\n",
       "    }\n",
       "</style>\n",
       "<table border=\"1\" class=\"dataframe\">\n",
       "  <thead>\n",
       "    <tr style=\"text-align: right;\">\n",
       "      <th></th>\n",
       "      <th>dropoff_location_name</th>\n",
       "      <th>average_trips</th>\n",
       "    </tr>\n",
       "  </thead>\n",
       "  <tbody>\n",
       "    <tr>\n",
       "      <th>0</th>\n",
       "      <td>Loop</td>\n",
       "      <td>10727.466667</td>\n",
       "    </tr>\n",
       "    <tr>\n",
       "      <th>1</th>\n",
       "      <td>River North</td>\n",
       "      <td>9523.666667</td>\n",
       "    </tr>\n",
       "    <tr>\n",
       "      <th>2</th>\n",
       "      <td>Streeterville</td>\n",
       "      <td>6664.666667</td>\n",
       "    </tr>\n",
       "    <tr>\n",
       "      <th>3</th>\n",
       "      <td>West Loop</td>\n",
       "      <td>5163.666667</td>\n",
       "    </tr>\n",
       "    <tr>\n",
       "      <th>4</th>\n",
       "      <td>O'Hare</td>\n",
       "      <td>2546.900000</td>\n",
       "    </tr>\n",
       "    <tr>\n",
       "      <th>5</th>\n",
       "      <td>Lake View</td>\n",
       "      <td>2420.966667</td>\n",
       "    </tr>\n",
       "    <tr>\n",
       "      <th>6</th>\n",
       "      <td>Grant Park</td>\n",
       "      <td>2068.533333</td>\n",
       "    </tr>\n",
       "    <tr>\n",
       "      <th>7</th>\n",
       "      <td>Museum Campus</td>\n",
       "      <td>1510.000000</td>\n",
       "    </tr>\n",
       "    <tr>\n",
       "      <th>8</th>\n",
       "      <td>Gold Coast</td>\n",
       "      <td>1364.233333</td>\n",
       "    </tr>\n",
       "    <tr>\n",
       "      <th>9</th>\n",
       "      <td>Sheffield &amp; DePaul</td>\n",
       "      <td>1259.766667</td>\n",
       "    </tr>\n",
       "  </tbody>\n",
       "</table>\n",
       "</div>"
      ],
      "text/plain": [
       "  dropoff_location_name  average_trips\n",
       "0                  Loop   10727.466667\n",
       "1           River North    9523.666667\n",
       "2         Streeterville    6664.666667\n",
       "3             West Loop    5163.666667\n",
       "4                O'Hare    2546.900000\n",
       "5             Lake View    2420.966667\n",
       "6            Grant Park    2068.533333\n",
       "7         Museum Campus    1510.000000\n",
       "8            Gold Coast    1364.233333\n",
       "9    Sheffield & DePaul    1259.766667"
      ]
     },
     "execution_count": 11,
     "metadata": {},
     "output_type": "execute_result"
    }
   ],
   "source": [
    "top = loc_avg.sort_values(by='average_trips', ascending=False).head(10)\n",
    "top"
   ]
  },
  {
   "cell_type": "code",
   "execution_count": 12,
   "metadata": {},
   "outputs": [
    {
     "data": {
      "image/png": "[encoded data removed]",
      "text/plain": [
       "<Figure size 640x480 with 1 Axes>"
      ]
     },
     "metadata": {},
     "output_type": "display_data"
    }
   ],
   "source": [
    "top.plot(kind='bar',x= 'dropoff_location_name',\n",
    "         y= 'average_trips',\n",
    "         legend= False,\n",
    "                  xlabel= 'Location', \n",
    "                  ylabel= 'Average Trips',\n",
    "                  title= 'Average trips to Top 10 locations')\n",
    "plt.show()"
   ]
  },
  {
   "cell_type": "markdown",
   "metadata": {},
   "source": [
    "<div class=\"alert alert-danger\" style=\"border-radius: 15px; box-shadow: 4px 4px 4px; border: 1px solid \">\n",
    "<b> Reviewer's comment </b>\n",
    "    \n",
    "\n",
    "Would you please display the location names on the X axis?     \n",
    "</div>\n",
    "<div class=\"alert alert-warning\" style=\"border-radius: 15px; box-shadow: 4px 4px 4px; border: 1px solid \">\n",
    "<b> Reviewer's comment </b>\n",
    "    \n",
    "\n",
    "Legend can be disabled.     \n",
    "</div>\n",
    "<div class=\"alert alert-success\" style=\"border-radius: 15px; box-shadow: 4px 4px 4px; border: 1px solid \">\n",
    "<h2> Reviewer's comment 2 </h2>\n",
    "    \n",
    "Looks great!     \n",
    "</div>"
   ]
  },
  {
   "cell_type": "markdown",
   "metadata": {},
   "source": [
    "Bar graph showing the average drop offs to the top 10 locations. The top 4 locations have a much greater amount compared to the rest."
   ]
  },
  {
   "cell_type": "code",
   "execution_count": 13,
   "metadata": {},
   "outputs": [
    {
     "data": {
      "image/png": "[encoded data removed]",
      "text/plain": [
       "<Figure size 640x480 with 1 Axes>"
      ]
     },
     "metadata": {},
     "output_type": "display_data"
    }
   ],
   "source": [
    "sns.boxplot(data=top, x='average_trips')\n",
    "plt.title('Boxplot of Average Trips per Neighborhood')\n",
    "plt.show()"
   ]
  },
  {
   "cell_type": "markdown",
   "metadata": {},
   "source": [
    "Boxplot of the average trips, showing the median average of the top ten locations having about 2500 trips."
   ]
  },
  {
   "cell_type": "markdown",
   "metadata": {},
   "source": [
    "<div class=\"alert alert-danger\" style=\"border-radius: 15px; box-shadow: 4px 4px 4px; border: 1px solid \">\n",
    "<b> Reviewer's comment </b>\n",
    "    \n",
    "\n",
    "The `top` dataframe has only ten values. Are you trying yo display ten numbers, each of which is 1?   </div>"
   ]
  },
  {
   "cell_type": "code",
   "execution_count": 14,
   "metadata": {},
   "outputs": [
    {
     "data": {
      "image/png": "[encoded data removed]",
      "text/plain": [
       "<Figure size 640x480 with 1 Axes>"
      ]
     },
     "metadata": {},
     "output_type": "display_data"
    }
   ],
   "source": [
    "top.plot(kind='scatter', x= 'dropoff_location_name', y= 'average_trips', )\n",
    "plt.xticks(rotation=85)\n",
    "plt.show()"
   ]
  },
  {
   "cell_type": "markdown",
   "metadata": {},
   "source": [
    "Scatterplot similar to the bar plot. it shows the locations and their average drop offs. The top 4 are:\n",
    "- Loop\n",
    "- River North\n",
    "- Streeterville\n",
    "- West Loop."
   ]
  },
  {
   "cell_type": "markdown",
   "metadata": {},
   "source": [
    "<div class=\"alert alert-success\" style=\"border-radius: 15px; box-shadow: 4px 4px 4px; border: 1px solid \">\n",
    "<h2> Reviewer's comment 2 </h2>\n",
    "    \n",
    "Well done!     \n",
    "</div>"
   ]
  },
  {
   "cell_type": "code",
   "execution_count": 15,
   "metadata": {},
   "outputs": [
    {
     "data": {
      "text/html": [
       "<div>\n",
       "<style scoped>\n",
       "    .dataframe tbody tr th:only-of-type {\n",
       "        vertical-align: middle;\n",
       "    }\n",
       "\n",
       "    .dataframe tbody tr th {\n",
       "        vertical-align: top;\n",
       "    }\n",
       "\n",
       "    .dataframe thead th {\n",
       "        text-align: right;\n",
       "    }\n",
       "</style>\n",
       "<table border=\"1\" class=\"dataframe\">\n",
       "  <thead>\n",
       "    <tr style=\"text-align: right;\">\n",
       "      <th></th>\n",
       "      <th>company_name</th>\n",
       "      <th>trips_amount</th>\n",
       "    </tr>\n",
       "  </thead>\n",
       "  <tbody>\n",
       "    <tr>\n",
       "      <th>0</th>\n",
       "      <td>Flash Cab</td>\n",
       "      <td>19558</td>\n",
       "    </tr>\n",
       "    <tr>\n",
       "      <th>1</th>\n",
       "      <td>Taxi Affiliation Services</td>\n",
       "      <td>11422</td>\n",
       "    </tr>\n",
       "    <tr>\n",
       "      <th>2</th>\n",
       "      <td>Medallion Leasing</td>\n",
       "      <td>10367</td>\n",
       "    </tr>\n",
       "    <tr>\n",
       "      <th>3</th>\n",
       "      <td>Yellow Cab</td>\n",
       "      <td>9888</td>\n",
       "    </tr>\n",
       "    <tr>\n",
       "      <th>4</th>\n",
       "      <td>Taxi Affiliation Service Yellow</td>\n",
       "      <td>9299</td>\n",
       "    </tr>\n",
       "    <tr>\n",
       "      <th>5</th>\n",
       "      <td>Chicago Carriage Cab Corp</td>\n",
       "      <td>9181</td>\n",
       "    </tr>\n",
       "    <tr>\n",
       "      <th>6</th>\n",
       "      <td>City Service</td>\n",
       "      <td>8448</td>\n",
       "    </tr>\n",
       "    <tr>\n",
       "      <th>7</th>\n",
       "      <td>Sun Taxi</td>\n",
       "      <td>7701</td>\n",
       "    </tr>\n",
       "    <tr>\n",
       "      <th>8</th>\n",
       "      <td>Star North Management LLC</td>\n",
       "      <td>7455</td>\n",
       "    </tr>\n",
       "    <tr>\n",
       "      <th>9</th>\n",
       "      <td>Blue Ribbon Taxi Association Inc.</td>\n",
       "      <td>5953</td>\n",
       "    </tr>\n",
       "  </tbody>\n",
       "</table>\n",
       "</div>"
      ],
      "text/plain": [
       "                        company_name  trips_amount\n",
       "0                          Flash Cab         19558\n",
       "1          Taxi Affiliation Services         11422\n",
       "2                  Medallion Leasing         10367\n",
       "3                         Yellow Cab          9888\n",
       "4    Taxi Affiliation Service Yellow          9299\n",
       "5          Chicago Carriage Cab Corp          9181\n",
       "6                       City Service          8448\n",
       "7                           Sun Taxi          7701\n",
       "8          Star North Management LLC          7455\n",
       "9  Blue Ribbon Taxi Association Inc.          5953"
      ]
     },
     "execution_count": 15,
     "metadata": {},
     "output_type": "execute_result"
    }
   ],
   "source": [
    "top_name = name_amt.sort_values(by='trips_amount', ascending=False).head(10)\n",
    "top_name"
   ]
  },
  {
   "cell_type": "markdown",
   "metadata": {},
   "source": [
    "Printed the top 10 companies with the greates amount of trips. The top company is flash cab with almost 2x its competition."
   ]
  },
  {
   "cell_type": "code",
   "execution_count": 16,
   "metadata": {},
   "outputs": [
    {
     "data": {
      "image/png": "[encoded data removed]",
      "text/plain": [
       "<Figure size 640x480 with 1 Axes>"
      ]
     },
     "metadata": {},
     "output_type": "display_data"
    }
   ],
   "source": [
    "top_name.plot(kind='bar',\n",
    "              x= 'company_name',\n",
    "              y='trips_amount', \n",
    "              xlabel= 'Company',\n",
    "             ylabel= 'Amount of trips',\n",
    "             title= 'Trips per company')\n",
    "plt.show()"
   ]
  },
  {
   "cell_type": "markdown",
   "metadata": {},
   "source": [
    "Bar graph to visualize the data better. it is apparent that Flash Cab far exceeds its compeditors in total amount of trips, with Taxi Affiliation Services, Medallion Leasing, and Yellow Cab coming in after it for the top spots.\n",
    "Top 4 companies:\n",
    "- Flash Cab\n",
    "- Taxi Affiliation Services\t\n",
    "- Medallion Leasing\t\n",
    "- Yellow Cab"
   ]
  },
  {
   "cell_type": "markdown",
   "metadata": {},
   "source": [
    "<div class=\"alert alert-danger\" style=\"border-radius: 15px; box-shadow: 4px 4px 4px; border: 1px solid \">\n",
    "<b> Reviewer's comment </b>\n",
    "    \n",
    "Please display top-10 companies.  </div>\n",
    "<div class=\"alert alert-success\" style=\"border-radius: 15px; box-shadow: 4px 4px 4px; border: 1px solid \">\n",
    "<h2> Reviewer's comment 2 </h2>\n",
    "    \n",
    "Correct.     \n",
    "</div>"
   ]
  },
  {
   "cell_type": "markdown",
   "metadata": {},
   "source": [
    "# Test the hypothesis:\n",
    "\n",
    "\"The average duration of rides from the Loop to O'Hare International Airport changes on rainy Saturdays.\"\n",
    "Decideed on the significance level with alpha = .05."
   ]
  },
  {
   "cell_type": "markdown",
   "metadata": {},
   "source": [
    "Loaded weather dataset and enriched the data and used logical indexing to get the portions thats needed to test the hypothesis."
   ]
  },
  {
   "cell_type": "markdown",
   "metadata": {},
   "source": [
    "<div class=\"alert alert-danger\" style=\"border-radius: 15px; box-shadow: 4px 4px 4px; border: 1px solid \">\n",
    "<b> Reviewer's comment </b>\n",
    "    \n",
    "\n",
    "Please add wordings for both hypotheses.\n",
    "    \n",
    "</div>"
   ]
  },
  {
   "cell_type": "markdown",
   "metadata": {},
   "source": [
    "###   <span style=\"color:green\">Comment to reviewer</span>\n",
    "\n",
    "Isn't there only one hypothesis that we are supposed to test for?\n",
    "\n",
    "\"The average duration of rides from the Loop to O'Hare International Airport changes on rainy Saturdays.\"\n",
    "\n",
    "I only see this one on the instructions."
   ]
  },
  {
   "cell_type": "markdown",
   "metadata": {},
   "source": [
    "<div class=\"alert alert-success\" style=\"border-radius: 15px; box-shadow: 4px 4px 4px; border: 1px solid \">\n",
    "<h2> Reviewer's comment 2 </h2>\n",
    "    \n",
    "There's one hypothesis to test, but there are two to formulate: H0 and H1. I see the wordings below, well done! \n",
    "</div>"
   ]
  },
  {
   "cell_type": "code",
   "execution_count": 17,
   "metadata": {},
   "outputs": [
    {
     "name": "stdout",
     "output_type": "stream",
     "text": [
      "                 start_ts weather_conditions  duration_seconds\n",
      "0     2017-11-25 16:00:00               Good            2410.0\n",
      "1     2017-11-25 14:00:00               Good            1920.0\n",
      "2     2017-11-25 12:00:00               Good            1543.0\n",
      "3     2017-11-04 10:00:00               Good            2512.0\n",
      "4     2017-11-11 07:00:00               Good            1440.0\n",
      "...                   ...                ...               ...\n",
      "1063  2017-11-25 11:00:00               Good               0.0\n",
      "1064  2017-11-11 10:00:00               Good            1318.0\n",
      "1065  2017-11-11 13:00:00               Good            2100.0\n",
      "1066  2017-11-11 08:00:00               Good            1380.0\n",
      "1067  2017-11-04 16:00:00                Bad            2834.0\n",
      "\n",
      "[1068 rows x 3 columns]\n",
      "\n",
      "<class 'pandas.core.frame.DataFrame'>\n",
      "RangeIndex: 1068 entries, 0 to 1067\n",
      "Data columns (total 3 columns):\n",
      " #   Column              Non-Null Count  Dtype  \n",
      "---  ------              --------------  -----  \n",
      " 0   start_ts            1068 non-null   object \n",
      " 1   weather_conditions  1068 non-null   object \n",
      " 2   duration_seconds    1068 non-null   float64\n",
      "dtypes: float64(1), object(2)\n",
      "memory usage: 25.2+ KB\n",
      "None\n"
     ]
    }
   ],
   "source": [
    "weather = pd.read_csv('/datasets/project_sql_result_07.csv')\n",
    "print(weather)\n",
    "print()\n",
    "print(weather.info())"
   ]
  },
  {
   "cell_type": "markdown",
   "metadata": {},
   "source": [
    "<div class=\"alert alert-danger\" style=\"border-radius: 15px; box-shadow: 4px 4px 4px; border: 1px solid \">\n",
    "<b> Reviewer's comment </b>\n",
    "    \n",
    "\n",
    "- Please don't forget to use the correct path.  \n",
    "\n",
    "\n",
    "- Are there any duplicates? </div>"
   ]
  },
  {
   "cell_type": "markdown",
   "metadata": {},
   "source": [
    "Checked for missing and duplicate values. Found almost 200 duplicated rows. used drop duplicates to get rid of these reoccurances to clean up the data."
   ]
  },
  {
   "cell_type": "code",
   "execution_count": 18,
   "metadata": {},
   "outputs": [
    {
     "data": {
      "text/plain": [
       "197"
      ]
     },
     "execution_count": 18,
     "metadata": {},
     "output_type": "execute_result"
    }
   ],
   "source": [
    "weather.duplicated().sum()"
   ]
  },
  {
   "cell_type": "code",
   "execution_count": 19,
   "metadata": {},
   "outputs": [
    {
     "data": {
      "text/html": [
       "<div>\n",
       "<style scoped>\n",
       "    .dataframe tbody tr th:only-of-type {\n",
       "        vertical-align: middle;\n",
       "    }\n",
       "\n",
       "    .dataframe tbody tr th {\n",
       "        vertical-align: top;\n",
       "    }\n",
       "\n",
       "    .dataframe thead th {\n",
       "        text-align: right;\n",
       "    }\n",
       "</style>\n",
       "<table border=\"1\" class=\"dataframe\">\n",
       "  <thead>\n",
       "    <tr style=\"text-align: right;\">\n",
       "      <th></th>\n",
       "      <th>start_ts</th>\n",
       "      <th>weather_conditions</th>\n",
       "      <th>duration_seconds</th>\n",
       "    </tr>\n",
       "  </thead>\n",
       "  <tbody>\n",
       "    <tr>\n",
       "      <th>0</th>\n",
       "      <td>2017-11-25 16:00:00</td>\n",
       "      <td>Good</td>\n",
       "      <td>2410.0</td>\n",
       "    </tr>\n",
       "    <tr>\n",
       "      <th>1</th>\n",
       "      <td>2017-11-25 14:00:00</td>\n",
       "      <td>Good</td>\n",
       "      <td>1920.0</td>\n",
       "    </tr>\n",
       "    <tr>\n",
       "      <th>2</th>\n",
       "      <td>2017-11-25 12:00:00</td>\n",
       "      <td>Good</td>\n",
       "      <td>1543.0</td>\n",
       "    </tr>\n",
       "    <tr>\n",
       "      <th>3</th>\n",
       "      <td>2017-11-04 10:00:00</td>\n",
       "      <td>Good</td>\n",
       "      <td>2512.0</td>\n",
       "    </tr>\n",
       "    <tr>\n",
       "      <th>4</th>\n",
       "      <td>2017-11-11 07:00:00</td>\n",
       "      <td>Good</td>\n",
       "      <td>1440.0</td>\n",
       "    </tr>\n",
       "    <tr>\n",
       "      <th>...</th>\n",
       "      <td>...</td>\n",
       "      <td>...</td>\n",
       "      <td>...</td>\n",
       "    </tr>\n",
       "    <tr>\n",
       "      <th>1060</th>\n",
       "      <td>2017-11-04 14:00:00</td>\n",
       "      <td>Good</td>\n",
       "      <td>2700.0</td>\n",
       "    </tr>\n",
       "    <tr>\n",
       "      <th>1061</th>\n",
       "      <td>2017-11-18 16:00:00</td>\n",
       "      <td>Bad</td>\n",
       "      <td>2186.0</td>\n",
       "    </tr>\n",
       "    <tr>\n",
       "      <th>1063</th>\n",
       "      <td>2017-11-25 11:00:00</td>\n",
       "      <td>Good</td>\n",
       "      <td>0.0</td>\n",
       "    </tr>\n",
       "    <tr>\n",
       "      <th>1064</th>\n",
       "      <td>2017-11-11 10:00:00</td>\n",
       "      <td>Good</td>\n",
       "      <td>1318.0</td>\n",
       "    </tr>\n",
       "    <tr>\n",
       "      <th>1067</th>\n",
       "      <td>2017-11-04 16:00:00</td>\n",
       "      <td>Bad</td>\n",
       "      <td>2834.0</td>\n",
       "    </tr>\n",
       "  </tbody>\n",
       "</table>\n",
       "<p>871 rows × 3 columns</p>\n",
       "</div>"
      ],
      "text/plain": [
       "                 start_ts weather_conditions  duration_seconds\n",
       "0     2017-11-25 16:00:00               Good            2410.0\n",
       "1     2017-11-25 14:00:00               Good            1920.0\n",
       "2     2017-11-25 12:00:00               Good            1543.0\n",
       "3     2017-11-04 10:00:00               Good            2512.0\n",
       "4     2017-11-11 07:00:00               Good            1440.0\n",
       "...                   ...                ...               ...\n",
       "1060  2017-11-04 14:00:00               Good            2700.0\n",
       "1061  2017-11-18 16:00:00                Bad            2186.0\n",
       "1063  2017-11-25 11:00:00               Good               0.0\n",
       "1064  2017-11-11 10:00:00               Good            1318.0\n",
       "1067  2017-11-04 16:00:00                Bad            2834.0\n",
       "\n",
       "[871 rows x 3 columns]"
      ]
     },
     "execution_count": 19,
     "metadata": {},
     "output_type": "execute_result"
    }
   ],
   "source": [
    "weather = weather.drop_duplicates()\n",
    "weather"
   ]
  },
  {
   "cell_type": "code",
   "execution_count": 20,
   "metadata": {},
   "outputs": [
    {
     "data": {
      "text/plain": [
       "start_ts              0\n",
       "weather_conditions    0\n",
       "duration_seconds      0\n",
       "dtype: int64"
      ]
     },
     "execution_count": 20,
     "metadata": {},
     "output_type": "execute_result"
    }
   ],
   "source": [
    "weather.isna().sum()"
   ]
  },
  {
   "cell_type": "code",
   "execution_count": 21,
   "metadata": {},
   "outputs": [
    {
     "name": "stdout",
     "output_type": "stream",
     "text": [
      "<class 'pandas.core.frame.DataFrame'>\n",
      "Int64Index: 871 entries, 0 to 1067\n",
      "Data columns (total 3 columns):\n",
      " #   Column              Non-Null Count  Dtype  \n",
      "---  ------              --------------  -----  \n",
      " 0   start_ts            871 non-null    object \n",
      " 1   weather_conditions  871 non-null    object \n",
      " 2   duration_seconds    871 non-null    float64\n",
      "dtypes: float64(1), object(2)\n",
      "memory usage: 27.2+ KB\n"
     ]
    }
   ],
   "source": [
    "weather.info()"
   ]
  },
  {
   "cell_type": "markdown",
   "metadata": {},
   "source": [
    "Changed the start_ts column to datetime to help with further analysis and grab specific days from the data."
   ]
  },
  {
   "cell_type": "code",
   "execution_count": 22,
   "metadata": {},
   "outputs": [],
   "source": [
    "weather['start_ts']=pd.to_datetime(weather['start_ts'])"
   ]
  },
  {
   "cell_type": "code",
   "execution_count": 23,
   "metadata": {},
   "outputs": [
    {
     "name": "stdout",
     "output_type": "stream",
     "text": [
      "<class 'pandas.core.frame.DataFrame'>\n",
      "Int64Index: 871 entries, 0 to 1067\n",
      "Data columns (total 3 columns):\n",
      " #   Column              Non-Null Count  Dtype         \n",
      "---  ------              --------------  -----         \n",
      " 0   start_ts            871 non-null    datetime64[ns]\n",
      " 1   weather_conditions  871 non-null    object        \n",
      " 2   duration_seconds    871 non-null    float64       \n",
      "dtypes: datetime64[ns](1), float64(1), object(1)\n",
      "memory usage: 27.2+ KB\n"
     ]
    }
   ],
   "source": [
    "weather.info()"
   ]
  },
  {
   "cell_type": "code",
   "execution_count": 24,
   "metadata": {},
   "outputs": [
    {
     "data": {
      "text/html": [
       "<div>\n",
       "<style scoped>\n",
       "    .dataframe tbody tr th:only-of-type {\n",
       "        vertical-align: middle;\n",
       "    }\n",
       "\n",
       "    .dataframe tbody tr th {\n",
       "        vertical-align: top;\n",
       "    }\n",
       "\n",
       "    .dataframe thead th {\n",
       "        text-align: right;\n",
       "    }\n",
       "</style>\n",
       "<table border=\"1\" class=\"dataframe\">\n",
       "  <thead>\n",
       "    <tr style=\"text-align: right;\">\n",
       "      <th></th>\n",
       "      <th>start_ts</th>\n",
       "      <th>weather_conditions</th>\n",
       "      <th>duration_seconds</th>\n",
       "    </tr>\n",
       "  </thead>\n",
       "  <tbody>\n",
       "    <tr>\n",
       "      <th>0</th>\n",
       "      <td>2017-11-25 16:00:00</td>\n",
       "      <td>Good</td>\n",
       "      <td>2410.0</td>\n",
       "    </tr>\n",
       "    <tr>\n",
       "      <th>1</th>\n",
       "      <td>2017-11-25 14:00:00</td>\n",
       "      <td>Good</td>\n",
       "      <td>1920.0</td>\n",
       "    </tr>\n",
       "    <tr>\n",
       "      <th>2</th>\n",
       "      <td>2017-11-25 12:00:00</td>\n",
       "      <td>Good</td>\n",
       "      <td>1543.0</td>\n",
       "    </tr>\n",
       "    <tr>\n",
       "      <th>3</th>\n",
       "      <td>2017-11-04 10:00:00</td>\n",
       "      <td>Good</td>\n",
       "      <td>2512.0</td>\n",
       "    </tr>\n",
       "    <tr>\n",
       "      <th>4</th>\n",
       "      <td>2017-11-11 07:00:00</td>\n",
       "      <td>Good</td>\n",
       "      <td>1440.0</td>\n",
       "    </tr>\n",
       "    <tr>\n",
       "      <th>...</th>\n",
       "      <td>...</td>\n",
       "      <td>...</td>\n",
       "      <td>...</td>\n",
       "    </tr>\n",
       "    <tr>\n",
       "      <th>1060</th>\n",
       "      <td>2017-11-04 14:00:00</td>\n",
       "      <td>Good</td>\n",
       "      <td>2700.0</td>\n",
       "    </tr>\n",
       "    <tr>\n",
       "      <th>1061</th>\n",
       "      <td>2017-11-18 16:00:00</td>\n",
       "      <td>Bad</td>\n",
       "      <td>2186.0</td>\n",
       "    </tr>\n",
       "    <tr>\n",
       "      <th>1063</th>\n",
       "      <td>2017-11-25 11:00:00</td>\n",
       "      <td>Good</td>\n",
       "      <td>0.0</td>\n",
       "    </tr>\n",
       "    <tr>\n",
       "      <th>1064</th>\n",
       "      <td>2017-11-11 10:00:00</td>\n",
       "      <td>Good</td>\n",
       "      <td>1318.0</td>\n",
       "    </tr>\n",
       "    <tr>\n",
       "      <th>1067</th>\n",
       "      <td>2017-11-04 16:00:00</td>\n",
       "      <td>Bad</td>\n",
       "      <td>2834.0</td>\n",
       "    </tr>\n",
       "  </tbody>\n",
       "</table>\n",
       "<p>871 rows × 3 columns</p>\n",
       "</div>"
      ],
      "text/plain": [
       "                start_ts weather_conditions  duration_seconds\n",
       "0    2017-11-25 16:00:00               Good            2410.0\n",
       "1    2017-11-25 14:00:00               Good            1920.0\n",
       "2    2017-11-25 12:00:00               Good            1543.0\n",
       "3    2017-11-04 10:00:00               Good            2512.0\n",
       "4    2017-11-11 07:00:00               Good            1440.0\n",
       "...                  ...                ...               ...\n",
       "1060 2017-11-04 14:00:00               Good            2700.0\n",
       "1061 2017-11-18 16:00:00                Bad            2186.0\n",
       "1063 2017-11-25 11:00:00               Good               0.0\n",
       "1064 2017-11-11 10:00:00               Good            1318.0\n",
       "1067 2017-11-04 16:00:00                Bad            2834.0\n",
       "\n",
       "[871 rows x 3 columns]"
      ]
     },
     "execution_count": 24,
     "metadata": {},
     "output_type": "execute_result"
    }
   ],
   "source": [
    "weather"
   ]
  },
  {
   "cell_type": "markdown",
   "metadata": {},
   "source": [
    "Grouped the weather data into Bad aka rainy weather and good aka sunny weather. For both instinces I filtered to only include Saturdays which is day of the week 5 with Monday= 0."
   ]
  },
  {
   "cell_type": "code",
   "execution_count": 25,
   "metadata": {},
   "outputs": [],
   "source": [
    "rain = weather[(weather['weather_conditions']== 'Bad') &(weather['start_ts'].dt.dayofweek == 5)]\n",
    "non_rain = weather[(weather['weather_conditions']== 'Good') & (weather['start_ts'].dt.dayofweek == 5)]\n"
   ]
  },
  {
   "cell_type": "code",
   "execution_count": 26,
   "metadata": {},
   "outputs": [
    {
     "data": {
      "text/plain": [
       "2409.2297297297296"
      ]
     },
     "execution_count": 26,
     "metadata": {},
     "output_type": "execute_result"
    }
   ],
   "source": [
    "average_duration = rain['duration_seconds'].mean()\n",
    "average_duration"
   ]
  },
  {
   "cell_type": "markdown",
   "metadata": {},
   "source": [
    "Above is the average duration of rides from Loop to O'Hare International Airport on rainy saturdays. Below is the average on sunny days."
   ]
  },
  {
   "cell_type": "code",
   "execution_count": 27,
   "metadata": {},
   "outputs": [
    {
     "data": {
      "text/plain": [
       "2032.253112033195"
      ]
     },
     "execution_count": 27,
     "metadata": {},
     "output_type": "execute_result"
    }
   ],
   "source": [
    "average_duration_non = non_rain['duration_seconds'].mean()\n",
    "average_duration_non"
   ]
  },
  {
   "cell_type": "markdown",
   "metadata": {},
   "source": [
    "Calculated the averages of the trip duration. it seems as though rain causes the tip duration to increase. Seeing this data i can tell that the hypothesis may have some traction."
   ]
  },
  {
   "cell_type": "code",
   "execution_count": 28,
   "metadata": {},
   "outputs": [
    {
     "name": "stdout",
     "output_type": "stream",
     "text": [
      "p-value: 7.397770692813658e-08\n",
      "We reject the null hypothesis\n"
     ]
    }
   ],
   "source": [
    "alpha=.05\n",
    "results= st.ttest_ind(rain['duration_seconds'],non_rain['duration_seconds'])\n",
    "print('p-value:', results.pvalue)\n",
    "if results.pvalue < alpha:\n",
    "    print(\"We reject the null hypothesis\")\n",
    "else:\n",
    "    print(\"We can't reject the null hypothesis\")"
   ]
  },
  {
   "cell_type": "markdown",
   "metadata": {},
   "source": [
    "Above I tested the null hypothesis that the trip duration of rainy and non rainy days are the same. The alternate hypothesis being that the durations are diffrent. Since we reject the null it is clear that we cant say that the average times are the same on rainy day trips. I chose an alpha value of .05 and filtered the data do only include Saturdays where the weather was good or bad."
   ]
  },
  {
   "cell_type": "markdown",
   "metadata": {},
   "source": [
    "<div class=\"alert alert-success\" style=\"border-radius: 15px; box-shadow: 4px 4px 4px; border: 1px solid \">\n",
    "<h2> Reviewer's comment 2 </h2>\n",
    "    \n",
    "Correct. \n",
    "    \n",
    "</div>"
   ]
  },
  {
   "cell_type": "markdown",
   "metadata": {},
   "source": [
    "Overall for this project, i found information on a rideshare company Zuber to find patterns on teh avaible information. My goal was to understand passenger preferences and the impact of external factors on rides. I used SQL to parse the data form teh websight: https://practicum-content.s3.us-west-1.amazonaws.com/data-analyst-eng/moved_chicago_weather_2017.html and did Exploratory data analysis and found the number of taxi rides for each taxi company for November 15-16, 2017, found the number of rides for every taxi company whose name contains the words \"Yellow\" or \"Blue\" on the same timeframe as well as got the most popular taxi companies and found the number of rides for the companies. I tested the hypothesis that rides from the the Loop to O'Hare International Airport changes on rainy Saturdays.\n",
    "\n",
    "For the python portion of the project I did furthar EDA on two datasets by importing the files, studied teh data it contained and checked for missing/duplicate values and enritched the data. I also made sure all the datatypes were correct. I found the top 10  neighborhoods in terms of drop-offs. i also plotted the data to help visualize it better for a greater understanding. I finished off with testing teh hypothesis that \"The average duration of rides from the Loop to O'Hare International Airport changes on rainy Saturdays.\" i chose an alpha value of .05 and set up the null and alternative hypothesis. It concluded that rainy saturdays and sunny saturdays dont have the same trip durations."
   ]
  },
  {
   "cell_type": "markdown",
   "metadata": {},
   "source": [
    "<div class=\"alert alert-success\" style=\"border-radius: 15px; box-shadow: 4px 4px 4px; border: 1px solid \">\n",
    "<h2> Reviewer's comment</h2>\n",
    "    \n",
    "Good 👍\n",
    "</div>\n",
    "<div class=\"alert alert-warning\" style=\"border-radius: 15px; box-shadow: 4px 4px 4px; border: 1px solid \">\n",
    "<b>  Reviewer's comment </b>\n",
    "    \n",
    "> Since we reject the null it is clear that there are diffrences in rainy day trip duration\n",
    "    \n",
    "    \n",
    "The fact that we reject the null hypothesis does not entail that the 2nd hypothesis is true. We just reject it at a particular significance level. I would change the conclusion here.\n",
    "    \n",
    "</div>\n",
    "<div class=\"alert alert-danger\" style=\"border-radius: 15px; box-shadow: 4px 4px 4px; border: 1px solid \">\n",
    "<b> Reviewer's comment  </b>\n",
    "    \n",
    "Please, don't forget to add the overall conclusion to your project: what has been done and what can be inferred from the results. \n",
    "\n",
    "</div>\n",
    "<div class=\"alert alert-success\" style=\"border-radius: 15px; box-shadow: 4px 4px 4px; border: 1px solid \">\n",
    "<h2> Reviewer's comment 2 </h2>\n",
    "    \n",
    "Excellent job, thank you so much!     \n",
    "</div>"
   ]
  }
 ],
 "metadata": {
  "ExecuteTimeLog": [
   {
    "duration": 171,
    "start_time": "2024-10-11T06:22:10.308Z"
   },
   {
    "duration": 3168,
    "start_time": "2024-10-11T06:22:17.619Z"
   },
   {
    "duration": 0,
    "start_time": "2024-10-11T06:22:20.789Z"
   },
   {
    "duration": 0,
    "start_time": "2024-10-11T06:22:20.790Z"
   },
   {
    "duration": 0,
    "start_time": "2024-10-11T06:22:20.791Z"
   },
   {
    "duration": 0,
    "start_time": "2024-10-11T06:22:20.792Z"
   },
   {
    "duration": 0,
    "start_time": "2024-10-11T06:22:20.794Z"
   },
   {
    "duration": 0,
    "start_time": "2024-10-11T06:22:20.795Z"
   },
   {
    "duration": 0,
    "start_time": "2024-10-11T06:22:20.796Z"
   },
   {
    "duration": 0,
    "start_time": "2024-10-11T06:22:20.796Z"
   },
   {
    "duration": 0,
    "start_time": "2024-10-11T06:22:20.797Z"
   },
   {
    "duration": 0,
    "start_time": "2024-10-11T06:22:20.799Z"
   },
   {
    "duration": 0,
    "start_time": "2024-10-11T06:22:20.800Z"
   },
   {
    "duration": 0,
    "start_time": "2024-10-11T06:22:20.801Z"
   },
   {
    "duration": 0,
    "start_time": "2024-10-11T06:22:20.802Z"
   },
   {
    "duration": 0,
    "start_time": "2024-10-11T06:22:20.803Z"
   },
   {
    "duration": 0,
    "start_time": "2024-10-11T06:22:20.804Z"
   },
   {
    "duration": 0,
    "start_time": "2024-10-11T06:22:20.832Z"
   },
   {
    "duration": 0,
    "start_time": "2024-10-11T06:22:20.834Z"
   },
   {
    "duration": 0,
    "start_time": "2024-10-11T06:22:20.835Z"
   },
   {
    "duration": 0,
    "start_time": "2024-10-11T06:22:20.836Z"
   },
   {
    "duration": 0,
    "start_time": "2024-10-11T06:22:20.838Z"
   },
   {
    "duration": 0,
    "start_time": "2024-10-11T06:22:20.839Z"
   },
   {
    "duration": 0,
    "start_time": "2024-10-11T06:22:20.841Z"
   },
   {
    "duration": 0,
    "start_time": "2024-10-11T06:22:20.842Z"
   },
   {
    "duration": 0,
    "start_time": "2024-10-11T06:22:20.843Z"
   },
   {
    "duration": 3140,
    "start_time": "2024-10-11T06:37:54.058Z"
   },
   {
    "duration": 0,
    "start_time": "2024-10-11T06:37:57.200Z"
   },
   {
    "duration": 0,
    "start_time": "2024-10-11T06:37:57.205Z"
   },
   {
    "duration": 0,
    "start_time": "2024-10-11T06:37:57.207Z"
   },
   {
    "duration": 0,
    "start_time": "2024-10-11T06:37:57.208Z"
   },
   {
    "duration": 0,
    "start_time": "2024-10-11T06:37:57.210Z"
   },
   {
    "duration": 0,
    "start_time": "2024-10-11T06:37:57.210Z"
   },
   {
    "duration": 0,
    "start_time": "2024-10-11T06:37:57.212Z"
   },
   {
    "duration": 0,
    "start_time": "2024-10-11T06:37:57.213Z"
   },
   {
    "duration": 0,
    "start_time": "2024-10-11T06:37:57.214Z"
   },
   {
    "duration": 0,
    "start_time": "2024-10-11T06:37:57.215Z"
   },
   {
    "duration": 0,
    "start_time": "2024-10-11T06:37:57.216Z"
   },
   {
    "duration": 0,
    "start_time": "2024-10-11T06:37:57.217Z"
   },
   {
    "duration": 0,
    "start_time": "2024-10-11T06:37:57.218Z"
   },
   {
    "duration": 0,
    "start_time": "2024-10-11T06:37:57.219Z"
   },
   {
    "duration": 0,
    "start_time": "2024-10-11T06:37:57.220Z"
   },
   {
    "duration": 0,
    "start_time": "2024-10-11T06:37:57.222Z"
   },
   {
    "duration": 0,
    "start_time": "2024-10-11T06:37:57.223Z"
   },
   {
    "duration": 0,
    "start_time": "2024-10-11T06:37:57.224Z"
   },
   {
    "duration": 0,
    "start_time": "2024-10-11T06:37:57.225Z"
   },
   {
    "duration": 0,
    "start_time": "2024-10-11T06:37:57.229Z"
   },
   {
    "duration": 0,
    "start_time": "2024-10-11T06:37:57.230Z"
   },
   {
    "duration": 0,
    "start_time": "2024-10-11T06:37:57.231Z"
   },
   {
    "duration": 0,
    "start_time": "2024-10-11T06:37:57.232Z"
   },
   {
    "duration": 13,
    "start_time": "2024-10-11T06:38:42.161Z"
   },
   {
    "duration": 9,
    "start_time": "2024-10-11T06:39:13.258Z"
   },
   {
    "duration": 11,
    "start_time": "2024-10-11T06:39:13.268Z"
   },
   {
    "duration": 8,
    "start_time": "2024-10-11T06:39:13.282Z"
   },
   {
    "duration": 9,
    "start_time": "2024-10-11T06:39:13.292Z"
   },
   {
    "duration": 8,
    "start_time": "2024-10-11T06:39:13.303Z"
   },
   {
    "duration": 5,
    "start_time": "2024-10-11T06:39:13.312Z"
   },
   {
    "duration": 5,
    "start_time": "2024-10-11T06:39:13.319Z"
   },
   {
    "duration": 6,
    "start_time": "2024-10-11T06:39:13.326Z"
   },
   {
    "duration": 5,
    "start_time": "2024-10-11T06:39:13.333Z"
   },
   {
    "duration": 5,
    "start_time": "2024-10-11T06:39:13.342Z"
   },
   {
    "duration": 8,
    "start_time": "2024-10-11T06:39:13.349Z"
   },
   {
    "duration": 173,
    "start_time": "2024-10-11T06:39:13.359Z"
   },
   {
    "duration": 89,
    "start_time": "2024-10-11T06:39:13.534Z"
   },
   {
    "duration": 136,
    "start_time": "2024-10-11T06:39:13.624Z"
   },
   {
    "duration": 132,
    "start_time": "2024-10-11T06:39:13.762Z"
   },
   {
    "duration": 14,
    "start_time": "2024-10-11T06:39:13.896Z"
   },
   {
    "duration": 9,
    "start_time": "2024-10-11T06:39:13.911Z"
   },
   {
    "duration": 4,
    "start_time": "2024-10-11T06:39:13.922Z"
   },
   {
    "duration": 8,
    "start_time": "2024-10-11T06:39:13.928Z"
   },
   {
    "duration": 9,
    "start_time": "2024-10-11T06:39:13.938Z"
   },
   {
    "duration": 9,
    "start_time": "2024-10-11T06:39:13.950Z"
   },
   {
    "duration": 4,
    "start_time": "2024-10-11T06:39:13.960Z"
   },
   {
    "duration": 40,
    "start_time": "2024-10-11T06:39:13.966Z"
   },
   {
    "duration": 4,
    "start_time": "2024-10-11T06:39:14.008Z"
   },
   {
    "duration": 4,
    "start_time": "2024-10-11T06:41:35.904Z"
   },
   {
    "duration": 136,
    "start_time": "2024-10-11T06:41:44.027Z"
   },
   {
    "duration": 5,
    "start_time": "2024-10-11T06:43:35.994Z"
   },
   {
    "duration": 15,
    "start_time": "2024-10-11T06:44:03.212Z"
   },
   {
    "duration": 4,
    "start_time": "2024-10-11T06:44:08.417Z"
   },
   {
    "duration": 5,
    "start_time": "2024-10-11T06:44:10.932Z"
   },
   {
    "duration": 13,
    "start_time": "2024-10-11T06:44:23.977Z"
   },
   {
    "duration": 11,
    "start_time": "2024-10-11T06:45:31.344Z"
   },
   {
    "duration": 11,
    "start_time": "2024-10-11T06:45:46.627Z"
   },
   {
    "duration": 8,
    "start_time": "2024-10-11T06:45:58.138Z"
   },
   {
    "duration": 12,
    "start_time": "2024-10-11T06:46:16.535Z"
   },
   {
    "duration": 13,
    "start_time": "2024-10-11T06:46:25.687Z"
   },
   {
    "duration": 13,
    "start_time": "2024-10-11T06:46:33.623Z"
   },
   {
    "duration": 8,
    "start_time": "2024-10-11T06:47:14.645Z"
   },
   {
    "duration": 8,
    "start_time": "2024-10-11T06:47:14.655Z"
   },
   {
    "duration": 7,
    "start_time": "2024-10-11T06:47:14.665Z"
   },
   {
    "duration": 8,
    "start_time": "2024-10-11T06:47:14.674Z"
   },
   {
    "duration": 7,
    "start_time": "2024-10-11T06:47:14.684Z"
   },
   {
    "duration": 5,
    "start_time": "2024-10-11T06:47:14.693Z"
   },
   {
    "duration": 7,
    "start_time": "2024-10-11T06:47:14.699Z"
   },
   {
    "duration": 6,
    "start_time": "2024-10-11T06:47:14.708Z"
   },
   {
    "duration": 5,
    "start_time": "2024-10-11T06:47:14.715Z"
   },
   {
    "duration": 3,
    "start_time": "2024-10-11T06:47:14.723Z"
   },
   {
    "duration": 7,
    "start_time": "2024-10-11T06:47:14.727Z"
   },
   {
    "duration": 157,
    "start_time": "2024-10-11T06:47:14.737Z"
   },
   {
    "duration": 82,
    "start_time": "2024-10-11T06:47:14.895Z"
   },
   {
    "duration": 137,
    "start_time": "2024-10-11T06:47:14.980Z"
   },
   {
    "duration": 13,
    "start_time": "2024-10-11T06:47:15.119Z"
   },
   {
    "duration": 5,
    "start_time": "2024-10-11T06:47:15.134Z"
   },
   {
    "duration": 10,
    "start_time": "2024-10-11T06:47:15.141Z"
   },
   {
    "duration": 5,
    "start_time": "2024-10-11T06:47:15.152Z"
   },
   {
    "duration": 8,
    "start_time": "2024-10-11T06:47:15.159Z"
   },
   {
    "duration": 41,
    "start_time": "2024-10-11T06:47:15.169Z"
   },
   {
    "duration": 9,
    "start_time": "2024-10-11T06:47:15.213Z"
   },
   {
    "duration": 10,
    "start_time": "2024-10-11T06:47:15.223Z"
   },
   {
    "duration": 5,
    "start_time": "2024-10-11T06:47:15.234Z"
   },
   {
    "duration": 5,
    "start_time": "2024-10-11T06:47:15.241Z"
   },
   {
    "duration": 5,
    "start_time": "2024-10-11T06:47:15.247Z"
   },
   {
    "duration": 4,
    "start_time": "2024-10-11T06:47:15.254Z"
   },
   {
    "duration": 152,
    "start_time": "2024-10-11T06:49:56.194Z"
   },
   {
    "duration": 135,
    "start_time": "2024-10-11T06:51:01.509Z"
   },
   {
    "duration": 162,
    "start_time": "2024-10-12T03:51:29.570Z"
   },
   {
    "duration": 13,
    "start_time": "2024-10-12T03:51:34.678Z"
   },
   {
    "duration": 2705,
    "start_time": "2024-10-12T03:51:41.141Z"
   },
   {
    "duration": 12,
    "start_time": "2024-10-12T03:51:43.848Z"
   },
   {
    "duration": 7,
    "start_time": "2024-10-12T03:51:43.862Z"
   },
   {
    "duration": 10,
    "start_time": "2024-10-12T03:51:43.871Z"
   },
   {
    "duration": 8,
    "start_time": "2024-10-12T03:51:43.884Z"
   },
   {
    "duration": 6,
    "start_time": "2024-10-12T03:51:43.893Z"
   },
   {
    "duration": 31,
    "start_time": "2024-10-12T03:51:43.901Z"
   },
   {
    "duration": 4,
    "start_time": "2024-10-12T03:51:43.935Z"
   },
   {
    "duration": 4,
    "start_time": "2024-10-12T03:51:43.941Z"
   },
   {
    "duration": 4,
    "start_time": "2024-10-12T03:51:43.947Z"
   },
   {
    "duration": 8,
    "start_time": "2024-10-12T03:51:43.953Z"
   },
   {
    "duration": 7,
    "start_time": "2024-10-12T03:51:46.224Z"
   },
   {
    "duration": 222,
    "start_time": "2024-10-12T03:51:47.207Z"
   },
   {
    "duration": 3,
    "start_time": "2024-10-12T03:55:07.791Z"
   },
   {
    "duration": 7,
    "start_time": "2024-10-12T03:55:13.874Z"
   },
   {
    "duration": 76,
    "start_time": "2024-10-12T03:59:25.250Z"
   },
   {
    "duration": 128,
    "start_time": "2024-10-12T03:59:28.755Z"
   },
   {
    "duration": 155,
    "start_time": "2024-10-12T04:00:04.665Z"
   },
   {
    "duration": 8,
    "start_time": "2024-10-12T04:01:36.988Z"
   },
   {
    "duration": 4,
    "start_time": "2024-10-12T04:01:42.129Z"
   },
   {
    "duration": 3,
    "start_time": "2024-10-12T04:01:47.444Z"
   },
   {
    "duration": 166,
    "start_time": "2024-10-12T04:02:45.473Z"
   },
   {
    "duration": 176,
    "start_time": "2024-10-12T04:03:00.530Z"
   },
   {
    "duration": 171,
    "start_time": "2024-10-12T04:03:04.663Z"
   },
   {
    "duration": 19,
    "start_time": "2024-10-12T04:24:37.686Z"
   },
   {
    "duration": 2619,
    "start_time": "2024-10-12T06:03:49.134Z"
   },
   {
    "duration": 58,
    "start_time": "2024-10-12T06:03:51.755Z"
   },
   {
    "duration": 11,
    "start_time": "2024-10-12T06:03:51.815Z"
   },
   {
    "duration": 8,
    "start_time": "2024-10-12T06:03:51.827Z"
   },
   {
    "duration": 8,
    "start_time": "2024-10-12T06:03:51.838Z"
   },
   {
    "duration": 65,
    "start_time": "2024-10-12T06:03:51.847Z"
   },
   {
    "duration": 5,
    "start_time": "2024-10-12T06:03:51.915Z"
   },
   {
    "duration": 5,
    "start_time": "2024-10-12T06:03:51.922Z"
   },
   {
    "duration": 5,
    "start_time": "2024-10-12T06:03:51.929Z"
   },
   {
    "duration": 3,
    "start_time": "2024-10-12T06:03:51.936Z"
   },
   {
    "duration": 7,
    "start_time": "2024-10-12T06:03:51.941Z"
   },
   {
    "duration": 357,
    "start_time": "2024-10-12T06:03:51.950Z"
   },
   {
    "duration": 143,
    "start_time": "2024-10-12T06:03:52.309Z"
   },
   {
    "duration": 163,
    "start_time": "2024-10-12T06:03:52.509Z"
   },
   {
    "duration": 6,
    "start_time": "2024-10-12T06:03:52.675Z"
   },
   {
    "duration": 182,
    "start_time": "2024-10-12T06:03:52.683Z"
   },
   {
    "duration": 17,
    "start_time": "2024-10-12T06:03:52.867Z"
   },
   {
    "duration": 6,
    "start_time": "2024-10-12T06:03:52.885Z"
   },
   {
    "duration": 25,
    "start_time": "2024-10-12T06:03:52.892Z"
   },
   {
    "duration": 5,
    "start_time": "2024-10-12T06:03:52.919Z"
   },
   {
    "duration": 8,
    "start_time": "2024-10-12T06:03:52.926Z"
   },
   {
    "duration": 4,
    "start_time": "2024-10-12T06:03:52.936Z"
   },
   {
    "duration": 8,
    "start_time": "2024-10-12T06:03:52.942Z"
   },
   {
    "duration": 9,
    "start_time": "2024-10-12T06:03:52.951Z"
   },
   {
    "duration": 103,
    "start_time": "2024-10-12T06:03:52.962Z"
   },
   {
    "duration": 4,
    "start_time": "2024-10-12T06:03:53.067Z"
   },
   {
    "duration": 3,
    "start_time": "2024-10-12T06:03:53.073Z"
   },
   {
    "duration": 5,
    "start_time": "2024-10-12T06:03:53.078Z"
   }
  ],
  "kernelspec": {
   "display_name": "Python 3 (ipykernel)",
   "language": "python",
   "name": "python3"
  },
  "language_info": {
   "codemirror_mode": {
    "name": "ipython",
    "version": 3
   },
   "file_extension": ".py",
   "mimetype": "text/x-python",
   "name": "python",
   "nbconvert_exporter": "python",
   "pygments_lexer": "ipython3",
   "version": "3.9.19"
  },
  "toc": {
   "base_numbering": 1,
   "nav_menu": {},
   "number_sections": true,
   "sideBar": true,
   "skip_h1_title": true,
   "title_cell": "Table of Contents",
   "title_sidebar": "Contents",
   "toc_cell": false,
   "toc_position": {
    "height": "calc(100% - 180px)",
    "left": "10px",
    "top": "150px",
    "width": "221.6px"
   },
   "toc_section_display": true,
   "toc_window_display": true
  }
 },
 "nbformat": 4,
 "nbformat_minor": 2
}
