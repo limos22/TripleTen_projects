{
 "cells": [
  {
   "cell_type": "markdown",
   "metadata": {},
   "source": [
    "# Introduction to Machine Learning"
   ]
  },
  {
   "cell_type": "markdown",
   "metadata": {},
   "source": [
    "<div style=\"border:solid green 2px; padding: 20px\"> <h1 style=\"color:green; margin-bottom:20px\">Reviewer's comment v1</h1>\n",
    "\n",
    "Hello Somil!\n",
    "\n",
    "I'm happy to review your project today  🙌\n",
    "\n",
    "You can find my comments under the heading **«Review»**. I will categorize my comments in green, blue or red boxes like this:\n",
    "\n",
    "<div class=\"alert alert-success\">\n",
    "    <b>Success:</b> if everything is done successfully\n",
    "</div>\n",
    "<div class=\"alert alert-warning\">\n",
    "    <b>Remarks:</b> if I can give some recommendations or ways to improve the project\n",
    "</div>\n",
    "<div class=\"alert alert-danger\">\n",
    "    <b>Needs fixing:</b> if the block requires some corrections. Work can't be accepted with the red comments\n",
    "</div>\n",
    "\n",
    "Please don't remove my comments. If you have any questions, don't hesitate to respond to my comments in a different section.\n",
    "<div class=\"alert alert-info\"> <b>Student comments: </div>    "
   ]
  },
  {
   "cell_type": "markdown",
   "metadata": {},
   "source": [
    "<div style=\"border:solid green 2px; padding: 20px\">\n",
    "<b>Reviewer's comment v1:</b>\n",
    "    \n",
    "<b>Overall Feedback</b> \n",
    "    \n",
    "\n",
    "Hello Somil,\n",
    "\n",
    "Another project successfully completed - well done! 🏆 Your consistent effort and progress are truly commendable.\n",
    "\n",
    "Our team is here to help you keep pushing forward and honing your skills as you advance through the program.\n",
    "\n",
    "You’ll find general comments below in the notebook in the `Reviewer's comment v1:` blocks.\n",
    "\n",
    "**What Was Great:**\n",
    "\n",
    "- Data Loading and Preparation: You successfully loaded the dataset and correctly separated the features and target variable. This is a crucial first step, and you handled it appropriately.\n",
    "- Model Training and Evaluation: Using a loop to train and evaluate each model is an efficient approach. You correctly used the accuracy_score metric to assess the models and identified the Random Forest classifier as the best-performing model.\n",
    "- Test Set Evaluation: You validated the performance of your selected model on a test set, ensuring that the model generalizes well to unseen data. The test accuracy being close to the validation accuracy is a good sign.\n",
    "    \n",
    "**Tips for Future Projects:**\n",
    "- While you’ve done a great job splitting the data, could you please print the shape of your dataframes. Additionally it will be useful to investigate the quality of different models and to try changing hyperparameters.\n",
    "    \n",
    "Congratulations again on your accomplishment! Each project you complete adds to your growing expertise, and it’s exciting to see you make such great strides. Keep up the great work! 🎯"
   ]
  },
  {
   "cell_type": "markdown",
   "metadata": {},
   "source": [
    "<div style=\"border:solid green 2px; padding: 20px\">\n",
    "<b>Reviewer's comment v2:</b>\n",
    "    \n",
    "<b>Overall Feedback</b> \n",
    "    \n",
    "Thank you for going the extra mile in incorporating additional changes and improvements. \n",
    "\n",
    "\n",
    "Wish you cool projects in the next sprints! ☘️\n",
    "    \n",
    "\n",
    "</div>"
   ]
  },
  {
   "cell_type": "markdown",
   "metadata": {},
   "source": [
    "# ML Megaline"
   ]
  },
  {
   "cell_type": "markdown",
   "metadata": {},
   "source": [
    "This is a Machine Learning project about a Mobile carrier Megaline. They have found out that many of their subscribers use legacy plans and they want to developed a model that would analyze subscribers' behavior and recommend one of Megaline's newer plans: Smart or Ultra. With the behavior data about subscribers who have already switched to the new plans i make a ML model for this task."
   ]
  },
  {
   "cell_type": "markdown",
   "metadata": {},
   "source": [
    "<div class=\"alert alert-success\">\n",
    "<b>Reviewer's comment v1:</b>\n",
    "    \n",
    "It is always helpful for the reader to have additional information about project tasks. It gives an overview of what you are going to achieve in this project.\n"
   ]
  },
  {
   "cell_type": "markdown",
   "metadata": {},
   "source": [
    "imported methods and read the user behavior file as df."
   ]
  },
  {
   "cell_type": "code",
   "execution_count": null,
   "metadata": {},
   "outputs": [],
   "source": [
    "import pandas as pd\n",
    "from sklearn.metrics import mean_squared_error\n",
    "from sklearn.ensemble import RandomForestRegressor\n",
    "from sklearn.ensemble import RandomForestClassifier\n",
    "from sklearn.model_selection import train_test_split\n",
    "from sklearn.metrics import accuracy_score , classification_report\n",
    "from sklearn.tree import DecisionTreeRegressor\n",
    "\n",
    "df = pd.read_csv('/datasets/users_behavior.csv')"
   ]
  },
  {
   "cell_type": "markdown",
   "metadata": {},
   "source": [
    "## Preprocessing"
   ]
  },
  {
   "cell_type": "code",
   "execution_count": null,
   "metadata": {},
   "outputs": [],
   "source": [
    "df.head()"
   ]
  },
  {
   "cell_type": "code",
   "execution_count": null,
   "metadata": {},
   "outputs": [],
   "source": [
    "df.shape"
   ]
  },
  {
   "cell_type": "code",
   "execution_count": null,
   "metadata": {},
   "outputs": [],
   "source": [
    "df.info()"
   ]
  },
  {
   "cell_type": "markdown",
   "metadata": {},
   "source": [
    "Got the head shape and info above to get a undrstanding of the data. Below I called descriibe to get further information."
   ]
  },
  {
   "cell_type": "code",
   "execution_count": null,
   "metadata": {},
   "outputs": [],
   "source": [
    "df.describe()"
   ]
  },
  {
   "cell_type": "code",
   "execution_count": null,
   "metadata": {},
   "outputs": [],
   "source": [
    "df.isna().sum()"
   ]
  },
  {
   "cell_type": "code",
   "execution_count": null,
   "metadata": {},
   "outputs": [],
   "source": [
    "df.duplicated().sum()"
   ]
  },
  {
   "cell_type": "markdown",
   "metadata": {},
   "source": [
    "I checked for missing or duplicate values above in the dataframe and it turned out to be clean."
   ]
  },
  {
   "cell_type": "markdown",
   "metadata": {},
   "source": [
    "<div class=\"alert alert-success\">\n",
    "<b>Reviewer's comment v1:</b>\n",
    "    \n",
    "Well done! Data have been successfully loaded and inspected."
   ]
  },
  {
   "cell_type": "markdown",
   "metadata": {},
   "source": [
    "# ML"
   ]
  },
  {
   "cell_type": "markdown",
   "metadata": {},
   "source": [
    "Can we recommend a new phone plan for the subscribers on a legacy plan from their phone behavior?"
   ]
  },
  {
   "cell_type": "markdown",
   "metadata": {},
   "source": [
    "## Features/Target"
   ]
  },
  {
   "cell_type": "code",
   "execution_count": null,
   "metadata": {},
   "outputs": [],
   "source": [
    "features = df.drop('is_ultra',axis=1)\n",
    "target = df['is_ultra']"
   ]
  },
  {
   "cell_type": "markdown",
   "metadata": {},
   "source": [
    "## Splitting data"
   ]
  },
  {
   "cell_type": "markdown",
   "metadata": {},
   "source": [
    "Below I split the dataframe into a training set, a validation set, and a test set. I split df into 80% for the test set and 20% for the validation set. I then split the train set into another 80%-20% split for the test set. used teh staratify parameter so uphold the original dataframe ratios. "
   ]
  },
  {
   "cell_type": "code",
   "execution_count": null,
   "metadata": {},
   "outputs": [],
   "source": [
    "features_train, features_test, target_train, target_test = train_test_split(features, target, test_size=0.2, random_state=12345, stratify= target)\n",
    "features_train2, features_val, target_train2, target_val = train_test_split(features_train, target_train, test_size=0.2, random_state=12345, stratify= target_train)"
   ]
  },
  {
   "cell_type": "code",
   "execution_count": null,
   "metadata": {},
   "outputs": [],
   "source": [
    "train_shape_f = features_train.shape\n",
    "test_shape_f = features_test.shape\n",
    "print(f'The final model training shape is {train_shape_f} test set shape is {test_shape_f}.')"
   ]
  },
  {
   "cell_type": "code",
   "execution_count": null,
   "metadata": {},
   "outputs": [],
   "source": [
    "train_shape_f2 = features_train2.shape\n",
    "test_shape_f2 = features_val.shape\n",
    "print(f'The training set shape is {train_shape_f2} for features and the Validation set shape is {test_shape_f2}.')"
   ]
  },
  {
   "cell_type": "markdown",
   "metadata": {},
   "source": [
    "Found the shapes of the dataframes after the split"
   ]
  },
  {
   "cell_type": "markdown",
   "metadata": {},
   "source": [
    "<div class=\"alert alert-danger\">\n",
    "<b>Reviewer's comment v1:</b>\n",
    "\n",
    "Could you please additionally print the sizes of dataframes using `shape` and `f-strings`\n"
   ]
  },
  {
   "cell_type": "markdown",
   "metadata": {},
   "source": [
    "<div class=\"alert alert-warning\">\n",
    "<b>Reviewer's comment v1:</b>\n",
    "    \n",
    "Consider using stratified splits (`stratify` parameter) to ensure that class distributions are similar across training, validation, and test sets.\n",
    "\n"
   ]
  },
  {
   "cell_type": "markdown",
   "metadata": {},
   "source": [
    "\n",
    "<div class=\"alert alert-success\">\n",
    "<b>Reviewer's comment v2:</b>\n",
    "    \n",
    "Great! Thank you for updating this part. "
   ]
  },
  {
   "cell_type": "markdown",
   "metadata": {},
   "source": [
    "## Finding Best Model"
   ]
  },
  {
   "cell_type": "markdown",
   "metadata": {},
   "source": [
    "The first model I tried was the RandomForestClassifier. I used a loop to check the best max depth for the range between 1-10 and best n_estimators from 100, 200, 300, 400 and 500. found the best depth to be 10 and best n_estimators to be 100."
   ]
  },
  {
   "cell_type": "code",
   "execution_count": null,
   "metadata": {},
   "outputs": [],
   "source": [
    "param = {'max_depth': range(1, 11), 'n_estimators': [100, 200, 300, 400, 500]}\n",
    "\n",
    "best_params = {}\n",
    "best_accuracy = 0\n",
    "\n",
    "for depth in param['max_depth']:\n",
    "    for n_estimators in param['n_estimators']:\n",
    "        model = RandomForestClassifier(random_state=12345, max_depth=depth, n_estimators=n_estimators)\n",
    "        model.fit(features_train2, target_train2)\n",
    "        predictions_val = model.predict(features_val)\n",
    "        \n",
    "        accuracy = accuracy_score(target_val, predictions_val)\n",
    "        \n",
    "        if accuracy > best_accuracy:\n",
    "            best_accuracy = accuracy\n",
    "            best_params = {'max_depth': depth, 'n_estimators': n_estimators}\n",
    "            \n",
    "print(\"\\nBest params:\", best_params)\n",
    "print(\"Best accuracy:\", best_accuracy)\n"
   ]
  },
  {
   "cell_type": "markdown",
   "metadata": {},
   "source": [
    "The second model I used was the DecisionTreeRegressor. I also looped through the range of 1-10 depth to find the lowest MSE. We use Mean Squared Error because accuracy_score can not be used. The best depth was 5 which gives a MSE of.15 and a .39 RMSE."
   ]
  },
  {
   "cell_type": "code",
   "execution_count": null,
   "metadata": {},
   "outputs": [],
   "source": [
    "best_params = {}\n",
    "best_mse = 500\n",
    "\n",
    "for depth in range(1, 11):\n",
    "    model = DecisionTreeRegressor(random_state=12345, max_depth=depth)\n",
    "    model.fit(features_train2, target_train2)\n",
    "    predictions_val = model.predict(features_val)\n",
    "        \n",
    "    mse = mean_squared_error(target_val, predictions_val)\n",
    "        \n",
    "    if mse < best_mse:\n",
    "        best_mse = mse\n",
    "        best_params = {'max_depth': depth}\n",
    "            \n",
    "print('\\nBest params:', best_params)\n",
    "print('Best MSE:', best_mse)\n",
    "print('RMSE', best_mse**.5)"
   ]
  },
  {
   "cell_type": "markdown",
   "metadata": {},
   "source": [
    "<div class=\"alert alert-danger\">\n",
    "<b>Reviewer's comment v1:</b>\n",
    "\n",
    "Could you please try here other models example Logistic Regression or  Decision Tree. \n"
   ]
  },
  {
   "cell_type": "markdown",
   "metadata": {},
   "source": [
    "### Best model"
   ]
  },
  {
   "cell_type": "code",
   "execution_count": null,
   "metadata": {},
   "outputs": [],
   "source": [
    "best_model = RandomForestClassifier(random_state=12345, max_depth=10, n_estimators=100)\n",
    "best_model.fit(features_train, target_train)\n",
    "best_predictions = best_model.predict(features_test)"
   ]
  },
  {
   "cell_type": "markdown",
   "metadata": {},
   "source": [
    "<div class=\"alert alert-success\">\n",
    "<b>Reviewer's comment v2:</b>\n",
    "    \n",
    "Everything is correct here! Great that you've managed to check multiple models. \n",
    "\n",
    "Some possible minor improvements: \n",
    "\n",
    "- If you find yourself repeating similar blocks of code, consider writing a function. This will make your code more organized and easier to maintain.\n",
    "- Besides accuracy, consider evaluating models using additional metrics like F1-score, precision, recall, or the ROC-AUC score for a more holistic view of performance, especially if the class distribution is imbalanced.\n",
    "- Consider using GridSearchCV or RandomizedSearchCV from sklearn.model_selection for a more systematic hyperparameter search."
   ]
  },
  {
   "cell_type": "markdown",
   "metadata": {},
   "source": [
    "## Sanity check"
   ]
  },
  {
   "cell_type": "markdown",
   "metadata": {},
   "source": [
    "### RMSE"
   ]
  },
  {
   "cell_type": "markdown",
   "metadata": {},
   "source": [
    "To sanity check the model I found the RMSE."
   ]
  },
  {
   "cell_type": "code",
   "execution_count": null,
   "metadata": {},
   "outputs": [],
   "source": [
    "mean_squared_error(target_val, predictions_val)**.5"
   ]
  },
  {
   "cell_type": "code",
   "execution_count": null,
   "metadata": {},
   "outputs": [],
   "source": []
  },
  {
   "cell_type": "markdown",
   "metadata": {},
   "source": [
    "<div class=\"alert alert-warning\">\n",
    "<b>Reviewer's comment v1:</b>\n",
    "    \n",
    "**Additional task: sanity check the model.** \n",
    " \n",
    "The use of `DummyClassifier` is a good practice for baseline performance and finalizing sanity check. You could read about it [here](https://scikit-learn.org/stable/modules/generated/sklearn.dummy.DummyClassifier.html). In our case, we have a very skewed distribution of users across the two plans. As you can see, only 30% are enrolled in the Ultra plan, therefore it could be usefull to use a particular strategy (e.g., `most_frequent`) and comparing it against the chosen model’s performance.\n",
    "    \n",
    "```\n",
    "from sklearn.dummy import DummyClassifier\n",
    "# Initialize the DummyClassifier to predict the most frequent class\n",
    "dummy_clf = DummyClassifier(strategy=\"most_frequent\", random_state=0)\n",
    "# Fit the dummy classifier on the training data\n",
    "...\n",
    "```"
   ]
  },
  {
   "cell_type": "markdown",
   "metadata": {},
   "source": [
    "### Accuracy"
   ]
  },
  {
   "cell_type": "markdown",
   "metadata": {},
   "source": [
    "Checked for the accuracy of the model to verify its validity. With the test set it came out to be 80%."
   ]
  },
  {
   "cell_type": "code",
   "execution_count": null,
   "metadata": {},
   "outputs": [],
   "source": [
    "print(\"Accuracy:\", accuracy_score(target_test, best_predictions))\n",
    "print()\n",
    "print(\"Classification Report:\")\n",
    "print(classification_report(target_test, best_predictions))"
   ]
  },
  {
   "cell_type": "markdown",
   "metadata": {},
   "source": [
    "For this project I am looking to recommend a new phone plan for users that are on a legacy plan.Before working with the data I did preprocessing to check for missing or duplicate values as well as the overall structure of the dataframe to make sure it was ready for further processing in teh ML model. In order to make this I did a ML model with a training set of 80% and 20% for the validation set to build up my model. I then split the 20% into another 80%-20% split for the test set. \n",
    "\n",
    "I tested a range of hyperprameters to find the best model for the test set, which ended up boing a max_depth of 8 and n_estimators of 100. I then did a sanity check by finding the RMSE. The RMSE measures the average difference between the model’s predicted values and the actual values which ended up being .46 for its value. To ensure the accuracy of the model I found the accuracy score of the model which ended up at 81%."
   ]
  },
  {
   "cell_type": "markdown",
   "metadata": {},
   "source": [
    "<div class=\"alert alert-success\">\n",
    "<b>Reviewer's comment v1:</b>\n",
    "    \n",
    "\n",
    "Great job on your overall conclusions and recommendations!  Your recommendations are well-thought and could be very valuable to the business."
   ]
  }
 ],
 "metadata": {
  "ExecuteTimeLog": [
   {
    "duration": 803,
    "start_time": "2024-10-18T06:43:54.246Z"
   },
   {
    "duration": 586,
    "start_time": "2024-10-18T06:44:54.938Z"
   },
   {
    "duration": 15,
    "start_time": "2024-10-18T06:45:08.474Z"
   },
   {
    "duration": 15,
    "start_time": "2024-10-18T06:45:15.415Z"
   },
   {
    "duration": 11,
    "start_time": "2024-10-18T06:47:45.727Z"
   },
   {
    "duration": 6,
    "start_time": "2024-10-18T06:47:51.192Z"
   },
   {
    "duration": 6,
    "start_time": "2024-10-18T06:48:05.293Z"
   },
   {
    "duration": 8,
    "start_time": "2024-10-18T06:50:04.075Z"
   },
   {
    "duration": 11,
    "start_time": "2024-10-18T06:50:04.867Z"
   },
   {
    "duration": 6,
    "start_time": "2024-10-18T06:50:05.625Z"
   },
   {
    "duration": 6,
    "start_time": "2024-10-18T06:50:06.324Z"
   },
   {
    "duration": 15,
    "start_time": "2024-10-18T06:52:55.603Z"
   },
   {
    "duration": 3,
    "start_time": "2024-10-18T06:52:59.020Z"
   },
   {
    "duration": 4,
    "start_time": "2024-10-18T06:53:02.187Z"
   },
   {
    "duration": 5,
    "start_time": "2024-10-18T06:54:30.029Z"
   },
   {
    "duration": 515,
    "start_time": "2024-10-18T06:57:10.488Z"
   },
   {
    "duration": 518,
    "start_time": "2024-10-18T06:57:34.615Z"
   },
   {
    "duration": 923,
    "start_time": "2024-10-18T07:00:06.712Z"
   },
   {
    "duration": 16,
    "start_time": "2024-10-18T07:01:03.789Z"
   },
   {
    "duration": 8,
    "start_time": "2024-10-18T07:01:17.755Z"
   },
   {
    "duration": 110,
    "start_time": "2024-10-18T07:01:20.783Z"
   },
   {
    "duration": 258,
    "start_time": "2024-10-18T07:01:46.098Z"
   },
   {
    "duration": 32,
    "start_time": "2024-10-18T07:01:49.159Z"
   },
   {
    "duration": 17,
    "start_time": "2024-10-18T07:05:55.129Z"
   },
   {
    "duration": 18,
    "start_time": "2024-10-18T07:06:11.198Z"
   },
   {
    "duration": 16,
    "start_time": "2024-10-18T07:06:57.107Z"
   },
   {
    "duration": 9,
    "start_time": "2024-10-18T07:07:01.455Z"
   },
   {
    "duration": 837,
    "start_time": "2024-10-18T07:07:07.175Z"
   },
   {
    "duration": 204,
    "start_time": "2024-10-18T07:08:16.432Z"
   },
   {
    "duration": 16,
    "start_time": "2024-10-18T07:08:25.119Z"
   },
   {
    "duration": 9,
    "start_time": "2024-10-18T07:09:02.931Z"
   },
   {
    "duration": 8,
    "start_time": "2024-10-18T07:09:18.811Z"
   },
   {
    "duration": 9,
    "start_time": "2024-10-18T07:09:22.190Z"
   },
   {
    "duration": 783,
    "start_time": "2024-10-18T07:10:01.963Z"
   },
   {
    "duration": 14,
    "start_time": "2024-10-18T07:10:02.748Z"
   },
   {
    "duration": 5,
    "start_time": "2024-10-18T07:10:02.764Z"
   },
   {
    "duration": 6,
    "start_time": "2024-10-18T07:10:02.771Z"
   },
   {
    "duration": 3,
    "start_time": "2024-10-18T07:10:02.779Z"
   },
   {
    "duration": 27,
    "start_time": "2024-10-18T07:10:02.784Z"
   },
   {
    "duration": 261,
    "start_time": "2024-10-18T07:10:02.812Z"
   },
   {
    "duration": 804,
    "start_time": "2024-10-18T07:10:03.075Z"
   },
   {
    "duration": 211,
    "start_time": "2024-10-18T07:10:03.880Z"
   },
   {
    "duration": 17,
    "start_time": "2024-10-18T07:10:04.094Z"
   },
   {
    "duration": 2090,
    "start_time": "2024-10-18T07:10:12.581Z"
   },
   {
    "duration": 3776,
    "start_time": "2024-10-18T07:10:34.230Z"
   },
   {
    "duration": 2103,
    "start_time": "2024-10-18T07:10:48.779Z"
   },
   {
    "duration": 820,
    "start_time": "2024-10-18T07:11:07.542Z"
   },
   {
    "duration": 2109,
    "start_time": "2024-10-18T07:11:19.714Z"
   },
   {
    "duration": 2087,
    "start_time": "2024-10-18T07:12:01.958Z"
   },
   {
    "duration": 297,
    "start_time": "2024-10-18T07:12:27.164Z"
   },
   {
    "duration": 5,
    "start_time": "2024-10-18T07:14:16.051Z"
   },
   {
    "duration": 325,
    "start_time": "2024-10-18T07:16:02.912Z"
   },
   {
    "duration": 19,
    "start_time": "2024-10-18T07:19:12.190Z"
   },
   {
    "duration": 273,
    "start_time": "2024-10-18T07:19:39.706Z"
   },
   {
    "duration": 10,
    "start_time": "2024-10-18T07:19:42.521Z"
   },
   {
    "duration": 4687,
    "start_time": "2024-10-18T07:22:10.287Z"
   },
   {
    "duration": 308,
    "start_time": "2024-10-18T07:22:17.173Z"
   },
   {
    "duration": 10,
    "start_time": "2024-10-18T07:22:19.302Z"
   },
   {
    "duration": 4674,
    "start_time": "2024-10-18T07:22:59.650Z"
   },
   {
    "duration": 4691,
    "start_time": "2024-10-18T07:24:05.849Z"
   },
   {
    "duration": 861,
    "start_time": "2024-10-18T07:24:26.987Z"
   },
   {
    "duration": 12,
    "start_time": "2024-10-18T07:24:30.358Z"
   },
   {
    "duration": 160,
    "start_time": "2024-10-21T05:52:12.741Z"
   },
   {
    "duration": 754,
    "start_time": "2024-10-21T05:52:16.712Z"
   },
   {
    "duration": 13,
    "start_time": "2024-10-21T05:52:17.468Z"
   },
   {
    "duration": 6,
    "start_time": "2024-10-21T05:52:17.482Z"
   },
   {
    "duration": 5,
    "start_time": "2024-10-21T05:52:17.490Z"
   },
   {
    "duration": 3,
    "start_time": "2024-10-21T05:52:17.497Z"
   },
   {
    "duration": 23,
    "start_time": "2024-10-21T05:52:17.501Z"
   },
   {
    "duration": 260,
    "start_time": "2024-10-21T05:52:17.526Z"
   },
   {
    "duration": 4476,
    "start_time": "2024-10-21T05:52:17.788Z"
   },
   {
    "duration": 0,
    "start_time": "2024-10-21T05:52:22.266Z"
   },
   {
    "duration": 0,
    "start_time": "2024-10-21T05:52:22.267Z"
   },
   {
    "duration": 4384,
    "start_time": "2024-10-21T05:53:02.858Z"
   },
   {
    "duration": 9,
    "start_time": "2024-10-21T05:54:57.834Z"
   },
   {
    "duration": 241,
    "start_time": "2024-10-21T05:56:32.771Z"
   },
   {
    "duration": 879,
    "start_time": "2024-10-21T05:57:58.503Z"
   },
   {
    "duration": 119,
    "start_time": "2024-10-21T05:58:17.049Z"
   },
   {
    "duration": 221,
    "start_time": "2024-10-21T05:58:40.054Z"
   },
   {
    "duration": 181,
    "start_time": "2024-10-21T05:59:08.680Z"
   },
   {
    "duration": 118,
    "start_time": "2024-10-21T06:01:13.884Z"
   },
   {
    "duration": 134,
    "start_time": "2024-10-21T06:02:07.345Z"
   },
   {
    "duration": 4419,
    "start_time": "2024-10-21T06:03:03.163Z"
   },
   {
    "duration": 4424,
    "start_time": "2024-10-21T06:03:25.951Z"
   },
   {
    "duration": 4433,
    "start_time": "2024-10-21T06:03:44.314Z"
   },
   {
    "duration": 4460,
    "start_time": "2024-10-21T06:04:07.606Z"
   },
   {
    "duration": 4455,
    "start_time": "2024-10-21T06:04:24.048Z"
   },
   {
    "duration": 4449,
    "start_time": "2024-10-21T06:04:31.634Z"
   },
   {
    "duration": 4424,
    "start_time": "2024-10-21T06:04:38.234Z"
   },
   {
    "duration": 374,
    "start_time": "2024-10-21T06:04:54.893Z"
   },
   {
    "duration": 9,
    "start_time": "2024-10-21T06:05:00.406Z"
   },
   {
    "duration": 789,
    "start_time": "2024-10-22T07:20:02.075Z"
   },
   {
    "duration": 14,
    "start_time": "2024-10-22T07:20:02.866Z"
   },
   {
    "duration": 9,
    "start_time": "2024-10-22T07:20:02.881Z"
   },
   {
    "duration": 5,
    "start_time": "2024-10-22T07:20:02.893Z"
   },
   {
    "duration": 6,
    "start_time": "2024-10-22T07:20:02.909Z"
   },
   {
    "duration": 4,
    "start_time": "2024-10-22T07:20:02.917Z"
   },
   {
    "duration": 5,
    "start_time": "2024-10-22T07:20:02.923Z"
   },
   {
    "duration": 442,
    "start_time": "2024-10-22T07:20:02.929Z"
   },
   {
    "duration": 0,
    "start_time": "2024-10-22T07:20:03.373Z"
   },
   {
    "duration": 0,
    "start_time": "2024-10-22T07:20:03.375Z"
   },
   {
    "duration": 0,
    "start_time": "2024-10-22T07:20:03.376Z"
   },
   {
    "duration": 8,
    "start_time": "2024-10-22T07:23:52.768Z"
   },
   {
    "duration": 11,
    "start_time": "2024-10-22T07:23:52.778Z"
   },
   {
    "duration": 9,
    "start_time": "2024-10-22T07:23:52.791Z"
   },
   {
    "duration": 5,
    "start_time": "2024-10-22T07:23:52.802Z"
   },
   {
    "duration": 5,
    "start_time": "2024-10-22T07:23:52.809Z"
   },
   {
    "duration": 3,
    "start_time": "2024-10-22T07:23:52.816Z"
   },
   {
    "duration": 5,
    "start_time": "2024-10-22T07:23:52.821Z"
   },
   {
    "duration": 4466,
    "start_time": "2024-10-22T07:23:52.827Z"
   },
   {
    "duration": 401,
    "start_time": "2024-10-22T07:23:57.297Z"
   },
   {
    "duration": 13,
    "start_time": "2024-10-22T07:23:57.700Z"
   },
   {
    "duration": 8,
    "start_time": "2024-10-22T07:57:59.158Z"
   },
   {
    "duration": 29081,
    "start_time": "2024-10-22T07:58:29.074Z"
   },
   {
    "duration": 168,
    "start_time": "2024-10-23T00:29:52.050Z"
   },
   {
    "duration": 844,
    "start_time": "2024-10-23T00:29:54.572Z"
   },
   {
    "duration": 13,
    "start_time": "2024-10-23T00:29:57.415Z"
   },
   {
    "duration": 9,
    "start_time": "2024-10-23T00:30:00.528Z"
   },
   {
    "duration": 17,
    "start_time": "2024-10-23T00:30:11.709Z"
   },
   {
    "duration": 4,
    "start_time": "2024-10-23T00:36:11.898Z"
   },
   {
    "duration": 77,
    "start_time": "2024-10-23T00:47:32.359Z"
   },
   {
    "duration": 812,
    "start_time": "2024-10-23T00:47:47.174Z"
   },
   {
    "duration": 12,
    "start_time": "2024-10-23T00:47:47.988Z"
   },
   {
    "duration": 3,
    "start_time": "2024-10-23T00:47:48.002Z"
   },
   {
    "duration": 10,
    "start_time": "2024-10-23T00:47:48.007Z"
   },
   {
    "duration": 32,
    "start_time": "2024-10-23T00:47:48.019Z"
   },
   {
    "duration": 4,
    "start_time": "2024-10-23T00:47:48.053Z"
   },
   {
    "duration": 6,
    "start_time": "2024-10-23T00:47:48.059Z"
   },
   {
    "duration": 3,
    "start_time": "2024-10-23T00:47:48.066Z"
   },
   {
    "duration": 5,
    "start_time": "2024-10-23T00:47:48.071Z"
   },
   {
    "duration": 26573,
    "start_time": "2024-10-23T00:47:48.079Z"
   },
   {
    "duration": 349,
    "start_time": "2024-10-23T00:48:14.655Z"
   },
   {
    "duration": 6,
    "start_time": "2024-10-23T00:48:15.006Z"
   },
   {
    "duration": 681,
    "start_time": "2024-10-23T00:48:30.940Z"
   },
   {
    "duration": 8,
    "start_time": "2024-10-23T00:48:33.221Z"
   },
   {
    "duration": 4,
    "start_time": "2024-10-23T01:16:26.153Z"
   },
   {
    "duration": 4,
    "start_time": "2024-10-23T01:17:24.366Z"
   },
   {
    "duration": 4,
    "start_time": "2024-10-23T01:17:45.360Z"
   },
   {
    "duration": 812,
    "start_time": "2024-10-23T06:05:47.864Z"
   },
   {
    "duration": 10,
    "start_time": "2024-10-23T06:05:48.678Z"
   },
   {
    "duration": 4,
    "start_time": "2024-10-23T06:05:48.690Z"
   },
   {
    "duration": 8,
    "start_time": "2024-10-23T06:05:48.696Z"
   },
   {
    "duration": 37,
    "start_time": "2024-10-23T06:05:48.706Z"
   },
   {
    "duration": 5,
    "start_time": "2024-10-23T06:05:48.744Z"
   },
   {
    "duration": 5,
    "start_time": "2024-10-23T06:05:48.751Z"
   },
   {
    "duration": 3,
    "start_time": "2024-10-23T06:05:48.758Z"
   },
   {
    "duration": 5,
    "start_time": "2024-10-23T06:05:48.763Z"
   },
   {
    "duration": 26242,
    "start_time": "2024-10-23T06:05:48.769Z"
   },
   {
    "duration": 616,
    "start_time": "2024-10-23T06:06:15.013Z"
   },
   {
    "duration": 14,
    "start_time": "2024-10-23T06:06:15.631Z"
   },
   {
    "duration": 7,
    "start_time": "2024-10-23T06:06:15.647Z"
   },
   {
    "duration": 782,
    "start_time": "2024-10-23T22:37:31.866Z"
   },
   {
    "duration": 11,
    "start_time": "2024-10-23T22:37:32.651Z"
   },
   {
    "duration": 3,
    "start_time": "2024-10-23T22:37:32.663Z"
   },
   {
    "duration": 8,
    "start_time": "2024-10-23T22:37:32.670Z"
   },
   {
    "duration": 15,
    "start_time": "2024-10-23T22:37:32.682Z"
   },
   {
    "duration": 5,
    "start_time": "2024-10-23T22:37:32.699Z"
   },
   {
    "duration": 5,
    "start_time": "2024-10-23T22:37:32.705Z"
   },
   {
    "duration": 2,
    "start_time": "2024-10-23T22:37:32.712Z"
   },
   {
    "duration": 6,
    "start_time": "2024-10-23T22:37:32.716Z"
   },
   {
    "duration": 27586,
    "start_time": "2024-10-23T22:37:32.723Z"
   },
   {
    "duration": 752,
    "start_time": "2024-10-23T22:38:00.311Z"
   },
   {
    "duration": 7,
    "start_time": "2024-10-23T22:38:01.065Z"
   },
   {
    "duration": 8,
    "start_time": "2024-10-23T22:38:01.074Z"
   },
   {
    "duration": 809,
    "start_time": "2024-10-23T22:41:36.972Z"
   },
   {
    "duration": 11,
    "start_time": "2024-10-23T22:41:37.783Z"
   },
   {
    "duration": 3,
    "start_time": "2024-10-23T22:41:37.795Z"
   },
   {
    "duration": 8,
    "start_time": "2024-10-23T22:41:37.800Z"
   },
   {
    "duration": 16,
    "start_time": "2024-10-23T22:41:37.810Z"
   },
   {
    "duration": 5,
    "start_time": "2024-10-23T22:41:37.828Z"
   },
   {
    "duration": 37,
    "start_time": "2024-10-23T22:41:37.834Z"
   },
   {
    "duration": 4,
    "start_time": "2024-10-23T22:41:37.873Z"
   },
   {
    "duration": 5,
    "start_time": "2024-10-23T22:41:37.879Z"
   },
   {
    "duration": 27579,
    "start_time": "2024-10-23T22:41:37.887Z"
   },
   {
    "duration": 839,
    "start_time": "2024-10-23T22:42:05.467Z"
   },
   {
    "duration": 5,
    "start_time": "2024-10-23T22:42:06.309Z"
   },
   {
    "duration": 9,
    "start_time": "2024-10-23T22:42:06.316Z"
   },
   {
    "duration": 272,
    "start_time": "2024-10-23T22:42:25.013Z"
   },
   {
    "duration": 4,
    "start_time": "2024-10-23T22:42:27.714Z"
   },
   {
    "duration": 7,
    "start_time": "2024-10-23T22:42:29.151Z"
   },
   {
    "duration": 9,
    "start_time": "2024-10-23T22:45:08.688Z"
   },
   {
    "duration": 11,
    "start_time": "2024-10-23T22:45:16.363Z"
   },
   {
    "duration": 8,
    "start_time": "2024-10-23T22:45:27.319Z"
   },
   {
    "duration": 763,
    "start_time": "2024-10-23T22:54:22.025Z"
   },
   {
    "duration": 18,
    "start_time": "2024-10-23T22:54:22.790Z"
   },
   {
    "duration": 4,
    "start_time": "2024-10-23T22:54:22.810Z"
   },
   {
    "duration": 12,
    "start_time": "2024-10-23T22:54:22.818Z"
   },
   {
    "duration": 20,
    "start_time": "2024-10-23T22:54:22.832Z"
   },
   {
    "duration": 19,
    "start_time": "2024-10-23T22:54:22.854Z"
   },
   {
    "duration": 7,
    "start_time": "2024-10-23T22:54:22.875Z"
   },
   {
    "duration": 3,
    "start_time": "2024-10-23T22:54:22.884Z"
   },
   {
    "duration": 6,
    "start_time": "2024-10-23T22:54:22.890Z"
   },
   {
    "duration": 28121,
    "start_time": "2024-10-23T22:54:22.899Z"
   },
   {
    "duration": 282,
    "start_time": "2024-10-23T22:54:51.022Z"
   },
   {
    "duration": 6,
    "start_time": "2024-10-23T22:54:51.305Z"
   },
   {
    "duration": 9,
    "start_time": "2024-10-23T22:54:51.313Z"
   },
   {
    "duration": 813,
    "start_time": "2024-10-23T23:17:01.487Z"
   },
   {
    "duration": 14,
    "start_time": "2024-10-23T23:17:02.303Z"
   },
   {
    "duration": 4,
    "start_time": "2024-10-23T23:17:02.318Z"
   },
   {
    "duration": 12,
    "start_time": "2024-10-23T23:17:02.324Z"
   },
   {
    "duration": 33,
    "start_time": "2024-10-23T23:17:02.339Z"
   },
   {
    "duration": 6,
    "start_time": "2024-10-23T23:17:02.373Z"
   },
   {
    "duration": 5,
    "start_time": "2024-10-23T23:17:02.381Z"
   },
   {
    "duration": 3,
    "start_time": "2024-10-23T23:17:02.388Z"
   },
   {
    "duration": 6,
    "start_time": "2024-10-23T23:17:02.392Z"
   },
   {
    "duration": 28278,
    "start_time": "2024-10-23T23:17:02.400Z"
   },
   {
    "duration": 327,
    "start_time": "2024-10-23T23:17:30.679Z"
   },
   {
    "duration": 5,
    "start_time": "2024-10-23T23:17:31.008Z"
   },
   {
    "duration": 9,
    "start_time": "2024-10-23T23:17:31.015Z"
   },
   {
    "duration": 773,
    "start_time": "2024-10-24T06:44:14.733Z"
   },
   {
    "duration": 11,
    "start_time": "2024-10-24T06:44:15.508Z"
   },
   {
    "duration": 4,
    "start_time": "2024-10-24T06:44:15.520Z"
   },
   {
    "duration": 8,
    "start_time": "2024-10-24T06:44:15.526Z"
   },
   {
    "duration": 34,
    "start_time": "2024-10-24T06:44:15.537Z"
   },
   {
    "duration": 6,
    "start_time": "2024-10-24T06:44:15.572Z"
   },
   {
    "duration": 6,
    "start_time": "2024-10-24T06:44:15.579Z"
   },
   {
    "duration": 4,
    "start_time": "2024-10-24T06:44:15.586Z"
   },
   {
    "duration": 6,
    "start_time": "2024-10-24T06:44:15.591Z"
   },
   {
    "duration": 27890,
    "start_time": "2024-10-24T06:44:15.599Z"
   },
   {
    "duration": 280,
    "start_time": "2024-10-24T06:44:43.491Z"
   },
   {
    "duration": 4,
    "start_time": "2024-10-24T06:44:43.773Z"
   },
   {
    "duration": 6,
    "start_time": "2024-10-24T06:44:43.779Z"
   },
   {
    "duration": 198,
    "start_time": "2024-10-24T22:49:31.766Z"
   },
   {
    "duration": 889,
    "start_time": "2024-10-24T22:49:40.712Z"
   },
   {
    "duration": 27,
    "start_time": "2024-10-24T22:49:41.605Z"
   },
   {
    "duration": 5,
    "start_time": "2024-10-24T22:49:41.634Z"
   },
   {
    "duration": 8,
    "start_time": "2024-10-24T22:49:41.642Z"
   },
   {
    "duration": 15,
    "start_time": "2024-10-24T22:49:41.652Z"
   },
   {
    "duration": 6,
    "start_time": "2024-10-24T22:49:41.668Z"
   },
   {
    "duration": 5,
    "start_time": "2024-10-24T22:49:41.675Z"
   },
   {
    "duration": 27,
    "start_time": "2024-10-24T22:49:41.681Z"
   },
   {
    "duration": 263,
    "start_time": "2024-10-24T22:49:41.710Z"
   },
   {
    "duration": 18,
    "start_time": "2024-10-24T22:49:44.235Z"
   },
   {
    "duration": 21,
    "start_time": "2024-10-24T22:49:55.942Z"
   },
   {
    "duration": 6,
    "start_time": "2024-10-24T22:53:59.558Z"
   },
   {
    "duration": 12,
    "start_time": "2024-10-24T22:54:19.169Z"
   },
   {
    "duration": 7,
    "start_time": "2024-10-24T22:54:22.440Z"
   },
   {
    "duration": 4,
    "start_time": "2024-10-24T22:54:46.282Z"
   },
   {
    "duration": 3,
    "start_time": "2024-10-24T22:55:06.590Z"
   },
   {
    "duration": 4,
    "start_time": "2024-10-24T22:55:27.038Z"
   },
   {
    "duration": 3,
    "start_time": "2024-10-24T22:55:38.474Z"
   },
   {
    "duration": 3,
    "start_time": "2024-10-24T22:55:57.747Z"
   },
   {
    "duration": 4,
    "start_time": "2024-10-24T22:56:23.198Z"
   },
   {
    "duration": 3,
    "start_time": "2024-10-24T22:56:34.888Z"
   },
   {
    "duration": 3,
    "start_time": "2024-10-24T22:56:46.480Z"
   },
   {
    "duration": 176,
    "start_time": "2024-10-25T22:37:48.024Z"
   },
   {
    "duration": 833,
    "start_time": "2024-10-25T22:38:27.320Z"
   },
   {
    "duration": 12,
    "start_time": "2024-10-25T22:38:28.155Z"
   },
   {
    "duration": 3,
    "start_time": "2024-10-25T22:38:28.169Z"
   },
   {
    "duration": 9,
    "start_time": "2024-10-25T22:38:28.174Z"
   },
   {
    "duration": 16,
    "start_time": "2024-10-25T22:38:28.186Z"
   },
   {
    "duration": 34,
    "start_time": "2024-10-25T22:38:28.203Z"
   },
   {
    "duration": 5,
    "start_time": "2024-10-25T22:38:28.238Z"
   },
   {
    "duration": 3,
    "start_time": "2024-10-25T22:38:28.244Z"
   },
   {
    "duration": 5,
    "start_time": "2024-10-25T22:38:28.249Z"
   },
   {
    "duration": 75,
    "start_time": "2024-10-25T22:38:32.349Z"
   },
   {
    "duration": 3,
    "start_time": "2024-10-25T22:38:44.370Z"
   },
   {
    "duration": 3,
    "start_time": "2024-10-25T22:38:56.441Z"
   },
   {
    "duration": 3,
    "start_time": "2024-10-25T22:40:57.436Z"
   },
   {
    "duration": 4,
    "start_time": "2024-10-25T22:42:17.536Z"
   },
   {
    "duration": 3,
    "start_time": "2024-10-25T22:42:32.348Z"
   },
   {
    "duration": 3,
    "start_time": "2024-10-25T22:44:00.774Z"
   },
   {
    "duration": 4,
    "start_time": "2024-10-25T22:44:07.516Z"
   },
   {
    "duration": 3,
    "start_time": "2024-10-25T22:44:11.185Z"
   },
   {
    "duration": 3,
    "start_time": "2024-10-25T22:44:27.532Z"
   },
   {
    "duration": 3,
    "start_time": "2024-10-25T22:47:10.087Z"
   },
   {
    "duration": 21,
    "start_time": "2024-10-25T22:48:03.210Z"
   },
   {
    "duration": 3,
    "start_time": "2024-10-25T22:48:13.959Z"
   },
   {
    "duration": 13,
    "start_time": "2024-10-25T22:50:40.663Z"
   },
   {
    "duration": 104,
    "start_time": "2024-10-25T22:51:16.383Z"
   },
   {
    "duration": 7,
    "start_time": "2024-10-25T22:54:01.474Z"
   },
   {
    "duration": 7,
    "start_time": "2024-10-25T22:54:24.073Z"
   },
   {
    "duration": 3,
    "start_time": "2024-10-25T22:54:26.102Z"
   },
   {
    "duration": 3,
    "start_time": "2024-10-25T22:54:28.210Z"
   },
   {
    "duration": 821,
    "start_time": "2024-10-25T22:57:41.523Z"
   },
   {
    "duration": 12,
    "start_time": "2024-10-25T22:57:42.346Z"
   },
   {
    "duration": 3,
    "start_time": "2024-10-25T22:57:42.359Z"
   },
   {
    "duration": 8,
    "start_time": "2024-10-25T22:57:42.365Z"
   },
   {
    "duration": 15,
    "start_time": "2024-10-25T22:57:42.374Z"
   },
   {
    "duration": 4,
    "start_time": "2024-10-25T22:57:42.391Z"
   },
   {
    "duration": 5,
    "start_time": "2024-10-25T22:57:42.397Z"
   },
   {
    "duration": 6,
    "start_time": "2024-10-25T22:57:42.415Z"
   },
   {
    "duration": 17,
    "start_time": "2024-10-25T22:57:42.422Z"
   },
   {
    "duration": 3,
    "start_time": "2024-10-25T22:57:42.442Z"
   },
   {
    "duration": 3,
    "start_time": "2024-10-25T22:57:42.447Z"
   },
   {
    "duration": 28483,
    "start_time": "2024-10-25T22:57:42.452Z"
   },
   {
    "duration": 289,
    "start_time": "2024-10-25T22:58:10.938Z"
   },
   {
    "duration": 7,
    "start_time": "2024-10-25T22:58:11.228Z"
   },
   {
    "duration": 11,
    "start_time": "2024-10-25T22:58:11.236Z"
   },
   {
    "duration": 340,
    "start_time": "2024-10-25T22:59:35.011Z"
   },
   {
    "duration": 4,
    "start_time": "2024-10-25T22:59:37.786Z"
   },
   {
    "duration": 11,
    "start_time": "2024-10-25T22:59:39.932Z"
   },
   {
    "duration": 9,
    "start_time": "2024-10-25T23:01:52.798Z"
   },
   {
    "duration": 279,
    "start_time": "2024-10-25T23:02:23.344Z"
   },
   {
    "duration": 18,
    "start_time": "2024-10-25T23:04:09.053Z"
   },
   {
    "duration": 1967,
    "start_time": "2024-10-25T23:04:27.560Z"
   },
   {
    "duration": 160,
    "start_time": "2024-10-25T23:04:57.384Z"
   },
   {
    "duration": 37,
    "start_time": "2024-10-25T23:06:46.878Z"
   },
   {
    "duration": 38,
    "start_time": "2024-10-25T23:07:39.886Z"
   },
   {
    "duration": 9,
    "start_time": "2024-10-26T06:58:34.934Z"
   },
   {
    "duration": 6,
    "start_time": "2024-10-26T06:58:39.845Z"
   },
   {
    "duration": 838,
    "start_time": "2024-10-26T07:00:12.497Z"
   },
   {
    "duration": 11,
    "start_time": "2024-10-26T07:00:13.337Z"
   },
   {
    "duration": 4,
    "start_time": "2024-10-26T07:00:13.349Z"
   },
   {
    "duration": 8,
    "start_time": "2024-10-26T07:00:13.356Z"
   },
   {
    "duration": 15,
    "start_time": "2024-10-26T07:00:13.366Z"
   },
   {
    "duration": 23,
    "start_time": "2024-10-26T07:00:13.383Z"
   },
   {
    "duration": 5,
    "start_time": "2024-10-26T07:00:13.408Z"
   },
   {
    "duration": 3,
    "start_time": "2024-10-26T07:00:13.415Z"
   },
   {
    "duration": 9,
    "start_time": "2024-10-26T07:00:13.420Z"
   },
   {
    "duration": 3,
    "start_time": "2024-10-26T07:00:13.431Z"
   },
   {
    "duration": 3,
    "start_time": "2024-10-26T07:00:13.436Z"
   },
   {
    "duration": 27397,
    "start_time": "2024-10-26T07:00:13.441Z"
   },
   {
    "duration": 5,
    "start_time": "2024-10-26T07:00:40.840Z"
   },
   {
    "duration": 0,
    "start_time": "2024-10-26T07:00:40.847Z"
   },
   {
    "duration": 0,
    "start_time": "2024-10-26T07:00:40.848Z"
   },
   {
    "duration": 0,
    "start_time": "2024-10-26T07:00:40.849Z"
   },
   {
    "duration": 349,
    "start_time": "2024-10-26T07:01:07.049Z"
   },
   {
    "duration": 18,
    "start_time": "2024-10-26T07:01:18.202Z"
   },
   {
    "duration": 52,
    "start_time": "2024-10-26T07:02:00.988Z"
   },
   {
    "duration": 53,
    "start_time": "2024-10-26T07:11:20.954Z"
   },
   {
    "duration": 51,
    "start_time": "2024-10-26T07:35:56.251Z"
   },
   {
    "duration": 52,
    "start_time": "2024-10-26T07:36:18.673Z"
   },
   {
    "duration": 51,
    "start_time": "2024-10-26T07:39:22.320Z"
   },
   {
    "duration": 51,
    "start_time": "2024-10-26T07:41:05.533Z"
   },
   {
    "duration": 51,
    "start_time": "2024-10-26T07:41:16.218Z"
   },
   {
    "duration": 21,
    "start_time": "2024-10-26T07:41:29.805Z"
   },
   {
    "duration": 51,
    "start_time": "2024-10-26T07:41:36.110Z"
   },
   {
    "duration": 18,
    "start_time": "2024-10-26T07:43:48.643Z"
   },
   {
    "duration": 62,
    "start_time": "2024-10-26T07:44:00.307Z"
   },
   {
    "duration": 50,
    "start_time": "2024-10-26T07:44:11.327Z"
   },
   {
    "duration": 51,
    "start_time": "2024-10-26T07:46:02.845Z"
   },
   {
    "duration": 51,
    "start_time": "2024-10-26T07:46:07.149Z"
   },
   {
    "duration": 50,
    "start_time": "2024-10-26T07:46:10.653Z"
   },
   {
    "duration": 10,
    "start_time": "2024-10-26T07:49:17.264Z"
   },
   {
    "duration": 7,
    "start_time": "2024-10-26T07:49:17.276Z"
   },
   {
    "duration": 4,
    "start_time": "2024-10-26T07:49:17.284Z"
   },
   {
    "duration": 7,
    "start_time": "2024-10-26T07:49:17.291Z"
   },
   {
    "duration": 15,
    "start_time": "2024-10-26T07:49:17.300Z"
   },
   {
    "duration": 4,
    "start_time": "2024-10-26T07:49:17.317Z"
   },
   {
    "duration": 4,
    "start_time": "2024-10-26T07:49:17.324Z"
   },
   {
    "duration": 2,
    "start_time": "2024-10-26T07:49:17.330Z"
   },
   {
    "duration": 7,
    "start_time": "2024-10-26T07:49:17.334Z"
   },
   {
    "duration": 2,
    "start_time": "2024-10-26T07:49:17.344Z"
   },
   {
    "duration": 3,
    "start_time": "2024-10-26T07:49:17.348Z"
   },
   {
    "duration": 27587,
    "start_time": "2024-10-26T07:49:17.352Z"
   },
   {
    "duration": 50,
    "start_time": "2024-10-26T07:49:44.942Z"
   },
   {
    "duration": 321,
    "start_time": "2024-10-26T07:49:44.994Z"
   },
   {
    "duration": 5,
    "start_time": "2024-10-26T07:49:45.316Z"
   },
   {
    "duration": 7,
    "start_time": "2024-10-26T07:49:45.322Z"
   },
   {
    "duration": 803,
    "start_time": "2024-10-27T17:00:00.243Z"
   },
   {
    "duration": 10,
    "start_time": "2024-10-27T17:00:01.048Z"
   },
   {
    "duration": 3,
    "start_time": "2024-10-27T17:00:01.060Z"
   },
   {
    "duration": 9,
    "start_time": "2024-10-27T17:00:01.065Z"
   },
   {
    "duration": 33,
    "start_time": "2024-10-27T17:00:01.076Z"
   },
   {
    "duration": 5,
    "start_time": "2024-10-27T17:00:01.111Z"
   },
   {
    "duration": 6,
    "start_time": "2024-10-27T17:00:01.118Z"
   },
   {
    "duration": 4,
    "start_time": "2024-10-27T17:00:01.125Z"
   },
   {
    "duration": 6,
    "start_time": "2024-10-27T17:00:01.130Z"
   },
   {
    "duration": 3,
    "start_time": "2024-10-27T17:00:01.138Z"
   },
   {
    "duration": 3,
    "start_time": "2024-10-27T17:00:01.143Z"
   },
   {
    "duration": 27373,
    "start_time": "2024-10-27T17:00:01.147Z"
   },
   {
    "duration": 51,
    "start_time": "2024-10-27T17:00:28.522Z"
   },
   {
    "duration": 320,
    "start_time": "2024-10-27T17:00:28.576Z"
   },
   {
    "duration": 4,
    "start_time": "2024-10-27T17:00:28.897Z"
   },
   {
    "duration": 8,
    "start_time": "2024-10-27T17:00:28.906Z"
   }
  ],
  "kernelspec": {
   "display_name": "Python 3 (ipykernel)",
   "language": "python",
   "name": "python3"
  },
  "language_info": {
   "codemirror_mode": {
    "name": "ipython",
    "version": 3
   },
   "file_extension": ".py",
   "mimetype": "text/x-python",
   "name": "python",
   "nbconvert_exporter": "python",
   "pygments_lexer": "ipython3",
   "version": "3.9.19"
  },
  "toc": {
   "base_numbering": 1,
   "nav_menu": {},
   "number_sections": true,
   "sideBar": true,
   "skip_h1_title": true,
   "title_cell": "Table of Contents",
   "title_sidebar": "Contents",
   "toc_cell": false,
   "toc_position": {},
   "toc_section_display": true,
   "toc_window_display": false
  }
 },
 "nbformat": 4,
 "nbformat_minor": 2
}
