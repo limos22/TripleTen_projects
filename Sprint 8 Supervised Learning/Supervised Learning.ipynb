{
 "cells": [
  {
   "cell_type": "markdown",
   "metadata": {},
   "source": [
    "\n",
    "<div style=\"border-radius: 15px; border: 3px solid indigo; padding: 15px;\">\n",
    "<b> Reviewer's comment 4</b>\n",
    "\n",
    "\n",
    "Thank you so much for your diligence! This is a hard topic, but everything is great in your project! You can find my new comments with digit 4. I do not have any questions, so the project can be accepted. Good luck! \n",
    "\n",
    "    \n",
    "</div>"
   ]
  },
  {
   "cell_type": "markdown",
   "metadata": {},
   "source": [
    "\n",
    "<div style=\"border-radius: 15px; border: 3px solid indigo; padding: 15px;\">\n",
    "<b> Reviewer's comment 3</b>\n",
    "\n",
    "\n",
    "Thank you for the updates! My new comments have digit 3. Would you take a look?\n",
    "\n",
    "    \n",
    "\n",
    "    \n",
    "</div>"
   ]
  },
  {
   "cell_type": "markdown",
   "metadata": {},
   "source": [
    "\n",
    "<div style=\"border-radius: 15px; border: 3px solid indigo; padding: 15px;\">\n",
    "<b> Reviewer's comment 2</b>\n",
    "\n",
    "\n",
    "Thank you for sending a new version of the project 😊 I've left a few comments titled as **Reviewer's comment 2**. Please take a look :) \n",
    "\n",
    "    \n",
    "\n",
    "    \n",
    "</div>"
   ]
  },
  {
   "cell_type": "markdown",
   "metadata": {},
   "source": [
    "<div style=\"border-radius: 15px; border: 3px solid indigo; padding: 15px;\">\n",
    "<b> Reviewer's comment</b>\n",
    "    \n",
    "Hi, I am a reviewer on this project. Congratulations on submitting another project! 🎉\n",
    "    \n",
    "\n",
    "Before we start, I want to pay your attention to the color marking:\n",
    "    \n",
    "<div class=\"alert alert-success\" style=\"border-radius: 15px; box-shadow: 4px 4px 4px; border: 1px solid \">\n",
    "<b> Reviewer's comment </b>\n",
    "    \n",
    "Great solutions and ideas that can and should be used in the future are in green comments.   \n",
    "</div>    \n",
    "    \n",
    "    \n",
    "<div class=\"alert alert-warning\" style=\"border-radius: 15px; box-shadow: 4px 4px 4px; border: 1px solid \">\n",
    "<b> Reviewer's comment </b>\n",
    "\n",
    "Yellow color indicates what should be optimized. This is not necessary, but it will be great if you make changes to this project.\n",
    "</div>      \n",
    "    \n",
    "    \n",
    "<div class=\"alert alert-danger\" style=\"border-radius: 15px; box-shadow: 4px 4px 4px; border: 1px solid \">\n",
    "<b> Reviewer's comment </b>\n",
    "\n",
    "Issues that need to be corrected to get right results are indicated in red comments. Note that the project cannot be accepted until these issues are resolved.\n",
    "</div>    \n",
    "\n",
    "<hr>\n",
    "    \n",
    "**Please, use some color other than those listed to highlight answers to my comments.**\n",
    "I would also ask you **not to change, move or delete my comments** so that it would be easier for me to navigate during the next review.\n",
    "    \n",
    "In addition, my comments are defined as headings. \n",
    "They can mess up the content; however, they are convenient, since you can immediately go to them. I will remove the headings from my comments in the next review. \n",
    "   \n",
    "    \n",
    "    \n",
    "<hr>\n",
    "    \n",
    "<font color='dodgerblue'>**A few words about the project:**</font> you did a great job here, thank you so much! Actually the project is almost perfect. \n",
    "    \n",
    "    \n",
    "- You have successfully prepared the subsets;    \n",
    "    \n",
    "    \n",
    "- Compared several algorithms on imbalanced data; \n",
    "\n",
    "\n",
    "- Tuned hyperparameters;\n",
    "\n",
    "\n",
    "- Wrote a good conclusion! \n",
    "\n",
    "\n",
    "\n",
    "There're just a couple of issues that need your attention. Would you take a look at my comments? It should not take much time. I've also left some recommendations for improving the project. \n",
    "\n",
    "    \n",
    "<hr>\n",
    "    \n",
    "Please feel free to schedule a 1:1 with our tutors or TAs, join daily coworking sessions, or ask questions in the sprint channels on Discord if you need assistance. \n",
    "\n",
    "</div>"
   ]
  },
  {
   "cell_type": "markdown",
   "metadata": {},
   "source": [
    "# ML Bank Churn"
   ]
  },
  {
   "cell_type": "markdown",
   "metadata": {},
   "source": [
    "This project is about building a model for a bank to predict whether or not a current customer will leave the bank. I will be focusing on establishing the highest possible F1 score. The data consists of bank information for customers and with this dataset I will find the best ML model through the testing of various models. Before creating a model I prepared the data and clean it of unnecessary data. I made charts of the data to get a better visizulation of the dataset."
   ]
  },
  {
   "cell_type": "markdown",
   "metadata": {},
   "source": [
    "<div class=\"alert alert-success\" style=\"border-radius: 15px; box-shadow: 4px 4px 4px; border: 1px solid \">\n",
    "<h2>   Reviewer's comment </h2>\n",
    "    \n",
    "There's an introduction, which is good. It is important to write an introductory part, because it gives an idea about the content of the project.\n",
    "</div>\n",
    "<div class=\"alert alert-warning\" style=\"border-radius: 15px; box-shadow: 4px 4px 4px; border: 1px solid \">\n",
    "<h2>   Reviewer's comment </h2>\n",
    "    \n",
    "Try to make it broader next time :) For instance, you can add a short data description. \n",
    "\n",
    "</div>"
   ]
  },
  {
   "cell_type": "markdown",
   "metadata": {},
   "source": [
    "Below I imported functions to use to clean/preprocess and build a ML model."
   ]
  },
  {
   "cell_type": "code",
   "execution_count": 1,
   "metadata": {},
   "outputs": [],
   "source": [
    "import pandas as pd\n",
    "import numpy as np\n",
    "import matplotlib.pyplot as plt\n",
    "from sklearn.model_selection import train_test_split\n",
    "from sklearn.metrics import f1_score, roc_auc_score, accuracy_score, classification_report, mean_squared_error, confusion_matrix, roc_curve\n",
    "from sklearn.model_selection import GridSearchCV\n",
    "from sklearn.ensemble import RandomForestClassifier\n",
    "from sklearn.linear_model import LogisticRegression\n",
    "from sklearn.tree import DecisionTreeClassifier"
   ]
  },
  {
   "cell_type": "markdown",
   "metadata": {},
   "source": [
    "I read the file as churn."
   ]
  },
  {
   "cell_type": "code",
   "execution_count": 2,
   "metadata": {},
   "outputs": [],
   "source": [
    "churn = pd.read_csv('/datasets/Churn.csv')"
   ]
  },
  {
   "cell_type": "markdown",
   "metadata": {},
   "source": [
    "<div class=\"alert alert-warning\" style=\"border-radius: 15px; box-shadow: 4px 4px 4px; border: 1px solid \">\n",
    "<b>  Reviewer's comment </b>\n",
    "    \n",
    "\n",
    "You can import modules in one cell and read data in another. \n",
    "\n",
    "</div>\n",
    "<div class=\"alert alert-success\" style=\"border-radius: 15px; box-shadow: 4px 4px 4px; border: 1px solid \">\n",
    "<h2>   Reviewer's comment 2 </h2>\n",
    "    \n",
    "Good! \n",
    "\n",
    "</div>"
   ]
  },
  {
   "cell_type": "markdown",
   "metadata": {},
   "source": [
    "## Preprocessing"
   ]
  },
  {
   "cell_type": "markdown",
   "metadata": {},
   "source": [
    "In this section I clean the data and prepare it for a ML model. checking for missing or duplicate values. In order to not skew the data I put in the median value for the column with missing data."
   ]
  },
  {
   "cell_type": "markdown",
   "metadata": {},
   "source": [
    "Printing out the first few rows of data using head function. get a general overview  with info and describe as well, being able to see the data types and count for each column. It looks as though there are 909 missing vaues in the Tenure column."
   ]
  },
  {
   "cell_type": "code",
   "execution_count": 3,
   "metadata": {},
   "outputs": [
    {
     "data": {
      "text/html": [
       "<div>\n",
       "<style scoped>\n",
       "    .dataframe tbody tr th:only-of-type {\n",
       "        vertical-align: middle;\n",
       "    }\n",
       "\n",
       "    .dataframe tbody tr th {\n",
       "        vertical-align: top;\n",
       "    }\n",
       "\n",
       "    .dataframe thead th {\n",
       "        text-align: right;\n",
       "    }\n",
       "</style>\n",
       "<table border=\"1\" class=\"dataframe\">\n",
       "  <thead>\n",
       "    <tr style=\"text-align: right;\">\n",
       "      <th></th>\n",
       "      <th>RowNumber</th>\n",
       "      <th>CustomerId</th>\n",
       "      <th>Surname</th>\n",
       "      <th>CreditScore</th>\n",
       "      <th>Geography</th>\n",
       "      <th>Gender</th>\n",
       "      <th>Age</th>\n",
       "      <th>Tenure</th>\n",
       "      <th>Balance</th>\n",
       "      <th>NumOfProducts</th>\n",
       "      <th>HasCrCard</th>\n",
       "      <th>IsActiveMember</th>\n",
       "      <th>EstimatedSalary</th>\n",
       "      <th>Exited</th>\n",
       "    </tr>\n",
       "  </thead>\n",
       "  <tbody>\n",
       "    <tr>\n",
       "      <th>0</th>\n",
       "      <td>1</td>\n",
       "      <td>15634602</td>\n",
       "      <td>Hargrave</td>\n",
       "      <td>619</td>\n",
       "      <td>France</td>\n",
       "      <td>Female</td>\n",
       "      <td>42</td>\n",
       "      <td>2.0</td>\n",
       "      <td>0.00</td>\n",
       "      <td>1</td>\n",
       "      <td>1</td>\n",
       "      <td>1</td>\n",
       "      <td>101348.88</td>\n",
       "      <td>1</td>\n",
       "    </tr>\n",
       "    <tr>\n",
       "      <th>1</th>\n",
       "      <td>2</td>\n",
       "      <td>15647311</td>\n",
       "      <td>Hill</td>\n",
       "      <td>608</td>\n",
       "      <td>Spain</td>\n",
       "      <td>Female</td>\n",
       "      <td>41</td>\n",
       "      <td>1.0</td>\n",
       "      <td>83807.86</td>\n",
       "      <td>1</td>\n",
       "      <td>0</td>\n",
       "      <td>1</td>\n",
       "      <td>112542.58</td>\n",
       "      <td>0</td>\n",
       "    </tr>\n",
       "    <tr>\n",
       "      <th>2</th>\n",
       "      <td>3</td>\n",
       "      <td>15619304</td>\n",
       "      <td>Onio</td>\n",
       "      <td>502</td>\n",
       "      <td>France</td>\n",
       "      <td>Female</td>\n",
       "      <td>42</td>\n",
       "      <td>8.0</td>\n",
       "      <td>159660.80</td>\n",
       "      <td>3</td>\n",
       "      <td>1</td>\n",
       "      <td>0</td>\n",
       "      <td>113931.57</td>\n",
       "      <td>1</td>\n",
       "    </tr>\n",
       "    <tr>\n",
       "      <th>3</th>\n",
       "      <td>4</td>\n",
       "      <td>15701354</td>\n",
       "      <td>Boni</td>\n",
       "      <td>699</td>\n",
       "      <td>France</td>\n",
       "      <td>Female</td>\n",
       "      <td>39</td>\n",
       "      <td>1.0</td>\n",
       "      <td>0.00</td>\n",
       "      <td>2</td>\n",
       "      <td>0</td>\n",
       "      <td>0</td>\n",
       "      <td>93826.63</td>\n",
       "      <td>0</td>\n",
       "    </tr>\n",
       "    <tr>\n",
       "      <th>4</th>\n",
       "      <td>5</td>\n",
       "      <td>15737888</td>\n",
       "      <td>Mitchell</td>\n",
       "      <td>850</td>\n",
       "      <td>Spain</td>\n",
       "      <td>Female</td>\n",
       "      <td>43</td>\n",
       "      <td>2.0</td>\n",
       "      <td>125510.82</td>\n",
       "      <td>1</td>\n",
       "      <td>1</td>\n",
       "      <td>1</td>\n",
       "      <td>79084.10</td>\n",
       "      <td>0</td>\n",
       "    </tr>\n",
       "  </tbody>\n",
       "</table>\n",
       "</div>"
      ],
      "text/plain": [
       "   RowNumber  CustomerId   Surname  CreditScore Geography  Gender  Age  \\\n",
       "0          1    15634602  Hargrave          619    France  Female   42   \n",
       "1          2    15647311      Hill          608     Spain  Female   41   \n",
       "2          3    15619304      Onio          502    France  Female   42   \n",
       "3          4    15701354      Boni          699    France  Female   39   \n",
       "4          5    15737888  Mitchell          850     Spain  Female   43   \n",
       "\n",
       "   Tenure    Balance  NumOfProducts  HasCrCard  IsActiveMember  \\\n",
       "0     2.0       0.00              1          1               1   \n",
       "1     1.0   83807.86              1          0               1   \n",
       "2     8.0  159660.80              3          1               0   \n",
       "3     1.0       0.00              2          0               0   \n",
       "4     2.0  125510.82              1          1               1   \n",
       "\n",
       "   EstimatedSalary  Exited  \n",
       "0        101348.88       1  \n",
       "1        112542.58       0  \n",
       "2        113931.57       1  \n",
       "3         93826.63       0  \n",
       "4         79084.10       0  "
      ]
     },
     "execution_count": 3,
     "metadata": {},
     "output_type": "execute_result"
    }
   ],
   "source": [
    "churn.head()"
   ]
  },
  {
   "cell_type": "code",
   "execution_count": 4,
   "metadata": {},
   "outputs": [
    {
     "name": "stdout",
     "output_type": "stream",
     "text": [
      "<class 'pandas.core.frame.DataFrame'>\n",
      "RangeIndex: 10000 entries, 0 to 9999\n",
      "Data columns (total 14 columns):\n",
      " #   Column           Non-Null Count  Dtype  \n",
      "---  ------           --------------  -----  \n",
      " 0   RowNumber        10000 non-null  int64  \n",
      " 1   CustomerId       10000 non-null  int64  \n",
      " 2   Surname          10000 non-null  object \n",
      " 3   CreditScore      10000 non-null  int64  \n",
      " 4   Geography        10000 non-null  object \n",
      " 5   Gender           10000 non-null  object \n",
      " 6   Age              10000 non-null  int64  \n",
      " 7   Tenure           9091 non-null   float64\n",
      " 8   Balance          10000 non-null  float64\n",
      " 9   NumOfProducts    10000 non-null  int64  \n",
      " 10  HasCrCard        10000 non-null  int64  \n",
      " 11  IsActiveMember   10000 non-null  int64  \n",
      " 12  EstimatedSalary  10000 non-null  float64\n",
      " 13  Exited           10000 non-null  int64  \n",
      "dtypes: float64(3), int64(8), object(3)\n",
      "memory usage: 1.1+ MB\n"
     ]
    }
   ],
   "source": [
    "churn.info()"
   ]
  },
  {
   "cell_type": "code",
   "execution_count": 5,
   "metadata": {},
   "outputs": [
    {
     "data": {
      "text/html": [
       "<div>\n",
       "<style scoped>\n",
       "    .dataframe tbody tr th:only-of-type {\n",
       "        vertical-align: middle;\n",
       "    }\n",
       "\n",
       "    .dataframe tbody tr th {\n",
       "        vertical-align: top;\n",
       "    }\n",
       "\n",
       "    .dataframe thead th {\n",
       "        text-align: right;\n",
       "    }\n",
       "</style>\n",
       "<table border=\"1\" class=\"dataframe\">\n",
       "  <thead>\n",
       "    <tr style=\"text-align: right;\">\n",
       "      <th></th>\n",
       "      <th>RowNumber</th>\n",
       "      <th>CustomerId</th>\n",
       "      <th>CreditScore</th>\n",
       "      <th>Age</th>\n",
       "      <th>Tenure</th>\n",
       "      <th>Balance</th>\n",
       "      <th>NumOfProducts</th>\n",
       "      <th>HasCrCard</th>\n",
       "      <th>IsActiveMember</th>\n",
       "      <th>EstimatedSalary</th>\n",
       "      <th>Exited</th>\n",
       "    </tr>\n",
       "  </thead>\n",
       "  <tbody>\n",
       "    <tr>\n",
       "      <th>count</th>\n",
       "      <td>10000.00000</td>\n",
       "      <td>1.000000e+04</td>\n",
       "      <td>10000.000000</td>\n",
       "      <td>10000.000000</td>\n",
       "      <td>9091.000000</td>\n",
       "      <td>10000.000000</td>\n",
       "      <td>10000.000000</td>\n",
       "      <td>10000.00000</td>\n",
       "      <td>10000.000000</td>\n",
       "      <td>10000.000000</td>\n",
       "      <td>10000.000000</td>\n",
       "    </tr>\n",
       "    <tr>\n",
       "      <th>mean</th>\n",
       "      <td>5000.50000</td>\n",
       "      <td>1.569094e+07</td>\n",
       "      <td>650.528800</td>\n",
       "      <td>38.921800</td>\n",
       "      <td>4.997690</td>\n",
       "      <td>76485.889288</td>\n",
       "      <td>1.530200</td>\n",
       "      <td>0.70550</td>\n",
       "      <td>0.515100</td>\n",
       "      <td>100090.239881</td>\n",
       "      <td>0.203700</td>\n",
       "    </tr>\n",
       "    <tr>\n",
       "      <th>std</th>\n",
       "      <td>2886.89568</td>\n",
       "      <td>7.193619e+04</td>\n",
       "      <td>96.653299</td>\n",
       "      <td>10.487806</td>\n",
       "      <td>2.894723</td>\n",
       "      <td>62397.405202</td>\n",
       "      <td>0.581654</td>\n",
       "      <td>0.45584</td>\n",
       "      <td>0.499797</td>\n",
       "      <td>57510.492818</td>\n",
       "      <td>0.402769</td>\n",
       "    </tr>\n",
       "    <tr>\n",
       "      <th>min</th>\n",
       "      <td>1.00000</td>\n",
       "      <td>1.556570e+07</td>\n",
       "      <td>350.000000</td>\n",
       "      <td>18.000000</td>\n",
       "      <td>0.000000</td>\n",
       "      <td>0.000000</td>\n",
       "      <td>1.000000</td>\n",
       "      <td>0.00000</td>\n",
       "      <td>0.000000</td>\n",
       "      <td>11.580000</td>\n",
       "      <td>0.000000</td>\n",
       "    </tr>\n",
       "    <tr>\n",
       "      <th>25%</th>\n",
       "      <td>2500.75000</td>\n",
       "      <td>1.562853e+07</td>\n",
       "      <td>584.000000</td>\n",
       "      <td>32.000000</td>\n",
       "      <td>2.000000</td>\n",
       "      <td>0.000000</td>\n",
       "      <td>1.000000</td>\n",
       "      <td>0.00000</td>\n",
       "      <td>0.000000</td>\n",
       "      <td>51002.110000</td>\n",
       "      <td>0.000000</td>\n",
       "    </tr>\n",
       "    <tr>\n",
       "      <th>50%</th>\n",
       "      <td>5000.50000</td>\n",
       "      <td>1.569074e+07</td>\n",
       "      <td>652.000000</td>\n",
       "      <td>37.000000</td>\n",
       "      <td>5.000000</td>\n",
       "      <td>97198.540000</td>\n",
       "      <td>1.000000</td>\n",
       "      <td>1.00000</td>\n",
       "      <td>1.000000</td>\n",
       "      <td>100193.915000</td>\n",
       "      <td>0.000000</td>\n",
       "    </tr>\n",
       "    <tr>\n",
       "      <th>75%</th>\n",
       "      <td>7500.25000</td>\n",
       "      <td>1.575323e+07</td>\n",
       "      <td>718.000000</td>\n",
       "      <td>44.000000</td>\n",
       "      <td>7.000000</td>\n",
       "      <td>127644.240000</td>\n",
       "      <td>2.000000</td>\n",
       "      <td>1.00000</td>\n",
       "      <td>1.000000</td>\n",
       "      <td>149388.247500</td>\n",
       "      <td>0.000000</td>\n",
       "    </tr>\n",
       "    <tr>\n",
       "      <th>max</th>\n",
       "      <td>10000.00000</td>\n",
       "      <td>1.581569e+07</td>\n",
       "      <td>850.000000</td>\n",
       "      <td>92.000000</td>\n",
       "      <td>10.000000</td>\n",
       "      <td>250898.090000</td>\n",
       "      <td>4.000000</td>\n",
       "      <td>1.00000</td>\n",
       "      <td>1.000000</td>\n",
       "      <td>199992.480000</td>\n",
       "      <td>1.000000</td>\n",
       "    </tr>\n",
       "  </tbody>\n",
       "</table>\n",
       "</div>"
      ],
      "text/plain": [
       "         RowNumber    CustomerId   CreditScore           Age       Tenure  \\\n",
       "count  10000.00000  1.000000e+04  10000.000000  10000.000000  9091.000000   \n",
       "mean    5000.50000  1.569094e+07    650.528800     38.921800     4.997690   \n",
       "std     2886.89568  7.193619e+04     96.653299     10.487806     2.894723   \n",
       "min        1.00000  1.556570e+07    350.000000     18.000000     0.000000   \n",
       "25%     2500.75000  1.562853e+07    584.000000     32.000000     2.000000   \n",
       "50%     5000.50000  1.569074e+07    652.000000     37.000000     5.000000   \n",
       "75%     7500.25000  1.575323e+07    718.000000     44.000000     7.000000   \n",
       "max    10000.00000  1.581569e+07    850.000000     92.000000    10.000000   \n",
       "\n",
       "             Balance  NumOfProducts    HasCrCard  IsActiveMember  \\\n",
       "count   10000.000000   10000.000000  10000.00000    10000.000000   \n",
       "mean    76485.889288       1.530200      0.70550        0.515100   \n",
       "std     62397.405202       0.581654      0.45584        0.499797   \n",
       "min         0.000000       1.000000      0.00000        0.000000   \n",
       "25%         0.000000       1.000000      0.00000        0.000000   \n",
       "50%     97198.540000       1.000000      1.00000        1.000000   \n",
       "75%    127644.240000       2.000000      1.00000        1.000000   \n",
       "max    250898.090000       4.000000      1.00000        1.000000   \n",
       "\n",
       "       EstimatedSalary        Exited  \n",
       "count     10000.000000  10000.000000  \n",
       "mean     100090.239881      0.203700  \n",
       "std       57510.492818      0.402769  \n",
       "min          11.580000      0.000000  \n",
       "25%       51002.110000      0.000000  \n",
       "50%      100193.915000      0.000000  \n",
       "75%      149388.247500      0.000000  \n",
       "max      199992.480000      1.000000  "
      ]
     },
     "execution_count": 5,
     "metadata": {},
     "output_type": "execute_result"
    }
   ],
   "source": [
    "churn.describe()"
   ]
  },
  {
   "cell_type": "markdown",
   "metadata": {},
   "source": [
    "Checked for duplicate and missing values. Only the Tenure column has missing data."
   ]
  },
  {
   "cell_type": "code",
   "execution_count": 6,
   "metadata": {},
   "outputs": [
    {
     "data": {
      "text/plain": [
       "0"
      ]
     },
     "execution_count": 6,
     "metadata": {},
     "output_type": "execute_result"
    }
   ],
   "source": [
    "churn.duplicated().sum()"
   ]
  },
  {
   "cell_type": "code",
   "execution_count": 7,
   "metadata": {},
   "outputs": [
    {
     "data": {
      "text/plain": [
       "0"
      ]
     },
     "execution_count": 7,
     "metadata": {},
     "output_type": "execute_result"
    }
   ],
   "source": [
    "churn['CustomerId'].duplicated().sum()"
   ]
  },
  {
   "cell_type": "markdown",
   "metadata": {},
   "source": [
    "<div class=\"alert alert-success\" style=\"border-radius: 15px; box-shadow: 4px 4px 4px; border: 1px solid \">\n",
    "<h2> Reviewer's comment</h2>\n",
    "    \n",
    "Good!\n",
    "</div>\n",
    "<div class=\"alert alert-danger\" style=\"border-radius: 15px; box-shadow: 4px 4px 4px; border: 1px solid \">\n",
    "<b> Reviewer's comment</b>\n",
    "    \n",
    "\n",
    "    \n",
    "Are there any duplicates in `CustomerId` column? \n",
    "\n",
    "</div>\n",
    "<div class=\"alert alert-success\" style=\"border-radius: 15px; box-shadow: 4px 4px 4px; border: 1px solid \">\n",
    "<h2>   Reviewer's comment 2 </h2>\n",
    "    \n",
    "Well done! \n",
    "</div>"
   ]
  },
  {
   "cell_type": "code",
   "execution_count": 8,
   "metadata": {},
   "outputs": [
    {
     "data": {
      "text/plain": [
       "RowNumber            0\n",
       "CustomerId           0\n",
       "Surname              0\n",
       "CreditScore          0\n",
       "Geography            0\n",
       "Gender               0\n",
       "Age                  0\n",
       "Tenure             909\n",
       "Balance              0\n",
       "NumOfProducts        0\n",
       "HasCrCard            0\n",
       "IsActiveMember       0\n",
       "EstimatedSalary      0\n",
       "Exited               0\n",
       "dtype: int64"
      ]
     },
     "execution_count": 8,
     "metadata": {},
     "output_type": "execute_result"
    }
   ],
   "source": [
    "churn.isna().sum()"
   ]
  },
  {
   "cell_type": "markdown",
   "metadata": {},
   "source": [
    "Replaced the missing data with the median value for that column so the daata isnt skewed in one direction."
   ]
  },
  {
   "cell_type": "code",
   "execution_count": 9,
   "metadata": {},
   "outputs": [],
   "source": [
    "churn['Tenure']= churn['Tenure'].fillna(churn['Tenure'].median())"
   ]
  },
  {
   "cell_type": "markdown",
   "metadata": {},
   "source": [
    "<div class=\"alert alert-success\" style=\"border-radius: 15px; box-shadow: 4px 4px 4px; border: 1px solid \">\n",
    "<h2> Reviewer's comment</h2>\n",
    "    \n",
    "Good. In addition, you can also fill in the gaps with a new value thus introducing a new \"category\". \n",
    "    \n",
    "</div>"
   ]
  },
  {
   "cell_type": "code",
   "execution_count": 10,
   "metadata": {},
   "outputs": [
    {
     "data": {
      "text/plain": [
       "RowNumber          0\n",
       "CustomerId         0\n",
       "Surname            0\n",
       "CreditScore        0\n",
       "Geography          0\n",
       "Gender             0\n",
       "Age                0\n",
       "Tenure             0\n",
       "Balance            0\n",
       "NumOfProducts      0\n",
       "HasCrCard          0\n",
       "IsActiveMember     0\n",
       "EstimatedSalary    0\n",
       "Exited             0\n",
       "dtype: int64"
      ]
     },
     "execution_count": 10,
     "metadata": {},
     "output_type": "execute_result"
    }
   ],
   "source": [
    "churn.isna().sum()"
   ]
  },
  {
   "cell_type": "code",
   "execution_count": 11,
   "metadata": {},
   "outputs": [
    {
     "data": {
      "text/plain": [
       "array([1, 0])"
      ]
     },
     "execution_count": 11,
     "metadata": {},
     "output_type": "execute_result"
    }
   ],
   "source": [
    "churn['Exited'].unique()"
   ]
  },
  {
   "cell_type": "markdown",
   "metadata": {},
   "source": [
    "Dropped the rows that would not work with the ML model."
   ]
  },
  {
   "cell_type": "code",
   "execution_count": 12,
   "metadata": {},
   "outputs": [],
   "source": [
    "churn = churn.drop(['RowNumber','CustomerId', 'Surname'], axis=1)"
   ]
  },
  {
   "cell_type": "code",
   "execution_count": 13,
   "metadata": {},
   "outputs": [],
   "source": [
    "churn = pd.get_dummies(churn, drop_first=True)"
   ]
  },
  {
   "cell_type": "markdown",
   "metadata": {},
   "source": [
    "<div class=\"alert alert-success\" style=\"border-radius: 15px; box-shadow: 4px 4px 4px; border: 1px solid \">\n",
    "<h2> Reviewer's comment </h2>\n",
    "    \n",
    "Yes, we can drop them, since they do not influence the behavior. \n",
    "    \n",
    "</div>"
   ]
  },
  {
   "cell_type": "markdown",
   "metadata": {},
   "source": [
    "<div class=\"alert alert-warning\" style=\"border-radius: 15px; box-shadow: 4px 4px 4px; border: 1px solid \">\n",
    "<h2> Reviewer's comment </h2>\n",
    "    \n",
    "It is highly recommended that we encode data after we split it. Sometimes test sets contain one or more categories that were not included in a training set. In the future projects, please try to split the data first and then apply encoding. \n",
    "    \n",
    "</div>\n",
    "<div class=\"alert alert-success\" style=\"border-radius: 15px; box-shadow: 4px 4px 4px; border: 1px solid \">\n",
    "<h2> Reviewer's comment </h2>\n",
    "    \n",
    "For machine learning, `OneHotEncoder` that you will learn in next sprints is much better than `get_dummies`, so I recommend using it in the next projects  :) \n",
    "    \n",
    "</div>"
   ]
  },
  {
   "cell_type": "code",
   "execution_count": 14,
   "metadata": {},
   "outputs": [
    {
     "data": {
      "text/html": [
       "<div>\n",
       "<style scoped>\n",
       "    .dataframe tbody tr th:only-of-type {\n",
       "        vertical-align: middle;\n",
       "    }\n",
       "\n",
       "    .dataframe tbody tr th {\n",
       "        vertical-align: top;\n",
       "    }\n",
       "\n",
       "    .dataframe thead th {\n",
       "        text-align: right;\n",
       "    }\n",
       "</style>\n",
       "<table border=\"1\" class=\"dataframe\">\n",
       "  <thead>\n",
       "    <tr style=\"text-align: right;\">\n",
       "      <th></th>\n",
       "      <th>CreditScore</th>\n",
       "      <th>Age</th>\n",
       "      <th>Tenure</th>\n",
       "      <th>Balance</th>\n",
       "      <th>NumOfProducts</th>\n",
       "      <th>HasCrCard</th>\n",
       "      <th>IsActiveMember</th>\n",
       "      <th>EstimatedSalary</th>\n",
       "      <th>Exited</th>\n",
       "      <th>Geography_Germany</th>\n",
       "      <th>Geography_Spain</th>\n",
       "      <th>Gender_Male</th>\n",
       "    </tr>\n",
       "  </thead>\n",
       "  <tbody>\n",
       "    <tr>\n",
       "      <th>0</th>\n",
       "      <td>619</td>\n",
       "      <td>42</td>\n",
       "      <td>2.0</td>\n",
       "      <td>0.00</td>\n",
       "      <td>1</td>\n",
       "      <td>1</td>\n",
       "      <td>1</td>\n",
       "      <td>101348.88</td>\n",
       "      <td>1</td>\n",
       "      <td>0</td>\n",
       "      <td>0</td>\n",
       "      <td>0</td>\n",
       "    </tr>\n",
       "    <tr>\n",
       "      <th>1</th>\n",
       "      <td>608</td>\n",
       "      <td>41</td>\n",
       "      <td>1.0</td>\n",
       "      <td>83807.86</td>\n",
       "      <td>1</td>\n",
       "      <td>0</td>\n",
       "      <td>1</td>\n",
       "      <td>112542.58</td>\n",
       "      <td>0</td>\n",
       "      <td>0</td>\n",
       "      <td>1</td>\n",
       "      <td>0</td>\n",
       "    </tr>\n",
       "    <tr>\n",
       "      <th>2</th>\n",
       "      <td>502</td>\n",
       "      <td>42</td>\n",
       "      <td>8.0</td>\n",
       "      <td>159660.80</td>\n",
       "      <td>3</td>\n",
       "      <td>1</td>\n",
       "      <td>0</td>\n",
       "      <td>113931.57</td>\n",
       "      <td>1</td>\n",
       "      <td>0</td>\n",
       "      <td>0</td>\n",
       "      <td>0</td>\n",
       "    </tr>\n",
       "    <tr>\n",
       "      <th>3</th>\n",
       "      <td>699</td>\n",
       "      <td>39</td>\n",
       "      <td>1.0</td>\n",
       "      <td>0.00</td>\n",
       "      <td>2</td>\n",
       "      <td>0</td>\n",
       "      <td>0</td>\n",
       "      <td>93826.63</td>\n",
       "      <td>0</td>\n",
       "      <td>0</td>\n",
       "      <td>0</td>\n",
       "      <td>0</td>\n",
       "    </tr>\n",
       "    <tr>\n",
       "      <th>4</th>\n",
       "      <td>850</td>\n",
       "      <td>43</td>\n",
       "      <td>2.0</td>\n",
       "      <td>125510.82</td>\n",
       "      <td>1</td>\n",
       "      <td>1</td>\n",
       "      <td>1</td>\n",
       "      <td>79084.10</td>\n",
       "      <td>0</td>\n",
       "      <td>0</td>\n",
       "      <td>1</td>\n",
       "      <td>0</td>\n",
       "    </tr>\n",
       "    <tr>\n",
       "      <th>...</th>\n",
       "      <td>...</td>\n",
       "      <td>...</td>\n",
       "      <td>...</td>\n",
       "      <td>...</td>\n",
       "      <td>...</td>\n",
       "      <td>...</td>\n",
       "      <td>...</td>\n",
       "      <td>...</td>\n",
       "      <td>...</td>\n",
       "      <td>...</td>\n",
       "      <td>...</td>\n",
       "      <td>...</td>\n",
       "    </tr>\n",
       "    <tr>\n",
       "      <th>9995</th>\n",
       "      <td>771</td>\n",
       "      <td>39</td>\n",
       "      <td>5.0</td>\n",
       "      <td>0.00</td>\n",
       "      <td>2</td>\n",
       "      <td>1</td>\n",
       "      <td>0</td>\n",
       "      <td>96270.64</td>\n",
       "      <td>0</td>\n",
       "      <td>0</td>\n",
       "      <td>0</td>\n",
       "      <td>1</td>\n",
       "    </tr>\n",
       "    <tr>\n",
       "      <th>9996</th>\n",
       "      <td>516</td>\n",
       "      <td>35</td>\n",
       "      <td>10.0</td>\n",
       "      <td>57369.61</td>\n",
       "      <td>1</td>\n",
       "      <td>1</td>\n",
       "      <td>1</td>\n",
       "      <td>101699.77</td>\n",
       "      <td>0</td>\n",
       "      <td>0</td>\n",
       "      <td>0</td>\n",
       "      <td>1</td>\n",
       "    </tr>\n",
       "    <tr>\n",
       "      <th>9997</th>\n",
       "      <td>709</td>\n",
       "      <td>36</td>\n",
       "      <td>7.0</td>\n",
       "      <td>0.00</td>\n",
       "      <td>1</td>\n",
       "      <td>0</td>\n",
       "      <td>1</td>\n",
       "      <td>42085.58</td>\n",
       "      <td>1</td>\n",
       "      <td>0</td>\n",
       "      <td>0</td>\n",
       "      <td>0</td>\n",
       "    </tr>\n",
       "    <tr>\n",
       "      <th>9998</th>\n",
       "      <td>772</td>\n",
       "      <td>42</td>\n",
       "      <td>3.0</td>\n",
       "      <td>75075.31</td>\n",
       "      <td>2</td>\n",
       "      <td>1</td>\n",
       "      <td>0</td>\n",
       "      <td>92888.52</td>\n",
       "      <td>1</td>\n",
       "      <td>1</td>\n",
       "      <td>0</td>\n",
       "      <td>1</td>\n",
       "    </tr>\n",
       "    <tr>\n",
       "      <th>9999</th>\n",
       "      <td>792</td>\n",
       "      <td>28</td>\n",
       "      <td>5.0</td>\n",
       "      <td>130142.79</td>\n",
       "      <td>1</td>\n",
       "      <td>1</td>\n",
       "      <td>0</td>\n",
       "      <td>38190.78</td>\n",
       "      <td>0</td>\n",
       "      <td>0</td>\n",
       "      <td>0</td>\n",
       "      <td>0</td>\n",
       "    </tr>\n",
       "  </tbody>\n",
       "</table>\n",
       "<p>10000 rows × 12 columns</p>\n",
       "</div>"
      ],
      "text/plain": [
       "      CreditScore  Age  Tenure    Balance  NumOfProducts  HasCrCard  \\\n",
       "0             619   42     2.0       0.00              1          1   \n",
       "1             608   41     1.0   83807.86              1          0   \n",
       "2             502   42     8.0  159660.80              3          1   \n",
       "3             699   39     1.0       0.00              2          0   \n",
       "4             850   43     2.0  125510.82              1          1   \n",
       "...           ...  ...     ...        ...            ...        ...   \n",
       "9995          771   39     5.0       0.00              2          1   \n",
       "9996          516   35    10.0   57369.61              1          1   \n",
       "9997          709   36     7.0       0.00              1          0   \n",
       "9998          772   42     3.0   75075.31              2          1   \n",
       "9999          792   28     5.0  130142.79              1          1   \n",
       "\n",
       "      IsActiveMember  EstimatedSalary  Exited  Geography_Germany  \\\n",
       "0                  1        101348.88       1                  0   \n",
       "1                  1        112542.58       0                  0   \n",
       "2                  0        113931.57       1                  0   \n",
       "3                  0         93826.63       0                  0   \n",
       "4                  1         79084.10       0                  0   \n",
       "...              ...              ...     ...                ...   \n",
       "9995               0         96270.64       0                  0   \n",
       "9996               1        101699.77       0                  0   \n",
       "9997               1         42085.58       1                  0   \n",
       "9998               0         92888.52       1                  1   \n",
       "9999               0         38190.78       0                  0   \n",
       "\n",
       "      Geography_Spain  Gender_Male  \n",
       "0                   0            0  \n",
       "1                   1            0  \n",
       "2                   0            0  \n",
       "3                   0            0  \n",
       "4                   1            0  \n",
       "...               ...          ...  \n",
       "9995                0            1  \n",
       "9996                0            1  \n",
       "9997                0            0  \n",
       "9998                0            1  \n",
       "9999                0            0  \n",
       "\n",
       "[10000 rows x 12 columns]"
      ]
     },
     "metadata": {},
     "output_type": "display_data"
    }
   ],
   "source": [
    "display(churn)"
   ]
  },
  {
   "cell_type": "markdown",
   "metadata": {},
   "source": [
    "Below I have made a histogram on the remaining balance for customers. There is a large group of outliers at 0 remaining balance with over 3,500 people who have no remaining balance. The average of those with them is around $125,000 balance."
   ]
  },
  {
   "cell_type": "code",
   "execution_count": 15,
   "metadata": {},
   "outputs": [
    {
     "data": {
      "image/png": "[encoded data removed]",
      "text/plain": [
       "<Figure size 640x480 with 1 Axes>"
      ]
     },
     "metadata": {},
     "output_type": "display_data"
    }
   ],
   "source": [
    "churn['Balance'].plot(kind='hist', bins=25)\n",
    "plt.title('Histogram of Balance')\n",
    "plt.xlabel('Balance Remaining')\n",
    "plt.ylabel('Frequency')\n",
    "plt.show()"
   ]
  },
  {
   "cell_type": "markdown",
   "metadata": {},
   "source": [
    "The histogram of the ages of the customers. the bunk of customers are in there mid 30's to early 40's."
   ]
  },
  {
   "cell_type": "code",
   "execution_count": 16,
   "metadata": {},
   "outputs": [
    {
     "data": {
      "image/png": "[encoded data removed]",
      "text/plain": [
       "<Figure size 640x480 with 1 Axes>"
      ]
     },
     "metadata": {},
     "output_type": "display_data"
    }
   ],
   "source": [
    "churn['Age'].plot(kind='hist', bins=40)\n",
    "plt.title('Histogram of Age')\n",
    "plt.xlabel('Age of Customer')\n",
    "plt.ylabel('Frequency of Age')\n",
    "plt.show()"
   ]
  },
  {
   "cell_type": "markdown",
   "metadata": {},
   "source": [
    "The estimated salaries of the customers vary greatly and are scatter throughout the range."
   ]
  },
  {
   "cell_type": "code",
   "execution_count": 17,
   "metadata": {},
   "outputs": [
    {
     "data": {
      "image/png": "[encoded data removed]",
      "text/plain": [
       "<Figure size 640x480 with 1 Axes>"
      ]
     },
     "metadata": {},
     "output_type": "display_data"
    }
   ],
   "source": [
    "churn['EstimatedSalary'].plot(kind='hist', bins=55)\n",
    "plt.title('Histogram of Estimated Salary')\n",
    "plt.xlabel('Estimated Salary')\n",
    "plt.ylabel('Frequency of Salary')\n",
    "plt.show()"
   ]
  },
  {
   "cell_type": "markdown",
   "metadata": {},
   "source": [
    "I displayed various charts in order to better visualize the data and get insights and draw conclusions based on the distribition patterns. The balance remeaining chart has a large proportion of people who have no balance. because of that data is skewed to the left and there can be outliers on the higher end. The age distribution is average with it ranging between 25-45 with a few outliers in the upper end as well.The estimated salaries vary greatly with no real majority but evenly spread out with not much grouping of salaries."
   ]
  },
  {
   "cell_type": "markdown",
   "metadata": {},
   "source": [
    "<div class=\"alert alert-danger\" style=\"border-radius: 15px; box-shadow: 4px 4px 4px; border: 1px solid \">\n",
    "<b> Reviewer's comment</b>\n",
    "    \n",
    "Before we move on to the machine learning models, let's display some charts to evaluate the distributions of different columns we have. For instance, do `Balance`, `Age`, `Salary` columns look normal? Do they have any outliers? Don't forget to add titles and axes labels so that a reader can easily understand what's going on here. Conclusions are also important :)\n",
    "    \n",
    "</div>\n",
    "<div class=\"alert alert-success\" style=\"border-radius: 15px; box-shadow: 4px 4px 4px; border: 1px solid \">\n",
    "<h2>   Reviewer's comment 2 </h2>\n",
    "    \n",
    "Good! \n",
    "\n",
    "</div>\n",
    "<div class=\"alert alert-danger\" style=\"border-radius: 15px; box-shadow: 4px 4px 4px; border: 1px solid \">\n",
    "<b> Reviewer's comment 2</b>\n",
    "    \n",
    "Would you please add conclusions?    \n",
    "</div>\n",
    "<div class=\"alert alert-success\" style=\"border-radius: 15px; box-shadow: 4px 4px 4px; border: 1px solid \">\n",
    "<h2>   Reviewer's comment 3 </h2>\n",
    "    \n",
    "Excellent! \n",
    "</div>"
   ]
  },
  {
   "cell_type": "markdown",
   "metadata": {},
   "source": [
    "## ML model"
   ]
  },
  {
   "cell_type": "markdown",
   "metadata": {},
   "source": [
    "### features/target"
   ]
  },
  {
   "cell_type": "code",
   "execution_count": 18,
   "metadata": {},
   "outputs": [],
   "source": [
    "features = churn.drop('Exited', axis=1)\n",
    "target = churn['Exited']"
   ]
  },
  {
   "cell_type": "markdown",
   "metadata": {},
   "source": [
    "### Data Split"
   ]
  },
  {
   "cell_type": "markdown",
   "metadata": {},
   "source": [
    "Made the split for training, validation, and test set. Did a 80-20 split, then a 50-50 split resulting in a 60-20-20 split of the data."
   ]
  },
  {
   "cell_type": "code",
   "execution_count": 19,
   "metadata": {},
   "outputs": [],
   "source": [
    "features_train, features_test, target_train, target_test = train_test_split(features, target, test_size=0.4, random_state= 12345, stratify= target)\n",
    "features_val, features_test, target_val, target_test = train_test_split(features_test, target_test, test_size= 0.5, random_state= 12345, stratify= target_test)"
   ]
  },
  {
   "cell_type": "code",
   "execution_count": 20,
   "metadata": {},
   "outputs": [
    {
     "name": "stdout",
     "output_type": "stream",
     "text": [
      "The final model training shape is (6000, 11) test set shape is (2000, 11).\n"
     ]
    }
   ],
   "source": [
    "train_shape_f = features_train.shape\n",
    "test_shape_f = features_test.shape\n",
    "print(f'The final model training shape is {train_shape_f} test set shape is {test_shape_f}.')"
   ]
  },
  {
   "cell_type": "code",
   "execution_count": 21,
   "metadata": {},
   "outputs": [
    {
     "name": "stdout",
     "output_type": "stream",
     "text": [
      "The training set shape is (6000, 11) for features and the Validation set shape is (2000, 11).\n"
     ]
    }
   ],
   "source": [
    "train_shape_f2 = features_train.shape\n",
    "test_shape_f2 = features_val.shape\n",
    "print(f'The training set shape is {train_shape_f2} for features and the Validation set shape is {test_shape_f2}.')"
   ]
  },
  {
   "cell_type": "markdown",
   "metadata": {},
   "source": [
    "<div class=\"alert alert-success\" style=\"border-radius: 15px; box-shadow: 4px 4px 4px; border: 1px solid \">\n",
    "<h2>   Reviewer's comment 3 </h2>\n",
    "    \n",
    "Good. </div>\n",
    "<div class=\"alert alert-warning\" style=\"border-radius: 15px; box-shadow: 4px 4px 4px; border: 1px solid \">\n",
    "<b>   Reviewer's comment 2 </b>\n",
    "    \n",
    "This is better! 6000:2000:2000 would be a better choice though :)\n",
    "\n",
    "\n",
    "\n",
    "</div>\n",
    "<div class=\"alert alert-danger\" style=\"border-radius: 15px; box-shadow: 4px 4px 4px; border: 1px solid \">\n",
    "<b> Reviewer's comment</b>\n",
    "    \n",
    "Let's change the proportion. The training subset should be larger, because we use it to fit models. Try to split `features_test` instead of `features_train`.  \n",
    "</div>\n",
    "<div class=\"alert alert-success\" style=\"border-radius: 15px; box-shadow: 4px 4px 4px; border: 1px solid \">\n",
    "<h2> Reviewer's comment </h2>\n",
    "   \n",
    "\n",
    "By the way, there's the `stratify` parameter that helps us ensure the random split saves the initial proportion of values in some column.   \n",
    "    \n",
    "</div>"
   ]
  },
  {
   "cell_type": "markdown",
   "metadata": {},
   "source": [
    "Checked the class imbalance of the data. It is about a 4:1 split in the data."
   ]
  },
  {
   "cell_type": "code",
   "execution_count": 22,
   "metadata": {},
   "outputs": [
    {
     "data": {
      "text/plain": [
       "0    4778\n",
       "1    1222\n",
       "Name: Exited, dtype: int64"
      ]
     },
     "execution_count": 22,
     "metadata": {},
     "output_type": "execute_result"
    }
   ],
   "source": [
    "target_train.value_counts()"
   ]
  },
  {
   "cell_type": "markdown",
   "metadata": {},
   "source": [
    "<div class=\"alert alert-success\" style=\"border-radius: 15px; box-shadow: 4px 4px 4px; border: 1px solid \">\n",
    "<h2> Reviewer's comment</h2>\n",
    "    \n",
    "Yes, there's a noticeable imbalance.   \n",
    "    \n",
    "</div>"
   ]
  },
  {
   "cell_type": "markdown",
   "metadata": {},
   "source": [
    "### Models Check"
   ]
  },
  {
   "cell_type": "markdown",
   "metadata": {},
   "source": [
    "#### Random Forest model"
   ]
  },
  {
   "cell_type": "markdown",
   "metadata": {},
   "source": [
    "Used a loop for hyperparameters of RandomForestClassifier to find the best f1 score before balancing and got a score of .633."
   ]
  },
  {
   "cell_type": "code",
   "execution_count": 23,
   "metadata": {},
   "outputs": [
    {
     "name": "stdout",
     "output_type": "stream",
     "text": [
      "ROC_AUC score 0.7542245541432654\n",
      "Best params: {'max_depth': 13, 'n_estimators': 200, 'min_samples_leaf': 1, 'min_samples_split': 7}\n",
      "Best f1 score: 0.6336088154269973\n"
     ]
    }
   ],
   "source": [
    "param = {'max_depth': range(1, 20), 'n_estimators': [100, 200, 300, 400, 500], 'min_samples_leaf':range(1,15), 'min_samples_split':range(2,11)}\n",
    "\n",
    "best_params = {}\n",
    "best_accuracy = 0\n",
    "best_f1 = 0\n",
    "best_auc = 0\n",
    "\n",
    "for depth in param['max_depth']:\n",
    "    for n_estimators in param['n_estimators']:\n",
    "        for min_samples_leaf in param['min_samples_leaf']:\n",
    "            for min_samples_split in param['min_samples_split']:\n",
    "                model = RandomForestClassifier(random_state=643, max_depth=depth, n_estimators=n_estimators, min_samples_leaf=min_samples_leaf, min_samples_split=min_samples_split)\n",
    "                model.fit(features_train, target_train)\n",
    "                proba_test = model.predict_proba(features_val)[:, 1]\n",
    "                predictions_val = (proba_test > 0.4).astype('int')\n",
    "        \n",
    "                f1 = f1_score(target_val, predictions_val)\n",
    "                auc = roc_auc_score(target_val, predictions_val)\n",
    "                if f1 > best_f1:\n",
    "                    best_f1 = f1\n",
    "                    best_params = {'max_depth': depth, 'n_estimators': n_estimators, 'min_samples_leaf':min_samples_leaf, 'min_samples_split':min_samples_split}\n",
    "                    best_auc = auc\n",
    "\n",
    "\n",
    "print('ROC_AUC score',auc)\n",
    "print(\"Best params:\", best_params)\n",
    "print(\"Best f1 score:\", f1)"
   ]
  },
  {
   "cell_type": "markdown",
   "metadata": {},
   "source": [
    "<div class=\"alert alert-success\" style=\"border-radius: 15px; box-shadow: 4px 4px 4px; border: 1px solid \">\n",
    "<h2>   Reviewer's comment 3 </h2>\n",
    "    \n",
    "Correct! </div>\n",
    "<div class=\"alert alert-danger\" style=\"border-radius: 15px; box-shadow: 4px 4px 4px; border: 1px solid \">\n",
    "<b> Reviewer's comment 2</b>\n",
    "    \n",
    "- Please fit the model on the larger subsets (`features_train`, `target_train`).   \n",
    "\n",
    "\n",
    "\n",
    "- For validation, please use `features_val` and `target_test` because they have objects while `features_val` and `target_test` have only 400. Test subset is the smallest subset, training subset is the largerst. Validation is in the middle. Or change the way you split the data. \n",
    "    \n",
    "  </div>"
   ]
  },
  {
   "cell_type": "markdown",
   "metadata": {},
   "source": [
    "<div class=\"alert alert-success\" style=\"border-radius: 15px; box-shadow: 4px 4px 4px; border: 1px solid \">\n",
    "<h2> Reviewer's comment</h2>\n",
    "    \n",
    "You have successfully implemented hyperparameters tuning, well done! \n",
    "</div>"
   ]
  },
  {
   "cell_type": "markdown",
   "metadata": {},
   "source": [
    "Balanced the RandomForestClassifier using Class Weight Adjustment. Got an f1 score of .590 with this adjustment."
   ]
  },
  {
   "cell_type": "code",
   "execution_count": 24,
   "metadata": {},
   "outputs": [
    {
     "name": "stdout",
     "output_type": "stream",
     "text": [
      "ROC_AUC score 0.7906936644004336\n",
      "Best params: {'max_depth': 15, 'n_estimators': 100, 'min_samples_leaf': 2, 'min_samples_split': 6}\n",
      "Best f1 score: 0.5909878682842288\n"
     ]
    }
   ],
   "source": [
    "param = {'max_depth': range(1, 20), 'n_estimators': [100, 200, 300, 400, 500], 'min_samples_leaf':range(1,15), 'min_samples_split':range(2,11)}\n",
    "\n",
    "best_params = {}\n",
    "best_accuracy = 0\n",
    "best_f1 = 0\n",
    "best_auc = 0\n",
    "\n",
    "for depth in param['max_depth']:\n",
    "    for n_estimators in param['n_estimators']:\n",
    "        for min_samples_leaf in param['min_samples_leaf']:\n",
    "            for min_samples_split in param['min_samples_split']:\n",
    "                model = RandomForestClassifier(random_state=643, max_depth=depth, n_estimators=n_estimators, min_samples_leaf=min_samples_leaf, min_samples_split=min_samples_split, class_weight= 'balanced')\n",
    "                model.fit(features_train, target_train)\n",
    "                proba_test = model.predict_proba(features_val)[:, 1]\n",
    "                predictions_val = (proba_test > 0.4).astype('int')\n",
    "        \n",
    "                f1 = f1_score(target_val, predictions_val)\n",
    "                auc = roc_auc_score(target_val, predictions_val)\n",
    "        \n",
    "                if f1 > best_f1:\n",
    "                    best_f1 = f1\n",
    "                    best_params = {'max_depth': depth, 'n_estimators': n_estimators, 'min_samples_leaf':min_samples_leaf, 'min_samples_split':min_samples_split}\n",
    "                    best_auc = auc\n",
    "\n",
    "\n",
    "\n",
    "print('ROC_AUC score',auc)\n",
    "print(\"Best params:\", best_params)\n",
    "print(\"Best f1 score:\", f1)"
   ]
  },
  {
   "cell_type": "markdown",
   "metadata": {},
   "source": [
    "<div class=\"alert alert-success\" style=\"border-radius: 15px; box-shadow: 4px 4px 4px; border: 1px solid \">\n",
    "<h2>   Reviewer's comment 3 </h2>\n",
    "    \n",
    "Well done! </div>\n",
    "<div class=\"alert alert-danger\" style=\"border-radius: 15px; box-shadow: 4px 4px 4px; border: 1px solid \">\n",
    "<b> Reviewer's comment 2</b>\n",
    " \n",
    "    \n",
    "Same issues: \n",
    "    \n",
    "    \n",
    "- Please fit the model on the larger subsets (`features_train`, `target_train`).   \n",
    "\n",
    "\n",
    "\n",
    "- For validation, please use `features_val` and `target_test` because they have objects while `features_val` and `target_test` have only 400. Test subset is the smallest subset, training subset is the largerst. Validation is in the middle. Or change the way you split the data. \n",
    "    \n",
    "  </div>"
   ]
  },
  {
   "cell_type": "markdown",
   "metadata": {},
   "source": [
    "Balanced the RandomForestClassifier using Threshold Adjustment. Got an f1 score of .660 after the balancing adjustment."
   ]
  },
  {
   "cell_type": "code",
   "execution_count": 25,
   "metadata": {},
   "outputs": [
    {
     "name": "stdout",
     "output_type": "stream",
     "text": [
      "ROC_AUC score 0.7734875357178048\n",
      "Best params: {'max_depth': 13, 'n_estimators': 200, 'min_samples_leaf': 1, 'min_samples_split': 7}\n",
      "Best f1 score: 0.660427807486631\n"
     ]
    }
   ],
   "source": [
    "param = {'max_depth': range(1, 20), 'n_estimators': [100, 200, 300, 400, 500], 'min_samples_leaf':range(1,15), 'min_samples_split':range(2,11)}\n",
    "\n",
    "best_params = {}\n",
    "best_accuracy = 0\n",
    "best_f1 = 0\n",
    "best_auc = 0\n",
    "\n",
    "for depth in param['max_depth']:\n",
    "    for n_estimators in param['n_estimators']:\n",
    "        for min_samples_leaf in param['min_samples_leaf']:\n",
    "            for min_samples_split in param['min_samples_split']:\n",
    "                model = RandomForestClassifier(random_state=643, max_depth=depth, n_estimators=n_estimators, min_samples_leaf=min_samples_leaf, min_samples_split=min_samples_split)\n",
    "                model.fit(features_train, target_train)\n",
    "                proba_test = model.predict_proba(features_val)[:, 1]\n",
    "                predictions_val = (proba_test > 0.4).astype('int')\n",
    "                \n",
    "                for threshold in np.arange(0, 1, 0.05):\n",
    "                    predicted_valid = predictions_val > threshold\n",
    "                    \n",
    "                    auc = roc_auc_score(target_val, predicted_valid)\n",
    "                    \n",
    "                    f1 = f1_score(target_val, predicted_valid)\n",
    "       \n",
    "                    if f1 > best_f1:\n",
    "                        best_f1 = f1\n",
    "                        best_params = {'max_depth': depth, 'n_estimators': n_estimators, 'min_samples_leaf':min_samples_leaf, 'min_samples_split':min_samples_split}\n",
    "                        best_auc = auc\n",
    "\n",
    "\n",
    "print('ROC_AUC score',best_auc)\n",
    "print(\"Best params:\", best_params)\n",
    "print(\"Best f1 score:\", best_f1)"
   ]
  },
  {
   "cell_type": "markdown",
   "metadata": {},
   "source": [
    "<div class=\"alert alert-success\" style=\"border-radius: 15px; box-shadow: 4px 4px 4px; border: 1px solid \">\n",
    "<h2> Reviewer's comment 2</h2>\n",
    "\n",
    "    \n",
    "Good idea! You can also try resampling methods. \n",
    "\n",
    "</div> \n",
    "<div class=\"alert alert-danger\" style=\"border-radius: 15px; box-shadow: 4px 4px 4px; border: 1px solid \">\n",
    "<b> Reviewer's comment 2</b>\n",
    " \n",
    "    \n",
    "Same issues: \n",
    "    \n",
    "    \n",
    "- Please fit the model on the larger subsets (`features_train`, `target_train`).   \n",
    "\n",
    "\n",
    "\n",
    "- For validation, please use `features_val` and `target_test` because they have objects while `features_val` and `target_test` have only 400. Test subset is the smallest subset, training subset is the largerst. Validation is in the middle. Or change the way you split the data. \n",
    "    \n",
    "  </div>"
   ]
  },
  {
   "cell_type": "markdown",
   "metadata": {},
   "source": [
    "#### Decision tree model"
   ]
  },
  {
   "cell_type": "markdown",
   "metadata": {},
   "source": [
    "Checked DecisionTreeClassifier for the best tree depth for the hightest f1 score before balancing data. got an f1 of .595."
   ]
  },
  {
   "cell_type": "code",
   "execution_count": 26,
   "metadata": {},
   "outputs": [
    {
     "name": "stdout",
     "output_type": "stream",
     "text": [
      "ROC_AUC score 0.7234456596709035\n",
      "Best params: {'max_depth': 9, 'min_samples_leaf': 2}\n",
      "F1 score: 0.5957446808510639\n"
     ]
    }
   ],
   "source": [
    "best_params = {}\n",
    "best_f1 = 0\n",
    "best_auc = 0\n",
    "\n",
    "for depth in range(1, 11):\n",
    "    for leaf in range(1,11):\n",
    "        model = DecisionTreeClassifier(random_state=12345, max_depth=depth, min_samples_leaf=leaf)\n",
    "        model.fit(features_train, target_train)\n",
    "        proba_test = model.predict_proba(features_val)[:, 1]\n",
    "        predictions_val = (proba_test > 0.4).astype('int')\n",
    "        \n",
    "        f1 = f1_score(target_val, predictions_val)\n",
    "        auc = roc_auc_score(target_val, predictions_val)\n",
    "        if f1 > best_f1:\n",
    "            best_f1 = f1\n",
    "            best_params = {'max_depth': depth, 'min_samples_leaf':leaf}\n",
    "            best_auc = auc\n",
    "\n",
    "print('ROC_AUC score',auc)\n",
    "print('Best params:', best_params)\n",
    "print(\"F1 score:\", best_f1)"
   ]
  },
  {
   "cell_type": "markdown",
   "metadata": {},
   "source": [
    "<div class=\"alert alert-danger\" style=\"border-radius: 15px; box-shadow: 4px 4px 4px; border: 1px solid \">\n",
    "<b> Reviewer's comment 2</b>\n",
    " \n",
    "    \n",
    "Same issues.\n",
    "    \n",
    "  </div>"
   ]
  },
  {
   "cell_type": "markdown",
   "metadata": {},
   "source": [
    "<div class=\"alert alert-success\" style=\"border-radius: 15px; box-shadow: 4px 4px 4px; border: 1px solid \">\n",
    "<h2> Reviewer's comment</h2>\n",
    "    \n",
    "Good! \n",
    "\n",
    "</div>\n",
    "<div class=\"alert alert-warning\" style=\"border-radius: 15px; box-shadow: 4px 4px 4px; border: 1px solid \">\n",
    "<h2> Reviewer's comment</h2>\n",
    "    \n",
    "Here you can also try to tune more hyperparameters. \n",
    "\n",
    "</div>"
   ]
  },
  {
   "cell_type": "markdown",
   "metadata": {},
   "source": [
    "Balanced the DecisionTreeClassifier using Class Weight Adjustment. The f1 scorewent down to .564 after the balancing."
   ]
  },
  {
   "cell_type": "code",
   "execution_count": 27,
   "metadata": {},
   "outputs": [
    {
     "name": "stdout",
     "output_type": "stream",
     "text": [
      "ROC_AUC score 0.7201263671297664\n",
      "Best params: {'max_depth': 5, 'min_samples_leaf': 1}\n",
      "F1 score: 0.5640612409347301\n"
     ]
    }
   ],
   "source": [
    "best_params = {}\n",
    "best_f1 = 0\n",
    "best_auc = 0\n",
    "\n",
    "for depth in range(1, 11):\n",
    "    for leaf in range(1,11):\n",
    "        model = DecisionTreeClassifier(random_state=12345, max_depth=depth, min_samples_leaf=leaf, class_weight= 'balanced')\n",
    "        model.fit(features_train, target_train)\n",
    "        proba_test = model.predict_proba(features_val)[:, 1]\n",
    "        predictions_val = (proba_test > 0.4).astype('int')\n",
    "        \n",
    "        f1 = f1_score(target_val, predictions_val)\n",
    "        auc = roc_auc_score(target_val, predictions_val)\n",
    "        if f1 > best_f1:\n",
    "            best_f1 = f1\n",
    "            best_params = {'max_depth': depth, 'min_samples_leaf':leaf}\n",
    "            best_auc = auc\n",
    "\n",
    "print('ROC_AUC score',auc)\n",
    "print('Best params:', best_params)\n",
    "print(\"F1 score:\", best_f1)"
   ]
  },
  {
   "cell_type": "markdown",
   "metadata": {},
   "source": [
    "<div class=\"alert alert-success\" style=\"border-radius: 15px; box-shadow: 4px 4px 4px; border: 1px solid \">\n",
    "<h2>   Reviewer's comment 3 </h2>\n",
    "    \n",
    "Good! </div>\n",
    "<div class=\"alert alert-danger\" style=\"border-radius: 15px; box-shadow: 4px 4px 4px; border: 1px solid \">\n",
    "<b> Reviewer's comment 2</b>\n",
    " \n",
    "    \n",
    "Same issues.\n",
    "    \n",
    "  </div>"
   ]
  },
  {
   "cell_type": "markdown",
   "metadata": {},
   "source": [
    "Balanced the DecisionTreeClassifier using Threshold Adjustment. after using this adjustent teh score went to .595."
   ]
  },
  {
   "cell_type": "code",
   "execution_count": 28,
   "metadata": {},
   "outputs": [
    {
     "name": "stdout",
     "output_type": "stream",
     "text": [
      "ROC_AUC score 0.7234456596709035\n",
      "Best params: {'max_depth': 9, 'min_samples_leaf': 2}\n",
      "F1 score: 0.5957446808510639\n"
     ]
    }
   ],
   "source": [
    "best_params = {}\n",
    "best_f1 = 0\n",
    "best_auc = 0\n",
    "\n",
    "for depth in range(1, 11):\n",
    "    for leaf in range(1,11):\n",
    "        model = DecisionTreeClassifier(random_state=12345, max_depth=depth, min_samples_leaf=leaf)\n",
    "        model.fit(features_train, target_train)\n",
    "        proba_test = model.predict_proba(features_val)[:, 1]\n",
    "        predictions_val = (proba_test > 0.4).astype('int')\n",
    "        \n",
    "        for threshold in np.arange(0, 1, 0.05):\n",
    "            predicted_valid = predictions_val > threshold\n",
    "            auc = roc_auc_score(target_val, predicted_valid)\n",
    "            f1 = f1_score(target_val, predicted_valid)\n",
    "            if f1 > best_f1:\n",
    "                best_f1 = f1\n",
    "                best_params = {'max_depth': depth, 'min_samples_leaf':leaf}\n",
    "                best_auc = auc\n",
    "\n",
    "print('ROC_AUC score',auc)\n",
    "print('Best params:', best_params)\n",
    "print(\"F1 score:\", best_f1)"
   ]
  },
  {
   "cell_type": "markdown",
   "metadata": {},
   "source": [
    "<div class=\"alert alert-danger\" style=\"border-radius: 15px; box-shadow: 4px 4px 4px; border: 1px solid \">\n",
    "<b> Reviewer's comment 2</b>\n",
    " \n",
    "    \n",
    "Same issues.\n",
    "    \n",
    "  </div>"
   ]
  },
  {
   "cell_type": "markdown",
   "metadata": {},
   "source": [
    "#### Logistic Regression model"
   ]
  },
  {
   "cell_type": "markdown",
   "metadata": {},
   "source": [
    "Made a LogisticRegression model and checked the f1 score on it which was .241."
   ]
  },
  {
   "cell_type": "code",
   "execution_count": 29,
   "metadata": {},
   "outputs": [
    {
     "name": "stdout",
     "output_type": "stream",
     "text": [
      "ROC_AUC score 0.5560092127303183\n",
      "Best params: {'intercept_scaling': 1, 'max_iter': 75}\n",
      "F1 score: 0.241563055062167\n"
     ]
    }
   ],
   "source": [
    "best_params = {}\n",
    "best_f1 = 0\n",
    "best_auc = 0\n",
    "\n",
    "for scale in range(1,11):\n",
    "    for max_iter in [75, 100, 125, 150]:\n",
    "        model = LogisticRegression(random_state=12345, intercept_scaling=scale, max_iter= max_iter)\n",
    "        model.fit(features_train, target_train)\n",
    "        proba_test = model.predict_proba(features_val)[:, 1]\n",
    "        predictions_val = (proba_test > 0.4).astype('int')\n",
    "\n",
    "        \n",
    "        f1 = f1_score(target_val, predictions_val)\n",
    "        auc = roc_auc_score(target_val, predictions_val)\n",
    "        if f1 > best_f1:\n",
    "            best_f1 = f1\n",
    "            best_params = {'intercept_scaling': scale, 'max_iter':max_iter}\n",
    "            best_auc = auc\n",
    "\n",
    "\n",
    "print('ROC_AUC score',auc)\n",
    "print('Best params:', best_params)\n",
    "print(\"F1 score:\", best_f1)"
   ]
  },
  {
   "cell_type": "markdown",
   "metadata": {},
   "source": [
    "<div class=\"alert alert-danger\" style=\"border-radius: 15px; box-shadow: 4px 4px 4px; border: 1px solid \">\n",
    "<b> Reviewer's comment 2</b>\n",
    " \n",
    "    \n",
    "Same issues.\n",
    "    \n",
    "  </div>"
   ]
  },
  {
   "cell_type": "markdown",
   "metadata": {},
   "source": [
    "<div class=\"alert alert-success\" style=\"border-radius: 15px; box-shadow: 4px 4px 4px; border: 1px solid \">\n",
    "<h2> Reviewer's comment</h2>\n",
    "    \n",
    "Well done! So now we have trained three models on imbalanced data. So far so good! </div>\n",
    "\n",
    "<div class=\"alert alert-danger\" style=\"border-radius: 15px; box-shadow: 4px 4px 4px; border: 1px solid \">\n",
    "<b> Reviewer's comment</b>\n",
    "    \n",
    "However, according to the task, we need to compare at least two class imbalance handling techniques. Would you try? I recommend that you do it with all three algorithms you used above: regression, tree, and forest. \n",
    "\n",
    "\n",
    "\n",
    "</div>"
   ]
  },
  {
   "cell_type": "markdown",
   "metadata": {},
   "source": [
    "Balanced the LogisticRegression using Class Weight Adjustment. After the adjustment the f1 score nearly doubled to .424 f1 score."
   ]
  },
  {
   "cell_type": "code",
   "execution_count": 30,
   "metadata": {},
   "outputs": [
    {
     "name": "stdout",
     "output_type": "stream",
     "text": [
      "ROC_AUC score 0.6491526258744704\n",
      "Best params: {'intercept_scaling': 1, 'max_iter': 75}\n",
      "F1 score: 0.424170616113744\n"
     ]
    }
   ],
   "source": [
    "best_params = {}\n",
    "best_f1 = 0\n",
    "best_auc = 0\n",
    "\n",
    "for scale in range(1,11):\n",
    "    for max_iter in [75, 100, 125, 150]:\n",
    "        model = LogisticRegression(random_state=12345, intercept_scaling=scale, max_iter= max_iter, class_weight= 'balanced')\n",
    "        model.fit(features_train, target_train)\n",
    "        proba_test = model.predict_proba(features_val)[:, 1]\n",
    "        predictions_val = (proba_test > 0.4).astype('int')\n",
    "\n",
    "        \n",
    "        f1 = f1_score(target_val, predictions_val)\n",
    "        auc = roc_auc_score(target_val, predictions_val)\n",
    "        if f1 > best_f1:\n",
    "            best_f1 = f1\n",
    "            best_params = {'intercept_scaling': scale, 'max_iter':max_iter}\n",
    "            best_auc = auc\n",
    "\n",
    "\n",
    "print('ROC_AUC score',auc)\n",
    "print('Best params:', best_params)\n",
    "print(\"F1 score:\", best_f1)"
   ]
  },
  {
   "cell_type": "markdown",
   "metadata": {},
   "source": [
    "<div class=\"alert alert-danger\" style=\"border-radius: 15px; box-shadow: 4px 4px 4px; border: 1px solid \">\n",
    "<b> Reviewer's comment 2</b>\n",
    " \n",
    "    \n",
    "Same issues.\n",
    "    \n",
    "  </div>"
   ]
  },
  {
   "cell_type": "markdown",
   "metadata": {},
   "source": [
    "Balanced the LogisticRegression using Threshold Adjustment. the f1 score was .425."
   ]
  },
  {
   "cell_type": "code",
   "execution_count": 31,
   "metadata": {},
   "outputs": [
    {
     "name": "stdout",
     "output_type": "stream",
     "text": [
      "ROC_AUC score 0.5560092127303183\n",
      "Best params: {'intercept_scaling': 1, 'max_iter': 75}\n",
      "Best f1 score: 0.241563055062167\n"
     ]
    }
   ],
   "source": [
    "best_params = {}\n",
    "best_f1 = 0\n",
    "best_auc = 0\n",
    "\n",
    "for scale in range(1,11):\n",
    "    for max_iter in [75, 100, 125, 150]:\n",
    "        model = LogisticRegression(random_state=12345, intercept_scaling=scale, max_iter= max_iter)\n",
    "        model.fit(features_train, target_train)\n",
    "        proba_test = model.predict_proba(features_val)[:, 1]\n",
    "        predictions_val = (proba_test > 0.4).astype('int')\n",
    "\n",
    "        for threshold in np.arange(0, 1, 0.05):\n",
    "            predicted_valid = predictions_val > threshold \n",
    "            f1 = f1_score(target_val, predicted_valid)\n",
    "            auc = roc_auc_score(target_val, predicted_valid)\n",
    "            if f1 > best_f1:\n",
    "                best_f1 = f1\n",
    "                best_params = {'intercept_scaling': scale, 'max_iter':max_iter}\n",
    "                best_auc = auc\n",
    "\n",
    "\n",
    "print('ROC_AUC score',auc)\n",
    "print('Best params:', best_params)\n",
    "print(\"Best f1 score:\", best_f1)"
   ]
  },
  {
   "cell_type": "markdown",
   "metadata": {},
   "source": [
    "<div class=\"alert alert-danger\" style=\"border-radius: 15px; box-shadow: 4px 4px 4px; border: 1px solid \">\n",
    "<b> Reviewer's comment 2</b>\n",
    " \n",
    "    \n",
    "Same issues.\n",
    "    \n",
    "  </div>"
   ]
  },
  {
   "cell_type": "markdown",
   "metadata": {},
   "source": [
    "### Best Model"
   ]
  },
  {
   "cell_type": "markdown",
   "metadata": {},
   "source": [
    "Of all the models, the DecisionTreeClassifier and RandomForestClassifier had the highest f1 scores. I decided on the RandomForestClassifier because it has many hyperparameters to tune it. I used max_depth, n_estimators, min_samples_leaf and min_samples_split with random_state in order to get the best possible f1 score. I checked the parameters with loops to get the best possible f1 Score which ended up being .660 on the validation set and .576 for the final model with hyperparameters of max_depth= 13, n_estimators= 200, min_samples_leaf=1, min_samples_split= 2 and random_state=643. After testing around I got an f1 score of .590 with random_state=22, max_depth=14, n_estimators=200, min_samples_leaf=11, min_samples_split=2 on the model."
   ]
  },
  {
   "cell_type": "markdown",
   "metadata": {},
   "source": [
    "<div class=\"alert alert-success\" style=\"border-radius: 15px; box-shadow: 4px 4px 4px; border: 1px solid \">\n",
    "<h2>   Reviewer's comment 4 </h2>\n",
    "    \n",
    "Good! </div>"
   ]
  },
  {
   "cell_type": "markdown",
   "metadata": {},
   "source": [
    "<div class=\"alert alert-danger\" style=\"border-radius: 15px; box-shadow: 4px 4px 4px; border: 1px solid \">\n",
    "<b> Reviewer's comment 2</b>\n",
    " \n",
    "    \n",
    "- Same issues with the subsets.\n",
    "    \n",
    "    \n",
    "- We do not tune anything in the final section. Here, please take the best model and make a prediction on the test subset (the smallest). \n",
    "    \n",
    "</div>"
   ]
  },
  {
   "cell_type": "code",
   "execution_count": 72,
   "metadata": {},
   "outputs": [
    {
     "name": "stdout",
     "output_type": "stream",
     "text": [
      "ROC_AUC score: 0.7269927863148201\n",
      "f1 score: 0.5905848787446505\n"
     ]
    }
   ],
   "source": [
    "model = RandomForestClassifier(random_state=22, max_depth=14, n_estimators=200, min_samples_leaf=11, min_samples_split=2)\n",
    "model.fit(features_train, target_train)\n",
    "proba_test = model.predict_proba(features_test)[:, 1]\n",
    "predictions_test = (proba_test > 0.4).astype('int')\n",
    "                \n",
    "for threshold in np.arange(0, 1, 0.05):\n",
    "    predicted_test = predictions_test > threshold\n",
    "                    \n",
    "    auc = roc_auc_score(target_test, predicted_test)\n",
    "                    \n",
    "    f1 = f1_score(target_test, predicted_test)\n",
    "\n",
    "print('ROC_AUC score:', auc)\n",
    "print('f1 score:', f1)"
   ]
  },
  {
   "cell_type": "markdown",
   "metadata": {},
   "source": [
    "<div class=\"alert alert-warning\" style=\"border-radius: 15px; box-shadow: 4px 4px 4px; border: 1px solid \">\n",
    "<b>   Reviewer's comment 3 </b>\n",
    "    \n",
    "Do we need this loop? \n",
    "\n",
    "</div>\n",
    "<div class=\"alert alert-danger\" style=\"border-radius: 15px; box-shadow: 4px 4px 4px; border: 1px solid \">\n",
    "<b>   Reviewer's comment 3 </b>\n",
    "    \n",
    "Our goal is to get F1 of at least 0.59 on the test subset. Would you try to improve the model or choose another one? \n",
    "\n",
    "</div>\n",
    "<div class=\"alert alert-success\" style=\"border-radius: 15px; box-shadow: 4px 4px 4px; border: 1px solid \">\n",
    "<h2>   Reviewer's comment 4 </h2>\n",
    "    \n",
    "Great! However, I would still not use different threshold values here, since we are supposed to only make one prediction here. \n",
    "\n",
    "</div>"
   ]
  },
  {
   "cell_type": "markdown",
   "metadata": {},
   "source": [
    "<div class=\"alert alert-danger\" style=\"border-radius: 15px; box-shadow: 4px 4px 4px; border: 1px solid \">\n",
    "<b> Reviewer's comment</b>\n",
    "    \n",
    "- Don't forget to update this section because the best model may change :) \n",
    "\n",
    "\n",
    "- We are also asked about the AUC-ROC. Would you add it? \n",
    "\n",
    "</div>\n",
    "<div class=\"alert alert-warning\" style=\"border-radius: 15px; box-shadow: 4px 4px 4px; border: 1px solid \">\n",
    "<h2>  Reviewer's comment </h2>\n",
    "   \n",
    "\n",
    "You can also display ROC curve.     \n",
    "</div>"
   ]
  },
  {
   "cell_type": "markdown",
   "metadata": {},
   "source": [
    "## Conclusion"
   ]
  },
  {
   "cell_type": "markdown",
   "metadata": {},
   "source": [
    "Overall for this project, I loaded in the dataframe and cleaned the data to do further analysis of it in order to make a Machine Learning model that would have the highest possible f1 score. I graphed some of the data in order to get a better understanding of it and be able to better visualize the information. I made a model for LogisticRegression, DecisionTreeClassifier and RandomForestClassifier before and after balancing the data. I used class weight adjustment and threshold adjustment to balance the data. I chose to use the RandomForestClassifier and used some of its hyperparameters to tune it with a for loop to achieve the highest f1 score. The model ended up with hyperparameters of random_state=22, max_depth=14, n_estimators=200, min_samples_leaf=11 and min_samples_split=2 with a .590 f1 score and ROC-AUC score of .726 after final testing."
   ]
  },
  {
   "cell_type": "markdown",
   "metadata": {},
   "source": [
    "<div class=\"alert alert-success\" style=\"border-radius: 15px; box-shadow: 4px 4px 4px; border: 1px solid \">\n",
    "<h2> Reviewer's comment 2</h2>\n",
    "\n",
    "    \n",
    "Good job! </div> "
   ]
  },
  {
   "cell_type": "markdown",
   "metadata": {},
   "source": [
    "<div class=\"alert alert-success\" style=\"border-radius: 15px; box-shadow: 4px 4px 4px; border: 1px solid \">\n",
    "<h2> Reviewer's comment</h2>\n",
    "\n",
    "    \n",
    "The conclusion is written well.    \n",
    "</div>    \n",
    "<div class=\"alert alert-warning\" style=\"border-radius: 15px; box-shadow: 4px 4px 4px; border: 1px solid \">\n",
    "<b> Reviewer's comment</b>\n",
    "\n",
    "    \n",
    "You can make it a little broader and add more info about different models you compared. \n",
    "\n",
    "</div>  \n",
    "<div class=\"alert alert-danger\" style=\"border-radius: 15px; box-shadow: 4px 4px 4px; border: 1px solid \">\n",
    "<b> Reviewer's comment</b>\n",
    "    \n",
    "Don't forget to update it if needed. \n",
    "\n",
    "</div>\n",
    "<div class=\"alert alert-success\" style=\"border-radius: 15px; box-shadow: 4px 4px 4px; border: 1px solid \">\n",
    "<h2> Reviewer's comment 4</h2>\n",
    "\n",
    "    \n",
    "Great job, thank you so much! \n",
    "\n",
    "</div> "
   ]
  },
  {
   "cell_type": "code",
   "execution_count": null,
   "metadata": {},
   "outputs": [],
   "source": []
  }
 ],
 "metadata": {
  "ExecuteTimeLog": [
   {
    "duration": 310,
    "start_time": "2024-10-31T23:02:28.275Z"
   },
   {
    "duration": 18,
    "start_time": "2024-10-31T23:02:49.753Z"
   },
   {
    "duration": 16,
    "start_time": "2024-10-31T23:02:59.016Z"
   },
   {
    "duration": 25,
    "start_time": "2024-10-31T23:03:07.195Z"
   },
   {
    "duration": 10,
    "start_time": "2024-10-31T23:03:12.375Z"
   },
   {
    "duration": 17,
    "start_time": "2024-10-31T23:03:25.389Z"
   },
   {
    "duration": 10,
    "start_time": "2024-10-31T23:03:38.344Z"
   },
   {
    "duration": 29,
    "start_time": "2024-10-31T23:03:40.673Z"
   },
   {
    "duration": 10,
    "start_time": "2024-10-31T23:03:59.885Z"
   },
   {
    "duration": 6,
    "start_time": "2024-10-31T23:04:10.866Z"
   },
   {
    "duration": 177,
    "start_time": "2024-11-02T01:40:53.153Z"
   },
   {
    "duration": 346,
    "start_time": "2024-11-02T01:41:01.420Z"
   },
   {
    "duration": 19,
    "start_time": "2024-11-02T01:41:01.768Z"
   },
   {
    "duration": 11,
    "start_time": "2024-11-02T01:41:01.789Z"
   },
   {
    "duration": 27,
    "start_time": "2024-11-02T01:41:01.802Z"
   },
   {
    "duration": 8,
    "start_time": "2024-11-02T01:41:01.831Z"
   },
   {
    "duration": 6,
    "start_time": "2024-11-02T01:41:01.840Z"
   },
   {
    "duration": 4,
    "start_time": "2024-11-02T01:41:01.848Z"
   },
   {
    "duration": 7,
    "start_time": "2024-11-02T01:41:19.880Z"
   },
   {
    "duration": 3,
    "start_time": "2024-11-02T01:41:38.382Z"
   },
   {
    "duration": 6,
    "start_time": "2024-11-02T01:41:40.381Z"
   },
   {
    "duration": 3,
    "start_time": "2024-11-02T01:42:51.555Z"
   },
   {
    "duration": 6,
    "start_time": "2024-11-02T01:42:53.236Z"
   },
   {
    "duration": 27,
    "start_time": "2024-11-02T01:42:56.699Z"
   },
   {
    "duration": 162,
    "start_time": "2024-11-03T06:11:24.287Z"
   },
   {
    "duration": 789,
    "start_time": "2024-11-03T06:12:17.334Z"
   },
   {
    "duration": 19,
    "start_time": "2024-11-03T06:12:18.125Z"
   },
   {
    "duration": 9,
    "start_time": "2024-11-03T06:12:18.145Z"
   },
   {
    "duration": 27,
    "start_time": "2024-11-03T06:12:18.156Z"
   },
   {
    "duration": 21,
    "start_time": "2024-11-03T06:12:18.185Z"
   },
   {
    "duration": 5,
    "start_time": "2024-11-03T06:12:18.207Z"
   },
   {
    "duration": 4,
    "start_time": "2024-11-03T06:12:18.214Z"
   },
   {
    "duration": 5,
    "start_time": "2024-11-03T06:12:18.220Z"
   },
   {
    "duration": 10,
    "start_time": "2024-11-03T06:12:33.308Z"
   },
   {
    "duration": 10,
    "start_time": "2024-11-03T06:13:49.504Z"
   },
   {
    "duration": 15,
    "start_time": "2024-11-03T06:27:36.943Z"
   },
   {
    "duration": 4,
    "start_time": "2024-11-03T07:12:49.999Z"
   },
   {
    "duration": 208,
    "start_time": "2024-11-03T07:17:08.722Z"
   },
   {
    "duration": 3,
    "start_time": "2024-11-03T07:17:21.500Z"
   },
   {
    "duration": 6,
    "start_time": "2024-11-03T07:17:23.690Z"
   },
   {
    "duration": 29,
    "start_time": "2024-11-03T07:18:50.687Z"
   },
   {
    "duration": 34,
    "start_time": "2024-11-03T07:22:13.062Z"
   },
   {
    "duration": 797,
    "start_time": "2024-11-03T07:23:49.110Z"
   },
   {
    "duration": 13,
    "start_time": "2024-11-03T07:23:49.909Z"
   },
   {
    "duration": 10,
    "start_time": "2024-11-03T07:23:49.924Z"
   },
   {
    "duration": 26,
    "start_time": "2024-11-03T07:23:49.936Z"
   },
   {
    "duration": 7,
    "start_time": "2024-11-03T07:23:49.965Z"
   },
   {
    "duration": 34,
    "start_time": "2024-11-03T07:23:49.974Z"
   },
   {
    "duration": 4,
    "start_time": "2024-11-03T07:23:50.009Z"
   },
   {
    "duration": 6,
    "start_time": "2024-11-03T07:23:50.015Z"
   },
   {
    "duration": 3,
    "start_time": "2024-11-03T07:23:50.022Z"
   },
   {
    "duration": 4,
    "start_time": "2024-11-03T07:23:50.029Z"
   },
   {
    "duration": 163,
    "start_time": "2024-11-03T07:23:50.035Z"
   },
   {
    "duration": 27,
    "start_time": "2024-11-03T09:37:51.931Z"
   },
   {
    "duration": 27,
    "start_time": "2024-11-03T09:38:19.351Z"
   },
   {
    "duration": 3,
    "start_time": "2024-11-03T09:41:12.546Z"
   },
   {
    "duration": 4,
    "start_time": "2024-11-03T09:41:15.879Z"
   },
   {
    "duration": 5,
    "start_time": "2024-11-03T09:41:19.684Z"
   },
   {
    "duration": 12,
    "start_time": "2024-11-03T09:41:26.478Z"
   },
   {
    "duration": 10,
    "start_time": "2024-11-03T09:41:29.211Z"
   },
   {
    "duration": 4,
    "start_time": "2024-11-03T09:42:51.727Z"
   },
   {
    "duration": 164,
    "start_time": "2024-11-04T05:05:29.532Z"
   },
   {
    "duration": 782,
    "start_time": "2024-11-04T05:05:33.375Z"
   },
   {
    "duration": 15,
    "start_time": "2024-11-04T05:05:34.159Z"
   },
   {
    "duration": 10,
    "start_time": "2024-11-04T05:05:34.176Z"
   },
   {
    "duration": 32,
    "start_time": "2024-11-04T05:05:34.187Z"
   },
   {
    "duration": 8,
    "start_time": "2024-11-04T05:05:34.221Z"
   },
   {
    "duration": 6,
    "start_time": "2024-11-04T05:05:34.231Z"
   },
   {
    "duration": 3,
    "start_time": "2024-11-04T05:05:34.239Z"
   },
   {
    "duration": 6,
    "start_time": "2024-11-04T05:05:34.243Z"
   },
   {
    "duration": 4,
    "start_time": "2024-11-04T05:05:34.250Z"
   },
   {
    "duration": 3,
    "start_time": "2024-11-04T05:05:34.256Z"
   },
   {
    "duration": 5,
    "start_time": "2024-11-04T05:05:34.262Z"
   },
   {
    "duration": 129,
    "start_time": "2024-11-04T05:05:34.268Z"
   },
   {
    "duration": 5,
    "start_time": "2024-11-04T05:06:38.527Z"
   },
   {
    "duration": 35,
    "start_time": "2024-11-04T05:13:42.134Z"
   },
   {
    "duration": 32,
    "start_time": "2024-11-04T05:14:02.163Z"
   },
   {
    "duration": 30,
    "start_time": "2024-11-04T05:19:14.685Z"
   },
   {
    "duration": 17,
    "start_time": "2024-11-04T05:33:34.617Z"
   },
   {
    "duration": 17,
    "start_time": "2024-11-04T05:33:37.142Z"
   },
   {
    "duration": 11,
    "start_time": "2024-11-04T05:33:37.161Z"
   },
   {
    "duration": 13,
    "start_time": "2024-11-04T05:33:37.174Z"
   },
   {
    "duration": 36,
    "start_time": "2024-11-04T05:33:37.189Z"
   },
   {
    "duration": 9,
    "start_time": "2024-11-04T05:33:37.228Z"
   },
   {
    "duration": 6,
    "start_time": "2024-11-04T05:33:37.239Z"
   },
   {
    "duration": 3,
    "start_time": "2024-11-04T05:33:37.247Z"
   },
   {
    "duration": 6,
    "start_time": "2024-11-04T05:33:37.252Z"
   },
   {
    "duration": 6,
    "start_time": "2024-11-04T05:33:37.259Z"
   },
   {
    "duration": 52,
    "start_time": "2024-11-04T05:33:37.266Z"
   },
   {
    "duration": 0,
    "start_time": "2024-11-04T05:33:37.320Z"
   },
   {
    "duration": 0,
    "start_time": "2024-11-04T05:33:37.321Z"
   },
   {
    "duration": 0,
    "start_time": "2024-11-04T05:33:37.322Z"
   },
   {
    "duration": 0,
    "start_time": "2024-11-04T05:33:37.324Z"
   },
   {
    "duration": 4,
    "start_time": "2024-11-04T05:34:16.580Z"
   },
   {
    "duration": 4,
    "start_time": "2024-11-04T05:34:31.822Z"
   },
   {
    "duration": 5,
    "start_time": "2024-11-04T05:34:33.032Z"
   },
   {
    "duration": 5,
    "start_time": "2024-11-04T05:34:33.486Z"
   },
   {
    "duration": 31,
    "start_time": "2024-11-04T05:34:34.995Z"
   },
   {
    "duration": 8,
    "start_time": "2024-11-04T05:51:54.522Z"
   },
   {
    "duration": 17,
    "start_time": "2024-11-04T05:53:03.455Z"
   },
   {
    "duration": 7,
    "start_time": "2024-11-04T05:53:46.580Z"
   },
   {
    "duration": 803,
    "start_time": "2024-11-04T05:53:55.551Z"
   },
   {
    "duration": 15,
    "start_time": "2024-11-04T05:53:56.357Z"
   },
   {
    "duration": 10,
    "start_time": "2024-11-04T05:53:56.373Z"
   },
   {
    "duration": 40,
    "start_time": "2024-11-04T05:53:56.385Z"
   },
   {
    "duration": 9,
    "start_time": "2024-11-04T05:53:56.427Z"
   },
   {
    "duration": 6,
    "start_time": "2024-11-04T05:53:56.437Z"
   },
   {
    "duration": 3,
    "start_time": "2024-11-04T05:53:56.445Z"
   },
   {
    "duration": 6,
    "start_time": "2024-11-04T05:53:56.450Z"
   },
   {
    "duration": 4,
    "start_time": "2024-11-04T05:53:56.457Z"
   },
   {
    "duration": 3,
    "start_time": "2024-11-04T05:53:56.463Z"
   },
   {
    "duration": 44,
    "start_time": "2024-11-04T05:53:56.468Z"
   },
   {
    "duration": 14,
    "start_time": "2024-11-04T05:53:56.514Z"
   },
   {
    "duration": 4,
    "start_time": "2024-11-04T05:53:56.529Z"
   },
   {
    "duration": 6,
    "start_time": "2024-11-04T05:53:56.535Z"
   },
   {
    "duration": 5,
    "start_time": "2024-11-04T05:53:56.542Z"
   },
   {
    "duration": 762,
    "start_time": "2024-11-04T05:53:56.548Z"
   },
   {
    "duration": 14,
    "start_time": "2024-11-04T05:54:59.861Z"
   },
   {
    "duration": 7,
    "start_time": "2024-11-04T06:04:28.132Z"
   },
   {
    "duration": 8,
    "start_time": "2024-11-04T06:07:31.772Z"
   },
   {
    "duration": 5,
    "start_time": "2024-11-04T06:07:34.055Z"
   },
   {
    "duration": 3,
    "start_time": "2024-11-04T06:11:24.350Z"
   },
   {
    "duration": 4,
    "start_time": "2024-11-04T06:11:57.713Z"
   },
   {
    "duration": 7,
    "start_time": "2024-11-04T06:12:49.827Z"
   },
   {
    "duration": 3,
    "start_time": "2024-11-04T06:12:51.083Z"
   },
   {
    "duration": 4,
    "start_time": "2024-11-04T06:12:52.330Z"
   },
   {
    "duration": 9,
    "start_time": "2024-11-04T06:13:02.889Z"
   },
   {
    "duration": 2,
    "start_time": "2024-11-04T06:13:03.741Z"
   },
   {
    "duration": 4,
    "start_time": "2024-11-04T06:13:04.684Z"
   },
   {
    "duration": 788,
    "start_time": "2024-11-04T22:17:25.129Z"
   },
   {
    "duration": 16,
    "start_time": "2024-11-04T22:17:25.919Z"
   },
   {
    "duration": 10,
    "start_time": "2024-11-04T22:17:25.937Z"
   },
   {
    "duration": 41,
    "start_time": "2024-11-04T22:17:25.950Z"
   },
   {
    "duration": 9,
    "start_time": "2024-11-04T22:17:25.993Z"
   },
   {
    "duration": 8,
    "start_time": "2024-11-04T22:17:26.005Z"
   },
   {
    "duration": 5,
    "start_time": "2024-11-04T22:17:26.014Z"
   },
   {
    "duration": 7,
    "start_time": "2024-11-04T22:17:26.021Z"
   },
   {
    "duration": 4,
    "start_time": "2024-11-04T22:17:26.030Z"
   },
   {
    "duration": 4,
    "start_time": "2024-11-04T22:17:26.036Z"
   },
   {
    "duration": 45,
    "start_time": "2024-11-04T22:17:26.042Z"
   },
   {
    "duration": 16,
    "start_time": "2024-11-04T22:17:26.089Z"
   },
   {
    "duration": 4,
    "start_time": "2024-11-04T22:17:26.107Z"
   },
   {
    "duration": 6,
    "start_time": "2024-11-04T22:17:26.114Z"
   },
   {
    "duration": 3,
    "start_time": "2024-11-04T22:17:26.122Z"
   },
   {
    "duration": 3,
    "start_time": "2024-11-04T22:17:26.127Z"
   },
   {
    "duration": 5,
    "start_time": "2024-11-04T22:17:26.132Z"
   },
   {
    "duration": 584,
    "start_time": "2024-11-04T22:17:26.139Z"
   },
   {
    "duration": 771,
    "start_time": "2024-11-04T22:19:42.878Z"
   },
   {
    "duration": 15,
    "start_time": "2024-11-04T22:19:43.651Z"
   },
   {
    "duration": 21,
    "start_time": "2024-11-04T22:19:43.668Z"
   },
   {
    "duration": 28,
    "start_time": "2024-11-04T22:19:43.691Z"
   },
   {
    "duration": 9,
    "start_time": "2024-11-04T22:19:43.721Z"
   },
   {
    "duration": 6,
    "start_time": "2024-11-04T22:19:43.732Z"
   },
   {
    "duration": 3,
    "start_time": "2024-11-04T22:19:43.740Z"
   },
   {
    "duration": 6,
    "start_time": "2024-11-04T22:19:43.744Z"
   },
   {
    "duration": 39,
    "start_time": "2024-11-04T22:19:43.751Z"
   },
   {
    "duration": 3,
    "start_time": "2024-11-04T22:19:43.794Z"
   },
   {
    "duration": 9,
    "start_time": "2024-11-04T22:19:43.799Z"
   },
   {
    "duration": 13,
    "start_time": "2024-11-04T22:19:43.810Z"
   },
   {
    "duration": 4,
    "start_time": "2024-11-04T22:19:43.825Z"
   },
   {
    "duration": 6,
    "start_time": "2024-11-04T22:19:43.830Z"
   },
   {
    "duration": 3,
    "start_time": "2024-11-04T22:19:43.837Z"
   },
   {
    "duration": 4,
    "start_time": "2024-11-04T22:19:43.841Z"
   },
   {
    "duration": 5,
    "start_time": "2024-11-04T22:19:43.887Z"
   },
   {
    "duration": 1298,
    "start_time": "2024-11-04T22:19:43.894Z"
   },
   {
    "duration": 16,
    "start_time": "2024-11-04T22:20:12.666Z"
   },
   {
    "duration": 55,
    "start_time": "2024-11-04T22:21:51.698Z"
   },
   {
    "duration": 617,
    "start_time": "2024-11-04T22:22:41.041Z"
   },
   {
    "duration": 229,
    "start_time": "2024-11-04T22:23:03.386Z"
   },
   {
    "duration": 148,
    "start_time": "2024-11-04T22:23:16.608Z"
   },
   {
    "duration": 154,
    "start_time": "2024-11-04T22:24:16.577Z"
   },
   {
    "duration": 15,
    "start_time": "2024-11-04T22:24:21.977Z"
   },
   {
    "duration": 239,
    "start_time": "2024-11-04T22:24:27.340Z"
   },
   {
    "duration": 17,
    "start_time": "2024-11-04T22:28:20.530Z"
   },
   {
    "duration": 15,
    "start_time": "2024-11-04T22:28:26.035Z"
   },
   {
    "duration": 31037,
    "start_time": "2024-11-04T22:28:29.373Z"
   },
   {
    "duration": 0,
    "start_time": "2024-11-04T22:31:19.737Z"
   },
   {
    "duration": 30832,
    "start_time": "2024-11-04T22:31:32.759Z"
   },
   {
    "duration": 30945,
    "start_time": "2024-11-04T22:32:25.494Z"
   },
   {
    "duration": 30879,
    "start_time": "2024-11-04T22:33:10.821Z"
   },
   {
    "duration": 21,
    "start_time": "2024-11-04T22:37:34.542Z"
   },
   {
    "duration": 83,
    "start_time": "2024-11-04T22:37:46.347Z"
   },
   {
    "duration": 18,
    "start_time": "2024-11-04T22:38:08.364Z"
   },
   {
    "duration": 14,
    "start_time": "2024-11-04T22:38:57.035Z"
   },
   {
    "duration": 83,
    "start_time": "2024-11-04T22:39:01.015Z"
   },
   {
    "duration": 86,
    "start_time": "2024-11-04T22:39:11.513Z"
   },
   {
    "duration": 33,
    "start_time": "2024-11-04T22:41:44.729Z"
   },
   {
    "duration": 21,
    "start_time": "2024-11-04T23:07:54.522Z"
   },
   {
    "duration": 778,
    "start_time": "2024-11-05T06:09:28.381Z"
   },
   {
    "duration": 14,
    "start_time": "2024-11-05T06:09:29.162Z"
   },
   {
    "duration": 9,
    "start_time": "2024-11-05T06:09:29.177Z"
   },
   {
    "duration": 36,
    "start_time": "2024-11-05T06:09:29.189Z"
   },
   {
    "duration": 9,
    "start_time": "2024-11-05T06:09:29.227Z"
   },
   {
    "duration": 5,
    "start_time": "2024-11-05T06:09:29.238Z"
   },
   {
    "duration": 3,
    "start_time": "2024-11-05T06:09:29.245Z"
   },
   {
    "duration": 6,
    "start_time": "2024-11-05T06:09:29.250Z"
   },
   {
    "duration": 4,
    "start_time": "2024-11-05T06:09:29.258Z"
   },
   {
    "duration": 4,
    "start_time": "2024-11-05T06:09:29.264Z"
   },
   {
    "duration": 8,
    "start_time": "2024-11-05T06:09:29.306Z"
   },
   {
    "duration": 14,
    "start_time": "2024-11-05T06:09:29.316Z"
   },
   {
    "duration": 3,
    "start_time": "2024-11-05T06:09:29.331Z"
   },
   {
    "duration": 6,
    "start_time": "2024-11-05T06:09:29.336Z"
   },
   {
    "duration": 3,
    "start_time": "2024-11-05T06:09:29.343Z"
   },
   {
    "duration": 2,
    "start_time": "2024-11-05T06:09:29.348Z"
   },
   {
    "duration": 5,
    "start_time": "2024-11-05T06:09:29.352Z"
   },
   {
    "duration": 30353,
    "start_time": "2024-11-05T06:09:29.359Z"
   },
   {
    "duration": 92,
    "start_time": "2024-11-05T06:09:59.713Z"
   },
   {
    "duration": 257,
    "start_time": "2024-11-05T06:09:59.807Z"
   },
   {
    "duration": 20,
    "start_time": "2024-11-05T06:14:59.433Z"
   },
   {
    "duration": 220,
    "start_time": "2024-11-05T06:15:12.073Z"
   },
   {
    "duration": 191,
    "start_time": "2024-11-05T06:17:41.460Z"
   },
   {
    "duration": 30420,
    "start_time": "2024-11-05T06:24:26.041Z"
   },
   {
    "duration": 30456,
    "start_time": "2024-11-05T06:26:25.539Z"
   },
   {
    "duration": 30349,
    "start_time": "2024-11-05T06:28:15.463Z"
   },
   {
    "duration": 202,
    "start_time": "2024-11-05T06:28:45.814Z"
   },
   {
    "duration": 15,
    "start_time": "2024-11-05T06:34:25.155Z"
   },
   {
    "duration": 24,
    "start_time": "2024-11-05T06:34:33.470Z"
   },
   {
    "duration": 83,
    "start_time": "2024-11-05T06:34:58.125Z"
   },
   {
    "duration": 2,
    "start_time": "2024-11-05T06:37:05.050Z"
   },
   {
    "duration": 20,
    "start_time": "2024-11-05T06:38:31.304Z"
   },
   {
    "duration": 5,
    "start_time": "2024-11-05T06:39:42.413Z"
   },
   {
    "duration": 18,
    "start_time": "2024-11-05T06:39:51.368Z"
   },
   {
    "duration": 60,
    "start_time": "2024-11-05T06:39:56.547Z"
   },
   {
    "duration": 30463,
    "start_time": "2024-11-05T06:41:29.672Z"
   },
   {
    "duration": 93,
    "start_time": "2024-11-05T06:42:00.138Z"
   },
   {
    "duration": 75,
    "start_time": "2024-11-05T06:42:00.232Z"
   },
   {
    "duration": 161,
    "start_time": "2024-11-05T06:46:36.684Z"
   },
   {
    "duration": 5,
    "start_time": "2024-11-05T06:47:23.993Z"
   },
   {
    "duration": 168,
    "start_time": "2024-11-05T06:47:36.313Z"
   },
   {
    "duration": 163,
    "start_time": "2024-11-05T06:49:43.477Z"
   },
   {
    "duration": 773,
    "start_time": "2024-11-05T06:52:39.355Z"
   },
   {
    "duration": 14,
    "start_time": "2024-11-05T06:52:40.130Z"
   },
   {
    "duration": 9,
    "start_time": "2024-11-05T06:52:40.146Z"
   },
   {
    "duration": 27,
    "start_time": "2024-11-05T06:52:40.157Z"
   },
   {
    "duration": 26,
    "start_time": "2024-11-05T06:52:40.185Z"
   },
   {
    "duration": 6,
    "start_time": "2024-11-05T06:52:40.212Z"
   },
   {
    "duration": 3,
    "start_time": "2024-11-05T06:52:40.220Z"
   },
   {
    "duration": 8,
    "start_time": "2024-11-05T06:52:40.225Z"
   },
   {
    "duration": 4,
    "start_time": "2024-11-05T06:52:40.234Z"
   },
   {
    "duration": 3,
    "start_time": "2024-11-05T06:52:40.241Z"
   },
   {
    "duration": 8,
    "start_time": "2024-11-05T06:52:40.245Z"
   },
   {
    "duration": 50,
    "start_time": "2024-11-05T06:52:40.255Z"
   },
   {
    "duration": 3,
    "start_time": "2024-11-05T06:52:40.307Z"
   },
   {
    "duration": 7,
    "start_time": "2024-11-05T06:52:40.311Z"
   },
   {
    "duration": 3,
    "start_time": "2024-11-05T06:52:40.319Z"
   },
   {
    "duration": 3,
    "start_time": "2024-11-05T06:52:40.324Z"
   },
   {
    "duration": 5,
    "start_time": "2024-11-05T06:52:40.328Z"
   },
   {
    "duration": 373,
    "start_time": "2024-11-05T06:52:40.334Z"
   },
   {
    "duration": 0,
    "start_time": "2024-11-05T06:52:40.709Z"
   },
   {
    "duration": 0,
    "start_time": "2024-11-05T06:52:40.710Z"
   },
   {
    "duration": 0,
    "start_time": "2024-11-05T06:52:40.713Z"
   },
   {
    "duration": 30220,
    "start_time": "2024-11-05T06:53:48.026Z"
   },
   {
    "duration": 163,
    "start_time": "2024-11-05T06:54:38.142Z"
   },
   {
    "duration": 170,
    "start_time": "2024-11-05T06:55:31.912Z"
   },
   {
    "duration": 163,
    "start_time": "2024-11-05T06:56:40.233Z"
   },
   {
    "duration": 33,
    "start_time": "2024-11-05T06:57:40.072Z"
   },
   {
    "duration": 83,
    "start_time": "2024-11-05T06:57:42.923Z"
   },
   {
    "duration": 162,
    "start_time": "2024-11-05T07:00:17.155Z"
   },
   {
    "duration": 971,
    "start_time": "2024-11-05T07:01:01.383Z"
   },
   {
    "duration": 966,
    "start_time": "2024-11-05T07:01:13.439Z"
   },
   {
    "duration": 972,
    "start_time": "2024-11-05T07:01:24.061Z"
   },
   {
    "duration": 960,
    "start_time": "2024-11-05T07:02:15.538Z"
   },
   {
    "duration": 1166,
    "start_time": "2024-11-05T07:02:55.019Z"
   },
   {
    "duration": 1094,
    "start_time": "2024-11-05T07:03:19.265Z"
   },
   {
    "duration": 1101,
    "start_time": "2024-11-05T07:03:50.833Z"
   },
   {
    "duration": 1092,
    "start_time": "2024-11-05T07:06:52.131Z"
   },
   {
    "duration": 960,
    "start_time": "2024-11-05T07:06:58.160Z"
   },
   {
    "duration": 1038,
    "start_time": "2024-11-05T07:07:04.882Z"
   },
   {
    "duration": 1054,
    "start_time": "2024-11-05T07:07:09.758Z"
   },
   {
    "duration": 1078,
    "start_time": "2024-11-05T07:07:14.980Z"
   },
   {
    "duration": 1115,
    "start_time": "2024-11-05T07:07:23.289Z"
   },
   {
    "duration": 1077,
    "start_time": "2024-11-05T07:07:31.533Z"
   },
   {
    "duration": 1074,
    "start_time": "2024-11-05T07:07:36.825Z"
   },
   {
    "duration": 943,
    "start_time": "2024-11-05T07:07:43.145Z"
   },
   {
    "duration": 2344,
    "start_time": "2024-11-05T07:07:54.203Z"
   },
   {
    "duration": 959,
    "start_time": "2024-11-05T07:08:00.759Z"
   },
   {
    "duration": 951,
    "start_time": "2024-11-05T07:08:40.458Z"
   },
   {
    "duration": 948,
    "start_time": "2024-11-05T07:08:46.778Z"
   },
   {
    "duration": 1081,
    "start_time": "2024-11-05T07:08:54.282Z"
   },
   {
    "duration": 53026,
    "start_time": "2024-11-05T07:10:22.940Z"
   },
   {
    "duration": 5,
    "start_time": "2024-11-05T07:32:46.708Z"
   },
   {
    "duration": 251,
    "start_time": "2024-11-05T07:33:04.613Z"
   },
   {
    "duration": 95,
    "start_time": "2024-11-05T07:34:21.173Z"
   },
   {
    "duration": 95,
    "start_time": "2024-11-05T07:34:45.258Z"
   },
   {
    "duration": 742,
    "start_time": "2024-11-05T08:15:08.184Z"
   },
   {
    "duration": 13,
    "start_time": "2024-11-05T08:15:08.928Z"
   },
   {
    "duration": 10,
    "start_time": "2024-11-05T08:15:08.942Z"
   },
   {
    "duration": 26,
    "start_time": "2024-11-05T08:15:08.954Z"
   },
   {
    "duration": 8,
    "start_time": "2024-11-05T08:15:09.004Z"
   },
   {
    "duration": 6,
    "start_time": "2024-11-05T08:15:09.014Z"
   },
   {
    "duration": 4,
    "start_time": "2024-11-05T08:15:09.021Z"
   },
   {
    "duration": 6,
    "start_time": "2024-11-05T08:15:09.026Z"
   },
   {
    "duration": 4,
    "start_time": "2024-11-05T08:15:09.033Z"
   },
   {
    "duration": 3,
    "start_time": "2024-11-05T08:15:09.038Z"
   },
   {
    "duration": 8,
    "start_time": "2024-11-05T08:15:09.043Z"
   },
   {
    "duration": 54,
    "start_time": "2024-11-05T08:15:09.052Z"
   },
   {
    "duration": 4,
    "start_time": "2024-11-05T08:15:09.107Z"
   },
   {
    "duration": 5,
    "start_time": "2024-11-05T08:15:09.114Z"
   },
   {
    "duration": 3,
    "start_time": "2024-11-05T08:15:09.121Z"
   },
   {
    "duration": 3,
    "start_time": "2024-11-05T08:15:09.126Z"
   },
   {
    "duration": 4,
    "start_time": "2024-11-05T08:15:09.131Z"
   },
   {
    "duration": 2430487,
    "start_time": "2024-11-05T08:15:09.137Z"
   },
   {
    "duration": 92,
    "start_time": "2024-11-05T08:55:39.626Z"
   },
   {
    "duration": 28,
    "start_time": "2024-11-05T08:55:39.720Z"
   },
   {
    "duration": 1072,
    "start_time": "2024-11-05T08:55:39.749Z"
   },
   {
    "duration": 2416747,
    "start_time": "2024-11-05T09:00:56.364Z"
   },
   {
    "duration": 842,
    "start_time": "2024-11-06T04:30:31.371Z"
   },
   {
    "duration": 14,
    "start_time": "2024-11-06T04:30:32.215Z"
   },
   {
    "duration": 11,
    "start_time": "2024-11-06T04:30:32.231Z"
   },
   {
    "duration": 30,
    "start_time": "2024-11-06T04:30:32.245Z"
   },
   {
    "duration": 11,
    "start_time": "2024-11-06T04:30:32.276Z"
   },
   {
    "duration": 7,
    "start_time": "2024-11-06T04:30:32.288Z"
   },
   {
    "duration": 4,
    "start_time": "2024-11-06T04:30:32.296Z"
   },
   {
    "duration": 33,
    "start_time": "2024-11-06T04:30:32.303Z"
   },
   {
    "duration": 4,
    "start_time": "2024-11-06T04:30:32.338Z"
   },
   {
    "duration": 4,
    "start_time": "2024-11-06T04:30:32.346Z"
   },
   {
    "duration": 11,
    "start_time": "2024-11-06T04:30:32.352Z"
   },
   {
    "duration": 20,
    "start_time": "2024-11-06T04:30:32.365Z"
   },
   {
    "duration": 4,
    "start_time": "2024-11-06T04:30:32.387Z"
   },
   {
    "duration": 39,
    "start_time": "2024-11-06T04:30:32.393Z"
   },
   {
    "duration": 4,
    "start_time": "2024-11-06T04:30:32.434Z"
   },
   {
    "duration": 3,
    "start_time": "2024-11-06T04:30:32.439Z"
   },
   {
    "duration": 5,
    "start_time": "2024-11-06T04:30:32.444Z"
   },
   {
    "duration": 8402458,
    "start_time": "2024-11-06T04:30:32.450Z"
   },
   {
    "duration": 94,
    "start_time": "2024-11-06T06:50:34.910Z"
   },
   {
    "duration": 47,
    "start_time": "2024-11-06T06:50:35.006Z"
   },
   {
    "duration": 1084,
    "start_time": "2024-11-06T06:50:35.055Z"
   },
   {
    "duration": 845,
    "start_time": "2024-11-06T09:42:08.882Z"
   },
   {
    "duration": 28,
    "start_time": "2024-11-06T09:42:09.730Z"
   },
   {
    "duration": 15,
    "start_time": "2024-11-06T09:42:09.760Z"
   },
   {
    "duration": 28,
    "start_time": "2024-11-06T09:42:09.778Z"
   },
   {
    "duration": 9,
    "start_time": "2024-11-06T09:42:09.808Z"
   },
   {
    "duration": 22,
    "start_time": "2024-11-06T09:42:09.818Z"
   },
   {
    "duration": 4,
    "start_time": "2024-11-06T09:42:09.842Z"
   },
   {
    "duration": 10,
    "start_time": "2024-11-06T09:42:09.852Z"
   },
   {
    "duration": 4,
    "start_time": "2024-11-06T09:42:09.864Z"
   },
   {
    "duration": 4,
    "start_time": "2024-11-06T09:42:09.873Z"
   },
   {
    "duration": 8,
    "start_time": "2024-11-06T09:42:09.879Z"
   },
   {
    "duration": 43,
    "start_time": "2024-11-06T09:42:09.889Z"
   },
   {
    "duration": 5,
    "start_time": "2024-11-06T09:42:09.936Z"
   },
   {
    "duration": 8,
    "start_time": "2024-11-06T09:42:09.942Z"
   },
   {
    "duration": 3,
    "start_time": "2024-11-06T09:42:09.951Z"
   },
   {
    "duration": 10,
    "start_time": "2024-11-06T09:42:09.956Z"
   },
   {
    "duration": 8,
    "start_time": "2024-11-06T09:42:09.969Z"
   },
   {
    "duration": 887,
    "start_time": "2024-11-06T18:51:48.929Z"
   },
   {
    "duration": 17,
    "start_time": "2024-11-06T18:51:49.820Z"
   },
   {
    "duration": 12,
    "start_time": "2024-11-06T18:51:49.839Z"
   },
   {
    "duration": 30,
    "start_time": "2024-11-06T18:51:49.853Z"
   },
   {
    "duration": 10,
    "start_time": "2024-11-06T18:51:49.886Z"
   },
   {
    "duration": 35,
    "start_time": "2024-11-06T18:51:49.898Z"
   },
   {
    "duration": 4,
    "start_time": "2024-11-06T18:51:49.935Z"
   },
   {
    "duration": 8,
    "start_time": "2024-11-06T18:51:49.942Z"
   },
   {
    "duration": 4,
    "start_time": "2024-11-06T18:51:49.952Z"
   },
   {
    "duration": 4,
    "start_time": "2024-11-06T18:51:49.957Z"
   },
   {
    "duration": 10,
    "start_time": "2024-11-06T18:51:49.962Z"
   },
   {
    "duration": 16,
    "start_time": "2024-11-06T18:51:49.974Z"
   },
   {
    "duration": 39,
    "start_time": "2024-11-06T18:51:49.992Z"
   },
   {
    "duration": 9,
    "start_time": "2024-11-06T18:51:50.035Z"
   },
   {
    "duration": 4,
    "start_time": "2024-11-06T18:51:50.046Z"
   },
   {
    "duration": 3,
    "start_time": "2024-11-06T18:51:50.052Z"
   },
   {
    "duration": 5,
    "start_time": "2024-11-06T18:51:50.057Z"
   },
   {
    "duration": 883,
    "start_time": "2024-11-06T23:21:55.424Z"
   },
   {
    "duration": 14,
    "start_time": "2024-11-06T23:21:56.309Z"
   },
   {
    "duration": 10,
    "start_time": "2024-11-06T23:21:56.325Z"
   },
   {
    "duration": 28,
    "start_time": "2024-11-06T23:21:56.337Z"
   },
   {
    "duration": 9,
    "start_time": "2024-11-06T23:21:56.367Z"
   },
   {
    "duration": 34,
    "start_time": "2024-11-06T23:21:56.378Z"
   },
   {
    "duration": 4,
    "start_time": "2024-11-06T23:21:56.415Z"
   },
   {
    "duration": 8,
    "start_time": "2024-11-06T23:21:56.421Z"
   },
   {
    "duration": 4,
    "start_time": "2024-11-06T23:21:56.431Z"
   },
   {
    "duration": 4,
    "start_time": "2024-11-06T23:21:56.436Z"
   },
   {
    "duration": 10,
    "start_time": "2024-11-06T23:21:56.441Z"
   },
   {
    "duration": 14,
    "start_time": "2024-11-06T23:21:56.452Z"
   },
   {
    "duration": 44,
    "start_time": "2024-11-06T23:21:56.468Z"
   },
   {
    "duration": 7,
    "start_time": "2024-11-06T23:21:56.515Z"
   },
   {
    "duration": 3,
    "start_time": "2024-11-06T23:21:56.524Z"
   },
   {
    "duration": 3,
    "start_time": "2024-11-06T23:21:56.529Z"
   },
   {
    "duration": 3,
    "start_time": "2024-11-06T23:21:58.983Z"
   },
   {
    "duration": 5,
    "start_time": "2024-11-06T23:22:00.728Z"
   },
   {
    "duration": 811,
    "start_time": "2024-11-07T00:58:51.633Z"
   },
   {
    "duration": 14,
    "start_time": "2024-11-07T00:58:52.446Z"
   },
   {
    "duration": 9,
    "start_time": "2024-11-07T00:58:52.462Z"
   },
   {
    "duration": 43,
    "start_time": "2024-11-07T00:58:52.473Z"
   },
   {
    "duration": 9,
    "start_time": "2024-11-07T00:58:52.518Z"
   },
   {
    "duration": 6,
    "start_time": "2024-11-07T00:58:52.529Z"
   },
   {
    "duration": 4,
    "start_time": "2024-11-07T00:58:52.537Z"
   },
   {
    "duration": 7,
    "start_time": "2024-11-07T00:58:52.543Z"
   },
   {
    "duration": 3,
    "start_time": "2024-11-07T00:58:52.552Z"
   },
   {
    "duration": 3,
    "start_time": "2024-11-07T00:58:52.557Z"
   },
   {
    "duration": 50,
    "start_time": "2024-11-07T00:58:52.562Z"
   },
   {
    "duration": 15,
    "start_time": "2024-11-07T00:58:52.614Z"
   },
   {
    "duration": 4,
    "start_time": "2024-11-07T00:58:52.631Z"
   },
   {
    "duration": 6,
    "start_time": "2024-11-07T00:58:52.637Z"
   },
   {
    "duration": 3,
    "start_time": "2024-11-07T00:58:52.645Z"
   },
   {
    "duration": 3,
    "start_time": "2024-11-07T00:58:52.650Z"
   },
   {
    "duration": 5,
    "start_time": "2024-11-07T00:58:52.655Z"
   },
   {
    "duration": 8393803,
    "start_time": "2024-11-07T00:58:58.420Z"
   },
   {
    "duration": 93,
    "start_time": "2024-11-07T03:39:47.662Z"
   },
   {
    "duration": 22,
    "start_time": "2024-11-07T03:39:51.751Z"
   },
   {
    "duration": 844,
    "start_time": "2024-11-07T22:11:15.001Z"
   },
   {
    "duration": 14,
    "start_time": "2024-11-07T22:11:15.847Z"
   },
   {
    "duration": 10,
    "start_time": "2024-11-07T22:11:15.864Z"
   },
   {
    "duration": 32,
    "start_time": "2024-11-07T22:11:15.876Z"
   },
   {
    "duration": 8,
    "start_time": "2024-11-07T22:11:15.910Z"
   },
   {
    "duration": 6,
    "start_time": "2024-11-07T22:11:15.920Z"
   },
   {
    "duration": 3,
    "start_time": "2024-11-07T22:11:15.928Z"
   },
   {
    "duration": 5,
    "start_time": "2024-11-07T22:11:15.933Z"
   },
   {
    "duration": 4,
    "start_time": "2024-11-07T22:11:15.940Z"
   },
   {
    "duration": 3,
    "start_time": "2024-11-07T22:11:15.946Z"
   },
   {
    "duration": 9,
    "start_time": "2024-11-07T22:11:15.988Z"
   },
   {
    "duration": 15,
    "start_time": "2024-11-07T22:11:15.999Z"
   },
   {
    "duration": 4,
    "start_time": "2024-11-07T22:11:16.015Z"
   },
   {
    "duration": 5,
    "start_time": "2024-11-07T22:11:16.021Z"
   },
   {
    "duration": 3,
    "start_time": "2024-11-07T22:11:16.027Z"
   },
   {
    "duration": 3,
    "start_time": "2024-11-07T22:11:16.032Z"
   },
   {
    "duration": 5,
    "start_time": "2024-11-07T22:11:16.037Z"
   },
   {
    "duration": 1096,
    "start_time": "2024-11-07T22:11:22.080Z"
   },
   {
    "duration": 1094,
    "start_time": "2024-11-07T22:11:37.029Z"
   },
   {
    "duration": 1102,
    "start_time": "2024-11-07T22:11:43.180Z"
   },
   {
    "duration": 1086,
    "start_time": "2024-11-07T22:11:48.441Z"
   },
   {
    "duration": 1088,
    "start_time": "2024-11-07T22:11:53.231Z"
   },
   {
    "duration": 1057,
    "start_time": "2024-11-07T22:11:59.404Z"
   },
   {
    "duration": 1060,
    "start_time": "2024-11-07T22:12:03.698Z"
   },
   {
    "duration": 1059,
    "start_time": "2024-11-07T22:18:09.203Z"
   },
   {
    "duration": 1046,
    "start_time": "2024-11-07T22:18:15.241Z"
   },
   {
    "duration": 1043,
    "start_time": "2024-11-07T22:18:20.770Z"
   },
   {
    "duration": 1080,
    "start_time": "2024-11-07T22:18:27.338Z"
   },
   {
    "duration": 1633,
    "start_time": "2024-11-07T22:18:32.766Z"
   },
   {
    "duration": 2143,
    "start_time": "2024-11-07T22:18:38.092Z"
   },
   {
    "duration": 541,
    "start_time": "2024-11-07T22:18:44.347Z"
   },
   {
    "duration": 2,
    "start_time": "2024-11-08T00:08:25.801Z"
   },
   {
    "duration": 549,
    "start_time": "2024-11-08T00:09:13.419Z"
   },
   {
    "duration": 165,
    "start_time": "2024-11-08T06:11:22.876Z"
   },
   {
    "duration": 793,
    "start_time": "2024-11-08T06:11:29.692Z"
   },
   {
    "duration": 26,
    "start_time": "2024-11-08T06:11:30.487Z"
   },
   {
    "duration": 15,
    "start_time": "2024-11-08T06:11:30.515Z"
   },
   {
    "duration": 10,
    "start_time": "2024-11-08T06:11:30.532Z"
   },
   {
    "duration": 28,
    "start_time": "2024-11-08T06:11:30.544Z"
   },
   {
    "duration": 10,
    "start_time": "2024-11-08T06:11:30.573Z"
   },
   {
    "duration": 76,
    "start_time": "2024-11-08T06:11:33.570Z"
   },
   {
    "duration": 12,
    "start_time": "2024-11-08T06:11:41.892Z"
   },
   {
    "duration": 6,
    "start_time": "2024-11-08T06:11:45.830Z"
   },
   {
    "duration": 5,
    "start_time": "2024-11-08T06:11:51.634Z"
   },
   {
    "duration": 776,
    "start_time": "2024-11-08T06:58:30.198Z"
   },
   {
    "duration": 17,
    "start_time": "2024-11-08T06:58:30.976Z"
   },
   {
    "duration": 13,
    "start_time": "2024-11-08T06:58:30.995Z"
   },
   {
    "duration": 9,
    "start_time": "2024-11-08T06:58:31.010Z"
   },
   {
    "duration": 28,
    "start_time": "2024-11-08T06:58:31.031Z"
   },
   {
    "duration": 9,
    "start_time": "2024-11-08T06:58:31.060Z"
   },
   {
    "duration": 4,
    "start_time": "2024-11-08T06:58:31.071Z"
   },
   {
    "duration": 5,
    "start_time": "2024-11-08T06:58:31.077Z"
   },
   {
    "duration": 3,
    "start_time": "2024-11-08T06:58:31.084Z"
   },
   {
    "duration": 7,
    "start_time": "2024-11-08T06:58:31.090Z"
   },
   {
    "duration": 4,
    "start_time": "2024-11-08T06:58:31.131Z"
   },
   {
    "duration": 4,
    "start_time": "2024-11-08T06:58:31.137Z"
   },
   {
    "duration": 11,
    "start_time": "2024-11-08T06:58:31.142Z"
   },
   {
    "duration": 15,
    "start_time": "2024-11-08T06:58:31.154Z"
   },
   {
    "duration": 5,
    "start_time": "2024-11-08T06:58:31.171Z"
   },
   {
    "duration": 8,
    "start_time": "2024-11-08T06:58:31.178Z"
   },
   {
    "duration": 3,
    "start_time": "2024-11-08T06:58:31.188Z"
   },
   {
    "duration": 3,
    "start_time": "2024-11-08T06:58:34.472Z"
   },
   {
    "duration": 3,
    "start_time": "2024-11-08T06:58:36.019Z"
   },
   {
    "duration": 8,
    "start_time": "2024-11-08T06:59:02.101Z"
   },
   {
    "duration": 3,
    "start_time": "2024-11-08T06:59:23.012Z"
   },
   {
    "duration": 4,
    "start_time": "2024-11-08T06:59:23.908Z"
   },
   {
    "duration": 763,
    "start_time": "2024-11-08T08:20:18.910Z"
   },
   {
    "duration": 18,
    "start_time": "2024-11-08T08:20:19.675Z"
   },
   {
    "duration": 15,
    "start_time": "2024-11-08T08:20:19.694Z"
   },
   {
    "duration": 20,
    "start_time": "2024-11-08T08:20:19.711Z"
   },
   {
    "duration": 35,
    "start_time": "2024-11-08T08:20:19.733Z"
   },
   {
    "duration": 15,
    "start_time": "2024-11-08T08:20:19.770Z"
   },
   {
    "duration": 5,
    "start_time": "2024-11-08T08:20:19.789Z"
   },
   {
    "duration": 6,
    "start_time": "2024-11-08T08:20:19.797Z"
   },
   {
    "duration": 29,
    "start_time": "2024-11-08T08:20:19.805Z"
   },
   {
    "duration": 7,
    "start_time": "2024-11-08T08:20:19.838Z"
   },
   {
    "duration": 4,
    "start_time": "2024-11-08T08:20:19.847Z"
   },
   {
    "duration": 4,
    "start_time": "2024-11-08T08:20:19.853Z"
   },
   {
    "duration": 11,
    "start_time": "2024-11-08T08:20:19.859Z"
   },
   {
    "duration": 15,
    "start_time": "2024-11-08T08:20:19.872Z"
   },
   {
    "duration": 45,
    "start_time": "2024-11-08T08:20:19.889Z"
   },
   {
    "duration": 8,
    "start_time": "2024-11-08T08:20:19.935Z"
   },
   {
    "duration": 3,
    "start_time": "2024-11-08T08:20:19.945Z"
   },
   {
    "duration": 3,
    "start_time": "2024-11-08T08:20:22.463Z"
   },
   {
    "duration": 4,
    "start_time": "2024-11-08T08:20:27.258Z"
   },
   {
    "duration": 155,
    "start_time": "2024-11-08T08:22:17.194Z"
   },
   {
    "duration": 158,
    "start_time": "2024-11-08T08:22:24.557Z"
   },
   {
    "duration": 154,
    "start_time": "2024-11-08T08:22:31.970Z"
   },
   {
    "duration": 155,
    "start_time": "2024-11-08T08:22:36.398Z"
   },
   {
    "duration": 105,
    "start_time": "2024-11-08T08:23:04.399Z"
   },
   {
    "duration": 82,
    "start_time": "2024-11-08T08:23:09.678Z"
   },
   {
    "duration": 89,
    "start_time": "2024-11-08T08:23:13.240Z"
   },
   {
    "duration": 116,
    "start_time": "2024-11-08T08:23:19.593Z"
   },
   {
    "duration": 82,
    "start_time": "2024-11-08T08:23:24.450Z"
   },
   {
    "duration": 153,
    "start_time": "2024-11-08T08:23:29.072Z"
   },
   {
    "duration": 1493,
    "start_time": "2024-11-08T08:24:20.739Z"
   },
   {
    "duration": 1488,
    "start_time": "2024-11-08T08:24:51.546Z"
   },
   {
    "duration": 44,
    "start_time": "2024-11-08T08:26:43.697Z"
   },
   {
    "duration": 64,
    "start_time": "2024-11-08T08:26:50.276Z"
   },
   {
    "duration": 58,
    "start_time": "2024-11-08T08:26:54.893Z"
   },
   {
    "duration": 804,
    "start_time": "2024-11-08T23:51:58.933Z"
   },
   {
    "duration": 46,
    "start_time": "2024-11-08T23:51:59.739Z"
   },
   {
    "duration": 14,
    "start_time": "2024-11-08T23:51:59.787Z"
   },
   {
    "duration": 11,
    "start_time": "2024-11-08T23:51:59.803Z"
   },
   {
    "duration": 36,
    "start_time": "2024-11-08T23:51:59.816Z"
   },
   {
    "duration": 15,
    "start_time": "2024-11-08T23:51:59.853Z"
   },
   {
    "duration": 4,
    "start_time": "2024-11-08T23:51:59.869Z"
   },
   {
    "duration": 7,
    "start_time": "2024-11-08T23:51:59.874Z"
   },
   {
    "duration": 4,
    "start_time": "2024-11-08T23:51:59.882Z"
   },
   {
    "duration": 7,
    "start_time": "2024-11-08T23:51:59.888Z"
   },
   {
    "duration": 4,
    "start_time": "2024-11-08T23:51:59.896Z"
   },
   {
    "duration": 29,
    "start_time": "2024-11-08T23:51:59.902Z"
   },
   {
    "duration": 28,
    "start_time": "2024-11-08T23:51:59.932Z"
   },
   {
    "duration": 16,
    "start_time": "2024-11-08T23:51:59.962Z"
   },
   {
    "duration": 289,
    "start_time": "2024-11-08T23:52:02.569Z"
   },
   {
    "duration": 136,
    "start_time": "2024-11-08T23:53:52.356Z"
   },
   {
    "duration": 176,
    "start_time": "2024-11-08T23:54:26.480Z"
   },
   {
    "duration": 145,
    "start_time": "2024-11-08T23:54:31.748Z"
   },
   {
    "duration": 169,
    "start_time": "2024-11-08T23:54:37.451Z"
   },
   {
    "duration": 133,
    "start_time": "2024-11-08T23:54:45.172Z"
   },
   {
    "duration": 127,
    "start_time": "2024-11-08T23:57:16.588Z"
   },
   {
    "duration": 4,
    "start_time": "2024-11-08T23:57:17.359Z"
   },
   {
    "duration": 147,
    "start_time": "2024-11-08T23:57:35.947Z"
   },
   {
    "duration": 165,
    "start_time": "2024-11-08T23:57:52.244Z"
   },
   {
    "duration": 164,
    "start_time": "2024-11-08T23:57:58.602Z"
   },
   {
    "duration": 143,
    "start_time": "2024-11-08T23:58:03.192Z"
   },
   {
    "duration": 158,
    "start_time": "2024-11-08T23:58:07.243Z"
   },
   {
    "duration": 162,
    "start_time": "2024-11-08T23:58:10.513Z"
   },
   {
    "duration": 158,
    "start_time": "2024-11-08T23:58:13.785Z"
   },
   {
    "duration": 490,
    "start_time": "2024-11-08T23:58:21.574Z"
   },
   {
    "duration": 124,
    "start_time": "2024-11-08T23:58:45.280Z"
   },
   {
    "duration": 199,
    "start_time": "2024-11-08T23:58:56.568Z"
   },
   {
    "duration": 204,
    "start_time": "2024-11-08T23:59:01.772Z"
   },
   {
    "duration": 65,
    "start_time": "2024-11-08T23:59:12.404Z"
   },
   {
    "duration": 247,
    "start_time": "2024-11-09T00:00:06.754Z"
   },
   {
    "duration": 643,
    "start_time": "2024-11-09T00:00:09.885Z"
   },
   {
    "duration": 102267,
    "start_time": "2024-11-09T00:00:20.696Z"
   },
   {
    "duration": 136,
    "start_time": "2024-11-09T00:02:02.965Z"
   },
   {
    "duration": 171,
    "start_time": "2024-11-09T00:02:37.231Z"
   },
   {
    "duration": 143,
    "start_time": "2024-11-09T00:02:45.760Z"
   },
   {
    "duration": 178,
    "start_time": "2024-11-09T00:03:38.811Z"
   },
   {
    "duration": 144,
    "start_time": "2024-11-09T00:03:52.478Z"
   },
   {
    "duration": 138,
    "start_time": "2024-11-09T00:04:21.595Z"
   },
   {
    "duration": 161,
    "start_time": "2024-11-09T00:04:22.935Z"
   },
   {
    "duration": 160,
    "start_time": "2024-11-09T00:04:24.146Z"
   },
   {
    "duration": 292,
    "start_time": "2024-11-09T00:04:30.485Z"
   },
   {
    "duration": 178,
    "start_time": "2024-11-09T00:04:36.190Z"
   },
   {
    "duration": 25,
    "start_time": "2024-11-09T00:04:46.382Z"
   },
   {
    "duration": 160,
    "start_time": "2024-11-09T00:04:56.378Z"
   },
   {
    "duration": 216,
    "start_time": "2024-11-09T00:04:59.959Z"
   },
   {
    "duration": 154,
    "start_time": "2024-11-09T00:05:05.648Z"
   },
   {
    "duration": 153,
    "start_time": "2024-11-09T00:05:09.242Z"
   },
   {
    "duration": 183,
    "start_time": "2024-11-09T00:05:14.289Z"
   },
   {
    "duration": 203,
    "start_time": "2024-11-09T00:05:36.344Z"
   },
   {
    "duration": 24,
    "start_time": "2024-11-09T05:09:23.561Z"
   },
   {
    "duration": 913,
    "start_time": "2024-11-09T05:09:37.925Z"
   },
   {
    "duration": 16,
    "start_time": "2024-11-09T05:09:38.841Z"
   },
   {
    "duration": 12,
    "start_time": "2024-11-09T05:09:38.859Z"
   },
   {
    "duration": 10,
    "start_time": "2024-11-09T05:09:38.874Z"
   },
   {
    "duration": 95,
    "start_time": "2024-11-09T05:09:38.887Z"
   },
   {
    "duration": 9,
    "start_time": "2024-11-09T05:09:38.984Z"
   },
   {
    "duration": 6,
    "start_time": "2024-11-09T05:09:38.995Z"
   },
   {
    "duration": 22,
    "start_time": "2024-11-09T05:09:39.003Z"
   },
   {
    "duration": 4,
    "start_time": "2024-11-09T05:09:39.027Z"
   },
   {
    "duration": 6,
    "start_time": "2024-11-09T05:09:39.033Z"
   },
   {
    "duration": 4,
    "start_time": "2024-11-09T05:09:39.041Z"
   },
   {
    "duration": 3,
    "start_time": "2024-11-09T05:09:39.047Z"
   },
   {
    "duration": 14,
    "start_time": "2024-11-09T05:09:39.052Z"
   },
   {
    "duration": 189,
    "start_time": "2024-11-09T05:09:39.069Z"
   },
   {
    "duration": 140,
    "start_time": "2024-11-09T05:09:39.261Z"
   },
   {
    "duration": 182,
    "start_time": "2024-11-09T05:09:39.403Z"
   },
   {
    "duration": 4,
    "start_time": "2024-11-09T05:09:39.587Z"
   },
   {
    "duration": 6,
    "start_time": "2024-11-09T05:09:39.593Z"
   },
   {
    "duration": 3,
    "start_time": "2024-11-09T05:09:39.601Z"
   },
   {
    "duration": 3,
    "start_time": "2024-11-09T05:09:39.624Z"
   },
   {
    "duration": 9,
    "start_time": "2024-11-09T05:09:39.630Z"
   },
   {
    "duration": 6,
    "start_time": "2024-11-09T05:09:39.641Z"
   },
   {
    "duration": 153,
    "start_time": "2024-11-09T05:09:44.935Z"
   },
   {
    "duration": 3,
    "start_time": "2024-11-09T05:10:05.071Z"
   },
   {
    "duration": 24,
    "start_time": "2024-11-09T05:10:05.077Z"
   },
   {
    "duration": 13,
    "start_time": "2024-11-09T05:10:05.103Z"
   },
   {
    "duration": 11,
    "start_time": "2024-11-09T05:10:05.117Z"
   },
   {
    "duration": 32,
    "start_time": "2024-11-09T05:10:05.131Z"
   },
   {
    "duration": 11,
    "start_time": "2024-11-09T05:10:05.165Z"
   },
   {
    "duration": 4,
    "start_time": "2024-11-09T05:10:05.177Z"
   },
   {
    "duration": 6,
    "start_time": "2024-11-09T05:10:05.184Z"
   },
   {
    "duration": 33,
    "start_time": "2024-11-09T05:10:05.191Z"
   },
   {
    "duration": 8,
    "start_time": "2024-11-09T05:10:05.226Z"
   },
   {
    "duration": 6,
    "start_time": "2024-11-09T05:10:05.237Z"
   },
   {
    "duration": 4,
    "start_time": "2024-11-09T05:10:05.244Z"
   },
   {
    "duration": 14,
    "start_time": "2024-11-09T05:10:05.252Z"
   },
   {
    "duration": 152,
    "start_time": "2024-11-09T05:10:05.267Z"
   },
   {
    "duration": 145,
    "start_time": "2024-11-09T05:10:05.420Z"
   },
   {
    "duration": 168,
    "start_time": "2024-11-09T05:10:05.567Z"
   },
   {
    "duration": 3,
    "start_time": "2024-11-09T05:10:05.737Z"
   },
   {
    "duration": 8,
    "start_time": "2024-11-09T05:10:05.742Z"
   },
   {
    "duration": 3,
    "start_time": "2024-11-09T05:10:05.752Z"
   },
   {
    "duration": 3,
    "start_time": "2024-11-09T05:10:05.757Z"
   },
   {
    "duration": 8,
    "start_time": "2024-11-09T05:10:05.762Z"
   },
   {
    "duration": 4,
    "start_time": "2024-11-09T05:10:05.772Z"
   },
   {
    "duration": 32,
    "start_time": "2024-11-09T05:10:18.028Z"
   },
   {
    "duration": 39,
    "start_time": "2024-11-09T05:10:28.757Z"
   },
   {
    "duration": 1069,
    "start_time": "2024-11-09T05:11:28.799Z"
   },
   {
    "duration": 21,
    "start_time": "2024-11-09T05:11:29.871Z"
   },
   {
    "duration": 15,
    "start_time": "2024-11-09T05:11:29.896Z"
   },
   {
    "duration": 22,
    "start_time": "2024-11-09T05:11:29.913Z"
   },
   {
    "duration": 109,
    "start_time": "2024-11-09T05:11:29.939Z"
   },
   {
    "duration": 10,
    "start_time": "2024-11-09T05:11:30.050Z"
   },
   {
    "duration": 5,
    "start_time": "2024-11-09T05:11:30.062Z"
   },
   {
    "duration": 6,
    "start_time": "2024-11-09T05:11:30.068Z"
   },
   {
    "duration": 12,
    "start_time": "2024-11-09T05:11:30.076Z"
   },
   {
    "duration": 6,
    "start_time": "2024-11-09T05:11:30.094Z"
   },
   {
    "duration": 24,
    "start_time": "2024-11-09T05:11:30.102Z"
   },
   {
    "duration": 4,
    "start_time": "2024-11-09T05:11:30.128Z"
   },
   {
    "duration": 9,
    "start_time": "2024-11-09T05:11:30.134Z"
   },
   {
    "duration": 16,
    "start_time": "2024-11-09T05:11:30.147Z"
   },
   {
    "duration": 175,
    "start_time": "2024-11-09T05:11:30.165Z"
   },
   {
    "duration": 169,
    "start_time": "2024-11-09T05:11:30.342Z"
   },
   {
    "duration": 176,
    "start_time": "2024-11-09T05:11:30.513Z"
   },
   {
    "duration": 5,
    "start_time": "2024-11-09T05:11:30.691Z"
   },
   {
    "duration": 8,
    "start_time": "2024-11-09T05:11:30.697Z"
   },
   {
    "duration": 4,
    "start_time": "2024-11-09T05:11:30.723Z"
   },
   {
    "duration": 5,
    "start_time": "2024-11-09T05:11:30.732Z"
   },
   {
    "duration": 12,
    "start_time": "2024-11-09T05:11:30.739Z"
   },
   {
    "duration": 1490,
    "start_time": "2024-11-09T05:11:35.414Z"
   },
   {
    "duration": 9274,
    "start_time": "2024-11-09T05:11:39.969Z"
   },
   {
    "duration": 8610,
    "start_time": "2024-11-09T05:12:19.562Z"
   },
   {
    "duration": 875,
    "start_time": "2024-11-09T05:13:07.978Z"
   },
   {
    "duration": 7,
    "start_time": "2024-11-09T05:14:15.022Z"
   },
   {
    "duration": 4,
    "start_time": "2024-11-09T05:14:16.019Z"
   },
   {
    "duration": 4,
    "start_time": "2024-11-09T05:14:16.756Z"
   },
   {
    "duration": 1122,
    "start_time": "2024-11-09T05:18:00.675Z"
   },
   {
    "duration": 1101,
    "start_time": "2024-11-09T05:18:41.606Z"
   },
   {
    "duration": 20,
    "start_time": "2024-11-09T05:18:42.712Z"
   },
   {
    "duration": 14,
    "start_time": "2024-11-09T05:18:42.734Z"
   },
   {
    "duration": 15,
    "start_time": "2024-11-09T05:18:42.750Z"
   },
   {
    "duration": 104,
    "start_time": "2024-11-09T05:18:42.769Z"
   },
   {
    "duration": 11,
    "start_time": "2024-11-09T05:18:42.875Z"
   },
   {
    "duration": 5,
    "start_time": "2024-11-09T05:18:42.887Z"
   },
   {
    "duration": 6,
    "start_time": "2024-11-09T05:18:42.894Z"
   },
   {
    "duration": 3,
    "start_time": "2024-11-09T05:18:42.924Z"
   },
   {
    "duration": 7,
    "start_time": "2024-11-09T05:18:42.929Z"
   },
   {
    "duration": 4,
    "start_time": "2024-11-09T05:18:42.938Z"
   },
   {
    "duration": 87,
    "start_time": "2024-11-09T05:18:42.944Z"
   },
   {
    "duration": 1216,
    "start_time": "2024-11-09T05:18:43.033Z"
   },
   {
    "duration": 0,
    "start_time": "2024-11-09T05:18:44.251Z"
   },
   {
    "duration": 0,
    "start_time": "2024-11-09T05:18:44.252Z"
   },
   {
    "duration": 0,
    "start_time": "2024-11-09T05:18:44.254Z"
   },
   {
    "duration": 0,
    "start_time": "2024-11-09T05:18:44.255Z"
   },
   {
    "duration": 0,
    "start_time": "2024-11-09T05:18:44.256Z"
   },
   {
    "duration": 0,
    "start_time": "2024-11-09T05:18:44.257Z"
   },
   {
    "duration": 0,
    "start_time": "2024-11-09T05:18:44.258Z"
   },
   {
    "duration": 0,
    "start_time": "2024-11-09T05:18:44.259Z"
   },
   {
    "duration": 0,
    "start_time": "2024-11-09T05:18:44.260Z"
   },
   {
    "duration": 51,
    "start_time": "2024-11-09T05:19:15.290Z"
   },
   {
    "duration": 1067,
    "start_time": "2024-11-09T05:19:31.191Z"
   },
   {
    "duration": 24,
    "start_time": "2024-11-09T05:19:32.263Z"
   },
   {
    "duration": 18,
    "start_time": "2024-11-09T05:19:32.289Z"
   },
   {
    "duration": 26,
    "start_time": "2024-11-09T05:19:32.309Z"
   },
   {
    "duration": 101,
    "start_time": "2024-11-09T05:19:32.339Z"
   },
   {
    "duration": 11,
    "start_time": "2024-11-09T05:19:32.442Z"
   },
   {
    "duration": 8,
    "start_time": "2024-11-09T05:19:32.454Z"
   },
   {
    "duration": 10,
    "start_time": "2024-11-09T05:19:32.464Z"
   },
   {
    "duration": 5,
    "start_time": "2024-11-09T05:19:32.477Z"
   },
   {
    "duration": 7,
    "start_time": "2024-11-09T05:19:32.484Z"
   },
   {
    "duration": 4,
    "start_time": "2024-11-09T05:19:32.492Z"
   },
   {
    "duration": 29,
    "start_time": "2024-11-09T05:19:32.498Z"
   },
   {
    "duration": 10,
    "start_time": "2024-11-09T05:19:32.532Z"
   },
   {
    "duration": 17,
    "start_time": "2024-11-09T05:19:40.301Z"
   },
   {
    "duration": 147,
    "start_time": "2024-11-09T05:19:40.921Z"
   },
   {
    "duration": 136,
    "start_time": "2024-11-09T05:19:41.701Z"
   },
   {
    "duration": 173,
    "start_time": "2024-11-09T05:19:42.491Z"
   },
   {
    "duration": 4,
    "start_time": "2024-11-09T05:19:53.813Z"
   },
   {
    "duration": 9,
    "start_time": "2024-11-09T05:19:55.378Z"
   },
   {
    "duration": 3,
    "start_time": "2024-11-09T05:19:55.863Z"
   },
   {
    "duration": 4,
    "start_time": "2024-11-09T05:19:56.305Z"
   },
   {
    "duration": 6,
    "start_time": "2024-11-09T05:20:00.143Z"
   },
   {
    "duration": 562,
    "start_time": "2024-11-09T05:20:11.082Z"
   },
   {
    "duration": 2097,
    "start_time": "2024-11-09T05:20:16.739Z"
   },
   {
    "duration": 687,
    "start_time": "2024-11-09T05:20:31.530Z"
   },
   {
    "duration": 705,
    "start_time": "2024-11-09T05:20:51.879Z"
   },
   {
    "duration": 653,
    "start_time": "2024-11-09T05:21:01.641Z"
   },
   {
    "duration": 634,
    "start_time": "2024-11-09T05:21:06.137Z"
   },
   {
    "duration": 651,
    "start_time": "2024-11-09T05:21:10.792Z"
   },
   {
    "duration": 639,
    "start_time": "2024-11-09T05:21:15.288Z"
   },
   {
    "duration": 677,
    "start_time": "2024-11-09T05:21:21.120Z"
   },
   {
    "duration": 630,
    "start_time": "2024-11-09T05:21:26.087Z"
   },
   {
    "duration": 646,
    "start_time": "2024-11-09T05:21:30.578Z"
   },
   {
    "duration": 1277,
    "start_time": "2024-11-09T05:21:36.158Z"
   },
   {
    "duration": 1927,
    "start_time": "2024-11-09T05:21:40.988Z"
   },
   {
    "duration": 652,
    "start_time": "2024-11-09T05:21:47.421Z"
   },
   {
    "duration": 899,
    "start_time": "2024-11-09T05:24:21.884Z"
   },
   {
    "duration": 15,
    "start_time": "2024-11-09T05:24:22.785Z"
   },
   {
    "duration": 26,
    "start_time": "2024-11-09T05:24:22.801Z"
   },
   {
    "duration": 12,
    "start_time": "2024-11-09T05:24:22.830Z"
   },
   {
    "duration": 104,
    "start_time": "2024-11-09T05:24:22.844Z"
   },
   {
    "duration": 8,
    "start_time": "2024-11-09T05:24:22.950Z"
   },
   {
    "duration": 4,
    "start_time": "2024-11-09T05:24:22.961Z"
   },
   {
    "duration": 6,
    "start_time": "2024-11-09T05:24:22.967Z"
   },
   {
    "duration": 4,
    "start_time": "2024-11-09T05:24:22.975Z"
   },
   {
    "duration": 7,
    "start_time": "2024-11-09T05:24:22.980Z"
   },
   {
    "duration": 35,
    "start_time": "2024-11-09T05:24:22.989Z"
   },
   {
    "duration": 4,
    "start_time": "2024-11-09T05:24:23.025Z"
   },
   {
    "duration": 11,
    "start_time": "2024-11-09T05:24:23.032Z"
   },
   {
    "duration": 17,
    "start_time": "2024-11-09T05:24:23.046Z"
   },
   {
    "duration": 146,
    "start_time": "2024-11-09T05:24:23.064Z"
   },
   {
    "duration": 144,
    "start_time": "2024-11-09T05:24:23.211Z"
   },
   {
    "duration": 183,
    "start_time": "2024-11-09T05:24:23.357Z"
   },
   {
    "duration": 5,
    "start_time": "2024-11-09T05:24:23.543Z"
   },
   {
    "duration": 7,
    "start_time": "2024-11-09T05:24:23.550Z"
   },
   {
    "duration": 4,
    "start_time": "2024-11-09T05:24:23.558Z"
   },
   {
    "duration": 3,
    "start_time": "2024-11-09T05:24:23.564Z"
   },
   {
    "duration": 5,
    "start_time": "2024-11-09T05:24:23.569Z"
   },
   {
    "duration": 5187550,
    "start_time": "2024-11-09T05:24:23.576Z"
   },
   {
    "duration": 569,
    "start_time": "2024-11-09T06:50:51.128Z"
   },
   {
    "duration": 3648,
    "start_time": "2024-11-09T06:50:51.699Z"
   },
   {
    "duration": 759,
    "start_time": "2024-11-09T06:50:55.348Z"
   },
   {
    "duration": 889,
    "start_time": "2024-11-09T08:18:04.524Z"
   },
   {
    "duration": 21,
    "start_time": "2024-11-09T08:18:05.415Z"
   },
   {
    "duration": 13,
    "start_time": "2024-11-09T08:18:05.438Z"
   },
   {
    "duration": 10,
    "start_time": "2024-11-09T08:18:05.454Z"
   },
   {
    "duration": 87,
    "start_time": "2024-11-09T08:18:05.465Z"
   },
   {
    "duration": 9,
    "start_time": "2024-11-09T08:18:05.553Z"
   },
   {
    "duration": 5,
    "start_time": "2024-11-09T08:18:05.563Z"
   },
   {
    "duration": 6,
    "start_time": "2024-11-09T08:18:05.570Z"
   },
   {
    "duration": 4,
    "start_time": "2024-11-09T08:18:05.578Z"
   },
   {
    "duration": 39,
    "start_time": "2024-11-09T08:18:05.586Z"
   },
   {
    "duration": 4,
    "start_time": "2024-11-09T08:18:05.627Z"
   },
   {
    "duration": 3,
    "start_time": "2024-11-09T08:18:05.634Z"
   },
   {
    "duration": 9,
    "start_time": "2024-11-09T08:18:05.639Z"
   },
   {
    "duration": 14,
    "start_time": "2024-11-09T08:18:05.650Z"
   },
   {
    "duration": 167,
    "start_time": "2024-11-09T08:18:05.666Z"
   },
   {
    "duration": 143,
    "start_time": "2024-11-09T08:18:05.835Z"
   },
   {
    "duration": 177,
    "start_time": "2024-11-09T08:18:05.981Z"
   },
   {
    "duration": 4,
    "start_time": "2024-11-09T08:18:06.160Z"
   },
   {
    "duration": 6,
    "start_time": "2024-11-09T08:18:06.167Z"
   },
   {
    "duration": 3,
    "start_time": "2024-11-09T08:18:06.175Z"
   },
   {
    "duration": 3,
    "start_time": "2024-11-09T08:18:06.180Z"
   },
   {
    "duration": 5,
    "start_time": "2024-11-09T08:18:06.184Z"
   },
   {
    "duration": 5180943,
    "start_time": "2024-11-09T08:18:06.191Z"
   },
   {
    "duration": 601,
    "start_time": "2024-11-09T09:44:27.138Z"
   },
   {
    "duration": 3807,
    "start_time": "2024-11-09T09:44:27.741Z"
   },
   {
    "duration": 758,
    "start_time": "2024-11-09T09:44:31.553Z"
   },
   {
    "duration": 164,
    "start_time": "2024-11-11T04:35:51.851Z"
   },
   {
    "duration": 2661,
    "start_time": "2024-11-11T04:36:04.477Z"
   },
   {
    "duration": 29,
    "start_time": "2024-11-11T04:36:07.140Z"
   },
   {
    "duration": 12,
    "start_time": "2024-11-11T04:36:07.170Z"
   },
   {
    "duration": 10,
    "start_time": "2024-11-11T04:36:07.184Z"
   },
   {
    "duration": 29,
    "start_time": "2024-11-11T04:36:07.198Z"
   },
   {
    "duration": 8,
    "start_time": "2024-11-11T04:36:07.229Z"
   },
   {
    "duration": 4,
    "start_time": "2024-11-11T04:36:07.239Z"
   },
   {
    "duration": 6,
    "start_time": "2024-11-11T04:36:07.245Z"
   },
   {
    "duration": 36,
    "start_time": "2024-11-11T04:36:07.252Z"
   },
   {
    "duration": 6,
    "start_time": "2024-11-11T04:36:07.290Z"
   },
   {
    "duration": 4,
    "start_time": "2024-11-11T04:36:07.298Z"
   },
   {
    "duration": 3,
    "start_time": "2024-11-11T04:36:07.304Z"
   },
   {
    "duration": 8,
    "start_time": "2024-11-11T04:36:07.309Z"
   },
   {
    "duration": 15,
    "start_time": "2024-11-11T04:36:07.320Z"
   },
   {
    "duration": 173,
    "start_time": "2024-11-11T04:36:07.336Z"
   },
   {
    "duration": 155,
    "start_time": "2024-11-11T04:36:07.511Z"
   },
   {
    "duration": 172,
    "start_time": "2024-11-11T04:36:07.668Z"
   },
   {
    "duration": 4,
    "start_time": "2024-11-11T04:36:07.843Z"
   },
   {
    "duration": 13,
    "start_time": "2024-11-11T04:36:07.849Z"
   },
   {
    "duration": 3,
    "start_time": "2024-11-11T04:36:07.864Z"
   },
   {
    "duration": 3,
    "start_time": "2024-11-11T04:36:07.887Z"
   },
   {
    "duration": 5,
    "start_time": "2024-11-11T04:36:07.892Z"
   },
   {
    "duration": 713,
    "start_time": "2024-11-11T04:37:31.583Z"
   },
   {
    "duration": 942,
    "start_time": "2024-11-11T05:24:00.103Z"
   },
   {
    "duration": 4,
    "start_time": "2024-11-11T05:24:12.171Z"
   },
   {
    "duration": 18,
    "start_time": "2024-11-11T05:24:12.177Z"
   },
   {
    "duration": 13,
    "start_time": "2024-11-11T05:24:12.196Z"
   },
   {
    "duration": 11,
    "start_time": "2024-11-11T05:24:12.211Z"
   },
   {
    "duration": 101,
    "start_time": "2024-11-11T05:24:12.224Z"
   },
   {
    "duration": 8,
    "start_time": "2024-11-11T05:24:12.327Z"
   },
   {
    "duration": 5,
    "start_time": "2024-11-11T05:24:12.336Z"
   },
   {
    "duration": 7,
    "start_time": "2024-11-11T05:24:12.342Z"
   },
   {
    "duration": 3,
    "start_time": "2024-11-11T05:24:12.352Z"
   },
   {
    "duration": 33,
    "start_time": "2024-11-11T05:24:12.357Z"
   },
   {
    "duration": 4,
    "start_time": "2024-11-11T05:24:12.393Z"
   },
   {
    "duration": 3,
    "start_time": "2024-11-11T05:24:12.398Z"
   },
   {
    "duration": 8,
    "start_time": "2024-11-11T05:24:12.403Z"
   },
   {
    "duration": 14,
    "start_time": "2024-11-11T05:24:12.413Z"
   },
   {
    "duration": 165,
    "start_time": "2024-11-11T05:24:12.428Z"
   },
   {
    "duration": 147,
    "start_time": "2024-11-11T05:24:12.594Z"
   },
   {
    "duration": 177,
    "start_time": "2024-11-11T05:24:12.743Z"
   },
   {
    "duration": 3,
    "start_time": "2024-11-11T05:24:20.919Z"
   },
   {
    "duration": 15,
    "start_time": "2024-11-11T05:24:20.925Z"
   },
   {
    "duration": 10,
    "start_time": "2024-11-11T05:24:20.942Z"
   },
   {
    "duration": 11,
    "start_time": "2024-11-11T05:24:20.955Z"
   },
   {
    "duration": 27,
    "start_time": "2024-11-11T05:24:20.969Z"
   },
   {
    "duration": 9,
    "start_time": "2024-11-11T05:24:20.998Z"
   },
   {
    "duration": 4,
    "start_time": "2024-11-11T05:24:21.008Z"
   },
   {
    "duration": 6,
    "start_time": "2024-11-11T05:24:21.014Z"
   },
   {
    "duration": 4,
    "start_time": "2024-11-11T05:24:21.022Z"
   },
   {
    "duration": 7,
    "start_time": "2024-11-11T05:24:21.027Z"
   },
   {
    "duration": 4,
    "start_time": "2024-11-11T05:24:21.037Z"
   },
   {
    "duration": 46,
    "start_time": "2024-11-11T05:24:21.042Z"
   },
   {
    "duration": 8,
    "start_time": "2024-11-11T05:24:21.089Z"
   },
   {
    "duration": 15,
    "start_time": "2024-11-11T05:24:21.098Z"
   },
   {
    "duration": 146,
    "start_time": "2024-11-11T05:24:21.115Z"
   },
   {
    "duration": 146,
    "start_time": "2024-11-11T05:24:21.263Z"
   },
   {
    "duration": 171,
    "start_time": "2024-11-11T05:24:21.411Z"
   },
   {
    "duration": 5,
    "start_time": "2024-11-11T05:24:21.586Z"
   },
   {
    "duration": 7,
    "start_time": "2024-11-11T05:24:21.594Z"
   },
   {
    "duration": 2,
    "start_time": "2024-11-11T05:24:21.603Z"
   },
   {
    "duration": 3,
    "start_time": "2024-11-11T05:24:21.606Z"
   },
   {
    "duration": 5,
    "start_time": "2024-11-11T05:24:21.611Z"
   },
   {
    "duration": 400,
    "start_time": "2024-11-11T05:24:31.035Z"
   },
   {
    "duration": 923,
    "start_time": "2024-11-11T05:55:07.734Z"
   },
   {
    "duration": 15,
    "start_time": "2024-11-11T05:55:08.660Z"
   },
   {
    "duration": 17,
    "start_time": "2024-11-11T05:55:08.677Z"
   },
   {
    "duration": 10,
    "start_time": "2024-11-11T05:55:08.696Z"
   },
   {
    "duration": 89,
    "start_time": "2024-11-11T05:55:08.708Z"
   },
   {
    "duration": 9,
    "start_time": "2024-11-11T05:55:08.798Z"
   },
   {
    "duration": 3,
    "start_time": "2024-11-11T05:55:08.809Z"
   },
   {
    "duration": 10,
    "start_time": "2024-11-11T05:55:08.814Z"
   },
   {
    "duration": 4,
    "start_time": "2024-11-11T05:55:08.825Z"
   },
   {
    "duration": 6,
    "start_time": "2024-11-11T05:55:08.831Z"
   },
   {
    "duration": 4,
    "start_time": "2024-11-11T05:55:08.838Z"
   },
   {
    "duration": 3,
    "start_time": "2024-11-11T05:55:08.844Z"
   },
   {
    "duration": 9,
    "start_time": "2024-11-11T05:55:08.886Z"
   },
   {
    "duration": 15,
    "start_time": "2024-11-11T05:55:08.899Z"
   },
   {
    "duration": 155,
    "start_time": "2024-11-11T05:55:08.915Z"
   },
   {
    "duration": 141,
    "start_time": "2024-11-11T05:55:09.071Z"
   },
   {
    "duration": 172,
    "start_time": "2024-11-11T05:55:09.214Z"
   },
   {
    "duration": 4,
    "start_time": "2024-11-11T05:55:09.388Z"
   },
   {
    "duration": 9,
    "start_time": "2024-11-11T05:55:09.394Z"
   },
   {
    "duration": 3,
    "start_time": "2024-11-11T05:55:09.405Z"
   },
   {
    "duration": 3,
    "start_time": "2024-11-11T05:55:09.409Z"
   },
   {
    "duration": 5,
    "start_time": "2024-11-11T05:55:09.414Z"
   },
   {
    "duration": 656,
    "start_time": "2024-11-11T05:55:27.079Z"
   },
   {
    "duration": 624,
    "start_time": "2024-11-11T05:55:35.486Z"
   },
   {
    "duration": 641,
    "start_time": "2024-11-11T05:55:40.366Z"
   },
   {
    "duration": 249,
    "start_time": "2024-11-11T05:56:08.330Z"
   },
   {
    "duration": 625,
    "start_time": "2024-11-11T05:56:55.572Z"
   },
   {
    "duration": 658,
    "start_time": "2024-11-11T05:57:13.457Z"
   },
   {
    "duration": 2824,
    "start_time": "2024-11-11T05:57:25.591Z"
   },
   {
    "duration": 2698,
    "start_time": "2024-11-11T05:58:26.189Z"
   },
   {
    "duration": 3901,
    "start_time": "2024-11-11T05:58:35.593Z"
   },
   {
    "duration": 7836,
    "start_time": "2024-11-11T05:58:51.857Z"
   },
   {
    "duration": 3,
    "start_time": "2024-11-11T06:08:54.691Z"
   },
   {
    "duration": 17,
    "start_time": "2024-11-11T06:08:54.696Z"
   },
   {
    "duration": 9,
    "start_time": "2024-11-11T06:08:54.715Z"
   },
   {
    "duration": 10,
    "start_time": "2024-11-11T06:08:54.725Z"
   },
   {
    "duration": 53,
    "start_time": "2024-11-11T06:08:54.738Z"
   },
   {
    "duration": 8,
    "start_time": "2024-11-11T06:08:54.793Z"
   },
   {
    "duration": 4,
    "start_time": "2024-11-11T06:08:54.802Z"
   },
   {
    "duration": 5,
    "start_time": "2024-11-11T06:08:54.808Z"
   },
   {
    "duration": 3,
    "start_time": "2024-11-11T06:08:54.815Z"
   },
   {
    "duration": 5,
    "start_time": "2024-11-11T06:08:54.820Z"
   },
   {
    "duration": 3,
    "start_time": "2024-11-11T06:08:54.827Z"
   },
   {
    "duration": 3,
    "start_time": "2024-11-11T06:08:54.832Z"
   },
   {
    "duration": 49,
    "start_time": "2024-11-11T06:08:54.838Z"
   },
   {
    "duration": 13,
    "start_time": "2024-11-11T06:08:54.890Z"
   },
   {
    "duration": 185,
    "start_time": "2024-11-11T06:08:54.904Z"
   },
   {
    "duration": 208,
    "start_time": "2024-11-11T06:08:55.091Z"
   },
   {
    "duration": 171,
    "start_time": "2024-11-11T06:08:55.301Z"
   },
   {
    "duration": 4,
    "start_time": "2024-11-11T06:08:55.474Z"
   },
   {
    "duration": 8,
    "start_time": "2024-11-11T06:08:55.486Z"
   },
   {
    "duration": 3,
    "start_time": "2024-11-11T06:08:55.496Z"
   },
   {
    "duration": 3,
    "start_time": "2024-11-11T06:08:55.501Z"
   },
   {
    "duration": 4,
    "start_time": "2024-11-11T06:08:55.505Z"
   },
   {
    "duration": 5144497,
    "start_time": "2024-11-11T06:08:55.511Z"
   },
   {
    "duration": 5111978,
    "start_time": "2024-11-11T07:34:40.010Z"
   },
   {
    "duration": 625,
    "start_time": "2024-11-11T10:29:59.433Z"
   },
   {
    "duration": 640,
    "start_time": "2024-11-11T10:30:00.060Z"
   },
   {
    "duration": 2850,
    "start_time": "2024-11-11T10:30:00.701Z"
   },
   {
    "duration": 2650,
    "start_time": "2024-11-11T10:30:03.553Z"
   },
   {
    "duration": 3892,
    "start_time": "2024-11-11T10:30:06.205Z"
   },
   {
    "duration": 7798,
    "start_time": "2024-11-11T10:30:10.102Z"
   },
   {
    "duration": 87,
    "start_time": "2024-11-11T10:30:17.901Z"
   },
   {
    "duration": 0,
    "start_time": "2024-11-11T10:30:17.989Z"
   },
   {
    "duration": 159,
    "start_time": "2024-11-11T12:32:17.515Z"
   },
   {
    "duration": 831,
    "start_time": "2024-11-11T12:33:20.647Z"
   },
   {
    "duration": 16,
    "start_time": "2024-11-11T12:33:21.480Z"
   },
   {
    "duration": 12,
    "start_time": "2024-11-11T12:33:21.498Z"
   },
   {
    "duration": 11,
    "start_time": "2024-11-11T12:33:21.513Z"
   },
   {
    "duration": 100,
    "start_time": "2024-11-11T12:33:21.525Z"
   },
   {
    "duration": 8,
    "start_time": "2024-11-11T12:33:21.627Z"
   },
   {
    "duration": 4,
    "start_time": "2024-11-11T12:33:21.637Z"
   },
   {
    "duration": 6,
    "start_time": "2024-11-11T12:33:21.642Z"
   },
   {
    "duration": 3,
    "start_time": "2024-11-11T12:33:21.650Z"
   },
   {
    "duration": 5,
    "start_time": "2024-11-11T12:33:21.688Z"
   },
   {
    "duration": 4,
    "start_time": "2024-11-11T12:33:21.695Z"
   },
   {
    "duration": 3,
    "start_time": "2024-11-11T12:33:21.700Z"
   },
   {
    "duration": 8,
    "start_time": "2024-11-11T12:33:21.705Z"
   },
   {
    "duration": 13,
    "start_time": "2024-11-11T12:33:21.715Z"
   },
   {
    "duration": 165,
    "start_time": "2024-11-11T12:33:21.730Z"
   },
   {
    "duration": 143,
    "start_time": "2024-11-11T12:33:21.897Z"
   },
   {
    "duration": 172,
    "start_time": "2024-11-11T12:33:22.042Z"
   },
   {
    "duration": 4,
    "start_time": "2024-11-11T12:33:22.216Z"
   },
   {
    "duration": 9,
    "start_time": "2024-11-11T12:33:22.222Z"
   },
   {
    "duration": 5,
    "start_time": "2024-11-11T12:33:22.233Z"
   },
   {
    "duration": 3,
    "start_time": "2024-11-11T12:33:22.240Z"
   },
   {
    "duration": 6,
    "start_time": "2024-11-11T12:33:22.245Z"
   },
   {
    "duration": 895,
    "start_time": "2024-11-11T12:41:15.760Z"
   },
   {
    "duration": 15,
    "start_time": "2024-11-11T12:41:16.658Z"
   },
   {
    "duration": 17,
    "start_time": "2024-11-11T12:41:16.674Z"
   },
   {
    "duration": 9,
    "start_time": "2024-11-11T12:41:16.693Z"
   },
   {
    "duration": 86,
    "start_time": "2024-11-11T12:41:16.704Z"
   },
   {
    "duration": 9,
    "start_time": "2024-11-11T12:41:16.791Z"
   },
   {
    "duration": 3,
    "start_time": "2024-11-11T12:41:16.802Z"
   },
   {
    "duration": 6,
    "start_time": "2024-11-11T12:41:16.807Z"
   },
   {
    "duration": 4,
    "start_time": "2024-11-11T12:41:16.814Z"
   },
   {
    "duration": 6,
    "start_time": "2024-11-11T12:41:16.822Z"
   },
   {
    "duration": 4,
    "start_time": "2024-11-11T12:41:16.829Z"
   },
   {
    "duration": 4,
    "start_time": "2024-11-11T12:41:16.834Z"
   },
   {
    "duration": 48,
    "start_time": "2024-11-11T12:41:16.841Z"
   },
   {
    "duration": 14,
    "start_time": "2024-11-11T12:41:16.891Z"
   },
   {
    "duration": 146,
    "start_time": "2024-11-11T12:41:16.906Z"
   },
   {
    "duration": 145,
    "start_time": "2024-11-11T12:41:17.054Z"
   },
   {
    "duration": 170,
    "start_time": "2024-11-11T12:41:17.201Z"
   },
   {
    "duration": 4,
    "start_time": "2024-11-11T12:41:17.373Z"
   },
   {
    "duration": 9,
    "start_time": "2024-11-11T12:41:17.387Z"
   },
   {
    "duration": 3,
    "start_time": "2024-11-11T12:41:17.397Z"
   },
   {
    "duration": 3,
    "start_time": "2024-11-11T12:41:17.402Z"
   },
   {
    "duration": 5,
    "start_time": "2024-11-11T12:41:17.407Z"
   },
   {
    "duration": 5120179,
    "start_time": "2024-11-11T12:41:17.414Z"
   },
   {
    "duration": 5105247,
    "start_time": "2024-11-11T14:06:37.595Z"
   },
   {
    "duration": 5526264,
    "start_time": "2024-11-11T15:31:42.844Z"
   },
   {
    "duration": 646,
    "start_time": "2024-11-11T17:03:49.110Z"
   },
   {
    "duration": 659,
    "start_time": "2024-11-11T17:03:49.758Z"
   },
   {
    "duration": 2954,
    "start_time": "2024-11-11T17:03:50.421Z"
   },
   {
    "duration": 3507,
    "start_time": "2024-11-11T17:03:53.379Z"
   },
   {
    "duration": 6429,
    "start_time": "2024-11-11T17:03:56.888Z"
   },
   {
    "duration": 7901,
    "start_time": "2024-11-11T17:04:03.321Z"
   },
   {
    "duration": 536,
    "start_time": "2024-11-11T17:04:11.224Z"
   },
   {
    "duration": 36,
    "start_time": "2024-11-11T23:44:03.676Z"
   },
   {
    "duration": 6398,
    "start_time": "2024-11-11T23:50:08.908Z"
   },
   {
    "duration": 36,
    "start_time": "2024-11-11T23:52:41.700Z"
   },
   {
    "duration": 37,
    "start_time": "2024-11-11T23:53:08.668Z"
   },
   {
    "duration": 37,
    "start_time": "2024-11-11T23:54:03.635Z"
   },
   {
    "duration": 37,
    "start_time": "2024-11-11T23:54:14.069Z"
   },
   {
    "duration": 37,
    "start_time": "2024-11-11T23:54:20.072Z"
   },
   {
    "duration": 37,
    "start_time": "2024-11-11T23:54:24.640Z"
   },
   {
    "duration": 35,
    "start_time": "2024-11-11T23:54:28.907Z"
   },
   {
    "duration": 35,
    "start_time": "2024-11-11T23:55:24.664Z"
   },
   {
    "duration": 37,
    "start_time": "2024-11-11T23:57:01.401Z"
   },
   {
    "duration": 37,
    "start_time": "2024-11-11T23:57:08.625Z"
   },
   {
    "duration": 37,
    "start_time": "2024-11-11T23:57:11.971Z"
   },
   {
    "duration": 37,
    "start_time": "2024-11-11T23:57:15.178Z"
   },
   {
    "duration": 38,
    "start_time": "2024-11-11T23:57:19.011Z"
   },
   {
    "duration": 37,
    "start_time": "2024-11-11T23:57:31.312Z"
   },
   {
    "duration": 36,
    "start_time": "2024-11-11T23:57:34.517Z"
   },
   {
    "duration": 35,
    "start_time": "2024-11-11T23:57:38.702Z"
   },
   {
    "duration": 37,
    "start_time": "2024-11-11T23:57:41.907Z"
   },
   {
    "duration": 125,
    "start_time": "2024-11-12T00:00:17.919Z"
   },
   {
    "duration": 72,
    "start_time": "2024-11-12T00:00:32.101Z"
   },
   {
    "duration": 52,
    "start_time": "2024-11-12T00:00:58.112Z"
   },
   {
    "duration": 46,
    "start_time": "2024-11-12T00:01:18.824Z"
   },
   {
    "duration": 43,
    "start_time": "2024-11-12T00:01:22.880Z"
   },
   {
    "duration": 2561,
    "start_time": "2024-11-12T05:40:58.775Z"
   },
   {
    "duration": 20,
    "start_time": "2024-11-12T05:41:01.339Z"
   },
   {
    "duration": 12,
    "start_time": "2024-11-12T05:41:01.361Z"
   },
   {
    "duration": 10,
    "start_time": "2024-11-12T05:41:01.375Z"
   },
   {
    "duration": 39,
    "start_time": "2024-11-12T05:41:01.387Z"
   },
   {
    "duration": 9,
    "start_time": "2024-11-12T05:41:01.427Z"
   },
   {
    "duration": 4,
    "start_time": "2024-11-12T05:41:01.438Z"
   },
   {
    "duration": 6,
    "start_time": "2024-11-12T05:41:01.443Z"
   },
   {
    "duration": 3,
    "start_time": "2024-11-12T05:41:01.452Z"
   },
   {
    "duration": 5,
    "start_time": "2024-11-12T05:41:01.458Z"
   },
   {
    "duration": 40,
    "start_time": "2024-11-12T05:41:01.465Z"
   },
   {
    "duration": 3,
    "start_time": "2024-11-12T05:41:01.507Z"
   },
   {
    "duration": 9,
    "start_time": "2024-11-12T05:41:01.511Z"
   },
   {
    "duration": 14,
    "start_time": "2024-11-12T05:41:01.521Z"
   },
   {
    "duration": 165,
    "start_time": "2024-11-12T05:41:01.536Z"
   },
   {
    "duration": 141,
    "start_time": "2024-11-12T05:41:01.703Z"
   },
   {
    "duration": 224,
    "start_time": "2024-11-12T05:41:01.846Z"
   },
   {
    "duration": 4,
    "start_time": "2024-11-12T05:41:02.071Z"
   },
   {
    "duration": 8,
    "start_time": "2024-11-12T05:41:02.077Z"
   },
   {
    "duration": 3,
    "start_time": "2024-11-12T05:41:02.086Z"
   },
   {
    "duration": 2,
    "start_time": "2024-11-12T05:41:02.106Z"
   },
   {
    "duration": 5,
    "start_time": "2024-11-12T05:41:02.110Z"
   },
   {
    "duration": 3660,
    "start_time": "2024-11-12T05:42:16.270Z"
   },
   {
    "duration": 3750,
    "start_time": "2024-11-12T05:43:40.228Z"
   },
   {
    "duration": 3703,
    "start_time": "2024-11-12T05:45:35.461Z"
   },
   {
    "duration": 6568889,
    "start_time": "2024-11-12T05:48:56.532Z"
   },
   {
    "duration": 6,
    "start_time": "2024-11-12T07:41:04.387Z"
   },
   {
    "duration": 263,
    "start_time": "2024-11-12T07:41:36.365Z"
   },
   {
    "duration": 521,
    "start_time": "2024-11-12T07:41:57.812Z"
   },
   {
    "duration": 280,
    "start_time": "2024-11-12T07:42:02.824Z"
   },
   {
    "duration": 261,
    "start_time": "2024-11-12T07:42:07.849Z"
   },
   {
    "duration": 6518905,
    "start_time": "2024-11-12T09:39:55.200Z"
   },
   {
    "duration": 719,
    "start_time": "2024-11-12T23:03:41.562Z"
   },
   {
    "duration": 3683,
    "start_time": "2024-11-12T23:09:24.924Z"
   },
   {
    "duration": 46,
    "start_time": "2024-11-12T23:10:56.559Z"
   },
   {
    "duration": 986,
    "start_time": "2024-11-13T02:26:31.715Z"
   },
   {
    "duration": 25,
    "start_time": "2024-11-13T02:26:32.703Z"
   },
   {
    "duration": 13,
    "start_time": "2024-11-13T02:26:32.730Z"
   },
   {
    "duration": 11,
    "start_time": "2024-11-13T02:26:32.746Z"
   },
   {
    "duration": 98,
    "start_time": "2024-11-13T02:26:32.759Z"
   },
   {
    "duration": 18,
    "start_time": "2024-11-13T02:26:32.859Z"
   },
   {
    "duration": 4,
    "start_time": "2024-11-13T02:26:32.879Z"
   },
   {
    "duration": 6,
    "start_time": "2024-11-13T02:26:32.884Z"
   },
   {
    "duration": 3,
    "start_time": "2024-11-13T02:26:32.892Z"
   },
   {
    "duration": 5,
    "start_time": "2024-11-13T02:26:32.899Z"
   },
   {
    "duration": 4,
    "start_time": "2024-11-13T02:26:32.905Z"
   },
   {
    "duration": 4,
    "start_time": "2024-11-13T02:26:32.911Z"
   },
   {
    "duration": 9,
    "start_time": "2024-11-13T02:26:32.916Z"
   },
   {
    "duration": 57,
    "start_time": "2024-11-13T02:26:32.926Z"
   },
   {
    "duration": 149,
    "start_time": "2024-11-13T02:26:32.985Z"
   },
   {
    "duration": 147,
    "start_time": "2024-11-13T02:26:33.136Z"
   },
   {
    "duration": 175,
    "start_time": "2024-11-13T02:26:33.285Z"
   },
   {
    "duration": 10,
    "start_time": "2024-11-13T02:26:33.462Z"
   },
   {
    "duration": 9,
    "start_time": "2024-11-13T02:26:33.474Z"
   },
   {
    "duration": 3,
    "start_time": "2024-11-13T02:26:33.485Z"
   },
   {
    "duration": 4,
    "start_time": "2024-11-13T02:26:33.489Z"
   },
   {
    "duration": 19,
    "start_time": "2024-11-13T02:26:46.340Z"
   },
   {
    "duration": 13,
    "start_time": "2024-11-13T02:26:55.806Z"
   },
   {
    "duration": 474658,
    "start_time": "2024-11-13T02:27:42.750Z"
   },
   {
    "duration": 169,
    "start_time": "2024-11-13T05:26:03.860Z"
   },
   {
    "duration": 2657,
    "start_time": "2024-11-13T05:26:07.673Z"
   },
   {
    "duration": 26,
    "start_time": "2024-11-13T05:26:10.333Z"
   },
   {
    "duration": 14,
    "start_time": "2024-11-13T05:26:10.361Z"
   },
   {
    "duration": 13,
    "start_time": "2024-11-13T05:26:10.377Z"
   },
   {
    "duration": 27,
    "start_time": "2024-11-13T05:26:10.392Z"
   },
   {
    "duration": 11,
    "start_time": "2024-11-13T05:26:10.421Z"
   },
   {
    "duration": 4,
    "start_time": "2024-11-13T05:26:10.435Z"
   },
   {
    "duration": 32,
    "start_time": "2024-11-13T05:26:10.441Z"
   },
   {
    "duration": 4,
    "start_time": "2024-11-13T05:26:10.475Z"
   },
   {
    "duration": 6,
    "start_time": "2024-11-13T05:26:10.483Z"
   },
   {
    "duration": 3,
    "start_time": "2024-11-13T05:26:10.491Z"
   },
   {
    "duration": 3,
    "start_time": "2024-11-13T05:26:10.496Z"
   },
   {
    "duration": 7,
    "start_time": "2024-11-13T05:26:10.501Z"
   },
   {
    "duration": 14,
    "start_time": "2024-11-13T05:26:10.510Z"
   },
   {
    "duration": 175,
    "start_time": "2024-11-13T05:26:10.526Z"
   },
   {
    "duration": 206,
    "start_time": "2024-11-13T05:26:10.704Z"
   },
   {
    "duration": 183,
    "start_time": "2024-11-13T05:26:10.913Z"
   },
   {
    "duration": 4,
    "start_time": "2024-11-13T05:26:11.098Z"
   },
   {
    "duration": 9,
    "start_time": "2024-11-13T05:26:11.104Z"
   },
   {
    "duration": 3,
    "start_time": "2024-11-13T05:26:11.114Z"
   },
   {
    "duration": 3,
    "start_time": "2024-11-13T05:26:11.119Z"
   },
   {
    "duration": 6,
    "start_time": "2024-11-13T05:26:11.123Z"
   },
   {
    "duration": 904,
    "start_time": "2024-11-13T06:51:14.796Z"
   },
   {
    "duration": 16,
    "start_time": "2024-11-13T06:51:15.703Z"
   },
   {
    "duration": 11,
    "start_time": "2024-11-13T06:51:15.722Z"
   },
   {
    "duration": 12,
    "start_time": "2024-11-13T06:51:15.734Z"
   },
   {
    "duration": 92,
    "start_time": "2024-11-13T06:51:15.749Z"
   },
   {
    "duration": 8,
    "start_time": "2024-11-13T06:51:15.843Z"
   },
   {
    "duration": 21,
    "start_time": "2024-11-13T06:51:15.852Z"
   },
   {
    "duration": 6,
    "start_time": "2024-11-13T06:51:15.876Z"
   },
   {
    "duration": 3,
    "start_time": "2024-11-13T06:51:15.883Z"
   },
   {
    "duration": 7,
    "start_time": "2024-11-13T06:51:15.888Z"
   },
   {
    "duration": 5,
    "start_time": "2024-11-13T06:51:15.897Z"
   },
   {
    "duration": 3,
    "start_time": "2024-11-13T06:51:15.904Z"
   },
   {
    "duration": 9,
    "start_time": "2024-11-13T06:51:15.909Z"
   },
   {
    "duration": 53,
    "start_time": "2024-11-13T06:51:15.922Z"
   },
   {
    "duration": 139,
    "start_time": "2024-11-13T06:51:15.977Z"
   },
   {
    "duration": 144,
    "start_time": "2024-11-13T06:51:16.118Z"
   },
   {
    "duration": 187,
    "start_time": "2024-11-13T06:51:16.264Z"
   },
   {
    "duration": 16,
    "start_time": "2024-11-13T06:51:16.454Z"
   },
   {
    "duration": 8,
    "start_time": "2024-11-13T06:51:19.245Z"
   },
   {
    "duration": 3,
    "start_time": "2024-11-13T06:51:22.215Z"
   },
   {
    "duration": 3,
    "start_time": "2024-11-13T06:51:23.371Z"
   },
   {
    "duration": 10,
    "start_time": "2024-11-13T06:53:12.910Z"
   },
   {
    "duration": 3,
    "start_time": "2024-11-13T06:53:13.883Z"
   },
   {
    "duration": 2,
    "start_time": "2024-11-13T06:53:14.756Z"
   },
   {
    "duration": 10,
    "start_time": "2024-11-13T06:53:19.245Z"
   },
   {
    "duration": 3,
    "start_time": "2024-11-13T06:53:19.995Z"
   },
   {
    "duration": 3,
    "start_time": "2024-11-13T06:53:20.840Z"
   },
   {
    "duration": 3,
    "start_time": "2024-11-13T06:53:48.632Z"
   },
   {
    "duration": 250,
    "start_time": "2024-11-13T07:36:46.412Z"
   },
   {
    "duration": 9,
    "start_time": "2024-11-13T07:37:08.466Z"
   },
   {
    "duration": 3,
    "start_time": "2024-11-13T07:37:10.473Z"
   },
   {
    "duration": 3,
    "start_time": "2024-11-13T07:37:11.135Z"
   },
   {
    "duration": 1482,
    "start_time": "2024-11-13T07:37:18.907Z"
   },
   {
    "duration": 1610,
    "start_time": "2024-11-13T07:37:24.431Z"
   },
   {
    "duration": 4487,
    "start_time": "2024-11-13T07:37:28.863Z"
   },
   {
    "duration": 5056,
    "start_time": "2024-11-13T07:37:36.123Z"
   },
   {
    "duration": 4823,
    "start_time": "2024-11-13T07:37:47.851Z"
   },
   {
    "duration": 8905,
    "start_time": "2024-11-13T07:37:56.291Z"
   },
   {
    "duration": 5,
    "start_time": "2024-11-13T07:38:51.447Z"
   },
   {
    "duration": 9,
    "start_time": "2024-11-13T07:41:33.479Z"
   },
   {
    "duration": 15,
    "start_time": "2024-11-13T07:41:33.491Z"
   },
   {
    "duration": 10,
    "start_time": "2024-11-13T07:41:33.508Z"
   },
   {
    "duration": 9,
    "start_time": "2024-11-13T07:41:33.520Z"
   },
   {
    "duration": 44,
    "start_time": "2024-11-13T07:41:33.531Z"
   },
   {
    "duration": 9,
    "start_time": "2024-11-13T07:41:33.576Z"
   },
   {
    "duration": 3,
    "start_time": "2024-11-13T07:41:33.587Z"
   },
   {
    "duration": 6,
    "start_time": "2024-11-13T07:41:33.593Z"
   },
   {
    "duration": 3,
    "start_time": "2024-11-13T07:41:33.600Z"
   },
   {
    "duration": 5,
    "start_time": "2024-11-13T07:41:33.608Z"
   },
   {
    "duration": 4,
    "start_time": "2024-11-13T07:41:33.614Z"
   },
   {
    "duration": 3,
    "start_time": "2024-11-13T07:41:33.620Z"
   },
   {
    "duration": 51,
    "start_time": "2024-11-13T07:41:33.625Z"
   },
   {
    "duration": 13,
    "start_time": "2024-11-13T07:41:33.677Z"
   },
   {
    "duration": 149,
    "start_time": "2024-11-13T07:41:33.692Z"
   },
   {
    "duration": 222,
    "start_time": "2024-11-13T07:41:33.843Z"
   },
   {
    "duration": 166,
    "start_time": "2024-11-13T07:41:34.070Z"
   },
   {
    "duration": 5,
    "start_time": "2024-11-13T07:41:34.238Z"
   },
   {
    "duration": 9,
    "start_time": "2024-11-13T07:41:34.244Z"
   },
   {
    "duration": 17,
    "start_time": "2024-11-13T07:41:34.254Z"
   },
   {
    "duration": 3,
    "start_time": "2024-11-13T07:41:34.273Z"
   },
   {
    "duration": 5,
    "start_time": "2024-11-13T07:41:34.278Z"
   },
   {
    "duration": 165,
    "start_time": "2024-11-13T10:02:14.092Z"
   },
   {
    "duration": 17,
    "start_time": "2024-11-13T10:02:14.770Z"
   },
   {
    "duration": 18,
    "start_time": "2024-11-13T10:02:15.236Z"
   },
   {
    "duration": 880,
    "start_time": "2024-11-13T10:05:43.492Z"
   },
   {
    "duration": 16,
    "start_time": "2024-11-13T10:05:44.374Z"
   },
   {
    "duration": 12,
    "start_time": "2024-11-13T10:05:44.392Z"
   },
   {
    "duration": 10,
    "start_time": "2024-11-13T10:05:44.407Z"
   },
   {
    "duration": 96,
    "start_time": "2024-11-13T10:05:44.419Z"
   },
   {
    "duration": 9,
    "start_time": "2024-11-13T10:05:44.516Z"
   },
   {
    "duration": 4,
    "start_time": "2024-11-13T10:05:44.526Z"
   },
   {
    "duration": 7,
    "start_time": "2024-11-13T10:05:44.532Z"
   },
   {
    "duration": 3,
    "start_time": "2024-11-13T10:05:44.540Z"
   },
   {
    "duration": 6,
    "start_time": "2024-11-13T10:05:44.570Z"
   },
   {
    "duration": 4,
    "start_time": "2024-11-13T10:05:44.578Z"
   },
   {
    "duration": 4,
    "start_time": "2024-11-13T10:05:44.583Z"
   },
   {
    "duration": 8,
    "start_time": "2024-11-13T10:05:44.588Z"
   },
   {
    "duration": 14,
    "start_time": "2024-11-13T10:05:44.597Z"
   },
   {
    "duration": 173,
    "start_time": "2024-11-13T10:05:44.612Z"
   },
   {
    "duration": 144,
    "start_time": "2024-11-13T10:05:44.787Z"
   },
   {
    "duration": 168,
    "start_time": "2024-11-13T10:05:44.933Z"
   },
   {
    "duration": 5,
    "start_time": "2024-11-13T10:05:45.102Z"
   },
   {
    "duration": 9,
    "start_time": "2024-11-13T10:05:45.109Z"
   },
   {
    "duration": 3,
    "start_time": "2024-11-13T10:05:45.120Z"
   },
   {
    "duration": 3,
    "start_time": "2024-11-13T10:05:45.125Z"
   },
   {
    "duration": 5,
    "start_time": "2024-11-13T10:05:45.130Z"
   },
   {
    "duration": 1478,
    "start_time": "2024-11-13T10:05:50.579Z"
   },
   {
    "duration": 1579,
    "start_time": "2024-11-13T10:05:55.857Z"
   },
   {
    "duration": 4314,
    "start_time": "2024-11-13T10:06:00.582Z"
   },
   {
    "duration": 4840,
    "start_time": "2024-11-13T10:06:08.132Z"
   },
   {
    "duration": 4805,
    "start_time": "2024-11-13T10:06:12.977Z"
   },
   {
    "duration": 9191,
    "start_time": "2024-11-13T10:06:20.612Z"
   },
   {
    "duration": 48,
    "start_time": "2024-11-13T10:10:45.192Z"
   },
   {
    "duration": 3,
    "start_time": "2024-11-13T11:31:59.934Z"
   },
   {
    "duration": 14,
    "start_time": "2024-11-13T11:31:59.941Z"
   },
   {
    "duration": 9,
    "start_time": "2024-11-13T11:31:59.957Z"
   },
   {
    "duration": 11,
    "start_time": "2024-11-13T11:31:59.968Z"
   },
   {
    "duration": 29,
    "start_time": "2024-11-13T11:31:59.980Z"
   },
   {
    "duration": 8,
    "start_time": "2024-11-13T11:32:00.011Z"
   },
   {
    "duration": 5,
    "start_time": "2024-11-13T11:32:00.021Z"
   },
   {
    "duration": 45,
    "start_time": "2024-11-13T11:32:00.028Z"
   },
   {
    "duration": 4,
    "start_time": "2024-11-13T11:32:00.075Z"
   },
   {
    "duration": 6,
    "start_time": "2024-11-13T11:32:00.080Z"
   },
   {
    "duration": 5,
    "start_time": "2024-11-13T11:32:00.088Z"
   },
   {
    "duration": 3,
    "start_time": "2024-11-13T11:32:00.094Z"
   },
   {
    "duration": 8,
    "start_time": "2024-11-13T11:32:00.100Z"
   },
   {
    "duration": 14,
    "start_time": "2024-11-13T11:32:00.109Z"
   },
   {
    "duration": 166,
    "start_time": "2024-11-13T11:32:00.127Z"
   },
   {
    "duration": 140,
    "start_time": "2024-11-13T11:32:00.296Z"
   },
   {
    "duration": 170,
    "start_time": "2024-11-13T11:32:00.438Z"
   },
   {
    "duration": 5,
    "start_time": "2024-11-13T11:32:00.609Z"
   },
   {
    "duration": 8,
    "start_time": "2024-11-13T11:32:00.616Z"
   },
   {
    "duration": 3,
    "start_time": "2024-11-13T11:32:00.626Z"
   },
   {
    "duration": 3,
    "start_time": "2024-11-13T11:32:00.631Z"
   },
   {
    "duration": 34,
    "start_time": "2024-11-13T11:32:00.636Z"
   },
   {
    "duration": 14026073,
    "start_time": "2024-11-13T11:32:00.671Z"
   },
   {
    "duration": 2684,
    "start_time": "2024-11-13T22:19:57.064Z"
   },
   {
    "duration": 29,
    "start_time": "2024-11-13T22:19:59.750Z"
   },
   {
    "duration": 19,
    "start_time": "2024-11-13T22:19:59.781Z"
   },
   {
    "duration": 13,
    "start_time": "2024-11-13T22:19:59.803Z"
   },
   {
    "duration": 28,
    "start_time": "2024-11-13T22:19:59.818Z"
   },
   {
    "duration": 9,
    "start_time": "2024-11-13T22:19:59.847Z"
   },
   {
    "duration": 4,
    "start_time": "2024-11-13T22:19:59.858Z"
   },
   {
    "duration": 6,
    "start_time": "2024-11-13T22:19:59.864Z"
   },
   {
    "duration": 40,
    "start_time": "2024-11-13T22:19:59.872Z"
   },
   {
    "duration": 7,
    "start_time": "2024-11-13T22:19:59.914Z"
   },
   {
    "duration": 4,
    "start_time": "2024-11-13T22:19:59.922Z"
   },
   {
    "duration": 3,
    "start_time": "2024-11-13T22:19:59.928Z"
   },
   {
    "duration": 8,
    "start_time": "2024-11-13T22:19:59.933Z"
   },
   {
    "duration": 20,
    "start_time": "2024-11-13T22:19:59.942Z"
   },
   {
    "duration": 170,
    "start_time": "2024-11-13T22:19:59.964Z"
   },
   {
    "duration": 206,
    "start_time": "2024-11-13T22:20:00.135Z"
   },
   {
    "duration": 174,
    "start_time": "2024-11-13T22:20:00.344Z"
   },
   {
    "duration": 4,
    "start_time": "2024-11-13T22:20:00.520Z"
   },
   {
    "duration": 9,
    "start_time": "2024-11-13T22:20:00.526Z"
   },
   {
    "duration": 3,
    "start_time": "2024-11-13T22:20:00.536Z"
   },
   {
    "duration": 3,
    "start_time": "2024-11-13T22:20:00.541Z"
   },
   {
    "duration": 6,
    "start_time": "2024-11-13T22:20:00.545Z"
   },
   {
    "duration": 13949071,
    "start_time": "2024-11-13T22:20:09.137Z"
   },
   {
    "duration": 14652335,
    "start_time": "2024-11-14T02:12:38.213Z"
   },
   {
    "duration": 1557,
    "start_time": "2024-11-14T06:31:34.011Z"
   },
   {
    "duration": 1577,
    "start_time": "2024-11-14T06:31:41.611Z"
   },
   {
    "duration": 4476,
    "start_time": "2024-11-14T06:31:50.101Z"
   },
   {
    "duration": 4981,
    "start_time": "2024-11-14T06:32:09.347Z"
   },
   {
    "duration": 4732,
    "start_time": "2024-11-14T06:33:18.800Z"
   },
   {
    "duration": 9489,
    "start_time": "2024-11-14T06:33:29.523Z"
   },
   {
    "duration": 474,
    "start_time": "2024-11-14T06:35:45.568Z"
   },
   {
    "duration": 474,
    "start_time": "2024-11-14T07:56:39.717Z"
   },
   {
    "duration": 478,
    "start_time": "2024-11-14T07:58:21.235Z"
   },
   {
    "duration": 476,
    "start_time": "2024-11-14T07:58:25.312Z"
   },
   {
    "duration": 473,
    "start_time": "2024-11-14T07:58:47.374Z"
   },
   {
    "duration": 465,
    "start_time": "2024-11-14T13:17:10.148Z"
   },
   {
    "duration": 471,
    "start_time": "2024-11-14T13:19:23.096Z"
   },
   {
    "duration": 437,
    "start_time": "2024-11-14T13:19:46.780Z"
   },
   {
    "duration": 439,
    "start_time": "2024-11-14T13:21:37.706Z"
   },
   {
    "duration": 466,
    "start_time": "2024-11-14T13:21:50.671Z"
   },
   {
    "duration": 159,
    "start_time": "2024-11-14T22:35:35.489Z"
   },
   {
    "duration": 2599,
    "start_time": "2024-11-14T22:35:49.597Z"
   },
   {
    "duration": 26,
    "start_time": "2024-11-14T22:35:52.198Z"
   },
   {
    "duration": 13,
    "start_time": "2024-11-14T22:35:52.226Z"
   },
   {
    "duration": 11,
    "start_time": "2024-11-14T22:35:52.241Z"
   },
   {
    "duration": 38,
    "start_time": "2024-11-14T22:35:52.255Z"
   },
   {
    "duration": 9,
    "start_time": "2024-11-14T22:35:52.295Z"
   },
   {
    "duration": 20,
    "start_time": "2024-11-14T22:35:52.306Z"
   },
   {
    "duration": 6,
    "start_time": "2024-11-14T22:35:52.328Z"
   },
   {
    "duration": 4,
    "start_time": "2024-11-14T22:35:52.335Z"
   },
   {
    "duration": 6,
    "start_time": "2024-11-14T22:35:52.340Z"
   },
   {
    "duration": 4,
    "start_time": "2024-11-14T22:35:52.347Z"
   },
   {
    "duration": 3,
    "start_time": "2024-11-14T22:35:52.352Z"
   },
   {
    "duration": 8,
    "start_time": "2024-11-14T22:35:52.357Z"
   },
   {
    "duration": 59,
    "start_time": "2024-11-14T22:35:52.368Z"
   },
   {
    "duration": 141,
    "start_time": "2024-11-14T22:35:52.429Z"
   },
   {
    "duration": 141,
    "start_time": "2024-11-14T22:35:52.571Z"
   },
   {
    "duration": 172,
    "start_time": "2024-11-14T22:35:52.714Z"
   },
   {
    "duration": 5,
    "start_time": "2024-11-14T22:35:52.888Z"
   },
   {
    "duration": 10,
    "start_time": "2024-11-14T22:35:52.894Z"
   },
   {
    "duration": 19,
    "start_time": "2024-11-14T22:35:52.905Z"
   },
   {
    "duration": 3,
    "start_time": "2024-11-14T22:35:52.926Z"
   },
   {
    "duration": 4,
    "start_time": "2024-11-14T22:35:52.931Z"
   },
   {
    "duration": 483,
    "start_time": "2024-11-14T22:36:17.558Z"
   },
   {
    "duration": 470,
    "start_time": "2024-11-14T22:38:15.779Z"
   },
   {
    "duration": 9392,
    "start_time": "2024-11-14T22:44:35.942Z"
   },
   {
    "duration": 9028,
    "start_time": "2024-11-14T22:45:30.526Z"
   },
   {
    "duration": 9119,
    "start_time": "2024-11-14T22:45:41.335Z"
   },
   {
    "duration": 877,
    "start_time": "2024-11-14T22:49:39.042Z"
   },
   {
    "duration": 17,
    "start_time": "2024-11-14T22:49:39.921Z"
   },
   {
    "duration": 12,
    "start_time": "2024-11-14T22:49:39.940Z"
   },
   {
    "duration": 10,
    "start_time": "2024-11-14T22:49:39.953Z"
   },
   {
    "duration": 86,
    "start_time": "2024-11-14T22:49:39.965Z"
   },
   {
    "duration": 9,
    "start_time": "2024-11-14T22:49:40.053Z"
   },
   {
    "duration": 4,
    "start_time": "2024-11-14T22:49:40.063Z"
   },
   {
    "duration": 8,
    "start_time": "2024-11-14T22:49:40.068Z"
   },
   {
    "duration": 4,
    "start_time": "2024-11-14T22:49:40.077Z"
   },
   {
    "duration": 6,
    "start_time": "2024-11-14T22:49:40.082Z"
   },
   {
    "duration": 37,
    "start_time": "2024-11-14T22:49:40.089Z"
   },
   {
    "duration": 3,
    "start_time": "2024-11-14T22:49:40.128Z"
   },
   {
    "duration": 8,
    "start_time": "2024-11-14T22:49:40.133Z"
   },
   {
    "duration": 14,
    "start_time": "2024-11-14T22:49:40.144Z"
   },
   {
    "duration": 153,
    "start_time": "2024-11-14T22:49:40.159Z"
   },
   {
    "duration": 144,
    "start_time": "2024-11-14T22:49:40.314Z"
   },
   {
    "duration": 166,
    "start_time": "2024-11-14T22:49:40.460Z"
   },
   {
    "duration": 4,
    "start_time": "2024-11-14T22:49:40.628Z"
   },
   {
    "duration": 9,
    "start_time": "2024-11-14T22:49:40.633Z"
   },
   {
    "duration": 3,
    "start_time": "2024-11-14T22:49:40.643Z"
   },
   {
    "duration": 3,
    "start_time": "2024-11-14T22:49:40.648Z"
   },
   {
    "duration": 4,
    "start_time": "2024-11-14T22:49:40.653Z"
   },
   {
    "duration": 909,
    "start_time": "2024-11-14T22:49:57.414Z"
   },
   {
    "duration": 15,
    "start_time": "2024-11-14T22:49:58.326Z"
   },
   {
    "duration": 13,
    "start_time": "2024-11-14T22:49:58.342Z"
   },
   {
    "duration": 10,
    "start_time": "2024-11-14T22:49:58.358Z"
   },
   {
    "duration": 93,
    "start_time": "2024-11-14T22:49:58.370Z"
   },
   {
    "duration": 10,
    "start_time": "2024-11-14T22:49:58.464Z"
   },
   {
    "duration": 3,
    "start_time": "2024-11-14T22:49:58.476Z"
   },
   {
    "duration": 6,
    "start_time": "2024-11-14T22:49:58.481Z"
   },
   {
    "duration": 4,
    "start_time": "2024-11-14T22:49:58.488Z"
   },
   {
    "duration": 33,
    "start_time": "2024-11-14T22:49:58.495Z"
   },
   {
    "duration": 4,
    "start_time": "2024-11-14T22:49:58.529Z"
   },
   {
    "duration": 3,
    "start_time": "2024-11-14T22:49:58.535Z"
   },
   {
    "duration": 8,
    "start_time": "2024-11-14T22:49:58.540Z"
   },
   {
    "duration": 15,
    "start_time": "2024-11-14T22:49:58.549Z"
   },
   {
    "duration": 164,
    "start_time": "2024-11-14T22:49:58.565Z"
   },
   {
    "duration": 149,
    "start_time": "2024-11-14T22:49:58.732Z"
   },
   {
    "duration": 171,
    "start_time": "2024-11-14T22:49:58.882Z"
   },
   {
    "duration": 4,
    "start_time": "2024-11-14T22:49:59.055Z"
   },
   {
    "duration": 8,
    "start_time": "2024-11-14T22:49:59.061Z"
   },
   {
    "duration": 3,
    "start_time": "2024-11-14T22:49:59.071Z"
   },
   {
    "duration": 4,
    "start_time": "2024-11-14T22:49:59.075Z"
   },
   {
    "duration": 4,
    "start_time": "2024-11-14T22:49:59.081Z"
   },
   {
    "duration": 878,
    "start_time": "2024-11-14T23:00:31.557Z"
   },
   {
    "duration": 17,
    "start_time": "2024-11-14T23:00:32.437Z"
   },
   {
    "duration": 13,
    "start_time": "2024-11-14T23:00:32.456Z"
   },
   {
    "duration": 10,
    "start_time": "2024-11-14T23:00:32.472Z"
   },
   {
    "duration": 95,
    "start_time": "2024-11-14T23:00:32.484Z"
   },
   {
    "duration": 9,
    "start_time": "2024-11-14T23:00:32.581Z"
   },
   {
    "duration": 4,
    "start_time": "2024-11-14T23:00:32.591Z"
   },
   {
    "duration": 29,
    "start_time": "2024-11-14T23:00:32.596Z"
   },
   {
    "duration": 4,
    "start_time": "2024-11-14T23:00:32.626Z"
   },
   {
    "duration": 6,
    "start_time": "2024-11-14T23:00:32.633Z"
   },
   {
    "duration": 4,
    "start_time": "2024-11-14T23:00:32.640Z"
   },
   {
    "duration": 3,
    "start_time": "2024-11-14T23:00:32.646Z"
   },
   {
    "duration": 8,
    "start_time": "2024-11-14T23:00:32.651Z"
   },
   {
    "duration": 13,
    "start_time": "2024-11-14T23:00:32.660Z"
   },
   {
    "duration": 169,
    "start_time": "2024-11-14T23:00:32.674Z"
   },
   {
    "duration": 140,
    "start_time": "2024-11-14T23:00:32.845Z"
   },
   {
    "duration": 166,
    "start_time": "2024-11-14T23:00:32.987Z"
   },
   {
    "duration": 5,
    "start_time": "2024-11-14T23:00:33.155Z"
   },
   {
    "duration": 9,
    "start_time": "2024-11-14T23:00:33.162Z"
   },
   {
    "duration": 3,
    "start_time": "2024-11-14T23:00:33.172Z"
   },
   {
    "duration": 4,
    "start_time": "2024-11-14T23:00:33.176Z"
   },
   {
    "duration": 4,
    "start_time": "2024-11-14T23:00:33.182Z"
   },
   {
    "duration": 14204376,
    "start_time": "2024-11-14T23:00:33.188Z"
   },
   {
    "duration": 13885214,
    "start_time": "2024-11-15T02:57:17.566Z"
   },
   {
    "duration": 14381907,
    "start_time": "2024-11-15T06:48:42.782Z"
   },
   {
    "duration": 1467,
    "start_time": "2024-11-15T10:48:24.691Z"
   },
   {
    "duration": 1545,
    "start_time": "2024-11-15T10:48:26.160Z"
   },
   {
    "duration": 4334,
    "start_time": "2024-11-15T10:48:27.709Z"
   },
   {
    "duration": 4689,
    "start_time": "2024-11-15T10:48:32.045Z"
   },
   {
    "duration": 4706,
    "start_time": "2024-11-15T10:48:36.737Z"
   },
   {
    "duration": 9092,
    "start_time": "2024-11-15T10:48:41.446Z"
   },
   {
    "duration": 490,
    "start_time": "2024-11-15T10:48:50.540Z"
   },
   {
    "duration": 1088,
    "start_time": "2024-11-15T19:10:15.367Z"
   },
   {
    "duration": 2613,
    "start_time": "2024-11-16T02:39:27.813Z"
   },
   {
    "duration": 25,
    "start_time": "2024-11-16T02:39:30.428Z"
   },
   {
    "duration": 12,
    "start_time": "2024-11-16T02:39:30.455Z"
   },
   {
    "duration": 11,
    "start_time": "2024-11-16T02:39:30.469Z"
   },
   {
    "duration": 39,
    "start_time": "2024-11-16T02:39:30.483Z"
   },
   {
    "duration": 8,
    "start_time": "2024-11-16T02:39:30.524Z"
   },
   {
    "duration": 4,
    "start_time": "2024-11-16T02:39:30.533Z"
   },
   {
    "duration": 5,
    "start_time": "2024-11-16T02:39:30.539Z"
   },
   {
    "duration": 4,
    "start_time": "2024-11-16T02:39:30.545Z"
   },
   {
    "duration": 6,
    "start_time": "2024-11-16T02:39:30.550Z"
   },
   {
    "duration": 4,
    "start_time": "2024-11-16T02:39:30.557Z"
   },
   {
    "duration": 42,
    "start_time": "2024-11-16T02:39:30.563Z"
   },
   {
    "duration": 7,
    "start_time": "2024-11-16T02:39:30.607Z"
   },
   {
    "duration": 14,
    "start_time": "2024-11-16T02:39:30.617Z"
   },
   {
    "duration": 158,
    "start_time": "2024-11-16T02:39:30.632Z"
   },
   {
    "duration": 195,
    "start_time": "2024-11-16T02:39:30.792Z"
   },
   {
    "duration": 167,
    "start_time": "2024-11-16T02:39:30.989Z"
   },
   {
    "duration": 4,
    "start_time": "2024-11-16T02:39:31.158Z"
   },
   {
    "duration": 7,
    "start_time": "2024-11-16T02:39:31.164Z"
   },
   {
    "duration": 3,
    "start_time": "2024-11-16T02:39:31.173Z"
   },
   {
    "duration": 3,
    "start_time": "2024-11-16T02:39:31.179Z"
   },
   {
    "duration": 4,
    "start_time": "2024-11-16T02:39:31.206Z"
   },
   {
    "duration": 1061,
    "start_time": "2024-11-16T02:40:20.944Z"
   },
   {
    "duration": 1109,
    "start_time": "2024-11-16T02:40:25.746Z"
   },
   {
    "duration": 1084,
    "start_time": "2024-11-16T02:40:29.889Z"
   },
   {
    "duration": 568,
    "start_time": "2024-11-16T02:40:34.037Z"
   },
   {
    "duration": 1608,
    "start_time": "2024-11-16T02:40:38.630Z"
   },
   {
    "duration": 1086,
    "start_time": "2024-11-16T02:40:44.429Z"
   },
   {
    "duration": 1104,
    "start_time": "2024-11-16T02:40:52.422Z"
   },
   {
    "duration": 1049,
    "start_time": "2024-11-16T02:40:56.312Z"
   },
   {
    "duration": 1059,
    "start_time": "2024-11-16T02:41:02.935Z"
   },
   {
    "duration": 1036,
    "start_time": "2024-11-16T02:41:07.448Z"
   },
   {
    "duration": 1080,
    "start_time": "2024-11-16T02:41:11.857Z"
   },
   {
    "duration": 1067,
    "start_time": "2024-11-16T02:41:17.842Z"
   },
   {
    "duration": 1076,
    "start_time": "2024-11-16T02:41:22.789Z"
   },
   {
    "duration": 1025,
    "start_time": "2024-11-16T02:41:27.431Z"
   },
   {
    "duration": 1523,
    "start_time": "2024-11-16T02:41:32.715Z"
   },
   {
    "duration": 1531,
    "start_time": "2024-11-16T02:41:39.940Z"
   },
   {
    "duration": 1540,
    "start_time": "2024-11-16T02:41:44.821Z"
   },
   {
    "duration": 1532,
    "start_time": "2024-11-16T02:41:49.902Z"
   },
   {
    "duration": 1527,
    "start_time": "2024-11-16T02:41:55.751Z"
   },
   {
    "duration": 1550,
    "start_time": "2024-11-16T02:42:01.122Z"
   },
   {
    "duration": 1544,
    "start_time": "2024-11-16T02:42:05.761Z"
   },
   {
    "duration": 1054,
    "start_time": "2024-11-16T02:42:12.977Z"
   },
   {
    "duration": 2030,
    "start_time": "2024-11-16T02:42:17.329Z"
   },
   {
    "duration": 1556,
    "start_time": "2024-11-16T02:42:22.293Z"
   },
   {
    "duration": 1622,
    "start_time": "2024-11-16T02:42:26.669Z"
   },
   {
    "duration": 1620,
    "start_time": "2024-11-16T02:42:31.369Z"
   },
   {
    "duration": 1585,
    "start_time": "2024-11-16T02:42:37.873Z"
   },
   {
    "duration": 577,
    "start_time": "2024-11-16T02:42:43.094Z"
   },
   {
    "duration": 1591,
    "start_time": "2024-11-16T02:42:46.690Z"
   },
   {
    "duration": 1702,
    "start_time": "2024-11-16T02:43:01.795Z"
   },
   {
    "duration": 1668,
    "start_time": "2024-11-16T02:43:06.474Z"
   },
   {
    "duration": 1663,
    "start_time": "2024-11-16T02:43:15.445Z"
   },
   {
    "duration": 1669,
    "start_time": "2024-11-16T02:43:21.208Z"
   },
   {
    "duration": 1668,
    "start_time": "2024-11-16T02:43:25.595Z"
   },
   {
    "duration": 1653,
    "start_time": "2024-11-16T02:43:31.200Z"
   },
   {
    "duration": 1590,
    "start_time": "2024-11-16T02:43:35.878Z"
   },
   {
    "duration": 1512,
    "start_time": "2024-11-16T02:43:40.358Z"
   },
   {
    "duration": 1438,
    "start_time": "2024-11-16T02:43:45.458Z"
   },
   {
    "duration": 1337,
    "start_time": "2024-11-16T02:43:50.275Z"
   },
   {
    "duration": 1239,
    "start_time": "2024-11-16T02:43:54.499Z"
   },
   {
    "duration": 1655,
    "start_time": "2024-11-16T02:43:58.344Z"
   },
   {
    "duration": 1702,
    "start_time": "2024-11-16T02:44:04.276Z"
   },
   {
    "duration": 1704,
    "start_time": "2024-11-16T02:44:08.559Z"
   },
   {
    "duration": 1727,
    "start_time": "2024-11-16T02:44:13.979Z"
   },
   {
    "duration": 1654,
    "start_time": "2024-11-16T02:44:18.599Z"
   },
   {
    "duration": 2785,
    "start_time": "2024-11-16T02:44:22.251Z"
   },
   {
    "duration": 3362,
    "start_time": "2024-11-16T02:44:28.601Z"
   },
   {
    "duration": 590,
    "start_time": "2024-11-16T02:44:34.000Z"
   },
   {
    "duration": 1118,
    "start_time": "2024-11-16T02:44:37.334Z"
   },
   {
    "duration": 982,
    "start_time": "2024-11-16T02:44:43.387Z"
   }
  ],
  "kernelspec": {
   "display_name": "Python 3 (ipykernel)",
   "language": "python",
   "name": "python3"
  },
  "language_info": {
   "codemirror_mode": {
    "name": "ipython",
    "version": 3
   },
   "file_extension": ".py",
   "mimetype": "text/x-python",
   "name": "python",
   "nbconvert_exporter": "python",
   "pygments_lexer": "ipython3",
   "version": "3.9.19"
  },
  "toc": {
   "base_numbering": 1,
   "nav_menu": {},
   "number_sections": true,
   "sideBar": true,
   "skip_h1_title": true,
   "title_cell": "Table of Contents",
   "title_sidebar": "Contents",
   "toc_cell": false,
   "toc_position": {
    "height": "calc(100% - 180px)",
    "left": "10px",
    "top": "150px",
    "width": "254.6px"
   },
   "toc_section_display": true,
   "toc_window_display": true
  }
 },
 "nbformat": 4,
 "nbformat_minor": 2
}
