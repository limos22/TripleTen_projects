{
 "cells": [
  {
   "cell_type": "markdown",
   "metadata": {},
   "source": [
    "<div style=\"border:solid blue 2px; padding: 20px\">\n",
    "\n",
    " **Overall Summary of the Project**\n",
    "\n",
    "Dear Somil,\n",
    "\n",
    "Great job on your machine learning project aimed at identifying the optimal location for a new oil well for OilyGiant mining company! You've successfully navigated through data preprocessing, model training, and risk analysis using bootstrapping. Your structured approach and adherence to project guidelines demonstrate a solid understanding of the machine learning pipeline. To enhance your project further and meet all evaluation criteria, please address the critical changes outlined below.\n",
    "\n",
    "---\n",
    "\n",
    "<div style=\"border-left: 7px solid green; padding: 10px;\">\n",
    "<b>✅ Strengths:</b>\n",
    "<ul>\n",
    "  <li><b>Data Loading and Cleaning:</b> You effectively loaded all three datasets and performed essential data cleaning by removing duplicate IDs and unnecessary columns, ensuring the data was ready for modeling.</li>\n",
    "  <li><b>Model Training:</b> Successfully trained separate Linear Regression models for each region, adhering to the project condition of using only linear regression.</li>\n",
    "  <li><b>Profit Calculation:</b> Defined key financial constants and implemented a function to calculate profit based on top predicted wells, demonstrating a clear understanding of the business requirements.</li>\n",
    "  <li><b>Bootstrapping Implementation:</b> Applied bootstrapping to assess the distribution of profits and calculate risk, which is crucial for understanding the uncertainty in your predictions.</li>\n",
    "  <li><b>Visualization:</b> Created bar charts to compare average reserves against the break-even threshold, enhancing the interpretability of your findings.</li>\n",
    "  <li><b>Final Recommendation:</b> Suggested Region 2 for well development based on lower RMSE and risk of losses, providing a clear recommendation aligned with your analysis.</li>\n",
    "</ul>\n",
    "</div>\n",
    "\n",
    "<div style=\"border-left: 7px solid gold; padding: 10px;\">\n",
    "<b>⚠️ Areas for Improvement:</b>\n",
    "<ul>\n",
    "  <li><b>Code Duplication:</b> Your code for handling each region is repetitive. Utilizing loops or functions to generalize these tasks would make your code more efficient and easier to maintain.</li>\n",
    "  <li><b>Reproducibility:</b> The `train_test_split` function lacks a `random_state` parameter, which is essential for reproducibility of your results.</li>\n",
    "  <li><b>Documentation and Comments:</b> Adding more comments and explanations within your code would improve readability and help others understand your workflow better.</li>\n",
    "  <li><b>Findings Consistency:</b> While you recommended Region 2 based on lower RMSE and risk, all regions were below the break-even threshold. This contradiction needs to be addressed to provide a balanced and actionable recommendation.</li>\n",
    "</ul>\n",
    "</div>\n",
    "\n",
    "<div style=\"border-left: 7px solid red; padding: 10px;\">\n",
    "<b>⛔️ Critical Changes Required:</b>\n",
    "<ul>\n",
    "  <li><b>Adjust Bootstrap Sample Size:</b>\n",
    "    <ul>\n",
    "      <li><b>Issue:</b> Using only 25 observations per bootstrap sample undermines the accuracy of risk assessments.</li>\n",
    "      <li><b>How to Fix:</b> Increase the bootstrap sample size to 500 observations per sample to align with project requirements.</li>\n",
    "      <li><b>Example:</b> Modify the `sample` method to select 500 observations: `sample(n=500, replace=True)`.</li>\n",
    "    </ul>\n",
    "  </li>\n",
    "  <li><b>Calculate Complete Confidence Intervals:</b>\n",
    "    <ul>\n",
    "      <li><b>Issue:</b> Only the 95th percentile was calculated, missing the lower bound (2.5th percentile).</li>\n",
    "      <li><b>How to Fix:</b> Compute both the 2.5th and 97.5th percentiles to establish a full 95% confidence interval.</li>\n",
    "      <li><b>Example:</b> Use `values.quantile(0.025)` and `values.quantile(0.975)`.</li>\n",
    "    </ul>\n",
    "  </li>\n",
    "  <li><b>Ensure Proper Sampling Alignment:</b>\n",
    "    <ul>\n",
    "      <li><b>Issue:</b> The current method may misalign predictions and targets during bootstrapping, leading to inaccurate profit calculations.</li>\n",
    "      <li><b>How to Fix:</b> Ensure that when sampling, the indices of predictions and targets are correctly aligned. Consider using the same indices for both predictions and targets to maintain their relationship.</li>\n",
    "      <li><b>Example:</b> Use `target_subsample = target_valid.sample(n=500, replace=True, random_state=state)` and align `probs_subsample` accordingly.</li>\n",
    "    </ul>\n",
    "  </li>\n",
    "</ul>\n",
    "</div>\n",
    "\n",
    "---\n",
    "\n",
    "**Conclusion**\n",
    "\n",
    "You're making significant progress with your project, Somil! To ensure your work fully meets the project requirements and evaluation criteria, please address the critical changes outlined above. By implementing these revisions, you'll enhance the accuracy, reliability, and business relevance of your analysis, providing more robust and actionable recommendations for OilyGiant mining company.\n",
    "\n",
    "**Next Steps**\n",
    "\n",
    "- **Increase Bootstrap Sample Size:** Modify your bootstrapping process to use 500 observations per sample to accurately simulate the investment scenario.\n",
    "  \n",
    "- **Compute Full Confidence Intervals:** Calculate both the 2.5th and 97.5th percentiles to establish a complete 95% confidence interval for your profit distributions.\n",
    "  \n",
    "- **Align Sampling of Predictions and Targets:** Ensure that sampled predictions correspond correctly to their respective targets to maintain the integrity of your profit calculations.\n",
    "  \n",
    "- **Refactor Code to Reduce Duplication:** Utilize loops or functions to handle repetitive tasks across different regions, improving code efficiency and readability.\n",
    "  \n",
    "- **Enhance Documentation:** Add comprehensive comments and explanations within your code to clarify each step of your analysis.\n",
    "  \n",
    "- **Reconcile Profitability with Recommendations:** Provide a balanced recommendation by discussing strategies to achieve profitability in Region 2, considering that all regions currently fall below the break-even threshold.\n",
    "  \n",
    "- **Improve Visualizations:** Incorporate additional plots, such as histograms of profit distributions from bootstrapping, to visually support your findings.\n",
    "\n",
    "By addressing these areas, your project will not only meet all the evaluation criteria but also provide a more thorough and insightful analysis for decision-making. Keep up the excellent work, and feel free to reach out if you need further assistance!\n",
    "\n",
    "</div>"
   ]
  },
  {
   "cell_type": "markdown",
   "metadata": {},
   "source": [
    "# Oil-Rig Location ML"
   ]
  },
  {
   "cell_type": "markdown",
   "metadata": {},
   "source": [
    "For the OilyGiant mining company, the task is to find the best place for a new well.\n",
    "\n",
    "Steps to choose the location:\n",
    "\n",
    "- Collect the oil well parameters in the selected region: oil quality and volume of reserves;\n",
    "- Building a model for predicting the volume of reserves in the new wells;\n",
    "- Picking the oil wells with the highest estimated values;\n",
    "- Picking the region with the highest total profit for the selected oil wells.\n",
    "\n",
    "I have data on oil samples from three regions. Parameters of each oil well in the region are already known. I will build a model that will help to pick the region with the highest profit margin. Analyze potential profit and risks use the Bootstrapping technique."
   ]
  },
  {
   "cell_type": "markdown",
   "metadata": {},
   "source": [
    "Below I imported functions to use to clean/preprocess and build a ML model."
   ]
  },
  {
   "cell_type": "code",
   "execution_count": 1,
   "metadata": {},
   "outputs": [],
   "source": [
    "import pandas as pd\n",
    "from sklearn.model_selection import train_test_split\n",
    "from sklearn.linear_model import LinearRegression\n",
    "from sklearn.metrics import mean_squared_error\n",
    "import numpy as np\n",
    "import matplotlib.pyplot as plt"
   ]
  },
  {
   "cell_type": "markdown",
   "metadata": {},
   "source": [
    "Read the datasets as data1, data2 and data3."
   ]
  },
  {
   "cell_type": "code",
   "execution_count": 2,
   "metadata": {},
   "outputs": [],
   "source": [
    "data1= pd.read_csv('/datasets/geo_data_0.csv')\n",
    "data2= pd.read_csv('/datasets/geo_data_1.csv')\n",
    "data3= pd.read_csv('/datasets/geo_data_2.csv')"
   ]
  },
  {
   "cell_type": "markdown",
   "metadata": {},
   "source": [
    "## Preprocessing"
   ]
  },
  {
   "cell_type": "markdown",
   "metadata": {},
   "source": [
    "I got the information about the datasets and checked for missing values along with duplicates. For all the datasets there were duplicate id's. There were only a few for each so I decended to drop them due to it not affecting the data outcome. For all the datasets I also dropped the id column due to it messing with the ML model."
   ]
  },
  {
   "cell_type": "markdown",
   "metadata": {},
   "source": [
    "### Data1"
   ]
  },
  {
   "cell_type": "code",
   "execution_count": 3,
   "metadata": {},
   "outputs": [
    {
     "data": {
      "text/html": [
       "<div>\n",
       "<style scoped>\n",
       "    .dataframe tbody tr th:only-of-type {\n",
       "        vertical-align: middle;\n",
       "    }\n",
       "\n",
       "    .dataframe tbody tr th {\n",
       "        vertical-align: top;\n",
       "    }\n",
       "\n",
       "    .dataframe thead th {\n",
       "        text-align: right;\n",
       "    }\n",
       "</style>\n",
       "<table border=\"1\" class=\"dataframe\">\n",
       "  <thead>\n",
       "    <tr style=\"text-align: right;\">\n",
       "      <th></th>\n",
       "      <th>id</th>\n",
       "      <th>f0</th>\n",
       "      <th>f1</th>\n",
       "      <th>f2</th>\n",
       "      <th>product</th>\n",
       "    </tr>\n",
       "  </thead>\n",
       "  <tbody>\n",
       "    <tr>\n",
       "      <th>0</th>\n",
       "      <td>txEyH</td>\n",
       "      <td>0.705745</td>\n",
       "      <td>-0.497823</td>\n",
       "      <td>1.221170</td>\n",
       "      <td>105.280062</td>\n",
       "    </tr>\n",
       "    <tr>\n",
       "      <th>1</th>\n",
       "      <td>2acmU</td>\n",
       "      <td>1.334711</td>\n",
       "      <td>-0.340164</td>\n",
       "      <td>4.365080</td>\n",
       "      <td>73.037750</td>\n",
       "    </tr>\n",
       "    <tr>\n",
       "      <th>2</th>\n",
       "      <td>409Wp</td>\n",
       "      <td>1.022732</td>\n",
       "      <td>0.151990</td>\n",
       "      <td>1.419926</td>\n",
       "      <td>85.265647</td>\n",
       "    </tr>\n",
       "    <tr>\n",
       "      <th>3</th>\n",
       "      <td>iJLyR</td>\n",
       "      <td>-0.032172</td>\n",
       "      <td>0.139033</td>\n",
       "      <td>2.978566</td>\n",
       "      <td>168.620776</td>\n",
       "    </tr>\n",
       "    <tr>\n",
       "      <th>4</th>\n",
       "      <td>Xdl7t</td>\n",
       "      <td>1.988431</td>\n",
       "      <td>0.155413</td>\n",
       "      <td>4.751769</td>\n",
       "      <td>154.036647</td>\n",
       "    </tr>\n",
       "  </tbody>\n",
       "</table>\n",
       "</div>"
      ],
      "text/plain": [
       "      id        f0        f1        f2     product\n",
       "0  txEyH  0.705745 -0.497823  1.221170  105.280062\n",
       "1  2acmU  1.334711 -0.340164  4.365080   73.037750\n",
       "2  409Wp  1.022732  0.151990  1.419926   85.265647\n",
       "3  iJLyR -0.032172  0.139033  2.978566  168.620776\n",
       "4  Xdl7t  1.988431  0.155413  4.751769  154.036647"
      ]
     },
     "execution_count": 3,
     "metadata": {},
     "output_type": "execute_result"
    }
   ],
   "source": [
    "data1.head()"
   ]
  },
  {
   "cell_type": "code",
   "execution_count": 4,
   "metadata": {},
   "outputs": [
    {
     "name": "stdout",
     "output_type": "stream",
     "text": [
      "<class 'pandas.core.frame.DataFrame'>\n",
      "RangeIndex: 100000 entries, 0 to 99999\n",
      "Data columns (total 5 columns):\n",
      " #   Column   Non-Null Count   Dtype  \n",
      "---  ------   --------------   -----  \n",
      " 0   id       100000 non-null  object \n",
      " 1   f0       100000 non-null  float64\n",
      " 2   f1       100000 non-null  float64\n",
      " 3   f2       100000 non-null  float64\n",
      " 4   product  100000 non-null  float64\n",
      "dtypes: float64(4), object(1)\n",
      "memory usage: 3.8+ MB\n"
     ]
    }
   ],
   "source": [
    "data1.info()"
   ]
  },
  {
   "cell_type": "code",
   "execution_count": 5,
   "metadata": {},
   "outputs": [
    {
     "data": {
      "text/plain": [
       "id         0\n",
       "f0         0\n",
       "f1         0\n",
       "f2         0\n",
       "product    0\n",
       "dtype: int64"
      ]
     },
     "execution_count": 5,
     "metadata": {},
     "output_type": "execute_result"
    }
   ],
   "source": [
    "data1.isna().sum()"
   ]
  },
  {
   "cell_type": "code",
   "execution_count": 6,
   "metadata": {},
   "outputs": [
    {
     "data": {
      "text/plain": [
       "0"
      ]
     },
     "execution_count": 6,
     "metadata": {},
     "output_type": "execute_result"
    }
   ],
   "source": [
    "data1.duplicated().sum()"
   ]
  },
  {
   "cell_type": "code",
   "execution_count": 7,
   "metadata": {},
   "outputs": [
    {
     "data": {
      "text/plain": [
       "10"
      ]
     },
     "execution_count": 7,
     "metadata": {},
     "output_type": "execute_result"
    }
   ],
   "source": [
    "data1['id'].duplicated().sum()"
   ]
  },
  {
   "cell_type": "markdown",
   "metadata": {},
   "source": [
    "found 10 duplicate id's in the first dataset. Since the amount is low I dropped the rows from the data below."
   ]
  },
  {
   "cell_type": "code",
   "execution_count": 8,
   "metadata": {},
   "outputs": [],
   "source": [
    "data1.drop_duplicates(subset= 'id', inplace=True)"
   ]
  },
  {
   "cell_type": "code",
   "execution_count": 9,
   "metadata": {},
   "outputs": [
    {
     "name": "stdout",
     "output_type": "stream",
     "text": [
      "<class 'pandas.core.frame.DataFrame'>\n",
      "Int64Index: 99990 entries, 0 to 99999\n",
      "Data columns (total 5 columns):\n",
      " #   Column   Non-Null Count  Dtype  \n",
      "---  ------   --------------  -----  \n",
      " 0   id       99990 non-null  object \n",
      " 1   f0       99990 non-null  float64\n",
      " 2   f1       99990 non-null  float64\n",
      " 3   f2       99990 non-null  float64\n",
      " 4   product  99990 non-null  float64\n",
      "dtypes: float64(4), object(1)\n",
      "memory usage: 4.6+ MB\n"
     ]
    }
   ],
   "source": [
    "data1.info()"
   ]
  },
  {
   "cell_type": "code",
   "execution_count": 10,
   "metadata": {},
   "outputs": [
    {
     "data": {
      "text/plain": [
       "0"
      ]
     },
     "execution_count": 10,
     "metadata": {},
     "output_type": "execute_result"
    }
   ],
   "source": [
    "data1['id'].duplicated().sum()"
   ]
  },
  {
   "cell_type": "code",
   "execution_count": 11,
   "metadata": {},
   "outputs": [],
   "source": [
    "data1= data1.drop('id', axis=1)"
   ]
  },
  {
   "cell_type": "markdown",
   "metadata": {},
   "source": [
    "Dropped the id column to prepare for the ML model."
   ]
  },
  {
   "cell_type": "markdown",
   "metadata": {},
   "source": [
    "### Data2"
   ]
  },
  {
   "cell_type": "code",
   "execution_count": 12,
   "metadata": {},
   "outputs": [
    {
     "data": {
      "text/html": [
       "<div>\n",
       "<style scoped>\n",
       "    .dataframe tbody tr th:only-of-type {\n",
       "        vertical-align: middle;\n",
       "    }\n",
       "\n",
       "    .dataframe tbody tr th {\n",
       "        vertical-align: top;\n",
       "    }\n",
       "\n",
       "    .dataframe thead th {\n",
       "        text-align: right;\n",
       "    }\n",
       "</style>\n",
       "<table border=\"1\" class=\"dataframe\">\n",
       "  <thead>\n",
       "    <tr style=\"text-align: right;\">\n",
       "      <th></th>\n",
       "      <th>id</th>\n",
       "      <th>f0</th>\n",
       "      <th>f1</th>\n",
       "      <th>f2</th>\n",
       "      <th>product</th>\n",
       "    </tr>\n",
       "  </thead>\n",
       "  <tbody>\n",
       "    <tr>\n",
       "      <th>0</th>\n",
       "      <td>kBEdx</td>\n",
       "      <td>-15.001348</td>\n",
       "      <td>-8.276000</td>\n",
       "      <td>-0.005876</td>\n",
       "      <td>3.179103</td>\n",
       "    </tr>\n",
       "    <tr>\n",
       "      <th>1</th>\n",
       "      <td>62mP7</td>\n",
       "      <td>14.272088</td>\n",
       "      <td>-3.475083</td>\n",
       "      <td>0.999183</td>\n",
       "      <td>26.953261</td>\n",
       "    </tr>\n",
       "    <tr>\n",
       "      <th>2</th>\n",
       "      <td>vyE1P</td>\n",
       "      <td>6.263187</td>\n",
       "      <td>-5.948386</td>\n",
       "      <td>5.001160</td>\n",
       "      <td>134.766305</td>\n",
       "    </tr>\n",
       "    <tr>\n",
       "      <th>3</th>\n",
       "      <td>KcrkZ</td>\n",
       "      <td>-13.081196</td>\n",
       "      <td>-11.506057</td>\n",
       "      <td>4.999415</td>\n",
       "      <td>137.945408</td>\n",
       "    </tr>\n",
       "    <tr>\n",
       "      <th>4</th>\n",
       "      <td>AHL4O</td>\n",
       "      <td>12.702195</td>\n",
       "      <td>-8.147433</td>\n",
       "      <td>5.004363</td>\n",
       "      <td>134.766305</td>\n",
       "    </tr>\n",
       "  </tbody>\n",
       "</table>\n",
       "</div>"
      ],
      "text/plain": [
       "      id         f0         f1        f2     product\n",
       "0  kBEdx -15.001348  -8.276000 -0.005876    3.179103\n",
       "1  62mP7  14.272088  -3.475083  0.999183   26.953261\n",
       "2  vyE1P   6.263187  -5.948386  5.001160  134.766305\n",
       "3  KcrkZ -13.081196 -11.506057  4.999415  137.945408\n",
       "4  AHL4O  12.702195  -8.147433  5.004363  134.766305"
      ]
     },
     "execution_count": 12,
     "metadata": {},
     "output_type": "execute_result"
    }
   ],
   "source": [
    "data2.head()"
   ]
  },
  {
   "cell_type": "code",
   "execution_count": 13,
   "metadata": {},
   "outputs": [
    {
     "name": "stdout",
     "output_type": "stream",
     "text": [
      "<class 'pandas.core.frame.DataFrame'>\n",
      "RangeIndex: 100000 entries, 0 to 99999\n",
      "Data columns (total 5 columns):\n",
      " #   Column   Non-Null Count   Dtype  \n",
      "---  ------   --------------   -----  \n",
      " 0   id       100000 non-null  object \n",
      " 1   f0       100000 non-null  float64\n",
      " 2   f1       100000 non-null  float64\n",
      " 3   f2       100000 non-null  float64\n",
      " 4   product  100000 non-null  float64\n",
      "dtypes: float64(4), object(1)\n",
      "memory usage: 3.8+ MB\n"
     ]
    }
   ],
   "source": [
    "data2.info()"
   ]
  },
  {
   "cell_type": "code",
   "execution_count": 14,
   "metadata": {},
   "outputs": [
    {
     "data": {
      "text/plain": [
       "id         0\n",
       "f0         0\n",
       "f1         0\n",
       "f2         0\n",
       "product    0\n",
       "dtype: int64"
      ]
     },
     "execution_count": 14,
     "metadata": {},
     "output_type": "execute_result"
    }
   ],
   "source": [
    "data2.isna().sum()"
   ]
  },
  {
   "cell_type": "code",
   "execution_count": 15,
   "metadata": {},
   "outputs": [
    {
     "data": {
      "text/plain": [
       "0"
      ]
     },
     "execution_count": 15,
     "metadata": {},
     "output_type": "execute_result"
    }
   ],
   "source": [
    "data2.duplicated().sum()"
   ]
  },
  {
   "cell_type": "code",
   "execution_count": 16,
   "metadata": {},
   "outputs": [
    {
     "data": {
      "text/plain": [
       "4"
      ]
     },
     "execution_count": 16,
     "metadata": {},
     "output_type": "execute_result"
    }
   ],
   "source": [
    "data2['id'].duplicated().sum()"
   ]
  },
  {
   "cell_type": "markdown",
   "metadata": {},
   "source": [
    "I found 4 duplicate id's in the first dataset. Since the amount is low I dropped the rows from the data below."
   ]
  },
  {
   "cell_type": "code",
   "execution_count": 17,
   "metadata": {},
   "outputs": [],
   "source": [
    "data2.drop_duplicates(subset= 'id', inplace=True)"
   ]
  },
  {
   "cell_type": "code",
   "execution_count": 18,
   "metadata": {},
   "outputs": [
    {
     "data": {
      "text/plain": [
       "0"
      ]
     },
     "execution_count": 18,
     "metadata": {},
     "output_type": "execute_result"
    }
   ],
   "source": [
    "data2['id'].duplicated().sum()"
   ]
  },
  {
   "cell_type": "code",
   "execution_count": 19,
   "metadata": {},
   "outputs": [
    {
     "name": "stdout",
     "output_type": "stream",
     "text": [
      "<class 'pandas.core.frame.DataFrame'>\n",
      "Int64Index: 99996 entries, 0 to 99999\n",
      "Data columns (total 5 columns):\n",
      " #   Column   Non-Null Count  Dtype  \n",
      "---  ------   --------------  -----  \n",
      " 0   id       99996 non-null  object \n",
      " 1   f0       99996 non-null  float64\n",
      " 2   f1       99996 non-null  float64\n",
      " 3   f2       99996 non-null  float64\n",
      " 4   product  99996 non-null  float64\n",
      "dtypes: float64(4), object(1)\n",
      "memory usage: 4.6+ MB\n"
     ]
    }
   ],
   "source": [
    "data2.info()"
   ]
  },
  {
   "cell_type": "code",
   "execution_count": 20,
   "metadata": {},
   "outputs": [],
   "source": [
    "data2= data2.drop('id', axis=1)"
   ]
  },
  {
   "cell_type": "markdown",
   "metadata": {},
   "source": [
    "Dropped the id column to prepare for the ML model."
   ]
  },
  {
   "cell_type": "markdown",
   "metadata": {},
   "source": [
    "### Data3"
   ]
  },
  {
   "cell_type": "code",
   "execution_count": 21,
   "metadata": {},
   "outputs": [
    {
     "data": {
      "text/html": [
       "<div>\n",
       "<style scoped>\n",
       "    .dataframe tbody tr th:only-of-type {\n",
       "        vertical-align: middle;\n",
       "    }\n",
       "\n",
       "    .dataframe tbody tr th {\n",
       "        vertical-align: top;\n",
       "    }\n",
       "\n",
       "    .dataframe thead th {\n",
       "        text-align: right;\n",
       "    }\n",
       "</style>\n",
       "<table border=\"1\" class=\"dataframe\">\n",
       "  <thead>\n",
       "    <tr style=\"text-align: right;\">\n",
       "      <th></th>\n",
       "      <th>id</th>\n",
       "      <th>f0</th>\n",
       "      <th>f1</th>\n",
       "      <th>f2</th>\n",
       "      <th>product</th>\n",
       "    </tr>\n",
       "  </thead>\n",
       "  <tbody>\n",
       "    <tr>\n",
       "      <th>0</th>\n",
       "      <td>fwXo0</td>\n",
       "      <td>-1.146987</td>\n",
       "      <td>0.963328</td>\n",
       "      <td>-0.828965</td>\n",
       "      <td>27.758673</td>\n",
       "    </tr>\n",
       "    <tr>\n",
       "      <th>1</th>\n",
       "      <td>WJtFt</td>\n",
       "      <td>0.262778</td>\n",
       "      <td>0.269839</td>\n",
       "      <td>-2.530187</td>\n",
       "      <td>56.069697</td>\n",
       "    </tr>\n",
       "    <tr>\n",
       "      <th>2</th>\n",
       "      <td>ovLUW</td>\n",
       "      <td>0.194587</td>\n",
       "      <td>0.289035</td>\n",
       "      <td>-5.586433</td>\n",
       "      <td>62.871910</td>\n",
       "    </tr>\n",
       "    <tr>\n",
       "      <th>3</th>\n",
       "      <td>q6cA6</td>\n",
       "      <td>2.236060</td>\n",
       "      <td>-0.553760</td>\n",
       "      <td>0.930038</td>\n",
       "      <td>114.572842</td>\n",
       "    </tr>\n",
       "    <tr>\n",
       "      <th>4</th>\n",
       "      <td>WPMUX</td>\n",
       "      <td>-0.515993</td>\n",
       "      <td>1.716266</td>\n",
       "      <td>5.899011</td>\n",
       "      <td>149.600746</td>\n",
       "    </tr>\n",
       "  </tbody>\n",
       "</table>\n",
       "</div>"
      ],
      "text/plain": [
       "      id        f0        f1        f2     product\n",
       "0  fwXo0 -1.146987  0.963328 -0.828965   27.758673\n",
       "1  WJtFt  0.262778  0.269839 -2.530187   56.069697\n",
       "2  ovLUW  0.194587  0.289035 -5.586433   62.871910\n",
       "3  q6cA6  2.236060 -0.553760  0.930038  114.572842\n",
       "4  WPMUX -0.515993  1.716266  5.899011  149.600746"
      ]
     },
     "execution_count": 21,
     "metadata": {},
     "output_type": "execute_result"
    }
   ],
   "source": [
    "data3.head()"
   ]
  },
  {
   "cell_type": "code",
   "execution_count": 22,
   "metadata": {},
   "outputs": [
    {
     "name": "stdout",
     "output_type": "stream",
     "text": [
      "<class 'pandas.core.frame.DataFrame'>\n",
      "RangeIndex: 100000 entries, 0 to 99999\n",
      "Data columns (total 5 columns):\n",
      " #   Column   Non-Null Count   Dtype  \n",
      "---  ------   --------------   -----  \n",
      " 0   id       100000 non-null  object \n",
      " 1   f0       100000 non-null  float64\n",
      " 2   f1       100000 non-null  float64\n",
      " 3   f2       100000 non-null  float64\n",
      " 4   product  100000 non-null  float64\n",
      "dtypes: float64(4), object(1)\n",
      "memory usage: 3.8+ MB\n"
     ]
    }
   ],
   "source": [
    "data3.info()"
   ]
  },
  {
   "cell_type": "code",
   "execution_count": 23,
   "metadata": {},
   "outputs": [
    {
     "data": {
      "text/plain": [
       "id         0\n",
       "f0         0\n",
       "f1         0\n",
       "f2         0\n",
       "product    0\n",
       "dtype: int64"
      ]
     },
     "execution_count": 23,
     "metadata": {},
     "output_type": "execute_result"
    }
   ],
   "source": [
    "data3.isna().sum()"
   ]
  },
  {
   "cell_type": "code",
   "execution_count": 24,
   "metadata": {},
   "outputs": [
    {
     "data": {
      "text/plain": [
       "0"
      ]
     },
     "execution_count": 24,
     "metadata": {},
     "output_type": "execute_result"
    }
   ],
   "source": [
    "data3.duplicated().sum()"
   ]
  },
  {
   "cell_type": "code",
   "execution_count": 25,
   "metadata": {},
   "outputs": [
    {
     "data": {
      "text/plain": [
       "4"
      ]
     },
     "execution_count": 25,
     "metadata": {},
     "output_type": "execute_result"
    }
   ],
   "source": [
    "data3['id'].duplicated().sum()"
   ]
  },
  {
   "cell_type": "markdown",
   "metadata": {},
   "source": [
    "I found 4 duplicate id's in the first dataset. Since the amount is low I dropped the rows from the data below."
   ]
  },
  {
   "cell_type": "code",
   "execution_count": 26,
   "metadata": {},
   "outputs": [],
   "source": [
    "data3.drop_duplicates(subset= 'id', inplace=True)"
   ]
  },
  {
   "cell_type": "code",
   "execution_count": 27,
   "metadata": {},
   "outputs": [
    {
     "data": {
      "text/plain": [
       "0"
      ]
     },
     "execution_count": 27,
     "metadata": {},
     "output_type": "execute_result"
    }
   ],
   "source": [
    "data3['id'].duplicated().sum()"
   ]
  },
  {
   "cell_type": "code",
   "execution_count": 28,
   "metadata": {},
   "outputs": [
    {
     "name": "stdout",
     "output_type": "stream",
     "text": [
      "<class 'pandas.core.frame.DataFrame'>\n",
      "Int64Index: 99996 entries, 0 to 99999\n",
      "Data columns (total 5 columns):\n",
      " #   Column   Non-Null Count  Dtype  \n",
      "---  ------   --------------  -----  \n",
      " 0   id       99996 non-null  object \n",
      " 1   f0       99996 non-null  float64\n",
      " 2   f1       99996 non-null  float64\n",
      " 3   f2       99996 non-null  float64\n",
      " 4   product  99996 non-null  float64\n",
      "dtypes: float64(4), object(1)\n",
      "memory usage: 4.6+ MB\n"
     ]
    }
   ],
   "source": [
    "data3.info()"
   ]
  },
  {
   "cell_type": "code",
   "execution_count": 29,
   "metadata": {},
   "outputs": [],
   "source": [
    "data3= data3.drop('id', axis=1)"
   ]
  },
  {
   "cell_type": "markdown",
   "metadata": {},
   "source": [
    "For all the datasets, I checked for missing and duplicate values. I dropped the id commn and removed the duplicates that were in the datasets. The data is now cleaned and ready for making ML models."
   ]
  },
  {
   "cell_type": "markdown",
   "metadata": {},
   "source": [
    "## ML Model"
   ]
  },
  {
   "cell_type": "markdown",
   "metadata": {},
   "source": [
    "Here I made ML models using LinearRegression and having the target being the prodct for all the datasets. I split the data into a training set and validation set at a 75:25 ratio. i compiles the predictions and targets into new dataframes to match the index's and correlate the data together."
   ]
  },
  {
   "cell_type": "markdown",
   "metadata": {},
   "source": [
    "### Data1 Model"
   ]
  },
  {
   "cell_type": "markdown",
   "metadata": {},
   "source": [
    "#### features/target"
   ]
  },
  {
   "cell_type": "markdown",
   "metadata": {},
   "source": [
    "Seperating the featurs and target  variables and saving them respectively."
   ]
  },
  {
   "cell_type": "code",
   "execution_count": 30,
   "metadata": {},
   "outputs": [],
   "source": [
    "features1 = data1.drop('product', axis=1)\n",
    "target1 = data1['product']"
   ]
  },
  {
   "cell_type": "markdown",
   "metadata": {},
   "source": [
    "#### Data Split"
   ]
  },
  {
   "cell_type": "markdown",
   "metadata": {},
   "source": [
    "Split the data into a training set and validation set at a ratio of 75:25."
   ]
  },
  {
   "cell_type": "code",
   "execution_count": 31,
   "metadata": {},
   "outputs": [],
   "source": [
    "features_train1, features_valid1, target_train1, target_valid1 = train_test_split(features1, target1, test_size=0.25, random_state=12345)"
   ]
  },
  {
   "cell_type": "code",
   "execution_count": 32,
   "metadata": {},
   "outputs": [
    {
     "name": "stdout",
     "output_type": "stream",
     "text": [
      "RMSE: 37.853527328872964\n"
     ]
    }
   ],
   "source": [
    "model1 = LinearRegression()\n",
    "model1.fit(features_train1, target_train1)\n",
    "predictions1 = model1.predict(features_valid1)\n",
    "rmse1 = mean_squared_error(target_valid1, predictions1)**.5\n",
    "# make a df\n",
    "pred_target_df1 = pd.DataFrame({\"y_pred\": predictions1, 'target': target_valid1})\n",
    "print(f'RMSE: {rmse1}')"
   ]
  },
  {
   "cell_type": "code",
   "execution_count": 33,
   "metadata": {},
   "outputs": [
    {
     "data": {
      "text/html": [
       "<div>\n",
       "<style scoped>\n",
       "    .dataframe tbody tr th:only-of-type {\n",
       "        vertical-align: middle;\n",
       "    }\n",
       "\n",
       "    .dataframe tbody tr th {\n",
       "        vertical-align: top;\n",
       "    }\n",
       "\n",
       "    .dataframe thead th {\n",
       "        text-align: right;\n",
       "    }\n",
       "</style>\n",
       "<table border=\"1\" class=\"dataframe\">\n",
       "  <thead>\n",
       "    <tr style=\"text-align: right;\">\n",
       "      <th></th>\n",
       "      <th>y_pred</th>\n",
       "      <th>target</th>\n",
       "    </tr>\n",
       "  </thead>\n",
       "  <tbody>\n",
       "    <tr>\n",
       "      <th>49468</th>\n",
       "      <td>103.950372</td>\n",
       "      <td>123.566299</td>\n",
       "    </tr>\n",
       "    <tr>\n",
       "      <th>55496</th>\n",
       "      <td>73.687869</td>\n",
       "      <td>63.442039</td>\n",
       "    </tr>\n",
       "    <tr>\n",
       "      <th>11690</th>\n",
       "      <td>101.015288</td>\n",
       "      <td>88.718000</td>\n",
       "    </tr>\n",
       "    <tr>\n",
       "      <th>13770</th>\n",
       "      <td>94.048415</td>\n",
       "      <td>51.422060</td>\n",
       "    </tr>\n",
       "    <tr>\n",
       "      <th>72395</th>\n",
       "      <td>87.559552</td>\n",
       "      <td>102.569999</td>\n",
       "    </tr>\n",
       "    <tr>\n",
       "      <th>...</th>\n",
       "      <td>...</td>\n",
       "      <td>...</td>\n",
       "    </tr>\n",
       "    <tr>\n",
       "      <th>7867</th>\n",
       "      <td>63.963223</td>\n",
       "      <td>32.531740</td>\n",
       "    </tr>\n",
       "    <tr>\n",
       "      <th>80676</th>\n",
       "      <td>139.862730</td>\n",
       "      <td>139.062332</td>\n",
       "    </tr>\n",
       "    <tr>\n",
       "      <th>45138</th>\n",
       "      <td>78.444653</td>\n",
       "      <td>55.953481</td>\n",
       "    </tr>\n",
       "    <tr>\n",
       "      <th>53545</th>\n",
       "      <td>71.082768</td>\n",
       "      <td>87.222042</td>\n",
       "    </tr>\n",
       "    <tr>\n",
       "      <th>17774</th>\n",
       "      <td>66.054854</td>\n",
       "      <td>138.866063</td>\n",
       "    </tr>\n",
       "  </tbody>\n",
       "</table>\n",
       "<p>24998 rows × 2 columns</p>\n",
       "</div>"
      ],
      "text/plain": [
       "           y_pred      target\n",
       "49468  103.950372  123.566299\n",
       "55496   73.687869   63.442039\n",
       "11690  101.015288   88.718000\n",
       "13770   94.048415   51.422060\n",
       "72395   87.559552  102.569999\n",
       "...           ...         ...\n",
       "7867    63.963223   32.531740\n",
       "80676  139.862730  139.062332\n",
       "45138   78.444653   55.953481\n",
       "53545   71.082768   87.222042\n",
       "17774   66.054854  138.866063\n",
       "\n",
       "[24998 rows x 2 columns]"
      ]
     },
     "execution_count": 33,
     "metadata": {},
     "output_type": "execute_result"
    }
   ],
   "source": [
    "pred_target_df1"
   ]
  },
  {
   "cell_type": "markdown",
   "metadata": {},
   "source": [
    "For this location, there was a RMSE of 37.6 which is higher than the best score when compared across the diffrent regions. It is the second best place accroding to RMSE values for the next location for oil."
   ]
  },
  {
   "cell_type": "markdown",
   "metadata": {},
   "source": [
    "### Data2 Model"
   ]
  },
  {
   "cell_type": "markdown",
   "metadata": {},
   "source": [
    "#### features/target"
   ]
  },
  {
   "cell_type": "markdown",
   "metadata": {},
   "source": [
    "Seperating the featurs and target  variables and saving them respectively."
   ]
  },
  {
   "cell_type": "code",
   "execution_count": 34,
   "metadata": {},
   "outputs": [],
   "source": [
    "features2 = data2.drop('product', axis=1)\n",
    "target2 = data2['product']"
   ]
  },
  {
   "cell_type": "markdown",
   "metadata": {},
   "source": [
    "#### Data Split"
   ]
  },
  {
   "cell_type": "code",
   "execution_count": 35,
   "metadata": {},
   "outputs": [],
   "source": [
    "features_train2, features_valid2, target_train2, target_valid2 = train_test_split(features2, target2, test_size=0.25, random_state=12345)"
   ]
  },
  {
   "cell_type": "code",
   "execution_count": 36,
   "metadata": {},
   "outputs": [
    {
     "name": "stdout",
     "output_type": "stream",
     "text": [
      "RMSE: 0.8920592647717029\n"
     ]
    }
   ],
   "source": [
    "model2 = LinearRegression()\n",
    "model2.fit(features_train2, target_train2)\n",
    "predictions2 = model2.predict(features_valid2)\n",
    "rmse2 = mean_squared_error(target_valid2, predictions2)**.5\n",
    "pred_target_df2 = pd.DataFrame({\"y_pred\": predictions2, 'target': target_valid2})\n",
    "print(f'RMSE: {rmse2}')"
   ]
  },
  {
   "cell_type": "markdown",
   "metadata": {},
   "source": [
    "For this location, there was a RMSE of 0.8 which is the best score when compared across the diffrent regions. It is the best place accroding to RMSE values for the next location for oil."
   ]
  },
  {
   "cell_type": "markdown",
   "metadata": {},
   "source": [
    "### Data3 Model\n"
   ]
  },
  {
   "cell_type": "markdown",
   "metadata": {},
   "source": [
    "#### features/target"
   ]
  },
  {
   "cell_type": "markdown",
   "metadata": {},
   "source": [
    "Seperating the featurs and target  variables and saving them respectively."
   ]
  },
  {
   "cell_type": "code",
   "execution_count": 37,
   "metadata": {},
   "outputs": [],
   "source": [
    "features3 = data3.drop('product', axis=1)\n",
    "target3 = data3['product']"
   ]
  },
  {
   "cell_type": "markdown",
   "metadata": {},
   "source": [
    "#### Data Split"
   ]
  },
  {
   "cell_type": "code",
   "execution_count": 38,
   "metadata": {},
   "outputs": [],
   "source": [
    "features_train3, features_valid3, target_train3, target_valid3 = train_test_split(features3, target3, test_size=0.25, random_state=12345)"
   ]
  },
  {
   "cell_type": "code",
   "execution_count": 39,
   "metadata": {},
   "outputs": [
    {
     "name": "stdout",
     "output_type": "stream",
     "text": [
      "RMSE: 40.07585073246016\n"
     ]
    }
   ],
   "source": [
    "model3 = LinearRegression()\n",
    "model3.fit(features_train3, target_train3)\n",
    "predictions3 = model3.predict(features_valid3)\n",
    "rmse3 = mean_squared_error(target_valid3, predictions3)**.5\n",
    "pred_target_df3 = pd.DataFrame({\"y_pred\": predictions3, 'target': target_valid3})\n",
    "print(f'RMSE: {rmse3}')"
   ]
  },
  {
   "cell_type": "markdown",
   "metadata": {},
   "source": [
    "For this location, there was a RMSE of 39.9 which is the highest score when compared across the diffrent regions. It is the worst place accroding to RMSE values for the next location for oil."
   ]
  },
  {
   "cell_type": "code",
   "execution_count": 40,
   "metadata": {},
   "outputs": [
    {
     "name": "stdout",
     "output_type": "stream",
     "text": [
      "RMSE of region 1 is: 37.853527328872964\n",
      "RMSE of region 2 is: 0.8920592647717029\n",
      "RMSE of region 3 is: 40.07585073246016\n"
     ]
    }
   ],
   "source": [
    "print('RMSE of region 1 is:', rmse1)\n",
    "print('RMSE of region 2 is:', rmse2)\n",
    "print('RMSE of region 3 is:', rmse3)"
   ]
  },
  {
   "cell_type": "markdown",
   "metadata": {},
   "source": [
    "Compareing all the RMSE values, region 2 has the most reliable predictions with the least versatilityin its predictions."
   ]
  },
  {
   "cell_type": "markdown",
   "metadata": {},
   "source": [
    "## Preparing for profit calculation"
   ]
  },
  {
   "cell_type": "markdown",
   "metadata": {},
   "source": [
    "### Key values"
   ]
  },
  {
   "cell_type": "markdown",
   "metadata": {},
   "source": [
    "Stored the key values into seperate variables."
   ]
  },
  {
   "cell_type": "code",
   "execution_count": 41,
   "metadata": {},
   "outputs": [
    {
     "name": "stdout",
     "output_type": "stream",
     "text": [
      "Cost of one well: 500000.0\n"
     ]
    }
   ],
   "source": [
    "budget = 100000000  \n",
    "barrel = 4.5\n",
    "wells= 200\n",
    "well_rev= 4500\n",
    "rev_per_unit= budget/wells\n",
    "print('Cost of one well:', rev_per_unit)"
   ]
  },
  {
   "cell_type": "markdown",
   "metadata": {},
   "source": [
    "### No Loss margin"
   ]
  },
  {
   "cell_type": "markdown",
   "metadata": {},
   "source": [
    " Avg volume of reserves sufficient for developing a new well without losses is $111.11. "
   ]
  },
  {
   "cell_type": "code",
   "execution_count": 42,
   "metadata": {},
   "outputs": [
    {
     "name": "stdout",
     "output_type": "stream",
     "text": [
      "Min revenue:100000000\n",
      "Min volume for profit:111.11111111111111\n"
     ]
    }
   ],
   "source": [
    "min_reserve = rev_per_unit / well_rev\n",
    "print(f'Min revenue:{budget}')\n",
    "print(f'Min volume for profit:{min_reserve}')"
   ]
  },
  {
   "cell_type": "code",
   "execution_count": 43,
   "metadata": {},
   "outputs": [
    {
     "name": "stdout",
     "output_type": "stream",
     "text": [
      "Average volume in Region 1: 92.49968421774354\n",
      "Average volume in Region 2: 68.82391591804064\n",
      "Average volume in Region 3: 94.99834211933378\n",
      "Minimum reserves needed: 111.11111111111111\n"
     ]
    }
   ],
   "source": [
    "avg_vol1= data1['product'].mean()\n",
    "avg_vol2= data2['product'].mean()\n",
    "avg_vol3= data3['product'].mean()\n",
    "   \n",
    "\n",
    "print(f\"Average volume in Region 1: {avg_vol1}\")\n",
    "print(f\"Average volume in Region 2: {avg_vol2}\")\n",
    "print(f\"Average volume in Region 3: {avg_vol3}\")\n",
    "print(f\"Minimum reserves needed: {min_reserve}\")"
   ]
  },
  {
   "cell_type": "code",
   "execution_count": 44,
   "metadata": {},
   "outputs": [
    {
     "data": {
      "image/png": "[encoded data removed]",
      "text/plain": [
       "<Figure size 640x480 with 1 Axes>"
      ]
     },
     "metadata": {},
     "output_type": "display_data"
    }
   ],
   "source": [
    "categories = ['region 1', 'region 2', 'region 3']\n",
    "values = [avg_vol1, avg_vol2, avg_vol3]\n",
    "threshold = min_reserve\n",
    "plt.axhline(y=threshold, color='red')\n",
    "plt.bar(categories, values)\n",
    "plt.legend(['break even volume', 'average predicted'])\n",
    "plt.title(\"Predicted Reserves vs Break Even Reserves\")\n",
    "plt.xlabel(\"Regions\")\n",
    "plt.ylabel(\"Volume of reserves\")\n",
    "plt.show()"
   ]
  },
  {
   "cell_type": "markdown",
   "metadata": {},
   "source": [
    "The cost of producing a single well  is $500,000 and the revenue produced by a unit(1,000 barrels) of product , we can find the required reserves per oil well to develop without loss. It ended up being 111.11 for profit. however, all 3 regions are lower than the threshold for breaking even.The highest region volume was 94.99 in region 3, second was region 1 with 92.49 and the lowest 68.82 in region 2. As we can see, the amount of  reserves to develop a well without loss is higher than the average reserves in every region."
   ]
  },
  {
   "cell_type": "markdown",
   "metadata": {},
   "source": [
    "## Profit calculation"
   ]
  },
  {
   "cell_type": "markdown",
   "metadata": {},
   "source": [
    "Made a function for profit calculation as well sorting the wells as top wells. The function makes the legnth of the target the same as the predictions. It picks the wells with the highest values of predictions and calculates the total volume of reserves. "
   ]
  },
  {
   "cell_type": "code",
   "execution_count": 45,
   "metadata": {},
   "outputs": [],
   "source": [
    "def profit(target, predictions, count, well_rev, budget):\n",
    "    target = target[:len(predictions)]\n",
    "    predictions= pd.Series(predictions, index=target.index)\n",
    "    top = predictions.sort_values(ascending=False)\n",
    "    top_pred = target[top.index[:count]]\n",
    "    return well_rev * top_pred.sum() - budget"
   ]
  },
  {
   "cell_type": "code",
   "execution_count": 46,
   "metadata": {},
   "outputs": [
    {
     "name": "stdout",
     "output_type": "stream",
     "text": [
      "Region 1 profit: -11887297.278991371\n",
      "Region 2 profit: -38673452.50771491\n",
      "Region 3 profit: -16547402.038545936\n"
     ]
    }
   ],
   "source": [
    "print('Region 1 profit:', profit(target1, predictions1, wells, well_rev, budget))\n",
    "print('Region 2 profit:', profit(target2, predictions2, wells, well_rev, budget))\n",
    "print('Region 3 profit:', profit(target3, predictions3, wells, well_rev, budget))"
   ]
  },
  {
   "cell_type": "code",
   "execution_count": 47,
   "metadata": {},
   "outputs": [
    {
     "name": "stdout",
     "output_type": "stream",
     "text": [
      "Average volume of pedicted reserves:69.17831957030432\n",
      "Total volume of pedicted reserves:1729388.810938038\n",
      "\n",
      "Top pedicted reserves: 23132    139.975832\n",
      "8263     139.894522\n",
      "11985    139.846667\n",
      "7777     139.766048\n",
      "8755     139.696166\n",
      "dtype: float64\n"
     ]
    }
   ],
   "source": [
    "predictions2= pd.Series(predictions2)\n",
    "top_wells= predictions2.sort_values(ascending=False)\n",
    "total= top_wells.sum()\n",
    "avg_volume= top_wells.mean()\n",
    "top_predictions= top_wells.head(200)\n",
    "print(f'Average volume of pedicted reserves:{avg_volume}')\n",
    "print(f'Total volume of pedicted reserves:{total}')\n",
    "print()\n",
    "print(f'Top pedicted reserves: {top_predictions.head()}')"
   ]
  },
  {
   "cell_type": "markdown",
   "metadata": {},
   "source": [
    "The profit is calculated based on the total volume of reserves and the minimum volume required to develop a new well without losses in region 2. According to the model this region would estimate at a loss, however the predictability of the model is the best among the regions"
   ]
  },
  {
   "cell_type": "markdown",
   "metadata": {},
   "source": [
    "## Calculate risks and profit for each region"
   ]
  },
  {
   "cell_type": "markdown",
   "metadata": {},
   "source": [
    "The bootstrapping technique was used to calculate the risks and profit for each region. The results show the average profit, 95% confidence interval, and risk of losses for each region.The region with the highest average profit and lowest risk of losses was identified as the most promising region for oil well development. Region 2 came in with teh highest profit margin, region 1 in secind and region 3 in last for average profit."
   ]
  },
  {
   "cell_type": "code",
   "execution_count": 48,
   "metadata": {},
   "outputs": [
    {
     "name": "stdout",
     "output_type": "stream",
     "text": [
      "Region 1\n",
      "\n",
      "Average profit: 5856522.724429933\n",
      "95% Quantile 11128233.984866554\n",
      "2.5 percentile -58784.45790209988\n",
      "97.5 percentile 12792400.755693015\n",
      "Risk of loss 0.028\n"
     ]
    }
   ],
   "source": [
    "values= []\n",
    "state= np.random.RandomState(12345)\n",
    "\n",
    "for i in range(1000):\n",
    "    target_subsample = pred_target_df1['target'].sample(n=500, replace=True, random_state=state)\n",
    "    probs_subsample = pred_target_df1['y_pred'][target_subsample.index]  \n",
    "    simulation_result = profit(target_subsample, probs_subsample, wells, well_rev, budget)\n",
    "    values.append(simulation_result)\n",
    "\n",
    "values= pd.Series(values)\n",
    "avg= values.mean()\n",
    "interval= values.quantile(.95)\n",
    "risk= (values< 0).mean()\n",
    "upper= values.quantile(0.975)\n",
    "lower= values.quantile(0.025)\n",
    "\n",
    "print('Region 1')\n",
    "print()\n",
    "print('Average profit:',avg)\n",
    "print('95% Quantile', interval)\n",
    "print('2.5 percentile', lower)\n",
    "print('97.5 percentile', upper)\n",
    "print('Risk of loss', risk)"
   ]
  },
  {
   "cell_type": "code",
   "execution_count": 49,
   "metadata": {},
   "outputs": [
    {
     "name": "stdout",
     "output_type": "stream",
     "text": [
      "Region 2\n",
      "\n",
      "Average profit: 6822983.0506521575\n",
      "95% Quantile 11458462.314035634\n",
      "2.5 percentile 1857995.8171697822\n",
      "97.5 percentile 12476844.632237483\n",
      "Risk of loss 0.003\n"
     ]
    }
   ],
   "source": [
    "values= []\n",
    "state= np.random.RandomState(12345)\n",
    "\n",
    "for i in range(1000):\n",
    "    target_subsample = pred_target_df2['target'].sample(n=500, replace=True, random_state=state)\n",
    "    probs_subsample = pred_target_df2['y_pred'][target_subsample.index]\n",
    "    simulation_result = profit(target_subsample, probs_subsample, wells, well_rev, budget)\n",
    "    values.append(simulation_result)\n",
    "\n",
    "values= pd.Series(values)\n",
    "avg= values.mean()\n",
    "interval= values.quantile(.95)\n",
    "risk= (values< 0).mean()\n",
    "upper= values.quantile(0.975)\n",
    "lower= values.quantile(0.025)\n",
    "\n",
    "print('Region 2')\n",
    "print()\n",
    "print('Average profit:',avg)\n",
    "print('95% Quantile', interval)\n",
    "print('2.5 percentile', lower)\n",
    "print('97.5 percentile', upper)\n",
    "print('Risk of loss', risk)"
   ]
  },
  {
   "cell_type": "code",
   "execution_count": 50,
   "metadata": {},
   "outputs": [
    {
     "name": "stdout",
     "output_type": "stream",
     "text": [
      "Region 3\n",
      "\n",
      "Average profit: 5379665.322994557\n",
      "95% Quantile 10580226.565771071\n",
      "2.5 percentile -696510.441707522\n",
      "97.5 percentile 11679714.100374795\n",
      "Risk of loss 0.041\n"
     ]
    }
   ],
   "source": [
    "\n",
    "values= []\n",
    "state= np.random.RandomState(12345)\n",
    "\n",
    "for i in range(1000):\n",
    "    target_subsample = pred_target_df3['target'].sample(n=500, replace=True, random_state=state)\n",
    "    probs_subsample = pred_target_df3['y_pred'][target_subsample.index]\n",
    "    simulation_result = profit(target_subsample, probs_subsample, wells, well_rev, budget)\n",
    "    values.append(simulation_result)\n",
    "\n",
    "values= pd.Series(values)\n",
    "avg= values.mean()\n",
    "interval= values.quantile(.95)\n",
    "risk= (values< 0).mean()\n",
    "upper= values.quantile(0.975)\n",
    "lower= values.quantile(0.025)\n",
    "\n",
    "print('Region 3')\n",
    "print()\n",
    "print('Average profit:',avg)\n",
    "print('95% Quantile', interval)\n",
    "print('2.5 percentile', lower)\n",
    "print('97.5 percentile', upper)\n",
    "print('Risk of loss', risk)"
   ]
  },
  {
   "cell_type": "markdown",
   "metadata": {},
   "source": [
    "# Conclusion"
   ]
  },
  {
   "cell_type": "markdown",
   "metadata": {},
   "source": [
    "I cleaned and prepared the data after loading in the datasets in. I trained the moldel for each region and split the data into training and validation sets with a 75:25 split. The region with the highest average profit was chosen because of the predictability of the model and high total gains. The risk for region 2 comes in at 0.3%.  The lowest risk of losses was identified as the most promising region for oil well development. I chose region 2 as the best place for a new oil well. When compareing the RMSE values, region 1 came in at an RMSE of: 37.45, RMSE of region 2 is: 0.88 and RMSE of region 3 is: 40.14 meaning that region 2's model is the most accurate model. However, when looking to see the potential profit gains fom making a new oil well region 2 comes in the as the highest yeilding region at 6822983.05 average profit. "
   ]
  },
  {
   "cell_type": "code",
   "execution_count": null,
   "metadata": {},
   "outputs": [],
   "source": []
  }
 ],
 "metadata": {
  "ExecuteTimeLog": [
   {
    "duration": 11,
    "start_time": "2024-11-21T00:38:11.336Z"
   },
   {
    "duration": 297,
    "start_time": "2024-11-21T01:16:16.937Z"
   },
   {
    "duration": 106,
    "start_time": "2024-11-21T01:19:07.992Z"
   },
   {
    "duration": 259,
    "start_time": "2024-11-21T01:19:36.047Z"
   },
   {
    "duration": 9,
    "start_time": "2024-11-21T01:21:55.081Z"
   },
   {
    "duration": 9,
    "start_time": "2024-11-21T01:21:58.275Z"
   },
   {
    "duration": 7,
    "start_time": "2024-11-21T01:22:11.083Z"
   },
   {
    "duration": 7,
    "start_time": "2024-11-21T01:22:21.169Z"
   },
   {
    "duration": 12,
    "start_time": "2024-11-21T01:23:22.279Z"
   },
   {
    "duration": 8,
    "start_time": "2024-11-21T01:23:27.350Z"
   },
   {
    "duration": 35,
    "start_time": "2024-11-21T01:24:13.053Z"
   },
   {
    "duration": 14,
    "start_time": "2024-11-21T01:26:47.951Z"
   },
   {
    "duration": 8,
    "start_time": "2024-11-21T01:28:15.661Z"
   },
   {
    "duration": 32,
    "start_time": "2024-11-21T01:28:16.843Z"
   },
   {
    "duration": 14,
    "start_time": "2024-11-21T01:28:18.334Z"
   },
   {
    "duration": 8,
    "start_time": "2024-11-21T01:29:13.089Z"
   },
   {
    "duration": 35,
    "start_time": "2024-11-21T01:29:13.921Z"
   },
   {
    "duration": 10,
    "start_time": "2024-11-21T01:29:14.795Z"
   },
   {
    "duration": 11,
    "start_time": "2024-11-21T01:29:37.810Z"
   },
   {
    "duration": 11,
    "start_time": "2024-11-21T01:29:54.896Z"
   },
   {
    "duration": 10,
    "start_time": "2024-11-21T01:30:58.705Z"
   },
   {
    "duration": 85,
    "start_time": "2024-11-21T03:24:17.668Z"
   },
   {
    "duration": 18,
    "start_time": "2024-11-21T03:24:21.580Z"
   },
   {
    "duration": 124,
    "start_time": "2024-11-21T03:25:16.755Z"
   },
   {
    "duration": 25,
    "start_time": "2024-11-21T03:25:26.163Z"
   },
   {
    "duration": 11,
    "start_time": "2024-11-21T03:25:33.095Z"
   },
   {
    "duration": 12,
    "start_time": "2024-11-21T03:25:44.954Z"
   },
   {
    "duration": 11,
    "start_time": "2024-11-21T03:25:45.811Z"
   },
   {
    "duration": 9,
    "start_time": "2024-11-21T03:35:53.419Z"
   },
   {
    "duration": 9,
    "start_time": "2024-11-21T03:35:54.424Z"
   },
   {
    "duration": 216,
    "start_time": "2024-11-21T03:36:43.934Z"
   },
   {
    "duration": 11,
    "start_time": "2024-11-21T03:36:52.705Z"
   },
   {
    "duration": 9,
    "start_time": "2024-11-21T03:36:53.554Z"
   },
   {
    "duration": 213,
    "start_time": "2024-11-21T03:36:57.958Z"
   },
   {
    "duration": 11,
    "start_time": "2024-11-21T03:37:03.659Z"
   },
   {
    "duration": 17,
    "start_time": "2024-11-21T03:51:58.789Z"
   },
   {
    "duration": 12,
    "start_time": "2024-11-21T03:51:59.795Z"
   },
   {
    "duration": 14,
    "start_time": "2024-11-21T03:52:17.034Z"
   },
   {
    "duration": 12,
    "start_time": "2024-11-21T03:52:27.984Z"
   },
   {
    "duration": 219,
    "start_time": "2024-11-21T03:52:30.574Z"
   },
   {
    "duration": 13,
    "start_time": "2024-11-21T03:52:32.908Z"
   },
   {
    "duration": 16,
    "start_time": "2024-11-21T03:52:53.287Z"
   },
   {
    "duration": 12,
    "start_time": "2024-11-21T03:52:54.031Z"
   },
   {
    "duration": 11,
    "start_time": "2024-11-21T03:53:13.445Z"
   },
   {
    "duration": 9,
    "start_time": "2024-11-21T03:53:20.982Z"
   },
   {
    "duration": 16,
    "start_time": "2024-11-21T03:55:07.597Z"
   },
   {
    "duration": 11,
    "start_time": "2024-11-21T03:55:46.370Z"
   },
   {
    "duration": 10,
    "start_time": "2024-11-21T03:55:49.097Z"
   },
   {
    "duration": 14,
    "start_time": "2024-11-21T03:56:45.015Z"
   },
   {
    "duration": 9,
    "start_time": "2024-11-21T03:57:03.510Z"
   },
   {
    "duration": 11,
    "start_time": "2024-11-21T03:57:10.810Z"
   },
   {
    "duration": 11,
    "start_time": "2024-11-21T03:57:15.250Z"
   },
   {
    "duration": 4,
    "start_time": "2024-11-21T04:15:38.572Z"
   },
   {
    "duration": 3,
    "start_time": "2024-11-21T04:15:41.766Z"
   },
   {
    "duration": 442,
    "start_time": "2024-11-21T04:15:51.136Z"
   },
   {
    "duration": 5,
    "start_time": "2024-11-21T05:03:13.695Z"
   },
   {
    "duration": 122,
    "start_time": "2024-11-21T05:04:25.301Z"
   },
   {
    "duration": 16,
    "start_time": "2024-11-21T05:04:41.644Z"
   },
   {
    "duration": 15,
    "start_time": "2024-11-21T05:53:19.558Z"
   },
   {
    "duration": 15,
    "start_time": "2024-11-21T06:33:18.041Z"
   },
   {
    "duration": 3,
    "start_time": "2024-11-21T06:39:02.523Z"
   },
   {
    "duration": 35,
    "start_time": "2024-11-21T06:39:37.367Z"
   },
   {
    "duration": 32,
    "start_time": "2024-11-21T06:39:54.577Z"
   },
   {
    "duration": 4,
    "start_time": "2024-11-21T06:44:30.735Z"
   },
   {
    "duration": 33,
    "start_time": "2024-11-21T06:44:41.014Z"
   },
   {
    "duration": 4,
    "start_time": "2024-11-21T06:46:23.801Z"
   },
   {
    "duration": 672,
    "start_time": "2024-11-21T07:12:19.641Z"
   },
   {
    "duration": 793,
    "start_time": "2024-11-21T07:27:48.397Z"
   },
   {
    "duration": 226,
    "start_time": "2024-11-21T07:27:49.192Z"
   },
   {
    "duration": 12,
    "start_time": "2024-11-21T07:27:49.420Z"
   },
   {
    "duration": 12,
    "start_time": "2024-11-21T07:27:49.434Z"
   },
   {
    "duration": 24,
    "start_time": "2024-11-21T07:27:49.447Z"
   },
   {
    "duration": 33,
    "start_time": "2024-11-21T07:27:49.473Z"
   },
   {
    "duration": 10,
    "start_time": "2024-11-21T07:27:49.508Z"
   },
   {
    "duration": 17,
    "start_time": "2024-11-21T07:27:49.520Z"
   },
   {
    "duration": 36,
    "start_time": "2024-11-21T07:27:49.538Z"
   },
   {
    "duration": 10,
    "start_time": "2024-11-21T07:27:49.578Z"
   },
   {
    "duration": 6,
    "start_time": "2024-11-21T07:27:49.590Z"
   },
   {
    "duration": 9,
    "start_time": "2024-11-21T07:27:49.598Z"
   },
   {
    "duration": 11,
    "start_time": "2024-11-21T07:27:49.610Z"
   },
   {
    "duration": 8,
    "start_time": "2024-11-21T07:27:49.622Z"
   },
   {
    "duration": 68,
    "start_time": "2024-11-21T07:27:49.631Z"
   },
   {
    "duration": 11,
    "start_time": "2024-11-21T07:27:49.701Z"
   },
   {
    "duration": 18,
    "start_time": "2024-11-21T07:27:49.713Z"
   },
   {
    "duration": 38,
    "start_time": "2024-11-21T07:27:49.732Z"
   },
   {
    "duration": 11,
    "start_time": "2024-11-21T07:27:49.772Z"
   },
   {
    "duration": 7,
    "start_time": "2024-11-21T07:27:49.784Z"
   },
   {
    "duration": 12,
    "start_time": "2024-11-21T07:27:49.793Z"
   },
   {
    "duration": 7,
    "start_time": "2024-11-21T07:27:49.807Z"
   },
   {
    "duration": 63,
    "start_time": "2024-11-21T07:27:49.816Z"
   },
   {
    "duration": 10,
    "start_time": "2024-11-21T07:27:49.881Z"
   },
   {
    "duration": 16,
    "start_time": "2024-11-21T07:27:49.893Z"
   },
   {
    "duration": 9,
    "start_time": "2024-11-21T07:27:49.911Z"
   },
   {
    "duration": 11,
    "start_time": "2024-11-21T07:27:49.921Z"
   },
   {
    "duration": 34,
    "start_time": "2024-11-21T07:27:49.936Z"
   },
   {
    "duration": 10,
    "start_time": "2024-11-21T07:27:49.972Z"
   },
   {
    "duration": 15,
    "start_time": "2024-11-21T07:27:49.984Z"
   },
   {
    "duration": 5,
    "start_time": "2024-11-21T08:14:23.935Z"
   },
   {
    "duration": 3,
    "start_time": "2024-11-21T08:17:42.215Z"
   },
   {
    "duration": 5,
    "start_time": "2024-11-21T08:17:54.262Z"
   },
   {
    "duration": 15,
    "start_time": "2024-11-21T08:42:12.472Z"
   },
   {
    "duration": 15,
    "start_time": "2024-11-21T09:24:11.540Z"
   },
   {
    "duration": 146,
    "start_time": "2024-11-21T09:24:12.289Z"
   },
   {
    "duration": 6,
    "start_time": "2024-11-21T10:09:38.064Z"
   },
   {
    "duration": 5,
    "start_time": "2024-11-21T10:10:21.649Z"
   },
   {
    "duration": 34,
    "start_time": "2024-11-21T10:10:29.314Z"
   },
   {
    "duration": 751,
    "start_time": "2024-11-21T10:12:35.115Z"
   },
   {
    "duration": 217,
    "start_time": "2024-11-21T10:12:35.868Z"
   },
   {
    "duration": 11,
    "start_time": "2024-11-21T10:12:36.087Z"
   },
   {
    "duration": 11,
    "start_time": "2024-11-21T10:12:36.100Z"
   },
   {
    "duration": 8,
    "start_time": "2024-11-21T10:12:36.113Z"
   },
   {
    "duration": 51,
    "start_time": "2024-11-21T10:12:36.123Z"
   },
   {
    "duration": 9,
    "start_time": "2024-11-21T10:12:36.177Z"
   },
   {
    "duration": 15,
    "start_time": "2024-11-21T10:12:36.188Z"
   },
   {
    "duration": 11,
    "start_time": "2024-11-21T10:12:36.205Z"
   },
   {
    "duration": 8,
    "start_time": "2024-11-21T10:12:36.218Z"
   },
   {
    "duration": 5,
    "start_time": "2024-11-21T10:12:36.228Z"
   },
   {
    "duration": 36,
    "start_time": "2024-11-21T10:12:36.235Z"
   },
   {
    "duration": 12,
    "start_time": "2024-11-21T10:12:36.272Z"
   },
   {
    "duration": 8,
    "start_time": "2024-11-21T10:12:36.288Z"
   },
   {
    "duration": 30,
    "start_time": "2024-11-21T10:12:36.297Z"
   },
   {
    "duration": 42,
    "start_time": "2024-11-21T10:12:36.330Z"
   },
   {
    "duration": 16,
    "start_time": "2024-11-21T10:12:36.374Z"
   },
   {
    "duration": 9,
    "start_time": "2024-11-21T10:12:36.391Z"
   },
   {
    "duration": 11,
    "start_time": "2024-11-21T10:12:36.402Z"
   },
   {
    "duration": 4,
    "start_time": "2024-11-21T10:12:36.415Z"
   },
   {
    "duration": 7,
    "start_time": "2024-11-21T10:12:36.422Z"
   },
   {
    "duration": 45,
    "start_time": "2024-11-21T10:12:36.430Z"
   },
   {
    "duration": 7,
    "start_time": "2024-11-21T10:12:36.477Z"
   },
   {
    "duration": 31,
    "start_time": "2024-11-21T10:12:36.485Z"
   },
   {
    "duration": 9,
    "start_time": "2024-11-21T10:12:36.517Z"
   },
   {
    "duration": 42,
    "start_time": "2024-11-21T10:12:36.529Z"
   },
   {
    "duration": 11,
    "start_time": "2024-11-21T10:12:36.573Z"
   },
   {
    "duration": 11,
    "start_time": "2024-11-21T10:12:36.585Z"
   },
   {
    "duration": 3,
    "start_time": "2024-11-21T10:12:36.598Z"
   },
   {
    "duration": 4,
    "start_time": "2024-11-21T10:12:36.603Z"
   },
   {
    "duration": 8,
    "start_time": "2024-11-21T10:12:36.608Z"
   },
   {
    "duration": 56,
    "start_time": "2024-11-21T10:12:36.617Z"
   },
   {
    "duration": 6,
    "start_time": "2024-11-21T10:12:36.675Z"
   },
   {
    "duration": 14,
    "start_time": "2024-11-21T10:12:36.682Z"
   },
   {
    "duration": 80,
    "start_time": "2024-11-21T10:12:36.698Z"
   },
   {
    "duration": 4,
    "start_time": "2024-11-21T10:39:35.475Z"
   },
   {
    "duration": 9,
    "start_time": "2024-11-21T10:40:59.551Z"
   },
   {
    "duration": 15,
    "start_time": "2024-11-21T10:41:03.383Z"
   },
   {
    "duration": 3,
    "start_time": "2024-11-21T10:41:16.517Z"
   },
   {
    "duration": 8,
    "start_time": "2024-11-21T10:41:17.988Z"
   },
   {
    "duration": 11,
    "start_time": "2024-11-21T10:41:18.607Z"
   },
   {
    "duration": 8,
    "start_time": "2024-11-22T07:12:25.524Z"
   },
   {
    "duration": 819,
    "start_time": "2024-11-22T23:17:34.246Z"
   },
   {
    "duration": 302,
    "start_time": "2024-11-22T23:17:35.068Z"
   },
   {
    "duration": 13,
    "start_time": "2024-11-22T23:17:35.372Z"
   },
   {
    "duration": 13,
    "start_time": "2024-11-22T23:17:35.387Z"
   },
   {
    "duration": 28,
    "start_time": "2024-11-22T23:17:35.403Z"
   },
   {
    "duration": 34,
    "start_time": "2024-11-22T23:17:35.432Z"
   },
   {
    "duration": 10,
    "start_time": "2024-11-22T23:17:35.468Z"
   },
   {
    "duration": 16,
    "start_time": "2024-11-22T23:17:35.479Z"
   },
   {
    "duration": 33,
    "start_time": "2024-11-22T23:17:35.497Z"
   },
   {
    "duration": 10,
    "start_time": "2024-11-22T23:17:35.532Z"
   },
   {
    "duration": 5,
    "start_time": "2024-11-22T23:17:35.544Z"
   },
   {
    "duration": 7,
    "start_time": "2024-11-22T23:17:35.551Z"
   },
   {
    "duration": 10,
    "start_time": "2024-11-22T23:17:35.560Z"
   },
   {
    "duration": 7,
    "start_time": "2024-11-22T23:17:35.574Z"
   },
   {
    "duration": 67,
    "start_time": "2024-11-22T23:17:35.583Z"
   },
   {
    "duration": 9,
    "start_time": "2024-11-22T23:17:35.652Z"
   },
   {
    "duration": 17,
    "start_time": "2024-11-22T23:17:35.663Z"
   },
   {
    "duration": 8,
    "start_time": "2024-11-22T23:17:35.681Z"
   },
   {
    "duration": 12,
    "start_time": "2024-11-22T23:17:35.691Z"
   },
   {
    "duration": 30,
    "start_time": "2024-11-22T23:17:35.704Z"
   },
   {
    "duration": 8,
    "start_time": "2024-11-22T23:17:35.735Z"
   },
   {
    "duration": 11,
    "start_time": "2024-11-22T23:17:35.744Z"
   },
   {
    "duration": 8,
    "start_time": "2024-11-22T23:17:35.757Z"
   },
   {
    "duration": 32,
    "start_time": "2024-11-22T23:17:35.767Z"
   },
   {
    "duration": 40,
    "start_time": "2024-11-22T23:17:35.800Z"
   },
   {
    "duration": 17,
    "start_time": "2024-11-22T23:17:35.842Z"
   },
   {
    "duration": 11,
    "start_time": "2024-11-22T23:17:35.861Z"
   },
   {
    "duration": 11,
    "start_time": "2024-11-22T23:17:35.874Z"
   },
   {
    "duration": 3,
    "start_time": "2024-11-22T23:17:35.887Z"
   },
   {
    "duration": 5,
    "start_time": "2024-11-22T23:17:35.892Z"
   },
   {
    "duration": 41,
    "start_time": "2024-11-22T23:17:35.899Z"
   },
   {
    "duration": 18,
    "start_time": "2024-11-22T23:17:35.941Z"
   },
   {
    "duration": 5,
    "start_time": "2024-11-22T23:17:35.962Z"
   },
   {
    "duration": 11,
    "start_time": "2024-11-22T23:17:36.033Z"
   },
   {
    "duration": 87,
    "start_time": "2024-11-22T23:17:36.045Z"
   },
   {
    "duration": 5,
    "start_time": "2024-11-22T23:17:36.139Z"
   },
   {
    "duration": 10,
    "start_time": "2024-11-22T23:17:36.146Z"
   },
   {
    "duration": 79,
    "start_time": "2024-11-22T23:17:36.158Z"
   },
   {
    "duration": 3,
    "start_time": "2024-11-22T23:19:54.204Z"
   },
   {
    "duration": 3,
    "start_time": "2024-11-22T23:20:19.455Z"
   },
   {
    "duration": 4,
    "start_time": "2024-11-22T23:22:57.591Z"
   },
   {
    "duration": 3,
    "start_time": "2024-11-22T23:25:14.171Z"
   },
   {
    "duration": 4,
    "start_time": "2024-11-22T23:25:18.108Z"
   },
   {
    "duration": 4,
    "start_time": "2024-11-22T23:25:39.719Z"
   },
   {
    "duration": 4,
    "start_time": "2024-11-22T23:34:36.592Z"
   },
   {
    "duration": 5,
    "start_time": "2024-11-22T23:34:49.970Z"
   },
   {
    "duration": 4,
    "start_time": "2024-11-22T23:34:58.042Z"
   },
   {
    "duration": 4,
    "start_time": "2024-11-22T23:35:46.712Z"
   },
   {
    "duration": 5,
    "start_time": "2024-11-22T23:35:51.465Z"
   },
   {
    "duration": 3,
    "start_time": "2024-11-22T23:35:55.359Z"
   },
   {
    "duration": 5,
    "start_time": "2024-11-22T23:37:28.652Z"
   },
   {
    "duration": 4,
    "start_time": "2024-11-22T23:40:57.536Z"
   },
   {
    "duration": 5,
    "start_time": "2024-11-22T23:41:07.605Z"
   },
   {
    "duration": 5,
    "start_time": "2024-11-22T23:49:52.120Z"
   },
   {
    "duration": 6,
    "start_time": "2024-11-22T23:51:07.592Z"
   },
   {
    "duration": 4,
    "start_time": "2024-11-22T23:51:11.875Z"
   },
   {
    "duration": 3,
    "start_time": "2024-11-22T23:51:16.635Z"
   },
   {
    "duration": 3,
    "start_time": "2024-11-22T23:51:33.681Z"
   },
   {
    "duration": 3,
    "start_time": "2024-11-22T23:51:46.037Z"
   },
   {
    "duration": 3,
    "start_time": "2024-11-22T23:51:53.479Z"
   },
   {
    "duration": 3,
    "start_time": "2024-11-22T23:52:17.423Z"
   },
   {
    "duration": 3,
    "start_time": "2024-11-22T23:59:12.605Z"
   },
   {
    "duration": 3,
    "start_time": "2024-11-23T00:02:50.448Z"
   },
   {
    "duration": 4,
    "start_time": "2024-11-23T00:03:17.718Z"
   },
   {
    "duration": 814,
    "start_time": "2024-11-23T05:47:08.474Z"
   },
   {
    "duration": 302,
    "start_time": "2024-11-23T05:47:09.290Z"
   },
   {
    "duration": 13,
    "start_time": "2024-11-23T05:47:09.593Z"
   },
   {
    "duration": 11,
    "start_time": "2024-11-23T05:47:09.608Z"
   },
   {
    "duration": 8,
    "start_time": "2024-11-23T05:47:09.621Z"
   },
   {
    "duration": 47,
    "start_time": "2024-11-23T05:47:09.631Z"
   },
   {
    "duration": 10,
    "start_time": "2024-11-23T05:47:09.679Z"
   },
   {
    "duration": 15,
    "start_time": "2024-11-23T05:47:09.691Z"
   },
   {
    "duration": 12,
    "start_time": "2024-11-23T05:47:09.708Z"
   },
   {
    "duration": 8,
    "start_time": "2024-11-23T05:47:09.723Z"
   },
   {
    "duration": 5,
    "start_time": "2024-11-23T05:47:09.732Z"
   },
   {
    "duration": 6,
    "start_time": "2024-11-23T05:47:09.771Z"
   },
   {
    "duration": 10,
    "start_time": "2024-11-23T05:47:09.779Z"
   },
   {
    "duration": 8,
    "start_time": "2024-11-23T05:47:09.791Z"
   },
   {
    "duration": 29,
    "start_time": "2024-11-23T05:47:09.801Z"
   },
   {
    "duration": 38,
    "start_time": "2024-11-23T05:47:09.832Z"
   },
   {
    "duration": 16,
    "start_time": "2024-11-23T05:47:09.872Z"
   },
   {
    "duration": 8,
    "start_time": "2024-11-23T05:47:09.889Z"
   },
   {
    "duration": 10,
    "start_time": "2024-11-23T05:47:09.899Z"
   },
   {
    "duration": 4,
    "start_time": "2024-11-23T05:47:09.911Z"
   },
   {
    "duration": 8,
    "start_time": "2024-11-23T05:47:09.917Z"
   },
   {
    "duration": 44,
    "start_time": "2024-11-23T05:47:09.926Z"
   },
   {
    "duration": 8,
    "start_time": "2024-11-23T05:47:09.972Z"
   },
   {
    "duration": 31,
    "start_time": "2024-11-23T05:47:09.982Z"
   },
   {
    "duration": 9,
    "start_time": "2024-11-23T05:47:10.015Z"
   },
   {
    "duration": 15,
    "start_time": "2024-11-23T05:47:10.026Z"
   },
   {
    "duration": 34,
    "start_time": "2024-11-23T05:47:10.042Z"
   },
   {
    "duration": 11,
    "start_time": "2024-11-23T05:47:10.080Z"
   },
   {
    "duration": 4,
    "start_time": "2024-11-23T05:47:10.092Z"
   },
   {
    "duration": 3,
    "start_time": "2024-11-23T05:47:10.097Z"
   },
   {
    "duration": 9,
    "start_time": "2024-11-23T05:47:10.102Z"
   },
   {
    "duration": 58,
    "start_time": "2024-11-23T05:47:10.113Z"
   },
   {
    "duration": 6,
    "start_time": "2024-11-23T05:47:10.173Z"
   },
   {
    "duration": 10,
    "start_time": "2024-11-23T05:47:10.181Z"
   },
   {
    "duration": 82,
    "start_time": "2024-11-23T05:47:10.192Z"
   },
   {
    "duration": 4,
    "start_time": "2024-11-23T05:47:10.276Z"
   },
   {
    "duration": 9,
    "start_time": "2024-11-23T05:47:10.281Z"
   },
   {
    "duration": 83,
    "start_time": "2024-11-23T05:47:10.292Z"
   },
   {
    "duration": 3,
    "start_time": "2024-11-23T05:47:10.376Z"
   },
   {
    "duration": 305,
    "start_time": "2024-11-23T05:47:10.381Z"
   },
   {
    "duration": 0,
    "start_time": "2024-11-23T05:47:10.688Z"
   },
   {
    "duration": 0,
    "start_time": "2024-11-23T05:47:10.689Z"
   },
   {
    "duration": 3,
    "start_time": "2024-11-23T05:47:18.316Z"
   },
   {
    "duration": 4,
    "start_time": "2024-11-23T05:47:20.021Z"
   },
   {
    "duration": 14,
    "start_time": "2024-11-23T05:47:20.821Z"
   },
   {
    "duration": 3,
    "start_time": "2024-11-23T05:48:46.155Z"
   },
   {
    "duration": 3,
    "start_time": "2024-11-23T05:49:24.058Z"
   },
   {
    "duration": 4,
    "start_time": "2024-11-23T05:49:34.393Z"
   },
   {
    "duration": 3,
    "start_time": "2024-11-23T05:50:31.575Z"
   },
   {
    "duration": 3,
    "start_time": "2024-11-23T05:51:16.785Z"
   },
   {
    "duration": 5,
    "start_time": "2024-11-23T05:53:13.289Z"
   },
   {
    "duration": 9,
    "start_time": "2024-11-23T05:54:19.733Z"
   },
   {
    "duration": 9,
    "start_time": "2024-11-23T05:54:24.597Z"
   },
   {
    "duration": 10,
    "start_time": "2024-11-23T05:54:28.596Z"
   },
   {
    "duration": 12,
    "start_time": "2024-11-23T06:12:56.112Z"
   },
   {
    "duration": 14,
    "start_time": "2024-11-23T06:12:58.927Z"
   },
   {
    "duration": 449,
    "start_time": "2024-11-23T06:13:15.976Z"
   },
   {
    "duration": 158,
    "start_time": "2024-11-23T06:15:11.966Z"
   },
   {
    "duration": 13,
    "start_time": "2024-11-23T06:15:18.225Z"
   },
   {
    "duration": 753,
    "start_time": "2024-11-23T06:15:36.557Z"
   },
   {
    "duration": 224,
    "start_time": "2024-11-23T06:15:37.312Z"
   },
   {
    "duration": 13,
    "start_time": "2024-11-23T06:15:37.537Z"
   },
   {
    "duration": 19,
    "start_time": "2024-11-23T06:15:37.553Z"
   },
   {
    "duration": 8,
    "start_time": "2024-11-23T06:15:37.573Z"
   },
   {
    "duration": 32,
    "start_time": "2024-11-23T06:15:37.583Z"
   },
   {
    "duration": 9,
    "start_time": "2024-11-23T06:15:37.617Z"
   },
   {
    "duration": 42,
    "start_time": "2024-11-23T06:15:37.628Z"
   },
   {
    "duration": 12,
    "start_time": "2024-11-23T06:15:37.671Z"
   },
   {
    "duration": 9,
    "start_time": "2024-11-23T06:15:37.686Z"
   },
   {
    "duration": 5,
    "start_time": "2024-11-23T06:15:37.697Z"
   },
   {
    "duration": 7,
    "start_time": "2024-11-23T06:15:37.704Z"
   },
   {
    "duration": 11,
    "start_time": "2024-11-23T06:15:37.713Z"
   },
   {
    "duration": 7,
    "start_time": "2024-11-23T06:15:37.726Z"
   },
   {
    "duration": 64,
    "start_time": "2024-11-23T06:15:37.735Z"
   },
   {
    "duration": 10,
    "start_time": "2024-11-23T06:15:37.801Z"
   },
   {
    "duration": 16,
    "start_time": "2024-11-23T06:15:37.812Z"
   },
   {
    "duration": 9,
    "start_time": "2024-11-23T06:15:37.829Z"
   },
   {
    "duration": 39,
    "start_time": "2024-11-23T06:15:37.840Z"
   },
   {
    "duration": 4,
    "start_time": "2024-11-23T06:15:37.881Z"
   },
   {
    "duration": 7,
    "start_time": "2024-11-23T06:15:37.887Z"
   },
   {
    "duration": 10,
    "start_time": "2024-11-23T06:15:37.896Z"
   },
   {
    "duration": 8,
    "start_time": "2024-11-23T06:15:37.907Z"
   },
   {
    "duration": 63,
    "start_time": "2024-11-23T06:15:37.917Z"
   },
   {
    "duration": 10,
    "start_time": "2024-11-23T06:15:37.982Z"
   },
   {
    "duration": 14,
    "start_time": "2024-11-23T06:15:37.994Z"
   },
   {
    "duration": 8,
    "start_time": "2024-11-23T06:15:38.009Z"
   },
   {
    "duration": 10,
    "start_time": "2024-11-23T06:15:38.021Z"
   },
   {
    "duration": 4,
    "start_time": "2024-11-23T06:15:38.032Z"
   },
   {
    "duration": 33,
    "start_time": "2024-11-23T06:15:38.037Z"
   },
   {
    "duration": 10,
    "start_time": "2024-11-23T06:15:38.071Z"
   },
   {
    "duration": 17,
    "start_time": "2024-11-23T06:15:38.082Z"
   },
   {
    "duration": 5,
    "start_time": "2024-11-23T06:15:38.101Z"
   },
   {
    "duration": 14,
    "start_time": "2024-11-23T06:15:38.169Z"
   },
   {
    "duration": 83,
    "start_time": "2024-11-23T06:15:38.187Z"
   },
   {
    "duration": 4,
    "start_time": "2024-11-23T06:15:38.272Z"
   },
   {
    "duration": 11,
    "start_time": "2024-11-23T06:15:38.278Z"
   },
   {
    "duration": 86,
    "start_time": "2024-11-23T06:15:38.290Z"
   },
   {
    "duration": 3,
    "start_time": "2024-11-23T06:15:38.378Z"
   },
   {
    "duration": 4,
    "start_time": "2024-11-23T06:15:38.382Z"
   },
   {
    "duration": 6,
    "start_time": "2024-11-23T06:15:38.387Z"
   },
   {
    "duration": 83,
    "start_time": "2024-11-23T06:15:38.395Z"
   },
   {
    "duration": 4,
    "start_time": "2024-11-23T06:15:38.480Z"
   },
   {
    "duration": 4,
    "start_time": "2024-11-23T06:15:44.001Z"
   },
   {
    "duration": 3,
    "start_time": "2024-11-23T06:21:11.019Z"
   },
   {
    "duration": 304,
    "start_time": "2024-11-23T06:34:17.198Z"
   },
   {
    "duration": 855,
    "start_time": "2024-11-23T06:34:27.486Z"
   },
   {
    "duration": 257,
    "start_time": "2024-11-23T06:34:28.343Z"
   },
   {
    "duration": 22,
    "start_time": "2024-11-23T06:34:28.603Z"
   },
   {
    "duration": 14,
    "start_time": "2024-11-23T06:34:28.628Z"
   },
   {
    "duration": 10,
    "start_time": "2024-11-23T06:34:28.644Z"
   },
   {
    "duration": 49,
    "start_time": "2024-11-23T06:34:28.658Z"
   },
   {
    "duration": 12,
    "start_time": "2024-11-23T06:34:28.709Z"
   },
   {
    "duration": 25,
    "start_time": "2024-11-23T06:34:28.722Z"
   },
   {
    "duration": 31,
    "start_time": "2024-11-23T06:34:28.749Z"
   },
   {
    "duration": 13,
    "start_time": "2024-11-23T06:34:28.782Z"
   },
   {
    "duration": 6,
    "start_time": "2024-11-23T06:34:28.797Z"
   },
   {
    "duration": 8,
    "start_time": "2024-11-23T06:34:28.805Z"
   },
   {
    "duration": 13,
    "start_time": "2024-11-23T06:34:28.815Z"
   },
   {
    "duration": 41,
    "start_time": "2024-11-23T06:34:28.831Z"
   },
   {
    "duration": 31,
    "start_time": "2024-11-23T06:34:28.874Z"
   },
   {
    "duration": 9,
    "start_time": "2024-11-23T06:34:28.910Z"
   },
   {
    "duration": 16,
    "start_time": "2024-11-23T06:34:28.920Z"
   },
   {
    "duration": 10,
    "start_time": "2024-11-23T06:34:28.938Z"
   },
   {
    "duration": 31,
    "start_time": "2024-11-23T06:34:28.949Z"
   },
   {
    "duration": 5,
    "start_time": "2024-11-23T06:34:28.981Z"
   },
   {
    "duration": 7,
    "start_time": "2024-11-23T06:34:28.987Z"
   },
   {
    "duration": 10,
    "start_time": "2024-11-23T06:34:28.996Z"
   },
   {
    "duration": 7,
    "start_time": "2024-11-23T06:34:29.009Z"
   },
   {
    "duration": 66,
    "start_time": "2024-11-23T06:34:29.017Z"
   },
   {
    "duration": 9,
    "start_time": "2024-11-23T06:34:29.085Z"
   },
   {
    "duration": 14,
    "start_time": "2024-11-23T06:34:29.097Z"
   },
   {
    "duration": 9,
    "start_time": "2024-11-23T06:34:29.112Z"
   },
   {
    "duration": 10,
    "start_time": "2024-11-23T06:34:29.122Z"
   },
   {
    "duration": 3,
    "start_time": "2024-11-23T06:34:29.134Z"
   },
   {
    "duration": 32,
    "start_time": "2024-11-23T06:34:29.139Z"
   },
   {
    "duration": 10,
    "start_time": "2024-11-23T06:34:29.172Z"
   },
   {
    "duration": 15,
    "start_time": "2024-11-23T06:34:29.183Z"
   },
   {
    "duration": 6,
    "start_time": "2024-11-23T06:34:29.200Z"
   },
   {
    "duration": 67,
    "start_time": "2024-11-23T06:34:29.208Z"
   },
   {
    "duration": 16,
    "start_time": "2024-11-23T06:34:29.277Z"
   },
   {
    "duration": 6,
    "start_time": "2024-11-23T06:34:29.371Z"
   },
   {
    "duration": 10,
    "start_time": "2024-11-23T06:34:29.379Z"
   },
   {
    "duration": 78,
    "start_time": "2024-11-23T06:34:29.392Z"
   },
   {
    "duration": 4,
    "start_time": "2024-11-23T06:34:29.472Z"
   },
   {
    "duration": 5,
    "start_time": "2024-11-23T06:34:29.479Z"
   },
   {
    "duration": 81,
    "start_time": "2024-11-23T06:34:29.491Z"
   },
   {
    "duration": 3,
    "start_time": "2024-11-23T06:34:29.574Z"
   },
   {
    "duration": 9,
    "start_time": "2024-11-23T06:34:29.578Z"
   },
   {
    "duration": 4,
    "start_time": "2024-11-23T06:34:29.588Z"
   },
   {
    "duration": 302,
    "start_time": "2024-11-23T06:38:13.248Z"
   },
   {
    "duration": 760,
    "start_time": "2024-11-23T06:38:43.105Z"
   },
   {
    "duration": 217,
    "start_time": "2024-11-23T06:38:43.869Z"
   },
   {
    "duration": 12,
    "start_time": "2024-11-23T06:38:44.087Z"
   },
   {
    "duration": 12,
    "start_time": "2024-11-23T06:38:44.101Z"
   },
   {
    "duration": 9,
    "start_time": "2024-11-23T06:38:44.116Z"
   },
   {
    "duration": 49,
    "start_time": "2024-11-23T06:38:44.126Z"
   },
   {
    "duration": 9,
    "start_time": "2024-11-23T06:38:44.177Z"
   },
   {
    "duration": 15,
    "start_time": "2024-11-23T06:38:44.188Z"
   },
   {
    "duration": 10,
    "start_time": "2024-11-23T06:38:44.205Z"
   },
   {
    "duration": 9,
    "start_time": "2024-11-23T06:38:44.216Z"
   },
   {
    "duration": 4,
    "start_time": "2024-11-23T06:38:44.227Z"
   },
   {
    "duration": 38,
    "start_time": "2024-11-23T06:38:44.233Z"
   },
   {
    "duration": 11,
    "start_time": "2024-11-23T06:38:44.272Z"
   },
   {
    "duration": 7,
    "start_time": "2024-11-23T06:38:44.287Z"
   },
   {
    "duration": 30,
    "start_time": "2024-11-23T06:38:44.295Z"
   },
   {
    "duration": 9,
    "start_time": "2024-11-23T06:38:44.327Z"
   },
   {
    "duration": 49,
    "start_time": "2024-11-23T06:38:44.337Z"
   },
   {
    "duration": 9,
    "start_time": "2024-11-23T06:38:44.387Z"
   },
   {
    "duration": 10,
    "start_time": "2024-11-23T06:38:44.398Z"
   },
   {
    "duration": 5,
    "start_time": "2024-11-23T06:38:44.410Z"
   },
   {
    "duration": 7,
    "start_time": "2024-11-23T06:38:44.416Z"
   },
   {
    "duration": 10,
    "start_time": "2024-11-23T06:38:44.425Z"
   },
   {
    "duration": 35,
    "start_time": "2024-11-23T06:38:44.436Z"
   },
   {
    "duration": 32,
    "start_time": "2024-11-23T06:38:44.473Z"
   },
   {
    "duration": 10,
    "start_time": "2024-11-23T06:38:44.507Z"
   },
   {
    "duration": 15,
    "start_time": "2024-11-23T06:38:44.519Z"
   },
   {
    "duration": 38,
    "start_time": "2024-11-23T06:38:44.535Z"
   },
   {
    "duration": 11,
    "start_time": "2024-11-23T06:38:44.576Z"
   },
   {
    "duration": 3,
    "start_time": "2024-11-23T06:38:44.588Z"
   },
   {
    "duration": 3,
    "start_time": "2024-11-23T06:38:44.593Z"
   },
   {
    "duration": 8,
    "start_time": "2024-11-23T06:38:44.598Z"
   },
   {
    "duration": 61,
    "start_time": "2024-11-23T06:38:44.608Z"
   },
   {
    "duration": 7,
    "start_time": "2024-11-23T06:38:44.671Z"
   },
   {
    "duration": 12,
    "start_time": "2024-11-23T06:38:44.680Z"
   },
   {
    "duration": 11,
    "start_time": "2024-11-23T06:38:44.770Z"
   },
   {
    "duration": 4,
    "start_time": "2024-11-23T06:38:44.782Z"
   },
   {
    "duration": 10,
    "start_time": "2024-11-23T06:38:44.788Z"
   },
   {
    "duration": 75,
    "start_time": "2024-11-23T06:38:44.800Z"
   },
   {
    "duration": 4,
    "start_time": "2024-11-23T06:38:44.876Z"
   },
   {
    "duration": 3,
    "start_time": "2024-11-23T06:38:44.881Z"
   },
   {
    "duration": 5,
    "start_time": "2024-11-23T06:38:44.889Z"
   },
   {
    "duration": 3,
    "start_time": "2024-11-23T06:38:44.970Z"
   },
   {
    "duration": 9,
    "start_time": "2024-11-23T06:38:44.974Z"
   },
   {
    "duration": 4,
    "start_time": "2024-11-23T06:38:44.984Z"
   },
   {
    "duration": 3,
    "start_time": "2024-11-23T06:40:42.120Z"
   },
   {
    "duration": 3,
    "start_time": "2024-11-23T06:42:13.989Z"
   },
   {
    "duration": 295,
    "start_time": "2024-11-23T06:43:25.887Z"
   },
   {
    "duration": 767,
    "start_time": "2024-11-23T06:43:54.097Z"
   },
   {
    "duration": 222,
    "start_time": "2024-11-23T06:43:54.866Z"
   },
   {
    "duration": 12,
    "start_time": "2024-11-23T06:43:55.090Z"
   },
   {
    "duration": 11,
    "start_time": "2024-11-23T06:43:55.104Z"
   },
   {
    "duration": 8,
    "start_time": "2024-11-23T06:43:55.116Z"
   },
   {
    "duration": 53,
    "start_time": "2024-11-23T06:43:55.125Z"
   },
   {
    "duration": 10,
    "start_time": "2024-11-23T06:43:55.180Z"
   },
   {
    "duration": 15,
    "start_time": "2024-11-23T06:43:55.193Z"
   },
   {
    "duration": 13,
    "start_time": "2024-11-23T06:43:55.210Z"
   },
   {
    "duration": 8,
    "start_time": "2024-11-23T06:43:55.227Z"
   },
   {
    "duration": 33,
    "start_time": "2024-11-23T06:43:55.237Z"
   },
   {
    "duration": 7,
    "start_time": "2024-11-23T06:43:55.271Z"
   },
   {
    "duration": 10,
    "start_time": "2024-11-23T06:43:55.280Z"
   },
   {
    "duration": 7,
    "start_time": "2024-11-23T06:43:55.292Z"
   },
   {
    "duration": 30,
    "start_time": "2024-11-23T06:43:55.300Z"
   },
   {
    "duration": 38,
    "start_time": "2024-11-23T06:43:55.332Z"
   },
   {
    "duration": 17,
    "start_time": "2024-11-23T06:43:55.372Z"
   },
   {
    "duration": 8,
    "start_time": "2024-11-23T06:43:55.391Z"
   },
   {
    "duration": 11,
    "start_time": "2024-11-23T06:43:55.400Z"
   },
   {
    "duration": 4,
    "start_time": "2024-11-23T06:43:55.412Z"
   },
   {
    "duration": 7,
    "start_time": "2024-11-23T06:43:55.418Z"
   },
   {
    "duration": 43,
    "start_time": "2024-11-23T06:43:55.427Z"
   },
   {
    "duration": 7,
    "start_time": "2024-11-23T06:43:55.472Z"
   },
   {
    "duration": 30,
    "start_time": "2024-11-23T06:43:55.481Z"
   },
   {
    "duration": 9,
    "start_time": "2024-11-23T06:43:55.513Z"
   },
   {
    "duration": 14,
    "start_time": "2024-11-23T06:43:55.524Z"
   },
   {
    "duration": 32,
    "start_time": "2024-11-23T06:43:55.540Z"
   },
   {
    "duration": 10,
    "start_time": "2024-11-23T06:43:55.576Z"
   },
   {
    "duration": 4,
    "start_time": "2024-11-23T06:43:55.587Z"
   },
   {
    "duration": 3,
    "start_time": "2024-11-23T06:43:55.592Z"
   },
   {
    "duration": 9,
    "start_time": "2024-11-23T06:43:55.597Z"
   },
   {
    "duration": 14,
    "start_time": "2024-11-23T06:43:55.608Z"
   },
   {
    "duration": 7,
    "start_time": "2024-11-23T06:43:55.671Z"
   },
   {
    "duration": 10,
    "start_time": "2024-11-23T06:43:55.682Z"
   },
   {
    "duration": 83,
    "start_time": "2024-11-23T06:43:55.694Z"
   },
   {
    "duration": 6,
    "start_time": "2024-11-23T06:43:55.780Z"
   },
   {
    "duration": 81,
    "start_time": "2024-11-23T06:43:55.789Z"
   },
   {
    "duration": 10,
    "start_time": "2024-11-23T06:43:55.872Z"
   },
   {
    "duration": 5,
    "start_time": "2024-11-23T06:43:55.886Z"
   },
   {
    "duration": 80,
    "start_time": "2024-11-23T06:43:55.892Z"
   },
   {
    "duration": 5,
    "start_time": "2024-11-23T06:43:55.973Z"
   },
   {
    "duration": 3,
    "start_time": "2024-11-23T06:43:55.979Z"
   },
   {
    "duration": 9,
    "start_time": "2024-11-23T06:44:02.317Z"
   },
   {
    "duration": 220,
    "start_time": "2024-11-23T06:44:07.142Z"
   },
   {
    "duration": 4,
    "start_time": "2024-11-23T06:44:10.412Z"
   },
   {
    "duration": 3,
    "start_time": "2024-11-23T06:44:11.569Z"
   },
   {
    "duration": 115,
    "start_time": "2024-11-23T06:46:21.416Z"
   },
   {
    "duration": 830,
    "start_time": "2024-11-23T06:46:28.103Z"
   },
   {
    "duration": 233,
    "start_time": "2024-11-23T06:46:28.935Z"
   },
   {
    "duration": 13,
    "start_time": "2024-11-23T06:46:29.169Z"
   },
   {
    "duration": 15,
    "start_time": "2024-11-23T06:46:29.185Z"
   },
   {
    "duration": 10,
    "start_time": "2024-11-23T06:46:29.203Z"
   },
   {
    "duration": 57,
    "start_time": "2024-11-23T06:46:29.215Z"
   },
   {
    "duration": 10,
    "start_time": "2024-11-23T06:46:29.274Z"
   },
   {
    "duration": 16,
    "start_time": "2024-11-23T06:46:29.285Z"
   },
   {
    "duration": 11,
    "start_time": "2024-11-23T06:46:29.302Z"
   },
   {
    "duration": 9,
    "start_time": "2024-11-23T06:46:29.314Z"
   },
   {
    "duration": 5,
    "start_time": "2024-11-23T06:46:29.325Z"
   },
   {
    "duration": 8,
    "start_time": "2024-11-23T06:46:29.331Z"
   },
   {
    "duration": 11,
    "start_time": "2024-11-23T06:46:29.370Z"
   },
   {
    "duration": 6,
    "start_time": "2024-11-23T06:46:29.385Z"
   },
   {
    "duration": 30,
    "start_time": "2024-11-23T06:46:29.393Z"
   },
   {
    "duration": 9,
    "start_time": "2024-11-23T06:46:29.425Z"
   },
   {
    "duration": 46,
    "start_time": "2024-11-23T06:46:29.436Z"
   },
   {
    "duration": 9,
    "start_time": "2024-11-23T06:46:29.484Z"
   },
   {
    "duration": 11,
    "start_time": "2024-11-23T06:46:29.494Z"
   },
   {
    "duration": 5,
    "start_time": "2024-11-23T06:46:29.506Z"
   },
   {
    "duration": 7,
    "start_time": "2024-11-23T06:46:29.513Z"
   },
   {
    "duration": 11,
    "start_time": "2024-11-23T06:46:29.522Z"
   },
   {
    "duration": 40,
    "start_time": "2024-11-23T06:46:29.535Z"
   },
   {
    "duration": 34,
    "start_time": "2024-11-23T06:46:29.577Z"
   },
   {
    "duration": 9,
    "start_time": "2024-11-23T06:46:29.613Z"
   },
   {
    "duration": 15,
    "start_time": "2024-11-23T06:46:29.625Z"
   },
   {
    "duration": 28,
    "start_time": "2024-11-23T06:46:29.644Z"
   },
   {
    "duration": 15,
    "start_time": "2024-11-23T06:46:29.674Z"
   },
   {
    "duration": 4,
    "start_time": "2024-11-23T06:46:29.691Z"
   },
   {
    "duration": 4,
    "start_time": "2024-11-23T06:46:29.696Z"
   },
   {
    "duration": 9,
    "start_time": "2024-11-23T06:46:29.701Z"
   },
   {
    "duration": 59,
    "start_time": "2024-11-23T06:46:29.711Z"
   },
   {
    "duration": 7,
    "start_time": "2024-11-23T06:46:29.773Z"
   },
   {
    "duration": 14,
    "start_time": "2024-11-23T06:46:29.781Z"
   },
   {
    "duration": 82,
    "start_time": "2024-11-23T06:46:29.796Z"
   },
   {
    "duration": 3,
    "start_time": "2024-11-23T06:46:29.880Z"
   },
   {
    "duration": 9,
    "start_time": "2024-11-23T06:46:29.885Z"
   },
   {
    "duration": 77,
    "start_time": "2024-11-23T06:46:29.896Z"
   },
   {
    "duration": 4,
    "start_time": "2024-11-23T06:46:29.975Z"
   },
   {
    "duration": 3,
    "start_time": "2024-11-23T06:46:29.981Z"
   },
   {
    "duration": 83,
    "start_time": "2024-11-23T06:46:29.989Z"
   },
   {
    "duration": 3,
    "start_time": "2024-11-23T06:46:30.074Z"
   },
   {
    "duration": 10,
    "start_time": "2024-11-23T06:46:30.079Z"
   },
   {
    "duration": 3,
    "start_time": "2024-11-23T06:46:30.091Z"
   },
   {
    "duration": 3,
    "start_time": "2024-11-23T06:46:30.095Z"
   },
   {
    "duration": 3,
    "start_time": "2024-11-23T06:46:44.403Z"
   },
   {
    "duration": 3,
    "start_time": "2024-11-23T06:47:04.165Z"
   },
   {
    "duration": 4,
    "start_time": "2024-11-23T07:15:23.684Z"
   },
   {
    "duration": 3,
    "start_time": "2024-11-23T08:10:26.731Z"
   },
   {
    "duration": 757,
    "start_time": "2024-11-24T04:41:14.805Z"
   },
   {
    "duration": 290,
    "start_time": "2024-11-24T04:41:15.565Z"
   },
   {
    "duration": 12,
    "start_time": "2024-11-24T04:41:15.857Z"
   },
   {
    "duration": 11,
    "start_time": "2024-11-24T04:41:15.871Z"
   },
   {
    "duration": 8,
    "start_time": "2024-11-24T04:41:15.883Z"
   },
   {
    "duration": 45,
    "start_time": "2024-11-24T04:41:15.893Z"
   },
   {
    "duration": 10,
    "start_time": "2024-11-24T04:41:15.940Z"
   },
   {
    "duration": 16,
    "start_time": "2024-11-24T04:41:15.952Z"
   },
   {
    "duration": 10,
    "start_time": "2024-11-24T04:41:15.970Z"
   },
   {
    "duration": 9,
    "start_time": "2024-11-24T04:41:16.008Z"
   },
   {
    "duration": 5,
    "start_time": "2024-11-24T04:41:16.019Z"
   },
   {
    "duration": 7,
    "start_time": "2024-11-24T04:41:16.026Z"
   },
   {
    "duration": 11,
    "start_time": "2024-11-24T04:41:16.035Z"
   },
   {
    "duration": 7,
    "start_time": "2024-11-24T04:41:16.048Z"
   },
   {
    "duration": 60,
    "start_time": "2024-11-24T04:41:16.057Z"
   },
   {
    "duration": 11,
    "start_time": "2024-11-24T04:41:16.119Z"
   },
   {
    "duration": 15,
    "start_time": "2024-11-24T04:41:16.132Z"
   },
   {
    "duration": 8,
    "start_time": "2024-11-24T04:41:16.148Z"
   },
   {
    "duration": 11,
    "start_time": "2024-11-24T04:41:16.158Z"
   },
   {
    "duration": 5,
    "start_time": "2024-11-24T04:41:16.170Z"
   },
   {
    "duration": 38,
    "start_time": "2024-11-24T04:41:16.176Z"
   },
   {
    "duration": 11,
    "start_time": "2024-11-24T04:41:16.215Z"
   },
   {
    "duration": 8,
    "start_time": "2024-11-24T04:41:16.227Z"
   },
   {
    "duration": 33,
    "start_time": "2024-11-24T04:41:16.238Z"
   },
   {
    "duration": 10,
    "start_time": "2024-11-24T04:41:16.273Z"
   },
   {
    "duration": 18,
    "start_time": "2024-11-24T04:41:16.308Z"
   },
   {
    "duration": 9,
    "start_time": "2024-11-24T04:41:16.328Z"
   },
   {
    "duration": 10,
    "start_time": "2024-11-24T04:41:16.342Z"
   },
   {
    "duration": 3,
    "start_time": "2024-11-24T04:41:16.354Z"
   },
   {
    "duration": 3,
    "start_time": "2024-11-24T04:41:16.359Z"
   },
   {
    "duration": 45,
    "start_time": "2024-11-24T04:41:16.364Z"
   },
   {
    "duration": 14,
    "start_time": "2024-11-24T04:41:16.410Z"
   },
   {
    "duration": 3,
    "start_time": "2024-11-24T04:41:16.426Z"
   },
   {
    "duration": 10,
    "start_time": "2024-11-24T04:41:16.431Z"
   },
   {
    "duration": 12,
    "start_time": "2024-11-24T04:41:16.509Z"
   },
   {
    "duration": 4,
    "start_time": "2024-11-24T04:41:16.526Z"
   },
   {
    "duration": 83,
    "start_time": "2024-11-24T04:41:16.533Z"
   },
   {
    "duration": 10,
    "start_time": "2024-11-24T04:41:16.618Z"
   },
   {
    "duration": 6,
    "start_time": "2024-11-24T04:41:16.631Z"
   },
   {
    "duration": 5,
    "start_time": "2024-11-24T04:41:16.710Z"
   },
   {
    "duration": 5,
    "start_time": "2024-11-24T04:41:16.717Z"
   },
   {
    "duration": 2,
    "start_time": "2024-11-24T04:41:16.724Z"
   },
   {
    "duration": 79,
    "start_time": "2024-11-24T04:41:16.729Z"
   },
   {
    "duration": 5,
    "start_time": "2024-11-24T04:41:16.810Z"
   },
   {
    "duration": 6,
    "start_time": "2024-11-24T04:41:16.817Z"
   },
   {
    "duration": 3,
    "start_time": "2024-11-24T04:48:19.574Z"
   },
   {
    "duration": 5,
    "start_time": "2024-11-24T04:48:25.991Z"
   },
   {
    "duration": 3,
    "start_time": "2024-11-24T04:48:33.602Z"
   },
   {
    "duration": 4,
    "start_time": "2024-11-24T04:49:59.528Z"
   },
   {
    "duration": 9,
    "start_time": "2024-11-24T04:50:00.041Z"
   },
   {
    "duration": 12,
    "start_time": "2024-11-24T04:50:00.273Z"
   },
   {
    "duration": 2,
    "start_time": "2024-11-24T04:50:01.638Z"
   },
   {
    "duration": 3,
    "start_time": "2024-11-24T04:50:01.917Z"
   },
   {
    "duration": 5,
    "start_time": "2024-11-24T04:55:57.164Z"
   },
   {
    "duration": 5,
    "start_time": "2024-11-24T04:58:34.119Z"
   },
   {
    "duration": 5,
    "start_time": "2024-11-24T04:58:42.823Z"
   },
   {
    "duration": 4,
    "start_time": "2024-11-24T04:58:53.884Z"
   },
   {
    "duration": 5,
    "start_time": "2024-11-24T04:59:05.818Z"
   },
   {
    "duration": 4,
    "start_time": "2024-11-24T04:59:11.480Z"
   },
   {
    "duration": 5,
    "start_time": "2024-11-24T04:59:18.308Z"
   },
   {
    "duration": 5,
    "start_time": "2024-11-24T04:59:21.958Z"
   },
   {
    "duration": 5,
    "start_time": "2024-11-24T04:59:39.823Z"
   },
   {
    "duration": 215,
    "start_time": "2024-11-24T05:04:11.549Z"
   },
   {
    "duration": 2103,
    "start_time": "2024-11-24T05:04:26.962Z"
   },
   {
    "duration": 218,
    "start_time": "2024-11-24T05:04:32.359Z"
   },
   {
    "duration": 587,
    "start_time": "2024-11-24T05:04:48.706Z"
   },
   {
    "duration": 225,
    "start_time": "2024-11-24T05:04:56.215Z"
   },
   {
    "duration": 191,
    "start_time": "2024-11-24T05:07:23.770Z"
   },
   {
    "duration": 184,
    "start_time": "2024-11-24T05:08:11.991Z"
   },
   {
    "duration": 225,
    "start_time": "2024-11-24T05:08:31.929Z"
   },
   {
    "duration": 181,
    "start_time": "2024-11-24T05:08:43.391Z"
   },
   {
    "duration": 4,
    "start_time": "2024-11-24T05:19:44.167Z"
   },
   {
    "duration": 3,
    "start_time": "2024-11-24T05:19:47.769Z"
   },
   {
    "duration": 3,
    "start_time": "2024-11-24T05:19:50.791Z"
   },
   {
    "duration": 3,
    "start_time": "2024-11-24T05:19:59.591Z"
   },
   {
    "duration": 3,
    "start_time": "2024-11-24T05:20:22.283Z"
   },
   {
    "duration": 2652,
    "start_time": "2024-11-24T09:13:33.558Z"
   },
   {
    "duration": 313,
    "start_time": "2024-11-24T09:13:36.212Z"
   },
   {
    "duration": 10,
    "start_time": "2024-11-24T09:13:36.527Z"
   },
   {
    "duration": 12,
    "start_time": "2024-11-24T09:13:36.538Z"
   },
   {
    "duration": 7,
    "start_time": "2024-11-24T09:13:36.552Z"
   },
   {
    "duration": 52,
    "start_time": "2024-11-24T09:13:36.561Z"
   },
   {
    "duration": 13,
    "start_time": "2024-11-24T09:13:36.615Z"
   },
   {
    "duration": 15,
    "start_time": "2024-11-24T09:13:36.630Z"
   },
   {
    "duration": 11,
    "start_time": "2024-11-24T09:13:36.646Z"
   },
   {
    "duration": 30,
    "start_time": "2024-11-24T09:13:36.659Z"
   },
   {
    "duration": 6,
    "start_time": "2024-11-24T09:13:36.690Z"
   },
   {
    "duration": 8,
    "start_time": "2024-11-24T09:13:36.698Z"
   },
   {
    "duration": 11,
    "start_time": "2024-11-24T09:13:36.707Z"
   },
   {
    "duration": 8,
    "start_time": "2024-11-24T09:13:36.721Z"
   },
   {
    "duration": 58,
    "start_time": "2024-11-24T09:13:36.731Z"
   },
   {
    "duration": 9,
    "start_time": "2024-11-24T09:13:36.791Z"
   },
   {
    "duration": 14,
    "start_time": "2024-11-24T09:13:36.802Z"
   },
   {
    "duration": 8,
    "start_time": "2024-11-24T09:13:36.817Z"
   },
   {
    "duration": 11,
    "start_time": "2024-11-24T09:13:36.827Z"
   },
   {
    "duration": 5,
    "start_time": "2024-11-24T09:13:36.839Z"
   },
   {
    "duration": 7,
    "start_time": "2024-11-24T09:13:36.846Z"
   },
   {
    "duration": 10,
    "start_time": "2024-11-24T09:13:36.886Z"
   },
   {
    "duration": 7,
    "start_time": "2024-11-24T09:13:36.898Z"
   },
   {
    "duration": 31,
    "start_time": "2024-11-24T09:13:36.907Z"
   },
   {
    "duration": 10,
    "start_time": "2024-11-24T09:13:36.940Z"
   },
   {
    "duration": 39,
    "start_time": "2024-11-24T09:13:36.951Z"
   },
   {
    "duration": 9,
    "start_time": "2024-11-24T09:13:36.992Z"
   },
   {
    "duration": 11,
    "start_time": "2024-11-24T09:13:37.002Z"
   },
   {
    "duration": 3,
    "start_time": "2024-11-24T09:13:37.015Z"
   },
   {
    "duration": 4,
    "start_time": "2024-11-24T09:13:37.020Z"
   },
   {
    "duration": 9,
    "start_time": "2024-11-24T09:13:37.026Z"
   },
   {
    "duration": 51,
    "start_time": "2024-11-24T09:13:37.037Z"
   },
   {
    "duration": 3,
    "start_time": "2024-11-24T09:13:37.090Z"
   },
   {
    "duration": 97,
    "start_time": "2024-11-24T09:13:37.095Z"
   },
   {
    "duration": 10,
    "start_time": "2024-11-24T09:13:37.193Z"
   },
   {
    "duration": 4,
    "start_time": "2024-11-24T09:13:37.205Z"
   },
   {
    "duration": 10,
    "start_time": "2024-11-24T09:13:37.210Z"
   },
   {
    "duration": 11,
    "start_time": "2024-11-24T09:13:37.286Z"
   },
   {
    "duration": 6,
    "start_time": "2024-11-24T09:13:37.300Z"
   },
   {
    "duration": 82,
    "start_time": "2024-11-24T09:13:37.309Z"
   },
   {
    "duration": 4,
    "start_time": "2024-11-24T09:13:37.396Z"
   },
   {
    "duration": 4,
    "start_time": "2024-11-24T09:13:37.401Z"
   },
   {
    "duration": 251,
    "start_time": "2024-11-24T09:13:37.407Z"
   },
   {
    "duration": 29,
    "start_time": "2024-11-24T09:13:37.660Z"
   },
   {
    "duration": 6,
    "start_time": "2024-11-24T09:13:37.691Z"
   },
   {
    "duration": 5,
    "start_time": "2024-11-24T09:13:37.701Z"
   },
   {
    "duration": 2832,
    "start_time": "2024-11-24T23:34:37.042Z"
   },
   {
    "duration": 316,
    "start_time": "2024-11-24T23:34:39.877Z"
   },
   {
    "duration": 10,
    "start_time": "2024-11-24T23:34:40.195Z"
   },
   {
    "duration": 11,
    "start_time": "2024-11-24T23:34:40.208Z"
   },
   {
    "duration": 13,
    "start_time": "2024-11-24T23:34:40.221Z"
   },
   {
    "duration": 32,
    "start_time": "2024-11-24T23:34:40.236Z"
   },
   {
    "duration": 10,
    "start_time": "2024-11-24T23:34:40.270Z"
   },
   {
    "duration": 17,
    "start_time": "2024-11-24T23:34:40.282Z"
   },
   {
    "duration": 38,
    "start_time": "2024-11-24T23:34:40.300Z"
   },
   {
    "duration": 9,
    "start_time": "2024-11-24T23:34:40.341Z"
   },
   {
    "duration": 7,
    "start_time": "2024-11-24T23:34:40.352Z"
   },
   {
    "duration": 8,
    "start_time": "2024-11-24T23:34:40.360Z"
   },
   {
    "duration": 12,
    "start_time": "2024-11-24T23:34:40.370Z"
   },
   {
    "duration": 8,
    "start_time": "2024-11-24T23:34:40.384Z"
   },
   {
    "duration": 67,
    "start_time": "2024-11-24T23:34:40.393Z"
   },
   {
    "duration": 10,
    "start_time": "2024-11-24T23:34:40.462Z"
   },
   {
    "duration": 15,
    "start_time": "2024-11-24T23:34:40.473Z"
   },
   {
    "duration": 11,
    "start_time": "2024-11-24T23:34:40.490Z"
   },
   {
    "duration": 36,
    "start_time": "2024-11-24T23:34:40.503Z"
   },
   {
    "duration": 4,
    "start_time": "2024-11-24T23:34:40.541Z"
   },
   {
    "duration": 8,
    "start_time": "2024-11-24T23:34:40.547Z"
   },
   {
    "duration": 12,
    "start_time": "2024-11-24T23:34:40.556Z"
   },
   {
    "duration": 8,
    "start_time": "2024-11-24T23:34:40.570Z"
   },
   {
    "duration": 64,
    "start_time": "2024-11-24T23:34:40.580Z"
   },
   {
    "duration": 10,
    "start_time": "2024-11-24T23:34:40.646Z"
   },
   {
    "duration": 20,
    "start_time": "2024-11-24T23:34:40.658Z"
   },
   {
    "duration": 9,
    "start_time": "2024-11-24T23:34:40.680Z"
   },
   {
    "duration": 13,
    "start_time": "2024-11-24T23:34:40.694Z"
   },
   {
    "duration": 25,
    "start_time": "2024-11-24T23:34:40.709Z"
   },
   {
    "duration": 5,
    "start_time": "2024-11-24T23:34:40.736Z"
   },
   {
    "duration": 9,
    "start_time": "2024-11-24T23:34:40.743Z"
   },
   {
    "duration": 18,
    "start_time": "2024-11-24T23:34:40.754Z"
   },
   {
    "duration": 60,
    "start_time": "2024-11-24T23:34:40.773Z"
   },
   {
    "duration": 16,
    "start_time": "2024-11-24T23:34:40.836Z"
   },
   {
    "duration": 10,
    "start_time": "2024-11-24T23:34:40.932Z"
   },
   {
    "duration": 4,
    "start_time": "2024-11-24T23:34:40.944Z"
   },
   {
    "duration": 14,
    "start_time": "2024-11-24T23:34:40.949Z"
   },
   {
    "duration": 77,
    "start_time": "2024-11-24T23:34:40.965Z"
   },
   {
    "duration": 4,
    "start_time": "2024-11-24T23:34:41.043Z"
   },
   {
    "duration": 3,
    "start_time": "2024-11-24T23:34:41.049Z"
   },
   {
    "duration": 77,
    "start_time": "2024-11-24T23:34:41.054Z"
   },
   {
    "duration": 6,
    "start_time": "2024-11-24T23:34:41.133Z"
   },
   {
    "duration": 240,
    "start_time": "2024-11-24T23:34:41.141Z"
   },
   {
    "duration": 11,
    "start_time": "2024-11-24T23:34:41.383Z"
   },
   {
    "duration": 38,
    "start_time": "2024-11-24T23:34:41.396Z"
   },
   {
    "duration": 3,
    "start_time": "2024-11-24T23:34:41.436Z"
   },
   {
    "duration": 3,
    "start_time": "2024-11-25T03:30:17.508Z"
   },
   {
    "duration": 6,
    "start_time": "2024-11-25T03:30:26.015Z"
   },
   {
    "duration": 3,
    "start_time": "2024-11-25T03:30:28.066Z"
   },
   {
    "duration": 359,
    "start_time": "2024-11-25T03:31:59.284Z"
   },
   {
    "duration": 3,
    "start_time": "2024-11-25T03:33:54.826Z"
   },
   {
    "duration": 2,
    "start_time": "2024-11-25T03:34:14.031Z"
   },
   {
    "duration": 2,
    "start_time": "2024-11-25T03:34:28.336Z"
   },
   {
    "duration": 20,
    "start_time": "2024-11-25T03:34:49.307Z"
   },
   {
    "duration": 944,
    "start_time": "2024-11-25T03:37:00.362Z"
   },
   {
    "duration": 229,
    "start_time": "2024-11-25T03:37:01.308Z"
   },
   {
    "duration": 12,
    "start_time": "2024-11-25T03:37:01.539Z"
   },
   {
    "duration": 12,
    "start_time": "2024-11-25T03:37:01.553Z"
   },
   {
    "duration": 13,
    "start_time": "2024-11-25T03:37:01.567Z"
   },
   {
    "duration": 50,
    "start_time": "2024-11-25T03:37:01.582Z"
   },
   {
    "duration": 11,
    "start_time": "2024-11-25T03:37:01.633Z"
   },
   {
    "duration": 16,
    "start_time": "2024-11-25T03:37:01.646Z"
   },
   {
    "duration": 13,
    "start_time": "2024-11-25T03:37:01.665Z"
   },
   {
    "duration": 13,
    "start_time": "2024-11-25T03:37:01.681Z"
   },
   {
    "duration": 7,
    "start_time": "2024-11-25T03:37:01.696Z"
   },
   {
    "duration": 9,
    "start_time": "2024-11-25T03:37:01.731Z"
   },
   {
    "duration": 13,
    "start_time": "2024-11-25T03:37:01.742Z"
   },
   {
    "duration": 10,
    "start_time": "2024-11-25T03:37:01.757Z"
   },
   {
    "duration": 36,
    "start_time": "2024-11-25T03:37:01.769Z"
   },
   {
    "duration": 12,
    "start_time": "2024-11-25T03:37:01.830Z"
   },
   {
    "duration": 17,
    "start_time": "2024-11-25T03:37:01.844Z"
   },
   {
    "duration": 9,
    "start_time": "2024-11-25T03:37:01.863Z"
   },
   {
    "duration": 12,
    "start_time": "2024-11-25T03:37:01.874Z"
   },
   {
    "duration": 8,
    "start_time": "2024-11-25T03:37:01.888Z"
   },
   {
    "duration": 9,
    "start_time": "2024-11-25T03:37:01.930Z"
   },
   {
    "duration": 24,
    "start_time": "2024-11-25T03:37:01.941Z"
   },
   {
    "duration": 11,
    "start_time": "2024-11-25T03:37:01.966Z"
   },
   {
    "duration": 60,
    "start_time": "2024-11-25T03:37:01.979Z"
   },
   {
    "duration": 12,
    "start_time": "2024-11-25T03:37:02.040Z"
   },
   {
    "duration": 15,
    "start_time": "2024-11-25T03:37:02.054Z"
   },
   {
    "duration": 17,
    "start_time": "2024-11-25T03:37:02.073Z"
   },
   {
    "duration": 13,
    "start_time": "2024-11-25T03:37:02.097Z"
   },
   {
    "duration": 6,
    "start_time": "2024-11-25T03:37:02.131Z"
   },
   {
    "duration": 5,
    "start_time": "2024-11-25T03:37:02.139Z"
   },
   {
    "duration": 12,
    "start_time": "2024-11-25T03:37:02.146Z"
   },
   {
    "duration": 27,
    "start_time": "2024-11-25T03:37:02.160Z"
   },
   {
    "duration": 6,
    "start_time": "2024-11-25T03:37:02.232Z"
   },
   {
    "duration": 20,
    "start_time": "2024-11-25T03:37:02.241Z"
   },
   {
    "duration": 83,
    "start_time": "2024-11-25T03:37:02.262Z"
   },
   {
    "duration": 5,
    "start_time": "2024-11-25T03:37:02.347Z"
   },
   {
    "duration": 86,
    "start_time": "2024-11-25T03:37:02.353Z"
   },
   {
    "duration": 16,
    "start_time": "2024-11-25T03:37:02.441Z"
   },
   {
    "duration": 3,
    "start_time": "2024-11-25T03:37:02.460Z"
   },
   {
    "duration": 65,
    "start_time": "2024-11-25T03:37:02.465Z"
   },
   {
    "duration": 5,
    "start_time": "2024-11-25T03:37:02.533Z"
   },
   {
    "duration": 8,
    "start_time": "2024-11-25T03:37:02.539Z"
   },
   {
    "duration": 298,
    "start_time": "2024-11-25T03:37:02.548Z"
   },
   {
    "duration": 12,
    "start_time": "2024-11-25T03:37:02.848Z"
   },
   {
    "duration": 5,
    "start_time": "2024-11-25T03:37:02.861Z"
   },
   {
    "duration": 3,
    "start_time": "2024-11-25T03:37:02.867Z"
   },
   {
    "duration": 361,
    "start_time": "2024-11-25T03:37:02.872Z"
   },
   {
    "duration": 33,
    "start_time": "2024-11-25T03:37:33.744Z"
   },
   {
    "duration": 236,
    "start_time": "2024-11-25T03:37:44.013Z"
   },
   {
    "duration": 128,
    "start_time": "2024-11-25T03:37:59.487Z"
   },
   {
    "duration": 229,
    "start_time": "2024-11-25T03:38:59.133Z"
   },
   {
    "duration": 44,
    "start_time": "2024-11-25T03:39:11.546Z"
   },
   {
    "duration": 18,
    "start_time": "2024-11-25T03:39:22.810Z"
   },
   {
    "duration": 3,
    "start_time": "2024-11-25T03:46:23.033Z"
   },
   {
    "duration": 8,
    "start_time": "2024-11-25T03:46:24.699Z"
   },
   {
    "duration": 6,
    "start_time": "2024-11-25T03:47:44.122Z"
   },
   {
    "duration": 22,
    "start_time": "2024-11-25T03:48:00.553Z"
   },
   {
    "duration": 28,
    "start_time": "2024-11-25T03:48:40.588Z"
   },
   {
    "duration": 28,
    "start_time": "2024-11-25T03:48:51.489Z"
   },
   {
    "duration": 2684,
    "start_time": "2024-11-25T06:01:37.007Z"
   },
   {
    "duration": 319,
    "start_time": "2024-11-25T06:01:39.693Z"
   },
   {
    "duration": 11,
    "start_time": "2024-11-25T06:01:40.014Z"
   },
   {
    "duration": 11,
    "start_time": "2024-11-25T06:01:40.026Z"
   },
   {
    "duration": 7,
    "start_time": "2024-11-25T06:01:40.040Z"
   },
   {
    "duration": 34,
    "start_time": "2024-11-25T06:01:40.049Z"
   },
   {
    "duration": 11,
    "start_time": "2024-11-25T06:01:40.109Z"
   },
   {
    "duration": 16,
    "start_time": "2024-11-25T06:01:40.121Z"
   },
   {
    "duration": 11,
    "start_time": "2024-11-25T06:01:40.139Z"
   },
   {
    "duration": 8,
    "start_time": "2024-11-25T06:01:40.152Z"
   },
   {
    "duration": 5,
    "start_time": "2024-11-25T06:01:40.162Z"
   },
   {
    "duration": 7,
    "start_time": "2024-11-25T06:01:40.169Z"
   },
   {
    "duration": 42,
    "start_time": "2024-11-25T06:01:40.177Z"
   },
   {
    "duration": 8,
    "start_time": "2024-11-25T06:01:40.222Z"
   },
   {
    "duration": 32,
    "start_time": "2024-11-25T06:01:40.233Z"
   },
   {
    "duration": 11,
    "start_time": "2024-11-25T06:01:40.266Z"
   },
   {
    "duration": 43,
    "start_time": "2024-11-25T06:01:40.279Z"
   },
   {
    "duration": 8,
    "start_time": "2024-11-25T06:01:40.323Z"
   },
   {
    "duration": 11,
    "start_time": "2024-11-25T06:01:40.333Z"
   },
   {
    "duration": 5,
    "start_time": "2024-11-25T06:01:40.346Z"
   },
   {
    "duration": 7,
    "start_time": "2024-11-25T06:01:40.352Z"
   },
   {
    "duration": 11,
    "start_time": "2024-11-25T06:01:40.361Z"
   },
   {
    "duration": 39,
    "start_time": "2024-11-25T06:01:40.374Z"
   },
   {
    "duration": 32,
    "start_time": "2024-11-25T06:01:40.415Z"
   },
   {
    "duration": 9,
    "start_time": "2024-11-25T06:01:40.449Z"
   },
   {
    "duration": 14,
    "start_time": "2024-11-25T06:01:40.460Z"
   },
   {
    "duration": 33,
    "start_time": "2024-11-25T06:01:40.476Z"
   },
   {
    "duration": 10,
    "start_time": "2024-11-25T06:01:40.511Z"
   },
   {
    "duration": 3,
    "start_time": "2024-11-25T06:01:40.523Z"
   },
   {
    "duration": 3,
    "start_time": "2024-11-25T06:01:40.528Z"
   },
   {
    "duration": 9,
    "start_time": "2024-11-25T06:01:40.533Z"
   },
   {
    "duration": 67,
    "start_time": "2024-11-25T06:01:40.543Z"
   },
   {
    "duration": 6,
    "start_time": "2024-11-25T06:01:40.614Z"
   },
   {
    "duration": 12,
    "start_time": "2024-11-25T06:01:40.622Z"
   },
   {
    "duration": 80,
    "start_time": "2024-11-25T06:01:40.636Z"
   },
   {
    "duration": 4,
    "start_time": "2024-11-25T06:01:40.718Z"
   },
   {
    "duration": 85,
    "start_time": "2024-11-25T06:01:40.724Z"
   },
   {
    "duration": 11,
    "start_time": "2024-11-25T06:01:40.813Z"
   },
   {
    "duration": 4,
    "start_time": "2024-11-25T06:01:40.825Z"
   },
   {
    "duration": 3,
    "start_time": "2024-11-25T06:01:40.833Z"
   },
   {
    "duration": 76,
    "start_time": "2024-11-25T06:01:40.840Z"
   },
   {
    "duration": 5,
    "start_time": "2024-11-25T06:01:40.919Z"
   },
   {
    "duration": 257,
    "start_time": "2024-11-25T06:01:40.925Z"
   },
   {
    "duration": 25,
    "start_time": "2024-11-25T06:01:41.184Z"
   },
   {
    "duration": 7,
    "start_time": "2024-11-25T06:01:41.211Z"
   },
   {
    "duration": 3,
    "start_time": "2024-11-25T06:01:41.221Z"
   },
   {
    "duration": 86,
    "start_time": "2024-11-25T06:01:41.226Z"
   },
   {
    "duration": 234,
    "start_time": "2024-11-25T06:01:41.314Z"
   },
   {
    "duration": 881,
    "start_time": "2024-11-25T08:29:26.587Z"
   },
   {
    "duration": 231,
    "start_time": "2024-11-25T08:29:27.471Z"
   },
   {
    "duration": 14,
    "start_time": "2024-11-25T08:29:27.703Z"
   },
   {
    "duration": 17,
    "start_time": "2024-11-25T08:29:27.719Z"
   },
   {
    "duration": 7,
    "start_time": "2024-11-25T08:29:27.738Z"
   },
   {
    "duration": 33,
    "start_time": "2024-11-25T08:29:27.747Z"
   },
   {
    "duration": 10,
    "start_time": "2024-11-25T08:29:27.782Z"
   },
   {
    "duration": 35,
    "start_time": "2024-11-25T08:29:27.793Z"
   },
   {
    "duration": 11,
    "start_time": "2024-11-25T08:29:27.829Z"
   },
   {
    "duration": 8,
    "start_time": "2024-11-25T08:29:27.842Z"
   },
   {
    "duration": 5,
    "start_time": "2024-11-25T08:29:27.852Z"
   },
   {
    "duration": 8,
    "start_time": "2024-11-25T08:29:27.858Z"
   },
   {
    "duration": 41,
    "start_time": "2024-11-25T08:29:27.868Z"
   },
   {
    "duration": 9,
    "start_time": "2024-11-25T08:29:27.914Z"
   },
   {
    "duration": 34,
    "start_time": "2024-11-25T08:29:27.924Z"
   },
   {
    "duration": 13,
    "start_time": "2024-11-25T08:29:27.959Z"
   },
   {
    "duration": 36,
    "start_time": "2024-11-25T08:29:27.974Z"
   },
   {
    "duration": 9,
    "start_time": "2024-11-25T08:29:28.012Z"
   },
   {
    "duration": 10,
    "start_time": "2024-11-25T08:29:28.023Z"
   },
   {
    "duration": 4,
    "start_time": "2024-11-25T08:29:28.035Z"
   },
   {
    "duration": 7,
    "start_time": "2024-11-25T08:29:28.041Z"
   },
   {
    "duration": 11,
    "start_time": "2024-11-25T08:29:28.049Z"
   },
   {
    "duration": 8,
    "start_time": "2024-11-25T08:29:28.062Z"
   },
   {
    "duration": 70,
    "start_time": "2024-11-25T08:29:28.071Z"
   },
   {
    "duration": 12,
    "start_time": "2024-11-25T08:29:28.142Z"
   },
   {
    "duration": 14,
    "start_time": "2024-11-25T08:29:28.155Z"
   },
   {
    "duration": 10,
    "start_time": "2024-11-25T08:29:28.171Z"
   },
   {
    "duration": 36,
    "start_time": "2024-11-25T08:29:28.182Z"
   },
   {
    "duration": 4,
    "start_time": "2024-11-25T08:29:28.219Z"
   },
   {
    "duration": 4,
    "start_time": "2024-11-25T08:29:28.224Z"
   },
   {
    "duration": 10,
    "start_time": "2024-11-25T08:29:28.229Z"
   },
   {
    "duration": 11,
    "start_time": "2024-11-25T08:29:28.240Z"
   },
   {
    "duration": 3,
    "start_time": "2024-11-25T08:29:28.252Z"
   },
   {
    "duration": 58,
    "start_time": "2024-11-25T08:29:28.257Z"
   },
   {
    "duration": 11,
    "start_time": "2024-11-25T08:29:28.317Z"
   },
   {
    "duration": 79,
    "start_time": "2024-11-25T08:29:28.329Z"
   },
   {
    "duration": 10,
    "start_time": "2024-11-25T08:29:28.409Z"
   },
   {
    "duration": 10,
    "start_time": "2024-11-25T08:29:28.421Z"
   },
   {
    "duration": 77,
    "start_time": "2024-11-25T08:29:28.433Z"
   },
   {
    "duration": 5,
    "start_time": "2024-11-25T08:29:28.515Z"
   },
   {
    "duration": 4,
    "start_time": "2024-11-25T08:29:28.527Z"
   },
   {
    "duration": 76,
    "start_time": "2024-11-25T08:29:28.533Z"
   },
   {
    "duration": 275,
    "start_time": "2024-11-25T08:29:28.611Z"
   },
   {
    "duration": 24,
    "start_time": "2024-11-25T08:29:28.889Z"
   },
   {
    "duration": 5,
    "start_time": "2024-11-25T08:29:28.915Z"
   },
   {
    "duration": 2,
    "start_time": "2024-11-25T08:29:28.922Z"
   },
   {
    "duration": 83,
    "start_time": "2024-11-25T08:29:28.926Z"
   },
   {
    "duration": 242,
    "start_time": "2024-11-25T08:29:29.011Z"
   },
   {
    "duration": 22,
    "start_time": "2024-11-25T11:58:58.692Z"
   },
   {
    "duration": 22,
    "start_time": "2024-11-25T11:59:21.531Z"
   },
   {
    "duration": 22,
    "start_time": "2024-11-25T11:59:45.378Z"
   },
   {
    "duration": 22,
    "start_time": "2024-11-25T11:59:50.417Z"
   },
   {
    "duration": 24,
    "start_time": "2024-11-25T12:02:37.315Z"
   },
   {
    "duration": 21,
    "start_time": "2024-11-25T12:02:47.754Z"
   },
   {
    "duration": 20,
    "start_time": "2024-11-25T12:03:32.475Z"
   },
   {
    "duration": 21,
    "start_time": "2024-11-25T12:03:38.529Z"
   },
   {
    "duration": 2617,
    "start_time": "2024-11-26T06:30:51.578Z"
   },
   {
    "duration": 301,
    "start_time": "2024-11-26T06:30:54.198Z"
   },
   {
    "duration": 9,
    "start_time": "2024-11-26T06:30:54.501Z"
   },
   {
    "duration": 20,
    "start_time": "2024-11-26T06:30:54.512Z"
   },
   {
    "duration": 8,
    "start_time": "2024-11-26T06:30:54.534Z"
   },
   {
    "duration": 31,
    "start_time": "2024-11-26T06:30:54.544Z"
   },
   {
    "duration": 10,
    "start_time": "2024-11-26T06:30:54.578Z"
   },
   {
    "duration": 15,
    "start_time": "2024-11-26T06:30:54.589Z"
   },
   {
    "duration": 11,
    "start_time": "2024-11-26T06:30:54.632Z"
   },
   {
    "duration": 8,
    "start_time": "2024-11-26T06:30:54.646Z"
   },
   {
    "duration": 4,
    "start_time": "2024-11-26T06:30:54.656Z"
   },
   {
    "duration": 7,
    "start_time": "2024-11-26T06:30:54.662Z"
   },
   {
    "duration": 11,
    "start_time": "2024-11-26T06:30:54.671Z"
   },
   {
    "duration": 7,
    "start_time": "2024-11-26T06:30:54.683Z"
   },
   {
    "duration": 71,
    "start_time": "2024-11-26T06:30:54.692Z"
   },
   {
    "duration": 15,
    "start_time": "2024-11-26T06:30:54.765Z"
   },
   {
    "duration": 14,
    "start_time": "2024-11-26T06:30:54.781Z"
   },
   {
    "duration": 9,
    "start_time": "2024-11-26T06:30:54.797Z"
   },
   {
    "duration": 34,
    "start_time": "2024-11-26T06:30:54.808Z"
   },
   {
    "duration": 5,
    "start_time": "2024-11-26T06:30:54.843Z"
   },
   {
    "duration": 8,
    "start_time": "2024-11-26T06:30:54.849Z"
   },
   {
    "duration": 10,
    "start_time": "2024-11-26T06:30:54.859Z"
   },
   {
    "duration": 8,
    "start_time": "2024-11-26T06:30:54.871Z"
   },
   {
    "duration": 64,
    "start_time": "2024-11-26T06:30:54.881Z"
   },
   {
    "duration": 14,
    "start_time": "2024-11-26T06:30:54.947Z"
   },
   {
    "duration": 15,
    "start_time": "2024-11-26T06:30:54.962Z"
   },
   {
    "duration": 8,
    "start_time": "2024-11-26T06:30:54.979Z"
   },
   {
    "duration": 11,
    "start_time": "2024-11-26T06:30:54.992Z"
   },
   {
    "duration": 4,
    "start_time": "2024-11-26T06:30:55.032Z"
   },
   {
    "duration": 4,
    "start_time": "2024-11-26T06:30:55.038Z"
   },
   {
    "duration": 10,
    "start_time": "2024-11-26T06:30:55.043Z"
   },
   {
    "duration": 78,
    "start_time": "2024-11-26T06:30:55.054Z"
   },
   {
    "duration": 4,
    "start_time": "2024-11-26T06:30:55.134Z"
   },
   {
    "duration": 91,
    "start_time": "2024-11-26T06:30:55.140Z"
   },
   {
    "duration": 11,
    "start_time": "2024-11-26T06:30:55.233Z"
   },
   {
    "duration": 6,
    "start_time": "2024-11-26T06:30:55.247Z"
   },
   {
    "duration": 75,
    "start_time": "2024-11-26T06:30:55.258Z"
   },
   {
    "duration": 11,
    "start_time": "2024-11-26T06:30:55.338Z"
   },
   {
    "duration": 3,
    "start_time": "2024-11-26T06:30:55.350Z"
   },
   {
    "duration": 76,
    "start_time": "2024-11-26T06:30:55.355Z"
   },
   {
    "duration": 4,
    "start_time": "2024-11-26T06:30:55.433Z"
   },
   {
    "duration": 6,
    "start_time": "2024-11-26T06:30:55.439Z"
   },
   {
    "duration": 255,
    "start_time": "2024-11-26T06:30:55.447Z"
   },
   {
    "duration": 28,
    "start_time": "2024-11-26T06:30:55.703Z"
   },
   {
    "duration": 5,
    "start_time": "2024-11-26T06:30:55.733Z"
   },
   {
    "duration": 3,
    "start_time": "2024-11-26T06:30:55.740Z"
   },
   {
    "duration": 9,
    "start_time": "2024-11-26T06:30:55.744Z"
   },
   {
    "duration": 348,
    "start_time": "2024-11-26T06:30:55.754Z"
   },
   {
    "duration": 14,
    "start_time": "2024-11-26T06:59:40.939Z"
   },
   {
    "duration": 17,
    "start_time": "2024-11-26T07:19:17.347Z"
   },
   {
    "duration": 2,
    "start_time": "2024-11-26T07:19:25.247Z"
   },
   {
    "duration": 232,
    "start_time": "2024-11-26T07:19:25.251Z"
   },
   {
    "duration": 7,
    "start_time": "2024-11-26T07:19:25.485Z"
   },
   {
    "duration": 10,
    "start_time": "2024-11-26T07:19:25.494Z"
   },
   {
    "duration": 7,
    "start_time": "2024-11-26T07:19:25.507Z"
   },
   {
    "duration": 44,
    "start_time": "2024-11-26T07:19:25.516Z"
   },
   {
    "duration": 10,
    "start_time": "2024-11-26T07:19:25.561Z"
   },
   {
    "duration": 16,
    "start_time": "2024-11-26T07:19:25.572Z"
   },
   {
    "duration": 11,
    "start_time": "2024-11-26T07:19:25.590Z"
   },
   {
    "duration": 33,
    "start_time": "2024-11-26T07:19:25.602Z"
   },
   {
    "duration": 6,
    "start_time": "2024-11-26T07:19:25.637Z"
   },
   {
    "duration": 7,
    "start_time": "2024-11-26T07:19:25.644Z"
   },
   {
    "duration": 10,
    "start_time": "2024-11-26T07:19:25.653Z"
   },
   {
    "duration": 7,
    "start_time": "2024-11-26T07:19:25.666Z"
   },
   {
    "duration": 56,
    "start_time": "2024-11-26T07:19:25.675Z"
   },
   {
    "duration": 10,
    "start_time": "2024-11-26T07:19:25.732Z"
   },
   {
    "duration": 15,
    "start_time": "2024-11-26T07:19:25.744Z"
   },
   {
    "duration": 8,
    "start_time": "2024-11-26T07:19:25.760Z"
   },
   {
    "duration": 11,
    "start_time": "2024-11-26T07:19:25.770Z"
   },
   {
    "duration": 4,
    "start_time": "2024-11-26T07:19:25.783Z"
   },
   {
    "duration": 7,
    "start_time": "2024-11-26T07:19:25.788Z"
   },
   {
    "duration": 44,
    "start_time": "2024-11-26T07:19:25.797Z"
   },
   {
    "duration": 7,
    "start_time": "2024-11-26T07:19:25.843Z"
   },
   {
    "duration": 29,
    "start_time": "2024-11-26T07:19:25.852Z"
   },
   {
    "duration": 9,
    "start_time": "2024-11-26T07:19:25.883Z"
   },
   {
    "duration": 43,
    "start_time": "2024-11-26T07:19:25.894Z"
   },
   {
    "duration": 8,
    "start_time": "2024-11-26T07:19:25.939Z"
   },
   {
    "duration": 10,
    "start_time": "2024-11-26T07:19:25.949Z"
   },
   {
    "duration": 4,
    "start_time": "2024-11-26T07:19:25.960Z"
   },
   {
    "duration": 3,
    "start_time": "2024-11-26T07:19:25.966Z"
   },
   {
    "duration": 9,
    "start_time": "2024-11-26T07:19:25.972Z"
   },
   {
    "duration": 48,
    "start_time": "2024-11-26T07:19:25.983Z"
   },
   {
    "duration": 4,
    "start_time": "2024-11-26T07:19:26.033Z"
   },
   {
    "duration": 10,
    "start_time": "2024-11-26T07:19:26.041Z"
   },
   {
    "duration": 247,
    "start_time": "2024-11-26T07:19:26.052Z"
   },
   {
    "duration": 0,
    "start_time": "2024-11-26T07:19:26.301Z"
   },
   {
    "duration": 0,
    "start_time": "2024-11-26T07:19:26.302Z"
   },
   {
    "duration": 0,
    "start_time": "2024-11-26T07:19:26.304Z"
   },
   {
    "duration": 0,
    "start_time": "2024-11-26T07:19:26.305Z"
   },
   {
    "duration": 0,
    "start_time": "2024-11-26T07:19:26.306Z"
   },
   {
    "duration": 0,
    "start_time": "2024-11-26T07:19:26.331Z"
   },
   {
    "duration": 0,
    "start_time": "2024-11-26T07:19:26.332Z"
   },
   {
    "duration": 0,
    "start_time": "2024-11-26T07:19:26.333Z"
   },
   {
    "duration": 0,
    "start_time": "2024-11-26T07:19:26.336Z"
   },
   {
    "duration": 0,
    "start_time": "2024-11-26T07:19:26.337Z"
   },
   {
    "duration": 0,
    "start_time": "2024-11-26T07:19:26.338Z"
   },
   {
    "duration": 0,
    "start_time": "2024-11-26T07:19:26.339Z"
   },
   {
    "duration": 0,
    "start_time": "2024-11-26T07:19:26.341Z"
   },
   {
    "duration": 905,
    "start_time": "2024-11-26T07:19:43.178Z"
   },
   {
    "duration": 212,
    "start_time": "2024-11-26T07:19:44.086Z"
   },
   {
    "duration": 10,
    "start_time": "2024-11-26T07:19:44.300Z"
   },
   {
    "duration": 21,
    "start_time": "2024-11-26T07:19:44.311Z"
   },
   {
    "duration": 8,
    "start_time": "2024-11-26T07:19:44.334Z"
   },
   {
    "duration": 33,
    "start_time": "2024-11-26T07:19:44.343Z"
   },
   {
    "duration": 10,
    "start_time": "2024-11-26T07:19:44.377Z"
   },
   {
    "duration": 17,
    "start_time": "2024-11-26T07:19:44.388Z"
   },
   {
    "duration": 34,
    "start_time": "2024-11-26T07:19:44.406Z"
   },
   {
    "duration": 8,
    "start_time": "2024-11-26T07:19:44.442Z"
   },
   {
    "duration": 5,
    "start_time": "2024-11-26T07:19:44.452Z"
   },
   {
    "duration": 8,
    "start_time": "2024-11-26T07:19:44.458Z"
   },
   {
    "duration": 11,
    "start_time": "2024-11-26T07:19:44.467Z"
   },
   {
    "duration": 7,
    "start_time": "2024-11-26T07:19:44.481Z"
   },
   {
    "duration": 62,
    "start_time": "2024-11-26T07:19:44.490Z"
   },
   {
    "duration": 13,
    "start_time": "2024-11-26T07:19:44.555Z"
   },
   {
    "duration": 16,
    "start_time": "2024-11-26T07:19:44.570Z"
   },
   {
    "duration": 9,
    "start_time": "2024-11-26T07:19:44.588Z"
   },
   {
    "duration": 34,
    "start_time": "2024-11-26T07:19:44.599Z"
   },
   {
    "duration": 4,
    "start_time": "2024-11-26T07:19:44.635Z"
   },
   {
    "duration": 6,
    "start_time": "2024-11-26T07:19:44.642Z"
   },
   {
    "duration": 10,
    "start_time": "2024-11-26T07:19:44.650Z"
   },
   {
    "duration": 8,
    "start_time": "2024-11-26T07:19:44.662Z"
   },
   {
    "duration": 60,
    "start_time": "2024-11-26T07:19:44.671Z"
   },
   {
    "duration": 11,
    "start_time": "2024-11-26T07:19:44.732Z"
   },
   {
    "duration": 15,
    "start_time": "2024-11-26T07:19:44.744Z"
   },
   {
    "duration": 10,
    "start_time": "2024-11-26T07:19:44.761Z"
   },
   {
    "duration": 12,
    "start_time": "2024-11-26T07:19:44.772Z"
   },
   {
    "duration": 4,
    "start_time": "2024-11-26T07:19:44.785Z"
   },
   {
    "duration": 3,
    "start_time": "2024-11-26T07:19:44.791Z"
   },
   {
    "duration": 40,
    "start_time": "2024-11-26T07:19:44.796Z"
   },
   {
    "duration": 15,
    "start_time": "2024-11-26T07:19:44.837Z"
   },
   {
    "duration": 3,
    "start_time": "2024-11-26T07:19:44.854Z"
   },
   {
    "duration": 74,
    "start_time": "2024-11-26T07:19:44.858Z"
   },
   {
    "duration": 464,
    "start_time": "2024-11-26T07:19:44.934Z"
   },
   {
    "duration": 0,
    "start_time": "2024-11-26T07:19:45.401Z"
   },
   {
    "duration": 0,
    "start_time": "2024-11-26T07:19:45.402Z"
   },
   {
    "duration": 0,
    "start_time": "2024-11-26T07:19:45.404Z"
   },
   {
    "duration": 0,
    "start_time": "2024-11-26T07:19:45.405Z"
   },
   {
    "duration": 0,
    "start_time": "2024-11-26T07:19:45.407Z"
   },
   {
    "duration": 0,
    "start_time": "2024-11-26T07:19:45.408Z"
   },
   {
    "duration": 0,
    "start_time": "2024-11-26T07:19:45.410Z"
   },
   {
    "duration": 0,
    "start_time": "2024-11-26T07:19:45.411Z"
   },
   {
    "duration": 0,
    "start_time": "2024-11-26T07:19:45.412Z"
   },
   {
    "duration": 0,
    "start_time": "2024-11-26T07:19:45.432Z"
   },
   {
    "duration": 0,
    "start_time": "2024-11-26T07:19:45.433Z"
   },
   {
    "duration": 0,
    "start_time": "2024-11-26T07:19:45.434Z"
   },
   {
    "duration": 0,
    "start_time": "2024-11-26T07:19:45.436Z"
   },
   {
    "duration": 852,
    "start_time": "2024-11-26T07:20:10.297Z"
   },
   {
    "duration": 223,
    "start_time": "2024-11-26T07:20:11.151Z"
   },
   {
    "duration": 10,
    "start_time": "2024-11-26T07:20:11.376Z"
   },
   {
    "duration": 11,
    "start_time": "2024-11-26T07:20:11.389Z"
   },
   {
    "duration": 8,
    "start_time": "2024-11-26T07:20:11.401Z"
   },
   {
    "duration": 47,
    "start_time": "2024-11-26T07:20:11.411Z"
   },
   {
    "duration": 9,
    "start_time": "2024-11-26T07:20:11.460Z"
   },
   {
    "duration": 14,
    "start_time": "2024-11-26T07:20:11.471Z"
   },
   {
    "duration": 10,
    "start_time": "2024-11-26T07:20:11.487Z"
   },
   {
    "duration": 31,
    "start_time": "2024-11-26T07:20:11.501Z"
   },
   {
    "duration": 5,
    "start_time": "2024-11-26T07:20:11.533Z"
   },
   {
    "duration": 7,
    "start_time": "2024-11-26T07:20:11.540Z"
   },
   {
    "duration": 10,
    "start_time": "2024-11-26T07:20:11.549Z"
   },
   {
    "duration": 7,
    "start_time": "2024-11-26T07:20:11.561Z"
   },
   {
    "duration": 62,
    "start_time": "2024-11-26T07:20:11.570Z"
   },
   {
    "duration": 10,
    "start_time": "2024-11-26T07:20:11.634Z"
   },
   {
    "duration": 15,
    "start_time": "2024-11-26T07:20:11.645Z"
   },
   {
    "duration": 10,
    "start_time": "2024-11-26T07:20:11.662Z"
   },
   {
    "duration": 12,
    "start_time": "2024-11-26T07:20:11.674Z"
   },
   {
    "duration": 4,
    "start_time": "2024-11-26T07:20:11.687Z"
   },
   {
    "duration": 40,
    "start_time": "2024-11-26T07:20:11.693Z"
   },
   {
    "duration": 12,
    "start_time": "2024-11-26T07:20:11.735Z"
   },
   {
    "duration": 8,
    "start_time": "2024-11-26T07:20:11.749Z"
   },
   {
    "duration": 35,
    "start_time": "2024-11-26T07:20:11.759Z"
   },
   {
    "duration": 36,
    "start_time": "2024-11-26T07:20:11.795Z"
   },
   {
    "duration": 15,
    "start_time": "2024-11-26T07:20:11.833Z"
   },
   {
    "duration": 8,
    "start_time": "2024-11-26T07:20:11.850Z"
   },
   {
    "duration": 10,
    "start_time": "2024-11-26T07:20:11.862Z"
   },
   {
    "duration": 4,
    "start_time": "2024-11-26T07:20:11.874Z"
   },
   {
    "duration": 4,
    "start_time": "2024-11-26T07:20:11.880Z"
   },
   {
    "duration": 8,
    "start_time": "2024-11-26T07:20:11.886Z"
   },
   {
    "duration": 49,
    "start_time": "2024-11-26T07:20:11.895Z"
   },
   {
    "duration": 5,
    "start_time": "2024-11-26T07:20:11.946Z"
   },
   {
    "duration": 78,
    "start_time": "2024-11-26T07:20:11.953Z"
   },
   {
    "duration": 11,
    "start_time": "2024-11-26T07:20:44.785Z"
   },
   {
    "duration": 3,
    "start_time": "2024-11-26T07:20:48.395Z"
   },
   {
    "duration": 8,
    "start_time": "2024-11-26T07:20:48.400Z"
   },
   {
    "duration": 9,
    "start_time": "2024-11-26T07:20:48.410Z"
   },
   {
    "duration": 4,
    "start_time": "2024-11-26T07:20:48.420Z"
   },
   {
    "duration": 3,
    "start_time": "2024-11-26T07:20:48.427Z"
   },
   {
    "duration": 3,
    "start_time": "2024-11-26T07:20:48.432Z"
   },
   {
    "duration": 6,
    "start_time": "2024-11-26T07:20:48.436Z"
   },
   {
    "duration": 319,
    "start_time": "2024-11-26T07:20:48.443Z"
   },
   {
    "duration": 16,
    "start_time": "2024-11-26T07:20:48.764Z"
   },
   {
    "duration": 53,
    "start_time": "2024-11-26T07:20:48.781Z"
   },
   {
    "duration": 3,
    "start_time": "2024-11-26T07:20:48.835Z"
   },
   {
    "duration": 9,
    "start_time": "2024-11-26T07:20:48.840Z"
   },
   {
    "duration": 617,
    "start_time": "2024-11-26T07:20:48.850Z"
   },
   {
    "duration": 737,
    "start_time": "2024-11-26T07:21:50.084Z"
   },
   {
    "duration": 505,
    "start_time": "2024-11-26T07:25:46.964Z"
   },
   {
    "duration": 515,
    "start_time": "2024-11-26T07:28:43.696Z"
   },
   {
    "duration": 534,
    "start_time": "2024-11-26T07:30:15.852Z"
   },
   {
    "duration": 8,
    "start_time": "2024-11-26T07:32:08.891Z"
   },
   {
    "duration": 523,
    "start_time": "2024-11-26T07:32:13.867Z"
   },
   {
    "duration": 5,
    "start_time": "2024-11-26T10:29:42.166Z"
   },
   {
    "duration": 873,
    "start_time": "2024-11-26T10:41:19.490Z"
   },
   {
    "duration": 229,
    "start_time": "2024-11-26T10:41:20.365Z"
   },
   {
    "duration": 10,
    "start_time": "2024-11-26T10:41:20.596Z"
   },
   {
    "duration": 10,
    "start_time": "2024-11-26T10:41:20.608Z"
   },
   {
    "duration": 16,
    "start_time": "2024-11-26T10:41:20.620Z"
   },
   {
    "duration": 31,
    "start_time": "2024-11-26T10:41:20.638Z"
   },
   {
    "duration": 11,
    "start_time": "2024-11-26T10:41:20.670Z"
   },
   {
    "duration": 15,
    "start_time": "2024-11-26T10:41:20.683Z"
   },
   {
    "duration": 37,
    "start_time": "2024-11-26T10:41:20.700Z"
   },
   {
    "duration": 8,
    "start_time": "2024-11-26T10:41:20.740Z"
   },
   {
    "duration": 5,
    "start_time": "2024-11-26T10:41:20.750Z"
   },
   {
    "duration": 8,
    "start_time": "2024-11-26T10:41:20.756Z"
   },
   {
    "duration": 11,
    "start_time": "2024-11-26T10:41:20.765Z"
   },
   {
    "duration": 8,
    "start_time": "2024-11-26T10:41:20.778Z"
   },
   {
    "duration": 62,
    "start_time": "2024-11-26T10:41:20.788Z"
   },
   {
    "duration": 10,
    "start_time": "2024-11-26T10:41:20.852Z"
   },
   {
    "duration": 15,
    "start_time": "2024-11-26T10:41:20.863Z"
   },
   {
    "duration": 10,
    "start_time": "2024-11-26T10:41:20.880Z"
   },
   {
    "duration": 11,
    "start_time": "2024-11-26T10:41:20.892Z"
   },
   {
    "duration": 30,
    "start_time": "2024-11-26T10:41:20.904Z"
   },
   {
    "duration": 8,
    "start_time": "2024-11-26T10:41:20.935Z"
   },
   {
    "duration": 10,
    "start_time": "2024-11-26T10:41:20.945Z"
   },
   {
    "duration": 7,
    "start_time": "2024-11-26T10:41:20.957Z"
   },
   {
    "duration": 33,
    "start_time": "2024-11-26T10:41:20.966Z"
   },
   {
    "duration": 39,
    "start_time": "2024-11-26T10:41:21.001Z"
   },
   {
    "duration": 15,
    "start_time": "2024-11-26T10:41:21.042Z"
   },
   {
    "duration": 9,
    "start_time": "2024-11-26T10:41:21.058Z"
   },
   {
    "duration": 12,
    "start_time": "2024-11-26T10:41:21.071Z"
   },
   {
    "duration": 4,
    "start_time": "2024-11-26T10:41:21.084Z"
   },
   {
    "duration": 4,
    "start_time": "2024-11-26T10:41:21.090Z"
   },
   {
    "duration": 42,
    "start_time": "2024-11-26T10:41:21.095Z"
   },
   {
    "duration": 13,
    "start_time": "2024-11-26T10:41:21.139Z"
   },
   {
    "duration": 6,
    "start_time": "2024-11-26T10:41:21.154Z"
   },
   {
    "duration": 73,
    "start_time": "2024-11-26T10:41:21.162Z"
   },
   {
    "duration": 12,
    "start_time": "2024-11-26T10:41:21.237Z"
   },
   {
    "duration": 4,
    "start_time": "2024-11-26T10:41:21.251Z"
   },
   {
    "duration": 10,
    "start_time": "2024-11-26T10:41:21.332Z"
   },
   {
    "duration": 9,
    "start_time": "2024-11-26T10:41:21.344Z"
   },
   {
    "duration": 78,
    "start_time": "2024-11-26T10:41:21.356Z"
   },
   {
    "duration": 5,
    "start_time": "2024-11-26T10:41:21.439Z"
   },
   {
    "duration": 4,
    "start_time": "2024-11-26T10:41:21.449Z"
   },
   {
    "duration": 5,
    "start_time": "2024-11-26T10:41:21.455Z"
   },
   {
    "duration": 336,
    "start_time": "2024-11-26T10:41:21.461Z"
   },
   {
    "duration": 33,
    "start_time": "2024-11-26T10:41:21.798Z"
   },
   {
    "duration": 5,
    "start_time": "2024-11-26T10:41:21.833Z"
   },
   {
    "duration": 3,
    "start_time": "2024-11-26T10:41:21.841Z"
   },
   {
    "duration": 9,
    "start_time": "2024-11-26T10:41:21.845Z"
   },
   {
    "duration": 285,
    "start_time": "2024-11-26T10:41:21.855Z"
   },
   {
    "duration": 5124,
    "start_time": "2024-11-26T10:41:31.396Z"
   },
   {
    "duration": 4424,
    "start_time": "2024-11-26T10:47:09.697Z"
   },
   {
    "duration": 877,
    "start_time": "2024-11-26T10:53:50.580Z"
   },
   {
    "duration": 218,
    "start_time": "2024-11-26T10:53:51.460Z"
   },
   {
    "duration": 10,
    "start_time": "2024-11-26T10:53:51.681Z"
   },
   {
    "duration": 12,
    "start_time": "2024-11-26T10:53:51.693Z"
   },
   {
    "duration": 7,
    "start_time": "2024-11-26T10:53:51.707Z"
   },
   {
    "duration": 33,
    "start_time": "2024-11-26T10:53:51.730Z"
   },
   {
    "duration": 10,
    "start_time": "2024-11-26T10:53:51.765Z"
   },
   {
    "duration": 16,
    "start_time": "2024-11-26T10:53:51.777Z"
   },
   {
    "duration": 36,
    "start_time": "2024-11-26T10:53:51.795Z"
   },
   {
    "duration": 14,
    "start_time": "2024-11-26T10:53:51.836Z"
   },
   {
    "duration": 6,
    "start_time": "2024-11-26T10:53:51.852Z"
   },
   {
    "duration": 7,
    "start_time": "2024-11-26T10:53:51.859Z"
   },
   {
    "duration": 11,
    "start_time": "2024-11-26T10:53:51.868Z"
   },
   {
    "duration": 8,
    "start_time": "2024-11-26T10:53:51.881Z"
   },
   {
    "duration": 62,
    "start_time": "2024-11-26T10:53:51.891Z"
   },
   {
    "duration": 13,
    "start_time": "2024-11-26T10:53:51.956Z"
   },
   {
    "duration": 14,
    "start_time": "2024-11-26T10:53:51.971Z"
   },
   {
    "duration": 9,
    "start_time": "2024-11-26T10:53:51.987Z"
   },
   {
    "duration": 43,
    "start_time": "2024-11-26T10:53:51.997Z"
   },
   {
    "duration": 4,
    "start_time": "2024-11-26T10:53:52.042Z"
   },
   {
    "duration": 7,
    "start_time": "2024-11-26T10:53:52.048Z"
   },
   {
    "duration": 10,
    "start_time": "2024-11-26T10:53:52.057Z"
   },
   {
    "duration": 8,
    "start_time": "2024-11-26T10:53:52.068Z"
   },
   {
    "duration": 59,
    "start_time": "2024-11-26T10:53:52.078Z"
   },
   {
    "duration": 10,
    "start_time": "2024-11-26T10:53:52.138Z"
   },
   {
    "duration": 14,
    "start_time": "2024-11-26T10:53:52.149Z"
   },
   {
    "duration": 9,
    "start_time": "2024-11-26T10:53:52.165Z"
   },
   {
    "duration": 10,
    "start_time": "2024-11-26T10:53:52.179Z"
   },
   {
    "duration": 3,
    "start_time": "2024-11-26T10:53:52.190Z"
   },
   {
    "duration": 3,
    "start_time": "2024-11-26T10:53:52.195Z"
   },
   {
    "duration": 40,
    "start_time": "2024-11-26T10:53:52.199Z"
   },
   {
    "duration": 12,
    "start_time": "2024-11-26T10:53:52.241Z"
   },
   {
    "duration": 7,
    "start_time": "2024-11-26T10:53:52.254Z"
   },
   {
    "duration": 74,
    "start_time": "2024-11-26T10:53:52.263Z"
   },
   {
    "duration": 92,
    "start_time": "2024-11-26T10:53:52.341Z"
   },
   {
    "duration": 4,
    "start_time": "2024-11-26T10:53:52.438Z"
   },
   {
    "duration": 350,
    "start_time": "2024-11-26T10:53:52.447Z"
   },
   {
    "duration": 0,
    "start_time": "2024-11-26T10:53:52.799Z"
   },
   {
    "duration": 0,
    "start_time": "2024-11-26T10:53:52.800Z"
   },
   {
    "duration": 0,
    "start_time": "2024-11-26T10:53:52.801Z"
   },
   {
    "duration": 0,
    "start_time": "2024-11-26T10:53:52.802Z"
   },
   {
    "duration": 0,
    "start_time": "2024-11-26T10:53:52.804Z"
   },
   {
    "duration": 0,
    "start_time": "2024-11-26T10:53:52.805Z"
   },
   {
    "duration": 0,
    "start_time": "2024-11-26T10:53:52.806Z"
   },
   {
    "duration": 0,
    "start_time": "2024-11-26T10:53:52.808Z"
   },
   {
    "duration": 0,
    "start_time": "2024-11-26T10:53:52.809Z"
   },
   {
    "duration": 0,
    "start_time": "2024-11-26T10:53:52.810Z"
   },
   {
    "duration": 882,
    "start_time": "2024-11-26T10:54:15.473Z"
   },
   {
    "duration": 219,
    "start_time": "2024-11-26T10:54:16.358Z"
   },
   {
    "duration": 10,
    "start_time": "2024-11-26T10:54:16.579Z"
   },
   {
    "duration": 11,
    "start_time": "2024-11-26T10:54:16.591Z"
   },
   {
    "duration": 8,
    "start_time": "2024-11-26T10:54:16.603Z"
   },
   {
    "duration": 52,
    "start_time": "2024-11-26T10:54:16.612Z"
   },
   {
    "duration": 10,
    "start_time": "2024-11-26T10:54:16.666Z"
   },
   {
    "duration": 17,
    "start_time": "2024-11-26T10:54:16.678Z"
   },
   {
    "duration": 34,
    "start_time": "2024-11-26T10:54:16.697Z"
   },
   {
    "duration": 8,
    "start_time": "2024-11-26T10:54:16.734Z"
   },
   {
    "duration": 5,
    "start_time": "2024-11-26T10:54:16.744Z"
   },
   {
    "duration": 7,
    "start_time": "2024-11-26T10:54:16.750Z"
   },
   {
    "duration": 11,
    "start_time": "2024-11-26T10:54:16.758Z"
   },
   {
    "duration": 7,
    "start_time": "2024-11-26T10:54:16.771Z"
   },
   {
    "duration": 61,
    "start_time": "2024-11-26T10:54:16.779Z"
   },
   {
    "duration": 11,
    "start_time": "2024-11-26T10:54:16.842Z"
   },
   {
    "duration": 14,
    "start_time": "2024-11-26T10:54:16.855Z"
   },
   {
    "duration": 9,
    "start_time": "2024-11-26T10:54:16.870Z"
   },
   {
    "duration": 11,
    "start_time": "2024-11-26T10:54:16.880Z"
   },
   {
    "duration": 4,
    "start_time": "2024-11-26T10:54:16.892Z"
   },
   {
    "duration": 37,
    "start_time": "2024-11-26T10:54:16.898Z"
   },
   {
    "duration": 10,
    "start_time": "2024-11-26T10:54:16.937Z"
   },
   {
    "duration": 7,
    "start_time": "2024-11-26T10:54:16.949Z"
   },
   {
    "duration": 30,
    "start_time": "2024-11-26T10:54:16.958Z"
   },
   {
    "duration": 9,
    "start_time": "2024-11-26T10:54:16.990Z"
   },
   {
    "duration": 38,
    "start_time": "2024-11-26T10:54:17.001Z"
   },
   {
    "duration": 9,
    "start_time": "2024-11-26T10:54:17.041Z"
   },
   {
    "duration": 10,
    "start_time": "2024-11-26T10:54:17.054Z"
   },
   {
    "duration": 5,
    "start_time": "2024-11-26T10:54:17.066Z"
   },
   {
    "duration": 4,
    "start_time": "2024-11-26T10:54:17.072Z"
   },
   {
    "duration": 9,
    "start_time": "2024-11-26T10:54:17.077Z"
   },
   {
    "duration": 47,
    "start_time": "2024-11-26T10:54:17.088Z"
   },
   {
    "duration": 4,
    "start_time": "2024-11-26T10:54:17.136Z"
   },
   {
    "duration": 12,
    "start_time": "2024-11-26T10:54:17.141Z"
   },
   {
    "duration": 82,
    "start_time": "2024-11-26T10:54:17.155Z"
   },
   {
    "duration": 3,
    "start_time": "2024-11-26T10:54:17.239Z"
   },
   {
    "duration": 11,
    "start_time": "2024-11-26T10:54:17.244Z"
   },
   {
    "duration": 83,
    "start_time": "2024-11-26T10:54:17.257Z"
   },
   {
    "duration": 3,
    "start_time": "2024-11-26T10:54:17.342Z"
   },
   {
    "duration": 3,
    "start_time": "2024-11-26T10:54:17.346Z"
   },
   {
    "duration": 3,
    "start_time": "2024-11-26T10:54:17.351Z"
   },
   {
    "duration": 80,
    "start_time": "2024-11-26T10:54:17.355Z"
   },
   {
    "duration": 314,
    "start_time": "2024-11-26T10:54:17.437Z"
   },
   {
    "duration": 238,
    "start_time": "2024-11-26T10:54:17.753Z"
   },
   {
    "duration": 0,
    "start_time": "2024-11-26T10:54:17.993Z"
   },
   {
    "duration": 0,
    "start_time": "2024-11-26T10:54:17.995Z"
   },
   {
    "duration": 0,
    "start_time": "2024-11-26T10:54:17.996Z"
   },
   {
    "duration": 3,
    "start_time": "2024-11-26T10:57:39.635Z"
   },
   {
    "duration": 5,
    "start_time": "2024-11-26T10:57:40.328Z"
   },
   {
    "duration": 15,
    "start_time": "2024-11-26T10:57:44.300Z"
   },
   {
    "duration": 13,
    "start_time": "2024-11-26T10:57:59.378Z"
   },
   {
    "duration": 4,
    "start_time": "2024-11-26T10:58:02.129Z"
   },
   {
    "duration": 14,
    "start_time": "2024-11-26T10:58:03.191Z"
   },
   {
    "duration": 14,
    "start_time": "2024-11-26T10:58:26.057Z"
   },
   {
    "duration": 4,
    "start_time": "2024-11-26T10:58:30.277Z"
   },
   {
    "duration": 3,
    "start_time": "2024-11-26T10:58:42.305Z"
   },
   {
    "duration": 5,
    "start_time": "2024-11-26T10:58:45.401Z"
   },
   {
    "duration": 240,
    "start_time": "2024-11-26T10:59:22.744Z"
   },
   {
    "duration": 120,
    "start_time": "2024-11-26T10:59:43.956Z"
   },
   {
    "duration": 18,
    "start_time": "2024-11-26T11:00:05.799Z"
   },
   {
    "duration": 16,
    "start_time": "2024-11-26T11:02:59.805Z"
   },
   {
    "duration": 17,
    "start_time": "2024-11-26T11:03:39.805Z"
   },
   {
    "duration": 24,
    "start_time": "2024-11-26T11:03:43.182Z"
   },
   {
    "duration": 16,
    "start_time": "2024-11-26T11:04:02.017Z"
   },
   {
    "duration": 17,
    "start_time": "2024-11-26T11:04:05.075Z"
   },
   {
    "duration": 2587,
    "start_time": "2024-11-26T22:49:37.840Z"
   },
   {
    "duration": 281,
    "start_time": "2024-11-26T22:49:40.430Z"
   },
   {
    "duration": 10,
    "start_time": "2024-11-26T22:49:40.713Z"
   },
   {
    "duration": 11,
    "start_time": "2024-11-26T22:49:40.725Z"
   },
   {
    "duration": 8,
    "start_time": "2024-11-26T22:49:40.738Z"
   },
   {
    "duration": 47,
    "start_time": "2024-11-26T22:49:40.748Z"
   },
   {
    "duration": 9,
    "start_time": "2024-11-26T22:49:40.796Z"
   },
   {
    "duration": 15,
    "start_time": "2024-11-26T22:49:40.807Z"
   },
   {
    "duration": 11,
    "start_time": "2024-11-26T22:49:40.823Z"
   },
   {
    "duration": 8,
    "start_time": "2024-11-26T22:49:40.835Z"
   },
   {
    "duration": 4,
    "start_time": "2024-11-26T22:49:40.846Z"
   },
   {
    "duration": 36,
    "start_time": "2024-11-26T22:49:40.851Z"
   },
   {
    "duration": 12,
    "start_time": "2024-11-26T22:49:40.889Z"
   },
   {
    "duration": 8,
    "start_time": "2024-11-26T22:49:40.906Z"
   },
   {
    "duration": 29,
    "start_time": "2024-11-26T22:49:40.915Z"
   },
   {
    "duration": 9,
    "start_time": "2024-11-26T22:49:40.946Z"
   },
   {
    "duration": 41,
    "start_time": "2024-11-26T22:49:40.957Z"
   },
   {
    "duration": 8,
    "start_time": "2024-11-26T22:49:41.000Z"
   },
   {
    "duration": 10,
    "start_time": "2024-11-26T22:49:41.010Z"
   },
   {
    "duration": 4,
    "start_time": "2024-11-26T22:49:41.022Z"
   },
   {
    "duration": 7,
    "start_time": "2024-11-26T22:49:41.028Z"
   },
   {
    "duration": 11,
    "start_time": "2024-11-26T22:49:41.036Z"
   },
   {
    "duration": 41,
    "start_time": "2024-11-26T22:49:41.049Z"
   },
   {
    "duration": 32,
    "start_time": "2024-11-26T22:49:41.092Z"
   },
   {
    "duration": 10,
    "start_time": "2024-11-26T22:49:41.125Z"
   },
   {
    "duration": 14,
    "start_time": "2024-11-26T22:49:41.137Z"
   },
   {
    "duration": 34,
    "start_time": "2024-11-26T22:49:41.152Z"
   },
   {
    "duration": 10,
    "start_time": "2024-11-26T22:49:41.188Z"
   },
   {
    "duration": 3,
    "start_time": "2024-11-26T22:49:41.199Z"
   },
   {
    "duration": 4,
    "start_time": "2024-11-26T22:49:41.204Z"
   },
   {
    "duration": 9,
    "start_time": "2024-11-26T22:49:41.209Z"
   },
   {
    "duration": 73,
    "start_time": "2024-11-26T22:49:41.219Z"
   },
   {
    "duration": 4,
    "start_time": "2024-11-26T22:49:41.294Z"
   },
   {
    "duration": 89,
    "start_time": "2024-11-26T22:49:41.299Z"
   },
   {
    "duration": 11,
    "start_time": "2024-11-26T22:49:41.390Z"
   },
   {
    "duration": 4,
    "start_time": "2024-11-26T22:49:41.402Z"
   },
   {
    "duration": 79,
    "start_time": "2024-11-26T22:49:41.408Z"
   },
   {
    "duration": 12,
    "start_time": "2024-11-26T22:49:41.488Z"
   },
   {
    "duration": 81,
    "start_time": "2024-11-26T22:49:41.505Z"
   },
   {
    "duration": 3,
    "start_time": "2024-11-26T22:49:41.588Z"
   },
   {
    "duration": 3,
    "start_time": "2024-11-26T22:49:41.596Z"
   },
   {
    "duration": 4,
    "start_time": "2024-11-26T22:49:41.601Z"
   },
   {
    "duration": 248,
    "start_time": "2024-11-26T22:49:41.607Z"
   },
   {
    "duration": 4,
    "start_time": "2024-11-26T22:49:41.857Z"
   },
   {
    "duration": 235,
    "start_time": "2024-11-26T22:49:41.863Z"
   },
   {
    "duration": 0,
    "start_time": "2024-11-26T22:49:42.099Z"
   },
   {
    "duration": 0,
    "start_time": "2024-11-26T22:49:42.101Z"
   },
   {
    "duration": 0,
    "start_time": "2024-11-26T22:49:42.102Z"
   },
   {
    "duration": 19,
    "start_time": "2024-11-26T22:49:58.688Z"
   },
   {
    "duration": 27,
    "start_time": "2024-11-26T23:32:00.946Z"
   },
   {
    "duration": 4,
    "start_time": "2024-11-26T23:32:03.244Z"
   },
   {
    "duration": 18,
    "start_time": "2024-11-26T23:32:11.620Z"
   },
   {
    "duration": 21,
    "start_time": "2024-11-26T23:32:17.323Z"
   },
   {
    "duration": 3,
    "start_time": "2024-11-26T23:32:34.491Z"
   },
   {
    "duration": 20,
    "start_time": "2024-11-26T23:32:35.758Z"
   },
   {
    "duration": 6,
    "start_time": "2024-11-26T23:32:43.487Z"
   },
   {
    "duration": 24,
    "start_time": "2024-11-26T23:33:00.013Z"
   },
   {
    "duration": 2,
    "start_time": "2024-11-26T23:34:23.663Z"
   },
   {
    "duration": 4,
    "start_time": "2024-11-26T23:35:13.762Z"
   },
   {
    "duration": 27,
    "start_time": "2024-11-26T23:35:14.998Z"
   },
   {
    "duration": 8,
    "start_time": "2024-11-26T23:35:27.774Z"
   },
   {
    "duration": 3,
    "start_time": "2024-11-26T23:36:07.359Z"
   },
   {
    "duration": 22,
    "start_time": "2024-11-26T23:36:09.798Z"
   },
   {
    "duration": 3,
    "start_time": "2024-11-26T23:36:12.654Z"
   },
   {
    "duration": 5,
    "start_time": "2024-11-26T23:36:15.886Z"
   },
   {
    "duration": 4,
    "start_time": "2024-11-26T23:37:12.362Z"
   },
   {
    "duration": 6,
    "start_time": "2024-11-26T23:37:13.556Z"
   },
   {
    "duration": 8,
    "start_time": "2024-11-26T23:37:23.618Z"
   },
   {
    "duration": 12,
    "start_time": "2024-11-26T23:37:45.170Z"
   },
   {
    "duration": 5,
    "start_time": "2024-11-26T23:38:07.016Z"
   },
   {
    "duration": 16,
    "start_time": "2024-11-26T23:38:12.517Z"
   },
   {
    "duration": 3,
    "start_time": "2024-11-26T23:38:57.184Z"
   },
   {
    "duration": 12,
    "start_time": "2024-11-26T23:38:57.750Z"
   },
   {
    "duration": 3,
    "start_time": "2024-11-26T23:39:35.953Z"
   },
   {
    "duration": 10,
    "start_time": "2024-11-26T23:39:36.900Z"
   },
   {
    "duration": 13,
    "start_time": "2024-11-26T23:40:26.237Z"
   },
   {
    "duration": 14,
    "start_time": "2024-11-26T23:40:26.777Z"
   },
   {
    "duration": 2,
    "start_time": "2024-11-26T23:41:04.543Z"
   },
   {
    "duration": 11,
    "start_time": "2024-11-26T23:41:05.327Z"
   },
   {
    "duration": 18,
    "start_time": "2024-11-26T23:42:19.171Z"
   },
   {
    "duration": 3,
    "start_time": "2024-11-26T23:42:25.432Z"
   },
   {
    "duration": 11,
    "start_time": "2024-11-26T23:42:25.917Z"
   },
   {
    "duration": 16,
    "start_time": "2024-11-26T23:42:26.463Z"
   },
   {
    "duration": 80,
    "start_time": "2024-11-26T23:44:00.630Z"
   },
   {
    "duration": 19,
    "start_time": "2024-11-26T23:44:45.829Z"
   },
   {
    "duration": 285,
    "start_time": "2024-11-26T23:45:36.969Z"
   },
   {
    "duration": 76,
    "start_time": "2024-11-26T23:46:19.006Z"
   },
   {
    "duration": 47,
    "start_time": "2024-11-26T23:46:39.830Z"
   },
   {
    "duration": 8,
    "start_time": "2024-11-26T23:46:58.988Z"
   },
   {
    "duration": 16,
    "start_time": "2024-11-26T23:48:49.575Z"
   },
   {
    "duration": 17,
    "start_time": "2024-11-26T23:51:40.958Z"
   },
   {
    "duration": 20,
    "start_time": "2024-11-26T23:52:48.133Z"
   },
   {
    "duration": 17,
    "start_time": "2024-11-26T23:52:55.789Z"
   },
   {
    "duration": 6,
    "start_time": "2024-11-26T23:52:59.781Z"
   },
   {
    "duration": 2601,
    "start_time": "2024-11-27T05:30:06.771Z"
   },
   {
    "duration": 312,
    "start_time": "2024-11-27T05:30:09.374Z"
   },
   {
    "duration": 10,
    "start_time": "2024-11-27T05:30:09.688Z"
   },
   {
    "duration": 10,
    "start_time": "2024-11-27T05:30:09.701Z"
   },
   {
    "duration": 7,
    "start_time": "2024-11-27T05:30:09.713Z"
   },
   {
    "duration": 33,
    "start_time": "2024-11-27T05:30:09.722Z"
   },
   {
    "duration": 11,
    "start_time": "2024-11-27T05:30:09.756Z"
   },
   {
    "duration": 17,
    "start_time": "2024-11-27T05:30:09.768Z"
   },
   {
    "duration": 36,
    "start_time": "2024-11-27T05:30:09.786Z"
   },
   {
    "duration": 9,
    "start_time": "2024-11-27T05:30:09.826Z"
   },
   {
    "duration": 6,
    "start_time": "2024-11-27T05:30:09.836Z"
   },
   {
    "duration": 7,
    "start_time": "2024-11-27T05:30:09.843Z"
   },
   {
    "duration": 10,
    "start_time": "2024-11-27T05:30:09.852Z"
   },
   {
    "duration": 8,
    "start_time": "2024-11-27T05:30:09.863Z"
   },
   {
    "duration": 64,
    "start_time": "2024-11-27T05:30:09.872Z"
   },
   {
    "duration": 12,
    "start_time": "2024-11-27T05:30:09.938Z"
   },
   {
    "duration": 20,
    "start_time": "2024-11-27T05:30:09.952Z"
   },
   {
    "duration": 12,
    "start_time": "2024-11-27T05:30:09.973Z"
   },
   {
    "duration": 33,
    "start_time": "2024-11-27T05:30:09.987Z"
   },
   {
    "duration": 3,
    "start_time": "2024-11-27T05:30:10.022Z"
   },
   {
    "duration": 7,
    "start_time": "2024-11-27T05:30:10.028Z"
   },
   {
    "duration": 11,
    "start_time": "2024-11-27T05:30:10.036Z"
   },
   {
    "duration": 8,
    "start_time": "2024-11-27T05:30:10.049Z"
   },
   {
    "duration": 61,
    "start_time": "2024-11-27T05:30:10.058Z"
   },
   {
    "duration": 9,
    "start_time": "2024-11-27T05:30:10.121Z"
   },
   {
    "duration": 15,
    "start_time": "2024-11-27T05:30:10.132Z"
   },
   {
    "duration": 7,
    "start_time": "2024-11-27T05:30:10.149Z"
   },
   {
    "duration": 10,
    "start_time": "2024-11-27T05:30:10.162Z"
   },
   {
    "duration": 5,
    "start_time": "2024-11-27T05:30:10.174Z"
   },
   {
    "duration": 32,
    "start_time": "2024-11-27T05:30:10.180Z"
   },
   {
    "duration": 10,
    "start_time": "2024-11-27T05:30:10.214Z"
   },
   {
    "duration": 17,
    "start_time": "2024-11-27T05:30:10.225Z"
   },
   {
    "duration": 3,
    "start_time": "2024-11-27T05:30:10.243Z"
   },
   {
    "duration": 78,
    "start_time": "2024-11-27T05:30:10.248Z"
   },
   {
    "duration": 89,
    "start_time": "2024-11-27T05:30:10.327Z"
   },
   {
    "duration": 6,
    "start_time": "2024-11-27T05:30:10.419Z"
   },
   {
    "duration": 84,
    "start_time": "2024-11-27T05:30:10.430Z"
   },
   {
    "duration": 11,
    "start_time": "2024-11-27T05:30:10.515Z"
   },
   {
    "duration": 4,
    "start_time": "2024-11-27T05:30:10.527Z"
   },
   {
    "duration": 3,
    "start_time": "2024-11-27T05:30:10.533Z"
   },
   {
    "duration": 77,
    "start_time": "2024-11-27T05:30:10.538Z"
   },
   {
    "duration": 7,
    "start_time": "2024-11-27T05:30:10.618Z"
   },
   {
    "duration": 248,
    "start_time": "2024-11-27T05:30:10.626Z"
   },
   {
    "duration": 2,
    "start_time": "2024-11-27T05:30:10.876Z"
   },
   {
    "duration": 15,
    "start_time": "2024-11-27T05:30:10.880Z"
   },
   {
    "duration": 20,
    "start_time": "2024-11-27T05:30:10.896Z"
   },
   {
    "duration": 6,
    "start_time": "2024-11-27T05:30:10.917Z"
   },
   {
    "duration": 0,
    "start_time": "2024-11-27T05:30:10.925Z"
   },
   {
    "duration": 269,
    "start_time": "2024-11-27T05:30:19.300Z"
   },
   {
    "duration": 17,
    "start_time": "2024-11-27T05:30:38.571Z"
   },
   {
    "duration": 18,
    "start_time": "2024-11-27T05:31:59.632Z"
   },
   {
    "duration": 18,
    "start_time": "2024-11-27T05:33:36.179Z"
   },
   {
    "duration": 848,
    "start_time": "2024-11-27T05:33:45.675Z"
   },
   {
    "duration": 216,
    "start_time": "2024-11-27T05:33:46.525Z"
   },
   {
    "duration": 10,
    "start_time": "2024-11-27T05:33:46.742Z"
   },
   {
    "duration": 10,
    "start_time": "2024-11-27T05:33:46.754Z"
   },
   {
    "duration": 7,
    "start_time": "2024-11-27T05:33:46.766Z"
   },
   {
    "duration": 52,
    "start_time": "2024-11-27T05:33:46.775Z"
   },
   {
    "duration": 10,
    "start_time": "2024-11-27T05:33:46.828Z"
   },
   {
    "duration": 14,
    "start_time": "2024-11-27T05:33:46.840Z"
   },
   {
    "duration": 10,
    "start_time": "2024-11-27T05:33:46.856Z"
   },
   {
    "duration": 9,
    "start_time": "2024-11-27T05:33:46.869Z"
   },
   {
    "duration": 33,
    "start_time": "2024-11-27T05:33:46.879Z"
   },
   {
    "duration": 8,
    "start_time": "2024-11-27T05:33:46.914Z"
   },
   {
    "duration": 12,
    "start_time": "2024-11-27T05:33:46.923Z"
   },
   {
    "duration": 9,
    "start_time": "2024-11-27T05:33:46.936Z"
   },
   {
    "duration": 29,
    "start_time": "2024-11-27T05:33:46.946Z"
   },
   {
    "duration": 35,
    "start_time": "2024-11-27T05:33:46.977Z"
   },
   {
    "duration": 14,
    "start_time": "2024-11-27T05:33:47.014Z"
   },
   {
    "duration": 9,
    "start_time": "2024-11-27T05:33:47.029Z"
   },
   {
    "duration": 10,
    "start_time": "2024-11-27T05:33:47.040Z"
   },
   {
    "duration": 4,
    "start_time": "2024-11-27T05:33:47.051Z"
   },
   {
    "duration": 8,
    "start_time": "2024-11-27T05:33:47.056Z"
   },
   {
    "duration": 11,
    "start_time": "2024-11-27T05:33:47.065Z"
   },
   {
    "duration": 8,
    "start_time": "2024-11-27T05:33:47.112Z"
   },
   {
    "duration": 30,
    "start_time": "2024-11-27T05:33:47.122Z"
   },
   {
    "duration": 9,
    "start_time": "2024-11-27T05:33:47.154Z"
   },
   {
    "duration": 14,
    "start_time": "2024-11-27T05:33:47.165Z"
   },
   {
    "duration": 34,
    "start_time": "2024-11-27T05:33:47.180Z"
   },
   {
    "duration": 19,
    "start_time": "2024-11-27T05:33:47.221Z"
   },
   {
    "duration": 4,
    "start_time": "2024-11-27T05:33:47.243Z"
   },
   {
    "duration": 7,
    "start_time": "2024-11-27T05:33:47.249Z"
   },
   {
    "duration": 11,
    "start_time": "2024-11-27T05:33:47.257Z"
   },
   {
    "duration": 40,
    "start_time": "2024-11-27T05:33:47.271Z"
   },
   {
    "duration": 6,
    "start_time": "2024-11-27T05:33:47.314Z"
   },
   {
    "duration": 11,
    "start_time": "2024-11-27T05:33:47.324Z"
   },
   {
    "duration": 9,
    "start_time": "2024-11-27T05:33:47.413Z"
   },
   {
    "duration": 3,
    "start_time": "2024-11-27T05:33:47.424Z"
   },
   {
    "duration": 10,
    "start_time": "2024-11-27T05:33:47.429Z"
   },
   {
    "duration": 74,
    "start_time": "2024-11-27T05:33:47.440Z"
   },
   {
    "duration": 2,
    "start_time": "2024-11-27T05:33:47.516Z"
   },
   {
    "duration": 3,
    "start_time": "2024-11-27T05:33:47.520Z"
   },
   {
    "duration": 3,
    "start_time": "2024-11-27T05:33:47.525Z"
   },
   {
    "duration": 81,
    "start_time": "2024-11-27T05:33:47.530Z"
   },
   {
    "duration": 257,
    "start_time": "2024-11-27T05:33:47.613Z"
   },
   {
    "duration": 3,
    "start_time": "2024-11-27T05:33:47.872Z"
   },
   {
    "duration": 14,
    "start_time": "2024-11-27T05:33:47.878Z"
   },
   {
    "duration": 19,
    "start_time": "2024-11-27T05:33:47.894Z"
   },
   {
    "duration": 240,
    "start_time": "2024-11-27T05:33:47.915Z"
   },
   {
    "duration": 0,
    "start_time": "2024-11-27T05:33:48.157Z"
   },
   {
    "duration": 20,
    "start_time": "2024-11-27T05:35:16.585Z"
   },
   {
    "duration": 19,
    "start_time": "2024-11-27T05:35:28.325Z"
   },
   {
    "duration": 15,
    "start_time": "2024-11-27T05:37:03.081Z"
   },
   {
    "duration": 18,
    "start_time": "2024-11-27T05:37:45.904Z"
   },
   {
    "duration": 17,
    "start_time": "2024-11-27T05:37:50.371Z"
   },
   {
    "duration": 17,
    "start_time": "2024-11-27T05:38:08.538Z"
   },
   {
    "duration": 18,
    "start_time": "2024-11-27T05:38:38.045Z"
   },
   {
    "duration": 17,
    "start_time": "2024-11-27T05:39:01.226Z"
   },
   {
    "duration": 430,
    "start_time": "2024-11-27T05:39:06.008Z"
   },
   {
    "duration": 18,
    "start_time": "2024-11-27T05:39:33.357Z"
   },
   {
    "duration": 17,
    "start_time": "2024-11-27T05:39:38.195Z"
   },
   {
    "duration": 17,
    "start_time": "2024-11-27T05:40:00.706Z"
   },
   {
    "duration": 806,
    "start_time": "2024-11-27T05:40:09.960Z"
   },
   {
    "duration": 439,
    "start_time": "2024-11-27T05:41:27.433Z"
   },
   {
    "duration": 818,
    "start_time": "2024-11-27T05:41:28.734Z"
   },
   {
    "duration": 401,
    "start_time": "2024-11-27T05:41:30.888Z"
   },
   {
    "duration": 872,
    "start_time": "2024-11-27T12:00:33.663Z"
   },
   {
    "duration": 234,
    "start_time": "2024-11-27T12:00:34.538Z"
   },
   {
    "duration": 10,
    "start_time": "2024-11-27T12:00:34.773Z"
   },
   {
    "duration": 26,
    "start_time": "2024-11-27T12:00:34.785Z"
   },
   {
    "duration": 10,
    "start_time": "2024-11-27T12:00:34.813Z"
   },
   {
    "duration": 34,
    "start_time": "2024-11-27T12:00:34.825Z"
   },
   {
    "duration": 10,
    "start_time": "2024-11-27T12:00:34.861Z"
   },
   {
    "duration": 40,
    "start_time": "2024-11-27T12:00:34.873Z"
   },
   {
    "duration": 13,
    "start_time": "2024-11-27T12:00:34.915Z"
   },
   {
    "duration": 8,
    "start_time": "2024-11-27T12:00:34.933Z"
   },
   {
    "duration": 8,
    "start_time": "2024-11-27T12:00:34.943Z"
   },
   {
    "duration": 13,
    "start_time": "2024-11-27T12:00:34.952Z"
   },
   {
    "duration": 11,
    "start_time": "2024-11-27T12:00:34.968Z"
   },
   {
    "duration": 33,
    "start_time": "2024-11-27T12:00:34.981Z"
   },
   {
    "duration": 31,
    "start_time": "2024-11-27T12:00:35.016Z"
   },
   {
    "duration": 12,
    "start_time": "2024-11-27T12:00:35.049Z"
   },
   {
    "duration": 14,
    "start_time": "2024-11-27T12:00:35.062Z"
   },
   {
    "duration": 33,
    "start_time": "2024-11-27T12:00:35.078Z"
   },
   {
    "duration": 14,
    "start_time": "2024-11-27T12:00:35.113Z"
   },
   {
    "duration": 4,
    "start_time": "2024-11-27T12:00:35.129Z"
   },
   {
    "duration": 8,
    "start_time": "2024-11-27T12:00:35.135Z"
   },
   {
    "duration": 11,
    "start_time": "2024-11-27T12:00:35.145Z"
   },
   {
    "duration": 8,
    "start_time": "2024-11-27T12:00:35.158Z"
   },
   {
    "duration": 68,
    "start_time": "2024-11-27T12:00:35.168Z"
   },
   {
    "duration": 10,
    "start_time": "2024-11-27T12:00:35.238Z"
   },
   {
    "duration": 14,
    "start_time": "2024-11-27T12:00:35.250Z"
   },
   {
    "duration": 10,
    "start_time": "2024-11-27T12:00:35.266Z"
   },
   {
    "duration": 36,
    "start_time": "2024-11-27T12:00:35.281Z"
   },
   {
    "duration": 3,
    "start_time": "2024-11-27T12:00:35.319Z"
   },
   {
    "duration": 3,
    "start_time": "2024-11-27T12:00:35.326Z"
   },
   {
    "duration": 9,
    "start_time": "2024-11-27T12:00:35.331Z"
   },
   {
    "duration": 13,
    "start_time": "2024-11-27T12:00:35.342Z"
   },
   {
    "duration": 54,
    "start_time": "2024-11-27T12:00:35.358Z"
   },
   {
    "duration": 14,
    "start_time": "2024-11-27T12:00:35.415Z"
   },
   {
    "duration": 86,
    "start_time": "2024-11-27T12:00:35.432Z"
   },
   {
    "duration": 3,
    "start_time": "2024-11-27T12:00:35.521Z"
   },
   {
    "duration": 11,
    "start_time": "2024-11-27T12:00:35.526Z"
   },
   {
    "duration": 11,
    "start_time": "2024-11-27T12:00:35.612Z"
   },
   {
    "duration": 4,
    "start_time": "2024-11-27T12:00:35.624Z"
   },
   {
    "duration": 4,
    "start_time": "2024-11-27T12:00:35.630Z"
   },
   {
    "duration": 76,
    "start_time": "2024-11-27T12:00:35.635Z"
   },
   {
    "duration": 9,
    "start_time": "2024-11-27T12:00:35.714Z"
   },
   {
    "duration": 304,
    "start_time": "2024-11-27T12:00:35.725Z"
   },
   {
    "duration": 3,
    "start_time": "2024-11-27T12:00:36.031Z"
   },
   {
    "duration": 14,
    "start_time": "2024-11-27T12:00:36.036Z"
   },
   {
    "duration": 7,
    "start_time": "2024-11-27T12:00:36.052Z"
   },
   {
    "duration": 483,
    "start_time": "2024-11-27T12:00:36.060Z"
   },
   {
    "duration": 789,
    "start_time": "2024-11-27T12:00:36.545Z"
   },
   {
    "duration": 501,
    "start_time": "2024-11-27T12:00:37.336Z"
   },
   {
    "duration": 2640,
    "start_time": "2024-11-27T21:34:42.764Z"
   },
   {
    "duration": 294,
    "start_time": "2024-11-27T21:34:45.407Z"
   },
   {
    "duration": 10,
    "start_time": "2024-11-27T21:34:45.703Z"
   },
   {
    "duration": 11,
    "start_time": "2024-11-27T21:34:45.715Z"
   },
   {
    "duration": 7,
    "start_time": "2024-11-27T21:34:45.728Z"
   },
   {
    "duration": 53,
    "start_time": "2024-11-27T21:34:45.737Z"
   },
   {
    "duration": 10,
    "start_time": "2024-11-27T21:34:45.792Z"
   },
   {
    "duration": 16,
    "start_time": "2024-11-27T21:34:45.804Z"
   },
   {
    "duration": 11,
    "start_time": "2024-11-27T21:34:45.821Z"
   },
   {
    "duration": 9,
    "start_time": "2024-11-27T21:34:45.835Z"
   },
   {
    "duration": 5,
    "start_time": "2024-11-27T21:34:45.845Z"
   },
   {
    "duration": 40,
    "start_time": "2024-11-27T21:34:45.852Z"
   },
   {
    "duration": 10,
    "start_time": "2024-11-27T21:34:45.894Z"
   },
   {
    "duration": 7,
    "start_time": "2024-11-27T21:34:45.906Z"
   },
   {
    "duration": 27,
    "start_time": "2024-11-27T21:34:45.915Z"
   },
   {
    "duration": 9,
    "start_time": "2024-11-27T21:34:45.944Z"
   },
   {
    "duration": 44,
    "start_time": "2024-11-27T21:34:45.955Z"
   },
   {
    "duration": 10,
    "start_time": "2024-11-27T21:34:46.000Z"
   },
   {
    "duration": 12,
    "start_time": "2024-11-27T21:34:46.012Z"
   },
   {
    "duration": 4,
    "start_time": "2024-11-27T21:34:46.026Z"
   },
   {
    "duration": 8,
    "start_time": "2024-11-27T21:34:46.032Z"
   },
   {
    "duration": 46,
    "start_time": "2024-11-27T21:34:46.041Z"
   },
   {
    "duration": 8,
    "start_time": "2024-11-27T21:34:46.089Z"
   },
   {
    "duration": 31,
    "start_time": "2024-11-27T21:34:46.098Z"
   },
   {
    "duration": 11,
    "start_time": "2024-11-27T21:34:46.131Z"
   },
   {
    "duration": 16,
    "start_time": "2024-11-27T21:34:46.144Z"
   },
   {
    "duration": 33,
    "start_time": "2024-11-27T21:34:46.161Z"
   },
   {
    "duration": 10,
    "start_time": "2024-11-27T21:34:46.198Z"
   },
   {
    "duration": 3,
    "start_time": "2024-11-27T21:34:46.210Z"
   },
   {
    "duration": 4,
    "start_time": "2024-11-27T21:34:46.214Z"
   },
   {
    "duration": 9,
    "start_time": "2024-11-27T21:34:46.220Z"
   },
   {
    "duration": 65,
    "start_time": "2024-11-27T21:34:46.231Z"
   },
   {
    "duration": 5,
    "start_time": "2024-11-27T21:34:46.299Z"
   },
   {
    "duration": 79,
    "start_time": "2024-11-27T21:34:46.315Z"
   },
   {
    "duration": 10,
    "start_time": "2024-11-27T21:34:46.396Z"
   },
   {
    "duration": 4,
    "start_time": "2024-11-27T21:34:46.408Z"
   },
   {
    "duration": 73,
    "start_time": "2024-11-27T21:34:46.414Z"
   },
   {
    "duration": 13,
    "start_time": "2024-11-27T21:34:46.488Z"
   },
   {
    "duration": 6,
    "start_time": "2024-11-27T21:34:46.504Z"
   },
   {
    "duration": 5,
    "start_time": "2024-11-27T21:34:46.589Z"
   },
   {
    "duration": 4,
    "start_time": "2024-11-27T21:34:46.597Z"
   },
   {
    "duration": 5,
    "start_time": "2024-11-27T21:34:46.603Z"
   },
   {
    "duration": 254,
    "start_time": "2024-11-27T21:34:46.610Z"
   },
   {
    "duration": 3,
    "start_time": "2024-11-27T21:34:46.865Z"
   },
   {
    "duration": 26,
    "start_time": "2024-11-27T21:34:46.870Z"
   },
   {
    "duration": 7,
    "start_time": "2024-11-27T21:34:46.898Z"
   },
   {
    "duration": 451,
    "start_time": "2024-11-27T21:34:46.906Z"
   },
   {
    "duration": 783,
    "start_time": "2024-11-27T21:34:47.359Z"
   },
   {
    "duration": 409,
    "start_time": "2024-11-27T21:34:48.144Z"
   },
   {
    "duration": 2,
    "start_time": "2024-11-27T21:49:06.044Z"
   },
   {
    "duration": 223,
    "start_time": "2024-11-27T21:49:06.049Z"
   },
   {
    "duration": 13,
    "start_time": "2024-11-27T21:49:06.273Z"
   },
   {
    "duration": 13,
    "start_time": "2024-11-27T21:49:06.288Z"
   },
   {
    "duration": 9,
    "start_time": "2024-11-27T21:49:06.305Z"
   },
   {
    "duration": 33,
    "start_time": "2024-11-27T21:49:06.316Z"
   },
   {
    "duration": 36,
    "start_time": "2024-11-27T21:49:06.351Z"
   },
   {
    "duration": 16,
    "start_time": "2024-11-27T21:49:06.389Z"
   },
   {
    "duration": 12,
    "start_time": "2024-11-27T21:49:06.406Z"
   },
   {
    "duration": 9,
    "start_time": "2024-11-27T21:49:06.419Z"
   },
   {
    "duration": 5,
    "start_time": "2024-11-27T21:49:06.429Z"
   },
   {
    "duration": 7,
    "start_time": "2024-11-27T21:49:06.436Z"
   },
   {
    "duration": 44,
    "start_time": "2024-11-27T21:49:06.444Z"
   },
   {
    "duration": 8,
    "start_time": "2024-11-27T21:49:06.491Z"
   },
   {
    "duration": 28,
    "start_time": "2024-11-27T21:49:06.500Z"
   },
   {
    "duration": 10,
    "start_time": "2024-11-27T21:49:06.529Z"
   },
   {
    "duration": 14,
    "start_time": "2024-11-27T21:49:06.541Z"
   },
   {
    "duration": 37,
    "start_time": "2024-11-27T21:49:06.557Z"
   },
   {
    "duration": 11,
    "start_time": "2024-11-27T21:49:06.596Z"
   },
   {
    "duration": 5,
    "start_time": "2024-11-27T21:49:06.608Z"
   },
   {
    "duration": 8,
    "start_time": "2024-11-27T21:49:06.614Z"
   },
   {
    "duration": 11,
    "start_time": "2024-11-27T21:49:06.623Z"
   },
   {
    "duration": 8,
    "start_time": "2024-11-27T21:49:06.635Z"
   },
   {
    "duration": 68,
    "start_time": "2024-11-27T21:49:06.644Z"
   },
   {
    "duration": 9,
    "start_time": "2024-11-27T21:49:06.714Z"
   },
   {
    "duration": 15,
    "start_time": "2024-11-27T21:49:06.724Z"
   },
   {
    "duration": 10,
    "start_time": "2024-11-27T21:49:06.740Z"
   },
   {
    "duration": 10,
    "start_time": "2024-11-27T21:49:06.751Z"
   },
   {
    "duration": 5,
    "start_time": "2024-11-27T21:49:06.787Z"
   },
   {
    "duration": 4,
    "start_time": "2024-11-27T21:49:06.793Z"
   },
   {
    "duration": 8,
    "start_time": "2024-11-27T21:49:06.799Z"
   },
   {
    "duration": 14,
    "start_time": "2024-11-27T21:49:06.808Z"
   },
   {
    "duration": 4,
    "start_time": "2024-11-27T21:49:06.824Z"
   },
   {
    "duration": 62,
    "start_time": "2024-11-27T21:49:06.830Z"
   },
   {
    "duration": 10,
    "start_time": "2024-11-27T21:49:06.894Z"
   },
   {
    "duration": 3,
    "start_time": "2024-11-27T21:49:06.907Z"
   },
   {
    "duration": 76,
    "start_time": "2024-11-27T21:49:06.912Z"
   },
   {
    "duration": 11,
    "start_time": "2024-11-27T21:49:06.990Z"
   },
   {
    "duration": 5,
    "start_time": "2024-11-27T21:49:07.004Z"
   },
   {
    "duration": 76,
    "start_time": "2024-11-27T21:49:07.012Z"
   },
   {
    "duration": 3,
    "start_time": "2024-11-27T21:49:07.094Z"
   },
   {
    "duration": 5,
    "start_time": "2024-11-27T21:49:07.099Z"
   },
   {
    "duration": 246,
    "start_time": "2024-11-27T21:49:07.105Z"
   },
   {
    "duration": 3,
    "start_time": "2024-11-27T21:49:07.352Z"
   },
   {
    "duration": 13,
    "start_time": "2024-11-27T21:49:07.357Z"
   },
   {
    "duration": 20,
    "start_time": "2024-11-27T21:49:07.371Z"
   },
   {
    "duration": 416,
    "start_time": "2024-11-27T21:49:44.333Z"
   },
   {
    "duration": 4,
    "start_time": "2024-11-27T21:49:59.966Z"
   },
   {
    "duration": 4,
    "start_time": "2024-11-27T21:50:26.359Z"
   },
   {
    "duration": 8,
    "start_time": "2024-11-27T21:58:21.319Z"
   },
   {
    "duration": 275,
    "start_time": "2024-11-27T22:00:40.698Z"
   },
   {
    "duration": 21,
    "start_time": "2024-11-27T22:01:56.921Z"
   },
   {
    "duration": 3,
    "start_time": "2024-11-27T22:07:43.351Z"
   },
   {
    "duration": 226,
    "start_time": "2024-11-27T22:07:43.357Z"
   },
   {
    "duration": 9,
    "start_time": "2024-11-27T22:07:43.585Z"
   },
   {
    "duration": 11,
    "start_time": "2024-11-27T22:07:43.596Z"
   },
   {
    "duration": 8,
    "start_time": "2024-11-27T22:07:43.609Z"
   },
   {
    "duration": 30,
    "start_time": "2024-11-27T22:07:43.618Z"
   },
   {
    "duration": 11,
    "start_time": "2024-11-27T22:07:43.651Z"
   },
   {
    "duration": 21,
    "start_time": "2024-11-27T22:07:43.687Z"
   },
   {
    "duration": 12,
    "start_time": "2024-11-27T22:07:43.710Z"
   },
   {
    "duration": 9,
    "start_time": "2024-11-27T22:07:43.723Z"
   },
   {
    "duration": 5,
    "start_time": "2024-11-27T22:07:43.735Z"
   },
   {
    "duration": 8,
    "start_time": "2024-11-27T22:07:43.741Z"
   },
   {
    "duration": 44,
    "start_time": "2024-11-27T22:07:43.750Z"
   },
   {
    "duration": 7,
    "start_time": "2024-11-27T22:07:43.796Z"
   },
   {
    "duration": 30,
    "start_time": "2024-11-27T22:07:43.805Z"
   },
   {
    "duration": 11,
    "start_time": "2024-11-27T22:07:43.836Z"
   },
   {
    "duration": 40,
    "start_time": "2024-11-27T22:07:43.848Z"
   },
   {
    "duration": 9,
    "start_time": "2024-11-27T22:07:43.890Z"
   },
   {
    "duration": 16,
    "start_time": "2024-11-27T22:07:43.900Z"
   },
   {
    "duration": 6,
    "start_time": "2024-11-27T22:07:43.918Z"
   },
   {
    "duration": 7,
    "start_time": "2024-11-27T22:07:43.926Z"
   },
   {
    "duration": 10,
    "start_time": "2024-11-27T22:07:43.935Z"
   },
   {
    "duration": 8,
    "start_time": "2024-11-27T22:07:43.946Z"
   },
   {
    "duration": 59,
    "start_time": "2024-11-27T22:07:43.955Z"
   },
   {
    "duration": 9,
    "start_time": "2024-11-27T22:07:44.016Z"
   },
   {
    "duration": 13,
    "start_time": "2024-11-27T22:07:44.027Z"
   },
   {
    "duration": 9,
    "start_time": "2024-11-27T22:07:44.042Z"
   },
   {
    "duration": 34,
    "start_time": "2024-11-27T22:07:44.053Z"
   },
   {
    "duration": 5,
    "start_time": "2024-11-27T22:07:44.091Z"
   },
   {
    "duration": 4,
    "start_time": "2024-11-27T22:07:44.098Z"
   },
   {
    "duration": 9,
    "start_time": "2024-11-27T22:07:44.103Z"
   },
   {
    "duration": 9,
    "start_time": "2024-11-27T22:07:44.114Z"
   },
   {
    "duration": 7,
    "start_time": "2024-11-27T22:07:44.125Z"
   },
   {
    "duration": 15,
    "start_time": "2024-11-27T22:07:44.187Z"
   },
   {
    "duration": 83,
    "start_time": "2024-11-27T22:07:44.207Z"
   },
   {
    "duration": 5,
    "start_time": "2024-11-27T22:07:44.292Z"
   },
   {
    "duration": 9,
    "start_time": "2024-11-27T22:07:44.302Z"
   },
   {
    "duration": 10,
    "start_time": "2024-11-27T22:07:44.387Z"
   },
   {
    "duration": 3,
    "start_time": "2024-11-27T22:07:44.399Z"
   },
   {
    "duration": 4,
    "start_time": "2024-11-27T22:07:44.404Z"
   },
   {
    "duration": 3,
    "start_time": "2024-11-27T22:07:44.410Z"
   },
   {
    "duration": 5,
    "start_time": "2024-11-27T22:07:44.487Z"
   },
   {
    "duration": 235,
    "start_time": "2024-11-27T22:07:44.493Z"
   },
   {
    "duration": 3,
    "start_time": "2024-11-27T22:07:44.730Z"
   },
   {
    "duration": 14,
    "start_time": "2024-11-27T22:07:44.735Z"
   },
   {
    "duration": 8,
    "start_time": "2024-11-27T22:07:44.751Z"
   },
   {
    "duration": 20,
    "start_time": "2024-11-27T22:08:08.166Z"
   },
   {
    "duration": 8,
    "start_time": "2024-11-27T22:09:39.467Z"
   },
   {
    "duration": 4,
    "start_time": "2024-11-27T22:09:55.199Z"
   },
   {
    "duration": 12,
    "start_time": "2024-11-27T22:10:08.771Z"
   },
   {
    "duration": 5,
    "start_time": "2024-11-27T22:18:50.538Z"
   },
   {
    "duration": 18,
    "start_time": "2024-11-27T22:19:06.549Z"
   },
   {
    "duration": 8,
    "start_time": "2024-11-27T22:19:13.360Z"
   },
   {
    "duration": 9,
    "start_time": "2024-11-27T22:20:27.029Z"
   },
   {
    "duration": 9,
    "start_time": "2024-11-27T22:20:43.530Z"
   },
   {
    "duration": 244,
    "start_time": "2024-11-27T22:22:15.589Z"
   },
   {
    "duration": 60,
    "start_time": "2024-11-27T22:22:22.556Z"
   },
   {
    "duration": 63,
    "start_time": "2024-11-27T22:22:39.752Z"
   },
   {
    "duration": 121,
    "start_time": "2024-11-27T22:22:52.463Z"
   },
   {
    "duration": 3,
    "start_time": "2024-11-27T22:26:27.526Z"
   },
   {
    "duration": 62,
    "start_time": "2024-11-27T22:26:33.342Z"
   },
   {
    "duration": 3,
    "start_time": "2024-11-27T22:34:08.007Z"
   },
   {
    "duration": 3,
    "start_time": "2024-11-27T22:34:24.158Z"
   },
   {
    "duration": 822,
    "start_time": "2024-11-27T22:34:33.466Z"
   },
   {
    "duration": 21,
    "start_time": "2024-11-27T22:35:00.898Z"
   },
   {
    "duration": 3,
    "start_time": "2024-11-27T22:35:25.400Z"
   },
   {
    "duration": 10,
    "start_time": "2024-11-27T22:35:33.215Z"
   },
   {
    "duration": 58,
    "start_time": "2024-11-27T22:39:24.775Z"
   },
   {
    "duration": 3,
    "start_time": "2024-11-27T22:39:36.951Z"
   },
   {
    "duration": 822,
    "start_time": "2024-11-27T22:39:41.637Z"
   },
   {
    "duration": 1960,
    "start_time": "2024-11-27T22:40:36.191Z"
   },
   {
    "duration": 3,
    "start_time": "2024-11-27T22:42:48.230Z"
   },
   {
    "duration": 893,
    "start_time": "2024-11-27T22:43:06.423Z"
   },
   {
    "duration": 815,
    "start_time": "2024-11-27T22:43:21.996Z"
   },
   {
    "duration": 3,
    "start_time": "2024-11-27T22:45:16.391Z"
   },
   {
    "duration": 21,
    "start_time": "2024-11-27T22:45:19.830Z"
   },
   {
    "duration": 3,
    "start_time": "2024-11-27T22:46:08.324Z"
   },
   {
    "duration": 73,
    "start_time": "2024-11-27T22:46:16.695Z"
   },
   {
    "duration": 3,
    "start_time": "2024-11-27T22:46:32.749Z"
   },
   {
    "duration": 21,
    "start_time": "2024-11-27T22:46:39.258Z"
   },
   {
    "duration": 852,
    "start_time": "2024-11-27T22:46:51.495Z"
   },
   {
    "duration": 19,
    "start_time": "2024-11-27T22:49:41.847Z"
   },
   {
    "duration": 4,
    "start_time": "2024-11-27T22:49:43.806Z"
   },
   {
    "duration": 19,
    "start_time": "2024-11-27T22:49:44.530Z"
   },
   {
    "duration": 3,
    "start_time": "2024-11-27T22:50:23.680Z"
   },
   {
    "duration": 57,
    "start_time": "2024-11-27T22:50:24.531Z"
   },
   {
    "duration": 896,
    "start_time": "2024-11-27T23:07:00.831Z"
   },
   {
    "duration": 225,
    "start_time": "2024-11-27T23:07:01.729Z"
   },
   {
    "duration": 11,
    "start_time": "2024-11-27T23:07:01.956Z"
   },
   {
    "duration": 20,
    "start_time": "2024-11-27T23:07:01.968Z"
   },
   {
    "duration": 8,
    "start_time": "2024-11-27T23:07:01.990Z"
   },
   {
    "duration": 32,
    "start_time": "2024-11-27T23:07:01.999Z"
   },
   {
    "duration": 10,
    "start_time": "2024-11-27T23:07:02.032Z"
   },
   {
    "duration": 16,
    "start_time": "2024-11-27T23:07:02.043Z"
   },
   {
    "duration": 36,
    "start_time": "2024-11-27T23:07:02.060Z"
   },
   {
    "duration": 9,
    "start_time": "2024-11-27T23:07:02.097Z"
   },
   {
    "duration": 5,
    "start_time": "2024-11-27T23:07:02.108Z"
   },
   {
    "duration": 8,
    "start_time": "2024-11-27T23:07:02.114Z"
   },
   {
    "duration": 11,
    "start_time": "2024-11-27T23:07:02.123Z"
   },
   {
    "duration": 7,
    "start_time": "2024-11-27T23:07:02.138Z"
   },
   {
    "duration": 66,
    "start_time": "2024-11-27T23:07:02.146Z"
   },
   {
    "duration": 10,
    "start_time": "2024-11-27T23:07:02.214Z"
   },
   {
    "duration": 14,
    "start_time": "2024-11-27T23:07:02.225Z"
   },
   {
    "duration": 9,
    "start_time": "2024-11-27T23:07:02.240Z"
   },
   {
    "duration": 36,
    "start_time": "2024-11-27T23:07:02.251Z"
   },
   {
    "duration": 4,
    "start_time": "2024-11-27T23:07:02.289Z"
   },
   {
    "duration": 7,
    "start_time": "2024-11-27T23:07:02.295Z"
   },
   {
    "duration": 11,
    "start_time": "2024-11-27T23:07:02.304Z"
   },
   {
    "duration": 6,
    "start_time": "2024-11-27T23:07:02.317Z"
   },
   {
    "duration": 63,
    "start_time": "2024-11-27T23:07:02.325Z"
   },
   {
    "duration": 17,
    "start_time": "2024-11-27T23:07:02.390Z"
   },
   {
    "duration": 14,
    "start_time": "2024-11-27T23:07:02.409Z"
   },
   {
    "duration": 8,
    "start_time": "2024-11-27T23:07:02.425Z"
   },
   {
    "duration": 11,
    "start_time": "2024-11-27T23:07:02.435Z"
   },
   {
    "duration": 4,
    "start_time": "2024-11-27T23:07:02.448Z"
   },
   {
    "duration": 33,
    "start_time": "2024-11-27T23:07:02.454Z"
   },
   {
    "duration": 9,
    "start_time": "2024-11-27T23:07:02.488Z"
   },
   {
    "duration": 16,
    "start_time": "2024-11-27T23:07:02.499Z"
   },
   {
    "duration": 8,
    "start_time": "2024-11-27T23:07:02.516Z"
   },
   {
    "duration": 64,
    "start_time": "2024-11-27T23:07:02.525Z"
   },
   {
    "duration": 11,
    "start_time": "2024-11-27T23:07:02.590Z"
   },
   {
    "duration": 85,
    "start_time": "2024-11-27T23:07:02.603Z"
   },
   {
    "duration": 4,
    "start_time": "2024-11-27T23:07:02.690Z"
   },
   {
    "duration": 11,
    "start_time": "2024-11-27T23:07:02.696Z"
   },
   {
    "duration": 90,
    "start_time": "2024-11-27T23:07:02.709Z"
   },
   {
    "duration": 3,
    "start_time": "2024-11-27T23:07:02.801Z"
   },
   {
    "duration": 3,
    "start_time": "2024-11-27T23:07:02.809Z"
   },
   {
    "duration": 3,
    "start_time": "2024-11-27T23:07:02.814Z"
   },
   {
    "duration": 4,
    "start_time": "2024-11-27T23:07:02.888Z"
   },
   {
    "duration": 299,
    "start_time": "2024-11-27T23:07:02.894Z"
   },
   {
    "duration": 5,
    "start_time": "2024-11-27T23:07:03.195Z"
   },
   {
    "duration": 455,
    "start_time": "2024-11-27T23:07:03.202Z"
   },
   {
    "duration": 0,
    "start_time": "2024-11-27T23:07:03.659Z"
   },
   {
    "duration": 0,
    "start_time": "2024-11-27T23:07:03.660Z"
   },
   {
    "duration": 0,
    "start_time": "2024-11-27T23:07:03.662Z"
   },
   {
    "duration": 0,
    "start_time": "2024-11-27T23:07:03.663Z"
   },
   {
    "duration": 0,
    "start_time": "2024-11-27T23:07:03.665Z"
   },
   {
    "duration": 3,
    "start_time": "2024-11-27T23:07:17.755Z"
   },
   {
    "duration": 95,
    "start_time": "2024-11-27T23:07:18.499Z"
   },
   {
    "duration": 7,
    "start_time": "2024-11-27T23:07:53.945Z"
   },
   {
    "duration": 119,
    "start_time": "2024-11-27T23:08:30.777Z"
   },
   {
    "duration": 59,
    "start_time": "2024-11-27T23:08:43.982Z"
   },
   {
    "duration": 3,
    "start_time": "2024-11-27T23:09:18.504Z"
   },
   {
    "duration": 88,
    "start_time": "2024-11-27T23:09:19.428Z"
   },
   {
    "duration": 3,
    "start_time": "2024-11-27T23:09:47.820Z"
   },
   {
    "duration": 85,
    "start_time": "2024-11-27T23:09:48.418Z"
   },
   {
    "duration": 3,
    "start_time": "2024-11-27T23:10:23.170Z"
   },
   {
    "duration": 80,
    "start_time": "2024-11-27T23:10:23.786Z"
   },
   {
    "duration": 3,
    "start_time": "2024-11-27T23:10:29.519Z"
   },
   {
    "duration": 58,
    "start_time": "2024-11-27T23:10:35.559Z"
   },
   {
    "duration": 3,
    "start_time": "2024-11-27T23:12:10.851Z"
   },
   {
    "duration": 87,
    "start_time": "2024-11-27T23:12:11.677Z"
   },
   {
    "duration": 3,
    "start_time": "2024-11-27T23:13:07.833Z"
   },
   {
    "duration": 23,
    "start_time": "2024-11-27T23:13:08.496Z"
   },
   {
    "duration": 3,
    "start_time": "2024-11-27T23:13:38.251Z"
   },
   {
    "duration": 33,
    "start_time": "2024-11-27T23:13:39.056Z"
   },
   {
    "duration": 2,
    "start_time": "2024-11-27T23:14:01.944Z"
   },
   {
    "duration": 21,
    "start_time": "2024-11-27T23:14:02.478Z"
   },
   {
    "duration": 3,
    "start_time": "2024-11-27T23:14:10.155Z"
   },
   {
    "duration": 29,
    "start_time": "2024-11-27T23:14:10.819Z"
   },
   {
    "duration": 3,
    "start_time": "2024-11-27T23:15:53.206Z"
   },
   {
    "duration": 30,
    "start_time": "2024-11-27T23:15:53.969Z"
   },
   {
    "duration": 4,
    "start_time": "2024-11-27T23:16:00.036Z"
   },
   {
    "duration": 32,
    "start_time": "2024-11-27T23:16:00.496Z"
   },
   {
    "duration": 3,
    "start_time": "2024-11-27T23:17:43.991Z"
   },
   {
    "duration": 3,
    "start_time": "2024-11-27T23:18:35.677Z"
   },
   {
    "duration": 33,
    "start_time": "2024-11-27T23:18:36.479Z"
   },
   {
    "duration": 3,
    "start_time": "2024-11-27T23:19:28.898Z"
   },
   {
    "duration": 12,
    "start_time": "2024-11-27T23:19:29.579Z"
   },
   {
    "duration": 3,
    "start_time": "2024-11-27T23:19:42.065Z"
   },
   {
    "duration": 13,
    "start_time": "2024-11-27T23:19:42.508Z"
   },
   {
    "duration": 7,
    "start_time": "2024-11-27T23:19:43.232Z"
   },
   {
    "duration": 830,
    "start_time": "2024-11-27T23:19:45.540Z"
   },
   {
    "duration": 4,
    "start_time": "2024-11-27T23:19:49.318Z"
   },
   {
    "duration": 685,
    "start_time": "2024-11-27T23:20:03.380Z"
   },
   {
    "duration": 535,
    "start_time": "2024-11-27T23:20:09.393Z"
   },
   {
    "duration": 806,
    "start_time": "2024-11-27T23:21:24.473Z"
   },
   {
    "duration": 55,
    "start_time": "2024-11-27T23:21:26.563Z"
   },
   {
    "duration": 788,
    "start_time": "2024-11-27T23:22:42.197Z"
   },
   {
    "duration": 796,
    "start_time": "2024-11-27T23:22:44.923Z"
   },
   {
    "duration": 4,
    "start_time": "2024-11-27T23:30:23.688Z"
   },
   {
    "duration": 881,
    "start_time": "2024-11-27T23:34:43.236Z"
   },
   {
    "duration": 250,
    "start_time": "2024-11-27T23:34:44.120Z"
   },
   {
    "duration": 9,
    "start_time": "2024-11-27T23:34:44.372Z"
   },
   {
    "duration": 13,
    "start_time": "2024-11-27T23:34:44.383Z"
   },
   {
    "duration": 8,
    "start_time": "2024-11-27T23:34:44.398Z"
   },
   {
    "duration": 31,
    "start_time": "2024-11-27T23:34:44.408Z"
   },
   {
    "duration": 9,
    "start_time": "2024-11-27T23:34:44.441Z"
   },
   {
    "duration": 45,
    "start_time": "2024-11-27T23:34:44.452Z"
   },
   {
    "duration": 11,
    "start_time": "2024-11-27T23:34:44.498Z"
   },
   {
    "duration": 10,
    "start_time": "2024-11-27T23:34:44.511Z"
   },
   {
    "duration": 6,
    "start_time": "2024-11-27T23:34:44.522Z"
   },
   {
    "duration": 8,
    "start_time": "2024-11-27T23:34:44.529Z"
   },
   {
    "duration": 11,
    "start_time": "2024-11-27T23:34:44.538Z"
   },
   {
    "duration": 36,
    "start_time": "2024-11-27T23:34:44.552Z"
   },
   {
    "duration": 29,
    "start_time": "2024-11-27T23:34:44.589Z"
   },
   {
    "duration": 10,
    "start_time": "2024-11-27T23:34:44.619Z"
   },
   {
    "duration": 15,
    "start_time": "2024-11-27T23:34:44.631Z"
   },
   {
    "duration": 9,
    "start_time": "2024-11-27T23:34:44.647Z"
   },
   {
    "duration": 38,
    "start_time": "2024-11-27T23:34:44.658Z"
   },
   {
    "duration": 4,
    "start_time": "2024-11-27T23:34:44.697Z"
   },
   {
    "duration": 7,
    "start_time": "2024-11-27T23:34:44.703Z"
   },
   {
    "duration": 10,
    "start_time": "2024-11-27T23:34:44.711Z"
   },
   {
    "duration": 7,
    "start_time": "2024-11-27T23:34:44.723Z"
   },
   {
    "duration": 60,
    "start_time": "2024-11-27T23:34:44.732Z"
   },
   {
    "duration": 9,
    "start_time": "2024-11-27T23:34:44.794Z"
   },
   {
    "duration": 16,
    "start_time": "2024-11-27T23:34:44.805Z"
   },
   {
    "duration": 9,
    "start_time": "2024-11-27T23:34:44.822Z"
   },
   {
    "duration": 10,
    "start_time": "2024-11-27T23:34:44.833Z"
   },
   {
    "duration": 4,
    "start_time": "2024-11-27T23:34:44.844Z"
   },
   {
    "duration": 37,
    "start_time": "2024-11-27T23:34:44.849Z"
   },
   {
    "duration": 9,
    "start_time": "2024-11-27T23:34:44.888Z"
   },
   {
    "duration": 13,
    "start_time": "2024-11-27T23:34:44.899Z"
   },
   {
    "duration": 12,
    "start_time": "2024-11-27T23:34:44.914Z"
   },
   {
    "duration": 63,
    "start_time": "2024-11-27T23:34:44.927Z"
   },
   {
    "duration": 12,
    "start_time": "2024-11-27T23:34:44.994Z"
   },
   {
    "duration": 79,
    "start_time": "2024-11-27T23:34:45.008Z"
   },
   {
    "duration": 3,
    "start_time": "2024-11-27T23:34:45.089Z"
   },
   {
    "duration": 11,
    "start_time": "2024-11-27T23:34:45.094Z"
   },
   {
    "duration": 86,
    "start_time": "2024-11-27T23:34:45.106Z"
   },
   {
    "duration": 3,
    "start_time": "2024-11-27T23:34:45.194Z"
   },
   {
    "duration": 2,
    "start_time": "2024-11-27T23:34:45.202Z"
   },
   {
    "duration": 3,
    "start_time": "2024-11-27T23:34:45.206Z"
   },
   {
    "duration": 78,
    "start_time": "2024-11-27T23:34:45.210Z"
   },
   {
    "duration": 278,
    "start_time": "2024-11-27T23:34:45.289Z"
   },
   {
    "duration": 3,
    "start_time": "2024-11-27T23:34:45.569Z"
   },
   {
    "duration": 22,
    "start_time": "2024-11-27T23:34:45.574Z"
   },
   {
    "duration": 7,
    "start_time": "2024-11-27T23:34:45.598Z"
   },
   {
    "duration": 829,
    "start_time": "2024-11-27T23:34:45.607Z"
   },
   {
    "duration": 804,
    "start_time": "2024-11-27T23:34:46.438Z"
   },
   {
    "duration": 808,
    "start_time": "2024-11-27T23:34:47.244Z"
   },
   {
    "duration": 857,
    "start_time": "2024-11-27T23:48:44.449Z"
   },
   {
    "duration": 221,
    "start_time": "2024-11-27T23:48:45.309Z"
   },
   {
    "duration": 10,
    "start_time": "2024-11-27T23:48:45.532Z"
   },
   {
    "duration": 10,
    "start_time": "2024-11-27T23:48:45.544Z"
   },
   {
    "duration": 7,
    "start_time": "2024-11-27T23:48:45.556Z"
   },
   {
    "duration": 51,
    "start_time": "2024-11-27T23:48:45.564Z"
   },
   {
    "duration": 10,
    "start_time": "2024-11-27T23:48:45.617Z"
   },
   {
    "duration": 16,
    "start_time": "2024-11-27T23:48:45.628Z"
   },
   {
    "duration": 10,
    "start_time": "2024-11-27T23:48:45.646Z"
   },
   {
    "duration": 8,
    "start_time": "2024-11-27T23:48:45.686Z"
   },
   {
    "duration": 6,
    "start_time": "2024-11-27T23:48:45.696Z"
   },
   {
    "duration": 9,
    "start_time": "2024-11-27T23:48:45.704Z"
   },
   {
    "duration": 12,
    "start_time": "2024-11-27T23:48:45.715Z"
   },
   {
    "duration": 8,
    "start_time": "2024-11-27T23:48:45.729Z"
   },
   {
    "duration": 59,
    "start_time": "2024-11-27T23:48:45.738Z"
   },
   {
    "duration": 10,
    "start_time": "2024-11-27T23:48:45.799Z"
   },
   {
    "duration": 14,
    "start_time": "2024-11-27T23:48:45.810Z"
   },
   {
    "duration": 9,
    "start_time": "2024-11-27T23:48:45.826Z"
   },
   {
    "duration": 11,
    "start_time": "2024-11-27T23:48:45.836Z"
   },
   {
    "duration": 4,
    "start_time": "2024-11-27T23:48:45.848Z"
   },
   {
    "duration": 38,
    "start_time": "2024-11-27T23:48:45.853Z"
   },
   {
    "duration": 11,
    "start_time": "2024-11-27T23:48:45.893Z"
   },
   {
    "duration": 7,
    "start_time": "2024-11-27T23:48:45.905Z"
   },
   {
    "duration": 30,
    "start_time": "2024-11-27T23:48:45.914Z"
   },
   {
    "duration": 42,
    "start_time": "2024-11-27T23:48:45.945Z"
   },
   {
    "duration": 16,
    "start_time": "2024-11-27T23:48:45.988Z"
   },
   {
    "duration": 9,
    "start_time": "2024-11-27T23:48:46.005Z"
   },
   {
    "duration": 10,
    "start_time": "2024-11-27T23:48:46.019Z"
   },
   {
    "duration": 3,
    "start_time": "2024-11-27T23:48:46.031Z"
   },
   {
    "duration": 3,
    "start_time": "2024-11-27T23:48:46.036Z"
   },
   {
    "duration": 9,
    "start_time": "2024-11-27T23:48:46.041Z"
   },
   {
    "duration": 48,
    "start_time": "2024-11-27T23:48:46.051Z"
   },
   {
    "duration": 12,
    "start_time": "2024-11-27T23:48:46.101Z"
   },
   {
    "duration": 71,
    "start_time": "2024-11-27T23:48:46.116Z"
   },
   {
    "duration": 10,
    "start_time": "2024-11-27T23:48:46.189Z"
   },
   {
    "duration": 11,
    "start_time": "2024-11-27T23:48:46.201Z"
   },
   {
    "duration": 6,
    "start_time": "2024-11-27T23:48:46.214Z"
   },
   {
    "duration": 13,
    "start_time": "2024-11-27T23:48:46.287Z"
   },
   {
    "duration": 86,
    "start_time": "2024-11-27T23:48:46.302Z"
   },
   {
    "duration": 3,
    "start_time": "2024-11-27T23:48:46.390Z"
   },
   {
    "duration": 6,
    "start_time": "2024-11-27T23:48:46.396Z"
   },
   {
    "duration": 4,
    "start_time": "2024-11-27T23:48:46.405Z"
   },
   {
    "duration": 5,
    "start_time": "2024-11-27T23:48:46.487Z"
   },
   {
    "duration": 277,
    "start_time": "2024-11-27T23:48:46.493Z"
   },
   {
    "duration": 4,
    "start_time": "2024-11-27T23:48:46.772Z"
   },
   {
    "duration": 12,
    "start_time": "2024-11-27T23:48:46.786Z"
   },
   {
    "duration": 7,
    "start_time": "2024-11-27T23:48:46.800Z"
   },
   {
    "duration": 820,
    "start_time": "2024-11-27T23:48:46.809Z"
   },
   {
    "duration": 801,
    "start_time": "2024-11-27T23:48:47.631Z"
   },
   {
    "duration": 786,
    "start_time": "2024-11-27T23:48:48.434Z"
   }
  ],
  "kernelspec": {
   "display_name": "Python 3 (ipykernel)",
   "language": "python",
   "name": "python3"
  },
  "language_info": {
   "codemirror_mode": {
    "name": "ipython",
    "version": 3
   },
   "file_extension": ".py",
   "mimetype": "text/x-python",
   "name": "python",
   "nbconvert_exporter": "python",
   "pygments_lexer": "ipython3",
   "version": "3.9.19"
  },
  "toc": {
   "base_numbering": 1,
   "nav_menu": {},
   "number_sections": true,
   "sideBar": true,
   "skip_h1_title": true,
   "title_cell": "Table of Contents",
   "title_sidebar": "Contents",
   "toc_cell": false,
   "toc_position": {},
   "toc_section_display": true,
   "toc_window_display": false
  }
 },
 "nbformat": 4,
 "nbformat_minor": 2
}
