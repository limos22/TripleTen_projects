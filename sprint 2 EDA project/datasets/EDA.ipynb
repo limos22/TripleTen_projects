{
 "cells": [
  {
   "cell_type": "markdown",
   "id": "9ed6551a",
   "metadata": {},
   "source": [
    "# EDA"
   ]
  },
  {
   "cell_type": "code",
   "execution_count": 1,
   "id": "fbf1adab",
   "metadata": {},
   "outputs": [],
   "source": [
    "import pandas as pd\n",
    "from matplotlib import pyplot as plt"
   ]
  },
  {
   "cell_type": "markdown",
   "id": "238b7506",
   "metadata": {},
   "source": [
    "Here are the diffrent imported libraries: pandas & matplotlib.\n",
    "Below is where the CSV dataframes are read and formatted for more readability.\n",
    "Called info() to get a generalization of the data.\n",
    "Called head() to view the first few rows of the dataframe."
   ]
  },
  {
   "cell_type": "code",
   "execution_count": 2,
   "id": "ad36396d",
   "metadata": {},
   "outputs": [
    {
     "name": "stdout",
     "output_type": "stream",
     "text": [
      "<class 'pandas.core.frame.DataFrame'>\n",
      "RangeIndex: 478967 entries, 0 to 478966\n",
      "Data columns (total 6 columns):\n",
      " #   Column                  Non-Null Count   Dtype  \n",
      "---  ------                  --------------   -----  \n",
      " 0   order_id                478967 non-null  int64  \n",
      " 1   user_id                 478967 non-null  int64  \n",
      " 2   order_number            478967 non-null  int64  \n",
      " 3   order_dow               478967 non-null  int64  \n",
      " 4   order_hour_of_day       478967 non-null  int64  \n",
      " 5   days_since_prior_order  450148 non-null  float64\n",
      "dtypes: float64(1), int64(5)\n",
      "memory usage: 21.9 MB\n"
     ]
    },
    {
     "data": {
      "text/html": [
       "<div>\n",
       "<style scoped>\n",
       "    .dataframe tbody tr th:only-of-type {\n",
       "        vertical-align: middle;\n",
       "    }\n",
       "\n",
       "    .dataframe tbody tr th {\n",
       "        vertical-align: top;\n",
       "    }\n",
       "\n",
       "    .dataframe thead th {\n",
       "        text-align: right;\n",
       "    }\n",
       "</style>\n",
       "<table border=\"1\" class=\"dataframe\">\n",
       "  <thead>\n",
       "    <tr style=\"text-align: right;\">\n",
       "      <th></th>\n",
       "      <th>order_id</th>\n",
       "      <th>user_id</th>\n",
       "      <th>order_number</th>\n",
       "      <th>order_dow</th>\n",
       "      <th>order_hour_of_day</th>\n",
       "      <th>days_since_prior_order</th>\n",
       "    </tr>\n",
       "  </thead>\n",
       "  <tbody>\n",
       "    <tr>\n",
       "      <th>0</th>\n",
       "      <td>1515936</td>\n",
       "      <td>183418</td>\n",
       "      <td>11</td>\n",
       "      <td>6</td>\n",
       "      <td>13</td>\n",
       "      <td>30.0</td>\n",
       "    </tr>\n",
       "    <tr>\n",
       "      <th>1</th>\n",
       "      <td>1690866</td>\n",
       "      <td>163593</td>\n",
       "      <td>5</td>\n",
       "      <td>5</td>\n",
       "      <td>12</td>\n",
       "      <td>9.0</td>\n",
       "    </tr>\n",
       "    <tr>\n",
       "      <th>2</th>\n",
       "      <td>1454967</td>\n",
       "      <td>39980</td>\n",
       "      <td>4</td>\n",
       "      <td>5</td>\n",
       "      <td>19</td>\n",
       "      <td>2.0</td>\n",
       "    </tr>\n",
       "    <tr>\n",
       "      <th>3</th>\n",
       "      <td>1768857</td>\n",
       "      <td>82516</td>\n",
       "      <td>56</td>\n",
       "      <td>0</td>\n",
       "      <td>20</td>\n",
       "      <td>10.0</td>\n",
       "    </tr>\n",
       "    <tr>\n",
       "      <th>4</th>\n",
       "      <td>3007858</td>\n",
       "      <td>196724</td>\n",
       "      <td>2</td>\n",
       "      <td>4</td>\n",
       "      <td>12</td>\n",
       "      <td>17.0</td>\n",
       "    </tr>\n",
       "  </tbody>\n",
       "</table>\n",
       "</div>"
      ],
      "text/plain": [
       "   order_id  user_id  order_number  order_dow  order_hour_of_day  \\\n",
       "0   1515936   183418            11          6                 13   \n",
       "1   1690866   163593             5          5                 12   \n",
       "2   1454967    39980             4          5                 19   \n",
       "3   1768857    82516            56          0                 20   \n",
       "4   3007858   196724             2          4                 12   \n",
       "\n",
       "   days_since_prior_order  \n",
       "0                    30.0  \n",
       "1                     9.0  \n",
       "2                     2.0  \n",
       "3                    10.0  \n",
       "4                    17.0  "
      ]
     },
     "execution_count": 2,
     "metadata": {},
     "output_type": "execute_result"
    }
   ],
   "source": [
    "order= pd.read_csv('/datasets/instacart_orders.csv',sep = ';')\n",
    "order.info()\n",
    "order.head()"
   ]
  },
  {
   "cell_type": "code",
   "execution_count": 3,
   "id": "ad6a1efa",
   "metadata": {},
   "outputs": [
    {
     "name": "stdout",
     "output_type": "stream",
     "text": [
      "<class 'pandas.core.frame.DataFrame'>\n",
      "RangeIndex: 49694 entries, 0 to 49693\n",
      "Data columns (total 4 columns):\n",
      " #   Column         Non-Null Count  Dtype \n",
      "---  ------         --------------  ----- \n",
      " 0   product_id     49694 non-null  int64 \n",
      " 1   product_name   48436 non-null  object\n",
      " 2   aisle_id       49694 non-null  int64 \n",
      " 3   department_id  49694 non-null  int64 \n",
      "dtypes: int64(3), object(1)\n",
      "memory usage: 1.5+ MB\n"
     ]
    },
    {
     "data": {
      "text/html": [
       "<div>\n",
       "<style scoped>\n",
       "    .dataframe tbody tr th:only-of-type {\n",
       "        vertical-align: middle;\n",
       "    }\n",
       "\n",
       "    .dataframe tbody tr th {\n",
       "        vertical-align: top;\n",
       "    }\n",
       "\n",
       "    .dataframe thead th {\n",
       "        text-align: right;\n",
       "    }\n",
       "</style>\n",
       "<table border=\"1\" class=\"dataframe\">\n",
       "  <thead>\n",
       "    <tr style=\"text-align: right;\">\n",
       "      <th></th>\n",
       "      <th>product_id</th>\n",
       "      <th>product_name</th>\n",
       "      <th>aisle_id</th>\n",
       "      <th>department_id</th>\n",
       "    </tr>\n",
       "  </thead>\n",
       "  <tbody>\n",
       "    <tr>\n",
       "      <th>0</th>\n",
       "      <td>1</td>\n",
       "      <td>Chocolate Sandwich Cookies</td>\n",
       "      <td>61</td>\n",
       "      <td>19</td>\n",
       "    </tr>\n",
       "    <tr>\n",
       "      <th>1</th>\n",
       "      <td>2</td>\n",
       "      <td>All-Seasons Salt</td>\n",
       "      <td>104</td>\n",
       "      <td>13</td>\n",
       "    </tr>\n",
       "    <tr>\n",
       "      <th>2</th>\n",
       "      <td>3</td>\n",
       "      <td>Robust Golden Unsweetened Oolong Tea</td>\n",
       "      <td>94</td>\n",
       "      <td>7</td>\n",
       "    </tr>\n",
       "    <tr>\n",
       "      <th>3</th>\n",
       "      <td>4</td>\n",
       "      <td>Smart Ones Classic Favorites Mini Rigatoni Wit...</td>\n",
       "      <td>38</td>\n",
       "      <td>1</td>\n",
       "    </tr>\n",
       "    <tr>\n",
       "      <th>4</th>\n",
       "      <td>5</td>\n",
       "      <td>Green Chile Anytime Sauce</td>\n",
       "      <td>5</td>\n",
       "      <td>13</td>\n",
       "    </tr>\n",
       "  </tbody>\n",
       "</table>\n",
       "</div>"
      ],
      "text/plain": [
       "   product_id                                       product_name  aisle_id  \\\n",
       "0           1                         Chocolate Sandwich Cookies        61   \n",
       "1           2                                   All-Seasons Salt       104   \n",
       "2           3               Robust Golden Unsweetened Oolong Tea        94   \n",
       "3           4  Smart Ones Classic Favorites Mini Rigatoni Wit...        38   \n",
       "4           5                          Green Chile Anytime Sauce         5   \n",
       "\n",
       "   department_id  \n",
       "0             19  \n",
       "1             13  \n",
       "2              7  \n",
       "3              1  \n",
       "4             13  "
      ]
     },
     "execution_count": 3,
     "metadata": {},
     "output_type": "execute_result"
    }
   ],
   "source": [
    "product= pd.read_csv('/datasets/products.csv', sep= ';')\n",
    "product.info()\n",
    "product.head()"
   ]
  },
  {
   "cell_type": "code",
   "execution_count": 4,
   "id": "5130e05e",
   "metadata": {},
   "outputs": [
    {
     "name": "stdout",
     "output_type": "stream",
     "text": [
      "<class 'pandas.core.frame.DataFrame'>\n",
      "RangeIndex: 4545007 entries, 0 to 4545006\n",
      "Data columns (total 4 columns):\n",
      " #   Column             Non-Null Count    Dtype  \n",
      "---  ------             --------------    -----  \n",
      " 0   order_id           4545007 non-null  int64  \n",
      " 1   product_id         4545007 non-null  int64  \n",
      " 2   add_to_cart_order  4544171 non-null  float64\n",
      " 3   reordered          4545007 non-null  int64  \n",
      "dtypes: float64(1), int64(3)\n",
      "memory usage: 138.7 MB\n"
     ]
    },
    {
     "data": {
      "text/html": [
       "<div>\n",
       "<style scoped>\n",
       "    .dataframe tbody tr th:only-of-type {\n",
       "        vertical-align: middle;\n",
       "    }\n",
       "\n",
       "    .dataframe tbody tr th {\n",
       "        vertical-align: top;\n",
       "    }\n",
       "\n",
       "    .dataframe thead th {\n",
       "        text-align: right;\n",
       "    }\n",
       "</style>\n",
       "<table border=\"1\" class=\"dataframe\">\n",
       "  <thead>\n",
       "    <tr style=\"text-align: right;\">\n",
       "      <th></th>\n",
       "      <th>order_id</th>\n",
       "      <th>product_id</th>\n",
       "      <th>add_to_cart_order</th>\n",
       "      <th>reordered</th>\n",
       "    </tr>\n",
       "  </thead>\n",
       "  <tbody>\n",
       "    <tr>\n",
       "      <th>0</th>\n",
       "      <td>2141543</td>\n",
       "      <td>11440</td>\n",
       "      <td>17.0</td>\n",
       "      <td>0</td>\n",
       "    </tr>\n",
       "    <tr>\n",
       "      <th>1</th>\n",
       "      <td>567889</td>\n",
       "      <td>1560</td>\n",
       "      <td>1.0</td>\n",
       "      <td>1</td>\n",
       "    </tr>\n",
       "    <tr>\n",
       "      <th>2</th>\n",
       "      <td>2261212</td>\n",
       "      <td>26683</td>\n",
       "      <td>1.0</td>\n",
       "      <td>1</td>\n",
       "    </tr>\n",
       "    <tr>\n",
       "      <th>3</th>\n",
       "      <td>491251</td>\n",
       "      <td>8670</td>\n",
       "      <td>35.0</td>\n",
       "      <td>1</td>\n",
       "    </tr>\n",
       "    <tr>\n",
       "      <th>4</th>\n",
       "      <td>2571142</td>\n",
       "      <td>1940</td>\n",
       "      <td>5.0</td>\n",
       "      <td>1</td>\n",
       "    </tr>\n",
       "  </tbody>\n",
       "</table>\n",
       "</div>"
      ],
      "text/plain": [
       "   order_id  product_id  add_to_cart_order  reordered\n",
       "0   2141543       11440               17.0          0\n",
       "1    567889        1560                1.0          1\n",
       "2   2261212       26683                1.0          1\n",
       "3    491251        8670               35.0          1\n",
       "4   2571142        1940                5.0          1"
      ]
     },
     "execution_count": 4,
     "metadata": {},
     "output_type": "execute_result"
    }
   ],
   "source": [
    "order_product= pd.read_csv('/datasets/order_products.csv', sep= ';')\n",
    "order_product.info(show_counts=True)\n",
    "order_product.head()"
   ]
  },
  {
   "cell_type": "code",
   "execution_count": 5,
   "id": "d8370c05",
   "metadata": {},
   "outputs": [
    {
     "name": "stdout",
     "output_type": "stream",
     "text": [
      "<class 'pandas.core.frame.DataFrame'>\n",
      "RangeIndex: 134 entries, 0 to 133\n",
      "Data columns (total 2 columns):\n",
      " #   Column    Non-Null Count  Dtype \n",
      "---  ------    --------------  ----- \n",
      " 0   aisle_id  134 non-null    int64 \n",
      " 1   aisle     134 non-null    object\n",
      "dtypes: int64(1), object(1)\n",
      "memory usage: 2.2+ KB\n"
     ]
    },
    {
     "data": {
      "text/html": [
       "<div>\n",
       "<style scoped>\n",
       "    .dataframe tbody tr th:only-of-type {\n",
       "        vertical-align: middle;\n",
       "    }\n",
       "\n",
       "    .dataframe tbody tr th {\n",
       "        vertical-align: top;\n",
       "    }\n",
       "\n",
       "    .dataframe thead th {\n",
       "        text-align: right;\n",
       "    }\n",
       "</style>\n",
       "<table border=\"1\" class=\"dataframe\">\n",
       "  <thead>\n",
       "    <tr style=\"text-align: right;\">\n",
       "      <th></th>\n",
       "      <th>aisle_id</th>\n",
       "      <th>aisle</th>\n",
       "    </tr>\n",
       "  </thead>\n",
       "  <tbody>\n",
       "    <tr>\n",
       "      <th>0</th>\n",
       "      <td>1</td>\n",
       "      <td>prepared soups salads</td>\n",
       "    </tr>\n",
       "    <tr>\n",
       "      <th>1</th>\n",
       "      <td>2</td>\n",
       "      <td>specialty cheeses</td>\n",
       "    </tr>\n",
       "    <tr>\n",
       "      <th>2</th>\n",
       "      <td>3</td>\n",
       "      <td>energy granola bars</td>\n",
       "    </tr>\n",
       "    <tr>\n",
       "      <th>3</th>\n",
       "      <td>4</td>\n",
       "      <td>instant foods</td>\n",
       "    </tr>\n",
       "    <tr>\n",
       "      <th>4</th>\n",
       "      <td>5</td>\n",
       "      <td>marinades meat preparation</td>\n",
       "    </tr>\n",
       "  </tbody>\n",
       "</table>\n",
       "</div>"
      ],
      "text/plain": [
       "   aisle_id                       aisle\n",
       "0         1       prepared soups salads\n",
       "1         2           specialty cheeses\n",
       "2         3         energy granola bars\n",
       "3         4               instant foods\n",
       "4         5  marinades meat preparation"
      ]
     },
     "execution_count": 5,
     "metadata": {},
     "output_type": "execute_result"
    }
   ],
   "source": [
    "aisle= pd.read_csv('/datasets/aisles.csv', sep= ';')\n",
    "aisle.info()\n",
    "aisle.head()"
   ]
  },
  {
   "cell_type": "code",
   "execution_count": 6,
   "id": "59e2090f",
   "metadata": {},
   "outputs": [
    {
     "name": "stdout",
     "output_type": "stream",
     "text": [
      "<class 'pandas.core.frame.DataFrame'>\n",
      "RangeIndex: 21 entries, 0 to 20\n",
      "Data columns (total 2 columns):\n",
      " #   Column         Non-Null Count  Dtype \n",
      "---  ------         --------------  ----- \n",
      " 0   department_id  21 non-null     int64 \n",
      " 1   department     21 non-null     object\n",
      "dtypes: int64(1), object(1)\n",
      "memory usage: 464.0+ bytes\n"
     ]
    },
    {
     "data": {
      "text/html": [
       "<div>\n",
       "<style scoped>\n",
       "    .dataframe tbody tr th:only-of-type {\n",
       "        vertical-align: middle;\n",
       "    }\n",
       "\n",
       "    .dataframe tbody tr th {\n",
       "        vertical-align: top;\n",
       "    }\n",
       "\n",
       "    .dataframe thead th {\n",
       "        text-align: right;\n",
       "    }\n",
       "</style>\n",
       "<table border=\"1\" class=\"dataframe\">\n",
       "  <thead>\n",
       "    <tr style=\"text-align: right;\">\n",
       "      <th></th>\n",
       "      <th>department_id</th>\n",
       "      <th>department</th>\n",
       "    </tr>\n",
       "  </thead>\n",
       "  <tbody>\n",
       "    <tr>\n",
       "      <th>16</th>\n",
       "      <td>17</td>\n",
       "      <td>household</td>\n",
       "    </tr>\n",
       "    <tr>\n",
       "      <th>17</th>\n",
       "      <td>18</td>\n",
       "      <td>babies</td>\n",
       "    </tr>\n",
       "    <tr>\n",
       "      <th>18</th>\n",
       "      <td>19</td>\n",
       "      <td>snacks</td>\n",
       "    </tr>\n",
       "    <tr>\n",
       "      <th>19</th>\n",
       "      <td>20</td>\n",
       "      <td>deli</td>\n",
       "    </tr>\n",
       "    <tr>\n",
       "      <th>20</th>\n",
       "      <td>21</td>\n",
       "      <td>missing</td>\n",
       "    </tr>\n",
       "  </tbody>\n",
       "</table>\n",
       "</div>"
      ],
      "text/plain": [
       "    department_id department\n",
       "16             17  household\n",
       "17             18     babies\n",
       "18             19     snacks\n",
       "19             20       deli\n",
       "20             21    missing"
      ]
     },
     "execution_count": 6,
     "metadata": {},
     "output_type": "execute_result"
    }
   ],
   "source": [
    "department= pd.read_csv('/datasets/departments.csv', sep= ';')\n",
    "department.info()\n",
    "department.tail()"
   ]
  },
  {
   "cell_type": "code",
   "execution_count": 7,
   "id": "6fc81694",
   "metadata": {},
   "outputs": [],
   "source": [
    "#loading in dataframes and cleaning up the look of it to be more readable."
   ]
  },
  {
   "cell_type": "markdown",
   "id": "00c9e20d",
   "metadata": {},
   "source": [
    "As said above in the comments, the dataframes have been read in to become more readable and more visually appealing to the reader."
   ]
  },
  {
   "cell_type": "markdown",
   "id": "07357848-dc64-4156-9cc3-01ff4365226d",
   "metadata": {},
   "source": [
    "## Find and remove duplicate values (and describe why you make your choices)"
   ]
  },
  {
   "cell_type": "markdown",
   "id": "f179f0a9",
   "metadata": {},
   "source": [
    "### `orders` data frame"
   ]
  },
  {
   "cell_type": "code",
   "execution_count": 8,
   "id": "b99297a5-405a-463d-8535-9adc3da4ad74",
   "metadata": {},
   "outputs": [
    {
     "data": {
      "text/plain": [
       "15"
      ]
     },
     "execution_count": 8,
     "metadata": {},
     "output_type": "execute_result"
    }
   ],
   "source": [
    "# Check for duplicated orders\n",
    "order.duplicated().sum()"
   ]
  },
  {
   "cell_type": "code",
   "execution_count": 9,
   "id": "0d44de5d",
   "metadata": {},
   "outputs": [
    {
     "data": {
      "text/html": [
       "<div>\n",
       "<style scoped>\n",
       "    .dataframe tbody tr th:only-of-type {\n",
       "        vertical-align: middle;\n",
       "    }\n",
       "\n",
       "    .dataframe tbody tr th {\n",
       "        vertical-align: top;\n",
       "    }\n",
       "\n",
       "    .dataframe thead th {\n",
       "        text-align: right;\n",
       "    }\n",
       "</style>\n",
       "<table border=\"1\" class=\"dataframe\">\n",
       "  <thead>\n",
       "    <tr style=\"text-align: right;\">\n",
       "      <th></th>\n",
       "      <th>order_id</th>\n",
       "      <th>user_id</th>\n",
       "      <th>order_number</th>\n",
       "      <th>order_dow</th>\n",
       "      <th>order_hour_of_day</th>\n",
       "      <th>days_since_prior_order</th>\n",
       "    </tr>\n",
       "  </thead>\n",
       "  <tbody>\n",
       "    <tr>\n",
       "      <th>4838</th>\n",
       "      <td>2766110</td>\n",
       "      <td>162084</td>\n",
       "      <td>41</td>\n",
       "      <td>3</td>\n",
       "      <td>2</td>\n",
       "      <td>16.0</td>\n",
       "    </tr>\n",
       "    <tr>\n",
       "      <th>5156</th>\n",
       "      <td>2190225</td>\n",
       "      <td>138285</td>\n",
       "      <td>18</td>\n",
       "      <td>3</td>\n",
       "      <td>2</td>\n",
       "      <td>11.0</td>\n",
       "    </tr>\n",
       "    <tr>\n",
       "      <th>15506</th>\n",
       "      <td>553049</td>\n",
       "      <td>58599</td>\n",
       "      <td>13</td>\n",
       "      <td>3</td>\n",
       "      <td>2</td>\n",
       "      <td>7.0</td>\n",
       "    </tr>\n",
       "    <tr>\n",
       "      <th>18420</th>\n",
       "      <td>382357</td>\n",
       "      <td>120200</td>\n",
       "      <td>19</td>\n",
       "      <td>3</td>\n",
       "      <td>2</td>\n",
       "      <td>11.0</td>\n",
       "    </tr>\n",
       "    <tr>\n",
       "      <th>24691</th>\n",
       "      <td>690242</td>\n",
       "      <td>77357</td>\n",
       "      <td>2</td>\n",
       "      <td>3</td>\n",
       "      <td>2</td>\n",
       "      <td>9.0</td>\n",
       "    </tr>\n",
       "    <tr>\n",
       "      <th>...</th>\n",
       "      <td>...</td>\n",
       "      <td>...</td>\n",
       "      <td>...</td>\n",
       "      <td>...</td>\n",
       "      <td>...</td>\n",
       "      <td>...</td>\n",
       "    </tr>\n",
       "    <tr>\n",
       "      <th>457013</th>\n",
       "      <td>3384021</td>\n",
       "      <td>14881</td>\n",
       "      <td>6</td>\n",
       "      <td>3</td>\n",
       "      <td>2</td>\n",
       "      <td>30.0</td>\n",
       "    </tr>\n",
       "    <tr>\n",
       "      <th>458816</th>\n",
       "      <td>910166</td>\n",
       "      <td>164782</td>\n",
       "      <td>18</td>\n",
       "      <td>3</td>\n",
       "      <td>2</td>\n",
       "      <td>4.0</td>\n",
       "    </tr>\n",
       "    <tr>\n",
       "      <th>459635</th>\n",
       "      <td>1680532</td>\n",
       "      <td>106435</td>\n",
       "      <td>6</td>\n",
       "      <td>3</td>\n",
       "      <td>2</td>\n",
       "      <td>21.0</td>\n",
       "    </tr>\n",
       "    <tr>\n",
       "      <th>468324</th>\n",
       "      <td>222962</td>\n",
       "      <td>54979</td>\n",
       "      <td>59</td>\n",
       "      <td>3</td>\n",
       "      <td>2</td>\n",
       "      <td>3.0</td>\n",
       "    </tr>\n",
       "    <tr>\n",
       "      <th>477526</th>\n",
       "      <td>2592344</td>\n",
       "      <td>46860</td>\n",
       "      <td>38</td>\n",
       "      <td>3</td>\n",
       "      <td>2</td>\n",
       "      <td>3.0</td>\n",
       "    </tr>\n",
       "  </tbody>\n",
       "</table>\n",
       "<p>121 rows × 6 columns</p>\n",
       "</div>"
      ],
      "text/plain": [
       "        order_id  user_id  order_number  order_dow  order_hour_of_day  \\\n",
       "4838     2766110   162084            41          3                  2   \n",
       "5156     2190225   138285            18          3                  2   \n",
       "15506     553049    58599            13          3                  2   \n",
       "18420     382357   120200            19          3                  2   \n",
       "24691     690242    77357             2          3                  2   \n",
       "...          ...      ...           ...        ...                ...   \n",
       "457013   3384021    14881             6          3                  2   \n",
       "458816    910166   164782            18          3                  2   \n",
       "459635   1680532   106435             6          3                  2   \n",
       "468324    222962    54979            59          3                  2   \n",
       "477526   2592344    46860            38          3                  2   \n",
       "\n",
       "        days_since_prior_order  \n",
       "4838                      16.0  \n",
       "5156                      11.0  \n",
       "15506                      7.0  \n",
       "18420                     11.0  \n",
       "24691                      9.0  \n",
       "...                        ...  \n",
       "457013                    30.0  \n",
       "458816                     4.0  \n",
       "459635                    21.0  \n",
       "468324                     3.0  \n",
       "477526                     3.0  \n",
       "\n",
       "[121 rows x 6 columns]"
      ]
     },
     "execution_count": 9,
     "metadata": {},
     "output_type": "execute_result"
    }
   ],
   "source": [
    "# Check for all orders placed Wednesday at 2:00 AM\n",
    "order[(order['order_hour_of_day']== 2)&(order['order_dow']== 3)]\n"
   ]
  },
  {
   "cell_type": "code",
   "execution_count": 10,
   "id": "480563c7",
   "metadata": {},
   "outputs": [],
   "source": [
    "# Remove duplicate orders\n",
    "orders= order.drop_duplicates()"
   ]
  },
  {
   "cell_type": "code",
   "execution_count": 11,
   "id": "0b2396a2",
   "metadata": {},
   "outputs": [
    {
     "data": {
      "text/plain": [
       "0"
      ]
     },
     "execution_count": 11,
     "metadata": {},
     "output_type": "execute_result"
    }
   ],
   "source": [
    "# Double check for duplicate rows\n",
    "orders.duplicated().sum()\n"
   ]
  },
  {
   "cell_type": "code",
   "execution_count": 12,
   "id": "f6113ef1",
   "metadata": {},
   "outputs": [
    {
     "data": {
      "text/plain": [
       "0"
      ]
     },
     "execution_count": 12,
     "metadata": {},
     "output_type": "execute_result"
    }
   ],
   "source": [
    "# Double check for duplicate order IDs only\n",
    "orders['order_id'].duplicated().sum()"
   ]
  },
  {
   "cell_type": "markdown",
   "id": "5e8905ae",
   "metadata": {},
   "source": [
    "Checking for the number of duplicated rows in the orders Dataframe.\n",
    "Filtered on multiple conditions, assumung 0:00= 0AM & sunday=0... total of 121 orders within the criteria.\n",
    "Deleted the duplicates and checked again for duplicates."
   ]
  },
  {
   "cell_type": "markdown",
   "id": "45e6bc46",
   "metadata": {},
   "source": [
    "### `products` data frame"
   ]
  },
  {
   "cell_type": "code",
   "execution_count": 13,
   "id": "5f526b5b-8175-46fa-a0fd-441767d50e64",
   "metadata": {},
   "outputs": [
    {
     "data": {
      "text/plain": [
       "0"
      ]
     },
     "execution_count": 13,
     "metadata": {},
     "output_type": "execute_result"
    }
   ],
   "source": [
    "# Check for fully duplicate rows\n",
    "product.duplicated().sum()"
   ]
  },
  {
   "cell_type": "code",
   "execution_count": 14,
   "id": "88daa4f4",
   "metadata": {},
   "outputs": [
    {
     "data": {
      "text/plain": [
       "0"
      ]
     },
     "execution_count": 14,
     "metadata": {},
     "output_type": "execute_result"
    }
   ],
   "source": [
    "# Check for just duplicate product IDs\n",
    "product['product_id'].duplicated().sum()"
   ]
  },
  {
   "cell_type": "code",
   "execution_count": 15,
   "id": "c773f0bf",
   "metadata": {},
   "outputs": [
    {
     "data": {
      "text/plain": [
       "1361"
      ]
     },
     "execution_count": 15,
     "metadata": {},
     "output_type": "execute_result"
    }
   ],
   "source": [
    "# Check for just duplicate product names (convert names to lowercase to compare better)\n",
    "product['product_name']=product['product_name'].str.lower()\n",
    "product['product_name'].duplicated().sum()"
   ]
  },
  {
   "cell_type": "code",
   "execution_count": 16,
   "id": "01efd02e",
   "metadata": {},
   "outputs": [
    {
     "data": {
      "text/plain": [
       "104"
      ]
     },
     "execution_count": 16,
     "metadata": {},
     "output_type": "execute_result"
    }
   ],
   "source": [
    "# Check for duplicate product names that aren't missing\n",
    "product[~product['product_name'].isnull()]['product_name'].duplicated().sum()"
   ]
  },
  {
   "cell_type": "markdown",
   "id": "9da8d293",
   "metadata": {},
   "source": [
    "Looked though the products Dataframe and searching for duplicates, then doing the same for the product name. Changed the product names to lowercase for better comparision. Then checking for duplicates in the product names that werent missing."
   ]
  },
  {
   "cell_type": "markdown",
   "id": "60f30db1",
   "metadata": {},
   "source": [
    "### `departments` data frame"
   ]
  },
  {
   "cell_type": "code",
   "execution_count": 17,
   "id": "fb410ad4-0fbf-4b80-bb09-23fdea79afe3",
   "metadata": {},
   "outputs": [
    {
     "data": {
      "text/plain": [
       "0"
      ]
     },
     "execution_count": 17,
     "metadata": {},
     "output_type": "execute_result"
    }
   ],
   "source": [
    "department.duplicated().sum()"
   ]
  },
  {
   "cell_type": "code",
   "execution_count": 18,
   "id": "770a16f0",
   "metadata": {},
   "outputs": [],
   "source": [
    "#checking for duplicates in the departments"
   ]
  },
  {
   "cell_type": "markdown",
   "id": "bd30d78e",
   "metadata": {},
   "source": [
    "Checked through the department dataframe looking for duplicate rows."
   ]
  },
  {
   "cell_type": "markdown",
   "id": "889349c1",
   "metadata": {},
   "source": [
    "### `aisles` data frame"
   ]
  },
  {
   "cell_type": "code",
   "execution_count": 19,
   "id": "9da89fb9-4679-40f5-ad0d-c34df753a3f8",
   "metadata": {},
   "outputs": [
    {
     "data": {
      "text/plain": [
       "0"
      ]
     },
     "execution_count": 19,
     "metadata": {},
     "output_type": "execute_result"
    }
   ],
   "source": [
    "aisle.duplicated().sum()"
   ]
  },
  {
   "cell_type": "code",
   "execution_count": 20,
   "id": "da7c2822",
   "metadata": {},
   "outputs": [],
   "source": [
    "#checking for duplicates in the aisle file"
   ]
  },
  {
   "cell_type": "markdown",
   "id": "cf6d2dea",
   "metadata": {},
   "source": [
    "Checking for duplicates in the aisles dataframe."
   ]
  },
  {
   "cell_type": "markdown",
   "id": "274cd06a",
   "metadata": {},
   "source": [
    "### `order_products` data frame"
   ]
  },
  {
   "cell_type": "code",
   "execution_count": 21,
   "id": "52326689-84a8-4b8f-a881-7c68780f62c9",
   "metadata": {},
   "outputs": [
    {
     "data": {
      "text/plain": [
       "0"
      ]
     },
     "execution_count": 21,
     "metadata": {},
     "output_type": "execute_result"
    }
   ],
   "source": [
    "# Check for fullly duplicate rows\n",
    "order_product.duplicated().sum()"
   ]
  },
  {
   "cell_type": "code",
   "execution_count": 22,
   "id": "7b861391",
   "metadata": {},
   "outputs": [
    {
     "data": {
      "text/plain": [
       "1"
      ]
     },
     "execution_count": 22,
     "metadata": {},
     "output_type": "execute_result"
    }
   ],
   "source": [
    "# Double check for any other tricky duplicates\n",
    "order_product.value_counts().nunique()"
   ]
  },
  {
   "cell_type": "markdown",
   "id": "0b890492",
   "metadata": {},
   "source": [
    "Checking for duplicates in the order products dataframe, and doubble checking through the value counts method."
   ]
  },
  {
   "cell_type": "markdown",
   "id": "1e46de76",
   "metadata": {},
   "source": [
    "## Find and remove missing values\n"
   ]
  },
  {
   "cell_type": "markdown",
   "id": "c0aebd78",
   "metadata": {},
   "source": [
    "### `products` data frame"
   ]
  },
  {
   "cell_type": "code",
   "execution_count": 23,
   "id": "fe4a8b0f",
   "metadata": {},
   "outputs": [
    {
     "data": {
      "text/plain": [
       "product_id          0\n",
       "product_name     1258\n",
       "aisle_id            0\n",
       "department_id       0\n",
       "dtype: int64"
      ]
     },
     "execution_count": 23,
     "metadata": {},
     "output_type": "execute_result"
    }
   ],
   "source": [
    "product.isna().sum()"
   ]
  },
  {
   "cell_type": "code",
   "execution_count": 24,
   "id": "e96167bc",
   "metadata": {},
   "outputs": [
    {
     "name": "stdout",
     "output_type": "stream",
     "text": [
      "1258\n",
      "1258\n"
     ]
    }
   ],
   "source": [
    "# Are all of the missing product names associated with aisle ID 100?\n",
    "print(len(product[(product['product_name'].isna()) & (product['aisle_id']==100)]))\n",
    "\n",
    "print(product['product_name'].isna().sum())"
   ]
  },
  {
   "cell_type": "markdown",
   "id": "c9fc4020",
   "metadata": {},
   "source": [
    "All 1258 missing names are from aisle 100"
   ]
  },
  {
   "cell_type": "code",
   "execution_count": 25,
   "id": "8fd0a541",
   "metadata": {},
   "outputs": [
    {
     "name": "stdout",
     "output_type": "stream",
     "text": [
      "1258\n",
      "1258\n"
     ]
    }
   ],
   "source": [
    "# Are all of the missing product names associated with department ID 21?\n",
    "print(len(product[(product['product_name'].isna()) & (product['department_id']==21)]))\n",
    "print(product['product_name'].isna().sum())"
   ]
  },
  {
   "cell_type": "markdown",
   "id": "00110132",
   "metadata": {},
   "source": [
    "All 1258 missing names are associated with deprtment 21."
   ]
  },
  {
   "cell_type": "code",
   "execution_count": 26,
   "id": "325c3464",
   "metadata": {},
   "outputs": [
    {
     "name": "stdout",
     "output_type": "stream",
     "text": [
      "    aisle_id    aisle\n",
      "99       100  missing\n",
      "    department_id department\n",
      "20             21    missing\n"
     ]
    }
   ],
   "source": [
    "# What is this ailse and department?\n",
    "print(aisle.loc[aisle['aisle_id']==100])\n",
    "print(department.loc[department['department_id']==21])"
   ]
  },
  {
   "cell_type": "markdown",
   "id": "eb20799b",
   "metadata": {},
   "source": [
    "The missing names are from the missing aisle and missing department."
   ]
  },
  {
   "cell_type": "code",
   "execution_count": 27,
   "id": "6b295120",
   "metadata": {},
   "outputs": [
    {
     "name": "stdout",
     "output_type": "stream",
     "text": [
      "       product_id product_name  aisle_id  department_id\n",
      "37             38      Unknown       100             21\n",
      "71             72      Unknown       100             21\n",
      "109           110      Unknown       100             21\n",
      "296           297      Unknown       100             21\n",
      "416           417      Unknown       100             21\n",
      "...           ...          ...       ...            ...\n",
      "49552       49553      Unknown       100             21\n",
      "49574       49575      Unknown       100             21\n",
      "49640       49641      Unknown       100             21\n",
      "49663       49664      Unknown       100             21\n",
      "49668       49669      Unknown       100             21\n",
      "\n",
      "[1258 rows x 4 columns]\n"
     ]
    }
   ],
   "source": [
    "# Fill missing product names with 'Unknown'\n",
    "product['product_name']=product['product_name'].fillna(value='Unknown')\n",
    "print(product[product['aisle_id']==100])"
   ]
  },
  {
   "cell_type": "markdown",
   "id": "fc70e5ad",
   "metadata": {},
   "source": [
    "Filled in the missing product names with \"Unknown\" string."
   ]
  },
  {
   "cell_type": "markdown",
   "id": "7eb45c86",
   "metadata": {},
   "source": [
    "### `orders` data frame"
   ]
  },
  {
   "cell_type": "code",
   "execution_count": 28,
   "id": "93e41d96",
   "metadata": {},
   "outputs": [
    {
     "data": {
      "text/plain": [
       "order_id                      0\n",
       "user_id                       0\n",
       "order_number                  0\n",
       "order_dow                     0\n",
       "order_hour_of_day             0\n",
       "days_since_prior_order    28817\n",
       "dtype: int64"
      ]
     },
     "execution_count": 28,
     "metadata": {},
     "output_type": "execute_result"
    }
   ],
   "source": [
    "orders.isna().sum()"
   ]
  },
  {
   "cell_type": "code",
   "execution_count": 29,
   "id": "166e5a86",
   "metadata": {},
   "outputs": [
    {
     "data": {
      "text/plain": [
       "0"
      ]
     },
     "execution_count": 29,
     "metadata": {},
     "output_type": "execute_result"
    }
   ],
   "source": [
    "# Are there any missing values where it's not a customer's first order?\n",
    "orders[(orders['order_number']!= 1)]['days_since_prior_order'].isna().sum()"
   ]
  },
  {
   "cell_type": "markdown",
   "id": "4e23d089",
   "metadata": {},
   "source": [
    "All orders are from their first."
   ]
  },
  {
   "cell_type": "markdown",
   "id": "69dc9ca4",
   "metadata": {},
   "source": [
    "### `order_products` data frame"
   ]
  },
  {
   "cell_type": "code",
   "execution_count": 30,
   "id": "b8240253",
   "metadata": {},
   "outputs": [
    {
     "data": {
      "text/plain": [
       "order_id               0\n",
       "product_id             0\n",
       "add_to_cart_order    836\n",
       "reordered              0\n",
       "dtype: int64"
      ]
     },
     "execution_count": 30,
     "metadata": {},
     "output_type": "execute_result"
    }
   ],
   "source": [
    "order_product.isna().sum()"
   ]
  },
  {
   "cell_type": "markdown",
   "id": "be3d7735",
   "metadata": {},
   "source": [
    "Checking for missing valies in the order products Dataframe."
   ]
  },
  {
   "cell_type": "code",
   "execution_count": 31,
   "id": "9a78e5ee",
   "metadata": {},
   "outputs": [
    {
     "data": {
      "text/plain": [
       "4"
      ]
     },
     "execution_count": 31,
     "metadata": {},
     "output_type": "execute_result"
    }
   ],
   "source": [
    "# What are the min and max values in this column?\n",
    "order_product['order_id'].min()"
   ]
  },
  {
   "cell_type": "markdown",
   "id": "e4c9d12a",
   "metadata": {},
   "source": [
    "Finding the Minimum value in the order id."
   ]
  },
  {
   "cell_type": "code",
   "execution_count": 32,
   "id": "4f3d2796",
   "metadata": {},
   "outputs": [
    {
     "data": {
      "text/plain": [
       "3421079"
      ]
     },
     "execution_count": 32,
     "metadata": {},
     "output_type": "execute_result"
    }
   ],
   "source": [
    "order_product['order_id'].max()\n",
    "#max value in the column"
   ]
  },
  {
   "cell_type": "markdown",
   "id": "fef473b1",
   "metadata": {},
   "source": [
    "Finding the Maximum value in the order id."
   ]
  },
  {
   "cell_type": "code",
   "execution_count": 33,
   "id": "dfb75335",
   "metadata": {},
   "outputs": [],
   "source": [
    "# Save all order IDs with at least one missing value in 'add_to_cart_order'\n",
    "missing_ids = order_product[order_product['add_to_cart_order'].isna()]['order_id'].unique()"
   ]
  },
  {
   "cell_type": "markdown",
   "id": "56e72eec",
   "metadata": {},
   "source": [
    "Saved the missing values in 'add_to_cart_order' to missing_ids value."
   ]
  },
  {
   "cell_type": "code",
   "execution_count": 34,
   "id": "e01daf45",
   "metadata": {},
   "outputs": [
    {
     "data": {
      "text/plain": [
       "array([2449164, 1968313, 2926893, 1717990, 1959075,  844733,   61355,\n",
       "        936852,  264710, 1564093,  129627,  293169, 2849370, 1386261,\n",
       "       3308010,  903110, 2136777, 3347453, 1888628,  165801, 2094761,\n",
       "       1038146, 2997021,  813364, 2256933,  171934, 2409109, 1730767,\n",
       "       1169835,  733526,  404157, 3125735,  747668, 1800005, 1961723,\n",
       "        871281,  388234, 1648217, 1477139,  102236, 1021563, 1832957,\n",
       "       2721963,  678116, 1220886, 1673227, 2999801, 1633337, 2470674,\n",
       "       2625444, 1677118, 2479011, 3383594, 1183255, 1713430, 2652650,\n",
       "       1598369, 1916118,  854647, 1302315,  888470,  180546, 2621907,\n",
       "       1308785, 2729254,    9310, 2170451, 2979697, 1625713, 1529171])"
      ]
     },
     "execution_count": 34,
     "metadata": {},
     "output_type": "execute_result"
    }
   ],
   "source": [
    "missing_ids"
   ]
  },
  {
   "cell_type": "code",
   "execution_count": 35,
   "id": "54c31695",
   "metadata": {},
   "outputs": [],
   "source": [
    "# Do all orders with missing values have more than 64 products?\n",
    "x= order_product[order_product['order_id'].isin(missing_ids)].groupby('order_id')['product_id'].count()"
   ]
  },
  {
   "cell_type": "code",
   "execution_count": 36,
   "id": "e17b6c01",
   "metadata": {},
   "outputs": [
    {
     "data": {
      "text/plain": [
       "order_id\n",
       "61355      127\n",
       "3308010    115\n",
       "2136777    108\n",
       "171934     104\n",
       "1959075     98\n",
       "          ... \n",
       "888470      65\n",
       "1598369     65\n",
       "747668      65\n",
       "1677118     65\n",
       "9310        65\n",
       "Name: product_id, Length: 70, dtype: int64"
      ]
     },
     "execution_count": 36,
     "metadata": {},
     "output_type": "execute_result"
    }
   ],
   "source": [
    "x.sort_values(ascending=False)"
   ]
  },
  {
   "cell_type": "markdown",
   "id": "b9a5fb91",
   "metadata": {},
   "source": [
    "Checking order products that have missing values and more than 64 products."
   ]
  },
  {
   "cell_type": "code",
   "execution_count": 37,
   "id": "7a987d08",
   "metadata": {},
   "outputs": [
    {
     "name": "stdout",
     "output_type": "stream",
     "text": [
      "         order_id  product_id  add_to_cart_order  reordered\n",
      "737       2449164        5068                999          0\n",
      "9926      1968313       43867                999          0\n",
      "14394     2926893       11688                999          0\n",
      "16418     1717990        4142                999          0\n",
      "30114     1959075       42828                999          1\n",
      "...           ...         ...                ...        ...\n",
      "4505662   1800005        7411                999          0\n",
      "4511400   1633337         260                999          0\n",
      "4517562    404157        9517                999          0\n",
      "4534112   1673227       17835                999          0\n",
      "4535739   1832957       17949                999          1\n",
      "\n",
      "[836 rows x 4 columns]\n"
     ]
    }
   ],
   "source": [
    "# Replace missing values with 999 and convert column to integer type\n",
    "order_product['add_to_cart_order']=order_product['add_to_cart_order'].fillna(999).astype('int')\n",
    "print(order_product[order_product['add_to_cart_order']==999])"
   ]
  },
  {
   "cell_type": "markdown",
   "id": "fea4bcc7",
   "metadata": {},
   "source": [
    "replaceing missing values with '999' and altering teh column type to int."
   ]
  },
  {
   "cell_type": "markdown",
   "id": "turkish-kidney",
   "metadata": {},
   "source": [
    "# [A] Easy (must complete all to pass)"
   ]
  },
  {
   "cell_type": "markdown",
   "id": "short-capability",
   "metadata": {},
   "source": [
    "### [A1] Verify that the `'order_hour_of_day'` and `'order_dow'` values in the `orders` tables are sensible (i.e. `'order_hour_of_day'` ranges from 0 to 23 and `'order_dow'` ranges from 0 to 6)"
   ]
  },
  {
   "cell_type": "code",
   "execution_count": 38,
   "id": "growing-fruit",
   "metadata": {},
   "outputs": [
    {
     "data": {
      "text/plain": [
       "True"
      ]
     },
     "execution_count": 38,
     "metadata": {},
     "output_type": "execute_result"
    }
   ],
   "source": [
    "valid_hours=orders['order_hour_of_day'].between(0,23).all()\n",
    "valid_hours"
   ]
  },
  {
   "cell_type": "code",
   "execution_count": 39,
   "id": "accessory-malaysia",
   "metadata": {},
   "outputs": [
    {
     "data": {
      "text/plain": [
       "True"
      ]
     },
     "execution_count": 39,
     "metadata": {},
     "output_type": "execute_result"
    }
   ],
   "source": [
    "valid_days= orders['order_dow'].between(0,6).all()\n",
    "valid_days"
   ]
  },
  {
   "cell_type": "markdown",
   "id": "3a677d16",
   "metadata": {},
   "source": [
    "Checking that the data makes sense with the values given by checking the range of 0-23 for the time and 0-6 for the days of the week."
   ]
  },
  {
   "cell_type": "markdown",
   "id": "a6743a70",
   "metadata": {},
   "source": [
    "### [A2] What time of day do people shop for groceries?"
   ]
  },
  {
   "cell_type": "code",
   "execution_count": 40,
   "id": "a36cca27",
   "metadata": {},
   "outputs": [
    {
     "data": {
      "text/plain": [
       "<AxesSubplot:title={'center':'Time people shop'}, xlabel='Time of day', ylabel='number of orders'>"
      ]
     },
     "execution_count": 40,
     "metadata": {},
     "output_type": "execute_result"
    },
    {
     "data": {
      "image/png": "[encoded data removed]",
      "text/plain": [
       "<Figure size 640x480 with 1 Axes>"
      ]
     },
     "metadata": {},
     "output_type": "display_data"
    }
   ],
   "source": [
    "time_shopping= orders['order_hour_of_day'].value_counts().sort_index()\n",
    "time_shopping.plot(kind='bar', title= 'Time people shop', xlabel= 'Time of day', ylabel='number of orders')"
   ]
  },
  {
   "cell_type": "markdown",
   "id": "11270eed",
   "metadata": {},
   "source": [
    "bar graph showing what time of day people go shopping for groceries."
   ]
  },
  {
   "cell_type": "markdown",
   "id": "documented-command",
   "metadata": {},
   "source": [
    "### [A3] What day of the week do people shop for groceries?"
   ]
  },
  {
   "cell_type": "code",
   "execution_count": 41,
   "id": "chief-digit",
   "metadata": {},
   "outputs": [
    {
     "data": {
      "text/plain": [
       "<AxesSubplot:title={'center':'Days people go shopping'}, xlabel='Day', ylabel='Number of orders'>"
      ]
     },
     "execution_count": 41,
     "metadata": {},
     "output_type": "execute_result"
    },
    {
     "data": {
      "image/png": "[encoded data removed]",
      "text/plain": [
       "<Figure size 640x480 with 1 Axes>"
      ]
     },
     "metadata": {},
     "output_type": "display_data"
    }
   ],
   "source": [
    "day_shopping= orders['order_dow'].value_counts().sort_index()\n",
    "days=['Sunday','Monday','Tuesday', 'Wednesday','Thursday','Friday','Saturday']\n",
    "day_shopping.index=days\n",
    "day_shopping.plot(kind='bar', title=\"Days people go shopping\", xlabel='Day', ylabel='Number of orders')"
   ]
  },
  {
   "cell_type": "markdown",
   "id": "dominant-lightning",
   "metadata": {},
   "source": [
    "Graph showing the days of the week that people go shopping."
   ]
  },
  {
   "cell_type": "markdown",
   "id": "cutting-concert",
   "metadata": {},
   "source": [
    "### [A4] How long do people wait until placing another order?"
   ]
  },
  {
   "cell_type": "code",
   "execution_count": 42,
   "id": "c231f523",
   "metadata": {},
   "outputs": [
    {
     "data": {
      "text/plain": [
       "<AxesSubplot:title={'center':'Time till next order'}, xlabel='days since last order', ylabel='number of orders'>"
      ]
     },
     "execution_count": 42,
     "metadata": {},
     "output_type": "execute_result"
    },
    {
     "data": {
      "image/png": "[encoded data removed]",
      "text/plain": [
       "<Figure size 640x480 with 1 Axes>"
      ]
     },
     "metadata": {},
     "output_type": "display_data"
    }
   ],
   "source": [
    "next_order= orders['days_since_prior_order'].value_counts().sort_index()\n",
    "next_order.plot(kind='bar', title='Time till next order',xlabel='days since last order', ylabel='number of orders')"
   ]
  },
  {
   "cell_type": "markdown",
   "id": "8d926614",
   "metadata": {},
   "source": [
    "Time elapsed between last order bar graph."
   ]
  },
  {
   "cell_type": "markdown",
   "id": "tight-staff",
   "metadata": {},
   "source": [
    "# [B] Medium (must complete all to pass)"
   ]
  },
  {
   "cell_type": "markdown",
   "id": "packed-classic",
   "metadata": {},
   "source": [
    "### [B1] Is there a difference in `'order_hour_of_day'` distributions on Wednesdays and Saturdays? Plot the histograms for both days and describe the differences that you see."
   ]
  },
  {
   "cell_type": "code",
   "execution_count": 43,
   "id": "d89b8403",
   "metadata": {},
   "outputs": [],
   "source": [
    "wednesday= orders[orders['order_dow']==3]['order_hour_of_day']\n",
    "Saturday= orders[orders['order_dow']==6]['order_hour_of_day']"
   ]
  },
  {
   "cell_type": "code",
   "execution_count": 44,
   "id": "94e54e8a",
   "metadata": {},
   "outputs": [
    {
     "data": {
      "image/png": "[encoded data removed]",
      "text/plain": [
       "<Figure size 640x480 with 1 Axes>"
      ]
     },
     "metadata": {},
     "output_type": "display_data"
    }
   ],
   "source": [
    "wednesday.hist(bins=23,alpha=0.5,label='Wednsday')\n",
    "Saturday.hist( bins=23,alpha= 0.5,label='Saturday')\n",
    "plt.title('Distributions of hours for Wednsday and Saturday')\n",
    "plt.xlabel('hour of day')\n",
    "plt.ylabel('Number of orders')\n",
    "plt.legend()\n",
    "plt.show()"
   ]
  },
  {
   "cell_type": "markdown",
   "id": "charitable-congo",
   "metadata": {},
   "source": [
    "Wednsday and saturday have similar distributions throughout the day, peaking around 13-15 on saturday slightly more than wednsday."
   ]
  },
  {
   "cell_type": "markdown",
   "id": "e3891143",
   "metadata": {},
   "source": [
    "### [B2] What's the distribution for the number of orders per customer?"
   ]
  },
  {
   "cell_type": "code",
   "execution_count": 45,
   "id": "d8c26c23",
   "metadata": {},
   "outputs": [],
   "source": [
    "count=orders.groupby('user_id')['order_number'].count()"
   ]
  },
  {
   "cell_type": "code",
   "execution_count": 46,
   "id": "00e69a66",
   "metadata": {},
   "outputs": [
    {
     "data": {
      "text/plain": [
       "<AxesSubplot:ylabel='Frequency'>"
      ]
     },
     "execution_count": 46,
     "metadata": {},
     "output_type": "execute_result"
    },
    {
     "data": {
      "image/png": "[encoded data removed]",
      "text/plain": [
       "<Figure size 640x480 with 1 Axes>"
      ]
     },
     "metadata": {},
     "output_type": "display_data"
    }
   ],
   "source": [
    "count.plot(kind='hist', xlabel='Number of orders', ylabel='Number of customers', bins=30)"
   ]
  },
  {
   "cell_type": "markdown",
   "id": "d2eff7d5",
   "metadata": {},
   "source": [
    "The most number of customers purchased less frequently."
   ]
  },
  {
   "cell_type": "markdown",
   "id": "54a0319c",
   "metadata": {},
   "source": [
    "### [B3] What are the top 20 popular products (display their id and name)?"
   ]
  },
  {
   "cell_type": "code",
   "execution_count": 47,
   "id": "exterior-arizona",
   "metadata": {
    "scrolled": true
   },
   "outputs": [
    {
     "data": {
      "text/html": [
       "<div>\n",
       "<style scoped>\n",
       "    .dataframe tbody tr th:only-of-type {\n",
       "        vertical-align: middle;\n",
       "    }\n",
       "\n",
       "    .dataframe tbody tr th {\n",
       "        vertical-align: top;\n",
       "    }\n",
       "\n",
       "    .dataframe thead th {\n",
       "        text-align: right;\n",
       "    }\n",
       "</style>\n",
       "<table border=\"1\" class=\"dataframe\">\n",
       "  <thead>\n",
       "    <tr style=\"text-align: right;\">\n",
       "      <th></th>\n",
       "      <th>order_id</th>\n",
       "      <th>product_id</th>\n",
       "      <th>add_to_cart_order</th>\n",
       "      <th>reordered</th>\n",
       "      <th>product_name</th>\n",
       "      <th>aisle_id</th>\n",
       "      <th>department_id</th>\n",
       "    </tr>\n",
       "  </thead>\n",
       "  <tbody>\n",
       "    <tr>\n",
       "      <th>0</th>\n",
       "      <td>2141543</td>\n",
       "      <td>11440</td>\n",
       "      <td>17</td>\n",
       "      <td>0</td>\n",
       "      <td>chicken breast tenders breaded</td>\n",
       "      <td>129</td>\n",
       "      <td>1</td>\n",
       "    </tr>\n",
       "    <tr>\n",
       "      <th>1</th>\n",
       "      <td>147172</td>\n",
       "      <td>11440</td>\n",
       "      <td>7</td>\n",
       "      <td>1</td>\n",
       "      <td>chicken breast tenders breaded</td>\n",
       "      <td>129</td>\n",
       "      <td>1</td>\n",
       "    </tr>\n",
       "    <tr>\n",
       "      <th>2</th>\n",
       "      <td>3341719</td>\n",
       "      <td>11440</td>\n",
       "      <td>4</td>\n",
       "      <td>1</td>\n",
       "      <td>chicken breast tenders breaded</td>\n",
       "      <td>129</td>\n",
       "      <td>1</td>\n",
       "    </tr>\n",
       "    <tr>\n",
       "      <th>3</th>\n",
       "      <td>1938779</td>\n",
       "      <td>11440</td>\n",
       "      <td>8</td>\n",
       "      <td>1</td>\n",
       "      <td>chicken breast tenders breaded</td>\n",
       "      <td>129</td>\n",
       "      <td>1</td>\n",
       "    </tr>\n",
       "    <tr>\n",
       "      <th>4</th>\n",
       "      <td>1728338</td>\n",
       "      <td>11440</td>\n",
       "      <td>23</td>\n",
       "      <td>0</td>\n",
       "      <td>chicken breast tenders breaded</td>\n",
       "      <td>129</td>\n",
       "      <td>1</td>\n",
       "    </tr>\n",
       "    <tr>\n",
       "      <th>...</th>\n",
       "      <td>...</td>\n",
       "      <td>...</td>\n",
       "      <td>...</td>\n",
       "      <td>...</td>\n",
       "      <td>...</td>\n",
       "      <td>...</td>\n",
       "      <td>...</td>\n",
       "    </tr>\n",
       "    <tr>\n",
       "      <th>4545002</th>\n",
       "      <td>267402</td>\n",
       "      <td>45226</td>\n",
       "      <td>14</td>\n",
       "      <td>0</td>\n",
       "      <td>sweet teriyaki chicken oven sauce</td>\n",
       "      <td>5</td>\n",
       "      <td>13</td>\n",
       "    </tr>\n",
       "    <tr>\n",
       "      <th>4545003</th>\n",
       "      <td>2621676</td>\n",
       "      <td>25201</td>\n",
       "      <td>10</td>\n",
       "      <td>0</td>\n",
       "      <td>crisp waters candle scents</td>\n",
       "      <td>101</td>\n",
       "      <td>17</td>\n",
       "    </tr>\n",
       "    <tr>\n",
       "      <th>4545004</th>\n",
       "      <td>937623</td>\n",
       "      <td>49153</td>\n",
       "      <td>2</td>\n",
       "      <td>0</td>\n",
       "      <td>shine collection brillance shampoo</td>\n",
       "      <td>22</td>\n",
       "      <td>11</td>\n",
       "    </tr>\n",
       "    <tr>\n",
       "      <th>4545005</th>\n",
       "      <td>532895</td>\n",
       "      <td>8182</td>\n",
       "      <td>1</td>\n",
       "      <td>0</td>\n",
       "      <td>total mint stripe gel toothpaste</td>\n",
       "      <td>20</td>\n",
       "      <td>11</td>\n",
       "    </tr>\n",
       "    <tr>\n",
       "      <th>4545006</th>\n",
       "      <td>3132243</td>\n",
       "      <td>40024</td>\n",
       "      <td>1</td>\n",
       "      <td>0</td>\n",
       "      <td>egg replacer powder</td>\n",
       "      <td>17</td>\n",
       "      <td>13</td>\n",
       "    </tr>\n",
       "  </tbody>\n",
       "</table>\n",
       "<p>4545007 rows × 7 columns</p>\n",
       "</div>"
      ],
      "text/plain": [
       "         order_id  product_id  add_to_cart_order  reordered  \\\n",
       "0         2141543       11440                 17          0   \n",
       "1          147172       11440                  7          1   \n",
       "2         3341719       11440                  4          1   \n",
       "3         1938779       11440                  8          1   \n",
       "4         1728338       11440                 23          0   \n",
       "...           ...         ...                ...        ...   \n",
       "4545002    267402       45226                 14          0   \n",
       "4545003   2621676       25201                 10          0   \n",
       "4545004    937623       49153                  2          0   \n",
       "4545005    532895        8182                  1          0   \n",
       "4545006   3132243       40024                  1          0   \n",
       "\n",
       "                               product_name  aisle_id  department_id  \n",
       "0            chicken breast tenders breaded       129              1  \n",
       "1            chicken breast tenders breaded       129              1  \n",
       "2            chicken breast tenders breaded       129              1  \n",
       "3            chicken breast tenders breaded       129              1  \n",
       "4            chicken breast tenders breaded       129              1  \n",
       "...                                     ...       ...            ...  \n",
       "4545002   sweet teriyaki chicken oven sauce         5             13  \n",
       "4545003          crisp waters candle scents       101             17  \n",
       "4545004  shine collection brillance shampoo        22             11  \n",
       "4545005    total mint stripe gel toothpaste        20             11  \n",
       "4545006                 egg replacer powder        17             13  \n",
       "\n",
       "[4545007 rows x 7 columns]"
      ]
     },
     "execution_count": 47,
     "metadata": {},
     "output_type": "execute_result"
    }
   ],
   "source": [
    "combined= order_product.merge(product, on= 'product_id')\n",
    "combined"
   ]
  },
  {
   "cell_type": "code",
   "execution_count": 48,
   "id": "universal-facial",
   "metadata": {},
   "outputs": [],
   "source": [
    "top_20= combined['product_name'].value_counts().head(20)"
   ]
  },
  {
   "cell_type": "code",
   "execution_count": 49,
   "id": "bbcdd20b",
   "metadata": {},
   "outputs": [
    {
     "data": {
      "text/plain": [
       "banana                      66050\n",
       "bag of organic bananas      53297\n",
       "organic strawberries        37039\n",
       "organic baby spinach        33971\n",
       "organic hass avocado        29773\n",
       "organic avocado             24689\n",
       "large lemon                 21495\n",
       "strawberries                20018\n",
       "limes                       19690\n",
       "organic whole milk          19600\n",
       "organic raspberries         19197\n",
       "organic yellow onion        15898\n",
       "organic garlic              15292\n",
       "organic zucchini            14584\n",
       "organic blueberries         13879\n",
       "cucumber kirby              13675\n",
       "organic fuji apple          12544\n",
       "organic lemon               12232\n",
       "apple honeycrisp organic    11993\n",
       "organic grape tomatoes      11781\n",
       "Name: product_name, dtype: int64"
      ]
     },
     "execution_count": 49,
     "metadata": {},
     "output_type": "execute_result"
    }
   ],
   "source": [
    "top_20"
   ]
  },
  {
   "cell_type": "markdown",
   "id": "7df00f47",
   "metadata": {},
   "source": [
    "breakdown of the top 20 products, showing a list with the product name and product id."
   ]
  },
  {
   "cell_type": "markdown",
   "id": "gross-theme",
   "metadata": {},
   "source": [
    "# [C] Hard (must complete at least two to pass)"
   ]
  },
  {
   "cell_type": "markdown",
   "id": "romantic-deposit",
   "metadata": {},
   "source": [
    "### [C1] How many items do people typically buy in one order? What does the distribution look like?"
   ]
  },
  {
   "cell_type": "code",
   "execution_count": 50,
   "id": "virtual-punch",
   "metadata": {},
   "outputs": [
    {
     "data": {
      "text/plain": [
       "order_id\n",
       "4          13\n",
       "9          15\n",
       "11          5\n",
       "19          3\n",
       "20          8\n",
       "           ..\n",
       "3421034    17\n",
       "3421053     9\n",
       "3421071     5\n",
       "3421077     4\n",
       "3421079     1\n",
       "Name: product_id, Length: 450046, dtype: int64"
      ]
     },
     "execution_count": 50,
     "metadata": {},
     "output_type": "execute_result"
    }
   ],
   "source": [
    "item_per_order= order_product.groupby('order_id')['product_id'].count()\n",
    "item_per_order"
   ]
  },
  {
   "cell_type": "code",
   "execution_count": 51,
   "id": "sensitive-breathing",
   "metadata": {},
   "outputs": [
    {
     "data": {
      "text/plain": [
       "<AxesSubplot:title={'center':'Items typically bought in one order'}, ylabel='Frequency'>"
      ]
     },
     "execution_count": 51,
     "metadata": {},
     "output_type": "execute_result"
    },
    {
     "data": {
      "image/png": "[encoded data removed]",
      "text/plain": [
       "<Figure size 640x480 with 1 Axes>"
      ]
     },
     "metadata": {},
     "output_type": "display_data"
    }
   ],
   "source": [
    "item_per_order.plot(kind= 'hist', bins=30,xlabel='Number of items', ylabel='Number of orders', title='Items typically bought in one order')"
   ]
  },
  {
   "cell_type": "code",
   "execution_count": null,
   "id": "completed-frank",
   "metadata": {},
   "outputs": [],
   "source": []
  },
  {
   "cell_type": "markdown",
   "id": "designed-mortality",
   "metadata": {},
   "source": [
    "less items are bought more frequently than many items. "
   ]
  },
  {
   "cell_type": "markdown",
   "id": "5e6b5537",
   "metadata": {},
   "source": [
    "### [C2] What are the top 20 items that are reordered most frequently (display their names and product IDs)?"
   ]
  },
  {
   "cell_type": "code",
   "execution_count": 52,
   "id": "9374e55a",
   "metadata": {},
   "outputs": [],
   "source": [
    "reorder= order_product[order_product['reordered']==1]"
   ]
  },
  {
   "cell_type": "code",
   "execution_count": 53,
   "id": "possible-change",
   "metadata": {
    "scrolled": true
   },
   "outputs": [],
   "source": [
    "top_20_orders= reorder['product_id'].value_counts().head(20)"
   ]
  },
  {
   "cell_type": "code",
   "execution_count": 54,
   "id": "professional-surfing",
   "metadata": {
    "scrolled": true
   },
   "outputs": [],
   "source": [
    "reorder_names= product[product['product_id'].isin(top_20_orders.index)][['product_name','product_id']]"
   ]
  },
  {
   "cell_type": "code",
   "execution_count": 55,
   "id": "48dd3658",
   "metadata": {},
   "outputs": [
    {
     "data": {
      "text/html": [
       "<div>\n",
       "<style scoped>\n",
       "    .dataframe tbody tr th:only-of-type {\n",
       "        vertical-align: middle;\n",
       "    }\n",
       "\n",
       "    .dataframe tbody tr th {\n",
       "        vertical-align: top;\n",
       "    }\n",
       "\n",
       "    .dataframe thead th {\n",
       "        text-align: right;\n",
       "    }\n",
       "</style>\n",
       "<table border=\"1\" class=\"dataframe\">\n",
       "  <thead>\n",
       "    <tr style=\"text-align: right;\">\n",
       "      <th></th>\n",
       "      <th>product_name</th>\n",
       "      <th>product_id</th>\n",
       "    </tr>\n",
       "  </thead>\n",
       "  <tbody>\n",
       "    <tr>\n",
       "      <th>5875</th>\n",
       "      <td>organic lemon</td>\n",
       "      <td>5876</td>\n",
       "    </tr>\n",
       "    <tr>\n",
       "      <th>8276</th>\n",
       "      <td>apple honeycrisp organic</td>\n",
       "      <td>8277</td>\n",
       "    </tr>\n",
       "    <tr>\n",
       "      <th>13175</th>\n",
       "      <td>bag of organic bananas</td>\n",
       "      <td>13176</td>\n",
       "    </tr>\n",
       "    <tr>\n",
       "      <th>16796</th>\n",
       "      <td>strawberries</td>\n",
       "      <td>16797</td>\n",
       "    </tr>\n",
       "    <tr>\n",
       "      <th>21136</th>\n",
       "      <td>organic strawberries</td>\n",
       "      <td>21137</td>\n",
       "    </tr>\n",
       "    <tr>\n",
       "      <th>21902</th>\n",
       "      <td>organic baby spinach</td>\n",
       "      <td>21903</td>\n",
       "    </tr>\n",
       "    <tr>\n",
       "      <th>22934</th>\n",
       "      <td>organic yellow onion</td>\n",
       "      <td>22935</td>\n",
       "    </tr>\n",
       "    <tr>\n",
       "      <th>24851</th>\n",
       "      <td>banana</td>\n",
       "      <td>24852</td>\n",
       "    </tr>\n",
       "    <tr>\n",
       "      <th>24963</th>\n",
       "      <td>organic garlic</td>\n",
       "      <td>24964</td>\n",
       "    </tr>\n",
       "    <tr>\n",
       "      <th>26208</th>\n",
       "      <td>limes</td>\n",
       "      <td>26209</td>\n",
       "    </tr>\n",
       "    <tr>\n",
       "      <th>27844</th>\n",
       "      <td>organic whole milk</td>\n",
       "      <td>27845</td>\n",
       "    </tr>\n",
       "    <tr>\n",
       "      <th>27965</th>\n",
       "      <td>organic raspberries</td>\n",
       "      <td>27966</td>\n",
       "    </tr>\n",
       "    <tr>\n",
       "      <th>28203</th>\n",
       "      <td>organic fuji apple</td>\n",
       "      <td>28204</td>\n",
       "    </tr>\n",
       "    <tr>\n",
       "      <th>39274</th>\n",
       "      <td>organic blueberries</td>\n",
       "      <td>39275</td>\n",
       "    </tr>\n",
       "    <tr>\n",
       "      <th>45006</th>\n",
       "      <td>organic zucchini</td>\n",
       "      <td>45007</td>\n",
       "    </tr>\n",
       "    <tr>\n",
       "      <th>47208</th>\n",
       "      <td>organic hass avocado</td>\n",
       "      <td>47209</td>\n",
       "    </tr>\n",
       "    <tr>\n",
       "      <th>47625</th>\n",
       "      <td>large lemon</td>\n",
       "      <td>47626</td>\n",
       "    </tr>\n",
       "    <tr>\n",
       "      <th>47765</th>\n",
       "      <td>organic avocado</td>\n",
       "      <td>47766</td>\n",
       "    </tr>\n",
       "    <tr>\n",
       "      <th>49234</th>\n",
       "      <td>organic half &amp; half</td>\n",
       "      <td>49235</td>\n",
       "    </tr>\n",
       "    <tr>\n",
       "      <th>49682</th>\n",
       "      <td>cucumber kirby</td>\n",
       "      <td>49683</td>\n",
       "    </tr>\n",
       "  </tbody>\n",
       "</table>\n",
       "</div>"
      ],
      "text/plain": [
       "                   product_name  product_id\n",
       "5875              organic lemon        5876\n",
       "8276   apple honeycrisp organic        8277\n",
       "13175    bag of organic bananas       13176\n",
       "16796              strawberries       16797\n",
       "21136      organic strawberries       21137\n",
       "21902      organic baby spinach       21903\n",
       "22934      organic yellow onion       22935\n",
       "24851                    banana       24852\n",
       "24963            organic garlic       24964\n",
       "26208                     limes       26209\n",
       "27844        organic whole milk       27845\n",
       "27965       organic raspberries       27966\n",
       "28203        organic fuji apple       28204\n",
       "39274       organic blueberries       39275\n",
       "45006          organic zucchini       45007\n",
       "47208      organic hass avocado       47209\n",
       "47625               large lemon       47626\n",
       "47765           organic avocado       47766\n",
       "49234       organic half & half       49235\n",
       "49682            cucumber kirby       49683"
      ]
     },
     "execution_count": 55,
     "metadata": {},
     "output_type": "execute_result"
    }
   ],
   "source": [
    "reorder_names"
   ]
  },
  {
   "cell_type": "markdown",
   "id": "80e70c74",
   "metadata": {},
   "source": [
    "reorder_names containes a list of the top 20 most frequently ordered products, including teh product name and id number."
   ]
  },
  {
   "cell_type": "markdown",
   "id": "9d312b14",
   "metadata": {},
   "source": [
    "### [C3] For each product, what proportion of its orders are reorders?"
   ]
  },
  {
   "cell_type": "code",
   "execution_count": null,
   "id": "8ae9f4b1",
   "metadata": {},
   "outputs": [],
   "source": []
  },
  {
   "cell_type": "code",
   "execution_count": null,
   "id": "103e7fe1",
   "metadata": {},
   "outputs": [],
   "source": []
  },
  {
   "cell_type": "code",
   "execution_count": null,
   "id": "social-individual",
   "metadata": {},
   "outputs": [],
   "source": []
  },
  {
   "cell_type": "markdown",
   "id": "subject-boxing",
   "metadata": {},
   "source": [
    "### [C4] For each customer, what proportion of their products ordered are reorders?"
   ]
  },
  {
   "cell_type": "code",
   "execution_count": null,
   "id": "medical-couple",
   "metadata": {
    "scrolled": true
   },
   "outputs": [],
   "source": []
  },
  {
   "cell_type": "code",
   "execution_count": null,
   "id": "8892e4b4",
   "metadata": {},
   "outputs": [],
   "source": []
  },
  {
   "cell_type": "markdown",
   "id": "92d35137",
   "metadata": {},
   "source": [
    "### [C5] What are the top 20 items that people put in their carts first? "
   ]
  },
  {
   "cell_type": "code",
   "execution_count": 56,
   "id": "0ae57274",
   "metadata": {
    "scrolled": true
   },
   "outputs": [],
   "source": [
    "first_item= order_product[order_product['add_to_cart_order']==1]"
   ]
  },
  {
   "cell_type": "code",
   "execution_count": 57,
   "id": "forty-netherlands",
   "metadata": {
    "scrolled": true
   },
   "outputs": [],
   "source": [
    "y= first_item['product_id'].value_counts().head(20)"
   ]
  },
  {
   "cell_type": "code",
   "execution_count": 58,
   "id": "08e41ec2",
   "metadata": {},
   "outputs": [],
   "source": [
    "top= product[product['product_id'].isin(y.index)][['product_id', 'product_name']]"
   ]
  },
  {
   "cell_type": "code",
   "execution_count": 59,
   "id": "f4a2af09",
   "metadata": {},
   "outputs": [
    {
     "data": {
      "text/html": [
       "<div>\n",
       "<style scoped>\n",
       "    .dataframe tbody tr th:only-of-type {\n",
       "        vertical-align: middle;\n",
       "    }\n",
       "\n",
       "    .dataframe tbody tr th {\n",
       "        vertical-align: top;\n",
       "    }\n",
       "\n",
       "    .dataframe thead th {\n",
       "        text-align: right;\n",
       "    }\n",
       "</style>\n",
       "<table border=\"1\" class=\"dataframe\">\n",
       "  <thead>\n",
       "    <tr style=\"text-align: right;\">\n",
       "      <th></th>\n",
       "      <th>product_id</th>\n",
       "      <th>product_name</th>\n",
       "    </tr>\n",
       "  </thead>\n",
       "  <tbody>\n",
       "    <tr>\n",
       "      <th>195</th>\n",
       "      <td>196</td>\n",
       "      <td>soda</td>\n",
       "    </tr>\n",
       "    <tr>\n",
       "      <th>5784</th>\n",
       "      <td>5785</td>\n",
       "      <td>organic reduced fat 2% milk</td>\n",
       "    </tr>\n",
       "    <tr>\n",
       "      <th>12340</th>\n",
       "      <td>12341</td>\n",
       "      <td>hass avocados</td>\n",
       "    </tr>\n",
       "    <tr>\n",
       "      <th>13175</th>\n",
       "      <td>13176</td>\n",
       "      <td>bag of organic bananas</td>\n",
       "    </tr>\n",
       "    <tr>\n",
       "      <th>16796</th>\n",
       "      <td>16797</td>\n",
       "      <td>strawberries</td>\n",
       "    </tr>\n",
       "    <tr>\n",
       "      <th>19659</th>\n",
       "      <td>19660</td>\n",
       "      <td>spring water</td>\n",
       "    </tr>\n",
       "    <tr>\n",
       "      <th>21136</th>\n",
       "      <td>21137</td>\n",
       "      <td>organic strawberries</td>\n",
       "    </tr>\n",
       "    <tr>\n",
       "      <th>21902</th>\n",
       "      <td>21903</td>\n",
       "      <td>organic baby spinach</td>\n",
       "    </tr>\n",
       "    <tr>\n",
       "      <th>22934</th>\n",
       "      <td>22935</td>\n",
       "      <td>organic yellow onion</td>\n",
       "    </tr>\n",
       "    <tr>\n",
       "      <th>24851</th>\n",
       "      <td>24852</td>\n",
       "      <td>banana</td>\n",
       "    </tr>\n",
       "    <tr>\n",
       "      <th>26208</th>\n",
       "      <td>26209</td>\n",
       "      <td>limes</td>\n",
       "    </tr>\n",
       "    <tr>\n",
       "      <th>27085</th>\n",
       "      <td>27086</td>\n",
       "      <td>half &amp; half</td>\n",
       "    </tr>\n",
       "    <tr>\n",
       "      <th>27844</th>\n",
       "      <td>27845</td>\n",
       "      <td>organic whole milk</td>\n",
       "    </tr>\n",
       "    <tr>\n",
       "      <th>27965</th>\n",
       "      <td>27966</td>\n",
       "      <td>organic raspberries</td>\n",
       "    </tr>\n",
       "    <tr>\n",
       "      <th>38688</th>\n",
       "      <td>38689</td>\n",
       "      <td>organic reduced fat milk</td>\n",
       "    </tr>\n",
       "    <tr>\n",
       "      <th>44631</th>\n",
       "      <td>44632</td>\n",
       "      <td>sparkling water grapefruit</td>\n",
       "    </tr>\n",
       "    <tr>\n",
       "      <th>47208</th>\n",
       "      <td>47209</td>\n",
       "      <td>organic hass avocado</td>\n",
       "    </tr>\n",
       "    <tr>\n",
       "      <th>47625</th>\n",
       "      <td>47626</td>\n",
       "      <td>large lemon</td>\n",
       "    </tr>\n",
       "    <tr>\n",
       "      <th>47765</th>\n",
       "      <td>47766</td>\n",
       "      <td>organic avocado</td>\n",
       "    </tr>\n",
       "    <tr>\n",
       "      <th>49234</th>\n",
       "      <td>49235</td>\n",
       "      <td>organic half &amp; half</td>\n",
       "    </tr>\n",
       "  </tbody>\n",
       "</table>\n",
       "</div>"
      ],
      "text/plain": [
       "       product_id                 product_name\n",
       "195           196                         soda\n",
       "5784         5785  organic reduced fat 2% milk\n",
       "12340       12341                hass avocados\n",
       "13175       13176       bag of organic bananas\n",
       "16796       16797                 strawberries\n",
       "19659       19660                 spring water\n",
       "21136       21137         organic strawberries\n",
       "21902       21903         organic baby spinach\n",
       "22934       22935         organic yellow onion\n",
       "24851       24852                       banana\n",
       "26208       26209                        limes\n",
       "27085       27086                  half & half\n",
       "27844       27845           organic whole milk\n",
       "27965       27966          organic raspberries\n",
       "38688       38689     organic reduced fat milk\n",
       "44631       44632   sparkling water grapefruit\n",
       "47208       47209         organic hass avocado\n",
       "47625       47626                  large lemon\n",
       "47765       47766              organic avocado\n",
       "49234       49235          organic half & half"
      ]
     },
     "execution_count": 59,
     "metadata": {},
     "output_type": "execute_result"
    }
   ],
   "source": [
    "top"
   ]
  },
  {
   "cell_type": "markdown",
   "id": "02442a36",
   "metadata": {},
   "source": [
    "top contains a list of the top items that people put in their cart first."
   ]
  },
  {
   "cell_type": "code",
   "execution_count": null,
   "id": "aaeabd1d",
   "metadata": {},
   "outputs": [],
   "source": []
  },
  {
   "cell_type": "code",
   "execution_count": null,
   "id": "228053a5",
   "metadata": {},
   "outputs": [],
   "source": []
  }
 ],
 "metadata": {
  "ExecuteTimeLog": [
   {
    "duration": 398,
    "start_time": "2024-09-07T07:22:03.811Z"
   },
   {
    "duration": 532,
    "start_time": "2024-09-07T07:22:04.212Z"
   },
   {
    "duration": 0,
    "start_time": "2024-09-07T07:22:04.748Z"
   },
   {
    "duration": 0,
    "start_time": "2024-09-07T07:22:04.749Z"
   },
   {
    "duration": 0,
    "start_time": "2024-09-07T07:22:04.751Z"
   },
   {
    "duration": 0,
    "start_time": "2024-09-07T07:22:04.752Z"
   },
   {
    "duration": 0,
    "start_time": "2024-09-07T07:22:04.754Z"
   },
   {
    "duration": 0,
    "start_time": "2024-09-07T07:22:04.755Z"
   },
   {
    "duration": 0,
    "start_time": "2024-09-07T07:22:04.757Z"
   },
   {
    "duration": 0,
    "start_time": "2024-09-07T07:22:04.758Z"
   },
   {
    "duration": 0,
    "start_time": "2024-09-07T07:22:04.759Z"
   },
   {
    "duration": 0,
    "start_time": "2024-09-07T07:22:04.760Z"
   },
   {
    "duration": 0,
    "start_time": "2024-09-07T07:22:04.761Z"
   },
   {
    "duration": 0,
    "start_time": "2024-09-07T07:22:04.763Z"
   },
   {
    "duration": 0,
    "start_time": "2024-09-07T07:22:04.764Z"
   },
   {
    "duration": 0,
    "start_time": "2024-09-07T07:22:04.765Z"
   },
   {
    "duration": 0,
    "start_time": "2024-09-07T07:22:04.766Z"
   },
   {
    "duration": 0,
    "start_time": "2024-09-07T07:22:04.767Z"
   },
   {
    "duration": 0,
    "start_time": "2024-09-07T07:22:04.768Z"
   },
   {
    "duration": 0,
    "start_time": "2024-09-07T07:22:04.770Z"
   },
   {
    "duration": 0,
    "start_time": "2024-09-07T07:22:04.770Z"
   },
   {
    "duration": 0,
    "start_time": "2024-09-07T07:22:04.772Z"
   },
   {
    "duration": 0,
    "start_time": "2024-09-07T07:22:04.773Z"
   },
   {
    "duration": 0,
    "start_time": "2024-09-07T07:22:04.775Z"
   },
   {
    "duration": 0,
    "start_time": "2024-09-07T07:22:04.777Z"
   },
   {
    "duration": 0,
    "start_time": "2024-09-07T07:22:04.823Z"
   },
   {
    "duration": 0,
    "start_time": "2024-09-07T07:22:04.825Z"
   },
   {
    "duration": 0,
    "start_time": "2024-09-07T07:22:04.826Z"
   },
   {
    "duration": 0,
    "start_time": "2024-09-07T07:22:04.827Z"
   },
   {
    "duration": 0,
    "start_time": "2024-09-07T07:22:04.828Z"
   },
   {
    "duration": 0,
    "start_time": "2024-09-07T07:22:04.829Z"
   },
   {
    "duration": 0,
    "start_time": "2024-09-07T07:22:04.830Z"
   },
   {
    "duration": 0,
    "start_time": "2024-09-07T07:22:04.831Z"
   },
   {
    "duration": 0,
    "start_time": "2024-09-07T07:22:04.832Z"
   },
   {
    "duration": 0,
    "start_time": "2024-09-07T07:22:04.835Z"
   },
   {
    "duration": 0,
    "start_time": "2024-09-07T07:22:04.836Z"
   },
   {
    "duration": 0,
    "start_time": "2024-09-07T07:22:04.837Z"
   },
   {
    "duration": 0,
    "start_time": "2024-09-07T07:22:04.838Z"
   },
   {
    "duration": 0,
    "start_time": "2024-09-07T07:22:04.839Z"
   },
   {
    "duration": 0,
    "start_time": "2024-09-07T07:22:04.840Z"
   },
   {
    "duration": 0,
    "start_time": "2024-09-07T07:22:04.841Z"
   },
   {
    "duration": 0,
    "start_time": "2024-09-07T07:22:04.842Z"
   },
   {
    "duration": 0,
    "start_time": "2024-09-07T07:22:04.844Z"
   },
   {
    "duration": 0,
    "start_time": "2024-09-07T07:22:04.845Z"
   },
   {
    "duration": 0,
    "start_time": "2024-09-07T07:22:04.847Z"
   },
   {
    "duration": 0,
    "start_time": "2024-09-07T07:22:04.848Z"
   },
   {
    "duration": 0,
    "start_time": "2024-09-07T07:22:04.848Z"
   },
   {
    "duration": 0,
    "start_time": "2024-09-07T07:22:04.850Z"
   },
   {
    "duration": 0,
    "start_time": "2024-09-07T07:22:04.852Z"
   },
   {
    "duration": 0,
    "start_time": "2024-09-07T07:22:04.853Z"
   },
   {
    "duration": 0,
    "start_time": "2024-09-07T07:22:04.855Z"
   },
   {
    "duration": 0,
    "start_time": "2024-09-07T07:22:04.856Z"
   },
   {
    "duration": 0,
    "start_time": "2024-09-07T07:22:04.858Z"
   },
   {
    "duration": 0,
    "start_time": "2024-09-07T07:22:04.859Z"
   },
   {
    "duration": 0,
    "start_time": "2024-09-07T07:22:04.924Z"
   },
   {
    "duration": 1,
    "start_time": "2024-09-07T07:22:04.925Z"
   },
   {
    "duration": 0,
    "start_time": "2024-09-07T07:22:04.927Z"
   },
   {
    "duration": 0,
    "start_time": "2024-09-07T07:22:04.928Z"
   },
   {
    "duration": 0,
    "start_time": "2024-09-07T07:22:04.929Z"
   },
   {
    "duration": 172,
    "start_time": "2024-09-07T21:23:24.227Z"
   },
   {
    "duration": 2088,
    "start_time": "2024-09-07T21:23:31.269Z"
   },
   {
    "duration": 204,
    "start_time": "2024-09-07T21:23:33.945Z"
   },
   {
    "duration": 2191,
    "start_time": "2024-09-08T06:08:48.179Z"
   },
   {
    "duration": 179,
    "start_time": "2024-09-08T06:08:50.372Z"
   },
   {
    "duration": 71,
    "start_time": "2024-09-08T06:08:50.553Z"
   },
   {
    "duration": 822,
    "start_time": "2024-09-08T06:08:50.626Z"
   },
   {
    "duration": 537,
    "start_time": "2024-09-08T06:08:51.450Z"
   },
   {
    "duration": 0,
    "start_time": "2024-09-08T06:08:51.991Z"
   },
   {
    "duration": 0,
    "start_time": "2024-09-08T06:08:51.992Z"
   },
   {
    "duration": 0,
    "start_time": "2024-09-08T06:08:51.993Z"
   },
   {
    "duration": 0,
    "start_time": "2024-09-08T06:08:51.995Z"
   },
   {
    "duration": 0,
    "start_time": "2024-09-08T06:08:51.996Z"
   },
   {
    "duration": 0,
    "start_time": "2024-09-08T06:08:51.998Z"
   },
   {
    "duration": 0,
    "start_time": "2024-09-08T06:08:51.999Z"
   },
   {
    "duration": 0,
    "start_time": "2024-09-08T06:08:52.000Z"
   },
   {
    "duration": 0,
    "start_time": "2024-09-08T06:08:52.002Z"
   },
   {
    "duration": 0,
    "start_time": "2024-09-08T06:08:52.004Z"
   },
   {
    "duration": 0,
    "start_time": "2024-09-08T06:08:52.031Z"
   },
   {
    "duration": 0,
    "start_time": "2024-09-08T06:08:52.032Z"
   },
   {
    "duration": 0,
    "start_time": "2024-09-08T06:08:52.033Z"
   },
   {
    "duration": 0,
    "start_time": "2024-09-08T06:08:52.034Z"
   },
   {
    "duration": 0,
    "start_time": "2024-09-08T06:08:52.035Z"
   },
   {
    "duration": 0,
    "start_time": "2024-09-08T06:08:52.036Z"
   },
   {
    "duration": 1,
    "start_time": "2024-09-08T06:08:52.038Z"
   },
   {
    "duration": 0,
    "start_time": "2024-09-08T06:08:52.040Z"
   },
   {
    "duration": 0,
    "start_time": "2024-09-08T06:08:52.041Z"
   },
   {
    "duration": 0,
    "start_time": "2024-09-08T06:08:52.043Z"
   },
   {
    "duration": 0,
    "start_time": "2024-09-08T06:08:52.044Z"
   },
   {
    "duration": 0,
    "start_time": "2024-09-08T06:08:52.045Z"
   },
   {
    "duration": 0,
    "start_time": "2024-09-08T06:08:52.046Z"
   },
   {
    "duration": 0,
    "start_time": "2024-09-08T06:08:52.048Z"
   },
   {
    "duration": 0,
    "start_time": "2024-09-08T06:08:52.049Z"
   },
   {
    "duration": 0,
    "start_time": "2024-09-08T06:08:52.051Z"
   },
   {
    "duration": 0,
    "start_time": "2024-09-08T06:08:52.052Z"
   },
   {
    "duration": 0,
    "start_time": "2024-09-08T06:08:52.054Z"
   },
   {
    "duration": 0,
    "start_time": "2024-09-08T06:08:52.055Z"
   },
   {
    "duration": 0,
    "start_time": "2024-09-08T06:08:52.057Z"
   },
   {
    "duration": 0,
    "start_time": "2024-09-08T06:08:52.059Z"
   },
   {
    "duration": 0,
    "start_time": "2024-09-08T06:08:52.060Z"
   },
   {
    "duration": 0,
    "start_time": "2024-09-08T06:08:52.062Z"
   },
   {
    "duration": 0,
    "start_time": "2024-09-08T06:08:52.063Z"
   },
   {
    "duration": 0,
    "start_time": "2024-09-08T06:08:52.064Z"
   },
   {
    "duration": 0,
    "start_time": "2024-09-08T06:08:52.066Z"
   },
   {
    "duration": 0,
    "start_time": "2024-09-08T06:08:52.068Z"
   },
   {
    "duration": 0,
    "start_time": "2024-09-08T06:08:52.069Z"
   },
   {
    "duration": 0,
    "start_time": "2024-09-08T06:08:52.130Z"
   },
   {
    "duration": 0,
    "start_time": "2024-09-08T06:08:52.133Z"
   },
   {
    "duration": 0,
    "start_time": "2024-09-08T06:08:52.134Z"
   },
   {
    "duration": 0,
    "start_time": "2024-09-08T06:08:52.137Z"
   },
   {
    "duration": 0,
    "start_time": "2024-09-08T06:08:52.139Z"
   },
   {
    "duration": 0,
    "start_time": "2024-09-08T06:08:52.140Z"
   },
   {
    "duration": 0,
    "start_time": "2024-09-08T06:08:52.141Z"
   },
   {
    "duration": 0,
    "start_time": "2024-09-08T06:08:52.142Z"
   },
   {
    "duration": 0,
    "start_time": "2024-09-08T06:08:52.144Z"
   },
   {
    "duration": 0,
    "start_time": "2024-09-08T06:08:52.144Z"
   },
   {
    "duration": 0,
    "start_time": "2024-09-08T06:08:52.146Z"
   },
   {
    "duration": 0,
    "start_time": "2024-09-08T06:08:52.147Z"
   },
   {
    "duration": 0,
    "start_time": "2024-09-08T06:08:52.148Z"
   },
   {
    "duration": 0,
    "start_time": "2024-09-08T06:08:52.149Z"
   },
   {
    "duration": 0,
    "start_time": "2024-09-08T06:08:52.150Z"
   },
   {
    "duration": 0,
    "start_time": "2024-09-08T06:08:52.152Z"
   },
   {
    "duration": 2147,
    "start_time": "2024-09-08T06:16:41.701Z"
   },
   {
    "duration": 181,
    "start_time": "2024-09-08T06:16:43.849Z"
   },
   {
    "duration": 74,
    "start_time": "2024-09-08T06:16:47.318Z"
   },
   {
    "duration": 853,
    "start_time": "2024-09-08T06:16:51.635Z"
   },
   {
    "duration": 14,
    "start_time": "2024-09-08T06:17:00.370Z"
   },
   {
    "duration": 15,
    "start_time": "2024-09-08T06:17:04.295Z"
   },
   {
    "duration": 418,
    "start_time": "2024-09-08T06:17:22.123Z"
   },
   {
    "duration": 166,
    "start_time": "2024-09-08T06:17:25.534Z"
   },
   {
    "duration": 45,
    "start_time": "2024-09-08T06:17:26.647Z"
   },
   {
    "duration": 742,
    "start_time": "2024-09-08T06:17:27.796Z"
   },
   {
    "duration": 13,
    "start_time": "2024-09-08T06:17:29.615Z"
   },
   {
    "duration": 16,
    "start_time": "2024-09-08T06:17:30.703Z"
   },
   {
    "duration": 86,
    "start_time": "2024-09-08T06:17:39.267Z"
   },
   {
    "duration": 12,
    "start_time": "2024-09-08T06:17:40.606Z"
   },
   {
    "duration": 90,
    "start_time": "2024-09-08T06:17:41.296Z"
   },
   {
    "duration": 85,
    "start_time": "2024-09-08T06:17:42.174Z"
   },
   {
    "duration": 24,
    "start_time": "2024-09-08T06:17:44.173Z"
   },
   {
    "duration": 14,
    "start_time": "2024-09-08T06:17:48.133Z"
   },
   {
    "duration": 4,
    "start_time": "2024-09-08T06:17:48.740Z"
   },
   {
    "duration": 19,
    "start_time": "2024-09-08T06:17:49.351Z"
   },
   {
    "duration": 9,
    "start_time": "2024-09-08T06:17:49.801Z"
   },
   {
    "duration": 4,
    "start_time": "2024-09-08T06:17:52.731Z"
   },
   {
    "duration": 2,
    "start_time": "2024-09-08T06:17:53.075Z"
   },
   {
    "duration": 5,
    "start_time": "2024-09-08T06:17:53.832Z"
   },
   {
    "duration": 2,
    "start_time": "2024-09-08T06:17:54.004Z"
   },
   {
    "duration": 746,
    "start_time": "2024-09-08T06:17:54.540Z"
   },
   {
    "duration": 1993,
    "start_time": "2024-09-08T06:17:55.288Z"
   },
   {
    "duration": 9,
    "start_time": "2024-09-08T06:17:57.283Z"
   },
   {
    "duration": 7,
    "start_time": "2024-09-08T06:17:57.293Z"
   },
   {
    "duration": 6,
    "start_time": "2024-09-08T06:17:57.303Z"
   },
   {
    "duration": 6,
    "start_time": "2024-09-08T06:17:57.311Z"
   },
   {
    "duration": 10,
    "start_time": "2024-09-08T06:17:57.318Z"
   },
   {
    "duration": 8,
    "start_time": "2024-09-08T06:17:57.329Z"
   },
   {
    "duration": 13,
    "start_time": "2024-09-08T06:17:57.493Z"
   },
   {
    "duration": 17,
    "start_time": "2024-09-08T06:17:58.047Z"
   },
   {
    "duration": 6,
    "start_time": "2024-09-08T06:17:58.444Z"
   },
   {
    "duration": 6,
    "start_time": "2024-09-08T06:17:58.808Z"
   },
   {
    "duration": 11,
    "start_time": "2024-09-08T06:17:59.206Z"
   },
   {
    "duration": 3,
    "start_time": "2024-09-08T06:17:59.627Z"
   },
   {
    "duration": 60,
    "start_time": "2024-09-08T06:18:01.240Z"
   },
   {
    "duration": 4,
    "start_time": "2024-09-08T06:18:01.470Z"
   },
   {
    "duration": 80,
    "start_time": "2024-09-08T06:18:02.299Z"
   },
   {
    "duration": 5,
    "start_time": "2024-09-08T06:18:03.326Z"
   },
   {
    "duration": 6,
    "start_time": "2024-09-08T06:18:03.567Z"
   },
   {
    "duration": 183,
    "start_time": "2024-09-08T06:18:04.248Z"
   },
   {
    "duration": 122,
    "start_time": "2024-09-08T06:18:04.883Z"
   },
   {
    "duration": 195,
    "start_time": "2024-09-08T06:18:05.566Z"
   },
   {
    "duration": 9,
    "start_time": "2024-09-08T06:18:06.437Z"
   },
   {
    "duration": 165,
    "start_time": "2024-09-08T06:18:06.671Z"
   },
   {
    "duration": 33,
    "start_time": "2024-09-08T06:18:07.328Z"
   },
   {
    "duration": 121,
    "start_time": "2024-09-08T06:18:07.541Z"
   },
   {
    "duration": 485,
    "start_time": "2024-09-08T06:18:08.224Z"
   },
   {
    "duration": 253,
    "start_time": "2024-09-08T06:18:08.711Z"
   },
   {
    "duration": 4,
    "start_time": "2024-09-08T06:18:08.966Z"
   },
   {
    "duration": 236,
    "start_time": "2024-09-08T06:18:09.542Z"
   },
   {
    "duration": 160,
    "start_time": "2024-09-08T06:18:09.780Z"
   },
   {
    "duration": 55,
    "start_time": "2024-09-08T06:18:10.599Z"
   },
   {
    "duration": 42,
    "start_time": "2024-09-08T06:18:10.799Z"
   },
   {
    "duration": 4,
    "start_time": "2024-09-08T06:18:11.026Z"
   },
   {
    "duration": 6,
    "start_time": "2024-09-08T06:18:11.202Z"
   },
   {
    "duration": 23,
    "start_time": "2024-09-08T06:18:13.398Z"
   },
   {
    "duration": 9,
    "start_time": "2024-09-08T06:18:13.614Z"
   },
   {
    "duration": 4,
    "start_time": "2024-09-08T06:18:13.840Z"
   },
   {
    "duration": 6,
    "start_time": "2024-09-08T06:18:14.052Z"
   },
   {
    "duration": 2122,
    "start_time": "2024-09-08T06:48:03.614Z"
   },
   {
    "duration": 176,
    "start_time": "2024-09-08T06:48:05.739Z"
   },
   {
    "duration": 68,
    "start_time": "2024-09-08T06:48:05.917Z"
   },
   {
    "duration": 843,
    "start_time": "2024-09-08T06:48:05.987Z"
   },
   {
    "duration": 15,
    "start_time": "2024-09-08T06:48:06.832Z"
   },
   {
    "duration": 25,
    "start_time": "2024-09-08T06:48:06.848Z"
   },
   {
    "duration": 4,
    "start_time": "2024-09-08T06:48:06.875Z"
   },
   {
    "duration": 98,
    "start_time": "2024-09-08T06:48:06.881Z"
   },
   {
    "duration": 12,
    "start_time": "2024-09-08T06:48:06.982Z"
   },
   {
    "duration": 101,
    "start_time": "2024-09-08T06:48:06.997Z"
   },
   {
    "duration": 97,
    "start_time": "2024-09-08T06:48:07.100Z"
   },
   {
    "duration": 25,
    "start_time": "2024-09-08T06:48:07.199Z"
   },
   {
    "duration": 14,
    "start_time": "2024-09-08T06:48:07.226Z"
   },
   {
    "duration": 4,
    "start_time": "2024-09-08T06:48:07.241Z"
   },
   {
    "duration": 20,
    "start_time": "2024-09-08T06:48:07.270Z"
   },
   {
    "duration": 10,
    "start_time": "2024-09-08T06:48:07.291Z"
   },
   {
    "duration": 5,
    "start_time": "2024-09-08T06:48:07.303Z"
   },
   {
    "duration": 3,
    "start_time": "2024-09-08T06:48:07.309Z"
   },
   {
    "duration": 5,
    "start_time": "2024-09-08T06:48:07.313Z"
   },
   {
    "duration": 3,
    "start_time": "2024-09-08T06:48:07.319Z"
   },
   {
    "duration": 838,
    "start_time": "2024-09-08T06:48:07.323Z"
   },
   {
    "duration": 2041,
    "start_time": "2024-09-08T06:48:08.164Z"
   },
   {
    "duration": 6,
    "start_time": "2024-09-08T06:48:10.207Z"
   },
   {
    "duration": 6,
    "start_time": "2024-09-08T06:48:10.215Z"
   },
   {
    "duration": 7,
    "start_time": "2024-09-08T06:48:10.223Z"
   },
   {
    "duration": 5,
    "start_time": "2024-09-08T06:48:10.231Z"
   },
   {
    "duration": 37,
    "start_time": "2024-09-08T06:48:10.238Z"
   },
   {
    "duration": 5,
    "start_time": "2024-09-08T06:48:10.280Z"
   },
   {
    "duration": 12,
    "start_time": "2024-09-08T06:48:10.287Z"
   },
   {
    "duration": 15,
    "start_time": "2024-09-08T06:48:10.301Z"
   },
   {
    "duration": 6,
    "start_time": "2024-09-08T06:48:10.317Z"
   },
   {
    "duration": 6,
    "start_time": "2024-09-08T06:48:10.325Z"
   },
   {
    "duration": 44,
    "start_time": "2024-09-08T06:48:10.333Z"
   },
   {
    "duration": 4,
    "start_time": "2024-09-08T06:48:10.379Z"
   },
   {
    "duration": 61,
    "start_time": "2024-09-08T06:48:10.384Z"
   },
   {
    "duration": 23,
    "start_time": "2024-09-08T06:48:10.447Z"
   },
   {
    "duration": 86,
    "start_time": "2024-09-08T06:48:10.472Z"
   },
   {
    "duration": 5,
    "start_time": "2024-09-08T06:48:10.570Z"
   },
   {
    "duration": 4,
    "start_time": "2024-09-08T06:48:10.577Z"
   },
   {
    "duration": 205,
    "start_time": "2024-09-08T06:48:10.583Z"
   },
   {
    "duration": 128,
    "start_time": "2024-09-08T06:48:10.790Z"
   },
   {
    "duration": 246,
    "start_time": "2024-09-08T06:48:10.920Z"
   },
   {
    "duration": 9,
    "start_time": "2024-09-08T06:48:11.170Z"
   },
   {
    "duration": 175,
    "start_time": "2024-09-08T06:48:11.181Z"
   },
   {
    "duration": 43,
    "start_time": "2024-09-08T06:48:11.358Z"
   },
   {
    "duration": 130,
    "start_time": "2024-09-08T06:48:11.403Z"
   },
   {
    "duration": 497,
    "start_time": "2024-09-08T06:48:11.536Z"
   },
   {
    "duration": 254,
    "start_time": "2024-09-08T06:48:12.034Z"
   },
   {
    "duration": 4,
    "start_time": "2024-09-08T06:48:12.290Z"
   },
   {
    "duration": 290,
    "start_time": "2024-09-08T06:48:12.296Z"
   },
   {
    "duration": 162,
    "start_time": "2024-09-08T06:48:12.588Z"
   },
   {
    "duration": 61,
    "start_time": "2024-09-08T06:48:12.752Z"
   },
   {
    "duration": 42,
    "start_time": "2024-09-08T06:48:12.815Z"
   },
   {
    "duration": 12,
    "start_time": "2024-09-08T06:48:12.859Z"
   },
   {
    "duration": 6,
    "start_time": "2024-09-08T06:48:12.873Z"
   },
   {
    "duration": 23,
    "start_time": "2024-09-08T06:48:12.880Z"
   },
   {
    "duration": 9,
    "start_time": "2024-09-08T06:48:12.905Z"
   },
   {
    "duration": 4,
    "start_time": "2024-09-08T06:48:12.915Z"
   },
   {
    "duration": 6,
    "start_time": "2024-09-08T06:48:12.920Z"
   }
  ],
  "kernelspec": {
   "display_name": "Python 3 (ipykernel)",
   "language": "python",
   "name": "python3"
  },
  "language_info": {
   "codemirror_mode": {
    "name": "ipython",
    "version": 3
   },
   "file_extension": ".py",
   "mimetype": "text/x-python",
   "name": "python",
   "nbconvert_exporter": "python",
   "pygments_lexer": "ipython3",
   "version": "3.9.19"
  },
  "toc": {
   "base_numbering": 1,
   "nav_menu": {},
   "number_sections": true,
   "sideBar": true,
   "skip_h1_title": true,
   "title_cell": "Table of Contents",
   "title_sidebar": "Contents",
   "toc_cell": false,
   "toc_position": {},
   "toc_section_display": true,
   "toc_window_display": false
  },
  "vscode": {
   "interpreter": {
    "hash": "01a7be9ec63e704a62cefc5fe7a4756944464ee731be31632bdf42a4cb4688cf"
   }
  }
 },
 "nbformat": 4,
 "nbformat_minor": 5
}
